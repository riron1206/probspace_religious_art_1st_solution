{
 "cells": [
  {
   "cell_type": "code",
   "execution_count": 1,
   "metadata": {
    "ExecuteTime": {
     "end_time": "2021-07-02T19:36:05.259705Z",
     "start_time": "2021-07-02T19:36:05.256727Z"
    },
    "executionInfo": {
     "elapsed": 486,
     "status": "ok",
     "timestamp": 1625251602182,
     "user": {
      "displayName": "Shingo Yokoi",
      "photoUrl": "",
      "userId": "16552018841329203618"
     },
     "user_tz": -540
    },
    "id": "dsgENkij3Dwm"
   },
   "outputs": [],
   "source": [
    "NAME = \"ex15_pseudo3\""
   ]
  },
  {
   "cell_type": "markdown",
   "metadata": {
    "id": "SVbuc-QmGPpv"
   },
   "source": [
    "## colab"
   ]
  },
  {
   "cell_type": "code",
   "execution_count": 2,
   "metadata": {
    "ExecuteTime": {
     "end_time": "2021-07-02T19:36:05.351703Z",
     "start_time": "2021-07-02T19:36:05.260703Z"
    },
    "colab": {
     "base_uri": "https://localhost:8080/"
    },
    "executionInfo": {
     "elapsed": 8,
     "status": "ok",
     "timestamp": 1625251602182,
     "user": {
      "displayName": "Shingo Yokoi",
      "photoUrl": "",
      "userId": "16552018841329203618"
     },
     "user_tz": -540
    },
    "id": "UEg_x7oyXaEN",
    "outputId": "045b493c-a5e7-4115-e7c1-a76cae4086e1"
   },
   "outputs": [
    {
     "name": "stdout",
     "output_type": "stream",
     "text": [
      "Sat Jul 03 04:36:05 2021       \n",
      "+-----------------------------------------------------------------------------+\n",
      "| NVIDIA-SMI 456.71       Driver Version: 456.71       CUDA Version: 11.1     |\n",
      "|-------------------------------+----------------------+----------------------+\n",
      "| GPU  Name            TCC/WDDM | Bus-Id        Disp.A | Volatile Uncorr. ECC |\n",
      "| Fan  Temp  Perf  Pwr:Usage/Cap|         Memory-Usage | GPU-Util  Compute M. |\n",
      "|===============================+======================+======================|\n",
      "|   0  GeForce RTX 207... WDDM  | 00000000:01:00.0  On |                  N/A |\n",
      "| 30%   39C    P8    17W / 215W |   1029MiB /  8192MiB |      6%      Default |\n",
      "+-------------------------------+----------------------+----------------------+\n",
      "                                                                               \n",
      "+-----------------------------------------------------------------------------+\n",
      "| Processes:                                                                  |\n",
      "|  GPU   GI   CI        PID   Type   Process name                  GPU Memory |\n",
      "|        ID   ID                                                   Usage      |\n",
      "|=============================================================================|\n",
      "|    0   N/A  N/A      1284    C+G   Insufficient Permissions        N/A      |\n",
      "|    0   N/A  N/A      1740    C+G   C:\\Windows\\explorer.exe         N/A      |\n",
      "|    0   N/A  N/A      2768    C+G   ...me\\Application\\chrome.exe    N/A      |\n",
      "|    0   N/A  N/A      7860    C+G   ...8bbwe\\Microsoft.Notes.exe    N/A      |\n",
      "|    0   N/A  N/A      8340    C+G   ...w5n1h2txyewy\\SearchUI.exe    N/A      |\n",
      "|    0   N/A  N/A      9512    C+G   ...y\\ShellExperienceHost.exe    N/A      |\n",
      "|    0   N/A  N/A     10316    C+G   ...arp.BrowserSubprocess.exe    N/A      |\n",
      "|    0   N/A  N/A     12580    C+G   ...DeepL\\app-2.5.1\\DeepL.exe    N/A      |\n",
      "|    0   N/A  N/A     15072    C+G   ...m Files\\Typora\\Typora.exe    N/A      |\n",
      "|    0   N/A  N/A     15700    C+G   ...icrosoft VS Code\\Code.exe    N/A      |\n",
      "+-----------------------------------------------------------------------------+\n"
     ]
    }
   ],
   "source": [
    "!nvidia-smi"
   ]
  },
  {
   "cell_type": "code",
   "execution_count": 3,
   "metadata": {
    "ExecuteTime": {
     "end_time": "2021-07-02T19:36:05.354706Z",
     "start_time": "2021-07-02T19:36:05.352703Z"
    },
    "colab": {
     "base_uri": "https://localhost:8080/"
    },
    "executionInfo": {
     "elapsed": 18724,
     "status": "ok",
     "timestamp": 1625251620903,
     "user": {
      "displayName": "Shingo Yokoi",
      "photoUrl": "",
      "userId": "16552018841329203618"
     },
     "user_tz": -540
    },
    "id": "PEBtWXxWXdM0",
    "outputId": "132e8b03-7fb2-4e65-9b27-d93b31f162d5"
   },
   "outputs": [],
   "source": [
    "# ドライブをマウント\n",
    "import sys\n",
    "if 'google.colab' in sys.modules:\n",
    "    from google.colab import drive\n",
    "    drive.mount('/content/drive')"
   ]
  },
  {
   "cell_type": "code",
   "execution_count": 4,
   "metadata": {
    "ExecuteTime": {
     "end_time": "2021-07-02T19:36:07.111484Z",
     "start_time": "2021-07-02T19:36:05.355704Z"
    },
    "executionInfo": {
     "elapsed": 7050,
     "status": "ok",
     "timestamp": 1625251627947,
     "user": {
      "displayName": "Shingo Yokoi",
      "photoUrl": "",
      "userId": "16552018841329203618"
     },
     "user_tz": -540
    },
    "id": "2dtYIxz3XYNq"
   },
   "outputs": [],
   "source": [
    "import os, sys\n",
    "\n",
    "if \"google.colab\" in sys.modules:\n",
    "    CP_DIR = f\"/content/drive/MyDrive/Work/probspace_religious_art/notebook/{NAME}_colab/output\"\n",
    "    OUTPUT_DIR = \"output\"\n",
    "    INPUT_DIR = \"./eda_output/output\"\n",
    "    PSEUDO_CSV = \"/content/drive/MyDrive/Work/probspace_religious_art/notebook/local_data/ex11_ex16_big_logit_test_is06789_11.csv\"  # ex11_ex16_big_logit_test.ipynb より\n",
    "    sys.path.append(\"/content/drive/MyDrive/Work/probspace_religious_art/code\")\n",
    "elif \"kaggle_web_client\" in sys.modules:\n",
    "    pass\n",
    "elif \"/kqi/output\" in os.getcwd():\n",
    "    pass\n",
    "else:\n",
    "    # local\n",
    "    CP_DIR = \"output\"\n",
    "    OUTPUT_DIR = \"output\"\n",
    "    INPUT_DIR = \"../../eda/output\"\n",
    "    PSEUDO_CSV = \"../../first/make_pseudo_label/ex11_ex16_big_logit_test_is06789_11.csv\"  # ex11_ex16_big_logit_test.ipynb より\n",
    "    sys.path.append(\"../../../code\")\n",
    "    sys.path.append('../../../Git/Ranger-Deep-Learning-Optimizer')\n",
    "    sys.path.append('../../../Git/pytorch-optimizer')\n",
    "\n",
    "from mix_aug import cutmix, fmix, snapmix, SnapMixLoss, resizemix\n",
    "\n",
    "\n",
    "os.makedirs(CP_DIR, exist_ok=True)\n",
    "os.makedirs(OUTPUT_DIR, exist_ok=True)"
   ]
  },
  {
   "cell_type": "code",
   "execution_count": 5,
   "metadata": {
    "ExecuteTime": {
     "end_time": "2021-07-02T19:36:07.116486Z",
     "start_time": "2021-07-02T19:36:07.112485Z"
    },
    "executionInfo": {
     "elapsed": 2510,
     "status": "ok",
     "timestamp": 1625251630451,
     "user": {
      "displayName": "Shingo Yokoi",
      "photoUrl": "",
      "userId": "16552018841329203618"
     },
     "user_tz": -540
    },
    "id": "IpXcUizxZHLC"
   },
   "outputs": [],
   "source": [
    "# driveからzipコピーしてくる\n",
    "if os.getcwd() == \"/content\" and os.path.exists(INPUT_DIR) == False:\n",
    "    !mkdir -p \"./eda_output\"\n",
    "    !cp -r \"/content/drive/MyDrive/Work/probspace_religious_art/notebook/eda/output.zip\" \"./eda_output\"\n",
    "    !unzip -qq \"./eda_output/output.zip\" -d \"./eda_output\"\n",
    "    pass"
   ]
  },
  {
   "cell_type": "code",
   "execution_count": 6,
   "metadata": {
    "ExecuteTime": {
     "end_time": "2021-07-02T19:36:07.126486Z",
     "start_time": "2021-07-02T19:36:07.117487Z"
    },
    "colab": {
     "base_uri": "https://localhost:8080/"
    },
    "executionInfo": {
     "elapsed": 16165,
     "status": "ok",
     "timestamp": 1625251646613,
     "user": {
      "displayName": "Shingo Yokoi",
      "photoUrl": "",
      "userId": "16552018841329203618"
     },
     "user_tz": -540
    },
    "id": "ceROAHh1X3rr",
    "outputId": "8acf1f2d-06f4-4786-a749-405710cdf049",
    "scrolled": true
   },
   "outputs": [],
   "source": [
    "# colabで足りないライブラリinstall\n",
    "import os, sys\n",
    "if (\"google.colab\" in sys.modules) or (\"kaggle_web_client\" in sys.modules) or (\"/kqi/output\" in os.getcwd()):\n",
    "    !pip install --upgrade albumentations\n",
    "    !pip install --upgrade timm\n",
    "    !pip install torch-optimizer\n",
    "    pass"
   ]
  },
  {
   "cell_type": "markdown",
   "metadata": {
    "id": "jAFnZrU0GPpx"
   },
   "source": [
    "## data load"
   ]
  },
  {
   "cell_type": "code",
   "execution_count": 7,
   "metadata": {
    "ExecuteTime": {
     "end_time": "2021-07-02T19:36:08.236905Z",
     "start_time": "2021-07-02T19:36:07.127484Z"
    },
    "executionInfo": {
     "elapsed": 4,
     "status": "ok",
     "timestamp": 1625251646613,
     "user": {
      "displayName": "Shingo Yokoi",
      "photoUrl": "",
      "userId": "16552018841329203618"
     },
     "user_tz": -540
    },
    "id": "o8Y454EJXYNt"
   },
   "outputs": [],
   "source": [
    "import pandas as pd\n",
    "\n",
    "# ====================================================\n",
    "# Data Load\n",
    "# ====================================================\n",
    "def get_train_file_path(image_id):\n",
    "    return f\"{INPUT_DIR}/train/{str(image_id)}.jpg\"\n",
    "\n",
    "train = pd.read_csv(INPUT_DIR + \"/train.csv\")\n",
    "train[\"file_path\"] = train[\"image_id\"].apply(get_train_file_path)\n",
    "n_classes = 13"
   ]
  },
  {
   "cell_type": "code",
   "execution_count": 8,
   "metadata": {
    "ExecuteTime": {
     "end_time": "2021-07-02T19:36:08.245904Z",
     "start_time": "2021-07-02T19:36:08.237874Z"
    },
    "executionInfo": {
     "elapsed": 422,
     "status": "ok",
     "timestamp": 1625251647500,
     "user": {
      "displayName": "Shingo Yokoi",
      "photoUrl": "",
      "userId": "16552018841329203618"
     },
     "user_tz": -540
    },
    "id": "VgGXy0y_GPpy"
   },
   "outputs": [],
   "source": [
    "import numpy as np\n",
    "import pandas as pd\n",
    "\n",
    "# ====================================================\n",
    "# 疑似ラベルのデータ\n",
    "# ====================================================\n",
    "def get_test_file_path(image_id):\n",
    "    return f\"{INPUT_DIR}/test/{str(image_id)}.jpg\"\n",
    "\n",
    "pseudo_df = pd.read_csv(PSEUDO_CSV)\n",
    "pseudo_df = pseudo_df.rename(columns={\"pred_label\":\"label\"})\n",
    "pseudo_df = pseudo_df[[\"image_id\", \"label\", \"file_path\"]]\n",
    "pseudo_df[\"fold\"] = np.nan\n",
    "pseudo_df[\"file_path\"] = pseudo_df[\"image_id\"].apply(get_test_file_path)"
   ]
  },
  {
   "cell_type": "markdown",
   "metadata": {
    "id": "qARZgTpKXYNt"
   },
   "source": [
    "## train"
   ]
  },
  {
   "cell_type": "code",
   "execution_count": 9,
   "metadata": {
    "ExecuteTime": {
     "end_time": "2021-07-02T19:36:08.291906Z",
     "start_time": "2021-07-02T19:36:08.246875Z"
    },
    "executionInfo": {
     "elapsed": 4,
     "status": "ok",
     "timestamp": 1625251647500,
     "user": {
      "displayName": "Shingo Yokoi",
      "photoUrl": "",
      "userId": "16552018841329203618"
     },
     "user_tz": -540
    },
    "id": "VilK3enmXYNt"
   },
   "outputs": [],
   "source": [
    "import os, yaml, shutil\n",
    "\n",
    "# ====================================================\n",
    "# Param\n",
    "# ====================================================\n",
    "epochs = 50\n",
    "class Config:\n",
    "    def __init__(self):\n",
    "        self.name = NAME\n",
    "        self.debug = False\n",
    "        self.size = 224\n",
    "        self.batch_size = 16\n",
    "        self.num_workers = os.cpu_count() if (\"google.colab\" in sys.modules) or (\"kaggle_web_client\" in sys.modules) or (\"/kqi/output\" in os.getcwd()) else 0\n",
    "        self.seeds = [0,1,2]\n",
    "        self.n_fold = 5\n",
    "        self.trn_fold = [0,1,2,3,4]\n",
    "        self.n_classes = n_classes\n",
    "        self.lr = 1e-3\n",
    "        self.min_lr = 1e-6\n",
    "        self.weight_decay = 0  # 1e-6\n",
    "        self.optimizer = \"radam\"\n",
    "        self.scheduler = \"CosineAnnealingLR\"\n",
    "        self.T_max = epochs\n",
    "        self.gradient_accumulation_steps = 1\n",
    "        self.max_grad_norm = 5\n",
    "        self.model_name = \"swin_base_patch4_window7_224_in22k\"  # ex15\n",
    "        self.load_model_path = \"none\"\n",
    "        self.is_load_opt = True\n",
    "        self.epochs = epochs\n",
    "        self.print_freq = 10000  # 学習結果をprintするstep数\n",
    "        self.label_smoothing = 0.0\n",
    "        self.mix_decision_th = 0.5  # cutmixなどの発生確率\n",
    "        self.mixmethod = \"cutmix\"\n",
    "        self.mix_alpha = 1.0\n",
    "        \n",
    "        self.pseudo_label = str(pseudo_df.shape) if 'pseudo_df' in globals() else None  # 疑似ラベルのshape\n",
    "CFG = Config()\n",
    "\n",
    "with open(OUTPUT_DIR + \"/cfg.yaml\", \"w\") as wf:\n",
    "    yaml.dump(CFG.__dict__, wf)"
   ]
  },
  {
   "cell_type": "code",
   "execution_count": 10,
   "metadata": {
    "ExecuteTime": {
     "end_time": "2021-07-02T22:19:49.914967Z",
     "start_time": "2021-07-02T19:36:08.292875Z"
    },
    "code_folding": [
     39,
     59,
     160,
     179,
     185,
     193,
     218
    ],
    "colab": {
     "base_uri": "https://localhost:8080/"
    },
    "id": "bbrYnpbxXYNu",
    "lines_to_next_cell": 0,
    "outputId": "e009cb1e-0cd8-4683-980a-25396c76a8cb",
    "scrolled": true
   },
   "outputs": [
    {
     "name": "stderr",
     "output_type": "stream",
     "text": [
      "==================== fold: 0, seed: 0 training ====================\n"
     ]
    },
    {
     "name": "stdout",
     "output_type": "stream",
     "text": [
      "timm version: 0.4.9\n",
      "cuda\n",
      "fold\n",
      "0    131\n",
      "1    131\n",
      "2    131\n",
      "3    131\n",
      "4    130\n",
      "dtype: int64\n",
      "Epoch: [1][0/40] Data 0.125 (0.125) Elapsed 0m 2s (remain 1m 20s) Loss: 2.6112(2.6112) Grad Norm: inf  LR: 1.0000e-03  \n",
      "Epoch: [1][39/40] Data 0.044 (0.052) Elapsed 0m 13s (remain 0m 0s) Loss: 2.0777(2.5003) Grad Norm: 10.9562  LR: 1.0000e-03  \n",
      "EVAL: [0/9] Data 0.027 (0.027) Elapsed 0m 0s (remain 0m 0s) \n"
     ]
    },
    {
     "name": "stderr",
     "output_type": "stream",
     "text": [
      "labels: [11  6  2  2  4]\n",
      "pred_labels: [0 0 0 0 0]\n",
      "Epoch 1 - avg_train_loss: 2.5003  lr: 1.0000e-03  time: 15s\n",
      "Epoch 1 - Score: 0.1603\n",
      "Epoch 1 - Save Best Score: 0.1603 Model\n"
     ]
    },
    {
     "name": "stdout",
     "output_type": "stream",
     "text": [
      "EVAL: [8/9] Data 0.006 (0.026) Elapsed 0m 0s (remain 0m 0s) \n",
      "Epoch: [2][0/40] Data 0.046 (0.046) Elapsed 0m 0s (remain 0m 12s) Loss: 2.5529(2.5529) Grad Norm: 8.9103  LR: 9.9803e-04  \n",
      "Epoch: [2][39/40] Data 0.041 (0.045) Elapsed 0m 12s (remain 0m 0s) Loss: 2.3894(2.1910) Grad Norm: 9.9003  LR: 9.9803e-04  \n",
      "EVAL: [0/9] Data 0.025 (0.025) Elapsed 0m 0s (remain 0m 0s) \n"
     ]
    },
    {
     "name": "stderr",
     "output_type": "stream",
     "text": [
      "labels: [11  6  2  2  4]\n",
      "pred_labels: [11  2  2  2  4]\n",
      "Epoch 2 - avg_train_loss: 2.1910  lr: 9.9803e-04  time: 13s\n",
      "Epoch 2 - Score: 0.4275\n",
      "Epoch 2 - Save Best Score: 0.4275 Model\n"
     ]
    },
    {
     "name": "stdout",
     "output_type": "stream",
     "text": [
      "EVAL: [8/9] Data 0.005 (0.022) Elapsed 0m 0s (remain 0m 0s) \n",
      "Epoch: [3][0/40] Data 0.039 (0.039) Elapsed 0m 0s (remain 0m 12s) Loss: 1.3876(1.3876) Grad Norm: 9.6645  LR: 9.9312e-04  \n",
      "Epoch: [3][39/40] Data 0.044 (0.044) Elapsed 0m 12s (remain 0m 0s) Loss: 1.0330(1.8078) Grad Norm: 18.5728  LR: 9.9312e-04  \n",
      "EVAL: [0/9] Data 0.024 (0.024) Elapsed 0m 0s (remain 0m 0s) \n"
     ]
    },
    {
     "name": "stderr",
     "output_type": "stream",
     "text": [
      "labels: [11  6  2  2  4]\n",
      "pred_labels: [11  5  5  2  2]\n",
      "Epoch 3 - avg_train_loss: 1.8078  lr: 9.9312e-04  time: 13s\n",
      "Epoch 3 - Score: 0.4580\n",
      "Epoch 3 - Save Best Score: 0.4580 Model\n"
     ]
    },
    {
     "name": "stdout",
     "output_type": "stream",
     "text": [
      "EVAL: [8/9] Data 0.005 (0.022) Elapsed 0m 0s (remain 0m 0s) \n",
      "Epoch: [4][0/40] Data 0.046 (0.046) Elapsed 0m 0s (remain 0m 12s) Loss: 1.0691(1.0691) Grad Norm: 12.0075  LR: 9.8627e-04  \n",
      "Epoch: [4][39/40] Data 0.040 (0.044) Elapsed 0m 12s (remain 0m 0s) Loss: 2.0508(1.5845) Grad Norm: 7.5081  LR: 9.8627e-04  \n",
      "EVAL: [0/9] Data 0.024 (0.024) Elapsed 0m 0s (remain 0m 0s) \n"
     ]
    },
    {
     "name": "stderr",
     "output_type": "stream",
     "text": [
      "labels: [11  6  2  2  4]\n",
      "pred_labels: [11  5  2  5  4]\n",
      "Epoch 4 - avg_train_loss: 1.5845  lr: 9.8627e-04  time: 13s\n",
      "Epoch 4 - Score: 0.5344\n",
      "Epoch 4 - Save Best Score: 0.5344 Model\n"
     ]
    },
    {
     "name": "stdout",
     "output_type": "stream",
     "text": [
      "EVAL: [8/9] Data 0.004 (0.022) Elapsed 0m 0s (remain 0m 0s) \n",
      "Epoch: [5][0/40] Data 0.036 (0.036) Elapsed 0m 0s (remain 0m 11s) Loss: 1.6480(1.6480) Grad Norm: 7.3275  LR: 9.7751e-04  \n",
      "Epoch: [5][39/40] Data 0.039 (0.044) Elapsed 0m 12s (remain 0m 0s) Loss: 1.9985(1.4422) Grad Norm: 10.0427  LR: 9.7751e-04  \n",
      "EVAL: [0/9] Data 0.024 (0.024) Elapsed 0m 0s (remain 0m 0s) \n"
     ]
    },
    {
     "name": "stderr",
     "output_type": "stream",
     "text": [
      "labels: [11  6  2  2  4]\n",
      "pred_labels: [12  2  5  4  3]\n",
      "Epoch 5 - avg_train_loss: 1.4422  lr: 9.7751e-04  time: 13s\n",
      "Epoch 5 - Score: 0.5115\n"
     ]
    },
    {
     "name": "stdout",
     "output_type": "stream",
     "text": [
      "EVAL: [8/9] Data 0.005 (0.022) Elapsed 0m 0s (remain 0m 0s) \n",
      "Epoch: [6][0/40] Data 0.043 (0.043) Elapsed 0m 0s (remain 0m 11s) Loss: 0.6322(0.6322) Grad Norm: 7.8015  LR: 9.6688e-04  \n",
      "Epoch: [6][39/40] Data 0.043 (0.044) Elapsed 0m 12s (remain 0m 0s) Loss: 0.7121(1.2605) Grad Norm: 10.7033  LR: 9.6688e-04  \n",
      "EVAL: [0/9] Data 0.026 (0.026) Elapsed 0m 0s (remain 0m 0s) \n"
     ]
    },
    {
     "name": "stderr",
     "output_type": "stream",
     "text": [
      "labels: [11  6  2  2  4]\n",
      "pred_labels: [11  2  5  2  4]\n",
      "Epoch 6 - avg_train_loss: 1.2605  lr: 9.6688e-04  time: 13s\n",
      "Epoch 6 - Score: 0.5649\n",
      "Epoch 6 - Save Best Score: 0.5649 Model\n"
     ]
    },
    {
     "name": "stdout",
     "output_type": "stream",
     "text": [
      "EVAL: [8/9] Data 0.005 (0.022) Elapsed 0m 0s (remain 0m 0s) \n",
      "Epoch: [7][0/40] Data 0.045 (0.045) Elapsed 0m 0s (remain 0m 12s) Loss: 0.7896(0.7896) Grad Norm: 12.5423  LR: 9.5441e-04  \n",
      "Epoch: [7][39/40] Data 0.045 (0.044) Elapsed 0m 12s (remain 0m 0s) Loss: 1.4021(1.2361) Grad Norm: 9.7076  LR: 9.5441e-04  \n",
      "EVAL: [0/9] Data 0.023 (0.023) Elapsed 0m 0s (remain 0m 0s) \n"
     ]
    },
    {
     "name": "stderr",
     "output_type": "stream",
     "text": [
      "labels: [11  6  2  2  4]\n",
      "pred_labels: [11  6  5  0  4]\n",
      "Epoch 7 - avg_train_loss: 1.2361  lr: 9.5441e-04  time: 13s\n",
      "Epoch 7 - Score: 0.5649\n"
     ]
    },
    {
     "name": "stdout",
     "output_type": "stream",
     "text": [
      "EVAL: [8/9] Data 0.004 (0.021) Elapsed 0m 0s (remain 0m 0s) \n",
      "Epoch: [8][0/40] Data 0.048 (0.048) Elapsed 0m 0s (remain 0m 11s) Loss: 1.6525(1.6525) Grad Norm: 13.5782  LR: 9.4016e-04  \n",
      "Epoch: [8][39/40] Data 0.047 (0.043) Elapsed 0m 11s (remain 0m 0s) Loss: 1.0026(1.2452) Grad Norm: 8.8131  LR: 9.4016e-04  \n",
      "EVAL: [0/9] Data 0.025 (0.025) Elapsed 0m 0s (remain 0m 0s) \n"
     ]
    },
    {
     "name": "stderr",
     "output_type": "stream",
     "text": [
      "labels: [11  6  2  2  4]\n",
      "pred_labels: [11 11  1  0  0]\n",
      "Epoch 8 - avg_train_loss: 1.2452  lr: 9.4016e-04  time: 13s\n",
      "Epoch 8 - Score: 0.5344\n"
     ]
    },
    {
     "name": "stdout",
     "output_type": "stream",
     "text": [
      "EVAL: [8/9] Data 0.005 (0.022) Elapsed 0m 0s (remain 0m 0s) \n",
      "Epoch: [9][0/40] Data 0.044 (0.044) Elapsed 0m 0s (remain 0m 11s) Loss: 1.7086(1.7086) Grad Norm: 8.0101  LR: 9.2418e-04  \n",
      "Epoch: [9][39/40] Data 0.043 (0.044) Elapsed 0m 12s (remain 0m 0s) Loss: 0.6945(0.8755) Grad Norm: 14.6981  LR: 9.2418e-04  \n",
      "EVAL: [0/9] Data 0.024 (0.024) Elapsed 0m 0s (remain 0m 0s) \n"
     ]
    },
    {
     "name": "stderr",
     "output_type": "stream",
     "text": [
      "labels: [11  6  2  2  4]\n",
      "pred_labels: [11  0  5  0  4]\n",
      "Epoch 9 - avg_train_loss: 0.8755  lr: 9.2418e-04  time: 13s\n",
      "Epoch 9 - Score: 0.5496\n"
     ]
    },
    {
     "name": "stdout",
     "output_type": "stream",
     "text": [
      "EVAL: [8/9] Data 0.005 (0.022) Elapsed 0m 0s (remain 0m 0s) \n",
      "Epoch: [10][0/40] Data 0.046 (0.046) Elapsed 0m 0s (remain 0m 11s) Loss: 1.1834(1.1834) Grad Norm: 9.6644  LR: 9.0654e-04  \n",
      "Epoch: [10][39/40] Data 0.040 (0.043) Elapsed 0m 12s (remain 0m 0s) Loss: 0.3238(0.9763) Grad Norm: 7.8923  LR: 9.0654e-04  \n",
      "EVAL: [0/9] Data 0.026 (0.026) Elapsed 0m 0s (remain 0m 0s) \n"
     ]
    },
    {
     "name": "stderr",
     "output_type": "stream",
     "text": [
      "labels: [11  6  2  2  4]\n",
      "pred_labels: [11  0  5  6  4]\n",
      "Epoch 10 - avg_train_loss: 0.9763  lr: 9.0654e-04  time: 13s\n",
      "Epoch 10 - Score: 0.5420\n"
     ]
    },
    {
     "name": "stdout",
     "output_type": "stream",
     "text": [
      "EVAL: [8/9] Data 0.005 (0.022) Elapsed 0m 0s (remain 0m 0s) \n",
      "Epoch: [11][0/40] Data 0.040 (0.040) Elapsed 0m 0s (remain 0m 11s) Loss: 0.1092(0.1092) Grad Norm: 3.9705  LR: 8.8730e-04  \n",
      "Epoch: [11][39/40] Data 0.043 (0.044) Elapsed 0m 12s (remain 0m 0s) Loss: 1.5427(1.0174) Grad Norm: 6.3038  LR: 8.8730e-04  \n",
      "EVAL: [0/9] Data 0.024 (0.024) Elapsed 0m 0s (remain 0m 0s) \n"
     ]
    },
    {
     "name": "stderr",
     "output_type": "stream",
     "text": [
      "labels: [11  6  2  2  4]\n",
      "pred_labels: [12 11  5  6  4]\n",
      "Epoch 11 - avg_train_loss: 1.0174  lr: 8.8730e-04  time: 13s\n",
      "Epoch 11 - Score: 0.5420\n"
     ]
    },
    {
     "name": "stdout",
     "output_type": "stream",
     "text": [
      "EVAL: [8/9] Data 0.005 (0.022) Elapsed 0m 0s (remain 0m 0s) \n",
      "Epoch: [12][0/40] Data 0.045 (0.045) Elapsed 0m 0s (remain 0m 11s) Loss: 1.8160(1.8160) Grad Norm: 9.8787  LR: 8.6655e-04  \n",
      "Epoch: [12][39/40] Data 0.040 (0.044) Elapsed 0m 12s (remain 0m 0s) Loss: 1.2780(1.1441) Grad Norm: 6.4429  LR: 8.6655e-04  \n",
      "EVAL: [0/9] Data 0.024 (0.024) Elapsed 0m 0s (remain 0m 0s) \n"
     ]
    },
    {
     "name": "stderr",
     "output_type": "stream",
     "text": [
      "labels: [11  6  2  2  4]\n",
      "pred_labels: [11 11  5  1  2]\n",
      "Epoch 12 - avg_train_loss: 1.1441  lr: 8.6655e-04  time: 13s\n",
      "Epoch 12 - Score: 0.5191\n"
     ]
    },
    {
     "name": "stdout",
     "output_type": "stream",
     "text": [
      "EVAL: [8/9] Data 0.005 (0.022) Elapsed 0m 0s (remain 0m 0s) \n",
      "Epoch: [13][0/40] Data 0.044 (0.044) Elapsed 0m 0s (remain 0m 11s) Loss: 1.4818(1.4818) Grad Norm: 5.9056  LR: 8.4436e-04  \n",
      "Epoch: [13][39/40] Data 0.038 (0.043) Elapsed 0m 11s (remain 0m 0s) Loss: 0.2641(0.9704) Grad Norm: 10.7099  LR: 8.4436e-04  \n",
      "EVAL: [0/9] Data 0.024 (0.024) Elapsed 0m 0s (remain 0m 0s) \n"
     ]
    },
    {
     "name": "stderr",
     "output_type": "stream",
     "text": [
      "labels: [11  6  2  2  4]\n",
      "pred_labels: [11 11  5  1  4]\n",
      "Epoch 13 - avg_train_loss: 0.9704  lr: 8.4436e-04  time: 13s\n",
      "Epoch 13 - Score: 0.5649\n"
     ]
    },
    {
     "name": "stdout",
     "output_type": "stream",
     "text": [
      "EVAL: [8/9] Data 0.005 (0.022) Elapsed 0m 0s (remain 0m 0s) \n",
      "Epoch: [14][0/40] Data 0.045 (0.045) Elapsed 0m 0s (remain 0m 11s) Loss: 0.1229(0.1229) Grad Norm: 3.6516  LR: 8.2081e-04  \n",
      "Epoch: [14][39/40] Data 0.050 (0.044) Elapsed 0m 12s (remain 0m 0s) Loss: 1.5234(0.8452) Grad Norm: 7.1105  LR: 8.2081e-04  \n",
      "EVAL: [0/9] Data 0.023 (0.023) Elapsed 0m 0s (remain 0m 0s) \n"
     ]
    },
    {
     "name": "stderr",
     "output_type": "stream",
     "text": [
      "labels: [11  6  2  2  4]\n",
      "pred_labels: [11  2  5  0  3]\n",
      "Epoch 14 - avg_train_loss: 0.8452  lr: 8.2081e-04  time: 13s\n",
      "Epoch 14 - Score: 0.5573\n"
     ]
    },
    {
     "name": "stdout",
     "output_type": "stream",
     "text": [
      "EVAL: [8/9] Data 0.004 (0.022) Elapsed 0m 0s (remain 0m 0s) \n",
      "Epoch: [15][0/40] Data 0.046 (0.046) Elapsed 0m 0s (remain 0m 12s) Loss: 1.5818(1.5818) Grad Norm: 8.8317  LR: 7.9601e-04  \n",
      "Epoch: [15][39/40] Data 0.042 (0.043) Elapsed 0m 12s (remain 0m 0s) Loss: 1.1356(0.9172) Grad Norm: 5.6867  LR: 7.9601e-04  \n",
      "EVAL: [0/9] Data 0.026 (0.026) Elapsed 0m 0s (remain 0m 0s) \n"
     ]
    },
    {
     "name": "stderr",
     "output_type": "stream",
     "text": [
      "labels: [11  6  2  2  4]\n",
      "pred_labels: [12  2  5  2  3]\n",
      "Epoch 15 - avg_train_loss: 0.9172  lr: 7.9601e-04  time: 13s\n",
      "Epoch 15 - Score: 0.5267\n"
     ]
    },
    {
     "name": "stdout",
     "output_type": "stream",
     "text": [
      "EVAL: [8/9] Data 0.004 (0.022) Elapsed 0m 0s (remain 0m 0s) \n",
      "Epoch: [16][0/40] Data 0.050 (0.050) Elapsed 0m 0s (remain 0m 11s) Loss: 0.1668(0.1668) Grad Norm: 4.9240  LR: 7.7006e-04  \n",
      "Epoch: [16][39/40] Data 0.045 (0.043) Elapsed 0m 12s (remain 0m 0s) Loss: 0.1147(0.9262) Grad Norm: 3.4853  LR: 7.7006e-04  \n",
      "EVAL: [0/9] Data 0.023 (0.023) Elapsed 0m 0s (remain 0m 0s) \n"
     ]
    },
    {
     "name": "stderr",
     "output_type": "stream",
     "text": [
      "labels: [11  6  2  2  4]\n",
      "pred_labels: [11  2  2  2  3]\n",
      "Epoch 16 - avg_train_loss: 0.9262  lr: 7.7006e-04  time: 13s\n",
      "Epoch 16 - Score: 0.5191\n"
     ]
    },
    {
     "name": "stdout",
     "output_type": "stream",
     "text": [
      "EVAL: [8/9] Data 0.004 (0.022) Elapsed 0m 0s (remain 0m 0s) \n",
      "Epoch: [17][0/40] Data 0.045 (0.045) Elapsed 0m 0s (remain 0m 11s) Loss: 1.8554(1.8554) Grad Norm: 8.2624  LR: 7.4304e-04  \n",
      "Epoch: [17][39/40] Data 0.050 (0.044) Elapsed 0m 12s (remain 0m 0s) Loss: 1.1936(0.8449) Grad Norm: 5.2267  LR: 7.4304e-04  \n",
      "EVAL: [0/9] Data 0.024 (0.024) Elapsed 0m 0s (remain 0m 0s) \n"
     ]
    },
    {
     "name": "stderr",
     "output_type": "stream",
     "text": [
      "labels: [11  6  2  2  4]\n",
      "pred_labels: [11  6  5  0  3]\n",
      "Epoch 17 - avg_train_loss: 0.8449  lr: 7.4304e-04  time: 13s\n",
      "Epoch 17 - Score: 0.5496\n"
     ]
    },
    {
     "name": "stdout",
     "output_type": "stream",
     "text": [
      "EVAL: [8/9] Data 0.005 (0.022) Elapsed 0m 0s (remain 0m 0s) \n",
      "Epoch: [18][0/40] Data 0.043 (0.043) Elapsed 0m 0s (remain 0m 11s) Loss: 1.0710(1.0710) Grad Norm: 4.2791  LR: 7.1508e-04  \n",
      "Epoch: [18][39/40] Data 0.049 (0.044) Elapsed 0m 12s (remain 0m 0s) Loss: 0.2250(0.8657) Grad Norm: 10.9362  LR: 7.1508e-04  \n",
      "EVAL: [0/9] Data 0.025 (0.025) Elapsed 0m 0s (remain 0m 0s) \n"
     ]
    },
    {
     "name": "stderr",
     "output_type": "stream",
     "text": [
      "labels: [11  6  2  2  4]\n",
      "pred_labels: [11  2  2  2  3]\n",
      "Epoch 18 - avg_train_loss: 0.8657  lr: 7.1508e-04  time: 13s\n",
      "Epoch 18 - Score: 0.5496\n"
     ]
    },
    {
     "name": "stdout",
     "output_type": "stream",
     "text": [
      "EVAL: [8/9] Data 0.005 (0.022) Elapsed 0m 0s (remain 0m 0s) \n",
      "Epoch: [19][0/40] Data 0.044 (0.044) Elapsed 0m 0s (remain 0m 11s) Loss: 0.0909(0.0909) Grad Norm: 3.4877  LR: 6.8627e-04  \n",
      "Epoch: [19][39/40] Data 0.048 (0.044) Elapsed 0m 11s (remain 0m 0s) Loss: 0.9869(0.6475) Grad Norm: 3.7942  LR: 6.8627e-04  \n",
      "EVAL: [0/9] Data 0.024 (0.024) Elapsed 0m 0s (remain 0m 0s) \n"
     ]
    },
    {
     "name": "stderr",
     "output_type": "stream",
     "text": [
      "labels: [11  6  2  2  4]\n",
      "pred_labels: [11 11  5  2  4]\n",
      "Epoch 19 - avg_train_loss: 0.6475  lr: 6.8627e-04  time: 13s\n",
      "Epoch 19 - Score: 0.5725\n",
      "Epoch 19 - Save Best Score: 0.5725 Model\n"
     ]
    },
    {
     "name": "stdout",
     "output_type": "stream",
     "text": [
      "EVAL: [8/9] Data 0.005 (0.022) Elapsed 0m 0s (remain 0m 0s) \n",
      "Epoch: [20][0/40] Data 0.039 (0.039) Elapsed 0m 0s (remain 0m 12s) Loss: 0.1078(0.1078) Grad Norm: 5.2062  LR: 6.5674e-04  \n",
      "Epoch: [20][39/40] Data 0.045 (0.044) Elapsed 0m 11s (remain 0m 0s) Loss: 0.2233(0.6862) Grad Norm: 10.6379  LR: 6.5674e-04  \n",
      "EVAL: [0/9] Data 0.024 (0.024) Elapsed 0m 0s (remain 0m 0s) \n"
     ]
    },
    {
     "name": "stderr",
     "output_type": "stream",
     "text": [
      "labels: [11  6  2  2  4]\n",
      "pred_labels: [11 11  5  5  4]\n",
      "Epoch 20 - avg_train_loss: 0.6862  lr: 6.5674e-04  time: 13s\n",
      "Epoch 20 - Score: 0.6031\n",
      "Epoch 20 - Save Best Score: 0.6031 Model\n"
     ]
    },
    {
     "name": "stdout",
     "output_type": "stream",
     "text": [
      "EVAL: [8/9] Data 0.004 (0.022) Elapsed 0m 0s (remain 0m 0s) \n",
      "Epoch: [21][0/40] Data 0.039 (0.039) Elapsed 0m 0s (remain 0m 11s) Loss: 0.0168(0.0168) Grad Norm: 0.7716  LR: 6.2661e-04  \n",
      "Epoch: [21][39/40] Data 0.041 (0.044) Elapsed 0m 11s (remain 0m 0s) Loss: 0.0337(0.8782) Grad Norm: 1.6219  LR: 6.2661e-04  \n",
      "EVAL: [0/9] Data 0.023 (0.023) Elapsed 0m 0s (remain 0m 0s) \n"
     ]
    },
    {
     "name": "stderr",
     "output_type": "stream",
     "text": [
      "labels: [11  6  2  2  4]\n",
      "pred_labels: [11  2  5  2  2]\n",
      "Epoch 21 - avg_train_loss: 0.8782  lr: 6.2661e-04  time: 13s\n",
      "Epoch 21 - Score: 0.5649\n"
     ]
    },
    {
     "name": "stdout",
     "output_type": "stream",
     "text": [
      "EVAL: [8/9] Data 0.005 (0.021) Elapsed 0m 0s (remain 0m 0s) \n",
      "Epoch: [22][0/40] Data 0.034 (0.034) Elapsed 0m 0s (remain 0m 10s) Loss: 0.7702(0.7702) Grad Norm: 3.0205  LR: 5.9598e-04  \n",
      "Epoch: [22][39/40] Data 0.044 (0.042) Elapsed 0m 11s (remain 0m 0s) Loss: 0.0466(0.7214) Grad Norm: 2.4036  LR: 5.9598e-04  \n",
      "EVAL: [0/9] Data 0.023 (0.023) Elapsed 0m 0s (remain 0m 0s) \n"
     ]
    },
    {
     "name": "stderr",
     "output_type": "stream",
     "text": [
      "labels: [11  6  2  2  4]\n",
      "pred_labels: [11  6  5  0  2]\n",
      "Epoch 22 - avg_train_loss: 0.7214  lr: 5.9598e-04  time: 12s\n",
      "Epoch 22 - Score: 0.5573\n"
     ]
    },
    {
     "name": "stdout",
     "output_type": "stream",
     "text": [
      "EVAL: [8/9] Data 0.004 (0.022) Elapsed 0m 0s (remain 0m 0s) \n",
      "Epoch: [23][0/40] Data 0.043 (0.043) Elapsed 0m 0s (remain 0m 11s) Loss: 1.0783(1.0783) Grad Norm: 5.1753  LR: 5.6498e-04  \n",
      "Epoch: [23][39/40] Data 0.039 (0.043) Elapsed 0m 11s (remain 0m 0s) Loss: 0.0092(0.6203) Grad Norm: 0.2799  LR: 5.6498e-04  \n",
      "EVAL: [0/9] Data 0.025 (0.025) Elapsed 0m 0s (remain 0m 0s) \n"
     ]
    },
    {
     "name": "stderr",
     "output_type": "stream",
     "text": [
      "labels: [11  6  2  2  4]\n",
      "pred_labels: [11  6  5  4  4]\n",
      "Epoch 23 - avg_train_loss: 0.6203  lr: 5.6498e-04  time: 12s\n",
      "Epoch 23 - Score: 0.5573\n"
     ]
    },
    {
     "name": "stdout",
     "output_type": "stream",
     "text": [
      "EVAL: [8/9] Data 0.005 (0.022) Elapsed 0m 0s (remain 0m 0s) \n",
      "Epoch: [24][0/40] Data 0.038 (0.038) Elapsed 0m 0s (remain 0m 11s) Loss: 1.1209(1.1209) Grad Norm: 5.0883  LR: 5.3373e-04  \n",
      "Epoch: [24][39/40] Data 0.041 (0.044) Elapsed 0m 11s (remain 0m 0s) Loss: 0.0636(0.5754) Grad Norm: 3.2512  LR: 5.3373e-04  \n",
      "EVAL: [0/9] Data 0.025 (0.025) Elapsed 0m 0s (remain 0m 0s) \n"
     ]
    },
    {
     "name": "stderr",
     "output_type": "stream",
     "text": [
      "labels: [11  6  2  2  4]\n",
      "pred_labels: [11  6  5  2  2]\n",
      "Epoch 24 - avg_train_loss: 0.5754  lr: 5.3373e-04  time: 13s\n",
      "Epoch 24 - Score: 0.5878\n"
     ]
    },
    {
     "name": "stdout",
     "output_type": "stream",
     "text": [
      "EVAL: [8/9] Data 0.004 (0.023) Elapsed 0m 0s (remain 0m 0s) \n",
      "Epoch: [25][0/40] Data 0.047 (0.047) Elapsed 0m 0s (remain 0m 12s) Loss: 1.2392(1.2392) Grad Norm: 11.0751  LR: 5.0236e-04  \n",
      "Epoch: [25][39/40] Data 0.042 (0.044) Elapsed 0m 12s (remain 0m 0s) Loss: 0.0498(0.5378) Grad Norm: 2.6545  LR: 5.0236e-04  \n",
      "EVAL: [0/9] Data 0.023 (0.023) Elapsed 0m 0s (remain 0m 0s) \n"
     ]
    },
    {
     "name": "stderr",
     "output_type": "stream",
     "text": [
      "labels: [11  6  2  2  4]\n",
      "pred_labels: [11  6  5  2  4]\n",
      "Epoch 25 - avg_train_loss: 0.5378  lr: 5.0236e-04  time: 13s\n",
      "Epoch 25 - Score: 0.5725\n"
     ]
    },
    {
     "name": "stdout",
     "output_type": "stream",
     "text": [
      "EVAL: [8/9] Data 0.004 (0.021) Elapsed 0m 0s (remain 0m 0s) \n",
      "Epoch: [26][0/40] Data 0.043 (0.043) Elapsed 0m 0s (remain 0m 11s) Loss: 0.0128(0.0128) Grad Norm: 0.5284  LR: 4.7099e-04  \n",
      "Epoch: [26][39/40] Data 0.048 (0.045) Elapsed 0m 12s (remain 0m 0s) Loss: 1.3719(0.6703) Grad Norm: 5.7406  LR: 4.7099e-04  \n",
      "EVAL: [0/9] Data 0.024 (0.024) Elapsed 0m 0s (remain 0m 0s) \n"
     ]
    },
    {
     "name": "stderr",
     "output_type": "stream",
     "text": [
      "labels: [11  6  2  2  4]\n",
      "pred_labels: [11  6  5  0  4]\n",
      "Epoch 26 - avg_train_loss: 0.6703  lr: 4.7099e-04  time: 13s\n",
      "Epoch 26 - Score: 0.6260\n",
      "Epoch 26 - Save Best Score: 0.6260 Model\n"
     ]
    },
    {
     "name": "stdout",
     "output_type": "stream",
     "text": [
      "EVAL: [8/9] Data 0.005 (0.022) Elapsed 0m 0s (remain 0m 0s) \n",
      "Epoch: [27][0/40] Data 0.039 (0.039) Elapsed 0m 0s (remain 0m 12s) Loss: 0.9897(0.9897) Grad Norm: 9.7207  LR: 4.3974e-04  \n",
      "Epoch: [27][39/40] Data 0.042 (0.044) Elapsed 0m 12s (remain 0m 0s) Loss: 0.0211(0.5873) Grad Norm: 1.4598  LR: 4.3974e-04  \n",
      "EVAL: [0/9] Data 0.024 (0.024) Elapsed 0m 0s (remain 0m 0s) \n"
     ]
    },
    {
     "name": "stderr",
     "output_type": "stream",
     "text": [
      "labels: [11  6  2  2  4]\n",
      "pred_labels: [11  6  5  0  4]\n",
      "Epoch 27 - avg_train_loss: 0.5873  lr: 4.3974e-04  time: 13s\n",
      "Epoch 27 - Score: 0.6107\n"
     ]
    },
    {
     "name": "stdout",
     "output_type": "stream",
     "text": [
      "EVAL: [8/9] Data 0.004 (0.022) Elapsed 0m 0s (remain 0m 0s) \n",
      "Epoch: [28][0/40] Data 0.049 (0.049) Elapsed 0m 0s (remain 0m 11s) Loss: 0.0313(0.0313) Grad Norm: 1.0553  LR: 4.0874e-04  \n",
      "Epoch: [28][39/40] Data 0.039 (0.043) Elapsed 0m 12s (remain 0m 0s) Loss: 1.0998(0.6900) Grad Norm: 8.2753  LR: 4.0874e-04  \n",
      "EVAL: [0/9] Data 0.026 (0.026) Elapsed 0m 0s (remain 0m 0s) \n"
     ]
    },
    {
     "name": "stderr",
     "output_type": "stream",
     "text": [
      "labels: [11  6  2  2  4]\n",
      "pred_labels: [11  6  5  0  2]\n",
      "Epoch 28 - avg_train_loss: 0.6900  lr: 4.0874e-04  time: 13s\n",
      "Epoch 28 - Score: 0.6183\n"
     ]
    },
    {
     "name": "stdout",
     "output_type": "stream",
     "text": [
      "EVAL: [8/9] Data 0.004 (0.022) Elapsed 0m 0s (remain 0m 0s) \n",
      "Epoch: [29][0/40] Data 0.045 (0.045) Elapsed 0m 0s (remain 0m 11s) Loss: 1.0133(1.0133) Grad Norm: 4.5902  LR: 3.7811e-04  \n",
      "Epoch: [29][39/40] Data 0.050 (0.043) Elapsed 0m 11s (remain 0m 0s) Loss: 1.2353(0.5319) Grad Norm: 9.1804  LR: 3.7811e-04  \n",
      "EVAL: [0/9] Data 0.025 (0.025) Elapsed 0m 0s (remain 0m 0s) \n"
     ]
    },
    {
     "name": "stderr",
     "output_type": "stream",
     "text": [
      "labels: [11  6  2  2  4]\n",
      "pred_labels: [11  6  5  6  4]\n",
      "Epoch 29 - avg_train_loss: 0.5319  lr: 3.7811e-04  time: 13s\n",
      "Epoch 29 - Score: 0.5802\n"
     ]
    },
    {
     "name": "stdout",
     "output_type": "stream",
     "text": [
      "EVAL: [8/9] Data 0.005 (0.022) Elapsed 0m 0s (remain 0m 0s) \n",
      "Epoch: [30][0/40] Data 0.047 (0.047) Elapsed 0m 0s (remain 0m 11s) Loss: 0.9066(0.9066) Grad Norm: 7.9947  LR: 3.4797e-04  \n",
      "Epoch: [30][39/40] Data 0.039 (0.043) Elapsed 0m 11s (remain 0m 0s) Loss: 0.8106(0.4914) Grad Norm: 3.5619  LR: 3.4797e-04  \n",
      "EVAL: [0/9] Data 0.024 (0.024) Elapsed 0m 0s (remain 0m 0s) \n"
     ]
    },
    {
     "name": "stderr",
     "output_type": "stream",
     "text": [
      "labels: [11  6  2  2  4]\n",
      "pred_labels: [11  6  5  0  4]\n",
      "Epoch 30 - avg_train_loss: 0.4914  lr: 3.4797e-04  time: 12s\n",
      "Epoch 30 - Score: 0.5878\n"
     ]
    },
    {
     "name": "stdout",
     "output_type": "stream",
     "text": [
      "EVAL: [8/9] Data 0.004 (0.022) Elapsed 0m 0s (remain 0m 0s) \n",
      "Epoch: [31][0/40] Data 0.048 (0.048) Elapsed 0m 0s (remain 0m 11s) Loss: 1.3030(1.3030) Grad Norm: 6.4963  LR: 3.1843e-04  \n",
      "Epoch: [31][39/40] Data 0.041 (0.042) Elapsed 0m 11s (remain 0m 0s) Loss: 0.7618(0.3332) Grad Norm: 7.0313  LR: 3.1843e-04  \n",
      "EVAL: [0/9] Data 0.024 (0.024) Elapsed 0m 0s (remain 0m 0s) \n"
     ]
    },
    {
     "name": "stderr",
     "output_type": "stream",
     "text": [
      "labels: [11  6  2  2  4]\n",
      "pred_labels: [11  6  5  0  1]\n",
      "Epoch 31 - avg_train_loss: 0.3332  lr: 3.1843e-04  time: 12s\n",
      "Epoch 31 - Score: 0.5954\n"
     ]
    },
    {
     "name": "stdout",
     "output_type": "stream",
     "text": [
      "EVAL: [8/9] Data 0.005 (0.022) Elapsed 0m 0s (remain 0m 0s) \n",
      "Epoch: [32][0/40] Data 0.044 (0.044) Elapsed 0m 0s (remain 0m 11s) Loss: 1.3121(1.3121) Grad Norm: 11.1286  LR: 2.8962e-04  \n",
      "Epoch: [32][39/40] Data 0.046 (0.043) Elapsed 0m 12s (remain 0m 0s) Loss: 0.8568(0.5285) Grad Norm: 6.6112  LR: 2.8962e-04  \n",
      "EVAL: [0/9] Data 0.025 (0.025) Elapsed 0m 0s (remain 0m 0s) \n"
     ]
    },
    {
     "name": "stderr",
     "output_type": "stream",
     "text": [
      "labels: [11  6  2  2  4]\n",
      "pred_labels: [11  6  5  0  4]\n",
      "Epoch 32 - avg_train_loss: 0.5285  lr: 2.8962e-04  time: 13s\n",
      "Epoch 32 - Score: 0.5725\n"
     ]
    },
    {
     "name": "stdout",
     "output_type": "stream",
     "text": [
      "EVAL: [8/9] Data 0.004 (0.022) Elapsed 0m 0s (remain 0m 0s) \n",
      "Epoch: [33][0/40] Data 0.045 (0.045) Elapsed 0m 0s (remain 0m 11s) Loss: 0.0086(0.0086) Grad Norm: 0.4427  LR: 2.6165e-04  \n",
      "Epoch: [33][39/40] Data 0.039 (0.044) Elapsed 0m 11s (remain 0m 0s) Loss: 0.0053(0.4362) Grad Norm: 0.3046  LR: 2.6165e-04  \n",
      "EVAL: [0/9] Data 0.024 (0.024) Elapsed 0m 0s (remain 0m 0s) \n"
     ]
    },
    {
     "name": "stderr",
     "output_type": "stream",
     "text": [
      "labels: [11  6  2  2  4]\n",
      "pred_labels: [11  6  5  0  4]\n",
      "Epoch 33 - avg_train_loss: 0.4362  lr: 2.6165e-04  time: 13s\n",
      "Epoch 33 - Score: 0.6107\n"
     ]
    },
    {
     "name": "stdout",
     "output_type": "stream",
     "text": [
      "EVAL: [8/9] Data 0.005 (0.022) Elapsed 0m 0s (remain 0m 0s) \n",
      "Epoch: [34][0/40] Data 0.042 (0.042) Elapsed 0m 0s (remain 0m 11s) Loss: 0.9649(0.9649) Grad Norm: 6.1109  LR: 2.3463e-04  \n",
      "Epoch: [34][39/40] Data 0.047 (0.043) Elapsed 0m 11s (remain 0m 0s) Loss: 1.0883(0.4839) Grad Norm: 7.7762  LR: 2.3463e-04  \n",
      "EVAL: [0/9] Data 0.025 (0.025) Elapsed 0m 0s (remain 0m 0s) \n"
     ]
    },
    {
     "name": "stderr",
     "output_type": "stream",
     "text": [
      "labels: [11  6  2  2  4]\n",
      "pred_labels: [11  6  5  0  4]\n",
      "Epoch 34 - avg_train_loss: 0.4839  lr: 2.3463e-04  time: 13s\n",
      "Epoch 34 - Score: 0.5725\n"
     ]
    },
    {
     "name": "stdout",
     "output_type": "stream",
     "text": [
      "EVAL: [8/9] Data 0.004 (0.022) Elapsed 0m 0s (remain 0m 0s) \n",
      "Epoch: [35][0/40] Data 0.041 (0.041) Elapsed 0m 0s (remain 0m 11s) Loss: 0.0218(0.0218) Grad Norm: 5.0003  LR: 2.0866e-04  \n",
      "Epoch: [35][39/40] Data 0.042 (0.045) Elapsed 0m 12s (remain 0m 0s) Loss: 1.1156(0.5905) Grad Norm: 10.0658  LR: 2.0866e-04  \n",
      "EVAL: [0/9] Data 0.024 (0.024) Elapsed 0m 0s (remain 0m 0s) \n"
     ]
    },
    {
     "name": "stderr",
     "output_type": "stream",
     "text": [
      "labels: [11  6  2  2  4]\n",
      "pred_labels: [11  6  5  0  4]\n",
      "Epoch 35 - avg_train_loss: 0.5905  lr: 2.0866e-04  time: 13s\n",
      "Epoch 35 - Score: 0.5878\n"
     ]
    },
    {
     "name": "stdout",
     "output_type": "stream",
     "text": [
      "EVAL: [8/9] Data 0.005 (0.022) Elapsed 0m 0s (remain 0m 0s) \n",
      "Epoch: [36][0/40] Data 0.047 (0.047) Elapsed 0m 0s (remain 0m 11s) Loss: 0.0042(0.0042) Grad Norm: 0.2405  LR: 1.8385e-04  \n",
      "Epoch: [36][39/40] Data 0.042 (0.043) Elapsed 0m 11s (remain 0m 0s) Loss: 0.6896(0.4156) Grad Norm: 2.9888  LR: 1.8385e-04  \n",
      "EVAL: [0/9] Data 0.025 (0.025) Elapsed 0m 0s (remain 0m 0s) \n"
     ]
    },
    {
     "name": "stderr",
     "output_type": "stream",
     "text": [
      "labels: [11  6  2  2  4]\n",
      "pred_labels: [11  6  5  0  4]\n",
      "Epoch 36 - avg_train_loss: 0.4156  lr: 1.8385e-04  time: 13s\n",
      "Epoch 36 - Score: 0.6260\n"
     ]
    },
    {
     "name": "stdout",
     "output_type": "stream",
     "text": [
      "EVAL: [8/9] Data 0.004 (0.022) Elapsed 0m 0s (remain 0m 0s) \n",
      "Epoch: [37][0/40] Data 0.042 (0.042) Elapsed 0m 0s (remain 0m 11s) Loss: 0.8764(0.8764) Grad Norm: 4.1812  LR: 1.6030e-04  \n",
      "Epoch: [37][39/40] Data 0.037 (0.044) Elapsed 0m 12s (remain 0m 0s) Loss: 0.0194(0.4858) Grad Norm: 1.6740  LR: 1.6030e-04  \n",
      "EVAL: [0/9] Data 0.032 (0.032) Elapsed 0m 0s (remain 0m 0s) \n"
     ]
    },
    {
     "name": "stderr",
     "output_type": "stream",
     "text": [
      "labels: [11  6  2  2  4]\n",
      "pred_labels: [11  6  5  6  4]\n",
      "Epoch 37 - avg_train_loss: 0.4858  lr: 1.6030e-04  time: 13s\n",
      "Epoch 37 - Score: 0.6336\n",
      "Epoch 37 - Save Best Score: 0.6336 Model\n"
     ]
    },
    {
     "name": "stdout",
     "output_type": "stream",
     "text": [
      "EVAL: [8/9] Data 0.004 (0.022) Elapsed 0m 0s (remain 0m 0s) \n",
      "Epoch: [38][0/40] Data 0.050 (0.050) Elapsed 0m 0s (remain 0m 12s) Loss: 0.0027(0.0027) Grad Norm: 0.1067  LR: 1.3809e-04  \n",
      "Epoch: [38][39/40] Data 0.048 (0.045) Elapsed 0m 12s (remain 0m 0s) Loss: 0.9000(0.3457) Grad Norm: 4.7841  LR: 1.3809e-04  \n",
      "EVAL: [0/9] Data 0.024 (0.024) Elapsed 0m 0s (remain 0m 0s) \n"
     ]
    },
    {
     "name": "stderr",
     "output_type": "stream",
     "text": [
      "labels: [11  6  2  2  4]\n",
      "pred_labels: [11  6  5  0  4]\n",
      "Epoch 38 - avg_train_loss: 0.3457  lr: 1.3809e-04  time: 13s\n",
      "Epoch 38 - Score: 0.6107\n"
     ]
    },
    {
     "name": "stdout",
     "output_type": "stream",
     "text": [
      "EVAL: [8/9] Data 0.005 (0.022) Elapsed 0m 0s (remain 0m 0s) \n",
      "Epoch: [39][0/40] Data 0.042 (0.042) Elapsed 0m 0s (remain 0m 11s) Loss: 1.0275(1.0275) Grad Norm: 3.9498  LR: 1.1732e-04  \n",
      "Epoch: [39][39/40] Data 0.042 (0.044) Elapsed 0m 11s (remain 0m 0s) Loss: 1.2907(0.4416) Grad Norm: 7.9069  LR: 1.1732e-04  \n",
      "EVAL: [0/9] Data 0.024 (0.024) Elapsed 0m 0s (remain 0m 0s) \n"
     ]
    },
    {
     "name": "stderr",
     "output_type": "stream",
     "text": [
      "labels: [11  6  2  2  4]\n",
      "pred_labels: [11  6  5  0  4]\n",
      "Epoch 39 - avg_train_loss: 0.4416  lr: 1.1732e-04  time: 13s\n",
      "Epoch 39 - Score: 0.6107\n"
     ]
    },
    {
     "name": "stdout",
     "output_type": "stream",
     "text": [
      "EVAL: [8/9] Data 0.005 (0.022) Elapsed 0m 0s (remain 0m 0s) \n",
      "Epoch: [40][0/40] Data 0.046 (0.046) Elapsed 0m 0s (remain 0m 11s) Loss: 0.0022(0.0022) Grad Norm: 0.0908  LR: 9.8058e-05  \n",
      "Epoch: [40][39/40] Data 0.038 (0.044) Elapsed 0m 11s (remain 0m 0s) Loss: 0.0028(0.3369) Grad Norm: 0.0981  LR: 9.8058e-05  \n",
      "EVAL: [0/9] Data 0.026 (0.026) Elapsed 0m 0s (remain 0m 0s) \n"
     ]
    },
    {
     "name": "stderr",
     "output_type": "stream",
     "text": [
      "labels: [11  6  2  2  4]\n",
      "pred_labels: [11  6  5  6  4]\n",
      "Epoch 40 - avg_train_loss: 0.3369  lr: 9.8058e-05  time: 13s\n",
      "Epoch 40 - Score: 0.6336\n"
     ]
    },
    {
     "name": "stdout",
     "output_type": "stream",
     "text": [
      "EVAL: [8/9] Data 0.004 (0.022) Elapsed 0m 0s (remain 0m 0s) \n",
      "Epoch: [41][0/40] Data 0.038 (0.038) Elapsed 0m 0s (remain 0m 11s) Loss: 0.0044(0.0044) Grad Norm: 0.1861  LR: 8.0390e-05  \n",
      "Epoch: [41][39/40] Data 0.044 (0.044) Elapsed 0m 11s (remain 0m 0s) Loss: 0.7059(0.3708) Grad Norm: 4.5680  LR: 8.0390e-05  \n",
      "EVAL: [0/9] Data 0.025 (0.025) Elapsed 0m 0s (remain 0m 0s) \n"
     ]
    },
    {
     "name": "stderr",
     "output_type": "stream",
     "text": [
      "labels: [11  6  2  2  4]\n",
      "pred_labels: [11  6  5  6  4]\n",
      "Epoch 41 - avg_train_loss: 0.3708  lr: 8.0390e-05  time: 13s\n",
      "Epoch 41 - Score: 0.6260\n"
     ]
    },
    {
     "name": "stdout",
     "output_type": "stream",
     "text": [
      "EVAL: [8/9] Data 0.005 (0.023) Elapsed 0m 0s (remain 0m 0s) \n",
      "Epoch: [42][0/40] Data 0.045 (0.045) Elapsed 0m 0s (remain 0m 11s) Loss: 0.0009(0.0009) Grad Norm: 0.0254  LR: 6.4381e-05  \n",
      "Epoch: [42][39/40] Data 0.047 (0.046) Elapsed 0m 12s (remain 0m 0s) Loss: 0.0007(0.3954) Grad Norm: 0.0734  LR: 6.4381e-05  \n",
      "EVAL: [0/9] Data 0.023 (0.023) Elapsed 0m 0s (remain 0m 0s) \n"
     ]
    },
    {
     "name": "stderr",
     "output_type": "stream",
     "text": [
      "labels: [11  6  2  2  4]\n",
      "pred_labels: [11  6  5  0  4]\n",
      "Epoch 42 - avg_train_loss: 0.3954  lr: 6.4381e-05  time: 13s\n",
      "Epoch 42 - Score: 0.6183\n"
     ]
    },
    {
     "name": "stdout",
     "output_type": "stream",
     "text": [
      "EVAL: [8/9] Data 0.004 (0.022) Elapsed 0m 0s (remain 0m 0s) \n",
      "Epoch: [43][0/40] Data 0.042 (0.042) Elapsed 0m 0s (remain 0m 11s) Loss: 0.0006(0.0006) Grad Norm: 0.0260  LR: 5.0093e-05  \n",
      "Epoch: [43][39/40] Data 0.043 (0.043) Elapsed 0m 11s (remain 0m 0s) Loss: 0.0022(0.3718) Grad Norm: 0.1560  LR: 5.0093e-05  \n",
      "EVAL: [0/9] Data 0.025 (0.025) Elapsed 0m 0s (remain 0m 0s) \n"
     ]
    },
    {
     "name": "stderr",
     "output_type": "stream",
     "text": [
      "labels: [11  6  2  2  4]\n",
      "pred_labels: [11  6  5  0  4]\n",
      "Epoch 43 - avg_train_loss: 0.3718  lr: 5.0093e-05  time: 13s\n",
      "Epoch 43 - Score: 0.6260\n"
     ]
    },
    {
     "name": "stdout",
     "output_type": "stream",
     "text": [
      "EVAL: [8/9] Data 0.004 (0.023) Elapsed 0m 0s (remain 0m 0s) \n",
      "Epoch: [44][0/40] Data 0.039 (0.039) Elapsed 0m 0s (remain 0m 11s) Loss: 0.7438(0.7438) Grad Norm: 4.0197  LR: 3.7578e-05  \n",
      "Epoch: [44][39/40] Data 0.044 (0.044) Elapsed 0m 12s (remain 0m 0s) Loss: 0.5251(0.4695) Grad Norm: 1.6184  LR: 3.7578e-05  \n",
      "EVAL: [0/9] Data 0.026 (0.026) Elapsed 0m 0s (remain 0m 0s) \n"
     ]
    },
    {
     "name": "stderr",
     "output_type": "stream",
     "text": [
      "labels: [11  6  2  2  4]\n",
      "pred_labels: [11  6  5  6  4]\n",
      "Epoch 44 - avg_train_loss: 0.4695  lr: 3.7578e-05  time: 13s\n",
      "Epoch 44 - Score: 0.6183\n"
     ]
    },
    {
     "name": "stdout",
     "output_type": "stream",
     "text": [
      "EVAL: [8/9] Data 0.004 (0.022) Elapsed 0m 0s (remain 0m 0s) \n",
      "Epoch: [45][0/40] Data 0.048 (0.048) Elapsed 0m 0s (remain 0m 11s) Loss: 0.7496(0.7496) Grad Norm: 4.6763  LR: 2.6881e-05  \n",
      "Epoch: [45][39/40] Data 0.045 (0.043) Elapsed 0m 11s (remain 0m 0s) Loss: 0.0016(0.3295) Grad Norm: 0.0888  LR: 2.6881e-05  \n",
      "EVAL: [0/9] Data 0.024 (0.024) Elapsed 0m 0s (remain 0m 0s) \n"
     ]
    },
    {
     "name": "stderr",
     "output_type": "stream",
     "text": [
      "labels: [11  6  2  2  4]\n",
      "pred_labels: [11  6  5  6  4]\n",
      "Epoch 45 - avg_train_loss: 0.3295  lr: 2.6881e-05  time: 13s\n",
      "Epoch 45 - Score: 0.6260\n"
     ]
    },
    {
     "name": "stdout",
     "output_type": "stream",
     "text": [
      "EVAL: [8/9] Data 0.005 (0.022) Elapsed 0m 0s (remain 0m 0s) \n",
      "Epoch: [46][0/40] Data 0.050 (0.050) Elapsed 0m 0s (remain 0m 11s) Loss: 0.0005(0.0005) Grad Norm: 0.0124  LR: 1.8039e-05  \n",
      "Epoch: [46][39/40] Data 0.045 (0.042) Elapsed 0m 11s (remain 0m 0s) Loss: 0.0010(0.0016) Grad Norm: 0.0192  LR: 1.8039e-05  \n",
      "EVAL: [0/9] Data 0.024 (0.024) Elapsed 0m 0s (remain 0m 0s) \n"
     ]
    },
    {
     "name": "stderr",
     "output_type": "stream",
     "text": [
      "labels: [11  6  2  2  4]\n",
      "pred_labels: [11  6  5  6  4]\n",
      "Epoch 46 - avg_train_loss: 0.0016  lr: 1.8039e-05  time: 12s\n",
      "Epoch 46 - Score: 0.6336\n"
     ]
    },
    {
     "name": "stdout",
     "output_type": "stream",
     "text": [
      "EVAL: [8/9] Data 0.004 (0.022) Elapsed 0m 0s (remain 0m 0s) \n",
      "Epoch: [47][0/40] Data 0.040 (0.040) Elapsed 0m 0s (remain 0m 11s) Loss: 0.0015(0.0015) Grad Norm: 0.0608  LR: 1.1073e-05  \n",
      "Epoch: [47][39/40] Data 0.038 (0.044) Elapsed 0m 11s (remain 0m 0s) Loss: 0.0011(0.0038) Grad Norm: 0.0357  LR: 1.1073e-05  \n",
      "EVAL: [0/9] Data 0.024 (0.024) Elapsed 0m 0s (remain 0m 0s) \n"
     ]
    },
    {
     "name": "stderr",
     "output_type": "stream",
     "text": [
      "labels: [11  6  2  2  4]\n",
      "pred_labels: [11  6  5  6  4]\n",
      "Epoch 47 - avg_train_loss: 0.0038  lr: 1.1073e-05  time: 13s\n",
      "Epoch 47 - Score: 0.6412\n",
      "Epoch 47 - Save Best Score: 0.6412 Model\n"
     ]
    },
    {
     "name": "stdout",
     "output_type": "stream",
     "text": [
      "EVAL: [8/9] Data 0.005 (0.022) Elapsed 0m 0s (remain 0m 0s) \n",
      "Epoch: [48][0/40] Data 0.044 (0.044) Elapsed 0m 0s (remain 0m 12s) Loss: 0.0020(0.0020) Grad Norm: 0.1271  LR: 5.9882e-06  \n",
      "Epoch: [48][39/40] Data 0.037 (0.043) Elapsed 0m 11s (remain 0m 0s) Loss: 0.0007(0.0024) Grad Norm: 0.0220  LR: 5.9882e-06  \n",
      "EVAL: [0/9] Data 0.023 (0.023) Elapsed 0m 0s (remain 0m 0s) \n"
     ]
    },
    {
     "name": "stderr",
     "output_type": "stream",
     "text": [
      "labels: [11  6  2  2  4]\n",
      "pred_labels: [11  6  5  6  4]\n",
      "Epoch 48 - avg_train_loss: 0.0024  lr: 5.9882e-06  time: 13s\n",
      "Epoch 48 - Score: 0.6412\n"
     ]
    },
    {
     "name": "stdout",
     "output_type": "stream",
     "text": [
      "EVAL: [8/9] Data 0.004 (0.022) Elapsed 0m 0s (remain 0m 0s) \n",
      "Epoch: [49][0/40] Data 0.049 (0.049) Elapsed 0m 0s (remain 0m 11s) Loss: 0.0012(0.0012) Grad Norm: 0.0458  LR: 2.7534e-06  \n",
      "Epoch: [49][39/40] Data 0.041 (0.043) Elapsed 0m 11s (remain 0m 0s) Loss: 0.0007(0.0026) Grad Norm: 0.0310  LR: 2.7534e-06  \n",
      "EVAL: [0/9] Data 0.024 (0.024) Elapsed 0m 0s (remain 0m 0s) \n"
     ]
    },
    {
     "name": "stderr",
     "output_type": "stream",
     "text": [
      "labels: [11  6  2  2  4]\n",
      "pred_labels: [11  6  5  6  4]\n",
      "Epoch 49 - avg_train_loss: 0.0026  lr: 2.7534e-06  time: 12s\n",
      "Epoch 49 - Score: 0.6336\n"
     ]
    },
    {
     "name": "stdout",
     "output_type": "stream",
     "text": [
      "EVAL: [8/9] Data 0.005 (0.022) Elapsed 0m 0s (remain 0m 0s) \n",
      "Epoch: [50][0/40] Data 0.045 (0.045) Elapsed 0m 0s (remain 0m 11s) Loss: 0.0005(0.0005) Grad Norm: 0.0136  LR: 1.2467e-06  \n",
      "Epoch: [50][39/40] Data 0.041 (0.043) Elapsed 0m 11s (remain 0m 0s) Loss: 0.0013(0.0127) Grad Norm: 0.0361  LR: 1.2467e-06  \n",
      "EVAL: [0/9] Data 0.024 (0.024) Elapsed 0m 0s (remain 0m 0s) \n"
     ]
    },
    {
     "name": "stderr",
     "output_type": "stream",
     "text": [
      "labels: [11  6  2  2  4]\n",
      "pred_labels: [11  6  5  6  4]\n",
      "Epoch 50 - avg_train_loss: 0.0127  lr: 1.2467e-06  time: 12s\n",
      "Epoch 50 - Score: 0.6336\n",
      "==================== fold: 1, seed: 0 training ====================\n"
     ]
    },
    {
     "name": "stdout",
     "output_type": "stream",
     "text": [
      "EVAL: [8/9] Data 0.005 (0.022) Elapsed 0m 0s (remain 0m 0s) \n",
      "Epoch: [1][0/40] Data 0.045 (0.045) Elapsed 0m 0s (remain 0m 12s) Loss: 2.6287(2.6287) Grad Norm: 9.4109  LR: 1.0000e-03  \n",
      "Epoch: [1][39/40] Data 0.045 (0.044) Elapsed 0m 11s (remain 0m 0s) Loss: 2.1971(2.5072) Grad Norm: 13.5660  LR: 1.0000e-03  \n",
      "EVAL: [0/9] Data 0.023 (0.023) Elapsed 0m 0s (remain 0m 0s) \n"
     ]
    },
    {
     "name": "stderr",
     "output_type": "stream",
     "text": [
      "labels: [4 0 3 6 0]\n",
      "pred_labels: [2 2 2 6 2]\n",
      "Epoch 1 - avg_train_loss: 2.5072  lr: 1.0000e-03  time: 13s\n",
      "Epoch 1 - Score: 0.3130\n",
      "Epoch 1 - Save Best Score: 0.3130 Model\n"
     ]
    },
    {
     "name": "stdout",
     "output_type": "stream",
     "text": [
      "EVAL: [8/9] Data 0.005 (0.022) Elapsed 0m 0s (remain 0m 0s) \n",
      "Epoch: [2][0/40] Data 0.053 (0.053) Elapsed 0m 0s (remain 0m 12s) Loss: 2.2990(2.2990) Grad Norm: 10.9394  LR: 9.9803e-04  \n",
      "Epoch: [2][39/40] Data 0.045 (0.045) Elapsed 0m 12s (remain 0m 0s) Loss: 1.5843(2.1289) Grad Norm: 12.6413  LR: 9.9803e-04  \n",
      "EVAL: [0/9] Data 0.024 (0.024) Elapsed 0m 0s (remain 0m 0s) \n"
     ]
    },
    {
     "name": "stderr",
     "output_type": "stream",
     "text": [
      "labels: [4 0 3 6 0]\n",
      "pred_labels: [11  0  0 11  9]\n",
      "Epoch 2 - avg_train_loss: 2.1289  lr: 9.9803e-04  time: 13s\n",
      "Epoch 2 - Score: 0.4962\n",
      "Epoch 2 - Save Best Score: 0.4962 Model\n"
     ]
    },
    {
     "name": "stdout",
     "output_type": "stream",
     "text": [
      "EVAL: [8/9] Data 0.005 (0.022) Elapsed 0m 0s (remain 0m 0s) \n",
      "Epoch: [3][0/40] Data 0.039 (0.039) Elapsed 0m 0s (remain 0m 12s) Loss: 1.9766(1.9766) Grad Norm: 8.5064  LR: 9.9312e-04  \n",
      "Epoch: [3][39/40] Data 0.038 (0.044) Elapsed 0m 11s (remain 0m 0s) Loss: 1.2869(1.7201) Grad Norm: 12.7392  LR: 9.9312e-04  \n",
      "EVAL: [0/9] Data 0.024 (0.024) Elapsed 0m 0s (remain 0m 0s) \n"
     ]
    },
    {
     "name": "stderr",
     "output_type": "stream",
     "text": [
      "labels: [4 0 3 6 0]\n",
      "pred_labels: [ 1  0  4 11  8]\n",
      "Epoch 3 - avg_train_loss: 1.7201  lr: 9.9312e-04  time: 13s\n",
      "Epoch 3 - Score: 0.5954\n",
      "Epoch 3 - Save Best Score: 0.5954 Model\n"
     ]
    },
    {
     "name": "stdout",
     "output_type": "stream",
     "text": [
      "EVAL: [8/9] Data 0.005 (0.022) Elapsed 0m 0s (remain 0m 0s) \n",
      "Epoch: [4][0/40] Data 0.050 (0.050) Elapsed 0m 0s (remain 0m 12s) Loss: 1.8515(1.8515) Grad Norm: 11.0105  LR: 9.8627e-04  \n",
      "Epoch: [4][39/40] Data 0.046 (0.044) Elapsed 0m 11s (remain 0m 0s) Loss: 1.9139(1.4813) Grad Norm: 9.1558  LR: 9.8627e-04  \n",
      "EVAL: [0/9] Data 0.023 (0.023) Elapsed 0m 0s (remain 0m 0s) \n"
     ]
    },
    {
     "name": "stderr",
     "output_type": "stream",
     "text": [
      "labels: [4 0 3 6 0]\n",
      "pred_labels: [4 0 3 0 0]\n",
      "Epoch 4 - avg_train_loss: 1.4813  lr: 9.8627e-04  time: 13s\n",
      "Epoch 4 - Score: 0.5878\n"
     ]
    },
    {
     "name": "stdout",
     "output_type": "stream",
     "text": [
      "EVAL: [8/9] Data 0.005 (0.022) Elapsed 0m 0s (remain 0m 0s) \n",
      "Epoch: [5][0/40] Data 0.042 (0.042) Elapsed 0m 0s (remain 0m 11s) Loss: 1.6891(1.6891) Grad Norm: 9.0069  LR: 9.7751e-04  \n",
      "Epoch: [5][39/40] Data 0.041 (0.044) Elapsed 0m 11s (remain 0m 0s) Loss: 2.1542(1.5118) Grad Norm: 9.1938  LR: 9.7751e-04  \n",
      "EVAL: [0/9] Data 0.023 (0.023) Elapsed 0m 0s (remain 0m 0s) \n"
     ]
    },
    {
     "name": "stderr",
     "output_type": "stream",
     "text": [
      "labels: [4 0 3 6 0]\n",
      "pred_labels: [4 0 3 0 0]\n",
      "Epoch 5 - avg_train_loss: 1.5118  lr: 9.7751e-04  time: 13s\n",
      "Epoch 5 - Score: 0.6336\n",
      "Epoch 5 - Save Best Score: 0.6336 Model\n"
     ]
    },
    {
     "name": "stdout",
     "output_type": "stream",
     "text": [
      "EVAL: [8/9] Data 0.005 (0.023) Elapsed 0m 0s (remain 0m 0s) \n",
      "Epoch: [6][0/40] Data 0.038 (0.038) Elapsed 0m 0s (remain 0m 11s) Loss: 1.4612(1.4612) Grad Norm: 7.4013  LR: 9.6688e-04  \n",
      "Epoch: [6][39/40] Data 0.047 (0.043) Elapsed 0m 11s (remain 0m 0s) Loss: 1.9773(1.2974) Grad Norm: 10.4219  LR: 9.6688e-04  \n",
      "EVAL: [0/9] Data 0.023 (0.023) Elapsed 0m 0s (remain 0m 0s) \n"
     ]
    },
    {
     "name": "stderr",
     "output_type": "stream",
     "text": [
      "labels: [4 0 3 6 0]\n",
      "pred_labels: [2 0 3 7 0]\n",
      "Epoch 6 - avg_train_loss: 1.2974  lr: 9.6688e-04  time: 12s\n",
      "Epoch 6 - Score: 0.5954\n"
     ]
    },
    {
     "name": "stdout",
     "output_type": "stream",
     "text": [
      "EVAL: [8/9] Data 0.004 (0.021) Elapsed 0m 0s (remain 0m 0s) \n",
      "Epoch: [7][0/40] Data 0.042 (0.042) Elapsed 0m 0s (remain 0m 11s) Loss: 1.8917(1.8917) Grad Norm: 10.6237  LR: 9.5441e-04  \n",
      "Epoch: [7][39/40] Data 0.043 (0.043) Elapsed 0m 11s (remain 0m 0s) Loss: 0.7046(1.2360) Grad Norm: 9.3728  LR: 9.5441e-04  \n",
      "EVAL: [0/9] Data 0.023 (0.023) Elapsed 0m 0s (remain 0m 0s) \n"
     ]
    },
    {
     "name": "stderr",
     "output_type": "stream",
     "text": [
      "labels: [4 0 3 6 0]\n",
      "pred_labels: [ 4  0  3 11  0]\n",
      "Epoch 7 - avg_train_loss: 1.2360  lr: 9.5441e-04  time: 12s\n",
      "Epoch 7 - Score: 0.6183\n"
     ]
    },
    {
     "name": "stdout",
     "output_type": "stream",
     "text": [
      "EVAL: [8/9] Data 0.004 (0.022) Elapsed 0m 0s (remain 0m 0s) \n",
      "Epoch: [8][0/40] Data 0.041 (0.041) Elapsed 0m 0s (remain 0m 11s) Loss: 0.1774(0.1774) Grad Norm: 3.8860  LR: 9.4016e-04  \n",
      "Epoch: [8][39/40] Data 0.045 (0.042) Elapsed 0m 11s (remain 0m 0s) Loss: 1.2597(1.1215) Grad Norm: 26.3127  LR: 9.4016e-04  \n",
      "EVAL: [0/9] Data 0.023 (0.023) Elapsed 0m 0s (remain 0m 0s) \n"
     ]
    },
    {
     "name": "stderr",
     "output_type": "stream",
     "text": [
      "labels: [4 0 3 6 0]\n",
      "pred_labels: [4 0 3 0 0]\n",
      "Epoch 8 - avg_train_loss: 1.1215  lr: 9.4016e-04  time: 13s\n",
      "Epoch 8 - Score: 0.6412\n",
      "Epoch 8 - Save Best Score: 0.6412 Model\n"
     ]
    },
    {
     "name": "stdout",
     "output_type": "stream",
     "text": [
      "EVAL: [8/9] Data 0.005 (0.022) Elapsed 0m 0s (remain 0m 0s) \n",
      "Epoch: [9][0/40] Data 0.044 (0.044) Elapsed 0m 0s (remain 0m 12s) Loss: 0.3900(0.3900) Grad Norm: 9.1248  LR: 9.2418e-04  \n",
      "Epoch: [9][39/40] Data 0.046 (0.042) Elapsed 0m 11s (remain 0m 0s) Loss: 1.2807(1.2090) Grad Norm: 28.6870  LR: 9.2418e-04  \n",
      "EVAL: [0/9] Data 0.023 (0.023) Elapsed 0m 0s (remain 0m 0s) \n"
     ]
    },
    {
     "name": "stderr",
     "output_type": "stream",
     "text": [
      "labels: [4 0 3 6 0]\n",
      "pred_labels: [ 4  0  3 11  0]\n",
      "Epoch 9 - avg_train_loss: 1.2090  lr: 9.2418e-04  time: 13s\n",
      "Epoch 9 - Score: 0.5954\n"
     ]
    },
    {
     "name": "stdout",
     "output_type": "stream",
     "text": [
      "EVAL: [8/9] Data 0.005 (0.022) Elapsed 0m 0s (remain 0m 0s) \n",
      "Epoch: [10][0/40] Data 0.039 (0.039) Elapsed 0m 0s (remain 0m 11s) Loss: 0.4434(0.4434) Grad Norm: 9.6472  LR: 9.0654e-04  \n",
      "Epoch: [10][39/40] Data 0.044 (0.042) Elapsed 0m 11s (remain 0m 0s) Loss: 0.3005(0.8605) Grad Norm: 8.3650  LR: 9.0654e-04  \n",
      "EVAL: [0/9] Data 0.024 (0.024) Elapsed 0m 0s (remain 0m 0s) \n"
     ]
    },
    {
     "name": "stderr",
     "output_type": "stream",
     "text": [
      "labels: [4 0 3 6 0]\n",
      "pred_labels: [5 0 3 0 0]\n",
      "Epoch 10 - avg_train_loss: 0.8605  lr: 9.0654e-04  time: 12s\n",
      "Epoch 10 - Score: 0.6412\n"
     ]
    },
    {
     "name": "stdout",
     "output_type": "stream",
     "text": [
      "EVAL: [8/9] Data 0.004 (0.022) Elapsed 0m 0s (remain 0m 0s) \n",
      "Epoch: [11][0/40] Data 0.044 (0.044) Elapsed 0m 0s (remain 0m 11s) Loss: 1.4606(1.4606) Grad Norm: 6.3610  LR: 8.8730e-04  \n",
      "Epoch: [11][39/40] Data 0.045 (0.042) Elapsed 0m 11s (remain 0m 0s) Loss: 0.3904(1.1661) Grad Norm: 7.3811  LR: 8.8730e-04  \n",
      "EVAL: [0/9] Data 0.023 (0.023) Elapsed 0m 0s (remain 0m 0s) \n"
     ]
    },
    {
     "name": "stderr",
     "output_type": "stream",
     "text": [
      "labels: [4 0 3 6 0]\n",
      "pred_labels: [4 0 3 0 0]\n",
      "Epoch 11 - avg_train_loss: 1.1661  lr: 8.8730e-04  time: 12s\n",
      "Epoch 11 - Score: 0.6183\n"
     ]
    },
    {
     "name": "stdout",
     "output_type": "stream",
     "text": [
      "EVAL: [8/9] Data 0.004 (0.022) Elapsed 0m 0s (remain 0m 0s) \n",
      "Epoch: [12][0/40] Data 0.042 (0.042) Elapsed 0m 0s (remain 0m 11s) Loss: 0.4275(0.4275) Grad Norm: 10.0591  LR: 8.6655e-04  \n",
      "Epoch: [12][39/40] Data 0.042 (0.044) Elapsed 0m 11s (remain 0m 0s) Loss: 1.6845(1.0821) Grad Norm: 12.0423  LR: 8.6655e-04  \n",
      "EVAL: [0/9] Data 0.023 (0.023) Elapsed 0m 0s (remain 0m 0s) \n"
     ]
    },
    {
     "name": "stderr",
     "output_type": "stream",
     "text": [
      "labels: [4 0 3 6 0]\n",
      "pred_labels: [ 5  0  3 11  0]\n",
      "Epoch 12 - avg_train_loss: 1.0821  lr: 8.6655e-04  time: 13s\n",
      "Epoch 12 - Score: 0.5954\n"
     ]
    },
    {
     "name": "stdout",
     "output_type": "stream",
     "text": [
      "EVAL: [8/9] Data 0.005 (0.022) Elapsed 0m 0s (remain 0m 0s) \n",
      "Epoch: [13][0/40] Data 0.046 (0.046) Elapsed 0m 0s (remain 0m 11s) Loss: 1.1269(1.1269) Grad Norm: 6.9462  LR: 8.4436e-04  \n",
      "Epoch: [13][39/40] Data 0.042 (0.044) Elapsed 0m 12s (remain 0m 0s) Loss: 0.7253(0.9866) Grad Norm: 9.2762  LR: 8.4436e-04  \n",
      "EVAL: [0/9] Data 0.024 (0.024) Elapsed 0m 0s (remain 0m 0s) \n"
     ]
    },
    {
     "name": "stderr",
     "output_type": "stream",
     "text": [
      "labels: [4 0 3 6 0]\n",
      "pred_labels: [ 5  0  3 11  0]\n",
      "Epoch 13 - avg_train_loss: 0.9866  lr: 8.4436e-04  time: 13s\n",
      "Epoch 13 - Score: 0.6031\n"
     ]
    },
    {
     "name": "stdout",
     "output_type": "stream",
     "text": [
      "EVAL: [8/9] Data 0.005 (0.022) Elapsed 0m 0s (remain 0m 0s) \n",
      "Epoch: [14][0/40] Data 0.048 (0.048) Elapsed 0m 0s (remain 0m 12s) Loss: 1.5830(1.5830) Grad Norm: 7.4843  LR: 8.2081e-04  \n",
      "Epoch: [14][39/40] Data 0.047 (0.044) Elapsed 0m 12s (remain 0m 0s) Loss: 2.1250(0.9739) Grad Norm: 7.5814  LR: 8.2081e-04  \n",
      "EVAL: [0/9] Data 0.024 (0.024) Elapsed 0m 0s (remain 0m 0s) \n"
     ]
    },
    {
     "name": "stderr",
     "output_type": "stream",
     "text": [
      "labels: [4 0 3 6 0]\n",
      "pred_labels: [3 0 3 0 0]\n",
      "Epoch 14 - avg_train_loss: 0.9739  lr: 8.2081e-04  time: 13s\n",
      "Epoch 14 - Score: 0.5878\n"
     ]
    },
    {
     "name": "stdout",
     "output_type": "stream",
     "text": [
      "EVAL: [8/9] Data 0.005 (0.022) Elapsed 0m 0s (remain 0m 0s) \n",
      "Epoch: [15][0/40] Data 0.039 (0.039) Elapsed 0m 0s (remain 0m 11s) Loss: 0.2302(0.2302) Grad Norm: 8.0897  LR: 7.9601e-04  \n",
      "Epoch: [15][39/40] Data 0.040 (0.043) Elapsed 0m 12s (remain 0m 0s) Loss: 1.1915(1.0004) Grad Norm: 8.3947  LR: 7.9601e-04  \n",
      "EVAL: [0/9] Data 0.023 (0.023) Elapsed 0m 0s (remain 0m 0s) \n"
     ]
    },
    {
     "name": "stderr",
     "output_type": "stream",
     "text": [
      "labels: [4 0 3 6 0]\n",
      "pred_labels: [4 0 3 0 0]\n",
      "Epoch 15 - avg_train_loss: 1.0004  lr: 7.9601e-04  time: 13s\n",
      "Epoch 15 - Score: 0.5725\n"
     ]
    },
    {
     "name": "stdout",
     "output_type": "stream",
     "text": [
      "EVAL: [8/9] Data 0.005 (0.022) Elapsed 0m 0s (remain 0m 0s) \n",
      "Epoch: [16][0/40] Data 0.043 (0.043) Elapsed 0m 0s (remain 0m 11s) Loss: 1.0727(1.0727) Grad Norm: 6.8828  LR: 7.7006e-04  \n",
      "Epoch: [16][39/40] Data 0.043 (0.044) Elapsed 0m 12s (remain 0m 0s) Loss: 1.4044(0.9754) Grad Norm: 12.4553  LR: 7.7006e-04  \n",
      "EVAL: [0/9] Data 0.024 (0.024) Elapsed 0m 0s (remain 0m 0s) \n"
     ]
    },
    {
     "name": "stderr",
     "output_type": "stream",
     "text": [
      "labels: [4 0 3 6 0]\n",
      "pred_labels: [4 0 3 0 0]\n",
      "Epoch 16 - avg_train_loss: 0.9754  lr: 7.7006e-04  time: 13s\n",
      "Epoch 16 - Score: 0.6412\n"
     ]
    },
    {
     "name": "stdout",
     "output_type": "stream",
     "text": [
      "EVAL: [8/9] Data 0.004 (0.022) Elapsed 0m 0s (remain 0m 0s) \n",
      "Epoch: [17][0/40] Data 0.041 (0.041) Elapsed 0m 0s (remain 0m 11s) Loss: 0.0625(0.0625) Grad Norm: 3.2273  LR: 7.4304e-04  \n",
      "Epoch: [17][39/40] Data 0.042 (0.044) Elapsed 0m 12s (remain 0m 0s) Loss: 0.0927(0.8651) Grad Norm: 5.8402  LR: 7.4304e-04  \n",
      "EVAL: [0/9] Data 0.024 (0.024) Elapsed 0m 0s (remain 0m 0s) \n"
     ]
    },
    {
     "name": "stderr",
     "output_type": "stream",
     "text": [
      "labels: [4 0 3 6 0]\n",
      "pred_labels: [1 0 3 0 0]\n",
      "Epoch 17 - avg_train_loss: 0.8651  lr: 7.4304e-04  time: 13s\n",
      "Epoch 17 - Score: 0.6031\n"
     ]
    },
    {
     "name": "stdout",
     "output_type": "stream",
     "text": [
      "EVAL: [8/9] Data 0.005 (0.022) Elapsed 0m 0s (remain 0m 0s) \n",
      "Epoch: [18][0/40] Data 0.042 (0.042) Elapsed 0m 0s (remain 0m 11s) Loss: 0.9443(0.9443) Grad Norm: 12.6784  LR: 7.1508e-04  \n",
      "Epoch: [18][39/40] Data 0.039 (0.043) Elapsed 0m 12s (remain 0m 0s) Loss: 1.4400(0.8496) Grad Norm: 7.5003  LR: 7.1508e-04  \n",
      "EVAL: [0/9] Data 0.024 (0.024) Elapsed 0m 0s (remain 0m 0s) \n"
     ]
    },
    {
     "name": "stderr",
     "output_type": "stream",
     "text": [
      "labels: [4 0 3 6 0]\n",
      "pred_labels: [2 0 3 0 9]\n",
      "Epoch 18 - avg_train_loss: 0.8496  lr: 7.1508e-04  time: 13s\n",
      "Epoch 18 - Score: 0.5802\n"
     ]
    },
    {
     "name": "stdout",
     "output_type": "stream",
     "text": [
      "EVAL: [8/9] Data 0.005 (0.022) Elapsed 0m 0s (remain 0m 0s) \n",
      "Epoch: [19][0/40] Data 0.043 (0.043) Elapsed 0m 0s (remain 0m 11s) Loss: 1.0521(1.0521) Grad Norm: 4.7042  LR: 6.8627e-04  \n",
      "Epoch: [19][39/40] Data 0.048 (0.044) Elapsed 0m 11s (remain 0m 0s) Loss: 0.7257(0.7688) Grad Norm: 12.0572  LR: 6.8627e-04  \n",
      "EVAL: [0/9] Data 0.023 (0.023) Elapsed 0m 0s (remain 0m 0s) \n"
     ]
    },
    {
     "name": "stderr",
     "output_type": "stream",
     "text": [
      "labels: [4 0 3 6 0]\n",
      "pred_labels: [4 0 3 0 0]\n",
      "Epoch 19 - avg_train_loss: 0.7688  lr: 6.8627e-04  time: 13s\n",
      "Epoch 19 - Score: 0.5954\n"
     ]
    },
    {
     "name": "stdout",
     "output_type": "stream",
     "text": [
      "EVAL: [8/9] Data 0.005 (0.021) Elapsed 0m 0s (remain 0m 0s) \n",
      "Epoch: [20][0/40] Data 0.044 (0.044) Elapsed 0m 0s (remain 0m 11s) Loss: 1.2613(1.2613) Grad Norm: 6.1887  LR: 6.5674e-04  \n",
      "Epoch: [20][39/40] Data 0.045 (0.045) Elapsed 0m 12s (remain 0m 0s) Loss: 1.6477(0.8492) Grad Norm: 13.6558  LR: 6.5674e-04  \n",
      "EVAL: [0/9] Data 0.024 (0.024) Elapsed 0m 0s (remain 0m 0s) \n"
     ]
    },
    {
     "name": "stderr",
     "output_type": "stream",
     "text": [
      "labels: [4 0 3 6 0]\n",
      "pred_labels: [4 0 3 0 0]\n",
      "Epoch 20 - avg_train_loss: 0.8492  lr: 6.5674e-04  time: 13s\n",
      "Epoch 20 - Score: 0.6260\n"
     ]
    },
    {
     "name": "stdout",
     "output_type": "stream",
     "text": [
      "EVAL: [8/9] Data 0.004 (0.022) Elapsed 0m 0s (remain 0m 0s) \n",
      "Epoch: [21][0/40] Data 0.046 (0.046) Elapsed 0m 0s (remain 0m 12s) Loss: 1.1494(1.1494) Grad Norm: 5.0376  LR: 6.2661e-04  \n",
      "Epoch: [21][39/40] Data 0.044 (0.045) Elapsed 0m 12s (remain 0m 0s) Loss: 1.4456(0.7911) Grad Norm: 6.3250  LR: 6.2661e-04  \n",
      "EVAL: [0/9] Data 0.024 (0.024) Elapsed 0m 0s (remain 0m 0s) \n"
     ]
    },
    {
     "name": "stderr",
     "output_type": "stream",
     "text": [
      "labels: [4 0 3 6 0]\n",
      "pred_labels: [ 4  0  3 11  9]\n",
      "Epoch 21 - avg_train_loss: 0.7911  lr: 6.2661e-04  time: 13s\n",
      "Epoch 21 - Score: 0.6183\n"
     ]
    },
    {
     "name": "stdout",
     "output_type": "stream",
     "text": [
      "EVAL: [8/9] Data 0.004 (0.022) Elapsed 0m 0s (remain 0m 0s) \n",
      "Epoch: [22][0/40] Data 0.048 (0.048) Elapsed 0m 0s (remain 0m 11s) Loss: 0.0825(0.0825) Grad Norm: 16.8411  LR: 5.9598e-04  \n",
      "Epoch: [22][39/40] Data 0.044 (0.045) Elapsed 0m 11s (remain 0m 0s) Loss: 1.2531(0.6509) Grad Norm: 7.5979  LR: 5.9598e-04  \n",
      "EVAL: [0/9] Data 0.023 (0.023) Elapsed 0m 0s (remain 0m 0s) \n"
     ]
    },
    {
     "name": "stderr",
     "output_type": "stream",
     "text": [
      "labels: [4 0 3 6 0]\n",
      "pred_labels: [4 0 3 0 0]\n",
      "Epoch 22 - avg_train_loss: 0.6509  lr: 5.9598e-04  time: 13s\n",
      "Epoch 22 - Score: 0.6412\n"
     ]
    },
    {
     "name": "stdout",
     "output_type": "stream",
     "text": [
      "EVAL: [8/9] Data 0.004 (0.022) Elapsed 0m 0s (remain 0m 0s) \n",
      "Epoch: [23][0/40] Data 0.040 (0.040) Elapsed 0m 0s (remain 0m 11s) Loss: 1.3664(1.3664) Grad Norm: 6.2242  LR: 5.6498e-04  \n",
      "Epoch: [23][39/40] Data 0.057 (0.045) Elapsed 0m 12s (remain 0m 0s) Loss: 1.5528(0.6977) Grad Norm: 9.9093  LR: 5.6498e-04  \n",
      "EVAL: [0/9] Data 0.025 (0.025) Elapsed 0m 0s (remain 0m 0s) \n"
     ]
    },
    {
     "name": "stderr",
     "output_type": "stream",
     "text": [
      "labels: [4 0 3 6 0]\n",
      "pred_labels: [4 0 3 9 0]\n",
      "Epoch 23 - avg_train_loss: 0.6977  lr: 5.6498e-04  time: 13s\n",
      "Epoch 23 - Score: 0.6183\n"
     ]
    },
    {
     "name": "stdout",
     "output_type": "stream",
     "text": [
      "EVAL: [8/9] Data 0.005 (0.023) Elapsed 0m 0s (remain 0m 0s) \n",
      "Epoch: [24][0/40] Data 0.044 (0.044) Elapsed 0m 0s (remain 0m 11s) Loss: 1.0904(1.0904) Grad Norm: 6.1842  LR: 5.3373e-04  \n",
      "Epoch: [24][39/40] Data 0.040 (0.045) Elapsed 0m 12s (remain 0m 0s) Loss: 0.0053(0.6122) Grad Norm: 0.1701  LR: 5.3373e-04  \n",
      "EVAL: [0/9] Data 0.024 (0.024) Elapsed 0m 0s (remain 0m 0s) \n"
     ]
    },
    {
     "name": "stderr",
     "output_type": "stream",
     "text": [
      "labels: [4 0 3 6 0]\n",
      "pred_labels: [3 0 3 0 0]\n",
      "Epoch 24 - avg_train_loss: 0.6122  lr: 5.3373e-04  time: 13s\n",
      "Epoch 24 - Score: 0.6107\n"
     ]
    },
    {
     "name": "stdout",
     "output_type": "stream",
     "text": [
      "EVAL: [8/9] Data 0.005 (0.023) Elapsed 0m 0s (remain 0m 0s) \n",
      "Epoch: [25][0/40] Data 0.045 (0.045) Elapsed 0m 0s (remain 0m 11s) Loss: 0.8165(0.8165) Grad Norm: 3.6212  LR: 5.0236e-04  \n",
      "Epoch: [25][39/40] Data 0.042 (0.045) Elapsed 0m 12s (remain 0m 0s) Loss: 1.3703(0.6345) Grad Norm: 6.2502  LR: 5.0236e-04  \n",
      "EVAL: [0/9] Data 0.025 (0.025) Elapsed 0m 0s (remain 0m 0s) \n"
     ]
    },
    {
     "name": "stderr",
     "output_type": "stream",
     "text": [
      "labels: [4 0 3 6 0]\n",
      "pred_labels: [4 0 3 0 0]\n",
      "Epoch 25 - avg_train_loss: 0.6345  lr: 5.0236e-04  time: 13s\n",
      "Epoch 25 - Score: 0.6260\n"
     ]
    },
    {
     "name": "stdout",
     "output_type": "stream",
     "text": [
      "EVAL: [8/9] Data 0.005 (0.022) Elapsed 0m 0s (remain 0m 0s) \n",
      "Epoch: [26][0/40] Data 0.050 (0.050) Elapsed 0m 0s (remain 0m 12s) Loss: 0.0044(0.0044) Grad Norm: 0.3516  LR: 4.7099e-04  \n",
      "Epoch: [26][39/40] Data 0.045 (0.044) Elapsed 0m 12s (remain 0m 0s) Loss: 1.2563(0.4872) Grad Norm: 5.5752  LR: 4.7099e-04  \n",
      "EVAL: [0/9] Data 0.026 (0.026) Elapsed 0m 0s (remain 0m 0s) \n"
     ]
    },
    {
     "name": "stderr",
     "output_type": "stream",
     "text": [
      "labels: [4 0 3 6 0]\n",
      "pred_labels: [10  0  3  0  0]\n",
      "Epoch 26 - avg_train_loss: 0.4872  lr: 4.7099e-04  time: 13s\n",
      "Epoch 26 - Score: 0.6336\n"
     ]
    },
    {
     "name": "stdout",
     "output_type": "stream",
     "text": [
      "EVAL: [8/9] Data 0.005 (0.023) Elapsed 0m 0s (remain 0m 0s) \n",
      "Epoch: [27][0/40] Data 0.045 (0.045) Elapsed 0m 0s (remain 0m 11s) Loss: 1.0499(1.0499) Grad Norm: 4.8343  LR: 4.3974e-04  \n",
      "Epoch: [27][39/40] Data 0.042 (0.045) Elapsed 0m 12s (remain 0m 0s) Loss: 0.3699(0.5238) Grad Norm: 11.1808  LR: 4.3974e-04  \n",
      "EVAL: [0/9] Data 0.025 (0.025) Elapsed 0m 0s (remain 0m 0s) \n"
     ]
    },
    {
     "name": "stderr",
     "output_type": "stream",
     "text": [
      "labels: [4 0 3 6 0]\n",
      "pred_labels: [10  0  3  0  0]\n",
      "Epoch 27 - avg_train_loss: 0.5238  lr: 4.3974e-04  time: 13s\n",
      "Epoch 27 - Score: 0.6031\n"
     ]
    },
    {
     "name": "stdout",
     "output_type": "stream",
     "text": [
      "EVAL: [8/9] Data 0.005 (0.022) Elapsed 0m 0s (remain 0m 0s) \n",
      "Epoch: [28][0/40] Data 0.042 (0.042) Elapsed 0m 0s (remain 0m 11s) Loss: 0.0689(0.0689) Grad Norm: 9.9793  LR: 4.0874e-04  \n",
      "Epoch: [28][39/40] Data 0.046 (0.044) Elapsed 0m 11s (remain 0m 0s) Loss: 0.8929(0.6553) Grad Norm: 5.4237  LR: 4.0874e-04  \n",
      "EVAL: [0/9] Data 0.025 (0.025) Elapsed 0m 0s (remain 0m 0s) \n"
     ]
    },
    {
     "name": "stderr",
     "output_type": "stream",
     "text": [
      "labels: [4 0 3 6 0]\n",
      "pred_labels: [ 1  0  3 11  0]\n",
      "Epoch 28 - avg_train_loss: 0.6553  lr: 4.0874e-04  time: 13s\n",
      "Epoch 28 - Score: 0.6489\n",
      "Epoch 28 - Save Best Score: 0.6489 Model\n"
     ]
    },
    {
     "name": "stdout",
     "output_type": "stream",
     "text": [
      "EVAL: [8/9] Data 0.005 (0.022) Elapsed 0m 0s (remain 0m 0s) \n",
      "Epoch: [29][0/40] Data 0.048 (0.048) Elapsed 0m 0s (remain 0m 12s) Loss: 0.3971(0.3971) Grad Norm: 16.1555  LR: 3.7811e-04  \n",
      "Epoch: [29][39/40] Data 0.044 (0.043) Elapsed 0m 11s (remain 0m 0s) Loss: 1.1672(0.5589) Grad Norm: 5.6042  LR: 3.7811e-04  \n",
      "EVAL: [0/9] Data 0.024 (0.024) Elapsed 0m 0s (remain 0m 0s) \n"
     ]
    },
    {
     "name": "stderr",
     "output_type": "stream",
     "text": [
      "labels: [4 0 3 6 0]\n",
      "pred_labels: [3 0 3 7 0]\n",
      "Epoch 29 - avg_train_loss: 0.5589  lr: 3.7811e-04  time: 13s\n",
      "Epoch 29 - Score: 0.6412\n"
     ]
    },
    {
     "name": "stdout",
     "output_type": "stream",
     "text": [
      "EVAL: [8/9] Data 0.004 (0.022) Elapsed 0m 0s (remain 0m 0s) \n",
      "Epoch: [30][0/40] Data 0.045 (0.045) Elapsed 0m 0s (remain 0m 11s) Loss: 0.0177(0.0177) Grad Norm: 1.0508  LR: 3.4797e-04  \n",
      "Epoch: [30][39/40] Data 0.045 (0.045) Elapsed 0m 11s (remain 0m 0s) Loss: 1.0205(0.4960) Grad Norm: 6.6306  LR: 3.4797e-04  \n",
      "EVAL: [0/9] Data 0.024 (0.024) Elapsed 0m 0s (remain 0m 0s) \n"
     ]
    },
    {
     "name": "stderr",
     "output_type": "stream",
     "text": [
      "labels: [4 0 3 6 0]\n",
      "pred_labels: [ 1  0  3 11  0]\n",
      "Epoch 30 - avg_train_loss: 0.4960  lr: 3.4797e-04  time: 13s\n",
      "Epoch 30 - Score: 0.6031\n"
     ]
    },
    {
     "name": "stdout",
     "output_type": "stream",
     "text": [
      "EVAL: [8/9] Data 0.005 (0.022) Elapsed 0m 0s (remain 0m 0s) \n",
      "Epoch: [31][0/40] Data 0.045 (0.045) Elapsed 0m 0s (remain 0m 11s) Loss: 0.8425(0.8425) Grad Norm: 4.7626  LR: 3.1843e-04  \n",
      "Epoch: [31][39/40] Data 0.046 (0.043) Elapsed 0m 11s (remain 0m 0s) Loss: 1.0823(0.6072) Grad Norm: 8.8060  LR: 3.1843e-04  \n",
      "EVAL: [0/9] Data 0.023 (0.023) Elapsed 0m 0s (remain 0m 0s) \n"
     ]
    },
    {
     "name": "stderr",
     "output_type": "stream",
     "text": [
      "labels: [4 0 3 6 0]\n",
      "pred_labels: [ 1  0  3 11  0]\n",
      "Epoch 31 - avg_train_loss: 0.6072  lr: 3.1843e-04  time: 13s\n",
      "Epoch 31 - Score: 0.6031\n"
     ]
    },
    {
     "name": "stdout",
     "output_type": "stream",
     "text": [
      "EVAL: [8/9] Data 0.004 (0.022) Elapsed 0m 0s (remain 0m 0s) \n",
      "Epoch: [32][0/40] Data 0.052 (0.052) Elapsed 0m 0s (remain 0m 11s) Loss: 0.0109(0.0109) Grad Norm: 1.0852  LR: 2.8962e-04  \n",
      "Epoch: [32][39/40] Data 0.051 (0.046) Elapsed 0m 12s (remain 0m 0s) Loss: 0.0014(0.4612) Grad Norm: 0.0364  LR: 2.8962e-04  \n",
      "EVAL: [0/9] Data 0.026 (0.026) Elapsed 0m 0s (remain 0m 0s) \n"
     ]
    },
    {
     "name": "stderr",
     "output_type": "stream",
     "text": [
      "labels: [4 0 3 6 0]\n",
      "pred_labels: [ 4  0  3 11  0]\n",
      "Epoch 32 - avg_train_loss: 0.4612  lr: 2.8962e-04  time: 13s\n",
      "Epoch 32 - Score: 0.6031\n"
     ]
    },
    {
     "name": "stdout",
     "output_type": "stream",
     "text": [
      "EVAL: [8/9] Data 0.005 (0.023) Elapsed 0m 0s (remain 0m 0s) \n",
      "Epoch: [33][0/40] Data 0.050 (0.050) Elapsed 0m 0s (remain 0m 12s) Loss: 0.9454(0.9454) Grad Norm: 19.5981  LR: 2.6165e-04  \n",
      "Epoch: [33][39/40] Data 0.042 (0.045) Elapsed 0m 12s (remain 0m 0s) Loss: 1.0348(0.5292) Grad Norm: 7.1968  LR: 2.6165e-04  \n",
      "EVAL: [0/9] Data 0.023 (0.023) Elapsed 0m 0s (remain 0m 0s) \n"
     ]
    },
    {
     "name": "stderr",
     "output_type": "stream",
     "text": [
      "labels: [4 0 3 6 0]\n",
      "pred_labels: [ 4  0  3 11  0]\n",
      "Epoch 33 - avg_train_loss: 0.5292  lr: 2.6165e-04  time: 13s\n",
      "Epoch 33 - Score: 0.6336\n"
     ]
    },
    {
     "name": "stdout",
     "output_type": "stream",
     "text": [
      "EVAL: [8/9] Data 0.005 (0.022) Elapsed 0m 0s (remain 0m 0s) \n",
      "Epoch: [34][0/40] Data 0.040 (0.040) Elapsed 0m 0s (remain 0m 11s) Loss: 0.0081(0.0081) Grad Norm: 0.2564  LR: 2.3463e-04  \n",
      "Epoch: [34][39/40] Data 0.042 (0.044) Elapsed 0m 12s (remain 0m 0s) Loss: 0.0042(0.2843) Grad Norm: 0.3899  LR: 2.3463e-04  \n",
      "EVAL: [0/9] Data 0.024 (0.024) Elapsed 0m 0s (remain 0m 0s) \n"
     ]
    },
    {
     "name": "stderr",
     "output_type": "stream",
     "text": [
      "labels: [4 0 3 6 0]\n",
      "pred_labels: [3 0 3 0 0]\n",
      "Epoch 34 - avg_train_loss: 0.2843  lr: 2.3463e-04  time: 13s\n",
      "Epoch 34 - Score: 0.6336\n"
     ]
    },
    {
     "name": "stdout",
     "output_type": "stream",
     "text": [
      "EVAL: [8/9] Data 0.005 (0.022) Elapsed 0m 0s (remain 0m 0s) \n",
      "Epoch: [35][0/40] Data 0.042 (0.042) Elapsed 0m 0s (remain 0m 11s) Loss: 0.8466(0.8466) Grad Norm: 4.3976  LR: 2.0866e-04  \n",
      "Epoch: [35][39/40] Data 0.047 (0.045) Elapsed 0m 12s (remain 0m 0s) Loss: 0.0093(0.5951) Grad Norm: 0.6310  LR: 2.0866e-04  \n",
      "EVAL: [0/9] Data 0.024 (0.024) Elapsed 0m 0s (remain 0m 0s) \n"
     ]
    },
    {
     "name": "stderr",
     "output_type": "stream",
     "text": [
      "labels: [4 0 3 6 0]\n",
      "pred_labels: [ 4  0  3 11  0]\n",
      "Epoch 35 - avg_train_loss: 0.5951  lr: 2.0866e-04  time: 13s\n",
      "Epoch 35 - Score: 0.6718\n",
      "Epoch 35 - Save Best Score: 0.6718 Model\n"
     ]
    },
    {
     "name": "stdout",
     "output_type": "stream",
     "text": [
      "EVAL: [8/9] Data 0.005 (0.023) Elapsed 0m 0s (remain 0m 0s) \n",
      "Epoch: [36][0/40] Data 0.041 (0.041) Elapsed 0m 0s (remain 0m 12s) Loss: 0.0446(0.0446) Grad Norm: 3.0908  LR: 1.8385e-04  \n",
      "Epoch: [36][39/40] Data 0.044 (0.045) Elapsed 0m 12s (remain 0m 0s) Loss: 0.0020(0.3582) Grad Norm: 0.0605  LR: 1.8385e-04  \n",
      "EVAL: [0/9] Data 0.024 (0.024) Elapsed 0m 0s (remain 0m 0s) \n"
     ]
    },
    {
     "name": "stderr",
     "output_type": "stream",
     "text": [
      "labels: [4 0 3 6 0]\n",
      "pred_labels: [ 4  0  3 11  0]\n",
      "Epoch 36 - avg_train_loss: 0.3582  lr: 1.8385e-04  time: 13s\n",
      "Epoch 36 - Score: 0.6412\n"
     ]
    },
    {
     "name": "stdout",
     "output_type": "stream",
     "text": [
      "EVAL: [8/9] Data 0.004 (0.023) Elapsed 0m 0s (remain 0m 0s) \n",
      "Epoch: [37][0/40] Data 0.040 (0.040) Elapsed 0m 0s (remain 0m 11s) Loss: 0.0011(0.0011) Grad Norm: 0.0549  LR: 1.6030e-04  \n",
      "Epoch: [37][39/40] Data 0.042 (0.044) Elapsed 0m 12s (remain 0m 0s) Loss: 0.0012(0.4715) Grad Norm: 0.0854  LR: 1.6030e-04  \n",
      "EVAL: [0/9] Data 0.025 (0.025) Elapsed 0m 0s (remain 0m 0s) \n"
     ]
    },
    {
     "name": "stderr",
     "output_type": "stream",
     "text": [
      "labels: [4 0 3 6 0]\n",
      "pred_labels: [3 0 3 0 0]\n",
      "Epoch 37 - avg_train_loss: 0.4715  lr: 1.6030e-04  time: 13s\n",
      "Epoch 37 - Score: 0.6336\n"
     ]
    },
    {
     "name": "stdout",
     "output_type": "stream",
     "text": [
      "EVAL: [8/9] Data 0.004 (0.022) Elapsed 0m 0s (remain 0m 0s) \n",
      "Epoch: [38][0/40] Data 0.042 (0.042) Elapsed 0m 0s (remain 0m 11s) Loss: 0.0229(0.0229) Grad Norm: 4.2153  LR: 1.3809e-04  \n",
      "Epoch: [38][39/40] Data 0.049 (0.045) Elapsed 0m 11s (remain 0m 0s) Loss: 0.8613(0.4560) Grad Norm: 4.9980  LR: 1.3809e-04  \n",
      "EVAL: [0/9] Data 0.024 (0.024) Elapsed 0m 0s (remain 0m 0s) \n"
     ]
    },
    {
     "name": "stderr",
     "output_type": "stream",
     "text": [
      "labels: [4 0 3 6 0]\n",
      "pred_labels: [ 3  0  3 11  0]\n",
      "Epoch 38 - avg_train_loss: 0.4560  lr: 1.3809e-04  time: 13s\n",
      "Epoch 38 - Score: 0.6489\n"
     ]
    },
    {
     "name": "stdout",
     "output_type": "stream",
     "text": [
      "EVAL: [8/9] Data 0.005 (0.022) Elapsed 0m 0s (remain 0m 0s) \n",
      "Epoch: [39][0/40] Data 0.044 (0.044) Elapsed 0m 0s (remain 0m 11s) Loss: 1.1972(1.1972) Grad Norm: 6.0412  LR: 1.1732e-04  \n",
      "Epoch: [39][39/40] Data 0.048 (0.044) Elapsed 0m 12s (remain 0m 0s) Loss: 0.0086(0.3679) Grad Norm: 0.7392  LR: 1.1732e-04  \n",
      "EVAL: [0/9] Data 0.024 (0.024) Elapsed 0m 0s (remain 0m 0s) \n"
     ]
    },
    {
     "name": "stderr",
     "output_type": "stream",
     "text": [
      "labels: [4 0 3 6 0]\n",
      "pred_labels: [ 3  0  3 11  0]\n",
      "Epoch 39 - avg_train_loss: 0.3679  lr: 1.1732e-04  time: 13s\n",
      "Epoch 39 - Score: 0.6260\n"
     ]
    },
    {
     "name": "stdout",
     "output_type": "stream",
     "text": [
      "EVAL: [8/9] Data 0.005 (0.022) Elapsed 0m 0s (remain 0m 0s) \n",
      "Epoch: [40][0/40] Data 0.042 (0.042) Elapsed 0m 0s (remain 0m 11s) Loss: 0.0080(0.0080) Grad Norm: 0.3322  LR: 9.8058e-05  \n",
      "Epoch: [40][39/40] Data 0.043 (0.044) Elapsed 0m 11s (remain 0m 0s) Loss: 0.0008(0.4004) Grad Norm: 0.0364  LR: 9.8058e-05  \n",
      "EVAL: [0/9] Data 0.024 (0.024) Elapsed 0m 0s (remain 0m 0s) \n"
     ]
    },
    {
     "name": "stderr",
     "output_type": "stream",
     "text": [
      "labels: [4 0 3 6 0]\n",
      "pred_labels: [ 3  0  3 11  0]\n",
      "Epoch 40 - avg_train_loss: 0.4004  lr: 9.8058e-05  time: 13s\n",
      "Epoch 40 - Score: 0.6412\n"
     ]
    },
    {
     "name": "stdout",
     "output_type": "stream",
     "text": [
      "EVAL: [8/9] Data 0.004 (0.022) Elapsed 0m 0s (remain 0m 0s) \n",
      "Epoch: [41][0/40] Data 0.047 (0.047) Elapsed 0m 0s (remain 0m 11s) Loss: 0.0148(0.0148) Grad Norm: 2.6240  LR: 8.0390e-05  \n",
      "Epoch: [41][39/40] Data 0.040 (0.044) Elapsed 0m 11s (remain 0m 0s) Loss: 0.7230(0.5551) Grad Norm: 5.5294  LR: 8.0390e-05  \n",
      "EVAL: [0/9] Data 0.023 (0.023) Elapsed 0m 0s (remain 0m 0s) \n"
     ]
    },
    {
     "name": "stderr",
     "output_type": "stream",
     "text": [
      "labels: [4 0 3 6 0]\n",
      "pred_labels: [ 3  0  3 11  0]\n",
      "Epoch 41 - avg_train_loss: 0.5551  lr: 8.0390e-05  time: 13s\n",
      "Epoch 41 - Score: 0.6336\n"
     ]
    },
    {
     "name": "stdout",
     "output_type": "stream",
     "text": [
      "EVAL: [8/9] Data 0.005 (0.022) Elapsed 0m 0s (remain 0m 0s) \n",
      "Epoch: [42][0/40] Data 0.046 (0.046) Elapsed 0m 0s (remain 0m 11s) Loss: 0.9688(0.9688) Grad Norm: 5.6753  LR: 6.4381e-05  \n",
      "Epoch: [42][39/40] Data 0.051 (0.044) Elapsed 0m 12s (remain 0m 0s) Loss: 0.0064(0.3574) Grad Norm: 0.9095  LR: 6.4381e-05  \n",
      "EVAL: [0/9] Data 0.025 (0.025) Elapsed 0m 0s (remain 0m 0s) \n"
     ]
    },
    {
     "name": "stderr",
     "output_type": "stream",
     "text": [
      "labels: [4 0 3 6 0]\n",
      "pred_labels: [ 4  0  3 11  0]\n",
      "Epoch 42 - avg_train_loss: 0.3574  lr: 6.4381e-05  time: 13s\n",
      "Epoch 42 - Score: 0.6489\n"
     ]
    },
    {
     "name": "stdout",
     "output_type": "stream",
     "text": [
      "EVAL: [8/9] Data 0.004 (0.022) Elapsed 0m 0s (remain 0m 0s) \n",
      "Epoch: [43][0/40] Data 0.050 (0.050) Elapsed 0m 0s (remain 0m 11s) Loss: 0.0015(0.0015) Grad Norm: 0.0895  LR: 5.0093e-05  \n",
      "Epoch: [43][39/40] Data 0.044 (0.044) Elapsed 0m 12s (remain 0m 0s) Loss: 0.0027(0.4094) Grad Norm: 0.0976  LR: 5.0093e-05  \n",
      "EVAL: [0/9] Data 0.024 (0.024) Elapsed 0m 0s (remain 0m 0s) \n"
     ]
    },
    {
     "name": "stderr",
     "output_type": "stream",
     "text": [
      "labels: [4 0 3 6 0]\n",
      "pred_labels: [ 4  0  3 11  0]\n",
      "Epoch 43 - avg_train_loss: 0.4094  lr: 5.0093e-05  time: 13s\n",
      "Epoch 43 - Score: 0.6565\n"
     ]
    },
    {
     "name": "stdout",
     "output_type": "stream",
     "text": [
      "EVAL: [8/9] Data 0.005 (0.022) Elapsed 0m 0s (remain 0m 0s) \n",
      "Epoch: [44][0/40] Data 0.047 (0.047) Elapsed 0m 0s (remain 0m 11s) Loss: 0.8722(0.8722) Grad Norm: 5.4980  LR: 3.7578e-05  \n",
      "Epoch: [44][39/40] Data 0.045 (0.044) Elapsed 0m 11s (remain 0m 0s) Loss: 0.7239(0.4749) Grad Norm: 3.5985  LR: 3.7578e-05  \n",
      "EVAL: [0/9] Data 0.024 (0.024) Elapsed 0m 0s (remain 0m 0s) \n"
     ]
    },
    {
     "name": "stderr",
     "output_type": "stream",
     "text": [
      "labels: [4 0 3 6 0]\n",
      "pred_labels: [ 4  0  3 11  0]\n",
      "Epoch 44 - avg_train_loss: 0.4749  lr: 3.7578e-05  time: 13s\n",
      "Epoch 44 - Score: 0.6565\n"
     ]
    },
    {
     "name": "stdout",
     "output_type": "stream",
     "text": [
      "EVAL: [8/9] Data 0.005 (0.022) Elapsed 0m 0s (remain 0m 0s) \n",
      "Epoch: [45][0/40] Data 0.040 (0.040) Elapsed 0m 0s (remain 0m 11s) Loss: 0.7314(0.7314) Grad Norm: 2.8823  LR: 2.6881e-05  \n",
      "Epoch: [45][39/40] Data 0.045 (0.045) Elapsed 0m 11s (remain 0m 0s) Loss: 0.9116(0.4063) Grad Norm: 7.0352  LR: 2.6881e-05  \n",
      "EVAL: [0/9] Data 0.023 (0.023) Elapsed 0m 0s (remain 0m 0s) \n"
     ]
    },
    {
     "name": "stderr",
     "output_type": "stream",
     "text": [
      "labels: [4 0 3 6 0]\n",
      "pred_labels: [ 3  0  3 11  0]\n",
      "Epoch 45 - avg_train_loss: 0.4063  lr: 2.6881e-05  time: 13s\n",
      "Epoch 45 - Score: 0.6336\n"
     ]
    },
    {
     "name": "stdout",
     "output_type": "stream",
     "text": [
      "EVAL: [8/9] Data 0.004 (0.022) Elapsed 0m 0s (remain 0m 0s) \n",
      "Epoch: [46][0/40] Data 0.040 (0.040) Elapsed 0m 0s (remain 0m 11s) Loss: 0.0004(0.0004) Grad Norm: 0.0173  LR: 1.8039e-05  \n",
      "Epoch: [46][39/40] Data 0.043 (0.044) Elapsed 0m 11s (remain 0m 0s) Loss: 0.0743(0.0035) Grad Norm: 3.4136  LR: 1.8039e-05  \n",
      "EVAL: [0/9] Data 0.024 (0.024) Elapsed 0m 0s (remain 0m 0s) \n"
     ]
    },
    {
     "name": "stderr",
     "output_type": "stream",
     "text": [
      "labels: [4 0 3 6 0]\n",
      "pred_labels: [ 3  0  3 11  0]\n",
      "Epoch 46 - avg_train_loss: 0.0035  lr: 1.8039e-05  time: 13s\n",
      "Epoch 46 - Score: 0.6336\n"
     ]
    },
    {
     "name": "stdout",
     "output_type": "stream",
     "text": [
      "EVAL: [8/9] Data 0.004 (0.022) Elapsed 0m 0s (remain 0m 0s) \n",
      "Epoch: [47][0/40] Data 0.043 (0.043) Elapsed 0m 0s (remain 0m 11s) Loss: 0.0025(0.0025) Grad Norm: 0.0590  LR: 1.1073e-05  \n",
      "Epoch: [47][39/40] Data 0.043 (0.044) Elapsed 0m 11s (remain 0m 0s) Loss: 0.0011(0.0078) Grad Norm: 0.0335  LR: 1.1073e-05  \n",
      "EVAL: [0/9] Data 0.024 (0.024) Elapsed 0m 0s (remain 0m 0s) \n"
     ]
    },
    {
     "name": "stderr",
     "output_type": "stream",
     "text": [
      "labels: [4 0 3 6 0]\n",
      "pred_labels: [ 3  0  3 11  0]\n",
      "Epoch 47 - avg_train_loss: 0.0078  lr: 1.1073e-05  time: 13s\n",
      "Epoch 47 - Score: 0.6412\n"
     ]
    },
    {
     "name": "stdout",
     "output_type": "stream",
     "text": [
      "EVAL: [8/9] Data 0.005 (0.022) Elapsed 0m 0s (remain 0m 0s) \n",
      "Epoch: [48][0/40] Data 0.039 (0.039) Elapsed 0m 0s (remain 0m 11s) Loss: 0.0007(0.0007) Grad Norm: 0.0169  LR: 5.9882e-06  \n",
      "Epoch: [48][39/40] Data 0.043 (0.044) Elapsed 0m 12s (remain 0m 0s) Loss: 0.0004(0.0034) Grad Norm: 0.0139  LR: 5.9882e-06  \n",
      "EVAL: [0/9] Data 0.023 (0.023) Elapsed 0m 0s (remain 0m 0s) \n"
     ]
    },
    {
     "name": "stderr",
     "output_type": "stream",
     "text": [
      "labels: [4 0 3 6 0]\n",
      "pred_labels: [ 3  0  3 11  0]\n",
      "Epoch 48 - avg_train_loss: 0.0034  lr: 5.9882e-06  time: 13s\n",
      "Epoch 48 - Score: 0.6412\n"
     ]
    },
    {
     "name": "stdout",
     "output_type": "stream",
     "text": [
      "EVAL: [8/9] Data 0.005 (0.022) Elapsed 0m 0s (remain 0m 0s) \n",
      "Epoch: [49][0/40] Data 0.040 (0.040) Elapsed 0m 0s (remain 0m 11s) Loss: 0.0007(0.0007) Grad Norm: 0.0263  LR: 2.7534e-06  \n",
      "Epoch: [49][39/40] Data 0.050 (0.045) Elapsed 0m 12s (remain 0m 0s) Loss: 0.0006(0.0024) Grad Norm: 0.0321  LR: 2.7534e-06  \n",
      "EVAL: [0/9] Data 0.025 (0.025) Elapsed 0m 0s (remain 0m 0s) \n"
     ]
    },
    {
     "name": "stderr",
     "output_type": "stream",
     "text": [
      "labels: [4 0 3 6 0]\n",
      "pred_labels: [ 3  0  3 11  0]\n",
      "Epoch 49 - avg_train_loss: 0.0024  lr: 2.7534e-06  time: 13s\n",
      "Epoch 49 - Score: 0.6412\n"
     ]
    },
    {
     "name": "stdout",
     "output_type": "stream",
     "text": [
      "EVAL: [8/9] Data 0.005 (0.023) Elapsed 0m 0s (remain 0m 0s) \n",
      "Epoch: [50][0/40] Data 0.041 (0.041) Elapsed 0m 0s (remain 0m 11s) Loss: 0.0006(0.0006) Grad Norm: 0.0282  LR: 1.2467e-06  \n",
      "Epoch: [50][39/40] Data 0.048 (0.045) Elapsed 0m 11s (remain 0m 0s) Loss: 0.0003(0.0015) Grad Norm: 0.0095  LR: 1.2467e-06  \n",
      "EVAL: [0/9] Data 0.024 (0.024) Elapsed 0m 0s (remain 0m 0s) \n"
     ]
    },
    {
     "name": "stderr",
     "output_type": "stream",
     "text": [
      "labels: [4 0 3 6 0]\n",
      "pred_labels: [ 3  0  3 11  0]\n",
      "Epoch 50 - avg_train_loss: 0.0015  lr: 1.2467e-06  time: 13s\n",
      "Epoch 50 - Score: 0.6412\n",
      "==================== fold: 2, seed: 0 training ====================\n"
     ]
    },
    {
     "name": "stdout",
     "output_type": "stream",
     "text": [
      "EVAL: [8/9] Data 0.005 (0.022) Elapsed 0m 0s (remain 0m 0s) \n",
      "Epoch: [1][0/40] Data 0.046 (0.046) Elapsed 0m 0s (remain 0m 10s) Loss: 2.5588(2.5588) Grad Norm: nan  LR: 1.0000e-03  \n",
      "Epoch: [1][39/40] Data 0.044 (0.046) Elapsed 0m 12s (remain 0m 0s) Loss: 2.2124(2.5065) Grad Norm: 10.4344  LR: 1.0000e-03  \n",
      "EVAL: [0/9] Data 0.028 (0.028) Elapsed 0m 0s (remain 0m 0s) \n"
     ]
    },
    {
     "name": "stderr",
     "output_type": "stream",
     "text": [
      "labels: [ 5 12  2 11  8]\n",
      "pred_labels: [2 2 2 6 0]\n",
      "Epoch 1 - avg_train_loss: 2.5065  lr: 1.0000e-03  time: 13s\n",
      "Epoch 1 - Score: 0.2977\n",
      "Epoch 1 - Save Best Score: 0.2977 Model\n"
     ]
    },
    {
     "name": "stdout",
     "output_type": "stream",
     "text": [
      "EVAL: [8/9] Data 0.005 (0.022) Elapsed 0m 0s (remain 0m 0s) \n",
      "Epoch: [2][0/40] Data 0.042 (0.042) Elapsed 0m 0s (remain 0m 12s) Loss: 2.3846(2.3846) Grad Norm: 21.8504  LR: 9.9803e-04  \n",
      "Epoch: [2][39/40] Data 0.047 (0.048) Elapsed 0m 12s (remain 0m 0s) Loss: 1.2162(2.1825) Grad Norm: 12.1559  LR: 9.9803e-04  \n",
      "EVAL: [0/9] Data 0.026 (0.026) Elapsed 0m 0s (remain 0m 0s) \n"
     ]
    },
    {
     "name": "stderr",
     "output_type": "stream",
     "text": [
      "labels: [ 5 12  2 11  8]\n",
      "pred_labels: [ 5  9  2 11  8]\n",
      "Epoch 2 - avg_train_loss: 2.1825  lr: 9.9803e-04  time: 13s\n",
      "Epoch 2 - Score: 0.5191\n",
      "Epoch 2 - Save Best Score: 0.5191 Model\n"
     ]
    },
    {
     "name": "stdout",
     "output_type": "stream",
     "text": [
      "EVAL: [8/9] Data 0.006 (0.024) Elapsed 0m 0s (remain 0m 0s) \n",
      "Epoch: [3][0/40] Data 0.041 (0.041) Elapsed 0m 0s (remain 0m 11s) Loss: 1.3764(1.3764) Grad Norm: 10.1230  LR: 9.9312e-04  \n",
      "Epoch: [3][39/40] Data 0.048 (0.044) Elapsed 0m 12s (remain 0m 0s) Loss: 1.1922(1.7441) Grad Norm: 10.7742  LR: 9.9312e-04  \n",
      "EVAL: [0/9] Data 0.025 (0.025) Elapsed 0m 0s (remain 0m 0s) \n"
     ]
    },
    {
     "name": "stderr",
     "output_type": "stream",
     "text": [
      "labels: [ 5 12  2 11  8]\n",
      "pred_labels: [ 5  9  2 11  8]\n",
      "Epoch 3 - avg_train_loss: 1.7441  lr: 9.9312e-04  time: 13s\n",
      "Epoch 3 - Score: 0.5649\n",
      "Epoch 3 - Save Best Score: 0.5649 Model\n"
     ]
    },
    {
     "name": "stdout",
     "output_type": "stream",
     "text": [
      "EVAL: [8/9] Data 0.005 (0.022) Elapsed 0m 0s (remain 0m 0s) \n",
      "Epoch: [4][0/40] Data 0.043 (0.043) Elapsed 0m 0s (remain 0m 12s) Loss: 1.7658(1.7658) Grad Norm: 10.6242  LR: 9.8627e-04  \n",
      "Epoch: [4][39/40] Data 0.042 (0.044) Elapsed 0m 12s (remain 0m 0s) Loss: 0.9971(1.5682) Grad Norm: 15.2384  LR: 9.8627e-04  \n",
      "EVAL: [0/9] Data 0.024 (0.024) Elapsed 0m 0s (remain 0m 0s) \n"
     ]
    },
    {
     "name": "stderr",
     "output_type": "stream",
     "text": [
      "labels: [ 5 12  2 11  8]\n",
      "pred_labels: [ 5  9  2 11  8]\n",
      "Epoch 4 - avg_train_loss: 1.5682  lr: 9.8627e-04  time: 13s\n",
      "Epoch 4 - Score: 0.4809\n"
     ]
    },
    {
     "name": "stdout",
     "output_type": "stream",
     "text": [
      "EVAL: [8/9] Data 0.005 (0.022) Elapsed 0m 0s (remain 0m 0s) \n",
      "Epoch: [5][0/40] Data 0.044 (0.044) Elapsed 0m 0s (remain 0m 11s) Loss: 0.6263(0.6263) Grad Norm: 12.7604  LR: 9.7751e-04  \n",
      "Epoch: [5][39/40] Data 0.049 (0.044) Elapsed 0m 11s (remain 0m 0s) Loss: 1.8498(1.4568) Grad Norm: 11.4948  LR: 9.7751e-04  \n",
      "EVAL: [0/9] Data 0.024 (0.024) Elapsed 0m 0s (remain 0m 0s) \n"
     ]
    },
    {
     "name": "stderr",
     "output_type": "stream",
     "text": [
      "labels: [ 5 12  2 11  8]\n",
      "pred_labels: [ 5 12  2 11  8]\n",
      "Epoch 5 - avg_train_loss: 1.4568  lr: 9.7751e-04  time: 13s\n",
      "Epoch 5 - Score: 0.5649\n"
     ]
    },
    {
     "name": "stdout",
     "output_type": "stream",
     "text": [
      "EVAL: [8/9] Data 0.005 (0.022) Elapsed 0m 0s (remain 0m 0s) \n",
      "Epoch: [6][0/40] Data 0.048 (0.048) Elapsed 0m 0s (remain 0m 11s) Loss: 0.7822(0.7822) Grad Norm: 14.0667  LR: 9.6688e-04  \n",
      "Epoch: [6][39/40] Data 0.042 (0.043) Elapsed 0m 11s (remain 0m 0s) Loss: 1.7268(1.3684) Grad Norm: 6.9367  LR: 9.6688e-04  \n",
      "EVAL: [0/9] Data 0.025 (0.025) Elapsed 0m 0s (remain 0m 0s) \n"
     ]
    },
    {
     "name": "stderr",
     "output_type": "stream",
     "text": [
      "labels: [ 5 12  2 11  8]\n",
      "pred_labels: [ 5  2  2 11  8]\n",
      "Epoch 6 - avg_train_loss: 1.3684  lr: 9.6688e-04  time: 13s\n",
      "Epoch 6 - Score: 0.5878\n",
      "Epoch 6 - Save Best Score: 0.5878 Model\n"
     ]
    },
    {
     "name": "stdout",
     "output_type": "stream",
     "text": [
      "EVAL: [8/9] Data 0.005 (0.022) Elapsed 0m 0s (remain 0m 0s) \n",
      "Epoch: [7][0/40] Data 0.044 (0.044) Elapsed 0m 0s (remain 0m 12s) Loss: 1.7518(1.7518) Grad Norm: 9.3829  LR: 9.5441e-04  \n",
      "Epoch: [7][39/40] Data 0.048 (0.045) Elapsed 0m 12s (remain 0m 0s) Loss: 0.6728(1.0821) Grad Norm: 11.3850  LR: 9.5441e-04  \n",
      "EVAL: [0/9] Data 0.024 (0.024) Elapsed 0m 0s (remain 0m 0s) \n"
     ]
    },
    {
     "name": "stderr",
     "output_type": "stream",
     "text": [
      "labels: [ 5 12  2 11  8]\n",
      "pred_labels: [ 5 12  2 11  8]\n",
      "Epoch 7 - avg_train_loss: 1.0821  lr: 9.5441e-04  time: 13s\n",
      "Epoch 7 - Score: 0.6260\n",
      "Epoch 7 - Save Best Score: 0.6260 Model\n"
     ]
    },
    {
     "name": "stdout",
     "output_type": "stream",
     "text": [
      "EVAL: [8/9] Data 0.005 (0.029) Elapsed 0m 0s (remain 0m 0s) \n",
      "Epoch: [8][0/40] Data 0.038 (0.038) Elapsed 0m 0s (remain 0m 12s) Loss: 0.3796(0.3796) Grad Norm: 8.1689  LR: 9.4016e-04  \n",
      "Epoch: [8][39/40] Data 0.049 (0.046) Elapsed 0m 12s (remain 0m 0s) Loss: 1.4792(1.1487) Grad Norm: 8.8615  LR: 9.4016e-04  \n",
      "EVAL: [0/9] Data 0.024 (0.024) Elapsed 0m 0s (remain 0m 0s) \n"
     ]
    },
    {
     "name": "stderr",
     "output_type": "stream",
     "text": [
      "labels: [ 5 12  2 11  8]\n",
      "pred_labels: [ 5  9  2 11  8]\n",
      "Epoch 8 - avg_train_loss: 1.1487  lr: 9.4016e-04  time: 13s\n",
      "Epoch 8 - Score: 0.5649\n"
     ]
    },
    {
     "name": "stdout",
     "output_type": "stream",
     "text": [
      "EVAL: [8/9] Data 0.005 (0.022) Elapsed 0m 0s (remain 0m 0s) \n",
      "Epoch: [9][0/40] Data 0.042 (0.042) Elapsed 0m 0s (remain 0m 11s) Loss: 0.2421(0.2421) Grad Norm: 6.4494  LR: 9.2418e-04  \n",
      "Epoch: [9][39/40] Data 0.046 (0.044) Elapsed 0m 12s (remain 0m 0s) Loss: 1.5684(1.0959) Grad Norm: 9.0503  LR: 9.2418e-04  \n",
      "EVAL: [0/9] Data 0.024 (0.024) Elapsed 0m 0s (remain 0m 0s) \n"
     ]
    },
    {
     "name": "stderr",
     "output_type": "stream",
     "text": [
      "labels: [ 5 12  2 11  8]\n",
      "pred_labels: [ 2  8  2 11  8]\n",
      "Epoch 9 - avg_train_loss: 1.0959  lr: 9.2418e-04  time: 13s\n",
      "Epoch 9 - Score: 0.6412\n",
      "Epoch 9 - Save Best Score: 0.6412 Model\n"
     ]
    },
    {
     "name": "stdout",
     "output_type": "stream",
     "text": [
      "EVAL: [8/9] Data 0.005 (0.022) Elapsed 0m 0s (remain 0m 0s) \n",
      "Epoch: [10][0/40] Data 0.043 (0.043) Elapsed 0m 0s (remain 0m 12s) Loss: 0.5836(0.5836) Grad Norm: 15.0795  LR: 9.0654e-04  \n",
      "Epoch: [10][39/40] Data 0.046 (0.044) Elapsed 0m 12s (remain 0m 0s) Loss: 0.3983(0.9721) Grad Norm: 7.1469  LR: 9.0654e-04  \n",
      "EVAL: [0/9] Data 0.024 (0.024) Elapsed 0m 0s (remain 0m 0s) \n"
     ]
    },
    {
     "name": "stderr",
     "output_type": "stream",
     "text": [
      "labels: [ 5 12  2 11  8]\n",
      "pred_labels: [ 5 12  2 11  8]\n",
      "Epoch 10 - avg_train_loss: 0.9721  lr: 9.0654e-04  time: 13s\n",
      "Epoch 10 - Score: 0.6947\n",
      "Epoch 10 - Save Best Score: 0.6947 Model\n"
     ]
    },
    {
     "name": "stdout",
     "output_type": "stream",
     "text": [
      "EVAL: [8/9] Data 0.005 (0.022) Elapsed 0m 0s (remain 0m 0s) \n",
      "Epoch: [11][0/40] Data 0.042 (0.042) Elapsed 0m 0s (remain 0m 12s) Loss: 0.0639(0.0639) Grad Norm: 3.4689  LR: 8.8730e-04  \n",
      "Epoch: [11][39/40] Data 0.043 (0.044) Elapsed 0m 11s (remain 0m 0s) Loss: 1.9051(1.1461) Grad Norm: 9.6777  LR: 8.8730e-04  \n",
      "EVAL: [0/9] Data 0.024 (0.024) Elapsed 0m 0s (remain 0m 0s) \n"
     ]
    },
    {
     "name": "stderr",
     "output_type": "stream",
     "text": [
      "labels: [ 5 12  2 11  8]\n",
      "pred_labels: [ 2  9  2 11  8]\n",
      "Epoch 11 - avg_train_loss: 1.1461  lr: 8.8730e-04  time: 13s\n",
      "Epoch 11 - Score: 0.6641\n"
     ]
    },
    {
     "name": "stdout",
     "output_type": "stream",
     "text": [
      "EVAL: [8/9] Data 0.005 (0.022) Elapsed 0m 0s (remain 0m 0s) \n",
      "Epoch: [12][0/40] Data 0.049 (0.049) Elapsed 0m 0s (remain 0m 11s) Loss: 1.0554(1.0554) Grad Norm: 6.0807  LR: 8.6655e-04  \n",
      "Epoch: [12][39/40] Data 0.039 (0.044) Elapsed 0m 12s (remain 0m 0s) Loss: 0.3078(1.0668) Grad Norm: 10.1221  LR: 8.6655e-04  \n",
      "EVAL: [0/9] Data 0.024 (0.024) Elapsed 0m 0s (remain 0m 0s) \n"
     ]
    },
    {
     "name": "stderr",
     "output_type": "stream",
     "text": [
      "labels: [ 5 12  2 11  8]\n",
      "pred_labels: [ 5 10  2 11  8]\n",
      "Epoch 12 - avg_train_loss: 1.0668  lr: 8.6655e-04  time: 13s\n",
      "Epoch 12 - Score: 0.5725\n"
     ]
    },
    {
     "name": "stdout",
     "output_type": "stream",
     "text": [
      "EVAL: [8/9] Data 0.005 (0.022) Elapsed 0m 0s (remain 0m 0s) \n",
      "Epoch: [13][0/40] Data 0.044 (0.044) Elapsed 0m 0s (remain 0m 11s) Loss: 1.3784(1.3784) Grad Norm: 4.8080  LR: 8.4436e-04  \n",
      "Epoch: [13][39/40] Data 0.042 (0.044) Elapsed 0m 12s (remain 0m 0s) Loss: 0.2125(1.0584) Grad Norm: 4.1388  LR: 8.4436e-04  \n",
      "EVAL: [0/9] Data 0.025 (0.025) Elapsed 0m 0s (remain 0m 0s) \n"
     ]
    },
    {
     "name": "stderr",
     "output_type": "stream",
     "text": [
      "labels: [ 5 12  2 11  8]\n",
      "pred_labels: [ 5 12  2 11  8]\n",
      "Epoch 13 - avg_train_loss: 1.0584  lr: 8.4436e-04  time: 13s\n",
      "Epoch 13 - Score: 0.6107\n"
     ]
    },
    {
     "name": "stdout",
     "output_type": "stream",
     "text": [
      "EVAL: [8/9] Data 0.005 (0.022) Elapsed 0m 0s (remain 0m 0s) \n",
      "Epoch: [14][0/40] Data 0.042 (0.042) Elapsed 0m 0s (remain 0m 11s) Loss: 0.8433(0.8433) Grad Norm: 4.2873  LR: 8.2081e-04  \n",
      "Epoch: [14][39/40] Data 0.050 (0.044) Elapsed 0m 12s (remain 0m 0s) Loss: 1.8165(1.0977) Grad Norm: 8.2712  LR: 8.2081e-04  \n",
      "EVAL: [0/9] Data 0.024 (0.024) Elapsed 0m 0s (remain 0m 0s) \n"
     ]
    },
    {
     "name": "stderr",
     "output_type": "stream",
     "text": [
      "labels: [ 5 12  2 11  8]\n",
      "pred_labels: [ 5 12  2  8  8]\n",
      "Epoch 14 - avg_train_loss: 1.0977  lr: 8.2081e-04  time: 13s\n",
      "Epoch 14 - Score: 0.6183\n"
     ]
    },
    {
     "name": "stdout",
     "output_type": "stream",
     "text": [
      "EVAL: [8/9] Data 0.004 (0.022) Elapsed 0m 0s (remain 0m 0s) \n",
      "Epoch: [15][0/40] Data 0.046 (0.046) Elapsed 0m 0s (remain 0m 11s) Loss: 1.3987(1.3987) Grad Norm: 8.1094  LR: 7.9601e-04  \n",
      "Epoch: [15][39/40] Data 0.046 (0.044) Elapsed 0m 12s (remain 0m 0s) Loss: 0.2922(0.9518) Grad Norm: 19.6448  LR: 7.9601e-04  \n",
      "EVAL: [0/9] Data 0.024 (0.024) Elapsed 0m 0s (remain 0m 0s) \n"
     ]
    },
    {
     "name": "stderr",
     "output_type": "stream",
     "text": [
      "labels: [ 5 12  2 11  8]\n",
      "pred_labels: [ 5 12  2  6  8]\n",
      "Epoch 15 - avg_train_loss: 0.9518  lr: 7.9601e-04  time: 13s\n",
      "Epoch 15 - Score: 0.6031\n"
     ]
    },
    {
     "name": "stdout",
     "output_type": "stream",
     "text": [
      "EVAL: [8/9] Data 0.004 (0.022) Elapsed 0m 0s (remain 0m 0s) \n",
      "Epoch: [16][0/40] Data 0.047 (0.047) Elapsed 0m 0s (remain 0m 11s) Loss: 1.1439(1.1439) Grad Norm: 7.8001  LR: 7.7006e-04  \n",
      "Epoch: [16][39/40] Data 0.041 (0.045) Elapsed 0m 12s (remain 0m 0s) Loss: 0.2335(0.8897) Grad Norm: 6.6253  LR: 7.7006e-04  \n",
      "EVAL: [0/9] Data 0.026 (0.026) Elapsed 0m 0s (remain 0m 0s) \n"
     ]
    },
    {
     "name": "stderr",
     "output_type": "stream",
     "text": [
      "labels: [ 5 12  2 11  8]\n",
      "pred_labels: [ 3 12  2 11  8]\n",
      "Epoch 16 - avg_train_loss: 0.8897  lr: 7.7006e-04  time: 13s\n",
      "Epoch 16 - Score: 0.6947\n"
     ]
    },
    {
     "name": "stdout",
     "output_type": "stream",
     "text": [
      "EVAL: [8/9] Data 0.005 (0.022) Elapsed 0m 0s (remain 0m 0s) \n",
      "Epoch: [17][0/40] Data 0.043 (0.043) Elapsed 0m 0s (remain 0m 11s) Loss: 0.4603(0.4603) Grad Norm: 8.9187  LR: 7.4304e-04  \n",
      "Epoch: [17][39/40] Data 0.042 (0.044) Elapsed 0m 12s (remain 0m 0s) Loss: 1.4665(0.8807) Grad Norm: 5.5720  LR: 7.4304e-04  \n",
      "EVAL: [0/9] Data 0.024 (0.024) Elapsed 0m 0s (remain 0m 0s) \n"
     ]
    },
    {
     "name": "stderr",
     "output_type": "stream",
     "text": [
      "labels: [ 5 12  2 11  8]\n",
      "pred_labels: [ 3 12  2  8  8]\n",
      "Epoch 17 - avg_train_loss: 0.8807  lr: 7.4304e-04  time: 13s\n",
      "Epoch 17 - Score: 0.6947\n"
     ]
    },
    {
     "name": "stdout",
     "output_type": "stream",
     "text": [
      "EVAL: [8/9] Data 0.005 (0.022) Elapsed 0m 0s (remain 0m 0s) \n",
      "Epoch: [18][0/40] Data 0.046 (0.046) Elapsed 0m 0s (remain 0m 11s) Loss: 1.2452(1.2452) Grad Norm: 7.1146  LR: 7.1508e-04  \n",
      "Epoch: [18][39/40] Data 0.044 (0.045) Elapsed 0m 12s (remain 0m 0s) Loss: 0.1687(0.8381) Grad Norm: 2.9660  LR: 7.1508e-04  \n",
      "EVAL: [0/9] Data 0.025 (0.025) Elapsed 0m 0s (remain 0m 0s) \n"
     ]
    },
    {
     "name": "stderr",
     "output_type": "stream",
     "text": [
      "labels: [ 5 12  2 11  8]\n",
      "pred_labels: [ 5 12  2 11  8]\n",
      "Epoch 18 - avg_train_loss: 0.8381  lr: 7.1508e-04  time: 13s\n",
      "Epoch 18 - Score: 0.6565\n"
     ]
    },
    {
     "name": "stdout",
     "output_type": "stream",
     "text": [
      "EVAL: [8/9] Data 0.005 (0.022) Elapsed 0m 0s (remain 0m 0s) \n",
      "Epoch: [19][0/40] Data 0.039 (0.039) Elapsed 0m 0s (remain 0m 11s) Loss: 1.5475(1.5475) Grad Norm: 5.3158  LR: 6.8627e-04  \n",
      "Epoch: [19][39/40] Data 0.040 (0.044) Elapsed 0m 11s (remain 0m 0s) Loss: 0.4173(0.9235) Grad Norm: 12.8991  LR: 6.8627e-04  \n",
      "EVAL: [0/9] Data 0.024 (0.024) Elapsed 0m 0s (remain 0m 0s) \n"
     ]
    },
    {
     "name": "stderr",
     "output_type": "stream",
     "text": [
      "labels: [ 5 12  2 11  8]\n",
      "pred_labels: [ 5 12  2 11  8]\n",
      "Epoch 19 - avg_train_loss: 0.9235  lr: 6.8627e-04  time: 13s\n",
      "Epoch 19 - Score: 0.6870\n"
     ]
    },
    {
     "name": "stdout",
     "output_type": "stream",
     "text": [
      "EVAL: [8/9] Data 0.005 (0.022) Elapsed 0m 0s (remain 0m 0s) \n",
      "Epoch: [20][0/40] Data 0.044 (0.044) Elapsed 0m 0s (remain 0m 11s) Loss: 1.0767(1.0767) Grad Norm: 5.0086  LR: 6.5674e-04  \n",
      "Epoch: [20][39/40] Data 0.048 (0.044) Elapsed 0m 12s (remain 0m 0s) Loss: 0.1654(0.6585) Grad Norm: 6.9256  LR: 6.5674e-04  \n",
      "EVAL: [0/9] Data 0.024 (0.024) Elapsed 0m 0s (remain 0m 0s) \n"
     ]
    },
    {
     "name": "stderr",
     "output_type": "stream",
     "text": [
      "labels: [ 5 12  2 11  8]\n",
      "pred_labels: [ 5 12  2 11  8]\n",
      "Epoch 20 - avg_train_loss: 0.6585  lr: 6.5674e-04  time: 13s\n",
      "Epoch 20 - Score: 0.6794\n"
     ]
    },
    {
     "name": "stdout",
     "output_type": "stream",
     "text": [
      "EVAL: [8/9] Data 0.005 (0.022) Elapsed 0m 0s (remain 0m 0s) \n",
      "Epoch: [21][0/40] Data 0.045 (0.045) Elapsed 0m 0s (remain 0m 11s) Loss: 1.0641(1.0641) Grad Norm: 4.8272  LR: 6.2661e-04  \n",
      "Epoch: [21][39/40] Data 0.039 (0.043) Elapsed 0m 11s (remain 0m 0s) Loss: 0.0732(0.8849) Grad Norm: 5.0525  LR: 6.2661e-04  \n",
      "EVAL: [0/9] Data 0.025 (0.025) Elapsed 0m 0s (remain 0m 0s) \n"
     ]
    },
    {
     "name": "stderr",
     "output_type": "stream",
     "text": [
      "labels: [ 5 12  2 11  8]\n",
      "pred_labels: [ 5 10  2 11  8]\n",
      "Epoch 21 - avg_train_loss: 0.8849  lr: 6.2661e-04  time: 13s\n",
      "Epoch 21 - Score: 0.6260\n"
     ]
    },
    {
     "name": "stdout",
     "output_type": "stream",
     "text": [
      "EVAL: [8/9] Data 0.005 (0.022) Elapsed 0m 0s (remain 0m 0s) \n",
      "Epoch: [22][0/40] Data 0.042 (0.042) Elapsed 0m 0s (remain 0m 11s) Loss: 1.4267(1.4267) Grad Norm: 8.9169  LR: 5.9598e-04  \n",
      "Epoch: [22][39/40] Data 0.037 (0.045) Elapsed 0m 12s (remain 0m 0s) Loss: 0.0163(0.7103) Grad Norm: 0.8296  LR: 5.9598e-04  \n",
      "EVAL: [0/9] Data 0.024 (0.024) Elapsed 0m 0s (remain 0m 0s) \n"
     ]
    },
    {
     "name": "stderr",
     "output_type": "stream",
     "text": [
      "labels: [ 5 12  2 11  8]\n",
      "pred_labels: [ 5 10  2 11  8]\n",
      "Epoch 22 - avg_train_loss: 0.7103  lr: 5.9598e-04  time: 13s\n",
      "Epoch 22 - Score: 0.6565\n"
     ]
    },
    {
     "name": "stdout",
     "output_type": "stream",
     "text": [
      "EVAL: [8/9] Data 0.004 (0.022) Elapsed 0m 0s (remain 0m 0s) \n",
      "Epoch: [23][0/40] Data 0.041 (0.041) Elapsed 0m 0s (remain 0m 11s) Loss: 1.1974(1.1974) Grad Norm: 6.6455  LR: 5.6498e-04  \n",
      "Epoch: [23][39/40] Data 0.046 (0.044) Elapsed 0m 12s (remain 0m 0s) Loss: 0.2011(0.7081) Grad Norm: 8.4955  LR: 5.6498e-04  \n",
      "EVAL: [0/9] Data 0.025 (0.025) Elapsed 0m 0s (remain 0m 0s) \n"
     ]
    },
    {
     "name": "stderr",
     "output_type": "stream",
     "text": [
      "labels: [ 5 12  2 11  8]\n",
      "pred_labels: [ 5 12  2 11  8]\n",
      "Epoch 23 - avg_train_loss: 0.7081  lr: 5.6498e-04  time: 13s\n",
      "Epoch 23 - Score: 0.5954\n"
     ]
    },
    {
     "name": "stdout",
     "output_type": "stream",
     "text": [
      "EVAL: [8/9] Data 0.004 (0.022) Elapsed 0m 0s (remain 0m 0s) \n",
      "Epoch: [24][0/40] Data 0.042 (0.042) Elapsed 0m 0s (remain 0m 11s) Loss: 0.0443(0.0443) Grad Norm: 2.3387  LR: 5.3373e-04  \n",
      "Epoch: [24][39/40] Data 0.044 (0.044) Elapsed 0m 12s (remain 0m 0s) Loss: 0.0458(0.5709) Grad Norm: 3.0094  LR: 5.3373e-04  \n",
      "EVAL: [0/9] Data 0.026 (0.026) Elapsed 0m 0s (remain 0m 0s) \n"
     ]
    },
    {
     "name": "stderr",
     "output_type": "stream",
     "text": [
      "labels: [ 5 12  2 11  8]\n",
      "pred_labels: [ 5 12  2  8  8]\n",
      "Epoch 24 - avg_train_loss: 0.5709  lr: 5.3373e-04  time: 13s\n",
      "Epoch 24 - Score: 0.6412\n"
     ]
    },
    {
     "name": "stdout",
     "output_type": "stream",
     "text": [
      "EVAL: [8/9] Data 0.005 (0.023) Elapsed 0m 0s (remain 0m 0s) \n",
      "Epoch: [25][0/40] Data 0.046 (0.046) Elapsed 0m 0s (remain 0m 11s) Loss: 1.3951(1.3951) Grad Norm: 7.1085  LR: 5.0236e-04  \n",
      "Epoch: [25][39/40] Data 0.043 (0.045) Elapsed 0m 11s (remain 0m 0s) Loss: 0.8834(0.4550) Grad Norm: 6.0457  LR: 5.0236e-04  \n",
      "EVAL: [0/9] Data 0.025 (0.025) Elapsed 0m 0s (remain 0m 0s) \n"
     ]
    },
    {
     "name": "stderr",
     "output_type": "stream",
     "text": [
      "labels: [ 5 12  2 11  8]\n",
      "pred_labels: [ 5 12  2 11  8]\n",
      "Epoch 25 - avg_train_loss: 0.4550  lr: 5.0236e-04  time: 13s\n",
      "Epoch 25 - Score: 0.6412\n"
     ]
    },
    {
     "name": "stdout",
     "output_type": "stream",
     "text": [
      "EVAL: [8/9] Data 0.005 (0.022) Elapsed 0m 0s (remain 0m 0s) \n",
      "Epoch: [26][0/40] Data 0.049 (0.049) Elapsed 0m 0s (remain 0m 11s) Loss: 0.0061(0.0061) Grad Norm: 0.1925  LR: 4.7099e-04  \n",
      "Epoch: [26][39/40] Data 0.048 (0.043) Elapsed 0m 11s (remain 0m 0s) Loss: 0.1017(0.5872) Grad Norm: 6.0379  LR: 4.7099e-04  \n",
      "EVAL: [0/9] Data 0.024 (0.024) Elapsed 0m 0s (remain 0m 0s) \n"
     ]
    },
    {
     "name": "stderr",
     "output_type": "stream",
     "text": [
      "labels: [ 5 12  2 11  8]\n",
      "pred_labels: [ 5 12  2 11  8]\n",
      "Epoch 26 - avg_train_loss: 0.5872  lr: 4.7099e-04  time: 13s\n",
      "Epoch 26 - Score: 0.6794\n"
     ]
    },
    {
     "name": "stdout",
     "output_type": "stream",
     "text": [
      "EVAL: [8/9] Data 0.005 (0.022) Elapsed 0m 0s (remain 0m 0s) \n",
      "Epoch: [27][0/40] Data 0.041 (0.041) Elapsed 0m 0s (remain 0m 11s) Loss: 0.0162(0.0162) Grad Norm: 1.3127  LR: 4.3974e-04  \n",
      "Epoch: [27][39/40] Data 0.040 (0.044) Elapsed 0m 11s (remain 0m 0s) Loss: 0.7518(0.6279) Grad Norm: 3.8685  LR: 4.3974e-04  \n",
      "EVAL: [0/9] Data 0.025 (0.025) Elapsed 0m 0s (remain 0m 0s) \n"
     ]
    },
    {
     "name": "stderr",
     "output_type": "stream",
     "text": [
      "labels: [ 5 12  2 11  8]\n",
      "pred_labels: [ 5  9  2 11  8]\n",
      "Epoch 27 - avg_train_loss: 0.6279  lr: 4.3974e-04  time: 13s\n",
      "Epoch 27 - Score: 0.6336\n"
     ]
    },
    {
     "name": "stdout",
     "output_type": "stream",
     "text": [
      "EVAL: [8/9] Data 0.005 (0.023) Elapsed 0m 0s (remain 0m 0s) \n",
      "Epoch: [28][0/40] Data 0.042 (0.042) Elapsed 0m 0s (remain 0m 11s) Loss: 1.1844(1.1844) Grad Norm: 5.9328  LR: 4.0874e-04  \n",
      "Epoch: [28][39/40] Data 0.041 (0.043) Elapsed 0m 11s (remain 0m 0s) Loss: 0.9158(0.6663) Grad Norm: 6.5999  LR: 4.0874e-04  \n",
      "EVAL: [0/9] Data 0.024 (0.024) Elapsed 0m 0s (remain 0m 0s) \n"
     ]
    },
    {
     "name": "stderr",
     "output_type": "stream",
     "text": [
      "labels: [ 5 12  2 11  8]\n",
      "pred_labels: [ 5 12  2 10  8]\n",
      "Epoch 28 - avg_train_loss: 0.6663  lr: 4.0874e-04  time: 13s\n",
      "Epoch 28 - Score: 0.6412\n"
     ]
    },
    {
     "name": "stdout",
     "output_type": "stream",
     "text": [
      "EVAL: [8/9] Data 0.005 (0.022) Elapsed 0m 0s (remain 0m 0s) \n",
      "Epoch: [29][0/40] Data 0.043 (0.043) Elapsed 0m 0s (remain 0m 11s) Loss: 0.9760(0.9760) Grad Norm: 5.4786  LR: 3.7811e-04  \n",
      "Epoch: [29][39/40] Data 0.047 (0.045) Elapsed 0m 11s (remain 0m 0s) Loss: 1.1545(0.5501) Grad Norm: 5.2008  LR: 3.7811e-04  \n",
      "EVAL: [0/9] Data 0.024 (0.024) Elapsed 0m 0s (remain 0m 0s) \n"
     ]
    },
    {
     "name": "stderr",
     "output_type": "stream",
     "text": [
      "labels: [ 5 12  2 11  8]\n",
      "pred_labels: [ 5 10  2 11  8]\n",
      "Epoch 29 - avg_train_loss: 0.5501  lr: 3.7811e-04  time: 13s\n",
      "Epoch 29 - Score: 0.6794\n"
     ]
    },
    {
     "name": "stdout",
     "output_type": "stream",
     "text": [
      "EVAL: [8/9] Data 0.004 (0.022) Elapsed 0m 0s (remain 0m 0s) \n",
      "Epoch: [30][0/40] Data 0.045 (0.045) Elapsed 0m 0s (remain 0m 11s) Loss: 0.0115(0.0115) Grad Norm: 0.9886  LR: 3.4797e-04  \n",
      "Epoch: [30][39/40] Data 0.040 (0.044) Elapsed 0m 11s (remain 0m 0s) Loss: 0.0041(0.2736) Grad Norm: 0.5754  LR: 3.4797e-04  \n",
      "EVAL: [0/9] Data 0.024 (0.024) Elapsed 0m 0s (remain 0m 0s) \n"
     ]
    },
    {
     "name": "stderr",
     "output_type": "stream",
     "text": [
      "labels: [ 5 12  2 11  8]\n",
      "pred_labels: [ 5 10  2 11  8]\n",
      "Epoch 30 - avg_train_loss: 0.2736  lr: 3.4797e-04  time: 13s\n",
      "Epoch 30 - Score: 0.6718\n"
     ]
    },
    {
     "name": "stdout",
     "output_type": "stream",
     "text": [
      "EVAL: [8/9] Data 0.005 (0.022) Elapsed 0m 0s (remain 0m 0s) \n",
      "Epoch: [31][0/40] Data 0.047 (0.047) Elapsed 0m 0s (remain 0m 11s) Loss: 1.1303(1.1303) Grad Norm: 4.9793  LR: 3.1843e-04  \n",
      "Epoch: [31][39/40] Data 0.045 (0.044) Elapsed 0m 11s (remain 0m 0s) Loss: 0.7614(0.5519) Grad Norm: 5.0323  LR: 3.1843e-04  \n",
      "EVAL: [0/9] Data 0.024 (0.024) Elapsed 0m 0s (remain 0m 0s) \n"
     ]
    },
    {
     "name": "stderr",
     "output_type": "stream",
     "text": [
      "labels: [ 5 12  2 11  8]\n",
      "pred_labels: [ 5  9  2 11  8]\n",
      "Epoch 31 - avg_train_loss: 0.5519  lr: 3.1843e-04  time: 13s\n",
      "Epoch 31 - Score: 0.6794\n"
     ]
    },
    {
     "name": "stdout",
     "output_type": "stream",
     "text": [
      "EVAL: [8/9] Data 0.005 (0.022) Elapsed 0m 0s (remain 0m 0s) \n",
      "Epoch: [32][0/40] Data 0.045 (0.045) Elapsed 0m 0s (remain 0m 11s) Loss: 0.0546(0.0546) Grad Norm: 4.1022  LR: 2.8962e-04  \n",
      "Epoch: [32][39/40] Data 0.047 (0.044) Elapsed 0m 11s (remain 0m 0s) Loss: 0.6638(0.5673) Grad Norm: 3.1008  LR: 2.8962e-04  \n",
      "EVAL: [0/9] Data 0.031 (0.031) Elapsed 0m 0s (remain 0m 0s) \n"
     ]
    },
    {
     "name": "stderr",
     "output_type": "stream",
     "text": [
      "labels: [ 5 12  2 11  8]\n",
      "pred_labels: [ 5 12  2 11  8]\n",
      "Epoch 32 - avg_train_loss: 0.5673  lr: 2.8962e-04  time: 13s\n",
      "Epoch 32 - Score: 0.7176\n",
      "Epoch 32 - Save Best Score: 0.7176 Model\n"
     ]
    },
    {
     "name": "stdout",
     "output_type": "stream",
     "text": [
      "EVAL: [8/9] Data 0.000 (0.023) Elapsed 0m 0s (remain 0m 0s) \n",
      "Epoch: [33][0/40] Data 0.038 (0.038) Elapsed 0m 0s (remain 0m 11s) Loss: 0.0108(0.0108) Grad Norm: 0.7375  LR: 2.6165e-04  \n",
      "Epoch: [33][39/40] Data 0.031 (0.045) Elapsed 0m 11s (remain 0m 0s) Loss: 0.0012(0.3938) Grad Norm: 0.0416  LR: 2.6165e-04  \n",
      "EVAL: [0/9] Data 0.036 (0.036) Elapsed 0m 0s (remain 0m 0s) \n"
     ]
    },
    {
     "name": "stderr",
     "output_type": "stream",
     "text": [
      "labels: [ 5 12  2 11  8]\n",
      "pred_labels: [ 5 12  2 11  8]\n",
      "Epoch 33 - avg_train_loss: 0.3938  lr: 2.6165e-04  time: 13s\n",
      "Epoch 33 - Score: 0.6794\n"
     ]
    },
    {
     "name": "stdout",
     "output_type": "stream",
     "text": [
      "EVAL: [8/9] Data 0.000 (0.024) Elapsed 0m 0s (remain 0m 0s) \n",
      "Epoch: [34][0/40] Data 0.039 (0.039) Elapsed 0m 0s (remain 0m 11s) Loss: 0.0095(0.0095) Grad Norm: 0.4735  LR: 2.3463e-04  \n",
      "Epoch: [34][39/40] Data 0.051 (0.044) Elapsed 0m 11s (remain 0m 0s) Loss: 0.5816(0.6627) Grad Norm: 2.9675  LR: 2.3463e-04  \n",
      "EVAL: [0/9] Data 0.016 (0.016) Elapsed 0m 0s (remain 0m 0s) \n"
     ]
    },
    {
     "name": "stderr",
     "output_type": "stream",
     "text": [
      "labels: [ 5 12  2 11  8]\n",
      "pred_labels: [ 5 12  2 11  8]\n",
      "Epoch 34 - avg_train_loss: 0.6627  lr: 2.3463e-04  time: 13s\n",
      "Epoch 34 - Score: 0.6947\n"
     ]
    },
    {
     "name": "stdout",
     "output_type": "stream",
     "text": [
      "EVAL: [8/9] Data 0.004 (0.022) Elapsed 0m 0s (remain 0m 0s) \n",
      "Epoch: [35][0/40] Data 0.033 (0.033) Elapsed 0m 0s (remain 0m 11s) Loss: 0.8036(0.8036) Grad Norm: 3.3050  LR: 2.0866e-04  \n",
      "Epoch: [35][39/40] Data 0.045 (0.044) Elapsed 0m 11s (remain 0m 0s) Loss: 0.0029(0.4761) Grad Norm: 0.1324  LR: 2.0866e-04  \n",
      "EVAL: [0/9] Data 0.024 (0.024) Elapsed 0m 0s (remain 0m 0s) \n"
     ]
    },
    {
     "name": "stderr",
     "output_type": "stream",
     "text": [
      "labels: [ 5 12  2 11  8]\n",
      "pred_labels: [ 5 12  2 11  8]\n",
      "Epoch 35 - avg_train_loss: 0.4761  lr: 2.0866e-04  time: 12s\n",
      "Epoch 35 - Score: 0.6870\n"
     ]
    },
    {
     "name": "stdout",
     "output_type": "stream",
     "text": [
      "EVAL: [8/9] Data 0.004 (0.022) Elapsed 0m 0s (remain 0m 0s) \n",
      "Epoch: [36][0/40] Data 0.046 (0.046) Elapsed 0m 0s (remain 0m 11s) Loss: 0.9458(0.9458) Grad Norm: 11.1457  LR: 1.8385e-04  \n",
      "Epoch: [36][39/40] Data 0.048 (0.044) Elapsed 0m 11s (remain 0m 0s) Loss: 0.0036(0.5016) Grad Norm: 0.3753  LR: 1.8385e-04  \n",
      "EVAL: [0/9] Data 0.025 (0.025) Elapsed 0m 0s (remain 0m 0s) \n"
     ]
    },
    {
     "name": "stderr",
     "output_type": "stream",
     "text": [
      "labels: [ 5 12  2 11  8]\n",
      "pred_labels: [ 5 12  2 11  8]\n",
      "Epoch 36 - avg_train_loss: 0.5016  lr: 1.8385e-04  time: 13s\n",
      "Epoch 36 - Score: 0.7328\n",
      "Epoch 36 - Save Best Score: 0.7328 Model\n"
     ]
    },
    {
     "name": "stdout",
     "output_type": "stream",
     "text": [
      "EVAL: [8/9] Data 0.005 (0.022) Elapsed 0m 0s (remain 0m 0s) \n",
      "Epoch: [37][0/40] Data 0.038 (0.038) Elapsed 0m 0s (remain 0m 11s) Loss: 0.9051(0.9051) Grad Norm: 5.4630  LR: 1.6030e-04  \n",
      "Epoch: [37][39/40] Data 0.038 (0.043) Elapsed 0m 11s (remain 0m 0s) Loss: 0.7627(0.3885) Grad Norm: 2.9891  LR: 1.6030e-04  \n",
      "EVAL: [0/9] Data 0.025 (0.025) Elapsed 0m 0s (remain 0m 0s) \n"
     ]
    },
    {
     "name": "stderr",
     "output_type": "stream",
     "text": [
      "labels: [ 5 12  2 11  8]\n",
      "pred_labels: [ 5 12  2 11  8]\n",
      "Epoch 37 - avg_train_loss: 0.3885  lr: 1.6030e-04  time: 13s\n",
      "Epoch 37 - Score: 0.7176\n"
     ]
    },
    {
     "name": "stdout",
     "output_type": "stream",
     "text": [
      "EVAL: [8/9] Data 0.005 (0.022) Elapsed 0m 0s (remain 0m 0s) \n",
      "Epoch: [38][0/40] Data 0.045 (0.045) Elapsed 0m 0s (remain 0m 11s) Loss: 0.0021(0.0021) Grad Norm: 0.0588  LR: 1.3809e-04  \n",
      "Epoch: [38][39/40] Data 0.032 (0.043) Elapsed 0m 11s (remain 0m 0s) Loss: 0.9634(0.3858) Grad Norm: 6.1834  LR: 1.3809e-04  \n",
      "EVAL: [0/9] Data 0.024 (0.024) Elapsed 0m 0s (remain 0m 0s) \n"
     ]
    },
    {
     "name": "stderr",
     "output_type": "stream",
     "text": [
      "labels: [ 5 12  2 11  8]\n",
      "pred_labels: [ 5 12  2 11  8]\n",
      "Epoch 38 - avg_train_loss: 0.3858  lr: 1.3809e-04  time: 13s\n",
      "Epoch 38 - Score: 0.7176\n"
     ]
    },
    {
     "name": "stdout",
     "output_type": "stream",
     "text": [
      "EVAL: [8/9] Data 0.000 (0.023) Elapsed 0m 0s (remain 0m 0s) \n",
      "Epoch: [39][0/40] Data 0.032 (0.032) Elapsed 0m 0s (remain 0m 10s) Loss: 0.0020(0.0020) Grad Norm: 0.1434  LR: 1.1732e-04  \n",
      "Epoch: [39][39/40] Data 0.046 (0.043) Elapsed 0m 11s (remain 0m 0s) Loss: 0.6979(0.3650) Grad Norm: 3.5503  LR: 1.1732e-04  \n",
      "EVAL: [0/9] Data 0.024 (0.024) Elapsed 0m 0s (remain 0m 0s) \n"
     ]
    },
    {
     "name": "stderr",
     "output_type": "stream",
     "text": [
      "labels: [ 5 12  2 11  8]\n",
      "pred_labels: [ 5 12  2 11  8]\n",
      "Epoch 39 - avg_train_loss: 0.3650  lr: 1.1732e-04  time: 12s\n",
      "Epoch 39 - Score: 0.7023\n"
     ]
    },
    {
     "name": "stdout",
     "output_type": "stream",
     "text": [
      "EVAL: [8/9] Data 0.005 (0.021) Elapsed 0m 0s (remain 0m 0s) \n",
      "Epoch: [40][0/40] Data 0.045 (0.045) Elapsed 0m 0s (remain 0m 12s) Loss: 1.0855(1.0855) Grad Norm: 6.5308  LR: 9.8058e-05  \n",
      "Epoch: [40][39/40] Data 0.040 (0.043) Elapsed 0m 11s (remain 0m 0s) Loss: 0.7082(0.3999) Grad Norm: 6.6480  LR: 9.8058e-05  \n",
      "EVAL: [0/9] Data 0.023 (0.023) Elapsed 0m 0s (remain 0m 0s) \n"
     ]
    },
    {
     "name": "stderr",
     "output_type": "stream",
     "text": [
      "labels: [ 5 12  2 11  8]\n",
      "pred_labels: [ 5 12  2 11  8]\n",
      "Epoch 40 - avg_train_loss: 0.3999  lr: 9.8058e-05  time: 13s\n",
      "Epoch 40 - Score: 0.7328\n"
     ]
    },
    {
     "name": "stdout",
     "output_type": "stream",
     "text": [
      "EVAL: [8/9] Data 0.005 (0.022) Elapsed 0m 0s (remain 0m 0s) \n",
      "Epoch: [41][0/40] Data 0.043 (0.043) Elapsed 0m 0s (remain 0m 11s) Loss: 0.0048(0.0048) Grad Norm: 0.4493  LR: 8.0390e-05  \n",
      "Epoch: [41][39/40] Data 0.042 (0.043) Elapsed 0m 11s (remain 0m 0s) Loss: 0.0041(0.3074) Grad Norm: 0.1130  LR: 8.0390e-05  \n",
      "EVAL: [0/9] Data 0.024 (0.024) Elapsed 0m 0s (remain 0m 0s) \n"
     ]
    },
    {
     "name": "stderr",
     "output_type": "stream",
     "text": [
      "labels: [ 5 12  2 11  8]\n",
      "pred_labels: [ 5 12  2 11  8]\n",
      "Epoch 41 - avg_train_loss: 0.3074  lr: 8.0390e-05  time: 13s\n",
      "Epoch 41 - Score: 0.7176\n"
     ]
    },
    {
     "name": "stdout",
     "output_type": "stream",
     "text": [
      "EVAL: [8/9] Data 0.005 (0.022) Elapsed 0m 0s (remain 0m 0s) \n",
      "Epoch: [42][0/40] Data 0.040 (0.040) Elapsed 0m 0s (remain 0m 11s) Loss: 0.0010(0.0010) Grad Norm: 0.0305  LR: 6.4381e-05  \n",
      "Epoch: [42][39/40] Data 0.042 (0.044) Elapsed 0m 11s (remain 0m 0s) Loss: 0.0015(0.4490) Grad Norm: 0.2222  LR: 6.4381e-05  \n",
      "EVAL: [0/9] Data 0.024 (0.024) Elapsed 0m 0s (remain 0m 0s) \n"
     ]
    },
    {
     "name": "stderr",
     "output_type": "stream",
     "text": [
      "labels: [ 5 12  2 11  8]\n",
      "pred_labels: [ 5 12  2 11  8]\n",
      "Epoch 42 - avg_train_loss: 0.4490  lr: 6.4381e-05  time: 12s\n",
      "Epoch 42 - Score: 0.6794\n"
     ]
    },
    {
     "name": "stdout",
     "output_type": "stream",
     "text": [
      "EVAL: [8/9] Data 0.005 (0.022) Elapsed 0m 0s (remain 0m 0s) \n",
      "Epoch: [43][0/40] Data 0.040 (0.040) Elapsed 0m 0s (remain 0m 11s) Loss: 0.0014(0.0014) Grad Norm: 0.1585  LR: 5.0093e-05  \n",
      "Epoch: [43][39/40] Data 0.047 (0.043) Elapsed 0m 11s (remain 0m 0s) Loss: 0.6144(0.3842) Grad Norm: 3.9513  LR: 5.0093e-05  \n",
      "EVAL: [0/9] Data 0.024 (0.024) Elapsed 0m 0s (remain 0m 0s) \n"
     ]
    },
    {
     "name": "stderr",
     "output_type": "stream",
     "text": [
      "labels: [ 5 12  2 11  8]\n",
      "pred_labels: [ 5 12  2 11  8]\n",
      "Epoch 43 - avg_train_loss: 0.3842  lr: 5.0093e-05  time: 13s\n",
      "Epoch 43 - Score: 0.7176\n"
     ]
    },
    {
     "name": "stdout",
     "output_type": "stream",
     "text": [
      "EVAL: [8/9] Data 0.005 (0.025) Elapsed 0m 0s (remain 0m 0s) \n",
      "Epoch: [44][0/40] Data 0.042 (0.042) Elapsed 0m 0s (remain 0m 10s) Loss: 0.0020(0.0020) Grad Norm: 0.1097  LR: 3.7578e-05  \n",
      "Epoch: [44][39/40] Data 0.040 (0.044) Elapsed 0m 11s (remain 0m 0s) Loss: 0.0037(0.3044) Grad Norm: 0.3736  LR: 3.7578e-05  \n",
      "EVAL: [0/9] Data 0.024 (0.024) Elapsed 0m 0s (remain 0m 0s) \n"
     ]
    },
    {
     "name": "stderr",
     "output_type": "stream",
     "text": [
      "labels: [ 5 12  2 11  8]\n",
      "pred_labels: [ 5 12  2 11  8]\n",
      "Epoch 44 - avg_train_loss: 0.3044  lr: 3.7578e-05  time: 13s\n",
      "Epoch 44 - Score: 0.7176\n"
     ]
    },
    {
     "name": "stdout",
     "output_type": "stream",
     "text": [
      "EVAL: [8/9] Data 0.005 (0.022) Elapsed 0m 0s (remain 0m 0s) \n",
      "Epoch: [45][0/40] Data 0.044 (0.044) Elapsed 0m 0s (remain 0m 11s) Loss: 0.8845(0.8845) Grad Norm: 3.6849  LR: 2.6881e-05  \n",
      "Epoch: [45][39/40] Data 0.044 (0.046) Elapsed 0m 11s (remain 0m 0s) Loss: 0.6656(0.4106) Grad Norm: 4.4575  LR: 2.6881e-05  \n",
      "EVAL: [0/9] Data 0.027 (0.027) Elapsed 0m 0s (remain 0m 0s) \n"
     ]
    },
    {
     "name": "stderr",
     "output_type": "stream",
     "text": [
      "labels: [ 5 12  2 11  8]\n",
      "pred_labels: [ 5 12  2 11  8]\n",
      "Epoch 45 - avg_train_loss: 0.4106  lr: 2.6881e-05  time: 13s\n",
      "Epoch 45 - Score: 0.7252\n"
     ]
    },
    {
     "name": "stdout",
     "output_type": "stream",
     "text": [
      "EVAL: [8/9] Data 0.005 (0.023) Elapsed 0m 0s (remain 0m 0s) \n",
      "Epoch: [46][0/40] Data 0.050 (0.050) Elapsed 0m 0s (remain 0m 11s) Loss: 0.0011(0.0011) Grad Norm: 0.0528  LR: 1.8039e-05  \n",
      "Epoch: [46][39/40] Data 0.051 (0.057) Elapsed 0m 12s (remain 0m 0s) Loss: 0.0009(0.0037) Grad Norm: 0.0561  LR: 1.8039e-05  \n",
      "EVAL: [0/9] Data 0.028 (0.028) Elapsed 0m 0s (remain 0m 0s) \n"
     ]
    },
    {
     "name": "stderr",
     "output_type": "stream",
     "text": [
      "labels: [ 5 12  2 11  8]\n",
      "pred_labels: [ 5 12  2 11  8]\n",
      "Epoch 46 - avg_train_loss: 0.0037  lr: 1.8039e-05  time: 13s\n",
      "Epoch 46 - Score: 0.7328\n"
     ]
    },
    {
     "name": "stdout",
     "output_type": "stream",
     "text": [
      "EVAL: [8/9] Data 0.005 (0.024) Elapsed 0m 0s (remain 0m 0s) \n",
      "Epoch: [47][0/40] Data 0.060 (0.060) Elapsed 0m 0s (remain 0m 12s) Loss: 0.0039(0.0039) Grad Norm: 0.2396  LR: 1.1073e-05  \n",
      "Epoch: [47][39/40] Data 0.039 (0.047) Elapsed 0m 12s (remain 0m 0s) Loss: 0.0018(0.0033) Grad Norm: 0.1254  LR: 1.1073e-05  \n",
      "EVAL: [0/9] Data 0.024 (0.024) Elapsed 0m 0s (remain 0m 0s) \n"
     ]
    },
    {
     "name": "stderr",
     "output_type": "stream",
     "text": [
      "labels: [ 5 12  2 11  8]\n",
      "pred_labels: [ 5 12  2 11  8]\n",
      "Epoch 47 - avg_train_loss: 0.0033  lr: 1.1073e-05  time: 13s\n",
      "Epoch 47 - Score: 0.7328\n"
     ]
    },
    {
     "name": "stdout",
     "output_type": "stream",
     "text": [
      "EVAL: [8/9] Data 0.005 (0.022) Elapsed 0m 0s (remain 0m 0s) \n",
      "Epoch: [48][0/40] Data 0.047 (0.047) Elapsed 0m 0s (remain 0m 11s) Loss: 0.0029(0.0029) Grad Norm: 0.1066  LR: 5.9882e-06  \n",
      "Epoch: [48][39/40] Data 0.041 (0.046) Elapsed 0m 11s (remain 0m 0s) Loss: 0.0028(0.0022) Grad Norm: 0.4128  LR: 5.9882e-06  \n",
      "EVAL: [0/9] Data 0.024 (0.024) Elapsed 0m 0s (remain 0m 0s) \n"
     ]
    },
    {
     "name": "stderr",
     "output_type": "stream",
     "text": [
      "labels: [ 5 12  2 11  8]\n",
      "pred_labels: [ 5 12  2 11  8]\n",
      "Epoch 48 - avg_train_loss: 0.0022  lr: 5.9882e-06  time: 13s\n",
      "Epoch 48 - Score: 0.7405\n",
      "Epoch 48 - Save Best Score: 0.7405 Model\n"
     ]
    },
    {
     "name": "stdout",
     "output_type": "stream",
     "text": [
      "EVAL: [8/9] Data 0.004 (0.022) Elapsed 0m 0s (remain 0m 0s) \n",
      "Epoch: [49][0/40] Data 0.057 (0.057) Elapsed 0m 0s (remain 0m 12s) Loss: 0.0039(0.0039) Grad Norm: 0.2786  LR: 2.7534e-06  \n",
      "Epoch: [49][39/40] Data 0.038 (0.044) Elapsed 0m 11s (remain 0m 0s) Loss: 0.0011(0.0072) Grad Norm: 0.0342  LR: 2.7534e-06  \n",
      "EVAL: [0/9] Data 0.024 (0.024) Elapsed 0m 0s (remain 0m 0s) \n"
     ]
    },
    {
     "name": "stderr",
     "output_type": "stream",
     "text": [
      "labels: [ 5 12  2 11  8]\n",
      "pred_labels: [ 5 12  2 11  8]\n",
      "Epoch 49 - avg_train_loss: 0.0072  lr: 2.7534e-06  time: 13s\n",
      "Epoch 49 - Score: 0.7405\n"
     ]
    },
    {
     "name": "stdout",
     "output_type": "stream",
     "text": [
      "EVAL: [8/9] Data 0.004 (0.022) Elapsed 0m 0s (remain 0m 0s) \n",
      "Epoch: [50][0/40] Data 0.044 (0.044) Elapsed 0m 0s (remain 0m 11s) Loss: 0.0013(0.0013) Grad Norm: 0.0262  LR: 1.2467e-06  \n",
      "Epoch: [50][39/40] Data 0.039 (0.042) Elapsed 0m 11s (remain 0m 0s) Loss: 0.0009(0.0021) Grad Norm: 0.0366  LR: 1.2467e-06  \n",
      "EVAL: [0/9] Data 0.024 (0.024) Elapsed 0m 0s (remain 0m 0s) \n"
     ]
    },
    {
     "name": "stderr",
     "output_type": "stream",
     "text": [
      "labels: [ 5 12  2 11  8]\n",
      "pred_labels: [ 5 12  2 11  8]\n",
      "Epoch 50 - avg_train_loss: 0.0021  lr: 1.2467e-06  time: 12s\n",
      "Epoch 50 - Score: 0.7405\n",
      "==================== fold: 3, seed: 0 training ====================\n"
     ]
    },
    {
     "name": "stdout",
     "output_type": "stream",
     "text": [
      "EVAL: [8/9] Data 0.005 (0.022) Elapsed 0m 0s (remain 0m 0s) \n",
      "Epoch: [1][0/40] Data 0.039 (0.039) Elapsed 0m 0s (remain 0m 10s) Loss: 2.6218(2.6218) Grad Norm: nan  LR: 1.0000e-03  \n",
      "Epoch: [1][39/40] Data 0.052 (0.045) Elapsed 0m 12s (remain 0m 0s) Loss: 2.0992(2.4948) Grad Norm: 12.7830  LR: 1.0000e-03  \n",
      "EVAL: [0/9] Data 0.023 (0.023) Elapsed 0m 0s (remain 0m 0s) \n"
     ]
    },
    {
     "name": "stderr",
     "output_type": "stream",
     "text": [
      "labels: [2 7 2 3 0]\n",
      "pred_labels: [2 2 2 2 2]\n",
      "Epoch 1 - avg_train_loss: 2.4948  lr: 1.0000e-03  time: 13s\n",
      "Epoch 1 - Score: 0.2595\n",
      "Epoch 1 - Save Best Score: 0.2595 Model\n"
     ]
    },
    {
     "name": "stdout",
     "output_type": "stream",
     "text": [
      "EVAL: [8/9] Data 0.005 (0.022) Elapsed 0m 0s (remain 0m 0s) \n",
      "Epoch: [2][0/40] Data 0.039 (0.039) Elapsed 0m 0s (remain 0m 12s) Loss: 2.4150(2.4150) Grad Norm: 18.1183  LR: 9.9803e-04  \n",
      "Epoch: [2][39/40] Data 0.042 (0.045) Elapsed 0m 12s (remain 0m 0s) Loss: 1.8610(2.2421) Grad Norm: 20.1707  LR: 9.9803e-04  \n",
      "EVAL: [0/9] Data 0.024 (0.024) Elapsed 0m 0s (remain 0m 0s) \n"
     ]
    },
    {
     "name": "stderr",
     "output_type": "stream",
     "text": [
      "labels: [2 7 2 3 0]\n",
      "pred_labels: [5 7 2 2 2]\n",
      "Epoch 2 - avg_train_loss: 2.2421  lr: 9.9803e-04  time: 13s\n",
      "Epoch 2 - Score: 0.3435\n",
      "Epoch 2 - Save Best Score: 0.3435 Model\n"
     ]
    },
    {
     "name": "stdout",
     "output_type": "stream",
     "text": [
      "EVAL: [8/9] Data 0.005 (0.022) Elapsed 0m 0s (remain 0m 0s) \n",
      "Epoch: [3][0/40] Data 0.053 (0.053) Elapsed 0m 0s (remain 0m 13s) Loss: 2.3771(2.3771) Grad Norm: 12.1699  LR: 9.9312e-04  \n",
      "Epoch: [3][39/40] Data 0.043 (0.044) Elapsed 0m 12s (remain 0m 0s) Loss: 1.4514(1.8746) Grad Norm: 14.4143  LR: 9.9312e-04  \n",
      "EVAL: [0/9] Data 0.023 (0.023) Elapsed 0m 0s (remain 0m 0s) \n"
     ]
    },
    {
     "name": "stderr",
     "output_type": "stream",
     "text": [
      "labels: [2 7 2 3 0]\n",
      "pred_labels: [5 7 2 2 2]\n",
      "Epoch 3 - avg_train_loss: 1.8746  lr: 9.9312e-04  time: 13s\n",
      "Epoch 3 - Score: 0.4656\n",
      "Epoch 3 - Save Best Score: 0.4656 Model\n"
     ]
    },
    {
     "name": "stdout",
     "output_type": "stream",
     "text": [
      "EVAL: [8/9] Data 0.005 (0.022) Elapsed 0m 0s (remain 0m 0s) \n",
      "Epoch: [4][0/40] Data 0.049 (0.049) Elapsed 0m 0s (remain 0m 13s) Loss: 1.8093(1.8093) Grad Norm: 15.7686  LR: 9.8627e-04  \n",
      "Epoch: [4][39/40] Data 0.046 (0.045) Elapsed 0m 12s (remain 0m 0s) Loss: 2.1510(1.6128) Grad Norm: 12.4978  LR: 9.8627e-04  \n",
      "EVAL: [0/9] Data 0.024 (0.024) Elapsed 0m 0s (remain 0m 0s) \n"
     ]
    },
    {
     "name": "stderr",
     "output_type": "stream",
     "text": [
      "labels: [2 7 2 3 0]\n",
      "pred_labels: [ 5  7  2  2 12]\n",
      "Epoch 4 - avg_train_loss: 1.6128  lr: 9.8627e-04  time: 13s\n",
      "Epoch 4 - Score: 0.5267\n",
      "Epoch 4 - Save Best Score: 0.5267 Model\n"
     ]
    },
    {
     "name": "stdout",
     "output_type": "stream",
     "text": [
      "EVAL: [8/9] Data 0.005 (0.022) Elapsed 0m 0s (remain 0m 0s) \n",
      "Epoch: [5][0/40] Data 0.044 (0.044) Elapsed 0m 0s (remain 0m 12s) Loss: 2.1088(2.1088) Grad Norm: 7.7666  LR: 9.7751e-04  \n",
      "Epoch: [5][39/40] Data 0.043 (0.045) Elapsed 0m 12s (remain 0m 0s) Loss: 1.7035(1.5540) Grad Norm: 32.5385  LR: 9.7751e-04  \n",
      "EVAL: [0/9] Data 0.025 (0.025) Elapsed 0m 0s (remain 0m 0s) \n"
     ]
    },
    {
     "name": "stderr",
     "output_type": "stream",
     "text": [
      "labels: [2 7 2 3 0]\n",
      "pred_labels: [5 7 2 6 6]\n",
      "Epoch 5 - avg_train_loss: 1.5540  lr: 9.7751e-04  time: 13s\n",
      "Epoch 5 - Score: 0.5954\n",
      "Epoch 5 - Save Best Score: 0.5954 Model\n"
     ]
    },
    {
     "name": "stdout",
     "output_type": "stream",
     "text": [
      "EVAL: [8/9] Data 0.005 (0.022) Elapsed 0m 0s (remain 0m 0s) \n",
      "Epoch: [6][0/40] Data 0.042 (0.042) Elapsed 0m 0s (remain 0m 12s) Loss: 2.0002(2.0002) Grad Norm: 9.5619  LR: 9.6688e-04  \n",
      "Epoch: [6][39/40] Data 0.041 (0.043) Elapsed 0m 12s (remain 0m 0s) Loss: 1.8794(1.4851) Grad Norm: 10.5661  LR: 9.6688e-04  \n",
      "EVAL: [0/9] Data 0.026 (0.026) Elapsed 0m 0s (remain 0m 0s) \n"
     ]
    },
    {
     "name": "stderr",
     "output_type": "stream",
     "text": [
      "labels: [2 7 2 3 0]\n",
      "pred_labels: [5 4 2 5 9]\n",
      "Epoch 6 - avg_train_loss: 1.4851  lr: 9.6688e-04  time: 13s\n",
      "Epoch 6 - Score: 0.5344\n"
     ]
    },
    {
     "name": "stdout",
     "output_type": "stream",
     "text": [
      "EVAL: [8/9] Data 0.005 (0.022) Elapsed 0m 0s (remain 0m 0s) \n",
      "Epoch: [7][0/40] Data 0.039 (0.039) Elapsed 0m 0s (remain 0m 11s) Loss: 1.9731(1.9731) Grad Norm: 7.5704  LR: 9.5441e-04  \n",
      "Epoch: [7][39/40] Data 0.044 (0.043) Elapsed 0m 11s (remain 0m 0s) Loss: 1.2894(1.2867) Grad Norm: 14.9251  LR: 9.5441e-04  \n",
      "EVAL: [0/9] Data 0.025 (0.025) Elapsed 0m 0s (remain 0m 0s) \n"
     ]
    },
    {
     "name": "stderr",
     "output_type": "stream",
     "text": [
      "labels: [2 7 2 3 0]\n",
      "pred_labels: [ 9  4  2  5 12]\n",
      "Epoch 7 - avg_train_loss: 1.2867  lr: 9.5441e-04  time: 13s\n",
      "Epoch 7 - Score: 0.5496\n"
     ]
    },
    {
     "name": "stdout",
     "output_type": "stream",
     "text": [
      "EVAL: [8/9] Data 0.005 (0.022) Elapsed 0m 0s (remain 0m 0s) \n",
      "Epoch: [8][0/40] Data 0.044 (0.044) Elapsed 0m 0s (remain 0m 11s) Loss: 0.6253(0.6253) Grad Norm: 13.0140  LR: 9.4016e-04  \n",
      "Epoch: [8][39/40] Data 0.046 (0.042) Elapsed 0m 11s (remain 0m 0s) Loss: 0.6884(1.0221) Grad Norm: 5.7660  LR: 9.4016e-04  \n",
      "EVAL: [0/9] Data 0.023 (0.023) Elapsed 0m 0s (remain 0m 0s) \n"
     ]
    },
    {
     "name": "stderr",
     "output_type": "stream",
     "text": [
      "labels: [2 7 2 3 0]\n",
      "pred_labels: [9 2 2 2 3]\n",
      "Epoch 8 - avg_train_loss: 1.0221  lr: 9.4016e-04  time: 12s\n",
      "Epoch 8 - Score: 0.5344\n"
     ]
    },
    {
     "name": "stdout",
     "output_type": "stream",
     "text": [
      "EVAL: [8/9] Data 0.005 (0.021) Elapsed 0m 0s (remain 0m 0s) \n",
      "Epoch: [9][0/40] Data 0.040 (0.040) Elapsed 0m 0s (remain 0m 11s) Loss: 0.3002(0.3002) Grad Norm: 6.3919  LR: 9.2418e-04  \n",
      "Epoch: [9][39/40] Data 0.045 (0.042) Elapsed 0m 11s (remain 0m 0s) Loss: 0.2682(1.0169) Grad Norm: 6.2415  LR: 9.2418e-04  \n",
      "EVAL: [0/9] Data 0.024 (0.024) Elapsed 0m 0s (remain 0m 0s) \n"
     ]
    },
    {
     "name": "stderr",
     "output_type": "stream",
     "text": [
      "labels: [2 7 2 3 0]\n",
      "pred_labels: [9 7 2 0 9]\n",
      "Epoch 9 - avg_train_loss: 1.0169  lr: 9.2418e-04  time: 12s\n",
      "Epoch 9 - Score: 0.5878\n"
     ]
    },
    {
     "name": "stdout",
     "output_type": "stream",
     "text": [
      "EVAL: [8/9] Data 0.005 (0.022) Elapsed 0m 0s (remain 0m 0s) \n",
      "Epoch: [10][0/40] Data 0.042 (0.042) Elapsed 0m 0s (remain 0m 11s) Loss: 0.2573(0.2573) Grad Norm: 6.3296  LR: 9.0654e-04  \n",
      "Epoch: [10][39/40] Data 0.048 (0.044) Elapsed 0m 11s (remain 0m 0s) Loss: 0.4067(1.0419) Grad Norm: 11.0872  LR: 9.0654e-04  \n",
      "EVAL: [0/9] Data 0.024 (0.024) Elapsed 0m 0s (remain 0m 0s) \n"
     ]
    },
    {
     "name": "stderr",
     "output_type": "stream",
     "text": [
      "labels: [2 7 2 3 0]\n",
      "pred_labels: [5 4 2 5 0]\n",
      "Epoch 10 - avg_train_loss: 1.0419  lr: 9.0654e-04  time: 13s\n",
      "Epoch 10 - Score: 0.6031\n",
      "Epoch 10 - Save Best Score: 0.6031 Model\n"
     ]
    },
    {
     "name": "stdout",
     "output_type": "stream",
     "text": [
      "EVAL: [8/9] Data 0.005 (0.022) Elapsed 0m 0s (remain 0m 0s) \n",
      "Epoch: [11][0/40] Data 0.037 (0.037) Elapsed 0m 0s (remain 0m 11s) Loss: 1.6160(1.6160) Grad Norm: 7.1327  LR: 8.8730e-04  \n",
      "Epoch: [11][39/40] Data 0.052 (0.045) Elapsed 0m 12s (remain 0m 0s) Loss: 1.5270(1.0722) Grad Norm: 12.4307  LR: 8.8730e-04  \n",
      "EVAL: [0/9] Data 0.025 (0.025) Elapsed 0m 0s (remain 0m 0s) \n"
     ]
    },
    {
     "name": "stderr",
     "output_type": "stream",
     "text": [
      "labels: [2 7 2 3 0]\n",
      "pred_labels: [12  7  2  5  0]\n",
      "Epoch 11 - avg_train_loss: 1.0722  lr: 8.8730e-04  time: 13s\n",
      "Epoch 11 - Score: 0.5878\n"
     ]
    },
    {
     "name": "stdout",
     "output_type": "stream",
     "text": [
      "EVAL: [8/9] Data 0.005 (0.024) Elapsed 0m 0s (remain 0m 0s) \n",
      "Epoch: [12][0/40] Data 0.048 (0.048) Elapsed 0m 0s (remain 0m 12s) Loss: 0.2415(0.2415) Grad Norm: 6.5672  LR: 8.6655e-04  \n",
      "Epoch: [12][39/40] Data 0.041 (0.045) Elapsed 0m 11s (remain 0m 0s) Loss: 1.8331(0.9333) Grad Norm: 13.7847  LR: 8.6655e-04  \n",
      "EVAL: [0/9] Data 0.023 (0.023) Elapsed 0m 0s (remain 0m 0s) \n"
     ]
    },
    {
     "name": "stderr",
     "output_type": "stream",
     "text": [
      "labels: [2 7 2 3 0]\n",
      "pred_labels: [9 7 2 2 5]\n",
      "Epoch 12 - avg_train_loss: 0.9333  lr: 8.6655e-04  time: 13s\n",
      "Epoch 12 - Score: 0.6183\n",
      "Epoch 12 - Save Best Score: 0.6183 Model\n"
     ]
    },
    {
     "name": "stdout",
     "output_type": "stream",
     "text": [
      "EVAL: [8/9] Data 0.005 (0.022) Elapsed 0m 0s (remain 0m 0s) \n",
      "Epoch: [13][0/40] Data 0.041 (0.041) Elapsed 0m 0s (remain 0m 11s) Loss: 0.1076(0.1076) Grad Norm: 3.6415  LR: 8.4436e-04  \n",
      "Epoch: [13][39/40] Data 0.042 (0.043) Elapsed 0m 11s (remain 0m 0s) Loss: 0.7066(0.7950) Grad Norm: 11.3839  LR: 8.4436e-04  \n",
      "EVAL: [0/9] Data 0.024 (0.024) Elapsed 0m 0s (remain 0m 0s) \n"
     ]
    },
    {
     "name": "stderr",
     "output_type": "stream",
     "text": [
      "labels: [2 7 2 3 0]\n",
      "pred_labels: [5 4 2 4 3]\n",
      "Epoch 13 - avg_train_loss: 0.7950  lr: 8.4436e-04  time: 13s\n",
      "Epoch 13 - Score: 0.5344\n"
     ]
    },
    {
     "name": "stdout",
     "output_type": "stream",
     "text": [
      "EVAL: [8/9] Data 0.005 (0.022) Elapsed 0m 0s (remain 0m 0s) \n",
      "Epoch: [14][0/40] Data 0.048 (0.048) Elapsed 0m 0s (remain 0m 11s) Loss: 2.0183(2.0183) Grad Norm: 12.6842  LR: 8.2081e-04  \n",
      "Epoch: [14][39/40] Data 0.044 (0.044) Elapsed 0m 11s (remain 0m 0s) Loss: 1.8153(0.9617) Grad Norm: 6.6898  LR: 8.2081e-04  \n",
      "EVAL: [0/9] Data 0.023 (0.023) Elapsed 0m 0s (remain 0m 0s) \n"
     ]
    },
    {
     "name": "stderr",
     "output_type": "stream",
     "text": [
      "labels: [2 7 2 3 0]\n",
      "pred_labels: [5 7 2 5 9]\n",
      "Epoch 14 - avg_train_loss: 0.9617  lr: 8.2081e-04  time: 13s\n",
      "Epoch 14 - Score: 0.5802\n"
     ]
    },
    {
     "name": "stdout",
     "output_type": "stream",
     "text": [
      "EVAL: [8/9] Data 0.005 (0.022) Elapsed 0m 0s (remain 0m 0s) \n",
      "Epoch: [15][0/40] Data 0.047 (0.047) Elapsed 0m 0s (remain 0m 11s) Loss: 0.2297(0.2297) Grad Norm: 4.5973  LR: 7.9601e-04  \n",
      "Epoch: [15][39/40] Data 0.045 (0.045) Elapsed 0m 11s (remain 0m 0s) Loss: 0.4912(0.8564) Grad Norm: 11.8834  LR: 7.9601e-04  \n",
      "EVAL: [0/9] Data 0.024 (0.024) Elapsed 0m 0s (remain 0m 0s) \n"
     ]
    },
    {
     "name": "stderr",
     "output_type": "stream",
     "text": [
      "labels: [2 7 2 3 0]\n",
      "pred_labels: [11  7  2  2  6]\n",
      "Epoch 15 - avg_train_loss: 0.8564  lr: 7.9601e-04  time: 13s\n",
      "Epoch 15 - Score: 0.6031\n"
     ]
    },
    {
     "name": "stdout",
     "output_type": "stream",
     "text": [
      "EVAL: [8/9] Data 0.005 (0.022) Elapsed 0m 0s (remain 0m 0s) \n",
      "Epoch: [16][0/40] Data 0.039 (0.039) Elapsed 0m 0s (remain 0m 11s) Loss: 1.2072(1.2072) Grad Norm: 4.5711  LR: 7.7006e-04  \n",
      "Epoch: [16][39/40] Data 0.042 (0.044) Elapsed 0m 11s (remain 0m 0s) Loss: 0.4275(0.8247) Grad Norm: 9.5095  LR: 7.7006e-04  \n",
      "EVAL: [0/9] Data 0.024 (0.024) Elapsed 0m 0s (remain 0m 0s) \n"
     ]
    },
    {
     "name": "stderr",
     "output_type": "stream",
     "text": [
      "labels: [2 7 2 3 0]\n",
      "pred_labels: [ 5  7  2  5 12]\n",
      "Epoch 16 - avg_train_loss: 0.8247  lr: 7.7006e-04  time: 13s\n",
      "Epoch 16 - Score: 0.5802\n"
     ]
    },
    {
     "name": "stdout",
     "output_type": "stream",
     "text": [
      "EVAL: [8/9] Data 0.005 (0.022) Elapsed 0m 0s (remain 0m 0s) \n",
      "Epoch: [17][0/40] Data 0.047 (0.047) Elapsed 0m 0s (remain 0m 11s) Loss: 0.1482(0.1482) Grad Norm: 5.4856  LR: 7.4304e-04  \n",
      "Epoch: [17][39/40] Data 0.046 (0.043) Elapsed 0m 11s (remain 0m 0s) Loss: 0.1770(0.9717) Grad Norm: 5.2337  LR: 7.4304e-04  \n",
      "EVAL: [0/9] Data 0.023 (0.023) Elapsed 0m 0s (remain 0m 0s) \n"
     ]
    },
    {
     "name": "stderr",
     "output_type": "stream",
     "text": [
      "labels: [2 7 2 3 0]\n",
      "pred_labels: [5 7 2 4 3]\n",
      "Epoch 17 - avg_train_loss: 0.9717  lr: 7.4304e-04  time: 12s\n",
      "Epoch 17 - Score: 0.5802\n"
     ]
    },
    {
     "name": "stdout",
     "output_type": "stream",
     "text": [
      "EVAL: [8/9] Data 0.005 (0.022) Elapsed 0m 0s (remain 0m 0s) \n",
      "Epoch: [18][0/40] Data 0.044 (0.044) Elapsed 0m 0s (remain 0m 11s) Loss: 0.9469(0.9469) Grad Norm: 4.5625  LR: 7.1508e-04  \n",
      "Epoch: [18][39/40] Data 0.041 (0.042) Elapsed 0m 11s (remain 0m 0s) Loss: 0.4406(0.9141) Grad Norm: 15.6130  LR: 7.1508e-04  \n",
      "EVAL: [0/9] Data 0.024 (0.024) Elapsed 0m 0s (remain 0m 0s) \n"
     ]
    },
    {
     "name": "stderr",
     "output_type": "stream",
     "text": [
      "labels: [2 7 2 3 0]\n",
      "pred_labels: [9 7 2 5 3]\n",
      "Epoch 18 - avg_train_loss: 0.9141  lr: 7.1508e-04  time: 12s\n",
      "Epoch 18 - Score: 0.5878\n"
     ]
    },
    {
     "name": "stdout",
     "output_type": "stream",
     "text": [
      "EVAL: [8/9] Data 0.005 (0.022) Elapsed 0m 0s (remain 0m 0s) \n",
      "Epoch: [19][0/40] Data 0.041 (0.041) Elapsed 0m 0s (remain 0m 11s) Loss: 0.0581(0.0581) Grad Norm: 2.1681  LR: 6.8627e-04  \n",
      "Epoch: [19][39/40] Data 0.041 (0.043) Elapsed 0m 11s (remain 0m 0s) Loss: 0.0617(0.7604) Grad Norm: 2.6832  LR: 6.8627e-04  \n",
      "EVAL: [0/9] Data 0.024 (0.024) Elapsed 0m 0s (remain 0m 0s) \n"
     ]
    },
    {
     "name": "stderr",
     "output_type": "stream",
     "text": [
      "labels: [2 7 2 3 0]\n",
      "pred_labels: [5 7 2 2 3]\n",
      "Epoch 19 - avg_train_loss: 0.7604  lr: 6.8627e-04  time: 13s\n",
      "Epoch 19 - Score: 0.6031\n"
     ]
    },
    {
     "name": "stdout",
     "output_type": "stream",
     "text": [
      "EVAL: [8/9] Data 0.005 (0.022) Elapsed 0m 0s (remain 0m 0s) \n",
      "Epoch: [20][0/40] Data 0.040 (0.040) Elapsed 0m 0s (remain 0m 11s) Loss: 0.0535(0.0535) Grad Norm: 1.2578  LR: 6.5674e-04  \n",
      "Epoch: [20][39/40] Data 0.039 (0.043) Elapsed 0m 11s (remain 0m 0s) Loss: 0.0880(0.6237) Grad Norm: 3.5620  LR: 6.5674e-04  \n",
      "EVAL: [0/9] Data 0.024 (0.024) Elapsed 0m 0s (remain 0m 0s) \n"
     ]
    },
    {
     "name": "stderr",
     "output_type": "stream",
     "text": [
      "labels: [2 7 2 3 0]\n",
      "pred_labels: [ 5  7  2  4 12]\n",
      "Epoch 20 - avg_train_loss: 0.6237  lr: 6.5674e-04  time: 13s\n",
      "Epoch 20 - Score: 0.5573\n"
     ]
    },
    {
     "name": "stdout",
     "output_type": "stream",
     "text": [
      "EVAL: [8/9] Data 0.004 (0.022) Elapsed 0m 0s (remain 0m 0s) \n",
      "Epoch: [21][0/40] Data 0.046 (0.046) Elapsed 0m 0s (remain 0m 12s) Loss: 1.2012(1.2012) Grad Norm: 5.1887  LR: 6.2661e-04  \n",
      "Epoch: [21][39/40] Data 0.041 (0.044) Elapsed 0m 11s (remain 0m 0s) Loss: 1.0376(0.5990) Grad Norm: 4.3428  LR: 6.2661e-04  \n",
      "EVAL: [0/9] Data 0.024 (0.024) Elapsed 0m 0s (remain 0m 0s) \n"
     ]
    },
    {
     "name": "stderr",
     "output_type": "stream",
     "text": [
      "labels: [2 7 2 3 0]\n",
      "pred_labels: [5 7 2 2 6]\n",
      "Epoch 21 - avg_train_loss: 0.5990  lr: 6.2661e-04  time: 13s\n",
      "Epoch 21 - Score: 0.4885\n"
     ]
    },
    {
     "name": "stdout",
     "output_type": "stream",
     "text": [
      "EVAL: [8/9] Data 0.005 (0.022) Elapsed 0m 0s (remain 0m 0s) \n",
      "Epoch: [22][0/40] Data 0.046 (0.046) Elapsed 0m 0s (remain 0m 11s) Loss: 1.2889(1.2889) Grad Norm: 7.6603  LR: 5.9598e-04  \n",
      "Epoch: [22][39/40] Data 0.045 (0.044) Elapsed 0m 11s (remain 0m 0s) Loss: 0.4219(0.7340) Grad Norm: 8.1971  LR: 5.9598e-04  \n",
      "EVAL: [0/9] Data 0.024 (0.024) Elapsed 0m 0s (remain 0m 0s) \n"
     ]
    },
    {
     "name": "stderr",
     "output_type": "stream",
     "text": [
      "labels: [2 7 2 3 0]\n",
      "pred_labels: [5 7 2 2 6]\n",
      "Epoch 22 - avg_train_loss: 0.7340  lr: 5.9598e-04  time: 13s\n",
      "Epoch 22 - Score: 0.5649\n"
     ]
    },
    {
     "name": "stdout",
     "output_type": "stream",
     "text": [
      "EVAL: [8/9] Data 0.006 (0.023) Elapsed 0m 0s (remain 0m 0s) \n",
      "Epoch: [23][0/40] Data 0.048 (0.048) Elapsed 0m 0s (remain 0m 11s) Loss: 1.1015(1.1015) Grad Norm: 5.9022  LR: 5.6498e-04  \n",
      "Epoch: [23][39/40] Data 0.042 (0.044) Elapsed 0m 11s (remain 0m 0s) Loss: 0.0971(0.6081) Grad Norm: 4.7803  LR: 5.6498e-04  \n",
      "EVAL: [0/9] Data 0.024 (0.024) Elapsed 0m 0s (remain 0m 0s) \n"
     ]
    },
    {
     "name": "stderr",
     "output_type": "stream",
     "text": [
      "labels: [2 7 2 3 0]\n",
      "pred_labels: [ 5  7  2  4 12]\n",
      "Epoch 23 - avg_train_loss: 0.6081  lr: 5.6498e-04  time: 13s\n",
      "Epoch 23 - Score: 0.6031\n"
     ]
    },
    {
     "name": "stdout",
     "output_type": "stream",
     "text": [
      "EVAL: [8/9] Data 0.005 (0.022) Elapsed 0m 0s (remain 0m 0s) \n",
      "Epoch: [24][0/40] Data 0.042 (0.042) Elapsed 0m 0s (remain 0m 11s) Loss: 0.0087(0.0087) Grad Norm: 0.3099  LR: 5.3373e-04  \n",
      "Epoch: [24][39/40] Data 0.043 (0.043) Elapsed 0m 11s (remain 0m 0s) Loss: 0.1043(0.6310) Grad Norm: 4.9344  LR: 5.3373e-04  \n",
      "EVAL: [0/9] Data 0.024 (0.024) Elapsed 0m 0s (remain 0m 0s) \n"
     ]
    },
    {
     "name": "stderr",
     "output_type": "stream",
     "text": [
      "labels: [2 7 2 3 0]\n",
      "pred_labels: [ 5  7  2  4 12]\n",
      "Epoch 24 - avg_train_loss: 0.6310  lr: 5.3373e-04  time: 13s\n",
      "Epoch 24 - Score: 0.6107\n"
     ]
    },
    {
     "name": "stdout",
     "output_type": "stream",
     "text": [
      "EVAL: [8/9] Data 0.005 (0.022) Elapsed 0m 0s (remain 0m 0s) \n",
      "Epoch: [25][0/40] Data 0.041 (0.041) Elapsed 0m 0s (remain 0m 11s) Loss: 0.0371(0.0371) Grad Norm: 1.3594  LR: 5.0236e-04  \n",
      "Epoch: [25][39/40] Data 0.039 (0.042) Elapsed 0m 11s (remain 0m 0s) Loss: 1.3068(0.7731) Grad Norm: 5.7755  LR: 5.0236e-04  \n",
      "EVAL: [0/9] Data 0.026 (0.026) Elapsed 0m 0s (remain 0m 0s) \n"
     ]
    },
    {
     "name": "stderr",
     "output_type": "stream",
     "text": [
      "labels: [2 7 2 3 0]\n",
      "pred_labels: [5 7 2 4 6]\n",
      "Epoch 25 - avg_train_loss: 0.7731  lr: 5.0236e-04  time: 12s\n",
      "Epoch 25 - Score: 0.5802\n"
     ]
    },
    {
     "name": "stdout",
     "output_type": "stream",
     "text": [
      "EVAL: [8/9] Data 0.005 (0.022) Elapsed 0m 0s (remain 0m 0s) \n",
      "Epoch: [26][0/40] Data 0.041 (0.041) Elapsed 0m 0s (remain 0m 11s) Loss: 1.0751(1.0751) Grad Norm: 4.7674  LR: 4.7099e-04  \n",
      "Epoch: [26][39/40] Data 0.045 (0.043) Elapsed 0m 11s (remain 0m 0s) Loss: 0.1998(0.6364) Grad Norm: 4.1627  LR: 4.7099e-04  \n",
      "EVAL: [0/9] Data 0.024 (0.024) Elapsed 0m 0s (remain 0m 0s) \n"
     ]
    },
    {
     "name": "stderr",
     "output_type": "stream",
     "text": [
      "labels: [2 7 2 3 0]\n",
      "pred_labels: [5 4 2 2 1]\n",
      "Epoch 26 - avg_train_loss: 0.6364  lr: 4.7099e-04  time: 12s\n",
      "Epoch 26 - Score: 0.6031\n"
     ]
    },
    {
     "name": "stdout",
     "output_type": "stream",
     "text": [
      "EVAL: [8/9] Data 0.005 (0.022) Elapsed 0m 0s (remain 0m 0s) \n",
      "Epoch: [27][0/40] Data 0.046 (0.046) Elapsed 0m 0s (remain 0m 11s) Loss: 0.0239(0.0239) Grad Norm: 1.0264  LR: 4.3974e-04  \n",
      "Epoch: [27][39/40] Data 0.041 (0.044) Elapsed 0m 11s (remain 0m 0s) Loss: 0.0749(0.5366) Grad Norm: 5.5055  LR: 4.3974e-04  \n",
      "EVAL: [0/9] Data 0.025 (0.025) Elapsed 0m 0s (remain 0m 0s) \n"
     ]
    },
    {
     "name": "stderr",
     "output_type": "stream",
     "text": [
      "labels: [2 7 2 3 0]\n",
      "pred_labels: [5 7 2 4 6]\n",
      "Epoch 27 - avg_train_loss: 0.5366  lr: 4.3974e-04  time: 13s\n",
      "Epoch 27 - Score: 0.6031\n"
     ]
    },
    {
     "name": "stdout",
     "output_type": "stream",
     "text": [
      "EVAL: [8/9] Data 0.005 (0.022) Elapsed 0m 0s (remain 0m 0s) \n",
      "Epoch: [28][0/40] Data 0.040 (0.040) Elapsed 0m 0s (remain 0m 11s) Loss: 0.8804(0.8804) Grad Norm: 4.7918  LR: 4.0874e-04  \n",
      "Epoch: [28][39/40] Data 0.041 (0.043) Elapsed 0m 11s (remain 0m 0s) Loss: 0.0331(0.6354) Grad Norm: 3.8512  LR: 4.0874e-04  \n",
      "EVAL: [0/9] Data 0.025 (0.025) Elapsed 0m 0s (remain 0m 0s) \n"
     ]
    },
    {
     "name": "stderr",
     "output_type": "stream",
     "text": [
      "labels: [2 7 2 3 0]\n",
      "pred_labels: [5 7 2 2 6]\n",
      "Epoch 28 - avg_train_loss: 0.6354  lr: 4.0874e-04  time: 13s\n",
      "Epoch 28 - Score: 0.6336\n",
      "Epoch 28 - Save Best Score: 0.6336 Model\n"
     ]
    },
    {
     "name": "stdout",
     "output_type": "stream",
     "text": [
      "EVAL: [8/9] Data 0.004 (0.022) Elapsed 0m 0s (remain 0m 0s) \n",
      "Epoch: [29][0/40] Data 0.048 (0.048) Elapsed 0m 0s (remain 0m 13s) Loss: 0.0034(0.0034) Grad Norm: 0.0876  LR: 3.7811e-04  \n",
      "Epoch: [29][39/40] Data 0.050 (0.044) Elapsed 0m 11s (remain 0m 0s) Loss: 0.7816(0.5502) Grad Norm: 5.4997  LR: 3.7811e-04  \n",
      "EVAL: [0/9] Data 0.025 (0.025) Elapsed 0m 0s (remain 0m 0s) \n"
     ]
    },
    {
     "name": "stderr",
     "output_type": "stream",
     "text": [
      "labels: [2 7 2 3 0]\n",
      "pred_labels: [5 7 2 4 6]\n",
      "Epoch 29 - avg_train_loss: 0.5502  lr: 3.7811e-04  time: 13s\n",
      "Epoch 29 - Score: 0.5802\n"
     ]
    },
    {
     "name": "stdout",
     "output_type": "stream",
     "text": [
      "EVAL: [8/9] Data 0.005 (0.022) Elapsed 0m 0s (remain 0m 0s) \n",
      "Epoch: [30][0/40] Data 0.044 (0.044) Elapsed 0m 0s (remain 0m 11s) Loss: 1.0673(1.0673) Grad Norm: 5.9602  LR: 3.4797e-04  \n",
      "Epoch: [30][39/40] Data 0.042 (0.044) Elapsed 0m 11s (remain 0m 0s) Loss: 0.0074(0.5150) Grad Norm: 0.2923  LR: 3.4797e-04  \n",
      "EVAL: [0/9] Data 0.024 (0.024) Elapsed 0m 0s (remain 0m 0s) \n"
     ]
    },
    {
     "name": "stderr",
     "output_type": "stream",
     "text": [
      "labels: [2 7 2 3 0]\n",
      "pred_labels: [5 7 2 2 2]\n",
      "Epoch 30 - avg_train_loss: 0.5150  lr: 3.4797e-04  time: 13s\n",
      "Epoch 30 - Score: 0.5802\n"
     ]
    },
    {
     "name": "stdout",
     "output_type": "stream",
     "text": [
      "EVAL: [8/9] Data 0.005 (0.022) Elapsed 0m 0s (remain 0m 0s) \n",
      "Epoch: [31][0/40] Data 0.051 (0.051) Elapsed 0m 0s (remain 0m 11s) Loss: 0.0085(0.0085) Grad Norm: 0.5666  LR: 3.1843e-04  \n",
      "Epoch: [31][39/40] Data 0.041 (0.044) Elapsed 0m 11s (remain 0m 0s) Loss: 0.0100(0.4703) Grad Norm: 0.5073  LR: 3.1843e-04  \n",
      "EVAL: [0/9] Data 0.023 (0.023) Elapsed 0m 0s (remain 0m 0s) \n"
     ]
    },
    {
     "name": "stderr",
     "output_type": "stream",
     "text": [
      "labels: [2 7 2 3 0]\n",
      "pred_labels: [5 7 2 2 6]\n",
      "Epoch 31 - avg_train_loss: 0.4703  lr: 3.1843e-04  time: 13s\n",
      "Epoch 31 - Score: 0.6031\n"
     ]
    },
    {
     "name": "stdout",
     "output_type": "stream",
     "text": [
      "EVAL: [8/9] Data 0.005 (0.022) Elapsed 0m 0s (remain 0m 0s) \n",
      "Epoch: [32][0/40] Data 0.037 (0.037) Elapsed 0m 0s (remain 0m 10s) Loss: 0.9341(0.9341) Grad Norm: 4.3416  LR: 2.8962e-04  \n",
      "Epoch: [32][39/40] Data 0.039 (0.043) Elapsed 0m 11s (remain 0m 0s) Loss: 0.9423(0.6144) Grad Norm: 5.3562  LR: 2.8962e-04  \n",
      "EVAL: [0/9] Data 0.024 (0.024) Elapsed 0m 0s (remain 0m 0s) \n"
     ]
    },
    {
     "name": "stderr",
     "output_type": "stream",
     "text": [
      "labels: [2 7 2 3 0]\n",
      "pred_labels: [5 7 2 2 6]\n",
      "Epoch 32 - avg_train_loss: 0.6144  lr: 2.8962e-04  time: 13s\n",
      "Epoch 32 - Score: 0.5725\n"
     ]
    },
    {
     "name": "stdout",
     "output_type": "stream",
     "text": [
      "EVAL: [8/9] Data 0.005 (0.022) Elapsed 0m 0s (remain 0m 0s) \n",
      "Epoch: [33][0/40] Data 0.038 (0.038) Elapsed 0m 0s (remain 0m 10s) Loss: 0.0194(0.0194) Grad Norm: 1.3566  LR: 2.6165e-04  \n",
      "Epoch: [33][39/40] Data 0.044 (0.045) Elapsed 0m 12s (remain 0m 0s) Loss: 0.0040(0.5397) Grad Norm: 0.1760  LR: 2.6165e-04  \n",
      "EVAL: [0/9] Data 0.023 (0.023) Elapsed 0m 0s (remain 0m 0s) \n"
     ]
    },
    {
     "name": "stderr",
     "output_type": "stream",
     "text": [
      "labels: [2 7 2 3 0]\n",
      "pred_labels: [5 7 2 4 6]\n",
      "Epoch 33 - avg_train_loss: 0.5397  lr: 2.6165e-04  time: 13s\n",
      "Epoch 33 - Score: 0.6107\n"
     ]
    },
    {
     "name": "stdout",
     "output_type": "stream",
     "text": [
      "EVAL: [8/9] Data 0.005 (0.022) Elapsed 0m 0s (remain 0m 0s) \n",
      "Epoch: [34][0/40] Data 0.045 (0.045) Elapsed 0m 0s (remain 0m 11s) Loss: 0.7348(0.7348) Grad Norm: 19.7760  LR: 2.3463e-04  \n",
      "Epoch: [34][39/40] Data 0.043 (0.044) Elapsed 0m 11s (remain 0m 0s) Loss: 0.2634(0.3552) Grad Norm: 4.9164  LR: 2.3463e-04  \n",
      "EVAL: [0/9] Data 0.024 (0.024) Elapsed 0m 0s (remain 0m 0s) \n"
     ]
    },
    {
     "name": "stderr",
     "output_type": "stream",
     "text": [
      "labels: [2 7 2 3 0]\n",
      "pred_labels: [5 7 2 2 6]\n",
      "Epoch 34 - avg_train_loss: 0.3552  lr: 2.3463e-04  time: 13s\n",
      "Epoch 34 - Score: 0.6336\n"
     ]
    },
    {
     "name": "stdout",
     "output_type": "stream",
     "text": [
      "EVAL: [8/9] Data 0.005 (0.022) Elapsed 0m 0s (remain 0m 0s) \n",
      "Epoch: [35][0/40] Data 0.047 (0.047) Elapsed 0m 0s (remain 0m 11s) Loss: 0.0015(0.0015) Grad Norm: 0.0495  LR: 2.0866e-04  \n",
      "Epoch: [35][39/40] Data 0.041 (0.045) Elapsed 0m 11s (remain 0m 0s) Loss: 0.0008(0.3829) Grad Norm: 0.0276  LR: 2.0866e-04  \n",
      "EVAL: [0/9] Data 0.026 (0.026) Elapsed 0m 0s (remain 0m 0s) \n"
     ]
    },
    {
     "name": "stderr",
     "output_type": "stream",
     "text": [
      "labels: [2 7 2 3 0]\n",
      "pred_labels: [5 7 2 2 6]\n",
      "Epoch 35 - avg_train_loss: 0.3829  lr: 2.0866e-04  time: 13s\n",
      "Epoch 35 - Score: 0.6183\n"
     ]
    },
    {
     "name": "stdout",
     "output_type": "stream",
     "text": [
      "EVAL: [8/9] Data 0.005 (0.022) Elapsed 0m 0s (remain 0m 0s) \n",
      "Epoch: [36][0/40] Data 0.040 (0.040) Elapsed 0m 0s (remain 0m 11s) Loss: 0.0008(0.0008) Grad Norm: 0.0253  LR: 1.8385e-04  \n",
      "Epoch: [36][39/40] Data 0.057 (0.044) Elapsed 0m 12s (remain 0m 0s) Loss: 0.2264(0.3206) Grad Norm: 21.4650  LR: 1.8385e-04  \n",
      "EVAL: [0/9] Data 0.024 (0.024) Elapsed 0m 0s (remain 0m 0s) \n"
     ]
    },
    {
     "name": "stderr",
     "output_type": "stream",
     "text": [
      "labels: [2 7 2 3 0]\n",
      "pred_labels: [5 7 2 2 6]\n",
      "Epoch 36 - avg_train_loss: 0.3206  lr: 1.8385e-04  time: 13s\n",
      "Epoch 36 - Score: 0.6412\n",
      "Epoch 36 - Save Best Score: 0.6412 Model\n"
     ]
    },
    {
     "name": "stdout",
     "output_type": "stream",
     "text": [
      "EVAL: [8/9] Data 0.005 (0.022) Elapsed 0m 0s (remain 0m 0s) \n",
      "Epoch: [37][0/40] Data 0.061 (0.061) Elapsed 0m 0s (remain 0m 12s) Loss: 0.0013(0.0013) Grad Norm: 0.0563  LR: 1.6030e-04  \n",
      "Epoch: [37][39/40] Data 0.043 (0.045) Elapsed 0m 12s (remain 0m 0s) Loss: 0.0185(0.4286) Grad Norm: 1.2744  LR: 1.6030e-04  \n",
      "EVAL: [0/9] Data 0.024 (0.024) Elapsed 0m 0s (remain 0m 0s) \n"
     ]
    },
    {
     "name": "stderr",
     "output_type": "stream",
     "text": [
      "labels: [2 7 2 3 0]\n",
      "pred_labels: [5 7 2 2 0]\n",
      "Epoch 37 - avg_train_loss: 0.4286  lr: 1.6030e-04  time: 13s\n",
      "Epoch 37 - Score: 0.6412\n"
     ]
    },
    {
     "name": "stdout",
     "output_type": "stream",
     "text": [
      "EVAL: [8/9] Data 0.005 (0.022) Elapsed 0m 0s (remain 0m 0s) \n",
      "Epoch: [38][0/40] Data 0.042 (0.042) Elapsed 0m 0s (remain 0m 11s) Loss: 1.2054(1.2054) Grad Norm: 7.9777  LR: 1.3809e-04  \n",
      "Epoch: [38][39/40] Data 0.045 (0.044) Elapsed 0m 12s (remain 0m 0s) Loss: 0.6080(0.3733) Grad Norm: 3.1054  LR: 1.3809e-04  \n",
      "EVAL: [0/9] Data 0.025 (0.025) Elapsed 0m 0s (remain 0m 0s) \n"
     ]
    },
    {
     "name": "stderr",
     "output_type": "stream",
     "text": [
      "labels: [2 7 2 3 0]\n",
      "pred_labels: [5 4 2 2 6]\n",
      "Epoch 38 - avg_train_loss: 0.3733  lr: 1.3809e-04  time: 13s\n",
      "Epoch 38 - Score: 0.6107\n"
     ]
    },
    {
     "name": "stdout",
     "output_type": "stream",
     "text": [
      "EVAL: [8/9] Data 0.005 (0.022) Elapsed 0m 0s (remain 0m 0s) \n",
      "Epoch: [39][0/40] Data 0.050 (0.050) Elapsed 0m 0s (remain 0m 11s) Loss: 0.0027(0.0027) Grad Norm: 0.1616  LR: 1.1732e-04  \n",
      "Epoch: [39][39/40] Data 0.038 (0.045) Elapsed 0m 12s (remain 0m 0s) Loss: 0.0009(0.3441) Grad Norm: 0.0230  LR: 1.1732e-04  \n",
      "EVAL: [0/9] Data 0.025 (0.025) Elapsed 0m 0s (remain 0m 0s) \n"
     ]
    },
    {
     "name": "stderr",
     "output_type": "stream",
     "text": [
      "labels: [2 7 2 3 0]\n",
      "pred_labels: [5 7 2 2 6]\n",
      "Epoch 39 - avg_train_loss: 0.3441  lr: 1.1732e-04  time: 13s\n",
      "Epoch 39 - Score: 0.6565\n",
      "Epoch 39 - Save Best Score: 0.6565 Model\n"
     ]
    },
    {
     "name": "stdout",
     "output_type": "stream",
     "text": [
      "EVAL: [8/9] Data 0.005 (0.022) Elapsed 0m 0s (remain 0m 0s) \n",
      "Epoch: [40][0/40] Data 0.042 (0.042) Elapsed 0m 0s (remain 0m 12s) Loss: 0.9234(0.9234) Grad Norm: 5.0383  LR: 9.8058e-05  \n",
      "Epoch: [40][39/40] Data 0.040 (0.045) Elapsed 0m 12s (remain 0m 0s) Loss: 0.7710(0.5926) Grad Norm: 3.0330  LR: 9.8058e-05  \n",
      "EVAL: [0/9] Data 0.025 (0.025) Elapsed 0m 0s (remain 0m 0s) \n"
     ]
    },
    {
     "name": "stderr",
     "output_type": "stream",
     "text": [
      "labels: [2 7 2 3 0]\n",
      "pred_labels: [5 7 2 4 6]\n",
      "Epoch 40 - avg_train_loss: 0.5926  lr: 9.8058e-05  time: 13s\n",
      "Epoch 40 - Score: 0.6489\n"
     ]
    },
    {
     "name": "stdout",
     "output_type": "stream",
     "text": [
      "EVAL: [8/9] Data 0.005 (0.022) Elapsed 0m 0s (remain 0m 0s) \n",
      "Epoch: [41][0/40] Data 0.044 (0.044) Elapsed 0m 0s (remain 0m 11s) Loss: 0.0020(0.0020) Grad Norm: 0.1191  LR: 8.0390e-05  \n",
      "Epoch: [41][39/40] Data 0.044 (0.044) Elapsed 0m 11s (remain 0m 0s) Loss: 0.9177(0.5669) Grad Norm: 6.8475  LR: 8.0390e-05  \n",
      "EVAL: [0/9] Data 0.025 (0.025) Elapsed 0m 0s (remain 0m 0s) \n"
     ]
    },
    {
     "name": "stderr",
     "output_type": "stream",
     "text": [
      "labels: [2 7 2 3 0]\n",
      "pred_labels: [5 7 2 4 6]\n",
      "Epoch 41 - avg_train_loss: 0.5669  lr: 8.0390e-05  time: 13s\n",
      "Epoch 41 - Score: 0.6489\n"
     ]
    },
    {
     "name": "stdout",
     "output_type": "stream",
     "text": [
      "EVAL: [8/9] Data 0.005 (0.022) Elapsed 0m 0s (remain 0m 0s) \n",
      "Epoch: [42][0/40] Data 0.042 (0.042) Elapsed 0m 0s (remain 0m 11s) Loss: 0.0016(0.0016) Grad Norm: 0.1002  LR: 6.4381e-05  \n",
      "Epoch: [42][39/40] Data 0.037 (0.046) Elapsed 0m 12s (remain 0m 0s) Loss: 0.6538(0.4061) Grad Norm: 3.3109  LR: 6.4381e-05  \n",
      "EVAL: [0/9] Data 0.024 (0.024) Elapsed 0m 0s (remain 0m 0s) \n"
     ]
    },
    {
     "name": "stderr",
     "output_type": "stream",
     "text": [
      "labels: [2 7 2 3 0]\n",
      "pred_labels: [5 7 2 4 6]\n",
      "Epoch 42 - avg_train_loss: 0.4061  lr: 6.4381e-05  time: 13s\n",
      "Epoch 42 - Score: 0.6336\n"
     ]
    },
    {
     "name": "stdout",
     "output_type": "stream",
     "text": [
      "EVAL: [8/9] Data 0.005 (0.023) Elapsed 0m 0s (remain 0m 0s) \n",
      "Epoch: [43][0/40] Data 0.042 (0.042) Elapsed 0m 0s (remain 0m 11s) Loss: 0.0024(0.0024) Grad Norm: 0.1653  LR: 5.0093e-05  \n",
      "Epoch: [43][39/40] Data 0.046 (0.044) Elapsed 0m 11s (remain 0m 0s) Loss: 0.0009(0.3622) Grad Norm: 0.0259  LR: 5.0093e-05  \n",
      "EVAL: [0/9] Data 0.024 (0.024) Elapsed 0m 0s (remain 0m 0s) \n"
     ]
    },
    {
     "name": "stderr",
     "output_type": "stream",
     "text": [
      "labels: [2 7 2 3 0]\n",
      "pred_labels: [5 7 2 4 6]\n",
      "Epoch 43 - avg_train_loss: 0.3622  lr: 5.0093e-05  time: 13s\n",
      "Epoch 43 - Score: 0.6260\n"
     ]
    },
    {
     "name": "stdout",
     "output_type": "stream",
     "text": [
      "EVAL: [8/9] Data 0.005 (0.023) Elapsed 0m 0s (remain 0m 0s) \n",
      "Epoch: [44][0/40] Data 0.044 (0.044) Elapsed 0m 0s (remain 0m 11s) Loss: 0.6995(0.6995) Grad Norm: 4.4541  LR: 3.7578e-05  \n",
      "Epoch: [44][39/40] Data 0.041 (0.044) Elapsed 0m 11s (remain 0m 0s) Loss: 0.0006(0.3793) Grad Norm: 0.0555  LR: 3.7578e-05  \n",
      "EVAL: [0/9] Data 0.025 (0.025) Elapsed 0m 0s (remain 0m 0s) \n"
     ]
    },
    {
     "name": "stderr",
     "output_type": "stream",
     "text": [
      "labels: [2 7 2 3 0]\n",
      "pred_labels: [5 7 2 4 6]\n",
      "Epoch 44 - avg_train_loss: 0.3793  lr: 3.7578e-05  time: 13s\n",
      "Epoch 44 - Score: 0.6183\n"
     ]
    },
    {
     "name": "stdout",
     "output_type": "stream",
     "text": [
      "EVAL: [8/9] Data 0.005 (0.022) Elapsed 0m 0s (remain 0m 0s) \n",
      "Epoch: [45][0/40] Data 0.039 (0.039) Elapsed 0m 0s (remain 0m 11s) Loss: 0.0005(0.0005) Grad Norm: 0.0208  LR: 2.6881e-05  \n",
      "Epoch: [45][39/40] Data 0.047 (0.044) Elapsed 0m 12s (remain 0m 0s) Loss: 0.7754(0.4086) Grad Norm: 4.6952  LR: 2.6881e-05  \n",
      "EVAL: [0/9] Data 0.025 (0.025) Elapsed 0m 0s (remain 0m 0s) \n"
     ]
    },
    {
     "name": "stderr",
     "output_type": "stream",
     "text": [
      "labels: [2 7 2 3 0]\n",
      "pred_labels: [5 7 2 4 6]\n",
      "Epoch 45 - avg_train_loss: 0.4086  lr: 2.6881e-05  time: 13s\n",
      "Epoch 45 - Score: 0.6336\n"
     ]
    },
    {
     "name": "stdout",
     "output_type": "stream",
     "text": [
      "EVAL: [8/9] Data 0.005 (0.022) Elapsed 0m 0s (remain 0m 0s) \n",
      "Epoch: [46][0/40] Data 0.044 (0.044) Elapsed 0m 0s (remain 0m 11s) Loss: 0.0003(0.0003) Grad Norm: 0.0176  LR: 1.8039e-05  \n",
      "Epoch: [46][39/40] Data 0.049 (0.044) Elapsed 0m 11s (remain 0m 0s) Loss: 0.0054(0.0017) Grad Norm: 0.3705  LR: 1.8039e-05  \n",
      "EVAL: [0/9] Data 0.024 (0.024) Elapsed 0m 0s (remain 0m 0s) \n"
     ]
    },
    {
     "name": "stderr",
     "output_type": "stream",
     "text": [
      "labels: [2 7 2 3 0]\n",
      "pred_labels: [5 7 2 4 6]\n",
      "Epoch 46 - avg_train_loss: 0.0017  lr: 1.8039e-05  time: 13s\n",
      "Epoch 46 - Score: 0.6260\n"
     ]
    },
    {
     "name": "stdout",
     "output_type": "stream",
     "text": [
      "EVAL: [8/9] Data 0.006 (0.023) Elapsed 0m 0s (remain 0m 0s) \n",
      "Epoch: [47][0/40] Data 0.046 (0.046) Elapsed 0m 0s (remain 0m 12s) Loss: 0.0021(0.0021) Grad Norm: 0.0912  LR: 1.1073e-05  \n",
      "Epoch: [47][39/40] Data 0.043 (0.044) Elapsed 0m 11s (remain 0m 0s) Loss: 0.0007(0.0026) Grad Norm: 0.0952  LR: 1.1073e-05  \n",
      "EVAL: [0/9] Data 0.024 (0.024) Elapsed 0m 0s (remain 0m 0s) \n"
     ]
    },
    {
     "name": "stderr",
     "output_type": "stream",
     "text": [
      "labels: [2 7 2 3 0]\n",
      "pred_labels: [5 7 2 4 6]\n",
      "Epoch 47 - avg_train_loss: 0.0026  lr: 1.1073e-05  time: 13s\n",
      "Epoch 47 - Score: 0.6260\n"
     ]
    },
    {
     "name": "stdout",
     "output_type": "stream",
     "text": [
      "EVAL: [8/9] Data 0.005 (0.022) Elapsed 0m 0s (remain 0m 0s) \n",
      "Epoch: [48][0/40] Data 0.040 (0.040) Elapsed 0m 0s (remain 0m 11s) Loss: 0.0007(0.0007) Grad Norm: 0.0354  LR: 5.9882e-06  \n",
      "Epoch: [48][39/40] Data 0.047 (0.045) Elapsed 0m 11s (remain 0m 0s) Loss: 0.0049(0.0044) Grad Norm: 0.3063  LR: 5.9882e-06  \n",
      "EVAL: [0/9] Data 0.024 (0.024) Elapsed 0m 0s (remain 0m 0s) \n"
     ]
    },
    {
     "name": "stderr",
     "output_type": "stream",
     "text": [
      "labels: [2 7 2 3 0]\n",
      "pred_labels: [5 7 2 4 6]\n",
      "Epoch 48 - avg_train_loss: 0.0044  lr: 5.9882e-06  time: 13s\n",
      "Epoch 48 - Score: 0.6260\n"
     ]
    },
    {
     "name": "stdout",
     "output_type": "stream",
     "text": [
      "EVAL: [8/9] Data 0.005 (0.022) Elapsed 0m 0s (remain 0m 0s) \n",
      "Epoch: [49][0/40] Data 0.048 (0.048) Elapsed 0m 0s (remain 0m 11s) Loss: 0.0019(0.0019) Grad Norm: 0.1936  LR: 2.7534e-06  \n",
      "Epoch: [49][39/40] Data 0.039 (0.045) Elapsed 0m 11s (remain 0m 0s) Loss: 0.0006(0.0123) Grad Norm: 0.0167  LR: 2.7534e-06  \n",
      "EVAL: [0/9] Data 0.023 (0.023) Elapsed 0m 0s (remain 0m 0s) \n"
     ]
    },
    {
     "name": "stderr",
     "output_type": "stream",
     "text": [
      "labels: [2 7 2 3 0]\n",
      "pred_labels: [5 7 2 4 6]\n",
      "Epoch 49 - avg_train_loss: 0.0123  lr: 2.7534e-06  time: 13s\n",
      "Epoch 49 - Score: 0.6260\n"
     ]
    },
    {
     "name": "stdout",
     "output_type": "stream",
     "text": [
      "EVAL: [8/9] Data 0.005 (0.022) Elapsed 0m 0s (remain 0m 0s) \n",
      "Epoch: [50][0/40] Data 0.042 (0.042) Elapsed 0m 0s (remain 0m 11s) Loss: 0.0008(0.0008) Grad Norm: 0.0335  LR: 1.2467e-06  \n",
      "Epoch: [50][39/40] Data 0.044 (0.045) Elapsed 0m 12s (remain 0m 0s) Loss: 0.0007(0.0023) Grad Norm: 0.0621  LR: 1.2467e-06  \n",
      "EVAL: [0/9] Data 0.024 (0.024) Elapsed 0m 0s (remain 0m 0s) \n"
     ]
    },
    {
     "name": "stderr",
     "output_type": "stream",
     "text": [
      "labels: [2 7 2 3 0]\n",
      "pred_labels: [5 7 2 4 6]\n",
      "Epoch 50 - avg_train_loss: 0.0023  lr: 1.2467e-06  time: 13s\n",
      "Epoch 50 - Score: 0.6260\n",
      "==================== fold: 4, seed: 0 training ====================\n"
     ]
    },
    {
     "name": "stdout",
     "output_type": "stream",
     "text": [
      "EVAL: [8/9] Data 0.005 (0.022) Elapsed 0m 0s (remain 0m 0s) \n",
      "Epoch: [1][0/40] Data 0.050 (0.050) Elapsed 0m 0s (remain 0m 12s) Loss: 2.6678(2.6678) Grad Norm: 15.3676  LR: 1.0000e-03  \n",
      "Epoch: [1][39/40] Data 0.040 (0.044) Elapsed 0m 12s (remain 0m 0s) Loss: 2.0096(2.5372) Grad Norm: 9.8059  LR: 1.0000e-03  \n",
      "EVAL: [0/9] Data 0.025 (0.025) Elapsed 0m 0s (remain 0m 0s) \n"
     ]
    },
    {
     "name": "stderr",
     "output_type": "stream",
     "text": [
      "labels: [ 8  3  6  4 10]\n",
      "pred_labels: [ 6 11  2  9  2]\n",
      "Epoch 1 - avg_train_loss: 2.5372  lr: 1.0000e-03  time: 13s\n",
      "Epoch 1 - Score: 0.3000\n",
      "Epoch 1 - Save Best Score: 0.3000 Model\n"
     ]
    },
    {
     "name": "stdout",
     "output_type": "stream",
     "text": [
      "EVAL: [8/9] Data 0.003 (0.021) Elapsed 0m 0s (remain 0m 0s) \n",
      "Epoch: [2][0/40] Data 0.036 (0.036) Elapsed 0m 0s (remain 0m 12s) Loss: 2.3311(2.3311) Grad Norm: 8.3204  LR: 9.9803e-04  \n",
      "Epoch: [2][39/40] Data 0.043 (0.043) Elapsed 0m 12s (remain 0m 0s) Loss: 2.0213(2.2257) Grad Norm: 14.5891  LR: 9.9803e-04  \n",
      "EVAL: [0/9] Data 0.024 (0.024) Elapsed 0m 0s (remain 0m 0s) \n"
     ]
    },
    {
     "name": "stderr",
     "output_type": "stream",
     "text": [
      "labels: [ 8  3  6  4 10]\n",
      "pred_labels: [8 0 5 0 2]\n",
      "Epoch 2 - avg_train_loss: 2.2257  lr: 9.9803e-04  time: 13s\n",
      "Epoch 2 - Score: 0.4385\n",
      "Epoch 2 - Save Best Score: 0.4385 Model\n"
     ]
    },
    {
     "name": "stdout",
     "output_type": "stream",
     "text": [
      "EVAL: [8/9] Data 0.003 (0.022) Elapsed 0m 0s (remain 0m 0s) \n",
      "Epoch: [3][0/40] Data 0.044 (0.044) Elapsed 0m 0s (remain 0m 12s) Loss: 1.7821(1.7821) Grad Norm: 18.5013  LR: 9.9312e-04  \n",
      "Epoch: [3][39/40] Data 0.045 (0.044) Elapsed 0m 12s (remain 0m 0s) Loss: 1.9218(1.8398) Grad Norm: 9.3622  LR: 9.9312e-04  \n",
      "EVAL: [0/9] Data 0.025 (0.025) Elapsed 0m 0s (remain 0m 0s) \n"
     ]
    },
    {
     "name": "stderr",
     "output_type": "stream",
     "text": [
      "labels: [ 8  3  6  4 10]\n",
      "pred_labels: [8 5 2 0 2]\n",
      "Epoch 3 - avg_train_loss: 1.8398  lr: 9.9312e-04  time: 13s\n",
      "Epoch 3 - Score: 0.5462\n",
      "Epoch 3 - Save Best Score: 0.5462 Model\n"
     ]
    },
    {
     "name": "stdout",
     "output_type": "stream",
     "text": [
      "EVAL: [8/9] Data 0.003 (0.022) Elapsed 0m 0s (remain 0m 0s) \n",
      "Epoch: [4][0/40] Data 0.042 (0.042) Elapsed 0m 0s (remain 0m 12s) Loss: 0.7160(0.7160) Grad Norm: 9.0330  LR: 9.8627e-04  \n",
      "Epoch: [4][39/40] Data 0.044 (0.044) Elapsed 0m 12s (remain 0m 0s) Loss: 1.0295(1.6654) Grad Norm: 9.7451  LR: 9.8627e-04  \n",
      "EVAL: [0/9] Data 0.024 (0.024) Elapsed 0m 0s (remain 0m 0s) \n"
     ]
    },
    {
     "name": "stderr",
     "output_type": "stream",
     "text": [
      "labels: [ 8  3  6  4 10]\n",
      "pred_labels: [8 1 2 4 2]\n",
      "Epoch 4 - avg_train_loss: 1.6654  lr: 9.8627e-04  time: 13s\n",
      "Epoch 4 - Score: 0.5846\n",
      "Epoch 4 - Save Best Score: 0.5846 Model\n"
     ]
    },
    {
     "name": "stdout",
     "output_type": "stream",
     "text": [
      "EVAL: [8/9] Data 0.003 (0.022) Elapsed 0m 0s (remain 0m 0s) \n",
      "Epoch: [5][0/40] Data 0.046 (0.046) Elapsed 0m 0s (remain 0m 13s) Loss: 1.1027(1.1027) Grad Norm: 15.0039  LR: 9.7751e-04  \n",
      "Epoch: [5][39/40] Data 0.043 (0.045) Elapsed 0m 12s (remain 0m 0s) Loss: 0.8920(1.2849) Grad Norm: 14.0969  LR: 9.7751e-04  \n",
      "EVAL: [0/9] Data 0.023 (0.023) Elapsed 0m 0s (remain 0m 0s) \n"
     ]
    },
    {
     "name": "stderr",
     "output_type": "stream",
     "text": [
      "labels: [ 8  3  6  4 10]\n",
      "pred_labels: [2 1 6 2 2]\n",
      "Epoch 5 - avg_train_loss: 1.2849  lr: 9.7751e-04  time: 13s\n",
      "Epoch 5 - Score: 0.5846\n"
     ]
    },
    {
     "name": "stdout",
     "output_type": "stream",
     "text": [
      "EVAL: [8/9] Data 0.003 (0.021) Elapsed 0m 0s (remain 0m 0s) \n",
      "Epoch: [6][0/40] Data 0.041 (0.041) Elapsed 0m 0s (remain 0m 11s) Loss: 0.6022(0.6022) Grad Norm: 12.9938  LR: 9.6688e-04  \n",
      "Epoch: [6][39/40] Data 0.044 (0.045) Elapsed 0m 12s (remain 0m 0s) Loss: 1.4123(1.2225) Grad Norm: 6.5779  LR: 9.6688e-04  \n",
      "EVAL: [0/9] Data 0.025 (0.025) Elapsed 0m 0s (remain 0m 0s) \n"
     ]
    },
    {
     "name": "stderr",
     "output_type": "stream",
     "text": [
      "labels: [ 8  3  6  4 10]\n",
      "pred_labels: [8 1 5 2 2]\n",
      "Epoch 6 - avg_train_loss: 1.2225  lr: 9.6688e-04  time: 13s\n",
      "Epoch 6 - Score: 0.5615\n"
     ]
    },
    {
     "name": "stdout",
     "output_type": "stream",
     "text": [
      "EVAL: [8/9] Data 0.003 (0.022) Elapsed 0m 0s (remain 0m 0s) \n",
      "Epoch: [7][0/40] Data 0.048 (0.048) Elapsed 0m 0s (remain 0m 12s) Loss: 0.3852(0.3852) Grad Norm: 10.2242  LR: 9.5441e-04  \n",
      "Epoch: [7][39/40] Data 0.033 (0.045) Elapsed 0m 12s (remain 0m 0s) Loss: 1.8975(1.2866) Grad Norm: 8.0113  LR: 9.5441e-04  \n",
      "EVAL: [0/9] Data 0.024 (0.024) Elapsed 0m 0s (remain 0m 0s) \n"
     ]
    },
    {
     "name": "stderr",
     "output_type": "stream",
     "text": [
      "labels: [ 8  3  6  4 10]\n",
      "pred_labels: [ 8  1  0  2 10]\n",
      "Epoch 7 - avg_train_loss: 1.2866  lr: 9.5441e-04  time: 13s\n",
      "Epoch 7 - Score: 0.6308\n",
      "Epoch 7 - Save Best Score: 0.6308 Model\n"
     ]
    },
    {
     "name": "stdout",
     "output_type": "stream",
     "text": [
      "EVAL: [8/9] Data 0.003 (0.022) Elapsed 0m 0s (remain 0m 0s) \n",
      "Epoch: [8][0/40] Data 0.044 (0.044) Elapsed 0m 0s (remain 0m 12s) Loss: 0.5664(0.5664) Grad Norm: 24.8477  LR: 9.4016e-04  \n",
      "Epoch: [8][39/40] Data 0.043 (0.045) Elapsed 0m 12s (remain 0m 0s) Loss: 0.5024(1.0399) Grad Norm: 10.3080  LR: 9.4016e-04  \n",
      "EVAL: [0/9] Data 0.025 (0.025) Elapsed 0m 0s (remain 0m 0s) \n"
     ]
    },
    {
     "name": "stderr",
     "output_type": "stream",
     "text": [
      "labels: [ 8  3  6  4 10]\n",
      "pred_labels: [8 1 0 2 2]\n",
      "Epoch 8 - avg_train_loss: 1.0399  lr: 9.4016e-04  time: 13s\n",
      "Epoch 8 - Score: 0.6462\n",
      "Epoch 8 - Save Best Score: 0.6462 Model\n"
     ]
    },
    {
     "name": "stdout",
     "output_type": "stream",
     "text": [
      "EVAL: [8/9] Data 0.003 (0.022) Elapsed 0m 0s (remain 0m 0s) \n",
      "Epoch: [9][0/40] Data 0.039 (0.039) Elapsed 0m 0s (remain 0m 12s) Loss: 1.4320(1.4320) Grad Norm: 30.2888  LR: 9.2418e-04  \n",
      "Epoch: [9][39/40] Data 0.039 (0.044) Elapsed 0m 12s (remain 0m 0s) Loss: 1.6068(1.1028) Grad Norm: 17.1695  LR: 9.2418e-04  \n",
      "EVAL: [0/9] Data 0.025 (0.025) Elapsed 0m 0s (remain 0m 0s) \n"
     ]
    },
    {
     "name": "stderr",
     "output_type": "stream",
     "text": [
      "labels: [ 8  3  6  4 10]\n",
      "pred_labels: [8 3 2 4 2]\n",
      "Epoch 9 - avg_train_loss: 1.1028  lr: 9.2418e-04  time: 13s\n",
      "Epoch 9 - Score: 0.6231\n"
     ]
    },
    {
     "name": "stdout",
     "output_type": "stream",
     "text": [
      "EVAL: [8/9] Data 0.003 (0.022) Elapsed 0m 0s (remain 0m 0s) \n",
      "Epoch: [10][0/40] Data 0.047 (0.047) Elapsed 0m 0s (remain 0m 11s) Loss: 1.7007(1.7007) Grad Norm: 8.9517  LR: 9.0654e-04  \n",
      "Epoch: [10][39/40] Data 0.043 (0.042) Elapsed 0m 11s (remain 0m 0s) Loss: 1.3789(1.0833) Grad Norm: 8.8758  LR: 9.0654e-04  \n",
      "EVAL: [0/9] Data 0.025 (0.025) Elapsed 0m 0s (remain 0m 0s) \n"
     ]
    },
    {
     "name": "stderr",
     "output_type": "stream",
     "text": [
      "labels: [ 8  3  6  4 10]\n",
      "pred_labels: [8 3 0 3 1]\n",
      "Epoch 10 - avg_train_loss: 1.0833  lr: 9.0654e-04  time: 13s\n",
      "Epoch 10 - Score: 0.6615\n",
      "Epoch 10 - Save Best Score: 0.6615 Model\n"
     ]
    },
    {
     "name": "stdout",
     "output_type": "stream",
     "text": [
      "EVAL: [8/9] Data 0.003 (0.022) Elapsed 0m 0s (remain 0m 0s) \n",
      "Epoch: [11][0/40] Data 0.046 (0.046) Elapsed 0m 0s (remain 0m 12s) Loss: 1.4879(1.4879) Grad Norm: 8.3680  LR: 8.8730e-04  \n",
      "Epoch: [11][39/40] Data 0.046 (0.044) Elapsed 0m 12s (remain 0m 0s) Loss: 1.4996(0.9948) Grad Norm: 6.9417  LR: 8.8730e-04  \n",
      "EVAL: [0/9] Data 0.025 (0.025) Elapsed 0m 0s (remain 0m 0s) \n"
     ]
    },
    {
     "name": "stderr",
     "output_type": "stream",
     "text": [
      "labels: [ 8  3  6  4 10]\n",
      "pred_labels: [8 3 6 4 4]\n",
      "Epoch 11 - avg_train_loss: 0.9948  lr: 8.8730e-04  time: 13s\n",
      "Epoch 11 - Score: 0.6615\n"
     ]
    },
    {
     "name": "stdout",
     "output_type": "stream",
     "text": [
      "EVAL: [8/9] Data 0.003 (0.022) Elapsed 0m 0s (remain 0m 0s) \n",
      "Epoch: [12][0/40] Data 0.047 (0.047) Elapsed 0m 0s (remain 0m 11s) Loss: 1.3018(1.3018) Grad Norm: 8.7219  LR: 8.6655e-04  \n",
      "Epoch: [12][39/40] Data 0.038 (0.043) Elapsed 0m 12s (remain 0m 0s) Loss: 1.7842(1.0212) Grad Norm: 11.1983  LR: 8.6655e-04  \n",
      "EVAL: [0/9] Data 0.024 (0.024) Elapsed 0m 0s (remain 0m 0s) \n"
     ]
    },
    {
     "name": "stderr",
     "output_type": "stream",
     "text": [
      "labels: [ 8  3  6  4 10]\n",
      "pred_labels: [8 3 0 2 1]\n",
      "Epoch 12 - avg_train_loss: 1.0212  lr: 8.6655e-04  time: 13s\n",
      "Epoch 12 - Score: 0.6692\n",
      "Epoch 12 - Save Best Score: 0.6692 Model\n"
     ]
    },
    {
     "name": "stdout",
     "output_type": "stream",
     "text": [
      "EVAL: [8/9] Data 0.004 (0.022) Elapsed 0m 0s (remain 0m 0s) \n",
      "Epoch: [13][0/40] Data 0.052 (0.052) Elapsed 0m 0s (remain 0m 12s) Loss: 0.0508(0.0508) Grad Norm: 3.4251  LR: 8.4436e-04  \n",
      "Epoch: [13][39/40] Data 0.043 (0.045) Elapsed 0m 12s (remain 0m 0s) Loss: 1.1742(0.9509) Grad Norm: 6.8031  LR: 8.4436e-04  \n",
      "EVAL: [0/9] Data 0.024 (0.024) Elapsed 0m 0s (remain 0m 0s) \n"
     ]
    },
    {
     "name": "stderr",
     "output_type": "stream",
     "text": [
      "labels: [ 8  3  6  4 10]\n",
      "pred_labels: [8 3 0 2 1]\n",
      "Epoch 13 - avg_train_loss: 0.9509  lr: 8.4436e-04  time: 13s\n",
      "Epoch 13 - Score: 0.6385\n"
     ]
    },
    {
     "name": "stdout",
     "output_type": "stream",
     "text": [
      "EVAL: [8/9] Data 0.004 (0.022) Elapsed 0m 0s (remain 0m 0s) \n",
      "Epoch: [14][0/40] Data 0.038 (0.038) Elapsed 0m 0s (remain 0m 11s) Loss: 0.2881(0.2881) Grad Norm: 8.7874  LR: 8.2081e-04  \n",
      "Epoch: [14][39/40] Data 0.045 (0.044) Elapsed 0m 12s (remain 0m 0s) Loss: 0.2795(0.9028) Grad Norm: 12.3297  LR: 8.2081e-04  \n",
      "EVAL: [0/9] Data 0.024 (0.024) Elapsed 0m 0s (remain 0m 0s) \n"
     ]
    },
    {
     "name": "stderr",
     "output_type": "stream",
     "text": [
      "labels: [ 8  3  6  4 10]\n",
      "pred_labels: [8 3 0 2 4]\n",
      "Epoch 14 - avg_train_loss: 0.9028  lr: 8.2081e-04  time: 13s\n",
      "Epoch 14 - Score: 0.6769\n",
      "Epoch 14 - Save Best Score: 0.6769 Model\n"
     ]
    },
    {
     "name": "stdout",
     "output_type": "stream",
     "text": [
      "EVAL: [8/9] Data 0.004 (0.021) Elapsed 0m 0s (remain 0m 0s) \n",
      "Epoch: [15][0/40] Data 0.044 (0.044) Elapsed 0m 0s (remain 0m 12s) Loss: 0.1088(0.1088) Grad Norm: 7.4458  LR: 7.9601e-04  \n",
      "Epoch: [15][39/40] Data 0.039 (0.044) Elapsed 0m 12s (remain 0m 0s) Loss: 0.9742(0.8991) Grad Norm: 4.1641  LR: 7.9601e-04  \n",
      "EVAL: [0/9] Data 0.024 (0.024) Elapsed 0m 0s (remain 0m 0s) \n"
     ]
    },
    {
     "name": "stderr",
     "output_type": "stream",
     "text": [
      "labels: [ 8  3  6  4 10]\n",
      "pred_labels: [8 1 0 0 1]\n",
      "Epoch 15 - avg_train_loss: 0.8991  lr: 7.9601e-04  time: 13s\n",
      "Epoch 15 - Score: 0.6231\n"
     ]
    },
    {
     "name": "stdout",
     "output_type": "stream",
     "text": [
      "EVAL: [8/9] Data 0.004 (0.022) Elapsed 0m 0s (remain 0m 0s) \n",
      "Epoch: [16][0/40] Data 0.044 (0.044) Elapsed 0m 0s (remain 0m 11s) Loss: 0.1619(0.1619) Grad Norm: 4.8926  LR: 7.7006e-04  \n",
      "Epoch: [16][39/40] Data 0.043 (0.044) Elapsed 0m 12s (remain 0m 0s) Loss: 1.8080(0.8213) Grad Norm: 8.0835  LR: 7.7006e-04  \n",
      "EVAL: [0/9] Data 0.024 (0.024) Elapsed 0m 0s (remain 0m 0s) \n"
     ]
    },
    {
     "name": "stderr",
     "output_type": "stream",
     "text": [
      "labels: [ 8  3  6  4 10]\n",
      "pred_labels: [ 8  1  0  9 10]\n",
      "Epoch 16 - avg_train_loss: 0.8213  lr: 7.7006e-04  time: 13s\n",
      "Epoch 16 - Score: 0.6615\n"
     ]
    },
    {
     "name": "stdout",
     "output_type": "stream",
     "text": [
      "EVAL: [8/9] Data 0.003 (0.021) Elapsed 0m 0s (remain 0m 0s) \n",
      "Epoch: [17][0/40] Data 0.043 (0.043) Elapsed 0m 0s (remain 0m 11s) Loss: 0.0796(0.0796) Grad Norm: 3.0666  LR: 7.4304e-04  \n",
      "Epoch: [17][39/40] Data 0.049 (0.045) Elapsed 0m 12s (remain 0m 0s) Loss: 0.1692(0.9240) Grad Norm: 5.6333  LR: 7.4304e-04  \n",
      "EVAL: [0/9] Data 0.024 (0.024) Elapsed 0m 0s (remain 0m 0s) \n"
     ]
    },
    {
     "name": "stderr",
     "output_type": "stream",
     "text": [
      "labels: [ 8  3  6  4 10]\n",
      "pred_labels: [8 1 0 2 1]\n",
      "Epoch 17 - avg_train_loss: 0.9240  lr: 7.4304e-04  time: 13s\n",
      "Epoch 17 - Score: 0.6385\n"
     ]
    },
    {
     "name": "stdout",
     "output_type": "stream",
     "text": [
      "EVAL: [8/9] Data 0.003 (0.022) Elapsed 0m 0s (remain 0m 0s) \n",
      "Epoch: [18][0/40] Data 0.042 (0.042) Elapsed 0m 0s (remain 0m 11s) Loss: 0.9703(0.9703) Grad Norm: 4.6611  LR: 7.1508e-04  \n",
      "Epoch: [18][39/40] Data 0.045 (0.045) Elapsed 0m 12s (remain 0m 0s) Loss: 1.1877(1.0264) Grad Norm: 4.7269  LR: 7.1508e-04  \n",
      "EVAL: [0/9] Data 0.025 (0.025) Elapsed 0m 0s (remain 0m 0s) \n"
     ]
    },
    {
     "name": "stderr",
     "output_type": "stream",
     "text": [
      "labels: [ 8  3  6  4 10]\n",
      "pred_labels: [8 1 0 2 2]\n",
      "Epoch 18 - avg_train_loss: 1.0264  lr: 7.1508e-04  time: 13s\n",
      "Epoch 18 - Score: 0.6231\n"
     ]
    },
    {
     "name": "stdout",
     "output_type": "stream",
     "text": [
      "EVAL: [8/9] Data 0.003 (0.022) Elapsed 0m 0s (remain 0m 0s) \n",
      "Epoch: [19][0/40] Data 0.043 (0.043) Elapsed 0m 0s (remain 0m 11s) Loss: 1.1874(1.1874) Grad Norm: 7.1205  LR: 6.8627e-04  \n",
      "Epoch: [19][39/40] Data 0.039 (0.045) Elapsed 0m 12s (remain 0m 0s) Loss: 1.1520(0.8056) Grad Norm: 7.2320  LR: 6.8627e-04  \n",
      "EVAL: [0/9] Data 0.024 (0.024) Elapsed 0m 0s (remain 0m 0s) \n"
     ]
    },
    {
     "name": "stderr",
     "output_type": "stream",
     "text": [
      "labels: [ 8  3  6  4 10]\n",
      "pred_labels: [8 6 6 0 5]\n",
      "Epoch 19 - avg_train_loss: 0.8056  lr: 6.8627e-04  time: 13s\n",
      "Epoch 19 - Score: 0.5462\n"
     ]
    },
    {
     "name": "stdout",
     "output_type": "stream",
     "text": [
      "EVAL: [8/9] Data 0.003 (0.025) Elapsed 0m 0s (remain 0m 0s) \n",
      "Epoch: [20][0/40] Data 0.050 (0.050) Elapsed 0m 0s (remain 0m 12s) Loss: 1.2477(1.2477) Grad Norm: 9.8773  LR: 6.5674e-04  \n",
      "Epoch: [20][39/40] Data 0.046 (0.045) Elapsed 0m 11s (remain 0m 0s) Loss: 0.0783(0.7908) Grad Norm: 3.6226  LR: 6.5674e-04  \n",
      "EVAL: [0/9] Data 0.025 (0.025) Elapsed 0m 0s (remain 0m 0s) \n"
     ]
    },
    {
     "name": "stderr",
     "output_type": "stream",
     "text": [
      "labels: [ 8  3  6  4 10]\n",
      "pred_labels: [8 1 0 7 2]\n",
      "Epoch 20 - avg_train_loss: 0.7908  lr: 6.5674e-04  time: 13s\n",
      "Epoch 20 - Score: 0.6385\n"
     ]
    },
    {
     "name": "stdout",
     "output_type": "stream",
     "text": [
      "EVAL: [8/9] Data 0.004 (0.022) Elapsed 0m 0s (remain 0m 0s) \n",
      "Epoch: [21][0/40] Data 0.048 (0.048) Elapsed 0m 0s (remain 0m 11s) Loss: 0.1044(0.1044) Grad Norm: 3.5462  LR: 6.2661e-04  \n",
      "Epoch: [21][39/40] Data 0.046 (0.045) Elapsed 0m 11s (remain 0m 0s) Loss: 0.0171(0.6048) Grad Norm: 0.6015  LR: 6.2661e-04  \n",
      "EVAL: [0/9] Data 0.026 (0.026) Elapsed 0m 0s (remain 0m 0s) \n"
     ]
    },
    {
     "name": "stderr",
     "output_type": "stream",
     "text": [
      "labels: [ 8  3  6  4 10]\n",
      "pred_labels: [8 3 6 9 2]\n",
      "Epoch 21 - avg_train_loss: 0.6048  lr: 6.2661e-04  time: 13s\n",
      "Epoch 21 - Score: 0.6231\n"
     ]
    },
    {
     "name": "stdout",
     "output_type": "stream",
     "text": [
      "EVAL: [8/9] Data 0.003 (0.022) Elapsed 0m 0s (remain 0m 0s) \n",
      "Epoch: [22][0/40] Data 0.047 (0.047) Elapsed 0m 0s (remain 0m 11s) Loss: 0.0469(0.0469) Grad Norm: 3.9458  LR: 5.9598e-04  \n",
      "Epoch: [22][39/40] Data 0.045 (0.045) Elapsed 0m 11s (remain 0m 0s) Loss: 0.0680(0.5811) Grad Norm: 3.0653  LR: 5.9598e-04  \n",
      "EVAL: [0/9] Data 0.025 (0.025) Elapsed 0m 0s (remain 0m 0s) \n"
     ]
    },
    {
     "name": "stderr",
     "output_type": "stream",
     "text": [
      "labels: [ 8  3  6  4 10]\n",
      "pred_labels: [8 3 6 1 5]\n",
      "Epoch 22 - avg_train_loss: 0.5811  lr: 5.9598e-04  time: 13s\n",
      "Epoch 22 - Score: 0.6615\n"
     ]
    },
    {
     "name": "stdout",
     "output_type": "stream",
     "text": [
      "EVAL: [8/9] Data 0.003 (0.022) Elapsed 0m 0s (remain 0m 0s) \n",
      "Epoch: [23][0/40] Data 0.050 (0.050) Elapsed 0m 0s (remain 0m 11s) Loss: 0.0513(0.0513) Grad Norm: 3.9921  LR: 5.6498e-04  \n",
      "Epoch: [23][39/40] Data 0.040 (0.043) Elapsed 0m 11s (remain 0m 0s) Loss: 0.7737(0.5811) Grad Norm: 3.3876  LR: 5.6498e-04  \n",
      "EVAL: [0/9] Data 0.023 (0.023) Elapsed 0m 0s (remain 0m 0s) \n"
     ]
    },
    {
     "name": "stderr",
     "output_type": "stream",
     "text": [
      "labels: [ 8  3  6  4 10]\n",
      "pred_labels: [8 3 6 0 1]\n",
      "Epoch 23 - avg_train_loss: 0.5811  lr: 5.6498e-04  time: 13s\n",
      "Epoch 23 - Score: 0.6308\n"
     ]
    },
    {
     "name": "stdout",
     "output_type": "stream",
     "text": [
      "EVAL: [8/9] Data 0.004 (0.022) Elapsed 0m 0s (remain 0m 0s) \n",
      "Epoch: [24][0/40] Data 0.044 (0.044) Elapsed 0m 0s (remain 0m 11s) Loss: 0.0200(0.0200) Grad Norm: 0.7902  LR: 5.3373e-04  \n",
      "Epoch: [24][39/40] Data 0.039 (0.042) Elapsed 0m 11s (remain 0m 0s) Loss: 0.0393(0.6493) Grad Norm: 1.9809  LR: 5.3373e-04  \n",
      "EVAL: [0/9] Data 0.026 (0.026) Elapsed 0m 0s (remain 0m 0s) \n"
     ]
    },
    {
     "name": "stderr",
     "output_type": "stream",
     "text": [
      "labels: [ 8  3  6  4 10]\n",
      "pred_labels: [8 3 0 1 1]\n",
      "Epoch 24 - avg_train_loss: 0.6493  lr: 5.3373e-04  time: 13s\n",
      "Epoch 24 - Score: 0.6692\n"
     ]
    },
    {
     "name": "stdout",
     "output_type": "stream",
     "text": [
      "EVAL: [8/9] Data 0.003 (0.022) Elapsed 0m 0s (remain 0m 0s) \n",
      "Epoch: [25][0/40] Data 0.039 (0.039) Elapsed 0m 0s (remain 0m 11s) Loss: 0.1561(0.1561) Grad Norm: 5.2578  LR: 5.0236e-04  \n",
      "Epoch: [25][39/40] Data 0.041 (0.044) Elapsed 0m 11s (remain 0m 0s) Loss: 0.2891(0.7584) Grad Norm: 16.8193  LR: 5.0236e-04  \n",
      "EVAL: [0/9] Data 0.024 (0.024) Elapsed 0m 0s (remain 0m 0s) \n"
     ]
    },
    {
     "name": "stderr",
     "output_type": "stream",
     "text": [
      "labels: [ 8  3  6  4 10]\n",
      "pred_labels: [8 3 0 9 1]\n",
      "Epoch 25 - avg_train_loss: 0.7584  lr: 5.0236e-04  time: 13s\n",
      "Epoch 25 - Score: 0.6231\n"
     ]
    },
    {
     "name": "stdout",
     "output_type": "stream",
     "text": [
      "EVAL: [8/9] Data 0.003 (0.021) Elapsed 0m 0s (remain 0m 0s) \n",
      "Epoch: [26][0/40] Data 0.049 (0.049) Elapsed 0m 0s (remain 0m 11s) Loss: 0.0048(0.0048) Grad Norm: 0.2029  LR: 4.7099e-04  \n",
      "Epoch: [26][39/40] Data 0.041 (0.043) Elapsed 0m 11s (remain 0m 0s) Loss: 0.0552(0.5728) Grad Norm: 10.3344  LR: 4.7099e-04  \n",
      "EVAL: [0/9] Data 0.025 (0.025) Elapsed 0m 0s (remain 0m 0s) \n"
     ]
    },
    {
     "name": "stderr",
     "output_type": "stream",
     "text": [
      "labels: [ 8  3  6  4 10]\n",
      "pred_labels: [8 3 0 9 1]\n",
      "Epoch 26 - avg_train_loss: 0.5728  lr: 4.7099e-04  time: 13s\n",
      "Epoch 26 - Score: 0.6538\n"
     ]
    },
    {
     "name": "stdout",
     "output_type": "stream",
     "text": [
      "EVAL: [8/9] Data 0.003 (0.022) Elapsed 0m 0s (remain 0m 0s) \n",
      "Epoch: [27][0/40] Data 0.049 (0.049) Elapsed 0m 0s (remain 0m 11s) Loss: 0.0110(0.0110) Grad Norm: 1.5538  LR: 4.3974e-04  \n",
      "Epoch: [27][39/40] Data 0.043 (0.044) Elapsed 0m 11s (remain 0m 0s) Loss: 0.0577(0.4422) Grad Norm: 3.6305  LR: 4.3974e-04  \n",
      "EVAL: [0/9] Data 0.024 (0.024) Elapsed 0m 0s (remain 0m 0s) \n"
     ]
    },
    {
     "name": "stderr",
     "output_type": "stream",
     "text": [
      "labels: [ 8  3  6  4 10]\n",
      "pred_labels: [8 3 0 9 2]\n",
      "Epoch 27 - avg_train_loss: 0.4422  lr: 4.3974e-04  time: 13s\n",
      "Epoch 27 - Score: 0.6538\n"
     ]
    },
    {
     "name": "stdout",
     "output_type": "stream",
     "text": [
      "EVAL: [8/9] Data 0.003 (0.021) Elapsed 0m 0s (remain 0m 0s) \n",
      "Epoch: [28][0/40] Data 0.043 (0.043) Elapsed 0m 0s (remain 0m 11s) Loss: 0.0067(0.0067) Grad Norm: 0.2370  LR: 4.0874e-04  \n",
      "Epoch: [28][39/40] Data 0.043 (0.043) Elapsed 0m 11s (remain 0m 0s) Loss: 0.0106(0.7037) Grad Norm: 0.3950  LR: 4.0874e-04  \n",
      "EVAL: [0/9] Data 0.024 (0.024) Elapsed 0m 0s (remain 0m 0s) \n"
     ]
    },
    {
     "name": "stderr",
     "output_type": "stream",
     "text": [
      "labels: [ 8  3  6  4 10]\n",
      "pred_labels: [8 3 0 9 2]\n",
      "Epoch 28 - avg_train_loss: 0.7037  lr: 4.0874e-04  time: 13s\n",
      "Epoch 28 - Score: 0.6308\n"
     ]
    },
    {
     "name": "stdout",
     "output_type": "stream",
     "text": [
      "EVAL: [8/9] Data 0.003 (0.022) Elapsed 0m 0s (remain 0m 0s) \n",
      "Epoch: [29][0/40] Data 0.042 (0.042) Elapsed 0m 0s (remain 0m 11s) Loss: 0.7420(0.7420) Grad Norm: 3.5541  LR: 3.7811e-04  \n",
      "Epoch: [29][39/40] Data 0.049 (0.044) Elapsed 0m 11s (remain 0m 0s) Loss: 0.0244(0.7164) Grad Norm: 1.1076  LR: 3.7811e-04  \n",
      "EVAL: [0/9] Data 0.025 (0.025) Elapsed 0m 0s (remain 0m 0s) \n"
     ]
    },
    {
     "name": "stderr",
     "output_type": "stream",
     "text": [
      "labels: [ 8  3  6  4 10]\n",
      "pred_labels: [ 8  3  6  9 10]\n",
      "Epoch 29 - avg_train_loss: 0.7164  lr: 3.7811e-04  time: 13s\n",
      "Epoch 29 - Score: 0.6846\n",
      "Epoch 29 - Save Best Score: 0.6846 Model\n"
     ]
    },
    {
     "name": "stdout",
     "output_type": "stream",
     "text": [
      "EVAL: [8/9] Data 0.003 (0.022) Elapsed 0m 0s (remain 0m 0s) \n",
      "Epoch: [30][0/40] Data 0.046 (0.046) Elapsed 0m 0s (remain 0m 11s) Loss: 0.0165(0.0165) Grad Norm: 0.8036  LR: 3.4797e-04  \n",
      "Epoch: [30][39/40] Data 0.043 (0.046) Elapsed 0m 12s (remain 0m 0s) Loss: 0.0139(0.5663) Grad Norm: 0.4975  LR: 3.4797e-04  \n",
      "EVAL: [0/9] Data 0.024 (0.024) Elapsed 0m 0s (remain 0m 0s) \n"
     ]
    },
    {
     "name": "stderr",
     "output_type": "stream",
     "text": [
      "labels: [ 8  3  6  4 10]\n",
      "pred_labels: [ 8  3  6  4 10]\n",
      "Epoch 30 - avg_train_loss: 0.5663  lr: 3.4797e-04  time: 13s\n",
      "Epoch 30 - Score: 0.6769\n"
     ]
    },
    {
     "name": "stdout",
     "output_type": "stream",
     "text": [
      "EVAL: [8/9] Data 0.003 (0.021) Elapsed 0m 0s (remain 0m 0s) \n",
      "Epoch: [31][0/40] Data 0.042 (0.042) Elapsed 0m 0s (remain 0m 11s) Loss: 0.0123(0.0123) Grad Norm: 2.2004  LR: 3.1843e-04  \n",
      "Epoch: [31][39/40] Data 0.044 (0.043) Elapsed 0m 11s (remain 0m 0s) Loss: 0.9219(0.4722) Grad Norm: 5.2806  LR: 3.1843e-04  \n",
      "EVAL: [0/9] Data 0.025 (0.025) Elapsed 0m 0s (remain 0m 0s) \n"
     ]
    },
    {
     "name": "stderr",
     "output_type": "stream",
     "text": [
      "labels: [ 8  3  6  4 10]\n",
      "pred_labels: [ 8  3  0  9 10]\n",
      "Epoch 31 - avg_train_loss: 0.4722  lr: 3.1843e-04  time: 13s\n",
      "Epoch 31 - Score: 0.6385\n"
     ]
    },
    {
     "name": "stdout",
     "output_type": "stream",
     "text": [
      "EVAL: [8/9] Data 0.003 (0.022) Elapsed 0m 0s (remain 0m 0s) \n",
      "Epoch: [32][0/40] Data 0.039 (0.039) Elapsed 0m 0s (remain 0m 11s) Loss: 1.1556(1.1556) Grad Norm: 8.7844  LR: 2.8962e-04  \n",
      "Epoch: [32][39/40] Data 0.040 (0.043) Elapsed 0m 11s (remain 0m 0s) Loss: 0.9775(0.5444) Grad Norm: 4.1649  LR: 2.8962e-04  \n",
      "EVAL: [0/9] Data 0.024 (0.024) Elapsed 0m 0s (remain 0m 0s) \n"
     ]
    },
    {
     "name": "stderr",
     "output_type": "stream",
     "text": [
      "labels: [ 8  3  6  4 10]\n",
      "pred_labels: [ 8  3  0  0 10]\n",
      "Epoch 32 - avg_train_loss: 0.5444  lr: 2.8962e-04  time: 13s\n",
      "Epoch 32 - Score: 0.6308\n"
     ]
    },
    {
     "name": "stdout",
     "output_type": "stream",
     "text": [
      "EVAL: [8/9] Data 0.003 (0.021) Elapsed 0m 0s (remain 0m 0s) \n",
      "Epoch: [33][0/40] Data 0.041 (0.041) Elapsed 0m 0s (remain 0m 11s) Loss: 0.0057(0.0057) Grad Norm: 0.1917  LR: 2.6165e-04  \n",
      "Epoch: [33][39/40] Data 0.040 (0.045) Elapsed 0m 11s (remain 0m 0s) Loss: 0.7585(0.5129) Grad Norm: 3.7421  LR: 2.6165e-04  \n",
      "EVAL: [0/9] Data 0.025 (0.025) Elapsed 0m 0s (remain 0m 0s) \n"
     ]
    },
    {
     "name": "stderr",
     "output_type": "stream",
     "text": [
      "labels: [ 8  3  6  4 10]\n",
      "pred_labels: [8 3 6 0 2]\n",
      "Epoch 33 - avg_train_loss: 0.5129  lr: 2.6165e-04  time: 13s\n",
      "Epoch 33 - Score: 0.6615\n"
     ]
    },
    {
     "name": "stdout",
     "output_type": "stream",
     "text": [
      "EVAL: [8/9] Data 0.004 (0.022) Elapsed 0m 0s (remain 0m 0s) \n",
      "Epoch: [34][0/40] Data 0.046 (0.046) Elapsed 0m 0s (remain 0m 11s) Loss: 1.2217(1.2217) Grad Norm: 7.0399  LR: 2.3463e-04  \n",
      "Epoch: [34][39/40] Data 0.044 (0.045) Elapsed 0m 12s (remain 0m 0s) Loss: 0.0305(0.5384) Grad Norm: 1.1194  LR: 2.3463e-04  \n",
      "EVAL: [0/9] Data 0.025 (0.025) Elapsed 0m 0s (remain 0m 0s) \n"
     ]
    },
    {
     "name": "stderr",
     "output_type": "stream",
     "text": [
      "labels: [ 8  3  6  4 10]\n",
      "pred_labels: [ 8  3  6  0 10]\n",
      "Epoch 34 - avg_train_loss: 0.5384  lr: 2.3463e-04  time: 13s\n",
      "Epoch 34 - Score: 0.7154\n",
      "Epoch 34 - Save Best Score: 0.7154 Model\n"
     ]
    },
    {
     "name": "stdout",
     "output_type": "stream",
     "text": [
      "EVAL: [8/9] Data 0.004 (0.022) Elapsed 0m 0s (remain 0m 0s) \n",
      "Epoch: [35][0/40] Data 0.048 (0.048) Elapsed 0m 0s (remain 0m 12s) Loss: 0.0445(0.0445) Grad Norm: 4.5236  LR: 2.0866e-04  \n",
      "Epoch: [35][39/40] Data 0.043 (0.046) Elapsed 0m 12s (remain 0m 0s) Loss: 0.0072(0.5577) Grad Norm: 0.5172  LR: 2.0866e-04  \n",
      "EVAL: [0/9] Data 0.027 (0.027) Elapsed 0m 0s (remain 0m 0s) \n"
     ]
    },
    {
     "name": "stderr",
     "output_type": "stream",
     "text": [
      "labels: [ 8  3  6  4 10]\n",
      "pred_labels: [ 8  3  6  0 10]\n",
      "Epoch 35 - avg_train_loss: 0.5577  lr: 2.0866e-04  time: 13s\n",
      "Epoch 35 - Score: 0.7154\n"
     ]
    },
    {
     "name": "stdout",
     "output_type": "stream",
     "text": [
      "EVAL: [8/9] Data 0.003 (0.022) Elapsed 0m 0s (remain 0m 0s) \n",
      "Epoch: [36][0/40] Data 0.042 (0.042) Elapsed 0m 0s (remain 0m 11s) Loss: 0.8437(0.8437) Grad Norm: 10.5187  LR: 1.8385e-04  \n",
      "Epoch: [36][39/40] Data 0.046 (0.046) Elapsed 0m 12s (remain 0m 0s) Loss: 0.5733(0.4415) Grad Norm: 5.4532  LR: 1.8385e-04  \n",
      "EVAL: [0/9] Data 0.025 (0.025) Elapsed 0m 0s (remain 0m 0s) \n"
     ]
    },
    {
     "name": "stderr",
     "output_type": "stream",
     "text": [
      "labels: [ 8  3  6  4 10]\n",
      "pred_labels: [ 8  3  6  0 10]\n",
      "Epoch 36 - avg_train_loss: 0.4415  lr: 1.8385e-04  time: 13s\n",
      "Epoch 36 - Score: 0.7231\n",
      "Epoch 36 - Save Best Score: 0.7231 Model\n"
     ]
    },
    {
     "name": "stdout",
     "output_type": "stream",
     "text": [
      "EVAL: [8/9] Data 0.003 (0.022) Elapsed 0m 0s (remain 0m 0s) \n",
      "Epoch: [37][0/40] Data 0.042 (0.042) Elapsed 0m 0s (remain 0m 12s) Loss: 0.0048(0.0048) Grad Norm: 0.2524  LR: 1.6030e-04  \n",
      "Epoch: [37][39/40] Data 0.048 (0.050) Elapsed 0m 12s (remain 0m 0s) Loss: 1.4345(0.6218) Grad Norm: 6.1154  LR: 1.6030e-04  \n",
      "EVAL: [0/9] Data 0.025 (0.025) Elapsed 0m 0s (remain 0m 0s) \n"
     ]
    },
    {
     "name": "stderr",
     "output_type": "stream",
     "text": [
      "labels: [ 8  3  6  4 10]\n",
      "pred_labels: [8 3 0 0 1]\n",
      "Epoch 37 - avg_train_loss: 0.6218  lr: 1.6030e-04  time: 13s\n",
      "Epoch 37 - Score: 0.6923\n"
     ]
    },
    {
     "name": "stdout",
     "output_type": "stream",
     "text": [
      "EVAL: [8/9] Data 0.003 (0.024) Elapsed 0m 0s (remain 0m 0s) \n",
      "Epoch: [38][0/40] Data 0.050 (0.050) Elapsed 0m 0s (remain 0m 11s) Loss: 0.6870(0.6870) Grad Norm: 3.4179  LR: 1.3809e-04  \n",
      "Epoch: [38][39/40] Data 0.049 (0.046) Elapsed 0m 11s (remain 0m 0s) Loss: 0.8833(0.4257) Grad Norm: 4.1141  LR: 1.3809e-04  \n",
      "EVAL: [0/9] Data 0.025 (0.025) Elapsed 0m 0s (remain 0m 0s) \n"
     ]
    },
    {
     "name": "stderr",
     "output_type": "stream",
     "text": [
      "labels: [ 8  3  6  4 10]\n",
      "pred_labels: [8 3 0 0 2]\n",
      "Epoch 38 - avg_train_loss: 0.4257  lr: 1.3809e-04  time: 13s\n",
      "Epoch 38 - Score: 0.6692\n"
     ]
    },
    {
     "name": "stdout",
     "output_type": "stream",
     "text": [
      "EVAL: [8/9] Data 0.006 (0.022) Elapsed 0m 0s (remain 0m 0s) \n",
      "Epoch: [39][0/40] Data 0.038 (0.038) Elapsed 0m 0s (remain 0m 11s) Loss: 0.0031(0.0031) Grad Norm: 0.1394  LR: 1.1732e-04  \n",
      "Epoch: [39][39/40] Data 0.038 (0.045) Elapsed 0m 12s (remain 0m 0s) Loss: 0.0083(0.3798) Grad Norm: 0.9347  LR: 1.1732e-04  \n",
      "EVAL: [0/9] Data 0.025 (0.025) Elapsed 0m 0s (remain 0m 0s) \n"
     ]
    },
    {
     "name": "stderr",
     "output_type": "stream",
     "text": [
      "labels: [ 8  3  6  4 10]\n",
      "pred_labels: [8 3 0 4 2]\n",
      "Epoch 39 - avg_train_loss: 0.3798  lr: 1.1732e-04  time: 13s\n",
      "Epoch 39 - Score: 0.6692\n"
     ]
    },
    {
     "name": "stdout",
     "output_type": "stream",
     "text": [
      "EVAL: [8/9] Data 0.003 (0.021) Elapsed 0m 0s (remain 0m 0s) \n",
      "Epoch: [40][0/40] Data 0.042 (0.042) Elapsed 0m 0s (remain 0m 11s) Loss: 0.0008(0.0008) Grad Norm: 0.0388  LR: 9.8058e-05  \n",
      "Epoch: [40][39/40] Data 0.038 (0.043) Elapsed 0m 11s (remain 0m 0s) Loss: 1.2746(0.2837) Grad Norm: 6.2917  LR: 9.8058e-05  \n",
      "EVAL: [0/9] Data 0.028 (0.028) Elapsed 0m 0s (remain 0m 0s) \n"
     ]
    },
    {
     "name": "stderr",
     "output_type": "stream",
     "text": [
      "labels: [ 8  3  6  4 10]\n",
      "pred_labels: [8 3 0 9 2]\n",
      "Epoch 40 - avg_train_loss: 0.2837  lr: 9.8058e-05  time: 13s\n",
      "Epoch 40 - Score: 0.6769\n"
     ]
    },
    {
     "name": "stdout",
     "output_type": "stream",
     "text": [
      "EVAL: [8/9] Data 0.003 (0.022) Elapsed 0m 0s (remain 0m 0s) \n",
      "Epoch: [41][0/40] Data 0.035 (0.035) Elapsed 0m 0s (remain 0m 10s) Loss: 0.0028(0.0028) Grad Norm: 0.2721  LR: 8.0390e-05  \n",
      "Epoch: [41][39/40] Data 0.039 (0.043) Elapsed 0m 11s (remain 0m 0s) Loss: 0.0027(0.4204) Grad Norm: 0.1818  LR: 8.0390e-05  \n",
      "EVAL: [0/9] Data 0.024 (0.024) Elapsed 0m 0s (remain 0m 0s) \n"
     ]
    },
    {
     "name": "stderr",
     "output_type": "stream",
     "text": [
      "labels: [ 8  3  6  4 10]\n",
      "pred_labels: [8 3 6 4 2]\n",
      "Epoch 41 - avg_train_loss: 0.4204  lr: 8.0390e-05  time: 12s\n",
      "Epoch 41 - Score: 0.6923\n"
     ]
    },
    {
     "name": "stdout",
     "output_type": "stream",
     "text": [
      "EVAL: [8/9] Data 0.003 (0.021) Elapsed 0m 0s (remain 0m 0s) \n",
      "Epoch: [42][0/40] Data 0.045 (0.045) Elapsed 0m 0s (remain 0m 11s) Loss: 0.8385(0.8385) Grad Norm: 9.0454  LR: 6.4381e-05  \n",
      "Epoch: [42][39/40] Data 0.039 (0.043) Elapsed 0m 11s (remain 0m 0s) Loss: 0.8563(0.4800) Grad Norm: 3.7369  LR: 6.4381e-05  \n",
      "EVAL: [0/9] Data 0.024 (0.024) Elapsed 0m 0s (remain 0m 0s) \n"
     ]
    },
    {
     "name": "stderr",
     "output_type": "stream",
     "text": [
      "labels: [ 8  3  6  4 10]\n",
      "pred_labels: [8 3 6 4 2]\n",
      "Epoch 42 - avg_train_loss: 0.4800  lr: 6.4381e-05  time: 12s\n",
      "Epoch 42 - Score: 0.7077\n"
     ]
    },
    {
     "name": "stdout",
     "output_type": "stream",
     "text": [
      "EVAL: [8/9] Data 0.003 (0.021) Elapsed 0m 0s (remain 0m 0s) \n",
      "Epoch: [43][0/40] Data 0.045 (0.045) Elapsed 0m 0s (remain 0m 11s) Loss: 0.8168(0.8168) Grad Norm: 4.4158  LR: 5.0093e-05  \n",
      "Epoch: [43][39/40] Data 0.049 (0.043) Elapsed 0m 11s (remain 0m 0s) Loss: 0.0005(0.3028) Grad Norm: 0.0175  LR: 5.0093e-05  \n",
      "EVAL: [0/9] Data 0.026 (0.026) Elapsed 0m 0s (remain 0m 0s) \n"
     ]
    },
    {
     "name": "stderr",
     "output_type": "stream",
     "text": [
      "labels: [ 8  3  6  4 10]\n",
      "pred_labels: [8 3 6 4 2]\n",
      "Epoch 43 - avg_train_loss: 0.3028  lr: 5.0093e-05  time: 12s\n",
      "Epoch 43 - Score: 0.6923\n"
     ]
    },
    {
     "name": "stdout",
     "output_type": "stream",
     "text": [
      "EVAL: [8/9] Data 0.003 (0.022) Elapsed 0m 0s (remain 0m 0s) \n",
      "Epoch: [44][0/40] Data 0.039 (0.039) Elapsed 0m 0s (remain 0m 11s) Loss: 0.9711(0.9711) Grad Norm: 5.6098  LR: 3.7578e-05  \n",
      "Epoch: [44][39/40] Data 0.038 (0.042) Elapsed 0m 11s (remain 0m 0s) Loss: 0.6055(0.3904) Grad Norm: 3.7243  LR: 3.7578e-05  \n",
      "EVAL: [0/9] Data 0.023 (0.023) Elapsed 0m 0s (remain 0m 0s) \n"
     ]
    },
    {
     "name": "stderr",
     "output_type": "stream",
     "text": [
      "labels: [ 8  3  6  4 10]\n",
      "pred_labels: [8 3 6 0 2]\n",
      "Epoch 44 - avg_train_loss: 0.3904  lr: 3.7578e-05  time: 12s\n",
      "Epoch 44 - Score: 0.6615\n"
     ]
    },
    {
     "name": "stdout",
     "output_type": "stream",
     "text": [
      "EVAL: [8/9] Data 0.004 (0.021) Elapsed 0m 0s (remain 0m 0s) \n",
      "Epoch: [45][0/40] Data 0.040 (0.040) Elapsed 0m 0s (remain 0m 10s) Loss: 0.0005(0.0005) Grad Norm: 0.0181  LR: 2.6881e-05  \n",
      "Epoch: [45][39/40] Data 0.042 (0.043) Elapsed 0m 11s (remain 0m 0s) Loss: 0.0013(0.2903) Grad Norm: 0.0605  LR: 2.6881e-05  \n",
      "EVAL: [0/9] Data 0.024 (0.024) Elapsed 0m 0s (remain 0m 0s) \n"
     ]
    },
    {
     "name": "stderr",
     "output_type": "stream",
     "text": [
      "labels: [ 8  3  6  4 10]\n",
      "pred_labels: [8 3 6 0 2]\n",
      "Epoch 45 - avg_train_loss: 0.2903  lr: 2.6881e-05  time: 12s\n",
      "Epoch 45 - Score: 0.6692\n"
     ]
    },
    {
     "name": "stdout",
     "output_type": "stream",
     "text": [
      "EVAL: [8/9] Data 0.003 (0.021) Elapsed 0m 0s (remain 0m 0s) \n",
      "Epoch: [46][0/40] Data 0.047 (0.047) Elapsed 0m 0s (remain 0m 11s) Loss: 0.0066(0.0066) Grad Norm: 0.3625  LR: 1.8039e-05  \n",
      "Epoch: [46][39/40] Data 0.047 (0.043) Elapsed 0m 11s (remain 0m 0s) Loss: 0.0045(0.0031) Grad Norm: 0.2106  LR: 1.8039e-05  \n",
      "EVAL: [0/9] Data 0.024 (0.024) Elapsed 0m 0s (remain 0m 0s) \n"
     ]
    },
    {
     "name": "stderr",
     "output_type": "stream",
     "text": [
      "labels: [ 8  3  6  4 10]\n",
      "pred_labels: [8 3 6 0 2]\n",
      "Epoch 46 - avg_train_loss: 0.0031  lr: 1.8039e-05  time: 12s\n",
      "Epoch 46 - Score: 0.6692\n"
     ]
    },
    {
     "name": "stdout",
     "output_type": "stream",
     "text": [
      "EVAL: [8/9] Data 0.003 (0.021) Elapsed 0m 0s (remain 0m 0s) \n",
      "Epoch: [47][0/40] Data 0.039 (0.039) Elapsed 0m 0s (remain 0m 11s) Loss: 0.0008(0.0008) Grad Norm: 0.0254  LR: 1.1073e-05  \n",
      "Epoch: [47][39/40] Data 0.041 (0.043) Elapsed 0m 11s (remain 0m 0s) Loss: 0.0046(0.0098) Grad Norm: 0.3209  LR: 1.1073e-05  \n",
      "EVAL: [0/9] Data 0.025 (0.025) Elapsed 0m 0s (remain 0m 0s) \n"
     ]
    },
    {
     "name": "stderr",
     "output_type": "stream",
     "text": [
      "labels: [ 8  3  6  4 10]\n",
      "pred_labels: [8 3 6 0 2]\n",
      "Epoch 47 - avg_train_loss: 0.0098  lr: 1.1073e-05  time: 12s\n",
      "Epoch 47 - Score: 0.6692\n"
     ]
    },
    {
     "name": "stdout",
     "output_type": "stream",
     "text": [
      "EVAL: [8/9] Data 0.004 (0.022) Elapsed 0m 0s (remain 0m 0s) \n",
      "Epoch: [48][0/40] Data 0.042 (0.042) Elapsed 0m 0s (remain 0m 11s) Loss: 0.0010(0.0010) Grad Norm: 0.0493  LR: 5.9882e-06  \n",
      "Epoch: [48][39/40] Data 0.046 (0.044) Elapsed 0m 11s (remain 0m 0s) Loss: 0.0051(0.0088) Grad Norm: 0.6314  LR: 5.9882e-06  \n",
      "EVAL: [0/9] Data 0.024 (0.024) Elapsed 0m 0s (remain 0m 0s) \n"
     ]
    },
    {
     "name": "stderr",
     "output_type": "stream",
     "text": [
      "labels: [ 8  3  6  4 10]\n",
      "pred_labels: [8 3 6 0 2]\n",
      "Epoch 48 - avg_train_loss: 0.0088  lr: 5.9882e-06  time: 13s\n",
      "Epoch 48 - Score: 0.6692\n"
     ]
    },
    {
     "name": "stdout",
     "output_type": "stream",
     "text": [
      "EVAL: [8/9] Data 0.003 (0.022) Elapsed 0m 0s (remain 0m 0s) \n",
      "Epoch: [49][0/40] Data 0.043 (0.043) Elapsed 0m 0s (remain 0m 11s) Loss: 0.0009(0.0009) Grad Norm: 0.0320  LR: 2.7534e-06  \n",
      "Epoch: [49][39/40] Data 0.041 (0.043) Elapsed 0m 11s (remain 0m 0s) Loss: 0.0013(0.0049) Grad Norm: 0.0401  LR: 2.7534e-06  \n",
      "EVAL: [0/9] Data 0.024 (0.024) Elapsed 0m 0s (remain 0m 0s) \n"
     ]
    },
    {
     "name": "stderr",
     "output_type": "stream",
     "text": [
      "labels: [ 8  3  6  4 10]\n",
      "pred_labels: [8 3 6 0 2]\n",
      "Epoch 49 - avg_train_loss: 0.0049  lr: 2.7534e-06  time: 12s\n",
      "Epoch 49 - Score: 0.6692\n"
     ]
    },
    {
     "name": "stdout",
     "output_type": "stream",
     "text": [
      "EVAL: [8/9] Data 0.003 (0.021) Elapsed 0m 0s (remain 0m 0s) \n",
      "Epoch: [50][0/40] Data 0.038 (0.038) Elapsed 0m 0s (remain 0m 10s) Loss: 0.0042(0.0042) Grad Norm: 0.1450  LR: 1.2467e-06  \n",
      "Epoch: [50][39/40] Data 0.043 (0.043) Elapsed 0m 11s (remain 0m 0s) Loss: 0.0006(0.0097) Grad Norm: 0.0310  LR: 1.2467e-06  \n",
      "EVAL: [0/9] Data 0.025 (0.025) Elapsed 0m 0s (remain 0m 0s) \n"
     ]
    },
    {
     "name": "stderr",
     "output_type": "stream",
     "text": [
      "labels: [ 8  3  6  4 10]\n",
      "pred_labels: [8 3 6 0 2]\n",
      "Epoch 50 - avg_train_loss: 0.0097  lr: 1.2467e-06  time: 13s\n",
      "Epoch 50 - Score: 0.6692\n",
      "\n",
      "oof score: 0.6865443425076453\n",
      "\n",
      "==================== fold: 0, seed: 1 training ====================\n"
     ]
    },
    {
     "name": "stdout",
     "output_type": "stream",
     "text": [
      "EVAL: [8/9] Data 0.004 (0.023) Elapsed 0m 0s (remain 0m 0s) \n",
      "fold\n",
      "0    131\n",
      "1    131\n",
      "2    131\n",
      "3    131\n",
      "4    130\n",
      "dtype: int64\n",
      "Epoch: [1][0/40] Data 0.043 (0.043) Elapsed 0m 0s (remain 0m 12s) Loss: 2.5741(2.5741) Grad Norm: 10.1902  LR: 1.0000e-03  \n",
      "Epoch: [1][39/40] Data 0.041 (0.044) Elapsed 0m 11s (remain 0m 0s) Loss: 2.3750(2.5148) Grad Norm: 10.8338  LR: 1.0000e-03  \n",
      "EVAL: [0/9] Data 0.011 (0.011) Elapsed 0m 0s (remain 0m 0s) \n"
     ]
    },
    {
     "name": "stderr",
     "output_type": "stream",
     "text": [
      "labels: [ 6  2 10  0  8]\n",
      "pred_labels: [2 2 2 6 2]\n",
      "Epoch 1 - avg_train_loss: 2.5148  lr: 1.0000e-03  time: 13s\n",
      "Epoch 1 - Score: 0.2901\n",
      "Epoch 1 - Save Best Score: 0.2901 Model\n"
     ]
    },
    {
     "name": "stdout",
     "output_type": "stream",
     "text": [
      "EVAL: [8/9] Data 0.004 (0.021) Elapsed 0m 0s (remain 0m 0s) \n",
      "Epoch: [2][0/40] Data 0.051 (0.051) Elapsed 0m 0s (remain 0m 12s) Loss: 2.4376(2.4376) Grad Norm: 17.2819  LR: 9.9803e-04  \n",
      "Epoch: [2][39/40] Data 0.043 (0.044) Elapsed 0m 11s (remain 0m 0s) Loss: 1.8628(2.1620) Grad Norm: 9.4082  LR: 9.9803e-04  \n",
      "EVAL: [0/9] Data 0.025 (0.025) Elapsed 0m 0s (remain 0m 0s) \n"
     ]
    },
    {
     "name": "stderr",
     "output_type": "stream",
     "text": [
      "labels: [ 6  2 10  0  8]\n",
      "pred_labels: [2 2 2 2 8]\n",
      "Epoch 2 - avg_train_loss: 2.1620  lr: 9.9803e-04  time: 13s\n",
      "Epoch 2 - Score: 0.3740\n",
      "Epoch 2 - Save Best Score: 0.3740 Model\n"
     ]
    },
    {
     "name": "stdout",
     "output_type": "stream",
     "text": [
      "EVAL: [8/9] Data 0.005 (0.022) Elapsed 0m 0s (remain 0m 0s) \n",
      "Epoch: [3][0/40] Data 0.039 (0.039) Elapsed 0m 0s (remain 0m 12s) Loss: 1.4549(1.4549) Grad Norm: 15.1258  LR: 9.9312e-04  \n",
      "Epoch: [3][39/40] Data 0.036 (0.044) Elapsed 0m 11s (remain 0m 0s) Loss: 1.2175(1.8713) Grad Norm: 9.7677  LR: 9.9312e-04  \n",
      "EVAL: [0/9] Data 0.025 (0.025) Elapsed 0m 0s (remain 0m 0s) \n"
     ]
    },
    {
     "name": "stderr",
     "output_type": "stream",
     "text": [
      "labels: [ 6  2 10  0  8]\n",
      "pred_labels: [5 2 2 6 8]\n",
      "Epoch 3 - avg_train_loss: 1.8713  lr: 9.9312e-04  time: 13s\n",
      "Epoch 3 - Score: 0.4809\n",
      "Epoch 3 - Save Best Score: 0.4809 Model\n"
     ]
    },
    {
     "name": "stdout",
     "output_type": "stream",
     "text": [
      "EVAL: [8/9] Data 0.005 (0.023) Elapsed 0m 0s (remain 0m 0s) \n",
      "Epoch: [4][0/40] Data 0.042 (0.042) Elapsed 0m 0s (remain 0m 12s) Loss: 1.6191(1.6191) Grad Norm: 5.9931  LR: 9.8627e-04  \n",
      "Epoch: [4][39/40] Data 0.043 (0.044) Elapsed 0m 11s (remain 0m 0s) Loss: 1.5722(1.5843) Grad Norm: 6.4555  LR: 9.8627e-04  \n",
      "EVAL: [0/9] Data 0.023 (0.023) Elapsed 0m 0s (remain 0m 0s) \n"
     ]
    },
    {
     "name": "stderr",
     "output_type": "stream",
     "text": [
      "labels: [ 6  2 10  0  8]\n",
      "pred_labels: [2 2 2 6 8]\n",
      "Epoch 4 - avg_train_loss: 1.5843  lr: 9.8627e-04  time: 13s\n",
      "Epoch 4 - Score: 0.5115\n",
      "Epoch 4 - Save Best Score: 0.5115 Model\n"
     ]
    },
    {
     "name": "stdout",
     "output_type": "stream",
     "text": [
      "EVAL: [8/9] Data 0.005 (0.022) Elapsed 0m 0s (remain 0m 0s) \n",
      "Epoch: [5][0/40] Data 0.048 (0.048) Elapsed 0m 0s (remain 0m 12s) Loss: 2.2584(2.2584) Grad Norm: 16.4073  LR: 9.7751e-04  \n",
      "Epoch: [5][39/40] Data 0.044 (0.045) Elapsed 0m 12s (remain 0m 0s) Loss: 0.8223(1.3261) Grad Norm: 10.5941  LR: 9.7751e-04  \n",
      "EVAL: [0/9] Data 0.024 (0.024) Elapsed 0m 0s (remain 0m 0s) \n"
     ]
    },
    {
     "name": "stderr",
     "output_type": "stream",
     "text": [
      "labels: [ 6  2 10  0  8]\n",
      "pred_labels: [2 2 2 0 8]\n",
      "Epoch 5 - avg_train_loss: 1.3261  lr: 9.7751e-04  time: 13s\n",
      "Epoch 5 - Score: 0.4885\n"
     ]
    },
    {
     "name": "stdout",
     "output_type": "stream",
     "text": [
      "EVAL: [8/9] Data 0.005 (0.022) Elapsed 0m 0s (remain 0m 0s) \n",
      "Epoch: [6][0/40] Data 0.043 (0.043) Elapsed 0m 0s (remain 0m 11s) Loss: 1.4144(1.4144) Grad Norm: 9.7667  LR: 9.6688e-04  \n",
      "Epoch: [6][39/40] Data 0.047 (0.044) Elapsed 0m 11s (remain 0m 0s) Loss: 0.5284(1.1027) Grad Norm: 9.7434  LR: 9.6688e-04  \n",
      "EVAL: [0/9] Data 0.024 (0.024) Elapsed 0m 0s (remain 0m 0s) \n"
     ]
    },
    {
     "name": "stderr",
     "output_type": "stream",
     "text": [
      "labels: [ 6  2 10  0  8]\n",
      "pred_labels: [6 2 4 6 8]\n",
      "Epoch 6 - avg_train_loss: 1.1027  lr: 9.6688e-04  time: 13s\n",
      "Epoch 6 - Score: 0.5115\n"
     ]
    },
    {
     "name": "stdout",
     "output_type": "stream",
     "text": [
      "EVAL: [8/9] Data 0.005 (0.022) Elapsed 0m 0s (remain 0m 0s) \n",
      "Epoch: [7][0/40] Data 0.043 (0.043) Elapsed 0m 0s (remain 0m 11s) Loss: 0.5196(0.5196) Grad Norm: 8.8179  LR: 9.5441e-04  \n",
      "Epoch: [7][39/40] Data 0.046 (0.046) Elapsed 0m 11s (remain 0m 0s) Loss: 1.4693(1.2585) Grad Norm: 9.1944  LR: 9.5441e-04  \n",
      "EVAL: [0/9] Data 0.024 (0.024) Elapsed 0m 0s (remain 0m 0s) \n"
     ]
    },
    {
     "name": "stderr",
     "output_type": "stream",
     "text": [
      "labels: [ 6  2 10  0  8]\n",
      "pred_labels: [2 2 2 0 2]\n",
      "Epoch 7 - avg_train_loss: 1.2585  lr: 9.5441e-04  time: 13s\n",
      "Epoch 7 - Score: 0.5496\n",
      "Epoch 7 - Save Best Score: 0.5496 Model\n"
     ]
    },
    {
     "name": "stdout",
     "output_type": "stream",
     "text": [
      "EVAL: [8/9] Data 0.005 (0.022) Elapsed 0m 0s (remain 0m 0s) \n",
      "Epoch: [8][0/40] Data 0.059 (0.059) Elapsed 0m 0s (remain 0m 13s) Loss: 0.3654(0.3654) Grad Norm: 16.1872  LR: 9.4016e-04  \n",
      "Epoch: [8][39/40] Data 0.044 (0.046) Elapsed 0m 12s (remain 0m 0s) Loss: 1.3288(1.1805) Grad Norm: 13.7060  LR: 9.4016e-04  \n",
      "EVAL: [0/9] Data 0.025 (0.025) Elapsed 0m 0s (remain 0m 0s) \n"
     ]
    },
    {
     "name": "stderr",
     "output_type": "stream",
     "text": [
      "labels: [ 6  2 10  0  8]\n",
      "pred_labels: [11  2  1  0  8]\n",
      "Epoch 8 - avg_train_loss: 1.1805  lr: 9.4016e-04  time: 13s\n",
      "Epoch 8 - Score: 0.5649\n",
      "Epoch 8 - Save Best Score: 0.5649 Model\n"
     ]
    },
    {
     "name": "stdout",
     "output_type": "stream",
     "text": [
      "EVAL: [8/9] Data 0.005 (0.022) Elapsed 0m 0s (remain 0m 0s) \n",
      "Epoch: [9][0/40] Data 0.042 (0.042) Elapsed 0m 0s (remain 0m 12s) Loss: 1.5361(1.5361) Grad Norm: 7.1323  LR: 9.2418e-04  \n",
      "Epoch: [9][39/40] Data 0.038 (0.043) Elapsed 0m 11s (remain 0m 0s) Loss: 1.2456(0.9250) Grad Norm: 8.1044  LR: 9.2418e-04  \n",
      "EVAL: [0/9] Data 0.023 (0.023) Elapsed 0m 0s (remain 0m 0s) \n"
     ]
    },
    {
     "name": "stderr",
     "output_type": "stream",
     "text": [
      "labels: [ 6  2 10  0  8]\n",
      "pred_labels: [2 2 2 0 8]\n",
      "Epoch 9 - avg_train_loss: 0.9250  lr: 9.2418e-04  time: 13s\n",
      "Epoch 9 - Score: 0.5038\n"
     ]
    },
    {
     "name": "stdout",
     "output_type": "stream",
     "text": [
      "EVAL: [8/9] Data 0.005 (0.022) Elapsed 0m 0s (remain 0m 0s) \n",
      "Epoch: [10][0/40] Data 0.048 (0.048) Elapsed 0m 0s (remain 0m 11s) Loss: 0.6701(0.6701) Grad Norm: 12.5502  LR: 9.0654e-04  \n",
      "Epoch: [10][39/40] Data 0.039 (0.043) Elapsed 0m 11s (remain 0m 0s) Loss: 0.1372(1.0252) Grad Norm: 4.1699  LR: 9.0654e-04  \n",
      "EVAL: [0/9] Data 0.025 (0.025) Elapsed 0m 0s (remain 0m 0s) \n"
     ]
    },
    {
     "name": "stderr",
     "output_type": "stream",
     "text": [
      "labels: [ 6  2 10  0  8]\n",
      "pred_labels: [10  2  3  0  8]\n",
      "Epoch 10 - avg_train_loss: 1.0252  lr: 9.0654e-04  time: 13s\n",
      "Epoch 10 - Score: 0.5420\n"
     ]
    },
    {
     "name": "stdout",
     "output_type": "stream",
     "text": [
      "EVAL: [8/9] Data 0.005 (0.022) Elapsed 0m 0s (remain 0m 0s) \n",
      "Epoch: [11][0/40] Data 0.046 (0.046) Elapsed 0m 0s (remain 0m 11s) Loss: 0.5795(0.5795) Grad Norm: 10.7324  LR: 8.8730e-04  \n",
      "Epoch: [11][39/40] Data 0.040 (0.044) Elapsed 0m 11s (remain 0m 0s) Loss: 0.1440(1.1294) Grad Norm: 4.4943  LR: 8.8730e-04  \n",
      "EVAL: [0/9] Data 0.023 (0.023) Elapsed 0m 0s (remain 0m 0s) \n"
     ]
    },
    {
     "name": "stderr",
     "output_type": "stream",
     "text": [
      "labels: [ 6  2 10  0  8]\n",
      "pred_labels: [2 2 4 0 8]\n",
      "Epoch 11 - avg_train_loss: 1.1294  lr: 8.8730e-04  time: 13s\n",
      "Epoch 11 - Score: 0.5496\n"
     ]
    },
    {
     "name": "stdout",
     "output_type": "stream",
     "text": [
      "EVAL: [8/9] Data 0.005 (0.022) Elapsed 0m 0s (remain 0m 0s) \n",
      "Epoch: [12][0/40] Data 0.045 (0.045) Elapsed 0m 0s (remain 0m 11s) Loss: 1.5797(1.5797) Grad Norm: 7.7098  LR: 8.6655e-04  \n",
      "Epoch: [12][39/40] Data 0.040 (0.044) Elapsed 0m 11s (remain 0m 0s) Loss: 0.9348(0.8436) Grad Norm: 4.4976  LR: 8.6655e-04  \n",
      "EVAL: [0/9] Data 0.025 (0.025) Elapsed 0m 0s (remain 0m 0s) \n"
     ]
    },
    {
     "name": "stderr",
     "output_type": "stream",
     "text": [
      "labels: [ 6  2 10  0  8]\n",
      "pred_labels: [6 2 9 0 8]\n",
      "Epoch 12 - avg_train_loss: 0.8436  lr: 8.6655e-04  time: 13s\n",
      "Epoch 12 - Score: 0.5267\n"
     ]
    },
    {
     "name": "stdout",
     "output_type": "stream",
     "text": [
      "EVAL: [8/9] Data 0.004 (0.021) Elapsed 0m 0s (remain 0m 0s) \n",
      "Epoch: [13][0/40] Data 0.040 (0.040) Elapsed 0m 0s (remain 0m 11s) Loss: 0.2573(0.2573) Grad Norm: 8.5791  LR: 8.4436e-04  \n",
      "Epoch: [13][39/40] Data 0.043 (0.044) Elapsed 0m 11s (remain 0m 0s) Loss: 1.9035(0.9654) Grad Norm: 10.8257  LR: 8.4436e-04  \n",
      "EVAL: [0/9] Data 0.025 (0.025) Elapsed 0m 0s (remain 0m 0s) \n"
     ]
    },
    {
     "name": "stderr",
     "output_type": "stream",
     "text": [
      "labels: [ 6  2 10  0  8]\n",
      "pred_labels: [6 2 1 0 8]\n",
      "Epoch 13 - avg_train_loss: 0.9654  lr: 8.4436e-04  time: 13s\n",
      "Epoch 13 - Score: 0.5344\n"
     ]
    },
    {
     "name": "stdout",
     "output_type": "stream",
     "text": [
      "EVAL: [8/9] Data 0.000 (0.020) Elapsed 0m 0s (remain 0m 0s) \n",
      "Epoch: [14][0/40] Data 0.049 (0.049) Elapsed 0m 0s (remain 0m 11s) Loss: 0.1223(0.1223) Grad Norm: 3.8574  LR: 8.2081e-04  \n",
      "Epoch: [14][39/40] Data 0.031 (0.044) Elapsed 0m 11s (remain 0m 0s) Loss: 0.2415(0.8019) Grad Norm: 5.7680  LR: 8.2081e-04  \n",
      "EVAL: [0/9] Data 0.024 (0.024) Elapsed 0m 0s (remain 0m 0s) \n"
     ]
    },
    {
     "name": "stderr",
     "output_type": "stream",
     "text": [
      "labels: [ 6  2 10  0  8]\n",
      "pred_labels: [11  2  3  0  8]\n",
      "Epoch 14 - avg_train_loss: 0.8019  lr: 8.2081e-04  time: 13s\n",
      "Epoch 14 - Score: 0.4504\n"
     ]
    },
    {
     "name": "stdout",
     "output_type": "stream",
     "text": [
      "EVAL: [8/9] Data 0.005 (0.023) Elapsed 0m 0s (remain 0m 0s) \n",
      "Epoch: [15][0/40] Data 0.048 (0.048) Elapsed 0m 0s (remain 0m 11s) Loss: 1.6651(1.6651) Grad Norm: 9.8869  LR: 7.9601e-04  \n",
      "Epoch: [15][39/40] Data 0.047 (0.045) Elapsed 0m 12s (remain 0m 0s) Loss: 1.4520(1.0404) Grad Norm: 7.6953  LR: 7.9601e-04  \n",
      "EVAL: [0/9] Data 0.024 (0.024) Elapsed 0m 0s (remain 0m 0s) \n"
     ]
    },
    {
     "name": "stderr",
     "output_type": "stream",
     "text": [
      "labels: [ 6  2 10  0  8]\n",
      "pred_labels: [ 6  7 11  0  8]\n",
      "Epoch 15 - avg_train_loss: 1.0404  lr: 7.9601e-04  time: 13s\n",
      "Epoch 15 - Score: 0.4962\n"
     ]
    },
    {
     "name": "stdout",
     "output_type": "stream",
     "text": [
      "EVAL: [8/9] Data 0.004 (0.022) Elapsed 0m 0s (remain 0m 0s) \n",
      "Epoch: [16][0/40] Data 0.038 (0.038) Elapsed 0m 0s (remain 0m 11s) Loss: 0.2778(0.2778) Grad Norm: 7.5231  LR: 7.7006e-04  \n",
      "Epoch: [16][39/40] Data 0.045 (0.044) Elapsed 0m 11s (remain 0m 0s) Loss: 0.4394(0.6988) Grad Norm: 32.7848  LR: 7.7006e-04  \n",
      "EVAL: [0/9] Data 0.024 (0.024) Elapsed 0m 0s (remain 0m 0s) \n"
     ]
    },
    {
     "name": "stderr",
     "output_type": "stream",
     "text": [
      "labels: [ 6  2 10  0  8]\n",
      "pred_labels: [ 6  7 11  6  8]\n",
      "Epoch 16 - avg_train_loss: 0.6988  lr: 7.7006e-04  time: 13s\n",
      "Epoch 16 - Score: 0.4580\n"
     ]
    },
    {
     "name": "stdout",
     "output_type": "stream",
     "text": [
      "EVAL: [8/9] Data 0.005 (0.022) Elapsed 0m 0s (remain 0m 0s) \n",
      "Epoch: [17][0/40] Data 0.044 (0.044) Elapsed 0m 0s (remain 0m 11s) Loss: 0.1555(0.1555) Grad Norm: 10.0859  LR: 7.4304e-04  \n",
      "Epoch: [17][39/40] Data 0.044 (0.045) Elapsed 0m 12s (remain 0m 0s) Loss: 0.0216(0.7290) Grad Norm: 1.2337  LR: 7.4304e-04  \n",
      "EVAL: [0/9] Data 0.026 (0.026) Elapsed 0m 0s (remain 0m 0s) \n"
     ]
    },
    {
     "name": "stderr",
     "output_type": "stream",
     "text": [
      "labels: [ 6  2 10  0  8]\n",
      "pred_labels: [6 2 1 6 8]\n",
      "Epoch 17 - avg_train_loss: 0.7290  lr: 7.4304e-04  time: 13s\n",
      "Epoch 17 - Score: 0.5344\n"
     ]
    },
    {
     "name": "stdout",
     "output_type": "stream",
     "text": [
      "EVAL: [8/9] Data 0.005 (0.023) Elapsed 0m 0s (remain 0m 0s) \n",
      "Epoch: [18][0/40] Data 0.047 (0.047) Elapsed 0m 0s (remain 0m 12s) Loss: 0.1639(0.1639) Grad Norm: 5.3751  LR: 7.1508e-04  \n",
      "Epoch: [18][39/40] Data 0.045 (0.043) Elapsed 0m 11s (remain 0m 0s) Loss: 0.0749(0.7023) Grad Norm: 3.8455  LR: 7.1508e-04  \n",
      "EVAL: [0/9] Data 0.023 (0.023) Elapsed 0m 0s (remain 0m 0s) \n"
     ]
    },
    {
     "name": "stderr",
     "output_type": "stream",
     "text": [
      "labels: [ 6  2 10  0  8]\n",
      "pred_labels: [6 2 2 0 8]\n",
      "Epoch 18 - avg_train_loss: 0.7023  lr: 7.1508e-04  time: 13s\n",
      "Epoch 18 - Score: 0.5420\n"
     ]
    },
    {
     "name": "stdout",
     "output_type": "stream",
     "text": [
      "EVAL: [8/9] Data 0.005 (0.022) Elapsed 0m 0s (remain 0m 0s) \n",
      "Epoch: [19][0/40] Data 0.044 (0.044) Elapsed 0m 0s (remain 0m 11s) Loss: 0.2252(0.2252) Grad Norm: 2.6141  LR: 6.8627e-04  \n",
      "Epoch: [19][39/40] Data 0.050 (0.043) Elapsed 0m 11s (remain 0m 0s) Loss: 0.0140(0.7075) Grad Norm: 3.9682  LR: 6.8627e-04  \n",
      "EVAL: [0/9] Data 0.025 (0.025) Elapsed 0m 0s (remain 0m 0s) \n"
     ]
    },
    {
     "name": "stderr",
     "output_type": "stream",
     "text": [
      "labels: [ 6  2 10  0  8]\n",
      "pred_labels: [11  2  3  6  8]\n",
      "Epoch 19 - avg_train_loss: 0.7075  lr: 6.8627e-04  time: 13s\n",
      "Epoch 19 - Score: 0.4962\n"
     ]
    },
    {
     "name": "stdout",
     "output_type": "stream",
     "text": [
      "EVAL: [8/9] Data 0.005 (0.022) Elapsed 0m 0s (remain 0m 0s) \n",
      "Epoch: [20][0/40] Data 0.043 (0.043) Elapsed 0m 0s (remain 0m 11s) Loss: 0.0558(0.0558) Grad Norm: 5.3786  LR: 6.5674e-04  \n",
      "Epoch: [20][39/40] Data 0.043 (0.045) Elapsed 0m 12s (remain 0m 0s) Loss: 0.0310(0.7589) Grad Norm: 1.1118  LR: 6.5674e-04  \n",
      "EVAL: [0/9] Data 0.028 (0.028) Elapsed 0m 0s (remain 0m 0s) \n"
     ]
    },
    {
     "name": "stderr",
     "output_type": "stream",
     "text": [
      "labels: [ 6  2 10  0  8]\n",
      "pred_labels: [6 2 1 0 8]\n",
      "Epoch 20 - avg_train_loss: 0.7589  lr: 6.5674e-04  time: 13s\n",
      "Epoch 20 - Score: 0.6031\n",
      "Epoch 20 - Save Best Score: 0.6031 Model\n"
     ]
    },
    {
     "name": "stdout",
     "output_type": "stream",
     "text": [
      "EVAL: [8/9] Data 0.005 (0.023) Elapsed 0m 0s (remain 0m 0s) \n",
      "Epoch: [21][0/40] Data 0.039 (0.039) Elapsed 0m 0s (remain 0m 12s) Loss: 0.0393(0.0393) Grad Norm: 2.8247  LR: 6.2661e-04  \n",
      "Epoch: [21][39/40] Data 0.044 (0.045) Elapsed 0m 11s (remain 0m 0s) Loss: 1.2048(0.7493) Grad Norm: 6.8960  LR: 6.2661e-04  \n",
      "EVAL: [0/9] Data 0.025 (0.025) Elapsed 0m 0s (remain 0m 0s) \n"
     ]
    },
    {
     "name": "stderr",
     "output_type": "stream",
     "text": [
      "labels: [ 6  2 10  0  8]\n",
      "pred_labels: [6 2 1 0 8]\n",
      "Epoch 21 - avg_train_loss: 0.7493  lr: 6.2661e-04  time: 13s\n",
      "Epoch 21 - Score: 0.5573\n"
     ]
    },
    {
     "name": "stdout",
     "output_type": "stream",
     "text": [
      "EVAL: [8/9] Data 0.005 (0.023) Elapsed 0m 0s (remain 0m 0s) \n",
      "Epoch: [22][0/40] Data 0.050 (0.050) Elapsed 0m 0s (remain 0m 12s) Loss: 0.2071(0.2071) Grad Norm: 5.4495  LR: 5.9598e-04  \n",
      "Epoch: [22][39/40] Data 0.049 (0.045) Elapsed 0m 12s (remain 0m 0s) Loss: 0.1922(0.8186) Grad Norm: 5.5019  LR: 5.9598e-04  \n",
      "EVAL: [0/9] Data 0.025 (0.025) Elapsed 0m 0s (remain 0m 0s) \n"
     ]
    },
    {
     "name": "stderr",
     "output_type": "stream",
     "text": [
      "labels: [ 6  2 10  0  8]\n",
      "pred_labels: [6 2 3 0 8]\n",
      "Epoch 22 - avg_train_loss: 0.8186  lr: 5.9598e-04  time: 13s\n",
      "Epoch 22 - Score: 0.5573\n"
     ]
    },
    {
     "name": "stdout",
     "output_type": "stream",
     "text": [
      "EVAL: [8/9] Data 0.005 (0.022) Elapsed 0m 0s (remain 0m 0s) \n",
      "Epoch: [23][0/40] Data 0.044 (0.044) Elapsed 0m 0s (remain 0m 11s) Loss: 1.3714(1.3714) Grad Norm: 7.4065  LR: 5.6498e-04  \n",
      "Epoch: [23][39/40] Data 0.049 (0.045) Elapsed 0m 12s (remain 0m 0s) Loss: 0.0269(0.7714) Grad Norm: 1.0124  LR: 5.6498e-04  \n",
      "EVAL: [0/9] Data 0.027 (0.027) Elapsed 0m 0s (remain 0m 0s) \n"
     ]
    },
    {
     "name": "stderr",
     "output_type": "stream",
     "text": [
      "labels: [ 6  2 10  0  8]\n",
      "pred_labels: [6 2 1 0 8]\n",
      "Epoch 23 - avg_train_loss: 0.7714  lr: 5.6498e-04  time: 13s\n",
      "Epoch 23 - Score: 0.5802\n"
     ]
    },
    {
     "name": "stdout",
     "output_type": "stream",
     "text": [
      "EVAL: [8/9] Data 0.006 (0.023) Elapsed 0m 0s (remain 0m 0s) \n",
      "Epoch: [24][0/40] Data 0.047 (0.047) Elapsed 0m 0s (remain 0m 11s) Loss: 1.1811(1.1811) Grad Norm: 6.6151  LR: 5.3373e-04  \n",
      "Epoch: [24][39/40] Data 0.050 (0.046) Elapsed 0m 12s (remain 0m 0s) Loss: 0.0045(0.6714) Grad Norm: 0.1442  LR: 5.3373e-04  \n",
      "EVAL: [0/9] Data 0.025 (0.025) Elapsed 0m 0s (remain 0m 0s) \n"
     ]
    },
    {
     "name": "stderr",
     "output_type": "stream",
     "text": [
      "labels: [ 6  2 10  0  8]\n",
      "pred_labels: [6 2 1 0 8]\n",
      "Epoch 24 - avg_train_loss: 0.6714  lr: 5.3373e-04  time: 13s\n",
      "Epoch 24 - Score: 0.5496\n"
     ]
    },
    {
     "name": "stdout",
     "output_type": "stream",
     "text": [
      "EVAL: [8/9] Data 0.005 (0.026) Elapsed 0m 0s (remain 0m 0s) \n",
      "Epoch: [25][0/40] Data 0.042 (0.042) Elapsed 0m 0s (remain 0m 11s) Loss: 1.7123(1.7123) Grad Norm: 9.3353  LR: 5.0236e-04  \n",
      "Epoch: [25][39/40] Data 0.040 (0.046) Elapsed 0m 12s (remain 0m 0s) Loss: 0.1006(0.7438) Grad Norm: 5.1625  LR: 5.0236e-04  \n",
      "EVAL: [0/9] Data 0.024 (0.024) Elapsed 0m 0s (remain 0m 0s) \n"
     ]
    },
    {
     "name": "stderr",
     "output_type": "stream",
     "text": [
      "labels: [ 6  2 10  0  8]\n",
      "pred_labels: [6 2 1 0 8]\n",
      "Epoch 25 - avg_train_loss: 0.7438  lr: 5.0236e-04  time: 13s\n",
      "Epoch 25 - Score: 0.5191\n"
     ]
    },
    {
     "name": "stdout",
     "output_type": "stream",
     "text": [
      "EVAL: [8/9] Data 0.005 (0.022) Elapsed 0m 0s (remain 0m 0s) \n",
      "Epoch: [26][0/40] Data 0.049 (0.049) Elapsed 0m 0s (remain 0m 12s) Loss: 1.0734(1.0734) Grad Norm: 8.6792  LR: 4.7099e-04  \n",
      "Epoch: [26][39/40] Data 0.043 (0.045) Elapsed 0m 11s (remain 0m 0s) Loss: 1.3572(0.7822) Grad Norm: 7.0832  LR: 4.7099e-04  \n",
      "EVAL: [0/9] Data 0.025 (0.025) Elapsed 0m 0s (remain 0m 0s) \n"
     ]
    },
    {
     "name": "stderr",
     "output_type": "stream",
     "text": [
      "labels: [ 6  2 10  0  8]\n",
      "pred_labels: [6 2 1 0 8]\n",
      "Epoch 26 - avg_train_loss: 0.7822  lr: 4.7099e-04  time: 13s\n",
      "Epoch 26 - Score: 0.5420\n"
     ]
    },
    {
     "name": "stdout",
     "output_type": "stream",
     "text": [
      "EVAL: [8/9] Data 0.005 (0.022) Elapsed 0m 0s (remain 0m 0s) \n",
      "Epoch: [27][0/40] Data 0.044 (0.044) Elapsed 0m 0s (remain 0m 11s) Loss: 0.0251(0.0251) Grad Norm: 0.8363  LR: 4.3974e-04  \n",
      "Epoch: [27][39/40] Data 0.041 (0.045) Elapsed 0m 12s (remain 0m 0s) Loss: 0.7068(0.5358) Grad Norm: 3.5848  LR: 4.3974e-04  \n",
      "EVAL: [0/9] Data 0.024 (0.024) Elapsed 0m 0s (remain 0m 0s) \n"
     ]
    },
    {
     "name": "stderr",
     "output_type": "stream",
     "text": [
      "labels: [ 6  2 10  0  8]\n",
      "pred_labels: [6 2 4 0 8]\n",
      "Epoch 27 - avg_train_loss: 0.5358  lr: 4.3974e-04  time: 13s\n",
      "Epoch 27 - Score: 0.5420\n"
     ]
    },
    {
     "name": "stdout",
     "output_type": "stream",
     "text": [
      "EVAL: [8/9] Data 0.005 (0.022) Elapsed 0m 0s (remain 0m 0s) \n",
      "Epoch: [28][0/40] Data 0.041 (0.041) Elapsed 0m 0s (remain 0m 11s) Loss: 1.2606(1.2606) Grad Norm: 5.5195  LR: 4.0874e-04  \n",
      "Epoch: [28][39/40] Data 0.042 (0.044) Elapsed 0m 11s (remain 0m 0s) Loss: 0.0052(0.6043) Grad Norm: 0.1399  LR: 4.0874e-04  \n",
      "EVAL: [0/9] Data 0.024 (0.024) Elapsed 0m 0s (remain 0m 0s) \n"
     ]
    },
    {
     "name": "stderr",
     "output_type": "stream",
     "text": [
      "labels: [ 6  2 10  0  8]\n",
      "pred_labels: [5 2 1 0 8]\n",
      "Epoch 28 - avg_train_loss: 0.6043  lr: 4.0874e-04  time: 13s\n",
      "Epoch 28 - Score: 0.5420\n"
     ]
    },
    {
     "name": "stdout",
     "output_type": "stream",
     "text": [
      "EVAL: [8/9] Data 0.005 (0.022) Elapsed 0m 0s (remain 0m 0s) \n",
      "Epoch: [29][0/40] Data 0.040 (0.040) Elapsed 0m 0s (remain 0m 11s) Loss: 0.8599(0.8599) Grad Norm: 3.8684  LR: 3.7811e-04  \n",
      "Epoch: [29][39/40] Data 0.045 (0.044) Elapsed 0m 11s (remain 0m 0s) Loss: 0.8281(0.6663) Grad Norm: 3.2253  LR: 3.7811e-04  \n",
      "EVAL: [0/9] Data 0.024 (0.024) Elapsed 0m 0s (remain 0m 0s) \n"
     ]
    },
    {
     "name": "stderr",
     "output_type": "stream",
     "text": [
      "labels: [ 6  2 10  0  8]\n",
      "pred_labels: [6 2 1 0 8]\n",
      "Epoch 29 - avg_train_loss: 0.6663  lr: 3.7811e-04  time: 13s\n",
      "Epoch 29 - Score: 0.5649\n"
     ]
    },
    {
     "name": "stdout",
     "output_type": "stream",
     "text": [
      "EVAL: [8/9] Data 0.005 (0.022) Elapsed 0m 0s (remain 0m 0s) \n",
      "Epoch: [30][0/40] Data 0.048 (0.048) Elapsed 0m 0s (remain 0m 11s) Loss: 0.0245(0.0245) Grad Norm: 1.3523  LR: 3.4797e-04  \n",
      "Epoch: [30][39/40] Data 0.041 (0.043) Elapsed 0m 11s (remain 0m 0s) Loss: 1.0420(0.6791) Grad Norm: 7.1663  LR: 3.4797e-04  \n",
      "EVAL: [0/9] Data 0.025 (0.025) Elapsed 0m 0s (remain 0m 0s) \n"
     ]
    },
    {
     "name": "stderr",
     "output_type": "stream",
     "text": [
      "labels: [ 6  2 10  0  8]\n",
      "pred_labels: [6 2 1 0 8]\n",
      "Epoch 30 - avg_train_loss: 0.6791  lr: 3.4797e-04  time: 13s\n",
      "Epoch 30 - Score: 0.5573\n"
     ]
    },
    {
     "name": "stdout",
     "output_type": "stream",
     "text": [
      "EVAL: [8/9] Data 0.005 (0.022) Elapsed 0m 0s (remain 0m 0s) \n",
      "Epoch: [31][0/40] Data 0.043 (0.043) Elapsed 0m 0s (remain 0m 11s) Loss: 0.0100(0.0100) Grad Norm: 0.2782  LR: 3.1843e-04  \n",
      "Epoch: [31][39/40] Data 0.038 (0.046) Elapsed 0m 12s (remain 0m 0s) Loss: 0.0855(0.3601) Grad Norm: 8.1206  LR: 3.1843e-04  \n",
      "EVAL: [0/9] Data 0.025 (0.025) Elapsed 0m 0s (remain 0m 0s) \n"
     ]
    },
    {
     "name": "stderr",
     "output_type": "stream",
     "text": [
      "labels: [ 6  2 10  0  8]\n",
      "pred_labels: [6 2 1 0 8]\n",
      "Epoch 31 - avg_train_loss: 0.3601  lr: 3.1843e-04  time: 13s\n",
      "Epoch 31 - Score: 0.5725\n"
     ]
    },
    {
     "name": "stdout",
     "output_type": "stream",
     "text": [
      "EVAL: [8/9] Data 0.005 (0.022) Elapsed 0m 0s (remain 0m 0s) \n",
      "Epoch: [32][0/40] Data 0.047 (0.047) Elapsed 0m 0s (remain 0m 11s) Loss: 0.7468(0.7468) Grad Norm: 3.8928  LR: 2.8962e-04  \n",
      "Epoch: [32][39/40] Data 0.054 (0.045) Elapsed 0m 11s (remain 0m 0s) Loss: 0.0441(0.3941) Grad Norm: 3.2669  LR: 2.8962e-04  \n",
      "EVAL: [0/9] Data 0.029 (0.029) Elapsed 0m 0s (remain 0m 0s) \n"
     ]
    },
    {
     "name": "stderr",
     "output_type": "stream",
     "text": [
      "labels: [ 6  2 10  0  8]\n",
      "pred_labels: [6 2 2 0 8]\n",
      "Epoch 32 - avg_train_loss: 0.3941  lr: 2.8962e-04  time: 13s\n",
      "Epoch 32 - Score: 0.5573\n"
     ]
    },
    {
     "name": "stdout",
     "output_type": "stream",
     "text": [
      "EVAL: [8/9] Data 0.005 (0.024) Elapsed 0m 0s (remain 0m 0s) \n",
      "Epoch: [33][0/40] Data 0.052 (0.052) Elapsed 0m 0s (remain 0m 11s) Loss: 0.0393(0.0393) Grad Norm: 3.5971  LR: 2.6165e-04  \n",
      "Epoch: [33][39/40] Data 0.041 (0.045) Elapsed 0m 11s (remain 0m 0s) Loss: 0.0038(0.4930) Grad Norm: 0.1037  LR: 2.6165e-04  \n",
      "EVAL: [0/9] Data 0.023 (0.023) Elapsed 0m 0s (remain 0m 0s) \n"
     ]
    },
    {
     "name": "stderr",
     "output_type": "stream",
     "text": [
      "labels: [ 6  2 10  0  8]\n",
      "pred_labels: [6 2 2 0 8]\n",
      "Epoch 33 - avg_train_loss: 0.4930  lr: 2.6165e-04  time: 13s\n",
      "Epoch 33 - Score: 0.5496\n"
     ]
    },
    {
     "name": "stdout",
     "output_type": "stream",
     "text": [
      "EVAL: [8/9] Data 0.005 (0.022) Elapsed 0m 0s (remain 0m 0s) \n",
      "Epoch: [34][0/40] Data 0.042 (0.042) Elapsed 0m 0s (remain 0m 11s) Loss: 0.0052(0.0052) Grad Norm: 0.1633  LR: 2.3463e-04  \n",
      "Epoch: [34][39/40] Data 0.043 (0.043) Elapsed 0m 11s (remain 0m 0s) Loss: 1.1582(0.4455) Grad Norm: 5.5288  LR: 2.3463e-04  \n",
      "EVAL: [0/9] Data 0.025 (0.025) Elapsed 0m 0s (remain 0m 0s) \n"
     ]
    },
    {
     "name": "stderr",
     "output_type": "stream",
     "text": [
      "labels: [ 6  2 10  0  8]\n",
      "pred_labels: [6 2 1 0 8]\n",
      "Epoch 34 - avg_train_loss: 0.4455  lr: 2.3463e-04  time: 13s\n",
      "Epoch 34 - Score: 0.5725\n"
     ]
    },
    {
     "name": "stdout",
     "output_type": "stream",
     "text": [
      "EVAL: [8/9] Data 0.005 (0.023) Elapsed 0m 0s (remain 0m 0s) \n",
      "Epoch: [35][0/40] Data 0.042 (0.042) Elapsed 0m 0s (remain 0m 11s) Loss: 1.3446(1.3446) Grad Norm: 6.8282  LR: 2.0866e-04  \n",
      "Epoch: [35][39/40] Data 0.041 (0.045) Elapsed 0m 11s (remain 0m 0s) Loss: 0.8380(0.5201) Grad Norm: 4.5485  LR: 2.0866e-04  \n",
      "EVAL: [0/9] Data 0.025 (0.025) Elapsed 0m 0s (remain 0m 0s) \n"
     ]
    },
    {
     "name": "stderr",
     "output_type": "stream",
     "text": [
      "labels: [ 6  2 10  0  8]\n",
      "pred_labels: [6 2 2 0 8]\n",
      "Epoch 35 - avg_train_loss: 0.5201  lr: 2.0866e-04  time: 13s\n",
      "Epoch 35 - Score: 0.5573\n"
     ]
    },
    {
     "name": "stdout",
     "output_type": "stream",
     "text": [
      "EVAL: [8/9] Data 0.005 (0.022) Elapsed 0m 0s (remain 0m 0s) \n",
      "Epoch: [36][0/40] Data 0.044 (0.044) Elapsed 0m 0s (remain 0m 11s) Loss: 0.0030(0.0030) Grad Norm: 0.1397  LR: 1.8385e-04  \n",
      "Epoch: [36][39/40] Data 0.040 (0.044) Elapsed 0m 11s (remain 0m 0s) Loss: 0.0013(0.3557) Grad Norm: 0.0349  LR: 1.8385e-04  \n",
      "EVAL: [0/9] Data 0.025 (0.025) Elapsed 0m 0s (remain 0m 0s) \n"
     ]
    },
    {
     "name": "stderr",
     "output_type": "stream",
     "text": [
      "labels: [ 6  2 10  0  8]\n",
      "pred_labels: [6 2 1 0 8]\n",
      "Epoch 36 - avg_train_loss: 0.3557  lr: 1.8385e-04  time: 13s\n",
      "Epoch 36 - Score: 0.5573\n"
     ]
    },
    {
     "name": "stdout",
     "output_type": "stream",
     "text": [
      "EVAL: [8/9] Data 0.005 (0.024) Elapsed 0m 0s (remain 0m 0s) \n",
      "Epoch: [37][0/40] Data 0.045 (0.045) Elapsed 0m 0s (remain 0m 11s) Loss: 0.8069(0.8069) Grad Norm: 3.4252  LR: 1.6030e-04  \n",
      "Epoch: [37][39/40] Data 0.046 (0.045) Elapsed 0m 12s (remain 0m 0s) Loss: 0.5566(0.4736) Grad Norm: 3.1027  LR: 1.6030e-04  \n",
      "EVAL: [0/9] Data 0.024 (0.024) Elapsed 0m 0s (remain 0m 0s) \n"
     ]
    },
    {
     "name": "stderr",
     "output_type": "stream",
     "text": [
      "labels: [ 6  2 10  0  8]\n",
      "pred_labels: [6 2 1 0 8]\n",
      "Epoch 37 - avg_train_loss: 0.4736  lr: 1.6030e-04  time: 13s\n",
      "Epoch 37 - Score: 0.6031\n"
     ]
    },
    {
     "name": "stdout",
     "output_type": "stream",
     "text": [
      "EVAL: [8/9] Data 0.005 (0.022) Elapsed 0m 0s (remain 0m 0s) \n",
      "Epoch: [38][0/40] Data 0.041 (0.041) Elapsed 0m 0s (remain 0m 11s) Loss: 0.0031(0.0031) Grad Norm: 0.0999  LR: 1.3809e-04  \n",
      "Epoch: [38][39/40] Data 0.045 (0.044) Elapsed 0m 11s (remain 0m 0s) Loss: 0.0453(0.5042) Grad Norm: 3.7189  LR: 1.3809e-04  \n",
      "EVAL: [0/9] Data 0.024 (0.024) Elapsed 0m 0s (remain 0m 0s) \n"
     ]
    },
    {
     "name": "stderr",
     "output_type": "stream",
     "text": [
      "labels: [ 6  2 10  0  8]\n",
      "pred_labels: [6 2 1 0 8]\n",
      "Epoch 38 - avg_train_loss: 0.5042  lr: 1.3809e-04  time: 13s\n",
      "Epoch 38 - Score: 0.5802\n"
     ]
    },
    {
     "name": "stdout",
     "output_type": "stream",
     "text": [
      "EVAL: [8/9] Data 0.005 (0.022) Elapsed 0m 0s (remain 0m 0s) \n",
      "Epoch: [39][0/40] Data 0.043 (0.043) Elapsed 0m 0s (remain 0m 11s) Loss: 0.0023(0.0023) Grad Norm: 0.1387  LR: 1.1732e-04  \n",
      "Epoch: [39][39/40] Data 0.045 (0.043) Elapsed 0m 11s (remain 0m 0s) Loss: 0.0247(0.4012) Grad Norm: 6.0046  LR: 1.1732e-04  \n",
      "EVAL: [0/9] Data 0.023 (0.023) Elapsed 0m 0s (remain 0m 0s) \n"
     ]
    },
    {
     "name": "stderr",
     "output_type": "stream",
     "text": [
      "labels: [ 6  2 10  0  8]\n",
      "pred_labels: [6 2 1 0 8]\n",
      "Epoch 39 - avg_train_loss: 0.4012  lr: 1.1732e-04  time: 13s\n",
      "Epoch 39 - Score: 0.5954\n"
     ]
    },
    {
     "name": "stdout",
     "output_type": "stream",
     "text": [
      "EVAL: [8/9] Data 0.005 (0.022) Elapsed 0m 0s (remain 0m 0s) \n",
      "Epoch: [40][0/40] Data 0.041 (0.041) Elapsed 0m 0s (remain 0m 11s) Loss: 0.8148(0.8148) Grad Norm: 3.0013  LR: 9.8058e-05  \n",
      "Epoch: [40][39/40] Data 0.044 (0.042) Elapsed 0m 11s (remain 0m 0s) Loss: 0.0008(0.3718) Grad Norm: 0.0287  LR: 9.8058e-05  \n",
      "EVAL: [0/9] Data 0.025 (0.025) Elapsed 0m 0s (remain 0m 0s) \n"
     ]
    },
    {
     "name": "stderr",
     "output_type": "stream",
     "text": [
      "labels: [ 6  2 10  0  8]\n",
      "pred_labels: [6 2 1 0 8]\n",
      "Epoch 40 - avg_train_loss: 0.3718  lr: 9.8058e-05  time: 12s\n",
      "Epoch 40 - Score: 0.5878\n"
     ]
    },
    {
     "name": "stdout",
     "output_type": "stream",
     "text": [
      "EVAL: [8/9] Data 0.005 (0.022) Elapsed 0m 0s (remain 0m 0s) \n",
      "Epoch: [41][0/40] Data 0.042 (0.042) Elapsed 0m 0s (remain 0m 11s) Loss: 0.0054(0.0054) Grad Norm: 0.2438  LR: 8.0390e-05  \n",
      "Epoch: [41][39/40] Data 0.040 (0.044) Elapsed 0m 11s (remain 0m 0s) Loss: 0.0069(0.3891) Grad Norm: 0.3627  LR: 8.0390e-05  \n",
      "EVAL: [0/9] Data 0.023 (0.023) Elapsed 0m 0s (remain 0m 0s) \n"
     ]
    },
    {
     "name": "stderr",
     "output_type": "stream",
     "text": [
      "labels: [ 6  2 10  0  8]\n",
      "pred_labels: [6 2 1 0 8]\n",
      "Epoch 41 - avg_train_loss: 0.3891  lr: 8.0390e-05  time: 13s\n",
      "Epoch 41 - Score: 0.6031\n"
     ]
    },
    {
     "name": "stdout",
     "output_type": "stream",
     "text": [
      "EVAL: [8/9] Data 0.005 (0.023) Elapsed 0m 0s (remain 0m 0s) \n",
      "Epoch: [42][0/40] Data 0.045 (0.045) Elapsed 0m 0s (remain 0m 11s) Loss: 0.0018(0.0018) Grad Norm: 0.0582  LR: 6.4381e-05  \n",
      "Epoch: [42][39/40] Data 0.043 (0.044) Elapsed 0m 11s (remain 0m 0s) Loss: 0.3435(0.3962) Grad Norm: 7.8072  LR: 6.4381e-05  \n",
      "EVAL: [0/9] Data 0.024 (0.024) Elapsed 0m 0s (remain 0m 0s) \n"
     ]
    },
    {
     "name": "stderr",
     "output_type": "stream",
     "text": [
      "labels: [ 6  2 10  0  8]\n",
      "pred_labels: [6 2 1 0 8]\n",
      "Epoch 42 - avg_train_loss: 0.3962  lr: 6.4381e-05  time: 13s\n",
      "Epoch 42 - Score: 0.5954\n"
     ]
    },
    {
     "name": "stdout",
     "output_type": "stream",
     "text": [
      "EVAL: [8/9] Data 0.005 (0.022) Elapsed 0m 0s (remain 0m 0s) \n",
      "Epoch: [43][0/40] Data 0.044 (0.044) Elapsed 0m 0s (remain 0m 11s) Loss: 0.0067(0.0067) Grad Norm: 0.9112  LR: 5.0093e-05  \n",
      "Epoch: [43][39/40] Data 0.042 (0.042) Elapsed 0m 11s (remain 0m 0s) Loss: 0.6944(0.3362) Grad Norm: 4.8325  LR: 5.0093e-05  \n",
      "EVAL: [0/9] Data 0.025 (0.025) Elapsed 0m 0s (remain 0m 0s) \n"
     ]
    },
    {
     "name": "stderr",
     "output_type": "stream",
     "text": [
      "labels: [ 6  2 10  0  8]\n",
      "pred_labels: [6 2 1 0 8]\n",
      "Epoch 43 - avg_train_loss: 0.3362  lr: 5.0093e-05  time: 12s\n",
      "Epoch 43 - Score: 0.5725\n"
     ]
    },
    {
     "name": "stdout",
     "output_type": "stream",
     "text": [
      "EVAL: [8/9] Data 0.005 (0.021) Elapsed 0m 0s (remain 0m 0s) \n",
      "Epoch: [44][0/40] Data 0.044 (0.044) Elapsed 0m 0s (remain 0m 11s) Loss: 0.0011(0.0011) Grad Norm: 0.0456  LR: 3.7578e-05  \n",
      "Epoch: [44][39/40] Data 0.049 (0.044) Elapsed 0m 11s (remain 0m 0s) Loss: 0.7493(0.4386) Grad Norm: 3.5767  LR: 3.7578e-05  \n",
      "EVAL: [0/9] Data 0.026 (0.026) Elapsed 0m 0s (remain 0m 0s) \n"
     ]
    },
    {
     "name": "stderr",
     "output_type": "stream",
     "text": [
      "labels: [ 6  2 10  0  8]\n",
      "pred_labels: [6 2 1 0 8]\n",
      "Epoch 44 - avg_train_loss: 0.4386  lr: 3.7578e-05  time: 13s\n",
      "Epoch 44 - Score: 0.5802\n"
     ]
    },
    {
     "name": "stdout",
     "output_type": "stream",
     "text": [
      "EVAL: [8/9] Data 0.005 (0.022) Elapsed 0m 0s (remain 0m 0s) \n",
      "Epoch: [45][0/40] Data 0.048 (0.048) Elapsed 0m 0s (remain 0m 11s) Loss: 0.9076(0.9076) Grad Norm: 4.8593  LR: 2.6881e-05  \n",
      "Epoch: [45][39/40] Data 0.047 (0.045) Elapsed 0m 11s (remain 0m 0s) Loss: 0.0015(0.3981) Grad Norm: 0.0688  LR: 2.6881e-05  \n",
      "EVAL: [0/9] Data 0.023 (0.023) Elapsed 0m 0s (remain 0m 0s) \n"
     ]
    },
    {
     "name": "stderr",
     "output_type": "stream",
     "text": [
      "labels: [ 6  2 10  0  8]\n",
      "pred_labels: [6 2 1 0 8]\n",
      "Epoch 45 - avg_train_loss: 0.3981  lr: 2.6881e-05  time: 13s\n",
      "Epoch 45 - Score: 0.5649\n"
     ]
    },
    {
     "name": "stdout",
     "output_type": "stream",
     "text": [
      "EVAL: [8/9] Data 0.005 (0.022) Elapsed 0m 0s (remain 0m 0s) \n",
      "Epoch: [46][0/40] Data 0.051 (0.051) Elapsed 0m 0s (remain 0m 11s) Loss: 0.0028(0.0028) Grad Norm: 0.1103  LR: 1.8039e-05  \n",
      "Epoch: [46][39/40] Data 0.048 (0.043) Elapsed 0m 11s (remain 0m 0s) Loss: 0.0048(0.0029) Grad Norm: 0.3398  LR: 1.8039e-05  \n",
      "EVAL: [0/9] Data 0.024 (0.024) Elapsed 0m 0s (remain 0m 0s) \n"
     ]
    },
    {
     "name": "stderr",
     "output_type": "stream",
     "text": [
      "labels: [ 6  2 10  0  8]\n",
      "pred_labels: [6 2 1 0 8]\n",
      "Epoch 46 - avg_train_loss: 0.0029  lr: 1.8039e-05  time: 12s\n",
      "Epoch 46 - Score: 0.5802\n"
     ]
    },
    {
     "name": "stdout",
     "output_type": "stream",
     "text": [
      "EVAL: [8/9] Data 0.005 (0.022) Elapsed 0m 0s (remain 0m 0s) \n",
      "Epoch: [47][0/40] Data 0.039 (0.039) Elapsed 0m 0s (remain 0m 11s) Loss: 0.0014(0.0014) Grad Norm: 0.0468  LR: 1.1073e-05  \n",
      "Epoch: [47][39/40] Data 0.052 (0.045) Elapsed 0m 11s (remain 0m 0s) Loss: 0.0023(0.0083) Grad Norm: 0.0895  LR: 1.1073e-05  \n",
      "EVAL: [0/9] Data 0.025 (0.025) Elapsed 0m 0s (remain 0m 0s) \n"
     ]
    },
    {
     "name": "stderr",
     "output_type": "stream",
     "text": [
      "labels: [ 6  2 10  0  8]\n",
      "pred_labels: [6 2 1 0 8]\n",
      "Epoch 47 - avg_train_loss: 0.0083  lr: 1.1073e-05  time: 13s\n",
      "Epoch 47 - Score: 0.5802\n"
     ]
    },
    {
     "name": "stdout",
     "output_type": "stream",
     "text": [
      "EVAL: [8/9] Data 0.005 (0.022) Elapsed 0m 0s (remain 0m 0s) \n",
      "Epoch: [48][0/40] Data 0.047 (0.047) Elapsed 0m 0s (remain 0m 11s) Loss: 0.0006(0.0006) Grad Norm: 0.0579  LR: 5.9882e-06  \n",
      "Epoch: [48][39/40] Data 0.044 (0.044) Elapsed 0m 11s (remain 0m 0s) Loss: 0.0024(0.0029) Grad Norm: 0.0843  LR: 5.9882e-06  \n",
      "EVAL: [0/9] Data 0.024 (0.024) Elapsed 0m 0s (remain 0m 0s) \n"
     ]
    },
    {
     "name": "stderr",
     "output_type": "stream",
     "text": [
      "labels: [ 6  2 10  0  8]\n",
      "pred_labels: [6 2 1 0 8]\n",
      "Epoch 48 - avg_train_loss: 0.0029  lr: 5.9882e-06  time: 13s\n",
      "Epoch 48 - Score: 0.5802\n"
     ]
    },
    {
     "name": "stdout",
     "output_type": "stream",
     "text": [
      "EVAL: [8/9] Data 0.005 (0.022) Elapsed 0m 0s (remain 0m 0s) \n",
      "Epoch: [49][0/40] Data 0.039 (0.039) Elapsed 0m 0s (remain 0m 10s) Loss: 0.0006(0.0006) Grad Norm: 0.0160  LR: 2.7534e-06  \n",
      "Epoch: [49][39/40] Data 0.043 (0.045) Elapsed 0m 11s (remain 0m 0s) Loss: 0.0011(0.0019) Grad Norm: 0.0648  LR: 2.7534e-06  \n",
      "EVAL: [0/9] Data 0.026 (0.026) Elapsed 0m 0s (remain 0m 0s) \n"
     ]
    },
    {
     "name": "stderr",
     "output_type": "stream",
     "text": [
      "labels: [ 6  2 10  0  8]\n",
      "pred_labels: [6 2 1 0 8]\n",
      "Epoch 49 - avg_train_loss: 0.0019  lr: 2.7534e-06  time: 13s\n",
      "Epoch 49 - Score: 0.5802\n"
     ]
    },
    {
     "name": "stdout",
     "output_type": "stream",
     "text": [
      "EVAL: [8/9] Data 0.005 (0.022) Elapsed 0m 0s (remain 0m 0s) \n",
      "Epoch: [50][0/40] Data 0.049 (0.049) Elapsed 0m 0s (remain 0m 11s) Loss: 0.0022(0.0022) Grad Norm: 0.1308  LR: 1.2467e-06  \n",
      "Epoch: [50][39/40] Data 0.051 (0.043) Elapsed 0m 11s (remain 0m 0s) Loss: 0.0015(0.0029) Grad Norm: 0.0763  LR: 1.2467e-06  \n",
      "EVAL: [0/9] Data 0.024 (0.024) Elapsed 0m 0s (remain 0m 0s) \n"
     ]
    },
    {
     "name": "stderr",
     "output_type": "stream",
     "text": [
      "labels: [ 6  2 10  0  8]\n",
      "pred_labels: [6 2 1 0 8]\n",
      "Epoch 50 - avg_train_loss: 0.0029  lr: 1.2467e-06  time: 12s\n",
      "Epoch 50 - Score: 0.5802\n",
      "==================== fold: 1, seed: 1 training ====================\n"
     ]
    },
    {
     "name": "stdout",
     "output_type": "stream",
     "text": [
      "EVAL: [8/9] Data 0.004 (0.023) Elapsed 0m 0s (remain 0m 0s) \n",
      "Epoch: [1][0/40] Data 0.042 (0.042) Elapsed 0m 0s (remain 0m 12s) Loss: 2.5552(2.5552) Grad Norm: 13.7253  LR: 1.0000e-03  \n",
      "Epoch: [1][39/40] Data 0.045 (0.043) Elapsed 0m 11s (remain 0m 0s) Loss: 2.3799(2.4910) Grad Norm: nan  LR: 1.0000e-03  \n",
      "EVAL: [0/9] Data 0.024 (0.024) Elapsed 0m 0s (remain 0m 0s) \n"
     ]
    },
    {
     "name": "stderr",
     "output_type": "stream",
     "text": [
      "labels: [12 11  2  2 11]\n",
      "pred_labels: [ 2 11  2  2  2]\n",
      "Epoch 1 - avg_train_loss: 2.4910  lr: 1.0000e-03  time: 12s\n",
      "Epoch 1 - Score: 0.2672\n",
      "Epoch 1 - Save Best Score: 0.2672 Model\n"
     ]
    },
    {
     "name": "stdout",
     "output_type": "stream",
     "text": [
      "EVAL: [8/9] Data 0.005 (0.022) Elapsed 0m 0s (remain 0m 0s) \n",
      "Epoch: [2][0/40] Data 0.043 (0.043) Elapsed 0m 0s (remain 0m 12s) Loss: 2.4828(2.4828) Grad Norm: 27.1902  LR: 9.9803e-04  \n",
      "Epoch: [2][39/40] Data 0.037 (0.043) Elapsed 0m 11s (remain 0m 0s) Loss: 2.4429(2.0702) Grad Norm: 19.6508  LR: 9.9803e-04  \n",
      "EVAL: [0/9] Data 0.024 (0.024) Elapsed 0m 0s (remain 0m 0s) \n"
     ]
    },
    {
     "name": "stderr",
     "output_type": "stream",
     "text": [
      "labels: [12 11  2  2 11]\n",
      "pred_labels: [ 9 11  2  2 11]\n",
      "Epoch 2 - avg_train_loss: 2.0702  lr: 9.9803e-04  time: 13s\n",
      "Epoch 2 - Score: 0.4733\n",
      "Epoch 2 - Save Best Score: 0.4733 Model\n"
     ]
    },
    {
     "name": "stdout",
     "output_type": "stream",
     "text": [
      "EVAL: [8/9] Data 0.004 (0.022) Elapsed 0m 0s (remain 0m 0s) \n",
      "Epoch: [3][0/40] Data 0.040 (0.040) Elapsed 0m 0s (remain 0m 11s) Loss: 1.6443(1.6443) Grad Norm: 13.4679  LR: 9.9312e-04  \n",
      "Epoch: [3][39/40] Data 0.043 (0.044) Elapsed 0m 11s (remain 0m 0s) Loss: 1.5113(1.7475) Grad Norm: 13.7198  LR: 9.9312e-04  \n",
      "EVAL: [0/9] Data 0.023 (0.023) Elapsed 0m 0s (remain 0m 0s) \n"
     ]
    },
    {
     "name": "stderr",
     "output_type": "stream",
     "text": [
      "labels: [12 11  2  2 11]\n",
      "pred_labels: [ 0 11  2  2 11]\n",
      "Epoch 3 - avg_train_loss: 1.7475  lr: 9.9312e-04  time: 13s\n",
      "Epoch 3 - Score: 0.5649\n",
      "Epoch 3 - Save Best Score: 0.5649 Model\n"
     ]
    },
    {
     "name": "stdout",
     "output_type": "stream",
     "text": [
      "EVAL: [8/9] Data 0.005 (0.022) Elapsed 0m 0s (remain 0m 0s) \n",
      "Epoch: [4][0/40] Data 0.038 (0.038) Elapsed 0m 0s (remain 0m 11s) Loss: 2.1147(2.1147) Grad Norm: 10.8076  LR: 9.8627e-04  \n",
      "Epoch: [4][39/40] Data 0.049 (0.043) Elapsed 0m 11s (remain 0m 0s) Loss: 1.4183(1.5230) Grad Norm: 13.4439  LR: 9.8627e-04  \n",
      "EVAL: [0/9] Data 0.023 (0.023) Elapsed 0m 0s (remain 0m 0s) \n"
     ]
    },
    {
     "name": "stderr",
     "output_type": "stream",
     "text": [
      "labels: [12 11  2  2 11]\n",
      "pred_labels: [ 9 11  0  2 11]\n",
      "Epoch 4 - avg_train_loss: 1.5230  lr: 9.8627e-04  time: 13s\n",
      "Epoch 4 - Score: 0.5420\n"
     ]
    },
    {
     "name": "stdout",
     "output_type": "stream",
     "text": [
      "EVAL: [8/9] Data 0.005 (0.021) Elapsed 0m 0s (remain 0m 0s) \n",
      "Epoch: [5][0/40] Data 0.051 (0.051) Elapsed 0m 0s (remain 0m 11s) Loss: 1.2661(1.2661) Grad Norm: 17.0763  LR: 9.7751e-04  \n",
      "Epoch: [5][39/40] Data 0.040 (0.045) Elapsed 0m 11s (remain 0m 0s) Loss: 1.5952(1.3586) Grad Norm: 11.8088  LR: 9.7751e-04  \n",
      "EVAL: [0/9] Data 0.024 (0.024) Elapsed 0m 0s (remain 0m 0s) \n"
     ]
    },
    {
     "name": "stderr",
     "output_type": "stream",
     "text": [
      "labels: [12 11  2  2 11]\n",
      "pred_labels: [ 9 11  2  4 11]\n",
      "Epoch 5 - avg_train_loss: 1.3586  lr: 9.7751e-04  time: 13s\n",
      "Epoch 5 - Score: 0.5802\n",
      "Epoch 5 - Save Best Score: 0.5802 Model\n"
     ]
    },
    {
     "name": "stdout",
     "output_type": "stream",
     "text": [
      "EVAL: [8/9] Data 0.005 (0.023) Elapsed 0m 0s (remain 0m 0s) \n",
      "Epoch: [6][0/40] Data 0.041 (0.041) Elapsed 0m 0s (remain 0m 12s) Loss: 1.7234(1.7234) Grad Norm: 7.0575  LR: 9.6688e-04  \n",
      "Epoch: [6][39/40] Data 0.044 (0.043) Elapsed 0m 11s (remain 0m 0s) Loss: 1.1040(1.3361) Grad Norm: 39.7353  LR: 9.6688e-04  \n",
      "EVAL: [0/9] Data 0.024 (0.024) Elapsed 0m 0s (remain 0m 0s) \n"
     ]
    },
    {
     "name": "stderr",
     "output_type": "stream",
     "text": [
      "labels: [12 11  2  2 11]\n",
      "pred_labels: [ 0 11  0  0 11]\n",
      "Epoch 6 - avg_train_loss: 1.3361  lr: 9.6688e-04  time: 13s\n",
      "Epoch 6 - Score: 0.5649\n"
     ]
    },
    {
     "name": "stdout",
     "output_type": "stream",
     "text": [
      "EVAL: [8/9] Data 0.004 (0.021) Elapsed 0m 0s (remain 0m 0s) \n",
      "Epoch: [7][0/40] Data 0.043 (0.043) Elapsed 0m 0s (remain 0m 11s) Loss: 0.3718(0.3718) Grad Norm: 6.5634  LR: 9.5441e-04  \n",
      "Epoch: [7][39/40] Data 0.043 (0.044) Elapsed 0m 11s (remain 0m 0s) Loss: 1.5852(1.2675) Grad Norm: 9.2889  LR: 9.5441e-04  \n",
      "EVAL: [0/9] Data 0.023 (0.023) Elapsed 0m 0s (remain 0m 0s) \n"
     ]
    },
    {
     "name": "stderr",
     "output_type": "stream",
     "text": [
      "labels: [12 11  2  2 11]\n",
      "pred_labels: [ 9  4  0  4 11]\n",
      "Epoch 7 - avg_train_loss: 1.2675  lr: 9.5441e-04  time: 13s\n",
      "Epoch 7 - Score: 0.5802\n"
     ]
    },
    {
     "name": "stdout",
     "output_type": "stream",
     "text": [
      "EVAL: [8/9] Data 0.005 (0.022) Elapsed 0m 0s (remain 0m 0s) \n",
      "Epoch: [8][0/40] Data 0.043 (0.043) Elapsed 0m 0s (remain 0m 11s) Loss: 1.2960(1.2960) Grad Norm: 17.7785  LR: 9.4016e-04  \n",
      "Epoch: [8][39/40] Data 0.041 (0.043) Elapsed 0m 11s (remain 0m 0s) Loss: 1.6190(1.1445) Grad Norm: 7.6761  LR: 9.4016e-04  \n",
      "EVAL: [0/9] Data 0.023 (0.023) Elapsed 0m 0s (remain 0m 0s) \n"
     ]
    },
    {
     "name": "stderr",
     "output_type": "stream",
     "text": [
      "labels: [12 11  2  2 11]\n",
      "pred_labels: [ 9 11  2  2 11]\n",
      "Epoch 8 - avg_train_loss: 1.1445  lr: 9.4016e-04  time: 13s\n",
      "Epoch 8 - Score: 0.6031\n",
      "Epoch 8 - Save Best Score: 0.6031 Model\n"
     ]
    },
    {
     "name": "stdout",
     "output_type": "stream",
     "text": [
      "EVAL: [8/9] Data 0.004 (0.021) Elapsed 0m 0s (remain 0m 0s) \n",
      "Epoch: [9][0/40] Data 0.039 (0.039) Elapsed 0m 0s (remain 0m 11s) Loss: 1.1298(1.1298) Grad Norm: 7.6956  LR: 9.2418e-04  \n",
      "Epoch: [9][39/40] Data 0.048 (0.045) Elapsed 0m 11s (remain 0m 0s) Loss: 0.7136(1.1239) Grad Norm: 9.1375  LR: 9.2418e-04  \n",
      "EVAL: [0/9] Data 0.023 (0.023) Elapsed 0m 0s (remain 0m 0s) \n"
     ]
    },
    {
     "name": "stderr",
     "output_type": "stream",
     "text": [
      "labels: [12 11  2  2 11]\n",
      "pred_labels: [ 9 11  0  2 11]\n",
      "Epoch 9 - avg_train_loss: 1.1239  lr: 9.2418e-04  time: 13s\n",
      "Epoch 9 - Score: 0.5496\n"
     ]
    },
    {
     "name": "stdout",
     "output_type": "stream",
     "text": [
      "EVAL: [8/9] Data 0.004 (0.022) Elapsed 0m 0s (remain 0m 0s) \n",
      "Epoch: [10][0/40] Data 0.044 (0.044) Elapsed 0m 0s (remain 0m 11s) Loss: 1.6751(1.6751) Grad Norm: 11.9033  LR: 9.0654e-04  \n",
      "Epoch: [10][39/40] Data 0.051 (0.044) Elapsed 0m 11s (remain 0m 0s) Loss: 0.9863(1.0348) Grad Norm: 19.8220  LR: 9.0654e-04  \n",
      "EVAL: [0/9] Data 0.023 (0.023) Elapsed 0m 0s (remain 0m 0s) \n"
     ]
    },
    {
     "name": "stderr",
     "output_type": "stream",
     "text": [
      "labels: [12 11  2  2 11]\n",
      "pred_labels: [ 9 11  1  3 11]\n",
      "Epoch 10 - avg_train_loss: 1.0348  lr: 9.0654e-04  time: 13s\n",
      "Epoch 10 - Score: 0.5649\n"
     ]
    },
    {
     "name": "stdout",
     "output_type": "stream",
     "text": [
      "EVAL: [8/9] Data 0.004 (0.021) Elapsed 0m 0s (remain 0m 0s) \n",
      "Epoch: [11][0/40] Data 0.046 (0.046) Elapsed 0m 0s (remain 0m 11s) Loss: 1.3599(1.3599) Grad Norm: 6.8402  LR: 8.8730e-04  \n",
      "Epoch: [11][39/40] Data 0.050 (0.043) Elapsed 0m 11s (remain 0m 0s) Loss: 0.7403(1.1786) Grad Norm: 10.7152  LR: 8.8730e-04  \n",
      "EVAL: [0/9] Data 0.023 (0.023) Elapsed 0m 0s (remain 0m 0s) \n"
     ]
    },
    {
     "name": "stderr",
     "output_type": "stream",
     "text": [
      "labels: [12 11  2  2 11]\n",
      "pred_labels: [ 2 11  2  3 11]\n",
      "Epoch 11 - avg_train_loss: 1.1786  lr: 8.8730e-04  time: 13s\n",
      "Epoch 11 - Score: 0.5954\n"
     ]
    },
    {
     "name": "stdout",
     "output_type": "stream",
     "text": [
      "EVAL: [8/9] Data 0.005 (0.022) Elapsed 0m 0s (remain 0m 0s) \n",
      "Epoch: [12][0/40] Data 0.042 (0.042) Elapsed 0m 0s (remain 0m 11s) Loss: 0.0784(0.0784) Grad Norm: 3.2192  LR: 8.6655e-04  \n",
      "Epoch: [12][39/40] Data 0.043 (0.043) Elapsed 0m 11s (remain 0m 0s) Loss: 1.7234(1.1550) Grad Norm: 23.3089  LR: 8.6655e-04  \n",
      "EVAL: [0/9] Data 0.024 (0.024) Elapsed 0m 0s (remain 0m 0s) \n"
     ]
    },
    {
     "name": "stderr",
     "output_type": "stream",
     "text": [
      "labels: [12 11  2  2 11]\n",
      "pred_labels: [ 0 11  2  3 11]\n",
      "Epoch 12 - avg_train_loss: 1.1550  lr: 8.6655e-04  time: 13s\n",
      "Epoch 12 - Score: 0.6260\n",
      "Epoch 12 - Save Best Score: 0.6260 Model\n"
     ]
    },
    {
     "name": "stdout",
     "output_type": "stream",
     "text": [
      "EVAL: [8/9] Data 0.004 (0.022) Elapsed 0m 0s (remain 0m 0s) \n",
      "Epoch: [13][0/40] Data 0.039 (0.039) Elapsed 0m 0s (remain 0m 12s) Loss: 0.2382(0.2382) Grad Norm: 6.3394  LR: 8.4436e-04  \n",
      "Epoch: [13][39/40] Data 0.040 (0.043) Elapsed 0m 11s (remain 0m 0s) Loss: 1.6194(0.9423) Grad Norm: 8.4078  LR: 8.4436e-04  \n",
      "EVAL: [0/9] Data 0.025 (0.025) Elapsed 0m 0s (remain 0m 0s) \n"
     ]
    },
    {
     "name": "stderr",
     "output_type": "stream",
     "text": [
      "labels: [12 11  2  2 11]\n",
      "pred_labels: [ 4 11  9  3 11]\n",
      "Epoch 13 - avg_train_loss: 0.9423  lr: 8.4436e-04  time: 13s\n",
      "Epoch 13 - Score: 0.5649\n"
     ]
    },
    {
     "name": "stdout",
     "output_type": "stream",
     "text": [
      "EVAL: [8/9] Data 0.005 (0.022) Elapsed 0m 0s (remain 0m 0s) \n",
      "Epoch: [14][0/40] Data 0.046 (0.046) Elapsed 0m 0s (remain 0m 11s) Loss: 1.1988(1.1988) Grad Norm: 7.2768  LR: 8.2081e-04  \n",
      "Epoch: [14][39/40] Data 0.046 (0.044) Elapsed 0m 11s (remain 0m 0s) Loss: 1.1283(0.9423) Grad Norm: 6.8535  LR: 8.2081e-04  \n",
      "EVAL: [0/9] Data 0.026 (0.026) Elapsed 0m 0s (remain 0m 0s) \n"
     ]
    },
    {
     "name": "stderr",
     "output_type": "stream",
     "text": [
      "labels: [12 11  2  2 11]\n",
      "pred_labels: [ 0 11  0  3 11]\n",
      "Epoch 14 - avg_train_loss: 0.9423  lr: 8.2081e-04  time: 13s\n",
      "Epoch 14 - Score: 0.5802\n"
     ]
    },
    {
     "name": "stdout",
     "output_type": "stream",
     "text": [
      "EVAL: [8/9] Data 0.005 (0.022) Elapsed 0m 0s (remain 0m 0s) \n",
      "Epoch: [15][0/40] Data 0.042 (0.042) Elapsed 0m 0s (remain 0m 11s) Loss: 1.4934(1.4934) Grad Norm: 12.0870  LR: 7.9601e-04  \n",
      "Epoch: [15][39/40] Data 0.040 (0.044) Elapsed 0m 11s (remain 0m 0s) Loss: 1.6838(0.9843) Grad Norm: 9.5320  LR: 7.9601e-04  \n",
      "EVAL: [0/9] Data 0.024 (0.024) Elapsed 0m 0s (remain 0m 0s) \n"
     ]
    },
    {
     "name": "stderr",
     "output_type": "stream",
     "text": [
      "labels: [12 11  2  2 11]\n",
      "pred_labels: [11 11  2  3 11]\n",
      "Epoch 15 - avg_train_loss: 0.9843  lr: 7.9601e-04  time: 13s\n",
      "Epoch 15 - Score: 0.6183\n"
     ]
    },
    {
     "name": "stdout",
     "output_type": "stream",
     "text": [
      "EVAL: [8/9] Data 0.005 (0.022) Elapsed 0m 0s (remain 0m 0s) \n",
      "Epoch: [16][0/40] Data 0.043 (0.043) Elapsed 0m 0s (remain 0m 11s) Loss: 1.1323(1.1323) Grad Norm: 6.0244  LR: 7.7006e-04  \n",
      "Epoch: [16][39/40] Data 0.042 (0.043) Elapsed 0m 11s (remain 0m 0s) Loss: 1.4034(0.7774) Grad Norm: 9.4035  LR: 7.7006e-04  \n",
      "EVAL: [0/9] Data 0.023 (0.023) Elapsed 0m 0s (remain 0m 0s) \n"
     ]
    },
    {
     "name": "stderr",
     "output_type": "stream",
     "text": [
      "labels: [12 11  2  2 11]\n",
      "pred_labels: [11 11  0  0 11]\n",
      "Epoch 16 - avg_train_loss: 0.7774  lr: 7.7006e-04  time: 13s\n",
      "Epoch 16 - Score: 0.5649\n"
     ]
    },
    {
     "name": "stdout",
     "output_type": "stream",
     "text": [
      "EVAL: [8/9] Data 0.005 (0.022) Elapsed 0m 0s (remain 0m 0s) \n",
      "Epoch: [17][0/40] Data 0.044 (0.044) Elapsed 0m 0s (remain 0m 11s) Loss: 1.1831(1.1831) Grad Norm: 17.4839  LR: 7.4304e-04  \n",
      "Epoch: [17][39/40] Data 0.047 (0.043) Elapsed 0m 11s (remain 0m 0s) Loss: 0.3024(0.9612) Grad Norm: 7.2631  LR: 7.4304e-04  \n",
      "EVAL: [0/9] Data 0.024 (0.024) Elapsed 0m 0s (remain 0m 0s) \n"
     ]
    },
    {
     "name": "stderr",
     "output_type": "stream",
     "text": [
      "labels: [12 11  2  2 11]\n",
      "pred_labels: [ 9 11  0  4 11]\n",
      "Epoch 17 - avg_train_loss: 0.9612  lr: 7.4304e-04  time: 13s\n",
      "Epoch 17 - Score: 0.5496\n"
     ]
    },
    {
     "name": "stdout",
     "output_type": "stream",
     "text": [
      "EVAL: [8/9] Data 0.004 (0.021) Elapsed 0m 0s (remain 0m 0s) \n",
      "Epoch: [18][0/40] Data 0.043 (0.043) Elapsed 0m 0s (remain 0m 11s) Loss: 1.5323(1.5323) Grad Norm: 8.6437  LR: 7.1508e-04  \n",
      "Epoch: [18][39/40] Data 0.037 (0.043) Elapsed 0m 11s (remain 0m 0s) Loss: 0.2945(0.8492) Grad Norm: 8.5770  LR: 7.1508e-04  \n",
      "EVAL: [0/9] Data 0.023 (0.023) Elapsed 0m 0s (remain 0m 0s) \n"
     ]
    },
    {
     "name": "stderr",
     "output_type": "stream",
     "text": [
      "labels: [12 11  2  2 11]\n",
      "pred_labels: [ 9 11  0  4 11]\n",
      "Epoch 18 - avg_train_loss: 0.8492  lr: 7.1508e-04  time: 13s\n",
      "Epoch 18 - Score: 0.5878\n"
     ]
    },
    {
     "name": "stdout",
     "output_type": "stream",
     "text": [
      "EVAL: [8/9] Data 0.005 (0.021) Elapsed 0m 0s (remain 0m 0s) \n",
      "Epoch: [19][0/40] Data 0.042 (0.042) Elapsed 0m 0s (remain 0m 11s) Loss: 1.0773(1.0773) Grad Norm: 5.8480  LR: 6.8627e-04  \n",
      "Epoch: [19][39/40] Data 0.042 (0.043) Elapsed 0m 11s (remain 0m 0s) Loss: 0.3360(0.7045) Grad Norm: 15.0763  LR: 6.8627e-04  \n",
      "EVAL: [0/9] Data 0.024 (0.024) Elapsed 0m 0s (remain 0m 0s) \n"
     ]
    },
    {
     "name": "stderr",
     "output_type": "stream",
     "text": [
      "labels: [12 11  2  2 11]\n",
      "pred_labels: [ 4 11  0  4 11]\n",
      "Epoch 19 - avg_train_loss: 0.7045  lr: 6.8627e-04  time: 13s\n",
      "Epoch 19 - Score: 0.5725\n"
     ]
    },
    {
     "name": "stdout",
     "output_type": "stream",
     "text": [
      "EVAL: [8/9] Data 0.005 (0.022) Elapsed 0m 0s (remain 0m 0s) \n",
      "Epoch: [20][0/40] Data 0.042 (0.042) Elapsed 0m 0s (remain 0m 11s) Loss: 1.0538(1.0538) Grad Norm: 7.1570  LR: 6.5674e-04  \n",
      "Epoch: [20][39/40] Data 0.045 (0.043) Elapsed 0m 11s (remain 0m 0s) Loss: 0.0923(0.8114) Grad Norm: 2.5205  LR: 6.5674e-04  \n",
      "EVAL: [0/9] Data 0.024 (0.024) Elapsed 0m 0s (remain 0m 0s) \n"
     ]
    },
    {
     "name": "stderr",
     "output_type": "stream",
     "text": [
      "labels: [12 11  2  2 11]\n",
      "pred_labels: [11 11  2  0 11]\n",
      "Epoch 20 - avg_train_loss: 0.8114  lr: 6.5674e-04  time: 13s\n",
      "Epoch 20 - Score: 0.5725\n"
     ]
    },
    {
     "name": "stdout",
     "output_type": "stream",
     "text": [
      "EVAL: [8/9] Data 0.005 (0.022) Elapsed 0m 0s (remain 0m 0s) \n",
      "Epoch: [21][0/40] Data 0.043 (0.043) Elapsed 0m 0s (remain 0m 11s) Loss: 1.0784(1.0784) Grad Norm: 5.8491  LR: 6.2661e-04  \n",
      "Epoch: [21][39/40] Data 0.040 (0.042) Elapsed 0m 11s (remain 0m 0s) Loss: 0.0387(0.6973) Grad Norm: 2.8101  LR: 6.2661e-04  \n",
      "EVAL: [0/9] Data 0.024 (0.024) Elapsed 0m 0s (remain 0m 0s) \n"
     ]
    },
    {
     "name": "stderr",
     "output_type": "stream",
     "text": [
      "labels: [12 11  2  2 11]\n",
      "pred_labels: [11 11  2  8 11]\n",
      "Epoch 21 - avg_train_loss: 0.6973  lr: 6.2661e-04  time: 12s\n",
      "Epoch 21 - Score: 0.6260\n"
     ]
    },
    {
     "name": "stdout",
     "output_type": "stream",
     "text": [
      "EVAL: [8/9] Data 0.004 (0.021) Elapsed 0m 0s (remain 0m 0s) \n",
      "Epoch: [22][0/40] Data 0.038 (0.038) Elapsed 0m 0s (remain 0m 11s) Loss: 0.0883(0.0883) Grad Norm: 4.4235  LR: 5.9598e-04  \n",
      "Epoch: [22][39/40] Data 0.041 (0.043) Elapsed 0m 11s (remain 0m 0s) Loss: 0.0828(0.7700) Grad Norm: 5.6657  LR: 5.9598e-04  \n",
      "EVAL: [0/9] Data 0.023 (0.023) Elapsed 0m 0s (remain 0m 0s) \n"
     ]
    },
    {
     "name": "stderr",
     "output_type": "stream",
     "text": [
      "labels: [12 11  2  2 11]\n",
      "pred_labels: [12 11  2  4 11]\n",
      "Epoch 22 - avg_train_loss: 0.7700  lr: 5.9598e-04  time: 13s\n",
      "Epoch 22 - Score: 0.6412\n",
      "Epoch 22 - Save Best Score: 0.6412 Model\n"
     ]
    },
    {
     "name": "stdout",
     "output_type": "stream",
     "text": [
      "EVAL: [8/9] Data 0.005 (0.021) Elapsed 0m 0s (remain 0m 0s) \n",
      "Epoch: [23][0/40] Data 0.037 (0.037) Elapsed 0m 0s (remain 0m 11s) Loss: 1.0439(1.0439) Grad Norm: 5.4786  LR: 5.6498e-04  \n",
      "Epoch: [23][39/40] Data 0.059 (0.045) Elapsed 0m 11s (remain 0m 0s) Loss: 0.1690(0.6386) Grad Norm: 2.3556  LR: 5.6498e-04  \n",
      "EVAL: [0/9] Data 0.023 (0.023) Elapsed 0m 0s (remain 0m 0s) \n"
     ]
    },
    {
     "name": "stderr",
     "output_type": "stream",
     "text": [
      "labels: [12 11  2  2 11]\n",
      "pred_labels: [ 9 11  2  8 11]\n",
      "Epoch 23 - avg_train_loss: 0.6386  lr: 5.6498e-04  time: 13s\n",
      "Epoch 23 - Score: 0.5878\n"
     ]
    },
    {
     "name": "stdout",
     "output_type": "stream",
     "text": [
      "EVAL: [8/9] Data 0.005 (0.021) Elapsed 0m 0s (remain 0m 0s) \n",
      "Epoch: [24][0/40] Data 0.045 (0.045) Elapsed 0m 0s (remain 0m 11s) Loss: 0.8661(0.8661) Grad Norm: 6.8770  LR: 5.3373e-04  \n",
      "Epoch: [24][39/40] Data 0.053 (0.043) Elapsed 0m 11s (remain 0m 0s) Loss: 1.2853(0.5083) Grad Norm: 10.6888  LR: 5.3373e-04  \n",
      "EVAL: [0/9] Data 0.031 (0.031) Elapsed 0m 0s (remain 0m 0s) \n"
     ]
    },
    {
     "name": "stderr",
     "output_type": "stream",
     "text": [
      "labels: [12 11  2  2 11]\n",
      "pred_labels: [ 4 11  0  4 11]\n",
      "Epoch 24 - avg_train_loss: 0.5083  lr: 5.3373e-04  time: 13s\n",
      "Epoch 24 - Score: 0.5878\n"
     ]
    },
    {
     "name": "stdout",
     "output_type": "stream",
     "text": [
      "EVAL: [8/9] Data 0.005 (0.025) Elapsed 0m 0s (remain 0m 0s) \n",
      "Epoch: [25][0/40] Data 0.041 (0.041) Elapsed 0m 0s (remain 0m 11s) Loss: 0.0024(0.0024) Grad Norm: 0.0560  LR: 5.0236e-04  \n",
      "Epoch: [25][39/40] Data 0.047 (0.044) Elapsed 0m 11s (remain 0m 0s) Loss: 0.2716(0.7856) Grad Norm: 5.1473  LR: 5.0236e-04  \n",
      "EVAL: [0/9] Data 0.024 (0.024) Elapsed 0m 0s (remain 0m 0s) \n"
     ]
    },
    {
     "name": "stderr",
     "output_type": "stream",
     "text": [
      "labels: [12 11  2  2 11]\n",
      "pred_labels: [ 9 11  1  0 11]\n",
      "Epoch 25 - avg_train_loss: 0.7856  lr: 5.0236e-04  time: 13s\n",
      "Epoch 25 - Score: 0.6031\n"
     ]
    },
    {
     "name": "stdout",
     "output_type": "stream",
     "text": [
      "EVAL: [8/9] Data 0.005 (0.022) Elapsed 0m 0s (remain 0m 0s) \n",
      "Epoch: [26][0/40] Data 0.045 (0.045) Elapsed 0m 0s (remain 0m 11s) Loss: 0.8228(0.8228) Grad Norm: 5.4978  LR: 4.7099e-04  \n",
      "Epoch: [26][39/40] Data 0.041 (0.043) Elapsed 0m 11s (remain 0m 0s) Loss: 0.9567(0.8140) Grad Norm: 5.3247  LR: 4.7099e-04  \n",
      "EVAL: [0/9] Data 0.023 (0.023) Elapsed 0m 0s (remain 0m 0s) \n"
     ]
    },
    {
     "name": "stderr",
     "output_type": "stream",
     "text": [
      "labels: [12 11  2  2 11]\n",
      "pred_labels: [ 2 11  0  3 11]\n",
      "Epoch 26 - avg_train_loss: 0.8140  lr: 4.7099e-04  time: 12s\n",
      "Epoch 26 - Score: 0.5878\n"
     ]
    },
    {
     "name": "stdout",
     "output_type": "stream",
     "text": [
      "EVAL: [8/9] Data 0.005 (0.021) Elapsed 0m 0s (remain 0m 0s) \n",
      "Epoch: [27][0/40] Data 0.037 (0.037) Elapsed 0m 0s (remain 0m 11s) Loss: 0.8958(0.8958) Grad Norm: 8.1375  LR: 4.3974e-04  \n",
      "Epoch: [27][39/40] Data 0.041 (0.043) Elapsed 0m 11s (remain 0m 0s) Loss: 0.0388(0.6009) Grad Norm: 2.1137  LR: 4.3974e-04  \n",
      "EVAL: [0/9] Data 0.025 (0.025) Elapsed 0m 0s (remain 0m 0s) \n"
     ]
    },
    {
     "name": "stderr",
     "output_type": "stream",
     "text": [
      "labels: [12 11  2  2 11]\n",
      "pred_labels: [ 4 11  0  4 11]\n",
      "Epoch 27 - avg_train_loss: 0.6009  lr: 4.3974e-04  time: 13s\n",
      "Epoch 27 - Score: 0.6260\n"
     ]
    },
    {
     "name": "stdout",
     "output_type": "stream",
     "text": [
      "EVAL: [8/9] Data 0.005 (0.022) Elapsed 0m 0s (remain 0m 0s) \n",
      "Epoch: [28][0/40] Data 0.043 (0.043) Elapsed 0m 0s (remain 0m 11s) Loss: 0.0406(0.0406) Grad Norm: 4.9992  LR: 4.0874e-04  \n",
      "Epoch: [28][39/40] Data 0.038 (0.043) Elapsed 0m 11s (remain 0m 0s) Loss: 0.8157(0.5200) Grad Norm: 6.6013  LR: 4.0874e-04  \n",
      "EVAL: [0/9] Data 0.024 (0.024) Elapsed 0m 0s (remain 0m 0s) \n"
     ]
    },
    {
     "name": "stderr",
     "output_type": "stream",
     "text": [
      "labels: [12 11  2  2 11]\n",
      "pred_labels: [11 11  0  7 11]\n",
      "Epoch 28 - avg_train_loss: 0.5200  lr: 4.0874e-04  time: 12s\n",
      "Epoch 28 - Score: 0.5649\n"
     ]
    },
    {
     "name": "stdout",
     "output_type": "stream",
     "text": [
      "EVAL: [8/9] Data 0.005 (0.021) Elapsed 0m 0s (remain 0m 0s) \n",
      "Epoch: [29][0/40] Data 0.041 (0.041) Elapsed 0m 0s (remain 0m 11s) Loss: 0.0043(0.0043) Grad Norm: 0.1275  LR: 3.7811e-04  \n",
      "Epoch: [29][39/40] Data 0.040 (0.043) Elapsed 0m 11s (remain 0m 0s) Loss: 0.0568(0.4143) Grad Norm: 4.2182  LR: 3.7811e-04  \n",
      "EVAL: [0/9] Data 0.023 (0.023) Elapsed 0m 0s (remain 0m 0s) \n"
     ]
    },
    {
     "name": "stderr",
     "output_type": "stream",
     "text": [
      "labels: [12 11  2  2 11]\n",
      "pred_labels: [11 11  1  0 11]\n",
      "Epoch 29 - avg_train_loss: 0.4143  lr: 3.7811e-04  time: 13s\n",
      "Epoch 29 - Score: 0.5954\n"
     ]
    },
    {
     "name": "stdout",
     "output_type": "stream",
     "text": [
      "EVAL: [8/9] Data 0.005 (0.021) Elapsed 0m 0s (remain 0m 0s) \n",
      "Epoch: [30][0/40] Data 0.048 (0.048) Elapsed 0m 0s (remain 0m 11s) Loss: 0.0060(0.0060) Grad Norm: 0.1639  LR: 3.4797e-04  \n",
      "Epoch: [30][39/40] Data 0.043 (0.043) Elapsed 0m 11s (remain 0m 0s) Loss: 0.9517(0.6847) Grad Norm: 5.4980  LR: 3.4797e-04  \n",
      "EVAL: [0/9] Data 0.023 (0.023) Elapsed 0m 0s (remain 0m 0s) \n"
     ]
    },
    {
     "name": "stderr",
     "output_type": "stream",
     "text": [
      "labels: [12 11  2  2 11]\n",
      "pred_labels: [11 11  0  8 11]\n",
      "Epoch 30 - avg_train_loss: 0.6847  lr: 3.4797e-04  time: 13s\n",
      "Epoch 30 - Score: 0.6031\n"
     ]
    },
    {
     "name": "stdout",
     "output_type": "stream",
     "text": [
      "EVAL: [8/9] Data 0.004 (0.021) Elapsed 0m 0s (remain 0m 0s) \n",
      "Epoch: [31][0/40] Data 0.046 (0.046) Elapsed 0m 0s (remain 0m 11s) Loss: 0.0366(0.0366) Grad Norm: 24.7786  LR: 3.1843e-04  \n",
      "Epoch: [31][39/40] Data 0.049 (0.044) Elapsed 0m 11s (remain 0m 0s) Loss: 0.0034(0.4236) Grad Norm: 0.1485  LR: 3.1843e-04  \n",
      "EVAL: [0/9] Data 0.026 (0.026) Elapsed 0m 0s (remain 0m 0s) \n"
     ]
    },
    {
     "name": "stderr",
     "output_type": "stream",
     "text": [
      "labels: [12 11  2  2 11]\n",
      "pred_labels: [11 11  0  8 11]\n",
      "Epoch 31 - avg_train_loss: 0.4236  lr: 3.1843e-04  time: 13s\n",
      "Epoch 31 - Score: 0.6336\n"
     ]
    },
    {
     "name": "stdout",
     "output_type": "stream",
     "text": [
      "EVAL: [8/9] Data 0.004 (0.023) Elapsed 0m 0s (remain 0m 0s) \n",
      "Epoch: [32][0/40] Data 0.038 (0.038) Elapsed 0m 0s (remain 0m 11s) Loss: 0.6027(0.6027) Grad Norm: 4.3695  LR: 2.8962e-04  \n",
      "Epoch: [32][39/40] Data 0.048 (0.044) Elapsed 0m 11s (remain 0m 0s) Loss: 0.0059(0.4924) Grad Norm: 0.2243  LR: 2.8962e-04  \n",
      "EVAL: [0/9] Data 0.026 (0.026) Elapsed 0m 0s (remain 0m 0s) \n"
     ]
    },
    {
     "name": "stderr",
     "output_type": "stream",
     "text": [
      "labels: [12 11  2  2 11]\n",
      "pred_labels: [11 11  0  4 11]\n",
      "Epoch 32 - avg_train_loss: 0.4924  lr: 2.8962e-04  time: 13s\n",
      "Epoch 32 - Score: 0.6336\n"
     ]
    },
    {
     "name": "stdout",
     "output_type": "stream",
     "text": [
      "EVAL: [8/9] Data 0.004 (0.022) Elapsed 0m 0s (remain 0m 0s) \n",
      "Epoch: [33][0/40] Data 0.042 (0.042) Elapsed 0m 0s (remain 0m 11s) Loss: 0.0014(0.0014) Grad Norm: 0.0422  LR: 2.6165e-04  \n",
      "Epoch: [33][39/40] Data 0.049 (0.042) Elapsed 0m 11s (remain 0m 0s) Loss: 1.2782(0.6515) Grad Norm: 8.5746  LR: 2.6165e-04  \n",
      "EVAL: [0/9] Data 0.023 (0.023) Elapsed 0m 0s (remain 0m 0s) \n"
     ]
    },
    {
     "name": "stderr",
     "output_type": "stream",
     "text": [
      "labels: [12 11  2  2 11]\n",
      "pred_labels: [ 2 11  0  4 11]\n",
      "Epoch 33 - avg_train_loss: 0.6515  lr: 2.6165e-04  time: 12s\n",
      "Epoch 33 - Score: 0.6107\n"
     ]
    },
    {
     "name": "stdout",
     "output_type": "stream",
     "text": [
      "EVAL: [8/9] Data 0.005 (0.021) Elapsed 0m 0s (remain 0m 0s) \n",
      "Epoch: [34][0/40] Data 0.048 (0.048) Elapsed 0m 0s (remain 0m 11s) Loss: 1.0475(1.0475) Grad Norm: 9.9273  LR: 2.3463e-04  \n",
      "Epoch: [34][39/40] Data 0.041 (0.044) Elapsed 0m 11s (remain 0m 0s) Loss: 0.2768(0.4985) Grad Norm: 5.0089  LR: 2.3463e-04  \n",
      "EVAL: [0/9] Data 0.026 (0.026) Elapsed 0m 0s (remain 0m 0s) \n"
     ]
    },
    {
     "name": "stderr",
     "output_type": "stream",
     "text": [
      "labels: [12 11  2  2 11]\n",
      "pred_labels: [11 11  0  7 11]\n",
      "Epoch 34 - avg_train_loss: 0.4985  lr: 2.3463e-04  time: 13s\n",
      "Epoch 34 - Score: 0.6031\n"
     ]
    },
    {
     "name": "stdout",
     "output_type": "stream",
     "text": [
      "EVAL: [8/9] Data 0.005 (0.022) Elapsed 0m 0s (remain 0m 0s) \n",
      "Epoch: [35][0/40] Data 0.040 (0.040) Elapsed 0m 0s (remain 0m 11s) Loss: 0.0088(0.0088) Grad Norm: 0.4625  LR: 2.0866e-04  \n",
      "Epoch: [35][39/40] Data 0.046 (0.044) Elapsed 0m 11s (remain 0m 0s) Loss: 0.0014(0.3657) Grad Norm: 0.0756  LR: 2.0866e-04  \n",
      "EVAL: [0/9] Data 0.024 (0.024) Elapsed 0m 0s (remain 0m 0s) \n"
     ]
    },
    {
     "name": "stderr",
     "output_type": "stream",
     "text": [
      "labels: [12 11  2  2 11]\n",
      "pred_labels: [ 4 11  0  4 11]\n",
      "Epoch 35 - avg_train_loss: 0.3657  lr: 2.0866e-04  time: 13s\n",
      "Epoch 35 - Score: 0.6183\n"
     ]
    },
    {
     "name": "stdout",
     "output_type": "stream",
     "text": [
      "EVAL: [8/9] Data 0.005 (0.022) Elapsed 0m 0s (remain 0m 0s) \n",
      "Epoch: [36][0/40] Data 0.040 (0.040) Elapsed 0m 0s (remain 0m 11s) Loss: 0.0163(0.0163) Grad Norm: 0.9866  LR: 1.8385e-04  \n",
      "Epoch: [36][39/40] Data 0.040 (0.043) Elapsed 0m 11s (remain 0m 0s) Loss: 0.6229(0.5174) Grad Norm: 3.0554  LR: 1.8385e-04  \n",
      "EVAL: [0/9] Data 0.024 (0.024) Elapsed 0m 0s (remain 0m 0s) \n"
     ]
    },
    {
     "name": "stderr",
     "output_type": "stream",
     "text": [
      "labels: [12 11  2  2 11]\n",
      "pred_labels: [11 11  0  8 11]\n",
      "Epoch 36 - avg_train_loss: 0.5174  lr: 1.8385e-04  time: 13s\n",
      "Epoch 36 - Score: 0.5954\n"
     ]
    },
    {
     "name": "stdout",
     "output_type": "stream",
     "text": [
      "EVAL: [8/9] Data 0.004 (0.021) Elapsed 0m 0s (remain 0m 0s) \n",
      "Epoch: [37][0/40] Data 0.040 (0.040) Elapsed 0m 0s (remain 0m 11s) Loss: 0.8350(0.8350) Grad Norm: 3.7138  LR: 1.6030e-04  \n",
      "Epoch: [37][39/40] Data 0.051 (0.044) Elapsed 0m 11s (remain 0m 0s) Loss: 0.9715(0.3271) Grad Norm: 4.8837  LR: 1.6030e-04  \n",
      "EVAL: [0/9] Data 0.024 (0.024) Elapsed 0m 0s (remain 0m 0s) \n"
     ]
    },
    {
     "name": "stderr",
     "output_type": "stream",
     "text": [
      "labels: [12 11  2  2 11]\n",
      "pred_labels: [11 11  0  3 11]\n",
      "Epoch 37 - avg_train_loss: 0.3271  lr: 1.6030e-04  time: 13s\n",
      "Epoch 37 - Score: 0.6412\n"
     ]
    },
    {
     "name": "stdout",
     "output_type": "stream",
     "text": [
      "EVAL: [8/9] Data 0.005 (0.022) Elapsed 0m 0s (remain 0m 0s) \n",
      "Epoch: [38][0/40] Data 0.050 (0.050) Elapsed 0m 0s (remain 0m 11s) Loss: 0.0014(0.0014) Grad Norm: 0.0838  LR: 1.3809e-04  \n",
      "Epoch: [38][39/40] Data 0.046 (0.043) Elapsed 0m 11s (remain 0m 0s) Loss: 1.2155(0.4763) Grad Norm: 7.3580  LR: 1.3809e-04  \n",
      "EVAL: [0/9] Data 0.024 (0.024) Elapsed 0m 0s (remain 0m 0s) \n"
     ]
    },
    {
     "name": "stderr",
     "output_type": "stream",
     "text": [
      "labels: [12 11  2  2 11]\n",
      "pred_labels: [11 11  0  4 11]\n",
      "Epoch 38 - avg_train_loss: 0.4763  lr: 1.3809e-04  time: 13s\n",
      "Epoch 38 - Score: 0.6412\n"
     ]
    },
    {
     "name": "stdout",
     "output_type": "stream",
     "text": [
      "EVAL: [8/9] Data 0.005 (0.022) Elapsed 0m 0s (remain 0m 0s) \n",
      "Epoch: [39][0/40] Data 0.051 (0.051) Elapsed 0m 0s (remain 0m 11s) Loss: 0.0034(0.0034) Grad Norm: 0.1632  LR: 1.1732e-04  \n",
      "Epoch: [39][39/40] Data 0.039 (0.044) Elapsed 0m 11s (remain 0m 0s) Loss: 0.0015(0.3753) Grad Norm: 0.0539  LR: 1.1732e-04  \n",
      "EVAL: [0/9] Data 0.024 (0.024) Elapsed 0m 0s (remain 0m 0s) \n"
     ]
    },
    {
     "name": "stderr",
     "output_type": "stream",
     "text": [
      "labels: [12 11  2  2 11]\n",
      "pred_labels: [ 9 11  0  3 11]\n",
      "Epoch 39 - avg_train_loss: 0.3753  lr: 1.1732e-04  time: 12s\n",
      "Epoch 39 - Score: 0.6107\n"
     ]
    },
    {
     "name": "stdout",
     "output_type": "stream",
     "text": [
      "EVAL: [8/9] Data 0.005 (0.022) Elapsed 0m 0s (remain 0m 0s) \n",
      "Epoch: [40][0/40] Data 0.043 (0.043) Elapsed 0m 0s (remain 0m 11s) Loss: 0.6588(0.6588) Grad Norm: 2.7767  LR: 9.8058e-05  \n",
      "Epoch: [40][39/40] Data 0.043 (0.042) Elapsed 0m 11s (remain 0m 0s) Loss: 0.7183(0.5249) Grad Norm: 3.8401  LR: 9.8058e-05  \n",
      "EVAL: [0/9] Data 0.023 (0.023) Elapsed 0m 0s (remain 0m 0s) \n"
     ]
    },
    {
     "name": "stderr",
     "output_type": "stream",
     "text": [
      "labels: [12 11  2  2 11]\n",
      "pred_labels: [11 11  0  8 11]\n",
      "Epoch 40 - avg_train_loss: 0.5249  lr: 9.8058e-05  time: 12s\n",
      "Epoch 40 - Score: 0.6107\n"
     ]
    },
    {
     "name": "stdout",
     "output_type": "stream",
     "text": [
      "EVAL: [8/9] Data 0.005 (0.022) Elapsed 0m 0s (remain 0m 0s) \n",
      "Epoch: [41][0/40] Data 0.047 (0.047) Elapsed 0m 0s (remain 0m 11s) Loss: 0.0014(0.0014) Grad Norm: 0.0567  LR: 8.0390e-05  \n",
      "Epoch: [41][39/40] Data 0.049 (0.046) Elapsed 0m 12s (remain 0m 0s) Loss: 0.0022(0.4950) Grad Norm: 0.1218  LR: 8.0390e-05  \n",
      "EVAL: [0/9] Data 0.024 (0.024) Elapsed 0m 0s (remain 0m 0s) \n"
     ]
    },
    {
     "name": "stderr",
     "output_type": "stream",
     "text": [
      "labels: [12 11  2  2 11]\n",
      "pred_labels: [ 9 11  0  3 11]\n",
      "Epoch 41 - avg_train_loss: 0.4950  lr: 8.0390e-05  time: 13s\n",
      "Epoch 41 - Score: 0.6107\n"
     ]
    },
    {
     "name": "stdout",
     "output_type": "stream",
     "text": [
      "EVAL: [8/9] Data 0.005 (0.022) Elapsed 0m 0s (remain 0m 0s) \n",
      "Epoch: [42][0/40] Data 0.043 (0.043) Elapsed 0m 0s (remain 0m 11s) Loss: 0.8063(0.8063) Grad Norm: 4.6635  LR: 6.4381e-05  \n",
      "Epoch: [42][39/40] Data 0.046 (0.045) Elapsed 0m 11s (remain 0m 0s) Loss: 0.9869(0.4896) Grad Norm: 8.6664  LR: 6.4381e-05  \n",
      "EVAL: [0/9] Data 0.025 (0.025) Elapsed 0m 0s (remain 0m 0s) \n"
     ]
    },
    {
     "name": "stderr",
     "output_type": "stream",
     "text": [
      "labels: [12 11  2  2 11]\n",
      "pred_labels: [ 9 11  0  3 11]\n",
      "Epoch 42 - avg_train_loss: 0.4896  lr: 6.4381e-05  time: 13s\n",
      "Epoch 42 - Score: 0.6107\n"
     ]
    },
    {
     "name": "stdout",
     "output_type": "stream",
     "text": [
      "EVAL: [8/9] Data 0.005 (0.022) Elapsed 0m 0s (remain 0m 0s) \n",
      "Epoch: [43][0/40] Data 0.049 (0.049) Elapsed 0m 0s (remain 0m 11s) Loss: 0.9063(0.9063) Grad Norm: 4.9251  LR: 5.0093e-05  \n",
      "Epoch: [43][39/40] Data 0.042 (0.045) Elapsed 0m 12s (remain 0m 0s) Loss: 0.0016(0.4031) Grad Norm: 0.0554  LR: 5.0093e-05  \n",
      "EVAL: [0/9] Data 0.025 (0.025) Elapsed 0m 0s (remain 0m 0s) \n"
     ]
    },
    {
     "name": "stderr",
     "output_type": "stream",
     "text": [
      "labels: [12 11  2  2 11]\n",
      "pred_labels: [ 9 11  0  3 11]\n",
      "Epoch 43 - avg_train_loss: 0.4031  lr: 5.0093e-05  time: 13s\n",
      "Epoch 43 - Score: 0.6183\n"
     ]
    },
    {
     "name": "stdout",
     "output_type": "stream",
     "text": [
      "EVAL: [8/9] Data 0.005 (0.022) Elapsed 0m 0s (remain 0m 0s) \n",
      "Epoch: [44][0/40] Data 0.045 (0.045) Elapsed 0m 0s (remain 0m 11s) Loss: 0.6742(0.6742) Grad Norm: 2.3473  LR: 3.7578e-05  \n",
      "Epoch: [44][39/40] Data 0.040 (0.044) Elapsed 0m 11s (remain 0m 0s) Loss: 0.0009(0.3734) Grad Norm: 0.0548  LR: 3.7578e-05  \n",
      "EVAL: [0/9] Data 0.023 (0.023) Elapsed 0m 0s (remain 0m 0s) \n"
     ]
    },
    {
     "name": "stderr",
     "output_type": "stream",
     "text": [
      "labels: [12 11  2  2 11]\n",
      "pred_labels: [11 11  0  3 11]\n",
      "Epoch 44 - avg_train_loss: 0.3734  lr: 3.7578e-05  time: 12s\n",
      "Epoch 44 - Score: 0.6260\n"
     ]
    },
    {
     "name": "stdout",
     "output_type": "stream",
     "text": [
      "EVAL: [8/9] Data 0.004 (0.021) Elapsed 0m 0s (remain 0m 0s) \n",
      "Epoch: [45][0/40] Data 0.039 (0.039) Elapsed 0m 0s (remain 0m 11s) Loss: 0.6246(0.6246) Grad Norm: 5.4536  LR: 2.6881e-05  \n",
      "Epoch: [45][39/40] Data 0.036 (0.043) Elapsed 0m 11s (remain 0m 0s) Loss: 0.7180(0.5108) Grad Norm: 4.1707  LR: 2.6881e-05  \n",
      "EVAL: [0/9] Data 0.023 (0.023) Elapsed 0m 0s (remain 0m 0s) \n"
     ]
    },
    {
     "name": "stderr",
     "output_type": "stream",
     "text": [
      "labels: [12 11  2  2 11]\n",
      "pred_labels: [ 9 11  0  3 11]\n",
      "Epoch 45 - avg_train_loss: 0.5108  lr: 2.6881e-05  time: 13s\n",
      "Epoch 45 - Score: 0.6107\n"
     ]
    },
    {
     "name": "stdout",
     "output_type": "stream",
     "text": [
      "EVAL: [8/9] Data 0.005 (0.022) Elapsed 0m 0s (remain 0m 0s) \n",
      "Epoch: [46][0/40] Data 0.043 (0.043) Elapsed 0m 0s (remain 0m 11s) Loss: 0.0009(0.0009) Grad Norm: 0.0456  LR: 1.8039e-05  \n",
      "Epoch: [46][39/40] Data 0.044 (0.044) Elapsed 0m 11s (remain 0m 0s) Loss: 0.0013(0.0078) Grad Norm: 0.0394  LR: 1.8039e-05  \n",
      "EVAL: [0/9] Data 0.025 (0.025) Elapsed 0m 0s (remain 0m 0s) \n"
     ]
    },
    {
     "name": "stderr",
     "output_type": "stream",
     "text": [
      "labels: [12 11  2  2 11]\n",
      "pred_labels: [ 9 11  0  3 11]\n",
      "Epoch 46 - avg_train_loss: 0.0078  lr: 1.8039e-05  time: 12s\n",
      "Epoch 46 - Score: 0.6107\n"
     ]
    },
    {
     "name": "stdout",
     "output_type": "stream",
     "text": [
      "EVAL: [8/9] Data 0.005 (0.022) Elapsed 0m 0s (remain 0m 0s) \n",
      "Epoch: [47][0/40] Data 0.046 (0.046) Elapsed 0m 0s (remain 0m 11s) Loss: 0.0012(0.0012) Grad Norm: 0.0368  LR: 1.1073e-05  \n",
      "Epoch: [47][39/40] Data 0.040 (0.045) Elapsed 0m 12s (remain 0m 0s) Loss: 0.0009(0.0062) Grad Norm: 0.0419  LR: 1.1073e-05  \n",
      "EVAL: [0/9] Data 0.024 (0.024) Elapsed 0m 0s (remain 0m 0s) \n"
     ]
    },
    {
     "name": "stderr",
     "output_type": "stream",
     "text": [
      "labels: [12 11  2  2 11]\n",
      "pred_labels: [ 9 11  0  3 11]\n",
      "Epoch 47 - avg_train_loss: 0.0062  lr: 1.1073e-05  time: 13s\n",
      "Epoch 47 - Score: 0.6107\n"
     ]
    },
    {
     "name": "stdout",
     "output_type": "stream",
     "text": [
      "EVAL: [8/9] Data 0.005 (0.022) Elapsed 0m 0s (remain 0m 0s) \n",
      "Epoch: [48][0/40] Data 0.041 (0.041) Elapsed 0m 0s (remain 0m 11s) Loss: 0.0031(0.0031) Grad Norm: 0.2185  LR: 5.9882e-06  \n",
      "Epoch: [48][39/40] Data 0.035 (0.043) Elapsed 0m 11s (remain 0m 0s) Loss: 0.0007(0.0068) Grad Norm: 0.0203  LR: 5.9882e-06  \n",
      "EVAL: [0/9] Data 0.023 (0.023) Elapsed 0m 0s (remain 0m 0s) \n"
     ]
    },
    {
     "name": "stderr",
     "output_type": "stream",
     "text": [
      "labels: [12 11  2  2 11]\n",
      "pred_labels: [ 9 11  0  4 11]\n",
      "Epoch 48 - avg_train_loss: 0.0068  lr: 5.9882e-06  time: 12s\n",
      "Epoch 48 - Score: 0.6107\n"
     ]
    },
    {
     "name": "stdout",
     "output_type": "stream",
     "text": [
      "EVAL: [8/9] Data 0.004 (0.021) Elapsed 0m 0s (remain 0m 0s) \n",
      "Epoch: [49][0/40] Data 0.046 (0.046) Elapsed 0m 0s (remain 0m 11s) Loss: 0.0339(0.0339) Grad Norm: 3.0777  LR: 2.7534e-06  \n",
      "Epoch: [49][39/40] Data 0.038 (0.044) Elapsed 0m 11s (remain 0m 0s) Loss: 0.0008(0.0084) Grad Norm: 0.0528  LR: 2.7534e-06  \n",
      "EVAL: [0/9] Data 0.024 (0.024) Elapsed 0m 0s (remain 0m 0s) \n"
     ]
    },
    {
     "name": "stderr",
     "output_type": "stream",
     "text": [
      "labels: [12 11  2  2 11]\n",
      "pred_labels: [ 9 11  0  4 11]\n",
      "Epoch 49 - avg_train_loss: 0.0084  lr: 2.7534e-06  time: 12s\n",
      "Epoch 49 - Score: 0.6107\n"
     ]
    },
    {
     "name": "stdout",
     "output_type": "stream",
     "text": [
      "EVAL: [8/9] Data 0.005 (0.022) Elapsed 0m 0s (remain 0m 0s) \n",
      "Epoch: [50][0/40] Data 0.047 (0.047) Elapsed 0m 0s (remain 0m 11s) Loss: 0.0117(0.0117) Grad Norm: 1.0650  LR: 1.2467e-06  \n",
      "Epoch: [50][39/40] Data 0.046 (0.044) Elapsed 0m 11s (remain 0m 0s) Loss: 0.0021(0.0077) Grad Norm: 0.0760  LR: 1.2467e-06  \n",
      "EVAL: [0/9] Data 0.024 (0.024) Elapsed 0m 0s (remain 0m 0s) \n"
     ]
    },
    {
     "name": "stderr",
     "output_type": "stream",
     "text": [
      "labels: [12 11  2  2 11]\n",
      "pred_labels: [ 9 11  0  4 11]\n",
      "Epoch 50 - avg_train_loss: 0.0077  lr: 1.2467e-06  time: 12s\n",
      "Epoch 50 - Score: 0.6107\n",
      "==================== fold: 2, seed: 1 training ====================\n"
     ]
    },
    {
     "name": "stdout",
     "output_type": "stream",
     "text": [
      "EVAL: [8/9] Data 0.005 (0.022) Elapsed 0m 0s (remain 0m 0s) \n",
      "Epoch: [1][0/40] Data 0.041 (0.041) Elapsed 0m 0s (remain 0m 11s) Loss: 2.6819(2.6819) Grad Norm: 11.5381  LR: 1.0000e-03  \n",
      "Epoch: [1][39/40] Data 0.044 (0.042) Elapsed 0m 11s (remain 0m 0s) Loss: 2.6966(2.5307) Grad Norm: 8.4491  LR: 1.0000e-03  \n",
      "EVAL: [0/9] Data 0.023 (0.023) Elapsed 0m 0s (remain 0m 0s) \n"
     ]
    },
    {
     "name": "stderr",
     "output_type": "stream",
     "text": [
      "labels: [8 7 4 6 2]\n",
      "pred_labels: [6 2 2 2 2]\n",
      "Epoch 1 - avg_train_loss: 2.5307  lr: 1.0000e-03  time: 12s\n",
      "Epoch 1 - Score: 0.2595\n",
      "Epoch 1 - Save Best Score: 0.2595 Model\n"
     ]
    },
    {
     "name": "stdout",
     "output_type": "stream",
     "text": [
      "EVAL: [8/9] Data 0.005 (0.022) Elapsed 0m 0s (remain 0m 0s) \n",
      "Epoch: [2][0/40] Data 0.040 (0.040) Elapsed 0m 0s (remain 0m 11s) Loss: 2.5035(2.5035) Grad Norm: 8.9750  LR: 9.9803e-04  \n",
      "Epoch: [2][39/40] Data 0.043 (0.043) Elapsed 0m 11s (remain 0m 0s) Loss: 1.8521(2.2552) Grad Norm: 15.7320  LR: 9.9803e-04  \n",
      "EVAL: [0/9] Data 0.026 (0.026) Elapsed 0m 0s (remain 0m 0s) \n"
     ]
    },
    {
     "name": "stderr",
     "output_type": "stream",
     "text": [
      "labels: [8 7 4 6 2]\n",
      "pred_labels: [8 7 9 7 6]\n",
      "Epoch 2 - avg_train_loss: 2.2552  lr: 9.9803e-04  time: 13s\n",
      "Epoch 2 - Score: 0.4504\n",
      "Epoch 2 - Save Best Score: 0.4504 Model\n"
     ]
    },
    {
     "name": "stdout",
     "output_type": "stream",
     "text": [
      "EVAL: [8/9] Data 0.004 (0.022) Elapsed 0m 0s (remain 0m 0s) \n",
      "Epoch: [3][0/40] Data 0.040 (0.040) Elapsed 0m 0s (remain 0m 12s) Loss: 2.0763(2.0763) Grad Norm: 12.0852  LR: 9.9312e-04  \n",
      "Epoch: [3][39/40] Data 0.038 (0.043) Elapsed 0m 11s (remain 0m 0s) Loss: 1.4532(1.9806) Grad Norm: 8.2593  LR: 9.9312e-04  \n",
      "EVAL: [0/9] Data 0.024 (0.024) Elapsed 0m 0s (remain 0m 0s) \n"
     ]
    },
    {
     "name": "stderr",
     "output_type": "stream",
     "text": [
      "labels: [8 7 4 6 2]\n",
      "pred_labels: [8 7 0 7 6]\n",
      "Epoch 3 - avg_train_loss: 1.9806  lr: 9.9312e-04  time: 13s\n",
      "Epoch 3 - Score: 0.4504\n"
     ]
    },
    {
     "name": "stdout",
     "output_type": "stream",
     "text": [
      "EVAL: [8/9] Data 0.005 (0.022) Elapsed 0m 0s (remain 0m 0s) \n",
      "Epoch: [4][0/40] Data 0.043 (0.043) Elapsed 0m 0s (remain 0m 11s) Loss: 2.0557(2.0557) Grad Norm: 13.9619  LR: 9.8627e-04  \n",
      "Epoch: [4][39/40] Data 0.044 (0.043) Elapsed 0m 11s (remain 0m 0s) Loss: 2.2277(1.7705) Grad Norm: 9.8032  LR: 9.8627e-04  \n",
      "EVAL: [0/9] Data 0.024 (0.024) Elapsed 0m 0s (remain 0m 0s) \n"
     ]
    },
    {
     "name": "stderr",
     "output_type": "stream",
     "text": [
      "labels: [8 7 4 6 2]\n",
      "pred_labels: [8 4 1 9 0]\n",
      "Epoch 4 - avg_train_loss: 1.7705  lr: 9.8627e-04  time: 13s\n",
      "Epoch 4 - Score: 0.5038\n",
      "Epoch 4 - Save Best Score: 0.5038 Model\n"
     ]
    },
    {
     "name": "stdout",
     "output_type": "stream",
     "text": [
      "EVAL: [8/9] Data 0.005 (0.022) Elapsed 0m 0s (remain 0m 0s) \n",
      "Epoch: [5][0/40] Data 0.047 (0.047) Elapsed 0m 0s (remain 0m 12s) Loss: 1.9703(1.9703) Grad Norm: 6.7646  LR: 9.7751e-04  \n",
      "Epoch: [5][39/40] Data 0.049 (0.043) Elapsed 0m 11s (remain 0m 0s) Loss: 1.4675(1.6329) Grad Norm: 12.1159  LR: 9.7751e-04  \n",
      "EVAL: [0/9] Data 0.024 (0.024) Elapsed 0m 0s (remain 0m 0s) \n"
     ]
    },
    {
     "name": "stderr",
     "output_type": "stream",
     "text": [
      "labels: [8 7 4 6 2]\n",
      "pred_labels: [8 7 1 6 6]\n",
      "Epoch 5 - avg_train_loss: 1.6329  lr: 9.7751e-04  time: 13s\n",
      "Epoch 5 - Score: 0.4962\n"
     ]
    },
    {
     "name": "stdout",
     "output_type": "stream",
     "text": [
      "EVAL: [8/9] Data 0.004 (0.022) Elapsed 0m 0s (remain 0m 0s) \n",
      "Epoch: [6][0/40] Data 0.041 (0.041) Elapsed 0m 0s (remain 0m 11s) Loss: 1.9472(1.9472) Grad Norm: 12.5507  LR: 9.6688e-04  \n",
      "Epoch: [6][39/40] Data 0.042 (0.042) Elapsed 0m 11s (remain 0m 0s) Loss: 1.1552(1.5015) Grad Norm: 9.5778  LR: 9.6688e-04  \n",
      "EVAL: [0/9] Data 0.024 (0.024) Elapsed 0m 0s (remain 0m 0s) \n"
     ]
    },
    {
     "name": "stderr",
     "output_type": "stream",
     "text": [
      "labels: [8 7 4 6 2]\n",
      "pred_labels: [8 7 1 3 9]\n",
      "Epoch 6 - avg_train_loss: 1.5015  lr: 9.6688e-04  time: 13s\n",
      "Epoch 6 - Score: 0.6107\n",
      "Epoch 6 - Save Best Score: 0.6107 Model\n"
     ]
    },
    {
     "name": "stdout",
     "output_type": "stream",
     "text": [
      "EVAL: [8/9] Data 0.005 (0.022) Elapsed 0m 0s (remain 0m 0s) \n",
      "Epoch: [7][0/40] Data 0.045 (0.045) Elapsed 0m 0s (remain 0m 12s) Loss: 0.6656(0.6656) Grad Norm: 7.6671  LR: 9.5441e-04  \n",
      "Epoch: [7][39/40] Data 0.049 (0.045) Elapsed 0m 11s (remain 0m 0s) Loss: 1.5149(1.3872) Grad Norm: 15.6130  LR: 9.5441e-04  \n",
      "EVAL: [0/9] Data 0.024 (0.024) Elapsed 0m 0s (remain 0m 0s) \n"
     ]
    },
    {
     "name": "stderr",
     "output_type": "stream",
     "text": [
      "labels: [8 7 4 6 2]\n",
      "pred_labels: [8 2 2 3 0]\n",
      "Epoch 7 - avg_train_loss: 1.3872  lr: 9.5441e-04  time: 13s\n",
      "Epoch 7 - Score: 0.5954\n"
     ]
    },
    {
     "name": "stdout",
     "output_type": "stream",
     "text": [
      "EVAL: [8/9] Data 0.005 (0.022) Elapsed 0m 0s (remain 0m 0s) \n",
      "Epoch: [8][0/40] Data 0.039 (0.039) Elapsed 0m 0s (remain 0m 11s) Loss: 1.3778(1.3778) Grad Norm: 7.7846  LR: 9.4016e-04  \n",
      "Epoch: [8][39/40] Data 0.042 (0.043) Elapsed 0m 11s (remain 0m 0s) Loss: 0.2491(1.3067) Grad Norm: 5.4396  LR: 9.4016e-04  \n",
      "EVAL: [0/9] Data 0.024 (0.024) Elapsed 0m 0s (remain 0m 0s) \n"
     ]
    },
    {
     "name": "stderr",
     "output_type": "stream",
     "text": [
      "labels: [8 7 4 6 2]\n",
      "pred_labels: [8 7 2 9 6]\n",
      "Epoch 8 - avg_train_loss: 1.3067  lr: 9.4016e-04  time: 13s\n",
      "Epoch 8 - Score: 0.5878\n"
     ]
    },
    {
     "name": "stdout",
     "output_type": "stream",
     "text": [
      "EVAL: [8/9] Data 0.004 (0.022) Elapsed 0m 0s (remain 0m 0s) \n",
      "Epoch: [9][0/40] Data 0.045 (0.045) Elapsed 0m 0s (remain 0m 11s) Loss: 0.4914(0.4914) Grad Norm: 6.8065  LR: 9.2418e-04  \n",
      "Epoch: [9][39/40] Data 0.048 (0.044) Elapsed 0m 11s (remain 0m 0s) Loss: 0.3909(1.2304) Grad Norm: 5.7049  LR: 9.2418e-04  \n",
      "EVAL: [0/9] Data 0.024 (0.024) Elapsed 0m 0s (remain 0m 0s) \n"
     ]
    },
    {
     "name": "stderr",
     "output_type": "stream",
     "text": [
      "labels: [8 7 4 6 2]\n",
      "pred_labels: [8 7 1 9 5]\n",
      "Epoch 9 - avg_train_loss: 1.2304  lr: 9.2418e-04  time: 13s\n",
      "Epoch 9 - Score: 0.5496\n"
     ]
    },
    {
     "name": "stdout",
     "output_type": "stream",
     "text": [
      "EVAL: [8/9] Data 0.005 (0.022) Elapsed 0m 0s (remain 0m 0s) \n",
      "Epoch: [10][0/40] Data 0.039 (0.039) Elapsed 0m 0s (remain 0m 11s) Loss: 1.3239(1.3239) Grad Norm: 5.9487  LR: 9.0654e-04  \n",
      "Epoch: [10][39/40] Data 0.039 (0.044) Elapsed 0m 11s (remain 0m 0s) Loss: 1.8179(1.0410) Grad Norm: 8.1862  LR: 9.0654e-04  \n",
      "EVAL: [0/9] Data 0.024 (0.024) Elapsed 0m 0s (remain 0m 0s) \n"
     ]
    },
    {
     "name": "stderr",
     "output_type": "stream",
     "text": [
      "labels: [8 7 4 6 2]\n",
      "pred_labels: [8 4 1 3 5]\n",
      "Epoch 10 - avg_train_loss: 1.0410  lr: 9.0654e-04  time: 13s\n",
      "Epoch 10 - Score: 0.5954\n"
     ]
    },
    {
     "name": "stdout",
     "output_type": "stream",
     "text": [
      "EVAL: [8/9] Data 0.005 (0.022) Elapsed 0m 0s (remain 0m 0s) \n",
      "Epoch: [11][0/40] Data 0.045 (0.045) Elapsed 0m 0s (remain 0m 11s) Loss: 0.4310(0.4310) Grad Norm: 5.1450  LR: 8.8730e-04  \n",
      "Epoch: [11][39/40] Data 0.040 (0.042) Elapsed 0m 11s (remain 0m 0s) Loss: 1.3958(0.9103) Grad Norm: 5.3525  LR: 8.8730e-04  \n",
      "EVAL: [0/9] Data 0.024 (0.024) Elapsed 0m 0s (remain 0m 0s) \n"
     ]
    },
    {
     "name": "stderr",
     "output_type": "stream",
     "text": [
      "labels: [8 7 4 6 2]\n",
      "pred_labels: [ 8  7  2 11  6]\n",
      "Epoch 11 - avg_train_loss: 0.9103  lr: 8.8730e-04  time: 13s\n",
      "Epoch 11 - Score: 0.6031\n"
     ]
    },
    {
     "name": "stdout",
     "output_type": "stream",
     "text": [
      "EVAL: [8/9] Data 0.004 (0.022) Elapsed 0m 0s (remain 0m 0s) \n",
      "Epoch: [12][0/40] Data 0.043 (0.043) Elapsed 0m 0s (remain 0m 11s) Loss: 1.3526(1.3526) Grad Norm: 6.7487  LR: 8.6655e-04  \n",
      "Epoch: [12][39/40] Data 0.046 (0.043) Elapsed 0m 11s (remain 0m 0s) Loss: 0.3439(0.9823) Grad Norm: 6.4331  LR: 8.6655e-04  \n",
      "EVAL: [0/9] Data 0.024 (0.024) Elapsed 0m 0s (remain 0m 0s) \n"
     ]
    },
    {
     "name": "stderr",
     "output_type": "stream",
     "text": [
      "labels: [8 7 4 6 2]\n",
      "pred_labels: [ 8  4  4 11  5]\n",
      "Epoch 12 - avg_train_loss: 0.9823  lr: 8.6655e-04  time: 13s\n",
      "Epoch 12 - Score: 0.5954\n"
     ]
    },
    {
     "name": "stdout",
     "output_type": "stream",
     "text": [
      "EVAL: [8/9] Data 0.004 (0.022) Elapsed 0m 0s (remain 0m 0s) \n",
      "Epoch: [13][0/40] Data 0.044 (0.044) Elapsed 0m 0s (remain 0m 11s) Loss: 0.2097(0.2097) Grad Norm: 5.0852  LR: 8.4436e-04  \n",
      "Epoch: [13][39/40] Data 0.036 (0.044) Elapsed 0m 11s (remain 0m 0s) Loss: 1.0711(0.9902) Grad Norm: 4.7792  LR: 8.4436e-04  \n",
      "EVAL: [0/9] Data 0.024 (0.024) Elapsed 0m 0s (remain 0m 0s) \n"
     ]
    },
    {
     "name": "stderr",
     "output_type": "stream",
     "text": [
      "labels: [8 7 4 6 2]\n",
      "pred_labels: [8 2 2 3 5]\n",
      "Epoch 13 - avg_train_loss: 0.9902  lr: 8.4436e-04  time: 13s\n",
      "Epoch 13 - Score: 0.6183\n",
      "Epoch 13 - Save Best Score: 0.6183 Model\n"
     ]
    },
    {
     "name": "stdout",
     "output_type": "stream",
     "text": [
      "EVAL: [8/9] Data 0.005 (0.022) Elapsed 0m 0s (remain 0m 0s) \n",
      "Epoch: [14][0/40] Data 0.042 (0.042) Elapsed 0m 0s (remain 0m 12s) Loss: 1.3743(1.3743) Grad Norm: 7.6793  LR: 8.2081e-04  \n",
      "Epoch: [14][39/40] Data 0.045 (0.043) Elapsed 0m 11s (remain 0m 0s) Loss: 0.4770(0.9497) Grad Norm: 8.9051  LR: 8.2081e-04  \n",
      "EVAL: [0/9] Data 0.024 (0.024) Elapsed 0m 0s (remain 0m 0s) \n"
     ]
    },
    {
     "name": "stderr",
     "output_type": "stream",
     "text": [
      "labels: [8 7 4 6 2]\n",
      "pred_labels: [8 7 2 2 2]\n",
      "Epoch 14 - avg_train_loss: 0.9497  lr: 8.2081e-04  time: 13s\n",
      "Epoch 14 - Score: 0.5802\n"
     ]
    },
    {
     "name": "stdout",
     "output_type": "stream",
     "text": [
      "EVAL: [8/9] Data 0.005 (0.022) Elapsed 0m 0s (remain 0m 0s) \n",
      "Epoch: [15][0/40] Data 0.043 (0.043) Elapsed 0m 0s (remain 0m 11s) Loss: 0.1662(0.1662) Grad Norm: 3.2628  LR: 7.9601e-04  \n",
      "Epoch: [15][39/40] Data 0.049 (0.044) Elapsed 0m 11s (remain 0m 0s) Loss: 1.8964(0.7786) Grad Norm: 8.5346  LR: 7.9601e-04  \n",
      "EVAL: [0/9] Data 0.024 (0.024) Elapsed 0m 0s (remain 0m 0s) \n"
     ]
    },
    {
     "name": "stderr",
     "output_type": "stream",
     "text": [
      "labels: [8 7 4 6 2]\n",
      "pred_labels: [8 4 4 3 1]\n",
      "Epoch 15 - avg_train_loss: 0.7786  lr: 7.9601e-04  time: 13s\n",
      "Epoch 15 - Score: 0.6260\n",
      "Epoch 15 - Save Best Score: 0.6260 Model\n"
     ]
    },
    {
     "name": "stdout",
     "output_type": "stream",
     "text": [
      "EVAL: [8/9] Data 0.005 (0.022) Elapsed 0m 0s (remain 0m 0s) \n",
      "Epoch: [16][0/40] Data 0.037 (0.037) Elapsed 0m 0s (remain 0m 11s) Loss: 0.3115(0.3115) Grad Norm: 12.8676  LR: 7.7006e-04  \n",
      "Epoch: [16][39/40] Data 0.037 (0.043) Elapsed 0m 11s (remain 0m 0s) Loss: 0.5642(0.8620) Grad Norm: 10.3632  LR: 7.7006e-04  \n",
      "EVAL: [0/9] Data 0.024 (0.024) Elapsed 0m 0s (remain 0m 0s) \n"
     ]
    },
    {
     "name": "stderr",
     "output_type": "stream",
     "text": [
      "labels: [8 7 4 6 2]\n",
      "pred_labels: [8 4 7 3 5]\n",
      "Epoch 16 - avg_train_loss: 0.8620  lr: 7.7006e-04  time: 13s\n",
      "Epoch 16 - Score: 0.6489\n",
      "Epoch 16 - Save Best Score: 0.6489 Model\n"
     ]
    },
    {
     "name": "stdout",
     "output_type": "stream",
     "text": [
      "EVAL: [8/9] Data 0.005 (0.022) Elapsed 0m 0s (remain 0m 0s) \n",
      "Epoch: [17][0/40] Data 0.041 (0.041) Elapsed 0m 0s (remain 0m 12s) Loss: 0.3686(0.3686) Grad Norm: 5.5008  LR: 7.4304e-04  \n",
      "Epoch: [17][39/40] Data 0.043 (0.043) Elapsed 0m 11s (remain 0m 0s) Loss: 0.0585(0.9240) Grad Norm: 9.0818  LR: 7.4304e-04  \n",
      "EVAL: [0/9] Data 0.024 (0.024) Elapsed 0m 0s (remain 0m 0s) \n"
     ]
    },
    {
     "name": "stderr",
     "output_type": "stream",
     "text": [
      "labels: [8 7 4 6 2]\n",
      "pred_labels: [8 7 0 6 6]\n",
      "Epoch 17 - avg_train_loss: 0.9240  lr: 7.4304e-04  time: 13s\n",
      "Epoch 17 - Score: 0.6183\n"
     ]
    },
    {
     "name": "stdout",
     "output_type": "stream",
     "text": [
      "EVAL: [8/9] Data 0.005 (0.022) Elapsed 0m 0s (remain 0m 0s) \n",
      "Epoch: [18][0/40] Data 0.040 (0.040) Elapsed 0m 0s (remain 0m 11s) Loss: 0.2535(0.2535) Grad Norm: 10.3544  LR: 7.1508e-04  \n",
      "Epoch: [18][39/40] Data 0.037 (0.043) Elapsed 0m 11s (remain 0m 0s) Loss: 0.3812(0.7677) Grad Norm: 7.4762  LR: 7.1508e-04  \n",
      "EVAL: [0/9] Data 0.025 (0.025) Elapsed 0m 0s (remain 0m 0s) \n"
     ]
    },
    {
     "name": "stderr",
     "output_type": "stream",
     "text": [
      "labels: [8 7 4 6 2]\n",
      "pred_labels: [8 7 4 6 6]\n",
      "Epoch 18 - avg_train_loss: 0.7677  lr: 7.1508e-04  time: 13s\n",
      "Epoch 18 - Score: 0.6412\n"
     ]
    },
    {
     "name": "stdout",
     "output_type": "stream",
     "text": [
      "EVAL: [8/9] Data 0.005 (0.022) Elapsed 0m 0s (remain 0m 0s) \n",
      "Epoch: [19][0/40] Data 0.041 (0.041) Elapsed 0m 0s (remain 0m 11s) Loss: 0.2472(0.2472) Grad Norm: 6.1059  LR: 6.8627e-04  \n",
      "Epoch: [19][39/40] Data 0.043 (0.046) Elapsed 0m 12s (remain 0m 0s) Loss: 0.9839(0.8512) Grad Norm: 6.2789  LR: 6.8627e-04  \n",
      "EVAL: [0/9] Data 0.025 (0.025) Elapsed 0m 0s (remain 0m 0s) \n"
     ]
    },
    {
     "name": "stderr",
     "output_type": "stream",
     "text": [
      "labels: [8 7 4 6 2]\n",
      "pred_labels: [8 4 1 2 5]\n",
      "Epoch 19 - avg_train_loss: 0.8512  lr: 6.8627e-04  time: 13s\n",
      "Epoch 19 - Score: 0.6260\n"
     ]
    },
    {
     "name": "stdout",
     "output_type": "stream",
     "text": [
      "EVAL: [8/9] Data 0.005 (0.023) Elapsed 0m 0s (remain 0m 0s) \n",
      "Epoch: [20][0/40] Data 0.047 (0.047) Elapsed 0m 0s (remain 0m 11s) Loss: 1.1692(1.1692) Grad Norm: 6.6285  LR: 6.5674e-04  \n",
      "Epoch: [20][39/40] Data 0.042 (0.043) Elapsed 0m 11s (remain 0m 0s) Loss: 1.2293(0.7390) Grad Norm: 6.3603  LR: 6.5674e-04  \n",
      "EVAL: [0/9] Data 0.023 (0.023) Elapsed 0m 0s (remain 0m 0s) \n"
     ]
    },
    {
     "name": "stderr",
     "output_type": "stream",
     "text": [
      "labels: [8 7 4 6 2]\n",
      "pred_labels: [8 7 1 3 5]\n",
      "Epoch 20 - avg_train_loss: 0.7390  lr: 6.5674e-04  time: 13s\n",
      "Epoch 20 - Score: 0.6183\n"
     ]
    },
    {
     "name": "stdout",
     "output_type": "stream",
     "text": [
      "EVAL: [8/9] Data 0.005 (0.022) Elapsed 0m 0s (remain 0m 0s) \n",
      "Epoch: [21][0/40] Data 0.045 (0.045) Elapsed 0m 0s (remain 0m 11s) Loss: 0.0541(0.0541) Grad Norm: 1.4739  LR: 6.2661e-04  \n",
      "Epoch: [21][39/40] Data 0.042 (0.044) Elapsed 0m 11s (remain 0m 0s) Loss: 0.0197(0.6024) Grad Norm: 0.5512  LR: 6.2661e-04  \n",
      "EVAL: [0/9] Data 0.024 (0.024) Elapsed 0m 0s (remain 0m 0s) \n"
     ]
    },
    {
     "name": "stderr",
     "output_type": "stream",
     "text": [
      "labels: [8 7 4 6 2]\n",
      "pred_labels: [8 7 1 9 5]\n",
      "Epoch 21 - avg_train_loss: 0.6024  lr: 6.2661e-04  time: 13s\n",
      "Epoch 21 - Score: 0.5954\n"
     ]
    },
    {
     "name": "stdout",
     "output_type": "stream",
     "text": [
      "EVAL: [8/9] Data 0.005 (0.022) Elapsed 0m 0s (remain 0m 0s) \n",
      "Epoch: [22][0/40] Data 0.041 (0.041) Elapsed 0m 0s (remain 0m 11s) Loss: 0.0806(0.0806) Grad Norm: 2.4836  LR: 5.9598e-04  \n",
      "Epoch: [22][39/40] Data 0.049 (0.043) Elapsed 0m 11s (remain 0m 0s) Loss: 0.0833(0.6695) Grad Norm: 4.3792  LR: 5.9598e-04  \n",
      "EVAL: [0/9] Data 0.023 (0.023) Elapsed 0m 0s (remain 0m 0s) \n"
     ]
    },
    {
     "name": "stderr",
     "output_type": "stream",
     "text": [
      "labels: [8 7 4 6 2]\n",
      "pred_labels: [8 7 0 0 5]\n",
      "Epoch 22 - avg_train_loss: 0.6695  lr: 5.9598e-04  time: 13s\n",
      "Epoch 22 - Score: 0.6107\n"
     ]
    },
    {
     "name": "stdout",
     "output_type": "stream",
     "text": [
      "EVAL: [8/9] Data 0.004 (0.022) Elapsed 0m 0s (remain 0m 0s) \n",
      "Epoch: [23][0/40] Data 0.041 (0.041) Elapsed 0m 0s (remain 0m 11s) Loss: 1.4297(1.4297) Grad Norm: 7.6470  LR: 5.6498e-04  \n",
      "Epoch: [23][39/40] Data 0.045 (0.044) Elapsed 0m 11s (remain 0m 0s) Loss: 0.0293(0.7240) Grad Norm: 1.4519  LR: 5.6498e-04  \n",
      "EVAL: [0/9] Data 0.025 (0.025) Elapsed 0m 0s (remain 0m 0s) \n"
     ]
    },
    {
     "name": "stderr",
     "output_type": "stream",
     "text": [
      "labels: [8 7 4 6 2]\n",
      "pred_labels: [8 4 4 6 5]\n",
      "Epoch 23 - avg_train_loss: 0.7240  lr: 5.6498e-04  time: 13s\n",
      "Epoch 23 - Score: 0.6870\n",
      "Epoch 23 - Save Best Score: 0.6870 Model\n"
     ]
    },
    {
     "name": "stdout",
     "output_type": "stream",
     "text": [
      "EVAL: [8/9] Data 0.005 (0.022) Elapsed 0m 0s (remain 0m 0s) \n",
      "Epoch: [24][0/40] Data 0.049 (0.049) Elapsed 0m 0s (remain 0m 12s) Loss: 0.3096(0.3096) Grad Norm: 18.1660  LR: 5.3373e-04  \n",
      "Epoch: [24][39/40] Data 0.044 (0.046) Elapsed 0m 12s (remain 0m 0s) Loss: 0.8940(0.6858) Grad Norm: 5.1830  LR: 5.3373e-04  \n",
      "EVAL: [0/9] Data 0.026 (0.026) Elapsed 0m 0s (remain 0m 0s) \n"
     ]
    },
    {
     "name": "stderr",
     "output_type": "stream",
     "text": [
      "labels: [8 7 4 6 2]\n",
      "pred_labels: [8 7 3 9 5]\n",
      "Epoch 24 - avg_train_loss: 0.6858  lr: 5.3373e-04  time: 13s\n",
      "Epoch 24 - Score: 0.6412\n"
     ]
    },
    {
     "name": "stdout",
     "output_type": "stream",
     "text": [
      "EVAL: [8/9] Data 0.005 (0.022) Elapsed 0m 0s (remain 0m 0s) \n",
      "Epoch: [25][0/40] Data 0.042 (0.042) Elapsed 0m 0s (remain 0m 11s) Loss: 0.9277(0.9277) Grad Norm: 4.3322  LR: 5.0236e-04  \n",
      "Epoch: [25][39/40] Data 0.048 (0.044) Elapsed 0m 11s (remain 0m 0s) Loss: 1.0409(0.6326) Grad Norm: 5.5228  LR: 5.0236e-04  \n",
      "EVAL: [0/9] Data 0.024 (0.024) Elapsed 0m 0s (remain 0m 0s) \n"
     ]
    },
    {
     "name": "stderr",
     "output_type": "stream",
     "text": [
      "labels: [8 7 4 6 2]\n",
      "pred_labels: [8 7 4 7 5]\n",
      "Epoch 25 - avg_train_loss: 0.6326  lr: 5.0236e-04  time: 13s\n",
      "Epoch 25 - Score: 0.6183\n"
     ]
    },
    {
     "name": "stdout",
     "output_type": "stream",
     "text": [
      "EVAL: [8/9] Data 0.005 (0.022) Elapsed 0m 0s (remain 0m 0s) \n",
      "Epoch: [26][0/40] Data 0.043 (0.043) Elapsed 0m 0s (remain 0m 11s) Loss: 0.0069(0.0069) Grad Norm: 1.2799  LR: 4.7099e-04  \n",
      "Epoch: [26][39/40] Data 0.037 (0.046) Elapsed 0m 12s (remain 0m 0s) Loss: 0.0722(0.6484) Grad Norm: 5.4557  LR: 4.7099e-04  \n",
      "EVAL: [0/9] Data 0.024 (0.024) Elapsed 0m 0s (remain 0m 0s) \n"
     ]
    },
    {
     "name": "stderr",
     "output_type": "stream",
     "text": [
      "labels: [8 7 4 6 2]\n",
      "pred_labels: [8 7 2 6 5]\n",
      "Epoch 26 - avg_train_loss: 0.6484  lr: 4.7099e-04  time: 13s\n",
      "Epoch 26 - Score: 0.6489\n"
     ]
    },
    {
     "name": "stdout",
     "output_type": "stream",
     "text": [
      "EVAL: [8/9] Data 0.004 (0.022) Elapsed 0m 0s (remain 0m 0s) \n",
      "Epoch: [27][0/40] Data 0.046 (0.046) Elapsed 0m 0s (remain 0m 11s) Loss: 0.8121(0.8121) Grad Norm: 7.7768  LR: 4.3974e-04  \n",
      "Epoch: [27][39/40] Data 0.041 (0.042) Elapsed 0m 11s (remain 0m 0s) Loss: 0.9478(0.5703) Grad Norm: 4.6018  LR: 4.3974e-04  \n",
      "EVAL: [0/9] Data 0.024 (0.024) Elapsed 0m 0s (remain 0m 0s) \n"
     ]
    },
    {
     "name": "stderr",
     "output_type": "stream",
     "text": [
      "labels: [8 7 4 6 2]\n",
      "pred_labels: [8 7 4 7 5]\n",
      "Epoch 27 - avg_train_loss: 0.5703  lr: 4.3974e-04  time: 12s\n",
      "Epoch 27 - Score: 0.6107\n"
     ]
    },
    {
     "name": "stdout",
     "output_type": "stream",
     "text": [
      "EVAL: [8/9] Data 0.005 (0.022) Elapsed 0m 0s (remain 0m 0s) \n",
      "Epoch: [28][0/40] Data 0.049 (0.049) Elapsed 0m 0s (remain 0m 11s) Loss: 1.2241(1.2241) Grad Norm: 5.3285  LR: 4.0874e-04  \n",
      "Epoch: [28][39/40] Data 0.051 (0.044) Elapsed 0m 11s (remain 0m 0s) Loss: 1.3974(0.6566) Grad Norm: 5.7958  LR: 4.0874e-04  \n",
      "EVAL: [0/9] Data 0.026 (0.026) Elapsed 0m 0s (remain 0m 0s) \n"
     ]
    },
    {
     "name": "stderr",
     "output_type": "stream",
     "text": [
      "labels: [8 7 4 6 2]\n",
      "pred_labels: [8 4 4 7 5]\n",
      "Epoch 28 - avg_train_loss: 0.6566  lr: 4.0874e-04  time: 13s\n",
      "Epoch 28 - Score: 0.6412\n"
     ]
    },
    {
     "name": "stdout",
     "output_type": "stream",
     "text": [
      "EVAL: [8/9] Data 0.005 (0.022) Elapsed 0m 0s (remain 0m 0s) \n",
      "Epoch: [29][0/40] Data 0.044 (0.044) Elapsed 0m 0s (remain 0m 11s) Loss: 0.0180(0.0180) Grad Norm: 0.6718  LR: 3.7811e-04  \n",
      "Epoch: [29][39/40] Data 0.041 (0.043) Elapsed 0m 11s (remain 0m 0s) Loss: 0.9612(0.5634) Grad Norm: 5.3773  LR: 3.7811e-04  \n",
      "EVAL: [0/9] Data 0.024 (0.024) Elapsed 0m 0s (remain 0m 0s) \n"
     ]
    },
    {
     "name": "stderr",
     "output_type": "stream",
     "text": [
      "labels: [8 7 4 6 2]\n",
      "pred_labels: [8 7 2 6 5]\n",
      "Epoch 29 - avg_train_loss: 0.5634  lr: 3.7811e-04  time: 13s\n",
      "Epoch 29 - Score: 0.6565\n"
     ]
    },
    {
     "name": "stdout",
     "output_type": "stream",
     "text": [
      "EVAL: [8/9] Data 0.005 (0.023) Elapsed 0m 0s (remain 0m 0s) \n",
      "Epoch: [30][0/40] Data 0.048 (0.048) Elapsed 0m 0s (remain 0m 11s) Loss: 1.4879(1.4879) Grad Norm: 7.3437  LR: 3.4797e-04  \n",
      "Epoch: [30][39/40] Data 0.047 (0.045) Elapsed 0m 11s (remain 0m 0s) Loss: 1.1158(0.5590) Grad Norm: 6.8187  LR: 3.4797e-04  \n",
      "EVAL: [0/9] Data 0.025 (0.025) Elapsed 0m 0s (remain 0m 0s) \n"
     ]
    },
    {
     "name": "stderr",
     "output_type": "stream",
     "text": [
      "labels: [8 7 4 6 2]\n",
      "pred_labels: [ 8  7  9 11  5]\n",
      "Epoch 30 - avg_train_loss: 0.5590  lr: 3.4797e-04  time: 13s\n",
      "Epoch 30 - Score: 0.6718\n"
     ]
    },
    {
     "name": "stdout",
     "output_type": "stream",
     "text": [
      "EVAL: [8/9] Data 0.005 (0.022) Elapsed 0m 0s (remain 0m 0s) \n",
      "Epoch: [31][0/40] Data 0.045 (0.045) Elapsed 0m 0s (remain 0m 12s) Loss: 1.0251(1.0251) Grad Norm: 4.4380  LR: 3.1843e-04  \n",
      "Epoch: [31][39/40] Data 0.041 (0.043) Elapsed 0m 11s (remain 0m 0s) Loss: 0.8932(0.5802) Grad Norm: 5.1806  LR: 3.1843e-04  \n",
      "EVAL: [0/9] Data 0.024 (0.024) Elapsed 0m 0s (remain 0m 0s) \n"
     ]
    },
    {
     "name": "stderr",
     "output_type": "stream",
     "text": [
      "labels: [8 7 4 6 2]\n",
      "pred_labels: [8 7 4 6 5]\n",
      "Epoch 31 - avg_train_loss: 0.5802  lr: 3.1843e-04  time: 13s\n",
      "Epoch 31 - Score: 0.6947\n",
      "Epoch 31 - Save Best Score: 0.6947 Model\n"
     ]
    },
    {
     "name": "stdout",
     "output_type": "stream",
     "text": [
      "EVAL: [8/9] Data 0.004 (0.022) Elapsed 0m 0s (remain 0m 0s) \n",
      "Epoch: [32][0/40] Data 0.039 (0.039) Elapsed 0m 0s (remain 0m 11s) Loss: 0.9210(0.9210) Grad Norm: 4.3666  LR: 2.8962e-04  \n",
      "Epoch: [32][39/40] Data 0.039 (0.043) Elapsed 0m 11s (remain 0m 0s) Loss: 0.8294(0.5913) Grad Norm: 3.8742  LR: 2.8962e-04  \n",
      "EVAL: [0/9] Data 0.025 (0.025) Elapsed 0m 0s (remain 0m 0s) \n"
     ]
    },
    {
     "name": "stderr",
     "output_type": "stream",
     "text": [
      "labels: [8 7 4 6 2]\n",
      "pred_labels: [8 4 4 6 5]\n",
      "Epoch 32 - avg_train_loss: 0.5913  lr: 2.8962e-04  time: 13s\n",
      "Epoch 32 - Score: 0.6489\n"
     ]
    },
    {
     "name": "stdout",
     "output_type": "stream",
     "text": [
      "EVAL: [8/9] Data 0.005 (0.022) Elapsed 0m 0s (remain 0m 0s) \n",
      "Epoch: [33][0/40] Data 0.040 (0.040) Elapsed 0m 0s (remain 0m 11s) Loss: 1.1213(1.1213) Grad Norm: 5.7844  LR: 2.6165e-04  \n",
      "Epoch: [33][39/40] Data 0.050 (0.043) Elapsed 0m 11s (remain 0m 0s) Loss: 0.0067(0.5164) Grad Norm: 0.3515  LR: 2.6165e-04  \n",
      "EVAL: [0/9] Data 0.025 (0.025) Elapsed 0m 0s (remain 0m 0s) \n"
     ]
    },
    {
     "name": "stderr",
     "output_type": "stream",
     "text": [
      "labels: [8 7 4 6 2]\n",
      "pred_labels: [8 7 4 7 5]\n",
      "Epoch 33 - avg_train_loss: 0.5164  lr: 2.6165e-04  time: 13s\n",
      "Epoch 33 - Score: 0.6412\n"
     ]
    },
    {
     "name": "stdout",
     "output_type": "stream",
     "text": [
      "EVAL: [8/9] Data 0.005 (0.022) Elapsed 0m 0s (remain 0m 0s) \n",
      "Epoch: [34][0/40] Data 0.046 (0.046) Elapsed 0m 0s (remain 0m 11s) Loss: 0.0058(0.0058) Grad Norm: 0.3800  LR: 2.3463e-04  \n",
      "Epoch: [34][39/40] Data 0.040 (0.043) Elapsed 0m 11s (remain 0m 0s) Loss: 0.9536(0.6226) Grad Norm: 4.9940  LR: 2.3463e-04  \n",
      "EVAL: [0/9] Data 0.025 (0.025) Elapsed 0m 0s (remain 0m 0s) \n"
     ]
    },
    {
     "name": "stderr",
     "output_type": "stream",
     "text": [
      "labels: [8 7 4 6 2]\n",
      "pred_labels: [8 7 4 7 5]\n",
      "Epoch 34 - avg_train_loss: 0.6226  lr: 2.3463e-04  time: 13s\n",
      "Epoch 34 - Score: 0.6565\n"
     ]
    },
    {
     "name": "stdout",
     "output_type": "stream",
     "text": [
      "EVAL: [8/9] Data 0.005 (0.023) Elapsed 0m 0s (remain 0m 0s) \n",
      "Epoch: [35][0/40] Data 0.047 (0.047) Elapsed 0m 0s (remain 0m 11s) Loss: 0.8777(0.8777) Grad Norm: 7.0070  LR: 2.0866e-04  \n",
      "Epoch: [35][39/40] Data 0.042 (0.044) Elapsed 0m 11s (remain 0m 0s) Loss: 0.9242(0.4755) Grad Norm: 5.5276  LR: 2.0866e-04  \n",
      "EVAL: [0/9] Data 0.024 (0.024) Elapsed 0m 0s (remain 0m 0s) \n"
     ]
    },
    {
     "name": "stderr",
     "output_type": "stream",
     "text": [
      "labels: [8 7 4 6 2]\n",
      "pred_labels: [8 7 4 7 5]\n",
      "Epoch 35 - avg_train_loss: 0.4755  lr: 2.0866e-04  time: 13s\n",
      "Epoch 35 - Score: 0.6718\n"
     ]
    },
    {
     "name": "stdout",
     "output_type": "stream",
     "text": [
      "EVAL: [8/9] Data 0.005 (0.022) Elapsed 0m 0s (remain 0m 0s) \n",
      "Epoch: [36][0/40] Data 0.041 (0.041) Elapsed 0m 0s (remain 0m 11s) Loss: 1.0827(1.0827) Grad Norm: 12.1619  LR: 1.8385e-04  \n",
      "Epoch: [36][39/40] Data 0.042 (0.043) Elapsed 0m 11s (remain 0m 0s) Loss: 0.0064(0.4850) Grad Norm: 0.2908  LR: 1.8385e-04  \n",
      "EVAL: [0/9] Data 0.025 (0.025) Elapsed 0m 0s (remain 0m 0s) \n"
     ]
    },
    {
     "name": "stderr",
     "output_type": "stream",
     "text": [
      "labels: [8 7 4 6 2]\n",
      "pred_labels: [ 8  7  4 11  5]\n",
      "Epoch 36 - avg_train_loss: 0.4850  lr: 1.8385e-04  time: 13s\n",
      "Epoch 36 - Score: 0.7252\n",
      "Epoch 36 - Save Best Score: 0.7252 Model\n"
     ]
    },
    {
     "name": "stdout",
     "output_type": "stream",
     "text": [
      "EVAL: [8/9] Data 0.005 (0.022) Elapsed 0m 0s (remain 0m 0s) \n",
      "Epoch: [37][0/40] Data 0.040 (0.040) Elapsed 0m 0s (remain 0m 11s) Loss: 0.9047(0.9047) Grad Norm: 3.5981  LR: 1.6030e-04  \n",
      "Epoch: [37][39/40] Data 0.045 (0.043) Elapsed 0m 11s (remain 0m 0s) Loss: 0.2837(0.3393) Grad Norm: 6.4534  LR: 1.6030e-04  \n",
      "EVAL: [0/9] Data 0.025 (0.025) Elapsed 0m 0s (remain 0m 0s) \n"
     ]
    },
    {
     "name": "stderr",
     "output_type": "stream",
     "text": [
      "labels: [8 7 4 6 2]\n",
      "pred_labels: [8 7 2 6 5]\n",
      "Epoch 37 - avg_train_loss: 0.3393  lr: 1.6030e-04  time: 13s\n",
      "Epoch 37 - Score: 0.6947\n"
     ]
    },
    {
     "name": "stdout",
     "output_type": "stream",
     "text": [
      "EVAL: [8/9] Data 0.004 (0.022) Elapsed 0m 0s (remain 0m 0s) \n",
      "Epoch: [38][0/40] Data 0.052 (0.052) Elapsed 0m 0s (remain 0m 12s) Loss: 0.8850(0.8850) Grad Norm: 8.0105  LR: 1.3809e-04  \n",
      "Epoch: [38][39/40] Data 0.050 (0.044) Elapsed 0m 11s (remain 0m 0s) Loss: 0.7161(0.4041) Grad Norm: 2.7204  LR: 1.3809e-04  \n",
      "EVAL: [0/9] Data 0.024 (0.024) Elapsed 0m 0s (remain 0m 0s) \n"
     ]
    },
    {
     "name": "stderr",
     "output_type": "stream",
     "text": [
      "labels: [8 7 4 6 2]\n",
      "pred_labels: [ 8  4  4 11  5]\n",
      "Epoch 38 - avg_train_loss: 0.4041  lr: 1.3809e-04  time: 13s\n",
      "Epoch 38 - Score: 0.7252\n"
     ]
    },
    {
     "name": "stdout",
     "output_type": "stream",
     "text": [
      "EVAL: [8/9] Data 0.005 (0.022) Elapsed 0m 0s (remain 0m 0s) \n",
      "Epoch: [39][0/40] Data 0.045 (0.045) Elapsed 0m 0s (remain 0m 11s) Loss: 0.0460(0.0460) Grad Norm: 7.3177  LR: 1.1732e-04  \n",
      "Epoch: [39][39/40] Data 0.048 (0.044) Elapsed 0m 11s (remain 0m 0s) Loss: 0.7094(0.4374) Grad Norm: 4.3837  LR: 1.1732e-04  \n",
      "EVAL: [0/9] Data 0.024 (0.024) Elapsed 0m 0s (remain 0m 0s) \n"
     ]
    },
    {
     "name": "stderr",
     "output_type": "stream",
     "text": [
      "labels: [8 7 4 6 2]\n",
      "pred_labels: [ 8  7  4 11  5]\n",
      "Epoch 39 - avg_train_loss: 0.4374  lr: 1.1732e-04  time: 13s\n",
      "Epoch 39 - Score: 0.7252\n"
     ]
    },
    {
     "name": "stdout",
     "output_type": "stream",
     "text": [
      "EVAL: [8/9] Data 0.005 (0.022) Elapsed 0m 0s (remain 0m 0s) \n",
      "Epoch: [40][0/40] Data 0.039 (0.039) Elapsed 0m 0s (remain 0m 11s) Loss: 0.0011(0.0011) Grad Norm: 0.0656  LR: 9.8058e-05  \n",
      "Epoch: [40][39/40] Data 0.044 (0.044) Elapsed 0m 11s (remain 0m 0s) Loss: 0.0089(0.3502) Grad Norm: 1.0741  LR: 9.8058e-05  \n",
      "EVAL: [0/9] Data 0.025 (0.025) Elapsed 0m 0s (remain 0m 0s) \n"
     ]
    },
    {
     "name": "stderr",
     "output_type": "stream",
     "text": [
      "labels: [8 7 4 6 2]\n",
      "pred_labels: [8 7 4 6 5]\n",
      "Epoch 40 - avg_train_loss: 0.3502  lr: 9.8058e-05  time: 13s\n",
      "Epoch 40 - Score: 0.7099\n"
     ]
    },
    {
     "name": "stdout",
     "output_type": "stream",
     "text": [
      "EVAL: [8/9] Data 0.005 (0.022) Elapsed 0m 0s (remain 0m 0s) \n",
      "Epoch: [41][0/40] Data 0.038 (0.038) Elapsed 0m 0s (remain 0m 10s) Loss: 0.0004(0.0004) Grad Norm: 0.0209  LR: 8.0390e-05  \n",
      "Epoch: [41][39/40] Data 0.034 (0.043) Elapsed 0m 11s (remain 0m 0s) Loss: 0.0025(0.4350) Grad Norm: 0.0970  LR: 8.0390e-05  \n",
      "EVAL: [0/9] Data 0.024 (0.024) Elapsed 0m 0s (remain 0m 0s) \n"
     ]
    },
    {
     "name": "stderr",
     "output_type": "stream",
     "text": [
      "labels: [8 7 4 6 2]\n",
      "pred_labels: [8 7 4 6 5]\n",
      "Epoch 41 - avg_train_loss: 0.4350  lr: 8.0390e-05  time: 13s\n",
      "Epoch 41 - Score: 0.7176\n"
     ]
    },
    {
     "name": "stdout",
     "output_type": "stream",
     "text": [
      "EVAL: [8/9] Data 0.004 (0.022) Elapsed 0m 0s (remain 0m 0s) \n",
      "Epoch: [42][0/40] Data 0.042 (0.042) Elapsed 0m 0s (remain 0m 11s) Loss: 0.0050(0.0050) Grad Norm: 0.2114  LR: 6.4381e-05  \n",
      "Epoch: [42][39/40] Data 0.043 (0.043) Elapsed 0m 11s (remain 0m 0s) Loss: 0.8842(0.4784) Grad Norm: 4.0943  LR: 6.4381e-05  \n",
      "EVAL: [0/9] Data 0.025 (0.025) Elapsed 0m 0s (remain 0m 0s) \n"
     ]
    },
    {
     "name": "stderr",
     "output_type": "stream",
     "text": [
      "labels: [8 7 4 6 2]\n",
      "pred_labels: [8 7 4 6 5]\n",
      "Epoch 42 - avg_train_loss: 0.4784  lr: 6.4381e-05  time: 13s\n",
      "Epoch 42 - Score: 0.7176\n"
     ]
    },
    {
     "name": "stdout",
     "output_type": "stream",
     "text": [
      "EVAL: [8/9] Data 0.005 (0.022) Elapsed 0m 0s (remain 0m 0s) \n",
      "Epoch: [43][0/40] Data 0.045 (0.045) Elapsed 0m 0s (remain 0m 11s) Loss: 0.0017(0.0017) Grad Norm: 0.0866  LR: 5.0093e-05  \n",
      "Epoch: [43][39/40] Data 0.043 (0.043) Elapsed 0m 11s (remain 0m 0s) Loss: 0.0028(0.3184) Grad Norm: 0.1894  LR: 5.0093e-05  \n",
      "EVAL: [0/9] Data 0.024 (0.024) Elapsed 0m 0s (remain 0m 0s) \n"
     ]
    },
    {
     "name": "stderr",
     "output_type": "stream",
     "text": [
      "labels: [8 7 4 6 2]\n",
      "pred_labels: [8 4 4 6 5]\n",
      "Epoch 43 - avg_train_loss: 0.3184  lr: 5.0093e-05  time: 12s\n",
      "Epoch 43 - Score: 0.6947\n"
     ]
    },
    {
     "name": "stdout",
     "output_type": "stream",
     "text": [
      "EVAL: [8/9] Data 0.005 (0.022) Elapsed 0m 0s (remain 0m 0s) \n",
      "Epoch: [44][0/40] Data 0.047 (0.047) Elapsed 0m 0s (remain 0m 11s) Loss: 0.0033(0.0033) Grad Norm: 0.2430  LR: 3.7578e-05  \n",
      "Epoch: [44][39/40] Data 0.041 (0.042) Elapsed 0m 11s (remain 0m 0s) Loss: 0.8720(0.4611) Grad Norm: 5.7366  LR: 3.7578e-05  \n",
      "EVAL: [0/9] Data 0.024 (0.024) Elapsed 0m 0s (remain 0m 0s) \n"
     ]
    },
    {
     "name": "stderr",
     "output_type": "stream",
     "text": [
      "labels: [8 7 4 6 2]\n",
      "pred_labels: [8 7 4 6 5]\n",
      "Epoch 44 - avg_train_loss: 0.4611  lr: 3.7578e-05  time: 12s\n",
      "Epoch 44 - Score: 0.7328\n",
      "Epoch 44 - Save Best Score: 0.7328 Model\n"
     ]
    },
    {
     "name": "stdout",
     "output_type": "stream",
     "text": [
      "EVAL: [8/9] Data 0.005 (0.021) Elapsed 0m 0s (remain 0m 0s) \n",
      "Epoch: [45][0/40] Data 0.050 (0.050) Elapsed 0m 0s (remain 0m 12s) Loss: 0.0028(0.0028) Grad Norm: 0.5008  LR: 2.6881e-05  \n",
      "Epoch: [45][39/40] Data 0.047 (0.044) Elapsed 0m 11s (remain 0m 0s) Loss: 0.0011(0.3165) Grad Norm: 0.0516  LR: 2.6881e-05  \n",
      "EVAL: [0/9] Data 0.023 (0.023) Elapsed 0m 0s (remain 0m 0s) \n"
     ]
    },
    {
     "name": "stderr",
     "output_type": "stream",
     "text": [
      "labels: [8 7 4 6 2]\n",
      "pred_labels: [8 7 4 6 5]\n",
      "Epoch 45 - avg_train_loss: 0.3165  lr: 2.6881e-05  time: 13s\n",
      "Epoch 45 - Score: 0.7176\n"
     ]
    },
    {
     "name": "stdout",
     "output_type": "stream",
     "text": [
      "EVAL: [8/9] Data 0.005 (0.022) Elapsed 0m 0s (remain 0m 0s) \n",
      "Epoch: [46][0/40] Data 0.043 (0.043) Elapsed 0m 0s (remain 0m 11s) Loss: 0.0014(0.0014) Grad Norm: 0.0998  LR: 1.8039e-05  \n",
      "Epoch: [46][39/40] Data 0.044 (0.044) Elapsed 0m 11s (remain 0m 0s) Loss: 0.0007(0.0020) Grad Norm: 0.0279  LR: 1.8039e-05  \n",
      "EVAL: [0/9] Data 0.025 (0.025) Elapsed 0m 0s (remain 0m 0s) \n"
     ]
    },
    {
     "name": "stderr",
     "output_type": "stream",
     "text": [
      "labels: [8 7 4 6 2]\n",
      "pred_labels: [8 7 2 6 5]\n",
      "Epoch 46 - avg_train_loss: 0.0020  lr: 1.8039e-05  time: 13s\n",
      "Epoch 46 - Score: 0.7099\n"
     ]
    },
    {
     "name": "stdout",
     "output_type": "stream",
     "text": [
      "EVAL: [8/9] Data 0.005 (0.022) Elapsed 0m 0s (remain 0m 0s) \n",
      "Epoch: [47][0/40] Data 0.038 (0.038) Elapsed 0m 0s (remain 0m 11s) Loss: 0.0087(0.0087) Grad Norm: 1.1195  LR: 1.1073e-05  \n",
      "Epoch: [47][39/40] Data 0.048 (0.044) Elapsed 0m 11s (remain 0m 0s) Loss: 0.0004(0.0012) Grad Norm: 0.0198  LR: 1.1073e-05  \n",
      "EVAL: [0/9] Data 0.024 (0.024) Elapsed 0m 0s (remain 0m 0s) \n"
     ]
    },
    {
     "name": "stderr",
     "output_type": "stream",
     "text": [
      "labels: [8 7 4 6 2]\n",
      "pred_labels: [8 7 2 6 5]\n",
      "Epoch 47 - avg_train_loss: 0.0012  lr: 1.1073e-05  time: 13s\n",
      "Epoch 47 - Score: 0.7023\n"
     ]
    },
    {
     "name": "stdout",
     "output_type": "stream",
     "text": [
      "EVAL: [8/9] Data 0.005 (0.022) Elapsed 0m 0s (remain 0m 0s) \n",
      "Epoch: [48][0/40] Data 0.041 (0.041) Elapsed 0m 0s (remain 0m 11s) Loss: 0.0038(0.0038) Grad Norm: 0.4957  LR: 5.9882e-06  \n",
      "Epoch: [48][39/40] Data 0.044 (0.043) Elapsed 0m 11s (remain 0m 0s) Loss: 0.0010(0.0023) Grad Norm: 0.0746  LR: 5.9882e-06  \n",
      "EVAL: [0/9] Data 0.025 (0.025) Elapsed 0m 0s (remain 0m 0s) \n"
     ]
    },
    {
     "name": "stderr",
     "output_type": "stream",
     "text": [
      "labels: [8 7 4 6 2]\n",
      "pred_labels: [8 7 2 6 5]\n",
      "Epoch 48 - avg_train_loss: 0.0023  lr: 5.9882e-06  time: 13s\n",
      "Epoch 48 - Score: 0.7023\n"
     ]
    },
    {
     "name": "stdout",
     "output_type": "stream",
     "text": [
      "EVAL: [8/9] Data 0.005 (0.022) Elapsed 0m 0s (remain 0m 0s) \n",
      "Epoch: [49][0/40] Data 0.044 (0.044) Elapsed 0m 0s (remain 0m 11s) Loss: 0.0007(0.0007) Grad Norm: 0.0644  LR: 2.7534e-06  \n",
      "Epoch: [49][39/40] Data 0.042 (0.043) Elapsed 0m 11s (remain 0m 0s) Loss: 0.0003(0.0033) Grad Norm: 0.0183  LR: 2.7534e-06  \n",
      "EVAL: [0/9] Data 0.024 (0.024) Elapsed 0m 0s (remain 0m 0s) \n"
     ]
    },
    {
     "name": "stderr",
     "output_type": "stream",
     "text": [
      "labels: [8 7 4 6 2]\n",
      "pred_labels: [8 7 2 6 5]\n",
      "Epoch 49 - avg_train_loss: 0.0033  lr: 2.7534e-06  time: 13s\n",
      "Epoch 49 - Score: 0.7023\n"
     ]
    },
    {
     "name": "stdout",
     "output_type": "stream",
     "text": [
      "EVAL: [8/9] Data 0.005 (0.022) Elapsed 0m 0s (remain 0m 0s) \n",
      "Epoch: [50][0/40] Data 0.056 (0.056) Elapsed 0m 0s (remain 0m 11s) Loss: 0.0014(0.0014) Grad Norm: 0.0869  LR: 1.2467e-06  \n",
      "Epoch: [50][39/40] Data 0.045 (0.043) Elapsed 0m 11s (remain 0m 0s) Loss: 0.0057(0.0084) Grad Norm: 0.2847  LR: 1.2467e-06  \n",
      "EVAL: [0/9] Data 0.024 (0.024) Elapsed 0m 0s (remain 0m 0s) \n"
     ]
    },
    {
     "name": "stderr",
     "output_type": "stream",
     "text": [
      "labels: [8 7 4 6 2]\n",
      "pred_labels: [8 7 2 6 5]\n",
      "Epoch 50 - avg_train_loss: 0.0084  lr: 1.2467e-06  time: 12s\n",
      "Epoch 50 - Score: 0.7023\n",
      "==================== fold: 3, seed: 1 training ====================\n"
     ]
    },
    {
     "name": "stdout",
     "output_type": "stream",
     "text": [
      "EVAL: [8/9] Data 0.005 (0.022) Elapsed 0m 0s (remain 0m 0s) \n",
      "Epoch: [1][0/40] Data 0.046 (0.046) Elapsed 0m 0s (remain 0m 11s) Loss: 2.7535(2.7535) Grad Norm: 14.7160  LR: 1.0000e-03  \n",
      "Epoch: [1][39/40] Data 0.039 (0.043) Elapsed 0m 11s (remain 0m 0s) Loss: 2.4444(2.4898) Grad Norm: 15.6487  LR: 1.0000e-03  \n",
      "EVAL: [0/9] Data 0.024 (0.024) Elapsed 0m 0s (remain 0m 0s) \n"
     ]
    },
    {
     "name": "stderr",
     "output_type": "stream",
     "text": [
      "labels: [ 5  2  0  6 11]\n",
      "pred_labels: [6 2 2 2 6]\n",
      "Epoch 1 - avg_train_loss: 2.4898  lr: 1.0000e-03  time: 13s\n",
      "Epoch 1 - Score: 0.2977\n",
      "Epoch 1 - Save Best Score: 0.2977 Model\n"
     ]
    },
    {
     "name": "stdout",
     "output_type": "stream",
     "text": [
      "EVAL: [8/9] Data 0.004 (0.022) Elapsed 0m 0s (remain 0m 0s) \n",
      "Epoch: [2][0/40] Data 0.045 (0.045) Elapsed 0m 0s (remain 0m 12s) Loss: 2.2892(2.2892) Grad Norm: 17.0760  LR: 9.9803e-04  \n",
      "Epoch: [2][39/40] Data 0.037 (0.043) Elapsed 0m 11s (remain 0m 0s) Loss: 1.6772(2.1281) Grad Norm: 10.4321  LR: 9.9803e-04  \n",
      "EVAL: [0/9] Data 0.025 (0.025) Elapsed 0m 0s (remain 0m 0s) \n"
     ]
    },
    {
     "name": "stderr",
     "output_type": "stream",
     "text": [
      "labels: [ 5  2  0  6 11]\n",
      "pred_labels: [ 2  3  2  2 11]\n",
      "Epoch 2 - avg_train_loss: 2.1281  lr: 9.9803e-04  time: 13s\n",
      "Epoch 2 - Score: 0.4962\n",
      "Epoch 2 - Save Best Score: 0.4962 Model\n"
     ]
    },
    {
     "name": "stdout",
     "output_type": "stream",
     "text": [
      "EVAL: [8/9] Data 0.005 (0.022) Elapsed 0m 0s (remain 0m 0s) \n",
      "Epoch: [3][0/40] Data 0.068 (0.068) Elapsed 0m 0s (remain 0m 13s) Loss: 1.3713(1.3713) Grad Norm: 9.0702  LR: 9.9312e-04  \n",
      "Epoch: [3][39/40] Data 0.043 (0.044) Elapsed 0m 11s (remain 0m 0s) Loss: 1.8699(1.7392) Grad Norm: 11.3261  LR: 9.9312e-04  \n",
      "EVAL: [0/9] Data 0.024 (0.024) Elapsed 0m 0s (remain 0m 0s) \n"
     ]
    },
    {
     "name": "stderr",
     "output_type": "stream",
     "text": [
      "labels: [ 5  2  0  6 11]\n",
      "pred_labels: [ 5 12  0  6  6]\n",
      "Epoch 3 - avg_train_loss: 1.7392  lr: 9.9312e-04  time: 13s\n",
      "Epoch 3 - Score: 0.5649\n",
      "Epoch 3 - Save Best Score: 0.5649 Model\n"
     ]
    },
    {
     "name": "stdout",
     "output_type": "stream",
     "text": [
      "EVAL: [8/9] Data 0.005 (0.022) Elapsed 0m 0s (remain 0m 0s) \n",
      "Epoch: [4][0/40] Data 0.048 (0.048) Elapsed 0m 0s (remain 0m 12s) Loss: 1.0871(1.0871) Grad Norm: 15.5185  LR: 9.8627e-04  \n",
      "Epoch: [4][39/40] Data 0.040 (0.043) Elapsed 0m 11s (remain 0m 0s) Loss: 2.0128(1.5891) Grad Norm: 9.9574  LR: 9.8627e-04  \n",
      "EVAL: [0/9] Data 0.025 (0.025) Elapsed 0m 0s (remain 0m 0s) \n"
     ]
    },
    {
     "name": "stderr",
     "output_type": "stream",
     "text": [
      "labels: [ 5  2  0  6 11]\n",
      "pred_labels: [11 12  0  6 10]\n",
      "Epoch 4 - avg_train_loss: 1.5891  lr: 9.8627e-04  time: 13s\n",
      "Epoch 4 - Score: 0.6412\n",
      "Epoch 4 - Save Best Score: 0.6412 Model\n"
     ]
    },
    {
     "name": "stdout",
     "output_type": "stream",
     "text": [
      "EVAL: [8/9] Data 0.005 (0.022) Elapsed 0m 0s (remain 0m 0s) \n",
      "Epoch: [5][0/40] Data 0.048 (0.048) Elapsed 0m 0s (remain 0m 12s) Loss: 0.8346(0.8346) Grad Norm: 12.0959  LR: 9.7751e-04  \n",
      "Epoch: [5][39/40] Data 0.045 (0.044) Elapsed 0m 11s (remain 0m 0s) Loss: 1.8684(1.4374) Grad Norm: 8.7247  LR: 9.7751e-04  \n",
      "EVAL: [0/9] Data 0.023 (0.023) Elapsed 0m 0s (remain 0m 0s) \n"
     ]
    },
    {
     "name": "stderr",
     "output_type": "stream",
     "text": [
      "labels: [ 5  2  0  6 11]\n",
      "pred_labels: [11 11  0  0 11]\n",
      "Epoch 5 - avg_train_loss: 1.4374  lr: 9.7751e-04  time: 13s\n",
      "Epoch 5 - Score: 0.6107\n"
     ]
    },
    {
     "name": "stdout",
     "output_type": "stream",
     "text": [
      "EVAL: [8/9] Data 0.005 (0.022) Elapsed 0m 0s (remain 0m 0s) \n",
      "Epoch: [6][0/40] Data 0.045 (0.045) Elapsed 0m 0s (remain 0m 11s) Loss: 1.5714(1.5714) Grad Norm: 9.5382  LR: 9.6688e-04  \n",
      "Epoch: [6][39/40] Data 0.045 (0.043) Elapsed 0m 11s (remain 0m 0s) Loss: 1.9255(1.2918) Grad Norm: 7.1888  LR: 9.6688e-04  \n",
      "EVAL: [0/9] Data 0.023 (0.023) Elapsed 0m 0s (remain 0m 0s) \n"
     ]
    },
    {
     "name": "stderr",
     "output_type": "stream",
     "text": [
      "labels: [ 5  2  0  6 11]\n",
      "pred_labels: [ 3  5  0  0 11]\n",
      "Epoch 6 - avg_train_loss: 1.2918  lr: 9.6688e-04  time: 13s\n",
      "Epoch 6 - Score: 0.6107\n"
     ]
    },
    {
     "name": "stdout",
     "output_type": "stream",
     "text": [
      "EVAL: [8/9] Data 0.005 (0.022) Elapsed 0m 0s (remain 0m 0s) \n",
      "Epoch: [7][0/40] Data 0.043 (0.043) Elapsed 0m 0s (remain 0m 11s) Loss: 1.5078(1.5078) Grad Norm: 7.1392  LR: 9.5441e-04  \n",
      "Epoch: [7][39/40] Data 0.044 (0.043) Elapsed 0m 11s (remain 0m 0s) Loss: 0.9063(1.2320) Grad Norm: 14.3247  LR: 9.5441e-04  \n",
      "EVAL: [0/9] Data 0.024 (0.024) Elapsed 0m 0s (remain 0m 0s) \n"
     ]
    },
    {
     "name": "stderr",
     "output_type": "stream",
     "text": [
      "labels: [ 5  2  0  6 11]\n",
      "pred_labels: [ 3  5  0  0 11]\n",
      "Epoch 7 - avg_train_loss: 1.2320  lr: 9.5441e-04  time: 13s\n",
      "Epoch 7 - Score: 0.6260\n"
     ]
    },
    {
     "name": "stdout",
     "output_type": "stream",
     "text": [
      "EVAL: [8/9] Data 0.005 (0.022) Elapsed 0m 0s (remain 0m 0s) \n",
      "Epoch: [8][0/40] Data 0.041 (0.041) Elapsed 0m 0s (remain 0m 11s) Loss: 0.6002(0.6002) Grad Norm: 11.0759  LR: 9.4016e-04  \n",
      "Epoch: [8][39/40] Data 0.038 (0.044) Elapsed 0m 11s (remain 0m 0s) Loss: 1.5095(1.3043) Grad Norm: 8.0009  LR: 9.4016e-04  \n",
      "EVAL: [0/9] Data 0.024 (0.024) Elapsed 0m 0s (remain 0m 0s) \n"
     ]
    },
    {
     "name": "stderr",
     "output_type": "stream",
     "text": [
      "labels: [ 5  2  0  6 11]\n",
      "pred_labels: [ 5  5  0  0 11]\n",
      "Epoch 8 - avg_train_loss: 1.3043  lr: 9.4016e-04  time: 13s\n",
      "Epoch 8 - Score: 0.6031\n"
     ]
    },
    {
     "name": "stdout",
     "output_type": "stream",
     "text": [
      "EVAL: [8/9] Data 0.005 (0.022) Elapsed 0m 0s (remain 0m 0s) \n",
      "Epoch: [9][0/40] Data 0.043 (0.043) Elapsed 0m 0s (remain 0m 11s) Loss: 0.2866(0.2866) Grad Norm: 5.5317  LR: 9.2418e-04  \n",
      "Epoch: [9][39/40] Data 0.036 (0.042) Elapsed 0m 11s (remain 0m 0s) Loss: 1.0169(1.1336) Grad Norm: 16.5368  LR: 9.2418e-04  \n",
      "EVAL: [0/9] Data 0.024 (0.024) Elapsed 0m 0s (remain 0m 0s) \n"
     ]
    },
    {
     "name": "stderr",
     "output_type": "stream",
     "text": [
      "labels: [ 5  2  0  6 11]\n",
      "pred_labels: [ 3  1  0  0 11]\n",
      "Epoch 9 - avg_train_loss: 1.1336  lr: 9.2418e-04  time: 13s\n",
      "Epoch 9 - Score: 0.5496\n"
     ]
    },
    {
     "name": "stdout",
     "output_type": "stream",
     "text": [
      "EVAL: [8/9] Data 0.005 (0.022) Elapsed 0m 0s (remain 0m 0s) \n",
      "Epoch: [10][0/40] Data 0.047 (0.047) Elapsed 0m 0s (remain 0m 11s) Loss: 0.2872(0.2872) Grad Norm: 9.5020  LR: 9.0654e-04  \n",
      "Epoch: [10][39/40] Data 0.038 (0.042) Elapsed 0m 11s (remain 0m 0s) Loss: 2.0237(1.1336) Grad Norm: 9.8499  LR: 9.0654e-04  \n",
      "EVAL: [0/9] Data 0.024 (0.024) Elapsed 0m 0s (remain 0m 0s) \n"
     ]
    },
    {
     "name": "stderr",
     "output_type": "stream",
     "text": [
      "labels: [ 5  2  0  6 11]\n",
      "pred_labels: [ 5 12  0  0 11]\n",
      "Epoch 10 - avg_train_loss: 1.1336  lr: 9.0654e-04  time: 13s\n",
      "Epoch 10 - Score: 0.6107\n"
     ]
    },
    {
     "name": "stdout",
     "output_type": "stream",
     "text": [
      "EVAL: [8/9] Data 0.005 (0.022) Elapsed 0m 0s (remain 0m 0s) \n",
      "Epoch: [11][0/40] Data 0.042 (0.042) Elapsed 0m 0s (remain 0m 11s) Loss: 1.6314(1.6314) Grad Norm: 11.2757  LR: 8.8730e-04  \n",
      "Epoch: [11][39/40] Data 0.046 (0.044) Elapsed 0m 11s (remain 0m 0s) Loss: 0.7449(0.9757) Grad Norm: 19.6459  LR: 8.8730e-04  \n",
      "EVAL: [0/9] Data 0.026 (0.026) Elapsed 0m 0s (remain 0m 0s) \n"
     ]
    },
    {
     "name": "stderr",
     "output_type": "stream",
     "text": [
      "labels: [ 5  2  0  6 11]\n",
      "pred_labels: [ 2 11  7  0 11]\n",
      "Epoch 11 - avg_train_loss: 0.9757  lr: 8.8730e-04  time: 13s\n",
      "Epoch 11 - Score: 0.6489\n",
      "Epoch 11 - Save Best Score: 0.6489 Model\n"
     ]
    },
    {
     "name": "stdout",
     "output_type": "stream",
     "text": [
      "EVAL: [8/9] Data 0.004 (0.022) Elapsed 0m 0s (remain 0m 0s) \n",
      "Epoch: [12][0/40] Data 0.076 (0.076) Elapsed 0m 0s (remain 0m 13s) Loss: 0.3153(0.3153) Grad Norm: 8.2114  LR: 8.6655e-04  \n",
      "Epoch: [12][39/40] Data 0.051 (0.044) Elapsed 0m 11s (remain 0m 0s) Loss: 1.0366(0.9748) Grad Norm: 20.2440  LR: 8.6655e-04  \n",
      "EVAL: [0/9] Data 0.024 (0.024) Elapsed 0m 0s (remain 0m 0s) \n"
     ]
    },
    {
     "name": "stderr",
     "output_type": "stream",
     "text": [
      "labels: [ 5  2  0  6 11]\n",
      "pred_labels: [5 5 0 0 6]\n",
      "Epoch 12 - avg_train_loss: 0.9748  lr: 8.6655e-04  time: 13s\n",
      "Epoch 12 - Score: 0.5878\n"
     ]
    },
    {
     "name": "stdout",
     "output_type": "stream",
     "text": [
      "EVAL: [8/9] Data 0.004 (0.022) Elapsed 0m 0s (remain 0m 0s) \n",
      "Epoch: [13][0/40] Data 0.042 (0.042) Elapsed 0m 0s (remain 0m 11s) Loss: 0.1493(0.1493) Grad Norm: 5.1372  LR: 8.4436e-04  \n",
      "Epoch: [13][39/40] Data 0.042 (0.043) Elapsed 0m 11s (remain 0m 0s) Loss: 0.5541(1.1103) Grad Norm: 16.0422  LR: 8.4436e-04  \n",
      "EVAL: [0/9] Data 0.024 (0.024) Elapsed 0m 0s (remain 0m 0s) \n"
     ]
    },
    {
     "name": "stderr",
     "output_type": "stream",
     "text": [
      "labels: [ 5  2  0  6 11]\n",
      "pred_labels: [ 2  0  0  0 11]\n",
      "Epoch 13 - avg_train_loss: 1.1103  lr: 8.4436e-04  time: 13s\n",
      "Epoch 13 - Score: 0.5802\n"
     ]
    },
    {
     "name": "stdout",
     "output_type": "stream",
     "text": [
      "EVAL: [8/9] Data 0.005 (0.023) Elapsed 0m 0s (remain 0m 0s) \n",
      "Epoch: [14][0/40] Data 0.044 (0.044) Elapsed 0m 0s (remain 0m 11s) Loss: 0.1618(0.1618) Grad Norm: 8.6866  LR: 8.2081e-04  \n",
      "Epoch: [14][39/40] Data 0.042 (0.045) Elapsed 0m 11s (remain 0m 0s) Loss: 0.5053(0.8558) Grad Norm: 9.6157  LR: 8.2081e-04  \n",
      "EVAL: [0/9] Data 0.024 (0.024) Elapsed 0m 0s (remain 0m 0s) \n"
     ]
    },
    {
     "name": "stderr",
     "output_type": "stream",
     "text": [
      "labels: [ 5  2  0  6 11]\n",
      "pred_labels: [ 5  5  0  6 11]\n",
      "Epoch 14 - avg_train_loss: 0.8558  lr: 8.2081e-04  time: 13s\n",
      "Epoch 14 - Score: 0.5954\n"
     ]
    },
    {
     "name": "stdout",
     "output_type": "stream",
     "text": [
      "EVAL: [8/9] Data 0.004 (0.022) Elapsed 0m 0s (remain 0m 0s) \n",
      "Epoch: [15][0/40] Data 0.041 (0.041) Elapsed 0m 0s (remain 0m 11s) Loss: 0.9701(0.9701) Grad Norm: 3.4764  LR: 7.9601e-04  \n",
      "Epoch: [15][39/40] Data 0.043 (0.044) Elapsed 0m 11s (remain 0m 0s) Loss: 1.5049(0.8430) Grad Norm: 10.1165  LR: 7.9601e-04  \n",
      "EVAL: [0/9] Data 0.024 (0.024) Elapsed 0m 0s (remain 0m 0s) \n"
     ]
    },
    {
     "name": "stderr",
     "output_type": "stream",
     "text": [
      "labels: [ 5  2  0  6 11]\n",
      "pred_labels: [ 5  5  0  6 11]\n",
      "Epoch 15 - avg_train_loss: 0.8430  lr: 7.9601e-04  time: 13s\n",
      "Epoch 15 - Score: 0.6031\n"
     ]
    },
    {
     "name": "stdout",
     "output_type": "stream",
     "text": [
      "EVAL: [8/9] Data 0.005 (0.022) Elapsed 0m 0s (remain 0m 0s) \n",
      "Epoch: [16][0/40] Data 0.045 (0.045) Elapsed 0m 0s (remain 0m 11s) Loss: 0.0372(0.0372) Grad Norm: 1.7587  LR: 7.7006e-04  \n",
      "Epoch: [16][39/40] Data 0.036 (0.043) Elapsed 0m 11s (remain 0m 0s) Loss: 0.4775(0.6895) Grad Norm: 8.9986  LR: 7.7006e-04  \n",
      "EVAL: [0/9] Data 0.024 (0.024) Elapsed 0m 0s (remain 0m 0s) \n"
     ]
    },
    {
     "name": "stderr",
     "output_type": "stream",
     "text": [
      "labels: [ 5  2  0  6 11]\n",
      "pred_labels: [ 5  5  0  0 11]\n",
      "Epoch 16 - avg_train_loss: 0.6895  lr: 7.7006e-04  time: 13s\n",
      "Epoch 16 - Score: 0.6260\n"
     ]
    },
    {
     "name": "stdout",
     "output_type": "stream",
     "text": [
      "EVAL: [8/9] Data 0.005 (0.022) Elapsed 0m 0s (remain 0m 0s) \n",
      "Epoch: [17][0/40] Data 0.043 (0.043) Elapsed 0m 0s (remain 0m 11s) Loss: 0.2506(0.2506) Grad Norm: 4.6368  LR: 7.4304e-04  \n",
      "Epoch: [17][39/40] Data 0.036 (0.043) Elapsed 0m 11s (remain 0m 0s) Loss: 1.1324(0.7998) Grad Norm: 9.1484  LR: 7.4304e-04  \n",
      "EVAL: [0/9] Data 0.024 (0.024) Elapsed 0m 0s (remain 0m 0s) \n"
     ]
    },
    {
     "name": "stderr",
     "output_type": "stream",
     "text": [
      "labels: [ 5  2  0  6 11]\n",
      "pred_labels: [5 5 0 6 8]\n",
      "Epoch 17 - avg_train_loss: 0.7998  lr: 7.4304e-04  time: 13s\n",
      "Epoch 17 - Score: 0.6183\n"
     ]
    },
    {
     "name": "stdout",
     "output_type": "stream",
     "text": [
      "EVAL: [8/9] Data 0.005 (0.022) Elapsed 0m 0s (remain 0m 0s) \n",
      "Epoch: [18][0/40] Data 0.042 (0.042) Elapsed 0m 0s (remain 0m 11s) Loss: 0.2018(0.2018) Grad Norm: 8.4631  LR: 7.1508e-04  \n",
      "Epoch: [18][39/40] Data 0.049 (0.044) Elapsed 0m 11s (remain 0m 0s) Loss: 1.3139(0.7743) Grad Norm: 6.4553  LR: 7.1508e-04  \n",
      "EVAL: [0/9] Data 0.024 (0.024) Elapsed 0m 0s (remain 0m 0s) \n"
     ]
    },
    {
     "name": "stderr",
     "output_type": "stream",
     "text": [
      "labels: [ 5  2  0  6 11]\n",
      "pred_labels: [ 5  9  0  6 11]\n",
      "Epoch 18 - avg_train_loss: 0.7743  lr: 7.1508e-04  time: 13s\n",
      "Epoch 18 - Score: 0.6107\n"
     ]
    },
    {
     "name": "stdout",
     "output_type": "stream",
     "text": [
      "EVAL: [8/9] Data 0.004 (0.022) Elapsed 0m 0s (remain 0m 0s) \n",
      "Epoch: [19][0/40] Data 0.042 (0.042) Elapsed 0m 0s (remain 0m 11s) Loss: 1.2386(1.2386) Grad Norm: 7.5056  LR: 6.8627e-04  \n",
      "Epoch: [19][39/40] Data 0.044 (0.044) Elapsed 0m 11s (remain 0m 0s) Loss: 1.6568(0.8391) Grad Norm: 16.3887  LR: 6.8627e-04  \n",
      "EVAL: [0/9] Data 0.024 (0.024) Elapsed 0m 0s (remain 0m 0s) \n"
     ]
    },
    {
     "name": "stderr",
     "output_type": "stream",
     "text": [
      "labels: [ 5  2  0  6 11]\n",
      "pred_labels: [ 2  9  0  0 11]\n",
      "Epoch 19 - avg_train_loss: 0.8391  lr: 6.8627e-04  time: 13s\n",
      "Epoch 19 - Score: 0.6260\n"
     ]
    },
    {
     "name": "stdout",
     "output_type": "stream",
     "text": [
      "EVAL: [8/9] Data 0.005 (0.022) Elapsed 0m 0s (remain 0m 0s) \n",
      "Epoch: [20][0/40] Data 0.044 (0.044) Elapsed 0m 0s (remain 0m 11s) Loss: 0.8897(0.8897) Grad Norm: 4.6309  LR: 6.5674e-04  \n",
      "Epoch: [20][39/40] Data 0.045 (0.043) Elapsed 0m 11s (remain 0m 0s) Loss: 0.2957(0.7846) Grad Norm: 7.2107  LR: 6.5674e-04  \n",
      "EVAL: [0/9] Data 0.024 (0.024) Elapsed 0m 0s (remain 0m 0s) \n"
     ]
    },
    {
     "name": "stderr",
     "output_type": "stream",
     "text": [
      "labels: [ 5  2  0  6 11]\n",
      "pred_labels: [2 5 0 6 8]\n",
      "Epoch 20 - avg_train_loss: 0.7846  lr: 6.5674e-04  time: 13s\n",
      "Epoch 20 - Score: 0.6260\n"
     ]
    },
    {
     "name": "stdout",
     "output_type": "stream",
     "text": [
      "EVAL: [8/9] Data 0.005 (0.022) Elapsed 0m 0s (remain 0m 0s) \n",
      "Epoch: [21][0/40] Data 0.043 (0.043) Elapsed 0m 0s (remain 0m 11s) Loss: 1.3773(1.3773) Grad Norm: 7.0979  LR: 6.2661e-04  \n",
      "Epoch: [21][39/40] Data 0.037 (0.045) Elapsed 0m 12s (remain 0m 0s) Loss: 1.4967(0.6744) Grad Norm: 10.8716  LR: 6.2661e-04  \n",
      "EVAL: [0/9] Data 0.025 (0.025) Elapsed 0m 0s (remain 0m 0s) \n"
     ]
    },
    {
     "name": "stderr",
     "output_type": "stream",
     "text": [
      "labels: [ 5  2  0  6 11]\n",
      "pred_labels: [ 5  5  0  2 11]\n",
      "Epoch 21 - avg_train_loss: 0.6744  lr: 6.2661e-04  time: 13s\n",
      "Epoch 21 - Score: 0.6489\n"
     ]
    },
    {
     "name": "stdout",
     "output_type": "stream",
     "text": [
      "EVAL: [8/9] Data 0.005 (0.022) Elapsed 0m 0s (remain 0m 0s) \n",
      "Epoch: [22][0/40] Data 0.045 (0.045) Elapsed 0m 0s (remain 0m 11s) Loss: 0.3221(0.3221) Grad Norm: 12.7173  LR: 5.9598e-04  \n",
      "Epoch: [22][39/40] Data 0.039 (0.042) Elapsed 0m 11s (remain 0m 0s) Loss: 0.5365(0.9034) Grad Norm: 15.3444  LR: 5.9598e-04  \n",
      "EVAL: [0/9] Data 0.023 (0.023) Elapsed 0m 0s (remain 0m 0s) \n"
     ]
    },
    {
     "name": "stderr",
     "output_type": "stream",
     "text": [
      "labels: [ 5  2  0  6 11]\n",
      "pred_labels: [ 5 11  0  6 11]\n",
      "Epoch 22 - avg_train_loss: 0.9034  lr: 5.9598e-04  time: 13s\n",
      "Epoch 22 - Score: 0.6412\n"
     ]
    },
    {
     "name": "stdout",
     "output_type": "stream",
     "text": [
      "EVAL: [8/9] Data 0.004 (0.022) Elapsed 0m 0s (remain 0m 0s) \n",
      "Epoch: [23][0/40] Data 0.047 (0.047) Elapsed 0m 0s (remain 0m 11s) Loss: 1.6455(1.6455) Grad Norm: 22.0769  LR: 5.6498e-04  \n",
      "Epoch: [23][39/40] Data 0.044 (0.044) Elapsed 0m 11s (remain 0m 0s) Loss: 0.0755(0.7698) Grad Norm: 2.9308  LR: 5.6498e-04  \n",
      "EVAL: [0/9] Data 0.025 (0.025) Elapsed 0m 0s (remain 0m 0s) \n"
     ]
    },
    {
     "name": "stderr",
     "output_type": "stream",
     "text": [
      "labels: [ 5  2  0  6 11]\n",
      "pred_labels: [ 5  5  0  0 11]\n",
      "Epoch 23 - avg_train_loss: 0.7698  lr: 5.6498e-04  time: 13s\n",
      "Epoch 23 - Score: 0.6412\n"
     ]
    },
    {
     "name": "stdout",
     "output_type": "stream",
     "text": [
      "EVAL: [8/9] Data 0.004 (0.022) Elapsed 0m 0s (remain 0m 0s) \n",
      "Epoch: [24][0/40] Data 0.039 (0.039) Elapsed 0m 0s (remain 0m 11s) Loss: 0.0353(0.0353) Grad Norm: 2.1761  LR: 5.3373e-04  \n",
      "Epoch: [24][39/40] Data 0.043 (0.044) Elapsed 0m 11s (remain 0m 0s) Loss: 0.0920(0.5391) Grad Norm: 2.2962  LR: 5.3373e-04  \n",
      "EVAL: [0/9] Data 0.026 (0.026) Elapsed 0m 0s (remain 0m 0s) \n"
     ]
    },
    {
     "name": "stderr",
     "output_type": "stream",
     "text": [
      "labels: [ 5  2  0  6 11]\n",
      "pred_labels: [ 5  5  0  0 11]\n",
      "Epoch 24 - avg_train_loss: 0.5391  lr: 5.3373e-04  time: 13s\n",
      "Epoch 24 - Score: 0.6794\n",
      "Epoch 24 - Save Best Score: 0.6794 Model\n"
     ]
    },
    {
     "name": "stdout",
     "output_type": "stream",
     "text": [
      "EVAL: [8/9] Data 0.005 (0.022) Elapsed 0m 0s (remain 0m 0s) \n",
      "Epoch: [25][0/40] Data 0.041 (0.041) Elapsed 0m 0s (remain 0m 12s) Loss: 1.1775(1.1775) Grad Norm: 25.4158  LR: 5.0236e-04  \n",
      "Epoch: [25][39/40] Data 0.045 (0.043) Elapsed 0m 11s (remain 0m 0s) Loss: 0.9887(0.5061) Grad Norm: 5.9039  LR: 5.0236e-04  \n",
      "EVAL: [0/9] Data 0.025 (0.025) Elapsed 0m 0s (remain 0m 0s) \n"
     ]
    },
    {
     "name": "stderr",
     "output_type": "stream",
     "text": [
      "labels: [ 5  2  0  6 11]\n",
      "pred_labels: [ 5  5  0  0 11]\n",
      "Epoch 25 - avg_train_loss: 0.5061  lr: 5.0236e-04  time: 13s\n",
      "Epoch 25 - Score: 0.6489\n"
     ]
    },
    {
     "name": "stdout",
     "output_type": "stream",
     "text": [
      "EVAL: [8/9] Data 0.005 (0.022) Elapsed 0m 0s (remain 0m 0s) \n",
      "Epoch: [26][0/40] Data 0.041 (0.041) Elapsed 0m 0s (remain 0m 11s) Loss: 1.9502(1.9502) Grad Norm: 10.8086  LR: 4.7099e-04  \n",
      "Epoch: [26][39/40] Data 0.039 (0.044) Elapsed 0m 11s (remain 0m 0s) Loss: 0.1007(0.6630) Grad Norm: 8.4674  LR: 4.7099e-04  \n",
      "EVAL: [0/9] Data 0.025 (0.025) Elapsed 0m 0s (remain 0m 0s) \n"
     ]
    },
    {
     "name": "stderr",
     "output_type": "stream",
     "text": [
      "labels: [ 5  2  0  6 11]\n",
      "pred_labels: [ 5  5  0  6 11]\n",
      "Epoch 26 - avg_train_loss: 0.6630  lr: 4.7099e-04  time: 13s\n",
      "Epoch 26 - Score: 0.6947\n",
      "Epoch 26 - Save Best Score: 0.6947 Model\n"
     ]
    },
    {
     "name": "stdout",
     "output_type": "stream",
     "text": [
      "EVAL: [8/9] Data 0.005 (0.022) Elapsed 0m 0s (remain 0m 0s) \n",
      "Epoch: [27][0/40] Data 0.037 (0.037) Elapsed 0m 0s (remain 0m 11s) Loss: 0.9879(0.9879) Grad Norm: 4.2005  LR: 4.3974e-04  \n",
      "Epoch: [27][39/40] Data 0.046 (0.043) Elapsed 0m 11s (remain 0m 0s) Loss: 1.2306(0.5774) Grad Norm: 7.8810  LR: 4.3974e-04  \n",
      "EVAL: [0/9] Data 0.025 (0.025) Elapsed 0m 0s (remain 0m 0s) \n"
     ]
    },
    {
     "name": "stderr",
     "output_type": "stream",
     "text": [
      "labels: [ 5  2  0  6 11]\n",
      "pred_labels: [ 5  5  0  6 11]\n",
      "Epoch 27 - avg_train_loss: 0.5774  lr: 4.3974e-04  time: 13s\n",
      "Epoch 27 - Score: 0.6718\n"
     ]
    },
    {
     "name": "stdout",
     "output_type": "stream",
     "text": [
      "EVAL: [8/9] Data 0.005 (0.024) Elapsed 0m 0s (remain 0m 0s) \n",
      "Epoch: [28][0/40] Data 0.044 (0.044) Elapsed 0m 0s (remain 0m 12s) Loss: 1.0694(1.0694) Grad Norm: 4.6127  LR: 4.0874e-04  \n",
      "Epoch: [28][39/40] Data 0.046 (0.046) Elapsed 0m 12s (remain 0m 0s) Loss: 0.2354(0.6837) Grad Norm: 7.3292  LR: 4.0874e-04  \n",
      "EVAL: [0/9] Data 0.023 (0.023) Elapsed 0m 0s (remain 0m 0s) \n"
     ]
    },
    {
     "name": "stderr",
     "output_type": "stream",
     "text": [
      "labels: [ 5  2  0  6 11]\n",
      "pred_labels: [ 5  5  0  6 11]\n",
      "Epoch 28 - avg_train_loss: 0.6837  lr: 4.0874e-04  time: 13s\n",
      "Epoch 28 - Score: 0.7176\n",
      "Epoch 28 - Save Best Score: 0.7176 Model\n"
     ]
    },
    {
     "name": "stdout",
     "output_type": "stream",
     "text": [
      "EVAL: [8/9] Data 0.005 (0.022) Elapsed 0m 0s (remain 0m 0s) \n",
      "Epoch: [29][0/40] Data 0.043 (0.043) Elapsed 0m 0s (remain 0m 12s) Loss: 0.9353(0.9353) Grad Norm: 4.7452  LR: 3.7811e-04  \n",
      "Epoch: [29][39/40] Data 0.040 (0.043) Elapsed 0m 11s (remain 0m 0s) Loss: 1.1818(0.6303) Grad Norm: 4.8077  LR: 3.7811e-04  \n",
      "EVAL: [0/9] Data 0.024 (0.024) Elapsed 0m 0s (remain 0m 0s) \n"
     ]
    },
    {
     "name": "stderr",
     "output_type": "stream",
     "text": [
      "labels: [ 5  2  0  6 11]\n",
      "pred_labels: [ 5  5  0  6 11]\n",
      "Epoch 29 - avg_train_loss: 0.6303  lr: 3.7811e-04  time: 13s\n",
      "Epoch 29 - Score: 0.7023\n"
     ]
    },
    {
     "name": "stdout",
     "output_type": "stream",
     "text": [
      "EVAL: [8/9] Data 0.005 (0.022) Elapsed 0m 0s (remain 0m 0s) \n",
      "Epoch: [30][0/40] Data 0.046 (0.046) Elapsed 0m 0s (remain 0m 11s) Loss: 0.8893(0.8893) Grad Norm: 3.9273  LR: 3.4797e-04  \n",
      "Epoch: [30][39/40] Data 0.042 (0.043) Elapsed 0m 11s (remain 0m 0s) Loss: 1.1024(0.5572) Grad Norm: 6.0472  LR: 3.4797e-04  \n",
      "EVAL: [0/9] Data 0.024 (0.024) Elapsed 0m 0s (remain 0m 0s) \n"
     ]
    },
    {
     "name": "stderr",
     "output_type": "stream",
     "text": [
      "labels: [ 5  2  0  6 11]\n",
      "pred_labels: [ 5  5  0  6 11]\n",
      "Epoch 30 - avg_train_loss: 0.5572  lr: 3.4797e-04  time: 13s\n",
      "Epoch 30 - Score: 0.7252\n",
      "Epoch 30 - Save Best Score: 0.7252 Model\n"
     ]
    },
    {
     "name": "stdout",
     "output_type": "stream",
     "text": [
      "EVAL: [8/9] Data 0.005 (0.022) Elapsed 0m 0s (remain 0m 0s) \n",
      "Epoch: [31][0/40] Data 0.046 (0.046) Elapsed 0m 0s (remain 0m 12s) Loss: 0.0718(0.0718) Grad Norm: 8.7284  LR: 3.1843e-04  \n",
      "Epoch: [31][39/40] Data 0.044 (0.043) Elapsed 0m 11s (remain 0m 0s) Loss: 1.0075(0.5461) Grad Norm: 5.4208  LR: 3.1843e-04  \n",
      "EVAL: [0/9] Data 0.024 (0.024) Elapsed 0m 0s (remain 0m 0s) \n"
     ]
    },
    {
     "name": "stderr",
     "output_type": "stream",
     "text": [
      "labels: [ 5  2  0  6 11]\n",
      "pred_labels: [ 5  5  0  0 11]\n",
      "Epoch 31 - avg_train_loss: 0.5461  lr: 3.1843e-04  time: 13s\n",
      "Epoch 31 - Score: 0.6947\n"
     ]
    },
    {
     "name": "stdout",
     "output_type": "stream",
     "text": [
      "EVAL: [8/9] Data 0.004 (0.022) Elapsed 0m 0s (remain 0m 0s) \n",
      "Epoch: [32][0/40] Data 0.047 (0.047) Elapsed 0m 0s (remain 0m 11s) Loss: 0.9101(0.9101) Grad Norm: 3.3327  LR: 2.8962e-04  \n",
      "Epoch: [32][39/40] Data 0.043 (0.044) Elapsed 0m 11s (remain 0m 0s) Loss: 1.0335(0.5142) Grad Norm: 7.5987  LR: 2.8962e-04  \n",
      "EVAL: [0/9] Data 0.025 (0.025) Elapsed 0m 0s (remain 0m 0s) \n"
     ]
    },
    {
     "name": "stderr",
     "output_type": "stream",
     "text": [
      "labels: [ 5  2  0  6 11]\n",
      "pred_labels: [ 5  5  0  6 11]\n",
      "Epoch 32 - avg_train_loss: 0.5142  lr: 2.8962e-04  time: 13s\n",
      "Epoch 32 - Score: 0.7023\n"
     ]
    },
    {
     "name": "stdout",
     "output_type": "stream",
     "text": [
      "EVAL: [8/9] Data 0.004 (0.022) Elapsed 0m 0s (remain 0m 0s) \n",
      "Epoch: [33][0/40] Data 0.050 (0.050) Elapsed 0m 0s (remain 0m 11s) Loss: 0.0019(0.0019) Grad Norm: 0.0810  LR: 2.6165e-04  \n",
      "Epoch: [33][39/40] Data 0.042 (0.044) Elapsed 0m 11s (remain 0m 0s) Loss: 0.0676(0.3699) Grad Norm: 2.8680  LR: 2.6165e-04  \n",
      "EVAL: [0/9] Data 0.024 (0.024) Elapsed 0m 0s (remain 0m 0s) \n"
     ]
    },
    {
     "name": "stderr",
     "output_type": "stream",
     "text": [
      "labels: [ 5  2  0  6 11]\n",
      "pred_labels: [ 5  5  0  6 11]\n",
      "Epoch 33 - avg_train_loss: 0.3699  lr: 2.6165e-04  time: 13s\n",
      "Epoch 33 - Score: 0.7405\n",
      "Epoch 33 - Save Best Score: 0.7405 Model\n"
     ]
    },
    {
     "name": "stdout",
     "output_type": "stream",
     "text": [
      "EVAL: [8/9] Data 0.005 (0.022) Elapsed 0m 0s (remain 0m 0s) \n",
      "Epoch: [34][0/40] Data 0.042 (0.042) Elapsed 0m 0s (remain 0m 11s) Loss: 0.0047(0.0047) Grad Norm: 0.1321  LR: 2.3463e-04  \n",
      "Epoch: [34][39/40] Data 0.040 (0.042) Elapsed 0m 11s (remain 0m 0s) Loss: 1.2017(0.4954) Grad Norm: 6.2410  LR: 2.3463e-04  \n",
      "EVAL: [0/9] Data 0.024 (0.024) Elapsed 0m 0s (remain 0m 0s) \n"
     ]
    },
    {
     "name": "stderr",
     "output_type": "stream",
     "text": [
      "labels: [ 5  2  0  6 11]\n",
      "pred_labels: [ 5  5  0  6 11]\n",
      "Epoch 34 - avg_train_loss: 0.4954  lr: 2.3463e-04  time: 12s\n",
      "Epoch 34 - Score: 0.7099\n"
     ]
    },
    {
     "name": "stdout",
     "output_type": "stream",
     "text": [
      "EVAL: [8/9] Data 0.004 (0.022) Elapsed 0m 0s (remain 0m 0s) \n",
      "Epoch: [35][0/40] Data 0.042 (0.042) Elapsed 0m 0s (remain 0m 11s) Loss: 1.0926(1.0926) Grad Norm: 7.0651  LR: 2.0866e-04  \n",
      "Epoch: [35][39/40] Data 0.045 (0.043) Elapsed 0m 11s (remain 0m 0s) Loss: 0.0033(0.5342) Grad Norm: 0.2141  LR: 2.0866e-04  \n",
      "EVAL: [0/9] Data 0.024 (0.024) Elapsed 0m 0s (remain 0m 0s) \n"
     ]
    },
    {
     "name": "stderr",
     "output_type": "stream",
     "text": [
      "labels: [ 5  2  0  6 11]\n",
      "pred_labels: [ 5  5  0  6 11]\n",
      "Epoch 35 - avg_train_loss: 0.5342  lr: 2.0866e-04  time: 12s\n",
      "Epoch 35 - Score: 0.7099\n"
     ]
    },
    {
     "name": "stdout",
     "output_type": "stream",
     "text": [
      "EVAL: [8/9] Data 0.005 (0.022) Elapsed 0m 0s (remain 0m 0s) \n",
      "Epoch: [36][0/40] Data 0.043 (0.043) Elapsed 0m 0s (remain 0m 11s) Loss: 0.0018(0.0018) Grad Norm: 0.1700  LR: 1.8385e-04  \n",
      "Epoch: [36][39/40] Data 0.041 (0.042) Elapsed 0m 11s (remain 0m 0s) Loss: 0.7603(0.3474) Grad Norm: 4.2639  LR: 1.8385e-04  \n",
      "EVAL: [0/9] Data 0.024 (0.024) Elapsed 0m 0s (remain 0m 0s) \n"
     ]
    },
    {
     "name": "stderr",
     "output_type": "stream",
     "text": [
      "labels: [ 5  2  0  6 11]\n",
      "pred_labels: [ 5  5  0  6 11]\n",
      "Epoch 36 - avg_train_loss: 0.3474  lr: 1.8385e-04  time: 12s\n",
      "Epoch 36 - Score: 0.7099\n"
     ]
    },
    {
     "name": "stdout",
     "output_type": "stream",
     "text": [
      "EVAL: [8/9] Data 0.004 (0.022) Elapsed 0m 0s (remain 0m 0s) \n",
      "Epoch: [37][0/40] Data 0.045 (0.045) Elapsed 0m 0s (remain 0m 11s) Loss: 0.0022(0.0022) Grad Norm: 0.0984  LR: 1.6030e-04  \n",
      "Epoch: [37][39/40] Data 0.045 (0.044) Elapsed 0m 11s (remain 0m 0s) Loss: 0.0025(0.4286) Grad Norm: 0.1355  LR: 1.6030e-04  \n",
      "EVAL: [0/9] Data 0.027 (0.027) Elapsed 0m 0s (remain 0m 0s) \n"
     ]
    },
    {
     "name": "stderr",
     "output_type": "stream",
     "text": [
      "labels: [ 5  2  0  6 11]\n",
      "pred_labels: [ 5  5  0  6 11]\n",
      "Epoch 37 - avg_train_loss: 0.4286  lr: 1.6030e-04  time: 13s\n",
      "Epoch 37 - Score: 0.7023\n"
     ]
    },
    {
     "name": "stdout",
     "output_type": "stream",
     "text": [
      "EVAL: [8/9] Data 0.005 (0.023) Elapsed 0m 0s (remain 0m 0s) \n",
      "Epoch: [38][0/40] Data 0.042 (0.042) Elapsed 0m 0s (remain 0m 11s) Loss: 0.0092(0.0092) Grad Norm: 1.3800  LR: 1.3809e-04  \n",
      "Epoch: [38][39/40] Data 0.039 (0.044) Elapsed 0m 11s (remain 0m 0s) Loss: 1.0131(0.4492) Grad Norm: 8.0954  LR: 1.3809e-04  \n",
      "EVAL: [0/9] Data 0.028 (0.028) Elapsed 0m 0s (remain 0m 0s) \n"
     ]
    },
    {
     "name": "stderr",
     "output_type": "stream",
     "text": [
      "labels: [ 5  2  0  6 11]\n",
      "pred_labels: [ 5  5  0  6 11]\n",
      "Epoch 38 - avg_train_loss: 0.4492  lr: 1.3809e-04  time: 13s\n",
      "Epoch 38 - Score: 0.7099\n"
     ]
    },
    {
     "name": "stdout",
     "output_type": "stream",
     "text": [
      "EVAL: [8/9] Data 0.004 (0.022) Elapsed 0m 0s (remain 0m 0s) \n",
      "Epoch: [39][0/40] Data 0.039 (0.039) Elapsed 0m 0s (remain 0m 11s) Loss: 0.0009(0.0009) Grad Norm: 0.0230  LR: 1.1732e-04  \n",
      "Epoch: [39][39/40] Data 0.042 (0.044) Elapsed 0m 11s (remain 0m 0s) Loss: 0.6189(0.4915) Grad Norm: 4.5300  LR: 1.1732e-04  \n",
      "EVAL: [0/9] Data 0.024 (0.024) Elapsed 0m 0s (remain 0m 0s) \n"
     ]
    },
    {
     "name": "stderr",
     "output_type": "stream",
     "text": [
      "labels: [ 5  2  0  6 11]\n",
      "pred_labels: [ 5  5  0  6 11]\n",
      "Epoch 39 - avg_train_loss: 0.4915  lr: 1.1732e-04  time: 13s\n",
      "Epoch 39 - Score: 0.7405\n"
     ]
    },
    {
     "name": "stdout",
     "output_type": "stream",
     "text": [
      "EVAL: [8/9] Data 0.005 (0.022) Elapsed 0m 0s (remain 0m 0s) \n",
      "Epoch: [40][0/40] Data 0.050 (0.050) Elapsed 0m 0s (remain 0m 12s) Loss: 0.0033(0.0033) Grad Norm: 0.1837  LR: 9.8058e-05  \n",
      "Epoch: [40][39/40] Data 0.044 (0.043) Elapsed 0m 11s (remain 0m 0s) Loss: 0.9661(0.4223) Grad Norm: 6.8528  LR: 9.8058e-05  \n",
      "EVAL: [0/9] Data 0.024 (0.024) Elapsed 0m 0s (remain 0m 0s) \n"
     ]
    },
    {
     "name": "stderr",
     "output_type": "stream",
     "text": [
      "labels: [ 5  2  0  6 11]\n",
      "pred_labels: [ 5  5  0  6 11]\n",
      "Epoch 40 - avg_train_loss: 0.4223  lr: 9.8058e-05  time: 13s\n",
      "Epoch 40 - Score: 0.6947\n"
     ]
    },
    {
     "name": "stdout",
     "output_type": "stream",
     "text": [
      "EVAL: [8/9] Data 0.005 (0.022) Elapsed 0m 0s (remain 0m 0s) \n",
      "Epoch: [41][0/40] Data 0.050 (0.050) Elapsed 0m 0s (remain 0m 11s) Loss: 0.0051(0.0051) Grad Norm: 0.4231  LR: 8.0390e-05  \n",
      "Epoch: [41][39/40] Data 0.045 (0.044) Elapsed 0m 11s (remain 0m 0s) Loss: 0.0069(0.3494) Grad Norm: 0.9136  LR: 8.0390e-05  \n",
      "EVAL: [0/9] Data 0.024 (0.024) Elapsed 0m 0s (remain 0m 0s) \n"
     ]
    },
    {
     "name": "stderr",
     "output_type": "stream",
     "text": [
      "labels: [ 5  2  0  6 11]\n",
      "pred_labels: [ 5  5  0  6 11]\n",
      "Epoch 41 - avg_train_loss: 0.3494  lr: 8.0390e-05  time: 13s\n",
      "Epoch 41 - Score: 0.7252\n"
     ]
    },
    {
     "name": "stdout",
     "output_type": "stream",
     "text": [
      "EVAL: [8/9] Data 0.005 (0.022) Elapsed 0m 0s (remain 0m 0s) \n",
      "Epoch: [42][0/40] Data 0.040 (0.040) Elapsed 0m 0s (remain 0m 11s) Loss: 0.0010(0.0010) Grad Norm: 0.0250  LR: 6.4381e-05  \n",
      "Epoch: [42][39/40] Data 0.052 (0.044) Elapsed 0m 11s (remain 0m 0s) Loss: 0.7100(0.4607) Grad Norm: 3.8785  LR: 6.4381e-05  \n",
      "EVAL: [0/9] Data 0.025 (0.025) Elapsed 0m 0s (remain 0m 0s) \n"
     ]
    },
    {
     "name": "stderr",
     "output_type": "stream",
     "text": [
      "labels: [ 5  2  0  6 11]\n",
      "pred_labels: [ 5  5  0  6 11]\n",
      "Epoch 42 - avg_train_loss: 0.4607  lr: 6.4381e-05  time: 13s\n",
      "Epoch 42 - Score: 0.7252\n"
     ]
    },
    {
     "name": "stdout",
     "output_type": "stream",
     "text": [
      "EVAL: [8/9] Data 0.004 (0.022) Elapsed 0m 0s (remain 0m 0s) \n",
      "Epoch: [43][0/40] Data 0.047 (0.047) Elapsed 0m 0s (remain 0m 11s) Loss: 0.0047(0.0047) Grad Norm: 0.1715  LR: 5.0093e-05  \n",
      "Epoch: [43][39/40] Data 0.042 (0.043) Elapsed 0m 11s (remain 0m 0s) Loss: 0.7943(0.4278) Grad Norm: 3.5517  LR: 5.0093e-05  \n",
      "EVAL: [0/9] Data 0.024 (0.024) Elapsed 0m 0s (remain 0m 0s) \n"
     ]
    },
    {
     "name": "stderr",
     "output_type": "stream",
     "text": [
      "labels: [ 5  2  0  6 11]\n",
      "pred_labels: [ 5  5  0  6 11]\n",
      "Epoch 43 - avg_train_loss: 0.4278  lr: 5.0093e-05  time: 13s\n",
      "Epoch 43 - Score: 0.7099\n"
     ]
    },
    {
     "name": "stdout",
     "output_type": "stream",
     "text": [
      "EVAL: [8/9] Data 0.004 (0.022) Elapsed 0m 0s (remain 0m 0s) \n",
      "Epoch: [44][0/40] Data 0.040 (0.040) Elapsed 0m 0s (remain 0m 11s) Loss: 0.6431(0.6431) Grad Norm: 3.8642  LR: 3.7578e-05  \n",
      "Epoch: [44][39/40] Data 0.037 (0.042) Elapsed 0m 11s (remain 0m 0s) Loss: 0.8785(0.4122) Grad Norm: 9.6050  LR: 3.7578e-05  \n",
      "EVAL: [0/9] Data 0.023 (0.023) Elapsed 0m 0s (remain 0m 0s) \n"
     ]
    },
    {
     "name": "stderr",
     "output_type": "stream",
     "text": [
      "labels: [ 5  2  0  6 11]\n",
      "pred_labels: [ 5  5  0  6 11]\n",
      "Epoch 44 - avg_train_loss: 0.4122  lr: 3.7578e-05  time: 12s\n",
      "Epoch 44 - Score: 0.6870\n"
     ]
    },
    {
     "name": "stdout",
     "output_type": "stream",
     "text": [
      "EVAL: [8/9] Data 0.005 (0.022) Elapsed 0m 0s (remain 0m 0s) \n",
      "Epoch: [45][0/40] Data 0.042 (0.042) Elapsed 0m 0s (remain 0m 11s) Loss: 0.7314(0.7314) Grad Norm: 3.3955  LR: 2.6881e-05  \n",
      "Epoch: [45][39/40] Data 0.044 (0.044) Elapsed 0m 11s (remain 0m 0s) Loss: 0.6272(0.3941) Grad Norm: 2.2868  LR: 2.6881e-05  \n",
      "EVAL: [0/9] Data 0.024 (0.024) Elapsed 0m 0s (remain 0m 0s) \n"
     ]
    },
    {
     "name": "stderr",
     "output_type": "stream",
     "text": [
      "labels: [ 5  2  0  6 11]\n",
      "pred_labels: [ 5  5  0  0 11]\n",
      "Epoch 45 - avg_train_loss: 0.3941  lr: 2.6881e-05  time: 13s\n",
      "Epoch 45 - Score: 0.6870\n"
     ]
    },
    {
     "name": "stdout",
     "output_type": "stream",
     "text": [
      "EVAL: [8/9] Data 0.005 (0.022) Elapsed 0m 0s (remain 0m 0s) \n",
      "Epoch: [46][0/40] Data 0.050 (0.050) Elapsed 0m 0s (remain 0m 11s) Loss: 0.0246(0.0246) Grad Norm: 2.8619  LR: 1.8039e-05  \n",
      "Epoch: [46][39/40] Data 0.046 (0.043) Elapsed 0m 11s (remain 0m 0s) Loss: 0.0019(0.0070) Grad Norm: 0.0555  LR: 1.8039e-05  \n",
      "EVAL: [0/9] Data 0.024 (0.024) Elapsed 0m 0s (remain 0m 0s) \n"
     ]
    },
    {
     "name": "stderr",
     "output_type": "stream",
     "text": [
      "labels: [ 5  2  0  6 11]\n",
      "pred_labels: [ 5  5  0  6 11]\n",
      "Epoch 46 - avg_train_loss: 0.0070  lr: 1.8039e-05  time: 12s\n",
      "Epoch 46 - Score: 0.7099\n"
     ]
    },
    {
     "name": "stdout",
     "output_type": "stream",
     "text": [
      "EVAL: [8/9] Data 0.004 (0.022) Elapsed 0m 0s (remain 0m 0s) \n",
      "Epoch: [47][0/40] Data 0.044 (0.044) Elapsed 0m 0s (remain 0m 11s) Loss: 0.0016(0.0016) Grad Norm: 0.0687  LR: 1.1073e-05  \n",
      "Epoch: [47][39/40] Data 0.050 (0.043) Elapsed 0m 11s (remain 0m 0s) Loss: 0.0019(0.0026) Grad Norm: 0.2420  LR: 1.1073e-05  \n",
      "EVAL: [0/9] Data 0.023 (0.023) Elapsed 0m 0s (remain 0m 0s) \n"
     ]
    },
    {
     "name": "stderr",
     "output_type": "stream",
     "text": [
      "labels: [ 5  2  0  6 11]\n",
      "pred_labels: [ 5  5  0  6 11]\n",
      "Epoch 47 - avg_train_loss: 0.0026  lr: 1.1073e-05  time: 12s\n",
      "Epoch 47 - Score: 0.7099\n"
     ]
    },
    {
     "name": "stdout",
     "output_type": "stream",
     "text": [
      "EVAL: [8/9] Data 0.005 (0.022) Elapsed 0m 0s (remain 0m 0s) \n",
      "Epoch: [48][0/40] Data 0.053 (0.053) Elapsed 0m 0s (remain 0m 11s) Loss: 0.0069(0.0069) Grad Norm: 0.7950  LR: 5.9882e-06  \n",
      "Epoch: [48][39/40] Data 0.043 (0.043) Elapsed 0m 11s (remain 0m 0s) Loss: 0.0011(0.0068) Grad Norm: 0.0492  LR: 5.9882e-06  \n",
      "EVAL: [0/9] Data 0.026 (0.026) Elapsed 0m 0s (remain 0m 0s) \n"
     ]
    },
    {
     "name": "stderr",
     "output_type": "stream",
     "text": [
      "labels: [ 5  2  0  6 11]\n",
      "pred_labels: [ 5  5  0  6 11]\n",
      "Epoch 48 - avg_train_loss: 0.0068  lr: 5.9882e-06  time: 12s\n",
      "Epoch 48 - Score: 0.7099\n"
     ]
    },
    {
     "name": "stdout",
     "output_type": "stream",
     "text": [
      "EVAL: [8/9] Data 0.004 (0.022) Elapsed 0m 0s (remain 0m 0s) \n",
      "Epoch: [49][0/40] Data 0.036 (0.036) Elapsed 0m 0s (remain 0m 10s) Loss: 0.0008(0.0008) Grad Norm: 0.0413  LR: 2.7534e-06  \n",
      "Epoch: [49][39/40] Data 0.040 (0.044) Elapsed 0m 11s (remain 0m 0s) Loss: 0.0020(0.0033) Grad Norm: 0.0597  LR: 2.7534e-06  \n",
      "EVAL: [0/9] Data 0.025 (0.025) Elapsed 0m 0s (remain 0m 0s) \n"
     ]
    },
    {
     "name": "stderr",
     "output_type": "stream",
     "text": [
      "labels: [ 5  2  0  6 11]\n",
      "pred_labels: [ 5  5  0  6 11]\n",
      "Epoch 49 - avg_train_loss: 0.0033  lr: 2.7534e-06  time: 13s\n",
      "Epoch 49 - Score: 0.7099\n"
     ]
    },
    {
     "name": "stdout",
     "output_type": "stream",
     "text": [
      "EVAL: [8/9] Data 0.005 (0.022) Elapsed 0m 0s (remain 0m 0s) \n",
      "Epoch: [50][0/40] Data 0.043 (0.043) Elapsed 0m 0s (remain 0m 11s) Loss: 0.0063(0.0063) Grad Norm: 0.4997  LR: 1.2467e-06  \n",
      "Epoch: [50][39/40] Data 0.043 (0.043) Elapsed 0m 11s (remain 0m 0s) Loss: 0.0077(0.0041) Grad Norm: 0.4507  LR: 1.2467e-06  \n",
      "EVAL: [0/9] Data 0.024 (0.024) Elapsed 0m 0s (remain 0m 0s) \n"
     ]
    },
    {
     "name": "stderr",
     "output_type": "stream",
     "text": [
      "labels: [ 5  2  0  6 11]\n",
      "pred_labels: [ 5  5  0  6 11]\n",
      "Epoch 50 - avg_train_loss: 0.0041  lr: 1.2467e-06  time: 12s\n",
      "Epoch 50 - Score: 0.7023\n",
      "==================== fold: 4, seed: 1 training ====================\n"
     ]
    },
    {
     "name": "stdout",
     "output_type": "stream",
     "text": [
      "EVAL: [8/9] Data 0.005 (0.022) Elapsed 0m 0s (remain 0m 0s) \n",
      "Epoch: [1][0/40] Data 0.044 (0.044) Elapsed 0m 0s (remain 0m 10s) Loss: 2.6232(2.6232) Grad Norm: nan  LR: 1.0000e-03  \n",
      "Epoch: [1][39/40] Data 0.039 (0.043) Elapsed 0m 11s (remain 0m 0s) Loss: 2.4453(2.4901) Grad Norm: 9.1009  LR: 1.0000e-03  \n",
      "EVAL: [0/9] Data 0.023 (0.023) Elapsed 0m 0s (remain 0m 0s) \n"
     ]
    },
    {
     "name": "stderr",
     "output_type": "stream",
     "text": [
      "labels: [11  4  3 12  3]\n",
      "pred_labels: [2 7 2 2 0]\n",
      "Epoch 1 - avg_train_loss: 2.4901  lr: 1.0000e-03  time: 13s\n",
      "Epoch 1 - Score: 0.3000\n",
      "Epoch 1 - Save Best Score: 0.3000 Model\n"
     ]
    },
    {
     "name": "stdout",
     "output_type": "stream",
     "text": [
      "EVAL: [8/9] Data 0.003 (0.021) Elapsed 0m 0s (remain 0m 0s) \n",
      "Epoch: [2][0/40] Data 0.044 (0.044) Elapsed 0m 0s (remain 0m 12s) Loss: 2.3014(2.3014) Grad Norm: 12.3559  LR: 9.9803e-04  \n",
      "Epoch: [2][39/40] Data 0.039 (0.043) Elapsed 0m 11s (remain 0m 0s) Loss: 2.1932(2.1837) Grad Norm: 15.0715  LR: 9.9803e-04  \n",
      "EVAL: [0/9] Data 0.025 (0.025) Elapsed 0m 0s (remain 0m 0s) \n"
     ]
    },
    {
     "name": "stderr",
     "output_type": "stream",
     "text": [
      "labels: [11  4  3 12  3]\n",
      "pred_labels: [2 7 7 2 0]\n",
      "Epoch 2 - avg_train_loss: 2.1837  lr: 9.9803e-04  time: 13s\n",
      "Epoch 2 - Score: 0.3923\n",
      "Epoch 2 - Save Best Score: 0.3923 Model\n"
     ]
    },
    {
     "name": "stdout",
     "output_type": "stream",
     "text": [
      "EVAL: [8/9] Data 0.004 (0.022) Elapsed 0m 0s (remain 0m 0s) \n",
      "Epoch: [3][0/40] Data 0.046 (0.046) Elapsed 0m 0s (remain 0m 12s) Loss: 2.1611(2.1611) Grad Norm: 7.8506  LR: 9.9312e-04  \n",
      "Epoch: [3][39/40] Data 0.047 (0.043) Elapsed 0m 11s (remain 0m 0s) Loss: 2.2105(1.8726) Grad Norm: 9.9368  LR: 9.9312e-04  \n",
      "EVAL: [0/9] Data 0.027 (0.027) Elapsed 0m 0s (remain 0m 0s) \n"
     ]
    },
    {
     "name": "stderr",
     "output_type": "stream",
     "text": [
      "labels: [11  4  3 12  3]\n",
      "pred_labels: [12  4  7 12  0]\n",
      "Epoch 3 - avg_train_loss: 1.8726  lr: 9.9312e-04  time: 13s\n",
      "Epoch 3 - Score: 0.5231\n",
      "Epoch 3 - Save Best Score: 0.5231 Model\n"
     ]
    },
    {
     "name": "stdout",
     "output_type": "stream",
     "text": [
      "EVAL: [8/9] Data 0.003 (0.022) Elapsed 0m 0s (remain 0m 0s) \n",
      "Epoch: [4][0/40] Data 0.042 (0.042) Elapsed 0m 0s (remain 0m 12s) Loss: 1.2668(1.2668) Grad Norm: 14.4407  LR: 9.8627e-04  \n",
      "Epoch: [4][39/40] Data 0.049 (0.045) Elapsed 0m 12s (remain 0m 0s) Loss: 0.8857(1.5581) Grad Norm: 9.3087  LR: 9.8627e-04  \n",
      "EVAL: [0/9] Data 0.024 (0.024) Elapsed 0m 0s (remain 0m 0s) \n"
     ]
    },
    {
     "name": "stderr",
     "output_type": "stream",
     "text": [
      "labels: [11  4  3 12  3]\n",
      "pred_labels: [6 4 3 9 1]\n",
      "Epoch 4 - avg_train_loss: 1.5581  lr: 9.8627e-04  time: 13s\n",
      "Epoch 4 - Score: 0.5538\n",
      "Epoch 4 - Save Best Score: 0.5538 Model\n"
     ]
    },
    {
     "name": "stdout",
     "output_type": "stream",
     "text": [
      "EVAL: [8/9] Data 0.004 (0.022) Elapsed 0m 0s (remain 0m 0s) \n",
      "Epoch: [5][0/40] Data 0.043 (0.043) Elapsed 0m 0s (remain 0m 12s) Loss: 0.7464(0.7464) Grad Norm: 7.2113  LR: 9.7751e-04  \n",
      "Epoch: [5][39/40] Data 0.044 (0.044) Elapsed 0m 11s (remain 0m 0s) Loss: 1.3986(1.4568) Grad Norm: 18.3783  LR: 9.7751e-04  \n",
      "EVAL: [0/9] Data 0.024 (0.024) Elapsed 0m 0s (remain 0m 0s) \n"
     ]
    },
    {
     "name": "stderr",
     "output_type": "stream",
     "text": [
      "labels: [11  4  3 12  3]\n",
      "pred_labels: [11  4  4  9  1]\n",
      "Epoch 5 - avg_train_loss: 1.4568  lr: 9.7751e-04  time: 13s\n",
      "Epoch 5 - Score: 0.5385\n"
     ]
    },
    {
     "name": "stdout",
     "output_type": "stream",
     "text": [
      "EVAL: [8/9] Data 0.003 (0.022) Elapsed 0m 0s (remain 0m 0s) \n",
      "Epoch: [6][0/40] Data 0.044 (0.044) Elapsed 0m 0s (remain 0m 11s) Loss: 1.9905(1.9905) Grad Norm: 9.4584  LR: 9.6688e-04  \n",
      "Epoch: [6][39/40] Data 0.050 (0.044) Elapsed 0m 11s (remain 0m 0s) Loss: 0.5768(1.1128) Grad Norm: 8.5942  LR: 9.6688e-04  \n",
      "EVAL: [0/9] Data 0.023 (0.023) Elapsed 0m 0s (remain 0m 0s) \n"
     ]
    },
    {
     "name": "stderr",
     "output_type": "stream",
     "text": [
      "labels: [11  4  3 12  3]\n",
      "pred_labels: [11  4  3 12  3]\n",
      "Epoch 6 - avg_train_loss: 1.1128  lr: 9.6688e-04  time: 13s\n",
      "Epoch 6 - Score: 0.5923\n",
      "Epoch 6 - Save Best Score: 0.5923 Model\n"
     ]
    },
    {
     "name": "stdout",
     "output_type": "stream",
     "text": [
      "EVAL: [8/9] Data 0.003 (0.021) Elapsed 0m 0s (remain 0m 0s) \n",
      "Epoch: [7][0/40] Data 0.045 (0.045) Elapsed 0m 0s (remain 0m 12s) Loss: 1.5980(1.5980) Grad Norm: 13.3208  LR: 9.5441e-04  \n",
      "Epoch: [7][39/40] Data 0.042 (0.043) Elapsed 0m 11s (remain 0m 0s) Loss: 0.5974(1.3611) Grad Norm: 7.9711  LR: 9.5441e-04  \n",
      "EVAL: [0/9] Data 0.023 (0.023) Elapsed 0m 0s (remain 0m 0s) \n"
     ]
    },
    {
     "name": "stderr",
     "output_type": "stream",
     "text": [
      "labels: [11  4  3 12  3]\n",
      "pred_labels: [11  5  3  9  1]\n",
      "Epoch 7 - avg_train_loss: 1.3611  lr: 9.5441e-04  time: 13s\n",
      "Epoch 7 - Score: 0.5846\n"
     ]
    },
    {
     "name": "stdout",
     "output_type": "stream",
     "text": [
      "EVAL: [8/9] Data 0.004 (0.021) Elapsed 0m 0s (remain 0m 0s) \n",
      "Epoch: [8][0/40] Data 0.041 (0.041) Elapsed 0m 0s (remain 0m 11s) Loss: 0.4405(0.4405) Grad Norm: 8.2940  LR: 9.4016e-04  \n",
      "Epoch: [8][39/40] Data 0.037 (0.042) Elapsed 0m 11s (remain 0m 0s) Loss: 1.5805(1.0874) Grad Norm: 6.4599  LR: 9.4016e-04  \n",
      "EVAL: [0/9] Data 0.024 (0.024) Elapsed 0m 0s (remain 0m 0s) \n"
     ]
    },
    {
     "name": "stderr",
     "output_type": "stream",
     "text": [
      "labels: [11  4  3 12  3]\n",
      "pred_labels: [12  4  7 12  1]\n",
      "Epoch 8 - avg_train_loss: 1.0874  lr: 9.4016e-04  time: 13s\n",
      "Epoch 8 - Score: 0.5769\n"
     ]
    },
    {
     "name": "stdout",
     "output_type": "stream",
     "text": [
      "EVAL: [8/9] Data 0.003 (0.022) Elapsed 0m 0s (remain 0m 0s) \n",
      "Epoch: [9][0/40] Data 0.047 (0.047) Elapsed 0m 0s (remain 0m 11s) Loss: 1.6971(1.6971) Grad Norm: 7.8413  LR: 9.2418e-04  \n",
      "Epoch: [9][39/40] Data 0.049 (0.044) Elapsed 0m 11s (remain 0m 0s) Loss: 1.7611(0.9556) Grad Norm: 13.6865  LR: 9.2418e-04  \n",
      "EVAL: [0/9] Data 0.025 (0.025) Elapsed 0m 0s (remain 0m 0s) \n"
     ]
    },
    {
     "name": "stderr",
     "output_type": "stream",
     "text": [
      "labels: [11  4  3 12  3]\n",
      "pred_labels: [11  5  3 12  3]\n",
      "Epoch 9 - avg_train_loss: 0.9556  lr: 9.2418e-04  time: 13s\n",
      "Epoch 9 - Score: 0.5769\n"
     ]
    },
    {
     "name": "stdout",
     "output_type": "stream",
     "text": [
      "EVAL: [8/9] Data 0.003 (0.022) Elapsed 0m 0s (remain 0m 0s) \n",
      "Epoch: [10][0/40] Data 0.048 (0.048) Elapsed 0m 0s (remain 0m 11s) Loss: 1.5149(1.5149) Grad Norm: 10.5088  LR: 9.0654e-04  \n",
      "Epoch: [10][39/40] Data 0.049 (0.045) Elapsed 0m 11s (remain 0m 0s) Loss: 1.9194(0.9699) Grad Norm: 9.8443  LR: 9.0654e-04  \n",
      "EVAL: [0/9] Data 0.024 (0.024) Elapsed 0m 0s (remain 0m 0s) \n"
     ]
    },
    {
     "name": "stderr",
     "output_type": "stream",
     "text": [
      "labels: [11  4  3 12  3]\n",
      "pred_labels: [11  4  3 10 11]\n",
      "Epoch 10 - avg_train_loss: 0.9699  lr: 9.0654e-04  time: 13s\n",
      "Epoch 10 - Score: 0.5692\n"
     ]
    },
    {
     "name": "stdout",
     "output_type": "stream",
     "text": [
      "EVAL: [8/9] Data 0.003 (0.022) Elapsed 0m 0s (remain 0m 0s) \n",
      "Epoch: [11][0/40] Data 0.049 (0.049) Elapsed 0m 0s (remain 0m 11s) Loss: 1.8511(1.8511) Grad Norm: 7.3256  LR: 8.8730e-04  \n",
      "Epoch: [11][39/40] Data 0.046 (0.043) Elapsed 0m 11s (remain 0m 0s) Loss: 0.4243(1.0359) Grad Norm: 13.4209  LR: 8.8730e-04  \n",
      "EVAL: [0/9] Data 0.024 (0.024) Elapsed 0m 0s (remain 0m 0s) \n"
     ]
    },
    {
     "name": "stderr",
     "output_type": "stream",
     "text": [
      "labels: [11  4  3 12  3]\n",
      "pred_labels: [11  4  3  9  1]\n",
      "Epoch 11 - avg_train_loss: 1.0359  lr: 8.8730e-04  time: 13s\n",
      "Epoch 11 - Score: 0.5846\n"
     ]
    },
    {
     "name": "stdout",
     "output_type": "stream",
     "text": [
      "EVAL: [8/9] Data 0.003 (0.022) Elapsed 0m 0s (remain 0m 0s) \n",
      "Epoch: [12][0/40] Data 0.041 (0.041) Elapsed 0m 0s (remain 0m 11s) Loss: 1.4870(1.4870) Grad Norm: 7.6458  LR: 8.6655e-04  \n",
      "Epoch: [12][39/40] Data 0.044 (0.044) Elapsed 0m 11s (remain 0m 0s) Loss: 0.2376(1.0273) Grad Norm: 6.1239  LR: 8.6655e-04  \n",
      "EVAL: [0/9] Data 0.024 (0.024) Elapsed 0m 0s (remain 0m 0s) \n"
     ]
    },
    {
     "name": "stderr",
     "output_type": "stream",
     "text": [
      "labels: [11  4  3 12  3]\n",
      "pred_labels: [11  4  3 12  1]\n",
      "Epoch 12 - avg_train_loss: 1.0273  lr: 8.6655e-04  time: 13s\n",
      "Epoch 12 - Score: 0.5923\n"
     ]
    },
    {
     "name": "stdout",
     "output_type": "stream",
     "text": [
      "EVAL: [8/9] Data 0.003 (0.022) Elapsed 0m 0s (remain 0m 0s) \n",
      "Epoch: [13][0/40] Data 0.048 (0.048) Elapsed 0m 0s (remain 0m 11s) Loss: 0.1258(0.1258) Grad Norm: 3.8132  LR: 8.4436e-04  \n",
      "Epoch: [13][39/40] Data 0.037 (0.045) Elapsed 0m 11s (remain 0m 0s) Loss: 0.9276(0.9631) Grad Norm: 6.8987  LR: 8.4436e-04  \n",
      "EVAL: [0/9] Data 0.024 (0.024) Elapsed 0m 0s (remain 0m 0s) \n"
     ]
    },
    {
     "name": "stderr",
     "output_type": "stream",
     "text": [
      "labels: [11  4  3 12  3]\n",
      "pred_labels: [11  4  3  9  3]\n",
      "Epoch 13 - avg_train_loss: 0.9631  lr: 8.4436e-04  time: 13s\n",
      "Epoch 13 - Score: 0.6077\n",
      "Epoch 13 - Save Best Score: 0.6077 Model\n"
     ]
    },
    {
     "name": "stdout",
     "output_type": "stream",
     "text": [
      "EVAL: [8/9] Data 0.003 (0.022) Elapsed 0m 0s (remain 0m 0s) \n",
      "Epoch: [14][0/40] Data 0.045 (0.045) Elapsed 0m 0s (remain 0m 12s) Loss: 1.7336(1.7336) Grad Norm: 8.1998  LR: 8.2081e-04  \n",
      "Epoch: [14][39/40] Data 0.042 (0.044) Elapsed 0m 11s (remain 0m 0s) Loss: 1.1262(0.9151) Grad Norm: 5.6288  LR: 8.2081e-04  \n",
      "EVAL: [0/9] Data 0.024 (0.024) Elapsed 0m 0s (remain 0m 0s) \n"
     ]
    },
    {
     "name": "stderr",
     "output_type": "stream",
     "text": [
      "labels: [11  4  3 12  3]\n",
      "pred_labels: [11  4  3  9  1]\n",
      "Epoch 14 - avg_train_loss: 0.9151  lr: 8.2081e-04  time: 13s\n",
      "Epoch 14 - Score: 0.6385\n",
      "Epoch 14 - Save Best Score: 0.6385 Model\n"
     ]
    },
    {
     "name": "stdout",
     "output_type": "stream",
     "text": [
      "EVAL: [8/9] Data 0.003 (0.022) Elapsed 0m 0s (remain 0m 0s) \n",
      "Epoch: [15][0/40] Data 0.041 (0.041) Elapsed 0m 0s (remain 0m 12s) Loss: 0.4710(0.4710) Grad Norm: 9.7194  LR: 7.9601e-04  \n",
      "Epoch: [15][39/40] Data 0.039 (0.043) Elapsed 0m 11s (remain 0m 0s) Loss: 1.5144(0.9542) Grad Norm: 6.5330  LR: 7.9601e-04  \n",
      "EVAL: [0/9] Data 0.024 (0.024) Elapsed 0m 0s (remain 0m 0s) \n"
     ]
    },
    {
     "name": "stderr",
     "output_type": "stream",
     "text": [
      "labels: [11  4  3 12  3]\n",
      "pred_labels: [11  4  3  8  1]\n",
      "Epoch 15 - avg_train_loss: 0.9542  lr: 7.9601e-04  time: 13s\n",
      "Epoch 15 - Score: 0.6077\n"
     ]
    },
    {
     "name": "stdout",
     "output_type": "stream",
     "text": [
      "EVAL: [8/9] Data 0.003 (0.022) Elapsed 0m 0s (remain 0m 0s) \n",
      "Epoch: [16][0/40] Data 0.040 (0.040) Elapsed 0m 0s (remain 0m 11s) Loss: 1.3863(1.3863) Grad Norm: 5.8557  LR: 7.7006e-04  \n",
      "Epoch: [16][39/40] Data 0.050 (0.043) Elapsed 0m 11s (remain 0m 0s) Loss: 1.2787(0.7959) Grad Norm: 6.4644  LR: 7.7006e-04  \n",
      "EVAL: [0/9] Data 0.024 (0.024) Elapsed 0m 0s (remain 0m 0s) \n"
     ]
    },
    {
     "name": "stderr",
     "output_type": "stream",
     "text": [
      "labels: [11  4  3 12  3]\n",
      "pred_labels: [11  4  3  9  3]\n",
      "Epoch 16 - avg_train_loss: 0.7959  lr: 7.7006e-04  time: 13s\n",
      "Epoch 16 - Score: 0.5692\n"
     ]
    },
    {
     "name": "stdout",
     "output_type": "stream",
     "text": [
      "EVAL: [8/9] Data 0.003 (0.022) Elapsed 0m 0s (remain 0m 0s) \n",
      "Epoch: [17][0/40] Data 0.042 (0.042) Elapsed 0m 0s (remain 0m 11s) Loss: 0.1592(0.1592) Grad Norm: 5.2058  LR: 7.4304e-04  \n",
      "Epoch: [17][39/40] Data 0.038 (0.043) Elapsed 0m 11s (remain 0m 0s) Loss: 1.2045(0.8611) Grad Norm: 8.3974  LR: 7.4304e-04  \n",
      "EVAL: [0/9] Data 0.025 (0.025) Elapsed 0m 0s (remain 0m 0s) \n"
     ]
    },
    {
     "name": "stderr",
     "output_type": "stream",
     "text": [
      "labels: [11  4  3 12  3]\n",
      "pred_labels: [11  5  3 12  3]\n",
      "Epoch 17 - avg_train_loss: 0.8611  lr: 7.4304e-04  time: 13s\n",
      "Epoch 17 - Score: 0.5462\n"
     ]
    },
    {
     "name": "stdout",
     "output_type": "stream",
     "text": [
      "EVAL: [8/9] Data 0.003 (0.022) Elapsed 0m 0s (remain 0m 0s) \n",
      "Epoch: [18][0/40] Data 0.037 (0.037) Elapsed 0m 0s (remain 0m 11s) Loss: 0.0490(0.0490) Grad Norm: 2.1248  LR: 7.1508e-04  \n",
      "Epoch: [18][39/40] Data 0.046 (0.043) Elapsed 0m 11s (remain 0m 0s) Loss: 1.2952(0.7392) Grad Norm: 6.6628  LR: 7.1508e-04  \n",
      "EVAL: [0/9] Data 0.023 (0.023) Elapsed 0m 0s (remain 0m 0s) \n"
     ]
    },
    {
     "name": "stderr",
     "output_type": "stream",
     "text": [
      "labels: [11  4  3 12  3]\n",
      "pred_labels: [11  4 11 12  1]\n",
      "Epoch 18 - avg_train_loss: 0.7392  lr: 7.1508e-04  time: 13s\n",
      "Epoch 18 - Score: 0.5538\n"
     ]
    },
    {
     "name": "stdout",
     "output_type": "stream",
     "text": [
      "EVAL: [8/9] Data 0.003 (0.022) Elapsed 0m 0s (remain 0m 0s) \n",
      "Epoch: [19][0/40] Data 0.043 (0.043) Elapsed 0m 0s (remain 0m 11s) Loss: 0.6856(0.6856) Grad Norm: 12.1656  LR: 6.8627e-04  \n",
      "Epoch: [19][39/40] Data 0.040 (0.043) Elapsed 0m 11s (remain 0m 0s) Loss: 0.0692(0.6361) Grad Norm: 4.2550  LR: 6.8627e-04  \n",
      "EVAL: [0/9] Data 0.023 (0.023) Elapsed 0m 0s (remain 0m 0s) \n"
     ]
    },
    {
     "name": "stderr",
     "output_type": "stream",
     "text": [
      "labels: [11  4  3 12  3]\n",
      "pred_labels: [11  4  3 12  5]\n",
      "Epoch 19 - avg_train_loss: 0.6361  lr: 6.8627e-04  time: 13s\n",
      "Epoch 19 - Score: 0.5615\n"
     ]
    },
    {
     "name": "stdout",
     "output_type": "stream",
     "text": [
      "EVAL: [8/9] Data 0.003 (0.021) Elapsed 0m 0s (remain 0m 0s) \n",
      "Epoch: [20][0/40] Data 0.038 (0.038) Elapsed 0m 0s (remain 0m 10s) Loss: 0.0737(0.0737) Grad Norm: 3.3649  LR: 6.5674e-04  \n",
      "Epoch: [20][39/40] Data 0.040 (0.043) Elapsed 0m 11s (remain 0m 0s) Loss: 0.0897(0.6782) Grad Norm: 6.6269  LR: 6.5674e-04  \n",
      "EVAL: [0/9] Data 0.023 (0.023) Elapsed 0m 0s (remain 0m 0s) \n"
     ]
    },
    {
     "name": "stderr",
     "output_type": "stream",
     "text": [
      "labels: [11  4  3 12  3]\n",
      "pred_labels: [11  4  3 12  3]\n",
      "Epoch 20 - avg_train_loss: 0.6782  lr: 6.5674e-04  time: 13s\n",
      "Epoch 20 - Score: 0.6231\n"
     ]
    },
    {
     "name": "stdout",
     "output_type": "stream",
     "text": [
      "EVAL: [8/9] Data 0.003 (0.021) Elapsed 0m 0s (remain 0m 0s) \n",
      "Epoch: [21][0/40] Data 0.045 (0.045) Elapsed 0m 0s (remain 0m 11s) Loss: 0.0259(0.0259) Grad Norm: 1.9830  LR: 6.2661e-04  \n",
      "Epoch: [21][39/40] Data 0.053 (0.044) Elapsed 0m 11s (remain 0m 0s) Loss: 1.1766(0.7060) Grad Norm: 6.9059  LR: 6.2661e-04  \n",
      "EVAL: [0/9] Data 0.024 (0.024) Elapsed 0m 0s (remain 0m 0s) \n"
     ]
    },
    {
     "name": "stderr",
     "output_type": "stream",
     "text": [
      "labels: [11  4  3 12  3]\n",
      "pred_labels: [11  4  3  8  1]\n",
      "Epoch 21 - avg_train_loss: 0.7060  lr: 6.2661e-04  time: 13s\n",
      "Epoch 21 - Score: 0.6077\n"
     ]
    },
    {
     "name": "stdout",
     "output_type": "stream",
     "text": [
      "EVAL: [8/9] Data 0.003 (0.021) Elapsed 0m 0s (remain 0m 0s) \n",
      "Epoch: [22][0/40] Data 0.043 (0.043) Elapsed 0m 0s (remain 0m 11s) Loss: 0.1429(0.1429) Grad Norm: 1.8288  LR: 5.9598e-04  \n",
      "Epoch: [22][39/40] Data 0.043 (0.044) Elapsed 0m 11s (remain 0m 0s) Loss: 1.0931(0.6715) Grad Norm: 4.5494  LR: 5.9598e-04  \n",
      "EVAL: [0/9] Data 0.024 (0.024) Elapsed 0m 0s (remain 0m 0s) \n"
     ]
    },
    {
     "name": "stderr",
     "output_type": "stream",
     "text": [
      "labels: [11  4  3 12  3]\n",
      "pred_labels: [11  4  3  8  3]\n",
      "Epoch 22 - avg_train_loss: 0.6715  lr: 5.9598e-04  time: 13s\n",
      "Epoch 22 - Score: 0.5769\n"
     ]
    },
    {
     "name": "stdout",
     "output_type": "stream",
     "text": [
      "EVAL: [8/9] Data 0.004 (0.022) Elapsed 0m 0s (remain 0m 0s) \n",
      "Epoch: [23][0/40] Data 0.042 (0.042) Elapsed 0m 0s (remain 0m 11s) Loss: 0.8412(0.8412) Grad Norm: 4.0837  LR: 5.6498e-04  \n",
      "Epoch: [23][39/40] Data 0.045 (0.045) Elapsed 0m 12s (remain 0m 0s) Loss: 0.9359(0.7795) Grad Norm: 3.7927  LR: 5.6498e-04  \n",
      "EVAL: [0/9] Data 0.025 (0.025) Elapsed 0m 0s (remain 0m 0s) \n"
     ]
    },
    {
     "name": "stderr",
     "output_type": "stream",
     "text": [
      "labels: [11  4  3 12  3]\n",
      "pred_labels: [11  4  3  8  3]\n",
      "Epoch 23 - avg_train_loss: 0.7795  lr: 5.6498e-04  time: 13s\n",
      "Epoch 23 - Score: 0.6615\n",
      "Epoch 23 - Save Best Score: 0.6615 Model\n"
     ]
    },
    {
     "name": "stdout",
     "output_type": "stream",
     "text": [
      "EVAL: [8/9] Data 0.004 (0.023) Elapsed 0m 0s (remain 0m 0s) \n",
      "Epoch: [24][0/40] Data 0.040 (0.040) Elapsed 0m 0s (remain 0m 12s) Loss: 0.0195(0.0195) Grad Norm: 0.8508  LR: 5.3373e-04  \n",
      "Epoch: [24][39/40] Data 0.046 (0.045) Elapsed 0m 12s (remain 0m 0s) Loss: 0.0656(0.7176) Grad Norm: 3.3012  LR: 5.3373e-04  \n",
      "EVAL: [0/9] Data 0.025 (0.025) Elapsed 0m 0s (remain 0m 0s) \n"
     ]
    },
    {
     "name": "stderr",
     "output_type": "stream",
     "text": [
      "labels: [11  4  3 12  3]\n",
      "pred_labels: [11  5  3 12  3]\n",
      "Epoch 24 - avg_train_loss: 0.7176  lr: 5.3373e-04  time: 13s\n",
      "Epoch 24 - Score: 0.6385\n"
     ]
    },
    {
     "name": "stdout",
     "output_type": "stream",
     "text": [
      "EVAL: [8/9] Data 0.003 (0.022) Elapsed 0m 0s (remain 0m 0s) \n",
      "Epoch: [25][0/40] Data 0.040 (0.040) Elapsed 0m 0s (remain 0m 11s) Loss: 0.1309(0.1309) Grad Norm: 4.6687  LR: 5.0236e-04  \n",
      "Epoch: [25][39/40] Data 0.043 (0.045) Elapsed 0m 11s (remain 0m 0s) Loss: 0.0622(0.6035) Grad Norm: 6.3800  LR: 5.0236e-04  \n",
      "EVAL: [0/9] Data 0.029 (0.029) Elapsed 0m 0s (remain 0m 0s) \n"
     ]
    },
    {
     "name": "stderr",
     "output_type": "stream",
     "text": [
      "labels: [11  4  3 12  3]\n",
      "pred_labels: [11  4  3 12  3]\n",
      "Epoch 25 - avg_train_loss: 0.6035  lr: 5.0236e-04  time: 13s\n",
      "Epoch 25 - Score: 0.6385\n"
     ]
    },
    {
     "name": "stdout",
     "output_type": "stream",
     "text": [
      "EVAL: [8/9] Data 0.003 (0.022) Elapsed 0m 0s (remain 0m 0s) \n",
      "Epoch: [26][0/40] Data 0.040 (0.040) Elapsed 0m 0s (remain 0m 11s) Loss: 0.0084(0.0084) Grad Norm: 0.8482  LR: 4.7099e-04  \n",
      "Epoch: [26][39/40] Data 0.044 (0.044) Elapsed 0m 11s (remain 0m 0s) Loss: 0.0889(0.6087) Grad Norm: 6.4972  LR: 4.7099e-04  \n",
      "EVAL: [0/9] Data 0.023 (0.023) Elapsed 0m 0s (remain 0m 0s) \n"
     ]
    },
    {
     "name": "stderr",
     "output_type": "stream",
     "text": [
      "labels: [11  4  3 12  3]\n",
      "pred_labels: [11  4  3 12  3]\n",
      "Epoch 26 - avg_train_loss: 0.6087  lr: 4.7099e-04  time: 13s\n",
      "Epoch 26 - Score: 0.6385\n"
     ]
    },
    {
     "name": "stdout",
     "output_type": "stream",
     "text": [
      "EVAL: [8/9] Data 0.003 (0.021) Elapsed 0m 0s (remain 0m 0s) \n",
      "Epoch: [27][0/40] Data 0.038 (0.038) Elapsed 0m 0s (remain 0m 11s) Loss: 0.0129(0.0129) Grad Norm: 0.8744  LR: 4.3974e-04  \n",
      "Epoch: [27][39/40] Data 0.044 (0.043) Elapsed 0m 11s (remain 0m 0s) Loss: 0.0300(0.6677) Grad Norm: 2.1820  LR: 4.3974e-04  \n",
      "EVAL: [0/9] Data 0.024 (0.024) Elapsed 0m 0s (remain 0m 0s) \n"
     ]
    },
    {
     "name": "stderr",
     "output_type": "stream",
     "text": [
      "labels: [11  4  3 12  3]\n",
      "pred_labels: [11  4  3  9  3]\n",
      "Epoch 27 - avg_train_loss: 0.6677  lr: 4.3974e-04  time: 13s\n",
      "Epoch 27 - Score: 0.6154\n"
     ]
    },
    {
     "name": "stdout",
     "output_type": "stream",
     "text": [
      "EVAL: [8/9] Data 0.004 (0.022) Elapsed 0m 0s (remain 0m 0s) \n",
      "Epoch: [28][0/40] Data 0.043 (0.043) Elapsed 0m 0s (remain 0m 11s) Loss: 0.0349(0.0349) Grad Norm: 1.5378  LR: 4.0874e-04  \n",
      "Epoch: [28][39/40] Data 0.044 (0.044) Elapsed 0m 11s (remain 0m 0s) Loss: 0.8916(0.7729) Grad Norm: 4.3331  LR: 4.0874e-04  \n",
      "EVAL: [0/9] Data 0.026 (0.026) Elapsed 0m 0s (remain 0m 0s) \n"
     ]
    },
    {
     "name": "stderr",
     "output_type": "stream",
     "text": [
      "labels: [11  4  3 12  3]\n",
      "pred_labels: [11  4  3 12  3]\n",
      "Epoch 28 - avg_train_loss: 0.7729  lr: 4.0874e-04  time: 13s\n",
      "Epoch 28 - Score: 0.6385\n"
     ]
    },
    {
     "name": "stdout",
     "output_type": "stream",
     "text": [
      "EVAL: [8/9] Data 0.003 (0.022) Elapsed 0m 0s (remain 0m 0s) \n",
      "Epoch: [29][0/40] Data 0.046 (0.046) Elapsed 0m 0s (remain 0m 11s) Loss: 1.0689(1.0689) Grad Norm: 5.2532  LR: 3.7811e-04  \n",
      "Epoch: [29][39/40] Data 0.052 (0.045) Elapsed 0m 11s (remain 0m 0s) Loss: 0.1492(0.5719) Grad Norm: 9.7490  LR: 3.7811e-04  \n",
      "EVAL: [0/9] Data 0.023 (0.023) Elapsed 0m 0s (remain 0m 0s) \n"
     ]
    },
    {
     "name": "stderr",
     "output_type": "stream",
     "text": [
      "labels: [11  4  3 12  3]\n",
      "pred_labels: [11  4  3 12  3]\n",
      "Epoch 29 - avg_train_loss: 0.5719  lr: 3.7811e-04  time: 13s\n",
      "Epoch 29 - Score: 0.6231\n"
     ]
    },
    {
     "name": "stdout",
     "output_type": "stream",
     "text": [
      "EVAL: [8/9] Data 0.003 (0.021) Elapsed 0m 0s (remain 0m 0s) \n",
      "Epoch: [30][0/40] Data 0.048 (0.048) Elapsed 0m 0s (remain 0m 11s) Loss: 1.3812(1.3812) Grad Norm: 6.4942  LR: 3.4797e-04  \n",
      "Epoch: [30][39/40] Data 0.040 (0.043) Elapsed 0m 11s (remain 0m 0s) Loss: 0.0132(0.4837) Grad Norm: 0.4236  LR: 3.4797e-04  \n",
      "EVAL: [0/9] Data 0.024 (0.024) Elapsed 0m 0s (remain 0m 0s) \n"
     ]
    },
    {
     "name": "stderr",
     "output_type": "stream",
     "text": [
      "labels: [11  4  3 12  3]\n",
      "pred_labels: [11  4  3  2  3]\n",
      "Epoch 30 - avg_train_loss: 0.4837  lr: 3.4797e-04  time: 12s\n",
      "Epoch 30 - Score: 0.6462\n"
     ]
    },
    {
     "name": "stdout",
     "output_type": "stream",
     "text": [
      "EVAL: [8/9] Data 0.003 (0.022) Elapsed 0m 0s (remain 0m 0s) \n",
      "Epoch: [31][0/40] Data 0.045 (0.045) Elapsed 0m 0s (remain 0m 11s) Loss: 0.0097(0.0097) Grad Norm: 0.4939  LR: 3.1843e-04  \n",
      "Epoch: [31][39/40] Data 0.041 (0.042) Elapsed 0m 11s (remain 0m 0s) Loss: 0.8167(0.4095) Grad Norm: 2.3873  LR: 3.1843e-04  \n",
      "EVAL: [0/9] Data 0.024 (0.024) Elapsed 0m 0s (remain 0m 0s) \n"
     ]
    },
    {
     "name": "stderr",
     "output_type": "stream",
     "text": [
      "labels: [11  4  3 12  3]\n",
      "pred_labels: [11  4  3 12  3]\n",
      "Epoch 31 - avg_train_loss: 0.4095  lr: 3.1843e-04  time: 12s\n",
      "Epoch 31 - Score: 0.6077\n"
     ]
    },
    {
     "name": "stdout",
     "output_type": "stream",
     "text": [
      "EVAL: [8/9] Data 0.003 (0.022) Elapsed 0m 0s (remain 0m 0s) \n",
      "Epoch: [32][0/40] Data 0.040 (0.040) Elapsed 0m 0s (remain 0m 11s) Loss: 0.0612(0.0612) Grad Norm: 2.3677  LR: 2.8962e-04  \n",
      "Epoch: [32][39/40] Data 0.049 (0.043) Elapsed 0m 11s (remain 0m 0s) Loss: 0.0018(0.4111) Grad Norm: 0.0532  LR: 2.8962e-04  \n",
      "EVAL: [0/9] Data 0.027 (0.027) Elapsed 0m 0s (remain 0m 0s) \n"
     ]
    },
    {
     "name": "stderr",
     "output_type": "stream",
     "text": [
      "labels: [11  4  3 12  3]\n",
      "pred_labels: [11  4  3 12  3]\n",
      "Epoch 32 - avg_train_loss: 0.4111  lr: 2.8962e-04  time: 13s\n",
      "Epoch 32 - Score: 0.6308\n"
     ]
    },
    {
     "name": "stdout",
     "output_type": "stream",
     "text": [
      "EVAL: [8/9] Data 0.004 (0.023) Elapsed 0m 0s (remain 0m 0s) \n",
      "Epoch: [33][0/40] Data 0.043 (0.043) Elapsed 0m 0s (remain 0m 11s) Loss: 0.0031(0.0031) Grad Norm: 0.1508  LR: 2.6165e-04  \n",
      "Epoch: [33][39/40] Data 0.053 (0.045) Elapsed 0m 11s (remain 0m 0s) Loss: 0.6906(0.4567) Grad Norm: 2.5816  LR: 2.6165e-04  \n",
      "EVAL: [0/9] Data 0.024 (0.024) Elapsed 0m 0s (remain 0m 0s) \n"
     ]
    },
    {
     "name": "stderr",
     "output_type": "stream",
     "text": [
      "labels: [11  4  3 12  3]\n",
      "pred_labels: [11  4  3 12  3]\n",
      "Epoch 33 - avg_train_loss: 0.4567  lr: 2.6165e-04  time: 13s\n",
      "Epoch 33 - Score: 0.6308\n"
     ]
    },
    {
     "name": "stdout",
     "output_type": "stream",
     "text": [
      "EVAL: [8/9] Data 0.003 (0.022) Elapsed 0m 0s (remain 0m 0s) \n",
      "Epoch: [34][0/40] Data 0.047 (0.047) Elapsed 0m 0s (remain 0m 11s) Loss: 0.0028(0.0028) Grad Norm: 0.1058  LR: 2.3463e-04  \n",
      "Epoch: [34][39/40] Data 0.043 (0.045) Elapsed 0m 11s (remain 0m 0s) Loss: 0.7117(0.2801) Grad Norm: 8.9596  LR: 2.3463e-04  \n",
      "EVAL: [0/9] Data 0.024 (0.024) Elapsed 0m 0s (remain 0m 0s) \n"
     ]
    },
    {
     "name": "stderr",
     "output_type": "stream",
     "text": [
      "labels: [11  4  3 12  3]\n",
      "pred_labels: [11  4  3 12  3]\n",
      "Epoch 34 - avg_train_loss: 0.2801  lr: 2.3463e-04  time: 13s\n",
      "Epoch 34 - Score: 0.6231\n"
     ]
    },
    {
     "name": "stdout",
     "output_type": "stream",
     "text": [
      "EVAL: [8/9] Data 0.003 (0.022) Elapsed 0m 0s (remain 0m 0s) \n",
      "Epoch: [35][0/40] Data 0.038 (0.038) Elapsed 0m 0s (remain 0m 11s) Loss: 0.2004(0.2004) Grad Norm: 5.1496  LR: 2.0866e-04  \n",
      "Epoch: [35][39/40] Data 0.040 (0.045) Elapsed 0m 11s (remain 0m 0s) Loss: 0.0259(0.5813) Grad Norm: 1.4510  LR: 2.0866e-04  \n",
      "EVAL: [0/9] Data 0.024 (0.024) Elapsed 0m 0s (remain 0m 0s) \n"
     ]
    },
    {
     "name": "stderr",
     "output_type": "stream",
     "text": [
      "labels: [11  4  3 12  3]\n",
      "pred_labels: [11  4  3 12  3]\n",
      "Epoch 35 - avg_train_loss: 0.5813  lr: 2.0866e-04  time: 13s\n",
      "Epoch 35 - Score: 0.6385\n"
     ]
    },
    {
     "name": "stdout",
     "output_type": "stream",
     "text": [
      "EVAL: [8/9] Data 0.003 (0.022) Elapsed 0m 0s (remain 0m 0s) \n",
      "Epoch: [36][0/40] Data 0.051 (0.051) Elapsed 0m 0s (remain 0m 11s) Loss: 0.8520(0.8520) Grad Norm: 3.9525  LR: 1.8385e-04  \n",
      "Epoch: [36][39/40] Data 0.047 (0.046) Elapsed 0m 11s (remain 0m 0s) Loss: 0.0091(0.3505) Grad Norm: 1.0646  LR: 1.8385e-04  \n",
      "EVAL: [0/9] Data 0.025 (0.025) Elapsed 0m 0s (remain 0m 0s) \n"
     ]
    },
    {
     "name": "stderr",
     "output_type": "stream",
     "text": [
      "labels: [11  4  3 12  3]\n",
      "pred_labels: [11  4  3 12  3]\n",
      "Epoch 36 - avg_train_loss: 0.3505  lr: 1.8385e-04  time: 13s\n",
      "Epoch 36 - Score: 0.6385\n"
     ]
    },
    {
     "name": "stdout",
     "output_type": "stream",
     "text": [
      "EVAL: [8/9] Data 0.004 (0.023) Elapsed 0m 0s (remain 0m 0s) \n",
      "Epoch: [37][0/40] Data 0.043 (0.043) Elapsed 0m 0s (remain 0m 11s) Loss: 0.9183(0.9183) Grad Norm: 3.9477  LR: 1.6030e-04  \n",
      "Epoch: [37][39/40] Data 0.042 (0.044) Elapsed 0m 12s (remain 0m 0s) Loss: 0.8808(0.5642) Grad Norm: 5.5529  LR: 1.6030e-04  \n",
      "EVAL: [0/9] Data 0.025 (0.025) Elapsed 0m 0s (remain 0m 0s) \n"
     ]
    },
    {
     "name": "stderr",
     "output_type": "stream",
     "text": [
      "labels: [11  4  3 12  3]\n",
      "pred_labels: [11  4  3 12  3]\n",
      "Epoch 37 - avg_train_loss: 0.5642  lr: 1.6030e-04  time: 13s\n",
      "Epoch 37 - Score: 0.6462\n"
     ]
    },
    {
     "name": "stdout",
     "output_type": "stream",
     "text": [
      "EVAL: [8/9] Data 0.003 (0.022) Elapsed 0m 0s (remain 0m 0s) \n",
      "Epoch: [38][0/40] Data 0.046 (0.046) Elapsed 0m 0s (remain 0m 11s) Loss: 1.1167(1.1167) Grad Norm: 5.6285  LR: 1.3809e-04  \n",
      "Epoch: [38][39/40] Data 0.040 (0.044) Elapsed 0m 11s (remain 0m 0s) Loss: 0.0027(0.6409) Grad Norm: 0.0571  LR: 1.3809e-04  \n",
      "EVAL: [0/9] Data 0.024 (0.024) Elapsed 0m 0s (remain 0m 0s) \n"
     ]
    },
    {
     "name": "stderr",
     "output_type": "stream",
     "text": [
      "labels: [11  4  3 12  3]\n",
      "pred_labels: [11  4  3 12  3]\n",
      "Epoch 38 - avg_train_loss: 0.6409  lr: 1.3809e-04  time: 13s\n",
      "Epoch 38 - Score: 0.6692\n",
      "Epoch 38 - Save Best Score: 0.6692 Model\n"
     ]
    },
    {
     "name": "stdout",
     "output_type": "stream",
     "text": [
      "EVAL: [8/9] Data 0.004 (0.022) Elapsed 0m 0s (remain 0m 0s) \n",
      "Epoch: [39][0/40] Data 0.043 (0.043) Elapsed 0m 0s (remain 0m 11s) Loss: 0.0052(0.0052) Grad Norm: 0.2674  LR: 1.1732e-04  \n",
      "Epoch: [39][39/40] Data 0.041 (0.043) Elapsed 0m 11s (remain 0m 0s) Loss: 0.0043(0.4764) Grad Norm: 0.1503  LR: 1.1732e-04  \n",
      "EVAL: [0/9] Data 0.023 (0.023) Elapsed 0m 0s (remain 0m 0s) \n"
     ]
    },
    {
     "name": "stderr",
     "output_type": "stream",
     "text": [
      "labels: [11  4  3 12  3]\n",
      "pred_labels: [11  4  3 12  3]\n",
      "Epoch 39 - avg_train_loss: 0.4764  lr: 1.1732e-04  time: 13s\n",
      "Epoch 39 - Score: 0.6462\n"
     ]
    },
    {
     "name": "stdout",
     "output_type": "stream",
     "text": [
      "EVAL: [8/9] Data 0.003 (0.021) Elapsed 0m 0s (remain 0m 0s) \n",
      "Epoch: [40][0/40] Data 0.038 (0.038) Elapsed 0m 0s (remain 0m 11s) Loss: 0.0021(0.0021) Grad Norm: 0.1082  LR: 9.8058e-05  \n",
      "Epoch: [40][39/40] Data 0.040 (0.044) Elapsed 0m 11s (remain 0m 0s) Loss: 0.7924(0.4509) Grad Norm: 4.3079  LR: 9.8058e-05  \n",
      "EVAL: [0/9] Data 0.023 (0.023) Elapsed 0m 0s (remain 0m 0s) \n"
     ]
    },
    {
     "name": "stderr",
     "output_type": "stream",
     "text": [
      "labels: [11  4  3 12  3]\n",
      "pred_labels: [11  4  3 12  3]\n",
      "Epoch 40 - avg_train_loss: 0.4509  lr: 9.8058e-05  time: 13s\n",
      "Epoch 40 - Score: 0.6462\n"
     ]
    },
    {
     "name": "stdout",
     "output_type": "stream",
     "text": [
      "EVAL: [8/9] Data 0.003 (0.021) Elapsed 0m 0s (remain 0m 0s) \n",
      "Epoch: [41][0/40] Data 0.045 (0.045) Elapsed 0m 0s (remain 0m 11s) Loss: 0.0027(0.0027) Grad Norm: 0.4340  LR: 8.0390e-05  \n",
      "Epoch: [41][39/40] Data 0.049 (0.044) Elapsed 0m 11s (remain 0m 0s) Loss: 0.0077(0.5113) Grad Norm: 1.4132  LR: 8.0390e-05  \n",
      "EVAL: [0/9] Data 0.026 (0.026) Elapsed 0m 0s (remain 0m 0s) \n"
     ]
    },
    {
     "name": "stderr",
     "output_type": "stream",
     "text": [
      "labels: [11  4  3 12  3]\n",
      "pred_labels: [11  4  3 12  3]\n",
      "Epoch 41 - avg_train_loss: 0.5113  lr: 8.0390e-05  time: 13s\n",
      "Epoch 41 - Score: 0.6462\n"
     ]
    },
    {
     "name": "stdout",
     "output_type": "stream",
     "text": [
      "EVAL: [8/9] Data 0.003 (0.023) Elapsed 0m 0s (remain 0m 0s) \n",
      "Epoch: [42][0/40] Data 0.039 (0.039) Elapsed 0m 0s (remain 0m 11s) Loss: 1.2220(1.2220) Grad Norm: 6.7758  LR: 6.4381e-05  \n",
      "Epoch: [42][39/40] Data 0.045 (0.044) Elapsed 0m 11s (remain 0m 0s) Loss: 0.0044(0.3422) Grad Norm: 0.3568  LR: 6.4381e-05  \n",
      "EVAL: [0/9] Data 0.024 (0.024) Elapsed 0m 0s (remain 0m 0s) \n"
     ]
    },
    {
     "name": "stderr",
     "output_type": "stream",
     "text": [
      "labels: [11  4  3 12  3]\n",
      "pred_labels: [11  4  3 12  3]\n",
      "Epoch 42 - avg_train_loss: 0.3422  lr: 6.4381e-05  time: 13s\n",
      "Epoch 42 - Score: 0.6615\n"
     ]
    },
    {
     "name": "stdout",
     "output_type": "stream",
     "text": [
      "EVAL: [8/9] Data 0.003 (0.022) Elapsed 0m 0s (remain 0m 0s) \n",
      "Epoch: [43][0/40] Data 0.053 (0.053) Elapsed 0m 0s (remain 0m 12s) Loss: 0.9682(0.9682) Grad Norm: 3.8829  LR: 5.0093e-05  \n",
      "Epoch: [43][39/40] Data 0.047 (0.046) Elapsed 0m 12s (remain 0m 0s) Loss: 0.0018(0.4137) Grad Norm: 0.0663  LR: 5.0093e-05  \n",
      "EVAL: [0/9] Data 0.061 (0.061) Elapsed 0m 0s (remain 0m 1s) \n"
     ]
    },
    {
     "name": "stderr",
     "output_type": "stream",
     "text": [
      "labels: [11  4  3 12  3]\n",
      "pred_labels: [11  4  3 12  3]\n",
      "Epoch 43 - avg_train_loss: 0.4137  lr: 5.0093e-05  time: 13s\n",
      "Epoch 43 - Score: 0.6692\n"
     ]
    },
    {
     "name": "stdout",
     "output_type": "stream",
     "text": [
      "EVAL: [8/9] Data 0.003 (0.026) Elapsed 0m 0s (remain 0m 0s) \n",
      "Epoch: [44][0/40] Data 0.044 (0.044) Elapsed 0m 0s (remain 0m 11s) Loss: 0.0019(0.0019) Grad Norm: 0.0655  LR: 3.7578e-05  \n",
      "Epoch: [44][39/40] Data 0.039 (0.042) Elapsed 0m 11s (remain 0m 0s) Loss: 0.4210(0.3854) Grad Norm: 2.0486  LR: 3.7578e-05  \n",
      "EVAL: [0/9] Data 0.023 (0.023) Elapsed 0m 0s (remain 0m 0s) \n"
     ]
    },
    {
     "name": "stderr",
     "output_type": "stream",
     "text": [
      "labels: [11  4  3 12  3]\n",
      "pred_labels: [11  4  3 12  3]\n",
      "Epoch 44 - avg_train_loss: 0.3854  lr: 3.7578e-05  time: 12s\n",
      "Epoch 44 - Score: 0.6538\n"
     ]
    },
    {
     "name": "stdout",
     "output_type": "stream",
     "text": [
      "EVAL: [8/9] Data 0.003 (0.021) Elapsed 0m 0s (remain 0m 0s) \n",
      "Epoch: [45][0/40] Data 0.042 (0.042) Elapsed 0m 0s (remain 0m 11s) Loss: 0.8008(0.8008) Grad Norm: 4.5983  LR: 2.6881e-05  \n",
      "Epoch: [45][39/40] Data 0.037 (0.044) Elapsed 0m 11s (remain 0m 0s) Loss: 0.0009(0.3288) Grad Norm: 0.0304  LR: 2.6881e-05  \n",
      "EVAL: [0/9] Data 0.024 (0.024) Elapsed 0m 0s (remain 0m 0s) \n"
     ]
    },
    {
     "name": "stderr",
     "output_type": "stream",
     "text": [
      "labels: [11  4  3 12  3]\n",
      "pred_labels: [11  4  3 12  3]\n",
      "Epoch 45 - avg_train_loss: 0.3288  lr: 2.6881e-05  time: 13s\n",
      "Epoch 45 - Score: 0.6462\n"
     ]
    },
    {
     "name": "stdout",
     "output_type": "stream",
     "text": [
      "EVAL: [8/9] Data 0.004 (0.022) Elapsed 0m 0s (remain 0m 0s) \n",
      "Epoch: [46][0/40] Data 0.044 (0.044) Elapsed 0m 0s (remain 0m 11s) Loss: 0.0010(0.0010) Grad Norm: 0.0231  LR: 1.8039e-05  \n",
      "Epoch: [46][39/40] Data 0.044 (0.044) Elapsed 0m 11s (remain 0m 0s) Loss: 0.0013(0.0031) Grad Norm: 0.0503  LR: 1.8039e-05  \n",
      "EVAL: [0/9] Data 0.025 (0.025) Elapsed 0m 0s (remain 0m 0s) \n"
     ]
    },
    {
     "name": "stderr",
     "output_type": "stream",
     "text": [
      "labels: [11  4  3 12  3]\n",
      "pred_labels: [11  4  3 12  3]\n",
      "Epoch 46 - avg_train_loss: 0.0031  lr: 1.8039e-05  time: 13s\n",
      "Epoch 46 - Score: 0.6385\n"
     ]
    },
    {
     "name": "stdout",
     "output_type": "stream",
     "text": [
      "EVAL: [8/9] Data 0.003 (0.022) Elapsed 0m 0s (remain 0m 0s) \n",
      "Epoch: [47][0/40] Data 0.033 (0.033) Elapsed 0m 0s (remain 0m 12s) Loss: 0.0009(0.0009) Grad Norm: 0.0245  LR: 1.1073e-05  \n",
      "Epoch: [47][39/40] Data 0.047 (0.043) Elapsed 0m 11s (remain 0m 0s) Loss: 0.0007(0.0014) Grad Norm: 0.0333  LR: 1.1073e-05  \n",
      "EVAL: [0/9] Data 0.027 (0.027) Elapsed 0m 0s (remain 0m 0s) \n"
     ]
    },
    {
     "name": "stderr",
     "output_type": "stream",
     "text": [
      "labels: [11  4  3 12  3]\n",
      "pred_labels: [11  4  3 12  3]\n",
      "Epoch 47 - avg_train_loss: 0.0014  lr: 1.1073e-05  time: 13s\n",
      "Epoch 47 - Score: 0.6385\n"
     ]
    },
    {
     "name": "stdout",
     "output_type": "stream",
     "text": [
      "EVAL: [8/9] Data 0.003 (0.022) Elapsed 0m 0s (remain 0m 0s) \n",
      "Epoch: [48][0/40] Data 0.043 (0.043) Elapsed 0m 0s (remain 0m 11s) Loss: 0.0064(0.0064) Grad Norm: 1.0048  LR: 5.9882e-06  \n",
      "Epoch: [48][39/40] Data 0.044 (0.043) Elapsed 0m 11s (remain 0m 0s) Loss: 0.0057(0.0016) Grad Norm: 0.5387  LR: 5.9882e-06  \n",
      "EVAL: [0/9] Data 0.024 (0.024) Elapsed 0m 0s (remain 0m 0s) \n"
     ]
    },
    {
     "name": "stderr",
     "output_type": "stream",
     "text": [
      "labels: [11  4  3 12  3]\n",
      "pred_labels: [11  4  3 12  3]\n",
      "Epoch 48 - avg_train_loss: 0.0016  lr: 5.9882e-06  time: 13s\n",
      "Epoch 48 - Score: 0.6385\n"
     ]
    },
    {
     "name": "stdout",
     "output_type": "stream",
     "text": [
      "EVAL: [8/9] Data 0.004 (0.022) Elapsed 0m 0s (remain 0m 0s) \n",
      "Epoch: [49][0/40] Data 0.042 (0.042) Elapsed 0m 0s (remain 0m 11s) Loss: 0.0987(0.0987) Grad Norm: 18.2181  LR: 2.7534e-06  \n",
      "Epoch: [49][39/40] Data 0.045 (0.045) Elapsed 0m 11s (remain 0m 0s) Loss: 0.0017(0.0053) Grad Norm: 0.1739  LR: 2.7534e-06  \n",
      "EVAL: [0/9] Data 0.025 (0.025) Elapsed 0m 0s (remain 0m 0s) \n"
     ]
    },
    {
     "name": "stderr",
     "output_type": "stream",
     "text": [
      "labels: [11  4  3 12  3]\n",
      "pred_labels: [11  4  3 12  3]\n",
      "Epoch 49 - avg_train_loss: 0.0053  lr: 2.7534e-06  time: 13s\n",
      "Epoch 49 - Score: 0.6385\n"
     ]
    },
    {
     "name": "stdout",
     "output_type": "stream",
     "text": [
      "EVAL: [8/9] Data 0.004 (0.022) Elapsed 0m 0s (remain 0m 0s) \n",
      "Epoch: [50][0/40] Data 0.049 (0.049) Elapsed 0m 0s (remain 0m 11s) Loss: 0.0017(0.0017) Grad Norm: 0.0502  LR: 1.2467e-06  \n",
      "Epoch: [50][39/40] Data 0.039 (0.042) Elapsed 0m 11s (remain 0m 0s) Loss: 0.0181(0.0033) Grad Norm: 1.6568  LR: 1.2467e-06  \n",
      "EVAL: [0/9] Data 0.024 (0.024) Elapsed 0m 0s (remain 0m 0s) \n"
     ]
    },
    {
     "name": "stderr",
     "output_type": "stream",
     "text": [
      "labels: [11  4  3 12  3]\n",
      "pred_labels: [11  4  3 12  3]\n",
      "Epoch 50 - avg_train_loss: 0.0033  lr: 1.2467e-06  time: 12s\n",
      "Epoch 50 - Score: 0.6385\n",
      "\n",
      "oof score: 0.6773700305810397\n",
      "\n",
      "==================== fold: 0, seed: 2 training ====================\n"
     ]
    },
    {
     "name": "stdout",
     "output_type": "stream",
     "text": [
      "EVAL: [8/9] Data 0.003 (0.021) Elapsed 0m 0s (remain 0m 0s) \n",
      "fold\n",
      "0    131\n",
      "1    131\n",
      "2    131\n",
      "3    131\n",
      "4    130\n",
      "dtype: int64\n",
      "Epoch: [1][0/40] Data 0.043 (0.043) Elapsed 0m 0s (remain 0m 11s) Loss: 2.6188(2.6188) Grad Norm: 8.7507  LR: 1.0000e-03  \n",
      "Epoch: [1][39/40] Data 0.042 (0.043) Elapsed 0m 11s (remain 0m 0s) Loss: 2.4078(2.5030) Grad Norm: 18.0675  LR: 1.0000e-03  \n",
      "EVAL: [0/9] Data 0.023 (0.023) Elapsed 0m 0s (remain 0m 0s) \n"
     ]
    },
    {
     "name": "stderr",
     "output_type": "stream",
     "text": [
      "labels: [ 6  4  0  3 12]\n",
      "pred_labels: [6 0 8 7 9]\n",
      "Epoch 1 - avg_train_loss: 2.5030  lr: 1.0000e-03  time: 12s\n",
      "Epoch 1 - Score: 0.2290\n",
      "Epoch 1 - Save Best Score: 0.2290 Model\n"
     ]
    },
    {
     "name": "stdout",
     "output_type": "stream",
     "text": [
      "EVAL: [8/9] Data 0.005 (0.021) Elapsed 0m 0s (remain 0m 0s) \n",
      "Epoch: [2][0/40] Data 0.057 (0.057) Elapsed 0m 0s (remain 0m 12s) Loss: 2.3654(2.3654) Grad Norm: 13.6643  LR: 9.9803e-04  \n",
      "Epoch: [2][39/40] Data 0.043 (0.043) Elapsed 0m 11s (remain 0m 0s) Loss: 2.0945(2.2173) Grad Norm: 45.5334  LR: 9.9803e-04  \n",
      "EVAL: [0/9] Data 0.023 (0.023) Elapsed 0m 0s (remain 0m 0s) \n"
     ]
    },
    {
     "name": "stderr",
     "output_type": "stream",
     "text": [
      "labels: [ 6  4  0  3 12]\n",
      "pred_labels: [11  0  0  0  9]\n",
      "Epoch 2 - avg_train_loss: 2.2173  lr: 9.9803e-04  time: 13s\n",
      "Epoch 2 - Score: 0.4504\n",
      "Epoch 2 - Save Best Score: 0.4504 Model\n"
     ]
    },
    {
     "name": "stdout",
     "output_type": "stream",
     "text": [
      "EVAL: [8/9] Data 0.004 (0.021) Elapsed 0m 0s (remain 0m 0s) \n",
      "Epoch: [3][0/40] Data 0.044 (0.044) Elapsed 0m 0s (remain 0m 12s) Loss: 1.9012(1.9012) Grad Norm: 16.8540  LR: 9.9312e-04  \n",
      "Epoch: [3][39/40] Data 0.046 (0.044) Elapsed 0m 11s (remain 0m 0s) Loss: 2.2558(2.0002) Grad Norm: 20.5835  LR: 9.9312e-04  \n",
      "EVAL: [0/9] Data 0.023 (0.023) Elapsed 0m 0s (remain 0m 0s) \n"
     ]
    },
    {
     "name": "stderr",
     "output_type": "stream",
     "text": [
      "labels: [ 6  4  0  3 12]\n",
      "pred_labels: [2 7 7 7 9]\n",
      "Epoch 3 - avg_train_loss: 2.0002  lr: 9.9312e-04  time: 13s\n",
      "Epoch 3 - Score: 0.4580\n",
      "Epoch 3 - Save Best Score: 0.4580 Model\n"
     ]
    },
    {
     "name": "stdout",
     "output_type": "stream",
     "text": [
      "EVAL: [8/9] Data 0.005 (0.022) Elapsed 0m 0s (remain 0m 0s) \n",
      "Epoch: [4][0/40] Data 0.045 (0.045) Elapsed 0m 0s (remain 0m 12s) Loss: 1.4794(1.4794) Grad Norm: 5.7078  LR: 9.8627e-04  \n",
      "Epoch: [4][39/40] Data 0.045 (0.044) Elapsed 0m 11s (remain 0m 0s) Loss: 2.4323(1.6893) Grad Norm: 6.3421  LR: 9.8627e-04  \n",
      "EVAL: [0/9] Data 0.024 (0.024) Elapsed 0m 0s (remain 0m 0s) \n"
     ]
    },
    {
     "name": "stderr",
     "output_type": "stream",
     "text": [
      "labels: [ 6  4  0  3 12]\n",
      "pred_labels: [11  7  7  7  8]\n",
      "Epoch 4 - avg_train_loss: 1.6893  lr: 9.8627e-04  time: 13s\n",
      "Epoch 4 - Score: 0.4733\n",
      "Epoch 4 - Save Best Score: 0.4733 Model\n"
     ]
    },
    {
     "name": "stdout",
     "output_type": "stream",
     "text": [
      "EVAL: [8/9] Data 0.005 (0.022) Elapsed 0m 0s (remain 0m 0s) \n",
      "Epoch: [5][0/40] Data 0.043 (0.043) Elapsed 0m 0s (remain 0m 12s) Loss: 1.3309(1.3309) Grad Norm: 18.3132  LR: 9.7751e-04  \n",
      "Epoch: [5][39/40] Data 0.048 (0.044) Elapsed 0m 11s (remain 0m 0s) Loss: 1.3616(1.5218) Grad Norm: 16.0142  LR: 9.7751e-04  \n",
      "EVAL: [0/9] Data 0.025 (0.025) Elapsed 0m 0s (remain 0m 0s) \n"
     ]
    },
    {
     "name": "stderr",
     "output_type": "stream",
     "text": [
      "labels: [ 6  4  0  3 12]\n",
      "pred_labels: [2 0 0 3 9]\n",
      "Epoch 5 - avg_train_loss: 1.5218  lr: 9.7751e-04  time: 13s\n",
      "Epoch 5 - Score: 0.5573\n",
      "Epoch 5 - Save Best Score: 0.5573 Model\n"
     ]
    },
    {
     "name": "stdout",
     "output_type": "stream",
     "text": [
      "EVAL: [8/9] Data 0.005 (0.023) Elapsed 0m 0s (remain 0m 0s) \n",
      "Epoch: [6][0/40] Data 0.035 (0.035) Elapsed 0m 0s (remain 0m 11s) Loss: 0.4461(0.4461) Grad Norm: 6.5671  LR: 9.6688e-04  \n",
      "Epoch: [6][39/40] Data 0.045 (0.043) Elapsed 0m 11s (remain 0m 0s) Loss: 1.5436(1.3472) Grad Norm: 9.7783  LR: 9.6688e-04  \n",
      "EVAL: [0/9] Data 0.024 (0.024) Elapsed 0m 0s (remain 0m 0s) \n"
     ]
    },
    {
     "name": "stderr",
     "output_type": "stream",
     "text": [
      "labels: [ 6  4  0  3 12]\n",
      "pred_labels: [2 4 0 3 9]\n",
      "Epoch 6 - avg_train_loss: 1.3472  lr: 9.6688e-04  time: 13s\n",
      "Epoch 6 - Score: 0.5649\n",
      "Epoch 6 - Save Best Score: 0.5649 Model\n"
     ]
    },
    {
     "name": "stdout",
     "output_type": "stream",
     "text": [
      "EVAL: [8/9] Data 0.005 (0.022) Elapsed 0m 0s (remain 0m 0s) \n",
      "Epoch: [7][0/40] Data 0.043 (0.043) Elapsed 0m 0s (remain 0m 11s) Loss: 1.4355(1.4355) Grad Norm: 11.4886  LR: 9.5441e-04  \n",
      "Epoch: [7][39/40] Data 0.045 (0.044) Elapsed 0m 11s (remain 0m 0s) Loss: 1.1564(1.2383) Grad Norm: 9.2179  LR: 9.5441e-04  \n",
      "EVAL: [0/9] Data 0.025 (0.025) Elapsed 0m 0s (remain 0m 0s) \n"
     ]
    },
    {
     "name": "stderr",
     "output_type": "stream",
     "text": [
      "labels: [ 6  4  0  3 12]\n",
      "pred_labels: [11  4  0  3  9]\n",
      "Epoch 7 - avg_train_loss: 1.2383  lr: 9.5441e-04  time: 13s\n",
      "Epoch 7 - Score: 0.5725\n",
      "Epoch 7 - Save Best Score: 0.5725 Model\n"
     ]
    },
    {
     "name": "stdout",
     "output_type": "stream",
     "text": [
      "EVAL: [8/9] Data 0.005 (0.022) Elapsed 0m 0s (remain 0m 0s) \n",
      "Epoch: [8][0/40] Data 0.060 (0.060) Elapsed 0m 0s (remain 0m 12s) Loss: 0.3371(0.3371) Grad Norm: 7.2349  LR: 9.4016e-04  \n",
      "Epoch: [8][39/40] Data 0.046 (0.045) Elapsed 0m 11s (remain 0m 0s) Loss: 0.9037(1.0443) Grad Norm: 11.8034  LR: 9.4016e-04  \n",
      "EVAL: [0/9] Data 0.024 (0.024) Elapsed 0m 0s (remain 0m 0s) \n"
     ]
    },
    {
     "name": "stderr",
     "output_type": "stream",
     "text": [
      "labels: [ 6  4  0  3 12]\n",
      "pred_labels: [11  4  0  3  9]\n",
      "Epoch 8 - avg_train_loss: 1.0443  lr: 9.4016e-04  time: 13s\n",
      "Epoch 8 - Score: 0.5344\n"
     ]
    },
    {
     "name": "stdout",
     "output_type": "stream",
     "text": [
      "EVAL: [8/9] Data 0.005 (0.022) Elapsed 0m 0s (remain 0m 0s) \n",
      "Epoch: [9][0/40] Data 0.040 (0.040) Elapsed 0m 0s (remain 0m 11s) Loss: 0.2814(0.2814) Grad Norm: 6.0182  LR: 9.2418e-04  \n",
      "Epoch: [9][39/40] Data 0.042 (0.044) Elapsed 0m 11s (remain 0m 0s) Loss: 1.1865(1.1418) Grad Norm: 13.3272  LR: 9.2418e-04  \n",
      "EVAL: [0/9] Data 0.025 (0.025) Elapsed 0m 0s (remain 0m 0s) \n"
     ]
    },
    {
     "name": "stderr",
     "output_type": "stream",
     "text": [
      "labels: [ 6  4  0  3 12]\n",
      "pred_labels: [6 4 0 3 8]\n",
      "Epoch 9 - avg_train_loss: 1.1418  lr: 9.2418e-04  time: 13s\n",
      "Epoch 9 - Score: 0.5878\n",
      "Epoch 9 - Save Best Score: 0.5878 Model\n"
     ]
    },
    {
     "name": "stdout",
     "output_type": "stream",
     "text": [
      "EVAL: [8/9] Data 0.005 (0.022) Elapsed 0m 0s (remain 0m 0s) \n",
      "Epoch: [10][0/40] Data 0.044 (0.044) Elapsed 0m 0s (remain 0m 12s) Loss: 1.3936(1.3936) Grad Norm: 9.6780  LR: 9.0654e-04  \n",
      "Epoch: [10][39/40] Data 0.049 (0.044) Elapsed 0m 11s (remain 0m 0s) Loss: 1.6520(0.8650) Grad Norm: 6.8215  LR: 9.0654e-04  \n",
      "EVAL: [0/9] Data 0.024 (0.024) Elapsed 0m 0s (remain 0m 0s) \n"
     ]
    },
    {
     "name": "stderr",
     "output_type": "stream",
     "text": [
      "labels: [ 6  4  0  3 12]\n",
      "pred_labels: [6 4 0 3 9]\n",
      "Epoch 10 - avg_train_loss: 0.8650  lr: 9.0654e-04  time: 13s\n",
      "Epoch 10 - Score: 0.5802\n"
     ]
    },
    {
     "name": "stdout",
     "output_type": "stream",
     "text": [
      "EVAL: [8/9] Data 0.004 (0.021) Elapsed 0m 0s (remain 0m 0s) \n",
      "Epoch: [11][0/40] Data 0.046 (0.046) Elapsed 0m 0s (remain 0m 11s) Loss: 0.2187(0.2187) Grad Norm: 12.9465  LR: 8.8730e-04  \n",
      "Epoch: [11][39/40] Data 0.046 (0.044) Elapsed 0m 11s (remain 0m 0s) Loss: 0.8589(0.9911) Grad Norm: 13.2640  LR: 8.8730e-04  \n",
      "EVAL: [0/9] Data 0.026 (0.026) Elapsed 0m 0s (remain 0m 0s) \n"
     ]
    },
    {
     "name": "stderr",
     "output_type": "stream",
     "text": [
      "labels: [ 6  4  0  3 12]\n",
      "pred_labels: [11  4  0  3  9]\n",
      "Epoch 11 - avg_train_loss: 0.9911  lr: 8.8730e-04  time: 13s\n",
      "Epoch 11 - Score: 0.5725\n"
     ]
    },
    {
     "name": "stdout",
     "output_type": "stream",
     "text": [
      "EVAL: [8/9] Data 0.005 (0.023) Elapsed 0m 0s (remain 0m 0s) \n",
      "Epoch: [12][0/40] Data 0.042 (0.042) Elapsed 0m 0s (remain 0m 11s) Loss: 1.2326(1.2326) Grad Norm: 4.1804  LR: 8.6655e-04  \n",
      "Epoch: [12][39/40] Data 0.045 (0.044) Elapsed 0m 11s (remain 0m 0s) Loss: 0.4269(1.0765) Grad Norm: 10.7750  LR: 8.6655e-04  \n",
      "EVAL: [0/9] Data 0.027 (0.027) Elapsed 0m 0s (remain 0m 0s) \n"
     ]
    },
    {
     "name": "stderr",
     "output_type": "stream",
     "text": [
      "labels: [ 6  4  0  3 12]\n",
      "pred_labels: [11  4  0  3  8]\n",
      "Epoch 12 - avg_train_loss: 1.0765  lr: 8.6655e-04  time: 13s\n",
      "Epoch 12 - Score: 0.5573\n"
     ]
    },
    {
     "name": "stdout",
     "output_type": "stream",
     "text": [
      "EVAL: [8/9] Data 0.005 (0.022) Elapsed 0m 0s (remain 0m 0s) \n",
      "Epoch: [13][0/40] Data 0.043 (0.043) Elapsed 0m 0s (remain 0m 11s) Loss: 0.3318(0.3318) Grad Norm: 12.4212  LR: 8.4436e-04  \n",
      "Epoch: [13][39/40] Data 0.037 (0.044) Elapsed 0m 11s (remain 0m 0s) Loss: 0.4264(1.0806) Grad Norm: 8.1997  LR: 8.4436e-04  \n",
      "EVAL: [0/9] Data 0.023 (0.023) Elapsed 0m 0s (remain 0m 0s) \n"
     ]
    },
    {
     "name": "stderr",
     "output_type": "stream",
     "text": [
      "labels: [ 6  4  0  3 12]\n",
      "pred_labels: [11  4  0  4  8]\n",
      "Epoch 13 - avg_train_loss: 1.0806  lr: 8.4436e-04  time: 13s\n",
      "Epoch 13 - Score: 0.5649\n"
     ]
    },
    {
     "name": "stdout",
     "output_type": "stream",
     "text": [
      "EVAL: [8/9] Data 0.005 (0.022) Elapsed 0m 0s (remain 0m 0s) \n",
      "Epoch: [14][0/40] Data 0.043 (0.043) Elapsed 0m 0s (remain 0m 11s) Loss: 0.3514(0.3514) Grad Norm: 6.3839  LR: 8.2081e-04  \n",
      "Epoch: [14][39/40] Data 0.047 (0.044) Elapsed 0m 12s (remain 0m 0s) Loss: 1.2803(1.0347) Grad Norm: 7.5336  LR: 8.2081e-04  \n",
      "EVAL: [0/9] Data 0.025 (0.025) Elapsed 0m 0s (remain 0m 0s) \n"
     ]
    },
    {
     "name": "stderr",
     "output_type": "stream",
     "text": [
      "labels: [ 6  4  0  3 12]\n",
      "pred_labels: [0 4 6 3 9]\n",
      "Epoch 14 - avg_train_loss: 1.0347  lr: 8.2081e-04  time: 13s\n",
      "Epoch 14 - Score: 0.6031\n",
      "Epoch 14 - Save Best Score: 0.6031 Model\n"
     ]
    },
    {
     "name": "stdout",
     "output_type": "stream",
     "text": [
      "EVAL: [8/9] Data 0.005 (0.022) Elapsed 0m 0s (remain 0m 0s) \n",
      "Epoch: [15][0/40] Data 0.049 (0.049) Elapsed 0m 0s (remain 0m 12s) Loss: 1.2389(1.2389) Grad Norm: 4.6496  LR: 7.9601e-04  \n",
      "Epoch: [15][39/40] Data 0.043 (0.044) Elapsed 0m 11s (remain 0m 0s) Loss: 1.7381(0.8764) Grad Norm: 24.4815  LR: 7.9601e-04  \n",
      "EVAL: [0/9] Data 0.024 (0.024) Elapsed 0m 0s (remain 0m 0s) \n"
     ]
    },
    {
     "name": "stderr",
     "output_type": "stream",
     "text": [
      "labels: [ 6  4  0  3 12]\n",
      "pred_labels: [11  4  0  3  1]\n",
      "Epoch 15 - avg_train_loss: 0.8764  lr: 7.9601e-04  time: 13s\n",
      "Epoch 15 - Score: 0.5802\n"
     ]
    },
    {
     "name": "stdout",
     "output_type": "stream",
     "text": [
      "EVAL: [8/9] Data 0.005 (0.022) Elapsed 0m 0s (remain 0m 0s) \n",
      "Epoch: [16][0/40] Data 0.045 (0.045) Elapsed 0m 0s (remain 0m 11s) Loss: 0.1890(0.1890) Grad Norm: 8.3681  LR: 7.7006e-04  \n",
      "Epoch: [16][39/40] Data 0.044 (0.043) Elapsed 0m 11s (remain 0m 0s) Loss: 0.9754(0.8831) Grad Norm: 15.2883  LR: 7.7006e-04  \n",
      "EVAL: [0/9] Data 0.024 (0.024) Elapsed 0m 0s (remain 0m 0s) \n"
     ]
    },
    {
     "name": "stderr",
     "output_type": "stream",
     "text": [
      "labels: [ 6  4  0  3 12]\n",
      "pred_labels: [11  4  0  3  8]\n",
      "Epoch 16 - avg_train_loss: 0.8831  lr: 7.7006e-04  time: 13s\n",
      "Epoch 16 - Score: 0.5802\n"
     ]
    },
    {
     "name": "stdout",
     "output_type": "stream",
     "text": [
      "EVAL: [8/9] Data 0.005 (0.022) Elapsed 0m 0s (remain 0m 0s) \n",
      "Epoch: [17][0/40] Data 0.045 (0.045) Elapsed 0m 0s (remain 0m 11s) Loss: 0.0752(0.0752) Grad Norm: 4.4505  LR: 7.4304e-04  \n",
      "Epoch: [17][39/40] Data 0.042 (0.044) Elapsed 0m 11s (remain 0m 0s) Loss: 0.2445(0.9652) Grad Norm: 7.9543  LR: 7.4304e-04  \n",
      "EVAL: [0/9] Data 0.024 (0.024) Elapsed 0m 0s (remain 0m 0s) \n"
     ]
    },
    {
     "name": "stderr",
     "output_type": "stream",
     "text": [
      "labels: [ 6  4  0  3 12]\n",
      "pred_labels: [ 2  4  0  3 12]\n",
      "Epoch 17 - avg_train_loss: 0.9652  lr: 7.4304e-04  time: 13s\n",
      "Epoch 17 - Score: 0.5954\n"
     ]
    },
    {
     "name": "stdout",
     "output_type": "stream",
     "text": [
      "EVAL: [8/9] Data 0.005 (0.022) Elapsed 0m 0s (remain 0m 0s) \n",
      "Epoch: [18][0/40] Data 0.046 (0.046) Elapsed 0m 0s (remain 0m 12s) Loss: 0.2276(0.2276) Grad Norm: 6.9205  LR: 7.1508e-04  \n",
      "Epoch: [18][39/40] Data 0.047 (0.045) Elapsed 0m 11s (remain 0m 0s) Loss: 0.7638(0.8658) Grad Norm: 17.9197  LR: 7.1508e-04  \n",
      "EVAL: [0/9] Data 0.024 (0.024) Elapsed 0m 0s (remain 0m 0s) \n"
     ]
    },
    {
     "name": "stderr",
     "output_type": "stream",
     "text": [
      "labels: [ 6  4  0  3 12]\n",
      "pred_labels: [2 4 0 3 9]\n",
      "Epoch 18 - avg_train_loss: 0.8658  lr: 7.1508e-04  time: 13s\n",
      "Epoch 18 - Score: 0.5573\n"
     ]
    },
    {
     "name": "stdout",
     "output_type": "stream",
     "text": [
      "EVAL: [8/9] Data 0.005 (0.022) Elapsed 0m 0s (remain 0m 0s) \n",
      "Epoch: [19][0/40] Data 0.046 (0.046) Elapsed 0m 0s (remain 0m 11s) Loss: 1.1014(1.1014) Grad Norm: 5.9781  LR: 6.8627e-04  \n",
      "Epoch: [19][39/40] Data 0.043 (0.044) Elapsed 0m 11s (remain 0m 0s) Loss: 0.4448(0.7142) Grad Norm: 18.3878  LR: 6.8627e-04  \n",
      "EVAL: [0/9] Data 0.025 (0.025) Elapsed 0m 0s (remain 0m 0s) \n"
     ]
    },
    {
     "name": "stderr",
     "output_type": "stream",
     "text": [
      "labels: [ 6  4  0  3 12]\n",
      "pred_labels: [ 5  4  0  3 12]\n",
      "Epoch 19 - avg_train_loss: 0.7142  lr: 6.8627e-04  time: 13s\n",
      "Epoch 19 - Score: 0.6183\n",
      "Epoch 19 - Save Best Score: 0.6183 Model\n"
     ]
    },
    {
     "name": "stdout",
     "output_type": "stream",
     "text": [
      "EVAL: [8/9] Data 0.005 (0.022) Elapsed 0m 0s (remain 0m 0s) \n",
      "Epoch: [20][0/40] Data 0.039 (0.039) Elapsed 0m 0s (remain 0m 11s) Loss: 0.5281(0.5281) Grad Norm: 10.0558  LR: 6.5674e-04  \n",
      "Epoch: [20][39/40] Data 0.043 (0.043) Elapsed 0m 11s (remain 0m 0s) Loss: 1.2509(0.8366) Grad Norm: 5.4251  LR: 6.5674e-04  \n",
      "EVAL: [0/9] Data 0.025 (0.025) Elapsed 0m 0s (remain 0m 0s) \n"
     ]
    },
    {
     "name": "stderr",
     "output_type": "stream",
     "text": [
      "labels: [ 6  4  0  3 12]\n",
      "pred_labels: [11  4  0  3 12]\n",
      "Epoch 20 - avg_train_loss: 0.8366  lr: 6.5674e-04  time: 13s\n",
      "Epoch 20 - Score: 0.6412\n",
      "Epoch 20 - Save Best Score: 0.6412 Model\n"
     ]
    },
    {
     "name": "stdout",
     "output_type": "stream",
     "text": [
      "EVAL: [8/9] Data 0.005 (0.022) Elapsed 0m 0s (remain 0m 0s) \n",
      "Epoch: [21][0/40] Data 0.044 (0.044) Elapsed 0m 0s (remain 0m 12s) Loss: 1.4395(1.4395) Grad Norm: 5.5132  LR: 6.2661e-04  \n",
      "Epoch: [21][39/40] Data 0.047 (0.044) Elapsed 0m 11s (remain 0m 0s) Loss: 0.2673(0.6712) Grad Norm: 11.0865  LR: 6.2661e-04  \n",
      "EVAL: [0/9] Data 0.023 (0.023) Elapsed 0m 0s (remain 0m 0s) \n"
     ]
    },
    {
     "name": "stderr",
     "output_type": "stream",
     "text": [
      "labels: [ 6  4  0  3 12]\n",
      "pred_labels: [ 6  4  0  3 12]\n",
      "Epoch 21 - avg_train_loss: 0.6712  lr: 6.2661e-04  time: 13s\n",
      "Epoch 21 - Score: 0.6107\n"
     ]
    },
    {
     "name": "stdout",
     "output_type": "stream",
     "text": [
      "EVAL: [8/9] Data 0.005 (0.022) Elapsed 0m 0s (remain 0m 0s) \n",
      "Epoch: [22][0/40] Data 0.038 (0.038) Elapsed 0m 0s (remain 0m 11s) Loss: 0.0590(0.0590) Grad Norm: 5.0606  LR: 5.9598e-04  \n",
      "Epoch: [22][39/40] Data 0.044 (0.043) Elapsed 0m 11s (remain 0m 0s) Loss: 0.1604(0.7260) Grad Norm: 6.0176  LR: 5.9598e-04  \n",
      "EVAL: [0/9] Data 0.025 (0.025) Elapsed 0m 0s (remain 0m 0s) \n"
     ]
    },
    {
     "name": "stderr",
     "output_type": "stream",
     "text": [
      "labels: [ 6  4  0  3 12]\n",
      "pred_labels: [ 6  4  0  3 12]\n",
      "Epoch 22 - avg_train_loss: 0.7260  lr: 5.9598e-04  time: 13s\n",
      "Epoch 22 - Score: 0.6031\n"
     ]
    },
    {
     "name": "stdout",
     "output_type": "stream",
     "text": [
      "EVAL: [8/9] Data 0.004 (0.022) Elapsed 0m 0s (remain 0m 0s) \n",
      "Epoch: [23][0/40] Data 0.046 (0.046) Elapsed 0m 0s (remain 0m 11s) Loss: 0.0102(0.0102) Grad Norm: 0.2607  LR: 5.6498e-04  \n",
      "Epoch: [23][39/40] Data 0.044 (0.044) Elapsed 0m 11s (remain 0m 0s) Loss: 1.1329(0.4884) Grad Norm: 8.2321  LR: 5.6498e-04  \n",
      "EVAL: [0/9] Data 0.024 (0.024) Elapsed 0m 0s (remain 0m 0s) \n"
     ]
    },
    {
     "name": "stderr",
     "output_type": "stream",
     "text": [
      "labels: [ 6  4  0  3 12]\n",
      "pred_labels: [ 0  4  0  3 12]\n",
      "Epoch 23 - avg_train_loss: 0.4884  lr: 5.6498e-04  time: 13s\n",
      "Epoch 23 - Score: 0.6031\n"
     ]
    },
    {
     "name": "stdout",
     "output_type": "stream",
     "text": [
      "EVAL: [8/9] Data 0.005 (0.025) Elapsed 0m 0s (remain 0m 0s) \n",
      "Epoch: [24][0/40] Data 0.040 (0.040) Elapsed 0m 0s (remain 0m 11s) Loss: 1.1704(1.1704) Grad Norm: 6.3371  LR: 5.3373e-04  \n",
      "Epoch: [24][39/40] Data 0.040 (0.046) Elapsed 0m 12s (remain 0m 0s) Loss: 1.5552(0.7604) Grad Norm: 8.0578  LR: 5.3373e-04  \n",
      "EVAL: [0/9] Data 0.023 (0.023) Elapsed 0m 0s (remain 0m 0s) \n"
     ]
    },
    {
     "name": "stderr",
     "output_type": "stream",
     "text": [
      "labels: [ 6  4  0  3 12]\n",
      "pred_labels: [ 6  4  0  3 12]\n",
      "Epoch 24 - avg_train_loss: 0.7604  lr: 5.3373e-04  time: 13s\n",
      "Epoch 24 - Score: 0.5954\n"
     ]
    },
    {
     "name": "stdout",
     "output_type": "stream",
     "text": [
      "EVAL: [8/9] Data 0.004 (0.022) Elapsed 0m 0s (remain 0m 0s) \n",
      "Epoch: [25][0/40] Data 0.047 (0.047) Elapsed 0m 0s (remain 0m 11s) Loss: 0.0378(0.0378) Grad Norm: 1.6650  LR: 5.0236e-04  \n",
      "Epoch: [25][39/40] Data 0.044 (0.043) Elapsed 0m 11s (remain 0m 0s) Loss: 0.0113(0.6483) Grad Norm: 0.4655  LR: 5.0236e-04  \n",
      "EVAL: [0/9] Data 0.026 (0.026) Elapsed 0m 0s (remain 0m 0s) \n"
     ]
    },
    {
     "name": "stderr",
     "output_type": "stream",
     "text": [
      "labels: [ 6  4  0  3 12]\n",
      "pred_labels: [ 6  2  0  3 12]\n",
      "Epoch 25 - avg_train_loss: 0.6483  lr: 5.0236e-04  time: 13s\n",
      "Epoch 25 - Score: 0.6336\n"
     ]
    },
    {
     "name": "stdout",
     "output_type": "stream",
     "text": [
      "EVAL: [8/9] Data 0.005 (0.022) Elapsed 0m 0s (remain 0m 0s) \n",
      "Epoch: [26][0/40] Data 0.044 (0.044) Elapsed 0m 0s (remain 0m 11s) Loss: 0.0787(0.0787) Grad Norm: 4.9180  LR: 4.7099e-04  \n",
      "Epoch: [26][39/40] Data 0.039 (0.043) Elapsed 0m 11s (remain 0m 0s) Loss: 1.7055(0.5199) Grad Norm: 11.7575  LR: 4.7099e-04  \n",
      "EVAL: [0/9] Data 0.025 (0.025) Elapsed 0m 0s (remain 0m 0s) \n"
     ]
    },
    {
     "name": "stderr",
     "output_type": "stream",
     "text": [
      "labels: [ 6  4  0  3 12]\n",
      "pred_labels: [ 5  4  0  3 12]\n",
      "Epoch 26 - avg_train_loss: 0.5199  lr: 4.7099e-04  time: 13s\n",
      "Epoch 26 - Score: 0.6107\n"
     ]
    },
    {
     "name": "stdout",
     "output_type": "stream",
     "text": [
      "EVAL: [8/9] Data 0.004 (0.022) Elapsed 0m 0s (remain 0m 0s) \n",
      "Epoch: [27][0/40] Data 0.043 (0.043) Elapsed 0m 0s (remain 0m 11s) Loss: 0.0051(0.0051) Grad Norm: 0.2883  LR: 4.3974e-04  \n",
      "Epoch: [27][39/40] Data 0.040 (0.044) Elapsed 0m 11s (remain 0m 0s) Loss: 1.4871(0.5773) Grad Norm: 8.5998  LR: 4.3974e-04  \n",
      "EVAL: [0/9] Data 0.023 (0.023) Elapsed 0m 0s (remain 0m 0s) \n"
     ]
    },
    {
     "name": "stderr",
     "output_type": "stream",
     "text": [
      "labels: [ 6  4  0  3 12]\n",
      "pred_labels: [2 4 0 3 9]\n",
      "Epoch 27 - avg_train_loss: 0.5773  lr: 4.3974e-04  time: 13s\n",
      "Epoch 27 - Score: 0.5954\n"
     ]
    },
    {
     "name": "stdout",
     "output_type": "stream",
     "text": [
      "EVAL: [8/9] Data 0.005 (0.022) Elapsed 0m 0s (remain 0m 0s) \n",
      "Epoch: [28][0/40] Data 0.041 (0.041) Elapsed 0m 0s (remain 0m 11s) Loss: 0.9262(0.9262) Grad Norm: 4.5365  LR: 4.0874e-04  \n",
      "Epoch: [28][39/40] Data 0.043 (0.045) Elapsed 0m 11s (remain 0m 0s) Loss: 0.9434(0.7003) Grad Norm: 5.0764  LR: 4.0874e-04  \n",
      "EVAL: [0/9] Data 0.024 (0.024) Elapsed 0m 0s (remain 0m 0s) \n"
     ]
    },
    {
     "name": "stderr",
     "output_type": "stream",
     "text": [
      "labels: [ 6  4  0  3 12]\n",
      "pred_labels: [ 6  4  0  3 12]\n",
      "Epoch 28 - avg_train_loss: 0.7003  lr: 4.0874e-04  time: 13s\n",
      "Epoch 28 - Score: 0.6183\n"
     ]
    },
    {
     "name": "stdout",
     "output_type": "stream",
     "text": [
      "EVAL: [8/9] Data 0.005 (0.022) Elapsed 0m 0s (remain 0m 0s) \n",
      "Epoch: [29][0/40] Data 0.045 (0.045) Elapsed 0m 0s (remain 0m 11s) Loss: 0.9478(0.9478) Grad Norm: 6.2050  LR: 3.7811e-04  \n",
      "Epoch: [29][39/40] Data 0.041 (0.044) Elapsed 0m 11s (remain 0m 0s) Loss: 1.2288(0.4296) Grad Norm: 7.2988  LR: 3.7811e-04  \n",
      "EVAL: [0/9] Data 0.025 (0.025) Elapsed 0m 0s (remain 0m 0s) \n"
     ]
    },
    {
     "name": "stderr",
     "output_type": "stream",
     "text": [
      "labels: [ 6  4  0  3 12]\n",
      "pred_labels: [ 6  4  0  3 12]\n",
      "Epoch 29 - avg_train_loss: 0.4296  lr: 3.7811e-04  time: 13s\n",
      "Epoch 29 - Score: 0.6641\n",
      "Epoch 29 - Save Best Score: 0.6641 Model\n"
     ]
    },
    {
     "name": "stdout",
     "output_type": "stream",
     "text": [
      "EVAL: [8/9] Data 0.005 (0.027) Elapsed 0m 0s (remain 0m 0s) \n",
      "Epoch: [30][0/40] Data 0.042 (0.042) Elapsed 0m 0s (remain 0m 12s) Loss: 1.2029(1.2029) Grad Norm: 4.9991  LR: 3.4797e-04  \n",
      "Epoch: [30][39/40] Data 0.037 (0.046) Elapsed 0m 12s (remain 0m 0s) Loss: 0.8301(0.6612) Grad Norm: 4.2979  LR: 3.4797e-04  \n",
      "EVAL: [0/9] Data 0.023 (0.023) Elapsed 0m 0s (remain 0m 0s) \n"
     ]
    },
    {
     "name": "stderr",
     "output_type": "stream",
     "text": [
      "labels: [ 6  4  0  3 12]\n",
      "pred_labels: [ 6  4  0  3 12]\n",
      "Epoch 30 - avg_train_loss: 0.6612  lr: 3.4797e-04  time: 13s\n",
      "Epoch 30 - Score: 0.6336\n"
     ]
    },
    {
     "name": "stdout",
     "output_type": "stream",
     "text": [
      "EVAL: [8/9] Data 0.005 (0.022) Elapsed 0m 0s (remain 0m 0s) \n",
      "Epoch: [31][0/40] Data 0.047 (0.047) Elapsed 0m 0s (remain 0m 11s) Loss: 0.0185(0.0185) Grad Norm: 2.2599  LR: 3.1843e-04  \n",
      "Epoch: [31][39/40] Data 0.043 (0.045) Elapsed 0m 11s (remain 0m 0s) Loss: 0.0743(0.4804) Grad Norm: 8.2481  LR: 3.1843e-04  \n",
      "EVAL: [0/9] Data 0.024 (0.024) Elapsed 0m 0s (remain 0m 0s) \n"
     ]
    },
    {
     "name": "stderr",
     "output_type": "stream",
     "text": [
      "labels: [ 6  4  0  3 12]\n",
      "pred_labels: [ 6  2  0  3 12]\n",
      "Epoch 31 - avg_train_loss: 0.4804  lr: 3.1843e-04  time: 13s\n",
      "Epoch 31 - Score: 0.6489\n"
     ]
    },
    {
     "name": "stdout",
     "output_type": "stream",
     "text": [
      "EVAL: [8/9] Data 0.005 (0.022) Elapsed 0m 0s (remain 0m 0s) \n",
      "Epoch: [32][0/40] Data 0.049 (0.049) Elapsed 0m 0s (remain 0m 11s) Loss: 0.9372(0.9372) Grad Norm: 5.0989  LR: 2.8962e-04  \n",
      "Epoch: [32][39/40] Data 0.043 (0.044) Elapsed 0m 11s (remain 0m 0s) Loss: 0.8403(0.5617) Grad Norm: 5.0275  LR: 2.8962e-04  \n",
      "EVAL: [0/9] Data 0.024 (0.024) Elapsed 0m 0s (remain 0m 0s) \n"
     ]
    },
    {
     "name": "stderr",
     "output_type": "stream",
     "text": [
      "labels: [ 6  4  0  3 12]\n",
      "pred_labels: [11  4  0  3  9]\n",
      "Epoch 32 - avg_train_loss: 0.5617  lr: 2.8962e-04  time: 13s\n",
      "Epoch 32 - Score: 0.6412\n"
     ]
    },
    {
     "name": "stdout",
     "output_type": "stream",
     "text": [
      "EVAL: [8/9] Data 0.005 (0.022) Elapsed 0m 0s (remain 0m 0s) \n",
      "Epoch: [33][0/40] Data 0.046 (0.046) Elapsed 0m 0s (remain 0m 11s) Loss: 0.9785(0.9785) Grad Norm: 4.6729  LR: 2.6165e-04  \n",
      "Epoch: [33][39/40] Data 0.045 (0.044) Elapsed 0m 11s (remain 0m 0s) Loss: 0.9592(0.4462) Grad Norm: 4.7246  LR: 2.6165e-04  \n",
      "EVAL: [0/9] Data 0.024 (0.024) Elapsed 0m 0s (remain 0m 0s) \n"
     ]
    },
    {
     "name": "stderr",
     "output_type": "stream",
     "text": [
      "labels: [ 6  4  0  3 12]\n",
      "pred_labels: [11  4  0  3 12]\n",
      "Epoch 33 - avg_train_loss: 0.4462  lr: 2.6165e-04  time: 13s\n",
      "Epoch 33 - Score: 0.6412\n"
     ]
    },
    {
     "name": "stdout",
     "output_type": "stream",
     "text": [
      "EVAL: [8/9] Data 0.005 (0.022) Elapsed 0m 0s (remain 0m 0s) \n",
      "Epoch: [34][0/40] Data 0.041 (0.041) Elapsed 0m 0s (remain 0m 11s) Loss: 0.9400(0.9400) Grad Norm: 4.2439  LR: 2.3463e-04  \n",
      "Epoch: [34][39/40] Data 0.041 (0.044) Elapsed 0m 11s (remain 0m 0s) Loss: 0.8215(0.6037) Grad Norm: 3.6949  LR: 2.3463e-04  \n",
      "EVAL: [0/9] Data 0.025 (0.025) Elapsed 0m 0s (remain 0m 0s) \n"
     ]
    },
    {
     "name": "stderr",
     "output_type": "stream",
     "text": [
      "labels: [ 6  4  0  3 12]\n",
      "pred_labels: [11  4  0  3  9]\n",
      "Epoch 34 - avg_train_loss: 0.6037  lr: 2.3463e-04  time: 13s\n",
      "Epoch 34 - Score: 0.6412\n"
     ]
    },
    {
     "name": "stdout",
     "output_type": "stream",
     "text": [
      "EVAL: [8/9] Data 0.005 (0.022) Elapsed 0m 0s (remain 0m 0s) \n",
      "Epoch: [35][0/40] Data 0.047 (0.047) Elapsed 0m 0s (remain 0m 11s) Loss: 0.0021(0.0021) Grad Norm: 0.0549  LR: 2.0866e-04  \n",
      "Epoch: [35][39/40] Data 0.047 (0.044) Elapsed 0m 11s (remain 0m 0s) Loss: 1.0138(0.4455) Grad Norm: 4.9539  LR: 2.0866e-04  \n",
      "EVAL: [0/9] Data 0.024 (0.024) Elapsed 0m 0s (remain 0m 0s) \n"
     ]
    },
    {
     "name": "stderr",
     "output_type": "stream",
     "text": [
      "labels: [ 6  4  0  3 12]\n",
      "pred_labels: [6 4 0 3 9]\n",
      "Epoch 35 - avg_train_loss: 0.4455  lr: 2.0866e-04  time: 13s\n",
      "Epoch 35 - Score: 0.6489\n"
     ]
    },
    {
     "name": "stdout",
     "output_type": "stream",
     "text": [
      "EVAL: [8/9] Data 0.005 (0.022) Elapsed 0m 0s (remain 0m 0s) \n",
      "Epoch: [36][0/40] Data 0.045 (0.045) Elapsed 0m 0s (remain 0m 11s) Loss: 1.3272(1.3272) Grad Norm: 7.4685  LR: 1.8385e-04  \n",
      "Epoch: [36][39/40] Data 0.050 (0.044) Elapsed 0m 11s (remain 0m 0s) Loss: 0.8605(0.5339) Grad Norm: 5.8078  LR: 1.8385e-04  \n",
      "EVAL: [0/9] Data 0.024 (0.024) Elapsed 0m 0s (remain 0m 0s) \n"
     ]
    },
    {
     "name": "stderr",
     "output_type": "stream",
     "text": [
      "labels: [ 6  4  0  3 12]\n",
      "pred_labels: [6 4 0 3 9]\n",
      "Epoch 36 - avg_train_loss: 0.5339  lr: 1.8385e-04  time: 13s\n",
      "Epoch 36 - Score: 0.6260\n"
     ]
    },
    {
     "name": "stdout",
     "output_type": "stream",
     "text": [
      "EVAL: [8/9] Data 0.005 (0.022) Elapsed 0m 0s (remain 0m 0s) \n",
      "Epoch: [37][0/40] Data 0.043 (0.043) Elapsed 0m 0s (remain 0m 11s) Loss: 0.8938(0.8938) Grad Norm: 4.5178  LR: 1.6030e-04  \n",
      "Epoch: [37][39/40] Data 0.039 (0.044) Elapsed 0m 11s (remain 0m 0s) Loss: 0.6215(0.4163) Grad Norm: 5.6627  LR: 1.6030e-04  \n",
      "EVAL: [0/9] Data 0.024 (0.024) Elapsed 0m 0s (remain 0m 0s) \n"
     ]
    },
    {
     "name": "stderr",
     "output_type": "stream",
     "text": [
      "labels: [ 6  4  0  3 12]\n",
      "pred_labels: [6 4 0 3 9]\n",
      "Epoch 37 - avg_train_loss: 0.4163  lr: 1.6030e-04  time: 13s\n",
      "Epoch 37 - Score: 0.6412\n"
     ]
    },
    {
     "name": "stdout",
     "output_type": "stream",
     "text": [
      "EVAL: [8/9] Data 0.004 (0.022) Elapsed 0m 0s (remain 0m 0s) \n",
      "Epoch: [38][0/40] Data 0.046 (0.046) Elapsed 0m 0s (remain 0m 11s) Loss: 0.0331(0.0331) Grad Norm: 3.5890  LR: 1.3809e-04  \n",
      "Epoch: [38][39/40] Data 0.038 (0.044) Elapsed 0m 11s (remain 0m 0s) Loss: 0.5867(0.4494) Grad Norm: 2.9723  LR: 1.3809e-04  \n",
      "EVAL: [0/9] Data 0.025 (0.025) Elapsed 0m 0s (remain 0m 0s) \n"
     ]
    },
    {
     "name": "stderr",
     "output_type": "stream",
     "text": [
      "labels: [ 6  4  0  3 12]\n",
      "pred_labels: [ 6  4  0  3 12]\n",
      "Epoch 38 - avg_train_loss: 0.4494  lr: 1.3809e-04  time: 13s\n",
      "Epoch 38 - Score: 0.6412\n"
     ]
    },
    {
     "name": "stdout",
     "output_type": "stream",
     "text": [
      "EVAL: [8/9] Data 0.006 (0.022) Elapsed 0m 0s (remain 0m 0s) \n",
      "Epoch: [39][0/40] Data 0.068 (0.068) Elapsed 0m 0s (remain 0m 12s) Loss: 1.0790(1.0790) Grad Norm: 4.6251  LR: 1.1732e-04  \n",
      "Epoch: [39][39/40] Data 0.043 (0.044) Elapsed 0m 11s (remain 0m 0s) Loss: 0.0011(0.4553) Grad Norm: 0.0427  LR: 1.1732e-04  \n",
      "EVAL: [0/9] Data 0.024 (0.024) Elapsed 0m 0s (remain 0m 0s) \n"
     ]
    },
    {
     "name": "stderr",
     "output_type": "stream",
     "text": [
      "labels: [ 6  4  0  3 12]\n",
      "pred_labels: [6 4 0 3 9]\n",
      "Epoch 39 - avg_train_loss: 0.4553  lr: 1.1732e-04  time: 13s\n",
      "Epoch 39 - Score: 0.6336\n"
     ]
    },
    {
     "name": "stdout",
     "output_type": "stream",
     "text": [
      "EVAL: [8/9] Data 0.005 (0.022) Elapsed 0m 0s (remain 0m 0s) \n",
      "Epoch: [40][0/40] Data 0.042 (0.042) Elapsed 0m 0s (remain 0m 11s) Loss: 0.7358(0.7358) Grad Norm: 4.1494  LR: 9.8058e-05  \n",
      "Epoch: [40][39/40] Data 0.048 (0.043) Elapsed 0m 11s (remain 0m 0s) Loss: 0.9917(0.3905) Grad Norm: 5.5776  LR: 9.8058e-05  \n",
      "EVAL: [0/9] Data 0.030 (0.030) Elapsed 0m 0s (remain 0m 0s) \n"
     ]
    },
    {
     "name": "stderr",
     "output_type": "stream",
     "text": [
      "labels: [ 6  4  0  3 12]\n",
      "pred_labels: [ 6  4  0  3 12]\n",
      "Epoch 40 - avg_train_loss: 0.3905  lr: 9.8058e-05  time: 13s\n",
      "Epoch 40 - Score: 0.6183\n"
     ]
    },
    {
     "name": "stdout",
     "output_type": "stream",
     "text": [
      "EVAL: [8/9] Data 0.005 (0.023) Elapsed 0m 0s (remain 0m 0s) \n",
      "Epoch: [41][0/40] Data 0.042 (0.042) Elapsed 0m 0s (remain 0m 11s) Loss: 0.9414(0.9414) Grad Norm: 3.9363  LR: 8.0390e-05  \n",
      "Epoch: [41][39/40] Data 0.044 (0.043) Elapsed 0m 11s (remain 0m 0s) Loss: 0.9791(0.4496) Grad Norm: 5.1499  LR: 8.0390e-05  \n",
      "EVAL: [0/9] Data 0.024 (0.024) Elapsed 0m 0s (remain 0m 0s) \n"
     ]
    },
    {
     "name": "stderr",
     "output_type": "stream",
     "text": [
      "labels: [ 6  4  0  3 12]\n",
      "pred_labels: [ 6  4  0  3 12]\n",
      "Epoch 41 - avg_train_loss: 0.4496  lr: 8.0390e-05  time: 13s\n",
      "Epoch 41 - Score: 0.6412\n"
     ]
    },
    {
     "name": "stdout",
     "output_type": "stream",
     "text": [
      "EVAL: [8/9] Data 0.005 (0.021) Elapsed 0m 0s (remain 0m 0s) \n",
      "Epoch: [42][0/40] Data 0.042 (0.042) Elapsed 0m 0s (remain 0m 11s) Loss: 0.9705(0.9705) Grad Norm: 7.4967  LR: 6.4381e-05  \n",
      "Epoch: [42][39/40] Data 0.044 (0.044) Elapsed 0m 11s (remain 0m 0s) Loss: 0.8578(0.3183) Grad Norm: 4.2332  LR: 6.4381e-05  \n",
      "EVAL: [0/9] Data 0.016 (0.016) Elapsed 0m 0s (remain 0m 0s) \n"
     ]
    },
    {
     "name": "stderr",
     "output_type": "stream",
     "text": [
      "labels: [ 6  4  0  3 12]\n",
      "pred_labels: [11  4  0  3 12]\n",
      "Epoch 42 - avg_train_loss: 0.3183  lr: 6.4381e-05  time: 13s\n",
      "Epoch 42 - Score: 0.6260\n"
     ]
    },
    {
     "name": "stdout",
     "output_type": "stream",
     "text": [
      "EVAL: [8/9] Data 0.005 (0.019) Elapsed 0m 0s (remain 0m 0s) \n",
      "Epoch: [43][0/40] Data 0.047 (0.047) Elapsed 0m 0s (remain 0m 11s) Loss: 1.0146(1.0146) Grad Norm: 18.3576  LR: 5.0093e-05  \n",
      "Epoch: [43][39/40] Data 0.035 (0.045) Elapsed 0m 11s (remain 0m 0s) Loss: 0.7032(0.4370) Grad Norm: 2.9952  LR: 5.0093e-05  \n",
      "EVAL: [0/9] Data 0.023 (0.023) Elapsed 0m 0s (remain 0m 0s) \n"
     ]
    },
    {
     "name": "stderr",
     "output_type": "stream",
     "text": [
      "labels: [ 6  4  0  3 12]\n",
      "pred_labels: [11  4  0  3 12]\n",
      "Epoch 43 - avg_train_loss: 0.4370  lr: 5.0093e-05  time: 13s\n",
      "Epoch 43 - Score: 0.6260\n"
     ]
    },
    {
     "name": "stdout",
     "output_type": "stream",
     "text": [
      "EVAL: [8/9] Data 0.000 (0.022) Elapsed 0m 0s (remain 0m 0s) \n",
      "Epoch: [44][0/40] Data 0.039 (0.039) Elapsed 0m 0s (remain 0m 11s) Loss: 0.5891(0.5891) Grad Norm: 2.9144  LR: 3.7578e-05  \n",
      "Epoch: [44][39/40] Data 0.049 (0.044) Elapsed 0m 11s (remain 0m 0s) Loss: 0.8840(0.3527) Grad Norm: 5.0039  LR: 3.7578e-05  \n",
      "EVAL: [0/9] Data 0.031 (0.031) Elapsed 0m 0s (remain 0m 0s) \n"
     ]
    },
    {
     "name": "stderr",
     "output_type": "stream",
     "text": [
      "labels: [ 6  4  0  3 12]\n",
      "pred_labels: [11  4  0  3 12]\n",
      "Epoch 44 - avg_train_loss: 0.3527  lr: 3.7578e-05  time: 12s\n",
      "Epoch 44 - Score: 0.6260\n"
     ]
    },
    {
     "name": "stdout",
     "output_type": "stream",
     "text": [
      "EVAL: [8/9] Data 0.000 (0.026) Elapsed 0m 0s (remain 0m 0s) \n",
      "Epoch: [45][0/40] Data 0.044 (0.044) Elapsed 0m 0s (remain 0m 11s) Loss: 0.7801(0.7801) Grad Norm: 3.9844  LR: 2.6881e-05  \n",
      "Epoch: [45][39/40] Data 0.037 (0.040) Elapsed 0m 11s (remain 0m 0s) Loss: 1.1545(0.3906) Grad Norm: 8.0256  LR: 2.6881e-05  \n",
      "EVAL: [0/9] Data 0.025 (0.025) Elapsed 0m 0s (remain 0m 0s) \n"
     ]
    },
    {
     "name": "stderr",
     "output_type": "stream",
     "text": [
      "labels: [ 6  4  0  3 12]\n",
      "pred_labels: [ 6  4  0  3 12]\n",
      "Epoch 45 - avg_train_loss: 0.3906  lr: 2.6881e-05  time: 13s\n",
      "Epoch 45 - Score: 0.6336\n"
     ]
    },
    {
     "name": "stdout",
     "output_type": "stream",
     "text": [
      "EVAL: [8/9] Data 0.005 (0.024) Elapsed 0m 0s (remain 0m 0s) \n",
      "Epoch: [46][0/40] Data 0.044 (0.044) Elapsed 0m 0s (remain 0m 11s) Loss: 0.0025(0.0025) Grad Norm: 0.1108  LR: 1.8039e-05  \n",
      "Epoch: [46][39/40] Data 0.050 (0.043) Elapsed 0m 11s (remain 0m 0s) Loss: 0.0004(0.0159) Grad Norm: 0.0158  LR: 1.8039e-05  \n",
      "EVAL: [0/9] Data 0.025 (0.025) Elapsed 0m 0s (remain 0m 0s) \n"
     ]
    },
    {
     "name": "stderr",
     "output_type": "stream",
     "text": [
      "labels: [ 6  4  0  3 12]\n",
      "pred_labels: [ 6  4  0  3 12]\n",
      "Epoch 46 - avg_train_loss: 0.0159  lr: 1.8039e-05  time: 13s\n",
      "Epoch 46 - Score: 0.6260\n"
     ]
    },
    {
     "name": "stdout",
     "output_type": "stream",
     "text": [
      "EVAL: [8/9] Data 0.005 (0.023) Elapsed 0m 0s (remain 0m 0s) \n",
      "Epoch: [47][0/40] Data 0.049 (0.049) Elapsed 0m 0s (remain 0m 11s) Loss: 0.0029(0.0029) Grad Norm: 0.1885  LR: 1.1073e-05  \n",
      "Epoch: [47][39/40] Data 0.044 (0.044) Elapsed 0m 11s (remain 0m 0s) Loss: 0.0032(0.0092) Grad Norm: 0.1812  LR: 1.1073e-05  \n",
      "EVAL: [0/9] Data 0.024 (0.024) Elapsed 0m 0s (remain 0m 0s) \n"
     ]
    },
    {
     "name": "stderr",
     "output_type": "stream",
     "text": [
      "labels: [ 6  4  0  3 12]\n",
      "pred_labels: [ 6  4  0  3 12]\n",
      "Epoch 47 - avg_train_loss: 0.0092  lr: 1.1073e-05  time: 13s\n",
      "Epoch 47 - Score: 0.6260\n"
     ]
    },
    {
     "name": "stdout",
     "output_type": "stream",
     "text": [
      "EVAL: [8/9] Data 0.005 (0.022) Elapsed 0m 0s (remain 0m 0s) \n",
      "Epoch: [48][0/40] Data 0.041 (0.041) Elapsed 0m 0s (remain 0m 11s) Loss: 0.0006(0.0006) Grad Norm: 0.0218  LR: 5.9882e-06  \n",
      "Epoch: [48][39/40] Data 0.044 (0.044) Elapsed 0m 11s (remain 0m 0s) Loss: 0.0013(0.0108) Grad Norm: 0.0674  LR: 5.9882e-06  \n",
      "EVAL: [0/9] Data 0.027 (0.027) Elapsed 0m 0s (remain 0m 0s) \n"
     ]
    },
    {
     "name": "stderr",
     "output_type": "stream",
     "text": [
      "labels: [ 6  4  0  3 12]\n",
      "pred_labels: [ 6  4  0  3 12]\n",
      "Epoch 48 - avg_train_loss: 0.0108  lr: 5.9882e-06  time: 13s\n",
      "Epoch 48 - Score: 0.6260\n"
     ]
    },
    {
     "name": "stdout",
     "output_type": "stream",
     "text": [
      "EVAL: [8/9] Data 0.005 (0.023) Elapsed 0m 0s (remain 0m 0s) \n",
      "Epoch: [49][0/40] Data 0.046 (0.046) Elapsed 0m 0s (remain 0m 11s) Loss: 0.0007(0.0007) Grad Norm: 0.0236  LR: 2.7534e-06  \n",
      "Epoch: [49][39/40] Data 0.042 (0.043) Elapsed 0m 11s (remain 0m 0s) Loss: 0.0006(0.0077) Grad Norm: 0.0161  LR: 2.7534e-06  \n",
      "EVAL: [0/9] Data 0.024 (0.024) Elapsed 0m 0s (remain 0m 0s) \n"
     ]
    },
    {
     "name": "stderr",
     "output_type": "stream",
     "text": [
      "labels: [ 6  4  0  3 12]\n",
      "pred_labels: [ 6  4  0  3 12]\n",
      "Epoch 49 - avg_train_loss: 0.0077  lr: 2.7534e-06  time: 12s\n",
      "Epoch 49 - Score: 0.6260\n"
     ]
    },
    {
     "name": "stdout",
     "output_type": "stream",
     "text": [
      "EVAL: [8/9] Data 0.005 (0.021) Elapsed 0m 0s (remain 0m 0s) \n",
      "Epoch: [50][0/40] Data 0.041 (0.041) Elapsed 0m 0s (remain 0m 11s) Loss: 0.0026(0.0026) Grad Norm: 0.1116  LR: 1.2467e-06  \n",
      "Epoch: [50][39/40] Data 0.042 (0.043) Elapsed 0m 11s (remain 0m 0s) Loss: 0.0009(0.0022) Grad Norm: 0.0255  LR: 1.2467e-06  \n",
      "EVAL: [0/9] Data 0.023 (0.023) Elapsed 0m 0s (remain 0m 0s) \n"
     ]
    },
    {
     "name": "stderr",
     "output_type": "stream",
     "text": [
      "labels: [ 6  4  0  3 12]\n",
      "pred_labels: [ 6  4  0  3 12]\n",
      "Epoch 50 - avg_train_loss: 0.0022  lr: 1.2467e-06  time: 12s\n",
      "Epoch 50 - Score: 0.6260\n",
      "==================== fold: 1, seed: 2 training ====================\n"
     ]
    },
    {
     "name": "stdout",
     "output_type": "stream",
     "text": [
      "EVAL: [8/9] Data 0.005 (0.022) Elapsed 0m 0s (remain 0m 0s) \n",
      "Epoch: [1][0/40] Data 0.045 (0.045) Elapsed 0m 0s (remain 0m 10s) Loss: 2.6331(2.6331) Grad Norm: nan  LR: 1.0000e-03  \n",
      "Epoch: [1][39/40] Data 0.048 (0.043) Elapsed 0m 11s (remain 0m 0s) Loss: 2.1965(2.5158) Grad Norm: 11.1556  LR: 1.0000e-03  \n",
      "EVAL: [0/9] Data 0.024 (0.024) Elapsed 0m 0s (remain 0m 0s) \n"
     ]
    },
    {
     "name": "stderr",
     "output_type": "stream",
     "text": [
      "labels: [ 2  4  2  2 12]\n",
      "pred_labels: [2 2 2 2 2]\n",
      "Epoch 1 - avg_train_loss: 2.5158  lr: 1.0000e-03  time: 13s\n",
      "Epoch 1 - Score: 0.2672\n",
      "Epoch 1 - Save Best Score: 0.2672 Model\n"
     ]
    },
    {
     "name": "stdout",
     "output_type": "stream",
     "text": [
      "EVAL: [8/9] Data 0.005 (0.022) Elapsed 0m 0s (remain 0m 0s) \n",
      "Epoch: [2][0/40] Data 0.038 (0.038) Elapsed 0m 0s (remain 0m 11s) Loss: 2.4652(2.4652) Grad Norm: 15.8127  LR: 9.9803e-04  \n",
      "Epoch: [2][39/40] Data 0.045 (0.044) Elapsed 0m 11s (remain 0m 0s) Loss: 2.2050(2.2772) Grad Norm: 9.5706  LR: 9.9803e-04  \n",
      "EVAL: [0/9] Data 0.024 (0.024) Elapsed 0m 0s (remain 0m 0s) \n"
     ]
    },
    {
     "name": "stderr",
     "output_type": "stream",
     "text": [
      "labels: [ 2  4  2  2 12]\n",
      "pred_labels: [2 0 2 2 9]\n",
      "Epoch 2 - avg_train_loss: 2.2772  lr: 9.9803e-04  time: 13s\n",
      "Epoch 2 - Score: 0.4046\n",
      "Epoch 2 - Save Best Score: 0.4046 Model\n"
     ]
    },
    {
     "name": "stdout",
     "output_type": "stream",
     "text": [
      "EVAL: [8/9] Data 0.005 (0.022) Elapsed 0m 0s (remain 0m 0s) \n",
      "Epoch: [3][0/40] Data 0.041 (0.041) Elapsed 0m 0s (remain 0m 11s) Loss: 2.7027(2.7027) Grad Norm: 13.8164  LR: 9.9312e-04  \n",
      "Epoch: [3][39/40] Data 0.049 (0.044) Elapsed 0m 11s (remain 0m 0s) Loss: 1.8937(1.9407) Grad Norm: 17.1970  LR: 9.9312e-04  \n",
      "EVAL: [0/9] Data 0.023 (0.023) Elapsed 0m 0s (remain 0m 0s) \n"
     ]
    },
    {
     "name": "stderr",
     "output_type": "stream",
     "text": [
      "labels: [ 2  4  2  2 12]\n",
      "pred_labels: [2 0 6 2 9]\n",
      "Epoch 3 - avg_train_loss: 1.9407  lr: 9.9312e-04  time: 13s\n",
      "Epoch 3 - Score: 0.5344\n",
      "Epoch 3 - Save Best Score: 0.5344 Model\n"
     ]
    },
    {
     "name": "stdout",
     "output_type": "stream",
     "text": [
      "EVAL: [8/9] Data 0.004 (0.022) Elapsed 0m 0s (remain 0m 0s) \n",
      "Epoch: [4][0/40] Data 0.039 (0.039) Elapsed 0m 0s (remain 0m 12s) Loss: 1.2062(1.2062) Grad Norm: 15.0408  LR: 9.8627e-04  \n",
      "Epoch: [4][39/40] Data 0.051 (0.044) Elapsed 0m 12s (remain 0m 0s) Loss: 2.5596(1.8521) Grad Norm: 9.3748  LR: 9.8627e-04  \n",
      "EVAL: [0/9] Data 0.024 (0.024) Elapsed 0m 0s (remain 0m 0s) \n"
     ]
    },
    {
     "name": "stderr",
     "output_type": "stream",
     "text": [
      "labels: [ 2  4  2  2 12]\n",
      "pred_labels: [2 4 6 2 9]\n",
      "Epoch 4 - avg_train_loss: 1.8521  lr: 9.8627e-04  time: 13s\n",
      "Epoch 4 - Score: 0.5954\n",
      "Epoch 4 - Save Best Score: 0.5954 Model\n"
     ]
    },
    {
     "name": "stdout",
     "output_type": "stream",
     "text": [
      "EVAL: [8/9] Data 0.005 (0.022) Elapsed 0m 0s (remain 0m 0s) \n",
      "Epoch: [5][0/40] Data 0.041 (0.041) Elapsed 0m 0s (remain 0m 12s) Loss: 1.1037(1.1037) Grad Norm: 17.9781  LR: 9.7751e-04  \n",
      "Epoch: [5][39/40] Data 0.042 (0.045) Elapsed 0m 11s (remain 0m 0s) Loss: 0.9981(1.4444) Grad Norm: 10.5540  LR: 9.7751e-04  \n",
      "EVAL: [0/9] Data 0.023 (0.023) Elapsed 0m 0s (remain 0m 0s) \n"
     ]
    },
    {
     "name": "stderr",
     "output_type": "stream",
     "text": [
      "labels: [ 2  4  2  2 12]\n",
      "pred_labels: [2 4 6 2 9]\n",
      "Epoch 5 - avg_train_loss: 1.4444  lr: 9.7751e-04  time: 13s\n",
      "Epoch 5 - Score: 0.6031\n",
      "Epoch 5 - Save Best Score: 0.6031 Model\n"
     ]
    },
    {
     "name": "stdout",
     "output_type": "stream",
     "text": [
      "EVAL: [8/9] Data 0.004 (0.022) Elapsed 0m 0s (remain 0m 0s) \n",
      "Epoch: [6][0/40] Data 0.041 (0.041) Elapsed 0m 0s (remain 0m 12s) Loss: 1.9069(1.9069) Grad Norm: 8.2073  LR: 9.6688e-04  \n",
      "Epoch: [6][39/40] Data 0.037 (0.046) Elapsed 0m 12s (remain 0m 0s) Loss: 1.2886(1.4737) Grad Norm: 13.2015  LR: 9.6688e-04  \n",
      "EVAL: [0/9] Data 0.024 (0.024) Elapsed 0m 0s (remain 0m 0s) \n"
     ]
    },
    {
     "name": "stderr",
     "output_type": "stream",
     "text": [
      "labels: [ 2  4  2  2 12]\n",
      "pred_labels: [2 4 6 2 9]\n",
      "Epoch 6 - avg_train_loss: 1.4737  lr: 9.6688e-04  time: 13s\n",
      "Epoch 6 - Score: 0.6336\n",
      "Epoch 6 - Save Best Score: 0.6336 Model\n"
     ]
    },
    {
     "name": "stdout",
     "output_type": "stream",
     "text": [
      "EVAL: [8/9] Data 0.004 (0.022) Elapsed 0m 0s (remain 0m 0s) \n",
      "Epoch: [7][0/40] Data 0.049 (0.049) Elapsed 0m 0s (remain 0m 13s) Loss: 1.6987(1.6987) Grad Norm: 13.1789  LR: 9.5441e-04  \n",
      "Epoch: [7][39/40] Data 0.044 (0.044) Elapsed 0m 11s (remain 0m 0s) Loss: 0.6638(1.3227) Grad Norm: 9.8851  LR: 9.5441e-04  \n",
      "EVAL: [0/9] Data 0.024 (0.024) Elapsed 0m 0s (remain 0m 0s) \n"
     ]
    },
    {
     "name": "stderr",
     "output_type": "stream",
     "text": [
      "labels: [ 2  4  2  2 12]\n",
      "pred_labels: [2 2 6 2 9]\n",
      "Epoch 7 - avg_train_loss: 1.3227  lr: 9.5441e-04  time: 13s\n",
      "Epoch 7 - Score: 0.6336\n"
     ]
    },
    {
     "name": "stdout",
     "output_type": "stream",
     "text": [
      "EVAL: [8/9] Data 0.005 (0.022) Elapsed 0m 0s (remain 0m 0s) \n",
      "Epoch: [8][0/40] Data 0.042 (0.042) Elapsed 0m 0s (remain 0m 11s) Loss: 1.2796(1.2796) Grad Norm: 6.8855  LR: 9.4016e-04  \n",
      "Epoch: [8][39/40] Data 0.037 (0.045) Elapsed 0m 12s (remain 0m 0s) Loss: 0.9477(1.1819) Grad Norm: 9.6386  LR: 9.4016e-04  \n",
      "EVAL: [0/9] Data 0.025 (0.025) Elapsed 0m 0s (remain 0m 0s) \n"
     ]
    },
    {
     "name": "stderr",
     "output_type": "stream",
     "text": [
      "labels: [ 2  4  2  2 12]\n",
      "pred_labels: [ 2  2  6  2 12]\n",
      "Epoch 8 - avg_train_loss: 1.1819  lr: 9.4016e-04  time: 13s\n",
      "Epoch 8 - Score: 0.6260\n"
     ]
    },
    {
     "name": "stdout",
     "output_type": "stream",
     "text": [
      "EVAL: [8/9] Data 0.005 (0.022) Elapsed 0m 0s (remain 0m 0s) \n",
      "Epoch: [9][0/40] Data 0.047 (0.047) Elapsed 0m 0s (remain 0m 11s) Loss: 0.6362(0.6362) Grad Norm: 9.7034  LR: 9.2418e-04  \n",
      "Epoch: [9][39/40] Data 0.037 (0.044) Elapsed 0m 11s (remain 0m 0s) Loss: 1.5346(1.1797) Grad Norm: 10.9630  LR: 9.2418e-04  \n",
      "EVAL: [0/9] Data 0.024 (0.024) Elapsed 0m 0s (remain 0m 0s) \n"
     ]
    },
    {
     "name": "stderr",
     "output_type": "stream",
     "text": [
      "labels: [ 2  4  2  2 12]\n",
      "pred_labels: [2 0 5 2 9]\n",
      "Epoch 9 - avg_train_loss: 1.1797  lr: 9.2418e-04  time: 13s\n",
      "Epoch 9 - Score: 0.5802\n"
     ]
    },
    {
     "name": "stdout",
     "output_type": "stream",
     "text": [
      "EVAL: [8/9] Data 0.005 (0.022) Elapsed 0m 0s (remain 0m 0s) \n",
      "Epoch: [10][0/40] Data 0.046 (0.046) Elapsed 0m 0s (remain 0m 11s) Loss: 0.2501(0.2501) Grad Norm: 4.8893  LR: 9.0654e-04  \n",
      "Epoch: [10][39/40] Data 0.043 (0.044) Elapsed 0m 11s (remain 0m 0s) Loss: 0.9434(1.0599) Grad Norm: 12.7473  LR: 9.0654e-04  \n",
      "EVAL: [0/9] Data 0.025 (0.025) Elapsed 0m 0s (remain 0m 0s) \n"
     ]
    },
    {
     "name": "stderr",
     "output_type": "stream",
     "text": [
      "labels: [ 2  4  2  2 12]\n",
      "pred_labels: [2 2 6 2 9]\n",
      "Epoch 10 - avg_train_loss: 1.0599  lr: 9.0654e-04  time: 13s\n",
      "Epoch 10 - Score: 0.5649\n"
     ]
    },
    {
     "name": "stdout",
     "output_type": "stream",
     "text": [
      "EVAL: [8/9] Data 0.005 (0.022) Elapsed 0m 0s (remain 0m 0s) \n",
      "Epoch: [11][0/40] Data 0.043 (0.043) Elapsed 0m 0s (remain 0m 11s) Loss: 0.1167(0.1167) Grad Norm: 3.0649  LR: 8.8730e-04  \n",
      "Epoch: [11][39/40] Data 0.042 (0.044) Elapsed 0m 11s (remain 0m 0s) Loss: 1.7100(1.0758) Grad Norm: 10.0670  LR: 8.8730e-04  \n",
      "EVAL: [0/9] Data 0.024 (0.024) Elapsed 0m 0s (remain 0m 0s) \n"
     ]
    },
    {
     "name": "stderr",
     "output_type": "stream",
     "text": [
      "labels: [ 2  4  2  2 12]\n",
      "pred_labels: [2 0 5 2 9]\n",
      "Epoch 11 - avg_train_loss: 1.0758  lr: 8.8730e-04  time: 13s\n",
      "Epoch 11 - Score: 0.6260\n"
     ]
    },
    {
     "name": "stdout",
     "output_type": "stream",
     "text": [
      "EVAL: [8/9] Data 0.005 (0.022) Elapsed 0m 0s (remain 0m 0s) \n",
      "Epoch: [12][0/40] Data 0.044 (0.044) Elapsed 0m 0s (remain 0m 11s) Loss: 0.9782(0.9782) Grad Norm: 19.9946  LR: 8.6655e-04  \n",
      "Epoch: [12][39/40] Data 0.041 (0.044) Elapsed 0m 11s (remain 0m 0s) Loss: 0.2538(1.0016) Grad Norm: 4.4693  LR: 8.6655e-04  \n",
      "EVAL: [0/9] Data 0.024 (0.024) Elapsed 0m 0s (remain 0m 0s) \n"
     ]
    },
    {
     "name": "stderr",
     "output_type": "stream",
     "text": [
      "labels: [ 2  4  2  2 12]\n",
      "pred_labels: [2 2 0 2 9]\n",
      "Epoch 12 - avg_train_loss: 1.0016  lr: 8.6655e-04  time: 13s\n",
      "Epoch 12 - Score: 0.6107\n"
     ]
    },
    {
     "name": "stdout",
     "output_type": "stream",
     "text": [
      "EVAL: [8/9] Data 0.005 (0.022) Elapsed 0m 0s (remain 0m 0s) \n",
      "Epoch: [13][0/40] Data 0.044 (0.044) Elapsed 0m 0s (remain 0m 11s) Loss: 1.3723(1.3723) Grad Norm: 7.1754  LR: 8.4436e-04  \n",
      "Epoch: [13][39/40] Data 0.042 (0.043) Elapsed 0m 11s (remain 0m 0s) Loss: 1.8138(0.8454) Grad Norm: 7.9419  LR: 8.4436e-04  \n",
      "EVAL: [0/9] Data 0.024 (0.024) Elapsed 0m 0s (remain 0m 0s) \n"
     ]
    },
    {
     "name": "stderr",
     "output_type": "stream",
     "text": [
      "labels: [ 2  4  2  2 12]\n",
      "pred_labels: [2 0 5 2 9]\n",
      "Epoch 13 - avg_train_loss: 0.8454  lr: 8.4436e-04  time: 13s\n",
      "Epoch 13 - Score: 0.5878\n"
     ]
    },
    {
     "name": "stdout",
     "output_type": "stream",
     "text": [
      "EVAL: [8/9] Data 0.005 (0.022) Elapsed 0m 0s (remain 0m 0s) \n",
      "Epoch: [14][0/40] Data 0.046 (0.046) Elapsed 0m 0s (remain 0m 11s) Loss: 0.1858(0.1858) Grad Norm: 6.1260  LR: 8.2081e-04  \n",
      "Epoch: [14][39/40] Data 0.051 (0.044) Elapsed 0m 11s (remain 0m 0s) Loss: 0.4246(1.1593) Grad Norm: 8.5923  LR: 8.2081e-04  \n",
      "EVAL: [0/9] Data 0.024 (0.024) Elapsed 0m 0s (remain 0m 0s) \n"
     ]
    },
    {
     "name": "stderr",
     "output_type": "stream",
     "text": [
      "labels: [ 2  4  2  2 12]\n",
      "pred_labels: [ 2  0 11  2  9]\n",
      "Epoch 14 - avg_train_loss: 1.1593  lr: 8.2081e-04  time: 13s\n",
      "Epoch 14 - Score: 0.6183\n"
     ]
    },
    {
     "name": "stdout",
     "output_type": "stream",
     "text": [
      "EVAL: [8/9] Data 0.005 (0.022) Elapsed 0m 0s (remain 0m 0s) \n",
      "Epoch: [15][0/40] Data 0.042 (0.042) Elapsed 0m 0s (remain 0m 11s) Loss: 1.5550(1.5550) Grad Norm: 19.4008  LR: 7.9601e-04  \n",
      "Epoch: [15][39/40] Data 0.044 (0.044) Elapsed 0m 11s (remain 0m 0s) Loss: 0.6543(0.9432) Grad Norm: 13.3599  LR: 7.9601e-04  \n",
      "EVAL: [0/9] Data 0.023 (0.023) Elapsed 0m 0s (remain 0m 0s) \n"
     ]
    },
    {
     "name": "stderr",
     "output_type": "stream",
     "text": [
      "labels: [ 2  4  2  2 12]\n",
      "pred_labels: [ 2  2 11  2  9]\n",
      "Epoch 15 - avg_train_loss: 0.9432  lr: 7.9601e-04  time: 13s\n",
      "Epoch 15 - Score: 0.6336\n"
     ]
    },
    {
     "name": "stdout",
     "output_type": "stream",
     "text": [
      "EVAL: [8/9] Data 0.004 (0.022) Elapsed 0m 0s (remain 0m 0s) \n",
      "Epoch: [16][0/40] Data 0.044 (0.044) Elapsed 0m 0s (remain 0m 11s) Loss: 1.3994(1.3994) Grad Norm: 9.0704  LR: 7.7006e-04  \n",
      "Epoch: [16][39/40] Data 0.041 (0.043) Elapsed 0m 11s (remain 0m 0s) Loss: 0.0880(0.6948) Grad Norm: 3.4401  LR: 7.7006e-04  \n",
      "EVAL: [0/9] Data 0.024 (0.024) Elapsed 0m 0s (remain 0m 0s) \n"
     ]
    },
    {
     "name": "stderr",
     "output_type": "stream",
     "text": [
      "labels: [ 2  4  2  2 12]\n",
      "pred_labels: [ 2  4  0  2 11]\n",
      "Epoch 16 - avg_train_loss: 0.6948  lr: 7.7006e-04  time: 13s\n",
      "Epoch 16 - Score: 0.5802\n"
     ]
    },
    {
     "name": "stdout",
     "output_type": "stream",
     "text": [
      "EVAL: [8/9] Data 0.004 (0.022) Elapsed 0m 0s (remain 0m 0s) \n",
      "Epoch: [17][0/40] Data 0.047 (0.047) Elapsed 0m 0s (remain 0m 11s) Loss: 0.1621(0.1621) Grad Norm: 3.5751  LR: 7.4304e-04  \n",
      "Epoch: [17][39/40] Data 0.040 (0.045) Elapsed 0m 11s (remain 0m 0s) Loss: 1.6438(0.8590) Grad Norm: 8.8525  LR: 7.4304e-04  \n",
      "EVAL: [0/9] Data 0.026 (0.026) Elapsed 0m 0s (remain 0m 0s) \n"
     ]
    },
    {
     "name": "stderr",
     "output_type": "stream",
     "text": [
      "labels: [ 2  4  2  2 12]\n",
      "pred_labels: [ 2  4 11  2  2]\n",
      "Epoch 17 - avg_train_loss: 0.8590  lr: 7.4304e-04  time: 13s\n",
      "Epoch 17 - Score: 0.6336\n"
     ]
    },
    {
     "name": "stdout",
     "output_type": "stream",
     "text": [
      "EVAL: [8/9] Data 0.005 (0.023) Elapsed 0m 0s (remain 0m 0s) \n",
      "Epoch: [18][0/40] Data 0.045 (0.045) Elapsed 0m 0s (remain 0m 11s) Loss: 0.0995(0.0995) Grad Norm: 2.3928  LR: 7.1508e-04  \n",
      "Epoch: [18][39/40] Data 0.041 (0.045) Elapsed 0m 12s (remain 0m 0s) Loss: 1.0065(0.8646) Grad Norm: 6.1979  LR: 7.1508e-04  \n",
      "EVAL: [0/9] Data 0.025 (0.025) Elapsed 0m 0s (remain 0m 0s) \n"
     ]
    },
    {
     "name": "stderr",
     "output_type": "stream",
     "text": [
      "labels: [ 2  4  2  2 12]\n",
      "pred_labels: [ 2  4 11  2 11]\n",
      "Epoch 18 - avg_train_loss: 0.8646  lr: 7.1508e-04  time: 13s\n",
      "Epoch 18 - Score: 0.5954\n"
     ]
    },
    {
     "name": "stdout",
     "output_type": "stream",
     "text": [
      "EVAL: [8/9] Data 0.004 (0.022) Elapsed 0m 0s (remain 0m 0s) \n",
      "Epoch: [19][0/40] Data 0.047 (0.047) Elapsed 0m 0s (remain 0m 11s) Loss: 0.0347(0.0347) Grad Norm: 1.3071  LR: 6.8627e-04  \n",
      "Epoch: [19][39/40] Data 0.046 (0.043) Elapsed 0m 11s (remain 0m 0s) Loss: 1.9640(0.8222) Grad Norm: 9.3815  LR: 6.8627e-04  \n",
      "EVAL: [0/9] Data 0.025 (0.025) Elapsed 0m 0s (remain 0m 0s) \n"
     ]
    },
    {
     "name": "stderr",
     "output_type": "stream",
     "text": [
      "labels: [ 2  4  2  2 12]\n",
      "pred_labels: [ 2  4  5  2 12]\n",
      "Epoch 19 - avg_train_loss: 0.8222  lr: 6.8627e-04  time: 13s\n",
      "Epoch 19 - Score: 0.6336\n"
     ]
    },
    {
     "name": "stdout",
     "output_type": "stream",
     "text": [
      "EVAL: [8/9] Data 0.005 (0.023) Elapsed 0m 0s (remain 0m 0s) \n",
      "Epoch: [20][0/40] Data 0.042 (0.042) Elapsed 0m 0s (remain 0m 11s) Loss: 0.9696(0.9696) Grad Norm: 4.7186  LR: 6.5674e-04  \n",
      "Epoch: [20][39/40] Data 0.043 (0.044) Elapsed 0m 11s (remain 0m 0s) Loss: 1.3024(0.7759) Grad Norm: 14.4651  LR: 6.5674e-04  \n",
      "EVAL: [0/9] Data 0.024 (0.024) Elapsed 0m 0s (remain 0m 0s) \n"
     ]
    },
    {
     "name": "stderr",
     "output_type": "stream",
     "text": [
      "labels: [ 2  4  2  2 12]\n",
      "pred_labels: [2 4 5 2 2]\n",
      "Epoch 20 - avg_train_loss: 0.7759  lr: 6.5674e-04  time: 13s\n",
      "Epoch 20 - Score: 0.6183\n"
     ]
    },
    {
     "name": "stdout",
     "output_type": "stream",
     "text": [
      "EVAL: [8/9] Data 0.004 (0.022) Elapsed 0m 0s (remain 0m 0s) \n",
      "Epoch: [21][0/40] Data 0.044 (0.044) Elapsed 0m 0s (remain 0m 11s) Loss: 1.1874(1.1874) Grad Norm: 5.9903  LR: 6.2661e-04  \n",
      "Epoch: [21][39/40] Data 0.041 (0.044) Elapsed 0m 11s (remain 0m 0s) Loss: 1.4087(0.8296) Grad Norm: 6.8115  LR: 6.2661e-04  \n",
      "EVAL: [0/9] Data 0.024 (0.024) Elapsed 0m 0s (remain 0m 0s) \n"
     ]
    },
    {
     "name": "stderr",
     "output_type": "stream",
     "text": [
      "labels: [ 2  4  2  2 12]\n",
      "pred_labels: [2 0 5 2 9]\n",
      "Epoch 21 - avg_train_loss: 0.8296  lr: 6.2661e-04  time: 13s\n",
      "Epoch 21 - Score: 0.6031\n"
     ]
    },
    {
     "name": "stdout",
     "output_type": "stream",
     "text": [
      "EVAL: [8/9] Data 0.004 (0.022) Elapsed 0m 0s (remain 0m 0s) \n",
      "Epoch: [22][0/40] Data 0.043 (0.043) Elapsed 0m 0s (remain 0m 11s) Loss: 1.1310(1.1310) Grad Norm: 5.2377  LR: 5.9598e-04  \n",
      "Epoch: [22][39/40] Data 0.041 (0.044) Elapsed 0m 11s (remain 0m 0s) Loss: 0.9619(0.8031) Grad Norm: 7.0624  LR: 5.9598e-04  \n",
      "EVAL: [0/9] Data 0.026 (0.026) Elapsed 0m 0s (remain 0m 0s) \n"
     ]
    },
    {
     "name": "stderr",
     "output_type": "stream",
     "text": [
      "labels: [ 2  4  2  2 12]\n",
      "pred_labels: [ 2  0  6  2 12]\n",
      "Epoch 22 - avg_train_loss: 0.8031  lr: 5.9598e-04  time: 13s\n",
      "Epoch 22 - Score: 0.6336\n"
     ]
    },
    {
     "name": "stdout",
     "output_type": "stream",
     "text": [
      "EVAL: [8/9] Data 0.005 (0.022) Elapsed 0m 0s (remain 0m 0s) \n",
      "Epoch: [23][0/40] Data 0.047 (0.047) Elapsed 0m 0s (remain 0m 12s) Loss: 0.9152(0.9152) Grad Norm: 3.6407  LR: 5.6498e-04  \n",
      "Epoch: [23][39/40] Data 0.046 (0.045) Elapsed 0m 11s (remain 0m 0s) Loss: 0.0715(0.7498) Grad Norm: 3.2623  LR: 5.6498e-04  \n",
      "EVAL: [0/9] Data 0.019 (0.019) Elapsed 0m 0s (remain 0m 0s) \n"
     ]
    },
    {
     "name": "stderr",
     "output_type": "stream",
     "text": [
      "labels: [ 2  4  2  2 12]\n",
      "pred_labels: [2 9 5 2 9]\n",
      "Epoch 23 - avg_train_loss: 0.7498  lr: 5.6498e-04  time: 13s\n",
      "Epoch 23 - Score: 0.6107\n"
     ]
    },
    {
     "name": "stdout",
     "output_type": "stream",
     "text": [
      "EVAL: [8/9] Data 0.005 (0.021) Elapsed 0m 0s (remain 0m 0s) \n",
      "Epoch: [24][0/40] Data 0.041 (0.041) Elapsed 0m 0s (remain 0m 11s) Loss: 1.2411(1.2411) Grad Norm: 9.0819  LR: 5.3373e-04  \n",
      "Epoch: [24][39/40] Data 0.043 (0.044) Elapsed 0m 11s (remain 0m 0s) Loss: 0.0603(0.5984) Grad Norm: 7.0126  LR: 5.3373e-04  \n",
      "EVAL: [0/9] Data 0.026 (0.026) Elapsed 0m 0s (remain 0m 0s) \n"
     ]
    },
    {
     "name": "stderr",
     "output_type": "stream",
     "text": [
      "labels: [ 2  4  2  2 12]\n",
      "pred_labels: [ 2  2  5  2 12]\n",
      "Epoch 24 - avg_train_loss: 0.5984  lr: 5.3373e-04  time: 13s\n",
      "Epoch 24 - Score: 0.6336\n"
     ]
    },
    {
     "name": "stdout",
     "output_type": "stream",
     "text": [
      "EVAL: [8/9] Data 0.005 (0.023) Elapsed 0m 0s (remain 0m 0s) \n",
      "Epoch: [25][0/40] Data 0.043 (0.043) Elapsed 0m 0s (remain 0m 11s) Loss: 1.3582(1.3582) Grad Norm: 9.7584  LR: 5.0236e-04  \n",
      "Epoch: [25][39/40] Data 0.040 (0.046) Elapsed 0m 11s (remain 0m 0s) Loss: 1.1197(0.5644) Grad Norm: 4.9156  LR: 5.0236e-04  \n",
      "EVAL: [0/9] Data 0.024 (0.024) Elapsed 0m 0s (remain 0m 0s) \n"
     ]
    },
    {
     "name": "stderr",
     "output_type": "stream",
     "text": [
      "labels: [ 2  4  2  2 12]\n",
      "pred_labels: [ 2  2  0  2 12]\n",
      "Epoch 25 - avg_train_loss: 0.5644  lr: 5.0236e-04  time: 13s\n",
      "Epoch 25 - Score: 0.6336\n"
     ]
    },
    {
     "name": "stdout",
     "output_type": "stream",
     "text": [
      "EVAL: [8/9] Data 0.005 (0.022) Elapsed 0m 0s (remain 0m 0s) \n",
      "Epoch: [26][0/40] Data 0.046 (0.046) Elapsed 0m 0s (remain 0m 11s) Loss: 0.0025(0.0025) Grad Norm: 0.0861  LR: 4.7099e-04  \n",
      "Epoch: [26][39/40] Data 0.047 (0.044) Elapsed 0m 12s (remain 0m 0s) Loss: 1.0274(0.7452) Grad Norm: 5.0201  LR: 4.7099e-04  \n",
      "EVAL: [0/9] Data 0.025 (0.025) Elapsed 0m 0s (remain 0m 0s) \n"
     ]
    },
    {
     "name": "stderr",
     "output_type": "stream",
     "text": [
      "labels: [ 2  4  2  2 12]\n",
      "pred_labels: [ 2  9  5  2 12]\n",
      "Epoch 26 - avg_train_loss: 0.7452  lr: 4.7099e-04  time: 13s\n",
      "Epoch 26 - Score: 0.6794\n",
      "Epoch 26 - Save Best Score: 0.6794 Model\n"
     ]
    },
    {
     "name": "stdout",
     "output_type": "stream",
     "text": [
      "EVAL: [8/9] Data 0.005 (0.022) Elapsed 0m 0s (remain 0m 0s) \n",
      "Epoch: [27][0/40] Data 0.051 (0.051) Elapsed 0m 0s (remain 0m 12s) Loss: 0.8321(0.8321) Grad Norm: 4.4518  LR: 4.3974e-04  \n",
      "Epoch: [27][39/40] Data 0.043 (0.044) Elapsed 0m 11s (remain 0m 0s) Loss: 1.1758(0.7800) Grad Norm: 9.1851  LR: 4.3974e-04  \n",
      "EVAL: [0/9] Data 0.023 (0.023) Elapsed 0m 0s (remain 0m 0s) \n"
     ]
    },
    {
     "name": "stderr",
     "output_type": "stream",
     "text": [
      "labels: [ 2  4  2  2 12]\n",
      "pred_labels: [ 2  2  6  2 12]\n",
      "Epoch 27 - avg_train_loss: 0.7800  lr: 4.3974e-04  time: 13s\n",
      "Epoch 27 - Score: 0.6336\n"
     ]
    },
    {
     "name": "stdout",
     "output_type": "stream",
     "text": [
      "EVAL: [8/9] Data 0.004 (0.022) Elapsed 0m 0s (remain 0m 0s) \n",
      "Epoch: [28][0/40] Data 0.044 (0.044) Elapsed 0m 0s (remain 0m 11s) Loss: 0.0747(0.0747) Grad Norm: 4.4155  LR: 4.0874e-04  \n",
      "Epoch: [28][39/40] Data 0.045 (0.044) Elapsed 0m 11s (remain 0m 0s) Loss: 0.9454(0.5084) Grad Norm: 5.1568  LR: 4.0874e-04  \n",
      "EVAL: [0/9] Data 0.024 (0.024) Elapsed 0m 0s (remain 0m 0s) \n"
     ]
    },
    {
     "name": "stderr",
     "output_type": "stream",
     "text": [
      "labels: [ 2  4  2  2 12]\n",
      "pred_labels: [ 2  4  6  2 12]\n",
      "Epoch 28 - avg_train_loss: 0.5084  lr: 4.0874e-04  time: 13s\n",
      "Epoch 28 - Score: 0.6412\n"
     ]
    },
    {
     "name": "stdout",
     "output_type": "stream",
     "text": [
      "EVAL: [8/9] Data 0.005 (0.022) Elapsed 0m 0s (remain 0m 0s) \n",
      "Epoch: [29][0/40] Data 0.042 (0.042) Elapsed 0m 0s (remain 0m 11s) Loss: 0.0133(0.0133) Grad Norm: 0.3464  LR: 3.7811e-04  \n",
      "Epoch: [29][39/40] Data 0.039 (0.044) Elapsed 0m 11s (remain 0m 0s) Loss: 0.0022(0.5134) Grad Norm: 0.0920  LR: 3.7811e-04  \n",
      "EVAL: [0/9] Data 0.023 (0.023) Elapsed 0m 0s (remain 0m 0s) \n"
     ]
    },
    {
     "name": "stderr",
     "output_type": "stream",
     "text": [
      "labels: [ 2  4  2  2 12]\n",
      "pred_labels: [ 2  4  5  2 12]\n",
      "Epoch 29 - avg_train_loss: 0.5134  lr: 3.7811e-04  time: 13s\n",
      "Epoch 29 - Score: 0.5878\n"
     ]
    },
    {
     "name": "stdout",
     "output_type": "stream",
     "text": [
      "EVAL: [8/9] Data 0.005 (0.022) Elapsed 0m 0s (remain 0m 0s) \n",
      "Epoch: [30][0/40] Data 0.051 (0.051) Elapsed 0m 0s (remain 0m 11s) Loss: 0.8508(0.8508) Grad Norm: 3.0667  LR: 3.4797e-04  \n",
      "Epoch: [30][39/40] Data 0.044 (0.043) Elapsed 0m 11s (remain 0m 0s) Loss: 0.0060(0.5169) Grad Norm: 0.1637  LR: 3.4797e-04  \n",
      "EVAL: [0/9] Data 0.023 (0.023) Elapsed 0m 0s (remain 0m 0s) \n"
     ]
    },
    {
     "name": "stderr",
     "output_type": "stream",
     "text": [
      "labels: [ 2  4  2  2 12]\n",
      "pred_labels: [ 2  4  2  2 12]\n",
      "Epoch 30 - avg_train_loss: 0.5169  lr: 3.4797e-04  time: 12s\n",
      "Epoch 30 - Score: 0.6031\n"
     ]
    },
    {
     "name": "stdout",
     "output_type": "stream",
     "text": [
      "EVAL: [8/9] Data 0.004 (0.022) Elapsed 0m 0s (remain 0m 0s) \n",
      "Epoch: [31][0/40] Data 0.040 (0.040) Elapsed 0m 0s (remain 0m 11s) Loss: 1.1077(1.1077) Grad Norm: 7.3665  LR: 3.1843e-04  \n",
      "Epoch: [31][39/40] Data 0.053 (0.044) Elapsed 0m 11s (remain 0m 0s) Loss: 1.3675(0.5055) Grad Norm: 8.4906  LR: 3.1843e-04  \n",
      "EVAL: [0/9] Data 0.024 (0.024) Elapsed 0m 0s (remain 0m 0s) \n"
     ]
    },
    {
     "name": "stderr",
     "output_type": "stream",
     "text": [
      "labels: [ 2  4  2  2 12]\n",
      "pred_labels: [2 4 2 2 5]\n",
      "Epoch 31 - avg_train_loss: 0.5055  lr: 3.1843e-04  time: 13s\n",
      "Epoch 31 - Score: 0.6412\n"
     ]
    },
    {
     "name": "stdout",
     "output_type": "stream",
     "text": [
      "EVAL: [8/9] Data 0.005 (0.022) Elapsed 0m 0s (remain 0m 0s) \n",
      "Epoch: [32][0/40] Data 0.045 (0.045) Elapsed 0m 0s (remain 0m 11s) Loss: 1.0618(1.0618) Grad Norm: 6.6891  LR: 2.8962e-04  \n",
      "Epoch: [32][39/40] Data 0.048 (0.044) Elapsed 0m 11s (remain 0m 0s) Loss: 1.2702(0.6019) Grad Norm: 4.8583  LR: 2.8962e-04  \n",
      "EVAL: [0/9] Data 0.025 (0.025) Elapsed 0m 0s (remain 0m 0s) \n"
     ]
    },
    {
     "name": "stderr",
     "output_type": "stream",
     "text": [
      "labels: [ 2  4  2  2 12]\n",
      "pred_labels: [2 4 0 2 5]\n",
      "Epoch 32 - avg_train_loss: 0.6019  lr: 2.8962e-04  time: 13s\n",
      "Epoch 32 - Score: 0.6336\n"
     ]
    },
    {
     "name": "stdout",
     "output_type": "stream",
     "text": [
      "EVAL: [8/9] Data 0.005 (0.022) Elapsed 0m 0s (remain 0m 0s) \n",
      "Epoch: [33][0/40] Data 0.037 (0.037) Elapsed 0m 0s (remain 0m 11s) Loss: 0.0016(0.0016) Grad Norm: 0.0641  LR: 2.6165e-04  \n",
      "Epoch: [33][39/40] Data 0.043 (0.044) Elapsed 0m 11s (remain 0m 0s) Loss: 0.0046(0.5102) Grad Norm: 0.2557  LR: 2.6165e-04  \n",
      "EVAL: [0/9] Data 0.024 (0.024) Elapsed 0m 0s (remain 0m 0s) \n"
     ]
    },
    {
     "name": "stderr",
     "output_type": "stream",
     "text": [
      "labels: [ 2  4  2  2 12]\n",
      "pred_labels: [ 2  4  5  2 12]\n",
      "Epoch 33 - avg_train_loss: 0.5102  lr: 2.6165e-04  time: 13s\n",
      "Epoch 33 - Score: 0.6489\n"
     ]
    },
    {
     "name": "stdout",
     "output_type": "stream",
     "text": [
      "EVAL: [8/9] Data 0.005 (0.023) Elapsed 0m 0s (remain 0m 0s) \n",
      "Epoch: [34][0/40] Data 0.051 (0.051) Elapsed 0m 0s (remain 0m 12s) Loss: 0.0032(0.0032) Grad Norm: 0.0924  LR: 2.3463e-04  \n",
      "Epoch: [34][39/40] Data 0.043 (0.044) Elapsed 0m 11s (remain 0m 0s) Loss: 0.0139(0.4173) Grad Norm: 1.0483  LR: 2.3463e-04  \n",
      "EVAL: [0/9] Data 0.025 (0.025) Elapsed 0m 0s (remain 0m 0s) \n"
     ]
    },
    {
     "name": "stderr",
     "output_type": "stream",
     "text": [
      "labels: [ 2  4  2  2 12]\n",
      "pred_labels: [2 4 5 2 5]\n",
      "Epoch 34 - avg_train_loss: 0.4173  lr: 2.3463e-04  time: 13s\n",
      "Epoch 34 - Score: 0.6260\n"
     ]
    },
    {
     "name": "stdout",
     "output_type": "stream",
     "text": [
      "EVAL: [8/9] Data 0.005 (0.023) Elapsed 0m 0s (remain 0m 0s) \n",
      "Epoch: [35][0/40] Data 0.045 (0.045) Elapsed 0m 0s (remain 0m 11s) Loss: 0.8868(0.8868) Grad Norm: 7.4919  LR: 2.0866e-04  \n",
      "Epoch: [35][39/40] Data 0.043 (0.044) Elapsed 0m 11s (remain 0m 0s) Loss: 0.0066(0.5300) Grad Norm: 0.2613  LR: 2.0866e-04  \n",
      "EVAL: [0/9] Data 0.023 (0.023) Elapsed 0m 0s (remain 0m 0s) \n"
     ]
    },
    {
     "name": "stderr",
     "output_type": "stream",
     "text": [
      "labels: [ 2  4  2  2 12]\n",
      "pred_labels: [ 2  4  0  2 12]\n",
      "Epoch 35 - avg_train_loss: 0.5300  lr: 2.0866e-04  time: 13s\n",
      "Epoch 35 - Score: 0.6260\n"
     ]
    },
    {
     "name": "stdout",
     "output_type": "stream",
     "text": [
      "EVAL: [8/9] Data 0.005 (0.022) Elapsed 0m 0s (remain 0m 0s) \n",
      "Epoch: [36][0/40] Data 0.043 (0.043) Elapsed 0m 0s (remain 0m 11s) Loss: 0.0014(0.0014) Grad Norm: 0.0781  LR: 1.8385e-04  \n",
      "Epoch: [36][39/40] Data 0.042 (0.043) Elapsed 0m 11s (remain 0m 0s) Loss: 0.8631(0.4327) Grad Norm: 5.5114  LR: 1.8385e-04  \n",
      "EVAL: [0/9] Data 0.025 (0.025) Elapsed 0m 0s (remain 0m 0s) \n"
     ]
    },
    {
     "name": "stderr",
     "output_type": "stream",
     "text": [
      "labels: [ 2  4  2  2 12]\n",
      "pred_labels: [2 4 0 2 9]\n",
      "Epoch 36 - avg_train_loss: 0.4327  lr: 1.8385e-04  time: 12s\n",
      "Epoch 36 - Score: 0.6336\n"
     ]
    },
    {
     "name": "stdout",
     "output_type": "stream",
     "text": [
      "EVAL: [8/9] Data 0.004 (0.022) Elapsed 0m 0s (remain 0m 0s) \n",
      "Epoch: [37][0/40] Data 0.039 (0.039) Elapsed 0m 0s (remain 0m 11s) Loss: 0.0046(0.0046) Grad Norm: 0.1773  LR: 1.6030e-04  \n",
      "Epoch: [37][39/40] Data 0.044 (0.044) Elapsed 0m 11s (remain 0m 0s) Loss: 0.9982(0.3759) Grad Norm: 6.2472  LR: 1.6030e-04  \n",
      "EVAL: [0/9] Data 0.024 (0.024) Elapsed 0m 0s (remain 0m 0s) \n"
     ]
    },
    {
     "name": "stderr",
     "output_type": "stream",
     "text": [
      "labels: [ 2  4  2  2 12]\n",
      "pred_labels: [2 4 0 2 9]\n",
      "Epoch 37 - avg_train_loss: 0.3759  lr: 1.6030e-04  time: 13s\n",
      "Epoch 37 - Score: 0.6489\n"
     ]
    },
    {
     "name": "stdout",
     "output_type": "stream",
     "text": [
      "EVAL: [8/9] Data 0.005 (0.022) Elapsed 0m 0s (remain 0m 0s) \n",
      "Epoch: [38][0/40] Data 0.041 (0.041) Elapsed 0m 0s (remain 0m 11s) Loss: 0.0032(0.0032) Grad Norm: 0.1299  LR: 1.3809e-04  \n",
      "Epoch: [38][39/40] Data 0.043 (0.043) Elapsed 0m 11s (remain 0m 0s) Loss: 1.1034(0.4860) Grad Norm: 6.5661  LR: 1.3809e-04  \n",
      "EVAL: [0/9] Data 0.025 (0.025) Elapsed 0m 0s (remain 0m 0s) \n"
     ]
    },
    {
     "name": "stderr",
     "output_type": "stream",
     "text": [
      "labels: [ 2  4  2  2 12]\n",
      "pred_labels: [2 0 6 2 9]\n",
      "Epoch 38 - avg_train_loss: 0.4860  lr: 1.3809e-04  time: 13s\n",
      "Epoch 38 - Score: 0.6565\n"
     ]
    },
    {
     "name": "stdout",
     "output_type": "stream",
     "text": [
      "EVAL: [8/9] Data 0.004 (0.022) Elapsed 0m 0s (remain 0m 0s) \n",
      "Epoch: [39][0/40] Data 0.038 (0.038) Elapsed 0m 0s (remain 0m 11s) Loss: 0.0026(0.0026) Grad Norm: 0.1216  LR: 1.1732e-04  \n",
      "Epoch: [39][39/40] Data 0.044 (0.044) Elapsed 0m 11s (remain 0m 0s) Loss: 1.0839(0.3806) Grad Norm: 9.5627  LR: 1.1732e-04  \n",
      "EVAL: [0/9] Data 0.025 (0.025) Elapsed 0m 0s (remain 0m 0s) \n"
     ]
    },
    {
     "name": "stderr",
     "output_type": "stream",
     "text": [
      "labels: [ 2  4  2  2 12]\n",
      "pred_labels: [ 2  4  6  2 12]\n",
      "Epoch 39 - avg_train_loss: 0.3806  lr: 1.1732e-04  time: 13s\n",
      "Epoch 39 - Score: 0.6565\n"
     ]
    },
    {
     "name": "stdout",
     "output_type": "stream",
     "text": [
      "EVAL: [8/9] Data 0.004 (0.022) Elapsed 0m 0s (remain 0m 0s) \n",
      "Epoch: [40][0/40] Data 0.044 (0.044) Elapsed 0m 0s (remain 0m 11s) Loss: 0.6138(0.6138) Grad Norm: 4.3923  LR: 9.8058e-05  \n",
      "Epoch: [40][39/40] Data 0.044 (0.044) Elapsed 0m 11s (remain 0m 0s) Loss: 0.0013(0.4076) Grad Norm: 0.2441  LR: 9.8058e-05  \n",
      "EVAL: [0/9] Data 0.024 (0.024) Elapsed 0m 0s (remain 0m 0s) \n"
     ]
    },
    {
     "name": "stderr",
     "output_type": "stream",
     "text": [
      "labels: [ 2  4  2  2 12]\n",
      "pred_labels: [2 4 6 2 9]\n",
      "Epoch 40 - avg_train_loss: 0.4076  lr: 9.8058e-05  time: 13s\n",
      "Epoch 40 - Score: 0.6183\n"
     ]
    },
    {
     "name": "stdout",
     "output_type": "stream",
     "text": [
      "EVAL: [8/9] Data 0.005 (0.022) Elapsed 0m 0s (remain 0m 0s) \n",
      "Epoch: [41][0/40] Data 0.043 (0.043) Elapsed 0m 0s (remain 0m 11s) Loss: 0.6766(0.6766) Grad Norm: 5.4124  LR: 8.0390e-05  \n",
      "Epoch: [41][39/40] Data 0.039 (0.043) Elapsed 0m 11s (remain 0m 0s) Loss: 0.0130(0.4801) Grad Norm: 0.4513  LR: 8.0390e-05  \n",
      "EVAL: [0/9] Data 0.024 (0.024) Elapsed 0m 0s (remain 0m 0s) \n"
     ]
    },
    {
     "name": "stderr",
     "output_type": "stream",
     "text": [
      "labels: [ 2  4  2  2 12]\n",
      "pred_labels: [2 4 6 2 9]\n",
      "Epoch 41 - avg_train_loss: 0.4801  lr: 8.0390e-05  time: 13s\n",
      "Epoch 41 - Score: 0.6336\n"
     ]
    },
    {
     "name": "stdout",
     "output_type": "stream",
     "text": [
      "EVAL: [8/9] Data 0.005 (0.022) Elapsed 0m 0s (remain 0m 0s) \n",
      "Epoch: [42][0/40] Data 0.036 (0.036) Elapsed 0m 0s (remain 0m 11s) Loss: 0.7786(0.7786) Grad Norm: 5.8157  LR: 6.4381e-05  \n",
      "Epoch: [42][39/40] Data 0.043 (0.044) Elapsed 0m 11s (remain 0m 0s) Loss: 1.1930(0.4624) Grad Norm: 8.2817  LR: 6.4381e-05  \n",
      "EVAL: [0/9] Data 0.023 (0.023) Elapsed 0m 0s (remain 0m 0s) \n"
     ]
    },
    {
     "name": "stderr",
     "output_type": "stream",
     "text": [
      "labels: [ 2  4  2  2 12]\n",
      "pred_labels: [2 4 6 2 9]\n",
      "Epoch 42 - avg_train_loss: 0.4624  lr: 6.4381e-05  time: 13s\n",
      "Epoch 42 - Score: 0.6336\n"
     ]
    },
    {
     "name": "stdout",
     "output_type": "stream",
     "text": [
      "EVAL: [8/9] Data 0.005 (0.022) Elapsed 0m 0s (remain 0m 0s) \n",
      "Epoch: [43][0/40] Data 0.042 (0.042) Elapsed 0m 0s (remain 0m 11s) Loss: 0.0041(0.0041) Grad Norm: 0.3208  LR: 5.0093e-05  \n",
      "Epoch: [43][39/40] Data 0.043 (0.044) Elapsed 0m 11s (remain 0m 0s) Loss: 0.0008(0.3723) Grad Norm: 0.0470  LR: 5.0093e-05  \n",
      "EVAL: [0/9] Data 0.024 (0.024) Elapsed 0m 0s (remain 0m 0s) \n"
     ]
    },
    {
     "name": "stderr",
     "output_type": "stream",
     "text": [
      "labels: [ 2  4  2  2 12]\n",
      "pred_labels: [2 4 6 2 9]\n",
      "Epoch 43 - avg_train_loss: 0.3723  lr: 5.0093e-05  time: 13s\n",
      "Epoch 43 - Score: 0.6336\n"
     ]
    },
    {
     "name": "stdout",
     "output_type": "stream",
     "text": [
      "EVAL: [8/9] Data 0.005 (0.022) Elapsed 0m 0s (remain 0m 0s) \n",
      "Epoch: [44][0/40] Data 0.046 (0.046) Elapsed 0m 0s (remain 0m 11s) Loss: 0.0007(0.0007) Grad Norm: 0.0251  LR: 3.7578e-05  \n",
      "Epoch: [44][39/40] Data 0.040 (0.044) Elapsed 0m 11s (remain 0m 0s) Loss: 0.0012(0.3829) Grad Norm: 0.0532  LR: 3.7578e-05  \n",
      "EVAL: [0/9] Data 0.023 (0.023) Elapsed 0m 0s (remain 0m 0s) \n"
     ]
    },
    {
     "name": "stderr",
     "output_type": "stream",
     "text": [
      "labels: [ 2  4  2  2 12]\n",
      "pred_labels: [2 4 6 2 9]\n",
      "Epoch 44 - avg_train_loss: 0.3829  lr: 3.7578e-05  time: 13s\n",
      "Epoch 44 - Score: 0.6336\n"
     ]
    },
    {
     "name": "stdout",
     "output_type": "stream",
     "text": [
      "EVAL: [8/9] Data 0.004 (0.022) Elapsed 0m 0s (remain 0m 0s) \n",
      "Epoch: [45][0/40] Data 0.045 (0.045) Elapsed 0m 0s (remain 0m 11s) Loss: 0.0028(0.0028) Grad Norm: 0.1250  LR: 2.6881e-05  \n",
      "Epoch: [45][39/40] Data 0.047 (0.044) Elapsed 0m 11s (remain 0m 0s) Loss: 0.7645(0.4461) Grad Norm: 5.7193  LR: 2.6881e-05  \n",
      "EVAL: [0/9] Data 0.023 (0.023) Elapsed 0m 0s (remain 0m 0s) \n"
     ]
    },
    {
     "name": "stderr",
     "output_type": "stream",
     "text": [
      "labels: [ 2  4  2  2 12]\n",
      "pred_labels: [2 4 6 2 9]\n",
      "Epoch 45 - avg_train_loss: 0.4461  lr: 2.6881e-05  time: 13s\n",
      "Epoch 45 - Score: 0.6412\n"
     ]
    },
    {
     "name": "stdout",
     "output_type": "stream",
     "text": [
      "EVAL: [8/9] Data 0.004 (0.022) Elapsed 0m 0s (remain 0m 0s) \n",
      "Epoch: [46][0/40] Data 0.044 (0.044) Elapsed 0m 0s (remain 0m 11s) Loss: 0.0049(0.0049) Grad Norm: 0.1571  LR: 1.8039e-05  \n",
      "Epoch: [46][39/40] Data 0.037 (0.043) Elapsed 0m 11s (remain 0m 0s) Loss: 0.0016(0.0023) Grad Norm: 0.1653  LR: 1.8039e-05  \n",
      "EVAL: [0/9] Data 0.024 (0.024) Elapsed 0m 0s (remain 0m 0s) \n"
     ]
    },
    {
     "name": "stderr",
     "output_type": "stream",
     "text": [
      "labels: [ 2  4  2  2 12]\n",
      "pred_labels: [2 4 6 2 9]\n",
      "Epoch 46 - avg_train_loss: 0.0023  lr: 1.8039e-05  time: 12s\n",
      "Epoch 46 - Score: 0.6412\n"
     ]
    },
    {
     "name": "stdout",
     "output_type": "stream",
     "text": [
      "EVAL: [8/9] Data 0.004 (0.022) Elapsed 0m 0s (remain 0m 0s) \n",
      "Epoch: [47][0/40] Data 0.043 (0.043) Elapsed 0m 0s (remain 0m 11s) Loss: 0.0016(0.0016) Grad Norm: 0.0848  LR: 1.1073e-05  \n",
      "Epoch: [47][39/40] Data 0.042 (0.043) Elapsed 0m 11s (remain 0m 0s) Loss: 0.0011(0.0035) Grad Norm: 0.0615  LR: 1.1073e-05  \n",
      "EVAL: [0/9] Data 0.023 (0.023) Elapsed 0m 0s (remain 0m 0s) \n"
     ]
    },
    {
     "name": "stderr",
     "output_type": "stream",
     "text": [
      "labels: [ 2  4  2  2 12]\n",
      "pred_labels: [2 4 6 2 9]\n",
      "Epoch 47 - avg_train_loss: 0.0035  lr: 1.1073e-05  time: 12s\n",
      "Epoch 47 - Score: 0.6412\n"
     ]
    },
    {
     "name": "stdout",
     "output_type": "stream",
     "text": [
      "EVAL: [8/9] Data 0.005 (0.021) Elapsed 0m 0s (remain 0m 0s) \n",
      "Epoch: [48][0/40] Data 0.052 (0.052) Elapsed 0m 0s (remain 0m 11s) Loss: 0.0019(0.0019) Grad Norm: 0.1058  LR: 5.9882e-06  \n",
      "Epoch: [48][39/40] Data 0.041 (0.044) Elapsed 0m 11s (remain 0m 0s) Loss: 0.0008(0.0020) Grad Norm: 0.0333  LR: 5.9882e-06  \n",
      "EVAL: [0/9] Data 0.024 (0.024) Elapsed 0m 0s (remain 0m 0s) \n"
     ]
    },
    {
     "name": "stderr",
     "output_type": "stream",
     "text": [
      "labels: [ 2  4  2  2 12]\n",
      "pred_labels: [2 4 6 2 9]\n",
      "Epoch 48 - avg_train_loss: 0.0020  lr: 5.9882e-06  time: 12s\n",
      "Epoch 48 - Score: 0.6412\n"
     ]
    },
    {
     "name": "stdout",
     "output_type": "stream",
     "text": [
      "EVAL: [8/9] Data 0.005 (0.022) Elapsed 0m 0s (remain 0m 0s) \n",
      "Epoch: [49][0/40] Data 0.043 (0.043) Elapsed 0m 0s (remain 0m 11s) Loss: 0.0067(0.0067) Grad Norm: 0.3699  LR: 2.7534e-06  \n",
      "Epoch: [49][39/40] Data 0.046 (0.043) Elapsed 0m 11s (remain 0m 0s) Loss: 0.0013(0.0060) Grad Norm: 0.1213  LR: 2.7534e-06  \n",
      "EVAL: [0/9] Data 0.024 (0.024) Elapsed 0m 0s (remain 0m 0s) \n"
     ]
    },
    {
     "name": "stderr",
     "output_type": "stream",
     "text": [
      "labels: [ 2  4  2  2 12]\n",
      "pred_labels: [2 4 6 2 9]\n",
      "Epoch 49 - avg_train_loss: 0.0060  lr: 2.7534e-06  time: 13s\n",
      "Epoch 49 - Score: 0.6412\n"
     ]
    },
    {
     "name": "stdout",
     "output_type": "stream",
     "text": [
      "EVAL: [8/9] Data 0.005 (0.022) Elapsed 0m 0s (remain 0m 0s) \n",
      "Epoch: [50][0/40] Data 0.045 (0.045) Elapsed 0m 0s (remain 0m 11s) Loss: 0.0021(0.0021) Grad Norm: 0.0766  LR: 1.2467e-06  \n",
      "Epoch: [50][39/40] Data 0.039 (0.045) Elapsed 0m 12s (remain 0m 0s) Loss: 0.0023(0.0022) Grad Norm: 0.1661  LR: 1.2467e-06  \n",
      "EVAL: [0/9] Data 0.025 (0.025) Elapsed 0m 0s (remain 0m 0s) \n"
     ]
    },
    {
     "name": "stderr",
     "output_type": "stream",
     "text": [
      "labels: [ 2  4  2  2 12]\n",
      "pred_labels: [2 4 6 2 9]\n",
      "Epoch 50 - avg_train_loss: 0.0022  lr: 1.2467e-06  time: 13s\n",
      "Epoch 50 - Score: 0.6412\n",
      "==================== fold: 2, seed: 2 training ====================\n"
     ]
    },
    {
     "name": "stdout",
     "output_type": "stream",
     "text": [
      "EVAL: [8/9] Data 0.005 (0.022) Elapsed 0m 0s (remain 0m 0s) \n",
      "Epoch: [1][0/40] Data 0.046 (0.046) Elapsed 0m 0s (remain 0m 11s) Loss: 2.6428(2.6428) Grad Norm: 8.1971  LR: 1.0000e-03  \n",
      "Epoch: [1][39/40] Data 0.044 (0.040) Elapsed 0m 11s (remain 0m 0s) Loss: 2.2143(2.4818) Grad Norm: 17.6485  LR: 1.0000e-03  \n",
      "EVAL: [0/9] Data 0.024 (0.024) Elapsed 0m 0s (remain 0m 0s) \n"
     ]
    },
    {
     "name": "stderr",
     "output_type": "stream",
     "text": [
      "labels: [11  2  3  7  6]\n",
      "pred_labels: [2 2 6 7 9]\n",
      "Epoch 1 - avg_train_loss: 2.4818  lr: 1.0000e-03  time: 12s\n",
      "Epoch 1 - Score: 0.3130\n",
      "Epoch 1 - Save Best Score: 0.3130 Model\n"
     ]
    },
    {
     "name": "stdout",
     "output_type": "stream",
     "text": [
      "EVAL: [8/9] Data 0.005 (0.023) Elapsed 0m 0s (remain 0m 0s) \n",
      "Epoch: [2][0/40] Data 0.061 (0.061) Elapsed 0m 0s (remain 0m 12s) Loss: 2.0729(2.0729) Grad Norm: 22.7036  LR: 9.9803e-04  \n",
      "Epoch: [2][39/40] Data 0.046 (0.043) Elapsed 0m 11s (remain 0m 0s) Loss: 1.7562(2.1056) Grad Norm: 10.4583  LR: 9.9803e-04  \n",
      "EVAL: [0/9] Data 0.024 (0.024) Elapsed 0m 0s (remain 0m 0s) \n"
     ]
    },
    {
     "name": "stderr",
     "output_type": "stream",
     "text": [
      "labels: [11  2  3  7  6]\n",
      "pred_labels: [2 2 1 7 0]\n",
      "Epoch 2 - avg_train_loss: 2.1056  lr: 9.9803e-04  time: 13s\n",
      "Epoch 2 - Score: 0.3588\n",
      "Epoch 2 - Save Best Score: 0.3588 Model\n"
     ]
    },
    {
     "name": "stdout",
     "output_type": "stream",
     "text": [
      "EVAL: [8/9] Data 0.004 (0.022) Elapsed 0m 0s (remain 0m 0s) \n",
      "Epoch: [3][0/40] Data 0.042 (0.042) Elapsed 0m 0s (remain 0m 11s) Loss: 1.9430(1.9430) Grad Norm: 16.1983  LR: 9.9312e-04  \n",
      "Epoch: [3][39/40] Data 0.043 (0.044) Elapsed 0m 11s (remain 0m 0s) Loss: 2.2100(1.8201) Grad Norm: 21.5266  LR: 9.9312e-04  \n",
      "EVAL: [0/9] Data 0.024 (0.024) Elapsed 0m 0s (remain 0m 0s) \n"
     ]
    },
    {
     "name": "stderr",
     "output_type": "stream",
     "text": [
      "labels: [11  2  3  7  6]\n",
      "pred_labels: [0 2 1 2 0]\n",
      "Epoch 3 - avg_train_loss: 1.8201  lr: 9.9312e-04  time: 13s\n",
      "Epoch 3 - Score: 0.4656\n",
      "Epoch 3 - Save Best Score: 0.4656 Model\n"
     ]
    },
    {
     "name": "stdout",
     "output_type": "stream",
     "text": [
      "EVAL: [8/9] Data 0.005 (0.022) Elapsed 0m 0s (remain 0m 0s) \n",
      "Epoch: [4][0/40] Data 0.038 (0.038) Elapsed 0m 0s (remain 0m 11s) Loss: 1.9226(1.9226) Grad Norm: 15.4750  LR: 9.8627e-04  \n",
      "Epoch: [4][39/40] Data 0.038 (0.044) Elapsed 0m 11s (remain 0m 0s) Loss: 2.3469(1.4996) Grad Norm: 18.1434  LR: 9.8627e-04  \n",
      "EVAL: [0/9] Data 0.024 (0.024) Elapsed 0m 0s (remain 0m 0s) \n"
     ]
    },
    {
     "name": "stderr",
     "output_type": "stream",
     "text": [
      "labels: [11  2  3  7  6]\n",
      "pred_labels: [11  2  1  7  0]\n",
      "Epoch 4 - avg_train_loss: 1.4996  lr: 9.8627e-04  time: 13s\n",
      "Epoch 4 - Score: 0.5954\n",
      "Epoch 4 - Save Best Score: 0.5954 Model\n"
     ]
    },
    {
     "name": "stdout",
     "output_type": "stream",
     "text": [
      "EVAL: [8/9] Data 0.005 (0.022) Elapsed 0m 0s (remain 0m 0s) \n",
      "Epoch: [5][0/40] Data 0.038 (0.038) Elapsed 0m 0s (remain 0m 12s) Loss: 1.8208(1.8208) Grad Norm: 9.7826  LR: 9.7751e-04  \n",
      "Epoch: [5][39/40] Data 0.038 (0.044) Elapsed 0m 11s (remain 0m 0s) Loss: 2.2577(1.6247) Grad Norm: 10.0634  LR: 9.7751e-04  \n",
      "EVAL: [0/9] Data 0.025 (0.025) Elapsed 0m 0s (remain 0m 0s) \n"
     ]
    },
    {
     "name": "stderr",
     "output_type": "stream",
     "text": [
      "labels: [11  2  3  7  6]\n",
      "pred_labels: [12  7  4  7 11]\n",
      "Epoch 5 - avg_train_loss: 1.6247  lr: 9.7751e-04  time: 13s\n",
      "Epoch 5 - Score: 0.5344\n"
     ]
    },
    {
     "name": "stdout",
     "output_type": "stream",
     "text": [
      "EVAL: [8/9] Data 0.005 (0.022) Elapsed 0m 0s (remain 0m 0s) \n",
      "Epoch: [6][0/40] Data 0.044 (0.044) Elapsed 0m 0s (remain 0m 12s) Loss: 1.8378(1.8378) Grad Norm: 8.9655  LR: 9.6688e-04  \n",
      "Epoch: [6][39/40] Data 0.044 (0.042) Elapsed 0m 11s (remain 0m 0s) Loss: 1.3382(1.2533) Grad Norm: 11.9976  LR: 9.6688e-04  \n",
      "EVAL: [0/9] Data 0.025 (0.025) Elapsed 0m 0s (remain 0m 0s) \n"
     ]
    },
    {
     "name": "stderr",
     "output_type": "stream",
     "text": [
      "labels: [11  2  3  7  6]\n",
      "pred_labels: [11  2  3  0 11]\n",
      "Epoch 6 - avg_train_loss: 1.2533  lr: 9.6688e-04  time: 13s\n",
      "Epoch 6 - Score: 0.5649\n"
     ]
    },
    {
     "name": "stdout",
     "output_type": "stream",
     "text": [
      "EVAL: [8/9] Data 0.004 (0.023) Elapsed 0m 0s (remain 0m 0s) \n",
      "Epoch: [7][0/40] Data 0.047 (0.047) Elapsed 0m 0s (remain 0m 12s) Loss: 0.5391(0.5391) Grad Norm: 9.6966  LR: 9.5441e-04  \n",
      "Epoch: [7][39/40] Data 0.043 (0.044) Elapsed 0m 11s (remain 0m 0s) Loss: 1.7531(1.1643) Grad Norm: 9.0936  LR: 9.5441e-04  \n",
      "EVAL: [0/9] Data 0.024 (0.024) Elapsed 0m 0s (remain 0m 0s) \n"
     ]
    },
    {
     "name": "stderr",
     "output_type": "stream",
     "text": [
      "labels: [11  2  3  7  6]\n",
      "pred_labels: [11  2  3  7 11]\n",
      "Epoch 7 - avg_train_loss: 1.1643  lr: 9.5441e-04  time: 13s\n",
      "Epoch 7 - Score: 0.4962\n"
     ]
    },
    {
     "name": "stdout",
     "output_type": "stream",
     "text": [
      "EVAL: [8/9] Data 0.004 (0.022) Elapsed 0m 0s (remain 0m 0s) \n",
      "Epoch: [8][0/40] Data 0.042 (0.042) Elapsed 0m 0s (remain 0m 11s) Loss: 0.7483(0.7483) Grad Norm: 8.1148  LR: 9.4016e-04  \n",
      "Epoch: [8][39/40] Data 0.044 (0.043) Elapsed 0m 11s (remain 0m 0s) Loss: 1.8258(1.0615) Grad Norm: 11.6478  LR: 9.4016e-04  \n",
      "EVAL: [0/9] Data 0.025 (0.025) Elapsed 0m 0s (remain 0m 0s) \n"
     ]
    },
    {
     "name": "stderr",
     "output_type": "stream",
     "text": [
      "labels: [11  2  3  7  6]\n",
      "pred_labels: [11  2  1  0  6]\n",
      "Epoch 8 - avg_train_loss: 1.0615  lr: 9.4016e-04  time: 13s\n",
      "Epoch 8 - Score: 0.5420\n"
     ]
    },
    {
     "name": "stdout",
     "output_type": "stream",
     "text": [
      "EVAL: [8/9] Data 0.004 (0.022) Elapsed 0m 0s (remain 0m 0s) \n",
      "Epoch: [9][0/40] Data 0.045 (0.045) Elapsed 0m 0s (remain 0m 11s) Loss: 0.6249(0.6249) Grad Norm: 19.1598  LR: 9.2418e-04  \n",
      "Epoch: [9][39/40] Data 0.042 (0.043) Elapsed 0m 11s (remain 0m 0s) Loss: 1.3605(1.0683) Grad Norm: 8.4185  LR: 9.2418e-04  \n",
      "EVAL: [0/9] Data 0.024 (0.024) Elapsed 0m 0s (remain 0m 0s) \n"
     ]
    },
    {
     "name": "stderr",
     "output_type": "stream",
     "text": [
      "labels: [11  2  3  7  6]\n",
      "pred_labels: [11  2  3  2  0]\n",
      "Epoch 9 - avg_train_loss: 1.0683  lr: 9.2418e-04  time: 13s\n",
      "Epoch 9 - Score: 0.5115\n"
     ]
    },
    {
     "name": "stdout",
     "output_type": "stream",
     "text": [
      "EVAL: [8/9] Data 0.005 (0.022) Elapsed 0m 0s (remain 0m 0s) \n",
      "Epoch: [10][0/40] Data 0.042 (0.042) Elapsed 0m 0s (remain 0m 11s) Loss: 1.1503(1.1503) Grad Norm: 13.3881  LR: 9.0654e-04  \n",
      "Epoch: [10][39/40] Data 0.045 (0.045) Elapsed 0m 12s (remain 0m 0s) Loss: 0.4471(1.2674) Grad Norm: 9.6993  LR: 9.0654e-04  \n",
      "EVAL: [0/9] Data 0.025 (0.025) Elapsed 0m 0s (remain 0m 0s) \n"
     ]
    },
    {
     "name": "stderr",
     "output_type": "stream",
     "text": [
      "labels: [11  2  3  7  6]\n",
      "pred_labels: [11  2  1  8  0]\n",
      "Epoch 10 - avg_train_loss: 1.2674  lr: 9.0654e-04  time: 13s\n",
      "Epoch 10 - Score: 0.5038\n"
     ]
    },
    {
     "name": "stdout",
     "output_type": "stream",
     "text": [
      "EVAL: [8/9] Data 0.005 (0.022) Elapsed 0m 0s (remain 0m 0s) \n",
      "Epoch: [11][0/40] Data 0.045 (0.045) Elapsed 0m 0s (remain 0m 11s) Loss: 0.7334(0.7334) Grad Norm: 13.1121  LR: 8.8730e-04  \n",
      "Epoch: [11][39/40] Data 0.039 (0.043) Elapsed 0m 11s (remain 0m 0s) Loss: 2.4802(1.0776) Grad Norm: 18.2494  LR: 8.8730e-04  \n",
      "EVAL: [0/9] Data 0.027 (0.027) Elapsed 0m 0s (remain 0m 0s) \n"
     ]
    },
    {
     "name": "stderr",
     "output_type": "stream",
     "text": [
      "labels: [11  2  3  7  6]\n",
      "pred_labels: [9 2 3 4 6]\n",
      "Epoch 11 - avg_train_loss: 1.0776  lr: 8.8730e-04  time: 13s\n",
      "Epoch 11 - Score: 0.5344\n"
     ]
    },
    {
     "name": "stdout",
     "output_type": "stream",
     "text": [
      "EVAL: [8/9] Data 0.005 (0.022) Elapsed 0m 0s (remain 0m 0s) \n",
      "Epoch: [12][0/40] Data 0.047 (0.047) Elapsed 0m 0s (remain 0m 12s) Loss: 1.7851(1.7851) Grad Norm: 8.5218  LR: 8.6655e-04  \n",
      "Epoch: [12][39/40] Data 0.043 (0.045) Elapsed 0m 11s (remain 0m 0s) Loss: 1.6311(1.0297) Grad Norm: 8.7573  LR: 8.6655e-04  \n",
      "EVAL: [0/9] Data 0.025 (0.025) Elapsed 0m 0s (remain 0m 0s) \n"
     ]
    },
    {
     "name": "stderr",
     "output_type": "stream",
     "text": [
      "labels: [11  2  3  7  6]\n",
      "pred_labels: [11  2  4  7  4]\n",
      "Epoch 12 - avg_train_loss: 1.0297  lr: 8.6655e-04  time: 13s\n",
      "Epoch 12 - Score: 0.6107\n",
      "Epoch 12 - Save Best Score: 0.6107 Model\n"
     ]
    },
    {
     "name": "stdout",
     "output_type": "stream",
     "text": [
      "EVAL: [8/9] Data 0.005 (0.022) Elapsed 0m 0s (remain 0m 0s) \n",
      "Epoch: [13][0/40] Data 0.047 (0.047) Elapsed 0m 0s (remain 0m 12s) Loss: 1.3300(1.3300) Grad Norm: 7.1906  LR: 8.4436e-04  \n",
      "Epoch: [13][39/40] Data 0.048 (0.044) Elapsed 0m 11s (remain 0m 0s) Loss: 1.2767(0.9263) Grad Norm: 8.3568  LR: 8.4436e-04  \n",
      "EVAL: [0/9] Data 0.025 (0.025) Elapsed 0m 0s (remain 0m 0s) \n"
     ]
    },
    {
     "name": "stderr",
     "output_type": "stream",
     "text": [
      "labels: [11  2  3  7  6]\n",
      "pred_labels: [11  2  4  7  2]\n",
      "Epoch 13 - avg_train_loss: 0.9263  lr: 8.4436e-04  time: 13s\n",
      "Epoch 13 - Score: 0.5725\n"
     ]
    },
    {
     "name": "stdout",
     "output_type": "stream",
     "text": [
      "EVAL: [8/9] Data 0.004 (0.021) Elapsed 0m 0s (remain 0m 0s) \n",
      "Epoch: [14][0/40] Data 0.045 (0.045) Elapsed 0m 0s (remain 0m 11s) Loss: 1.1055(1.1055) Grad Norm: 14.0551  LR: 8.2081e-04  \n",
      "Epoch: [14][39/40] Data 0.041 (0.043) Elapsed 0m 11s (remain 0m 0s) Loss: 1.4919(0.8329) Grad Norm: 16.8461  LR: 8.2081e-04  \n",
      "EVAL: [0/9] Data 0.027 (0.027) Elapsed 0m 0s (remain 0m 0s) \n"
     ]
    },
    {
     "name": "stderr",
     "output_type": "stream",
     "text": [
      "labels: [11  2  3  7  6]\n",
      "pred_labels: [5 2 3 8 0]\n",
      "Epoch 14 - avg_train_loss: 0.8329  lr: 8.2081e-04  time: 13s\n",
      "Epoch 14 - Score: 0.5267\n"
     ]
    },
    {
     "name": "stdout",
     "output_type": "stream",
     "text": [
      "EVAL: [8/9] Data 0.005 (0.022) Elapsed 0m 0s (remain 0m 0s) \n",
      "Epoch: [15][0/40] Data 0.047 (0.047) Elapsed 0m 0s (remain 0m 11s) Loss: 1.5304(1.5304) Grad Norm: 8.9255  LR: 7.9601e-04  \n",
      "Epoch: [15][39/40] Data 0.044 (0.045) Elapsed 0m 11s (remain 0m 0s) Loss: 0.0818(0.9868) Grad Norm: 3.7427  LR: 7.9601e-04  \n",
      "EVAL: [0/9] Data 0.024 (0.024) Elapsed 0m 0s (remain 0m 0s) \n"
     ]
    },
    {
     "name": "stderr",
     "output_type": "stream",
     "text": [
      "labels: [11  2  3  7  6]\n",
      "pred_labels: [11  2  3  7  0]\n",
      "Epoch 15 - avg_train_loss: 0.9868  lr: 7.9601e-04  time: 13s\n",
      "Epoch 15 - Score: 0.6794\n",
      "Epoch 15 - Save Best Score: 0.6794 Model\n"
     ]
    },
    {
     "name": "stdout",
     "output_type": "stream",
     "text": [
      "EVAL: [8/9] Data 0.004 (0.021) Elapsed 0m 0s (remain 0m 0s) \n",
      "Epoch: [16][0/40] Data 0.041 (0.041) Elapsed 0m 0s (remain 0m 12s) Loss: 0.2546(0.2546) Grad Norm: 8.3034  LR: 7.7006e-04  \n",
      "Epoch: [16][39/40] Data 0.040 (0.044) Elapsed 0m 11s (remain 0m 0s) Loss: 1.6029(0.8290) Grad Norm: 9.3228  LR: 7.7006e-04  \n",
      "EVAL: [0/9] Data 0.024 (0.024) Elapsed 0m 0s (remain 0m 0s) \n"
     ]
    },
    {
     "name": "stderr",
     "output_type": "stream",
     "text": [
      "labels: [11  2  3  7  6]\n",
      "pred_labels: [11  2  3  7 11]\n",
      "Epoch 16 - avg_train_loss: 0.8290  lr: 7.7006e-04  time: 13s\n",
      "Epoch 16 - Score: 0.6336\n"
     ]
    },
    {
     "name": "stdout",
     "output_type": "stream",
     "text": [
      "EVAL: [8/9] Data 0.005 (0.022) Elapsed 0m 0s (remain 0m 0s) \n",
      "Epoch: [17][0/40] Data 0.042 (0.042) Elapsed 0m 0s (remain 0m 11s) Loss: 0.2184(0.2184) Grad Norm: 6.4802  LR: 7.4304e-04  \n",
      "Epoch: [17][39/40] Data 0.039 (0.044) Elapsed 0m 11s (remain 0m 0s) Loss: 1.4555(0.6527) Grad Norm: 6.8060  LR: 7.4304e-04  \n",
      "EVAL: [0/9] Data 0.024 (0.024) Elapsed 0m 0s (remain 0m 0s) \n"
     ]
    },
    {
     "name": "stderr",
     "output_type": "stream",
     "text": [
      "labels: [11  2  3  7  6]\n",
      "pred_labels: [11  2  3  7  0]\n",
      "Epoch 17 - avg_train_loss: 0.6527  lr: 7.4304e-04  time: 13s\n",
      "Epoch 17 - Score: 0.5802\n"
     ]
    },
    {
     "name": "stdout",
     "output_type": "stream",
     "text": [
      "EVAL: [8/9] Data 0.005 (0.022) Elapsed 0m 0s (remain 0m 0s) \n",
      "Epoch: [18][0/40] Data 0.041 (0.041) Elapsed 0m 0s (remain 0m 11s) Loss: 0.1667(0.1667) Grad Norm: 4.2149  LR: 7.1508e-04  \n",
      "Epoch: [18][39/40] Data 0.041 (0.043) Elapsed 0m 11s (remain 0m 0s) Loss: 1.5034(0.9573) Grad Norm: 20.7689  LR: 7.1508e-04  \n",
      "EVAL: [0/9] Data 0.024 (0.024) Elapsed 0m 0s (remain 0m 0s) \n"
     ]
    },
    {
     "name": "stderr",
     "output_type": "stream",
     "text": [
      "labels: [11  2  3  7  6]\n",
      "pred_labels: [11  2  3  7  0]\n",
      "Epoch 18 - avg_train_loss: 0.9573  lr: 7.1508e-04  time: 13s\n",
      "Epoch 18 - Score: 0.5878\n"
     ]
    },
    {
     "name": "stdout",
     "output_type": "stream",
     "text": [
      "EVAL: [8/9] Data 0.005 (0.021) Elapsed 0m 0s (remain 0m 0s) \n",
      "Epoch: [19][0/40] Data 0.042 (0.042) Elapsed 0m 0s (remain 0m 11s) Loss: 1.2925(1.2925) Grad Norm: 6.2970  LR: 6.8627e-04  \n",
      "Epoch: [19][39/40] Data 0.042 (0.044) Elapsed 0m 11s (remain 0m 0s) Loss: 0.2205(0.7584) Grad Norm: 5.9375  LR: 6.8627e-04  \n",
      "EVAL: [0/9] Data 0.024 (0.024) Elapsed 0m 0s (remain 0m 0s) \n"
     ]
    },
    {
     "name": "stderr",
     "output_type": "stream",
     "text": [
      "labels: [11  2  3  7  6]\n",
      "pred_labels: [11  2  3  7  0]\n",
      "Epoch 19 - avg_train_loss: 0.7584  lr: 6.8627e-04  time: 13s\n",
      "Epoch 19 - Score: 0.5038\n"
     ]
    },
    {
     "name": "stdout",
     "output_type": "stream",
     "text": [
      "EVAL: [8/9] Data 0.005 (0.022) Elapsed 0m 0s (remain 0m 0s) \n",
      "Epoch: [20][0/40] Data 0.041 (0.041) Elapsed 0m 0s (remain 0m 11s) Loss: 0.2322(0.2322) Grad Norm: 12.9133  LR: 6.5674e-04  \n",
      "Epoch: [20][39/40] Data 0.048 (0.044) Elapsed 0m 11s (remain 0m 0s) Loss: 0.0454(0.7309) Grad Norm: 5.7745  LR: 6.5674e-04  \n",
      "EVAL: [0/9] Data 0.024 (0.024) Elapsed 0m 0s (remain 0m 0s) \n"
     ]
    },
    {
     "name": "stderr",
     "output_type": "stream",
     "text": [
      "labels: [11  2  3  7  6]\n",
      "pred_labels: [11  2  3  7 11]\n",
      "Epoch 20 - avg_train_loss: 0.7309  lr: 6.5674e-04  time: 13s\n",
      "Epoch 20 - Score: 0.5802\n"
     ]
    },
    {
     "name": "stdout",
     "output_type": "stream",
     "text": [
      "EVAL: [8/9] Data 0.005 (0.022) Elapsed 0m 0s (remain 0m 0s) \n",
      "Epoch: [21][0/40] Data 0.046 (0.046) Elapsed 0m 0s (remain 0m 11s) Loss: 0.1962(0.1962) Grad Norm: 14.8046  LR: 6.2661e-04  \n",
      "Epoch: [21][39/40] Data 0.040 (0.044) Elapsed 0m 11s (remain 0m 0s) Loss: 0.1744(0.7294) Grad Norm: 4.9636  LR: 6.2661e-04  \n",
      "EVAL: [0/9] Data 0.024 (0.024) Elapsed 0m 0s (remain 0m 0s) \n"
     ]
    },
    {
     "name": "stderr",
     "output_type": "stream",
     "text": [
      "labels: [11  2  3  7  6]\n",
      "pred_labels: [11  2  3  7  0]\n",
      "Epoch 21 - avg_train_loss: 0.7294  lr: 6.2661e-04  time: 13s\n",
      "Epoch 21 - Score: 0.6565\n"
     ]
    },
    {
     "name": "stdout",
     "output_type": "stream",
     "text": [
      "EVAL: [8/9] Data 0.005 (0.022) Elapsed 0m 0s (remain 0m 0s) \n",
      "Epoch: [22][0/40] Data 0.043 (0.043) Elapsed 0m 0s (remain 0m 11s) Loss: 1.0380(1.0380) Grad Norm: 4.2155  LR: 5.9598e-04  \n",
      "Epoch: [22][39/40] Data 0.039 (0.043) Elapsed 0m 11s (remain 0m 0s) Loss: 1.2477(0.6145) Grad Norm: 5.5048  LR: 5.9598e-04  \n",
      "EVAL: [0/9] Data 0.024 (0.024) Elapsed 0m 0s (remain 0m 0s) \n"
     ]
    },
    {
     "name": "stderr",
     "output_type": "stream",
     "text": [
      "labels: [11  2  3  7  6]\n",
      "pred_labels: [11  2  3  7 11]\n",
      "Epoch 22 - avg_train_loss: 0.6145  lr: 5.9598e-04  time: 13s\n",
      "Epoch 22 - Score: 0.6107\n"
     ]
    },
    {
     "name": "stdout",
     "output_type": "stream",
     "text": [
      "EVAL: [8/9] Data 0.004 (0.021) Elapsed 0m 0s (remain 0m 0s) \n",
      "Epoch: [23][0/40] Data 0.060 (0.060) Elapsed 0m 0s (remain 0m 12s) Loss: 0.1707(0.1707) Grad Norm: 4.6664  LR: 5.6498e-04  \n",
      "Epoch: [23][39/40] Data 0.047 (0.044) Elapsed 0m 11s (remain 0m 0s) Loss: 0.0396(0.7355) Grad Norm: 2.8818  LR: 5.6498e-04  \n",
      "EVAL: [0/9] Data 0.031 (0.031) Elapsed 0m 0s (remain 0m 0s) \n"
     ]
    },
    {
     "name": "stderr",
     "output_type": "stream",
     "text": [
      "labels: [11  2  3  7  6]\n",
      "pred_labels: [11  2  3  7  0]\n",
      "Epoch 23 - avg_train_loss: 0.7355  lr: 5.6498e-04  time: 13s\n",
      "Epoch 23 - Score: 0.6412\n"
     ]
    },
    {
     "name": "stdout",
     "output_type": "stream",
     "text": [
      "EVAL: [8/9] Data 0.016 (0.021) Elapsed 0m 0s (remain 0m 0s) \n",
      "Epoch: [24][0/40] Data 0.047 (0.047) Elapsed 0m 0s (remain 0m 11s) Loss: 1.5015(1.5015) Grad Norm: 5.9835  LR: 5.3373e-04  \n",
      "Epoch: [24][39/40] Data 0.052 (0.045) Elapsed 0m 11s (remain 0m 0s) Loss: 1.0570(0.8037) Grad Norm: 5.8166  LR: 5.3373e-04  \n",
      "EVAL: [0/9] Data 0.016 (0.016) Elapsed 0m 0s (remain 0m 0s) \n"
     ]
    },
    {
     "name": "stderr",
     "output_type": "stream",
     "text": [
      "labels: [11  2  3  7  6]\n",
      "pred_labels: [11  2  4  7  6]\n",
      "Epoch 24 - avg_train_loss: 0.8037  lr: 5.3373e-04  time: 13s\n",
      "Epoch 24 - Score: 0.6031\n"
     ]
    },
    {
     "name": "stdout",
     "output_type": "stream",
     "text": [
      "EVAL: [8/9] Data 0.000 (0.022) Elapsed 0m 0s (remain 0m 0s) \n",
      "Epoch: [25][0/40] Data 0.044 (0.044) Elapsed 0m 0s (remain 0m 11s) Loss: 0.2095(0.2095) Grad Norm: 10.7688  LR: 5.0236e-04  \n",
      "Epoch: [25][39/40] Data 0.038 (0.044) Elapsed 0m 11s (remain 0m 0s) Loss: 1.3416(0.5784) Grad Norm: 7.3509  LR: 5.0236e-04  \n",
      "EVAL: [0/9] Data 0.024 (0.024) Elapsed 0m 0s (remain 0m 0s) \n"
     ]
    },
    {
     "name": "stderr",
     "output_type": "stream",
     "text": [
      "labels: [11  2  3  7  6]\n",
      "pred_labels: [11  2  3  7  0]\n",
      "Epoch 25 - avg_train_loss: 0.5784  lr: 5.0236e-04  time: 13s\n",
      "Epoch 25 - Score: 0.6794\n"
     ]
    },
    {
     "name": "stdout",
     "output_type": "stream",
     "text": [
      "EVAL: [8/9] Data 0.005 (0.022) Elapsed 0m 0s (remain 0m 0s) \n",
      "Epoch: [26][0/40] Data 0.044 (0.044) Elapsed 0m 0s (remain 0m 11s) Loss: 1.0387(1.0387) Grad Norm: 4.9138  LR: 4.7099e-04  \n",
      "Epoch: [26][39/40] Data 0.046 (0.043) Elapsed 0m 11s (remain 0m 0s) Loss: 1.3926(0.6257) Grad Norm: 7.5860  LR: 4.7099e-04  \n",
      "EVAL: [0/9] Data 0.024 (0.024) Elapsed 0m 0s (remain 0m 0s) \n"
     ]
    },
    {
     "name": "stderr",
     "output_type": "stream",
     "text": [
      "labels: [11  2  3  7  6]\n",
      "pred_labels: [11  2  3  7  6]\n",
      "Epoch 26 - avg_train_loss: 0.6257  lr: 4.7099e-04  time: 13s\n",
      "Epoch 26 - Score: 0.5878\n"
     ]
    },
    {
     "name": "stdout",
     "output_type": "stream",
     "text": [
      "EVAL: [8/9] Data 0.005 (0.022) Elapsed 0m 0s (remain 0m 0s) \n",
      "Epoch: [27][0/40] Data 0.050 (0.050) Elapsed 0m 0s (remain 0m 11s) Loss: 0.2196(0.2196) Grad Norm: 24.4654  LR: 4.3974e-04  \n",
      "Epoch: [27][39/40] Data 0.052 (0.043) Elapsed 0m 11s (remain 0m 0s) Loss: 0.2067(0.5281) Grad Norm: 3.6394  LR: 4.3974e-04  \n",
      "EVAL: [0/9] Data 0.023 (0.023) Elapsed 0m 0s (remain 0m 0s) \n"
     ]
    },
    {
     "name": "stderr",
     "output_type": "stream",
     "text": [
      "labels: [11  2  3  7  6]\n",
      "pred_labels: [11  2  3  8  0]\n",
      "Epoch 27 - avg_train_loss: 0.5281  lr: 4.3974e-04  time: 13s\n",
      "Epoch 27 - Score: 0.6412\n"
     ]
    },
    {
     "name": "stdout",
     "output_type": "stream",
     "text": [
      "EVAL: [8/9] Data 0.004 (0.021) Elapsed 0m 0s (remain 0m 0s) \n",
      "Epoch: [28][0/40] Data 0.043 (0.043) Elapsed 0m 0s (remain 0m 11s) Loss: 0.2691(0.2691) Grad Norm: 8.7281  LR: 4.0874e-04  \n",
      "Epoch: [28][39/40] Data 0.038 (0.043) Elapsed 0m 11s (remain 0m 0s) Loss: 0.7537(0.4664) Grad Norm: 4.8656  LR: 4.0874e-04  \n",
      "EVAL: [0/9] Data 0.024 (0.024) Elapsed 0m 0s (remain 0m 0s) \n"
     ]
    },
    {
     "name": "stderr",
     "output_type": "stream",
     "text": [
      "labels: [11  2  3  7  6]\n",
      "pred_labels: [11  2  3  7  0]\n",
      "Epoch 28 - avg_train_loss: 0.4664  lr: 4.0874e-04  time: 13s\n",
      "Epoch 28 - Score: 0.6260\n"
     ]
    },
    {
     "name": "stdout",
     "output_type": "stream",
     "text": [
      "EVAL: [8/9] Data 0.004 (0.021) Elapsed 0m 0s (remain 0m 0s) \n",
      "Epoch: [29][0/40] Data 0.037 (0.037) Elapsed 0m 0s (remain 0m 11s) Loss: 0.0162(0.0162) Grad Norm: 1.5724  LR: 3.7811e-04  \n",
      "Epoch: [29][39/40] Data 0.045 (0.043) Elapsed 0m 11s (remain 0m 0s) Loss: 1.1861(0.5266) Grad Norm: 5.7605  LR: 3.7811e-04  \n",
      "EVAL: [0/9] Data 0.024 (0.024) Elapsed 0m 0s (remain 0m 0s) \n"
     ]
    },
    {
     "name": "stderr",
     "output_type": "stream",
     "text": [
      "labels: [11  2  3  7  6]\n",
      "pred_labels: [11  2  3  4 11]\n",
      "Epoch 29 - avg_train_loss: 0.5266  lr: 3.7811e-04  time: 12s\n",
      "Epoch 29 - Score: 0.6260\n"
     ]
    },
    {
     "name": "stdout",
     "output_type": "stream",
     "text": [
      "EVAL: [8/9] Data 0.005 (0.022) Elapsed 0m 0s (remain 0m 0s) \n",
      "Epoch: [30][0/40] Data 0.047 (0.047) Elapsed 0m 0s (remain 0m 11s) Loss: 0.9531(0.9531) Grad Norm: 9.8588  LR: 3.4797e-04  \n",
      "Epoch: [30][39/40] Data 0.043 (0.044) Elapsed 0m 11s (remain 0m 0s) Loss: 0.0010(0.5536) Grad Norm: 0.0365  LR: 3.4797e-04  \n",
      "EVAL: [0/9] Data 0.025 (0.025) Elapsed 0m 0s (remain 0m 0s) \n"
     ]
    },
    {
     "name": "stderr",
     "output_type": "stream",
     "text": [
      "labels: [11  2  3  7  6]\n",
      "pred_labels: [11  2  3  3 11]\n",
      "Epoch 30 - avg_train_loss: 0.5536  lr: 3.4797e-04  time: 13s\n",
      "Epoch 30 - Score: 0.6489\n"
     ]
    },
    {
     "name": "stdout",
     "output_type": "stream",
     "text": [
      "EVAL: [8/9] Data 0.005 (0.022) Elapsed 0m 0s (remain 0m 0s) \n",
      "Epoch: [31][0/40] Data 0.047 (0.047) Elapsed 0m 0s (remain 0m 11s) Loss: 0.0010(0.0010) Grad Norm: 0.0321  LR: 3.1843e-04  \n",
      "Epoch: [31][39/40] Data 0.044 (0.043) Elapsed 0m 11s (remain 0m 0s) Loss: 1.2187(0.6239) Grad Norm: 7.9561  LR: 3.1843e-04  \n",
      "EVAL: [0/9] Data 0.024 (0.024) Elapsed 0m 0s (remain 0m 0s) \n"
     ]
    },
    {
     "name": "stderr",
     "output_type": "stream",
     "text": [
      "labels: [11  2  3  7  6]\n",
      "pred_labels: [11  2  3  7 11]\n",
      "Epoch 31 - avg_train_loss: 0.6239  lr: 3.1843e-04  time: 13s\n",
      "Epoch 31 - Score: 0.6336\n"
     ]
    },
    {
     "name": "stdout",
     "output_type": "stream",
     "text": [
      "EVAL: [8/9] Data 0.005 (0.021) Elapsed 0m 0s (remain 0m 0s) \n",
      "Epoch: [32][0/40] Data 0.047 (0.047) Elapsed 0m 0s (remain 0m 11s) Loss: 1.1265(1.1265) Grad Norm: 5.0484  LR: 2.8962e-04  \n",
      "Epoch: [32][39/40] Data 0.048 (0.044) Elapsed 0m 11s (remain 0m 0s) Loss: 0.0079(0.6089) Grad Norm: 0.2528  LR: 2.8962e-04  \n",
      "EVAL: [0/9] Data 0.023 (0.023) Elapsed 0m 0s (remain 0m 0s) \n"
     ]
    },
    {
     "name": "stderr",
     "output_type": "stream",
     "text": [
      "labels: [11  2  3  7  6]\n",
      "pred_labels: [11  2  3  7 11]\n",
      "Epoch 32 - avg_train_loss: 0.6089  lr: 2.8962e-04  time: 13s\n",
      "Epoch 32 - Score: 0.6489\n"
     ]
    },
    {
     "name": "stdout",
     "output_type": "stream",
     "text": [
      "EVAL: [8/9] Data 0.005 (0.022) Elapsed 0m 0s (remain 0m 0s) \n",
      "Epoch: [33][0/40] Data 0.042 (0.042) Elapsed 0m 0s (remain 0m 11s) Loss: 0.0087(0.0087) Grad Norm: 0.3975  LR: 2.6165e-04  \n",
      "Epoch: [33][39/40] Data 0.044 (0.043) Elapsed 0m 11s (remain 0m 0s) Loss: 0.0338(0.4918) Grad Norm: 2.8371  LR: 2.6165e-04  \n",
      "EVAL: [0/9] Data 0.024 (0.024) Elapsed 0m 0s (remain 0m 0s) \n"
     ]
    },
    {
     "name": "stderr",
     "output_type": "stream",
     "text": [
      "labels: [11  2  3  7  6]\n",
      "pred_labels: [11  2  3  8 11]\n",
      "Epoch 33 - avg_train_loss: 0.4918  lr: 2.6165e-04  time: 13s\n",
      "Epoch 33 - Score: 0.6794\n"
     ]
    },
    {
     "name": "stdout",
     "output_type": "stream",
     "text": [
      "EVAL: [8/9] Data 0.004 (0.022) Elapsed 0m 0s (remain 0m 0s) \n",
      "Epoch: [34][0/40] Data 0.038 (0.038) Elapsed 0m 0s (remain 0m 11s) Loss: 0.6984(0.6984) Grad Norm: 3.4848  LR: 2.3463e-04  \n",
      "Epoch: [34][39/40] Data 0.043 (0.043) Elapsed 0m 11s (remain 0m 0s) Loss: 1.3564(0.4792) Grad Norm: 6.6322  LR: 2.3463e-04  \n",
      "EVAL: [0/9] Data 0.031 (0.031) Elapsed 0m 0s (remain 0m 0s) \n"
     ]
    },
    {
     "name": "stderr",
     "output_type": "stream",
     "text": [
      "labels: [11  2  3  7  6]\n",
      "pred_labels: [11  2  3  7 11]\n",
      "Epoch 34 - avg_train_loss: 0.4792  lr: 2.3463e-04  time: 13s\n",
      "Epoch 34 - Score: 0.6565\n"
     ]
    },
    {
     "name": "stdout",
     "output_type": "stream",
     "text": [
      "EVAL: [8/9] Data 0.005 (0.023) Elapsed 0m 0s (remain 0m 0s) \n",
      "Epoch: [35][0/40] Data 0.040 (0.040) Elapsed 0m 0s (remain 0m 11s) Loss: 1.0724(1.0724) Grad Norm: 4.4681  LR: 2.0866e-04  \n",
      "Epoch: [35][39/40] Data 0.045 (0.043) Elapsed 0m 11s (remain 0m 0s) Loss: 0.0030(0.4857) Grad Norm: 0.1140  LR: 2.0866e-04  \n",
      "EVAL: [0/9] Data 0.024 (0.024) Elapsed 0m 0s (remain 0m 0s) \n"
     ]
    },
    {
     "name": "stderr",
     "output_type": "stream",
     "text": [
      "labels: [11  2  3  7  6]\n",
      "pred_labels: [11  2  3  7 11]\n",
      "Epoch 35 - avg_train_loss: 0.4857  lr: 2.0866e-04  time: 13s\n",
      "Epoch 35 - Score: 0.6947\n",
      "Epoch 35 - Save Best Score: 0.6947 Model\n"
     ]
    },
    {
     "name": "stdout",
     "output_type": "stream",
     "text": [
      "EVAL: [8/9] Data 0.005 (0.022) Elapsed 0m 0s (remain 0m 0s) \n",
      "Epoch: [36][0/40] Data 0.039 (0.039) Elapsed 0m 0s (remain 0m 12s) Loss: 0.0019(0.0019) Grad Norm: 0.0425  LR: 1.8385e-04  \n",
      "Epoch: [36][39/40] Data 0.046 (0.043) Elapsed 0m 11s (remain 0m 0s) Loss: 0.7674(0.3534) Grad Norm: 5.3979  LR: 1.8385e-04  \n",
      "EVAL: [0/9] Data 0.025 (0.025) Elapsed 0m 0s (remain 0m 0s) \n"
     ]
    },
    {
     "name": "stderr",
     "output_type": "stream",
     "text": [
      "labels: [11  2  3  7  6]\n",
      "pred_labels: [11  2  3  7 11]\n",
      "Epoch 36 - avg_train_loss: 0.3534  lr: 1.8385e-04  time: 12s\n",
      "Epoch 36 - Score: 0.6718\n"
     ]
    },
    {
     "name": "stdout",
     "output_type": "stream",
     "text": [
      "EVAL: [8/9] Data 0.005 (0.022) Elapsed 0m 0s (remain 0m 0s) \n",
      "Epoch: [37][0/40] Data 0.038 (0.038) Elapsed 0m 0s (remain 0m 11s) Loss: 0.0027(0.0027) Grad Norm: 0.0689  LR: 1.6030e-04  \n",
      "Epoch: [37][39/40] Data 0.043 (0.043) Elapsed 0m 11s (remain 0m 0s) Loss: 0.5670(0.4026) Grad Norm: 1.8880  LR: 1.6030e-04  \n",
      "EVAL: [0/9] Data 0.024 (0.024) Elapsed 0m 0s (remain 0m 0s) \n"
     ]
    },
    {
     "name": "stderr",
     "output_type": "stream",
     "text": [
      "labels: [11  2  3  7  6]\n",
      "pred_labels: [11  2  3  7 11]\n",
      "Epoch 37 - avg_train_loss: 0.4026  lr: 1.6030e-04  time: 13s\n",
      "Epoch 37 - Score: 0.6794\n"
     ]
    },
    {
     "name": "stdout",
     "output_type": "stream",
     "text": [
      "EVAL: [8/9] Data 0.005 (0.022) Elapsed 0m 0s (remain 0m 0s) \n",
      "Epoch: [38][0/40] Data 0.040 (0.040) Elapsed 0m 0s (remain 0m 12s) Loss: 0.8997(0.8997) Grad Norm: 5.1282  LR: 1.3809e-04  \n",
      "Epoch: [38][39/40] Data 0.038 (0.043) Elapsed 0m 11s (remain 0m 0s) Loss: 0.0011(0.4769) Grad Norm: 0.0453  LR: 1.3809e-04  \n",
      "EVAL: [0/9] Data 0.024 (0.024) Elapsed 0m 0s (remain 0m 0s) \n"
     ]
    },
    {
     "name": "stderr",
     "output_type": "stream",
     "text": [
      "labels: [11  2  3  7  6]\n",
      "pred_labels: [11  2  3  4 11]\n",
      "Epoch 38 - avg_train_loss: 0.4769  lr: 1.3809e-04  time: 13s\n",
      "Epoch 38 - Score: 0.6870\n"
     ]
    },
    {
     "name": "stdout",
     "output_type": "stream",
     "text": [
      "EVAL: [8/9] Data 0.005 (0.022) Elapsed 0m 0s (remain 0m 0s) \n",
      "Epoch: [39][0/40] Data 0.044 (0.044) Elapsed 0m 0s (remain 0m 11s) Loss: 0.0023(0.0023) Grad Norm: 0.1029  LR: 1.1732e-04  \n",
      "Epoch: [39][39/40] Data 0.044 (0.044) Elapsed 0m 11s (remain 0m 0s) Loss: 0.7377(0.3235) Grad Norm: 3.0962  LR: 1.1732e-04  \n",
      "EVAL: [0/9] Data 0.025 (0.025) Elapsed 0m 0s (remain 0m 0s) \n"
     ]
    },
    {
     "name": "stderr",
     "output_type": "stream",
     "text": [
      "labels: [11  2  3  7  6]\n",
      "pred_labels: [11  2  3  7 11]\n",
      "Epoch 39 - avg_train_loss: 0.3235  lr: 1.1732e-04  time: 13s\n",
      "Epoch 39 - Score: 0.6870\n"
     ]
    },
    {
     "name": "stdout",
     "output_type": "stream",
     "text": [
      "EVAL: [8/9] Data 0.004 (0.022) Elapsed 0m 0s (remain 0m 0s) \n",
      "Epoch: [40][0/40] Data 0.043 (0.043) Elapsed 0m 0s (remain 0m 11s) Loss: 0.0069(0.0069) Grad Norm: 0.3433  LR: 9.8058e-05  \n",
      "Epoch: [40][39/40] Data 0.040 (0.044) Elapsed 0m 11s (remain 0m 0s) Loss: 0.0014(0.2354) Grad Norm: 0.0823  LR: 9.8058e-05  \n",
      "EVAL: [0/9] Data 0.023 (0.023) Elapsed 0m 0s (remain 0m 0s) \n"
     ]
    },
    {
     "name": "stderr",
     "output_type": "stream",
     "text": [
      "labels: [11  2  3  7  6]\n",
      "pred_labels: [11  2  3  8 11]\n",
      "Epoch 40 - avg_train_loss: 0.2354  lr: 9.8058e-05  time: 13s\n",
      "Epoch 40 - Score: 0.6794\n"
     ]
    },
    {
     "name": "stdout",
     "output_type": "stream",
     "text": [
      "EVAL: [8/9] Data 0.005 (0.022) Elapsed 0m 0s (remain 0m 0s) \n",
      "Epoch: [41][0/40] Data 0.037 (0.037) Elapsed 0m 0s (remain 0m 11s) Loss: 0.7293(0.7293) Grad Norm: 2.1875  LR: 8.0390e-05  \n",
      "Epoch: [41][39/40] Data 0.049 (0.044) Elapsed 0m 11s (remain 0m 0s) Loss: 0.0309(0.3918) Grad Norm: 4.7244  LR: 8.0390e-05  \n",
      "EVAL: [0/9] Data 0.024 (0.024) Elapsed 0m 0s (remain 0m 0s) \n"
     ]
    },
    {
     "name": "stderr",
     "output_type": "stream",
     "text": [
      "labels: [11  2  3  7  6]\n",
      "pred_labels: [11  2  3  7 11]\n",
      "Epoch 41 - avg_train_loss: 0.3918  lr: 8.0390e-05  time: 13s\n",
      "Epoch 41 - Score: 0.6947\n"
     ]
    },
    {
     "name": "stdout",
     "output_type": "stream",
     "text": [
      "EVAL: [8/9] Data 0.005 (0.022) Elapsed 0m 0s (remain 0m 0s) \n",
      "Epoch: [42][0/40] Data 0.049 (0.049) Elapsed 0m 0s (remain 0m 11s) Loss: 0.0013(0.0013) Grad Norm: 0.0823  LR: 6.4381e-05  \n",
      "Epoch: [42][39/40] Data 0.042 (0.044) Elapsed 0m 11s (remain 0m 0s) Loss: 0.0019(0.4173) Grad Norm: 0.0741  LR: 6.4381e-05  \n",
      "EVAL: [0/9] Data 0.024 (0.024) Elapsed 0m 0s (remain 0m 0s) \n"
     ]
    },
    {
     "name": "stderr",
     "output_type": "stream",
     "text": [
      "labels: [11  2  3  7  6]\n",
      "pred_labels: [11  2  3  7 11]\n",
      "Epoch 42 - avg_train_loss: 0.4173  lr: 6.4381e-05  time: 13s\n",
      "Epoch 42 - Score: 0.6718\n"
     ]
    },
    {
     "name": "stdout",
     "output_type": "stream",
     "text": [
      "EVAL: [8/9] Data 0.005 (0.022) Elapsed 0m 0s (remain 0m 0s) \n",
      "Epoch: [43][0/40] Data 0.041 (0.041) Elapsed 0m 0s (remain 0m 11s) Loss: 0.0041(0.0041) Grad Norm: 0.1424  LR: 5.0093e-05  \n",
      "Epoch: [43][39/40] Data 0.040 (0.044) Elapsed 0m 11s (remain 0m 0s) Loss: 0.0027(0.4363) Grad Norm: 0.3811  LR: 5.0093e-05  \n",
      "EVAL: [0/9] Data 0.024 (0.024) Elapsed 0m 0s (remain 0m 0s) \n"
     ]
    },
    {
     "name": "stderr",
     "output_type": "stream",
     "text": [
      "labels: [11  2  3  7  6]\n",
      "pred_labels: [11  2  3  7 11]\n",
      "Epoch 43 - avg_train_loss: 0.4363  lr: 5.0093e-05  time: 13s\n",
      "Epoch 43 - Score: 0.6794\n"
     ]
    },
    {
     "name": "stdout",
     "output_type": "stream",
     "text": [
      "EVAL: [8/9] Data 0.004 (0.022) Elapsed 0m 0s (remain 0m 0s) \n",
      "Epoch: [44][0/40] Data 0.042 (0.042) Elapsed 0m 0s (remain 0m 11s) Loss: 0.8061(0.8061) Grad Norm: 3.9087  LR: 3.7578e-05  \n",
      "Epoch: [44][39/40] Data 0.039 (0.044) Elapsed 0m 11s (remain 0m 0s) Loss: 0.0010(0.4406) Grad Norm: 0.0316  LR: 3.7578e-05  \n",
      "EVAL: [0/9] Data 0.024 (0.024) Elapsed 0m 0s (remain 0m 0s) \n"
     ]
    },
    {
     "name": "stderr",
     "output_type": "stream",
     "text": [
      "labels: [11  2  3  7  6]\n",
      "pred_labels: [11  2  3  7 11]\n",
      "Epoch 44 - avg_train_loss: 0.4406  lr: 3.7578e-05  time: 13s\n",
      "Epoch 44 - Score: 0.7023\n",
      "Epoch 44 - Save Best Score: 0.7023 Model\n"
     ]
    },
    {
     "name": "stdout",
     "output_type": "stream",
     "text": [
      "EVAL: [8/9] Data 0.005 (0.022) Elapsed 0m 0s (remain 0m 0s) \n",
      "Epoch: [45][0/40] Data 0.038 (0.038) Elapsed 0m 0s (remain 0m 12s) Loss: 0.0008(0.0008) Grad Norm: 0.0333  LR: 2.6881e-05  \n",
      "Epoch: [45][39/40] Data 0.045 (0.044) Elapsed 0m 11s (remain 0m 0s) Loss: 0.7784(0.4841) Grad Norm: 3.4108  LR: 2.6881e-05  \n",
      "EVAL: [0/9] Data 0.026 (0.026) Elapsed 0m 0s (remain 0m 0s) \n"
     ]
    },
    {
     "name": "stderr",
     "output_type": "stream",
     "text": [
      "labels: [11  2  3  7  6]\n",
      "pred_labels: [11  2  3  7 11]\n",
      "Epoch 45 - avg_train_loss: 0.4841  lr: 2.6881e-05  time: 13s\n",
      "Epoch 45 - Score: 0.7023\n"
     ]
    },
    {
     "name": "stdout",
     "output_type": "stream",
     "text": [
      "EVAL: [8/9] Data 0.005 (0.023) Elapsed 0m 0s (remain 0m 0s) \n",
      "Epoch: [46][0/40] Data 0.044 (0.044) Elapsed 0m 0s (remain 0m 12s) Loss: 0.0018(0.0018) Grad Norm: 0.0472  LR: 1.8039e-05  \n",
      "Epoch: [46][39/40] Data 0.044 (0.043) Elapsed 0m 11s (remain 0m 0s) Loss: 0.0096(0.0142) Grad Norm: 2.6179  LR: 1.8039e-05  \n",
      "EVAL: [0/9] Data 0.024 (0.024) Elapsed 0m 0s (remain 0m 0s) \n"
     ]
    },
    {
     "name": "stderr",
     "output_type": "stream",
     "text": [
      "labels: [11  2  3  7  6]\n",
      "pred_labels: [11  2  3  7 11]\n",
      "Epoch 46 - avg_train_loss: 0.0142  lr: 1.8039e-05  time: 12s\n",
      "Epoch 46 - Score: 0.7023\n"
     ]
    },
    {
     "name": "stdout",
     "output_type": "stream",
     "text": [
      "EVAL: [8/9] Data 0.005 (0.022) Elapsed 0m 0s (remain 0m 0s) \n",
      "Epoch: [47][0/40] Data 0.043 (0.043) Elapsed 0m 0s (remain 0m 12s) Loss: 0.0028(0.0028) Grad Norm: 0.4246  LR: 1.1073e-05  \n",
      "Epoch: [47][39/40] Data 0.043 (0.043) Elapsed 0m 11s (remain 0m 0s) Loss: 0.0017(0.0107) Grad Norm: 0.1124  LR: 1.1073e-05  \n",
      "EVAL: [0/9] Data 0.024 (0.024) Elapsed 0m 0s (remain 0m 0s) \n"
     ]
    },
    {
     "name": "stderr",
     "output_type": "stream",
     "text": [
      "labels: [11  2  3  7  6]\n",
      "pred_labels: [11  2  3  7 11]\n",
      "Epoch 47 - avg_train_loss: 0.0107  lr: 1.1073e-05  time: 12s\n",
      "Epoch 47 - Score: 0.7099\n",
      "Epoch 47 - Save Best Score: 0.7099 Model\n"
     ]
    },
    {
     "name": "stdout",
     "output_type": "stream",
     "text": [
      "EVAL: [8/9] Data 0.005 (0.021) Elapsed 0m 0s (remain 0m 0s) \n",
      "Epoch: [48][0/40] Data 0.040 (0.040) Elapsed 0m 0s (remain 0m 12s) Loss: 0.0010(0.0010) Grad Norm: 0.0494  LR: 5.9882e-06  \n",
      "Epoch: [48][39/40] Data 0.037 (0.043) Elapsed 0m 11s (remain 0m 0s) Loss: 0.0048(0.0021) Grad Norm: 0.2190  LR: 5.9882e-06  \n",
      "EVAL: [0/9] Data 0.024 (0.024) Elapsed 0m 0s (remain 0m 0s) \n"
     ]
    },
    {
     "name": "stderr",
     "output_type": "stream",
     "text": [
      "labels: [11  2  3  7  6]\n",
      "pred_labels: [11  2  3  7 11]\n",
      "Epoch 48 - avg_train_loss: 0.0021  lr: 5.9882e-06  time: 13s\n",
      "Epoch 48 - Score: 0.7099\n"
     ]
    },
    {
     "name": "stdout",
     "output_type": "stream",
     "text": [
      "EVAL: [8/9] Data 0.004 (0.022) Elapsed 0m 0s (remain 0m 0s) \n",
      "Epoch: [49][0/40] Data 0.043 (0.043) Elapsed 0m 0s (remain 0m 11s) Loss: 0.0011(0.0011) Grad Norm: 0.0399  LR: 2.7534e-06  \n",
      "Epoch: [49][39/40] Data 0.039 (0.044) Elapsed 0m 11s (remain 0m 0s) Loss: 0.0019(0.0029) Grad Norm: 0.1498  LR: 2.7534e-06  \n",
      "EVAL: [0/9] Data 0.026 (0.026) Elapsed 0m 0s (remain 0m 0s) \n"
     ]
    },
    {
     "name": "stderr",
     "output_type": "stream",
     "text": [
      "labels: [11  2  3  7  6]\n",
      "pred_labels: [11  2  3  7 11]\n",
      "Epoch 49 - avg_train_loss: 0.0029  lr: 2.7534e-06  time: 13s\n",
      "Epoch 49 - Score: 0.7099\n"
     ]
    },
    {
     "name": "stdout",
     "output_type": "stream",
     "text": [
      "EVAL: [8/9] Data 0.005 (0.022) Elapsed 0m 0s (remain 0m 0s) \n",
      "Epoch: [50][0/40] Data 0.050 (0.050) Elapsed 0m 0s (remain 0m 12s) Loss: 0.0005(0.0005) Grad Norm: 0.0125  LR: 1.2467e-06  \n",
      "Epoch: [50][39/40] Data 0.043 (0.044) Elapsed 0m 11s (remain 0m 0s) Loss: 0.0026(0.0053) Grad Norm: 0.0929  LR: 1.2467e-06  \n",
      "EVAL: [0/9] Data 0.024 (0.024) Elapsed 0m 0s (remain 0m 0s) \n"
     ]
    },
    {
     "name": "stderr",
     "output_type": "stream",
     "text": [
      "labels: [11  2  3  7  6]\n",
      "pred_labels: [11  2  3  7 11]\n",
      "Epoch 50 - avg_train_loss: 0.0053  lr: 1.2467e-06  time: 12s\n",
      "Epoch 50 - Score: 0.7099\n",
      "==================== fold: 3, seed: 2 training ====================\n"
     ]
    },
    {
     "name": "stdout",
     "output_type": "stream",
     "text": [
      "EVAL: [8/9] Data 0.005 (0.022) Elapsed 0m 0s (remain 0m 0s) \n",
      "Epoch: [1][0/40] Data 0.047 (0.047) Elapsed 0m 0s (remain 0m 10s) Loss: 2.5856(2.5856) Grad Norm: inf  LR: 1.0000e-03  \n",
      "Epoch: [1][39/40] Data 0.039 (0.043) Elapsed 0m 11s (remain 0m 0s) Loss: 2.3036(2.4664) Grad Norm: 18.1257  LR: 1.0000e-03  \n",
      "EVAL: [0/9] Data 0.027 (0.027) Elapsed 0m 0s (remain 0m 0s) \n"
     ]
    },
    {
     "name": "stderr",
     "output_type": "stream",
     "text": [
      "labels: [ 5  2 11 10  8]\n",
      "pred_labels: [11  2 11  2  2]\n",
      "Epoch 1 - avg_train_loss: 2.4664  lr: 1.0000e-03  time: 13s\n",
      "Epoch 1 - Score: 0.3282\n",
      "Epoch 1 - Save Best Score: 0.3282 Model\n"
     ]
    },
    {
     "name": "stdout",
     "output_type": "stream",
     "text": [
      "EVAL: [8/9] Data 0.005 (0.022) Elapsed 0m 0s (remain 0m 0s) \n",
      "Epoch: [2][0/40] Data 0.042 (0.042) Elapsed 0m 0s (remain 0m 13s) Loss: 2.3310(2.3310) Grad Norm: 18.1103  LR: 9.9803e-04  \n",
      "Epoch: [2][39/40] Data 0.045 (0.044) Elapsed 0m 11s (remain 0m 0s) Loss: 2.0999(2.1410) Grad Norm: 14.2112  LR: 9.9803e-04  \n",
      "EVAL: [0/9] Data 0.025 (0.025) Elapsed 0m 0s (remain 0m 0s) \n"
     ]
    },
    {
     "name": "stderr",
     "output_type": "stream",
     "text": [
      "labels: [ 5  2 11 10  8]\n",
      "pred_labels: [ 2  5 11  2  8]\n",
      "Epoch 2 - avg_train_loss: 2.1410  lr: 9.9803e-04  time: 13s\n",
      "Epoch 2 - Score: 0.4122\n",
      "Epoch 2 - Save Best Score: 0.4122 Model\n"
     ]
    },
    {
     "name": "stdout",
     "output_type": "stream",
     "text": [
      "EVAL: [8/9] Data 0.005 (0.022) Elapsed 0m 0s (remain 0m 0s) \n",
      "Epoch: [3][0/40] Data 0.044 (0.044) Elapsed 0m 0s (remain 0m 12s) Loss: 1.5870(1.5870) Grad Norm: 29.4748  LR: 9.9312e-04  \n",
      "Epoch: [3][39/40] Data 0.042 (0.044) Elapsed 0m 12s (remain 0m 0s) Loss: 1.2813(1.7688) Grad Norm: 16.0094  LR: 9.9312e-04  \n",
      "EVAL: [0/9] Data 0.030 (0.030) Elapsed 0m 0s (remain 0m 0s) \n"
     ]
    },
    {
     "name": "stderr",
     "output_type": "stream",
     "text": [
      "labels: [ 5  2 11 10  8]\n",
      "pred_labels: [ 2  5 11  2  8]\n",
      "Epoch 3 - avg_train_loss: 1.7688  lr: 9.9312e-04  time: 13s\n",
      "Epoch 3 - Score: 0.4656\n",
      "Epoch 3 - Save Best Score: 0.4656 Model\n"
     ]
    },
    {
     "name": "stdout",
     "output_type": "stream",
     "text": [
      "EVAL: [8/9] Data 0.005 (0.023) Elapsed 0m 0s (remain 0m 0s) \n",
      "Epoch: [4][0/40] Data 0.046 (0.046) Elapsed 0m 0s (remain 0m 12s) Loss: 0.8677(0.8677) Grad Norm: 15.4855  LR: 9.8627e-04  \n",
      "Epoch: [4][39/40] Data 0.044 (0.044) Elapsed 0m 11s (remain 0m 0s) Loss: 1.7268(1.5999) Grad Norm: 18.8070  LR: 9.8627e-04  \n",
      "EVAL: [0/9] Data 0.024 (0.024) Elapsed 0m 0s (remain 0m 0s) \n"
     ]
    },
    {
     "name": "stderr",
     "output_type": "stream",
     "text": [
      "labels: [ 5  2 11 10  8]\n",
      "pred_labels: [ 0  2 11  2  8]\n",
      "Epoch 4 - avg_train_loss: 1.5999  lr: 9.8627e-04  time: 13s\n",
      "Epoch 4 - Score: 0.5649\n",
      "Epoch 4 - Save Best Score: 0.5649 Model\n"
     ]
    },
    {
     "name": "stdout",
     "output_type": "stream",
     "text": [
      "EVAL: [8/9] Data 0.005 (0.022) Elapsed 0m 0s (remain 0m 0s) \n",
      "Epoch: [5][0/40] Data 0.042 (0.042) Elapsed 0m 0s (remain 0m 11s) Loss: 2.0482(2.0482) Grad Norm: 15.3561  LR: 9.7751e-04  \n",
      "Epoch: [5][39/40] Data 0.047 (0.044) Elapsed 0m 11s (remain 0m 0s) Loss: 1.4741(1.4081) Grad Norm: 16.8494  LR: 9.7751e-04  \n",
      "EVAL: [0/9] Data 0.025 (0.025) Elapsed 0m 0s (remain 0m 0s) \n"
     ]
    },
    {
     "name": "stderr",
     "output_type": "stream",
     "text": [
      "labels: [ 5  2 11 10  8]\n",
      "pred_labels: [ 0  5 11  5  8]\n",
      "Epoch 5 - avg_train_loss: 1.4081  lr: 9.7751e-04  time: 13s\n",
      "Epoch 5 - Score: 0.5267\n"
     ]
    },
    {
     "name": "stdout",
     "output_type": "stream",
     "text": [
      "EVAL: [8/9] Data 0.005 (0.022) Elapsed 0m 0s (remain 0m 0s) \n",
      "Epoch: [6][0/40] Data 0.044 (0.044) Elapsed 0m 0s (remain 0m 11s) Loss: 0.5675(0.5675) Grad Norm: 9.9902  LR: 9.6688e-04  \n",
      "Epoch: [6][39/40] Data 0.044 (0.044) Elapsed 0m 11s (remain 0m 0s) Loss: 0.6035(1.1678) Grad Norm: 9.0149  LR: 9.6688e-04  \n",
      "EVAL: [0/9] Data 0.024 (0.024) Elapsed 0m 0s (remain 0m 0s) \n"
     ]
    },
    {
     "name": "stderr",
     "output_type": "stream",
     "text": [
      "labels: [ 5  2 11 10  8]\n",
      "pred_labels: [ 3  5 11  2  8]\n",
      "Epoch 6 - avg_train_loss: 1.1678  lr: 9.6688e-04  time: 13s\n",
      "Epoch 6 - Score: 0.5573\n"
     ]
    },
    {
     "name": "stdout",
     "output_type": "stream",
     "text": [
      "EVAL: [8/9] Data 0.005 (0.021) Elapsed 0m 0s (remain 0m 0s) \n",
      "Epoch: [7][0/40] Data 0.041 (0.041) Elapsed 0m 0s (remain 0m 11s) Loss: 0.7563(0.7563) Grad Norm: 14.6238  LR: 9.5441e-04  \n",
      "Epoch: [7][39/40] Data 0.043 (0.044) Elapsed 0m 12s (remain 0m 0s) Loss: 0.6792(1.2584) Grad Norm: 10.9184  LR: 9.5441e-04  \n",
      "EVAL: [0/9] Data 0.023 (0.023) Elapsed 0m 0s (remain 0m 0s) \n"
     ]
    },
    {
     "name": "stderr",
     "output_type": "stream",
     "text": [
      "labels: [ 5  2 11 10  8]\n",
      "pred_labels: [ 2  5 11  2  8]\n",
      "Epoch 7 - avg_train_loss: 1.2584  lr: 9.5441e-04  time: 13s\n",
      "Epoch 7 - Score: 0.5191\n"
     ]
    },
    {
     "name": "stdout",
     "output_type": "stream",
     "text": [
      "EVAL: [8/9] Data 0.005 (0.022) Elapsed 0m 0s (remain 0m 0s) \n",
      "Epoch: [8][0/40] Data 0.047 (0.047) Elapsed 0m 0s (remain 0m 11s) Loss: 0.4884(0.4884) Grad Norm: 11.0169  LR: 9.4016e-04  \n",
      "Epoch: [8][39/40] Data 0.045 (0.045) Elapsed 0m 12s (remain 0m 0s) Loss: 1.3388(1.1564) Grad Norm: 12.8643  LR: 9.4016e-04  \n",
      "EVAL: [0/9] Data 0.025 (0.025) Elapsed 0m 0s (remain 0m 0s) \n"
     ]
    },
    {
     "name": "stderr",
     "output_type": "stream",
     "text": [
      "labels: [ 5  2 11 10  8]\n",
      "pred_labels: [ 2  5 11  5  8]\n",
      "Epoch 8 - avg_train_loss: 1.1564  lr: 9.4016e-04  time: 13s\n",
      "Epoch 8 - Score: 0.5038\n"
     ]
    },
    {
     "name": "stdout",
     "output_type": "stream",
     "text": [
      "EVAL: [8/9] Data 0.005 (0.022) Elapsed 0m 0s (remain 0m 0s) \n",
      "Epoch: [9][0/40] Data 0.038 (0.038) Elapsed 0m 0s (remain 0m 11s) Loss: 0.3324(0.3324) Grad Norm: 8.1379  LR: 9.2418e-04  \n",
      "Epoch: [9][39/40] Data 0.046 (0.045) Elapsed 0m 12s (remain 0m 0s) Loss: 0.6074(1.1764) Grad Norm: 8.1279  LR: 9.2418e-04  \n",
      "EVAL: [0/9] Data 0.024 (0.024) Elapsed 0m 0s (remain 0m 0s) \n"
     ]
    },
    {
     "name": "stderr",
     "output_type": "stream",
     "text": [
      "labels: [ 5  2 11 10  8]\n",
      "pred_labels: [ 2  5 11  2  8]\n",
      "Epoch 9 - avg_train_loss: 1.1764  lr: 9.2418e-04  time: 13s\n",
      "Epoch 9 - Score: 0.5191\n"
     ]
    },
    {
     "name": "stdout",
     "output_type": "stream",
     "text": [
      "EVAL: [8/9] Data 0.005 (0.023) Elapsed 0m 0s (remain 0m 0s) \n",
      "Epoch: [10][0/40] Data 0.045 (0.045) Elapsed 0m 0s (remain 0m 11s) Loss: 1.5319(1.5319) Grad Norm: 8.4118  LR: 9.0654e-04  \n",
      "Epoch: [10][39/40] Data 0.040 (0.044) Elapsed 0m 11s (remain 0m 0s) Loss: 1.8139(1.0306) Grad Norm: 8.8981  LR: 9.0654e-04  \n",
      "EVAL: [0/9] Data 0.024 (0.024) Elapsed 0m 0s (remain 0m 0s) \n"
     ]
    },
    {
     "name": "stderr",
     "output_type": "stream",
     "text": [
      "labels: [ 5  2 11 10  8]\n",
      "pred_labels: [ 5  5 11  1  8]\n",
      "Epoch 10 - avg_train_loss: 1.0306  lr: 9.0654e-04  time: 13s\n",
      "Epoch 10 - Score: 0.5420\n"
     ]
    },
    {
     "name": "stdout",
     "output_type": "stream",
     "text": [
      "EVAL: [8/9] Data 0.005 (0.022) Elapsed 0m 0s (remain 0m 0s) \n",
      "Epoch: [11][0/40] Data 0.042 (0.042) Elapsed 0m 0s (remain 0m 11s) Loss: 1.0894(1.0894) Grad Norm: 12.3760  LR: 8.8730e-04  \n",
      "Epoch: [11][39/40] Data 0.044 (0.043) Elapsed 0m 11s (remain 0m 0s) Loss: 1.4340(0.9697) Grad Norm: 7.3390  LR: 8.8730e-04  \n",
      "EVAL: [0/9] Data 0.026 (0.026) Elapsed 0m 0s (remain 0m 0s) \n"
     ]
    },
    {
     "name": "stderr",
     "output_type": "stream",
     "text": [
      "labels: [ 5  2 11 10  8]\n",
      "pred_labels: [ 2  5 11  1  8]\n",
      "Epoch 11 - avg_train_loss: 0.9697  lr: 8.8730e-04  time: 13s\n",
      "Epoch 11 - Score: 0.5878\n",
      "Epoch 11 - Save Best Score: 0.5878 Model\n"
     ]
    },
    {
     "name": "stdout",
     "output_type": "stream",
     "text": [
      "EVAL: [8/9] Data 0.005 (0.022) Elapsed 0m 0s (remain 0m 0s) \n",
      "Epoch: [12][0/40] Data 0.045 (0.045) Elapsed 0m 0s (remain 0m 11s) Loss: 1.2882(1.2882) Grad Norm: 7.0694  LR: 8.6655e-04  \n",
      "Epoch: [12][39/40] Data 0.041 (0.043) Elapsed 0m 11s (remain 0m 0s) Loss: 1.4430(0.9846) Grad Norm: 6.5392  LR: 8.6655e-04  \n",
      "EVAL: [0/9] Data 0.023 (0.023) Elapsed 0m 0s (remain 0m 0s) \n"
     ]
    },
    {
     "name": "stderr",
     "output_type": "stream",
     "text": [
      "labels: [ 5  2 11 10  8]\n",
      "pred_labels: [ 3 12 11  2  8]\n",
      "Epoch 12 - avg_train_loss: 0.9846  lr: 8.6655e-04  time: 13s\n",
      "Epoch 12 - Score: 0.5573\n"
     ]
    },
    {
     "name": "stdout",
     "output_type": "stream",
     "text": [
      "EVAL: [8/9] Data 0.005 (0.022) Elapsed 0m 0s (remain 0m 0s) \n",
      "Epoch: [13][0/40] Data 0.051 (0.051) Elapsed 0m 0s (remain 0m 11s) Loss: 1.3004(1.3004) Grad Norm: 6.6610  LR: 8.4436e-04  \n",
      "Epoch: [13][39/40] Data 0.044 (0.043) Elapsed 0m 11s (remain 0m 0s) Loss: 0.5773(0.8430) Grad Norm: 11.7747  LR: 8.4436e-04  \n",
      "EVAL: [0/9] Data 0.024 (0.024) Elapsed 0m 0s (remain 0m 0s) \n"
     ]
    },
    {
     "name": "stderr",
     "output_type": "stream",
     "text": [
      "labels: [ 5  2 11 10  8]\n",
      "pred_labels: [ 1  2 11  2  8]\n",
      "Epoch 13 - avg_train_loss: 0.8430  lr: 8.4436e-04  time: 13s\n",
      "Epoch 13 - Score: 0.5878\n"
     ]
    },
    {
     "name": "stdout",
     "output_type": "stream",
     "text": [
      "EVAL: [8/9] Data 0.005 (0.022) Elapsed 0m 0s (remain 0m 0s) \n",
      "Epoch: [14][0/40] Data 0.045 (0.045) Elapsed 0m 0s (remain 0m 11s) Loss: 0.1551(0.1551) Grad Norm: 14.9169  LR: 8.2081e-04  \n",
      "Epoch: [14][39/40] Data 0.043 (0.042) Elapsed 0m 11s (remain 0m 0s) Loss: 1.5603(0.8817) Grad Norm: 11.3369  LR: 8.2081e-04  \n",
      "EVAL: [0/9] Data 0.025 (0.025) Elapsed 0m 0s (remain 0m 0s) \n"
     ]
    },
    {
     "name": "stderr",
     "output_type": "stream",
     "text": [
      "labels: [ 5  2 11 10  8]\n",
      "pred_labels: [ 3  5 11  1  8]\n",
      "Epoch 14 - avg_train_loss: 0.8817  lr: 8.2081e-04  time: 13s\n",
      "Epoch 14 - Score: 0.6031\n",
      "Epoch 14 - Save Best Score: 0.6031 Model\n"
     ]
    },
    {
     "name": "stdout",
     "output_type": "stream",
     "text": [
      "EVAL: [8/9] Data 0.004 (0.021) Elapsed 0m 0s (remain 0m 0s) \n",
      "Epoch: [15][0/40] Data 0.042 (0.042) Elapsed 0m 0s (remain 0m 11s) Loss: 0.0410(0.0410) Grad Norm: 1.5933  LR: 7.9601e-04  \n",
      "Epoch: [15][39/40] Data 0.051 (0.044) Elapsed 0m 11s (remain 0m 0s) Loss: 0.4427(0.9797) Grad Norm: 6.3106  LR: 7.9601e-04  \n",
      "EVAL: [0/9] Data 0.024 (0.024) Elapsed 0m 0s (remain 0m 0s) \n"
     ]
    },
    {
     "name": "stderr",
     "output_type": "stream",
     "text": [
      "labels: [ 5  2 11 10  8]\n",
      "pred_labels: [ 1  5 11  2  8]\n",
      "Epoch 15 - avg_train_loss: 0.9797  lr: 7.9601e-04  time: 13s\n",
      "Epoch 15 - Score: 0.5573\n"
     ]
    },
    {
     "name": "stdout",
     "output_type": "stream",
     "text": [
      "EVAL: [8/9] Data 0.005 (0.022) Elapsed 0m 0s (remain 0m 0s) \n",
      "Epoch: [16][0/40] Data 0.038 (0.038) Elapsed 0m 0s (remain 0m 11s) Loss: 0.9887(0.9887) Grad Norm: 6.1003  LR: 7.7006e-04  \n",
      "Epoch: [16][39/40] Data 0.041 (0.043) Elapsed 0m 11s (remain 0m 0s) Loss: 0.2483(0.7593) Grad Norm: 10.3245  LR: 7.7006e-04  \n",
      "EVAL: [0/9] Data 0.023 (0.023) Elapsed 0m 0s (remain 0m 0s) \n"
     ]
    },
    {
     "name": "stderr",
     "output_type": "stream",
     "text": [
      "labels: [ 5  2 11 10  8]\n",
      "pred_labels: [ 3  5 11  2  8]\n",
      "Epoch 16 - avg_train_loss: 0.7593  lr: 7.7006e-04  time: 13s\n",
      "Epoch 16 - Score: 0.5038\n"
     ]
    },
    {
     "name": "stdout",
     "output_type": "stream",
     "text": [
      "EVAL: [8/9] Data 0.005 (0.022) Elapsed 0m 0s (remain 0m 0s) \n",
      "Epoch: [17][0/40] Data 0.042 (0.042) Elapsed 0m 0s (remain 0m 11s) Loss: 0.2791(0.2791) Grad Norm: 9.4164  LR: 7.4304e-04  \n",
      "Epoch: [17][39/40] Data 0.039 (0.043) Elapsed 0m 11s (remain 0m 0s) Loss: 0.6787(0.8244) Grad Norm: 9.2705  LR: 7.4304e-04  \n",
      "EVAL: [0/9] Data 0.023 (0.023) Elapsed 0m 0s (remain 0m 0s) \n"
     ]
    },
    {
     "name": "stderr",
     "output_type": "stream",
     "text": [
      "labels: [ 5  2 11 10  8]\n",
      "pred_labels: [ 5  5 11  1  8]\n",
      "Epoch 17 - avg_train_loss: 0.8244  lr: 7.4304e-04  time: 13s\n",
      "Epoch 17 - Score: 0.5344\n"
     ]
    },
    {
     "name": "stdout",
     "output_type": "stream",
     "text": [
      "EVAL: [8/9] Data 0.005 (0.021) Elapsed 0m 0s (remain 0m 0s) \n",
      "Epoch: [18][0/40] Data 0.047 (0.047) Elapsed 0m 0s (remain 0m 11s) Loss: 0.2769(0.2769) Grad Norm: 8.2136  LR: 7.1508e-04  \n",
      "Epoch: [18][39/40] Data 0.050 (0.043) Elapsed 0m 11s (remain 0m 0s) Loss: 1.7030(0.9496) Grad Norm: 9.9663  LR: 7.1508e-04  \n",
      "EVAL: [0/9] Data 0.024 (0.024) Elapsed 0m 0s (remain 0m 0s) \n"
     ]
    },
    {
     "name": "stderr",
     "output_type": "stream",
     "text": [
      "labels: [ 5  2 11 10  8]\n",
      "pred_labels: [ 5  9 11  2  8]\n",
      "Epoch 18 - avg_train_loss: 0.9496  lr: 7.1508e-04  time: 13s\n",
      "Epoch 18 - Score: 0.5496\n"
     ]
    },
    {
     "name": "stdout",
     "output_type": "stream",
     "text": [
      "EVAL: [8/9] Data 0.005 (0.022) Elapsed 0m 0s (remain 0m 0s) \n",
      "Epoch: [19][0/40] Data 0.043 (0.043) Elapsed 0m 0s (remain 0m 11s) Loss: 1.2111(1.2111) Grad Norm: 7.0376  LR: 6.8627e-04  \n",
      "Epoch: [19][39/40] Data 0.037 (0.042) Elapsed 0m 11s (remain 0m 0s) Loss: 1.3199(0.7015) Grad Norm: 8.5596  LR: 6.8627e-04  \n",
      "EVAL: [0/9] Data 0.024 (0.024) Elapsed 0m 0s (remain 0m 0s) \n"
     ]
    },
    {
     "name": "stderr",
     "output_type": "stream",
     "text": [
      "labels: [ 5  2 11 10  8]\n",
      "pred_labels: [ 3  1 11  2  8]\n",
      "Epoch 19 - avg_train_loss: 0.7015  lr: 6.8627e-04  time: 12s\n",
      "Epoch 19 - Score: 0.5649\n"
     ]
    },
    {
     "name": "stdout",
     "output_type": "stream",
     "text": [
      "EVAL: [8/9] Data 0.005 (0.022) Elapsed 0m 0s (remain 0m 0s) \n",
      "Epoch: [20][0/40] Data 0.048 (0.048) Elapsed 0m 0s (remain 0m 11s) Loss: 0.0553(0.0553) Grad Norm: 6.1238  LR: 6.5674e-04  \n",
      "Epoch: [20][39/40] Data 0.042 (0.043) Elapsed 0m 11s (remain 0m 0s) Loss: 1.2789(0.7019) Grad Norm: 5.8299  LR: 6.5674e-04  \n",
      "EVAL: [0/9] Data 0.024 (0.024) Elapsed 0m 0s (remain 0m 0s) \n"
     ]
    },
    {
     "name": "stderr",
     "output_type": "stream",
     "text": [
      "labels: [ 5  2 11 10  8]\n",
      "pred_labels: [ 2  5 11  2  8]\n",
      "Epoch 20 - avg_train_loss: 0.7019  lr: 6.5674e-04  time: 13s\n",
      "Epoch 20 - Score: 0.5344\n"
     ]
    },
    {
     "name": "stdout",
     "output_type": "stream",
     "text": [
      "EVAL: [8/9] Data 0.004 (0.021) Elapsed 0m 0s (remain 0m 0s) \n",
      "Epoch: [21][0/40] Data 0.043 (0.043) Elapsed 0m 0s (remain 0m 11s) Loss: 0.9378(0.9378) Grad Norm: 6.7776  LR: 6.2661e-04  \n",
      "Epoch: [21][39/40] Data 0.040 (0.043) Elapsed 0m 11s (remain 0m 0s) Loss: 0.1968(0.7228) Grad Norm: 7.2736  LR: 6.2661e-04  \n",
      "EVAL: [0/9] Data 0.024 (0.024) Elapsed 0m 0s (remain 0m 0s) \n"
     ]
    },
    {
     "name": "stderr",
     "output_type": "stream",
     "text": [
      "labels: [ 5  2 11 10  8]\n",
      "pred_labels: [ 2  5 11  3  8]\n",
      "Epoch 21 - avg_train_loss: 0.7228  lr: 6.2661e-04  time: 13s\n",
      "Epoch 21 - Score: 0.5573\n"
     ]
    },
    {
     "name": "stdout",
     "output_type": "stream",
     "text": [
      "EVAL: [8/9] Data 0.005 (0.022) Elapsed 0m 0s (remain 0m 0s) \n",
      "Epoch: [22][0/40] Data 0.044 (0.044) Elapsed 0m 0s (remain 0m 11s) Loss: 0.1508(0.1508) Grad Norm: 4.6101  LR: 5.9598e-04  \n",
      "Epoch: [22][39/40] Data 0.044 (0.044) Elapsed 0m 11s (remain 0m 0s) Loss: 1.5696(0.7184) Grad Norm: 9.7717  LR: 5.9598e-04  \n",
      "EVAL: [0/9] Data 0.024 (0.024) Elapsed 0m 0s (remain 0m 0s) \n"
     ]
    },
    {
     "name": "stderr",
     "output_type": "stream",
     "text": [
      "labels: [ 5  2 11 10  8]\n",
      "pred_labels: [ 4  9 11  3  8]\n",
      "Epoch 22 - avg_train_loss: 0.7184  lr: 5.9598e-04  time: 13s\n",
      "Epoch 22 - Score: 0.5496\n"
     ]
    },
    {
     "name": "stdout",
     "output_type": "stream",
     "text": [
      "EVAL: [8/9] Data 0.004 (0.022) Elapsed 0m 0s (remain 0m 0s) \n",
      "Epoch: [23][0/40] Data 0.050 (0.050) Elapsed 0m 0s (remain 0m 11s) Loss: 0.9453(0.9453) Grad Norm: 3.9977  LR: 5.6498e-04  \n",
      "Epoch: [23][39/40] Data 0.043 (0.043) Elapsed 0m 11s (remain 0m 0s) Loss: 0.2823(0.8794) Grad Norm: 8.4388  LR: 5.6498e-04  \n",
      "EVAL: [0/9] Data 0.024 (0.024) Elapsed 0m 0s (remain 0m 0s) \n"
     ]
    },
    {
     "name": "stderr",
     "output_type": "stream",
     "text": [
      "labels: [ 5  2 11 10  8]\n",
      "pred_labels: [ 2  5 11 10  8]\n",
      "Epoch 23 - avg_train_loss: 0.8794  lr: 5.6498e-04  time: 13s\n",
      "Epoch 23 - Score: 0.5191\n"
     ]
    },
    {
     "name": "stdout",
     "output_type": "stream",
     "text": [
      "EVAL: [8/9] Data 0.005 (0.022) Elapsed 0m 0s (remain 0m 0s) \n",
      "Epoch: [24][0/40] Data 0.050 (0.050) Elapsed 0m 0s (remain 0m 11s) Loss: 0.0138(0.0138) Grad Norm: 0.3094  LR: 5.3373e-04  \n",
      "Epoch: [24][39/40] Data 0.049 (0.044) Elapsed 0m 11s (remain 0m 0s) Loss: 1.1907(0.8504) Grad Norm: 10.4370  LR: 5.3373e-04  \n",
      "EVAL: [0/9] Data 0.024 (0.024) Elapsed 0m 0s (remain 0m 0s) \n"
     ]
    },
    {
     "name": "stderr",
     "output_type": "stream",
     "text": [
      "labels: [ 5  2 11 10  8]\n",
      "pred_labels: [ 3  5 11  1  8]\n",
      "Epoch 24 - avg_train_loss: 0.8504  lr: 5.3373e-04  time: 13s\n",
      "Epoch 24 - Score: 0.5573\n"
     ]
    },
    {
     "name": "stdout",
     "output_type": "stream",
     "text": [
      "EVAL: [8/9] Data 0.005 (0.022) Elapsed 0m 0s (remain 0m 0s) \n",
      "Epoch: [25][0/40] Data 0.042 (0.042) Elapsed 0m 0s (remain 0m 11s) Loss: 0.0201(0.0201) Grad Norm: 1.7790  LR: 5.0236e-04  \n",
      "Epoch: [25][39/40] Data 0.042 (0.043) Elapsed 0m 11s (remain 0m 0s) Loss: 0.0219(0.4520) Grad Norm: 2.0747  LR: 5.0236e-04  \n",
      "EVAL: [0/9] Data 0.024 (0.024) Elapsed 0m 0s (remain 0m 0s) \n"
     ]
    },
    {
     "name": "stderr",
     "output_type": "stream",
     "text": [
      "labels: [ 5  2 11 10  8]\n",
      "pred_labels: [ 5  5 11  3  8]\n",
      "Epoch 25 - avg_train_loss: 0.4520  lr: 5.0236e-04  time: 13s\n",
      "Epoch 25 - Score: 0.5573\n"
     ]
    },
    {
     "name": "stdout",
     "output_type": "stream",
     "text": [
      "EVAL: [8/9] Data 0.005 (0.022) Elapsed 0m 0s (remain 0m 0s) \n",
      "Epoch: [26][0/40] Data 0.041 (0.041) Elapsed 0m 0s (remain 0m 11s) Loss: 0.0051(0.0051) Grad Norm: 0.3018  LR: 4.7099e-04  \n",
      "Epoch: [26][39/40] Data 0.040 (0.043) Elapsed 0m 11s (remain 0m 0s) Loss: 1.1649(0.6715) Grad Norm: 6.8135  LR: 4.7099e-04  \n",
      "EVAL: [0/9] Data 0.023 (0.023) Elapsed 0m 0s (remain 0m 0s) \n"
     ]
    },
    {
     "name": "stderr",
     "output_type": "stream",
     "text": [
      "labels: [ 5  2 11 10  8]\n",
      "pred_labels: [ 5  5 11  1  8]\n",
      "Epoch 26 - avg_train_loss: 0.6715  lr: 4.7099e-04  time: 12s\n",
      "Epoch 26 - Score: 0.5649\n"
     ]
    },
    {
     "name": "stdout",
     "output_type": "stream",
     "text": [
      "EVAL: [8/9] Data 0.005 (0.022) Elapsed 0m 0s (remain 0m 0s) \n",
      "Epoch: [27][0/40] Data 0.048 (0.048) Elapsed 0m 0s (remain 0m 11s) Loss: 1.1813(1.1813) Grad Norm: 5.9652  LR: 4.3974e-04  \n",
      "Epoch: [27][39/40] Data 0.046 (0.045) Elapsed 0m 11s (remain 0m 0s) Loss: 0.0205(0.7045) Grad Norm: 1.4592  LR: 4.3974e-04  \n",
      "EVAL: [0/9] Data 0.024 (0.024) Elapsed 0m 0s (remain 0m 0s) \n"
     ]
    },
    {
     "name": "stderr",
     "output_type": "stream",
     "text": [
      "labels: [ 5  2 11 10  8]\n",
      "pred_labels: [ 3  5 11  1  8]\n",
      "Epoch 27 - avg_train_loss: 0.7045  lr: 4.3974e-04  time: 13s\n",
      "Epoch 27 - Score: 0.5420\n"
     ]
    },
    {
     "name": "stdout",
     "output_type": "stream",
     "text": [
      "EVAL: [8/9] Data 0.005 (0.022) Elapsed 0m 0s (remain 0m 0s) \n",
      "Epoch: [28][0/40] Data 0.040 (0.040) Elapsed 0m 0s (remain 0m 11s) Loss: 0.0566(0.0566) Grad Norm: 7.3499  LR: 4.0874e-04  \n",
      "Epoch: [28][39/40] Data 0.039 (0.043) Elapsed 0m 11s (remain 0m 0s) Loss: 0.2899(0.5125) Grad Norm: 9.5434  LR: 4.0874e-04  \n",
      "EVAL: [0/9] Data 0.024 (0.024) Elapsed 0m 0s (remain 0m 0s) \n"
     ]
    },
    {
     "name": "stderr",
     "output_type": "stream",
     "text": [
      "labels: [ 5  2 11 10  8]\n",
      "pred_labels: [ 2  5 11 10  8]\n",
      "Epoch 28 - avg_train_loss: 0.5125  lr: 4.0874e-04  time: 13s\n",
      "Epoch 28 - Score: 0.5267\n"
     ]
    },
    {
     "name": "stdout",
     "output_type": "stream",
     "text": [
      "EVAL: [8/9] Data 0.005 (0.022) Elapsed 0m 0s (remain 0m 0s) \n",
      "Epoch: [29][0/40] Data 0.042 (0.042) Elapsed 0m 0s (remain 0m 11s) Loss: 1.6170(1.6170) Grad Norm: 12.2817  LR: 3.7811e-04  \n",
      "Epoch: [29][39/40] Data 0.044 (0.043) Elapsed 0m 11s (remain 0m 0s) Loss: 1.0536(0.5257) Grad Norm: 8.9925  LR: 3.7811e-04  \n",
      "EVAL: [0/9] Data 0.024 (0.024) Elapsed 0m 0s (remain 0m 0s) \n"
     ]
    },
    {
     "name": "stderr",
     "output_type": "stream",
     "text": [
      "labels: [ 5  2 11 10  8]\n",
      "pred_labels: [ 5  5 11  2  8]\n",
      "Epoch 29 - avg_train_loss: 0.5257  lr: 3.7811e-04  time: 13s\n",
      "Epoch 29 - Score: 0.5725\n"
     ]
    },
    {
     "name": "stdout",
     "output_type": "stream",
     "text": [
      "EVAL: [8/9] Data 0.004 (0.022) Elapsed 0m 0s (remain 0m 0s) \n",
      "Epoch: [30][0/40] Data 0.042 (0.042) Elapsed 0m 0s (remain 0m 11s) Loss: 0.0145(0.0145) Grad Norm: 0.9432  LR: 3.4797e-04  \n",
      "Epoch: [30][39/40] Data 0.047 (0.043) Elapsed 0m 11s (remain 0m 0s) Loss: 0.0169(0.3471) Grad Norm: 2.2510  LR: 3.4797e-04  \n",
      "EVAL: [0/9] Data 0.023 (0.023) Elapsed 0m 0s (remain 0m 0s) \n"
     ]
    },
    {
     "name": "stderr",
     "output_type": "stream",
     "text": [
      "labels: [ 5  2 11 10  8]\n",
      "pred_labels: [ 3  5 11  2  8]\n",
      "Epoch 30 - avg_train_loss: 0.3471  lr: 3.4797e-04  time: 12s\n",
      "Epoch 30 - Score: 0.5496\n"
     ]
    },
    {
     "name": "stdout",
     "output_type": "stream",
     "text": [
      "EVAL: [8/9] Data 0.005 (0.022) Elapsed 0m 0s (remain 0m 0s) \n",
      "Epoch: [31][0/40] Data 0.041 (0.041) Elapsed 0m 0s (remain 0m 11s) Loss: 0.0135(0.0135) Grad Norm: 2.0538  LR: 3.1843e-04  \n",
      "Epoch: [31][39/40] Data 0.047 (0.043) Elapsed 0m 11s (remain 0m 0s) Loss: 1.2774(0.6494) Grad Norm: 11.3353  LR: 3.1843e-04  \n",
      "EVAL: [0/9] Data 0.024 (0.024) Elapsed 0m 0s (remain 0m 0s) \n"
     ]
    },
    {
     "name": "stderr",
     "output_type": "stream",
     "text": [
      "labels: [ 5  2 11 10  8]\n",
      "pred_labels: [ 3  5 11  2  8]\n",
      "Epoch 31 - avg_train_loss: 0.6494  lr: 3.1843e-04  time: 12s\n",
      "Epoch 31 - Score: 0.5496\n"
     ]
    },
    {
     "name": "stdout",
     "output_type": "stream",
     "text": [
      "EVAL: [8/9] Data 0.005 (0.022) Elapsed 0m 0s (remain 0m 0s) \n",
      "Epoch: [32][0/40] Data 0.042 (0.042) Elapsed 0m 0s (remain 0m 11s) Loss: 0.8085(0.8085) Grad Norm: 3.3804  LR: 2.8962e-04  \n",
      "Epoch: [32][39/40] Data 0.037 (0.043) Elapsed 0m 11s (remain 0m 0s) Loss: 1.4542(0.5178) Grad Norm: 8.9117  LR: 2.8962e-04  \n",
      "EVAL: [0/9] Data 0.025 (0.025) Elapsed 0m 0s (remain 0m 0s) \n"
     ]
    },
    {
     "name": "stderr",
     "output_type": "stream",
     "text": [
      "labels: [ 5  2 11 10  8]\n",
      "pred_labels: [ 5  5 11 10  8]\n",
      "Epoch 32 - avg_train_loss: 0.5178  lr: 2.8962e-04  time: 12s\n",
      "Epoch 32 - Score: 0.5573\n"
     ]
    },
    {
     "name": "stdout",
     "output_type": "stream",
     "text": [
      "EVAL: [8/9] Data 0.004 (0.022) Elapsed 0m 0s (remain 0m 0s) \n",
      "Epoch: [33][0/40] Data 0.041 (0.041) Elapsed 0m 0s (remain 0m 11s) Loss: 1.1263(1.1263) Grad Norm: 4.5933  LR: 2.6165e-04  \n",
      "Epoch: [33][39/40] Data 0.038 (0.042) Elapsed 0m 11s (remain 0m 0s) Loss: 0.0041(0.5807) Grad Norm: 0.4356  LR: 2.6165e-04  \n",
      "EVAL: [0/9] Data 0.023 (0.023) Elapsed 0m 0s (remain 0m 0s) \n"
     ]
    },
    {
     "name": "stderr",
     "output_type": "stream",
     "text": [
      "labels: [ 5  2 11 10  8]\n",
      "pred_labels: [ 5  5 11  2  8]\n",
      "Epoch 33 - avg_train_loss: 0.5807  lr: 2.6165e-04  time: 12s\n",
      "Epoch 33 - Score: 0.5649\n"
     ]
    },
    {
     "name": "stdout",
     "output_type": "stream",
     "text": [
      "EVAL: [8/9] Data 0.005 (0.022) Elapsed 0m 0s (remain 0m 0s) \n",
      "Epoch: [34][0/40] Data 0.041 (0.041) Elapsed 0m 0s (remain 0m 11s) Loss: 0.0018(0.0018) Grad Norm: 0.0737  LR: 2.3463e-04  \n",
      "Epoch: [34][39/40] Data 0.041 (0.042) Elapsed 0m 11s (remain 0m 0s) Loss: 0.7885(0.4981) Grad Norm: 2.9955  LR: 2.3463e-04  \n",
      "EVAL: [0/9] Data 0.023 (0.023) Elapsed 0m 0s (remain 0m 0s) \n"
     ]
    },
    {
     "name": "stderr",
     "output_type": "stream",
     "text": [
      "labels: [ 5  2 11 10  8]\n",
      "pred_labels: [ 5  5 11 10  8]\n",
      "Epoch 34 - avg_train_loss: 0.4981  lr: 2.3463e-04  time: 12s\n",
      "Epoch 34 - Score: 0.5649\n"
     ]
    },
    {
     "name": "stdout",
     "output_type": "stream",
     "text": [
      "EVAL: [8/9] Data 0.004 (0.022) Elapsed 0m 0s (remain 0m 0s) \n",
      "Epoch: [35][0/40] Data 0.051 (0.051) Elapsed 0m 0s (remain 0m 11s) Loss: 0.0114(0.0114) Grad Norm: 0.4793  LR: 2.0866e-04  \n",
      "Epoch: [35][39/40] Data 0.043 (0.044) Elapsed 0m 11s (remain 0m 0s) Loss: 0.8110(0.4676) Grad Norm: 5.9735  LR: 2.0866e-04  \n",
      "EVAL: [0/9] Data 0.024 (0.024) Elapsed 0m 0s (remain 0m 0s) \n"
     ]
    },
    {
     "name": "stderr",
     "output_type": "stream",
     "text": [
      "labels: [ 5  2 11 10  8]\n",
      "pred_labels: [ 5  5 11 10  8]\n",
      "Epoch 35 - avg_train_loss: 0.4676  lr: 2.0866e-04  time: 12s\n",
      "Epoch 35 - Score: 0.5649\n"
     ]
    },
    {
     "name": "stdout",
     "output_type": "stream",
     "text": [
      "EVAL: [8/9] Data 0.004 (0.021) Elapsed 0m 0s (remain 0m 0s) \n",
      "Epoch: [36][0/40] Data 0.047 (0.047) Elapsed 0m 0s (remain 0m 11s) Loss: 0.9712(0.9712) Grad Norm: 6.3992  LR: 1.8385e-04  \n",
      "Epoch: [36][39/40] Data 0.043 (0.043) Elapsed 0m 11s (remain 0m 0s) Loss: 0.0028(0.4646) Grad Norm: 0.1250  LR: 1.8385e-04  \n",
      "EVAL: [0/9] Data 0.025 (0.025) Elapsed 0m 0s (remain 0m 0s) \n"
     ]
    },
    {
     "name": "stderr",
     "output_type": "stream",
     "text": [
      "labels: [ 5  2 11 10  8]\n",
      "pred_labels: [ 5  5 11  2  8]\n",
      "Epoch 36 - avg_train_loss: 0.4646  lr: 1.8385e-04  time: 13s\n",
      "Epoch 36 - Score: 0.5725\n"
     ]
    },
    {
     "name": "stdout",
     "output_type": "stream",
     "text": [
      "EVAL: [8/9] Data 0.005 (0.022) Elapsed 0m 0s (remain 0m 0s) \n",
      "Epoch: [37][0/40] Data 0.042 (0.042) Elapsed 0m 0s (remain 0m 11s) Loss: 0.0098(0.0098) Grad Norm: 0.7703  LR: 1.6030e-04  \n",
      "Epoch: [37][39/40] Data 0.038 (0.042) Elapsed 0m 11s (remain 0m 0s) Loss: 0.6064(0.3939) Grad Norm: 3.4772  LR: 1.6030e-04  \n",
      "EVAL: [0/9] Data 0.026 (0.026) Elapsed 0m 0s (remain 0m 0s) \n"
     ]
    },
    {
     "name": "stderr",
     "output_type": "stream",
     "text": [
      "labels: [ 5  2 11 10  8]\n",
      "pred_labels: [ 4  5 11  2  8]\n",
      "Epoch 37 - avg_train_loss: 0.3939  lr: 1.6030e-04  time: 12s\n",
      "Epoch 37 - Score: 0.5802\n"
     ]
    },
    {
     "name": "stdout",
     "output_type": "stream",
     "text": [
      "EVAL: [8/9] Data 0.005 (0.022) Elapsed 0m 0s (remain 0m 0s) \n",
      "Epoch: [38][0/40] Data 0.042 (0.042) Elapsed 0m 0s (remain 0m 11s) Loss: 0.0102(0.0102) Grad Norm: 0.5346  LR: 1.3809e-04  \n",
      "Epoch: [38][39/40] Data 0.047 (0.043) Elapsed 0m 11s (remain 0m 0s) Loss: 0.0050(0.3624) Grad Norm: 0.2501  LR: 1.3809e-04  \n",
      "EVAL: [0/9] Data 0.024 (0.024) Elapsed 0m 0s (remain 0m 0s) \n"
     ]
    },
    {
     "name": "stderr",
     "output_type": "stream",
     "text": [
      "labels: [ 5  2 11 10  8]\n",
      "pred_labels: [ 4  5 11  2  8]\n",
      "Epoch 38 - avg_train_loss: 0.3624  lr: 1.3809e-04  time: 13s\n",
      "Epoch 38 - Score: 0.5573\n"
     ]
    },
    {
     "name": "stdout",
     "output_type": "stream",
     "text": [
      "EVAL: [8/9] Data 0.005 (0.022) Elapsed 0m 0s (remain 0m 0s) \n",
      "Epoch: [39][0/40] Data 0.044 (0.044) Elapsed 0m 0s (remain 0m 11s) Loss: 0.0030(0.0030) Grad Norm: 0.1176  LR: 1.1732e-04  \n",
      "Epoch: [39][39/40] Data 0.041 (0.042) Elapsed 0m 11s (remain 0m 0s) Loss: 0.0008(0.2910) Grad Norm: 0.0327  LR: 1.1732e-04  \n",
      "EVAL: [0/9] Data 0.024 (0.024) Elapsed 0m 0s (remain 0m 0s) \n"
     ]
    },
    {
     "name": "stderr",
     "output_type": "stream",
     "text": [
      "labels: [ 5  2 11 10  8]\n",
      "pred_labels: [ 4  5 11  2  8]\n",
      "Epoch 39 - avg_train_loss: 0.2910  lr: 1.1732e-04  time: 12s\n",
      "Epoch 39 - Score: 0.5649\n"
     ]
    },
    {
     "name": "stdout",
     "output_type": "stream",
     "text": [
      "EVAL: [8/9] Data 0.005 (0.022) Elapsed 0m 0s (remain 0m 0s) \n",
      "Epoch: [40][0/40] Data 0.042 (0.042) Elapsed 0m 0s (remain 0m 11s) Loss: 0.9813(0.9813) Grad Norm: 6.5666  LR: 9.8058e-05  \n",
      "Epoch: [40][39/40] Data 0.040 (0.043) Elapsed 0m 11s (remain 0m 0s) Loss: 0.8605(0.4749) Grad Norm: 5.7612  LR: 9.8058e-05  \n",
      "EVAL: [0/9] Data 0.026 (0.026) Elapsed 0m 0s (remain 0m 0s) \n"
     ]
    },
    {
     "name": "stderr",
     "output_type": "stream",
     "text": [
      "labels: [ 5  2 11 10  8]\n",
      "pred_labels: [ 4  5 11  2  8]\n",
      "Epoch 40 - avg_train_loss: 0.4749  lr: 9.8058e-05  time: 13s\n",
      "Epoch 40 - Score: 0.5725\n"
     ]
    },
    {
     "name": "stdout",
     "output_type": "stream",
     "text": [
      "EVAL: [8/9] Data 0.005 (0.022) Elapsed 0m 0s (remain 0m 0s) \n",
      "Epoch: [41][0/40] Data 0.050 (0.050) Elapsed 0m 0s (remain 0m 11s) Loss: 0.9792(0.9792) Grad Norm: 9.5786  LR: 8.0390e-05  \n",
      "Epoch: [41][39/40] Data 0.057 (0.046) Elapsed 0m 11s (remain 0m 0s) Loss: 0.0018(0.3708) Grad Norm: 0.0889  LR: 8.0390e-05  \n",
      "EVAL: [0/9] Data 0.025 (0.025) Elapsed 0m 0s (remain 0m 0s) \n"
     ]
    },
    {
     "name": "stderr",
     "output_type": "stream",
     "text": [
      "labels: [ 5  2 11 10  8]\n",
      "pred_labels: [ 5  5 11  2  8]\n",
      "Epoch 41 - avg_train_loss: 0.3708  lr: 8.0390e-05  time: 13s\n",
      "Epoch 41 - Score: 0.5649\n"
     ]
    },
    {
     "name": "stdout",
     "output_type": "stream",
     "text": [
      "EVAL: [8/9] Data 0.005 (0.022) Elapsed 0m 0s (remain 0m 0s) \n",
      "Epoch: [42][0/40] Data 0.045 (0.045) Elapsed 0m 0s (remain 0m 11s) Loss: 0.8061(0.8061) Grad Norm: 4.2889  LR: 6.4381e-05  \n",
      "Epoch: [42][39/40] Data 0.046 (0.043) Elapsed 0m 11s (remain 0m 0s) Loss: 0.5360(0.4270) Grad Norm: 4.2164  LR: 6.4381e-05  \n",
      "EVAL: [0/9] Data 0.024 (0.024) Elapsed 0m 0s (remain 0m 0s) \n"
     ]
    },
    {
     "name": "stderr",
     "output_type": "stream",
     "text": [
      "labels: [ 5  2 11 10  8]\n",
      "pred_labels: [ 5  5 11  2  8]\n",
      "Epoch 42 - avg_train_loss: 0.4270  lr: 6.4381e-05  time: 13s\n",
      "Epoch 42 - Score: 0.5649\n"
     ]
    },
    {
     "name": "stdout",
     "output_type": "stream",
     "text": [
      "EVAL: [8/9] Data 0.005 (0.022) Elapsed 0m 0s (remain 0m 0s) \n",
      "Epoch: [43][0/40] Data 0.042 (0.042) Elapsed 0m 0s (remain 0m 11s) Loss: 0.0010(0.0010) Grad Norm: 0.0485  LR: 5.0093e-05  \n",
      "Epoch: [43][39/40] Data 0.038 (0.043) Elapsed 0m 11s (remain 0m 0s) Loss: 1.0066(0.3807) Grad Norm: 9.1202  LR: 5.0093e-05  \n",
      "EVAL: [0/9] Data 0.024 (0.024) Elapsed 0m 0s (remain 0m 0s) \n"
     ]
    },
    {
     "name": "stderr",
     "output_type": "stream",
     "text": [
      "labels: [ 5  2 11 10  8]\n",
      "pred_labels: [ 3  5 11  2  8]\n",
      "Epoch 43 - avg_train_loss: 0.3807  lr: 5.0093e-05  time: 13s\n",
      "Epoch 43 - Score: 0.5649\n"
     ]
    },
    {
     "name": "stdout",
     "output_type": "stream",
     "text": [
      "EVAL: [8/9] Data 0.005 (0.021) Elapsed 0m 0s (remain 0m 0s) \n",
      "Epoch: [44][0/40] Data 0.042 (0.042) Elapsed 0m 0s (remain 0m 11s) Loss: 0.7017(0.7017) Grad Norm: 5.5796  LR: 3.7578e-05  \n",
      "Epoch: [44][39/40] Data 0.042 (0.044) Elapsed 0m 11s (remain 0m 0s) Loss: 0.8147(0.2638) Grad Norm: 4.6936  LR: 3.7578e-05  \n",
      "EVAL: [0/9] Data 0.024 (0.024) Elapsed 0m 0s (remain 0m 0s) \n"
     ]
    },
    {
     "name": "stderr",
     "output_type": "stream",
     "text": [
      "labels: [ 5  2 11 10  8]\n",
      "pred_labels: [ 5  5 11  2  8]\n",
      "Epoch 44 - avg_train_loss: 0.2638  lr: 3.7578e-05  time: 13s\n",
      "Epoch 44 - Score: 0.5725\n"
     ]
    },
    {
     "name": "stdout",
     "output_type": "stream",
     "text": [
      "EVAL: [8/9] Data 0.004 (0.022) Elapsed 0m 0s (remain 0m 0s) \n",
      "Epoch: [45][0/40] Data 0.042 (0.042) Elapsed 0m 0s (remain 0m 11s) Loss: 0.0003(0.0003) Grad Norm: 0.0135  LR: 2.6881e-05  \n",
      "Epoch: [45][39/40] Data 0.042 (0.044) Elapsed 0m 11s (remain 0m 0s) Loss: 1.0893(0.4075) Grad Norm: 5.0449  LR: 2.6881e-05  \n",
      "EVAL: [0/9] Data 0.024 (0.024) Elapsed 0m 0s (remain 0m 0s) \n"
     ]
    },
    {
     "name": "stderr",
     "output_type": "stream",
     "text": [
      "labels: [ 5  2 11 10  8]\n",
      "pred_labels: [ 5  5 11 10  8]\n",
      "Epoch 45 - avg_train_loss: 0.4075  lr: 2.6881e-05  time: 13s\n",
      "Epoch 45 - Score: 0.5802\n"
     ]
    },
    {
     "name": "stdout",
     "output_type": "stream",
     "text": [
      "EVAL: [8/9] Data 0.005 (0.022) Elapsed 0m 0s (remain 0m 0s) \n",
      "Epoch: [46][0/40] Data 0.044 (0.044) Elapsed 0m 0s (remain 0m 11s) Loss: 0.0124(0.0124) Grad Norm: 0.8358  LR: 1.8039e-05  \n",
      "Epoch: [46][39/40] Data 0.048 (0.044) Elapsed 0m 11s (remain 0m 0s) Loss: 0.0004(0.0033) Grad Norm: 0.0160  LR: 1.8039e-05  \n",
      "EVAL: [0/9] Data 0.024 (0.024) Elapsed 0m 0s (remain 0m 0s) \n"
     ]
    },
    {
     "name": "stderr",
     "output_type": "stream",
     "text": [
      "labels: [ 5  2 11 10  8]\n",
      "pred_labels: [ 5  5 11 10  8]\n",
      "Epoch 46 - avg_train_loss: 0.0033  lr: 1.8039e-05  time: 13s\n",
      "Epoch 46 - Score: 0.5649\n"
     ]
    },
    {
     "name": "stdout",
     "output_type": "stream",
     "text": [
      "EVAL: [8/9] Data 0.004 (0.022) Elapsed 0m 0s (remain 0m 0s) \n",
      "Epoch: [47][0/40] Data 0.046 (0.046) Elapsed 0m 0s (remain 0m 11s) Loss: 0.0015(0.0015) Grad Norm: 0.0683  LR: 1.1073e-05  \n",
      "Epoch: [47][39/40] Data 0.038 (0.044) Elapsed 0m 11s (remain 0m 0s) Loss: 0.0023(0.0047) Grad Norm: 0.1103  LR: 1.1073e-05  \n",
      "EVAL: [0/9] Data 0.024 (0.024) Elapsed 0m 0s (remain 0m 0s) \n"
     ]
    },
    {
     "name": "stderr",
     "output_type": "stream",
     "text": [
      "labels: [ 5  2 11 10  8]\n",
      "pred_labels: [ 5  5 11  2  8]\n",
      "Epoch 47 - avg_train_loss: 0.0047  lr: 1.1073e-05  time: 12s\n",
      "Epoch 47 - Score: 0.5649\n"
     ]
    },
    {
     "name": "stdout",
     "output_type": "stream",
     "text": [
      "EVAL: [8/9] Data 0.004 (0.022) Elapsed 0m 0s (remain 0m 0s) \n",
      "Epoch: [48][0/40] Data 0.039 (0.039) Elapsed 0m 0s (remain 0m 11s) Loss: 0.0004(0.0004) Grad Norm: 0.0413  LR: 5.9882e-06  \n",
      "Epoch: [48][39/40] Data 0.038 (0.043) Elapsed 0m 11s (remain 0m 0s) Loss: 0.0003(0.0024) Grad Norm: 0.0074  LR: 5.9882e-06  \n",
      "EVAL: [0/9] Data 0.023 (0.023) Elapsed 0m 0s (remain 0m 0s) \n"
     ]
    },
    {
     "name": "stderr",
     "output_type": "stream",
     "text": [
      "labels: [ 5  2 11 10  8]\n",
      "pred_labels: [ 5  5 11  2  8]\n",
      "Epoch 48 - avg_train_loss: 0.0024  lr: 5.9882e-06  time: 12s\n",
      "Epoch 48 - Score: 0.5649\n"
     ]
    },
    {
     "name": "stdout",
     "output_type": "stream",
     "text": [
      "EVAL: [8/9] Data 0.005 (0.022) Elapsed 0m 0s (remain 0m 0s) \n",
      "Epoch: [49][0/40] Data 0.046 (0.046) Elapsed 0m 0s (remain 0m 11s) Loss: 0.0012(0.0012) Grad Norm: 0.0400  LR: 2.7534e-06  \n",
      "Epoch: [49][39/40] Data 0.040 (0.044) Elapsed 0m 11s (remain 0m 0s) Loss: 0.0006(0.0019) Grad Norm: 0.0366  LR: 2.7534e-06  \n",
      "EVAL: [0/9] Data 0.024 (0.024) Elapsed 0m 0s (remain 0m 0s) \n"
     ]
    },
    {
     "name": "stderr",
     "output_type": "stream",
     "text": [
      "labels: [ 5  2 11 10  8]\n",
      "pred_labels: [ 5  5 11  2  8]\n",
      "Epoch 49 - avg_train_loss: 0.0019  lr: 2.7534e-06  time: 13s\n",
      "Epoch 49 - Score: 0.5649\n"
     ]
    },
    {
     "name": "stdout",
     "output_type": "stream",
     "text": [
      "EVAL: [8/9] Data 0.004 (0.022) Elapsed 0m 0s (remain 0m 0s) \n",
      "Epoch: [50][0/40] Data 0.045 (0.045) Elapsed 0m 0s (remain 0m 11s) Loss: 0.0003(0.0003) Grad Norm: 0.0141  LR: 1.2467e-06  \n",
      "Epoch: [50][39/40] Data 0.044 (0.044) Elapsed 0m 11s (remain 0m 0s) Loss: 0.0313(0.0093) Grad Norm: 4.0002  LR: 1.2467e-06  \n",
      "EVAL: [0/9] Data 0.024 (0.024) Elapsed 0m 0s (remain 0m 0s) \n"
     ]
    },
    {
     "name": "stderr",
     "output_type": "stream",
     "text": [
      "labels: [ 5  2 11 10  8]\n",
      "pred_labels: [ 5  5 11  2  8]\n",
      "Epoch 50 - avg_train_loss: 0.0093  lr: 1.2467e-06  time: 13s\n",
      "Epoch 50 - Score: 0.5649\n",
      "==================== fold: 4, seed: 2 training ====================\n"
     ]
    },
    {
     "name": "stdout",
     "output_type": "stream",
     "text": [
      "EVAL: [8/9] Data 0.005 (0.022) Elapsed 0m 0s (remain 0m 0s) \n",
      "Epoch: [1][0/40] Data 0.044 (0.044) Elapsed 0m 0s (remain 0m 11s) Loss: 2.5912(2.5912) Grad Norm: inf  LR: 1.0000e-03  \n",
      "Epoch: [1][39/40] Data 0.046 (0.043) Elapsed 0m 11s (remain 0m 0s) Loss: 2.1188(2.4756) Grad Norm: 13.2530  LR: 1.0000e-03  \n",
      "EVAL: [0/9] Data 0.024 (0.024) Elapsed 0m 0s (remain 0m 0s) \n"
     ]
    },
    {
     "name": "stderr",
     "output_type": "stream",
     "text": [
      "labels: [8 6 2 3 6]\n",
      "pred_labels: [8 2 2 2 2]\n",
      "Epoch 1 - avg_train_loss: 2.4756  lr: 1.0000e-03  time: 13s\n",
      "Epoch 1 - Score: 0.3154\n",
      "Epoch 1 - Save Best Score: 0.3154 Model\n"
     ]
    },
    {
     "name": "stdout",
     "output_type": "stream",
     "text": [
      "EVAL: [8/9] Data 0.003 (0.021) Elapsed 0m 0s (remain 0m 0s) \n",
      "Epoch: [2][0/40] Data 0.040 (0.040) Elapsed 0m 0s (remain 0m 11s) Loss: 2.1794(2.1794) Grad Norm: 8.4780  LR: 9.9803e-04  \n",
      "Epoch: [2][39/40] Data 0.043 (0.044) Elapsed 0m 11s (remain 0m 0s) Loss: 1.4159(2.0239) Grad Norm: 20.1552  LR: 9.9803e-04  \n",
      "EVAL: [0/9] Data 0.024 (0.024) Elapsed 0m 0s (remain 0m 0s) \n"
     ]
    },
    {
     "name": "stderr",
     "output_type": "stream",
     "text": [
      "labels: [8 6 2 3 6]\n",
      "pred_labels: [8 0 2 2 7]\n",
      "Epoch 2 - avg_train_loss: 2.0239  lr: 9.9803e-04  time: 13s\n",
      "Epoch 2 - Score: 0.4385\n",
      "Epoch 2 - Save Best Score: 0.4385 Model\n"
     ]
    },
    {
     "name": "stdout",
     "output_type": "stream",
     "text": [
      "EVAL: [8/9] Data 0.003 (0.022) Elapsed 0m 0s (remain 0m 0s) \n",
      "Epoch: [3][0/40] Data 0.040 (0.040) Elapsed 0m 0s (remain 0m 11s) Loss: 1.8716(1.8716) Grad Norm: 13.7284  LR: 9.9312e-04  \n",
      "Epoch: [3][39/40] Data 0.047 (0.044) Elapsed 0m 11s (remain 0m 0s) Loss: 1.7997(1.6541) Grad Norm: 11.3840  LR: 9.9312e-04  \n",
      "EVAL: [0/9] Data 0.024 (0.024) Elapsed 0m 0s (remain 0m 0s) \n"
     ]
    },
    {
     "name": "stderr",
     "output_type": "stream",
     "text": [
      "labels: [8 6 2 3 6]\n",
      "pred_labels: [8 0 2 4 0]\n",
      "Epoch 3 - avg_train_loss: 1.6541  lr: 9.9312e-04  time: 13s\n",
      "Epoch 3 - Score: 0.5077\n",
      "Epoch 3 - Save Best Score: 0.5077 Model\n"
     ]
    },
    {
     "name": "stdout",
     "output_type": "stream",
     "text": [
      "EVAL: [8/9] Data 0.003 (0.022) Elapsed 0m 0s (remain 0m 0s) \n",
      "Epoch: [4][0/40] Data 0.039 (0.039) Elapsed 0m 0s (remain 0m 11s) Loss: 2.0786(2.0786) Grad Norm: 14.2331  LR: 9.8627e-04  \n",
      "Epoch: [4][39/40] Data 0.048 (0.045) Elapsed 0m 12s (remain 0m 0s) Loss: 1.9854(1.5572) Grad Norm: 7.5132  LR: 9.8627e-04  \n",
      "EVAL: [0/9] Data 0.025 (0.025) Elapsed 0m 0s (remain 0m 0s) \n"
     ]
    },
    {
     "name": "stderr",
     "output_type": "stream",
     "text": [
      "labels: [8 6 2 3 6]\n",
      "pred_labels: [8 6 5 2 0]\n",
      "Epoch 4 - avg_train_loss: 1.5572  lr: 9.8627e-04  time: 13s\n",
      "Epoch 4 - Score: 0.5077\n"
     ]
    },
    {
     "name": "stdout",
     "output_type": "stream",
     "text": [
      "EVAL: [8/9] Data 0.004 (0.022) Elapsed 0m 0s (remain 0m 0s) \n",
      "Epoch: [5][0/40] Data 0.046 (0.046) Elapsed 0m 0s (remain 0m 12s) Loss: 0.8823(0.8823) Grad Norm: 12.6820  LR: 9.7751e-04  \n",
      "Epoch: [5][39/40] Data 0.044 (0.044) Elapsed 0m 11s (remain 0m 0s) Loss: 0.8863(1.3069) Grad Norm: 69.7481  LR: 9.7751e-04  \n",
      "EVAL: [0/9] Data 0.024 (0.024) Elapsed 0m 0s (remain 0m 0s) \n"
     ]
    },
    {
     "name": "stderr",
     "output_type": "stream",
     "text": [
      "labels: [8 6 2 3 6]\n",
      "pred_labels: [8 6 5 5 2]\n",
      "Epoch 5 - avg_train_loss: 1.3069  lr: 9.7751e-04  time: 13s\n",
      "Epoch 5 - Score: 0.5308\n",
      "Epoch 5 - Save Best Score: 0.5308 Model\n"
     ]
    },
    {
     "name": "stdout",
     "output_type": "stream",
     "text": [
      "EVAL: [8/9] Data 0.003 (0.022) Elapsed 0m 0s (remain 0m 0s) \n",
      "Epoch: [6][0/40] Data 0.044 (0.044) Elapsed 0m 0s (remain 0m 12s) Loss: 0.4795(0.4795) Grad Norm: 32.2141  LR: 9.6688e-04  \n",
      "Epoch: [6][39/40] Data 0.050 (0.044) Elapsed 0m 11s (remain 0m 0s) Loss: 2.1959(1.3150) Grad Norm: 12.7884  LR: 9.6688e-04  \n",
      "EVAL: [0/9] Data 0.024 (0.024) Elapsed 0m 0s (remain 0m 0s) \n"
     ]
    },
    {
     "name": "stderr",
     "output_type": "stream",
     "text": [
      "labels: [8 6 2 3 6]\n",
      "pred_labels: [8 6 5 4 0]\n",
      "Epoch 6 - avg_train_loss: 1.3150  lr: 9.6688e-04  time: 13s\n",
      "Epoch 6 - Score: 0.5846\n",
      "Epoch 6 - Save Best Score: 0.5846 Model\n"
     ]
    },
    {
     "name": "stdout",
     "output_type": "stream",
     "text": [
      "EVAL: [8/9] Data 0.003 (0.022) Elapsed 0m 0s (remain 0m 0s) \n",
      "Epoch: [7][0/40] Data 0.040 (0.040) Elapsed 0m 0s (remain 0m 12s) Loss: 1.9608(1.9608) Grad Norm: 14.6987  LR: 9.5441e-04  \n",
      "Epoch: [7][39/40] Data 0.044 (0.043) Elapsed 0m 11s (remain 0m 0s) Loss: 0.8913(1.1065) Grad Norm: 12.9023  LR: 9.5441e-04  \n",
      "EVAL: [0/9] Data 0.024 (0.024) Elapsed 0m 0s (remain 0m 0s) \n"
     ]
    },
    {
     "name": "stderr",
     "output_type": "stream",
     "text": [
      "labels: [8 6 2 3 6]\n",
      "pred_labels: [8 0 2 2 0]\n",
      "Epoch 7 - avg_train_loss: 1.1065  lr: 9.5441e-04  time: 13s\n",
      "Epoch 7 - Score: 0.6154\n",
      "Epoch 7 - Save Best Score: 0.6154 Model\n"
     ]
    },
    {
     "name": "stdout",
     "output_type": "stream",
     "text": [
      "EVAL: [8/9] Data 0.003 (0.021) Elapsed 0m 0s (remain 0m 0s) \n",
      "Epoch: [8][0/40] Data 0.041 (0.041) Elapsed 0m 0s (remain 0m 11s) Loss: 0.2653(0.2653) Grad Norm: 6.6386  LR: 9.4016e-04  \n",
      "Epoch: [8][39/40] Data 0.053 (0.044) Elapsed 0m 11s (remain 0m 0s) Loss: 0.8652(1.2837) Grad Norm: 11.6439  LR: 9.4016e-04  \n",
      "EVAL: [0/9] Data 0.024 (0.024) Elapsed 0m 0s (remain 0m 0s) \n"
     ]
    },
    {
     "name": "stderr",
     "output_type": "stream",
     "text": [
      "labels: [8 6 2 3 6]\n",
      "pred_labels: [8 0 5 5 0]\n",
      "Epoch 8 - avg_train_loss: 1.2837  lr: 9.4016e-04  time: 13s\n",
      "Epoch 8 - Score: 0.6000\n"
     ]
    },
    {
     "name": "stdout",
     "output_type": "stream",
     "text": [
      "EVAL: [8/9] Data 0.003 (0.022) Elapsed 0m 0s (remain 0m 0s) \n",
      "Epoch: [9][0/40] Data 0.050 (0.050) Elapsed 0m 0s (remain 0m 11s) Loss: 0.1801(0.1801) Grad Norm: 6.2806  LR: 9.2418e-04  \n",
      "Epoch: [9][39/40] Data 0.035 (0.043) Elapsed 0m 11s (remain 0m 0s) Loss: 1.9510(1.1588) Grad Norm: 13.0934  LR: 9.2418e-04  \n",
      "EVAL: [0/9] Data 0.026 (0.026) Elapsed 0m 0s (remain 0m 0s) \n"
     ]
    },
    {
     "name": "stderr",
     "output_type": "stream",
     "text": [
      "labels: [8 6 2 3 6]\n",
      "pred_labels: [8 0 2 2 2]\n",
      "Epoch 9 - avg_train_loss: 1.1588  lr: 9.2418e-04  time: 13s\n",
      "Epoch 9 - Score: 0.5923\n"
     ]
    },
    {
     "name": "stdout",
     "output_type": "stream",
     "text": [
      "EVAL: [8/9] Data 0.003 (0.022) Elapsed 0m 0s (remain 0m 0s) \n",
      "Epoch: [10][0/40] Data 0.046 (0.046) Elapsed 0m 0s (remain 0m 11s) Loss: 1.3645(1.3645) Grad Norm: 11.6547  LR: 9.0654e-04  \n",
      "Epoch: [10][39/40] Data 0.040 (0.044) Elapsed 0m 12s (remain 0m 0s) Loss: 1.2915(1.1649) Grad Norm: 8.8855  LR: 9.0654e-04  \n",
      "EVAL: [0/9] Data 0.025 (0.025) Elapsed 0m 0s (remain 0m 0s) \n"
     ]
    },
    {
     "name": "stderr",
     "output_type": "stream",
     "text": [
      "labels: [8 6 2 3 6]\n",
      "pred_labels: [8 0 5 4 0]\n",
      "Epoch 10 - avg_train_loss: 1.1649  lr: 9.0654e-04  time: 13s\n",
      "Epoch 10 - Score: 0.5077\n"
     ]
    },
    {
     "name": "stdout",
     "output_type": "stream",
     "text": [
      "EVAL: [8/9] Data 0.003 (0.022) Elapsed 0m 0s (remain 0m 0s) \n",
      "Epoch: [11][0/40] Data 0.050 (0.050) Elapsed 0m 0s (remain 0m 11s) Loss: 1.3739(1.3739) Grad Norm: 15.9890  LR: 8.8730e-04  \n",
      "Epoch: [11][39/40] Data 0.043 (0.043) Elapsed 0m 11s (remain 0m 0s) Loss: 0.6473(0.8951) Grad Norm: 14.9827  LR: 8.8730e-04  \n",
      "EVAL: [0/9] Data 0.024 (0.024) Elapsed 0m 0s (remain 0m 0s) \n"
     ]
    },
    {
     "name": "stderr",
     "output_type": "stream",
     "text": [
      "labels: [8 6 2 3 6]\n",
      "pred_labels: [8 6 5 2 0]\n",
      "Epoch 11 - avg_train_loss: 0.8951  lr: 8.8730e-04  time: 13s\n",
      "Epoch 11 - Score: 0.5769\n"
     ]
    },
    {
     "name": "stdout",
     "output_type": "stream",
     "text": [
      "EVAL: [8/9] Data 0.003 (0.022) Elapsed 0m 0s (remain 0m 0s) \n",
      "Epoch: [12][0/40] Data 0.038 (0.038) Elapsed 0m 0s (remain 0m 11s) Loss: 1.0705(1.0705) Grad Norm: 6.5189  LR: 8.6655e-04  \n",
      "Epoch: [12][39/40] Data 0.040 (0.043) Elapsed 0m 11s (remain 0m 0s) Loss: 1.8419(1.0507) Grad Norm: 9.5458  LR: 8.6655e-04  \n",
      "EVAL: [0/9] Data 0.025 (0.025) Elapsed 0m 0s (remain 0m 0s) \n"
     ]
    },
    {
     "name": "stderr",
     "output_type": "stream",
     "text": [
      "labels: [8 6 2 3 6]\n",
      "pred_labels: [8 0 2 2 7]\n",
      "Epoch 12 - avg_train_loss: 1.0507  lr: 8.6655e-04  time: 13s\n",
      "Epoch 12 - Score: 0.5154\n"
     ]
    },
    {
     "name": "stdout",
     "output_type": "stream",
     "text": [
      "EVAL: [8/9] Data 0.003 (0.021) Elapsed 0m 0s (remain 0m 0s) \n",
      "Epoch: [13][0/40] Data 0.041 (0.041) Elapsed 0m 0s (remain 0m 11s) Loss: 0.2059(0.2059) Grad Norm: 12.4249  LR: 8.4436e-04  \n",
      "Epoch: [13][39/40] Data 0.040 (0.043) Elapsed 0m 11s (remain 0m 0s) Loss: 1.3717(1.0231) Grad Norm: 11.1509  LR: 8.4436e-04  \n",
      "EVAL: [0/9] Data 0.023 (0.023) Elapsed 0m 0s (remain 0m 0s) \n"
     ]
    },
    {
     "name": "stderr",
     "output_type": "stream",
     "text": [
      "labels: [8 6 2 3 6]\n",
      "pred_labels: [8 0 2 2 7]\n",
      "Epoch 13 - avg_train_loss: 1.0231  lr: 8.4436e-04  time: 13s\n",
      "Epoch 13 - Score: 0.5538\n"
     ]
    },
    {
     "name": "stdout",
     "output_type": "stream",
     "text": [
      "EVAL: [8/9] Data 0.003 (0.022) Elapsed 0m 0s (remain 0m 0s) \n",
      "Epoch: [14][0/40] Data 0.042 (0.042) Elapsed 0m 0s (remain 0m 11s) Loss: 0.8235(0.8235) Grad Norm: 4.7435  LR: 8.2081e-04  \n",
      "Epoch: [14][39/40] Data 0.041 (0.043) Elapsed 0m 11s (remain 0m 0s) Loss: 1.9145(1.0309) Grad Norm: 8.7698  LR: 8.2081e-04  \n",
      "EVAL: [0/9] Data 0.024 (0.024) Elapsed 0m 0s (remain 0m 0s) \n"
     ]
    },
    {
     "name": "stderr",
     "output_type": "stream",
     "text": [
      "labels: [8 6 2 3 6]\n",
      "pred_labels: [8 0 2 2 7]\n",
      "Epoch 14 - avg_train_loss: 1.0309  lr: 8.2081e-04  time: 13s\n",
      "Epoch 14 - Score: 0.5769\n"
     ]
    },
    {
     "name": "stdout",
     "output_type": "stream",
     "text": [
      "EVAL: [8/9] Data 0.003 (0.021) Elapsed 0m 0s (remain 0m 0s) \n",
      "Epoch: [15][0/40] Data 0.045 (0.045) Elapsed 0m 0s (remain 0m 11s) Loss: 1.1996(1.1996) Grad Norm: 11.3932  LR: 7.9601e-04  \n",
      "Epoch: [15][39/40] Data 0.038 (0.043) Elapsed 0m 11s (remain 0m 0s) Loss: 1.4239(0.9588) Grad Norm: 7.0702  LR: 7.9601e-04  \n",
      "EVAL: [0/9] Data 0.026 (0.026) Elapsed 0m 0s (remain 0m 0s) \n"
     ]
    },
    {
     "name": "stderr",
     "output_type": "stream",
     "text": [
      "labels: [8 6 2 3 6]\n",
      "pred_labels: [8 6 5 4 7]\n",
      "Epoch 15 - avg_train_loss: 0.9588  lr: 7.9601e-04  time: 13s\n",
      "Epoch 15 - Score: 0.5769\n"
     ]
    },
    {
     "name": "stdout",
     "output_type": "stream",
     "text": [
      "EVAL: [8/9] Data 0.003 (0.022) Elapsed 0m 0s (remain 0m 0s) \n",
      "Epoch: [16][0/40] Data 0.048 (0.048) Elapsed 0m 0s (remain 0m 11s) Loss: 1.2286(1.2286) Grad Norm: 5.6774  LR: 7.7006e-04  \n",
      "Epoch: [16][39/40] Data 0.044 (0.044) Elapsed 0m 11s (remain 0m 0s) Loss: 0.8038(0.8721) Grad Norm: 13.6377  LR: 7.7006e-04  \n",
      "EVAL: [0/9] Data 0.025 (0.025) Elapsed 0m 0s (remain 0m 0s) \n"
     ]
    },
    {
     "name": "stderr",
     "output_type": "stream",
     "text": [
      "labels: [8 6 2 3 6]\n",
      "pred_labels: [8 0 5 4 7]\n",
      "Epoch 16 - avg_train_loss: 0.8721  lr: 7.7006e-04  time: 13s\n",
      "Epoch 16 - Score: 0.5769\n"
     ]
    },
    {
     "name": "stdout",
     "output_type": "stream",
     "text": [
      "EVAL: [8/9] Data 0.003 (0.022) Elapsed 0m 0s (remain 0m 0s) \n",
      "Epoch: [17][0/40] Data 0.042 (0.042) Elapsed 0m 0s (remain 0m 11s) Loss: 0.0158(0.0158) Grad Norm: 0.9749  LR: 7.4304e-04  \n",
      "Epoch: [17][39/40] Data 0.038 (0.043) Elapsed 0m 11s (remain 0m 0s) Loss: 1.2408(0.7209) Grad Norm: 8.4894  LR: 7.4304e-04  \n",
      "EVAL: [0/9] Data 0.024 (0.024) Elapsed 0m 0s (remain 0m 0s) \n"
     ]
    },
    {
     "name": "stderr",
     "output_type": "stream",
     "text": [
      "labels: [8 6 2 3 6]\n",
      "pred_labels: [ 8  0  2  4 11]\n",
      "Epoch 17 - avg_train_loss: 0.7209  lr: 7.4304e-04  time: 13s\n",
      "Epoch 17 - Score: 0.5538\n"
     ]
    },
    {
     "name": "stdout",
     "output_type": "stream",
     "text": [
      "EVAL: [8/9] Data 0.003 (0.021) Elapsed 0m 0s (remain 0m 0s) \n",
      "Epoch: [18][0/40] Data 0.046 (0.046) Elapsed 0m 0s (remain 0m 11s) Loss: 0.0678(0.0678) Grad Norm: 2.3097  LR: 7.1508e-04  \n",
      "Epoch: [18][39/40] Data 0.045 (0.043) Elapsed 0m 11s (remain 0m 0s) Loss: 1.7397(0.8805) Grad Norm: 6.4453  LR: 7.1508e-04  \n",
      "EVAL: [0/9] Data 0.025 (0.025) Elapsed 0m 0s (remain 0m 0s) \n"
     ]
    },
    {
     "name": "stderr",
     "output_type": "stream",
     "text": [
      "labels: [8 6 2 3 6]\n",
      "pred_labels: [8 0 5 4 0]\n",
      "Epoch 18 - avg_train_loss: 0.8805  lr: 7.1508e-04  time: 13s\n",
      "Epoch 18 - Score: 0.5538\n"
     ]
    },
    {
     "name": "stdout",
     "output_type": "stream",
     "text": [
      "EVAL: [8/9] Data 0.003 (0.022) Elapsed 0m 0s (remain 0m 0s) \n",
      "Epoch: [19][0/40] Data 0.050 (0.050) Elapsed 0m 0s (remain 0m 11s) Loss: 1.3323(1.3323) Grad Norm: 8.3821  LR: 6.8627e-04  \n",
      "Epoch: [19][39/40] Data 0.043 (0.043) Elapsed 0m 11s (remain 0m 0s) Loss: 0.2000(0.8636) Grad Norm: 18.4977  LR: 6.8627e-04  \n",
      "EVAL: [0/9] Data 0.024 (0.024) Elapsed 0m 0s (remain 0m 0s) \n"
     ]
    },
    {
     "name": "stderr",
     "output_type": "stream",
     "text": [
      "labels: [8 6 2 3 6]\n",
      "pred_labels: [8 6 5 4 8]\n",
      "Epoch 19 - avg_train_loss: 0.8636  lr: 6.8627e-04  time: 13s\n",
      "Epoch 19 - Score: 0.5846\n"
     ]
    },
    {
     "name": "stdout",
     "output_type": "stream",
     "text": [
      "EVAL: [8/9] Data 0.003 (0.022) Elapsed 0m 0s (remain 0m 0s) \n",
      "Epoch: [20][0/40] Data 0.039 (0.039) Elapsed 0m 0s (remain 0m 11s) Loss: 0.0721(0.0721) Grad Norm: 16.8883  LR: 6.5674e-04  \n",
      "Epoch: [20][39/40] Data 0.039 (0.043) Elapsed 0m 11s (remain 0m 0s) Loss: 1.4421(0.6520) Grad Norm: 8.2943  LR: 6.5674e-04  \n",
      "EVAL: [0/9] Data 0.024 (0.024) Elapsed 0m 0s (remain 0m 0s) \n"
     ]
    },
    {
     "name": "stderr",
     "output_type": "stream",
     "text": [
      "labels: [8 6 2 3 6]\n",
      "pred_labels: [8 6 5 4 2]\n",
      "Epoch 20 - avg_train_loss: 0.6520  lr: 6.5674e-04  time: 12s\n",
      "Epoch 20 - Score: 0.5769\n"
     ]
    },
    {
     "name": "stdout",
     "output_type": "stream",
     "text": [
      "EVAL: [8/9] Data 0.004 (0.022) Elapsed 0m 0s (remain 0m 0s) \n",
      "Epoch: [21][0/40] Data 0.042 (0.042) Elapsed 0m 0s (remain 0m 11s) Loss: 1.5401(1.5401) Grad Norm: 14.0003  LR: 6.2661e-04  \n",
      "Epoch: [21][39/40] Data 0.048 (0.042) Elapsed 0m 11s (remain 0m 0s) Loss: 0.2679(0.7473) Grad Norm: 5.9016  LR: 6.2661e-04  \n",
      "EVAL: [0/9] Data 0.025 (0.025) Elapsed 0m 0s (remain 0m 0s) \n"
     ]
    },
    {
     "name": "stderr",
     "output_type": "stream",
     "text": [
      "labels: [8 6 2 3 6]\n",
      "pred_labels: [8 6 2 4 0]\n",
      "Epoch 21 - avg_train_loss: 0.7473  lr: 6.2661e-04  time: 12s\n",
      "Epoch 21 - Score: 0.5846\n"
     ]
    },
    {
     "name": "stdout",
     "output_type": "stream",
     "text": [
      "EVAL: [8/9] Data 0.003 (0.022) Elapsed 0m 0s (remain 0m 0s) \n",
      "Epoch: [22][0/40] Data 0.047 (0.047) Elapsed 0m 0s (remain 0m 11s) Loss: 1.0445(1.0445) Grad Norm: 6.6492  LR: 5.9598e-04  \n",
      "Epoch: [22][39/40] Data 0.049 (0.043) Elapsed 0m 11s (remain 0m 0s) Loss: 1.9749(0.7895) Grad Norm: 8.3163  LR: 5.9598e-04  \n",
      "EVAL: [0/9] Data 0.024 (0.024) Elapsed 0m 0s (remain 0m 0s) \n"
     ]
    },
    {
     "name": "stderr",
     "output_type": "stream",
     "text": [
      "labels: [8 6 2 3 6]\n",
      "pred_labels: [8 6 5 4 7]\n",
      "Epoch 22 - avg_train_loss: 0.7895  lr: 5.9598e-04  time: 13s\n",
      "Epoch 22 - Score: 0.5462\n"
     ]
    },
    {
     "name": "stdout",
     "output_type": "stream",
     "text": [
      "EVAL: [8/9] Data 0.003 (0.022) Elapsed 0m 0s (remain 0m 0s) \n",
      "Epoch: [23][0/40] Data 0.041 (0.041) Elapsed 0m 0s (remain 0m 11s) Loss: 1.4652(1.4652) Grad Norm: 17.9519  LR: 5.6498e-04  \n",
      "Epoch: [23][39/40] Data 0.035 (0.043) Elapsed 0m 11s (remain 0m 0s) Loss: 0.1725(0.7097) Grad Norm: 10.6201  LR: 5.6498e-04  \n",
      "EVAL: [0/9] Data 0.026 (0.026) Elapsed 0m 0s (remain 0m 0s) \n"
     ]
    },
    {
     "name": "stderr",
     "output_type": "stream",
     "text": [
      "labels: [8 6 2 3 6]\n",
      "pred_labels: [8 0 5 4 0]\n",
      "Epoch 23 - avg_train_loss: 0.7097  lr: 5.6498e-04  time: 13s\n",
      "Epoch 23 - Score: 0.5769\n"
     ]
    },
    {
     "name": "stdout",
     "output_type": "stream",
     "text": [
      "EVAL: [8/9] Data 0.003 (0.022) Elapsed 0m 0s (remain 0m 0s) \n",
      "Epoch: [24][0/40] Data 0.047 (0.047) Elapsed 0m 0s (remain 0m 11s) Loss: 0.0239(0.0239) Grad Norm: 0.6917  LR: 5.3373e-04  \n",
      "Epoch: [24][39/40] Data 0.046 (0.042) Elapsed 0m 11s (remain 0m 0s) Loss: 0.3584(0.6112) Grad Norm: 10.9618  LR: 5.3373e-04  \n",
      "EVAL: [0/9] Data 0.023 (0.023) Elapsed 0m 0s (remain 0m 0s) \n"
     ]
    },
    {
     "name": "stderr",
     "output_type": "stream",
     "text": [
      "labels: [8 6 2 3 6]\n",
      "pred_labels: [8 0 2 4 2]\n",
      "Epoch 24 - avg_train_loss: 0.6112  lr: 5.3373e-04  time: 12s\n",
      "Epoch 24 - Score: 0.5538\n"
     ]
    },
    {
     "name": "stdout",
     "output_type": "stream",
     "text": [
      "EVAL: [8/9] Data 0.004 (0.022) Elapsed 0m 0s (remain 0m 0s) \n",
      "Epoch: [25][0/40] Data 0.044 (0.044) Elapsed 0m 0s (remain 0m 11s) Loss: 0.2744(0.2744) Grad Norm: 7.4012  LR: 5.0236e-04  \n",
      "Epoch: [25][39/40] Data 0.038 (0.042) Elapsed 0m 11s (remain 0m 0s) Loss: 0.0738(0.6708) Grad Norm: 3.6152  LR: 5.0236e-04  \n",
      "EVAL: [0/9] Data 0.023 (0.023) Elapsed 0m 0s (remain 0m 0s) \n"
     ]
    },
    {
     "name": "stderr",
     "output_type": "stream",
     "text": [
      "labels: [8 6 2 3 6]\n",
      "pred_labels: [8 6 5 4 2]\n",
      "Epoch 25 - avg_train_loss: 0.6708  lr: 5.0236e-04  time: 12s\n",
      "Epoch 25 - Score: 0.6154\n"
     ]
    },
    {
     "name": "stdout",
     "output_type": "stream",
     "text": [
      "EVAL: [8/9] Data 0.004 (0.022) Elapsed 0m 0s (remain 0m 0s) \n",
      "Epoch: [26][0/40] Data 0.043 (0.043) Elapsed 0m 0s (remain 0m 11s) Loss: 0.1586(0.1586) Grad Norm: 6.8343  LR: 4.7099e-04  \n",
      "Epoch: [26][39/40] Data 0.045 (0.043) Elapsed 0m 11s (remain 0m 0s) Loss: 1.5123(0.5902) Grad Norm: 6.0879  LR: 4.7099e-04  \n",
      "EVAL: [0/9] Data 0.025 (0.025) Elapsed 0m 0s (remain 0m 0s) \n"
     ]
    },
    {
     "name": "stderr",
     "output_type": "stream",
     "text": [
      "labels: [8 6 2 3 6]\n",
      "pred_labels: [8 0 5 4 2]\n",
      "Epoch 26 - avg_train_loss: 0.5902  lr: 4.7099e-04  time: 12s\n",
      "Epoch 26 - Score: 0.5538\n"
     ]
    },
    {
     "name": "stdout",
     "output_type": "stream",
     "text": [
      "EVAL: [8/9] Data 0.004 (0.022) Elapsed 0m 0s (remain 0m 0s) \n",
      "Epoch: [27][0/40] Data 0.044 (0.044) Elapsed 0m 0s (remain 0m 11s) Loss: 1.3702(1.3702) Grad Norm: 5.6710  LR: 4.3974e-04  \n",
      "Epoch: [27][39/40] Data 0.047 (0.044) Elapsed 0m 11s (remain 0m 0s) Loss: 1.7017(0.7060) Grad Norm: 9.3326  LR: 4.3974e-04  \n",
      "EVAL: [0/9] Data 0.024 (0.024) Elapsed 0m 0s (remain 0m 0s) \n"
     ]
    },
    {
     "name": "stderr",
     "output_type": "stream",
     "text": [
      "labels: [8 6 2 3 6]\n",
      "pred_labels: [8 6 2 4 7]\n",
      "Epoch 27 - avg_train_loss: 0.7060  lr: 4.3974e-04  time: 13s\n",
      "Epoch 27 - Score: 0.6231\n",
      "Epoch 27 - Save Best Score: 0.6231 Model\n"
     ]
    },
    {
     "name": "stdout",
     "output_type": "stream",
     "text": [
      "EVAL: [8/9] Data 0.003 (0.022) Elapsed 0m 0s (remain 0m 0s) \n",
      "Epoch: [28][0/40] Data 0.042 (0.042) Elapsed 0m 0s (remain 0m 12s) Loss: 0.8952(0.8952) Grad Norm: 5.3291  LR: 4.0874e-04  \n",
      "Epoch: [28][39/40] Data 0.044 (0.043) Elapsed 0m 11s (remain 0m 0s) Loss: 0.0021(0.4499) Grad Norm: 0.1254  LR: 4.0874e-04  \n",
      "EVAL: [0/9] Data 0.024 (0.024) Elapsed 0m 0s (remain 0m 0s) \n"
     ]
    },
    {
     "name": "stderr",
     "output_type": "stream",
     "text": [
      "labels: [8 6 2 3 6]\n",
      "pred_labels: [8 0 5 4 2]\n",
      "Epoch 28 - avg_train_loss: 0.4499  lr: 4.0874e-04  time: 13s\n",
      "Epoch 28 - Score: 0.6462\n",
      "Epoch 28 - Save Best Score: 0.6462 Model\n"
     ]
    },
    {
     "name": "stdout",
     "output_type": "stream",
     "text": [
      "EVAL: [8/9] Data 0.003 (0.022) Elapsed 0m 0s (remain 0m 0s) \n",
      "Epoch: [29][0/40] Data 0.043 (0.043) Elapsed 0m 0s (remain 0m 12s) Loss: 1.1794(1.1794) Grad Norm: 7.3009  LR: 3.7811e-04  \n",
      "Epoch: [29][39/40] Data 0.041 (0.044) Elapsed 0m 11s (remain 0m 0s) Loss: 1.0546(0.4893) Grad Norm: 6.9043  LR: 3.7811e-04  \n",
      "EVAL: [0/9] Data 0.024 (0.024) Elapsed 0m 0s (remain 0m 0s) \n"
     ]
    },
    {
     "name": "stderr",
     "output_type": "stream",
     "text": [
      "labels: [8 6 2 3 6]\n",
      "pred_labels: [8 6 2 2 2]\n",
      "Epoch 29 - avg_train_loss: 0.4893  lr: 3.7811e-04  time: 13s\n",
      "Epoch 29 - Score: 0.5923\n"
     ]
    },
    {
     "name": "stdout",
     "output_type": "stream",
     "text": [
      "EVAL: [8/9] Data 0.003 (0.022) Elapsed 0m 0s (remain 0m 0s) \n",
      "Epoch: [30][0/40] Data 0.045 (0.045) Elapsed 0m 0s (remain 0m 12s) Loss: 1.1091(1.1091) Grad Norm: 6.8190  LR: 3.4797e-04  \n",
      "Epoch: [30][39/40] Data 0.039 (0.044) Elapsed 0m 12s (remain 0m 0s) Loss: 0.0054(0.4231) Grad Norm: 0.3835  LR: 3.4797e-04  \n",
      "EVAL: [0/9] Data 0.025 (0.025) Elapsed 0m 0s (remain 0m 0s) \n"
     ]
    },
    {
     "name": "stderr",
     "output_type": "stream",
     "text": [
      "labels: [8 6 2 3 6]\n",
      "pred_labels: [8 0 2 2 2]\n",
      "Epoch 30 - avg_train_loss: 0.4231  lr: 3.4797e-04  time: 13s\n",
      "Epoch 30 - Score: 0.6077\n"
     ]
    },
    {
     "name": "stdout",
     "output_type": "stream",
     "text": [
      "EVAL: [8/9] Data 0.003 (0.022) Elapsed 0m 0s (remain 0m 0s) \n",
      "Epoch: [31][0/40] Data 0.046 (0.046) Elapsed 0m 0s (remain 0m 12s) Loss: 1.0165(1.0165) Grad Norm: 5.9926  LR: 3.1843e-04  \n",
      "Epoch: [31][39/40] Data 0.048 (0.044) Elapsed 0m 11s (remain 0m 0s) Loss: 0.2124(0.5224) Grad Norm: 15.0630  LR: 3.1843e-04  \n",
      "EVAL: [0/9] Data 0.026 (0.026) Elapsed 0m 0s (remain 0m 0s) \n"
     ]
    },
    {
     "name": "stderr",
     "output_type": "stream",
     "text": [
      "labels: [8 6 2 3 6]\n",
      "pred_labels: [8 0 2 2 2]\n",
      "Epoch 31 - avg_train_loss: 0.5224  lr: 3.1843e-04  time: 13s\n",
      "Epoch 31 - Score: 0.6154\n"
     ]
    },
    {
     "name": "stdout",
     "output_type": "stream",
     "text": [
      "EVAL: [8/9] Data 0.003 (0.022) Elapsed 0m 0s (remain 0m 0s) \n",
      "Epoch: [32][0/40] Data 0.044 (0.044) Elapsed 0m 0s (remain 0m 11s) Loss: 0.9095(0.9095) Grad Norm: 5.1880  LR: 2.8962e-04  \n",
      "Epoch: [32][39/40] Data 0.042 (0.043) Elapsed 0m 11s (remain 0m 0s) Loss: 0.0374(0.5713) Grad Norm: 1.5873  LR: 2.8962e-04  \n",
      "EVAL: [0/9] Data 0.024 (0.024) Elapsed 0m 0s (remain 0m 0s) \n"
     ]
    },
    {
     "name": "stderr",
     "output_type": "stream",
     "text": [
      "labels: [8 6 2 3 6]\n",
      "pred_labels: [8 0 5 4 0]\n",
      "Epoch 32 - avg_train_loss: 0.5713  lr: 2.8962e-04  time: 13s\n",
      "Epoch 32 - Score: 0.6308\n"
     ]
    },
    {
     "name": "stdout",
     "output_type": "stream",
     "text": [
      "EVAL: [8/9] Data 0.003 (0.021) Elapsed 0m 0s (remain 0m 0s) \n",
      "Epoch: [33][0/40] Data 0.044 (0.044) Elapsed 0m 0s (remain 0m 11s) Loss: 0.0034(0.0034) Grad Norm: 0.1717  LR: 2.6165e-04  \n",
      "Epoch: [33][39/40] Data 0.043 (0.042) Elapsed 0m 11s (remain 0m 0s) Loss: 1.1841(0.4802) Grad Norm: 7.0331  LR: 2.6165e-04  \n",
      "EVAL: [0/9] Data 0.023 (0.023) Elapsed 0m 0s (remain 0m 0s) \n"
     ]
    },
    {
     "name": "stderr",
     "output_type": "stream",
     "text": [
      "labels: [8 6 2 3 6]\n",
      "pred_labels: [8 0 2 2 2]\n",
      "Epoch 33 - avg_train_loss: 0.4802  lr: 2.6165e-04  time: 12s\n",
      "Epoch 33 - Score: 0.6538\n",
      "Epoch 33 - Save Best Score: 0.6538 Model\n"
     ]
    },
    {
     "name": "stdout",
     "output_type": "stream",
     "text": [
      "EVAL: [8/9] Data 0.003 (0.022) Elapsed 0m 0s (remain 0m 0s) \n",
      "Epoch: [34][0/40] Data 0.048 (0.048) Elapsed 0m 0s (remain 0m 12s) Loss: 0.0022(0.0022) Grad Norm: 0.0528  LR: 2.3463e-04  \n",
      "Epoch: [34][39/40] Data 0.041 (0.044) Elapsed 0m 11s (remain 0m 0s) Loss: 0.0050(0.4323) Grad Norm: 0.3053  LR: 2.3463e-04  \n",
      "EVAL: [0/9] Data 0.024 (0.024) Elapsed 0m 0s (remain 0m 0s) \n"
     ]
    },
    {
     "name": "stderr",
     "output_type": "stream",
     "text": [
      "labels: [8 6 2 3 6]\n",
      "pred_labels: [8 0 2 2 2]\n",
      "Epoch 34 - avg_train_loss: 0.4323  lr: 2.3463e-04  time: 13s\n",
      "Epoch 34 - Score: 0.5923\n"
     ]
    },
    {
     "name": "stdout",
     "output_type": "stream",
     "text": [
      "EVAL: [8/9] Data 0.003 (0.022) Elapsed 0m 0s (remain 0m 0s) \n",
      "Epoch: [35][0/40] Data 0.042 (0.042) Elapsed 0m 0s (remain 0m 11s) Loss: 1.0735(1.0735) Grad Norm: 8.3167  LR: 2.0866e-04  \n",
      "Epoch: [35][39/40] Data 0.048 (0.044) Elapsed 0m 11s (remain 0m 0s) Loss: 0.0220(0.4079) Grad Norm: 2.0132  LR: 2.0866e-04  \n",
      "EVAL: [0/9] Data 0.023 (0.023) Elapsed 0m 0s (remain 0m 0s) \n"
     ]
    },
    {
     "name": "stderr",
     "output_type": "stream",
     "text": [
      "labels: [8 6 2 3 6]\n",
      "pred_labels: [8 0 2 2 0]\n",
      "Epoch 35 - avg_train_loss: 0.4079  lr: 2.0866e-04  time: 13s\n",
      "Epoch 35 - Score: 0.6846\n",
      "Epoch 35 - Save Best Score: 0.6846 Model\n"
     ]
    },
    {
     "name": "stdout",
     "output_type": "stream",
     "text": [
      "EVAL: [8/9] Data 0.004 (0.022) Elapsed 0m 0s (remain 0m 0s) \n",
      "Epoch: [36][0/40] Data 0.045 (0.045) Elapsed 0m 0s (remain 0m 12s) Loss: 0.0094(0.0094) Grad Norm: 0.5712  LR: 1.8385e-04  \n",
      "Epoch: [36][39/40] Data 0.042 (0.043) Elapsed 0m 11s (remain 0m 0s) Loss: 0.7673(0.4097) Grad Norm: 4.6487  LR: 1.8385e-04  \n",
      "EVAL: [0/9] Data 0.025 (0.025) Elapsed 0m 0s (remain 0m 0s) \n"
     ]
    },
    {
     "name": "stderr",
     "output_type": "stream",
     "text": [
      "labels: [8 6 2 3 6]\n",
      "pred_labels: [8 0 2 2 2]\n",
      "Epoch 36 - avg_train_loss: 0.4097  lr: 1.8385e-04  time: 12s\n",
      "Epoch 36 - Score: 0.6462\n"
     ]
    },
    {
     "name": "stdout",
     "output_type": "stream",
     "text": [
      "EVAL: [8/9] Data 0.003 (0.022) Elapsed 0m 0s (remain 0m 0s) \n",
      "Epoch: [37][0/40] Data 0.050 (0.050) Elapsed 0m 0s (remain 0m 11s) Loss: 0.0041(0.0041) Grad Norm: 0.0890  LR: 1.6030e-04  \n",
      "Epoch: [37][39/40] Data 0.046 (0.044) Elapsed 0m 11s (remain 0m 0s) Loss: 0.0014(0.4169) Grad Norm: 0.1064  LR: 1.6030e-04  \n",
      "EVAL: [0/9] Data 0.023 (0.023) Elapsed 0m 0s (remain 0m 0s) \n"
     ]
    },
    {
     "name": "stderr",
     "output_type": "stream",
     "text": [
      "labels: [8 6 2 3 6]\n",
      "pred_labels: [8 0 2 2 2]\n",
      "Epoch 37 - avg_train_loss: 0.4169  lr: 1.6030e-04  time: 13s\n",
      "Epoch 37 - Score: 0.6154\n"
     ]
    },
    {
     "name": "stdout",
     "output_type": "stream",
     "text": [
      "EVAL: [8/9] Data 0.003 (0.021) Elapsed 0m 0s (remain 0m 0s) \n",
      "Epoch: [38][0/40] Data 0.046 (0.046) Elapsed 0m 0s (remain 0m 11s) Loss: 0.9830(0.9830) Grad Norm: 13.1087  LR: 1.3809e-04  \n",
      "Epoch: [38][39/40] Data 0.049 (0.044) Elapsed 0m 11s (remain 0m 0s) Loss: 0.7988(0.4915) Grad Norm: 5.0912  LR: 1.3809e-04  \n",
      "EVAL: [0/9] Data 0.024 (0.024) Elapsed 0m 0s (remain 0m 0s) \n"
     ]
    },
    {
     "name": "stderr",
     "output_type": "stream",
     "text": [
      "labels: [8 6 2 3 6]\n",
      "pred_labels: [8 0 2 2 2]\n",
      "Epoch 38 - avg_train_loss: 0.4915  lr: 1.3809e-04  time: 13s\n",
      "Epoch 38 - Score: 0.6385\n"
     ]
    },
    {
     "name": "stdout",
     "output_type": "stream",
     "text": [
      "EVAL: [8/9] Data 0.003 (0.022) Elapsed 0m 0s (remain 0m 0s) \n",
      "Epoch: [39][0/40] Data 0.040 (0.040) Elapsed 0m 0s (remain 0m 11s) Loss: 0.7005(0.7005) Grad Norm: 2.3424  LR: 1.1732e-04  \n",
      "Epoch: [39][39/40] Data 0.043 (0.046) Elapsed 0m 11s (remain 0m 0s) Loss: 0.5843(0.2910) Grad Norm: 2.1620  LR: 1.1732e-04  \n",
      "EVAL: [0/9] Data 0.024 (0.024) Elapsed 0m 0s (remain 0m 0s) \n"
     ]
    },
    {
     "name": "stderr",
     "output_type": "stream",
     "text": [
      "labels: [8 6 2 3 6]\n",
      "pred_labels: [8 0 2 4 2]\n",
      "Epoch 39 - avg_train_loss: 0.2910  lr: 1.1732e-04  time: 13s\n",
      "Epoch 39 - Score: 0.6385\n"
     ]
    },
    {
     "name": "stdout",
     "output_type": "stream",
     "text": [
      "EVAL: [8/9] Data 0.016 (0.022) Elapsed 0m 0s (remain 0m 0s) \n",
      "Epoch: [40][0/40] Data 0.038 (0.038) Elapsed 0m 0s (remain 0m 11s) Loss: 0.0139(0.0139) Grad Norm: 1.6182  LR: 9.8058e-05  \n",
      "Epoch: [40][39/40] Data 0.052 (0.044) Elapsed 0m 11s (remain 0m 0s) Loss: 0.0016(0.5707) Grad Norm: 0.1007  LR: 9.8058e-05  \n",
      "EVAL: [0/9] Data 0.024 (0.024) Elapsed 0m 0s (remain 0m 0s) \n"
     ]
    },
    {
     "name": "stderr",
     "output_type": "stream",
     "text": [
      "labels: [8 6 2 3 6]\n",
      "pred_labels: [8 0 2 4 2]\n",
      "Epoch 40 - avg_train_loss: 0.5707  lr: 9.8058e-05  time: 13s\n",
      "Epoch 40 - Score: 0.6154\n"
     ]
    },
    {
     "name": "stdout",
     "output_type": "stream",
     "text": [
      "EVAL: [8/9] Data 0.000 (0.020) Elapsed 0m 0s (remain 0m 0s) \n",
      "Epoch: [41][0/40] Data 0.031 (0.031) Elapsed 0m 0s (remain 0m 11s) Loss: 0.0037(0.0037) Grad Norm: 0.2942  LR: 8.0390e-05  \n",
      "Epoch: [41][39/40] Data 0.042 (0.043) Elapsed 0m 11s (remain 0m 0s) Loss: 0.0008(0.4947) Grad Norm: 0.0875  LR: 8.0390e-05  \n",
      "EVAL: [0/9] Data 0.025 (0.025) Elapsed 0m 0s (remain 0m 0s) \n"
     ]
    },
    {
     "name": "stderr",
     "output_type": "stream",
     "text": [
      "labels: [8 6 2 3 6]\n",
      "pred_labels: [8 0 2 4 2]\n",
      "Epoch 41 - avg_train_loss: 0.4947  lr: 8.0390e-05  time: 13s\n",
      "Epoch 41 - Score: 0.6385\n"
     ]
    },
    {
     "name": "stdout",
     "output_type": "stream",
     "text": [
      "EVAL: [8/9] Data 0.003 (0.022) Elapsed 0m 0s (remain 0m 0s) \n",
      "Epoch: [42][0/40] Data 0.049 (0.049) Elapsed 0m 0s (remain 0m 11s) Loss: 0.7275(0.7275) Grad Norm: 8.1820  LR: 6.4381e-05  \n",
      "Epoch: [42][39/40] Data 0.044 (0.043) Elapsed 0m 11s (remain 0m 0s) Loss: 0.5842(0.4921) Grad Norm: 3.2313  LR: 6.4381e-05  \n",
      "EVAL: [0/9] Data 0.025 (0.025) Elapsed 0m 0s (remain 0m 0s) \n"
     ]
    },
    {
     "name": "stderr",
     "output_type": "stream",
     "text": [
      "labels: [8 6 2 3 6]\n",
      "pred_labels: [8 0 2 4 2]\n",
      "Epoch 42 - avg_train_loss: 0.4921  lr: 6.4381e-05  time: 13s\n",
      "Epoch 42 - Score: 0.6077\n"
     ]
    },
    {
     "name": "stdout",
     "output_type": "stream",
     "text": [
      "EVAL: [8/9] Data 0.004 (0.022) Elapsed 0m 0s (remain 0m 0s) \n",
      "Epoch: [43][0/40] Data 0.037 (0.037) Elapsed 0m 0s (remain 0m 11s) Loss: 0.6559(0.6559) Grad Norm: 4.3741  LR: 5.0093e-05  \n",
      "Epoch: [43][39/40] Data 0.043 (0.045) Elapsed 0m 11s (remain 0m 0s) Loss: 0.5449(0.4593) Grad Norm: 4.4957  LR: 5.0093e-05  \n",
      "EVAL: [0/9] Data 0.024 (0.024) Elapsed 0m 0s (remain 0m 0s) \n"
     ]
    },
    {
     "name": "stderr",
     "output_type": "stream",
     "text": [
      "labels: [8 6 2 3 6]\n",
      "pred_labels: [8 0 2 4 0]\n",
      "Epoch 43 - avg_train_loss: 0.4593  lr: 5.0093e-05  time: 13s\n",
      "Epoch 43 - Score: 0.6385\n"
     ]
    },
    {
     "name": "stdout",
     "output_type": "stream",
     "text": [
      "EVAL: [8/9] Data 0.003 (0.022) Elapsed 0m 0s (remain 0m 0s) \n",
      "Epoch: [44][0/40] Data 0.044 (0.044) Elapsed 0m 0s (remain 0m 11s) Loss: 1.0726(1.0726) Grad Norm: 5.9322  LR: 3.7578e-05  \n",
      "Epoch: [44][39/40] Data 0.043 (0.043) Elapsed 0m 11s (remain 0m 0s) Loss: 0.0015(0.3679) Grad Norm: 0.1162  LR: 3.7578e-05  \n",
      "EVAL: [0/9] Data 0.024 (0.024) Elapsed 0m 0s (remain 0m 0s) \n"
     ]
    },
    {
     "name": "stderr",
     "output_type": "stream",
     "text": [
      "labels: [8 6 2 3 6]\n",
      "pred_labels: [8 0 2 4 2]\n",
      "Epoch 44 - avg_train_loss: 0.3679  lr: 3.7578e-05  time: 12s\n",
      "Epoch 44 - Score: 0.6538\n"
     ]
    },
    {
     "name": "stdout",
     "output_type": "stream",
     "text": [
      "EVAL: [8/9] Data 0.003 (0.021) Elapsed 0m 0s (remain 0m 0s) \n",
      "Epoch: [45][0/40] Data 0.046 (0.046) Elapsed 0m 0s (remain 0m 11s) Loss: 0.6466(0.6466) Grad Norm: 2.5075  LR: 2.6881e-05  \n",
      "Epoch: [45][39/40] Data 0.042 (0.044) Elapsed 0m 11s (remain 0m 0s) Loss: 0.8444(0.3459) Grad Norm: 6.7193  LR: 2.6881e-05  \n",
      "EVAL: [0/9] Data 0.025 (0.025) Elapsed 0m 0s (remain 0m 0s) \n"
     ]
    },
    {
     "name": "stderr",
     "output_type": "stream",
     "text": [
      "labels: [8 6 2 3 6]\n",
      "pred_labels: [8 0 2 4 2]\n",
      "Epoch 45 - avg_train_loss: 0.3459  lr: 2.6881e-05  time: 13s\n",
      "Epoch 45 - Score: 0.6692\n"
     ]
    },
    {
     "name": "stdout",
     "output_type": "stream",
     "text": [
      "EVAL: [8/9] Data 0.003 (0.022) Elapsed 0m 0s (remain 0m 0s) \n",
      "Epoch: [46][0/40] Data 0.044 (0.044) Elapsed 0m 0s (remain 0m 11s) Loss: 0.0024(0.0024) Grad Norm: 0.1080  LR: 1.8039e-05  \n",
      "Epoch: [46][39/40] Data 0.049 (0.044) Elapsed 0m 11s (remain 0m 0s) Loss: 0.0165(0.0086) Grad Norm: 1.2457  LR: 1.8039e-05  \n",
      "EVAL: [0/9] Data 0.024 (0.024) Elapsed 0m 0s (remain 0m 0s) \n"
     ]
    },
    {
     "name": "stderr",
     "output_type": "stream",
     "text": [
      "labels: [8 6 2 3 6]\n",
      "pred_labels: [8 0 2 4 2]\n",
      "Epoch 46 - avg_train_loss: 0.0086  lr: 1.8039e-05  time: 13s\n",
      "Epoch 46 - Score: 0.6462\n"
     ]
    },
    {
     "name": "stdout",
     "output_type": "stream",
     "text": [
      "EVAL: [8/9] Data 0.003 (0.022) Elapsed 0m 0s (remain 0m 0s) \n",
      "Epoch: [47][0/40] Data 0.043 (0.043) Elapsed 0m 0s (remain 0m 11s) Loss: 0.0222(0.0222) Grad Norm: 1.6055  LR: 1.1073e-05  \n",
      "Epoch: [47][39/40] Data 0.054 (0.043) Elapsed 0m 11s (remain 0m 0s) Loss: 0.0020(0.0125) Grad Norm: 0.0965  LR: 1.1073e-05  \n",
      "EVAL: [0/9] Data 0.023 (0.023) Elapsed 0m 0s (remain 0m 0s) \n"
     ]
    },
    {
     "name": "stderr",
     "output_type": "stream",
     "text": [
      "labels: [8 6 2 3 6]\n",
      "pred_labels: [8 0 2 4 2]\n",
      "Epoch 47 - avg_train_loss: 0.0125  lr: 1.1073e-05  time: 12s\n",
      "Epoch 47 - Score: 0.6462\n"
     ]
    },
    {
     "name": "stdout",
     "output_type": "stream",
     "text": [
      "EVAL: [8/9] Data 0.003 (0.021) Elapsed 0m 0s (remain 0m 0s) \n",
      "Epoch: [48][0/40] Data 0.047 (0.047) Elapsed 0m 0s (remain 0m 11s) Loss: 0.0015(0.0015) Grad Norm: 0.0650  LR: 5.9882e-06  \n",
      "Epoch: [48][39/40] Data 0.041 (0.043) Elapsed 0m 11s (remain 0m 0s) Loss: 0.0022(0.0077) Grad Norm: 0.1570  LR: 5.9882e-06  \n",
      "EVAL: [0/9] Data 0.024 (0.024) Elapsed 0m 0s (remain 0m 0s) \n"
     ]
    },
    {
     "name": "stderr",
     "output_type": "stream",
     "text": [
      "labels: [8 6 2 3 6]\n",
      "pred_labels: [8 0 2 4 2]\n",
      "Epoch 48 - avg_train_loss: 0.0077  lr: 5.9882e-06  time: 12s\n",
      "Epoch 48 - Score: 0.6385\n"
     ]
    },
    {
     "name": "stdout",
     "output_type": "stream",
     "text": [
      "EVAL: [8/9] Data 0.003 (0.022) Elapsed 0m 0s (remain 0m 0s) \n",
      "Epoch: [49][0/40] Data 0.041 (0.041) Elapsed 0m 0s (remain 0m 11s) Loss: 0.0082(0.0082) Grad Norm: 0.8553  LR: 2.7534e-06  \n",
      "Epoch: [49][39/40] Data 0.046 (0.043) Elapsed 0m 11s (remain 0m 0s) Loss: 0.0016(0.0015) Grad Norm: 0.0971  LR: 2.7534e-06  \n",
      "EVAL: [0/9] Data 0.024 (0.024) Elapsed 0m 0s (remain 0m 0s) \n"
     ]
    },
    {
     "name": "stderr",
     "output_type": "stream",
     "text": [
      "labels: [8 6 2 3 6]\n",
      "pred_labels: [8 0 2 4 2]\n",
      "Epoch 49 - avg_train_loss: 0.0015  lr: 2.7534e-06  time: 12s\n",
      "Epoch 49 - Score: 0.6385\n"
     ]
    },
    {
     "name": "stdout",
     "output_type": "stream",
     "text": [
      "EVAL: [8/9] Data 0.003 (0.022) Elapsed 0m 0s (remain 0m 0s) \n",
      "Epoch: [50][0/40] Data 0.045 (0.045) Elapsed 0m 0s (remain 0m 11s) Loss: 0.0016(0.0016) Grad Norm: 0.1225  LR: 1.2467e-06  \n",
      "Epoch: [50][39/40] Data 0.040 (0.043) Elapsed 0m 11s (remain 0m 0s) Loss: 0.0009(0.0024) Grad Norm: 0.0380  LR: 1.2467e-06  \n",
      "EVAL: [0/9] Data 0.024 (0.024) Elapsed 0m 0s (remain 0m 0s) \n"
     ]
    },
    {
     "name": "stderr",
     "output_type": "stream",
     "text": [
      "labels: [8 6 2 3 6]\n",
      "pred_labels: [8 0 2 4 2]\n",
      "Epoch 50 - avg_train_loss: 0.0024  lr: 1.2467e-06  time: 12s\n",
      "Epoch 50 - Score: 0.6385\n",
      "\n",
      "oof score: 0.6681957186544343\n",
      "\n",
      "\n",
      "train finish!!!\n"
     ]
    },
    {
     "name": "stdout",
     "output_type": "stream",
     "text": [
      "EVAL: [8/9] Data 0.003 (0.021) Elapsed 0m 0s (remain 0m 0s) \n"
     ]
    }
   ],
   "source": [
    "import os\n",
    "import sys\n",
    "import cv2\n",
    "import numpy as np\n",
    "import pandas as pd\n",
    "import matplotlib.pyplot as plt\n",
    "\n",
    "import torch\n",
    "from torch.utils.data import DataLoader, Dataset\n",
    "\n",
    "import albumentations as A\n",
    "from albumentations import Compose\n",
    "from albumentations.pytorch import ToTensorV2\n",
    "\n",
    "# ====================================================\n",
    "# Dataset\n",
    "# ====================================================\n",
    "class TrainDataset(Dataset):\n",
    "    def __init__(self, df, transform=None):\n",
    "        super().__init__()\n",
    "        self.df = df\n",
    "        self.file_paths = df[\"file_path\"].values\n",
    "        self.labels = df[\"label\"].values\n",
    "        self.transform = transform\n",
    "\n",
    "    def __len__(self):\n",
    "        return len(self.df)\n",
    "\n",
    "    def __getitem__(self, idx):\n",
    "        file_path = self.file_paths[idx]\n",
    "        image = cv2.imread(file_path)\n",
    "        image = cv2.cvtColor(image, cv2.COLOR_BGR2RGB).astype(np.float32)\n",
    "        if self.transform:\n",
    "            augmented = self.transform(image=image)\n",
    "            image = augmented[\"image\"]\n",
    "        label = self.labels[idx]\n",
    "        return image, torch.from_numpy(np.array(label)).long()\n",
    "\n",
    "\n",
    "class TestDataset(Dataset):\n",
    "    def __init__(self, df, transform=None):\n",
    "        super().__init__()\n",
    "        self.df = df\n",
    "        self.file_paths = df[\"file_path\"].values\n",
    "        self.transform = transform\n",
    "\n",
    "    def __len__(self):\n",
    "        return len(self.df)\n",
    "\n",
    "    def __getitem__(self, idx):\n",
    "        file_path = self.file_paths[idx]\n",
    "        image = cv2.imread(file_path)\n",
    "        image = cv2.cvtColor(image, cv2.COLOR_BGR2RGB).astype(np.float32)\n",
    "        if self.transform:\n",
    "            augmented = self.transform(image=image)\n",
    "            image = augmented[\"image\"]\n",
    "        return image\n",
    "\n",
    "\n",
    "def get_transforms(*, data):\n",
    "\n",
    "    if data == \"train\":\n",
    "        return A.Compose(\n",
    "            [\n",
    "                A.Resize(CFG.size, CFG.size),\n",
    "                A.HorizontalFlip(p=0.5),\n",
    "                A.ShiftScaleRotate(p=0.5),\n",
    "                A.Normalize(mean=[0.485, 0.456, 0.406], std=[0.229, 0.224, 0.225], max_pixel_value=255.0, p=1.0,),\n",
    "                # Normalizeの前に輝度や明るさ変えたら画像真っ黒になる場合がある\n",
    "                A.OneOf([\n",
    "                    A.ToSepia(p=0.5),\n",
    "                    A.ToGray(p=0.5),\n",
    "                ], p=0.5),\n",
    "                A.CoarseDropout(p=0.5),\n",
    "                A.Cutout(p=0.5),\n",
    "                ToTensorV2(),\n",
    "            ]\n",
    "        )\n",
    "\n",
    "    elif data == \"valid\":\n",
    "        return Compose(\n",
    "            [\n",
    "                A.Resize(CFG.size, CFG.size),\n",
    "                A.Normalize(\n",
    "                    mean=[0.485, 0.456, 0.406], std=[0.229, 0.224, 0.225], max_pixel_value=255.0,\n",
    "                    p=1.0,\n",
    "                ),\n",
    "                ToTensorV2(),\n",
    "            ]\n",
    "        )\n",
    "\n",
    "\n",
    "def collate(batch):\n",
    "    \"\"\"DataLoaderに追加可能なbatchを加工する関数\"\"\"\n",
    "    images, labels = list(zip(*batch))\n",
    "    images = torch.stack(images)\n",
    "    labels = torch.stack(labels)\n",
    "    return images, labels.long()\n",
    "\n",
    "\n",
    "# ====================================================\n",
    "# Library\n",
    "# ====================================================\n",
    "import sys\n",
    "import os\n",
    "import gc\n",
    "import re\n",
    "import math\n",
    "import time\n",
    "import random\n",
    "import yaml\n",
    "import shutil\n",
    "import glob\n",
    "import pickle\n",
    "import pathlib\n",
    "from pathlib import Path\n",
    "from contextlib import contextmanager\n",
    "from collections import defaultdict, Counter\n",
    "from distutils.dir_util import copy_tree\n",
    "\n",
    "import scipy as sp\n",
    "import numpy as np\n",
    "import pandas as pd\n",
    "from tqdm.auto import tqdm\n",
    "\n",
    "from sklearn.metrics import accuracy_score, log_loss\n",
    "from sklearn import preprocessing\n",
    "from sklearn.model_selection import StratifiedKFold, GroupKFold, KFold\n",
    "\n",
    "from functools import partial\n",
    "\n",
    "import cv2\n",
    "from PIL import Image\n",
    "\n",
    "import torch\n",
    "import torch.nn as nn\n",
    "import torch.nn.functional as F\n",
    "from torch.optim import Adam, SGD\n",
    "import torchvision.models as models\n",
    "from torch.nn.parameter import Parameter\n",
    "from torch.utils.data import DataLoader, Dataset\n",
    "from torch.nn.utils.rnn import pad_sequence, pack_padded_sequence  # 文字列の長さを揃えてくれる関数\n",
    "from torch.optim.lr_scheduler import (\n",
    "    CosineAnnealingWarmRestarts,\n",
    "    CosineAnnealingLR,\n",
    "    ReduceLROnPlateau,\n",
    ")\n",
    "from torch.cuda.amp import autocast, GradScaler\n",
    "from torch_optimizer import RAdam, Lookahead\n",
    "\n",
    "import timm\n",
    "\n",
    "import warnings\n",
    "warnings.filterwarnings(\"ignore\")\n",
    "\n",
    "device = torch.device(\"cuda\" if torch.cuda.is_available() else \"cpu\")\n",
    "\n",
    "# ====================================================\n",
    "# Helper functions\n",
    "# ====================================================\n",
    "class AverageMeter(object):\n",
    "    \"\"\"Computes and stores the average and current value\"\"\"\n",
    "\n",
    "    def __init__(self):\n",
    "        self.reset()\n",
    "\n",
    "    def reset(self):\n",
    "        self.val = 0\n",
    "        self.avg = 0\n",
    "        self.sum = 0\n",
    "        self.count = 0\n",
    "\n",
    "    def update(self, val, n=1):\n",
    "        self.val = val\n",
    "        self.sum += val * n\n",
    "        self.count += n\n",
    "        self.avg = self.sum / self.count\n",
    "\n",
    "\n",
    "def asMinutes(s):\n",
    "    m = math.floor(s / 60)\n",
    "    s -= m * 60\n",
    "    return \"%dm %ds\" % (m, s)\n",
    "\n",
    "\n",
    "def timeSince(since, percent):\n",
    "    now = time.time()\n",
    "    s = now - since\n",
    "    es = s / (percent)\n",
    "    rs = es - s\n",
    "    return \"%s (remain %s)\" % (asMinutes(s), asMinutes(rs))\n",
    "\n",
    "\n",
    "class LabelSmoothingCrossEntropy(nn.Module):\n",
    "    # https://build-medical-ai.com/2021/02/21/label-smoothing%EF%BC%88%E3%83%A9%E3%83%99%E3%83%AB%E3%82%B9%E3%83%A0%E3%83%BC%E3%82%B8%E3%83%B3%E3%82%B0%EF%BC%89%E3%82%92pytorch%E3%81%A7%E5%AE%9F%E8%A3%85%E3%81%99%E3%82%8B/\n",
    "    def __init__(self, epsilon=0.1, reduction='mean'):\n",
    "        super().__init__()\n",
    "        self.epsilon = epsilon\n",
    "        self.reduction = reduction\n",
    "\n",
    "    def forward(self, preds, target):\n",
    "        n = preds.size()[-1]\n",
    "        log_preds = F.log_softmax(preds, dim=-1)\n",
    "        loss = LabelSmoothingCrossEntropy.reduce_loss(-log_preds.sum(dim=-1), self.reduction)\n",
    "        nll = F.nll_loss(log_preds, target, reduction=self.reduction)\n",
    "        return LabelSmoothingCrossEntropy.linear_combination(nll, loss/n, self.epsilon)\n",
    "    \n",
    "    @staticmethod\n",
    "    def linear_combination(x, y, epsilon):\n",
    "        return (1 - epsilon) * x + epsilon * y\n",
    "\n",
    "    @staticmethod\n",
    "    def reduce_loss(loss, reduction='mean'):\n",
    "        return loss.mean() if reduction == 'mean' else loss.sum() if reduction == 'sum' else loss\n",
    "    \n",
    "\n",
    "def train_fn(\n",
    "    train_loader, model, criterion, optimizer, epoch, scheduler, device, scaler\n",
    "):\n",
    "    batch_time = AverageMeter()\n",
    "    data_time = AverageMeter()\n",
    "    losses = AverageMeter()\n",
    "    # switch to train mode\n",
    "    model.train()\n",
    "    start = end = time.time()\n",
    "    grad_norm = 0.0\n",
    "    global_step = 0\n",
    "    for step, (images, labels) in enumerate(train_loader):\n",
    "        # measure data loading time\n",
    "        data_time.update(time.time() - end)\n",
    "        images = images.to(device)\n",
    "        labels = labels.to(device)\n",
    "        batch_size = images.size(0)\n",
    "        with autocast():\n",
    "            # ====================================================\n",
    "            # cutmix/fmix/snapmix\n",
    "            # ====================================================\n",
    "            mix_decision = np.random.rand() if epoch < CFG.epochs - 5 else 1.0  # 最後の5epochはmix系なしにする\n",
    "            if mix_decision < CFG.mix_decision_th:\n",
    "                if CFG.mixmethod == \"cutmix\":\n",
    "                    x, y_mixs = cutmix(images, labels.long(), CFG.mix_alpha)\n",
    "                    y_hat = model(x.float())\n",
    "                    loss = criterion(y_hat, y_mixs[0]) * y_mixs[2] + criterion(y_hat, y_mixs[1]) * (1.0 - y_mixs[2])\n",
    "\n",
    "                elif CFG.mixmethod == \"fmix\":\n",
    "                    x, y_mixs = fmix(images, labels.long(), alpha=CFG.mix_alpha, decay_power=5.0, shape=(CFG.size, CFG.size))\n",
    "                    y_hat = model(images.float())\n",
    "                    loss = criterion(y_hat, y_mixs[0]) * y_mixs[2] + criterion(y_hat, y_mixs[1]) * (1.0 - y_mixs[2])\n",
    "\n",
    "                elif CFG.mixmethod == \"resizemix\":\n",
    "                    x, y_mixs = resizemix(images, labels.long(), alpha=CFG.mix_alpha)\n",
    "                    y_hat = model(images.float())\n",
    "                    loss = criterion(y_hat, y_mixs[0]) * y_mixs[2] + criterion(y_hat, y_mixs[1]) * (1.0 - y_mixs[2])\n",
    "                    \n",
    "                else:\n",
    "                    x = images\n",
    "                    y_hat = model(images)\n",
    "\n",
    "                # --- 画像表示（mix画像確認用）---\n",
    "                if CFG.debug:\n",
    "                    try:\n",
    "                        print(\"mix_decision:\", mix_decision)\n",
    "                        fig = plt.figure(figsize=(16, 16))\n",
    "                        for i in range(5):\n",
    "                            print(\"y_hat:\", y_hat[i])\n",
    "                            ax = fig.add_subplot(1, 5, i + 1, xticks=[], yticks=[])\n",
    "                            im = x[i].to(\"cpu\").numpy().transpose(1, 2, 0)\n",
    "                            plt.imshow(im)\n",
    "                        plt.show(); plt.clf(); plt.close()\n",
    "                    except:\n",
    "                        pass\n",
    "                # -----------------------------------------\n",
    "            else:\n",
    "                logits = model(images)\n",
    "                loss = criterion(logits, labels)\n",
    "            \n",
    "            # record loss\n",
    "            losses.update(loss.item(), batch_size)\n",
    "            if CFG.gradient_accumulation_steps > 1:\n",
    "                loss = loss / CFG.gradient_accumulation_steps\n",
    "            scaler.scale(loss).backward()\n",
    "            if (step + 1) % CFG.gradient_accumulation_steps == 0:\n",
    "                scaler.unscale_(optimizer)\n",
    "                grad_norm = torch.nn.utils.clip_grad_norm_(model.parameters(), CFG.max_grad_norm, norm_type=2.0)\n",
    "                scaler.step(optimizer)\n",
    "                scaler.update()\n",
    "                optimizer.zero_grad()\n",
    "                global_step += 1\n",
    "\n",
    "        # measure elapsed time\n",
    "        batch_time.update(time.time() - end)\n",
    "        end = time.time()\n",
    "        if step % CFG.print_freq == 0 or step == (len(train_loader) - 1):\n",
    "            print(\n",
    "                \"Epoch: [{0}][{1}/{2}] \"\n",
    "                \"Data {data_time.val:.3f} ({data_time.avg:.3f}) \"\n",
    "                \"Elapsed {remain:s} \"\n",
    "                \"Loss: {loss.val:.4f}({loss.avg:.4f}) \"\n",
    "                \"Grad Norm: {grad_norm:.4f}  \"\n",
    "                \"LR: {lr:.4e}  \".format(\n",
    "                    epoch + 1,\n",
    "                    step,\n",
    "                    len(train_loader),\n",
    "                    batch_time=batch_time,\n",
    "                    data_time=data_time,\n",
    "                    loss=losses,\n",
    "                    remain=timeSince(start, float(step + 1) / len(train_loader)),\n",
    "                    grad_norm=grad_norm,\n",
    "                    lr=scheduler.get_lr()[0],\n",
    "                )\n",
    "            )\n",
    "\n",
    "    return losses.avg\n",
    "\n",
    "\n",
    "def valid_fn(valid_loader, model, device):\n",
    "    batch_time = AverageMeter()\n",
    "    data_time = AverageMeter()\n",
    "    # switch to evaluation mode\n",
    "    model.eval()\n",
    "    preds = []\n",
    "    start = end = time.time()\n",
    "    for step, (images) in enumerate(valid_loader):\n",
    "        # measure data loading time\n",
    "        data_time.update(time.time() - end)\n",
    "        images = images.to(device)\n",
    "        batch_size = images.size(0)\n",
    "        with torch.no_grad():\n",
    "            with autocast():\n",
    "                #predictions = model.forward_argmax(images)  # ラベルidで出す場合\n",
    "                predictions = model.forward_softmax(images)  # 確信度で出す場合\n",
    "                #predictions = model.forward(images)  # logitで出す場合\n",
    "        pred = predictions.detach().cpu().numpy()\n",
    "        preds.append(pred)\n",
    "        # measure elapsed time\n",
    "        batch_time.update(time.time() - end)\n",
    "        end = time.time()\n",
    "        if step % CFG.print_freq == 0 or step == (len(valid_loader) - 1):\n",
    "            print(\n",
    "                \"EVAL: [{0}/{1}] \"\n",
    "                \"Data {data_time.val:.3f} ({data_time.avg:.3f}) \"\n",
    "                \"Elapsed {remain:s} \".format(\n",
    "                    step,\n",
    "                    len(valid_loader),\n",
    "                    batch_time=batch_time,\n",
    "                    data_time=data_time,\n",
    "                    remain=timeSince(start, float(step + 1) / len(valid_loader)),\n",
    "                )\n",
    "            )\n",
    "    preds = np.concatenate(preds)\n",
    "    return preds\n",
    "\n",
    "\n",
    "# ====================================================\n",
    "# Train loop\n",
    "# ====================================================\n",
    "def train_loop(folds, fold, seed):\n",
    "\n",
    "    LOGGER.info(f\"==================== fold: {fold}, seed: {seed} training ====================\")\n",
    "\n",
    "    # ====================================================\n",
    "    # loader\n",
    "    # ====================================================\n",
    "    trn_idx = folds[folds[\"fold\"] != fold].index\n",
    "    val_idx = folds[folds[\"fold\"] == fold].index\n",
    "\n",
    "    train_folds = folds.loc[trn_idx].reset_index(drop=True)\n",
    "    valid_folds = folds.loc[val_idx].reset_index(drop=True)\n",
    "    valid_labels = valid_folds[\"label\"].values\n",
    "    \n",
    "    # ====================================================\n",
    "    # 疑似ラベルのデータ追加\n",
    "    # ====================================================\n",
    "    if 'pseudo_df' in globals():\n",
    "        train_folds = train_folds.append(pseudo_df)\n",
    "\n",
    "    train_dataset = TrainDataset(train_folds, transform=get_transforms(data=\"train\"))\n",
    "    valid_dataset = TestDataset(valid_folds, transform=get_transforms(data=\"valid\"))\n",
    "\n",
    "    train_loader = DataLoader(\n",
    "        train_dataset,\n",
    "        batch_size=CFG.batch_size,\n",
    "        shuffle=True,\n",
    "        num_workers=CFG.num_workers,\n",
    "        pin_memory=True,\n",
    "        drop_last=True,\n",
    "        collate_fn=collate,\n",
    "    )\n",
    "    valid_loader = DataLoader(\n",
    "        valid_dataset,\n",
    "        batch_size=CFG.batch_size,\n",
    "        shuffle=False,\n",
    "        num_workers=CFG.num_workers,\n",
    "        pin_memory=True,\n",
    "        drop_last=False,\n",
    "    )\n",
    "\n",
    "    # ====================================================\n",
    "    # scheduler\n",
    "    # ====================================================\n",
    "    def get_scheduler(optimizer):\n",
    "        if CFG.scheduler == \"ReduceLROnPlateau\":\n",
    "            scheduler = ReduceLROnPlateau(\n",
    "                optimizer,\n",
    "                mode=\"min\",\n",
    "                factor=CFG.factor,\n",
    "                patience=CFG.patience,\n",
    "                verbose=True,\n",
    "                eps=CFG.eps,\n",
    "            )\n",
    "        elif CFG.scheduler == \"CosineAnnealingLR\":\n",
    "            scheduler = CosineAnnealingLR(\n",
    "                optimizer, T_max=CFG.T_max, eta_min=CFG.min_lr, last_epoch=-1\n",
    "            )\n",
    "        elif CFG.scheduler == \"CosineAnnealingWarmRestarts\":\n",
    "            scheduler = CosineAnnealingWarmRestarts(\n",
    "                optimizer, T_0=CFG.T_0, T_mult=1, eta_min=CFG.min_lr, last_epoch=-1\n",
    "            )\n",
    "        return scheduler\n",
    "\n",
    "    # ====================================================\n",
    "    # model & optimizer\n",
    "    # ====================================================\n",
    "    model = TimmModel(CFG.n_classes, model_name=CFG.model_name, pretrained=True)\n",
    "    model.to(device)\n",
    "\n",
    "    if CFG.optimizer == \"adam\":\n",
    "        optimizer = Adam(\n",
    "            model.parameters(), lr=CFG.lr, amsgrad=False, weight_decay=CFG.weight_decay\n",
    "        )\n",
    "    elif CFG.optimizer == \"radam\":\n",
    "        optimizer = RAdam(model.parameters(), lr=CFG.lr, weight_decay=CFG.weight_decay)\n",
    "        optimizer = Lookahead(optimizer, alpha=0.5, k=5)\n",
    "\n",
    "    scheduler = get_scheduler(optimizer)\n",
    "    scaler = GradScaler()\n",
    "\n",
    "    if os.path.exists(CFG.load_model_path):\n",
    "        # モデルロード\n",
    "        LOGGER.info(\"=> loading checkpoint '{}'\".format(CFG.load_model_path))\n",
    "        states = torch.load(CFG.load_model_path, map_location=torch.device(\"cpu\"))\n",
    "        model.load_state_dict(states[\"model\"])\n",
    "        model.to(device)\n",
    "        if CFG.is_load_opt:\n",
    "            LOGGER.info(\"=> loading optimizer and scheduler\")\n",
    "            optimizer.load_state_dict(states[\"optimizer\"])\n",
    "            scheduler.load_state_dict(states[\"scheduler\"])\n",
    "\n",
    "    # ====================================================\n",
    "    # loop\n",
    "    # ====================================================\n",
    "    if CFG.label_smoothing > 0.0:\n",
    "        criterion = LabelSmoothingCrossEntropy(epsilon=CFG.label_smoothing)\n",
    "    else:\n",
    "        criterion = nn.CrossEntropyLoss()  # loss計算したくないクラスは, ignore_index=1 で指定できる\n",
    "\n",
    "    best_score = -1  # np.inf\n",
    "\n",
    "    for epoch in range(CFG.epochs):\n",
    "\n",
    "        start_time = time.time()\n",
    "\n",
    "        # train\n",
    "        avg_loss = train_fn(\n",
    "            train_loader, model, criterion, optimizer, epoch, scheduler, device, scaler\n",
    "        )\n",
    "\n",
    "        # eval\n",
    "        preds = valid_fn(valid_loader, model, device)\n",
    "        \n",
    "        # 予測がlogitの場合ラベルidに直す\n",
    "        pred_labels = preds.argmax(1) if preds.ndim > 1 else preds\n",
    "        \n",
    "        LOGGER.info(f\"labels: {valid_labels[:5]}\")\n",
    "        LOGGER.info(f\"pred_labels: {pred_labels[:5]}\")\n",
    "        \n",
    "        # scoring\n",
    "        score = get_score(valid_labels, pred_labels)\n",
    "\n",
    "        elapsed = time.time() - start_time\n",
    "\n",
    "        LOGGER.info(\n",
    "            f\"Epoch {epoch+1} - avg_train_loss: {avg_loss:.4f}  lr: {scheduler.get_lr()[0]:.4e}  time: {elapsed:.0f}s\"\n",
    "        )\n",
    "        LOGGER.info(f\"Epoch {epoch+1} - Score: {score:.4f}\")\n",
    "\n",
    "        if isinstance(scheduler, ReduceLROnPlateau):\n",
    "            scheduler.step(score)\n",
    "        elif isinstance(scheduler, CosineAnnealingLR):\n",
    "            scheduler.step()\n",
    "        elif isinstance(scheduler, CosineAnnealingWarmRestarts):\n",
    "            scheduler.step()\n",
    "\n",
    "        if score > best_score:\n",
    "            best_score = score\n",
    "            LOGGER.info(f\"Epoch {epoch+1} - Save Best Score: {best_score:.4f} Model\")\n",
    "            best_pth = OUTPUT_DIR + f\"/fold{fold}_seed{seed}_best.pth\"\n",
    "            torch.save(\n",
    "                {\n",
    "                    \"model\": model.state_dict(),\n",
    "                    \"optimizer\": optimizer.state_dict(),\n",
    "                    \"scheduler\": scheduler.state_dict(),\n",
    "                    \"preds\": preds,\n",
    "                },\n",
    "                best_pth,\n",
    "            )\n",
    "            val_pred_df = pd.DataFrame(\n",
    "                {\"id\": val_idx, \"label\": valid_labels, \"pred\": pred_labels}\n",
    "            )\n",
    "            if preds.ndim > 1:\n",
    "                val_pred_df = pd.concat([val_pred_df, pd.DataFrame(preds)], axis=1)  # 確信度も残す\n",
    "            \n",
    "    return val_pred_df\n",
    "\n",
    "\n",
    "# ====================================================\n",
    "# Utils\n",
    "# ====================================================\n",
    "def get_score(y_true, y_pred):\n",
    "    return accuracy_score(y_true, y_pred)\n",
    "\n",
    "\n",
    "def init_logger(log_file='train.log'):\n",
    "    \"\"\"学習ログファイル出す\"\"\"\n",
    "    from logging import getLogger, INFO, FileHandler,  Formatter,  StreamHandler\n",
    "    logger = getLogger(__name__)\n",
    "    logger.setLevel(INFO)\n",
    "    handler1 = StreamHandler()\n",
    "    handler1.setFormatter(Formatter(\"%(message)s\"))\n",
    "    handler2 = FileHandler(filename=log_file)\n",
    "    handler2.setFormatter(Formatter(\"%(message)s\"))\n",
    "    logger.addHandler(handler1)\n",
    "    logger.addHandler(handler2)\n",
    "    return logger\n",
    "\n",
    "\n",
    "def seed_torch(seed=42):\n",
    "    random.seed(seed)\n",
    "    os.environ['PYTHONHASHSEED'] = str(seed)\n",
    "    np.random.seed(seed)\n",
    "    torch.manual_seed(seed)\n",
    "    torch.cuda.manual_seed(seed)\n",
    "    torch.cuda.manual_seed_all(seed)\n",
    "    torch.backends.cudnn.deterministic = True\n",
    "\n",
    "\n",
    "# ====================================================\n",
    "# CV split\n",
    "# ====================================================\n",
    "def cv_split(df, seed):\n",
    "    folds = df.copy()\n",
    "    cv = StratifiedKFold(n_splits=CFG.n_fold, shuffle=True, random_state=seed)\n",
    "    for j, (train_idx, valid_idx) in enumerate(cv.split(df, df[\"label\"])):\n",
    "        folds.loc[valid_idx, \"fold\"] = int(j)\n",
    "    folds[\"fold\"] = folds[\"fold\"].astype(int)\n",
    "    print(folds.groupby([\"fold\"]).size())\n",
    "    return folds\n",
    "\n",
    "\n",
    "# ====================================================\n",
    "# Model\n",
    "# ====================================================\n",
    "class TimmModel(nn.Module):\n",
    "    def __init__(self, n_classes, model_name=\"resnet18\", pretrained=True):\n",
    "        super().__init__()\n",
    "        self.cnn = timm.create_model(model_name, pretrained=pretrained)\n",
    "        if \"efficient\" in model_name:\n",
    "            self.cnn.classifier = nn.Linear(self.cnn.classifier.in_features, n_classes)\n",
    "        elif \"nfnet\" in model_name:\n",
    "            self.cnn.head.fc = nn.Linear(self.cnn.head.fc.in_features, n_classes)\n",
    "        elif \"vit\" in model_name:\n",
    "            self.cnn.head = nn.Linear(self.cnn.head.in_features, n_classes)\n",
    "        elif \"tnt\" in model_name:\n",
    "            self.cnn.head = nn.Linear(self.cnn.head.in_features, n_classes)\n",
    "        elif \"swin\" in model_name:\n",
    "            self.cnn.head = nn.Linear(self.cnn.head.in_features, n_classes)\n",
    "        elif \"cait\" in model_name:\n",
    "            self.cnn.head = nn.Linear(self.cnn.head.in_features, n_classes)\n",
    "        elif \"mixer\" in model_name:\n",
    "            self.cnn.head = nn.Linear(self.cnn.head.in_features, n_classes)\n",
    "        else:\n",
    "            self.cnn.fc = nn.Linear(self.cnn.fc.in_features, n_classes)\n",
    "\n",
    "    def forward(self, x):\n",
    "        return self.cnn(x)\n",
    "    \n",
    "    def forward_softmax(self, x):\n",
    "        return torch.softmax(self.cnn(x), 1)\n",
    "    \n",
    "    def forward_argmax(self, x):\n",
    "        return self.cnn(x).argmax(1)\n",
    "\n",
    "\n",
    "# ====================================================\n",
    "# LOGGER\n",
    "# ====================================================\n",
    "LOGGER = init_logger(OUTPUT_DIR + \"/train.log\")\n",
    "\n",
    "\n",
    "# ====================================================\n",
    "# main\n",
    "# ====================================================\n",
    "def main(train):\n",
    "    for seed in CFG.seeds:\n",
    "        seed_torch(seed=seed)\n",
    "        \n",
    "        if CFG.debug:\n",
    "            CFG.epochs = 2\n",
    "            train = train.sample(n=300, random_state=seed).reset_index(drop=True)\n",
    "        \n",
    "        folds = cv_split(train, seed)\n",
    "        oof_df = None\n",
    "        for fold in range(CFG.n_fold):\n",
    "            if fold in CFG.trn_fold:\n",
    "                val_pred_df = train_loop(folds, fold, seed)\n",
    "                val_pred_df[\"fold\"] = fold\n",
    "\n",
    "                if oof_df is None:\n",
    "                    oof_df = val_pred_df\n",
    "                else:\n",
    "                    oof_df = oof_df.append(val_pred_df)\n",
    "\n",
    "        oof_df.to_csv(OUTPUT_DIR + f\"/oof_seed{seed}.csv\", index=False)\n",
    "        #display(oof_df)\n",
    "        \n",
    "        LOGGER.info(f\"\\noof score: {get_score(oof_df['label'].values, oof_df['pred'].values)}\\n\")\n",
    "    \n",
    "    # colabは短時間でフdriveにファイル出力多いとエラーになるので最後に保存\n",
    "    # 出力ディレクトリをdriveに保存する\n",
    "    if \"google.colab\" in sys.modules:\n",
    "        copy_tree(OUTPUT_DIR, CP_DIR)\n",
    "\n",
    "if __name__ == '__main__':\n",
    "    print(\"timm version:\", timm.__version__)\n",
    "    print(device)\n",
    "    \n",
    "    main(train)\n",
    "    \n",
    "    LOGGER.info(\"\\ntrain finish!!!\")"
   ]
  },
  {
   "cell_type": "markdown",
   "metadata": {
    "id": "U2KPduCtGPp2"
   },
   "source": [
    "## evaluation"
   ]
  },
  {
   "cell_type": "code",
   "execution_count": 11,
   "metadata": {
    "ExecuteTime": {
     "end_time": "2021-07-02T22:20:18.467447Z",
     "start_time": "2021-07-02T22:19:49.915966Z"
    },
    "id": "8SQXOhuI1rOr",
    "lines_to_next_cell": 2
   },
   "outputs": [
    {
     "name": "stdout",
     "output_type": "stream",
     "text": [
      "================================================== seed0 oof ==================================================\n",
      "oof score: 0.6865443425076453\n"
     ]
    },
    {
     "data": {
      "image/png": "[encoded data removed]",
      "text/plain": [
       "<Figure size 720x576 with 1 Axes>"
      ]
     },
     "metadata": {
      "needs_background": "light"
     },
     "output_type": "display_data"
    },
    {
     "name": "stdout",
     "output_type": "stream",
     "text": [
      "              precision    recall  f1-score   support\n",
      "\n",
      "           0       0.71      0.73      0.72        60\n",
      "           1       0.54      0.36      0.43        42\n",
      "           2       0.64      0.80      0.71       132\n",
      "           3       0.54      0.50      0.52        42\n",
      "           4       0.50      0.52      0.51        42\n",
      "           5       0.67      0.63      0.65        60\n",
      "           6       0.78      0.75      0.77        48\n",
      "           7       0.93      0.93      0.93        30\n",
      "           8       0.88      0.77      0.82        30\n",
      "           9       0.73      0.77      0.75        66\n",
      "          10       0.61      0.57      0.59        30\n",
      "          11       0.83      0.81      0.82        42\n",
      "          12       0.83      0.50      0.62        30\n",
      "\n",
      "    accuracy                           0.69       654\n",
      "   macro avg       0.71      0.66      0.68       654\n",
      "weighted avg       0.69      0.69      0.68       654\n",
      "\n"
     ]
    },
    {
     "data": {
      "image/png": "[encoded data removed]",
      "text/plain": [
       "<Figure size 720x576 with 2 Axes>"
      ]
     },
     "metadata": {
      "needs_background": "light"
     },
     "output_type": "display_data"
    },
    {
     "name": "stdout",
     "output_type": "stream",
     "text": [
      "================================================== seed1 oof ==================================================\n",
      "oof score: 0.6773700305810397\n"
     ]
    },
    {
     "data": {
      "image/png": "[encoded data removed]",
      "text/plain": [
       "<Figure size 720x576 with 1 Axes>"
      ]
     },
     "metadata": {
      "needs_background": "light"
     },
     "output_type": "display_data"
    },
    {
     "name": "stdout",
     "output_type": "stream",
     "text": [
      "              precision    recall  f1-score   support\n",
      "\n",
      "           0       0.59      0.70      0.64        60\n",
      "           1       0.74      0.40      0.52        42\n",
      "           2       0.66      0.83      0.73       132\n",
      "           3       0.45      0.52      0.48        42\n",
      "           4       0.53      0.48      0.50        42\n",
      "           5       0.70      0.63      0.67        60\n",
      "           6       0.74      0.73      0.74        48\n",
      "           7       0.80      0.93      0.86        30\n",
      "           8       0.83      0.80      0.81        30\n",
      "           9       0.78      0.77      0.78        66\n",
      "          10       0.71      0.40      0.51        30\n",
      "          11       0.84      0.74      0.78        42\n",
      "          12       0.61      0.47      0.53        30\n",
      "\n",
      "    accuracy                           0.68       654\n",
      "   macro avg       0.69      0.65      0.66       654\n",
      "weighted avg       0.68      0.68      0.67       654\n",
      "\n"
     ]
    },
    {
     "data": {
      "image/png": "[encoded data removed]",
      "text/plain": [
       "<Figure size 720x576 with 2 Axes>"
      ]
     },
     "metadata": {
      "needs_background": "light"
     },
     "output_type": "display_data"
    },
    {
     "name": "stdout",
     "output_type": "stream",
     "text": [
      "================================================== seed2 oof ==================================================\n",
      "oof score: 0.6681957186544343\n"
     ]
    },
    {
     "data": {
      "image/png": "[encoded data removed]",
      "text/plain": [
       "<Figure size 720x576 with 1 Axes>"
      ]
     },
     "metadata": {
      "needs_background": "light"
     },
     "output_type": "display_data"
    },
    {
     "name": "stdout",
     "output_type": "stream",
     "text": [
      "              precision    recall  f1-score   support\n",
      "\n",
      "           0       0.72      0.63      0.67        60\n",
      "           1       0.57      0.50      0.53        42\n",
      "           2       0.65      0.77      0.70       132\n",
      "           3       0.52      0.55      0.53        42\n",
      "           4       0.63      0.57      0.60        42\n",
      "           5       0.70      0.52      0.60        60\n",
      "           6       0.66      0.69      0.67        48\n",
      "           7       0.72      0.93      0.81        30\n",
      "           8       0.68      0.70      0.69        30\n",
      "           9       0.72      0.77      0.74        66\n",
      "          10       0.73      0.63      0.68        30\n",
      "          11       0.70      0.74      0.72        42\n",
      "          12       0.79      0.50      0.61        30\n",
      "\n",
      "    accuracy                           0.67       654\n",
      "   macro avg       0.68      0.65      0.66       654\n",
      "weighted avg       0.67      0.67      0.66       654\n",
      "\n"
     ]
    },
    {
     "data": {
      "image/png": "[encoded data removed]",
      "text/plain": [
       "<Figure size 720x576 with 2 Axes>"
      ]
     },
     "metadata": {
      "needs_background": "light"
     },
     "output_type": "display_data"
    },
    {
     "name": "stdout",
     "output_type": "stream",
     "text": [
      "================================================== soft_avg_oof ==================================================\n",
      "oof score: 0.7064220183486238\n"
     ]
    },
    {
     "data": {
      "image/png": "[encoded data removed]",
      "text/plain": [
       "<Figure size 720x576 with 1 Axes>"
      ]
     },
     "metadata": {
      "needs_background": "light"
     },
     "output_type": "display_data"
    },
    {
     "name": "stdout",
     "output_type": "stream",
     "text": [
      "              precision    recall  f1-score   support\n",
      "\n",
      "           0       0.68      0.73      0.70        60\n",
      "           1       0.67      0.48      0.56        42\n",
      "           2       0.64      0.82      0.72       132\n",
      "           3       0.52      0.52      0.52        42\n",
      "           4       0.67      0.62      0.64        42\n",
      "           5       0.73      0.62      0.67        60\n",
      "           6       0.78      0.75      0.77        48\n",
      "           7       0.83      0.97      0.89        30\n",
      "           8       0.85      0.77      0.81        30\n",
      "           9       0.75      0.79      0.77        66\n",
      "          10       0.73      0.53      0.62        30\n",
      "          11       0.82      0.76      0.79        42\n",
      "          12       0.81      0.57      0.67        30\n",
      "\n",
      "    accuracy                           0.71       654\n",
      "   macro avg       0.73      0.69      0.70       654\n",
      "weighted avg       0.71      0.71      0.70       654\n",
      "\n"
     ]
    },
    {
     "data": {
      "image/png": "[encoded data removed]",
      "text/plain": [
       "<Figure size 720x576 with 2 Axes>"
      ]
     },
     "metadata": {
      "needs_background": "light"
     },
     "output_type": "display_data"
    }
   ],
   "source": [
    "# ====================================================\n",
    "# Eval OOF\n",
    "# ====================================================\n",
    "import torch\n",
    "import numpy as np\n",
    "import pandas as pd\n",
    "import matplotlib.pyplot as plt\n",
    "import seaborn as sns\n",
    "from sklearn.metrics import accuracy_score, classification_report, confusion_matrix\n",
    "\n",
    "\n",
    "def get_score(y_true, y_pred):\n",
    "    return accuracy_score(y_true, y_pred)\n",
    "\n",
    "\n",
    "def eval_oof_df(oof_df):\n",
    "    \"\"\"oofのスコアや混同行列を可視化する\"\"\"\n",
    "    score = get_score(oof_df['label'].values, oof_df['pred'].values)\n",
    "    print(\"oof score:\", score)\n",
    "    \n",
    "    plt.figure(figsize=(10, 8))\n",
    "    sns.countplot(y=oof_df[\"pred\"], orient=\"v\")\n",
    "    plt.title(\"Prediction distribution\")\n",
    "    plt.show()\n",
    "    \n",
    "    print(classification_report(oof_df[\"label\"], oof_df[\"pred\"]))\n",
    "    \n",
    "    plt.figure(figsize=(10, 8))\n",
    "    sns.heatmap(\n",
    "        confusion_matrix(oof_df[\"label\"], oof_df[\"pred\"]),\n",
    "        annot=True,\n",
    "        cmap=\"Blues\",\n",
    "    )\n",
    "    plt.title(\"OOF confusion matrix\")\n",
    "    plt.show()\n",
    "    \n",
    "    \n",
    "def get_soft_avg_oof_df():\n",
    "    \"\"\"seedごとのoofをロードして確信度を単純平均する\"\"\"\n",
    "    oof_avg = None\n",
    "    for seed in CFG.seeds:\n",
    "        oof_df = pd.read_csv(OUTPUT_DIR + f\"/oof_seed{seed}.csv\")\n",
    "        df = oof_df[[\"id\", \"label\"]]\n",
    "        preds = None\n",
    "        for fold in range(CFG.n_fold):\n",
    "            states = torch.load(OUTPUT_DIR + f\"/fold{CFG.trn_fold[fold]}_seed{seed}_best.pth\", map_location=torch.device(\"cpu\"))\n",
    "            preds = states[\"preds\"] if preds is None else np.concatenate([preds, states[\"preds\"]])\n",
    "        preds = pd.DataFrame(preds)\n",
    "        df = df.join(preds).sort_values(by='id')\n",
    "        df = df.reset_index(drop=True)\n",
    "        oof_avg = df if oof_avg is None else oof_avg + df\n",
    "    oof_avg = oof_avg / len(CFG.seeds)\n",
    "\n",
    "    label = oof_avg[\"label\"].astype(int).values\n",
    "    pred_label = np.argmax(oof_avg[list(range(CFG.n_classes))].values, 1)\n",
    "    oof_avg_label = pd.DataFrame({\"label\": label, \"pred\": pred_label})\n",
    "    \n",
    "    return oof_avg, oof_avg_label\n",
    "\n",
    "    \n",
    "if __name__ == '__main__':\n",
    "    for seed in CFG.seeds:\n",
    "        print(\"=\"*50, f\"seed{seed} oof\", \"=\"*50)\n",
    "        oof_df = pd.read_csv(OUTPUT_DIR + f\"/oof_seed{seed}.csv\")\n",
    "        eval_oof_df(oof_df)\n",
    "    \n",
    "    print(\"=\"*50, \"soft_avg_oof\", \"=\"*50)\n",
    "    oof_avg, oof_avg_label = get_soft_avg_oof_df()\n",
    "    eval_oof_df(oof_avg_label)\n",
    "    \n",
    "    oof_avg.to_csv(OUTPUT_DIR + f\"/soft_avg_oof.csv\", index=False)\n",
    "    # driveに保存する\n",
    "    if \"google.colab\" in sys.modules:\n",
    "        shutil.copyfile(OUTPUT_DIR + f\"/soft_avg_oof.csv\", CP_DIR + f\"/{NAME}_soft_avg_oof.csv\")"
   ]
  },
  {
   "cell_type": "code",
   "execution_count": null,
   "metadata": {
    "id": "piK_P4GcGPp4"
   },
   "outputs": [],
   "source": []
  }
 ],
 "metadata": {
  "accelerator": "GPU",
  "colab": {
   "collapsed_sections": [],
   "machine_shape": "hm",
   "name": "ex16_pseudo3_train.ipynb",
   "provenance": []
  },
  "hide_input": false,
  "jupytext": {
   "encoding": "# -*- coding: utf-8 -*-",
   "text_representation": {
    "extension": ".py",
    "format_name": "light",
    "format_version": "1.5",
    "jupytext_version": "1.7.1"
   }
  },
  "kernelspec": {
   "display_name": "Python 3 (ipykernel)",
   "language": "python",
   "name": "python3"
  },
  "language_info": {
   "codemirror_mode": {
    "name": "ipython",
    "version": 3
   },
   "file_extension": ".py",
   "mimetype": "text/x-python",
   "name": "python",
   "nbconvert_exporter": "python",
   "pygments_lexer": "ipython3",
   "version": "3.8.10"
  }
 },
 "nbformat": 4,
 "nbformat_minor": 4
}
