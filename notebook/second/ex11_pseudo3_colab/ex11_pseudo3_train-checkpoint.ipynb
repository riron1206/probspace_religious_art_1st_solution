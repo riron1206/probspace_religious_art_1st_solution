{
 "cells": [
  {
   "cell_type": "code",
   "execution_count": 1,
   "metadata": {
    "ExecuteTime": {
     "end_time": "2021-07-01T12:40:25.790534Z",
     "start_time": "2021-07-01T12:40:25.787534Z"
    },
    "executionInfo": {
     "elapsed": 359,
     "status": "ok",
     "timestamp": 1625251678447,
     "user": {
      "displayName": "Shingo Yokoi",
      "photoUrl": "",
      "userId": "16552018841329203618"
     },
     "user_tz": -540
    },
    "id": "dsgENkij3Dwm"
   },
   "outputs": [],
   "source": [
    "NAME = \"ex11_pseudo3\""
   ]
  },
  {
   "cell_type": "markdown",
   "metadata": {
    "id": "SVbuc-QmGPpv"
   },
   "source": [
    "## colab"
   ]
  },
  {
   "cell_type": "code",
   "execution_count": 2,
   "metadata": {
    "ExecuteTime": {
     "end_time": "2021-07-01T12:40:25.864559Z",
     "start_time": "2021-07-01T12:40:25.791533Z"
    },
    "colab": {
     "base_uri": "https://localhost:8080/"
    },
    "executionInfo": {
     "elapsed": 8,
     "status": "ok",
     "timestamp": 1625251678448,
     "user": {
      "displayName": "Shingo Yokoi",
      "photoUrl": "",
      "userId": "16552018841329203618"
     },
     "user_tz": -540
    },
    "id": "UEg_x7oyXaEN",
    "outputId": "2cd57857-c454-4397-acb5-5d8aea742739"
   },
   "outputs": [
    {
     "name": "stdout",
     "output_type": "stream",
     "text": [
      "Fri Jul  2 18:47:58 2021       \n",
      "+-----------------------------------------------------------------------------+\n",
      "| NVIDIA-SMI 465.27       Driver Version: 460.32.03    CUDA Version: 11.2     |\n",
      "|-------------------------------+----------------------+----------------------+\n",
      "| GPU  Name        Persistence-M| Bus-Id        Disp.A | Volatile Uncorr. ECC |\n",
      "| Fan  Temp  Perf  Pwr:Usage/Cap|         Memory-Usage | GPU-Util  Compute M. |\n",
      "|                               |                      |               MIG M. |\n",
      "|===============================+======================+======================|\n",
      "|   0  Tesla P100-PCIE...  Off  | 00000000:00:04.0 Off |                    0 |\n",
      "| N/A   37C    P0    27W / 250W |      0MiB / 16280MiB |      0%      Default |\n",
      "|                               |                      |                  N/A |\n",
      "+-------------------------------+----------------------+----------------------+\n",
      "                                                                               \n",
      "+-----------------------------------------------------------------------------+\n",
      "| Processes:                                                                  |\n",
      "|  GPU   GI   CI        PID   Type   Process name                  GPU Memory |\n",
      "|        ID   ID                                                   Usage      |\n",
      "|=============================================================================|\n",
      "|  No running processes found                                                 |\n",
      "+-----------------------------------------------------------------------------+\n"
     ]
    }
   ],
   "source": [
    "!nvidia-smi"
   ]
  },
  {
   "cell_type": "code",
   "execution_count": 3,
   "metadata": {
    "ExecuteTime": {
     "end_time": "2021-07-01T12:40:25.868555Z",
     "start_time": "2021-07-01T12:40:25.865533Z"
    },
    "colab": {
     "base_uri": "https://localhost:8080/"
    },
    "executionInfo": {
     "elapsed": 17765,
     "status": "ok",
     "timestamp": 1625251696210,
     "user": {
      "displayName": "Shingo Yokoi",
      "photoUrl": "",
      "userId": "16552018841329203618"
     },
     "user_tz": -540
    },
    "id": "PEBtWXxWXdM0",
    "outputId": "acc21bc7-b7ee-422c-cdf0-3576771ca70e"
   },
   "outputs": [
    {
     "name": "stdout",
     "output_type": "stream",
     "text": [
      "Mounted at /content/drive\n"
     ]
    }
   ],
   "source": [
    "# ドライブをマウント\n",
    "import sys\n",
    "if 'google.colab' in sys.modules:\n",
    "    from google.colab import drive\n",
    "    drive.mount('/content/drive')"
   ]
  },
  {
   "cell_type": "code",
   "execution_count": 4,
   "metadata": {
    "ExecuteTime": {
     "end_time": "2021-07-01T12:40:26.581781Z",
     "start_time": "2021-07-01T12:40:25.869535Z"
    },
    "executionInfo": {
     "elapsed": 3939,
     "status": "ok",
     "timestamp": 1625251700142,
     "user": {
      "displayName": "Shingo Yokoi",
      "photoUrl": "",
      "userId": "16552018841329203618"
     },
     "user_tz": -540
    },
    "id": "2dtYIxz3XYNq"
   },
   "outputs": [],
   "source": [
    "import os, sys\n",
    "\n",
    "if \"google.colab\" in sys.modules:\n",
    "    CP_DIR = f\"/content/drive/MyDrive/Work/probspace_religious_art/notebook/{NAME}_colab/output\"\n",
    "    OUTPUT_DIR = \"output\"\n",
    "    INPUT_DIR = \"./eda_output/output\"\n",
    "    PSEUDO_CSV = \"/content/drive/MyDrive/Work/probspace_religious_art/notebook/local_data/ex11_ex16_big_logit_test_is06789_11.csv\"  # ex11_ex16_big_logit_test.ipynb より\n",
    "    sys.path.append(\"/content/drive/MyDrive/Work/probspace_religious_art/code\")\n",
    "elif \"kaggle_web_client\" in sys.modules:\n",
    "    pass\n",
    "elif \"/kqi/output\" in os.getcwd():\n",
    "    pass\n",
    "else:\n",
    "    # local\n",
    "    CP_DIR = \"output\"\n",
    "    OUTPUT_DIR = \"output\"\n",
    "    INPUT_DIR = \"../../eda/output\"\n",
    "    PSEUDO_CSV = \"../../first/make_pseudo_label/ex11_ex16_big_logit_test_is06789_11.csv\"  # ex11_ex16_big_logit_test.ipynb より\n",
    "    sys.path.append(\"../../../code\")\n",
    "    sys.path.append('../../../Git/Ranger-Deep-Learning-Optimizer')\n",
    "    sys.path.append('../../../Git/pytorch-optimizer')\n",
    "\n",
    "from mix_aug import cutmix, fmix, snapmix, SnapMixLoss, resizemix\n",
    "\n",
    "\n",
    "os.makedirs(CP_DIR, exist_ok=True)\n",
    "os.makedirs(OUTPUT_DIR, exist_ok=True)"
   ]
  },
  {
   "cell_type": "code",
   "execution_count": 5,
   "metadata": {
    "ExecuteTime": {
     "end_time": "2021-07-01T12:40:26.587754Z",
     "start_time": "2021-07-01T12:40:26.582779Z"
    },
    "executionInfo": {
     "elapsed": 776,
     "status": "ok",
     "timestamp": 1625251700913,
     "user": {
      "displayName": "Shingo Yokoi",
      "photoUrl": "",
      "userId": "16552018841329203618"
     },
     "user_tz": -540
    },
    "id": "IpXcUizxZHLC"
   },
   "outputs": [],
   "source": [
    "# driveからzipコピーしてくる\n",
    "if os.getcwd() == \"/content\" and os.path.exists(INPUT_DIR) == False:\n",
    "    !mkdir -p \"./eda_output\"\n",
    "    !cp -r \"/content/drive/MyDrive/Work/probspace_religious_art/notebook/eda/output.zip\" \"./eda_output\"\n",
    "    !unzip -qq \"./eda_output/output.zip\" -d \"./eda_output\"\n",
    "    pass"
   ]
  },
  {
   "cell_type": "code",
   "execution_count": 6,
   "metadata": {
    "ExecuteTime": {
     "end_time": "2021-07-01T12:40:26.594754Z",
     "start_time": "2021-07-01T12:40:26.588755Z"
    },
    "colab": {
     "base_uri": "https://localhost:8080/"
    },
    "executionInfo": {
     "elapsed": 13327,
     "status": "ok",
     "timestamp": 1625251714236,
     "user": {
      "displayName": "Shingo Yokoi",
      "photoUrl": "",
      "userId": "16552018841329203618"
     },
     "user_tz": -540
    },
    "id": "ceROAHh1X3rr",
    "outputId": "6ddd2fb4-a968-4610-c44f-0c152173efa1",
    "scrolled": true
   },
   "outputs": [
    {
     "name": "stdout",
     "output_type": "stream",
     "text": [
      "Collecting albumentations\n",
      "\u001b[?25l  Downloading https://files.pythonhosted.org/packages/b0/be/3db3cd8af771988748f69eace42047d5edebf01eaa7e1293f3b3f75f989e/albumentations-1.0.0-py3-none-any.whl (98kB)\n",
      "\u001b[K     |████████████████████████████████| 102kB 3.2MB/s ta 0:00:011\n",
      "\u001b[?25hRequirement already satisfied, skipping upgrade: PyYAML in /usr/local/lib/python3.7/dist-packages (from albumentations) (3.13)\n",
      "Collecting opencv-python-headless>=4.1.1\n",
      "\u001b[?25l  Downloading https://files.pythonhosted.org/packages/c3/35/bfc76533f2274cd3da4e2cf255cd13ab9d7f6fc8990c06911e7f8fcc2130/opencv_python_headless-4.5.2.54-cp37-cp37m-manylinux2014_x86_64.whl (38.2MB)\n",
      "\u001b[K     |████████████████████████████████| 38.2MB 97kB/s \n",
      "\u001b[?25hRequirement already satisfied, skipping upgrade: numpy>=1.11.1 in /usr/local/lib/python3.7/dist-packages (from albumentations) (1.19.5)\n",
      "Requirement already satisfied, skipping upgrade: scikit-image>=0.16.1 in /usr/local/lib/python3.7/dist-packages (from albumentations) (0.16.2)\n",
      "Requirement already satisfied, skipping upgrade: scipy in /usr/local/lib/python3.7/dist-packages (from albumentations) (1.4.1)\n",
      "Requirement already satisfied, skipping upgrade: networkx>=2.0 in /usr/local/lib/python3.7/dist-packages (from scikit-image>=0.16.1->albumentations) (2.5.1)\n",
      "Requirement already satisfied, skipping upgrade: matplotlib!=3.0.0,>=2.0.0 in /usr/local/lib/python3.7/dist-packages (from scikit-image>=0.16.1->albumentations) (3.2.2)\n",
      "Requirement already satisfied, skipping upgrade: imageio>=2.3.0 in /usr/local/lib/python3.7/dist-packages (from scikit-image>=0.16.1->albumentations) (2.4.1)\n",
      "Requirement already satisfied, skipping upgrade: PyWavelets>=0.4.0 in /usr/local/lib/python3.7/dist-packages (from scikit-image>=0.16.1->albumentations) (1.1.1)\n",
      "Requirement already satisfied, skipping upgrade: pillow>=4.3.0 in /usr/local/lib/python3.7/dist-packages (from scikit-image>=0.16.1->albumentations) (7.1.2)\n",
      "Requirement already satisfied, skipping upgrade: decorator<5,>=4.3 in /usr/local/lib/python3.7/dist-packages (from networkx>=2.0->scikit-image>=0.16.1->albumentations) (4.4.2)\n",
      "Requirement already satisfied, skipping upgrade: pyparsing!=2.0.4,!=2.1.2,!=2.1.6,>=2.0.1 in /usr/local/lib/python3.7/dist-packages (from matplotlib!=3.0.0,>=2.0.0->scikit-image>=0.16.1->albumentations) (2.4.7)\n",
      "Requirement already satisfied, skipping upgrade: python-dateutil>=2.1 in /usr/local/lib/python3.7/dist-packages (from matplotlib!=3.0.0,>=2.0.0->scikit-image>=0.16.1->albumentations) (2.8.1)\n",
      "Requirement already satisfied, skipping upgrade: cycler>=0.10 in /usr/local/lib/python3.7/dist-packages (from matplotlib!=3.0.0,>=2.0.0->scikit-image>=0.16.1->albumentations) (0.10.0)\n",
      "Requirement already satisfied, skipping upgrade: kiwisolver>=1.0.1 in /usr/local/lib/python3.7/dist-packages (from matplotlib!=3.0.0,>=2.0.0->scikit-image>=0.16.1->albumentations) (1.3.1)\n",
      "Requirement already satisfied, skipping upgrade: six>=1.5 in /usr/local/lib/python3.7/dist-packages (from python-dateutil>=2.1->matplotlib!=3.0.0,>=2.0.0->scikit-image>=0.16.1->albumentations) (1.15.0)\n",
      "Installing collected packages: opencv-python-headless, albumentations\n",
      "  Found existing installation: albumentations 0.1.12\n",
      "    Uninstalling albumentations-0.1.12:\n",
      "      Successfully uninstalled albumentations-0.1.12\n",
      "Successfully installed albumentations-1.0.0 opencv-python-headless-4.5.2.54\n",
      "Collecting timm\n",
      "\u001b[?25l  Downloading https://files.pythonhosted.org/packages/90/fc/606bc5cf46acac3aa9bd179b3954433c026aaf88ea98d6b19f5d14c336da/timm-0.4.12-py3-none-any.whl (376kB)\n",
      "\u001b[K     |████████████████████████████████| 378kB 3.9MB/s \n",
      "\u001b[?25hRequirement already satisfied, skipping upgrade: torchvision in /usr/local/lib/python3.7/dist-packages (from timm) (0.10.0+cu102)\n",
      "Requirement already satisfied, skipping upgrade: torch>=1.4 in /usr/local/lib/python3.7/dist-packages (from timm) (1.9.0+cu102)\n",
      "Requirement already satisfied, skipping upgrade: numpy in /usr/local/lib/python3.7/dist-packages (from torchvision->timm) (1.19.5)\n",
      "Requirement already satisfied, skipping upgrade: pillow>=5.3.0 in /usr/local/lib/python3.7/dist-packages (from torchvision->timm) (7.1.2)\n",
      "Requirement already satisfied, skipping upgrade: typing-extensions in /usr/local/lib/python3.7/dist-packages (from torch>=1.4->timm) (3.7.4.3)\n",
      "Installing collected packages: timm\n",
      "Successfully installed timm-0.4.12\n",
      "Collecting torch-optimizer\n",
      "\u001b[?25l  Downloading https://files.pythonhosted.org/packages/af/0f/bc49a0f714a1896b80f31db9ba82eebcb2bad9e0f5757184574f8ecfe2f1/torch_optimizer-0.1.0-py3-none-any.whl (72kB)\n",
      "\u001b[K     |████████████████████████████████| 81kB 2.8MB/s \n",
      "\u001b[?25hCollecting pytorch-ranger>=0.1.1\n",
      "  Downloading https://files.pythonhosted.org/packages/0d/70/12256257d861bbc3e176130d25be1de085ce7a9e60594064888a950f2154/pytorch_ranger-0.1.1-py3-none-any.whl\n",
      "Requirement already satisfied: torch>=1.1.0 in /usr/local/lib/python3.7/dist-packages (from torch-optimizer) (1.9.0+cu102)\n",
      "Requirement already satisfied: typing-extensions in /usr/local/lib/python3.7/dist-packages (from torch>=1.1.0->torch-optimizer) (3.7.4.3)\n",
      "Installing collected packages: pytorch-ranger, torch-optimizer\n",
      "Successfully installed pytorch-ranger-0.1.1 torch-optimizer-0.1.0\n"
     ]
    }
   ],
   "source": [
    "# colabで足りないライブラリinstall\n",
    "import os, sys\n",
    "if (\"google.colab\" in sys.modules) or (\"kaggle_web_client\" in sys.modules) or (\"/kqi/output\" in os.getcwd()):\n",
    "    !pip install --upgrade albumentations\n",
    "    !pip install --upgrade timm\n",
    "    !pip install torch-optimizer\n",
    "    pass"
   ]
  },
  {
   "cell_type": "markdown",
   "metadata": {
    "id": "jAFnZrU0GPpx"
   },
   "source": [
    "## data load"
   ]
  },
  {
   "cell_type": "code",
   "execution_count": 7,
   "metadata": {
    "ExecuteTime": {
     "end_time": "2021-07-01T12:40:26.779756Z",
     "start_time": "2021-07-01T12:40:26.596754Z"
    },
    "executionInfo": {
     "elapsed": 7,
     "status": "ok",
     "timestamp": 1625251714237,
     "user": {
      "displayName": "Shingo Yokoi",
      "photoUrl": "",
      "userId": "16552018841329203618"
     },
     "user_tz": -540
    },
    "id": "o8Y454EJXYNt"
   },
   "outputs": [],
   "source": [
    "import pandas as pd\n",
    "\n",
    "# ====================================================\n",
    "# Data Load\n",
    "# ====================================================\n",
    "def get_train_file_path(image_id):\n",
    "    return f\"{INPUT_DIR}/train/{str(image_id)}.jpg\"\n",
    "\n",
    "train = pd.read_csv(INPUT_DIR + \"/train.csv\")\n",
    "train[\"file_path\"] = train[\"image_id\"].apply(get_train_file_path)\n",
    "n_classes = 13"
   ]
  },
  {
   "cell_type": "code",
   "execution_count": 8,
   "metadata": {
    "ExecuteTime": {
     "end_time": "2021-07-01T12:40:26.808754Z",
     "start_time": "2021-07-01T12:40:26.794780Z"
    },
    "executionInfo": {
     "elapsed": 366,
     "status": "ok",
     "timestamp": 1625251714598,
     "user": {
      "displayName": "Shingo Yokoi",
      "photoUrl": "",
      "userId": "16552018841329203618"
     },
     "user_tz": -540
    },
    "id": "VgGXy0y_GPpy"
   },
   "outputs": [],
   "source": [
    "import numpy as np\n",
    "import pandas as pd\n",
    "\n",
    "# ====================================================\n",
    "# 疑似ラベルのデータ\n",
    "# ====================================================\n",
    "def get_test_file_path(image_id):\n",
    "    return f\"{INPUT_DIR}/test/{str(image_id)}.jpg\"\n",
    "\n",
    "pseudo_df = pd.read_csv(PSEUDO_CSV)\n",
    "pseudo_df = pseudo_df.rename(columns={\"pred_label\":\"label\"})\n",
    "pseudo_df = pseudo_df[[\"image_id\", \"label\", \"file_path\"]]\n",
    "pseudo_df[\"fold\"] = np.nan\n",
    "pseudo_df[\"file_path\"] = pseudo_df[\"image_id\"].apply(get_test_file_path)"
   ]
  },
  {
   "cell_type": "markdown",
   "metadata": {
    "id": "qARZgTpKXYNt"
   },
   "source": [
    "## train"
   ]
  },
  {
   "cell_type": "code",
   "execution_count": 9,
   "metadata": {
    "ExecuteTime": {
     "end_time": "2021-07-01T12:40:26.835754Z",
     "start_time": "2021-07-01T12:40:26.809753Z"
    },
    "executionInfo": {
     "elapsed": 5,
     "status": "ok",
     "timestamp": 1625251714598,
     "user": {
      "displayName": "Shingo Yokoi",
      "photoUrl": "",
      "userId": "16552018841329203618"
     },
     "user_tz": -540
    },
    "id": "VilK3enmXYNt"
   },
   "outputs": [],
   "source": [
    "import os, yaml, shutil\n",
    "\n",
    "# ====================================================\n",
    "# Param\n",
    "# ====================================================\n",
    "epochs = 35\n",
    "class Config:\n",
    "    def __init__(self):\n",
    "        self.name = NAME\n",
    "        self.debug = False\n",
    "        self.size = 384\n",
    "        self.batch_size = 16\n",
    "        self.num_workers = os.cpu_count() if (\"google.colab\" in sys.modules) or (\"kaggle_web_client\" in sys.modules) or (\"/kqi/output\" in os.getcwd()) else 0\n",
    "        self.seeds = [0,1,2]\n",
    "        self.n_fold = 5\n",
    "        self.trn_fold = [0,1,2,3,4]\n",
    "        self.n_classes = n_classes\n",
    "        self.lr = 1e-3\n",
    "        self.min_lr = 1e-6\n",
    "        self.weight_decay = 0  # 1e-6\n",
    "        self.optimizer = \"radam\"\n",
    "        self.scheduler = \"CosineAnnealingLR\"\n",
    "        self.T_max = epochs\n",
    "        self.gradient_accumulation_steps = 1\n",
    "        self.max_grad_norm = 5\n",
    "        self.model_name = \"swin_base_patch4_window12_384_in22k\"  # ex11_colab\n",
    "        self.load_model_path = \"none\"\n",
    "        self.is_load_opt = True\n",
    "        self.epochs = epochs\n",
    "        self.print_freq = 10000  # 学習結果をprintするstep数\n",
    "        self.label_smoothing = 0.0\n",
    "        self.mix_decision_th = 0.5  # cutmixなどの発生確率\n",
    "        self.mixmethod = \"cutmix\"\n",
    "        self.mix_alpha = 1.0\n",
    "        self.pseudo_label = str(pseudo_df.shape) if 'pseudo_df' in globals() else None  # 疑似ラベルのshape\n",
    "CFG = Config()\n",
    "\n",
    "with open(OUTPUT_DIR + \"/cfg.yaml\", \"w\") as wf:\n",
    "    yaml.dump(CFG.__dict__, wf)"
   ]
  },
  {
   "cell_type": "code",
   "execution_count": 10,
   "metadata": {
    "ExecuteTime": {
     "start_time": "2021-07-01T12:40:25.795Z"
    },
    "code_folding": [
     39,
     59,
     160,
     179,
     185,
     193,
     218
    ],
    "colab": {
     "base_uri": "https://localhost:8080/"
    },
    "executionInfo": {
     "elapsed": 30081783,
     "status": "ok",
     "timestamp": 1625281796378,
     "user": {
      "displayName": "Shingo Yokoi",
      "photoUrl": "",
      "userId": "16552018841329203618"
     },
     "user_tz": -540
    },
    "id": "bbrYnpbxXYNu",
    "lines_to_next_cell": 0,
    "outputId": "c3c35b48-a2ab-4988-b478-5ce30a454d18",
    "scrolled": true
   },
   "outputs": [
    {
     "name": "stderr",
     "output_type": "stream",
     "text": [
      "==================== fold: 0, seed: 0 training ====================\n"
     ]
    },
    {
     "name": "stdout",
     "output_type": "stream",
     "text": [
      "timm version: 0.4.12\n",
      "cuda\n",
      "fold\n",
      "0    131\n",
      "1    131\n",
      "2    131\n",
      "3    131\n",
      "4    130\n",
      "dtype: int64\n"
     ]
    },
    {
     "name": "stderr",
     "output_type": "stream",
     "text": [
      "Downloading: \"https://github.com/SwinTransformer/storage/releases/download/v1.0.0/swin_base_patch4_window12_384_22k.pth\" to /root/.cache/torch/hub/checkpoints/swin_base_patch4_window12_384_22k.pth\n"
     ]
    },
    {
     "name": "stdout",
     "output_type": "stream",
     "text": [
      "Epoch: [1][0/40] Data 0.749 (0.749) Elapsed 0m 2s (remain 1m 34s) Loss: 2.7487(2.7487) Grad Norm: inf  LR: 1.0000e-03  \n",
      "Epoch: [1][39/40] Data 0.000 (0.019) Elapsed 0m 51s (remain 0m 0s) Loss: 2.5765(2.5298) Grad Norm: 8.4917  LR: 1.0000e-03  \n",
      "EVAL: [0/9] Data 0.390 (0.390) Elapsed 0m 0s (remain 0m 6s) \n"
     ]
    },
    {
     "name": "stderr",
     "output_type": "stream",
     "text": [
      "labels: [11  6  2  2  4]\n",
      "pred_labels: [2 2 5 2 2]\n",
      "Epoch 1 - avg_train_loss: 2.5298  lr: 1.0000e-03  time: 56s\n",
      "Epoch 1 - Score: 0.2366\n",
      "Epoch 1 - Save Best Score: 0.2366 Model\n"
     ]
    },
    {
     "name": "stdout",
     "output_type": "stream",
     "text": [
      "EVAL: [8/9] Data 0.000 (0.044) Elapsed 0m 4s (remain 0m 0s) \n",
      "Epoch: [2][0/40] Data 0.610 (0.610) Elapsed 0m 1s (remain 1m 13s) Loss: 2.3512(2.3512) Grad Norm: 15.5018  LR: 9.9598e-04  \n",
      "Epoch: [2][39/40] Data 0.000 (0.015) Elapsed 0m 51s (remain 0m 0s) Loss: 1.7400(2.1381) Grad Norm: 15.1476  LR: 9.9598e-04  \n",
      "EVAL: [0/9] Data 0.372 (0.372) Elapsed 0m 0s (remain 0m 6s) \n"
     ]
    },
    {
     "name": "stderr",
     "output_type": "stream",
     "text": [
      "labels: [11  6  2  2  4]\n",
      "pred_labels: [2 2 5 2 2]\n",
      "Epoch 2 - avg_train_loss: 2.1381  lr: 9.9598e-04  time: 56s\n",
      "Epoch 2 - Score: 0.4275\n",
      "Epoch 2 - Save Best Score: 0.4275 Model\n"
     ]
    },
    {
     "name": "stdout",
     "output_type": "stream",
     "text": [
      "EVAL: [8/9] Data 0.000 (0.042) Elapsed 0m 4s (remain 0m 0s) \n",
      "Epoch: [3][0/40] Data 0.531 (0.531) Elapsed 0m 1s (remain 1m 10s) Loss: 1.2984(1.2984) Grad Norm: 18.3904  LR: 9.8599e-04  \n",
      "Epoch: [3][39/40] Data 0.000 (0.013) Elapsed 0m 51s (remain 0m 0s) Loss: 1.8252(1.8333) Grad Norm: 9.2255  LR: 9.8599e-04  \n",
      "EVAL: [0/9] Data 0.451 (0.451) Elapsed 0m 0s (remain 0m 7s) \n"
     ]
    },
    {
     "name": "stderr",
     "output_type": "stream",
     "text": [
      "labels: [11  6  2  2  4]\n",
      "pred_labels: [11  2  2  3  2]\n",
      "Epoch 3 - avg_train_loss: 1.8333  lr: 9.8599e-04  time: 56s\n",
      "Epoch 3 - Score: 0.4733\n",
      "Epoch 3 - Save Best Score: 0.4733 Model\n"
     ]
    },
    {
     "name": "stdout",
     "output_type": "stream",
     "text": [
      "EVAL: [8/9] Data 0.000 (0.050) Elapsed 0m 4s (remain 0m 0s) \n",
      "Epoch: [4][0/40] Data 0.453 (0.453) Elapsed 0m 1s (remain 1m 8s) Loss: 1.1127(1.1127) Grad Norm: 10.4862  LR: 9.7213e-04  \n",
      "Epoch: [4][39/40] Data 0.000 (0.011) Elapsed 0m 51s (remain 0m 0s) Loss: 1.5466(1.5201) Grad Norm: 15.7092  LR: 9.7213e-04  \n",
      "EVAL: [0/9] Data 0.421 (0.421) Elapsed 0m 0s (remain 0m 7s) \n"
     ]
    },
    {
     "name": "stderr",
     "output_type": "stream",
     "text": [
      "labels: [11  6  2  2  4]\n",
      "pred_labels: [11  2  2  0  2]\n",
      "Epoch 4 - avg_train_loss: 1.5201  lr: 9.7213e-04  time: 55s\n",
      "Epoch 4 - Score: 0.5649\n",
      "Epoch 4 - Save Best Score: 0.5649 Model\n"
     ]
    },
    {
     "name": "stdout",
     "output_type": "stream",
     "text": [
      "EVAL: [8/9] Data 0.000 (0.047) Elapsed 0m 4s (remain 0m 0s) \n",
      "Epoch: [5][0/40] Data 0.639 (0.639) Elapsed 0m 1s (remain 1m 15s) Loss: 0.8964(0.8964) Grad Norm: 12.3884  LR: 9.5449e-04  \n",
      "Epoch: [5][39/40] Data 0.000 (0.016) Elapsed 0m 51s (remain 0m 0s) Loss: 1.3589(1.3878) Grad Norm: 7.9793  LR: 9.5449e-04  \n",
      "EVAL: [0/9] Data 0.354 (0.354) Elapsed 0m 0s (remain 0m 6s) \n"
     ]
    },
    {
     "name": "stderr",
     "output_type": "stream",
     "text": [
      "labels: [11  6  2  2  4]\n",
      "pred_labels: [11  2  5  0  2]\n",
      "Epoch 5 - avg_train_loss: 1.3878  lr: 9.5449e-04  time: 56s\n",
      "Epoch 5 - Score: 0.5496\n"
     ]
    },
    {
     "name": "stdout",
     "output_type": "stream",
     "text": [
      "EVAL: [8/9] Data 0.000 (0.040) Elapsed 0m 4s (remain 0m 0s) \n",
      "Epoch: [6][0/40] Data 0.616 (0.616) Elapsed 0m 1s (remain 1m 13s) Loss: 1.7071(1.7071) Grad Norm: 7.5947  LR: 9.3324e-04  \n",
      "Epoch: [6][39/40] Data 0.000 (0.016) Elapsed 0m 51s (remain 0m 0s) Loss: 0.5709(1.2653) Grad Norm: 10.0013  LR: 9.3324e-04  \n",
      "EVAL: [0/9] Data 0.452 (0.452) Elapsed 0m 0s (remain 0m 7s) \n"
     ]
    },
    {
     "name": "stderr",
     "output_type": "stream",
     "text": [
      "labels: [11  6  2  2  4]\n",
      "pred_labels: [11  5  5  6  2]\n",
      "Epoch 6 - avg_train_loss: 1.2653  lr: 9.3324e-04  time: 56s\n",
      "Epoch 6 - Score: 0.6260\n",
      "Epoch 6 - Save Best Score: 0.6260 Model\n"
     ]
    },
    {
     "name": "stdout",
     "output_type": "stream",
     "text": [
      "EVAL: [8/9] Data 0.000 (0.051) Elapsed 0m 4s (remain 0m 0s) \n",
      "Epoch: [7][0/40] Data 0.570 (0.570) Elapsed 0m 1s (remain 1m 12s) Loss: 1.5975(1.5975) Grad Norm: 5.8191  LR: 9.0853e-04  \n",
      "Epoch: [7][39/40] Data 0.000 (0.014) Elapsed 0m 51s (remain 0m 0s) Loss: 1.6612(1.2114) Grad Norm: 6.0239  LR: 9.0853e-04  \n",
      "EVAL: [0/9] Data 0.340 (0.340) Elapsed 0m 0s (remain 0m 6s) \n"
     ]
    },
    {
     "name": "stderr",
     "output_type": "stream",
     "text": [
      "labels: [11  6  2  2  4]\n",
      "pred_labels: [11  2  5  1  2]\n",
      "Epoch 7 - avg_train_loss: 1.2114  lr: 9.0853e-04  time: 56s\n",
      "Epoch 7 - Score: 0.5802\n"
     ]
    },
    {
     "name": "stdout",
     "output_type": "stream",
     "text": [
      "EVAL: [8/9] Data 0.000 (0.038) Elapsed 0m 4s (remain 0m 0s) \n",
      "Epoch: [8][0/40] Data 0.596 (0.596) Elapsed 0m 1s (remain 1m 12s) Loss: 0.4681(0.4681) Grad Norm: 9.0938  LR: 8.8057e-04  \n",
      "Epoch: [8][39/40] Data 0.000 (0.015) Elapsed 0m 51s (remain 0m 0s) Loss: 0.6487(1.1467) Grad Norm: 10.9490  LR: 8.8057e-04  \n",
      "EVAL: [0/9] Data 0.447 (0.447) Elapsed 0m 0s (remain 0m 7s) \n"
     ]
    },
    {
     "name": "stderr",
     "output_type": "stream",
     "text": [
      "labels: [11  6  2  2  4]\n",
      "pred_labels: [11 11  5  0  2]\n",
      "Epoch 8 - avg_train_loss: 1.1467  lr: 8.8057e-04  time: 56s\n",
      "Epoch 8 - Score: 0.5649\n"
     ]
    },
    {
     "name": "stdout",
     "output_type": "stream",
     "text": [
      "EVAL: [8/9] Data 0.000 (0.050) Elapsed 0m 4s (remain 0m 0s) \n",
      "Epoch: [9][0/40] Data 0.567 (0.567) Elapsed 0m 1s (remain 1m 11s) Loss: 0.4255(0.4255) Grad Norm: 5.5594  LR: 8.4958e-04  \n",
      "Epoch: [9][39/40] Data 0.000 (0.014) Elapsed 0m 51s (remain 0m 0s) Loss: 0.4148(0.9177) Grad Norm: 10.8846  LR: 8.4958e-04  \n",
      "EVAL: [0/9] Data 0.311 (0.311) Elapsed 0m 0s (remain 0m 6s) \n"
     ]
    },
    {
     "name": "stderr",
     "output_type": "stream",
     "text": [
      "labels: [11  6  2  2  4]\n",
      "pred_labels: [11  2  5  1  3]\n",
      "Epoch 9 - avg_train_loss: 0.9177  lr: 8.4958e-04  time: 55s\n",
      "Epoch 9 - Score: 0.5267\n"
     ]
    },
    {
     "name": "stdout",
     "output_type": "stream",
     "text": [
      "EVAL: [8/9] Data 0.000 (0.035) Elapsed 0m 3s (remain 0m 0s) \n",
      "Epoch: [10][0/40] Data 0.612 (0.612) Elapsed 0m 1s (remain 1m 13s) Loss: 0.4423(0.4423) Grad Norm: 9.4995  LR: 8.1581e-04  \n",
      "Epoch: [10][39/40] Data 0.000 (0.015) Elapsed 0m 51s (remain 0m 0s) Loss: 1.8080(0.9175) Grad Norm: 13.6037  LR: 8.1581e-04  \n",
      "EVAL: [0/9] Data 0.404 (0.404) Elapsed 0m 0s (remain 0m 6s) \n"
     ]
    },
    {
     "name": "stderr",
     "output_type": "stream",
     "text": [
      "labels: [11  6  2  2  4]\n",
      "pred_labels: [11 11  5  2  3]\n",
      "Epoch 10 - avg_train_loss: 0.9175  lr: 8.1581e-04  time: 56s\n",
      "Epoch 10 - Score: 0.5878\n"
     ]
    },
    {
     "name": "stdout",
     "output_type": "stream",
     "text": [
      "EVAL: [8/9] Data 0.000 (0.045) Elapsed 0m 4s (remain 0m 0s) \n",
      "Epoch: [11][0/40] Data 0.630 (0.630) Elapsed 0m 1s (remain 1m 14s) Loss: 1.3615(1.3615) Grad Norm: 7.5181  LR: 7.7953e-04  \n",
      "Epoch: [11][39/40] Data 0.000 (0.016) Elapsed 0m 51s (remain 0m 0s) Loss: 0.6376(1.0135) Grad Norm: 12.3620  LR: 7.7953e-04  \n",
      "EVAL: [0/9] Data 0.332 (0.332) Elapsed 0m 0s (remain 0m 6s) \n"
     ]
    },
    {
     "name": "stderr",
     "output_type": "stream",
     "text": [
      "labels: [11  6  2  2  4]\n",
      "pred_labels: [11  6  5  0  4]\n",
      "Epoch 11 - avg_train_loss: 1.0135  lr: 7.7953e-04  time: 56s\n",
      "Epoch 11 - Score: 0.5725\n"
     ]
    },
    {
     "name": "stdout",
     "output_type": "stream",
     "text": [
      "EVAL: [8/9] Data 0.000 (0.037) Elapsed 0m 3s (remain 0m 0s) \n",
      "Epoch: [12][0/40] Data 0.573 (0.573) Elapsed 0m 1s (remain 1m 11s) Loss: 0.3032(0.3032) Grad Norm: 9.6380  LR: 7.4103e-04  \n",
      "Epoch: [12][39/40] Data 0.000 (0.014) Elapsed 0m 51s (remain 0m 0s) Loss: 0.1104(1.0020) Grad Norm: 8.2427  LR: 7.4103e-04  \n",
      "EVAL: [0/9] Data 0.363 (0.363) Elapsed 0m 0s (remain 0m 6s) \n"
     ]
    },
    {
     "name": "stderr",
     "output_type": "stream",
     "text": [
      "labels: [11  6  2  2  4]\n",
      "pred_labels: [11  2  5  4  4]\n",
      "Epoch 12 - avg_train_loss: 1.0020  lr: 7.4103e-04  time: 56s\n",
      "Epoch 12 - Score: 0.5649\n"
     ]
    },
    {
     "name": "stdout",
     "output_type": "stream",
     "text": [
      "EVAL: [8/9] Data 0.000 (0.041) Elapsed 0m 4s (remain 0m 0s) \n",
      "Epoch: [13][0/40] Data 0.598 (0.598) Elapsed 0m 1s (remain 1m 12s) Loss: 0.2282(0.2282) Grad Norm: 6.8579  LR: 7.0063e-04  \n",
      "Epoch: [13][39/40] Data 0.000 (0.015) Elapsed 0m 51s (remain 0m 0s) Loss: 0.7277(0.7452) Grad Norm: 16.8482  LR: 7.0063e-04  \n",
      "EVAL: [0/9] Data 0.417 (0.417) Elapsed 0m 0s (remain 0m 6s) \n"
     ]
    },
    {
     "name": "stderr",
     "output_type": "stream",
     "text": [
      "labels: [11  6  2  2  4]\n",
      "pred_labels: [11  6  5  1  4]\n",
      "Epoch 13 - avg_train_loss: 0.7452  lr: 7.0063e-04  time: 56s\n",
      "Epoch 13 - Score: 0.5344\n"
     ]
    },
    {
     "name": "stdout",
     "output_type": "stream",
     "text": [
      "EVAL: [8/9] Data 0.000 (0.047) Elapsed 0m 4s (remain 0m 0s) \n",
      "Epoch: [14][0/40] Data 0.670 (0.670) Elapsed 0m 1s (remain 1m 15s) Loss: 0.1701(0.1701) Grad Norm: 7.4156  LR: 6.5865e-04  \n",
      "Epoch: [14][39/40] Data 0.000 (0.017) Elapsed 0m 51s (remain 0m 0s) Loss: 1.2660(0.8098) Grad Norm: 6.1663  LR: 6.5865e-04  \n",
      "EVAL: [0/9] Data 0.406 (0.406) Elapsed 0m 0s (remain 0m 6s) \n"
     ]
    },
    {
     "name": "stderr",
     "output_type": "stream",
     "text": [
      "labels: [11  6  2  2  4]\n",
      "pred_labels: [11  1  5  1  2]\n",
      "Epoch 14 - avg_train_loss: 0.8098  lr: 6.5865e-04  time: 56s\n",
      "Epoch 14 - Score: 0.5954\n"
     ]
    },
    {
     "name": "stdout",
     "output_type": "stream",
     "text": [
      "EVAL: [8/9] Data 0.000 (0.045) Elapsed 0m 4s (remain 0m 0s) \n",
      "Epoch: [15][0/40] Data 0.591 (0.591) Elapsed 0m 1s (remain 1m 13s) Loss: 1.5197(1.5197) Grad Norm: 11.2179  LR: 6.1542e-04  \n",
      "Epoch: [15][39/40] Data 0.000 (0.015) Elapsed 0m 51s (remain 0m 0s) Loss: 1.6997(0.7244) Grad Norm: 12.7898  LR: 6.1542e-04  \n",
      "EVAL: [0/9] Data 0.432 (0.432) Elapsed 0m 0s (remain 0m 7s) \n"
     ]
    },
    {
     "name": "stderr",
     "output_type": "stream",
     "text": [
      "labels: [11  6  2  2  4]\n",
      "pred_labels: [11  4  5  2  4]\n",
      "Epoch 15 - avg_train_loss: 0.7244  lr: 6.1542e-04  time: 56s\n",
      "Epoch 15 - Score: 0.5954\n"
     ]
    },
    {
     "name": "stdout",
     "output_type": "stream",
     "text": [
      "EVAL: [8/9] Data 0.000 (0.048) Elapsed 0m 4s (remain 0m 0s) \n",
      "Epoch: [16][0/40] Data 0.653 (0.653) Elapsed 0m 1s (remain 1m 15s) Loss: 1.5332(1.5332) Grad Norm: 9.5991  LR: 5.7130e-04  \n",
      "Epoch: [16][39/40] Data 0.000 (0.017) Elapsed 0m 51s (remain 0m 0s) Loss: 1.5504(0.6139) Grad Norm: 10.3095  LR: 5.7130e-04  \n",
      "EVAL: [0/9] Data 0.430 (0.430) Elapsed 0m 0s (remain 0m 7s) \n"
     ]
    },
    {
     "name": "stderr",
     "output_type": "stream",
     "text": [
      "labels: [11  6  2  2  4]\n",
      "pred_labels: [11  6  5  1  3]\n",
      "Epoch 16 - avg_train_loss: 0.6139  lr: 5.7130e-04  time: 56s\n",
      "Epoch 16 - Score: 0.5420\n"
     ]
    },
    {
     "name": "stdout",
     "output_type": "stream",
     "text": [
      "EVAL: [8/9] Data 0.000 (0.048) Elapsed 0m 4s (remain 0m 0s) \n",
      "Epoch: [17][0/40] Data 0.514 (0.514) Elapsed 0m 1s (remain 1m 9s) Loss: 1.1116(1.1116) Grad Norm: 7.0900  LR: 5.2663e-04  \n",
      "Epoch: [17][39/40] Data 0.000 (0.013) Elapsed 0m 51s (remain 0m 0s) Loss: 0.3226(0.5900) Grad Norm: 10.8574  LR: 5.2663e-04  \n",
      "EVAL: [0/9] Data 0.394 (0.394) Elapsed 0m 0s (remain 0m 6s) \n"
     ]
    },
    {
     "name": "stderr",
     "output_type": "stream",
     "text": [
      "labels: [11  6  2  2  4]\n",
      "pred_labels: [11  6  5  1  3]\n",
      "Epoch 17 - avg_train_loss: 0.5900  lr: 5.2663e-04  time: 55s\n",
      "Epoch 17 - Score: 0.5878\n"
     ]
    },
    {
     "name": "stdout",
     "output_type": "stream",
     "text": [
      "EVAL: [8/9] Data 0.000 (0.044) Elapsed 0m 4s (remain 0m 0s) \n",
      "Epoch: [18][0/40] Data 0.691 (0.691) Elapsed 0m 1s (remain 1m 16s) Loss: 1.3089(1.3089) Grad Norm: 8.9467  LR: 4.8179e-04  \n",
      "Epoch: [18][39/40] Data 0.000 (0.017) Elapsed 0m 51s (remain 0m 0s) Loss: 0.1364(0.6163) Grad Norm: 6.0080  LR: 4.8179e-04  \n",
      "EVAL: [0/9] Data 0.338 (0.338) Elapsed 0m 0s (remain 0m 6s) \n"
     ]
    },
    {
     "name": "stderr",
     "output_type": "stream",
     "text": [
      "labels: [11  6  2  2  4]\n",
      "pred_labels: [11  6  5  1  4]\n",
      "Epoch 18 - avg_train_loss: 0.6163  lr: 4.8179e-04  time: 56s\n",
      "Epoch 18 - Score: 0.6107\n"
     ]
    },
    {
     "name": "stdout",
     "output_type": "stream",
     "text": [
      "EVAL: [8/9] Data 0.000 (0.038) Elapsed 0m 4s (remain 0m 0s) \n",
      "Epoch: [19][0/40] Data 0.518 (0.518) Elapsed 0m 1s (remain 1m 9s) Loss: 0.9711(0.9711) Grad Norm: 5.2911  LR: 4.3712e-04  \n",
      "Epoch: [19][39/40] Data 0.000 (0.013) Elapsed 0m 51s (remain 0m 0s) Loss: 0.2610(0.6555) Grad Norm: 7.2231  LR: 4.3712e-04  \n",
      "EVAL: [0/9] Data 0.392 (0.392) Elapsed 0m 0s (remain 0m 6s) \n"
     ]
    },
    {
     "name": "stderr",
     "output_type": "stream",
     "text": [
      "labels: [11  6  2  2  4]\n",
      "pred_labels: [11  6  5  4  4]\n",
      "Epoch 19 - avg_train_loss: 0.6555  lr: 4.3712e-04  time: 56s\n",
      "Epoch 19 - Score: 0.6031\n"
     ]
    },
    {
     "name": "stdout",
     "output_type": "stream",
     "text": [
      "EVAL: [8/9] Data 0.000 (0.044) Elapsed 0m 4s (remain 0m 0s) \n",
      "Epoch: [20][0/40] Data 0.563 (0.563) Elapsed 0m 1s (remain 1m 11s) Loss: 0.0273(0.0273) Grad Norm: 1.1812  LR: 3.9299e-04  \n",
      "Epoch: [20][39/40] Data 0.000 (0.014) Elapsed 0m 51s (remain 0m 0s) Loss: 1.4098(0.5101) Grad Norm: 7.9372  LR: 3.9299e-04  \n",
      "EVAL: [0/9] Data 0.382 (0.382) Elapsed 0m 0s (remain 0m 6s) \n"
     ]
    },
    {
     "name": "stderr",
     "output_type": "stream",
     "text": [
      "labels: [11  6  2  2  4]\n",
      "pred_labels: [11  6  5  0  4]\n",
      "Epoch 20 - avg_train_loss: 0.5101  lr: 3.9299e-04  time: 55s\n",
      "Epoch 20 - Score: 0.6565\n",
      "Epoch 20 - Save Best Score: 0.6565 Model\n"
     ]
    },
    {
     "name": "stdout",
     "output_type": "stream",
     "text": [
      "EVAL: [8/9] Data 0.000 (0.043) Elapsed 0m 4s (remain 0m 0s) \n",
      "Epoch: [21][0/40] Data 0.686 (0.686) Elapsed 0m 1s (remain 1m 17s) Loss: 0.8043(0.8043) Grad Norm: 3.8783  LR: 3.4975e-04  \n",
      "Epoch: [21][39/40] Data 0.000 (0.017) Elapsed 0m 51s (remain 0m 0s) Loss: 0.0355(0.5727) Grad Norm: 3.6963  LR: 3.4975e-04  \n",
      "EVAL: [0/9] Data 0.415 (0.415) Elapsed 0m 0s (remain 0m 6s) \n"
     ]
    },
    {
     "name": "stderr",
     "output_type": "stream",
     "text": [
      "labels: [11  6  2  2  4]\n",
      "pred_labels: [11  6  5 11  4]\n",
      "Epoch 21 - avg_train_loss: 0.5727  lr: 3.4975e-04  time: 56s\n",
      "Epoch 21 - Score: 0.6183\n"
     ]
    },
    {
     "name": "stdout",
     "output_type": "stream",
     "text": [
      "EVAL: [8/9] Data 0.000 (0.046) Elapsed 0m 4s (remain 0m 0s) \n",
      "Epoch: [22][0/40] Data 0.593 (0.593) Elapsed 0m 1s (remain 1m 12s) Loss: 1.0343(1.0343) Grad Norm: 4.9005  LR: 3.0775e-04  \n",
      "Epoch: [22][39/40] Data 0.000 (0.015) Elapsed 0m 51s (remain 0m 0s) Loss: 0.0497(0.5914) Grad Norm: 3.0107  LR: 3.0775e-04  \n",
      "EVAL: [0/9] Data 0.369 (0.369) Elapsed 0m 0s (remain 0m 6s) \n"
     ]
    },
    {
     "name": "stderr",
     "output_type": "stream",
     "text": [
      "labels: [11  6  2  2  4]\n",
      "pred_labels: [11  6  5  2  2]\n",
      "Epoch 22 - avg_train_loss: 0.5914  lr: 3.0775e-04  time: 55s\n",
      "Epoch 22 - Score: 0.6336\n"
     ]
    },
    {
     "name": "stdout",
     "output_type": "stream",
     "text": [
      "EVAL: [8/9] Data 0.000 (0.041) Elapsed 0m 4s (remain 0m 0s) \n",
      "Epoch: [23][0/40] Data 0.498 (0.498) Elapsed 0m 1s (remain 1m 9s) Loss: 0.8665(0.8665) Grad Norm: 7.0181  LR: 2.6732e-04  \n",
      "Epoch: [23][39/40] Data 0.000 (0.013) Elapsed 0m 51s (remain 0m 0s) Loss: 0.8755(0.4852) Grad Norm: 3.4400  LR: 2.6732e-04  \n",
      "EVAL: [0/9] Data 0.357 (0.357) Elapsed 0m 0s (remain 0m 6s) \n"
     ]
    },
    {
     "name": "stderr",
     "output_type": "stream",
     "text": [
      "labels: [11  6  2  2  4]\n",
      "pred_labels: [11  2  5  0  3]\n",
      "Epoch 23 - avg_train_loss: 0.4852  lr: 2.6732e-04  time: 55s\n",
      "Epoch 23 - Score: 0.6031\n"
     ]
    },
    {
     "name": "stdout",
     "output_type": "stream",
     "text": [
      "EVAL: [8/9] Data 0.000 (0.040) Elapsed 0m 4s (remain 0m 0s) \n",
      "Epoch: [24][0/40] Data 0.558 (0.558) Elapsed 0m 1s (remain 1m 11s) Loss: 1.2401(1.2401) Grad Norm: 6.6350  LR: 2.2880e-04  \n",
      "Epoch: [24][39/40] Data 0.000 (0.014) Elapsed 0m 51s (remain 0m 0s) Loss: 0.0025(0.5990) Grad Norm: 0.2321  LR: 2.2880e-04  \n",
      "EVAL: [0/9] Data 0.439 (0.439) Elapsed 0m 0s (remain 0m 7s) \n"
     ]
    },
    {
     "name": "stderr",
     "output_type": "stream",
     "text": [
      "labels: [11  6  2  2  4]\n",
      "pred_labels: [11  0  5  0  3]\n",
      "Epoch 24 - avg_train_loss: 0.5990  lr: 2.2880e-04  time: 56s\n",
      "Epoch 24 - Score: 0.6031\n"
     ]
    },
    {
     "name": "stdout",
     "output_type": "stream",
     "text": [
      "EVAL: [8/9] Data 0.000 (0.049) Elapsed 0m 4s (remain 0m 0s) \n",
      "Epoch: [25][0/40] Data 0.696 (0.696) Elapsed 0m 1s (remain 1m 16s) Loss: 0.7164(0.7164) Grad Norm: 5.0603  LR: 1.9248e-04  \n",
      "Epoch: [25][39/40] Data 0.000 (0.018) Elapsed 0m 51s (remain 0m 0s) Loss: 0.0014(0.4330) Grad Norm: 0.0425  LR: 1.9248e-04  \n",
      "EVAL: [0/9] Data 0.414 (0.414) Elapsed 0m 0s (remain 0m 6s) \n"
     ]
    },
    {
     "name": "stderr",
     "output_type": "stream",
     "text": [
      "labels: [11  6  2  2  4]\n",
      "pred_labels: [11  6  5  0  4]\n",
      "Epoch 25 - avg_train_loss: 0.4330  lr: 1.9248e-04  time: 56s\n",
      "Epoch 25 - Score: 0.6183\n"
     ]
    },
    {
     "name": "stdout",
     "output_type": "stream",
     "text": [
      "EVAL: [8/9] Data 0.000 (0.046) Elapsed 0m 4s (remain 0m 0s) \n",
      "Epoch: [26][0/40] Data 0.570 (0.570) Elapsed 0m 1s (remain 1m 11s) Loss: 0.0235(0.0235) Grad Norm: 5.0924  LR: 1.5867e-04  \n",
      "Epoch: [26][39/40] Data 0.000 (0.014) Elapsed 0m 51s (remain 0m 0s) Loss: 0.0011(0.4834) Grad Norm: 0.2013  LR: 1.5867e-04  \n",
      "EVAL: [0/9] Data 0.402 (0.402) Elapsed 0m 0s (remain 0m 6s) \n"
     ]
    },
    {
     "name": "stderr",
     "output_type": "stream",
     "text": [
      "labels: [11  6  2  2  4]\n",
      "pred_labels: [11  6  5  4  4]\n",
      "Epoch 26 - avg_train_loss: 0.4834  lr: 1.5867e-04  time: 55s\n",
      "Epoch 26 - Score: 0.6183\n"
     ]
    },
    {
     "name": "stdout",
     "output_type": "stream",
     "text": [
      "EVAL: [8/9] Data 0.000 (0.045) Elapsed 0m 4s (remain 0m 0s) \n",
      "Epoch: [27][0/40] Data 0.544 (0.544) Elapsed 0m 1s (remain 1m 10s) Loss: 0.0016(0.0016) Grad Norm: 0.0771  LR: 1.2762e-04  \n",
      "Epoch: [27][39/40] Data 0.000 (0.014) Elapsed 0m 51s (remain 0m 0s) Loss: 0.0012(0.3386) Grad Norm: 0.0759  LR: 1.2762e-04  \n",
      "EVAL: [0/9] Data 0.341 (0.341) Elapsed 0m 0s (remain 0m 6s) \n"
     ]
    },
    {
     "name": "stderr",
     "output_type": "stream",
     "text": [
      "labels: [11  6  2  2  4]\n",
      "pred_labels: [11  0  5  4  4]\n",
      "Epoch 27 - avg_train_loss: 0.3386  lr: 1.2762e-04  time: 55s\n",
      "Epoch 27 - Score: 0.6107\n"
     ]
    },
    {
     "name": "stdout",
     "output_type": "stream",
     "text": [
      "EVAL: [8/9] Data 0.000 (0.038) Elapsed 0m 4s (remain 0m 0s) \n",
      "Epoch: [28][0/40] Data 0.575 (0.575) Elapsed 0m 1s (remain 1m 12s) Loss: 0.7835(0.7835) Grad Norm: 6.8587  LR: 9.9584e-05  \n",
      "Epoch: [28][39/40] Data 0.000 (0.015) Elapsed 0m 51s (remain 0m 0s) Loss: 0.0006(0.5022) Grad Norm: 0.0238  LR: 9.9584e-05  \n",
      "EVAL: [0/9] Data 0.369 (0.369) Elapsed 0m 0s (remain 0m 6s) \n"
     ]
    },
    {
     "name": "stderr",
     "output_type": "stream",
     "text": [
      "labels: [11  6  2  2  4]\n",
      "pred_labels: [11  6  5  4  4]\n",
      "Epoch 28 - avg_train_loss: 0.5022  lr: 9.9584e-05  time: 55s\n",
      "Epoch 28 - Score: 0.6260\n"
     ]
    },
    {
     "name": "stdout",
     "output_type": "stream",
     "text": [
      "EVAL: [8/9] Data 0.000 (0.041) Elapsed 0m 4s (remain 0m 0s) \n",
      "Epoch: [29][0/40] Data 0.638 (0.638) Elapsed 0m 1s (remain 1m 14s) Loss: 0.0090(0.0090) Grad Norm: 0.6910  LR: 7.4783e-05  \n",
      "Epoch: [29][39/40] Data 0.000 (0.016) Elapsed 0m 51s (remain 0m 0s) Loss: 0.0104(0.4260) Grad Norm: 1.3634  LR: 7.4783e-05  \n",
      "EVAL: [0/9] Data 0.399 (0.399) Elapsed 0m 0s (remain 0m 6s) \n"
     ]
    },
    {
     "name": "stderr",
     "output_type": "stream",
     "text": [
      "labels: [11  6  2  2  4]\n",
      "pred_labels: [11  0  5  0  4]\n",
      "Epoch 29 - avg_train_loss: 0.4260  lr: 7.4783e-05  time: 56s\n",
      "Epoch 29 - Score: 0.6031\n"
     ]
    },
    {
     "name": "stdout",
     "output_type": "stream",
     "text": [
      "EVAL: [8/9] Data 0.000 (0.045) Elapsed 0m 4s (remain 0m 0s) \n",
      "Epoch: [30][0/40] Data 0.599 (0.599) Elapsed 0m 1s (remain 1m 14s) Loss: 0.8734(0.8734) Grad Norm: 6.8204  LR: 5.3404e-05  \n",
      "Epoch: [30][39/40] Data 0.000 (0.015) Elapsed 0m 51s (remain 0m 0s) Loss: 0.9763(0.5138) Grad Norm: 4.3668  LR: 5.3404e-05  \n",
      "EVAL: [0/9] Data 0.370 (0.370) Elapsed 0m 0s (remain 0m 6s) \n"
     ]
    },
    {
     "name": "stderr",
     "output_type": "stream",
     "text": [
      "labels: [11  6  2  2  4]\n",
      "pred_labels: [11  6  5  0  4]\n",
      "Epoch 30 - avg_train_loss: 0.5138  lr: 5.3404e-05  time: 56s\n",
      "Epoch 30 - Score: 0.6336\n"
     ]
    },
    {
     "name": "stdout",
     "output_type": "stream",
     "text": [
      "EVAL: [8/9] Data 0.000 (0.041) Elapsed 0m 4s (remain 0m 0s) \n",
      "Epoch: [31][0/40] Data 0.539 (0.539) Elapsed 0m 1s (remain 1m 10s) Loss: 0.0126(0.0126) Grad Norm: 0.6195  LR: 3.5607e-05  \n",
      "Epoch: [31][39/40] Data 0.000 (0.014) Elapsed 0m 51s (remain 0m 0s) Loss: 0.0004(0.0106) Grad Norm: 0.0186  LR: 3.5607e-05  \n",
      "EVAL: [0/9] Data 0.453 (0.453) Elapsed 0m 0s (remain 0m 7s) \n"
     ]
    },
    {
     "name": "stderr",
     "output_type": "stream",
     "text": [
      "labels: [11  6  2  2  4]\n",
      "pred_labels: [11  6  5  0  3]\n",
      "Epoch 31 - avg_train_loss: 0.0106  lr: 3.5607e-05  time: 55s\n",
      "Epoch 31 - Score: 0.6412\n"
     ]
    },
    {
     "name": "stdout",
     "output_type": "stream",
     "text": [
      "EVAL: [8/9] Data 0.000 (0.051) Elapsed 0m 4s (remain 0m 0s) \n",
      "Epoch: [32][0/40] Data 0.604 (0.604) Elapsed 0m 1s (remain 1m 13s) Loss: 0.0007(0.0007) Grad Norm: 0.0324  LR: 2.1508e-05  \n",
      "Epoch: [32][39/40] Data 0.000 (0.015) Elapsed 0m 51s (remain 0m 0s) Loss: 0.0274(0.0096) Grad Norm: 5.5664  LR: 2.1508e-05  \n",
      "EVAL: [0/9] Data 0.410 (0.410) Elapsed 0m 0s (remain 0m 6s) \n"
     ]
    },
    {
     "name": "stderr",
     "output_type": "stream",
     "text": [
      "labels: [11  6  2  2  4]\n",
      "pred_labels: [11  6  5  0  4]\n",
      "Epoch 32 - avg_train_loss: 0.0096  lr: 2.1508e-05  time: 55s\n",
      "Epoch 32 - Score: 0.6412\n"
     ]
    },
    {
     "name": "stdout",
     "output_type": "stream",
     "text": [
      "EVAL: [8/9] Data 0.000 (0.046) Elapsed 0m 4s (remain 0m 0s) \n",
      "Epoch: [33][0/40] Data 0.556 (0.556) Elapsed 0m 1s (remain 1m 11s) Loss: 0.0042(0.0042) Grad Norm: 0.8079  LR: 1.1173e-05  \n",
      "Epoch: [33][39/40] Data 0.000 (0.014) Elapsed 0m 51s (remain 0m 0s) Loss: 0.0023(0.0018) Grad Norm: 0.1930  LR: 1.1173e-05  \n",
      "EVAL: [0/9] Data 0.406 (0.406) Elapsed 0m 0s (remain 0m 6s) \n"
     ]
    },
    {
     "name": "stderr",
     "output_type": "stream",
     "text": [
      "labels: [11  6  2  2  4]\n",
      "pred_labels: [11  6  5  0  4]\n",
      "Epoch 33 - avg_train_loss: 0.0018  lr: 1.1173e-05  time: 55s\n",
      "Epoch 33 - Score: 0.6489\n"
     ]
    },
    {
     "name": "stdout",
     "output_type": "stream",
     "text": [
      "EVAL: [8/9] Data 0.000 (0.045) Elapsed 0m 4s (remain 0m 0s) \n",
      "Epoch: [34][0/40] Data 0.589 (0.589) Elapsed 0m 1s (remain 1m 12s) Loss: 0.0002(0.0002) Grad Norm: 0.0076  LR: 4.5796e-06  \n",
      "Epoch: [34][39/40] Data 0.000 (0.015) Elapsed 0m 51s (remain 0m 0s) Loss: 0.0113(0.0074) Grad Norm: 1.5230  LR: 4.5796e-06  \n",
      "EVAL: [0/9] Data 0.383 (0.383) Elapsed 0m 0s (remain 0m 6s) \n"
     ]
    },
    {
     "name": "stderr",
     "output_type": "stream",
     "text": [
      "labels: [11  6  2  2  4]\n",
      "pred_labels: [11  6  5  0  4]\n",
      "Epoch 34 - avg_train_loss: 0.0074  lr: 4.5796e-06  time: 55s\n",
      "Epoch 34 - Score: 0.6489\n"
     ]
    },
    {
     "name": "stdout",
     "output_type": "stream",
     "text": [
      "EVAL: [8/9] Data 0.000 (0.043) Elapsed 0m 4s (remain 0m 0s) \n",
      "Epoch: [35][0/40] Data 0.486 (0.486) Elapsed 0m 1s (remain 1m 8s) Loss: 0.0003(0.0003) Grad Norm: 0.0191  LR: 1.5037e-06  \n",
      "Epoch: [35][39/40] Data 0.000 (0.012) Elapsed 0m 51s (remain 0m 0s) Loss: 0.0073(0.0018) Grad Norm: 0.9116  LR: 1.5037e-06  \n",
      "EVAL: [0/9] Data 0.335 (0.335) Elapsed 0m 0s (remain 0m 6s) \n"
     ]
    },
    {
     "name": "stderr",
     "output_type": "stream",
     "text": [
      "labels: [11  6  2  2  4]\n",
      "pred_labels: [11  6  5  0  4]\n",
      "Epoch 35 - avg_train_loss: 0.0018  lr: 1.5037e-06  time: 55s\n",
      "Epoch 35 - Score: 0.6489\n",
      "==================== fold: 1, seed: 0 training ====================\n"
     ]
    },
    {
     "name": "stdout",
     "output_type": "stream",
     "text": [
      "EVAL: [8/9] Data 0.000 (0.037) Elapsed 0m 3s (remain 0m 0s) \n",
      "Epoch: [1][0/40] Data 0.664 (0.664) Elapsed 0m 1s (remain 1m 15s) Loss: 2.6229(2.6229) Grad Norm: inf  LR: 1.0000e-03  \n",
      "Epoch: [1][39/40] Data 0.000 (0.017) Elapsed 0m 51s (remain 0m 0s) Loss: 2.3866(2.5101) Grad Norm: 16.5675  LR: 1.0000e-03  \n",
      "EVAL: [0/9] Data 0.354 (0.354) Elapsed 0m 0s (remain 0m 6s) \n"
     ]
    },
    {
     "name": "stderr",
     "output_type": "stream",
     "text": [
      "labels: [4 0 3 6 0]\n",
      "pred_labels: [2 2 2 0 0]\n",
      "Epoch 1 - avg_train_loss: 2.5101  lr: 1.0000e-03  time: 56s\n",
      "Epoch 1 - Score: 0.2519\n",
      "Epoch 1 - Save Best Score: 0.2519 Model\n"
     ]
    },
    {
     "name": "stdout",
     "output_type": "stream",
     "text": [
      "EVAL: [8/9] Data 0.000 (0.040) Elapsed 0m 4s (remain 0m 0s) \n",
      "Epoch: [2][0/40] Data 0.606 (0.606) Elapsed 0m 1s (remain 1m 14s) Loss: 2.3264(2.3264) Grad Norm: 8.0858  LR: 9.9598e-04  \n",
      "Epoch: [2][39/40] Data 0.000 (0.015) Elapsed 0m 51s (remain 0m 0s) Loss: 1.9880(2.2764) Grad Norm: 9.5548  LR: 9.9598e-04  \n",
      "EVAL: [0/9] Data 0.395 (0.395) Elapsed 0m 0s (remain 0m 6s) \n"
     ]
    },
    {
     "name": "stderr",
     "output_type": "stream",
     "text": [
      "labels: [4 0 3 6 0]\n",
      "pred_labels: [9 0 9 9 0]\n",
      "Epoch 2 - avg_train_loss: 2.2764  lr: 9.9598e-04  time: 56s\n",
      "Epoch 2 - Score: 0.4275\n",
      "Epoch 2 - Save Best Score: 0.4275 Model\n"
     ]
    },
    {
     "name": "stdout",
     "output_type": "stream",
     "text": [
      "EVAL: [8/9] Data 0.000 (0.044) Elapsed 0m 4s (remain 0m 0s) \n",
      "Epoch: [3][0/40] Data 0.559 (0.559) Elapsed 0m 1s (remain 1m 12s) Loss: 2.1556(2.1556) Grad Norm: 7.3034  LR: 9.8599e-04  \n",
      "Epoch: [3][39/40] Data 0.000 (0.014) Elapsed 0m 51s (remain 0m 0s) Loss: 1.6789(1.9369) Grad Norm: 7.2897  LR: 9.8599e-04  \n",
      "EVAL: [0/9] Data 0.326 (0.326) Elapsed 0m 0s (remain 0m 6s) \n"
     ]
    },
    {
     "name": "stderr",
     "output_type": "stream",
     "text": [
      "labels: [4 0 3 6 0]\n",
      "pred_labels: [5 0 7 7 0]\n",
      "Epoch 3 - avg_train_loss: 1.9369  lr: 9.8599e-04  time: 56s\n",
      "Epoch 3 - Score: 0.5649\n",
      "Epoch 3 - Save Best Score: 0.5649 Model\n"
     ]
    },
    {
     "name": "stdout",
     "output_type": "stream",
     "text": [
      "EVAL: [8/9] Data 0.000 (0.037) Elapsed 0m 3s (remain 0m 0s) \n",
      "Epoch: [4][0/40] Data 0.671 (0.671) Elapsed 0m 1s (remain 1m 16s) Loss: 2.1006(2.1006) Grad Norm: 9.1601  LR: 9.7213e-04  \n",
      "Epoch: [4][39/40] Data 0.000 (0.017) Elapsed 0m 51s (remain 0m 0s) Loss: 1.9107(1.6494) Grad Norm: 7.0282  LR: 9.7213e-04  \n",
      "EVAL: [0/9] Data 0.421 (0.421) Elapsed 0m 0s (remain 0m 6s) \n"
     ]
    },
    {
     "name": "stderr",
     "output_type": "stream",
     "text": [
      "labels: [4 0 3 6 0]\n",
      "pred_labels: [4 0 3 6 0]\n",
      "Epoch 4 - avg_train_loss: 1.6494  lr: 9.7213e-04  time: 56s\n",
      "Epoch 4 - Score: 0.6183\n",
      "Epoch 4 - Save Best Score: 0.6183 Model\n"
     ]
    },
    {
     "name": "stdout",
     "output_type": "stream",
     "text": [
      "EVAL: [8/9] Data 0.000 (0.047) Elapsed 0m 4s (remain 0m 0s) \n",
      "Epoch: [5][0/40] Data 0.586 (0.586) Elapsed 0m 1s (remain 1m 13s) Loss: 1.9756(1.9756) Grad Norm: 8.5015  LR: 9.5449e-04  \n",
      "Epoch: [5][39/40] Data 0.000 (0.015) Elapsed 0m 51s (remain 0m 0s) Loss: 1.9754(1.3718) Grad Norm: 12.4761  LR: 9.5449e-04  \n",
      "EVAL: [0/9] Data 0.401 (0.401) Elapsed 0m 0s (remain 0m 6s) \n"
     ]
    },
    {
     "name": "stderr",
     "output_type": "stream",
     "text": [
      "labels: [4 0 3 6 0]\n",
      "pred_labels: [4 0 3 6 0]\n",
      "Epoch 5 - avg_train_loss: 1.3718  lr: 9.5449e-04  time: 56s\n",
      "Epoch 5 - Score: 0.5878\n"
     ]
    },
    {
     "name": "stdout",
     "output_type": "stream",
     "text": [
      "EVAL: [8/9] Data 0.000 (0.045) Elapsed 0m 4s (remain 0m 0s) \n",
      "Epoch: [6][0/40] Data 0.494 (0.494) Elapsed 0m 1s (remain 1m 8s) Loss: 1.4439(1.4439) Grad Norm: 7.1975  LR: 9.3324e-04  \n",
      "Epoch: [6][39/40] Data 0.000 (0.013) Elapsed 0m 51s (remain 0m 0s) Loss: 1.6007(1.2973) Grad Norm: 7.2267  LR: 9.3324e-04  \n",
      "EVAL: [0/9] Data 0.363 (0.363) Elapsed 0m 0s (remain 0m 6s) \n"
     ]
    },
    {
     "name": "stderr",
     "output_type": "stream",
     "text": [
      "labels: [4 0 3 6 0]\n",
      "pred_labels: [ 3  0  3 11  0]\n",
      "Epoch 6 - avg_train_loss: 1.2973  lr: 9.3324e-04  time: 55s\n",
      "Epoch 6 - Score: 0.5420\n"
     ]
    },
    {
     "name": "stdout",
     "output_type": "stream",
     "text": [
      "EVAL: [8/9] Data 0.000 (0.041) Elapsed 0m 4s (remain 0m 0s) \n",
      "Epoch: [7][0/40] Data 0.594 (0.594) Elapsed 0m 1s (remain 1m 12s) Loss: 0.3809(0.3809) Grad Norm: 6.2880  LR: 9.0853e-04  \n",
      "Epoch: [7][39/40] Data 0.000 (0.015) Elapsed 0m 51s (remain 0m 0s) Loss: 0.3683(1.0715) Grad Norm: 10.1036  LR: 9.0853e-04  \n",
      "EVAL: [0/9] Data 0.389 (0.389) Elapsed 0m 0s (remain 0m 6s) \n"
     ]
    },
    {
     "name": "stderr",
     "output_type": "stream",
     "text": [
      "labels: [4 0 3 6 0]\n",
      "pred_labels: [ 4  0  1 11  0]\n",
      "Epoch 7 - avg_train_loss: 1.0715  lr: 9.0853e-04  time: 56s\n",
      "Epoch 7 - Score: 0.6107\n"
     ]
    },
    {
     "name": "stdout",
     "output_type": "stream",
     "text": [
      "EVAL: [8/9] Data 0.000 (0.044) Elapsed 0m 4s (remain 0m 0s) \n",
      "Epoch: [8][0/40] Data 0.538 (0.538) Elapsed 0m 1s (remain 1m 10s) Loss: 0.6448(0.6448) Grad Norm: 11.7725  LR: 8.8057e-04  \n",
      "Epoch: [8][39/40] Data 0.000 (0.014) Elapsed 0m 51s (remain 0m 0s) Loss: 1.4553(1.1475) Grad Norm: 8.0221  LR: 8.8057e-04  \n",
      "EVAL: [0/9] Data 0.423 (0.423) Elapsed 0m 0s (remain 0m 6s) \n"
     ]
    },
    {
     "name": "stderr",
     "output_type": "stream",
     "text": [
      "labels: [4 0 3 6 0]\n",
      "pred_labels: [4 0 3 6 0]\n",
      "Epoch 8 - avg_train_loss: 1.1475  lr: 8.8057e-04  time: 56s\n",
      "Epoch 8 - Score: 0.6336\n",
      "Epoch 8 - Save Best Score: 0.6336 Model\n"
     ]
    },
    {
     "name": "stdout",
     "output_type": "stream",
     "text": [
      "EVAL: [8/9] Data 0.000 (0.047) Elapsed 0m 4s (remain 0m 0s) \n",
      "Epoch: [9][0/40] Data 0.595 (0.595) Elapsed 0m 1s (remain 1m 13s) Loss: 0.2209(0.2209) Grad Norm: 7.7165  LR: 8.4958e-04  \n",
      "Epoch: [9][39/40] Data 0.000 (0.015) Elapsed 0m 51s (remain 0m 0s) Loss: 0.9361(1.0849) Grad Norm: 13.2195  LR: 8.4958e-04  \n",
      "EVAL: [0/9] Data 0.357 (0.357) Elapsed 0m 0s (remain 0m 6s) \n"
     ]
    },
    {
     "name": "stderr",
     "output_type": "stream",
     "text": [
      "labels: [4 0 3 6 0]\n",
      "pred_labels: [4 0 3 0 0]\n",
      "Epoch 9 - avg_train_loss: 1.0849  lr: 8.4958e-04  time: 56s\n",
      "Epoch 9 - Score: 0.6031\n"
     ]
    },
    {
     "name": "stdout",
     "output_type": "stream",
     "text": [
      "EVAL: [8/9] Data 0.000 (0.040) Elapsed 0m 4s (remain 0m 0s) \n",
      "Epoch: [10][0/40] Data 0.481 (0.481) Elapsed 0m 1s (remain 1m 8s) Loss: 0.1709(0.1709) Grad Norm: 4.1979  LR: 8.1581e-04  \n",
      "Epoch: [10][39/40] Data 0.000 (0.012) Elapsed 0m 51s (remain 0m 0s) Loss: 1.6255(1.0126) Grad Norm: 6.3938  LR: 8.1581e-04  \n",
      "EVAL: [0/9] Data 0.356 (0.356) Elapsed 0m 0s (remain 0m 6s) \n"
     ]
    },
    {
     "name": "stderr",
     "output_type": "stream",
     "text": [
      "labels: [4 0 3 6 0]\n",
      "pred_labels: [4 0 3 0 0]\n",
      "Epoch 10 - avg_train_loss: 1.0126  lr: 8.1581e-04  time: 56s\n",
      "Epoch 10 - Score: 0.5649\n"
     ]
    },
    {
     "name": "stdout",
     "output_type": "stream",
     "text": [
      "EVAL: [8/9] Data 0.000 (0.040) Elapsed 0m 4s (remain 0m 0s) \n",
      "Epoch: [11][0/40] Data 0.605 (0.605) Elapsed 0m 1s (remain 1m 13s) Loss: 1.3744(1.3744) Grad Norm: 4.8424  LR: 7.7953e-04  \n",
      "Epoch: [11][39/40] Data 0.000 (0.015) Elapsed 0m 51s (remain 0m 0s) Loss: 1.6292(0.9429) Grad Norm: 10.1551  LR: 7.7953e-04  \n",
      "EVAL: [0/9] Data 0.352 (0.352) Elapsed 0m 0s (remain 0m 6s) \n"
     ]
    },
    {
     "name": "stderr",
     "output_type": "stream",
     "text": [
      "labels: [4 0 3 6 0]\n",
      "pred_labels: [4 0 3 6 0]\n",
      "Epoch 11 - avg_train_loss: 0.9429  lr: 7.7953e-04  time: 56s\n",
      "Epoch 11 - Score: 0.6107\n"
     ]
    },
    {
     "name": "stdout",
     "output_type": "stream",
     "text": [
      "EVAL: [8/9] Data 0.000 (0.039) Elapsed 0m 4s (remain 0m 0s) \n",
      "Epoch: [12][0/40] Data 0.626 (0.626) Elapsed 0m 1s (remain 1m 13s) Loss: 1.0379(1.0379) Grad Norm: 4.8192  LR: 7.4103e-04  \n",
      "Epoch: [12][39/40] Data 0.000 (0.016) Elapsed 0m 51s (remain 0m 0s) Loss: 1.8082(0.9283) Grad Norm: 11.2798  LR: 7.4103e-04  \n",
      "EVAL: [0/9] Data 0.385 (0.385) Elapsed 0m 0s (remain 0m 6s) \n"
     ]
    },
    {
     "name": "stderr",
     "output_type": "stream",
     "text": [
      "labels: [4 0 3 6 0]\n",
      "pred_labels: [3 0 3 6 0]\n",
      "Epoch 12 - avg_train_loss: 0.9283  lr: 7.4103e-04  time: 56s\n",
      "Epoch 12 - Score: 0.6260\n"
     ]
    },
    {
     "name": "stdout",
     "output_type": "stream",
     "text": [
      "EVAL: [8/9] Data 0.000 (0.043) Elapsed 0m 4s (remain 0m 0s) \n",
      "Epoch: [13][0/40] Data 0.604 (0.604) Elapsed 0m 1s (remain 1m 13s) Loss: 1.0506(1.0506) Grad Norm: 5.8894  LR: 7.0063e-04  \n",
      "Epoch: [13][39/40] Data 0.000 (0.015) Elapsed 0m 51s (remain 0m 0s) Loss: 1.0935(0.8921) Grad Norm: 9.5951  LR: 7.0063e-04  \n",
      "EVAL: [0/9] Data 0.430 (0.430) Elapsed 0m 0s (remain 0m 7s) \n"
     ]
    },
    {
     "name": "stderr",
     "output_type": "stream",
     "text": [
      "labels: [4 0 3 6 0]\n",
      "pred_labels: [ 3  0  3 11  0]\n",
      "Epoch 13 - avg_train_loss: 0.8921  lr: 7.0063e-04  time: 56s\n",
      "Epoch 13 - Score: 0.5954\n"
     ]
    },
    {
     "name": "stdout",
     "output_type": "stream",
     "text": [
      "EVAL: [8/9] Data 0.000 (0.048) Elapsed 0m 4s (remain 0m 0s) \n",
      "Epoch: [14][0/40] Data 0.542 (0.542) Elapsed 0m 1s (remain 1m 10s) Loss: 0.0553(0.0553) Grad Norm: 1.8699  LR: 6.5865e-04  \n",
      "Epoch: [14][39/40] Data 0.000 (0.014) Elapsed 0m 51s (remain 0m 0s) Loss: 1.4566(0.8851) Grad Norm: 11.1903  LR: 6.5865e-04  \n",
      "EVAL: [0/9] Data 0.462 (0.462) Elapsed 0m 0s (remain 0m 7s) \n"
     ]
    },
    {
     "name": "stderr",
     "output_type": "stream",
     "text": [
      "labels: [4 0 3 6 0]\n",
      "pred_labels: [1 0 3 0 0]\n",
      "Epoch 14 - avg_train_loss: 0.8851  lr: 6.5865e-04  time: 56s\n",
      "Epoch 14 - Score: 0.5878\n"
     ]
    },
    {
     "name": "stdout",
     "output_type": "stream",
     "text": [
      "EVAL: [8/9] Data 0.000 (0.051) Elapsed 0m 4s (remain 0m 0s) \n",
      "Epoch: [15][0/40] Data 0.492 (0.492) Elapsed 0m 1s (remain 1m 8s) Loss: 0.0185(0.0185) Grad Norm: 1.0325  LR: 6.1542e-04  \n",
      "Epoch: [15][39/40] Data 0.000 (0.012) Elapsed 0m 51s (remain 0m 0s) Loss: 1.4468(0.8417) Grad Norm: 9.9242  LR: 6.1542e-04  \n",
      "EVAL: [0/9] Data 0.407 (0.407) Elapsed 0m 0s (remain 0m 6s) \n"
     ]
    },
    {
     "name": "stderr",
     "output_type": "stream",
     "text": [
      "labels: [4 0 3 6 0]\n",
      "pred_labels: [3 0 3 6 0]\n",
      "Epoch 15 - avg_train_loss: 0.8417  lr: 6.1542e-04  time: 56s\n",
      "Epoch 15 - Score: 0.6031\n"
     ]
    },
    {
     "name": "stdout",
     "output_type": "stream",
     "text": [
      "EVAL: [8/9] Data 0.000 (0.046) Elapsed 0m 4s (remain 0m 0s) \n",
      "Epoch: [16][0/40] Data 0.550 (0.550) Elapsed 0m 1s (remain 1m 10s) Loss: 0.0163(0.0163) Grad Norm: 0.5792  LR: 5.7130e-04  \n",
      "Epoch: [16][39/40] Data 0.000 (0.014) Elapsed 0m 51s (remain 0m 0s) Loss: 0.0230(0.6767) Grad Norm: 0.9304  LR: 5.7130e-04  \n",
      "EVAL: [0/9] Data 0.425 (0.425) Elapsed 0m 0s (remain 0m 6s) \n"
     ]
    },
    {
     "name": "stderr",
     "output_type": "stream",
     "text": [
      "labels: [4 0 3 6 0]\n",
      "pred_labels: [3 0 3 9 0]\n",
      "Epoch 16 - avg_train_loss: 0.6767  lr: 5.7130e-04  time: 56s\n",
      "Epoch 16 - Score: 0.6412\n",
      "Epoch 16 - Save Best Score: 0.6412 Model\n"
     ]
    },
    {
     "name": "stdout",
     "output_type": "stream",
     "text": [
      "EVAL: [8/9] Data 0.000 (0.048) Elapsed 0m 4s (remain 0m 0s) \n",
      "Epoch: [17][0/40] Data 0.584 (0.584) Elapsed 0m 1s (remain 1m 13s) Loss: 0.0390(0.0390) Grad Norm: 2.0896  LR: 5.2663e-04  \n",
      "Epoch: [17][39/40] Data 0.000 (0.015) Elapsed 0m 51s (remain 0m 0s) Loss: 1.6957(0.6807) Grad Norm: 11.2399  LR: 5.2663e-04  \n",
      "EVAL: [0/9] Data 0.360 (0.360) Elapsed 0m 0s (remain 0m 6s) \n"
     ]
    },
    {
     "name": "stderr",
     "output_type": "stream",
     "text": [
      "labels: [4 0 3 6 0]\n",
      "pred_labels: [ 4  0  3 11  0]\n",
      "Epoch 17 - avg_train_loss: 0.6807  lr: 5.2663e-04  time: 56s\n",
      "Epoch 17 - Score: 0.6260\n"
     ]
    },
    {
     "name": "stdout",
     "output_type": "stream",
     "text": [
      "EVAL: [8/9] Data 0.000 (0.040) Elapsed 0m 4s (remain 0m 0s) \n",
      "Epoch: [18][0/40] Data 0.580 (0.580) Elapsed 0m 1s (remain 1m 12s) Loss: 1.1927(1.1927) Grad Norm: 5.7294  LR: 4.8179e-04  \n",
      "Epoch: [18][39/40] Data 0.000 (0.015) Elapsed 0m 51s (remain 0m 0s) Loss: 1.1117(0.7928) Grad Norm: 7.4685  LR: 4.8179e-04  \n",
      "EVAL: [0/9] Data 0.435 (0.435) Elapsed 0m 0s (remain 0m 7s) \n"
     ]
    },
    {
     "name": "stderr",
     "output_type": "stream",
     "text": [
      "labels: [4 0 3 6 0]\n",
      "pred_labels: [3 0 3 9 0]\n",
      "Epoch 18 - avg_train_loss: 0.7928  lr: 4.8179e-04  time: 56s\n",
      "Epoch 18 - Score: 0.5725\n"
     ]
    },
    {
     "name": "stdout",
     "output_type": "stream",
     "text": [
      "EVAL: [8/9] Data 0.000 (0.048) Elapsed 0m 4s (remain 0m 0s) \n",
      "Epoch: [19][0/40] Data 0.664 (0.664) Elapsed 0m 1s (remain 1m 15s) Loss: 0.7619(0.7619) Grad Norm: 5.1228  LR: 4.3712e-04  \n",
      "Epoch: [19][39/40] Data 0.000 (0.017) Elapsed 0m 51s (remain 0m 0s) Loss: 0.2945(0.5978) Grad Norm: 21.4105  LR: 4.3712e-04  \n",
      "EVAL: [0/9] Data 0.428 (0.428) Elapsed 0m 0s (remain 0m 6s) \n"
     ]
    },
    {
     "name": "stderr",
     "output_type": "stream",
     "text": [
      "labels: [4 0 3 6 0]\n",
      "pred_labels: [3 0 3 9 0]\n",
      "Epoch 19 - avg_train_loss: 0.5978  lr: 4.3712e-04  time: 56s\n",
      "Epoch 19 - Score: 0.6489\n",
      "Epoch 19 - Save Best Score: 0.6489 Model\n"
     ]
    },
    {
     "name": "stdout",
     "output_type": "stream",
     "text": [
      "EVAL: [8/9] Data 0.000 (0.048) Elapsed 0m 4s (remain 0m 0s) \n",
      "Epoch: [20][0/40] Data 0.641 (0.641) Elapsed 0m 1s (remain 1m 15s) Loss: 1.1644(1.1644) Grad Norm: 12.7665  LR: 3.9299e-04  \n",
      "Epoch: [20][39/40] Data 0.000 (0.016) Elapsed 0m 51s (remain 0m 0s) Loss: 0.0419(0.6021) Grad Norm: 4.8029  LR: 3.9299e-04  \n",
      "EVAL: [0/9] Data 0.356 (0.356) Elapsed 0m 0s (remain 0m 6s) \n"
     ]
    },
    {
     "name": "stderr",
     "output_type": "stream",
     "text": [
      "labels: [4 0 3 6 0]\n",
      "pred_labels: [4 0 3 9 0]\n",
      "Epoch 20 - avg_train_loss: 0.6021  lr: 3.9299e-04  time: 56s\n",
      "Epoch 20 - Score: 0.6489\n"
     ]
    },
    {
     "name": "stdout",
     "output_type": "stream",
     "text": [
      "EVAL: [8/9] Data 0.000 (0.040) Elapsed 0m 4s (remain 0m 0s) \n",
      "Epoch: [21][0/40] Data 0.599 (0.599) Elapsed 0m 1s (remain 1m 13s) Loss: 1.1843(1.1843) Grad Norm: 7.5689  LR: 3.4975e-04  \n",
      "Epoch: [21][39/40] Data 0.000 (0.015) Elapsed 0m 51s (remain 0m 0s) Loss: 0.2127(0.5378) Grad Norm: 15.6340  LR: 3.4975e-04  \n",
      "EVAL: [0/9] Data 0.463 (0.463) Elapsed 0m 0s (remain 0m 7s) \n"
     ]
    },
    {
     "name": "stderr",
     "output_type": "stream",
     "text": [
      "labels: [4 0 3 6 0]\n",
      "pred_labels: [3 0 3 9 0]\n",
      "Epoch 21 - avg_train_loss: 0.5378  lr: 3.4975e-04  time: 56s\n",
      "Epoch 21 - Score: 0.6565\n",
      "Epoch 21 - Save Best Score: 0.6565 Model\n"
     ]
    },
    {
     "name": "stdout",
     "output_type": "stream",
     "text": [
      "EVAL: [8/9] Data 0.000 (0.052) Elapsed 0m 4s (remain 0m 0s) \n",
      "Epoch: [22][0/40] Data 0.731 (0.731) Elapsed 0m 2s (remain 1m 18s) Loss: 0.0019(0.0019) Grad Norm: 0.0700  LR: 3.0775e-04  \n",
      "Epoch: [22][39/40] Data 0.000 (0.018) Elapsed 0m 51s (remain 0m 0s) Loss: 0.0127(0.4663) Grad Norm: 0.5287  LR: 3.0775e-04  \n",
      "EVAL: [0/9] Data 0.478 (0.478) Elapsed 0m 0s (remain 0m 7s) \n"
     ]
    },
    {
     "name": "stderr",
     "output_type": "stream",
     "text": [
      "labels: [4 0 3 6 0]\n",
      "pred_labels: [ 4  0  3 11  0]\n",
      "Epoch 22 - avg_train_loss: 0.4663  lr: 3.0775e-04  time: 56s\n",
      "Epoch 22 - Score: 0.6412\n"
     ]
    },
    {
     "name": "stdout",
     "output_type": "stream",
     "text": [
      "EVAL: [8/9] Data 0.000 (0.053) Elapsed 0m 4s (remain 0m 0s) \n",
      "Epoch: [23][0/40] Data 0.666 (0.666) Elapsed 0m 1s (remain 1m 15s) Loss: 0.0011(0.0011) Grad Norm: 0.0409  LR: 2.6732e-04  \n",
      "Epoch: [23][39/40] Data 0.000 (0.017) Elapsed 0m 51s (remain 0m 0s) Loss: 0.8928(0.6865) Grad Norm: 5.5772  LR: 2.6732e-04  \n",
      "EVAL: [0/9] Data 0.384 (0.384) Elapsed 0m 0s (remain 0m 6s) \n"
     ]
    },
    {
     "name": "stderr",
     "output_type": "stream",
     "text": [
      "labels: [4 0 3 6 0]\n",
      "pred_labels: [4 0 3 9 0]\n",
      "Epoch 23 - avg_train_loss: 0.6865  lr: 2.6732e-04  time: 56s\n",
      "Epoch 23 - Score: 0.6489\n"
     ]
    },
    {
     "name": "stdout",
     "output_type": "stream",
     "text": [
      "EVAL: [8/9] Data 0.000 (0.043) Elapsed 0m 4s (remain 0m 0s) \n",
      "Epoch: [24][0/40] Data 0.590 (0.590) Elapsed 0m 1s (remain 1m 12s) Loss: 1.0311(1.0311) Grad Norm: 7.0575  LR: 2.2880e-04  \n",
      "Epoch: [24][39/40] Data 0.000 (0.015) Elapsed 0m 51s (remain 0m 0s) Loss: 1.1915(0.4100) Grad Norm: 6.5451  LR: 2.2880e-04  \n",
      "EVAL: [0/9] Data 0.479 (0.479) Elapsed 0m 0s (remain 0m 7s) \n"
     ]
    },
    {
     "name": "stderr",
     "output_type": "stream",
     "text": [
      "labels: [4 0 3 6 0]\n",
      "pred_labels: [ 4  0  3 11  0]\n",
      "Epoch 24 - avg_train_loss: 0.4100  lr: 2.2880e-04  time: 56s\n",
      "Epoch 24 - Score: 0.6641\n",
      "Epoch 24 - Save Best Score: 0.6641 Model\n"
     ]
    },
    {
     "name": "stdout",
     "output_type": "stream",
     "text": [
      "EVAL: [8/9] Data 0.000 (0.053) Elapsed 0m 4s (remain 0m 0s) \n",
      "Epoch: [25][0/40] Data 0.535 (0.535) Elapsed 0m 1s (remain 1m 10s) Loss: 1.3693(1.3693) Grad Norm: 9.4553  LR: 1.9248e-04  \n",
      "Epoch: [25][39/40] Data 0.000 (0.014) Elapsed 0m 51s (remain 0m 0s) Loss: 0.0035(0.4769) Grad Norm: 0.6667  LR: 1.9248e-04  \n",
      "EVAL: [0/9] Data 0.395 (0.395) Elapsed 0m 0s (remain 0m 6s) \n"
     ]
    },
    {
     "name": "stderr",
     "output_type": "stream",
     "text": [
      "labels: [4 0 3 6 0]\n",
      "pred_labels: [4 0 3 9 0]\n",
      "Epoch 25 - avg_train_loss: 0.4769  lr: 1.9248e-04  time: 55s\n",
      "Epoch 25 - Score: 0.6412\n"
     ]
    },
    {
     "name": "stdout",
     "output_type": "stream",
     "text": [
      "EVAL: [8/9] Data 0.000 (0.044) Elapsed 0m 4s (remain 0m 0s) \n",
      "Epoch: [26][0/40] Data 0.571 (0.571) Elapsed 0m 1s (remain 1m 11s) Loss: 0.0010(0.0010) Grad Norm: 0.0662  LR: 1.5867e-04  \n",
      "Epoch: [26][39/40] Data 0.000 (0.014) Elapsed 0m 51s (remain 0m 0s) Loss: 0.8655(0.3632) Grad Norm: 6.8023  LR: 1.5867e-04  \n",
      "EVAL: [0/9] Data 0.430 (0.430) Elapsed 0m 0s (remain 0m 7s) \n"
     ]
    },
    {
     "name": "stderr",
     "output_type": "stream",
     "text": [
      "labels: [4 0 3 6 0]\n",
      "pred_labels: [ 4  0  3 11  0]\n",
      "Epoch 26 - avg_train_loss: 0.3632  lr: 1.5867e-04  time: 56s\n",
      "Epoch 26 - Score: 0.6565\n"
     ]
    },
    {
     "name": "stdout",
     "output_type": "stream",
     "text": [
      "EVAL: [8/9] Data 0.000 (0.048) Elapsed 0m 4s (remain 0m 0s) \n",
      "Epoch: [27][0/40] Data 0.589 (0.589) Elapsed 0m 1s (remain 1m 12s) Loss: 0.0228(0.0228) Grad Norm: 2.6282  LR: 1.2762e-04  \n",
      "Epoch: [27][39/40] Data 0.000 (0.015) Elapsed 0m 51s (remain 0m 0s) Loss: 1.0840(0.4745) Grad Norm: 8.0072  LR: 1.2762e-04  \n",
      "EVAL: [0/9] Data 0.407 (0.407) Elapsed 0m 0s (remain 0m 6s) \n"
     ]
    },
    {
     "name": "stderr",
     "output_type": "stream",
     "text": [
      "labels: [4 0 3 6 0]\n",
      "pred_labels: [ 4  0  3 11  0]\n",
      "Epoch 27 - avg_train_loss: 0.4745  lr: 1.2762e-04  time: 56s\n",
      "Epoch 27 - Score: 0.6260\n"
     ]
    },
    {
     "name": "stdout",
     "output_type": "stream",
     "text": [
      "EVAL: [8/9] Data 0.000 (0.045) Elapsed 0m 4s (remain 0m 0s) \n",
      "Epoch: [28][0/40] Data 0.680 (0.680) Elapsed 0m 1s (remain 1m 16s) Loss: 1.0177(1.0177) Grad Norm: 5.5327  LR: 9.9584e-05  \n",
      "Epoch: [28][39/40] Data 0.000 (0.017) Elapsed 0m 51s (remain 0m 0s) Loss: 0.0035(0.4560) Grad Norm: 0.3471  LR: 9.9584e-05  \n",
      "EVAL: [0/9] Data 0.403 (0.403) Elapsed 0m 0s (remain 0m 6s) \n"
     ]
    },
    {
     "name": "stderr",
     "output_type": "stream",
     "text": [
      "labels: [4 0 3 6 0]\n",
      "pred_labels: [ 4  0  3 11  0]\n",
      "Epoch 28 - avg_train_loss: 0.4560  lr: 9.9584e-05  time: 56s\n",
      "Epoch 28 - Score: 0.6718\n",
      "Epoch 28 - Save Best Score: 0.6718 Model\n"
     ]
    },
    {
     "name": "stdout",
     "output_type": "stream",
     "text": [
      "EVAL: [8/9] Data 0.000 (0.045) Elapsed 0m 4s (remain 0m 0s) \n",
      "Epoch: [29][0/40] Data 0.773 (0.773) Elapsed 0m 2s (remain 1m 20s) Loss: 0.8783(0.8783) Grad Norm: 4.9704  LR: 7.4783e-05  \n",
      "Epoch: [29][39/40] Data 0.000 (0.020) Elapsed 0m 51s (remain 0m 0s) Loss: 0.7133(0.5310) Grad Norm: 3.6155  LR: 7.4783e-05  \n",
      "EVAL: [0/9] Data 0.373 (0.373) Elapsed 0m 0s (remain 0m 6s) \n"
     ]
    },
    {
     "name": "stderr",
     "output_type": "stream",
     "text": [
      "labels: [4 0 3 6 0]\n",
      "pred_labels: [ 4  0  3 11  0]\n",
      "Epoch 29 - avg_train_loss: 0.5310  lr: 7.4783e-05  time: 56s\n",
      "Epoch 29 - Score: 0.6794\n",
      "Epoch 29 - Save Best Score: 0.6794 Model\n"
     ]
    },
    {
     "name": "stdout",
     "output_type": "stream",
     "text": [
      "EVAL: [8/9] Data 0.000 (0.042) Elapsed 0m 4s (remain 0m 0s) \n",
      "Epoch: [30][0/40] Data 0.633 (0.633) Elapsed 0m 1s (remain 1m 15s) Loss: 0.8305(0.8305) Grad Norm: 5.1679  LR: 5.3404e-05  \n",
      "Epoch: [30][39/40] Data 0.000 (0.016) Elapsed 0m 51s (remain 0m 0s) Loss: 0.6234(0.4732) Grad Norm: 4.1859  LR: 5.3404e-05  \n",
      "EVAL: [0/9] Data 0.447 (0.447) Elapsed 0m 0s (remain 0m 7s) \n"
     ]
    },
    {
     "name": "stderr",
     "output_type": "stream",
     "text": [
      "labels: [4 0 3 6 0]\n",
      "pred_labels: [ 4  0  3 11  0]\n",
      "Epoch 30 - avg_train_loss: 0.4732  lr: 5.3404e-05  time: 56s\n",
      "Epoch 30 - Score: 0.6565\n"
     ]
    },
    {
     "name": "stdout",
     "output_type": "stream",
     "text": [
      "EVAL: [8/9] Data 0.000 (0.050) Elapsed 0m 4s (remain 0m 0s) \n",
      "Epoch: [31][0/40] Data 0.625 (0.625) Elapsed 0m 1s (remain 1m 13s) Loss: 0.0006(0.0006) Grad Norm: 0.0199  LR: 3.5607e-05  \n",
      "Epoch: [31][39/40] Data 0.000 (0.016) Elapsed 0m 51s (remain 0m 0s) Loss: 0.0006(0.0095) Grad Norm: 0.0407  LR: 3.5607e-05  \n",
      "EVAL: [0/9] Data 0.423 (0.423) Elapsed 0m 0s (remain 0m 6s) \n"
     ]
    },
    {
     "name": "stderr",
     "output_type": "stream",
     "text": [
      "labels: [4 0 3 6 0]\n",
      "pred_labels: [ 4  0  3 11  0]\n",
      "Epoch 31 - avg_train_loss: 0.0095  lr: 3.5607e-05  time: 56s\n",
      "Epoch 31 - Score: 0.6412\n"
     ]
    },
    {
     "name": "stdout",
     "output_type": "stream",
     "text": [
      "EVAL: [8/9] Data 0.000 (0.047) Elapsed 0m 4s (remain 0m 0s) \n",
      "Epoch: [32][0/40] Data 0.636 (0.636) Elapsed 0m 1s (remain 1m 14s) Loss: 0.0087(0.0087) Grad Norm: 0.6902  LR: 2.1508e-05  \n",
      "Epoch: [32][39/40] Data 0.000 (0.016) Elapsed 0m 51s (remain 0m 0s) Loss: 0.0004(0.0109) Grad Norm: 0.0129  LR: 2.1508e-05  \n",
      "EVAL: [0/9] Data 0.444 (0.444) Elapsed 0m 0s (remain 0m 7s) \n"
     ]
    },
    {
     "name": "stderr",
     "output_type": "stream",
     "text": [
      "labels: [4 0 3 6 0]\n",
      "pred_labels: [ 4  0  3 11  0]\n",
      "Epoch 32 - avg_train_loss: 0.0109  lr: 2.1508e-05  time: 56s\n",
      "Epoch 32 - Score: 0.6412\n"
     ]
    },
    {
     "name": "stdout",
     "output_type": "stream",
     "text": [
      "EVAL: [8/9] Data 0.000 (0.050) Elapsed 0m 4s (remain 0m 0s) \n",
      "Epoch: [33][0/40] Data 0.662 (0.662) Elapsed 0m 1s (remain 1m 15s) Loss: 0.0008(0.0008) Grad Norm: 0.0503  LR: 1.1173e-05  \n",
      "Epoch: [33][39/40] Data 0.000 (0.017) Elapsed 0m 51s (remain 0m 0s) Loss: 0.0008(0.0046) Grad Norm: 0.0933  LR: 1.1173e-05  \n",
      "EVAL: [0/9] Data 0.387 (0.387) Elapsed 0m 0s (remain 0m 6s) \n"
     ]
    },
    {
     "name": "stderr",
     "output_type": "stream",
     "text": [
      "labels: [4 0 3 6 0]\n",
      "pred_labels: [ 4  0  3 11  0]\n",
      "Epoch 33 - avg_train_loss: 0.0046  lr: 1.1173e-05  time: 56s\n",
      "Epoch 33 - Score: 0.6412\n"
     ]
    },
    {
     "name": "stdout",
     "output_type": "stream",
     "text": [
      "EVAL: [8/9] Data 0.000 (0.043) Elapsed 0m 4s (remain 0m 0s) \n",
      "Epoch: [34][0/40] Data 0.576 (0.576) Elapsed 0m 1s (remain 1m 11s) Loss: 0.0056(0.0056) Grad Norm: 0.2310  LR: 4.5796e-06  \n",
      "Epoch: [34][39/40] Data 0.000 (0.015) Elapsed 0m 51s (remain 0m 0s) Loss: 0.0002(0.0096) Grad Norm: 0.0093  LR: 4.5796e-06  \n",
      "EVAL: [0/9] Data 0.357 (0.357) Elapsed 0m 0s (remain 0m 6s) \n"
     ]
    },
    {
     "name": "stderr",
     "output_type": "stream",
     "text": [
      "labels: [4 0 3 6 0]\n",
      "pred_labels: [ 4  0  3 11  0]\n",
      "Epoch 34 - avg_train_loss: 0.0096  lr: 4.5796e-06  time: 55s\n",
      "Epoch 34 - Score: 0.6412\n"
     ]
    },
    {
     "name": "stdout",
     "output_type": "stream",
     "text": [
      "EVAL: [8/9] Data 0.000 (0.040) Elapsed 0m 4s (remain 0m 0s) \n",
      "Epoch: [35][0/40] Data 0.583 (0.583) Elapsed 0m 1s (remain 1m 12s) Loss: 0.0015(0.0015) Grad Norm: 0.1763  LR: 1.5037e-06  \n",
      "Epoch: [35][39/40] Data 0.000 (0.015) Elapsed 0m 51s (remain 0m 0s) Loss: 0.0008(0.0060) Grad Norm: 0.0492  LR: 1.5037e-06  \n",
      "EVAL: [0/9] Data 0.439 (0.439) Elapsed 0m 0s (remain 0m 7s) \n"
     ]
    },
    {
     "name": "stderr",
     "output_type": "stream",
     "text": [
      "labels: [4 0 3 6 0]\n",
      "pred_labels: [ 4  0  3 11  0]\n",
      "Epoch 35 - avg_train_loss: 0.0060  lr: 1.5037e-06  time: 56s\n",
      "Epoch 35 - Score: 0.6412\n",
      "==================== fold: 2, seed: 0 training ====================\n"
     ]
    },
    {
     "name": "stdout",
     "output_type": "stream",
     "text": [
      "EVAL: [8/9] Data 0.000 (0.049) Elapsed 0m 4s (remain 0m 0s) \n",
      "Epoch: [1][0/40] Data 0.567 (0.567) Elapsed 0m 1s (remain 1m 11s) Loss: 2.4837(2.4837) Grad Norm: inf  LR: 1.0000e-03  \n",
      "Epoch: [1][39/40] Data 0.000 (0.014) Elapsed 0m 51s (remain 0m 0s) Loss: 2.4087(2.4818) Grad Norm: 8.3761  LR: 1.0000e-03  \n",
      "EVAL: [0/9] Data 0.375 (0.375) Elapsed 0m 0s (remain 0m 6s) \n"
     ]
    },
    {
     "name": "stderr",
     "output_type": "stream",
     "text": [
      "labels: [ 5 12  2 11  8]\n",
      "pred_labels: [6 9 9 6 9]\n",
      "Epoch 1 - avg_train_loss: 2.4818  lr: 1.0000e-03  time: 56s\n",
      "Epoch 1 - Score: 0.2290\n",
      "Epoch 1 - Save Best Score: 0.2290 Model\n"
     ]
    },
    {
     "name": "stdout",
     "output_type": "stream",
     "text": [
      "EVAL: [8/9] Data 0.000 (0.042) Elapsed 0m 4s (remain 0m 0s) \n",
      "Epoch: [2][0/40] Data 0.625 (0.625) Elapsed 0m 1s (remain 1m 14s) Loss: 2.1818(2.1818) Grad Norm: 8.9719  LR: 9.9598e-04  \n",
      "Epoch: [2][39/40] Data 0.000 (0.016) Elapsed 0m 51s (remain 0m 0s) Loss: 1.4089(2.1002) Grad Norm: 11.3940  LR: 9.9598e-04  \n",
      "EVAL: [0/9] Data 0.428 (0.428) Elapsed 0m 0s (remain 0m 7s) \n"
     ]
    },
    {
     "name": "stderr",
     "output_type": "stream",
     "text": [
      "labels: [ 5 12  2 11  8]\n",
      "pred_labels: [ 2  9  2 11  8]\n",
      "Epoch 2 - avg_train_loss: 2.1002  lr: 9.9598e-04  time: 56s\n",
      "Epoch 2 - Score: 0.4122\n",
      "Epoch 2 - Save Best Score: 0.4122 Model\n"
     ]
    },
    {
     "name": "stdout",
     "output_type": "stream",
     "text": [
      "EVAL: [8/9] Data 0.000 (0.048) Elapsed 0m 4s (remain 0m 0s) \n",
      "Epoch: [3][0/40] Data 0.561 (0.561) Elapsed 0m 1s (remain 1m 12s) Loss: 1.7570(1.7570) Grad Norm: 11.6157  LR: 9.8599e-04  \n",
      "Epoch: [3][39/40] Data 0.000 (0.014) Elapsed 0m 51s (remain 0m 0s) Loss: 1.0742(1.7432) Grad Norm: 13.1174  LR: 9.8599e-04  \n",
      "EVAL: [0/9] Data 0.431 (0.431) Elapsed 0m 0s (remain 0m 7s) \n"
     ]
    },
    {
     "name": "stderr",
     "output_type": "stream",
     "text": [
      "labels: [ 5 12  2 11  8]\n",
      "pred_labels: [ 6  9  8 11  8]\n",
      "Epoch 3 - avg_train_loss: 1.7432  lr: 9.8599e-04  time: 56s\n",
      "Epoch 3 - Score: 0.5115\n",
      "Epoch 3 - Save Best Score: 0.5115 Model\n"
     ]
    },
    {
     "name": "stdout",
     "output_type": "stream",
     "text": [
      "EVAL: [8/9] Data 0.000 (0.048) Elapsed 0m 4s (remain 0m 0s) \n",
      "Epoch: [4][0/40] Data 0.565 (0.565) Elapsed 0m 1s (remain 1m 13s) Loss: 1.4170(1.4170) Grad Norm: 9.2420  LR: 9.7213e-04  \n",
      "Epoch: [4][39/40] Data 0.000 (0.014) Elapsed 0m 51s (remain 0m 0s) Loss: 1.0048(1.5076) Grad Norm: 11.2989  LR: 9.7213e-04  \n",
      "EVAL: [0/9] Data 0.379 (0.379) Elapsed 0m 0s (remain 0m 6s) \n"
     ]
    },
    {
     "name": "stderr",
     "output_type": "stream",
     "text": [
      "labels: [ 5 12  2 11  8]\n",
      "pred_labels: [ 3  9  2 11  8]\n",
      "Epoch 4 - avg_train_loss: 1.5076  lr: 9.7213e-04  time: 56s\n",
      "Epoch 4 - Score: 0.5115\n"
     ]
    },
    {
     "name": "stdout",
     "output_type": "stream",
     "text": [
      "EVAL: [8/9] Data 0.000 (0.042) Elapsed 0m 4s (remain 0m 0s) \n",
      "Epoch: [5][0/40] Data 0.601 (0.601) Elapsed 0m 1s (remain 1m 13s) Loss: 0.7996(0.7996) Grad Norm: 10.2349  LR: 9.5449e-04  \n",
      "Epoch: [5][39/40] Data 0.000 (0.015) Elapsed 0m 51s (remain 0m 0s) Loss: 0.5208(1.2843) Grad Norm: 8.7202  LR: 9.5449e-04  \n",
      "EVAL: [0/9] Data 0.382 (0.382) Elapsed 0m 0s (remain 0m 6s) \n"
     ]
    },
    {
     "name": "stderr",
     "output_type": "stream",
     "text": [
      "labels: [ 5 12  2 11  8]\n",
      "pred_labels: [ 5  9  2 11  8]\n",
      "Epoch 5 - avg_train_loss: 1.2843  lr: 9.5449e-04  time: 56s\n",
      "Epoch 5 - Score: 0.6489\n",
      "Epoch 5 - Save Best Score: 0.6489 Model\n"
     ]
    },
    {
     "name": "stdout",
     "output_type": "stream",
     "text": [
      "EVAL: [8/9] Data 0.000 (0.043) Elapsed 0m 4s (remain 0m 0s) \n",
      "Epoch: [6][0/40] Data 0.635 (0.635) Elapsed 0m 1s (remain 1m 15s) Loss: 1.6672(1.6672) Grad Norm: 11.1193  LR: 9.3324e-04  \n",
      "Epoch: [6][39/40] Data 0.000 (0.016) Elapsed 0m 51s (remain 0m 0s) Loss: 1.8555(1.2879) Grad Norm: 9.2424  LR: 9.3324e-04  \n",
      "EVAL: [0/9] Data 0.415 (0.415) Elapsed 0m 0s (remain 0m 6s) \n"
     ]
    },
    {
     "name": "stderr",
     "output_type": "stream",
     "text": [
      "labels: [ 5 12  2 11  8]\n",
      "pred_labels: [ 2  9  2 11  8]\n",
      "Epoch 6 - avg_train_loss: 1.2879  lr: 9.3324e-04  time: 56s\n",
      "Epoch 6 - Score: 0.6412\n"
     ]
    },
    {
     "name": "stdout",
     "output_type": "stream",
     "text": [
      "EVAL: [8/9] Data 0.000 (0.046) Elapsed 0m 4s (remain 0m 0s) \n",
      "Epoch: [7][0/40] Data 0.575 (0.575) Elapsed 0m 1s (remain 1m 12s) Loss: 0.4161(0.4161) Grad Norm: 8.8360  LR: 9.0853e-04  \n",
      "Epoch: [7][39/40] Data 0.000 (0.015) Elapsed 0m 51s (remain 0m 0s) Loss: 1.4210(1.0513) Grad Norm: 7.3404  LR: 9.0853e-04  \n",
      "EVAL: [0/9] Data 0.340 (0.340) Elapsed 0m 0s (remain 0m 6s) \n"
     ]
    },
    {
     "name": "stderr",
     "output_type": "stream",
     "text": [
      "labels: [ 5 12  2 11  8]\n",
      "pred_labels: [ 3  9  2 11  8]\n",
      "Epoch 7 - avg_train_loss: 1.0513  lr: 9.0853e-04  time: 56s\n",
      "Epoch 7 - Score: 0.6260\n"
     ]
    },
    {
     "name": "stdout",
     "output_type": "stream",
     "text": [
      "EVAL: [8/9] Data 0.000 (0.038) Elapsed 0m 4s (remain 0m 0s) \n",
      "Epoch: [8][0/40] Data 0.529 (0.529) Elapsed 0m 1s (remain 1m 10s) Loss: 1.3499(1.3499) Grad Norm: 5.7999  LR: 8.8057e-04  \n",
      "Epoch: [8][39/40] Data 0.000 (0.013) Elapsed 0m 51s (remain 0m 0s) Loss: 1.8303(1.1903) Grad Norm: 7.2743  LR: 8.8057e-04  \n",
      "EVAL: [0/9] Data 0.346 (0.346) Elapsed 0m 0s (remain 0m 6s) \n"
     ]
    },
    {
     "name": "stderr",
     "output_type": "stream",
     "text": [
      "labels: [ 5 12  2 11  8]\n",
      "pred_labels: [ 5 12  2 11  8]\n",
      "Epoch 8 - avg_train_loss: 1.1903  lr: 8.8057e-04  time: 56s\n",
      "Epoch 8 - Score: 0.6412\n"
     ]
    },
    {
     "name": "stdout",
     "output_type": "stream",
     "text": [
      "EVAL: [8/9] Data 0.000 (0.039) Elapsed 0m 4s (remain 0m 0s) \n",
      "Epoch: [9][0/40] Data 0.597 (0.597) Elapsed 0m 1s (remain 1m 12s) Loss: 1.2670(1.2670) Grad Norm: 5.5316  LR: 8.4958e-04  \n",
      "Epoch: [9][39/40] Data 0.000 (0.015) Elapsed 0m 51s (remain 0m 0s) Loss: 1.5385(1.0681) Grad Norm: 6.1747  LR: 8.4958e-04  \n",
      "EVAL: [0/9] Data 0.306 (0.306) Elapsed 0m 0s (remain 0m 6s) \n"
     ]
    },
    {
     "name": "stderr",
     "output_type": "stream",
     "text": [
      "labels: [ 5 12  2 11  8]\n",
      "pred_labels: [ 5  9  2 11  8]\n",
      "Epoch 9 - avg_train_loss: 1.0681  lr: 8.4958e-04  time: 56s\n",
      "Epoch 9 - Score: 0.5954\n"
     ]
    },
    {
     "name": "stdout",
     "output_type": "stream",
     "text": [
      "EVAL: [8/9] Data 0.000 (0.034) Elapsed 0m 3s (remain 0m 0s) \n",
      "Epoch: [10][0/40] Data 0.452 (0.452) Elapsed 0m 1s (remain 1m 7s) Loss: 0.4084(0.4084) Grad Norm: 8.3596  LR: 8.1581e-04  \n",
      "Epoch: [10][39/40] Data 0.000 (0.011) Elapsed 0m 51s (remain 0m 0s) Loss: 1.7852(0.8650) Grad Norm: 9.0737  LR: 8.1581e-04  \n",
      "EVAL: [0/9] Data 0.342 (0.342) Elapsed 0m 0s (remain 0m 6s) \n"
     ]
    },
    {
     "name": "stderr",
     "output_type": "stream",
     "text": [
      "labels: [ 5 12  2 11  8]\n",
      "pred_labels: [ 5 12  2 11  8]\n",
      "Epoch 10 - avg_train_loss: 0.8650  lr: 8.1581e-04  time: 55s\n",
      "Epoch 10 - Score: 0.6641\n",
      "Epoch 10 - Save Best Score: 0.6641 Model\n"
     ]
    },
    {
     "name": "stdout",
     "output_type": "stream",
     "text": [
      "EVAL: [8/9] Data 0.000 (0.038) Elapsed 0m 4s (remain 0m 0s) \n",
      "Epoch: [11][0/40] Data 0.509 (0.509) Elapsed 0m 1s (remain 1m 10s) Loss: 1.2775(1.2775) Grad Norm: 9.0822  LR: 7.7953e-04  \n",
      "Epoch: [11][39/40] Data 0.000 (0.013) Elapsed 0m 51s (remain 0m 0s) Loss: 0.0904(0.7406) Grad Norm: 3.2515  LR: 7.7953e-04  \n",
      "EVAL: [0/9] Data 0.436 (0.436) Elapsed 0m 0s (remain 0m 7s) \n"
     ]
    },
    {
     "name": "stderr",
     "output_type": "stream",
     "text": [
      "labels: [ 5 12  2 11  8]\n",
      "pred_labels: [ 5  9  2 11  8]\n",
      "Epoch 11 - avg_train_loss: 0.7406  lr: 7.7953e-04  time: 56s\n",
      "Epoch 11 - Score: 0.6260\n"
     ]
    },
    {
     "name": "stdout",
     "output_type": "stream",
     "text": [
      "EVAL: [8/9] Data 0.000 (0.049) Elapsed 0m 4s (remain 0m 0s) \n",
      "Epoch: [12][0/40] Data 0.541 (0.541) Elapsed 0m 1s (remain 1m 10s) Loss: 1.1953(1.1953) Grad Norm: 7.3587  LR: 7.4103e-04  \n",
      "Epoch: [12][39/40] Data 0.000 (0.014) Elapsed 0m 51s (remain 0m 0s) Loss: 0.0813(0.8657) Grad Norm: 5.6791  LR: 7.4103e-04  \n",
      "EVAL: [0/9] Data 0.409 (0.409) Elapsed 0m 0s (remain 0m 6s) \n"
     ]
    },
    {
     "name": "stderr",
     "output_type": "stream",
     "text": [
      "labels: [ 5 12  2 11  8]\n",
      "pred_labels: [ 5  9  2 11  8]\n",
      "Epoch 12 - avg_train_loss: 0.8657  lr: 7.4103e-04  time: 56s\n",
      "Epoch 12 - Score: 0.6107\n"
     ]
    },
    {
     "name": "stdout",
     "output_type": "stream",
     "text": [
      "EVAL: [8/9] Data 0.000 (0.046) Elapsed 0m 4s (remain 0m 0s) \n",
      "Epoch: [13][0/40] Data 0.670 (0.670) Elapsed 0m 1s (remain 1m 15s) Loss: 1.2992(1.2992) Grad Norm: 7.6989  LR: 7.0063e-04  \n",
      "Epoch: [13][39/40] Data 0.000 (0.017) Elapsed 0m 51s (remain 0m 0s) Loss: 1.6093(0.7457) Grad Norm: 8.0780  LR: 7.0063e-04  \n",
      "EVAL: [0/9] Data 0.399 (0.399) Elapsed 0m 0s (remain 0m 6s) \n"
     ]
    },
    {
     "name": "stderr",
     "output_type": "stream",
     "text": [
      "labels: [ 5 12  2 11  8]\n",
      "pred_labels: [ 5 12  2 11  8]\n",
      "Epoch 13 - avg_train_loss: 0.7457  lr: 7.0063e-04  time: 56s\n",
      "Epoch 13 - Score: 0.6565\n"
     ]
    },
    {
     "name": "stdout",
     "output_type": "stream",
     "text": [
      "EVAL: [8/9] Data 0.000 (0.045) Elapsed 0m 4s (remain 0m 0s) \n",
      "Epoch: [14][0/40] Data 0.534 (0.534) Elapsed 0m 1s (remain 1m 10s) Loss: 0.2493(0.2493) Grad Norm: 12.1735  LR: 6.5865e-04  \n",
      "Epoch: [14][39/40] Data 0.000 (0.014) Elapsed 0m 51s (remain 0m 0s) Loss: 0.1562(0.7855) Grad Norm: 3.2541  LR: 6.5865e-04  \n",
      "EVAL: [0/9] Data 0.401 (0.401) Elapsed 0m 0s (remain 0m 6s) \n"
     ]
    },
    {
     "name": "stderr",
     "output_type": "stream",
     "text": [
      "labels: [ 5 12  2 11  8]\n",
      "pred_labels: [ 5 12  2 11  8]\n",
      "Epoch 14 - avg_train_loss: 0.7855  lr: 6.5865e-04  time: 56s\n",
      "Epoch 14 - Score: 0.6412\n"
     ]
    },
    {
     "name": "stdout",
     "output_type": "stream",
     "text": [
      "EVAL: [8/9] Data 0.000 (0.045) Elapsed 0m 4s (remain 0m 0s) \n",
      "Epoch: [15][0/40] Data 0.622 (0.622) Elapsed 0m 1s (remain 1m 14s) Loss: 1.2895(1.2895) Grad Norm: 6.0614  LR: 6.1542e-04  \n",
      "Epoch: [15][39/40] Data 0.000 (0.016) Elapsed 0m 51s (remain 0m 0s) Loss: 0.1163(0.6799) Grad Norm: 4.5881  LR: 6.1542e-04  \n",
      "EVAL: [0/9] Data 0.413 (0.413) Elapsed 0m 0s (remain 0m 6s) \n"
     ]
    },
    {
     "name": "stderr",
     "output_type": "stream",
     "text": [
      "labels: [ 5 12  2 11  8]\n",
      "pred_labels: [ 5 10  2 11  8]\n",
      "Epoch 15 - avg_train_loss: 0.6799  lr: 6.1542e-04  time: 56s\n",
      "Epoch 15 - Score: 0.7176\n",
      "Epoch 15 - Save Best Score: 0.7176 Model\n"
     ]
    },
    {
     "name": "stdout",
     "output_type": "stream",
     "text": [
      "EVAL: [8/9] Data 0.000 (0.046) Elapsed 0m 4s (remain 0m 0s) \n",
      "Epoch: [16][0/40] Data 0.487 (0.487) Elapsed 0m 1s (remain 1m 9s) Loss: 1.1458(1.1458) Grad Norm: 6.3617  LR: 5.7130e-04  \n",
      "Epoch: [16][39/40] Data 0.000 (0.012) Elapsed 0m 51s (remain 0m 0s) Loss: 0.0101(0.7467) Grad Norm: 0.4793  LR: 5.7130e-04  \n",
      "EVAL: [0/9] Data 0.396 (0.396) Elapsed 0m 0s (remain 0m 6s) \n"
     ]
    },
    {
     "name": "stderr",
     "output_type": "stream",
     "text": [
      "labels: [ 5 12  2 11  8]\n",
      "pred_labels: [ 2 10  2 11  8]\n",
      "Epoch 16 - avg_train_loss: 0.7467  lr: 5.7130e-04  time: 56s\n",
      "Epoch 16 - Score: 0.6412\n"
     ]
    },
    {
     "name": "stdout",
     "output_type": "stream",
     "text": [
      "EVAL: [8/9] Data 0.000 (0.044) Elapsed 0m 4s (remain 0m 0s) \n",
      "Epoch: [17][0/40] Data 0.657 (0.657) Elapsed 0m 1s (remain 1m 15s) Loss: 0.3446(0.3446) Grad Norm: 15.9272  LR: 5.2663e-04  \n",
      "Epoch: [17][39/40] Data 0.000 (0.017) Elapsed 0m 51s (remain 0m 0s) Loss: 0.0179(0.6396) Grad Norm: 0.5767  LR: 5.2663e-04  \n",
      "EVAL: [0/9] Data 0.442 (0.442) Elapsed 0m 0s (remain 0m 7s) \n"
     ]
    },
    {
     "name": "stderr",
     "output_type": "stream",
     "text": [
      "labels: [ 5 12  2 11  8]\n",
      "pred_labels: [ 5 12  2 11  8]\n",
      "Epoch 17 - avg_train_loss: 0.6396  lr: 5.2663e-04  time: 56s\n",
      "Epoch 17 - Score: 0.6565\n"
     ]
    },
    {
     "name": "stdout",
     "output_type": "stream",
     "text": [
      "EVAL: [8/9] Data 0.000 (0.049) Elapsed 0m 4s (remain 0m 0s) \n",
      "Epoch: [18][0/40] Data 0.665 (0.665) Elapsed 0m 1s (remain 1m 15s) Loss: 0.9392(0.9392) Grad Norm: 5.0854  LR: 4.8179e-04  \n",
      "Epoch: [18][39/40] Data 0.000 (0.017) Elapsed 0m 51s (remain 0m 0s) Loss: 0.0998(0.6879) Grad Norm: 6.7864  LR: 4.8179e-04  \n",
      "EVAL: [0/9] Data 0.359 (0.359) Elapsed 0m 0s (remain 0m 6s) \n"
     ]
    },
    {
     "name": "stderr",
     "output_type": "stream",
     "text": [
      "labels: [ 5 12  2 11  8]\n",
      "pred_labels: [ 5 12  2 11  8]\n",
      "Epoch 18 - avg_train_loss: 0.6879  lr: 4.8179e-04  time: 56s\n",
      "Epoch 18 - Score: 0.6718\n"
     ]
    },
    {
     "name": "stdout",
     "output_type": "stream",
     "text": [
      "EVAL: [8/9] Data 0.000 (0.040) Elapsed 0m 4s (remain 0m 0s) \n",
      "Epoch: [19][0/40] Data 0.533 (0.533) Elapsed 0m 1s (remain 1m 10s) Loss: 1.3443(1.3443) Grad Norm: 8.2793  LR: 4.3712e-04  \n",
      "Epoch: [19][39/40] Data 0.000 (0.014) Elapsed 0m 51s (remain 0m 0s) Loss: 0.9438(0.5996) Grad Norm: 6.1267  LR: 4.3712e-04  \n",
      "EVAL: [0/9] Data 0.388 (0.388) Elapsed 0m 0s (remain 0m 6s) \n"
     ]
    },
    {
     "name": "stderr",
     "output_type": "stream",
     "text": [
      "labels: [ 5 12  2 11  8]\n",
      "pred_labels: [ 5 12  2 11  8]\n",
      "Epoch 19 - avg_train_loss: 0.5996  lr: 4.3712e-04  time: 56s\n",
      "Epoch 19 - Score: 0.6412\n"
     ]
    },
    {
     "name": "stdout",
     "output_type": "stream",
     "text": [
      "EVAL: [8/9] Data 0.000 (0.043) Elapsed 0m 4s (remain 0m 0s) \n",
      "Epoch: [20][0/40] Data 0.544 (0.544) Elapsed 0m 1s (remain 1m 10s) Loss: 0.0398(0.0398) Grad Norm: 1.4611  LR: 3.9299e-04  \n",
      "Epoch: [20][39/40] Data 0.000 (0.014) Elapsed 0m 51s (remain 0m 0s) Loss: 0.8641(0.6224) Grad Norm: 4.8421  LR: 3.9299e-04  \n",
      "EVAL: [0/9] Data 0.416 (0.416) Elapsed 0m 0s (remain 0m 6s) \n"
     ]
    },
    {
     "name": "stderr",
     "output_type": "stream",
     "text": [
      "labels: [ 5 12  2 11  8]\n",
      "pred_labels: [ 5  9  2 11  8]\n",
      "Epoch 20 - avg_train_loss: 0.6224  lr: 3.9299e-04  time: 56s\n",
      "Epoch 20 - Score: 0.6565\n"
     ]
    },
    {
     "name": "stdout",
     "output_type": "stream",
     "text": [
      "EVAL: [8/9] Data 0.000 (0.046) Elapsed 0m 4s (remain 0m 0s) \n",
      "Epoch: [21][0/40] Data 0.532 (0.532) Elapsed 0m 1s (remain 1m 10s) Loss: 0.1078(0.1078) Grad Norm: 10.0128  LR: 3.4975e-04  \n",
      "Epoch: [21][39/40] Data 0.000 (0.013) Elapsed 0m 51s (remain 0m 0s) Loss: 0.6770(0.5739) Grad Norm: 3.7519  LR: 3.4975e-04  \n",
      "EVAL: [0/9] Data 0.387 (0.387) Elapsed 0m 0s (remain 0m 6s) \n"
     ]
    },
    {
     "name": "stderr",
     "output_type": "stream",
     "text": [
      "labels: [ 5 12  2 11  8]\n",
      "pred_labels: [ 5  9  2 11  8]\n",
      "Epoch 21 - avg_train_loss: 0.5739  lr: 3.4975e-04  time: 55s\n",
      "Epoch 21 - Score: 0.6870\n"
     ]
    },
    {
     "name": "stdout",
     "output_type": "stream",
     "text": [
      "EVAL: [8/9] Data 0.000 (0.043) Elapsed 0m 4s (remain 0m 0s) \n",
      "Epoch: [22][0/40] Data 0.646 (0.646) Elapsed 0m 1s (remain 1m 14s) Loss: 0.1424(0.1424) Grad Norm: 13.3548  LR: 3.0775e-04  \n",
      "Epoch: [22][39/40] Data 0.000 (0.016) Elapsed 0m 51s (remain 0m 0s) Loss: 1.0357(0.6054) Grad Norm: 9.1451  LR: 3.0775e-04  \n",
      "EVAL: [0/9] Data 0.420 (0.420) Elapsed 0m 0s (remain 0m 6s) \n"
     ]
    },
    {
     "name": "stderr",
     "output_type": "stream",
     "text": [
      "labels: [ 5 12  2 11  8]\n",
      "pred_labels: [ 5 12  2 11  8]\n",
      "Epoch 22 - avg_train_loss: 0.6054  lr: 3.0775e-04  time: 56s\n",
      "Epoch 22 - Score: 0.7023\n"
     ]
    },
    {
     "name": "stdout",
     "output_type": "stream",
     "text": [
      "EVAL: [8/9] Data 0.000 (0.047) Elapsed 0m 4s (remain 0m 0s) \n",
      "Epoch: [23][0/40] Data 0.485 (0.485) Elapsed 0m 1s (remain 1m 8s) Loss: 0.0460(0.0460) Grad Norm: 1.9347  LR: 2.6732e-04  \n",
      "Epoch: [23][39/40] Data 0.000 (0.012) Elapsed 0m 51s (remain 0m 0s) Loss: 0.0137(0.5278) Grad Norm: 0.6391  LR: 2.6732e-04  \n",
      "EVAL: [0/9] Data 0.396 (0.396) Elapsed 0m 0s (remain 0m 6s) \n"
     ]
    },
    {
     "name": "stderr",
     "output_type": "stream",
     "text": [
      "labels: [ 5 12  2 11  8]\n",
      "pred_labels: [ 5 12  2 11  8]\n",
      "Epoch 23 - avg_train_loss: 0.5278  lr: 2.6732e-04  time: 55s\n",
      "Epoch 23 - Score: 0.6870\n"
     ]
    },
    {
     "name": "stdout",
     "output_type": "stream",
     "text": [
      "EVAL: [8/9] Data 0.000 (0.044) Elapsed 0m 4s (remain 0m 0s) \n",
      "Epoch: [24][0/40] Data 0.542 (0.542) Elapsed 0m 1s (remain 1m 10s) Loss: 0.0018(0.0018) Grad Norm: 0.1081  LR: 2.2880e-04  \n",
      "Epoch: [24][39/40] Data 0.000 (0.014) Elapsed 0m 51s (remain 0m 0s) Loss: 0.0009(0.3973) Grad Norm: 0.0577  LR: 2.2880e-04  \n",
      "EVAL: [0/9] Data 0.431 (0.431) Elapsed 0m 0s (remain 0m 7s) \n"
     ]
    },
    {
     "name": "stderr",
     "output_type": "stream",
     "text": [
      "labels: [ 5 12  2 11  8]\n",
      "pred_labels: [ 5  9  2 11  8]\n",
      "Epoch 24 - avg_train_loss: 0.3973  lr: 2.2880e-04  time: 56s\n",
      "Epoch 24 - Score: 0.6565\n"
     ]
    },
    {
     "name": "stdout",
     "output_type": "stream",
     "text": [
      "EVAL: [8/9] Data 0.000 (0.048) Elapsed 0m 4s (remain 0m 0s) \n",
      "Epoch: [25][0/40] Data 0.554 (0.554) Elapsed 0m 1s (remain 1m 11s) Loss: 1.3858(1.3858) Grad Norm: 5.9515  LR: 1.9248e-04  \n",
      "Epoch: [25][39/40] Data 0.000 (0.014) Elapsed 0m 51s (remain 0m 0s) Loss: 0.6106(0.5812) Grad Norm: 3.3427  LR: 1.9248e-04  \n",
      "EVAL: [0/9] Data 0.453 (0.453) Elapsed 0m 0s (remain 0m 7s) \n"
     ]
    },
    {
     "name": "stderr",
     "output_type": "stream",
     "text": [
      "labels: [ 5 12  2 11  8]\n",
      "pred_labels: [ 5  9  2 11  8]\n",
      "Epoch 25 - avg_train_loss: 0.5812  lr: 1.9248e-04  time: 56s\n",
      "Epoch 25 - Score: 0.7023\n"
     ]
    },
    {
     "name": "stdout",
     "output_type": "stream",
     "text": [
      "EVAL: [8/9] Data 0.000 (0.051) Elapsed 0m 4s (remain 0m 0s) \n",
      "Epoch: [26][0/40] Data 0.585 (0.585) Elapsed 0m 1s (remain 1m 12s) Loss: 0.6211(0.6211) Grad Norm: 2.2128  LR: 1.5867e-04  \n",
      "Epoch: [26][39/40] Data 0.000 (0.015) Elapsed 0m 51s (remain 0m 0s) Loss: 0.2000(0.3757) Grad Norm: 13.6730  LR: 1.5867e-04  \n",
      "EVAL: [0/9] Data 0.363 (0.363) Elapsed 0m 0s (remain 0m 6s) \n"
     ]
    },
    {
     "name": "stderr",
     "output_type": "stream",
     "text": [
      "labels: [ 5 12  2 11  8]\n",
      "pred_labels: [ 5  9  2 11  8]\n",
      "Epoch 26 - avg_train_loss: 0.3757  lr: 1.5867e-04  time: 55s\n",
      "Epoch 26 - Score: 0.6870\n"
     ]
    },
    {
     "name": "stdout",
     "output_type": "stream",
     "text": [
      "EVAL: [8/9] Data 0.000 (0.041) Elapsed 0m 4s (remain 0m 0s) \n",
      "Epoch: [27][0/40] Data 0.619 (0.619) Elapsed 0m 1s (remain 1m 13s) Loss: 0.7329(0.7329) Grad Norm: 3.7520  LR: 1.2762e-04  \n",
      "Epoch: [27][39/40] Data 0.000 (0.016) Elapsed 0m 51s (remain 0m 0s) Loss: 0.1785(0.4228) Grad Norm: 2.1314  LR: 1.2762e-04  \n",
      "EVAL: [0/9] Data 0.371 (0.371) Elapsed 0m 0s (remain 0m 6s) \n"
     ]
    },
    {
     "name": "stderr",
     "output_type": "stream",
     "text": [
      "labels: [ 5 12  2 11  8]\n",
      "pred_labels: [ 5  9  2 11  8]\n",
      "Epoch 27 - avg_train_loss: 0.4228  lr: 1.2762e-04  time: 56s\n",
      "Epoch 27 - Score: 0.6870\n"
     ]
    },
    {
     "name": "stdout",
     "output_type": "stream",
     "text": [
      "EVAL: [8/9] Data 0.000 (0.041) Elapsed 0m 4s (remain 0m 0s) \n",
      "Epoch: [28][0/40] Data 0.622 (0.622) Elapsed 0m 1s (remain 1m 13s) Loss: 1.0093(1.0093) Grad Norm: 4.3084  LR: 9.9584e-05  \n",
      "Epoch: [28][39/40] Data 0.000 (0.016) Elapsed 0m 51s (remain 0m 0s) Loss: 0.0029(0.4453) Grad Norm: 0.1875  LR: 9.9584e-05  \n",
      "EVAL: [0/9] Data 0.372 (0.372) Elapsed 0m 0s (remain 0m 6s) \n"
     ]
    },
    {
     "name": "stderr",
     "output_type": "stream",
     "text": [
      "labels: [ 5 12  2 11  8]\n",
      "pred_labels: [ 5  9  2 11  8]\n",
      "Epoch 28 - avg_train_loss: 0.4453  lr: 9.9584e-05  time: 56s\n",
      "Epoch 28 - Score: 0.6870\n"
     ]
    },
    {
     "name": "stdout",
     "output_type": "stream",
     "text": [
      "EVAL: [8/9] Data 0.000 (0.042) Elapsed 0m 4s (remain 0m 0s) \n",
      "Epoch: [29][0/40] Data 0.506 (0.506) Elapsed 0m 1s (remain 1m 9s) Loss: 0.9066(0.9066) Grad Norm: 12.4837  LR: 7.4783e-05  \n",
      "Epoch: [29][39/40] Data 0.000 (0.013) Elapsed 0m 51s (remain 0m 0s) Loss: 0.6715(0.4361) Grad Norm: 3.7150  LR: 7.4783e-05  \n",
      "EVAL: [0/9] Data 0.410 (0.410) Elapsed 0m 0s (remain 0m 6s) \n"
     ]
    },
    {
     "name": "stderr",
     "output_type": "stream",
     "text": [
      "labels: [ 5 12  2 11  8]\n",
      "pred_labels: [ 5  9  2 11  8]\n",
      "Epoch 29 - avg_train_loss: 0.4361  lr: 7.4783e-05  time: 55s\n",
      "Epoch 29 - Score: 0.6794\n"
     ]
    },
    {
     "name": "stdout",
     "output_type": "stream",
     "text": [
      "EVAL: [8/9] Data 0.000 (0.046) Elapsed 0m 4s (remain 0m 0s) \n",
      "Epoch: [30][0/40] Data 0.713 (0.713) Elapsed 0m 1s (remain 1m 17s) Loss: 0.6779(0.6779) Grad Norm: 3.7022  LR: 5.3404e-05  \n",
      "Epoch: [30][39/40] Data 0.000 (0.018) Elapsed 0m 51s (remain 0m 0s) Loss: 0.8321(0.4180) Grad Norm: 3.0556  LR: 5.3404e-05  \n",
      "EVAL: [0/9] Data 0.356 (0.356) Elapsed 0m 0s (remain 0m 6s) \n"
     ]
    },
    {
     "name": "stderr",
     "output_type": "stream",
     "text": [
      "labels: [ 5 12  2 11  8]\n",
      "pred_labels: [ 5  9  2 11  8]\n",
      "Epoch 30 - avg_train_loss: 0.4180  lr: 5.3404e-05  time: 56s\n",
      "Epoch 30 - Score: 0.7023\n"
     ]
    },
    {
     "name": "stdout",
     "output_type": "stream",
     "text": [
      "EVAL: [8/9] Data 0.000 (0.040) Elapsed 0m 4s (remain 0m 0s) \n",
      "Epoch: [31][0/40] Data 0.572 (0.572) Elapsed 0m 1s (remain 1m 11s) Loss: 0.0023(0.0023) Grad Norm: 0.1330  LR: 3.5607e-05  \n",
      "Epoch: [31][39/40] Data 0.000 (0.014) Elapsed 0m 51s (remain 0m 0s) Loss: 0.0311(0.0039) Grad Norm: 5.6417  LR: 3.5607e-05  \n",
      "EVAL: [0/9] Data 0.399 (0.399) Elapsed 0m 0s (remain 0m 6s) \n"
     ]
    },
    {
     "name": "stderr",
     "output_type": "stream",
     "text": [
      "labels: [ 5 12  2 11  8]\n",
      "pred_labels: [ 5  9  2 11  8]\n",
      "Epoch 31 - avg_train_loss: 0.0039  lr: 3.5607e-05  time: 55s\n",
      "Epoch 31 - Score: 0.7099\n"
     ]
    },
    {
     "name": "stdout",
     "output_type": "stream",
     "text": [
      "EVAL: [8/9] Data 0.000 (0.045) Elapsed 0m 4s (remain 0m 0s) \n",
      "Epoch: [32][0/40] Data 0.478 (0.478) Elapsed 0m 1s (remain 1m 8s) Loss: 0.0016(0.0016) Grad Norm: 0.0736  LR: 2.1508e-05  \n",
      "Epoch: [32][39/40] Data 0.000 (0.012) Elapsed 0m 51s (remain 0m 0s) Loss: 0.0014(0.0148) Grad Norm: 0.0771  LR: 2.1508e-05  \n",
      "EVAL: [0/9] Data 0.333 (0.333) Elapsed 0m 0s (remain 0m 6s) \n"
     ]
    },
    {
     "name": "stderr",
     "output_type": "stream",
     "text": [
      "labels: [ 5 12  2 11  8]\n",
      "pred_labels: [ 5  9  2 11  8]\n",
      "Epoch 32 - avg_train_loss: 0.0148  lr: 2.1508e-05  time: 55s\n",
      "Epoch 32 - Score: 0.6947\n"
     ]
    },
    {
     "name": "stdout",
     "output_type": "stream",
     "text": [
      "EVAL: [8/9] Data 0.000 (0.037) Elapsed 0m 3s (remain 0m 0s) \n",
      "Epoch: [33][0/40] Data 0.605 (0.605) Elapsed 0m 1s (remain 1m 13s) Loss: 0.0011(0.0011) Grad Norm: 0.0608  LR: 1.1173e-05  \n",
      "Epoch: [33][39/40] Data 0.000 (0.015) Elapsed 0m 51s (remain 0m 0s) Loss: 0.0021(0.0066) Grad Norm: 0.0967  LR: 1.1173e-05  \n",
      "EVAL: [0/9] Data 0.422 (0.422) Elapsed 0m 0s (remain 0m 6s) \n"
     ]
    },
    {
     "name": "stderr",
     "output_type": "stream",
     "text": [
      "labels: [ 5 12  2 11  8]\n",
      "pred_labels: [ 5  9  2 11  8]\n",
      "Epoch 33 - avg_train_loss: 0.0066  lr: 1.1173e-05  time: 56s\n",
      "Epoch 33 - Score: 0.6947\n"
     ]
    },
    {
     "name": "stdout",
     "output_type": "stream",
     "text": [
      "EVAL: [8/9] Data 0.000 (0.047) Elapsed 0m 4s (remain 0m 0s) \n",
      "Epoch: [34][0/40] Data 0.512 (0.512) Elapsed 0m 1s (remain 1m 9s) Loss: 0.0005(0.0005) Grad Norm: 0.0209  LR: 4.5796e-06  \n",
      "Epoch: [34][39/40] Data 0.000 (0.013) Elapsed 0m 51s (remain 0m 0s) Loss: 0.0007(0.0075) Grad Norm: 0.0257  LR: 4.5796e-06  \n",
      "EVAL: [0/9] Data 0.443 (0.443) Elapsed 0m 0s (remain 0m 7s) \n"
     ]
    },
    {
     "name": "stderr",
     "output_type": "stream",
     "text": [
      "labels: [ 5 12  2 11  8]\n",
      "pred_labels: [ 5  9  2 11  8]\n",
      "Epoch 34 - avg_train_loss: 0.0075  lr: 4.5796e-06  time: 55s\n",
      "Epoch 34 - Score: 0.7023\n"
     ]
    },
    {
     "name": "stdout",
     "output_type": "stream",
     "text": [
      "EVAL: [8/9] Data 0.000 (0.050) Elapsed 0m 4s (remain 0m 0s) \n",
      "Epoch: [35][0/40] Data 0.574 (0.574) Elapsed 0m 1s (remain 1m 11s) Loss: 0.0007(0.0007) Grad Norm: 0.0384  LR: 1.5037e-06  \n",
      "Epoch: [35][39/40] Data 0.000 (0.014) Elapsed 0m 51s (remain 0m 0s) Loss: 0.0033(0.0061) Grad Norm: 0.2124  LR: 1.5037e-06  \n",
      "EVAL: [0/9] Data 0.379 (0.379) Elapsed 0m 0s (remain 0m 6s) \n"
     ]
    },
    {
     "name": "stderr",
     "output_type": "stream",
     "text": [
      "labels: [ 5 12  2 11  8]\n",
      "pred_labels: [ 5  9  2 11  8]\n",
      "Epoch 35 - avg_train_loss: 0.0061  lr: 1.5037e-06  time: 55s\n",
      "Epoch 35 - Score: 0.7023\n",
      "==================== fold: 3, seed: 0 training ====================\n"
     ]
    },
    {
     "name": "stdout",
     "output_type": "stream",
     "text": [
      "EVAL: [8/9] Data 0.000 (0.042) Elapsed 0m 4s (remain 0m 0s) \n",
      "Epoch: [1][0/40] Data 0.582 (0.582) Elapsed 0m 1s (remain 1m 11s) Loss: 2.7006(2.7006) Grad Norm: inf  LR: 1.0000e-03  \n",
      "Epoch: [1][39/40] Data 0.000 (0.015) Elapsed 0m 51s (remain 0m 0s) Loss: 2.3084(2.5207) Grad Norm: 11.0501  LR: 1.0000e-03  \n",
      "EVAL: [0/9] Data 0.346 (0.346) Elapsed 0m 0s (remain 0m 6s) \n"
     ]
    },
    {
     "name": "stderr",
     "output_type": "stream",
     "text": [
      "labels: [2 7 2 3 0]\n",
      "pred_labels: [2 7 2 2 2]\n",
      "Epoch 1 - avg_train_loss: 2.5207  lr: 1.0000e-03  time: 56s\n",
      "Epoch 1 - Score: 0.3206\n",
      "Epoch 1 - Save Best Score: 0.3206 Model\n"
     ]
    },
    {
     "name": "stdout",
     "output_type": "stream",
     "text": [
      "EVAL: [8/9] Data 0.000 (0.039) Elapsed 0m 4s (remain 0m 0s) \n",
      "Epoch: [2][0/40] Data 0.655 (0.655) Elapsed 0m 1s (remain 1m 16s) Loss: 1.8423(1.8423) Grad Norm: 11.0240  LR: 9.9598e-04  \n",
      "Epoch: [2][39/40] Data 0.000 (0.017) Elapsed 0m 51s (remain 0m 0s) Loss: 2.2019(2.0869) Grad Norm: 14.3745  LR: 9.9598e-04  \n",
      "EVAL: [0/9] Data 0.415 (0.415) Elapsed 0m 0s (remain 0m 6s) \n"
     ]
    },
    {
     "name": "stderr",
     "output_type": "stream",
     "text": [
      "labels: [2 7 2 3 0]\n",
      "pred_labels: [5 7 2 2 2]\n",
      "Epoch 2 - avg_train_loss: 2.0869  lr: 9.9598e-04  time: 56s\n",
      "Epoch 2 - Score: 0.4885\n",
      "Epoch 2 - Save Best Score: 0.4885 Model\n"
     ]
    },
    {
     "name": "stdout",
     "output_type": "stream",
     "text": [
      "EVAL: [8/9] Data 0.000 (0.046) Elapsed 0m 4s (remain 0m 0s) \n",
      "Epoch: [3][0/40] Data 0.635 (0.635) Elapsed 0m 1s (remain 1m 15s) Loss: 1.9974(1.9974) Grad Norm: 13.7379  LR: 9.8599e-04  \n",
      "Epoch: [3][39/40] Data 0.000 (0.016) Elapsed 0m 51s (remain 0m 0s) Loss: 1.4738(1.8234) Grad Norm: 13.8092  LR: 9.8599e-04  \n",
      "EVAL: [0/9] Data 0.371 (0.371) Elapsed 0m 0s (remain 0m 6s) \n"
     ]
    },
    {
     "name": "stderr",
     "output_type": "stream",
     "text": [
      "labels: [2 7 2 3 0]\n",
      "pred_labels: [ 5  7  2  2 12]\n",
      "Epoch 3 - avg_train_loss: 1.8234  lr: 9.8599e-04  time: 56s\n",
      "Epoch 3 - Score: 0.5191\n",
      "Epoch 3 - Save Best Score: 0.5191 Model\n"
     ]
    },
    {
     "name": "stdout",
     "output_type": "stream",
     "text": [
      "EVAL: [8/9] Data 0.000 (0.041) Elapsed 0m 4s (remain 0m 0s) \n",
      "Epoch: [4][0/40] Data 0.644 (0.644) Elapsed 0m 1s (remain 1m 16s) Loss: 1.5369(1.5369) Grad Norm: 9.6262  LR: 9.7213e-04  \n",
      "Epoch: [4][39/40] Data 0.000 (0.016) Elapsed 0m 51s (remain 0m 0s) Loss: 0.9789(1.4432) Grad Norm: 14.6897  LR: 9.7213e-04  \n",
      "EVAL: [0/9] Data 0.438 (0.438) Elapsed 0m 0s (remain 0m 7s) \n"
     ]
    },
    {
     "name": "stderr",
     "output_type": "stream",
     "text": [
      "labels: [2 7 2 3 0]\n",
      "pred_labels: [5 7 2 2 0]\n",
      "Epoch 4 - avg_train_loss: 1.4432  lr: 9.7213e-04  time: 56s\n",
      "Epoch 4 - Score: 0.5496\n",
      "Epoch 4 - Save Best Score: 0.5496 Model\n"
     ]
    },
    {
     "name": "stdout",
     "output_type": "stream",
     "text": [
      "EVAL: [8/9] Data 0.000 (0.049) Elapsed 0m 4s (remain 0m 0s) \n",
      "Epoch: [5][0/40] Data 0.498 (0.498) Elapsed 0m 1s (remain 1m 9s) Loss: 0.8111(0.8111) Grad Norm: 11.3338  LR: 9.5449e-04  \n",
      "Epoch: [5][39/40] Data 0.000 (0.013) Elapsed 0m 51s (remain 0m 0s) Loss: 0.4586(1.2553) Grad Norm: 8.8672  LR: 9.5449e-04  \n",
      "EVAL: [0/9] Data 0.344 (0.344) Elapsed 0m 0s (remain 0m 6s) \n"
     ]
    },
    {
     "name": "stderr",
     "output_type": "stream",
     "text": [
      "labels: [2 7 2 3 0]\n",
      "pred_labels: [5 7 2 2 3]\n",
      "Epoch 5 - avg_train_loss: 1.2553  lr: 9.5449e-04  time: 56s\n",
      "Epoch 5 - Score: 0.5573\n",
      "Epoch 5 - Save Best Score: 0.5573 Model\n"
     ]
    },
    {
     "name": "stdout",
     "output_type": "stream",
     "text": [
      "EVAL: [8/9] Data 0.000 (0.039) Elapsed 0m 4s (remain 0m 0s) \n",
      "Epoch: [6][0/40] Data 0.524 (0.524) Elapsed 0m 1s (remain 1m 10s) Loss: 0.2574(0.2574) Grad Norm: 7.4811  LR: 9.3324e-04  \n",
      "Epoch: [6][39/40] Data 0.000 (0.013) Elapsed 0m 51s (remain 0m 0s) Loss: 0.3693(1.0796) Grad Norm: 6.1023  LR: 9.3324e-04  \n",
      "EVAL: [0/9] Data 0.402 (0.402) Elapsed 0m 0s (remain 0m 6s) \n"
     ]
    },
    {
     "name": "stderr",
     "output_type": "stream",
     "text": [
      "labels: [2 7 2 3 0]\n",
      "pred_labels: [5 2 2 2 3]\n",
      "Epoch 6 - avg_train_loss: 1.0796  lr: 9.3324e-04  time: 56s\n",
      "Epoch 6 - Score: 0.5878\n",
      "Epoch 6 - Save Best Score: 0.5878 Model\n"
     ]
    },
    {
     "name": "stdout",
     "output_type": "stream",
     "text": [
      "EVAL: [8/9] Data 0.000 (0.045) Elapsed 0m 4s (remain 0m 0s) \n",
      "Epoch: [7][0/40] Data 0.694 (0.694) Elapsed 0m 1s (remain 1m 17s) Loss: 1.1481(1.1481) Grad Norm: 7.9172  LR: 9.0853e-04  \n",
      "Epoch: [7][39/40] Data 0.000 (0.018) Elapsed 0m 51s (remain 0m 0s) Loss: 1.3223(1.1102) Grad Norm: 11.6780  LR: 9.0853e-04  \n",
      "EVAL: [0/9] Data 0.389 (0.389) Elapsed 0m 0s (remain 0m 6s) \n"
     ]
    },
    {
     "name": "stderr",
     "output_type": "stream",
     "text": [
      "labels: [2 7 2 3 0]\n",
      "pred_labels: [5 7 2 4 9]\n",
      "Epoch 7 - avg_train_loss: 1.1102  lr: 9.0853e-04  time: 56s\n",
      "Epoch 7 - Score: 0.5420\n"
     ]
    },
    {
     "name": "stdout",
     "output_type": "stream",
     "text": [
      "EVAL: [8/9] Data 0.000 (0.043) Elapsed 0m 4s (remain 0m 0s) \n",
      "Epoch: [8][0/40] Data 0.465 (0.465) Elapsed 0m 1s (remain 1m 7s) Loss: 0.3781(0.3781) Grad Norm: 7.5244  LR: 8.8057e-04  \n",
      "Epoch: [8][39/40] Data 0.000 (0.012) Elapsed 0m 51s (remain 0m 0s) Loss: 0.1556(1.1098) Grad Norm: 5.1607  LR: 8.8057e-04  \n",
      "EVAL: [0/9] Data 0.436 (0.436) Elapsed 0m 0s (remain 0m 7s) \n"
     ]
    },
    {
     "name": "stderr",
     "output_type": "stream",
     "text": [
      "labels: [2 7 2 3 0]\n",
      "pred_labels: [3 7 2 2 0]\n",
      "Epoch 8 - avg_train_loss: 1.1098  lr: 8.8057e-04  time: 56s\n",
      "Epoch 8 - Score: 0.5649\n"
     ]
    },
    {
     "name": "stdout",
     "output_type": "stream",
     "text": [
      "EVAL: [8/9] Data 0.000 (0.049) Elapsed 0m 4s (remain 0m 0s) \n",
      "Epoch: [9][0/40] Data 0.607 (0.607) Elapsed 0m 1s (remain 1m 13s) Loss: 0.2022(0.2022) Grad Norm: 6.9070  LR: 8.4958e-04  \n",
      "Epoch: [9][39/40] Data 0.000 (0.015) Elapsed 0m 51s (remain 0m 0s) Loss: 1.4241(1.0734) Grad Norm: 7.6328  LR: 8.4958e-04  \n",
      "EVAL: [0/9] Data 0.350 (0.350) Elapsed 0m 0s (remain 0m 6s) \n"
     ]
    },
    {
     "name": "stderr",
     "output_type": "stream",
     "text": [
      "labels: [2 7 2 3 0]\n",
      "pred_labels: [5 7 2 4 2]\n",
      "Epoch 9 - avg_train_loss: 1.0734  lr: 8.4958e-04  time: 56s\n",
      "Epoch 9 - Score: 0.5802\n"
     ]
    },
    {
     "name": "stdout",
     "output_type": "stream",
     "text": [
      "EVAL: [8/9] Data 0.000 (0.039) Elapsed 0m 4s (remain 0m 0s) \n",
      "Epoch: [10][0/40] Data 0.526 (0.526) Elapsed 0m 1s (remain 1m 10s) Loss: 1.2064(1.2064) Grad Norm: 5.9255  LR: 8.1581e-04  \n",
      "Epoch: [10][39/40] Data 0.000 (0.013) Elapsed 0m 51s (remain 0m 0s) Loss: 0.1766(1.0344) Grad Norm: 6.7023  LR: 8.1581e-04  \n",
      "EVAL: [0/9] Data 0.300 (0.300) Elapsed 0m 0s (remain 0m 5s) \n"
     ]
    },
    {
     "name": "stderr",
     "output_type": "stream",
     "text": [
      "labels: [2 7 2 3 0]\n",
      "pred_labels: [5 7 2 2 0]\n",
      "Epoch 10 - avg_train_loss: 1.0344  lr: 8.1581e-04  time: 55s\n",
      "Epoch 10 - Score: 0.6183\n",
      "Epoch 10 - Save Best Score: 0.6183 Model\n"
     ]
    },
    {
     "name": "stdout",
     "output_type": "stream",
     "text": [
      "EVAL: [8/9] Data 0.000 (0.034) Elapsed 0m 3s (remain 0m 0s) \n",
      "Epoch: [11][0/40] Data 0.635 (0.635) Elapsed 0m 1s (remain 1m 15s) Loss: 0.3346(0.3346) Grad Norm: 17.0588  LR: 7.7953e-04  \n",
      "Epoch: [11][39/40] Data 0.000 (0.016) Elapsed 0m 51s (remain 0m 0s) Loss: 0.5730(0.8621) Grad Norm: 10.6219  LR: 7.7953e-04  \n",
      "EVAL: [0/9] Data 0.451 (0.451) Elapsed 0m 0s (remain 0m 7s) \n"
     ]
    },
    {
     "name": "stderr",
     "output_type": "stream",
     "text": [
      "labels: [2 7 2 3 0]\n",
      "pred_labels: [ 2  7  2  2 12]\n",
      "Epoch 11 - avg_train_loss: 0.8621  lr: 7.7953e-04  time: 56s\n",
      "Epoch 11 - Score: 0.5649\n"
     ]
    },
    {
     "name": "stdout",
     "output_type": "stream",
     "text": [
      "EVAL: [8/9] Data 0.000 (0.050) Elapsed 0m 4s (remain 0m 0s) \n",
      "Epoch: [12][0/40] Data 0.579 (0.579) Elapsed 0m 1s (remain 1m 12s) Loss: 1.4233(1.4233) Grad Norm: 6.1669  LR: 7.4103e-04  \n",
      "Epoch: [12][39/40] Data 0.000 (0.015) Elapsed 0m 51s (remain 0m 0s) Loss: 0.5944(0.9388) Grad Norm: 15.2666  LR: 7.4103e-04  \n",
      "EVAL: [0/9] Data 0.387 (0.387) Elapsed 0m 0s (remain 0m 6s) \n"
     ]
    },
    {
     "name": "stderr",
     "output_type": "stream",
     "text": [
      "labels: [2 7 2 3 0]\n",
      "pred_labels: [5 0 2 2 1]\n",
      "Epoch 12 - avg_train_loss: 0.9388  lr: 7.4103e-04  time: 56s\n",
      "Epoch 12 - Score: 0.6107\n"
     ]
    },
    {
     "name": "stdout",
     "output_type": "stream",
     "text": [
      "EVAL: [8/9] Data 0.000 (0.043) Elapsed 0m 4s (remain 0m 0s) \n",
      "Epoch: [13][0/40] Data 0.562 (0.562) Elapsed 0m 1s (remain 1m 11s) Loss: 0.1137(0.1137) Grad Norm: 6.7517  LR: 7.0063e-04  \n",
      "Epoch: [13][39/40] Data 0.000 (0.014) Elapsed 0m 51s (remain 0m 0s) Loss: 1.5619(0.8401) Grad Norm: 9.3257  LR: 7.0063e-04  \n",
      "EVAL: [0/9] Data 0.414 (0.414) Elapsed 0m 0s (remain 0m 6s) \n"
     ]
    },
    {
     "name": "stderr",
     "output_type": "stream",
     "text": [
      "labels: [2 7 2 3 0]\n",
      "pred_labels: [5 7 2 2 1]\n",
      "Epoch 13 - avg_train_loss: 0.8401  lr: 7.0063e-04  time: 56s\n",
      "Epoch 13 - Score: 0.5725\n"
     ]
    },
    {
     "name": "stdout",
     "output_type": "stream",
     "text": [
      "EVAL: [8/9] Data 0.000 (0.046) Elapsed 0m 4s (remain 0m 0s) \n",
      "Epoch: [14][0/40] Data 0.558 (0.558) Elapsed 0m 1s (remain 1m 11s) Loss: 0.3447(0.3447) Grad Norm: 10.0855  LR: 6.5865e-04  \n",
      "Epoch: [14][39/40] Data 0.000 (0.014) Elapsed 0m 51s (remain 0m 0s) Loss: 1.1679(0.8201) Grad Norm: 8.0718  LR: 6.5865e-04  \n",
      "EVAL: [0/9] Data 0.479 (0.479) Elapsed 0m 0s (remain 0m 7s) \n"
     ]
    },
    {
     "name": "stderr",
     "output_type": "stream",
     "text": [
      "labels: [2 7 2 3 0]\n",
      "pred_labels: [5 7 2 2 1]\n",
      "Epoch 14 - avg_train_loss: 0.8201  lr: 6.5865e-04  time: 56s\n",
      "Epoch 14 - Score: 0.6183\n"
     ]
    },
    {
     "name": "stdout",
     "output_type": "stream",
     "text": [
      "EVAL: [8/9] Data 0.000 (0.053) Elapsed 0m 4s (remain 0m 0s) \n",
      "Epoch: [15][0/40] Data 0.535 (0.535) Elapsed 0m 1s (remain 1m 10s) Loss: 1.2568(1.2568) Grad Norm: 6.9379  LR: 6.1542e-04  \n",
      "Epoch: [15][39/40] Data 0.000 (0.014) Elapsed 0m 51s (remain 0m 0s) Loss: 0.1452(0.7287) Grad Norm: 5.0615  LR: 6.1542e-04  \n",
      "EVAL: [0/9] Data 0.334 (0.334) Elapsed 0m 0s (remain 0m 6s) \n"
     ]
    },
    {
     "name": "stderr",
     "output_type": "stream",
     "text": [
      "labels: [2 7 2 3 0]\n",
      "pred_labels: [ 5  7  2  2 12]\n",
      "Epoch 15 - avg_train_loss: 0.7287  lr: 6.1542e-04  time: 55s\n",
      "Epoch 15 - Score: 0.5878\n"
     ]
    },
    {
     "name": "stdout",
     "output_type": "stream",
     "text": [
      "EVAL: [8/9] Data 0.000 (0.037) Elapsed 0m 4s (remain 0m 0s) \n",
      "Epoch: [16][0/40] Data 0.554 (0.554) Elapsed 0m 1s (remain 1m 11s) Loss: 0.9610(0.9610) Grad Norm: 5.7190  LR: 5.7130e-04  \n",
      "Epoch: [16][39/40] Data 0.000 (0.014) Elapsed 0m 51s (remain 0m 0s) Loss: 1.4127(0.8488) Grad Norm: 6.9210  LR: 5.7130e-04  \n",
      "EVAL: [0/9] Data 0.407 (0.407) Elapsed 0m 0s (remain 0m 6s) \n"
     ]
    },
    {
     "name": "stderr",
     "output_type": "stream",
     "text": [
      "labels: [2 7 2 3 0]\n",
      "pred_labels: [5 7 2 6 6]\n",
      "Epoch 16 - avg_train_loss: 0.8488  lr: 5.7130e-04  time: 56s\n",
      "Epoch 16 - Score: 0.5725\n"
     ]
    },
    {
     "name": "stdout",
     "output_type": "stream",
     "text": [
      "EVAL: [8/9] Data 0.000 (0.046) Elapsed 0m 4s (remain 0m 0s) \n",
      "Epoch: [17][0/40] Data 0.602 (0.602) Elapsed 0m 1s (remain 1m 13s) Loss: 0.0401(0.0401) Grad Norm: 2.0796  LR: 5.2663e-04  \n",
      "Epoch: [17][39/40] Data 0.000 (0.015) Elapsed 0m 51s (remain 0m 0s) Loss: 0.7109(0.6582) Grad Norm: 3.6304  LR: 5.2663e-04  \n",
      "EVAL: [0/9] Data 0.460 (0.460) Elapsed 0m 0s (remain 0m 7s) \n"
     ]
    },
    {
     "name": "stderr",
     "output_type": "stream",
     "text": [
      "labels: [2 7 2 3 0]\n",
      "pred_labels: [5 7 2 4 1]\n",
      "Epoch 17 - avg_train_loss: 0.6582  lr: 5.2663e-04  time: 56s\n",
      "Epoch 17 - Score: 0.6183\n"
     ]
    },
    {
     "name": "stdout",
     "output_type": "stream",
     "text": [
      "EVAL: [8/9] Data 0.000 (0.051) Elapsed 0m 4s (remain 0m 0s) \n",
      "Epoch: [18][0/40] Data 0.584 (0.584) Elapsed 0m 1s (remain 1m 12s) Loss: 1.1335(1.1335) Grad Norm: 5.8129  LR: 4.8179e-04  \n",
      "Epoch: [18][39/40] Data 0.000 (0.015) Elapsed 0m 51s (remain 0m 0s) Loss: 0.9775(0.8261) Grad Norm: 6.7193  LR: 4.8179e-04  \n",
      "EVAL: [0/9] Data 0.413 (0.413) Elapsed 0m 0s (remain 0m 6s) \n"
     ]
    },
    {
     "name": "stderr",
     "output_type": "stream",
     "text": [
      "labels: [2 7 2 3 0]\n",
      "pred_labels: [5 7 2 2 1]\n",
      "Epoch 18 - avg_train_loss: 0.8261  lr: 4.8179e-04  time: 56s\n",
      "Epoch 18 - Score: 0.5878\n"
     ]
    },
    {
     "name": "stdout",
     "output_type": "stream",
     "text": [
      "EVAL: [8/9] Data 0.000 (0.046) Elapsed 0m 4s (remain 0m 0s) \n",
      "Epoch: [19][0/40] Data 0.508 (0.508) Elapsed 0m 1s (remain 1m 9s) Loss: 0.0321(0.0321) Grad Norm: 2.7814  LR: 4.3712e-04  \n",
      "Epoch: [19][39/40] Data 0.000 (0.013) Elapsed 0m 51s (remain 0m 0s) Loss: 1.0168(0.7566) Grad Norm: 5.3993  LR: 4.3712e-04  \n",
      "EVAL: [0/9] Data 0.382 (0.382) Elapsed 0m 0s (remain 0m 6s) \n"
     ]
    },
    {
     "name": "stderr",
     "output_type": "stream",
     "text": [
      "labels: [2 7 2 3 0]\n",
      "pred_labels: [5 7 2 1 6]\n",
      "Epoch 19 - avg_train_loss: 0.7566  lr: 4.3712e-04  time: 55s\n",
      "Epoch 19 - Score: 0.5878\n"
     ]
    },
    {
     "name": "stdout",
     "output_type": "stream",
     "text": [
      "EVAL: [8/9] Data 0.000 (0.043) Elapsed 0m 4s (remain 0m 0s) \n",
      "Epoch: [20][0/40] Data 0.637 (0.637) Elapsed 0m 1s (remain 1m 14s) Loss: 0.0371(0.0371) Grad Norm: 3.1581  LR: 3.9299e-04  \n",
      "Epoch: [20][39/40] Data 0.000 (0.016) Elapsed 0m 51s (remain 0m 0s) Loss: 0.0550(0.5439) Grad Norm: 2.9636  LR: 3.9299e-04  \n",
      "EVAL: [0/9] Data 0.395 (0.395) Elapsed 0m 0s (remain 0m 6s) \n"
     ]
    },
    {
     "name": "stderr",
     "output_type": "stream",
     "text": [
      "labels: [2 7 2 3 0]\n",
      "pred_labels: [5 7 2 5 6]\n",
      "Epoch 20 - avg_train_loss: 0.5439  lr: 3.9299e-04  time: 56s\n",
      "Epoch 20 - Score: 0.5802\n"
     ]
    },
    {
     "name": "stdout",
     "output_type": "stream",
     "text": [
      "EVAL: [8/9] Data 0.000 (0.044) Elapsed 0m 4s (remain 0m 0s) \n",
      "Epoch: [21][0/40] Data 0.541 (0.541) Elapsed 0m 1s (remain 1m 10s) Loss: 0.0094(0.0094) Grad Norm: 0.5474  LR: 3.4975e-04  \n",
      "Epoch: [21][39/40] Data 0.000 (0.014) Elapsed 0m 51s (remain 0m 0s) Loss: 0.0214(0.4716) Grad Norm: 1.9429  LR: 3.4975e-04  \n",
      "EVAL: [0/9] Data 0.391 (0.391) Elapsed 0m 0s (remain 0m 6s) \n"
     ]
    },
    {
     "name": "stderr",
     "output_type": "stream",
     "text": [
      "labels: [2 7 2 3 0]\n",
      "pred_labels: [5 7 2 2 1]\n",
      "Epoch 21 - avg_train_loss: 0.4716  lr: 3.4975e-04  time: 55s\n",
      "Epoch 21 - Score: 0.6107\n"
     ]
    },
    {
     "name": "stdout",
     "output_type": "stream",
     "text": [
      "EVAL: [8/9] Data 0.000 (0.044) Elapsed 0m 4s (remain 0m 0s) \n",
      "Epoch: [22][0/40] Data 0.491 (0.491) Elapsed 0m 1s (remain 1m 8s) Loss: 0.9153(0.9153) Grad Norm: 5.8742  LR: 3.0775e-04  \n",
      "Epoch: [22][39/40] Data 0.000 (0.012) Elapsed 0m 51s (remain 0m 0s) Loss: 1.0013(0.6368) Grad Norm: 9.6642  LR: 3.0775e-04  \n",
      "EVAL: [0/9] Data 0.403 (0.403) Elapsed 0m 0s (remain 0m 6s) \n"
     ]
    },
    {
     "name": "stderr",
     "output_type": "stream",
     "text": [
      "labels: [2 7 2 3 0]\n",
      "pred_labels: [5 7 2 1 1]\n",
      "Epoch 22 - avg_train_loss: 0.6368  lr: 3.0775e-04  time: 55s\n",
      "Epoch 22 - Score: 0.5878\n"
     ]
    },
    {
     "name": "stdout",
     "output_type": "stream",
     "text": [
      "EVAL: [8/9] Data 0.000 (0.045) Elapsed 0m 4s (remain 0m 0s) \n",
      "Epoch: [23][0/40] Data 0.548 (0.548) Elapsed 0m 1s (remain 1m 10s) Loss: 0.5748(0.5748) Grad Norm: 4.0238  LR: 2.6732e-04  \n",
      "Epoch: [23][39/40] Data 0.000 (0.014) Elapsed 0m 51s (remain 0m 0s) Loss: 0.9074(0.5150) Grad Norm: 4.0319  LR: 2.6732e-04  \n",
      "EVAL: [0/9] Data 0.405 (0.405) Elapsed 0m 0s (remain 0m 6s) \n"
     ]
    },
    {
     "name": "stderr",
     "output_type": "stream",
     "text": [
      "labels: [2 7 2 3 0]\n",
      "pred_labels: [5 7 2 2 6]\n",
      "Epoch 23 - avg_train_loss: 0.5150  lr: 2.6732e-04  time: 56s\n",
      "Epoch 23 - Score: 0.6107\n"
     ]
    },
    {
     "name": "stdout",
     "output_type": "stream",
     "text": [
      "EVAL: [8/9] Data 0.000 (0.045) Elapsed 0m 4s (remain 0m 0s) \n",
      "Epoch: [24][0/40] Data 0.584 (0.584) Elapsed 0m 1s (remain 1m 12s) Loss: 0.9765(0.9765) Grad Norm: 5.8019  LR: 2.2880e-04  \n",
      "Epoch: [24][39/40] Data 0.000 (0.015) Elapsed 0m 51s (remain 0m 0s) Loss: 1.0309(0.5922) Grad Norm: 5.4885  LR: 2.2880e-04  \n",
      "EVAL: [0/9] Data 0.415 (0.415) Elapsed 0m 0s (remain 0m 6s) \n"
     ]
    },
    {
     "name": "stderr",
     "output_type": "stream",
     "text": [
      "labels: [2 7 2 3 0]\n",
      "pred_labels: [5 7 2 4 6]\n",
      "Epoch 24 - avg_train_loss: 0.5922  lr: 2.2880e-04  time: 56s\n",
      "Epoch 24 - Score: 0.5878\n"
     ]
    },
    {
     "name": "stdout",
     "output_type": "stream",
     "text": [
      "EVAL: [8/9] Data 0.000 (0.046) Elapsed 0m 4s (remain 0m 0s) \n",
      "Epoch: [25][0/40] Data 0.649 (0.649) Elapsed 0m 1s (remain 1m 14s) Loss: 0.0008(0.0008) Grad Norm: 0.0394  LR: 1.9248e-04  \n",
      "Epoch: [25][39/40] Data 0.000 (0.016) Elapsed 0m 51s (remain 0m 0s) Loss: 0.6942(0.5173) Grad Norm: 3.5107  LR: 1.9248e-04  \n",
      "EVAL: [0/9] Data 0.383 (0.383) Elapsed 0m 0s (remain 0m 6s) \n"
     ]
    },
    {
     "name": "stderr",
     "output_type": "stream",
     "text": [
      "labels: [2 7 2 3 0]\n",
      "pred_labels: [5 7 2 4 6]\n",
      "Epoch 25 - avg_train_loss: 0.5173  lr: 1.9248e-04  time: 56s\n",
      "Epoch 25 - Score: 0.5725\n"
     ]
    },
    {
     "name": "stdout",
     "output_type": "stream",
     "text": [
      "EVAL: [8/9] Data 0.000 (0.043) Elapsed 0m 4s (remain 0m 0s) \n",
      "Epoch: [26][0/40] Data 0.646 (0.646) Elapsed 0m 1s (remain 1m 14s) Loss: 1.0275(1.0275) Grad Norm: 5.8239  LR: 1.5867e-04  \n",
      "Epoch: [26][39/40] Data 0.000 (0.016) Elapsed 0m 51s (remain 0m 0s) Loss: 0.7507(0.5204) Grad Norm: 3.1982  LR: 1.5867e-04  \n",
      "EVAL: [0/9] Data 0.421 (0.421) Elapsed 0m 0s (remain 0m 6s) \n"
     ]
    },
    {
     "name": "stderr",
     "output_type": "stream",
     "text": [
      "labels: [2 7 2 3 0]\n",
      "pred_labels: [5 7 2 4 6]\n",
      "Epoch 26 - avg_train_loss: 0.5204  lr: 1.5867e-04  time: 56s\n",
      "Epoch 26 - Score: 0.6107\n"
     ]
    },
    {
     "name": "stdout",
     "output_type": "stream",
     "text": [
      "EVAL: [8/9] Data 0.000 (0.047) Elapsed 0m 4s (remain 0m 0s) \n",
      "Epoch: [27][0/40] Data 0.567 (0.567) Elapsed 0m 1s (remain 1m 11s) Loss: 0.0048(0.0048) Grad Norm: 0.3838  LR: 1.2762e-04  \n",
      "Epoch: [27][39/40] Data 0.000 (0.014) Elapsed 0m 51s (remain 0m 0s) Loss: 1.1334(0.4604) Grad Norm: 6.6049  LR: 1.2762e-04  \n",
      "EVAL: [0/9] Data 0.346 (0.346) Elapsed 0m 0s (remain 0m 6s) \n"
     ]
    },
    {
     "name": "stderr",
     "output_type": "stream",
     "text": [
      "labels: [2 7 2 3 0]\n",
      "pred_labels: [5 7 2 4 6]\n",
      "Epoch 27 - avg_train_loss: 0.4604  lr: 1.2762e-04  time: 55s\n",
      "Epoch 27 - Score: 0.5954\n"
     ]
    },
    {
     "name": "stdout",
     "output_type": "stream",
     "text": [
      "EVAL: [8/9] Data 0.000 (0.039) Elapsed 0m 4s (remain 0m 0s) \n",
      "Epoch: [28][0/40] Data 0.648 (0.648) Elapsed 0m 1s (remain 1m 14s) Loss: 0.0076(0.0076) Grad Norm: 0.4902  LR: 9.9584e-05  \n",
      "Epoch: [28][39/40] Data 0.000 (0.016) Elapsed 0m 51s (remain 0m 0s) Loss: 0.8697(0.4755) Grad Norm: 7.6709  LR: 9.9584e-05  \n",
      "EVAL: [0/9] Data 0.405 (0.405) Elapsed 0m 0s (remain 0m 6s) \n"
     ]
    },
    {
     "name": "stderr",
     "output_type": "stream",
     "text": [
      "labels: [2 7 2 3 0]\n",
      "pred_labels: [5 7 2 2 6]\n",
      "Epoch 28 - avg_train_loss: 0.4755  lr: 9.9584e-05  time: 56s\n",
      "Epoch 28 - Score: 0.6031\n"
     ]
    },
    {
     "name": "stdout",
     "output_type": "stream",
     "text": [
      "EVAL: [8/9] Data 0.000 (0.045) Elapsed 0m 4s (remain 0m 0s) \n",
      "Epoch: [29][0/40] Data 0.578 (0.578) Elapsed 0m 1s (remain 1m 12s) Loss: 0.0014(0.0014) Grad Norm: 0.0441  LR: 7.4783e-05  \n",
      "Epoch: [29][39/40] Data 0.000 (0.015) Elapsed 0m 51s (remain 0m 0s) Loss: 0.0117(0.5754) Grad Norm: 1.4695  LR: 7.4783e-05  \n",
      "EVAL: [0/9] Data 0.327 (0.327) Elapsed 0m 0s (remain 0m 6s) \n"
     ]
    },
    {
     "name": "stderr",
     "output_type": "stream",
     "text": [
      "labels: [2 7 2 3 0]\n",
      "pred_labels: [5 7 2 2 6]\n",
      "Epoch 29 - avg_train_loss: 0.5754  lr: 7.4783e-05  time: 55s\n",
      "Epoch 29 - Score: 0.6107\n"
     ]
    },
    {
     "name": "stdout",
     "output_type": "stream",
     "text": [
      "EVAL: [8/9] Data 0.000 (0.037) Elapsed 0m 3s (remain 0m 0s) \n",
      "Epoch: [30][0/40] Data 0.523 (0.523) Elapsed 0m 1s (remain 1m 9s) Loss: 1.0221(1.0221) Grad Norm: 4.7430  LR: 5.3404e-05  \n",
      "Epoch: [30][39/40] Data 0.000 (0.013) Elapsed 0m 51s (remain 0m 0s) Loss: 0.8980(0.4978) Grad Norm: 5.8180  LR: 5.3404e-05  \n",
      "EVAL: [0/9] Data 0.433 (0.433) Elapsed 0m 0s (remain 0m 7s) \n"
     ]
    },
    {
     "name": "stderr",
     "output_type": "stream",
     "text": [
      "labels: [2 7 2 3 0]\n",
      "pred_labels: [5 7 2 2 6]\n",
      "Epoch 30 - avg_train_loss: 0.4978  lr: 5.3404e-05  time: 55s\n",
      "Epoch 30 - Score: 0.6107\n"
     ]
    },
    {
     "name": "stdout",
     "output_type": "stream",
     "text": [
      "EVAL: [8/9] Data 0.000 (0.048) Elapsed 0m 4s (remain 0m 0s) \n",
      "Epoch: [31][0/40] Data 0.540 (0.540) Elapsed 0m 1s (remain 1m 10s) Loss: 0.0019(0.0019) Grad Norm: 0.1212  LR: 3.5607e-05  \n",
      "Epoch: [31][39/40] Data 0.000 (0.014) Elapsed 0m 51s (remain 0m 0s) Loss: 0.0011(0.0064) Grad Norm: 0.0454  LR: 3.5607e-05  \n",
      "EVAL: [0/9] Data 0.323 (0.323) Elapsed 0m 0s (remain 0m 6s) \n"
     ]
    },
    {
     "name": "stderr",
     "output_type": "stream",
     "text": [
      "labels: [2 7 2 3 0]\n",
      "pred_labels: [5 7 2 2 6]\n",
      "Epoch 31 - avg_train_loss: 0.0064  lr: 3.5607e-05  time: 55s\n",
      "Epoch 31 - Score: 0.5954\n"
     ]
    },
    {
     "name": "stdout",
     "output_type": "stream",
     "text": [
      "EVAL: [8/9] Data 0.000 (0.036) Elapsed 0m 3s (remain 0m 0s) \n",
      "Epoch: [32][0/40] Data 0.573 (0.573) Elapsed 0m 1s (remain 1m 11s) Loss: 0.0066(0.0066) Grad Norm: 0.3319  LR: 2.1508e-05  \n",
      "Epoch: [32][39/40] Data 0.000 (0.014) Elapsed 0m 51s (remain 0m 0s) Loss: 0.0015(0.0032) Grad Norm: 0.0512  LR: 2.1508e-05  \n",
      "EVAL: [0/9] Data 0.445 (0.445) Elapsed 0m 0s (remain 0m 7s) \n"
     ]
    },
    {
     "name": "stderr",
     "output_type": "stream",
     "text": [
      "labels: [2 7 2 3 0]\n",
      "pred_labels: [5 7 2 2 6]\n",
      "Epoch 32 - avg_train_loss: 0.0032  lr: 2.1508e-05  time: 55s\n",
      "Epoch 32 - Score: 0.5878\n"
     ]
    },
    {
     "name": "stdout",
     "output_type": "stream",
     "text": [
      "EVAL: [8/9] Data 0.000 (0.050) Elapsed 0m 4s (remain 0m 0s) \n",
      "Epoch: [33][0/40] Data 0.664 (0.664) Elapsed 0m 1s (remain 1m 15s) Loss: 0.0005(0.0005) Grad Norm: 0.0148  LR: 1.1173e-05  \n",
      "Epoch: [33][39/40] Data 0.000 (0.017) Elapsed 0m 51s (remain 0m 0s) Loss: 0.0006(0.0024) Grad Norm: 0.0260  LR: 1.1173e-05  \n",
      "EVAL: [0/9] Data 0.414 (0.414) Elapsed 0m 0s (remain 0m 6s) \n"
     ]
    },
    {
     "name": "stderr",
     "output_type": "stream",
     "text": [
      "labels: [2 7 2 3 0]\n",
      "pred_labels: [5 7 2 2 6]\n",
      "Epoch 33 - avg_train_loss: 0.0024  lr: 1.1173e-05  time: 56s\n",
      "Epoch 33 - Score: 0.5954\n"
     ]
    },
    {
     "name": "stdout",
     "output_type": "stream",
     "text": [
      "EVAL: [8/9] Data 0.000 (0.046) Elapsed 0m 4s (remain 0m 0s) \n",
      "Epoch: [34][0/40] Data 0.546 (0.546) Elapsed 0m 1s (remain 1m 10s) Loss: 0.0061(0.0061) Grad Norm: 1.2749  LR: 4.5796e-06  \n",
      "Epoch: [34][39/40] Data 0.000 (0.014) Elapsed 0m 51s (remain 0m 0s) Loss: 0.0026(0.0055) Grad Norm: 0.3308  LR: 4.5796e-06  \n",
      "EVAL: [0/9] Data 0.384 (0.384) Elapsed 0m 0s (remain 0m 6s) \n"
     ]
    },
    {
     "name": "stderr",
     "output_type": "stream",
     "text": [
      "labels: [2 7 2 3 0]\n",
      "pred_labels: [5 7 2 2 6]\n",
      "Epoch 34 - avg_train_loss: 0.0055  lr: 4.5796e-06  time: 55s\n",
      "Epoch 34 - Score: 0.6107\n"
     ]
    },
    {
     "name": "stdout",
     "output_type": "stream",
     "text": [
      "EVAL: [8/9] Data 0.000 (0.043) Elapsed 0m 4s (remain 0m 0s) \n",
      "Epoch: [35][0/40] Data 0.665 (0.665) Elapsed 0m 1s (remain 1m 15s) Loss: 0.0005(0.0005) Grad Norm: 0.0182  LR: 1.5037e-06  \n",
      "Epoch: [35][39/40] Data 0.000 (0.017) Elapsed 0m 51s (remain 0m 0s) Loss: 0.0024(0.0036) Grad Norm: 0.1532  LR: 1.5037e-06  \n",
      "EVAL: [0/9] Data 0.389 (0.389) Elapsed 0m 0s (remain 0m 6s) \n"
     ]
    },
    {
     "name": "stderr",
     "output_type": "stream",
     "text": [
      "labels: [2 7 2 3 0]\n",
      "pred_labels: [5 7 2 2 6]\n",
      "Epoch 35 - avg_train_loss: 0.0036  lr: 1.5037e-06  time: 56s\n",
      "Epoch 35 - Score: 0.6031\n",
      "==================== fold: 4, seed: 0 training ====================\n"
     ]
    },
    {
     "name": "stdout",
     "output_type": "stream",
     "text": [
      "EVAL: [8/9] Data 0.000 (0.043) Elapsed 0m 4s (remain 0m 0s) \n",
      "Epoch: [1][0/40] Data 0.691 (0.691) Elapsed 0m 1s (remain 1m 16s) Loss: 2.5735(2.5735) Grad Norm: inf  LR: 1.0000e-03  \n",
      "Epoch: [1][39/40] Data 0.000 (0.017) Elapsed 0m 51s (remain 0m 0s) Loss: 2.4696(2.5018) Grad Norm: 10.8649  LR: 1.0000e-03  \n",
      "EVAL: [0/9] Data 0.422 (0.422) Elapsed 0m 0s (remain 0m 6s) \n"
     ]
    },
    {
     "name": "stderr",
     "output_type": "stream",
     "text": [
      "labels: [ 8  3  6  4 10]\n",
      "pred_labels: [ 2 11  2  2  2]\n",
      "Epoch 1 - avg_train_loss: 2.5018  lr: 1.0000e-03  time: 56s\n",
      "Epoch 1 - Score: 0.3077\n",
      "Epoch 1 - Save Best Score: 0.3077 Model\n"
     ]
    },
    {
     "name": "stdout",
     "output_type": "stream",
     "text": [
      "EVAL: [8/9] Data 0.000 (0.047) Elapsed 0m 4s (remain 0m 0s) \n",
      "Epoch: [2][0/40] Data 0.593 (0.593) Elapsed 0m 1s (remain 1m 13s) Loss: 2.0744(2.0744) Grad Norm: 10.2640  LR: 9.9598e-04  \n",
      "Epoch: [2][39/40] Data 0.000 (0.015) Elapsed 0m 51s (remain 0m 0s) Loss: 2.2810(2.0337) Grad Norm: 10.8085  LR: 9.9598e-04  \n",
      "EVAL: [0/9] Data 0.365 (0.365) Elapsed 0m 0s (remain 0m 6s) \n"
     ]
    },
    {
     "name": "stderr",
     "output_type": "stream",
     "text": [
      "labels: [ 8  3  6  4 10]\n",
      "pred_labels: [8 1 6 0 2]\n",
      "Epoch 2 - avg_train_loss: 2.0337  lr: 9.9598e-04  time: 56s\n",
      "Epoch 2 - Score: 0.4846\n",
      "Epoch 2 - Save Best Score: 0.4846 Model\n"
     ]
    },
    {
     "name": "stdout",
     "output_type": "stream",
     "text": [
      "EVAL: [8/9] Data 0.000 (0.041) Elapsed 0m 4s (remain 0m 0s) \n",
      "Epoch: [3][0/40] Data 0.502 (0.502) Elapsed 0m 1s (remain 1m 9s) Loss: 0.9350(0.9350) Grad Norm: 10.5336  LR: 9.8599e-04  \n",
      "Epoch: [3][39/40] Data 0.000 (0.013) Elapsed 0m 51s (remain 0m 0s) Loss: 0.8293(1.7425) Grad Norm: 9.8619  LR: 9.8599e-04  \n",
      "EVAL: [0/9] Data 0.404 (0.404) Elapsed 0m 0s (remain 0m 6s) \n"
     ]
    },
    {
     "name": "stderr",
     "output_type": "stream",
     "text": [
      "labels: [ 8  3  6  4 10]\n",
      "pred_labels: [8 1 0 3 3]\n",
      "Epoch 3 - avg_train_loss: 1.7425  lr: 9.8599e-04  time: 56s\n",
      "Epoch 3 - Score: 0.5923\n",
      "Epoch 3 - Save Best Score: 0.5923 Model\n"
     ]
    },
    {
     "name": "stdout",
     "output_type": "stream",
     "text": [
      "EVAL: [8/9] Data 0.000 (0.045) Elapsed 0m 4s (remain 0m 0s) \n",
      "Epoch: [4][0/40] Data 0.634 (0.634) Elapsed 0m 1s (remain 1m 15s) Loss: 1.2549(1.2549) Grad Norm: 9.6939  LR: 9.7213e-04  \n",
      "Epoch: [4][39/40] Data 0.000 (0.016) Elapsed 0m 51s (remain 0m 0s) Loss: 1.4288(1.4510) Grad Norm: 17.1017  LR: 9.7213e-04  \n",
      "EVAL: [0/9] Data 0.419 (0.419) Elapsed 0m 0s (remain 0m 6s) \n"
     ]
    },
    {
     "name": "stderr",
     "output_type": "stream",
     "text": [
      "labels: [ 8  3  6  4 10]\n",
      "pred_labels: [8 1 2 4 2]\n",
      "Epoch 4 - avg_train_loss: 1.4510  lr: 9.7213e-04  time: 56s\n",
      "Epoch 4 - Score: 0.5692\n"
     ]
    },
    {
     "name": "stdout",
     "output_type": "stream",
     "text": [
      "EVAL: [8/9] Data 0.000 (0.047) Elapsed 0m 4s (remain 0m 0s) \n",
      "Epoch: [5][0/40] Data 0.602 (0.602) Elapsed 0m 1s (remain 1m 13s) Loss: 0.6408(0.6408) Grad Norm: 12.5587  LR: 9.5449e-04  \n",
      "Epoch: [5][39/40] Data 0.000 (0.015) Elapsed 0m 51s (remain 0m 0s) Loss: 1.8695(1.2641) Grad Norm: 9.5609  LR: 9.5449e-04  \n",
      "EVAL: [0/9] Data 0.373 (0.373) Elapsed 0m 0s (remain 0m 6s) \n"
     ]
    },
    {
     "name": "stderr",
     "output_type": "stream",
     "text": [
      "labels: [ 8  3  6  4 10]\n",
      "pred_labels: [8 3 6 4 2]\n",
      "Epoch 5 - avg_train_loss: 1.2641  lr: 9.5449e-04  time: 56s\n",
      "Epoch 5 - Score: 0.6154\n",
      "Epoch 5 - Save Best Score: 0.6154 Model\n"
     ]
    },
    {
     "name": "stdout",
     "output_type": "stream",
     "text": [
      "EVAL: [8/9] Data 0.000 (0.042) Elapsed 0m 4s (remain 0m 0s) \n",
      "Epoch: [6][0/40] Data 0.640 (0.640) Elapsed 0m 1s (remain 1m 15s) Loss: 0.5698(0.5698) Grad Norm: 12.5127  LR: 9.3324e-04  \n",
      "Epoch: [6][39/40] Data 0.000 (0.016) Elapsed 0m 51s (remain 0m 0s) Loss: 1.8602(1.1759) Grad Norm: 7.2082  LR: 9.3324e-04  \n",
      "EVAL: [0/9] Data 0.431 (0.431) Elapsed 0m 0s (remain 0m 7s) \n"
     ]
    },
    {
     "name": "stderr",
     "output_type": "stream",
     "text": [
      "labels: [ 8  3  6  4 10]\n",
      "pred_labels: [8 1 0 2 2]\n",
      "Epoch 6 - avg_train_loss: 1.1759  lr: 9.3324e-04  time: 56s\n",
      "Epoch 6 - Score: 0.6231\n",
      "Epoch 6 - Save Best Score: 0.6231 Model\n"
     ]
    },
    {
     "name": "stdout",
     "output_type": "stream",
     "text": [
      "EVAL: [8/9] Data 0.000 (0.048) Elapsed 0m 4s (remain 0m 0s) \n",
      "Epoch: [7][0/40] Data 0.657 (0.657) Elapsed 0m 1s (remain 1m 16s) Loss: 1.2203(1.2203) Grad Norm: 12.5432  LR: 9.0853e-04  \n",
      "Epoch: [7][39/40] Data 0.000 (0.017) Elapsed 0m 51s (remain 0m 0s) Loss: 1.8903(1.0043) Grad Norm: 13.9823  LR: 9.0853e-04  \n",
      "EVAL: [0/9] Data 0.437 (0.437) Elapsed 0m 0s (remain 0m 7s) \n"
     ]
    },
    {
     "name": "stderr",
     "output_type": "stream",
     "text": [
      "labels: [ 8  3  6  4 10]\n",
      "pred_labels: [8 3 0 4 2]\n",
      "Epoch 7 - avg_train_loss: 1.0043  lr: 9.0853e-04  time: 56s\n",
      "Epoch 7 - Score: 0.6154\n"
     ]
    },
    {
     "name": "stdout",
     "output_type": "stream",
     "text": [
      "EVAL: [8/9] Data 0.000 (0.049) Elapsed 0m 4s (remain 0m 0s) \n",
      "Epoch: [8][0/40] Data 0.577 (0.577) Elapsed 0m 1s (remain 1m 12s) Loss: 1.7551(1.7551) Grad Norm: 9.3199  LR: 8.8057e-04  \n",
      "Epoch: [8][39/40] Data 0.000 (0.015) Elapsed 0m 51s (remain 0m 0s) Loss: 1.4756(1.0397) Grad Norm: 7.2530  LR: 8.8057e-04  \n",
      "EVAL: [0/9] Data 0.431 (0.431) Elapsed 0m 0s (remain 0m 7s) \n"
     ]
    },
    {
     "name": "stderr",
     "output_type": "stream",
     "text": [
      "labels: [ 8  3  6  4 10]\n",
      "pred_labels: [ 8  3  0  4 10]\n",
      "Epoch 8 - avg_train_loss: 1.0397  lr: 8.8057e-04  time: 56s\n",
      "Epoch 8 - Score: 0.5692\n"
     ]
    },
    {
     "name": "stdout",
     "output_type": "stream",
     "text": [
      "EVAL: [8/9] Data 0.000 (0.048) Elapsed 0m 4s (remain 0m 0s) \n",
      "Epoch: [9][0/40] Data 0.504 (0.504) Elapsed 0m 1s (remain 1m 9s) Loss: 0.4944(0.4944) Grad Norm: 11.2868  LR: 8.4958e-04  \n",
      "Epoch: [9][39/40] Data 0.000 (0.013) Elapsed 0m 51s (remain 0m 0s) Loss: 1.6211(1.1469) Grad Norm: 10.2569  LR: 8.4958e-04  \n",
      "EVAL: [0/9] Data 0.413 (0.413) Elapsed 0m 0s (remain 0m 6s) \n"
     ]
    },
    {
     "name": "stderr",
     "output_type": "stream",
     "text": [
      "labels: [ 8  3  6  4 10]\n",
      "pred_labels: [ 8  3  0  4 10]\n",
      "Epoch 9 - avg_train_loss: 1.1469  lr: 8.4958e-04  time: 56s\n",
      "Epoch 9 - Score: 0.5769\n"
     ]
    },
    {
     "name": "stdout",
     "output_type": "stream",
     "text": [
      "EVAL: [8/9] Data 0.000 (0.046) Elapsed 0m 4s (remain 0m 0s) \n",
      "Epoch: [10][0/40] Data 0.557 (0.557) Elapsed 0m 1s (remain 1m 11s) Loss: 1.3967(1.3967) Grad Norm: 5.3450  LR: 8.1581e-04  \n",
      "Epoch: [10][39/40] Data 0.000 (0.014) Elapsed 0m 51s (remain 0m 0s) Loss: 1.5452(1.0765) Grad Norm: 7.5506  LR: 8.1581e-04  \n",
      "EVAL: [0/9] Data 0.404 (0.404) Elapsed 0m 0s (remain 0m 6s) \n"
     ]
    },
    {
     "name": "stderr",
     "output_type": "stream",
     "text": [
      "labels: [ 8  3  6  4 10]\n",
      "pred_labels: [ 8  1  0  4 10]\n",
      "Epoch 10 - avg_train_loss: 1.0765  lr: 8.1581e-04  time: 56s\n",
      "Epoch 10 - Score: 0.6615\n",
      "Epoch 10 - Save Best Score: 0.6615 Model\n"
     ]
    },
    {
     "name": "stdout",
     "output_type": "stream",
     "text": [
      "EVAL: [8/9] Data 0.000 (0.045) Elapsed 0m 4s (remain 0m 0s) \n",
      "Epoch: [11][0/40] Data 0.559 (0.559) Elapsed 0m 1s (remain 1m 12s) Loss: 0.7615(0.7615) Grad Norm: 13.0406  LR: 7.7953e-04  \n",
      "Epoch: [11][39/40] Data 0.000 (0.014) Elapsed 0m 51s (remain 0m 0s) Loss: 1.4585(0.8903) Grad Norm: 7.7170  LR: 7.7953e-04  \n",
      "EVAL: [0/9] Data 0.386 (0.386) Elapsed 0m 0s (remain 0m 6s) \n"
     ]
    },
    {
     "name": "stderr",
     "output_type": "stream",
     "text": [
      "labels: [ 8  3  6  4 10]\n",
      "pred_labels: [8 3 0 4 2]\n",
      "Epoch 11 - avg_train_loss: 0.8903  lr: 7.7953e-04  time: 56s\n",
      "Epoch 11 - Score: 0.6615\n"
     ]
    },
    {
     "name": "stdout",
     "output_type": "stream",
     "text": [
      "EVAL: [8/9] Data 0.000 (0.043) Elapsed 0m 4s (remain 0m 0s) \n",
      "Epoch: [12][0/40] Data 0.534 (0.534) Elapsed 0m 1s (remain 1m 10s) Loss: 0.3512(0.3512) Grad Norm: 7.9852  LR: 7.4103e-04  \n",
      "Epoch: [12][39/40] Data 0.000 (0.014) Elapsed 0m 51s (remain 0m 0s) Loss: 1.2902(0.8332) Grad Norm: 7.9937  LR: 7.4103e-04  \n",
      "EVAL: [0/9] Data 0.369 (0.369) Elapsed 0m 0s (remain 0m 6s) \n"
     ]
    },
    {
     "name": "stderr",
     "output_type": "stream",
     "text": [
      "labels: [ 8  3  6  4 10]\n",
      "pred_labels: [ 8  3  6  4 10]\n",
      "Epoch 12 - avg_train_loss: 0.8332  lr: 7.4103e-04  time: 55s\n",
      "Epoch 12 - Score: 0.6538\n"
     ]
    },
    {
     "name": "stdout",
     "output_type": "stream",
     "text": [
      "EVAL: [8/9] Data 0.000 (0.041) Elapsed 0m 4s (remain 0m 0s) \n",
      "Epoch: [13][0/40] Data 0.629 (0.629) Elapsed 0m 1s (remain 1m 14s) Loss: 0.1752(0.1752) Grad Norm: 7.0055  LR: 7.0063e-04  \n",
      "Epoch: [13][39/40] Data 0.000 (0.016) Elapsed 0m 51s (remain 0m 0s) Loss: 1.2980(0.8129) Grad Norm: 6.5520  LR: 7.0063e-04  \n",
      "EVAL: [0/9] Data 0.358 (0.358) Elapsed 0m 0s (remain 0m 6s) \n"
     ]
    },
    {
     "name": "stderr",
     "output_type": "stream",
     "text": [
      "labels: [ 8  3  6  4 10]\n",
      "pred_labels: [ 8  3  6  9 10]\n",
      "Epoch 13 - avg_train_loss: 0.8129  lr: 7.0063e-04  time: 56s\n",
      "Epoch 13 - Score: 0.6462\n"
     ]
    },
    {
     "name": "stdout",
     "output_type": "stream",
     "text": [
      "EVAL: [8/9] Data 0.000 (0.040) Elapsed 0m 3s (remain 0m 0s) \n",
      "Epoch: [14][0/40] Data 0.586 (0.586) Elapsed 0m 1s (remain 1m 12s) Loss: 1.2506(1.2506) Grad Norm: 6.5112  LR: 6.5865e-04  \n",
      "Epoch: [14][39/40] Data 0.000 (0.015) Elapsed 0m 51s (remain 0m 0s) Loss: 0.0305(0.8047) Grad Norm: 1.6759  LR: 6.5865e-04  \n",
      "EVAL: [0/9] Data 0.400 (0.400) Elapsed 0m 0s (remain 0m 6s) \n"
     ]
    },
    {
     "name": "stderr",
     "output_type": "stream",
     "text": [
      "labels: [ 8  3  6  4 10]\n",
      "pred_labels: [8 1 6 4 2]\n",
      "Epoch 14 - avg_train_loss: 0.8047  lr: 6.5865e-04  time: 56s\n",
      "Epoch 14 - Score: 0.6231\n"
     ]
    },
    {
     "name": "stdout",
     "output_type": "stream",
     "text": [
      "EVAL: [8/9] Data 0.000 (0.045) Elapsed 0m 4s (remain 0m 0s) \n",
      "Epoch: [15][0/40] Data 0.520 (0.520) Elapsed 0m 1s (remain 1m 9s) Loss: 0.1074(0.1074) Grad Norm: 5.0070  LR: 6.1542e-04  \n",
      "Epoch: [15][39/40] Data 0.000 (0.013) Elapsed 0m 51s (remain 0m 0s) Loss: 0.1033(0.7460) Grad Norm: 4.5998  LR: 6.1542e-04  \n",
      "EVAL: [0/9] Data 0.395 (0.395) Elapsed 0m 0s (remain 0m 6s) \n"
     ]
    },
    {
     "name": "stderr",
     "output_type": "stream",
     "text": [
      "labels: [ 8  3  6  4 10]\n",
      "pred_labels: [ 8  3  6  4 10]\n",
      "Epoch 15 - avg_train_loss: 0.7460  lr: 6.1542e-04  time: 56s\n",
      "Epoch 15 - Score: 0.6231\n"
     ]
    },
    {
     "name": "stdout",
     "output_type": "stream",
     "text": [
      "EVAL: [8/9] Data 0.000 (0.044) Elapsed 0m 4s (remain 0m 0s) \n",
      "Epoch: [16][0/40] Data 0.560 (0.560) Elapsed 0m 1s (remain 1m 11s) Loss: 1.6182(1.6182) Grad Norm: 12.9028  LR: 5.7130e-04  \n",
      "Epoch: [16][39/40] Data 0.000 (0.014) Elapsed 0m 51s (remain 0m 0s) Loss: 0.3715(0.9301) Grad Norm: 7.1992  LR: 5.7130e-04  \n",
      "EVAL: [0/9] Data 0.409 (0.409) Elapsed 0m 0s (remain 0m 6s) \n"
     ]
    },
    {
     "name": "stderr",
     "output_type": "stream",
     "text": [
      "labels: [ 8  3  6  4 10]\n",
      "pred_labels: [8 3 6 4 1]\n",
      "Epoch 16 - avg_train_loss: 0.9301  lr: 5.7130e-04  time: 56s\n",
      "Epoch 16 - Score: 0.6846\n",
      "Epoch 16 - Save Best Score: 0.6846 Model\n"
     ]
    },
    {
     "name": "stdout",
     "output_type": "stream",
     "text": [
      "EVAL: [8/9] Data 0.000 (0.046) Elapsed 0m 4s (remain 0m 0s) \n",
      "Epoch: [17][0/40] Data 0.600 (0.600) Elapsed 0m 1s (remain 1m 13s) Loss: 1.3652(1.3652) Grad Norm: 5.8286  LR: 5.2663e-04  \n",
      "Epoch: [17][39/40] Data 0.000 (0.015) Elapsed 0m 51s (remain 0m 0s) Loss: 0.2757(0.6867) Grad Norm: 8.2071  LR: 5.2663e-04  \n",
      "EVAL: [0/9] Data 0.458 (0.458) Elapsed 0m 0s (remain 0m 7s) \n"
     ]
    },
    {
     "name": "stderr",
     "output_type": "stream",
     "text": [
      "labels: [ 8  3  6  4 10]\n",
      "pred_labels: [ 8  3  0  0 10]\n",
      "Epoch 17 - avg_train_loss: 0.6867  lr: 5.2663e-04  time: 56s\n",
      "Epoch 17 - Score: 0.6538\n"
     ]
    },
    {
     "name": "stdout",
     "output_type": "stream",
     "text": [
      "EVAL: [8/9] Data 0.000 (0.051) Elapsed 0m 4s (remain 0m 0s) \n",
      "Epoch: [18][0/40] Data 0.597 (0.597) Elapsed 0m 1s (remain 1m 12s) Loss: 0.2170(0.2170) Grad Norm: 4.8866  LR: 4.8179e-04  \n",
      "Epoch: [18][39/40] Data 0.000 (0.015) Elapsed 0m 51s (remain 0m 0s) Loss: 0.1181(0.5306) Grad Norm: 6.6572  LR: 4.8179e-04  \n",
      "EVAL: [0/9] Data 0.379 (0.379) Elapsed 0m 0s (remain 0m 6s) \n"
     ]
    },
    {
     "name": "stderr",
     "output_type": "stream",
     "text": [
      "labels: [ 8  3  6  4 10]\n",
      "pred_labels: [8 3 6 4 2]\n",
      "Epoch 18 - avg_train_loss: 0.5306  lr: 4.8179e-04  time: 56s\n",
      "Epoch 18 - Score: 0.6462\n"
     ]
    },
    {
     "name": "stdout",
     "output_type": "stream",
     "text": [
      "EVAL: [8/9] Data 0.000 (0.042) Elapsed 0m 4s (remain 0m 0s) \n",
      "Epoch: [19][0/40] Data 0.633 (0.633) Elapsed 0m 1s (remain 1m 14s) Loss: 0.0570(0.0570) Grad Norm: 6.8484  LR: 4.3712e-04  \n",
      "Epoch: [19][39/40] Data 0.000 (0.016) Elapsed 0m 51s (remain 0m 0s) Loss: 0.0754(0.5722) Grad Norm: 3.6503  LR: 4.3712e-04  \n",
      "EVAL: [0/9] Data 0.381 (0.381) Elapsed 0m 0s (remain 0m 6s) \n"
     ]
    },
    {
     "name": "stderr",
     "output_type": "stream",
     "text": [
      "labels: [ 8  3  6  4 10]\n",
      "pred_labels: [8 3 6 4 2]\n",
      "Epoch 19 - avg_train_loss: 0.5722  lr: 4.3712e-04  time: 56s\n",
      "Epoch 19 - Score: 0.6923\n",
      "Epoch 19 - Save Best Score: 0.6923 Model\n"
     ]
    },
    {
     "name": "stdout",
     "output_type": "stream",
     "text": [
      "EVAL: [8/9] Data 0.000 (0.042) Elapsed 0m 4s (remain 0m 0s) \n",
      "Epoch: [20][0/40] Data 0.725 (0.725) Elapsed 0m 2s (remain 1m 18s) Loss: 0.0166(0.0166) Grad Norm: 0.7007  LR: 3.9299e-04  \n",
      "Epoch: [20][39/40] Data 0.000 (0.018) Elapsed 0m 51s (remain 0m 0s) Loss: 0.0136(0.4692) Grad Norm: 1.1321  LR: 3.9299e-04  \n",
      "EVAL: [0/9] Data 0.444 (0.444) Elapsed 0m 0s (remain 0m 7s) \n"
     ]
    },
    {
     "name": "stderr",
     "output_type": "stream",
     "text": [
      "labels: [ 8  3  6  4 10]\n",
      "pred_labels: [8 3 6 4 2]\n",
      "Epoch 20 - avg_train_loss: 0.4692  lr: 3.9299e-04  time: 56s\n",
      "Epoch 20 - Score: 0.6154\n"
     ]
    },
    {
     "name": "stdout",
     "output_type": "stream",
     "text": [
      "EVAL: [8/9] Data 0.000 (0.050) Elapsed 0m 4s (remain 0m 0s) \n",
      "Epoch: [21][0/40] Data 0.662 (0.662) Elapsed 0m 1s (remain 1m 15s) Loss: 0.0031(0.0031) Grad Norm: 0.1386  LR: 3.4975e-04  \n",
      "Epoch: [21][39/40] Data 0.000 (0.017) Elapsed 0m 51s (remain 0m 0s) Loss: 0.0249(0.5532) Grad Norm: 2.8102  LR: 3.4975e-04  \n",
      "EVAL: [0/9] Data 0.384 (0.384) Elapsed 0m 0s (remain 0m 6s) \n"
     ]
    },
    {
     "name": "stderr",
     "output_type": "stream",
     "text": [
      "labels: [ 8  3  6  4 10]\n",
      "pred_labels: [8 3 6 0 2]\n",
      "Epoch 21 - avg_train_loss: 0.5532  lr: 3.4975e-04  time: 56s\n",
      "Epoch 21 - Score: 0.6154\n"
     ]
    },
    {
     "name": "stdout",
     "output_type": "stream",
     "text": [
      "EVAL: [8/9] Data 0.000 (0.043) Elapsed 0m 4s (remain 0m 0s) \n",
      "Epoch: [22][0/40] Data 0.520 (0.520) Elapsed 0m 1s (remain 1m 10s) Loss: 0.0093(0.0093) Grad Norm: 0.5303  LR: 3.0775e-04  \n",
      "Epoch: [22][39/40] Data 0.000 (0.013) Elapsed 0m 51s (remain 0m 0s) Loss: 1.4192(0.5972) Grad Norm: 6.5487  LR: 3.0775e-04  \n",
      "EVAL: [0/9] Data 0.383 (0.383) Elapsed 0m 0s (remain 0m 6s) \n"
     ]
    },
    {
     "name": "stderr",
     "output_type": "stream",
     "text": [
      "labels: [ 8  3  6  4 10]\n",
      "pred_labels: [8 3 6 4 2]\n",
      "Epoch 22 - avg_train_loss: 0.5972  lr: 3.0775e-04  time: 55s\n",
      "Epoch 22 - Score: 0.6615\n"
     ]
    },
    {
     "name": "stdout",
     "output_type": "stream",
     "text": [
      "EVAL: [8/9] Data 0.000 (0.043) Elapsed 0m 4s (remain 0m 0s) \n",
      "Epoch: [23][0/40] Data 0.647 (0.647) Elapsed 0m 1s (remain 1m 14s) Loss: 0.0343(0.0343) Grad Norm: 4.9975  LR: 2.6732e-04  \n",
      "Epoch: [23][39/40] Data 0.000 (0.016) Elapsed 0m 51s (remain 0m 0s) Loss: 1.0742(0.3534) Grad Norm: 6.3134  LR: 2.6732e-04  \n",
      "EVAL: [0/9] Data 0.416 (0.416) Elapsed 0m 0s (remain 0m 6s) \n"
     ]
    },
    {
     "name": "stderr",
     "output_type": "stream",
     "text": [
      "labels: [ 8  3  6  4 10]\n",
      "pred_labels: [8 3 0 0 2]\n",
      "Epoch 23 - avg_train_loss: 0.3534  lr: 2.6732e-04  time: 56s\n",
      "Epoch 23 - Score: 0.6385\n"
     ]
    },
    {
     "name": "stdout",
     "output_type": "stream",
     "text": [
      "EVAL: [8/9] Data 0.000 (0.047) Elapsed 0m 4s (remain 0m 0s) \n",
      "Epoch: [24][0/40] Data 0.618 (0.618) Elapsed 0m 1s (remain 1m 13s) Loss: 0.0201(0.0201) Grad Norm: 0.9805  LR: 2.2880e-04  \n",
      "Epoch: [24][39/40] Data 0.000 (0.016) Elapsed 0m 51s (remain 0m 0s) Loss: 1.1485(0.4645) Grad Norm: 7.7476  LR: 2.2880e-04  \n",
      "EVAL: [0/9] Data 0.376 (0.376) Elapsed 0m 0s (remain 0m 6s) \n"
     ]
    },
    {
     "name": "stderr",
     "output_type": "stream",
     "text": [
      "labels: [ 8  3  6  4 10]\n",
      "pred_labels: [ 8  3  6  0 10]\n",
      "Epoch 24 - avg_train_loss: 0.4645  lr: 2.2880e-04  time: 56s\n",
      "Epoch 24 - Score: 0.7077\n",
      "Epoch 24 - Save Best Score: 0.7077 Model\n"
     ]
    },
    {
     "name": "stdout",
     "output_type": "stream",
     "text": [
      "EVAL: [8/9] Data 0.000 (0.042) Elapsed 0m 4s (remain 0m 0s) \n",
      "Epoch: [25][0/40] Data 0.597 (0.597) Elapsed 0m 1s (remain 1m 13s) Loss: 0.0014(0.0014) Grad Norm: 0.1129  LR: 1.9248e-04  \n",
      "Epoch: [25][39/40] Data 0.000 (0.015) Elapsed 0m 51s (remain 0m 0s) Loss: 0.0017(0.4779) Grad Norm: 0.1307  LR: 1.9248e-04  \n",
      "EVAL: [0/9] Data 0.332 (0.332) Elapsed 0m 0s (remain 0m 6s) \n"
     ]
    },
    {
     "name": "stderr",
     "output_type": "stream",
     "text": [
      "labels: [ 8  3  6  4 10]\n",
      "pred_labels: [ 8  3  6  0 10]\n",
      "Epoch 25 - avg_train_loss: 0.4779  lr: 1.9248e-04  time: 55s\n",
      "Epoch 25 - Score: 0.6923\n"
     ]
    },
    {
     "name": "stdout",
     "output_type": "stream",
     "text": [
      "EVAL: [8/9] Data 0.000 (0.037) Elapsed 0m 3s (remain 0m 0s) \n",
      "Epoch: [26][0/40] Data 0.597 (0.597) Elapsed 0m 1s (remain 1m 12s) Loss: 0.0407(0.0407) Grad Norm: 5.4583  LR: 1.5867e-04  \n",
      "Epoch: [26][39/40] Data 0.000 (0.015) Elapsed 0m 51s (remain 0m 0s) Loss: 0.7417(0.4551) Grad Norm: 2.8979  LR: 1.5867e-04  \n",
      "EVAL: [0/9] Data 0.387 (0.387) Elapsed 0m 0s (remain 0m 6s) \n"
     ]
    },
    {
     "name": "stderr",
     "output_type": "stream",
     "text": [
      "labels: [ 8  3  6  4 10]\n",
      "pred_labels: [ 8  3  6  0 10]\n",
      "Epoch 26 - avg_train_loss: 0.4551  lr: 1.5867e-04  time: 56s\n",
      "Epoch 26 - Score: 0.6846\n"
     ]
    },
    {
     "name": "stdout",
     "output_type": "stream",
     "text": [
      "EVAL: [8/9] Data 0.000 (0.043) Elapsed 0m 4s (remain 0m 0s) \n",
      "Epoch: [27][0/40] Data 0.643 (0.643) Elapsed 0m 1s (remain 1m 14s) Loss: 1.1477(1.1477) Grad Norm: 4.5374  LR: 1.2762e-04  \n",
      "Epoch: [27][39/40] Data 0.000 (0.016) Elapsed 0m 51s (remain 0m 0s) Loss: 0.8852(0.4813) Grad Norm: 5.1768  LR: 1.2762e-04  \n",
      "EVAL: [0/9] Data 0.412 (0.412) Elapsed 0m 0s (remain 0m 6s) \n"
     ]
    },
    {
     "name": "stderr",
     "output_type": "stream",
     "text": [
      "labels: [ 8  3  6  4 10]\n",
      "pred_labels: [8 3 6 0 2]\n",
      "Epoch 27 - avg_train_loss: 0.4813  lr: 1.2762e-04  time: 56s\n",
      "Epoch 27 - Score: 0.6385\n"
     ]
    },
    {
     "name": "stdout",
     "output_type": "stream",
     "text": [
      "EVAL: [8/9] Data 0.000 (0.046) Elapsed 0m 4s (remain 0m 0s) \n",
      "Epoch: [28][0/40] Data 0.632 (0.632) Elapsed 0m 1s (remain 1m 14s) Loss: 0.6212(0.6212) Grad Norm: 3.0034  LR: 9.9584e-05  \n",
      "Epoch: [28][39/40] Data 0.000 (0.016) Elapsed 0m 51s (remain 0m 0s) Loss: 0.8271(0.4367) Grad Norm: 5.4572  LR: 9.9584e-05  \n",
      "EVAL: [0/9] Data 0.351 (0.351) Elapsed 0m 0s (remain 0m 6s) \n"
     ]
    },
    {
     "name": "stderr",
     "output_type": "stream",
     "text": [
      "labels: [ 8  3  6  4 10]\n",
      "pred_labels: [8 3 6 0 2]\n",
      "Epoch 28 - avg_train_loss: 0.4367  lr: 9.9584e-05  time: 55s\n",
      "Epoch 28 - Score: 0.6615\n"
     ]
    },
    {
     "name": "stdout",
     "output_type": "stream",
     "text": [
      "EVAL: [8/9] Data 0.000 (0.039) Elapsed 0m 3s (remain 0m 0s) \n",
      "Epoch: [29][0/40] Data 0.548 (0.548) Elapsed 0m 1s (remain 1m 10s) Loss: 0.0217(0.0217) Grad Norm: 0.8645  LR: 7.4783e-05  \n",
      "Epoch: [29][39/40] Data 0.000 (0.014) Elapsed 0m 51s (remain 0m 0s) Loss: 0.8933(0.4734) Grad Norm: 5.3701  LR: 7.4783e-05  \n",
      "EVAL: [0/9] Data 0.417 (0.417) Elapsed 0m 0s (remain 0m 6s) \n"
     ]
    },
    {
     "name": "stderr",
     "output_type": "stream",
     "text": [
      "labels: [ 8  3  6  4 10]\n",
      "pred_labels: [8 3 6 0 2]\n",
      "Epoch 29 - avg_train_loss: 0.4734  lr: 7.4783e-05  time: 55s\n",
      "Epoch 29 - Score: 0.6308\n"
     ]
    },
    {
     "name": "stdout",
     "output_type": "stream",
     "text": [
      "EVAL: [8/9] Data 0.000 (0.047) Elapsed 0m 4s (remain 0m 0s) \n",
      "Epoch: [30][0/40] Data 0.480 (0.480) Elapsed 0m 1s (remain 1m 8s) Loss: 0.0071(0.0071) Grad Norm: 0.4551  LR: 5.3404e-05  \n",
      "Epoch: [30][39/40] Data 0.000 (0.012) Elapsed 0m 51s (remain 0m 0s) Loss: 0.0009(0.5502) Grad Norm: 0.0342  LR: 5.3404e-05  \n",
      "EVAL: [0/9] Data 0.448 (0.448) Elapsed 0m 0s (remain 0m 7s) \n"
     ]
    },
    {
     "name": "stderr",
     "output_type": "stream",
     "text": [
      "labels: [ 8  3  6  4 10]\n",
      "pred_labels: [8 3 6 0 2]\n",
      "Epoch 30 - avg_train_loss: 0.5502  lr: 5.3404e-05  time: 55s\n",
      "Epoch 30 - Score: 0.6769\n"
     ]
    },
    {
     "name": "stdout",
     "output_type": "stream",
     "text": [
      "EVAL: [8/9] Data 0.000 (0.050) Elapsed 0m 4s (remain 0m 0s) \n",
      "Epoch: [31][0/40] Data 0.579 (0.579) Elapsed 0m 1s (remain 1m 12s) Loss: 0.0019(0.0019) Grad Norm: 0.0972  LR: 3.5607e-05  \n",
      "Epoch: [31][39/40] Data 0.000 (0.015) Elapsed 0m 51s (remain 0m 0s) Loss: 0.0020(0.0044) Grad Norm: 0.0982  LR: 3.5607e-05  \n",
      "EVAL: [0/9] Data 0.327 (0.327) Elapsed 0m 0s (remain 0m 6s) \n"
     ]
    },
    {
     "name": "stderr",
     "output_type": "stream",
     "text": [
      "labels: [ 8  3  6  4 10]\n",
      "pred_labels: [ 8  3  6  0 10]\n",
      "Epoch 31 - avg_train_loss: 0.0044  lr: 3.5607e-05  time: 55s\n",
      "Epoch 31 - Score: 0.6846\n"
     ]
    },
    {
     "name": "stdout",
     "output_type": "stream",
     "text": [
      "EVAL: [8/9] Data 0.000 (0.037) Elapsed 0m 3s (remain 0m 0s) \n",
      "Epoch: [32][0/40] Data 0.674 (0.674) Elapsed 0m 1s (remain 1m 15s) Loss: 0.0015(0.0015) Grad Norm: 0.0856  LR: 2.1508e-05  \n",
      "Epoch: [32][39/40] Data 0.000 (0.017) Elapsed 0m 51s (remain 0m 0s) Loss: 0.0014(0.0061) Grad Norm: 0.0504  LR: 2.1508e-05  \n",
      "EVAL: [0/9] Data 0.370 (0.370) Elapsed 0m 0s (remain 0m 6s) \n"
     ]
    },
    {
     "name": "stderr",
     "output_type": "stream",
     "text": [
      "labels: [ 8  3  6  4 10]\n",
      "pred_labels: [ 8  3  6  0 10]\n",
      "Epoch 32 - avg_train_loss: 0.0061  lr: 2.1508e-05  time: 55s\n",
      "Epoch 32 - Score: 0.6846\n"
     ]
    },
    {
     "name": "stdout",
     "output_type": "stream",
     "text": [
      "EVAL: [8/9] Data 0.000 (0.041) Elapsed 0m 4s (remain 0m 0s) \n",
      "Epoch: [33][0/40] Data 0.541 (0.541) Elapsed 0m 1s (remain 1m 10s) Loss: 0.0088(0.0088) Grad Norm: 2.5203  LR: 1.1173e-05  \n",
      "Epoch: [33][39/40] Data 0.000 (0.014) Elapsed 0m 51s (remain 0m 0s) Loss: 0.0025(0.0034) Grad Norm: 0.2291  LR: 1.1173e-05  \n",
      "EVAL: [0/9] Data 0.398 (0.398) Elapsed 0m 0s (remain 0m 6s) \n"
     ]
    },
    {
     "name": "stderr",
     "output_type": "stream",
     "text": [
      "labels: [ 8  3  6  4 10]\n",
      "pred_labels: [ 8  3  6  0 10]\n",
      "Epoch 33 - avg_train_loss: 0.0034  lr: 1.1173e-05  time: 55s\n",
      "Epoch 33 - Score: 0.6769\n"
     ]
    },
    {
     "name": "stdout",
     "output_type": "stream",
     "text": [
      "EVAL: [8/9] Data 0.000 (0.045) Elapsed 0m 4s (remain 0m 0s) \n",
      "Epoch: [34][0/40] Data 0.644 (0.644) Elapsed 0m 1s (remain 1m 14s) Loss: 0.0005(0.0005) Grad Norm: 0.0170  LR: 4.5796e-06  \n",
      "Epoch: [34][39/40] Data 0.000 (0.016) Elapsed 0m 51s (remain 0m 0s) Loss: 0.0417(0.0046) Grad Norm: 4.2455  LR: 4.5796e-06  \n",
      "EVAL: [0/9] Data 0.359 (0.359) Elapsed 0m 0s (remain 0m 6s) \n"
     ]
    },
    {
     "name": "stderr",
     "output_type": "stream",
     "text": [
      "labels: [ 8  3  6  4 10]\n",
      "pred_labels: [ 8  3  6  0 10]\n",
      "Epoch 34 - avg_train_loss: 0.0046  lr: 4.5796e-06  time: 55s\n",
      "Epoch 34 - Score: 0.6615\n"
     ]
    },
    {
     "name": "stdout",
     "output_type": "stream",
     "text": [
      "EVAL: [8/9] Data 0.000 (0.040) Elapsed 0m 3s (remain 0m 0s) \n",
      "Epoch: [35][0/40] Data 0.558 (0.558) Elapsed 0m 1s (remain 1m 11s) Loss: 0.0024(0.0024) Grad Norm: 0.1525  LR: 1.5037e-06  \n",
      "Epoch: [35][39/40] Data 0.000 (0.014) Elapsed 0m 51s (remain 0m 0s) Loss: 0.0016(0.0035) Grad Norm: 0.1233  LR: 1.5037e-06  \n",
      "EVAL: [0/9] Data 0.465 (0.465) Elapsed 0m 0s (remain 0m 7s) \n"
     ]
    },
    {
     "name": "stderr",
     "output_type": "stream",
     "text": [
      "labels: [ 8  3  6  4 10]\n",
      "pred_labels: [ 8  3  6  0 10]\n",
      "Epoch 35 - avg_train_loss: 0.0035  lr: 1.5037e-06  time: 55s\n",
      "Epoch 35 - Score: 0.6615\n",
      "\n",
      "oof score: 0.6758409785932722\n",
      "\n",
      "==================== fold: 0, seed: 1 training ====================\n"
     ]
    },
    {
     "name": "stdout",
     "output_type": "stream",
     "text": [
      "EVAL: [8/9] Data 0.000 (0.052) Elapsed 0m 4s (remain 0m 0s) \n",
      "fold\n",
      "0    131\n",
      "1    131\n",
      "2    131\n",
      "3    131\n",
      "4    130\n",
      "dtype: int64\n",
      "Epoch: [1][0/40] Data 0.643 (0.643) Elapsed 0m 1s (remain 1m 14s) Loss: 2.6209(2.6209) Grad Norm: nan  LR: 1.0000e-03  \n",
      "Epoch: [1][39/40] Data 0.000 (0.016) Elapsed 0m 51s (remain 0m 0s) Loss: 2.1273(2.5325) Grad Norm: 15.2445  LR: 1.0000e-03  \n",
      "EVAL: [0/9] Data 0.434 (0.434) Elapsed 0m 0s (remain 0m 7s) \n"
     ]
    },
    {
     "name": "stderr",
     "output_type": "stream",
     "text": [
      "labels: [ 6  2 10  0  8]\n",
      "pred_labels: [2 2 2 6 2]\n",
      "Epoch 1 - avg_train_loss: 2.5325  lr: 1.0000e-03  time: 56s\n",
      "Epoch 1 - Score: 0.2595\n",
      "Epoch 1 - Save Best Score: 0.2595 Model\n"
     ]
    },
    {
     "name": "stdout",
     "output_type": "stream",
     "text": [
      "EVAL: [8/9] Data 0.000 (0.049) Elapsed 0m 4s (remain 0m 0s) \n",
      "Epoch: [2][0/40] Data 0.691 (0.691) Elapsed 0m 1s (remain 1m 17s) Loss: 2.0525(2.0525) Grad Norm: 15.3215  LR: 9.9598e-04  \n",
      "Epoch: [2][39/40] Data 0.000 (0.017) Elapsed 0m 51s (remain 0m 0s) Loss: 2.0701(2.0999) Grad Norm: 13.1798  LR: 9.9598e-04  \n",
      "EVAL: [0/9] Data 0.397 (0.397) Elapsed 0m 0s (remain 0m 6s) \n"
     ]
    },
    {
     "name": "stderr",
     "output_type": "stream",
     "text": [
      "labels: [ 6  2 10  0  8]\n",
      "pred_labels: [2 2 2 0 8]\n",
      "Epoch 2 - avg_train_loss: 2.0999  lr: 9.9598e-04  time: 56s\n",
      "Epoch 2 - Score: 0.4885\n",
      "Epoch 2 - Save Best Score: 0.4885 Model\n"
     ]
    },
    {
     "name": "stdout",
     "output_type": "stream",
     "text": [
      "EVAL: [8/9] Data 0.000 (0.044) Elapsed 0m 4s (remain 0m 0s) \n",
      "Epoch: [3][0/40] Data 0.621 (0.621) Elapsed 0m 1s (remain 1m 14s) Loss: 1.3138(1.3138) Grad Norm: 14.8354  LR: 9.8599e-04  \n",
      "Epoch: [3][39/40] Data 0.000 (0.016) Elapsed 0m 51s (remain 0m 0s) Loss: 1.1326(1.6485) Grad Norm: 12.4905  LR: 9.8599e-04  \n",
      "EVAL: [0/9] Data 0.437 (0.437) Elapsed 0m 0s (remain 0m 7s) \n"
     ]
    },
    {
     "name": "stderr",
     "output_type": "stream",
     "text": [
      "labels: [ 6  2 10  0  8]\n",
      "pred_labels: [2 2 2 0 8]\n",
      "Epoch 3 - avg_train_loss: 1.6485  lr: 9.8599e-04  time: 56s\n",
      "Epoch 3 - Score: 0.5878\n",
      "Epoch 3 - Save Best Score: 0.5878 Model\n"
     ]
    },
    {
     "name": "stdout",
     "output_type": "stream",
     "text": [
      "EVAL: [8/9] Data 0.000 (0.049) Elapsed 0m 4s (remain 0m 0s) \n",
      "Epoch: [4][0/40] Data 0.658 (0.658) Elapsed 0m 1s (remain 1m 15s) Loss: 0.6928(0.6928) Grad Norm: 11.5696  LR: 9.7213e-04  \n",
      "Epoch: [4][39/40] Data 0.000 (0.017) Elapsed 0m 51s (remain 0m 0s) Loss: 1.2122(1.4102) Grad Norm: 9.3334  LR: 9.7213e-04  \n",
      "EVAL: [0/9] Data 0.453 (0.453) Elapsed 0m 0s (remain 0m 7s) \n"
     ]
    },
    {
     "name": "stderr",
     "output_type": "stream",
     "text": [
      "labels: [ 6  2 10  0  8]\n",
      "pred_labels: [2 2 2 0 8]\n",
      "Epoch 4 - avg_train_loss: 1.4102  lr: 9.7213e-04  time: 56s\n",
      "Epoch 4 - Score: 0.5496\n"
     ]
    },
    {
     "name": "stdout",
     "output_type": "stream",
     "text": [
      "EVAL: [8/9] Data 0.000 (0.051) Elapsed 0m 4s (remain 0m 0s) \n",
      "Epoch: [5][0/40] Data 0.638 (0.638) Elapsed 0m 1s (remain 1m 14s) Loss: 1.6992(1.6992) Grad Norm: 8.2848  LR: 9.5449e-04  \n",
      "Epoch: [5][39/40] Data 0.000 (0.016) Elapsed 0m 51s (remain 0m 0s) Loss: 1.2370(1.2265) Grad Norm: 16.5170  LR: 9.5449e-04  \n",
      "EVAL: [0/9] Data 0.442 (0.442) Elapsed 0m 0s (remain 0m 7s) \n"
     ]
    },
    {
     "name": "stderr",
     "output_type": "stream",
     "text": [
      "labels: [ 6  2 10  0  8]\n",
      "pred_labels: [5 2 5 0 8]\n",
      "Epoch 5 - avg_train_loss: 1.2265  lr: 9.5449e-04  time: 56s\n",
      "Epoch 5 - Score: 0.5649\n"
     ]
    },
    {
     "name": "stdout",
     "output_type": "stream",
     "text": [
      "EVAL: [8/9] Data 0.000 (0.049) Elapsed 0m 4s (remain 0m 0s) \n",
      "Epoch: [6][0/40] Data 0.631 (0.631) Elapsed 0m 1s (remain 1m 14s) Loss: 0.5014(0.5014) Grad Norm: 8.6635  LR: 9.3324e-04  \n",
      "Epoch: [6][39/40] Data 0.000 (0.016) Elapsed 0m 51s (remain 0m 0s) Loss: 0.9298(1.0413) Grad Norm: 9.7807  LR: 9.3324e-04  \n",
      "EVAL: [0/9] Data 0.468 (0.468) Elapsed 0m 0s (remain 0m 7s) \n"
     ]
    },
    {
     "name": "stderr",
     "output_type": "stream",
     "text": [
      "labels: [ 6  2 10  0  8]\n",
      "pred_labels: [2 2 4 0 8]\n",
      "Epoch 6 - avg_train_loss: 1.0413  lr: 9.3324e-04  time: 56s\n",
      "Epoch 6 - Score: 0.5344\n"
     ]
    },
    {
     "name": "stdout",
     "output_type": "stream",
     "text": [
      "EVAL: [8/9] Data 0.000 (0.052) Elapsed 0m 4s (remain 0m 0s) \n",
      "Epoch: [7][0/40] Data 0.711 (0.711) Elapsed 0m 1s (remain 1m 17s) Loss: 0.5758(0.5758) Grad Norm: 7.3417  LR: 9.0853e-04  \n",
      "Epoch: [7][39/40] Data 0.000 (0.018) Elapsed 0m 51s (remain 0m 0s) Loss: 0.9554(1.0130) Grad Norm: 10.9542  LR: 9.0853e-04  \n",
      "EVAL: [0/9] Data 0.409 (0.409) Elapsed 0m 0s (remain 0m 6s) \n"
     ]
    },
    {
     "name": "stderr",
     "output_type": "stream",
     "text": [
      "labels: [ 6  2 10  0  8]\n",
      "pred_labels: [2 2 2 0 8]\n",
      "Epoch 7 - avg_train_loss: 1.0130  lr: 9.0853e-04  time: 56s\n",
      "Epoch 7 - Score: 0.5649\n"
     ]
    },
    {
     "name": "stdout",
     "output_type": "stream",
     "text": [
      "EVAL: [8/9] Data 0.000 (0.046) Elapsed 0m 4s (remain 0m 0s) \n",
      "Epoch: [8][0/40] Data 0.689 (0.689) Elapsed 0m 1s (remain 1m 16s) Loss: 0.6399(0.6399) Grad Norm: 8.7585  LR: 8.8057e-04  \n",
      "Epoch: [8][39/40] Data 0.000 (0.017) Elapsed 0m 51s (remain 0m 0s) Loss: 2.0617(1.2238) Grad Norm: 6.5445  LR: 8.8057e-04  \n",
      "EVAL: [0/9] Data 0.372 (0.372) Elapsed 0m 0s (remain 0m 6s) \n"
     ]
    },
    {
     "name": "stderr",
     "output_type": "stream",
     "text": [
      "labels: [ 6  2 10  0  8]\n",
      "pred_labels: [2 2 2 0 8]\n",
      "Epoch 8 - avg_train_loss: 1.2238  lr: 8.8057e-04  time: 56s\n",
      "Epoch 8 - Score: 0.5573\n"
     ]
    },
    {
     "name": "stdout",
     "output_type": "stream",
     "text": [
      "EVAL: [8/9] Data 0.000 (0.042) Elapsed 0m 4s (remain 0m 0s) \n",
      "Epoch: [9][0/40] Data 0.637 (0.637) Elapsed 0m 1s (remain 1m 14s) Loss: 1.4379(1.4379) Grad Norm: 9.1057  LR: 8.4958e-04  \n",
      "Epoch: [9][39/40] Data 0.000 (0.016) Elapsed 0m 51s (remain 0m 0s) Loss: 1.8437(1.0991) Grad Norm: 10.8729  LR: 8.4958e-04  \n",
      "EVAL: [0/9] Data 0.473 (0.473) Elapsed 0m 0s (remain 0m 7s) \n"
     ]
    },
    {
     "name": "stderr",
     "output_type": "stream",
     "text": [
      "labels: [ 6  2 10  0  8]\n",
      "pred_labels: [2 2 2 0 8]\n",
      "Epoch 9 - avg_train_loss: 1.0991  lr: 8.4958e-04  time: 56s\n",
      "Epoch 9 - Score: 0.5725\n"
     ]
    },
    {
     "name": "stdout",
     "output_type": "stream",
     "text": [
      "EVAL: [8/9] Data 0.000 (0.053) Elapsed 0m 4s (remain 0m 0s) \n",
      "Epoch: [10][0/40] Data 0.556 (0.556) Elapsed 0m 1s (remain 1m 11s) Loss: 1.5732(1.5732) Grad Norm: 35.7465  LR: 8.1581e-04  \n",
      "Epoch: [10][39/40] Data 0.000 (0.014) Elapsed 0m 51s (remain 0m 0s) Loss: 1.3685(0.9981) Grad Norm: 6.2935  LR: 8.1581e-04  \n",
      "EVAL: [0/9] Data 0.464 (0.464) Elapsed 0m 0s (remain 0m 7s) \n"
     ]
    },
    {
     "name": "stderr",
     "output_type": "stream",
     "text": [
      "labels: [ 6  2 10  0  8]\n",
      "pred_labels: [6 2 2 0 8]\n",
      "Epoch 10 - avg_train_loss: 0.9981  lr: 8.1581e-04  time: 56s\n",
      "Epoch 10 - Score: 0.5267\n"
     ]
    },
    {
     "name": "stdout",
     "output_type": "stream",
     "text": [
      "EVAL: [8/9] Data 0.000 (0.052) Elapsed 0m 4s (remain 0m 0s) \n",
      "Epoch: [11][0/40] Data 0.550 (0.550) Elapsed 0m 1s (remain 1m 11s) Loss: 1.4686(1.4686) Grad Norm: 13.7009  LR: 7.7953e-04  \n",
      "Epoch: [11][39/40] Data 0.000 (0.014) Elapsed 0m 51s (remain 0m 0s) Loss: 0.3588(0.9188) Grad Norm: 12.2221  LR: 7.7953e-04  \n",
      "EVAL: [0/9] Data 0.461 (0.461) Elapsed 0m 0s (remain 0m 7s) \n"
     ]
    },
    {
     "name": "stderr",
     "output_type": "stream",
     "text": [
      "labels: [ 6  2 10  0  8]\n",
      "pred_labels: [ 2  2 10  0  8]\n",
      "Epoch 11 - avg_train_loss: 0.9188  lr: 7.7953e-04  time: 56s\n",
      "Epoch 11 - Score: 0.6107\n",
      "Epoch 11 - Save Best Score: 0.6107 Model\n"
     ]
    },
    {
     "name": "stdout",
     "output_type": "stream",
     "text": [
      "EVAL: [8/9] Data 0.000 (0.051) Elapsed 0m 4s (remain 0m 0s) \n",
      "Epoch: [12][0/40] Data 0.658 (0.658) Elapsed 0m 1s (remain 1m 16s) Loss: 1.2579(1.2579) Grad Norm: 7.9264  LR: 7.4103e-04  \n",
      "Epoch: [12][39/40] Data 0.000 (0.017) Elapsed 0m 51s (remain 0m 0s) Loss: 1.8390(0.8731) Grad Norm: 10.2933  LR: 7.4103e-04  \n",
      "EVAL: [0/9] Data 0.433 (0.433) Elapsed 0m 0s (remain 0m 7s) \n"
     ]
    },
    {
     "name": "stderr",
     "output_type": "stream",
     "text": [
      "labels: [ 6  2 10  0  8]\n",
      "pred_labels: [11  2 10  0  8]\n",
      "Epoch 12 - avg_train_loss: 0.8731  lr: 7.4103e-04  time: 56s\n",
      "Epoch 12 - Score: 0.6031\n"
     ]
    },
    {
     "name": "stdout",
     "output_type": "stream",
     "text": [
      "EVAL: [8/9] Data 0.000 (0.048) Elapsed 0m 4s (remain 0m 0s) \n",
      "Epoch: [13][0/40] Data 0.564 (0.564) Elapsed 0m 1s (remain 1m 11s) Loss: 0.0908(0.0908) Grad Norm: 4.7218  LR: 7.0063e-04  \n",
      "Epoch: [13][39/40] Data 0.000 (0.014) Elapsed 0m 51s (remain 0m 0s) Loss: 0.3244(0.8612) Grad Norm: 8.7432  LR: 7.0063e-04  \n",
      "EVAL: [0/9] Data 0.443 (0.443) Elapsed 0m 0s (remain 0m 7s) \n"
     ]
    },
    {
     "name": "stderr",
     "output_type": "stream",
     "text": [
      "labels: [ 6  2 10  0  8]\n",
      "pred_labels: [6 2 5 0 8]\n",
      "Epoch 13 - avg_train_loss: 0.8612  lr: 7.0063e-04  time: 56s\n",
      "Epoch 13 - Score: 0.5802\n"
     ]
    },
    {
     "name": "stdout",
     "output_type": "stream",
     "text": [
      "EVAL: [8/9] Data 0.000 (0.050) Elapsed 0m 4s (remain 0m 0s) \n",
      "Epoch: [14][0/40] Data 0.620 (0.620) Elapsed 0m 1s (remain 1m 13s) Loss: 0.0899(0.0899) Grad Norm: 4.4738  LR: 6.5865e-04  \n",
      "Epoch: [14][39/40] Data 0.000 (0.016) Elapsed 0m 51s (remain 0m 0s) Loss: 0.1592(0.7597) Grad Norm: 10.4809  LR: 6.5865e-04  \n",
      "EVAL: [0/9] Data 0.398 (0.398) Elapsed 0m 0s (remain 0m 6s) \n"
     ]
    },
    {
     "name": "stderr",
     "output_type": "stream",
     "text": [
      "labels: [ 6  2 10  0  8]\n",
      "pred_labels: [6 2 2 0 8]\n",
      "Epoch 14 - avg_train_loss: 0.7597  lr: 6.5865e-04  time: 56s\n",
      "Epoch 14 - Score: 0.6031\n"
     ]
    },
    {
     "name": "stdout",
     "output_type": "stream",
     "text": [
      "EVAL: [8/9] Data 0.000 (0.044) Elapsed 0m 4s (remain 0m 0s) \n",
      "Epoch: [15][0/40] Data 0.505 (0.505) Elapsed 0m 1s (remain 1m 9s) Loss: 0.0400(0.0400) Grad Norm: 3.0102  LR: 6.1542e-04  \n",
      "Epoch: [15][39/40] Data 0.000 (0.013) Elapsed 0m 51s (remain 0m 0s) Loss: 1.2743(0.7174) Grad Norm: 7.4691  LR: 6.1542e-04  \n",
      "EVAL: [0/9] Data 0.365 (0.365) Elapsed 0m 0s (remain 0m 6s) \n"
     ]
    },
    {
     "name": "stderr",
     "output_type": "stream",
     "text": [
      "labels: [ 6  2 10  0  8]\n",
      "pred_labels: [6 2 2 0 8]\n",
      "Epoch 15 - avg_train_loss: 0.7174  lr: 6.1542e-04  time: 55s\n",
      "Epoch 15 - Score: 0.6412\n",
      "Epoch 15 - Save Best Score: 0.6412 Model\n"
     ]
    },
    {
     "name": "stdout",
     "output_type": "stream",
     "text": [
      "EVAL: [8/9] Data 0.000 (0.041) Elapsed 0m 4s (remain 0m 0s) \n",
      "Epoch: [16][0/40] Data 0.637 (0.637) Elapsed 0m 1s (remain 1m 14s) Loss: 0.2619(0.2619) Grad Norm: 8.0637  LR: 5.7130e-04  \n",
      "Epoch: [16][39/40] Data 0.000 (0.016) Elapsed 0m 51s (remain 0m 0s) Loss: 0.7007(0.6310) Grad Norm: 4.2094  LR: 5.7130e-04  \n",
      "EVAL: [0/9] Data 0.422 (0.422) Elapsed 0m 0s (remain 0m 6s) \n"
     ]
    },
    {
     "name": "stderr",
     "output_type": "stream",
     "text": [
      "labels: [ 6  2 10  0  8]\n",
      "pred_labels: [2 2 2 0 8]\n",
      "Epoch 16 - avg_train_loss: 0.6310  lr: 5.7130e-04  time: 56s\n",
      "Epoch 16 - Score: 0.5802\n"
     ]
    },
    {
     "name": "stdout",
     "output_type": "stream",
     "text": [
      "EVAL: [8/9] Data 0.000 (0.047) Elapsed 0m 4s (remain 0m 0s) \n",
      "Epoch: [17][0/40] Data 0.677 (0.677) Elapsed 0m 1s (remain 1m 16s) Loss: 1.0923(1.0923) Grad Norm: 5.8921  LR: 5.2663e-04  \n",
      "Epoch: [17][39/40] Data 0.000 (0.017) Elapsed 0m 51s (remain 0m 0s) Loss: 0.0814(0.5811) Grad Norm: 4.3480  LR: 5.2663e-04  \n",
      "EVAL: [0/9] Data 0.451 (0.451) Elapsed 0m 0s (remain 0m 7s) \n"
     ]
    },
    {
     "name": "stderr",
     "output_type": "stream",
     "text": [
      "labels: [ 6  2 10  0  8]\n",
      "pred_labels: [6 2 2 0 8]\n",
      "Epoch 17 - avg_train_loss: 0.5811  lr: 5.2663e-04  time: 56s\n",
      "Epoch 17 - Score: 0.5954\n"
     ]
    },
    {
     "name": "stdout",
     "output_type": "stream",
     "text": [
      "EVAL: [8/9] Data 0.000 (0.050) Elapsed 0m 4s (remain 0m 0s) \n",
      "Epoch: [18][0/40] Data 0.617 (0.617) Elapsed 0m 1s (remain 1m 13s) Loss: 1.0561(1.0561) Grad Norm: 5.0449  LR: 4.8179e-04  \n",
      "Epoch: [18][39/40] Data 0.000 (0.016) Elapsed 0m 51s (remain 0m 0s) Loss: 1.5041(0.7067) Grad Norm: 7.4901  LR: 4.8179e-04  \n",
      "EVAL: [0/9] Data 0.404 (0.404) Elapsed 0m 0s (remain 0m 6s) \n"
     ]
    },
    {
     "name": "stderr",
     "output_type": "stream",
     "text": [
      "labels: [ 6  2 10  0  8]\n",
      "pred_labels: [6 2 1 0 8]\n",
      "Epoch 18 - avg_train_loss: 0.7067  lr: 4.8179e-04  time: 56s\n",
      "Epoch 18 - Score: 0.6107\n"
     ]
    },
    {
     "name": "stdout",
     "output_type": "stream",
     "text": [
      "EVAL: [8/9] Data 0.000 (0.045) Elapsed 0m 4s (remain 0m 0s) \n",
      "Epoch: [19][0/40] Data 0.536 (0.536) Elapsed 0m 1s (remain 1m 10s) Loss: 0.0076(0.0076) Grad Norm: 0.3157  LR: 4.3712e-04  \n",
      "Epoch: [19][39/40] Data 0.000 (0.014) Elapsed 0m 51s (remain 0m 0s) Loss: 0.6765(0.5086) Grad Norm: 29.1183  LR: 4.3712e-04  \n",
      "EVAL: [0/9] Data 0.416 (0.416) Elapsed 0m 0s (remain 0m 6s) \n"
     ]
    },
    {
     "name": "stderr",
     "output_type": "stream",
     "text": [
      "labels: [ 6  2 10  0  8]\n",
      "pred_labels: [6 2 2 0 8]\n",
      "Epoch 19 - avg_train_loss: 0.5086  lr: 4.3712e-04  time: 56s\n",
      "Epoch 19 - Score: 0.6336\n"
     ]
    },
    {
     "name": "stdout",
     "output_type": "stream",
     "text": [
      "EVAL: [8/9] Data 0.000 (0.046) Elapsed 0m 4s (remain 0m 0s) \n",
      "Epoch: [20][0/40] Data 0.575 (0.575) Elapsed 0m 1s (remain 1m 12s) Loss: 1.2430(1.2430) Grad Norm: 6.6416  LR: 3.9299e-04  \n",
      "Epoch: [20][39/40] Data 0.000 (0.015) Elapsed 0m 51s (remain 0m 0s) Loss: 0.0048(0.7652) Grad Norm: 0.2356  LR: 3.9299e-04  \n",
      "EVAL: [0/9] Data 0.454 (0.454) Elapsed 0m 0s (remain 0m 7s) \n"
     ]
    },
    {
     "name": "stderr",
     "output_type": "stream",
     "text": [
      "labels: [ 6  2 10  0  8]\n",
      "pred_labels: [6 2 2 0 8]\n",
      "Epoch 20 - avg_train_loss: 0.7652  lr: 3.9299e-04  time: 56s\n",
      "Epoch 20 - Score: 0.6336\n"
     ]
    },
    {
     "name": "stdout",
     "output_type": "stream",
     "text": [
      "EVAL: [8/9] Data 0.000 (0.051) Elapsed 0m 4s (remain 0m 0s) \n",
      "Epoch: [21][0/40] Data 0.593 (0.593) Elapsed 0m 1s (remain 1m 12s) Loss: 0.8964(0.8964) Grad Norm: 9.4966  LR: 3.4975e-04  \n",
      "Epoch: [21][39/40] Data 0.000 (0.015) Elapsed 0m 51s (remain 0m 0s) Loss: 0.8296(0.5016) Grad Norm: 9.1788  LR: 3.4975e-04  \n",
      "EVAL: [0/9] Data 0.410 (0.410) Elapsed 0m 0s (remain 0m 6s) \n"
     ]
    },
    {
     "name": "stderr",
     "output_type": "stream",
     "text": [
      "labels: [ 6  2 10  0  8]\n",
      "pred_labels: [6 2 2 0 8]\n",
      "Epoch 21 - avg_train_loss: 0.5016  lr: 3.4975e-04  time: 56s\n",
      "Epoch 21 - Score: 0.5878\n"
     ]
    },
    {
     "name": "stdout",
     "output_type": "stream",
     "text": [
      "EVAL: [8/9] Data 0.000 (0.046) Elapsed 0m 4s (remain 0m 0s) \n",
      "Epoch: [22][0/40] Data 0.631 (0.631) Elapsed 0m 1s (remain 1m 14s) Loss: 0.8601(0.8601) Grad Norm: 6.4763  LR: 3.0775e-04  \n",
      "Epoch: [22][39/40] Data 0.000 (0.016) Elapsed 0m 51s (remain 0m 0s) Loss: 1.3414(0.5440) Grad Norm: 5.1723  LR: 3.0775e-04  \n",
      "EVAL: [0/9] Data 0.391 (0.391) Elapsed 0m 0s (remain 0m 6s) \n"
     ]
    },
    {
     "name": "stderr",
     "output_type": "stream",
     "text": [
      "labels: [ 6  2 10  0  8]\n",
      "pred_labels: [6 2 2 0 8]\n",
      "Epoch 22 - avg_train_loss: 0.5440  lr: 3.0775e-04  time: 56s\n",
      "Epoch 22 - Score: 0.5725\n"
     ]
    },
    {
     "name": "stdout",
     "output_type": "stream",
     "text": [
      "EVAL: [8/9] Data 0.000 (0.044) Elapsed 0m 4s (remain 0m 0s) \n",
      "Epoch: [23][0/40] Data 0.557 (0.557) Elapsed 0m 1s (remain 1m 11s) Loss: 1.4722(1.4722) Grad Norm: 18.7357  LR: 2.6732e-04  \n",
      "Epoch: [23][39/40] Data 0.000 (0.014) Elapsed 0m 51s (remain 0m 0s) Loss: 1.1463(0.4456) Grad Norm: 6.9061  LR: 2.6732e-04  \n",
      "EVAL: [0/9] Data 0.427 (0.427) Elapsed 0m 0s (remain 0m 6s) \n"
     ]
    },
    {
     "name": "stderr",
     "output_type": "stream",
     "text": [
      "labels: [ 6  2 10  0  8]\n",
      "pred_labels: [6 2 1 0 8]\n",
      "Epoch 23 - avg_train_loss: 0.4456  lr: 2.6732e-04  time: 56s\n",
      "Epoch 23 - Score: 0.5878\n"
     ]
    },
    {
     "name": "stdout",
     "output_type": "stream",
     "text": [
      "EVAL: [8/9] Data 0.000 (0.048) Elapsed 0m 4s (remain 0m 0s) \n",
      "Epoch: [24][0/40] Data 0.611 (0.611) Elapsed 0m 1s (remain 1m 13s) Loss: 0.7650(0.7650) Grad Norm: 3.4116  LR: 2.2880e-04  \n",
      "Epoch: [24][39/40] Data 0.000 (0.015) Elapsed 0m 51s (remain 0m 0s) Loss: 0.0009(0.5165) Grad Norm: 0.0358  LR: 2.2880e-04  \n",
      "EVAL: [0/9] Data 0.412 (0.412) Elapsed 0m 0s (remain 0m 6s) \n"
     ]
    },
    {
     "name": "stderr",
     "output_type": "stream",
     "text": [
      "labels: [ 6  2 10  0  8]\n",
      "pred_labels: [6 2 2 0 8]\n",
      "Epoch 24 - avg_train_loss: 0.5165  lr: 2.2880e-04  time: 56s\n",
      "Epoch 24 - Score: 0.5954\n"
     ]
    },
    {
     "name": "stdout",
     "output_type": "stream",
     "text": [
      "EVAL: [8/9] Data 0.000 (0.046) Elapsed 0m 4s (remain 0m 0s) \n",
      "Epoch: [25][0/40] Data 0.487 (0.487) Elapsed 0m 1s (remain 1m 8s) Loss: 1.1281(1.1281) Grad Norm: 6.3579  LR: 1.9248e-04  \n",
      "Epoch: [25][39/40] Data 0.000 (0.012) Elapsed 0m 51s (remain 0m 0s) Loss: 0.0011(0.4968) Grad Norm: 0.0609  LR: 1.9248e-04  \n",
      "EVAL: [0/9] Data 0.433 (0.433) Elapsed 0m 0s (remain 0m 7s) \n"
     ]
    },
    {
     "name": "stderr",
     "output_type": "stream",
     "text": [
      "labels: [ 6  2 10  0  8]\n",
      "pred_labels: [10  2  2  0  8]\n",
      "Epoch 25 - avg_train_loss: 0.4968  lr: 1.9248e-04  time: 56s\n",
      "Epoch 25 - Score: 0.5649\n"
     ]
    },
    {
     "name": "stdout",
     "output_type": "stream",
     "text": [
      "EVAL: [8/9] Data 0.000 (0.048) Elapsed 0m 4s (remain 0m 0s) \n",
      "Epoch: [26][0/40] Data 0.572 (0.572) Elapsed 0m 1s (remain 1m 12s) Loss: 0.0476(0.0476) Grad Norm: 5.2001  LR: 1.5867e-04  \n",
      "Epoch: [26][39/40] Data 0.000 (0.014) Elapsed 0m 51s (remain 0m 0s) Loss: 0.5204(0.4841) Grad Norm: 4.4533  LR: 1.5867e-04  \n",
      "EVAL: [0/9] Data 0.436 (0.436) Elapsed 0m 0s (remain 0m 7s) \n"
     ]
    },
    {
     "name": "stderr",
     "output_type": "stream",
     "text": [
      "labels: [ 6  2 10  0  8]\n",
      "pred_labels: [0 2 2 0 8]\n",
      "Epoch 26 - avg_train_loss: 0.4841  lr: 1.5867e-04  time: 56s\n",
      "Epoch 26 - Score: 0.5573\n"
     ]
    },
    {
     "name": "stdout",
     "output_type": "stream",
     "text": [
      "EVAL: [8/9] Data 0.000 (0.049) Elapsed 0m 4s (remain 0m 0s) \n",
      "Epoch: [27][0/40] Data 0.562 (0.562) Elapsed 0m 1s (remain 1m 11s) Loss: 0.8465(0.8465) Grad Norm: 5.3357  LR: 1.2762e-04  \n",
      "Epoch: [27][39/40] Data 0.000 (0.014) Elapsed 0m 51s (remain 0m 0s) Loss: 1.0348(0.4303) Grad Norm: 7.0571  LR: 1.2762e-04  \n",
      "EVAL: [0/9] Data 0.426 (0.426) Elapsed 0m 0s (remain 0m 6s) \n"
     ]
    },
    {
     "name": "stderr",
     "output_type": "stream",
     "text": [
      "labels: [ 6  2 10  0  8]\n",
      "pred_labels: [6 2 2 0 8]\n",
      "Epoch 27 - avg_train_loss: 0.4303  lr: 1.2762e-04  time: 56s\n",
      "Epoch 27 - Score: 0.5954\n"
     ]
    },
    {
     "name": "stdout",
     "output_type": "stream",
     "text": [
      "EVAL: [8/9] Data 0.000 (0.048) Elapsed 0m 4s (remain 0m 0s) \n",
      "Epoch: [28][0/40] Data 0.641 (0.641) Elapsed 0m 1s (remain 1m 14s) Loss: 0.0016(0.0016) Grad Norm: 0.1028  LR: 9.9584e-05  \n",
      "Epoch: [28][39/40] Data 0.000 (0.016) Elapsed 0m 51s (remain 0m 0s) Loss: 1.0833(0.5127) Grad Norm: 6.9338  LR: 9.9584e-05  \n",
      "EVAL: [0/9] Data 0.400 (0.400) Elapsed 0m 0s (remain 0m 6s) \n"
     ]
    },
    {
     "name": "stderr",
     "output_type": "stream",
     "text": [
      "labels: [ 6  2 10  0  8]\n",
      "pred_labels: [6 2 2 0 8]\n",
      "Epoch 28 - avg_train_loss: 0.5127  lr: 9.9584e-05  time: 56s\n",
      "Epoch 28 - Score: 0.5878\n"
     ]
    },
    {
     "name": "stdout",
     "output_type": "stream",
     "text": [
      "EVAL: [8/9] Data 0.000 (0.045) Elapsed 0m 4s (remain 0m 0s) \n",
      "Epoch: [29][0/40] Data 0.608 (0.608) Elapsed 0m 1s (remain 1m 13s) Loss: 0.7915(0.7915) Grad Norm: 5.5824  LR: 7.4783e-05  \n",
      "Epoch: [29][39/40] Data 0.000 (0.015) Elapsed 0m 51s (remain 0m 0s) Loss: 0.7992(0.4694) Grad Norm: 5.6937  LR: 7.4783e-05  \n",
      "EVAL: [0/9] Data 0.421 (0.421) Elapsed 0m 0s (remain 0m 6s) \n"
     ]
    },
    {
     "name": "stderr",
     "output_type": "stream",
     "text": [
      "labels: [ 6  2 10  0  8]\n",
      "pred_labels: [6 2 2 0 8]\n",
      "Epoch 29 - avg_train_loss: 0.4694  lr: 7.4783e-05  time: 56s\n",
      "Epoch 29 - Score: 0.5802\n"
     ]
    },
    {
     "name": "stdout",
     "output_type": "stream",
     "text": [
      "EVAL: [8/9] Data 0.000 (0.047) Elapsed 0m 4s (remain 0m 0s) \n",
      "Epoch: [30][0/40] Data 0.692 (0.692) Elapsed 0m 1s (remain 1m 16s) Loss: 0.7638(0.7638) Grad Norm: 4.0072  LR: 5.3404e-05  \n",
      "Epoch: [30][39/40] Data 0.000 (0.017) Elapsed 0m 51s (remain 0m 0s) Loss: 0.0009(0.3980) Grad Norm: 0.0672  LR: 5.3404e-05  \n",
      "EVAL: [0/9] Data 0.340 (0.340) Elapsed 0m 0s (remain 0m 6s) \n"
     ]
    },
    {
     "name": "stderr",
     "output_type": "stream",
     "text": [
      "labels: [ 6  2 10  0  8]\n",
      "pred_labels: [6 2 2 0 8]\n",
      "Epoch 30 - avg_train_loss: 0.3980  lr: 5.3404e-05  time: 56s\n",
      "Epoch 30 - Score: 0.6031\n"
     ]
    },
    {
     "name": "stdout",
     "output_type": "stream",
     "text": [
      "EVAL: [8/9] Data 0.000 (0.038) Elapsed 0m 4s (remain 0m 0s) \n",
      "Epoch: [31][0/40] Data 0.642 (0.642) Elapsed 0m 1s (remain 1m 14s) Loss: 0.0054(0.0054) Grad Norm: 0.8621  LR: 3.5607e-05  \n",
      "Epoch: [31][39/40] Data 0.000 (0.016) Elapsed 0m 51s (remain 0m 0s) Loss: 0.0002(0.0056) Grad Norm: 0.0074  LR: 3.5607e-05  \n",
      "EVAL: [0/9] Data 0.505 (0.505) Elapsed 0m 0s (remain 0m 7s) \n"
     ]
    },
    {
     "name": "stderr",
     "output_type": "stream",
     "text": [
      "labels: [ 6  2 10  0  8]\n",
      "pred_labels: [6 2 2 0 8]\n",
      "Epoch 31 - avg_train_loss: 0.0056  lr: 3.5607e-05  time: 56s\n",
      "Epoch 31 - Score: 0.6031\n"
     ]
    },
    {
     "name": "stdout",
     "output_type": "stream",
     "text": [
      "EVAL: [8/9] Data 0.000 (0.056) Elapsed 0m 4s (remain 0m 0s) \n",
      "Epoch: [32][0/40] Data 0.592 (0.592) Elapsed 0m 1s (remain 1m 12s) Loss: 0.0011(0.0011) Grad Norm: 0.0432  LR: 2.1508e-05  \n",
      "Epoch: [32][39/40] Data 0.000 (0.015) Elapsed 0m 51s (remain 0m 0s) Loss: 0.0012(0.0082) Grad Norm: 0.0809  LR: 2.1508e-05  \n",
      "EVAL: [0/9] Data 0.415 (0.415) Elapsed 0m 0s (remain 0m 6s) \n"
     ]
    },
    {
     "name": "stderr",
     "output_type": "stream",
     "text": [
      "labels: [ 6  2 10  0  8]\n",
      "pred_labels: [6 2 2 0 8]\n",
      "Epoch 32 - avg_train_loss: 0.0082  lr: 2.1508e-05  time: 56s\n",
      "Epoch 32 - Score: 0.5954\n"
     ]
    },
    {
     "name": "stdout",
     "output_type": "stream",
     "text": [
      "EVAL: [8/9] Data 0.000 (0.046) Elapsed 0m 4s (remain 0m 0s) \n",
      "Epoch: [33][0/40] Data 0.657 (0.657) Elapsed 0m 1s (remain 1m 15s) Loss: 0.0005(0.0005) Grad Norm: 0.0194  LR: 1.1173e-05  \n",
      "Epoch: [33][39/40] Data 0.000 (0.017) Elapsed 0m 51s (remain 0m 0s) Loss: 0.0379(0.0034) Grad Norm: 2.2729  LR: 1.1173e-05  \n",
      "EVAL: [0/9] Data 0.370 (0.370) Elapsed 0m 0s (remain 0m 6s) \n"
     ]
    },
    {
     "name": "stderr",
     "output_type": "stream",
     "text": [
      "labels: [ 6  2 10  0  8]\n",
      "pred_labels: [6 2 2 0 8]\n",
      "Epoch 33 - avg_train_loss: 0.0034  lr: 1.1173e-05  time: 56s\n",
      "Epoch 33 - Score: 0.5954\n"
     ]
    },
    {
     "name": "stdout",
     "output_type": "stream",
     "text": [
      "EVAL: [8/9] Data 0.000 (0.041) Elapsed 0m 4s (remain 0m 0s) \n",
      "Epoch: [34][0/40] Data 0.617 (0.617) Elapsed 0m 1s (remain 1m 13s) Loss: 0.0021(0.0021) Grad Norm: 0.4074  LR: 4.5796e-06  \n",
      "Epoch: [34][39/40] Data 0.000 (0.016) Elapsed 0m 51s (remain 0m 0s) Loss: 0.0016(0.0022) Grad Norm: 0.6264  LR: 4.5796e-06  \n",
      "EVAL: [0/9] Data 0.433 (0.433) Elapsed 0m 0s (remain 0m 7s) \n"
     ]
    },
    {
     "name": "stderr",
     "output_type": "stream",
     "text": [
      "labels: [ 6  2 10  0  8]\n",
      "pred_labels: [6 2 2 0 8]\n",
      "Epoch 34 - avg_train_loss: 0.0022  lr: 4.5796e-06  time: 56s\n",
      "Epoch 34 - Score: 0.5954\n"
     ]
    },
    {
     "name": "stdout",
     "output_type": "stream",
     "text": [
      "EVAL: [8/9] Data 0.000 (0.048) Elapsed 0m 4s (remain 0m 0s) \n",
      "Epoch: [35][0/40] Data 0.574 (0.574) Elapsed 0m 1s (remain 1m 11s) Loss: 0.0019(0.0019) Grad Norm: 0.1198  LR: 1.5037e-06  \n",
      "Epoch: [35][39/40] Data 0.000 (0.015) Elapsed 0m 51s (remain 0m 0s) Loss: 0.0010(0.0154) Grad Norm: 0.0475  LR: 1.5037e-06  \n",
      "EVAL: [0/9] Data 0.467 (0.467) Elapsed 0m 0s (remain 0m 7s) \n"
     ]
    },
    {
     "name": "stderr",
     "output_type": "stream",
     "text": [
      "labels: [ 6  2 10  0  8]\n",
      "pred_labels: [6 2 2 0 8]\n",
      "Epoch 35 - avg_train_loss: 0.0154  lr: 1.5037e-06  time: 56s\n",
      "Epoch 35 - Score: 0.5954\n",
      "==================== fold: 1, seed: 1 training ====================\n"
     ]
    },
    {
     "name": "stdout",
     "output_type": "stream",
     "text": [
      "EVAL: [8/9] Data 0.000 (0.052) Elapsed 0m 4s (remain 0m 0s) \n",
      "Epoch: [1][0/40] Data 0.624 (0.624) Elapsed 0m 1s (remain 1m 13s) Loss: 2.6443(2.6443) Grad Norm: inf  LR: 1.0000e-03  \n",
      "Epoch: [1][39/40] Data 0.000 (0.016) Elapsed 0m 51s (remain 0m 0s) Loss: 2.5016(2.4711) Grad Norm: 10.6641  LR: 1.0000e-03  \n",
      "EVAL: [0/9] Data 0.465 (0.465) Elapsed 0m 0s (remain 0m 7s) \n"
     ]
    },
    {
     "name": "stderr",
     "output_type": "stream",
     "text": [
      "labels: [12 11  2  2 11]\n",
      "pred_labels: [2 6 2 9 2]\n",
      "Epoch 1 - avg_train_loss: 2.4711  lr: 1.0000e-03  time: 56s\n",
      "Epoch 1 - Score: 0.3130\n",
      "Epoch 1 - Save Best Score: 0.3130 Model\n"
     ]
    },
    {
     "name": "stdout",
     "output_type": "stream",
     "text": [
      "EVAL: [8/9] Data 0.000 (0.052) Elapsed 0m 4s (remain 0m 0s) \n",
      "Epoch: [2][0/40] Data 0.690 (0.690) Elapsed 0m 1s (remain 1m 17s) Loss: 2.2210(2.2210) Grad Norm: 17.1172  LR: 9.9598e-04  \n",
      "Epoch: [2][39/40] Data 0.000 (0.017) Elapsed 0m 51s (remain 0m 0s) Loss: 1.9364(2.1293) Grad Norm: 12.9267  LR: 9.9598e-04  \n",
      "EVAL: [0/9] Data 0.377 (0.377) Elapsed 0m 0s (remain 0m 6s) \n"
     ]
    },
    {
     "name": "stderr",
     "output_type": "stream",
     "text": [
      "labels: [12 11  2  2 11]\n",
      "pred_labels: [ 9 11  2  2  5]\n",
      "Epoch 2 - avg_train_loss: 2.1293  lr: 9.9598e-04  time: 56s\n",
      "Epoch 2 - Score: 0.4427\n",
      "Epoch 2 - Save Best Score: 0.4427 Model\n"
     ]
    },
    {
     "name": "stdout",
     "output_type": "stream",
     "text": [
      "EVAL: [8/9] Data 0.000 (0.042) Elapsed 0m 4s (remain 0m 0s) \n",
      "Epoch: [3][0/40] Data 0.803 (0.803) Elapsed 0m 2s (remain 1m 21s) Loss: 1.9459(1.9459) Grad Norm: 16.5806  LR: 9.8599e-04  \n",
      "Epoch: [3][39/40] Data 0.000 (0.020) Elapsed 0m 51s (remain 0m 0s) Loss: 2.7571(1.8104) Grad Norm: 12.3046  LR: 9.8599e-04  \n",
      "EVAL: [0/9] Data 0.430 (0.430) Elapsed 0m 0s (remain 0m 7s) \n"
     ]
    },
    {
     "name": "stderr",
     "output_type": "stream",
     "text": [
      "labels: [12 11  2  2 11]\n",
      "pred_labels: [0 3 2 2 5]\n",
      "Epoch 3 - avg_train_loss: 1.8104  lr: 9.8599e-04  time: 56s\n",
      "Epoch 3 - Score: 0.5115\n",
      "Epoch 3 - Save Best Score: 0.5115 Model\n"
     ]
    },
    {
     "name": "stdout",
     "output_type": "stream",
     "text": [
      "EVAL: [8/9] Data 0.000 (0.048) Elapsed 0m 4s (remain 0m 0s) \n",
      "Epoch: [4][0/40] Data 0.736 (0.736) Elapsed 0m 2s (remain 1m 19s) Loss: 1.7481(1.7481) Grad Norm: 7.6211  LR: 9.7213e-04  \n",
      "Epoch: [4][39/40] Data 0.000 (0.019) Elapsed 0m 51s (remain 0m 0s) Loss: 1.3117(1.5858) Grad Norm: 24.9529  LR: 9.7213e-04  \n",
      "EVAL: [0/9] Data 0.429 (0.429) Elapsed 0m 0s (remain 0m 7s) \n"
     ]
    },
    {
     "name": "stderr",
     "output_type": "stream",
     "text": [
      "labels: [12 11  2  2 11]\n",
      "pred_labels: [11 11  2  0 11]\n",
      "Epoch 4 - avg_train_loss: 1.5858  lr: 9.7213e-04  time: 56s\n",
      "Epoch 4 - Score: 0.5420\n",
      "Epoch 4 - Save Best Score: 0.5420 Model\n"
     ]
    },
    {
     "name": "stdout",
     "output_type": "stream",
     "text": [
      "EVAL: [8/9] Data 0.000 (0.048) Elapsed 0m 4s (remain 0m 0s) \n",
      "Epoch: [5][0/40] Data 0.550 (0.550) Elapsed 0m 1s (remain 1m 11s) Loss: 1.7603(1.7603) Grad Norm: 8.6781  LR: 9.5449e-04  \n",
      "Epoch: [5][39/40] Data 0.000 (0.014) Elapsed 0m 51s (remain 0m 0s) Loss: 2.5592(1.3143) Grad Norm: 26.9179  LR: 9.5449e-04  \n",
      "EVAL: [0/9] Data 0.410 (0.410) Elapsed 0m 0s (remain 0m 6s) \n"
     ]
    },
    {
     "name": "stderr",
     "output_type": "stream",
     "text": [
      "labels: [12 11  2  2 11]\n",
      "pred_labels: [11 11  2  4 11]\n",
      "Epoch 5 - avg_train_loss: 1.3143  lr: 9.5449e-04  time: 56s\n",
      "Epoch 5 - Score: 0.5573\n",
      "Epoch 5 - Save Best Score: 0.5573 Model\n"
     ]
    },
    {
     "name": "stdout",
     "output_type": "stream",
     "text": [
      "EVAL: [8/9] Data 0.000 (0.046) Elapsed 0m 4s (remain 0m 0s) \n",
      "Epoch: [6][0/40] Data 0.594 (0.594) Elapsed 0m 1s (remain 1m 13s) Loss: 2.0453(2.0453) Grad Norm: 11.7441  LR: 9.3324e-04  \n",
      "Epoch: [6][39/40] Data 0.000 (0.015) Elapsed 0m 51s (remain 0m 0s) Loss: 2.2794(1.2991) Grad Norm: 16.7031  LR: 9.3324e-04  \n",
      "EVAL: [0/9] Data 0.387 (0.387) Elapsed 0m 0s (remain 0m 6s) \n"
     ]
    },
    {
     "name": "stderr",
     "output_type": "stream",
     "text": [
      "labels: [12 11  2  2 11]\n",
      "pred_labels: [11 11  2  2 11]\n",
      "Epoch 6 - avg_train_loss: 1.2991  lr: 9.3324e-04  time: 56s\n",
      "Epoch 6 - Score: 0.5802\n",
      "Epoch 6 - Save Best Score: 0.5802 Model\n"
     ]
    },
    {
     "name": "stdout",
     "output_type": "stream",
     "text": [
      "EVAL: [8/9] Data 0.000 (0.043) Elapsed 0m 4s (remain 0m 0s) \n",
      "Epoch: [7][0/40] Data 0.684 (0.684) Elapsed 0m 1s (remain 1m 16s) Loss: 0.1953(0.1953) Grad Norm: 3.7290  LR: 9.0853e-04  \n",
      "Epoch: [7][39/40] Data 0.000 (0.017) Elapsed 0m 51s (remain 0m 0s) Loss: 1.6798(1.2222) Grad Norm: 7.8625  LR: 9.0853e-04  \n",
      "EVAL: [0/9] Data 0.432 (0.432) Elapsed 0m 0s (remain 0m 7s) \n"
     ]
    },
    {
     "name": "stderr",
     "output_type": "stream",
     "text": [
      "labels: [12 11  2  2 11]\n",
      "pred_labels: [ 9 11  0  4 11]\n",
      "Epoch 7 - avg_train_loss: 1.2222  lr: 9.0853e-04  time: 56s\n",
      "Epoch 7 - Score: 0.5954\n",
      "Epoch 7 - Save Best Score: 0.5954 Model\n"
     ]
    },
    {
     "name": "stdout",
     "output_type": "stream",
     "text": [
      "EVAL: [8/9] Data 0.000 (0.048) Elapsed 0m 4s (remain 0m 0s) \n",
      "Epoch: [8][0/40] Data 0.600 (0.600) Elapsed 0m 1s (remain 1m 14s) Loss: 0.3056(0.3056) Grad Norm: 5.5252  LR: 8.8057e-04  \n",
      "Epoch: [8][39/40] Data 0.000 (0.015) Elapsed 0m 51s (remain 0m 0s) Loss: 2.1931(1.1414) Grad Norm: 14.9470  LR: 8.8057e-04  \n",
      "EVAL: [0/9] Data 0.379 (0.379) Elapsed 0m 0s (remain 0m 6s) \n"
     ]
    },
    {
     "name": "stderr",
     "output_type": "stream",
     "text": [
      "labels: [12 11  2  2 11]\n",
      "pred_labels: [ 9 11  2  4 11]\n",
      "Epoch 8 - avg_train_loss: 1.1414  lr: 8.8057e-04  time: 56s\n",
      "Epoch 8 - Score: 0.5954\n"
     ]
    },
    {
     "name": "stdout",
     "output_type": "stream",
     "text": [
      "EVAL: [8/9] Data 0.000 (0.042) Elapsed 0m 4s (remain 0m 0s) \n",
      "Epoch: [9][0/40] Data 0.575 (0.575) Elapsed 0m 1s (remain 1m 12s) Loss: 1.3617(1.3617) Grad Norm: 11.2424  LR: 8.4958e-04  \n",
      "Epoch: [9][39/40] Data 0.000 (0.015) Elapsed 0m 51s (remain 0m 0s) Loss: 0.0962(0.9114) Grad Norm: 4.3569  LR: 8.4958e-04  \n",
      "EVAL: [0/9] Data 0.421 (0.421) Elapsed 0m 0s (remain 0m 6s) \n"
     ]
    },
    {
     "name": "stderr",
     "output_type": "stream",
     "text": [
      "labels: [12 11  2  2 11]\n",
      "pred_labels: [ 9 11  1  0 11]\n",
      "Epoch 9 - avg_train_loss: 0.9114  lr: 8.4958e-04  time: 56s\n",
      "Epoch 9 - Score: 0.5649\n"
     ]
    },
    {
     "name": "stdout",
     "output_type": "stream",
     "text": [
      "EVAL: [8/9] Data 0.000 (0.047) Elapsed 0m 4s (remain 0m 0s) \n",
      "Epoch: [10][0/40] Data 0.516 (0.516) Elapsed 0m 1s (remain 1m 9s) Loss: 0.2584(0.2584) Grad Norm: 5.7025  LR: 8.1581e-04  \n",
      "Epoch: [10][39/40] Data 0.000 (0.013) Elapsed 0m 51s (remain 0m 0s) Loss: 1.6785(0.9388) Grad Norm: 8.6092  LR: 8.1581e-04  \n",
      "EVAL: [0/9] Data 0.411 (0.411) Elapsed 0m 0s (remain 0m 6s) \n"
     ]
    },
    {
     "name": "stderr",
     "output_type": "stream",
     "text": [
      "labels: [12 11  2  2 11]\n",
      "pred_labels: [ 9 11  1  4 11]\n",
      "Epoch 10 - avg_train_loss: 0.9388  lr: 8.1581e-04  time: 56s\n",
      "Epoch 10 - Score: 0.6031\n",
      "Epoch 10 - Save Best Score: 0.6031 Model\n"
     ]
    },
    {
     "name": "stdout",
     "output_type": "stream",
     "text": [
      "EVAL: [8/9] Data 0.000 (0.046) Elapsed 0m 4s (remain 0m 0s) \n",
      "Epoch: [11][0/40] Data 0.651 (0.651) Elapsed 0m 1s (remain 1m 15s) Loss: 1.5279(1.5279) Grad Norm: 5.9491  LR: 7.7953e-04  \n",
      "Epoch: [11][39/40] Data 0.000 (0.016) Elapsed 0m 51s (remain 0m 0s) Loss: 0.3879(0.8899) Grad Norm: 11.5496  LR: 7.7953e-04  \n",
      "EVAL: [0/9] Data 0.425 (0.425) Elapsed 0m 0s (remain 0m 6s) \n"
     ]
    },
    {
     "name": "stderr",
     "output_type": "stream",
     "text": [
      "labels: [12 11  2  2 11]\n",
      "pred_labels: [ 9 11  1  7 11]\n",
      "Epoch 11 - avg_train_loss: 0.8899  lr: 7.7953e-04  time: 56s\n",
      "Epoch 11 - Score: 0.6031\n"
     ]
    },
    {
     "name": "stdout",
     "output_type": "stream",
     "text": [
      "EVAL: [8/9] Data 0.000 (0.048) Elapsed 0m 4s (remain 0m 0s) \n",
      "Epoch: [12][0/40] Data 0.604 (0.604) Elapsed 0m 1s (remain 1m 13s) Loss: 1.4711(1.4711) Grad Norm: 86.7877  LR: 7.4103e-04  \n",
      "Epoch: [12][39/40] Data 0.000 (0.015) Elapsed 0m 51s (remain 0m 0s) Loss: 1.5580(0.8923) Grad Norm: 7.3851  LR: 7.4103e-04  \n",
      "EVAL: [0/9] Data 0.431 (0.431) Elapsed 0m 0s (remain 0m 7s) \n"
     ]
    },
    {
     "name": "stderr",
     "output_type": "stream",
     "text": [
      "labels: [12 11  2  2 11]\n",
      "pred_labels: [11 11  1  4 11]\n",
      "Epoch 12 - avg_train_loss: 0.8923  lr: 7.4103e-04  time: 56s\n",
      "Epoch 12 - Score: 0.5496\n"
     ]
    },
    {
     "name": "stdout",
     "output_type": "stream",
     "text": [
      "EVAL: [8/9] Data 0.000 (0.048) Elapsed 0m 4s (remain 0m 0s) \n",
      "Epoch: [13][0/40] Data 0.527 (0.527) Elapsed 0m 1s (remain 1m 10s) Loss: 1.4350(1.4350) Grad Norm: 10.4683  LR: 7.0063e-04  \n",
      "Epoch: [13][39/40] Data 0.000 (0.013) Elapsed 0m 51s (remain 0m 0s) Loss: 0.9297(0.8570) Grad Norm: 4.9617  LR: 7.0063e-04  \n",
      "EVAL: [0/9] Data 0.378 (0.378) Elapsed 0m 0s (remain 0m 6s) \n"
     ]
    },
    {
     "name": "stderr",
     "output_type": "stream",
     "text": [
      "labels: [12 11  2  2 11]\n",
      "pred_labels: [ 9 11  3  4 11]\n",
      "Epoch 13 - avg_train_loss: 0.8570  lr: 7.0063e-04  time: 56s\n",
      "Epoch 13 - Score: 0.6107\n",
      "Epoch 13 - Save Best Score: 0.6107 Model\n"
     ]
    },
    {
     "name": "stdout",
     "output_type": "stream",
     "text": [
      "EVAL: [8/9] Data 0.000 (0.042) Elapsed 0m 4s (remain 0m 0s) \n",
      "Epoch: [14][0/40] Data 0.655 (0.655) Elapsed 0m 1s (remain 1m 15s) Loss: 0.0533(0.0533) Grad Norm: 2.2398  LR: 6.5865e-04  \n",
      "Epoch: [14][39/40] Data 0.000 (0.017) Elapsed 0m 51s (remain 0m 0s) Loss: 0.3546(0.7478) Grad Norm: 9.5148  LR: 6.5865e-04  \n",
      "EVAL: [0/9] Data 0.413 (0.413) Elapsed 0m 0s (remain 0m 6s) \n"
     ]
    },
    {
     "name": "stderr",
     "output_type": "stream",
     "text": [
      "labels: [12 11  2  2 11]\n",
      "pred_labels: [12 11  1  4 11]\n",
      "Epoch 14 - avg_train_loss: 0.7478  lr: 6.5865e-04  time: 56s\n",
      "Epoch 14 - Score: 0.5954\n"
     ]
    },
    {
     "name": "stdout",
     "output_type": "stream",
     "text": [
      "EVAL: [8/9] Data 0.000 (0.046) Elapsed 0m 4s (remain 0m 0s) \n",
      "Epoch: [15][0/40] Data 0.631 (0.631) Elapsed 0m 1s (remain 1m 14s) Loss: 0.0212(0.0212) Grad Norm: 1.1861  LR: 6.1542e-04  \n",
      "Epoch: [15][39/40] Data 0.000 (0.016) Elapsed 0m 51s (remain 0m 0s) Loss: 1.5426(0.9962) Grad Norm: 8.9368  LR: 6.1542e-04  \n",
      "EVAL: [0/9] Data 0.429 (0.429) Elapsed 0m 0s (remain 0m 7s) \n"
     ]
    },
    {
     "name": "stderr",
     "output_type": "stream",
     "text": [
      "labels: [12 11  2  2 11]\n",
      "pred_labels: [11 11  1  3 11]\n",
      "Epoch 15 - avg_train_loss: 0.9962  lr: 6.1542e-04  time: 56s\n",
      "Epoch 15 - Score: 0.6107\n"
     ]
    },
    {
     "name": "stdout",
     "output_type": "stream",
     "text": [
      "EVAL: [8/9] Data 0.000 (0.048) Elapsed 0m 4s (remain 0m 0s) \n",
      "Epoch: [16][0/40] Data 0.540 (0.540) Elapsed 0m 1s (remain 1m 11s) Loss: 1.0163(1.0163) Grad Norm: 5.9009  LR: 5.7130e-04  \n",
      "Epoch: [16][39/40] Data 0.000 (0.014) Elapsed 0m 51s (remain 0m 0s) Loss: 0.6024(0.6108) Grad Norm: 19.8988  LR: 5.7130e-04  \n",
      "EVAL: [0/9] Data 0.435 (0.435) Elapsed 0m 0s (remain 0m 7s) \n"
     ]
    },
    {
     "name": "stderr",
     "output_type": "stream",
     "text": [
      "labels: [12 11  2  2 11]\n",
      "pred_labels: [11 11  0  3 11]\n",
      "Epoch 16 - avg_train_loss: 0.6108  lr: 5.7130e-04  time: 56s\n",
      "Epoch 16 - Score: 0.5802\n"
     ]
    },
    {
     "name": "stdout",
     "output_type": "stream",
     "text": [
      "EVAL: [8/9] Data 0.000 (0.049) Elapsed 0m 4s (remain 0m 0s) \n",
      "Epoch: [17][0/40] Data 0.620 (0.620) Elapsed 0m 1s (remain 1m 13s) Loss: 1.3206(1.3206) Grad Norm: 6.1316  LR: 5.2663e-04  \n",
      "Epoch: [17][39/40] Data 0.000 (0.016) Elapsed 0m 51s (remain 0m 0s) Loss: 0.1985(0.7564) Grad Norm: 6.9863  LR: 5.2663e-04  \n",
      "EVAL: [0/9] Data 0.475 (0.475) Elapsed 0m 0s (remain 0m 7s) \n"
     ]
    },
    {
     "name": "stderr",
     "output_type": "stream",
     "text": [
      "labels: [12 11  2  2 11]\n",
      "pred_labels: [11 11  0  4 11]\n",
      "Epoch 17 - avg_train_loss: 0.7564  lr: 5.2663e-04  time: 56s\n",
      "Epoch 17 - Score: 0.5802\n"
     ]
    },
    {
     "name": "stdout",
     "output_type": "stream",
     "text": [
      "EVAL: [8/9] Data 0.000 (0.053) Elapsed 0m 4s (remain 0m 0s) \n",
      "Epoch: [18][0/40] Data 0.548 (0.548) Elapsed 0m 1s (remain 1m 10s) Loss: 0.8448(0.8448) Grad Norm: 4.9624  LR: 4.8179e-04  \n",
      "Epoch: [18][39/40] Data 0.000 (0.014) Elapsed 0m 51s (remain 0m 0s) Loss: 1.1020(0.7143) Grad Norm: 9.5874  LR: 4.8179e-04  \n",
      "EVAL: [0/9] Data 0.373 (0.373) Elapsed 0m 0s (remain 0m 6s) \n"
     ]
    },
    {
     "name": "stderr",
     "output_type": "stream",
     "text": [
      "labels: [12 11  2  2 11]\n",
      "pred_labels: [11 11  0  4 11]\n",
      "Epoch 18 - avg_train_loss: 0.7143  lr: 4.8179e-04  time: 56s\n",
      "Epoch 18 - Score: 0.5954\n"
     ]
    },
    {
     "name": "stdout",
     "output_type": "stream",
     "text": [
      "EVAL: [8/9] Data 0.000 (0.042) Elapsed 0m 4s (remain 0m 0s) \n",
      "Epoch: [19][0/40] Data 0.596 (0.596) Elapsed 0m 1s (remain 1m 12s) Loss: 0.0198(0.0198) Grad Norm: 1.5840  LR: 4.3712e-04  \n",
      "Epoch: [19][39/40] Data 0.000 (0.015) Elapsed 0m 51s (remain 0m 0s) Loss: 0.4083(0.4562) Grad Norm: 13.5211  LR: 4.3712e-04  \n",
      "EVAL: [0/9] Data 0.464 (0.464) Elapsed 0m 0s (remain 0m 7s) \n"
     ]
    },
    {
     "name": "stderr",
     "output_type": "stream",
     "text": [
      "labels: [12 11  2  2 11]\n",
      "pred_labels: [11 11  0  4 11]\n",
      "Epoch 19 - avg_train_loss: 0.4562  lr: 4.3712e-04  time: 56s\n",
      "Epoch 19 - Score: 0.5954\n"
     ]
    },
    {
     "name": "stdout",
     "output_type": "stream",
     "text": [
      "EVAL: [8/9] Data 0.000 (0.052) Elapsed 0m 4s (remain 0m 0s) \n",
      "Epoch: [20][0/40] Data 0.571 (0.571) Elapsed 0m 1s (remain 1m 11s) Loss: 0.0143(0.0143) Grad Norm: 1.4709  LR: 3.9299e-04  \n",
      "Epoch: [20][39/40] Data 0.000 (0.014) Elapsed 0m 51s (remain 0m 0s) Loss: 0.0084(0.5941) Grad Norm: 0.4547  LR: 3.9299e-04  \n",
      "EVAL: [0/9] Data 0.434 (0.434) Elapsed 0m 0s (remain 0m 7s) \n"
     ]
    },
    {
     "name": "stderr",
     "output_type": "stream",
     "text": [
      "labels: [12 11  2  2 11]\n",
      "pred_labels: [11 11  0  4 11]\n",
      "Epoch 20 - avg_train_loss: 0.5941  lr: 3.9299e-04  time: 56s\n",
      "Epoch 20 - Score: 0.6107\n"
     ]
    },
    {
     "name": "stdout",
     "output_type": "stream",
     "text": [
      "EVAL: [8/9] Data 0.000 (0.048) Elapsed 0m 4s (remain 0m 0s) \n",
      "Epoch: [21][0/40] Data 0.558 (0.558) Elapsed 0m 1s (remain 1m 11s) Loss: 0.0036(0.0036) Grad Norm: 0.5349  LR: 3.4975e-04  \n",
      "Epoch: [21][39/40] Data 0.000 (0.014) Elapsed 0m 51s (remain 0m 0s) Loss: 1.0493(0.5645) Grad Norm: 5.8488  LR: 3.4975e-04  \n",
      "EVAL: [0/9] Data 0.417 (0.417) Elapsed 0m 0s (remain 0m 6s) \n"
     ]
    },
    {
     "name": "stderr",
     "output_type": "stream",
     "text": [
      "labels: [12 11  2  2 11]\n",
      "pred_labels: [11 11  3  3 11]\n",
      "Epoch 21 - avg_train_loss: 0.5645  lr: 3.4975e-04  time: 56s\n",
      "Epoch 21 - Score: 0.5878\n"
     ]
    },
    {
     "name": "stdout",
     "output_type": "stream",
     "text": [
      "EVAL: [8/9] Data 0.000 (0.047) Elapsed 0m 4s (remain 0m 0s) \n",
      "Epoch: [22][0/40] Data 0.652 (0.652) Elapsed 0m 1s (remain 1m 15s) Loss: 1.3796(1.3796) Grad Norm: 6.5781  LR: 3.0775e-04  \n",
      "Epoch: [22][39/40] Data 0.000 (0.016) Elapsed 0m 51s (remain 0m 0s) Loss: 0.0035(0.5053) Grad Norm: 0.1568  LR: 3.0775e-04  \n",
      "EVAL: [0/9] Data 0.465 (0.465) Elapsed 0m 0s (remain 0m 7s) \n"
     ]
    },
    {
     "name": "stderr",
     "output_type": "stream",
     "text": [
      "labels: [12 11  2  2 11]\n",
      "pred_labels: [11 11  0  3 11]\n",
      "Epoch 22 - avg_train_loss: 0.5053  lr: 3.0775e-04  time: 56s\n",
      "Epoch 22 - Score: 0.6336\n",
      "Epoch 22 - Save Best Score: 0.6336 Model\n"
     ]
    },
    {
     "name": "stdout",
     "output_type": "stream",
     "text": [
      "EVAL: [8/9] Data 0.000 (0.052) Elapsed 0m 4s (remain 0m 0s) \n",
      "Epoch: [23][0/40] Data 0.910 (0.910) Elapsed 0m 2s (remain 1m 25s) Loss: 0.0013(0.0013) Grad Norm: 0.0365  LR: 2.6732e-04  \n",
      "Epoch: [23][39/40] Data 0.000 (0.023) Elapsed 0m 51s (remain 0m 0s) Loss: 1.1347(0.5218) Grad Norm: 6.1592  LR: 2.6732e-04  \n",
      "EVAL: [0/9] Data 0.396 (0.396) Elapsed 0m 0s (remain 0m 6s) \n"
     ]
    },
    {
     "name": "stderr",
     "output_type": "stream",
     "text": [
      "labels: [12 11  2  2 11]\n",
      "pred_labels: [11 11  3  3 11]\n",
      "Epoch 23 - avg_train_loss: 0.5218  lr: 2.6732e-04  time: 56s\n",
      "Epoch 23 - Score: 0.6336\n"
     ]
    },
    {
     "name": "stdout",
     "output_type": "stream",
     "text": [
      "EVAL: [8/9] Data 0.000 (0.044) Elapsed 0m 4s (remain 0m 0s) \n",
      "Epoch: [24][0/40] Data 0.581 (0.581) Elapsed 0m 1s (remain 1m 12s) Loss: 0.0253(0.0253) Grad Norm: 3.0662  LR: 2.2880e-04  \n",
      "Epoch: [24][39/40] Data 0.000 (0.015) Elapsed 0m 51s (remain 0m 0s) Loss: 0.0047(0.4317) Grad Norm: 0.4908  LR: 2.2880e-04  \n",
      "EVAL: [0/9] Data 0.419 (0.419) Elapsed 0m 0s (remain 0m 6s) \n"
     ]
    },
    {
     "name": "stderr",
     "output_type": "stream",
     "text": [
      "labels: [12 11  2  2 11]\n",
      "pred_labels: [11 11  3  3 11]\n",
      "Epoch 24 - avg_train_loss: 0.4317  lr: 2.2880e-04  time: 56s\n",
      "Epoch 24 - Score: 0.6183\n"
     ]
    },
    {
     "name": "stdout",
     "output_type": "stream",
     "text": [
      "EVAL: [8/9] Data 0.000 (0.047) Elapsed 0m 4s (remain 0m 0s) \n",
      "Epoch: [25][0/40] Data 0.538 (0.538) Elapsed 0m 1s (remain 1m 11s) Loss: 1.5901(1.5901) Grad Norm: 7.6593  LR: 1.9248e-04  \n",
      "Epoch: [25][39/40] Data 0.000 (0.014) Elapsed 0m 51s (remain 0m 0s) Loss: 0.2235(0.3963) Grad Norm: 9.8719  LR: 1.9248e-04  \n",
      "EVAL: [0/9] Data 0.462 (0.462) Elapsed 0m 0s (remain 0m 7s) \n"
     ]
    },
    {
     "name": "stderr",
     "output_type": "stream",
     "text": [
      "labels: [12 11  2  2 11]\n",
      "pred_labels: [11 11  3  3 11]\n",
      "Epoch 25 - avg_train_loss: 0.3963  lr: 1.9248e-04  time: 56s\n",
      "Epoch 25 - Score: 0.6336\n"
     ]
    },
    {
     "name": "stdout",
     "output_type": "stream",
     "text": [
      "EVAL: [8/9] Data 0.000 (0.052) Elapsed 0m 4s (remain 0m 0s) \n",
      "Epoch: [26][0/40] Data 0.531 (0.531) Elapsed 0m 1s (remain 1m 10s) Loss: 0.7502(0.7502) Grad Norm: 4.0489  LR: 1.5867e-04  \n",
      "Epoch: [26][39/40] Data 0.000 (0.013) Elapsed 0m 51s (remain 0m 0s) Loss: 0.0015(0.4396) Grad Norm: 0.0761  LR: 1.5867e-04  \n",
      "EVAL: [0/9] Data 0.362 (0.362) Elapsed 0m 0s (remain 0m 6s) \n"
     ]
    },
    {
     "name": "stderr",
     "output_type": "stream",
     "text": [
      "labels: [12 11  2  2 11]\n",
      "pred_labels: [11 11  3  3 11]\n",
      "Epoch 26 - avg_train_loss: 0.4396  lr: 1.5867e-04  time: 55s\n",
      "Epoch 26 - Score: 0.5954\n"
     ]
    },
    {
     "name": "stdout",
     "output_type": "stream",
     "text": [
      "EVAL: [8/9] Data 0.000 (0.040) Elapsed 0m 4s (remain 0m 0s) \n",
      "Epoch: [27][0/40] Data 0.677 (0.677) Elapsed 0m 1s (remain 1m 16s) Loss: 1.1005(1.1005) Grad Norm: 8.4206  LR: 1.2762e-04  \n",
      "Epoch: [27][39/40] Data 0.000 (0.017) Elapsed 0m 51s (remain 0m 0s) Loss: 0.0018(0.5438) Grad Norm: 0.1170  LR: 1.2762e-04  \n",
      "EVAL: [0/9] Data 0.465 (0.465) Elapsed 0m 0s (remain 0m 7s) \n"
     ]
    },
    {
     "name": "stderr",
     "output_type": "stream",
     "text": [
      "labels: [12 11  2  2 11]\n",
      "pred_labels: [11 11  0  4 11]\n",
      "Epoch 27 - avg_train_loss: 0.5438  lr: 1.2762e-04  time: 56s\n",
      "Epoch 27 - Score: 0.6260\n"
     ]
    },
    {
     "name": "stdout",
     "output_type": "stream",
     "text": [
      "EVAL: [8/9] Data 0.000 (0.052) Elapsed 0m 4s (remain 0m 0s) \n",
      "Epoch: [28][0/40] Data 0.590 (0.590) Elapsed 0m 1s (remain 1m 12s) Loss: 0.0030(0.0030) Grad Norm: 0.1178  LR: 9.9584e-05  \n",
      "Epoch: [28][39/40] Data 0.000 (0.015) Elapsed 0m 51s (remain 0m 0s) Loss: 1.1557(0.3832) Grad Norm: 11.4729  LR: 9.9584e-05  \n",
      "EVAL: [0/9] Data 0.396 (0.396) Elapsed 0m 0s (remain 0m 6s) \n"
     ]
    },
    {
     "name": "stderr",
     "output_type": "stream",
     "text": [
      "labels: [12 11  2  2 11]\n",
      "pred_labels: [11 11  3  3 11]\n",
      "Epoch 28 - avg_train_loss: 0.3832  lr: 9.9584e-05  time: 56s\n",
      "Epoch 28 - Score: 0.6107\n"
     ]
    },
    {
     "name": "stdout",
     "output_type": "stream",
     "text": [
      "EVAL: [8/9] Data 0.000 (0.044) Elapsed 0m 4s (remain 0m 0s) \n",
      "Epoch: [29][0/40] Data 0.671 (0.671) Elapsed 0m 1s (remain 1m 15s) Loss: 0.0023(0.0023) Grad Norm: 0.1191  LR: 7.4783e-05  \n",
      "Epoch: [29][39/40] Data 0.000 (0.017) Elapsed 0m 51s (remain 0m 0s) Loss: 0.0012(0.4832) Grad Norm: 0.0554  LR: 7.4783e-05  \n",
      "EVAL: [0/9] Data 0.440 (0.440) Elapsed 0m 0s (remain 0m 7s) \n"
     ]
    },
    {
     "name": "stderr",
     "output_type": "stream",
     "text": [
      "labels: [12 11  2  2 11]\n",
      "pred_labels: [11 11  3  4 11]\n",
      "Epoch 29 - avg_train_loss: 0.4832  lr: 7.4783e-05  time: 56s\n",
      "Epoch 29 - Score: 0.5725\n"
     ]
    },
    {
     "name": "stdout",
     "output_type": "stream",
     "text": [
      "EVAL: [8/9] Data 0.000 (0.049) Elapsed 0m 4s (remain 0m 0s) \n",
      "Epoch: [30][0/40] Data 0.557 (0.557) Elapsed 0m 1s (remain 1m 11s) Loss: 0.0010(0.0010) Grad Norm: 0.0453  LR: 5.3404e-05  \n",
      "Epoch: [30][39/40] Data 0.000 (0.014) Elapsed 0m 51s (remain 0m 0s) Loss: 0.8331(0.4736) Grad Norm: 7.8273  LR: 5.3404e-05  \n",
      "EVAL: [0/9] Data 0.368 (0.368) Elapsed 0m 0s (remain 0m 6s) \n"
     ]
    },
    {
     "name": "stderr",
     "output_type": "stream",
     "text": [
      "labels: [12 11  2  2 11]\n",
      "pred_labels: [11 11  3  4 11]\n",
      "Epoch 30 - avg_train_loss: 0.4736  lr: 5.3404e-05  time: 55s\n",
      "Epoch 30 - Score: 0.5878\n"
     ]
    },
    {
     "name": "stdout",
     "output_type": "stream",
     "text": [
      "EVAL: [8/9] Data 0.000 (0.041) Elapsed 0m 4s (remain 0m 0s) \n",
      "Epoch: [31][0/40] Data 0.570 (0.570) Elapsed 0m 1s (remain 1m 11s) Loss: 0.0016(0.0016) Grad Norm: 0.1002  LR: 3.5607e-05  \n",
      "Epoch: [31][39/40] Data 0.000 (0.014) Elapsed 0m 51s (remain 0m 0s) Loss: 0.0041(0.0056) Grad Norm: 0.4532  LR: 3.5607e-05  \n",
      "EVAL: [0/9] Data 0.423 (0.423) Elapsed 0m 0s (remain 0m 6s) \n"
     ]
    },
    {
     "name": "stderr",
     "output_type": "stream",
     "text": [
      "labels: [12 11  2  2 11]\n",
      "pred_labels: [11 11  3  4 11]\n",
      "Epoch 31 - avg_train_loss: 0.0056  lr: 3.5607e-05  time: 55s\n",
      "Epoch 31 - Score: 0.6031\n"
     ]
    },
    {
     "name": "stdout",
     "output_type": "stream",
     "text": [
      "EVAL: [8/9] Data 0.000 (0.047) Elapsed 0m 4s (remain 0m 0s) \n",
      "Epoch: [32][0/40] Data 0.531 (0.531) Elapsed 0m 1s (remain 1m 10s) Loss: 0.0013(0.0013) Grad Norm: 0.0561  LR: 2.1508e-05  \n",
      "Epoch: [32][39/40] Data 0.000 (0.013) Elapsed 0m 51s (remain 0m 0s) Loss: 0.0049(0.0030) Grad Norm: 0.6828  LR: 2.1508e-05  \n",
      "EVAL: [0/9] Data 0.300 (0.300) Elapsed 0m 0s (remain 0m 5s) \n"
     ]
    },
    {
     "name": "stderr",
     "output_type": "stream",
     "text": [
      "labels: [12 11  2  2 11]\n",
      "pred_labels: [11 11  3  4 11]\n",
      "Epoch 32 - avg_train_loss: 0.0030  lr: 2.1508e-05  time: 55s\n",
      "Epoch 32 - Score: 0.5954\n"
     ]
    },
    {
     "name": "stdout",
     "output_type": "stream",
     "text": [
      "EVAL: [8/9] Data 0.000 (0.034) Elapsed 0m 3s (remain 0m 0s) \n",
      "Epoch: [33][0/40] Data 0.657 (0.657) Elapsed 0m 1s (remain 1m 15s) Loss: 0.0010(0.0010) Grad Norm: 0.0393  LR: 1.1173e-05  \n",
      "Epoch: [33][39/40] Data 0.000 (0.017) Elapsed 0m 51s (remain 0m 0s) Loss: 0.0010(0.0058) Grad Norm: 0.0468  LR: 1.1173e-05  \n",
      "EVAL: [0/9] Data 0.392 (0.392) Elapsed 0m 0s (remain 0m 6s) \n"
     ]
    },
    {
     "name": "stderr",
     "output_type": "stream",
     "text": [
      "labels: [12 11  2  2 11]\n",
      "pred_labels: [11 11  3  4 11]\n",
      "Epoch 33 - avg_train_loss: 0.0058  lr: 1.1173e-05  time: 56s\n",
      "Epoch 33 - Score: 0.5954\n"
     ]
    },
    {
     "name": "stdout",
     "output_type": "stream",
     "text": [
      "EVAL: [8/9] Data 0.000 (0.044) Elapsed 0m 4s (remain 0m 0s) \n",
      "Epoch: [34][0/40] Data 0.614 (0.614) Elapsed 0m 1s (remain 1m 13s) Loss: 0.0222(0.0222) Grad Norm: 1.0465  LR: 4.5796e-06  \n",
      "Epoch: [34][39/40] Data 0.000 (0.016) Elapsed 0m 51s (remain 0m 0s) Loss: 0.0852(0.0229) Grad Norm: 9.9385  LR: 4.5796e-06  \n",
      "EVAL: [0/9] Data 0.366 (0.366) Elapsed 0m 0s (remain 0m 6s) \n"
     ]
    },
    {
     "name": "stderr",
     "output_type": "stream",
     "text": [
      "labels: [12 11  2  2 11]\n",
      "pred_labels: [11 11  3  4 11]\n",
      "Epoch 34 - avg_train_loss: 0.0229  lr: 4.5796e-06  time: 55s\n",
      "Epoch 34 - Score: 0.6031\n"
     ]
    },
    {
     "name": "stdout",
     "output_type": "stream",
     "text": [
      "EVAL: [8/9] Data 0.000 (0.041) Elapsed 0m 4s (remain 0m 0s) \n",
      "Epoch: [35][0/40] Data 0.582 (0.582) Elapsed 0m 1s (remain 1m 12s) Loss: 0.0006(0.0006) Grad Norm: 0.0179  LR: 1.5037e-06  \n",
      "Epoch: [35][39/40] Data 0.000 (0.015) Elapsed 0m 51s (remain 0m 0s) Loss: 0.0011(0.0068) Grad Norm: 0.0600  LR: 1.5037e-06  \n",
      "EVAL: [0/9] Data 0.453 (0.453) Elapsed 0m 0s (remain 0m 7s) \n"
     ]
    },
    {
     "name": "stderr",
     "output_type": "stream",
     "text": [
      "labels: [12 11  2  2 11]\n",
      "pred_labels: [11 11  3  4 11]\n",
      "Epoch 35 - avg_train_loss: 0.0068  lr: 1.5037e-06  time: 56s\n",
      "Epoch 35 - Score: 0.6031\n",
      "==================== fold: 2, seed: 1 training ====================\n"
     ]
    },
    {
     "name": "stdout",
     "output_type": "stream",
     "text": [
      "EVAL: [8/9] Data 0.000 (0.051) Elapsed 0m 4s (remain 0m 0s) \n",
      "Epoch: [1][0/40] Data 0.649 (0.649) Elapsed 0m 1s (remain 1m 14s) Loss: 2.7547(2.7547) Grad Norm: nan  LR: 1.0000e-03  \n",
      "Epoch: [1][39/40] Data 0.000 (0.016) Elapsed 0m 51s (remain 0m 0s) Loss: 2.4557(2.4845) Grad Norm: 8.8826  LR: 1.0000e-03  \n",
      "EVAL: [0/9] Data 0.480 (0.480) Elapsed 0m 0s (remain 0m 7s) \n"
     ]
    },
    {
     "name": "stderr",
     "output_type": "stream",
     "text": [
      "labels: [8 7 4 6 2]\n",
      "pred_labels: [8 2 0 7 2]\n",
      "Epoch 1 - avg_train_loss: 2.4845  lr: 1.0000e-03  time: 56s\n",
      "Epoch 1 - Score: 0.3053\n",
      "Epoch 1 - Save Best Score: 0.3053 Model\n"
     ]
    },
    {
     "name": "stdout",
     "output_type": "stream",
     "text": [
      "EVAL: [8/9] Data 0.000 (0.054) Elapsed 0m 4s (remain 0m 0s) \n",
      "Epoch: [2][0/40] Data 0.609 (0.609) Elapsed 0m 1s (remain 1m 14s) Loss: 2.6311(2.6311) Grad Norm: 10.1596  LR: 9.9598e-04  \n",
      "Epoch: [2][39/40] Data 0.000 (0.015) Elapsed 0m 51s (remain 0m 0s) Loss: 1.1812(2.0433) Grad Norm: 13.2439  LR: 9.9598e-04  \n",
      "EVAL: [0/9] Data 0.417 (0.417) Elapsed 0m 0s (remain 0m 6s) \n"
     ]
    },
    {
     "name": "stderr",
     "output_type": "stream",
     "text": [
      "labels: [8 7 4 6 2]\n",
      "pred_labels: [8 2 2 6 2]\n",
      "Epoch 2 - avg_train_loss: 2.0433  lr: 9.9598e-04  time: 56s\n",
      "Epoch 2 - Score: 0.4885\n",
      "Epoch 2 - Save Best Score: 0.4885 Model\n"
     ]
    },
    {
     "name": "stdout",
     "output_type": "stream",
     "text": [
      "EVAL: [8/9] Data 0.000 (0.047) Elapsed 0m 4s (remain 0m 0s) \n",
      "Epoch: [3][0/40] Data 0.701 (0.701) Elapsed 0m 1s (remain 1m 17s) Loss: 1.9782(1.9782) Grad Norm: 10.1496  LR: 9.8599e-04  \n",
      "Epoch: [3][39/40] Data 0.000 (0.018) Elapsed 0m 51s (remain 0m 0s) Loss: 1.9463(1.7838) Grad Norm: 8.8442  LR: 9.8599e-04  \n",
      "EVAL: [0/9] Data 0.413 (0.413) Elapsed 0m 0s (remain 0m 6s) \n"
     ]
    },
    {
     "name": "stderr",
     "output_type": "stream",
     "text": [
      "labels: [8 7 4 6 2]\n",
      "pred_labels: [ 8  4  4 11  6]\n",
      "Epoch 3 - avg_train_loss: 1.7838  lr: 9.8599e-04  time: 56s\n",
      "Epoch 3 - Score: 0.5496\n",
      "Epoch 3 - Save Best Score: 0.5496 Model\n"
     ]
    },
    {
     "name": "stdout",
     "output_type": "stream",
     "text": [
      "EVAL: [8/9] Data 0.000 (0.046) Elapsed 0m 4s (remain 0m 0s) \n",
      "Epoch: [4][0/40] Data 0.581 (0.581) Elapsed 0m 1s (remain 1m 12s) Loss: 0.6823(0.6823) Grad Norm: 9.1996  LR: 9.7213e-04  \n",
      "Epoch: [4][39/40] Data 0.000 (0.015) Elapsed 0m 51s (remain 0m 0s) Loss: 0.9451(1.5859) Grad Norm: 10.2958  LR: 9.7213e-04  \n",
      "EVAL: [0/9] Data 0.473 (0.473) Elapsed 0m 0s (remain 0m 7s) \n"
     ]
    },
    {
     "name": "stderr",
     "output_type": "stream",
     "text": [
      "labels: [8 7 4 6 2]\n",
      "pred_labels: [ 8  2  4 11  6]\n",
      "Epoch 4 - avg_train_loss: 1.5859  lr: 9.7213e-04  time: 56s\n",
      "Epoch 4 - Score: 0.5878\n",
      "Epoch 4 - Save Best Score: 0.5878 Model\n"
     ]
    },
    {
     "name": "stdout",
     "output_type": "stream",
     "text": [
      "EVAL: [8/9] Data 0.000 (0.053) Elapsed 0m 4s (remain 0m 0s) \n",
      "Epoch: [5][0/40] Data 0.596 (0.596) Elapsed 0m 1s (remain 1m 13s) Loss: 1.5106(1.5106) Grad Norm: 10.4596  LR: 9.5449e-04  \n",
      "Epoch: [5][39/40] Data 0.000 (0.015) Elapsed 0m 51s (remain 0m 0s) Loss: 1.0873(1.3006) Grad Norm: 10.3478  LR: 9.5449e-04  \n",
      "EVAL: [0/9] Data 0.461 (0.461) Elapsed 0m 0s (remain 0m 7s) \n"
     ]
    },
    {
     "name": "stderr",
     "output_type": "stream",
     "text": [
      "labels: [8 7 4 6 2]\n",
      "pred_labels: [8 4 4 6 5]\n",
      "Epoch 5 - avg_train_loss: 1.3006  lr: 9.5449e-04  time: 56s\n",
      "Epoch 5 - Score: 0.6260\n",
      "Epoch 5 - Save Best Score: 0.6260 Model\n"
     ]
    },
    {
     "name": "stdout",
     "output_type": "stream",
     "text": [
      "EVAL: [8/9] Data 0.000 (0.052) Elapsed 0m 4s (remain 0m 0s) \n",
      "Epoch: [6][0/40] Data 0.692 (0.692) Elapsed 0m 2s (remain 1m 18s) Loss: 1.4199(1.4199) Grad Norm: 10.3865  LR: 9.3324e-04  \n",
      "Epoch: [6][39/40] Data 0.000 (0.017) Elapsed 0m 51s (remain 0m 0s) Loss: 1.9771(1.4035) Grad Norm: 11.1092  LR: 9.3324e-04  \n",
      "EVAL: [0/9] Data 0.402 (0.402) Elapsed 0m 0s (remain 0m 6s) \n"
     ]
    },
    {
     "name": "stderr",
     "output_type": "stream",
     "text": [
      "labels: [8 7 4 6 2]\n",
      "pred_labels: [ 8  4  4 11  6]\n",
      "Epoch 6 - avg_train_loss: 1.4035  lr: 9.3324e-04  time: 56s\n",
      "Epoch 6 - Score: 0.6412\n",
      "Epoch 6 - Save Best Score: 0.6412 Model\n"
     ]
    },
    {
     "name": "stdout",
     "output_type": "stream",
     "text": [
      "EVAL: [8/9] Data 0.000 (0.045) Elapsed 0m 4s (remain 0m 0s) \n",
      "Epoch: [7][0/40] Data 0.655 (0.655) Elapsed 0m 1s (remain 1m 16s) Loss: 0.4862(0.4862) Grad Norm: 14.0813  LR: 9.0853e-04  \n",
      "Epoch: [7][39/40] Data 0.000 (0.017) Elapsed 0m 51s (remain 0m 0s) Loss: 1.5530(1.1339) Grad Norm: 7.3367  LR: 9.0853e-04  \n",
      "EVAL: [0/9] Data 0.402 (0.402) Elapsed 0m 0s (remain 0m 6s) \n"
     ]
    },
    {
     "name": "stderr",
     "output_type": "stream",
     "text": [
      "labels: [8 7 4 6 2]\n",
      "pred_labels: [ 8  2  0 11  0]\n",
      "Epoch 7 - avg_train_loss: 1.1339  lr: 9.0853e-04  time: 56s\n",
      "Epoch 7 - Score: 0.6183\n"
     ]
    },
    {
     "name": "stdout",
     "output_type": "stream",
     "text": [
      "EVAL: [8/9] Data 0.000 (0.045) Elapsed 0m 4s (remain 0m 0s) \n",
      "Epoch: [8][0/40] Data 0.581 (0.581) Elapsed 0m 1s (remain 1m 12s) Loss: 0.2551(0.2551) Grad Norm: 11.0125  LR: 8.8057e-04  \n",
      "Epoch: [8][39/40] Data 0.000 (0.015) Elapsed 0m 51s (remain 0m 0s) Loss: 1.3585(1.0269) Grad Norm: 10.2957  LR: 8.8057e-04  \n",
      "EVAL: [0/9] Data 0.398 (0.398) Elapsed 0m 0s (remain 0m 6s) \n"
     ]
    },
    {
     "name": "stderr",
     "output_type": "stream",
     "text": [
      "labels: [8 7 4 6 2]\n",
      "pred_labels: [8 2 4 6 6]\n",
      "Epoch 8 - avg_train_loss: 1.0269  lr: 8.8057e-04  time: 56s\n",
      "Epoch 8 - Score: 0.6565\n",
      "Epoch 8 - Save Best Score: 0.6565 Model\n"
     ]
    },
    {
     "name": "stdout",
     "output_type": "stream",
     "text": [
      "EVAL: [8/9] Data 0.000 (0.044) Elapsed 0m 4s (remain 0m 0s) \n",
      "Epoch: [9][0/40] Data 0.620 (0.620) Elapsed 0m 1s (remain 1m 14s) Loss: 1.8033(1.8033) Grad Norm: 8.7642  LR: 8.4958e-04  \n",
      "Epoch: [9][39/40] Data 0.000 (0.016) Elapsed 0m 51s (remain 0m 0s) Loss: 2.0150(1.1374) Grad Norm: 12.9275  LR: 8.4958e-04  \n",
      "EVAL: [0/9] Data 0.451 (0.451) Elapsed 0m 0s (remain 0m 7s) \n"
     ]
    },
    {
     "name": "stderr",
     "output_type": "stream",
     "text": [
      "labels: [8 7 4 6 2]\n",
      "pred_labels: [8 7 9 6 6]\n",
      "Epoch 9 - avg_train_loss: 1.1374  lr: 8.4958e-04  time: 56s\n",
      "Epoch 9 - Score: 0.6565\n"
     ]
    },
    {
     "name": "stdout",
     "output_type": "stream",
     "text": [
      "EVAL: [8/9] Data 0.000 (0.050) Elapsed 0m 4s (remain 0m 0s) \n",
      "Epoch: [10][0/40] Data 0.559 (0.559) Elapsed 0m 1s (remain 1m 11s) Loss: 0.5410(0.5410) Grad Norm: 27.7728  LR: 8.1581e-04  \n",
      "Epoch: [10][39/40] Data 0.000 (0.014) Elapsed 0m 51s (remain 0m 0s) Loss: 2.4559(1.0592) Grad Norm: 11.8028  LR: 8.1581e-04  \n",
      "EVAL: [0/9] Data 0.416 (0.416) Elapsed 0m 0s (remain 0m 6s) \n"
     ]
    },
    {
     "name": "stderr",
     "output_type": "stream",
     "text": [
      "labels: [8 7 4 6 2]\n",
      "pred_labels: [8 7 9 0 6]\n",
      "Epoch 10 - avg_train_loss: 1.0592  lr: 8.1581e-04  time: 56s\n",
      "Epoch 10 - Score: 0.6183\n"
     ]
    },
    {
     "name": "stdout",
     "output_type": "stream",
     "text": [
      "EVAL: [8/9] Data 0.000 (0.046) Elapsed 0m 4s (remain 0m 0s) \n",
      "Epoch: [11][0/40] Data 0.554 (0.554) Elapsed 0m 1s (remain 1m 11s) Loss: 0.4377(0.4377) Grad Norm: 10.2783  LR: 7.7953e-04  \n",
      "Epoch: [11][39/40] Data 0.000 (0.014) Elapsed 0m 51s (remain 0m 0s) Loss: 0.4287(0.8882) Grad Norm: 13.6026  LR: 7.7953e-04  \n",
      "EVAL: [0/9] Data 0.332 (0.332) Elapsed 0m 0s (remain 0m 6s) \n"
     ]
    },
    {
     "name": "stderr",
     "output_type": "stream",
     "text": [
      "labels: [8 7 4 6 2]\n",
      "pred_labels: [8 4 4 0 7]\n",
      "Epoch 11 - avg_train_loss: 0.8882  lr: 7.7953e-04  time: 56s\n",
      "Epoch 11 - Score: 0.6412\n"
     ]
    },
    {
     "name": "stdout",
     "output_type": "stream",
     "text": [
      "EVAL: [8/9] Data 0.000 (0.037) Elapsed 0m 4s (remain 0m 0s) \n",
      "Epoch: [12][0/40] Data 0.553 (0.553) Elapsed 0m 1s (remain 1m 11s) Loss: 0.1005(0.1005) Grad Norm: 3.8025  LR: 7.4103e-04  \n",
      "Epoch: [12][39/40] Data 0.000 (0.014) Elapsed 0m 51s (remain 0m 0s) Loss: 0.2259(0.8803) Grad Norm: 6.8154  LR: 7.4103e-04  \n",
      "EVAL: [0/9] Data 0.424 (0.424) Elapsed 0m 0s (remain 0m 6s) \n"
     ]
    },
    {
     "name": "stderr",
     "output_type": "stream",
     "text": [
      "labels: [8 7 4 6 2]\n",
      "pred_labels: [8 2 2 6 5]\n",
      "Epoch 12 - avg_train_loss: 0.8803  lr: 7.4103e-04  time: 56s\n",
      "Epoch 12 - Score: 0.6489\n"
     ]
    },
    {
     "name": "stdout",
     "output_type": "stream",
     "text": [
      "EVAL: [8/9] Data 0.000 (0.047) Elapsed 0m 4s (remain 0m 0s) \n",
      "Epoch: [13][0/40] Data 0.630 (0.630) Elapsed 0m 1s (remain 1m 14s) Loss: 1.1869(1.1869) Grad Norm: 6.4305  LR: 7.0063e-04  \n",
      "Epoch: [13][39/40] Data 0.000 (0.016) Elapsed 0m 51s (remain 0m 0s) Loss: 1.8416(0.8341) Grad Norm: 10.7941  LR: 7.0063e-04  \n",
      "EVAL: [0/9] Data 0.428 (0.428) Elapsed 0m 0s (remain 0m 7s) \n"
     ]
    },
    {
     "name": "stderr",
     "output_type": "stream",
     "text": [
      "labels: [8 7 4 6 2]\n",
      "pred_labels: [ 8  7 11  0  6]\n",
      "Epoch 13 - avg_train_loss: 0.8341  lr: 7.0063e-04  time: 56s\n",
      "Epoch 13 - Score: 0.6031\n"
     ]
    },
    {
     "name": "stdout",
     "output_type": "stream",
     "text": [
      "EVAL: [8/9] Data 0.000 (0.048) Elapsed 0m 4s (remain 0m 0s) \n",
      "Epoch: [14][0/40] Data 0.607 (0.607) Elapsed 0m 1s (remain 1m 13s) Loss: 1.5446(1.5446) Grad Norm: 10.2675  LR: 6.5865e-04  \n",
      "Epoch: [14][39/40] Data 0.000 (0.015) Elapsed 0m 51s (remain 0m 0s) Loss: 0.3860(0.9349) Grad Norm: 14.8471  LR: 6.5865e-04  \n",
      "EVAL: [0/9] Data 0.379 (0.379) Elapsed 0m 0s (remain 0m 6s) \n"
     ]
    },
    {
     "name": "stderr",
     "output_type": "stream",
     "text": [
      "labels: [8 7 4 6 2]\n",
      "pred_labels: [8 4 9 0 6]\n",
      "Epoch 14 - avg_train_loss: 0.9349  lr: 6.5865e-04  time: 56s\n",
      "Epoch 14 - Score: 0.6107\n"
     ]
    },
    {
     "name": "stdout",
     "output_type": "stream",
     "text": [
      "EVAL: [8/9] Data 0.000 (0.042) Elapsed 0m 4s (remain 0m 0s) \n",
      "Epoch: [15][0/40] Data 0.530 (0.530) Elapsed 0m 1s (remain 1m 10s) Loss: 1.6870(1.6870) Grad Norm: 7.9782  LR: 6.1542e-04  \n",
      "Epoch: [15][39/40] Data 0.000 (0.013) Elapsed 0m 51s (remain 0m 0s) Loss: 2.0061(0.8689) Grad Norm: 11.9436  LR: 6.1542e-04  \n",
      "EVAL: [0/9] Data 0.416 (0.416) Elapsed 0m 0s (remain 0m 6s) \n"
     ]
    },
    {
     "name": "stderr",
     "output_type": "stream",
     "text": [
      "labels: [8 7 4 6 2]\n",
      "pred_labels: [8 2 2 0 5]\n",
      "Epoch 15 - avg_train_loss: 0.8689  lr: 6.1542e-04  time: 56s\n",
      "Epoch 15 - Score: 0.6107\n"
     ]
    },
    {
     "name": "stdout",
     "output_type": "stream",
     "text": [
      "EVAL: [8/9] Data 0.000 (0.047) Elapsed 0m 4s (remain 0m 0s) \n",
      "Epoch: [16][0/40] Data 0.574 (0.574) Elapsed 0m 1s (remain 1m 11s) Loss: 0.0373(0.0373) Grad Norm: 2.6951  LR: 5.7130e-04  \n",
      "Epoch: [16][39/40] Data 0.000 (0.015) Elapsed 0m 51s (remain 0m 0s) Loss: 1.3672(0.7281) Grad Norm: 5.7708  LR: 5.7130e-04  \n",
      "EVAL: [0/9] Data 0.373 (0.373) Elapsed 0m 0s (remain 0m 6s) \n"
     ]
    },
    {
     "name": "stderr",
     "output_type": "stream",
     "text": [
      "labels: [8 7 4 6 2]\n",
      "pred_labels: [8 4 9 9 0]\n",
      "Epoch 16 - avg_train_loss: 0.7281  lr: 5.7130e-04  time: 56s\n",
      "Epoch 16 - Score: 0.6565\n"
     ]
    },
    {
     "name": "stdout",
     "output_type": "stream",
     "text": [
      "EVAL: [8/9] Data 0.000 (0.042) Elapsed 0m 4s (remain 0m 0s) \n",
      "Epoch: [17][0/40] Data 0.605 (0.605) Elapsed 0m 1s (remain 1m 13s) Loss: 0.8859(0.8859) Grad Norm: 4.1184  LR: 5.2663e-04  \n",
      "Epoch: [17][39/40] Data 0.000 (0.015) Elapsed 0m 51s (remain 0m 0s) Loss: 0.1399(0.5306) Grad Norm: 7.1056  LR: 5.2663e-04  \n",
      "EVAL: [0/9] Data 0.392 (0.392) Elapsed 0m 0s (remain 0m 6s) \n"
     ]
    },
    {
     "name": "stderr",
     "output_type": "stream",
     "text": [
      "labels: [8 7 4 6 2]\n",
      "pred_labels: [8 4 4 0 5]\n",
      "Epoch 17 - avg_train_loss: 0.5306  lr: 5.2663e-04  time: 56s\n",
      "Epoch 17 - Score: 0.6412\n"
     ]
    },
    {
     "name": "stdout",
     "output_type": "stream",
     "text": [
      "EVAL: [8/9] Data 0.000 (0.044) Elapsed 0m 4s (remain 0m 0s) \n",
      "Epoch: [18][0/40] Data 0.612 (0.612) Elapsed 0m 1s (remain 1m 13s) Loss: 0.9371(0.9371) Grad Norm: 3.6981  LR: 4.8179e-04  \n",
      "Epoch: [18][39/40] Data 0.000 (0.015) Elapsed 0m 51s (remain 0m 0s) Loss: 0.2433(0.6087) Grad Norm: 12.3889  LR: 4.8179e-04  \n",
      "EVAL: [0/9] Data 0.412 (0.412) Elapsed 0m 0s (remain 0m 6s) \n"
     ]
    },
    {
     "name": "stderr",
     "output_type": "stream",
     "text": [
      "labels: [8 7 4 6 2]\n",
      "pred_labels: [8 7 9 0 5]\n",
      "Epoch 18 - avg_train_loss: 0.6087  lr: 4.8179e-04  time: 56s\n",
      "Epoch 18 - Score: 0.6336\n"
     ]
    },
    {
     "name": "stdout",
     "output_type": "stream",
     "text": [
      "EVAL: [8/9] Data 0.000 (0.046) Elapsed 0m 4s (remain 0m 0s) \n",
      "Epoch: [19][0/40] Data 0.554 (0.554) Elapsed 0m 1s (remain 1m 11s) Loss: 0.0123(0.0123) Grad Norm: 0.8236  LR: 4.3712e-04  \n",
      "Epoch: [19][39/40] Data 0.000 (0.014) Elapsed 0m 51s (remain 0m 0s) Loss: 0.0644(0.6141) Grad Norm: 4.7204  LR: 4.3712e-04  \n",
      "EVAL: [0/9] Data 0.418 (0.418) Elapsed 0m 0s (remain 0m 6s) \n"
     ]
    },
    {
     "name": "stderr",
     "output_type": "stream",
     "text": [
      "labels: [8 7 4 6 2]\n",
      "pred_labels: [8 7 4 0 5]\n",
      "Epoch 19 - avg_train_loss: 0.6141  lr: 4.3712e-04  time: 56s\n",
      "Epoch 19 - Score: 0.7023\n",
      "Epoch 19 - Save Best Score: 0.7023 Model\n"
     ]
    },
    {
     "name": "stdout",
     "output_type": "stream",
     "text": [
      "EVAL: [8/9] Data 0.000 (0.047) Elapsed 0m 4s (remain 0m 0s) \n",
      "Epoch: [20][0/40] Data 0.644 (0.644) Elapsed 0m 1s (remain 1m 15s) Loss: 1.0084(1.0084) Grad Norm: 8.0095  LR: 3.9299e-04  \n",
      "Epoch: [20][39/40] Data 0.000 (0.016) Elapsed 0m 51s (remain 0m 0s) Loss: 0.3572(0.5118) Grad Norm: 9.9316  LR: 3.9299e-04  \n",
      "EVAL: [0/9] Data 0.445 (0.445) Elapsed 0m 0s (remain 0m 7s) \n"
     ]
    },
    {
     "name": "stderr",
     "output_type": "stream",
     "text": [
      "labels: [8 7 4 6 2]\n",
      "pred_labels: [8 7 9 0 0]\n",
      "Epoch 20 - avg_train_loss: 0.5118  lr: 3.9299e-04  time: 56s\n",
      "Epoch 20 - Score: 0.6260\n"
     ]
    },
    {
     "name": "stdout",
     "output_type": "stream",
     "text": [
      "EVAL: [8/9] Data 0.000 (0.050) Elapsed 0m 4s (remain 0m 0s) \n",
      "Epoch: [21][0/40] Data 0.578 (0.578) Elapsed 0m 1s (remain 1m 12s) Loss: 1.1208(1.1208) Grad Norm: 4.8754  LR: 3.4975e-04  \n",
      "Epoch: [21][39/40] Data 0.000 (0.015) Elapsed 0m 51s (remain 0m 0s) Loss: 1.2519(0.5335) Grad Norm: 7.4243  LR: 3.4975e-04  \n",
      "EVAL: [0/9] Data 0.400 (0.400) Elapsed 0m 0s (remain 0m 6s) \n"
     ]
    },
    {
     "name": "stderr",
     "output_type": "stream",
     "text": [
      "labels: [8 7 4 6 2]\n",
      "pred_labels: [8 4 9 0 5]\n",
      "Epoch 21 - avg_train_loss: 0.5335  lr: 3.4975e-04  time: 56s\n",
      "Epoch 21 - Score: 0.6412\n"
     ]
    },
    {
     "name": "stdout",
     "output_type": "stream",
     "text": [
      "EVAL: [8/9] Data 0.000 (0.045) Elapsed 0m 4s (remain 0m 0s) \n",
      "Epoch: [22][0/40] Data 0.525 (0.525) Elapsed 0m 1s (remain 1m 10s) Loss: 1.0826(1.0826) Grad Norm: 8.4822  LR: 3.0775e-04  \n",
      "Epoch: [22][39/40] Data 0.000 (0.013) Elapsed 0m 51s (remain 0m 0s) Loss: 0.1753(0.6270) Grad Norm: 9.2535  LR: 3.0775e-04  \n",
      "EVAL: [0/9] Data 0.413 (0.413) Elapsed 0m 0s (remain 0m 6s) \n"
     ]
    },
    {
     "name": "stderr",
     "output_type": "stream",
     "text": [
      "labels: [8 7 4 6 2]\n",
      "pred_labels: [8 4 4 0 5]\n",
      "Epoch 22 - avg_train_loss: 0.6270  lr: 3.0775e-04  time: 56s\n",
      "Epoch 22 - Score: 0.6412\n"
     ]
    },
    {
     "name": "stdout",
     "output_type": "stream",
     "text": [
      "EVAL: [8/9] Data 0.000 (0.046) Elapsed 0m 4s (remain 0m 0s) \n",
      "Epoch: [23][0/40] Data 0.553 (0.553) Elapsed 0m 1s (remain 1m 11s) Loss: 0.8443(0.8443) Grad Norm: 3.4757  LR: 2.6732e-04  \n",
      "Epoch: [23][39/40] Data 0.000 (0.014) Elapsed 0m 51s (remain 0m 0s) Loss: 1.2360(0.5459) Grad Norm: 5.7502  LR: 2.6732e-04  \n",
      "EVAL: [0/9] Data 0.477 (0.477) Elapsed 0m 0s (remain 0m 7s) \n"
     ]
    },
    {
     "name": "stderr",
     "output_type": "stream",
     "text": [
      "labels: [8 7 4 6 2]\n",
      "pred_labels: [8 7 4 0 5]\n",
      "Epoch 23 - avg_train_loss: 0.5459  lr: 2.6732e-04  time: 56s\n",
      "Epoch 23 - Score: 0.6641\n"
     ]
    },
    {
     "name": "stdout",
     "output_type": "stream",
     "text": [
      "EVAL: [8/9] Data 0.000 (0.053) Elapsed 0m 4s (remain 0m 0s) \n",
      "Epoch: [24][0/40] Data 0.578 (0.578) Elapsed 0m 1s (remain 1m 12s) Loss: 1.0278(1.0278) Grad Norm: 5.5419  LR: 2.2880e-04  \n",
      "Epoch: [24][39/40] Data 0.000 (0.015) Elapsed 0m 51s (remain 0m 0s) Loss: 0.9017(0.6126) Grad Norm: 3.0704  LR: 2.2880e-04  \n",
      "EVAL: [0/9] Data 0.417 (0.417) Elapsed 0m 0s (remain 0m 6s) \n"
     ]
    },
    {
     "name": "stderr",
     "output_type": "stream",
     "text": [
      "labels: [8 7 4 6 2]\n",
      "pred_labels: [8 7 4 6 5]\n",
      "Epoch 24 - avg_train_loss: 0.6126  lr: 2.2880e-04  time: 56s\n",
      "Epoch 24 - Score: 0.6565\n"
     ]
    },
    {
     "name": "stdout",
     "output_type": "stream",
     "text": [
      "EVAL: [8/9] Data 0.000 (0.047) Elapsed 0m 4s (remain 0m 0s) \n",
      "Epoch: [25][0/40] Data 0.636 (0.636) Elapsed 0m 1s (remain 1m 14s) Loss: 0.0028(0.0028) Grad Norm: 0.2064  LR: 1.9248e-04  \n",
      "Epoch: [25][39/40] Data 0.000 (0.016) Elapsed 0m 51s (remain 0m 0s) Loss: 0.6896(0.4620) Grad Norm: 3.1896  LR: 1.9248e-04  \n",
      "EVAL: [0/9] Data 0.460 (0.460) Elapsed 0m 0s (remain 0m 7s) \n"
     ]
    },
    {
     "name": "stderr",
     "output_type": "stream",
     "text": [
      "labels: [8 7 4 6 2]\n",
      "pred_labels: [8 7 4 0 5]\n",
      "Epoch 25 - avg_train_loss: 0.4620  lr: 1.9248e-04  time: 56s\n",
      "Epoch 25 - Score: 0.6794\n"
     ]
    },
    {
     "name": "stdout",
     "output_type": "stream",
     "text": [
      "EVAL: [8/9] Data 0.000 (0.051) Elapsed 0m 4s (remain 0m 0s) \n",
      "Epoch: [26][0/40] Data 0.630 (0.630) Elapsed 0m 1s (remain 1m 14s) Loss: 0.0054(0.0054) Grad Norm: 0.2845  LR: 1.5867e-04  \n",
      "Epoch: [26][39/40] Data 0.000 (0.016) Elapsed 0m 51s (remain 0m 0s) Loss: 0.0374(0.3788) Grad Norm: 2.0607  LR: 1.5867e-04  \n",
      "EVAL: [0/9] Data 0.422 (0.422) Elapsed 0m 0s (remain 0m 6s) \n"
     ]
    },
    {
     "name": "stderr",
     "output_type": "stream",
     "text": [
      "labels: [8 7 4 6 2]\n",
      "pred_labels: [8 7 4 0 5]\n",
      "Epoch 26 - avg_train_loss: 0.3788  lr: 1.5867e-04  time: 56s\n",
      "Epoch 26 - Score: 0.6718\n"
     ]
    },
    {
     "name": "stdout",
     "output_type": "stream",
     "text": [
      "EVAL: [8/9] Data 0.000 (0.047) Elapsed 0m 4s (remain 0m 0s) \n",
      "Epoch: [27][0/40] Data 0.499 (0.499) Elapsed 0m 1s (remain 1m 9s) Loss: 0.0005(0.0005) Grad Norm: 0.0156  LR: 1.2762e-04  \n",
      "Epoch: [27][39/40] Data 0.000 (0.013) Elapsed 0m 51s (remain 0m 0s) Loss: 0.0069(0.4585) Grad Norm: 0.6273  LR: 1.2762e-04  \n",
      "EVAL: [0/9] Data 0.369 (0.369) Elapsed 0m 0s (remain 0m 6s) \n"
     ]
    },
    {
     "name": "stderr",
     "output_type": "stream",
     "text": [
      "labels: [8 7 4 6 2]\n",
      "pred_labels: [8 7 4 0 5]\n",
      "Epoch 27 - avg_train_loss: 0.4585  lr: 1.2762e-04  time: 55s\n",
      "Epoch 27 - Score: 0.6565\n"
     ]
    },
    {
     "name": "stdout",
     "output_type": "stream",
     "text": [
      "EVAL: [8/9] Data 0.000 (0.041) Elapsed 0m 4s (remain 0m 0s) \n",
      "Epoch: [28][0/40] Data 0.600 (0.600) Elapsed 0m 1s (remain 1m 12s) Loss: 0.7486(0.7486) Grad Norm: 2.8019  LR: 9.9584e-05  \n",
      "Epoch: [28][39/40] Data 0.000 (0.015) Elapsed 0m 51s (remain 0m 0s) Loss: 0.0014(0.3583) Grad Norm: 0.0713  LR: 9.9584e-05  \n",
      "EVAL: [0/9] Data 0.383 (0.383) Elapsed 0m 0s (remain 0m 6s) \n"
     ]
    },
    {
     "name": "stderr",
     "output_type": "stream",
     "text": [
      "labels: [8 7 4 6 2]\n",
      "pred_labels: [8 7 4 0 5]\n",
      "Epoch 28 - avg_train_loss: 0.3583  lr: 9.9584e-05  time: 56s\n",
      "Epoch 28 - Score: 0.6947\n"
     ]
    },
    {
     "name": "stdout",
     "output_type": "stream",
     "text": [
      "EVAL: [8/9] Data 0.000 (0.043) Elapsed 0m 4s (remain 0m 0s) \n",
      "Epoch: [29][0/40] Data 0.523 (0.523) Elapsed 0m 1s (remain 1m 10s) Loss: 0.7389(0.7389) Grad Norm: 3.7075  LR: 7.4783e-05  \n",
      "Epoch: [29][39/40] Data 0.000 (0.013) Elapsed 0m 51s (remain 0m 0s) Loss: 0.7292(0.5811) Grad Norm: 3.2848  LR: 7.4783e-05  \n",
      "EVAL: [0/9] Data 0.386 (0.386) Elapsed 0m 0s (remain 0m 6s) \n"
     ]
    },
    {
     "name": "stderr",
     "output_type": "stream",
     "text": [
      "labels: [8 7 4 6 2]\n",
      "pred_labels: [8 7 4 0 5]\n",
      "Epoch 29 - avg_train_loss: 0.5811  lr: 7.4783e-05  time: 55s\n",
      "Epoch 29 - Score: 0.6718\n"
     ]
    },
    {
     "name": "stdout",
     "output_type": "stream",
     "text": [
      "EVAL: [8/9] Data 0.000 (0.043) Elapsed 0m 4s (remain 0m 0s) \n",
      "Epoch: [30][0/40] Data 0.621 (0.621) Elapsed 0m 1s (remain 1m 13s) Loss: 0.0013(0.0013) Grad Norm: 0.0511  LR: 5.3404e-05  \n",
      "Epoch: [30][39/40] Data 0.000 (0.016) Elapsed 0m 51s (remain 0m 0s) Loss: 0.0003(0.4212) Grad Norm: 0.0150  LR: 5.3404e-05  \n",
      "EVAL: [0/9] Data 0.385 (0.385) Elapsed 0m 0s (remain 0m 6s) \n"
     ]
    },
    {
     "name": "stderr",
     "output_type": "stream",
     "text": [
      "labels: [8 7 4 6 2]\n",
      "pred_labels: [8 7 4 0 5]\n",
      "Epoch 30 - avg_train_loss: 0.4212  lr: 5.3404e-05  time: 56s\n",
      "Epoch 30 - Score: 0.6794\n"
     ]
    },
    {
     "name": "stdout",
     "output_type": "stream",
     "text": [
      "EVAL: [8/9] Data 0.000 (0.043) Elapsed 0m 4s (remain 0m 0s) \n",
      "Epoch: [31][0/40] Data 0.612 (0.612) Elapsed 0m 1s (remain 1m 13s) Loss: 0.0023(0.0023) Grad Norm: 0.0629  LR: 3.5607e-05  \n",
      "Epoch: [31][39/40] Data 0.000 (0.015) Elapsed 0m 51s (remain 0m 0s) Loss: 0.0009(0.0030) Grad Norm: 0.0323  LR: 3.5607e-05  \n",
      "EVAL: [0/9] Data 0.353 (0.353) Elapsed 0m 0s (remain 0m 6s) \n"
     ]
    },
    {
     "name": "stderr",
     "output_type": "stream",
     "text": [
      "labels: [8 7 4 6 2]\n",
      "pred_labels: [8 7 4 0 5]\n",
      "Epoch 31 - avg_train_loss: 0.0030  lr: 3.5607e-05  time: 55s\n",
      "Epoch 31 - Score: 0.6794\n"
     ]
    },
    {
     "name": "stdout",
     "output_type": "stream",
     "text": [
      "EVAL: [8/9] Data 0.000 (0.040) Elapsed 0m 4s (remain 0m 0s) \n",
      "Epoch: [32][0/40] Data 0.591 (0.591) Elapsed 0m 1s (remain 1m 12s) Loss: 0.0036(0.0036) Grad Norm: 0.3865  LR: 2.1508e-05  \n",
      "Epoch: [32][39/40] Data 0.000 (0.015) Elapsed 0m 51s (remain 0m 0s) Loss: 0.0005(0.0120) Grad Norm: 0.0271  LR: 2.1508e-05  \n",
      "EVAL: [0/9] Data 0.407 (0.407) Elapsed 0m 0s (remain 0m 6s) \n"
     ]
    },
    {
     "name": "stderr",
     "output_type": "stream",
     "text": [
      "labels: [8 7 4 6 2]\n",
      "pred_labels: [8 7 4 0 5]\n",
      "Epoch 32 - avg_train_loss: 0.0120  lr: 2.1508e-05  time: 55s\n",
      "Epoch 32 - Score: 0.6794\n"
     ]
    },
    {
     "name": "stdout",
     "output_type": "stream",
     "text": [
      "EVAL: [8/9] Data 0.000 (0.045) Elapsed 0m 4s (remain 0m 0s) \n",
      "Epoch: [33][0/40] Data 0.651 (0.651) Elapsed 0m 1s (remain 1m 14s) Loss: 0.0048(0.0048) Grad Norm: 0.9003  LR: 1.1173e-05  \n",
      "Epoch: [33][39/40] Data 0.000 (0.016) Elapsed 0m 51s (remain 0m 0s) Loss: 0.0007(0.0028) Grad Norm: 0.0303  LR: 1.1173e-05  \n",
      "EVAL: [0/9] Data 0.418 (0.418) Elapsed 0m 0s (remain 0m 6s) \n"
     ]
    },
    {
     "name": "stderr",
     "output_type": "stream",
     "text": [
      "labels: [8 7 4 6 2]\n",
      "pred_labels: [8 7 4 0 5]\n",
      "Epoch 33 - avg_train_loss: 0.0028  lr: 1.1173e-05  time: 56s\n",
      "Epoch 33 - Score: 0.6641\n"
     ]
    },
    {
     "name": "stdout",
     "output_type": "stream",
     "text": [
      "EVAL: [8/9] Data 0.000 (0.047) Elapsed 0m 4s (remain 0m 0s) \n",
      "Epoch: [34][0/40] Data 0.604 (0.604) Elapsed 0m 1s (remain 1m 13s) Loss: 0.0005(0.0005) Grad Norm: 0.0163  LR: 4.5796e-06  \n",
      "Epoch: [34][39/40] Data 0.000 (0.015) Elapsed 0m 51s (remain 0m 0s) Loss: 0.0007(0.0059) Grad Norm: 0.0360  LR: 4.5796e-06  \n",
      "EVAL: [0/9] Data 0.423 (0.423) Elapsed 0m 0s (remain 0m 6s) \n"
     ]
    },
    {
     "name": "stderr",
     "output_type": "stream",
     "text": [
      "labels: [8 7 4 6 2]\n",
      "pred_labels: [8 7 4 0 5]\n",
      "Epoch 34 - avg_train_loss: 0.0059  lr: 4.5796e-06  time: 56s\n",
      "Epoch 34 - Score: 0.6641\n"
     ]
    },
    {
     "name": "stdout",
     "output_type": "stream",
     "text": [
      "EVAL: [8/9] Data 0.000 (0.047) Elapsed 0m 4s (remain 0m 0s) \n",
      "Epoch: [35][0/40] Data 0.624 (0.624) Elapsed 0m 1s (remain 1m 13s) Loss: 0.0026(0.0026) Grad Norm: 0.3823  LR: 1.5037e-06  \n",
      "Epoch: [35][39/40] Data 0.000 (0.016) Elapsed 0m 51s (remain 0m 0s) Loss: 0.0007(0.0063) Grad Norm: 0.0403  LR: 1.5037e-06  \n",
      "EVAL: [0/9] Data 0.397 (0.397) Elapsed 0m 0s (remain 0m 6s) \n"
     ]
    },
    {
     "name": "stderr",
     "output_type": "stream",
     "text": [
      "labels: [8 7 4 6 2]\n",
      "pred_labels: [8 7 4 0 5]\n",
      "Epoch 35 - avg_train_loss: 0.0063  lr: 1.5037e-06  time: 56s\n",
      "Epoch 35 - Score: 0.6641\n",
      "==================== fold: 3, seed: 1 training ====================\n"
     ]
    },
    {
     "name": "stdout",
     "output_type": "stream",
     "text": [
      "EVAL: [8/9] Data 0.000 (0.044) Elapsed 0m 4s (remain 0m 0s) \n",
      "Epoch: [1][0/40] Data 0.550 (0.550) Elapsed 0m 1s (remain 1m 10s) Loss: 2.7502(2.7502) Grad Norm: nan  LR: 1.0000e-03  \n",
      "Epoch: [1][39/40] Data 0.000 (0.014) Elapsed 0m 51s (remain 0m 0s) Loss: 2.0016(2.5248) Grad Norm: 10.8769  LR: 1.0000e-03  \n",
      "EVAL: [0/9] Data 0.405 (0.405) Elapsed 0m 0s (remain 0m 6s) \n"
     ]
    },
    {
     "name": "stderr",
     "output_type": "stream",
     "text": [
      "labels: [ 5  2  0  6 11]\n",
      "pred_labels: [6 9 2 2 6]\n",
      "Epoch 1 - avg_train_loss: 2.5248  lr: 1.0000e-03  time: 56s\n",
      "Epoch 1 - Score: 0.3130\n",
      "Epoch 1 - Save Best Score: 0.3130 Model\n"
     ]
    },
    {
     "name": "stdout",
     "output_type": "stream",
     "text": [
      "EVAL: [8/9] Data 0.000 (0.045) Elapsed 0m 4s (remain 0m 0s) \n",
      "Epoch: [2][0/40] Data 0.637 (0.637) Elapsed 0m 1s (remain 1m 16s) Loss: 2.1903(2.1903) Grad Norm: 8.4054  LR: 9.9598e-04  \n",
      "Epoch: [2][39/40] Data 0.000 (0.016) Elapsed 0m 51s (remain 0m 0s) Loss: 1.4904(2.1040) Grad Norm: 10.9315  LR: 9.9598e-04  \n",
      "EVAL: [0/9] Data 0.419 (0.419) Elapsed 0m 0s (remain 0m 6s) \n"
     ]
    },
    {
     "name": "stderr",
     "output_type": "stream",
     "text": [
      "labels: [ 5  2  0  6 11]\n",
      "pred_labels: [ 5  5  2  5 11]\n",
      "Epoch 2 - avg_train_loss: 2.1040  lr: 9.9598e-04  time: 56s\n",
      "Epoch 2 - Score: 0.4198\n",
      "Epoch 2 - Save Best Score: 0.4198 Model\n"
     ]
    },
    {
     "name": "stdout",
     "output_type": "stream",
     "text": [
      "EVAL: [8/9] Data 0.000 (0.047) Elapsed 0m 4s (remain 0m 0s) \n",
      "Epoch: [3][0/40] Data 0.617 (0.617) Elapsed 0m 1s (remain 1m 14s) Loss: 1.7316(1.7316) Grad Norm: 18.1406  LR: 9.8599e-04  \n",
      "Epoch: [3][39/40] Data 0.000 (0.016) Elapsed 0m 51s (remain 0m 0s) Loss: 1.7554(1.7823) Grad Norm: 8.6827  LR: 9.8599e-04  \n",
      "EVAL: [0/9] Data 0.445 (0.445) Elapsed 0m 0s (remain 0m 7s) \n"
     ]
    },
    {
     "name": "stderr",
     "output_type": "stream",
     "text": [
      "labels: [ 5  2  0  6 11]\n",
      "pred_labels: [5 5 0 6 6]\n",
      "Epoch 3 - avg_train_loss: 1.7823  lr: 9.8599e-04  time: 56s\n",
      "Epoch 3 - Score: 0.5420\n",
      "Epoch 3 - Save Best Score: 0.5420 Model\n"
     ]
    },
    {
     "name": "stdout",
     "output_type": "stream",
     "text": [
      "EVAL: [8/9] Data 0.000 (0.050) Elapsed 0m 4s (remain 0m 0s) \n",
      "Epoch: [4][0/40] Data 0.622 (0.622) Elapsed 0m 1s (remain 1m 14s) Loss: 1.3816(1.3816) Grad Norm: 12.2703  LR: 9.7213e-04  \n",
      "Epoch: [4][39/40] Data 0.000 (0.016) Elapsed 0m 51s (remain 0m 0s) Loss: 0.7764(1.5392) Grad Norm: 10.5897  LR: 9.7213e-04  \n",
      "EVAL: [0/9] Data 0.497 (0.497) Elapsed 0m 0s (remain 0m 7s) \n"
     ]
    },
    {
     "name": "stderr",
     "output_type": "stream",
     "text": [
      "labels: [ 5  2  0  6 11]\n",
      "pred_labels: [ 5  5  0  6 11]\n",
      "Epoch 4 - avg_train_loss: 1.5392  lr: 9.7213e-04  time: 56s\n",
      "Epoch 4 - Score: 0.5954\n",
      "Epoch 4 - Save Best Score: 0.5954 Model\n"
     ]
    },
    {
     "name": "stdout",
     "output_type": "stream",
     "text": [
      "EVAL: [8/9] Data 0.000 (0.055) Elapsed 0m 4s (remain 0m 0s) \n",
      "Epoch: [5][0/40] Data 0.741 (0.741) Elapsed 0m 2s (remain 1m 19s) Loss: 0.3902(0.3902) Grad Norm: 8.8557  LR: 9.5449e-04  \n",
      "Epoch: [5][39/40] Data 0.000 (0.019) Elapsed 0m 51s (remain 0m 0s) Loss: 1.5488(1.3914) Grad Norm: 6.3408  LR: 9.5449e-04  \n",
      "EVAL: [0/9] Data 0.369 (0.369) Elapsed 0m 0s (remain 0m 6s) \n"
     ]
    },
    {
     "name": "stderr",
     "output_type": "stream",
     "text": [
      "labels: [ 5  2  0  6 11]\n",
      "pred_labels: [5 5 0 0 6]\n",
      "Epoch 5 - avg_train_loss: 1.3914  lr: 9.5449e-04  time: 56s\n",
      "Epoch 5 - Score: 0.6183\n",
      "Epoch 5 - Save Best Score: 0.6183 Model\n"
     ]
    },
    {
     "name": "stdout",
     "output_type": "stream",
     "text": [
      "EVAL: [8/9] Data 0.000 (0.041) Elapsed 0m 4s (remain 0m 0s) \n",
      "Epoch: [6][0/40] Data 0.631 (0.631) Elapsed 0m 1s (remain 1m 15s) Loss: 1.3690(1.3690) Grad Norm: 13.2149  LR: 9.3324e-04  \n",
      "Epoch: [6][39/40] Data 0.000 (0.016) Elapsed 0m 51s (remain 0m 0s) Loss: 1.5276(1.3490) Grad Norm: 12.8909  LR: 9.3324e-04  \n",
      "EVAL: [0/9] Data 0.419 (0.419) Elapsed 0m 0s (remain 0m 6s) \n"
     ]
    },
    {
     "name": "stderr",
     "output_type": "stream",
     "text": [
      "labels: [ 5  2  0  6 11]\n",
      "pred_labels: [ 3  9  7  0 11]\n",
      "Epoch 6 - avg_train_loss: 1.3490  lr: 9.3324e-04  time: 56s\n",
      "Epoch 6 - Score: 0.5725\n"
     ]
    },
    {
     "name": "stdout",
     "output_type": "stream",
     "text": [
      "EVAL: [8/9] Data 0.000 (0.047) Elapsed 0m 4s (remain 0m 0s) \n",
      "Epoch: [7][0/40] Data 0.576 (0.576) Elapsed 0m 1s (remain 1m 12s) Loss: 1.6461(1.6461) Grad Norm: 6.7165  LR: 9.0853e-04  \n",
      "Epoch: [7][39/40] Data 0.000 (0.015) Elapsed 0m 51s (remain 0m 0s) Loss: 1.6321(1.0162) Grad Norm: 9.8247  LR: 9.0853e-04  \n",
      "EVAL: [0/9] Data 0.482 (0.482) Elapsed 0m 0s (remain 0m 7s) \n"
     ]
    },
    {
     "name": "stderr",
     "output_type": "stream",
     "text": [
      "labels: [ 5  2  0  6 11]\n",
      "pred_labels: [5 5 0 6 8]\n",
      "Epoch 7 - avg_train_loss: 1.0162  lr: 9.0853e-04  time: 56s\n",
      "Epoch 7 - Score: 0.5878\n"
     ]
    },
    {
     "name": "stdout",
     "output_type": "stream",
     "text": [
      "EVAL: [8/9] Data 0.000 (0.054) Elapsed 0m 4s (remain 0m 0s) \n",
      "Epoch: [8][0/40] Data 0.646 (0.646) Elapsed 0m 1s (remain 1m 14s) Loss: 1.7204(1.7204) Grad Norm: 7.2932  LR: 8.8057e-04  \n",
      "Epoch: [8][39/40] Data 0.000 (0.016) Elapsed 0m 51s (remain 0m 0s) Loss: 1.7209(1.0835) Grad Norm: 9.6584  LR: 8.8057e-04  \n",
      "EVAL: [0/9] Data 0.412 (0.412) Elapsed 0m 0s (remain 0m 6s) \n"
     ]
    },
    {
     "name": "stderr",
     "output_type": "stream",
     "text": [
      "labels: [ 5  2  0  6 11]\n",
      "pred_labels: [ 2  5  0  6 11]\n",
      "Epoch 8 - avg_train_loss: 1.0835  lr: 8.8057e-04  time: 56s\n",
      "Epoch 8 - Score: 0.6183\n"
     ]
    },
    {
     "name": "stdout",
     "output_type": "stream",
     "text": [
      "EVAL: [8/9] Data 0.000 (0.046) Elapsed 0m 4s (remain 0m 0s) \n",
      "Epoch: [9][0/40] Data 0.528 (0.528) Elapsed 0m 1s (remain 1m 10s) Loss: 0.1924(0.1924) Grad Norm: 6.6164  LR: 8.4958e-04  \n",
      "Epoch: [9][39/40] Data 0.000 (0.013) Elapsed 0m 51s (remain 0m 0s) Loss: 0.5647(0.9486) Grad Norm: 9.1388  LR: 8.4958e-04  \n",
      "EVAL: [0/9] Data 0.313 (0.313) Elapsed 0m 0s (remain 0m 6s) \n"
     ]
    },
    {
     "name": "stderr",
     "output_type": "stream",
     "text": [
      "labels: [ 5  2  0  6 11]\n",
      "pred_labels: [ 4  5  0  6 11]\n",
      "Epoch 9 - avg_train_loss: 0.9486  lr: 8.4958e-04  time: 55s\n",
      "Epoch 9 - Score: 0.6107\n"
     ]
    },
    {
     "name": "stdout",
     "output_type": "stream",
     "text": [
      "EVAL: [8/9] Data 0.000 (0.035) Elapsed 0m 3s (remain 0m 0s) \n",
      "Epoch: [10][0/40] Data 0.516 (0.516) Elapsed 0m 1s (remain 1m 9s) Loss: 0.5524(0.5524) Grad Norm: 10.7642  LR: 8.1581e-04  \n",
      "Epoch: [10][39/40] Data 0.000 (0.013) Elapsed 0m 51s (remain 0m 0s) Loss: 1.4612(0.8333) Grad Norm: 12.2802  LR: 8.1581e-04  \n",
      "EVAL: [0/9] Data 0.458 (0.458) Elapsed 0m 0s (remain 0m 7s) \n"
     ]
    },
    {
     "name": "stderr",
     "output_type": "stream",
     "text": [
      "labels: [ 5  2  0  6 11]\n",
      "pred_labels: [ 5  5  0  6 11]\n",
      "Epoch 10 - avg_train_loss: 0.8333  lr: 8.1581e-04  time: 56s\n",
      "Epoch 10 - Score: 0.6412\n",
      "Epoch 10 - Save Best Score: 0.6412 Model\n"
     ]
    },
    {
     "name": "stdout",
     "output_type": "stream",
     "text": [
      "EVAL: [8/9] Data 0.000 (0.051) Elapsed 0m 4s (remain 0m 0s) \n",
      "Epoch: [11][0/40] Data 0.564 (0.564) Elapsed 0m 1s (remain 1m 12s) Loss: 1.8195(1.8195) Grad Norm: 14.1087  LR: 7.7953e-04  \n",
      "Epoch: [11][39/40] Data 0.000 (0.014) Elapsed 0m 51s (remain 0m 0s) Loss: 0.1182(0.9389) Grad Norm: 2.8705  LR: 7.7953e-04  \n",
      "EVAL: [0/9] Data 0.442 (0.442) Elapsed 0m 0s (remain 0m 7s) \n"
     ]
    },
    {
     "name": "stderr",
     "output_type": "stream",
     "text": [
      "labels: [ 5  2  0  6 11]\n",
      "pred_labels: [4 5 7 0 7]\n",
      "Epoch 11 - avg_train_loss: 0.9389  lr: 7.7953e-04  time: 56s\n",
      "Epoch 11 - Score: 0.5649\n"
     ]
    },
    {
     "name": "stdout",
     "output_type": "stream",
     "text": [
      "EVAL: [8/9] Data 0.000 (0.049) Elapsed 0m 4s (remain 0m 0s) \n",
      "Epoch: [12][0/40] Data 0.603 (0.603) Elapsed 0m 1s (remain 1m 13s) Loss: 1.3021(1.3021) Grad Norm: 5.5802  LR: 7.4103e-04  \n",
      "Epoch: [12][39/40] Data 0.000 (0.015) Elapsed 0m 51s (remain 0m 0s) Loss: 0.2876(0.7392) Grad Norm: 14.0623  LR: 7.4103e-04  \n",
      "EVAL: [0/9] Data 0.438 (0.438) Elapsed 0m 0s (remain 0m 7s) \n"
     ]
    },
    {
     "name": "stderr",
     "output_type": "stream",
     "text": [
      "labels: [ 5  2  0  6 11]\n",
      "pred_labels: [ 5  5  0  6 11]\n",
      "Epoch 12 - avg_train_loss: 0.7392  lr: 7.4103e-04  time: 56s\n",
      "Epoch 12 - Score: 0.6718\n",
      "Epoch 12 - Save Best Score: 0.6718 Model\n"
     ]
    },
    {
     "name": "stdout",
     "output_type": "stream",
     "text": [
      "EVAL: [8/9] Data 0.000 (0.049) Elapsed 0m 4s (remain 0m 0s) \n",
      "Epoch: [13][0/40] Data 0.603 (0.603) Elapsed 0m 1s (remain 1m 13s) Loss: 0.0647(0.0647) Grad Norm: 2.4086  LR: 7.0063e-04  \n",
      "Epoch: [13][39/40] Data 0.000 (0.015) Elapsed 0m 51s (remain 0m 0s) Loss: 0.1822(0.7372) Grad Norm: 8.7000  LR: 7.0063e-04  \n",
      "EVAL: [0/9] Data 0.409 (0.409) Elapsed 0m 0s (remain 0m 6s) \n"
     ]
    },
    {
     "name": "stderr",
     "output_type": "stream",
     "text": [
      "labels: [ 5  2  0  6 11]\n",
      "pred_labels: [ 5  5  0  6 11]\n",
      "Epoch 13 - avg_train_loss: 0.7372  lr: 7.0063e-04  time: 56s\n",
      "Epoch 13 - Score: 0.6565\n"
     ]
    },
    {
     "name": "stdout",
     "output_type": "stream",
     "text": [
      "EVAL: [8/9] Data 0.000 (0.046) Elapsed 0m 4s (remain 0m 0s) \n",
      "Epoch: [14][0/40] Data 0.651 (0.651) Elapsed 0m 1s (remain 1m 15s) Loss: 1.4257(1.4257) Grad Norm: 6.0564  LR: 6.5865e-04  \n",
      "Epoch: [14][39/40] Data 0.000 (0.016) Elapsed 0m 51s (remain 0m 0s) Loss: 0.1994(0.9218) Grad Norm: 8.7999  LR: 6.5865e-04  \n",
      "EVAL: [0/9] Data 0.438 (0.438) Elapsed 0m 0s (remain 0m 7s) \n"
     ]
    },
    {
     "name": "stderr",
     "output_type": "stream",
     "text": [
      "labels: [ 5  2  0  6 11]\n",
      "pred_labels: [ 5  5  0  6 11]\n",
      "Epoch 14 - avg_train_loss: 0.9218  lr: 6.5865e-04  time: 56s\n",
      "Epoch 14 - Score: 0.6336\n"
     ]
    },
    {
     "name": "stdout",
     "output_type": "stream",
     "text": [
      "EVAL: [8/9] Data 0.000 (0.049) Elapsed 0m 4s (remain 0m 0s) \n",
      "Epoch: [15][0/40] Data 0.691 (0.691) Elapsed 0m 1s (remain 1m 16s) Loss: 0.0912(0.0912) Grad Norm: 5.8932  LR: 6.1542e-04  \n",
      "Epoch: [15][39/40] Data 0.000 (0.017) Elapsed 0m 51s (remain 0m 0s) Loss: 1.2850(0.7762) Grad Norm: 7.2669  LR: 6.1542e-04  \n",
      "EVAL: [0/9] Data 0.447 (0.447) Elapsed 0m 0s (remain 0m 7s) \n"
     ]
    },
    {
     "name": "stderr",
     "output_type": "stream",
     "text": [
      "labels: [ 5  2  0  6 11]\n",
      "pred_labels: [5 5 0 6 6]\n",
      "Epoch 15 - avg_train_loss: 0.7762  lr: 6.1542e-04  time: 56s\n",
      "Epoch 15 - Score: 0.5954\n"
     ]
    },
    {
     "name": "stdout",
     "output_type": "stream",
     "text": [
      "EVAL: [8/9] Data 0.000 (0.050) Elapsed 0m 4s (remain 0m 0s) \n",
      "Epoch: [16][0/40] Data 0.641 (0.641) Elapsed 0m 1s (remain 1m 14s) Loss: 0.1723(0.1723) Grad Norm: 5.3770  LR: 5.7130e-04  \n",
      "Epoch: [16][39/40] Data 0.000 (0.016) Elapsed 0m 51s (remain 0m 0s) Loss: 0.1235(0.6985) Grad Norm: 5.1486  LR: 5.7130e-04  \n",
      "EVAL: [0/9] Data 0.416 (0.416) Elapsed 0m 0s (remain 0m 6s) \n"
     ]
    },
    {
     "name": "stderr",
     "output_type": "stream",
     "text": [
      "labels: [ 5  2  0  6 11]\n",
      "pred_labels: [5 9 0 0 6]\n",
      "Epoch 16 - avg_train_loss: 0.6985  lr: 5.7130e-04  time: 56s\n",
      "Epoch 16 - Score: 0.5802\n"
     ]
    },
    {
     "name": "stdout",
     "output_type": "stream",
     "text": [
      "EVAL: [8/9] Data 0.000 (0.047) Elapsed 0m 4s (remain 0m 0s) \n",
      "Epoch: [17][0/40] Data 0.564 (0.564) Elapsed 0m 1s (remain 1m 11s) Loss: 0.6680(0.6680) Grad Norm: 6.8186  LR: 5.2663e-04  \n",
      "Epoch: [17][39/40] Data 0.000 (0.014) Elapsed 0m 51s (remain 0m 0s) Loss: 1.2149(0.8085) Grad Norm: 6.3942  LR: 5.2663e-04  \n",
      "EVAL: [0/9] Data 0.443 (0.443) Elapsed 0m 0s (remain 0m 7s) \n"
     ]
    },
    {
     "name": "stderr",
     "output_type": "stream",
     "text": [
      "labels: [ 5  2  0  6 11]\n",
      "pred_labels: [ 5  5  0  0 11]\n",
      "Epoch 17 - avg_train_loss: 0.8085  lr: 5.2663e-04  time: 56s\n",
      "Epoch 17 - Score: 0.6031\n"
     ]
    },
    {
     "name": "stdout",
     "output_type": "stream",
     "text": [
      "EVAL: [8/9] Data 0.000 (0.049) Elapsed 0m 4s (remain 0m 0s) \n",
      "Epoch: [18][0/40] Data 0.555 (0.555) Elapsed 0m 1s (remain 1m 11s) Loss: 1.6225(1.6225) Grad Norm: 13.4966  LR: 4.8179e-04  \n",
      "Epoch: [18][39/40] Data 0.000 (0.014) Elapsed 0m 51s (remain 0m 0s) Loss: 0.4030(0.6025) Grad Norm: 6.1432  LR: 4.8179e-04  \n",
      "EVAL: [0/9] Data 0.462 (0.462) Elapsed 0m 0s (remain 0m 7s) \n"
     ]
    },
    {
     "name": "stderr",
     "output_type": "stream",
     "text": [
      "labels: [ 5  2  0  6 11]\n",
      "pred_labels: [ 5  5  0  6 11]\n",
      "Epoch 18 - avg_train_loss: 0.6025  lr: 4.8179e-04  time: 56s\n",
      "Epoch 18 - Score: 0.6718\n"
     ]
    },
    {
     "name": "stdout",
     "output_type": "stream",
     "text": [
      "EVAL: [8/9] Data 0.000 (0.052) Elapsed 0m 4s (remain 0m 0s) \n",
      "Epoch: [19][0/40] Data 0.603 (0.603) Elapsed 0m 1s (remain 1m 13s) Loss: 0.0307(0.0307) Grad Norm: 2.9836  LR: 4.3712e-04  \n",
      "Epoch: [19][39/40] Data 0.000 (0.015) Elapsed 0m 51s (remain 0m 0s) Loss: 1.1781(0.5466) Grad Norm: 6.3364  LR: 4.3712e-04  \n",
      "EVAL: [0/9] Data 0.355 (0.355) Elapsed 0m 0s (remain 0m 6s) \n"
     ]
    },
    {
     "name": "stderr",
     "output_type": "stream",
     "text": [
      "labels: [ 5  2  0  6 11]\n",
      "pred_labels: [ 3  5  0  6 11]\n",
      "Epoch 19 - avg_train_loss: 0.5466  lr: 4.3712e-04  time: 56s\n",
      "Epoch 19 - Score: 0.6641\n"
     ]
    },
    {
     "name": "stdout",
     "output_type": "stream",
     "text": [
      "EVAL: [8/9] Data 0.000 (0.040) Elapsed 0m 4s (remain 0m 0s) \n",
      "Epoch: [20][0/40] Data 0.569 (0.569) Elapsed 0m 1s (remain 1m 11s) Loss: 1.3118(1.3118) Grad Norm: 5.3962  LR: 3.9299e-04  \n",
      "Epoch: [20][39/40] Data 0.000 (0.014) Elapsed 0m 51s (remain 0m 0s) Loss: 0.1292(0.6354) Grad Norm: 2.9705  LR: 3.9299e-04  \n",
      "EVAL: [0/9] Data 0.332 (0.332) Elapsed 0m 0s (remain 0m 6s) \n"
     ]
    },
    {
     "name": "stderr",
     "output_type": "stream",
     "text": [
      "labels: [ 5  2  0  6 11]\n",
      "pred_labels: [ 5  5  0  0 11]\n",
      "Epoch 20 - avg_train_loss: 0.6354  lr: 3.9299e-04  time: 55s\n",
      "Epoch 20 - Score: 0.6718\n"
     ]
    },
    {
     "name": "stdout",
     "output_type": "stream",
     "text": [
      "EVAL: [8/9] Data 0.000 (0.037) Elapsed 0m 3s (remain 0m 0s) \n",
      "Epoch: [21][0/40] Data 0.641 (0.641) Elapsed 0m 1s (remain 1m 15s) Loss: 1.0620(1.0620) Grad Norm: 5.9473  LR: 3.4975e-04  \n",
      "Epoch: [21][39/40] Data 0.000 (0.016) Elapsed 0m 51s (remain 0m 0s) Loss: 0.0990(0.6304) Grad Norm: 10.0253  LR: 3.4975e-04  \n",
      "EVAL: [0/9] Data 0.370 (0.370) Elapsed 0m 0s (remain 0m 6s) \n"
     ]
    },
    {
     "name": "stderr",
     "output_type": "stream",
     "text": [
      "labels: [ 5  2  0  6 11]\n",
      "pred_labels: [ 3  5  0  6 11]\n",
      "Epoch 21 - avg_train_loss: 0.6304  lr: 3.4975e-04  time: 56s\n",
      "Epoch 21 - Score: 0.6718\n"
     ]
    },
    {
     "name": "stdout",
     "output_type": "stream",
     "text": [
      "EVAL: [8/9] Data 0.000 (0.041) Elapsed 0m 4s (remain 0m 0s) \n",
      "Epoch: [22][0/40] Data 0.579 (0.579) Elapsed 0m 1s (remain 1m 12s) Loss: 0.1513(0.1513) Grad Norm: 1.7662  LR: 3.0775e-04  \n",
      "Epoch: [22][39/40] Data 0.000 (0.015) Elapsed 0m 51s (remain 0m 0s) Loss: 0.8410(0.5643) Grad Norm: 4.9078  LR: 3.0775e-04  \n",
      "EVAL: [0/9] Data 0.482 (0.482) Elapsed 0m 0s (remain 0m 7s) \n"
     ]
    },
    {
     "name": "stderr",
     "output_type": "stream",
     "text": [
      "labels: [ 5  2  0  6 11]\n",
      "pred_labels: [ 3  5  0  6 11]\n",
      "Epoch 22 - avg_train_loss: 0.5643  lr: 3.0775e-04  time: 56s\n",
      "Epoch 22 - Score: 0.6718\n"
     ]
    },
    {
     "name": "stdout",
     "output_type": "stream",
     "text": [
      "EVAL: [8/9] Data 0.000 (0.054) Elapsed 0m 4s (remain 0m 0s) \n",
      "Epoch: [23][0/40] Data 0.669 (0.669) Elapsed 0m 1s (remain 1m 15s) Loss: 0.0046(0.0046) Grad Norm: 0.1620  LR: 2.6732e-04  \n",
      "Epoch: [23][39/40] Data 0.000 (0.017) Elapsed 0m 51s (remain 0m 0s) Loss: 1.1548(0.6219) Grad Norm: 7.5562  LR: 2.6732e-04  \n",
      "EVAL: [0/9] Data 0.314 (0.314) Elapsed 0m 0s (remain 0m 6s) \n"
     ]
    },
    {
     "name": "stderr",
     "output_type": "stream",
     "text": [
      "labels: [ 5  2  0  6 11]\n",
      "pred_labels: [ 5  5  0  6 11]\n",
      "Epoch 23 - avg_train_loss: 0.6219  lr: 2.6732e-04  time: 56s\n",
      "Epoch 23 - Score: 0.6565\n"
     ]
    },
    {
     "name": "stdout",
     "output_type": "stream",
     "text": [
      "EVAL: [8/9] Data 0.000 (0.035) Elapsed 0m 3s (remain 0m 0s) \n",
      "Epoch: [24][0/40] Data 0.601 (0.601) Elapsed 0m 1s (remain 1m 13s) Loss: 0.0578(0.0578) Grad Norm: 7.0712  LR: 2.2880e-04  \n",
      "Epoch: [24][39/40] Data 0.000 (0.015) Elapsed 0m 51s (remain 0m 0s) Loss: 0.0124(0.3830) Grad Norm: 0.9017  LR: 2.2880e-04  \n",
      "EVAL: [0/9] Data 0.499 (0.499) Elapsed 0m 0s (remain 0m 7s) \n"
     ]
    },
    {
     "name": "stderr",
     "output_type": "stream",
     "text": [
      "labels: [ 5  2  0  6 11]\n",
      "pred_labels: [ 5  5  0  6 11]\n",
      "Epoch 24 - avg_train_loss: 0.3830  lr: 2.2880e-04  time: 56s\n",
      "Epoch 24 - Score: 0.6565\n"
     ]
    },
    {
     "name": "stdout",
     "output_type": "stream",
     "text": [
      "EVAL: [8/9] Data 0.000 (0.056) Elapsed 0m 4s (remain 0m 0s) \n",
      "Epoch: [25][0/40] Data 0.593 (0.593) Elapsed 0m 1s (remain 1m 12s) Loss: 0.0350(0.0350) Grad Norm: 4.2796  LR: 1.9248e-04  \n",
      "Epoch: [25][39/40] Data 0.000 (0.015) Elapsed 0m 51s (remain 0m 0s) Loss: 0.0055(0.5193) Grad Norm: 0.3921  LR: 1.9248e-04  \n",
      "EVAL: [0/9] Data 0.403 (0.403) Elapsed 0m 0s (remain 0m 6s) \n"
     ]
    },
    {
     "name": "stderr",
     "output_type": "stream",
     "text": [
      "labels: [ 5  2  0  6 11]\n",
      "pred_labels: [ 5  5  0  0 11]\n",
      "Epoch 25 - avg_train_loss: 0.5193  lr: 1.9248e-04  time: 56s\n",
      "Epoch 25 - Score: 0.6718\n"
     ]
    },
    {
     "name": "stdout",
     "output_type": "stream",
     "text": [
      "EVAL: [8/9] Data 0.000 (0.045) Elapsed 0m 4s (remain 0m 0s) \n",
      "Epoch: [26][0/40] Data 0.665 (0.665) Elapsed 0m 1s (remain 1m 15s) Loss: 0.0019(0.0019) Grad Norm: 0.0669  LR: 1.5867e-04  \n",
      "Epoch: [26][39/40] Data 0.000 (0.017) Elapsed 0m 51s (remain 0m 0s) Loss: 1.1631(0.5070) Grad Norm: 8.1443  LR: 1.5867e-04  \n",
      "EVAL: [0/9] Data 0.409 (0.409) Elapsed 0m 0s (remain 0m 6s) \n"
     ]
    },
    {
     "name": "stderr",
     "output_type": "stream",
     "text": [
      "labels: [ 5  2  0  6 11]\n",
      "pred_labels: [ 5  5  0  0 11]\n",
      "Epoch 26 - avg_train_loss: 0.5070  lr: 1.5867e-04  time: 56s\n",
      "Epoch 26 - Score: 0.6565\n"
     ]
    },
    {
     "name": "stdout",
     "output_type": "stream",
     "text": [
      "EVAL: [8/9] Data 0.000 (0.046) Elapsed 0m 4s (remain 0m 0s) \n",
      "Epoch: [27][0/40] Data 0.550 (0.550) Elapsed 0m 1s (remain 1m 10s) Loss: 0.0021(0.0021) Grad Norm: 0.1350  LR: 1.2762e-04  \n",
      "Epoch: [27][39/40] Data 0.000 (0.014) Elapsed 0m 51s (remain 0m 0s) Loss: 0.7794(0.5409) Grad Norm: 3.4015  LR: 1.2762e-04  \n",
      "EVAL: [0/9] Data 0.443 (0.443) Elapsed 0m 0s (remain 0m 7s) \n"
     ]
    },
    {
     "name": "stderr",
     "output_type": "stream",
     "text": [
      "labels: [ 5  2  0  6 11]\n",
      "pred_labels: [ 5  5  0  6 11]\n",
      "Epoch 27 - avg_train_loss: 0.5409  lr: 1.2762e-04  time: 56s\n",
      "Epoch 27 - Score: 0.7023\n",
      "Epoch 27 - Save Best Score: 0.7023 Model\n"
     ]
    },
    {
     "name": "stdout",
     "output_type": "stream",
     "text": [
      "EVAL: [8/9] Data 0.000 (0.049) Elapsed 0m 4s (remain 0m 0s) \n",
      "Epoch: [28][0/40] Data 0.812 (0.812) Elapsed 0m 2s (remain 1m 22s) Loss: 0.0023(0.0023) Grad Norm: 0.1782  LR: 9.9584e-05  \n",
      "Epoch: [28][39/40] Data 0.000 (0.020) Elapsed 0m 51s (remain 0m 0s) Loss: 0.0016(0.5515) Grad Norm: 0.0519  LR: 9.9584e-05  \n",
      "EVAL: [0/9] Data 0.331 (0.331) Elapsed 0m 0s (remain 0m 6s) \n"
     ]
    },
    {
     "name": "stderr",
     "output_type": "stream",
     "text": [
      "labels: [ 5  2  0  6 11]\n",
      "pred_labels: [ 5  5  0  0 11]\n",
      "Epoch 28 - avg_train_loss: 0.5515  lr: 9.9584e-05  time: 56s\n",
      "Epoch 28 - Score: 0.6947\n"
     ]
    },
    {
     "name": "stdout",
     "output_type": "stream",
     "text": [
      "EVAL: [8/9] Data 0.000 (0.037) Elapsed 0m 3s (remain 0m 0s) \n",
      "Epoch: [29][0/40] Data 0.596 (0.596) Elapsed 0m 1s (remain 1m 12s) Loss: 0.7688(0.7688) Grad Norm: 5.5473  LR: 7.4783e-05  \n",
      "Epoch: [29][39/40] Data 0.000 (0.015) Elapsed 0m 51s (remain 0m 0s) Loss: 0.8683(0.4408) Grad Norm: 4.8934  LR: 7.4783e-05  \n",
      "EVAL: [0/9] Data 0.397 (0.397) Elapsed 0m 0s (remain 0m 6s) \n"
     ]
    },
    {
     "name": "stderr",
     "output_type": "stream",
     "text": [
      "labels: [ 5  2  0  6 11]\n",
      "pred_labels: [ 5  5  0  0 11]\n",
      "Epoch 29 - avg_train_loss: 0.4408  lr: 7.4783e-05  time: 56s\n",
      "Epoch 29 - Score: 0.6718\n"
     ]
    },
    {
     "name": "stdout",
     "output_type": "stream",
     "text": [
      "EVAL: [8/9] Data 0.000 (0.044) Elapsed 0m 4s (remain 0m 0s) \n",
      "Epoch: [30][0/40] Data 0.600 (0.600) Elapsed 0m 1s (remain 1m 12s) Loss: 0.0150(0.0150) Grad Norm: 2.5639  LR: 5.3404e-05  \n",
      "Epoch: [30][39/40] Data 0.000 (0.015) Elapsed 0m 51s (remain 0m 0s) Loss: 0.0016(0.4644) Grad Norm: 0.1476  LR: 5.3404e-05  \n",
      "EVAL: [0/9] Data 0.350 (0.350) Elapsed 0m 0s (remain 0m 6s) \n"
     ]
    },
    {
     "name": "stderr",
     "output_type": "stream",
     "text": [
      "labels: [ 5  2  0  6 11]\n",
      "pred_labels: [ 5  5  0  6 11]\n",
      "Epoch 30 - avg_train_loss: 0.4644  lr: 5.3404e-05  time: 56s\n",
      "Epoch 30 - Score: 0.6947\n"
     ]
    },
    {
     "name": "stdout",
     "output_type": "stream",
     "text": [
      "EVAL: [8/9] Data 0.000 (0.039) Elapsed 0m 4s (remain 0m 0s) \n",
      "Epoch: [31][0/40] Data 0.633 (0.633) Elapsed 0m 1s (remain 1m 14s) Loss: 0.0014(0.0014) Grad Norm: 0.0438  LR: 3.5607e-05  \n",
      "Epoch: [31][39/40] Data 0.000 (0.016) Elapsed 0m 51s (remain 0m 0s) Loss: 0.0008(0.0080) Grad Norm: 0.0252  LR: 3.5607e-05  \n",
      "EVAL: [0/9] Data 0.437 (0.437) Elapsed 0m 0s (remain 0m 7s) \n"
     ]
    },
    {
     "name": "stderr",
     "output_type": "stream",
     "text": [
      "labels: [ 5  2  0  6 11]\n",
      "pred_labels: [ 5  5  0  6 11]\n",
      "Epoch 31 - avg_train_loss: 0.0080  lr: 3.5607e-05  time: 56s\n",
      "Epoch 31 - Score: 0.7023\n"
     ]
    },
    {
     "name": "stdout",
     "output_type": "stream",
     "text": [
      "EVAL: [8/9] Data 0.000 (0.049) Elapsed 0m 4s (remain 0m 0s) \n",
      "Epoch: [32][0/40] Data 0.564 (0.564) Elapsed 0m 1s (remain 1m 11s) Loss: 0.0009(0.0009) Grad Norm: 0.0387  LR: 2.1508e-05  \n",
      "Epoch: [32][39/40] Data 0.000 (0.014) Elapsed 0m 51s (remain 0m 0s) Loss: 0.0055(0.0085) Grad Norm: 0.3128  LR: 2.1508e-05  \n",
      "EVAL: [0/9] Data 0.445 (0.445) Elapsed 0m 0s (remain 0m 7s) \n"
     ]
    },
    {
     "name": "stderr",
     "output_type": "stream",
     "text": [
      "labels: [ 5  2  0  6 11]\n",
      "pred_labels: [ 5  5  0  6 11]\n",
      "Epoch 32 - avg_train_loss: 0.0085  lr: 2.1508e-05  time: 56s\n",
      "Epoch 32 - Score: 0.7023\n"
     ]
    },
    {
     "name": "stdout",
     "output_type": "stream",
     "text": [
      "EVAL: [8/9] Data 0.000 (0.050) Elapsed 0m 4s (remain 0m 0s) \n",
      "Epoch: [33][0/40] Data 0.655 (0.655) Elapsed 0m 1s (remain 1m 15s) Loss: 0.0027(0.0027) Grad Norm: 0.1129  LR: 1.1173e-05  \n",
      "Epoch: [33][39/40] Data 0.000 (0.017) Elapsed 0m 51s (remain 0m 0s) Loss: 0.0009(0.0019) Grad Norm: 0.0360  LR: 1.1173e-05  \n",
      "EVAL: [0/9] Data 0.449 (0.449) Elapsed 0m 0s (remain 0m 7s) \n"
     ]
    },
    {
     "name": "stderr",
     "output_type": "stream",
     "text": [
      "labels: [ 5  2  0  6 11]\n",
      "pred_labels: [ 5  5  0  6 11]\n",
      "Epoch 33 - avg_train_loss: 0.0019  lr: 1.1173e-05  time: 56s\n",
      "Epoch 33 - Score: 0.7023\n"
     ]
    },
    {
     "name": "stdout",
     "output_type": "stream",
     "text": [
      "EVAL: [8/9] Data 0.000 (0.050) Elapsed 0m 4s (remain 0m 0s) \n",
      "Epoch: [34][0/40] Data 0.560 (0.560) Elapsed 0m 1s (remain 1m 11s) Loss: 0.0009(0.0009) Grad Norm: 0.0333  LR: 4.5796e-06  \n",
      "Epoch: [34][39/40] Data 0.000 (0.014) Elapsed 0m 51s (remain 0m 0s) Loss: 0.0005(0.0031) Grad Norm: 0.0168  LR: 4.5796e-06  \n",
      "EVAL: [0/9] Data 0.404 (0.404) Elapsed 0m 0s (remain 0m 6s) \n"
     ]
    },
    {
     "name": "stderr",
     "output_type": "stream",
     "text": [
      "labels: [ 5  2  0  6 11]\n",
      "pred_labels: [ 5  5  0  6 11]\n",
      "Epoch 34 - avg_train_loss: 0.0031  lr: 4.5796e-06  time: 55s\n",
      "Epoch 34 - Score: 0.7023\n"
     ]
    },
    {
     "name": "stdout",
     "output_type": "stream",
     "text": [
      "EVAL: [8/9] Data 0.000 (0.045) Elapsed 0m 4s (remain 0m 0s) \n",
      "Epoch: [35][0/40] Data 0.578 (0.578) Elapsed 0m 1s (remain 1m 12s) Loss: 0.0033(0.0033) Grad Norm: 0.2094  LR: 1.5037e-06  \n",
      "Epoch: [35][39/40] Data 0.000 (0.015) Elapsed 0m 51s (remain 0m 0s) Loss: 0.0016(0.0033) Grad Norm: 0.0958  LR: 1.5037e-06  \n",
      "EVAL: [0/9] Data 0.351 (0.351) Elapsed 0m 0s (remain 0m 6s) \n"
     ]
    },
    {
     "name": "stderr",
     "output_type": "stream",
     "text": [
      "labels: [ 5  2  0  6 11]\n",
      "pred_labels: [ 5  5  0  6 11]\n",
      "Epoch 35 - avg_train_loss: 0.0033  lr: 1.5037e-06  time: 55s\n",
      "Epoch 35 - Score: 0.7023\n",
      "==================== fold: 4, seed: 1 training ====================\n"
     ]
    },
    {
     "name": "stdout",
     "output_type": "stream",
     "text": [
      "EVAL: [8/9] Data 0.000 (0.039) Elapsed 0m 4s (remain 0m 0s) \n",
      "Epoch: [1][0/40] Data 0.660 (0.660) Elapsed 0m 1s (remain 1m 15s) Loss: 2.6253(2.6253) Grad Norm: inf  LR: 1.0000e-03  \n",
      "Epoch: [1][39/40] Data 0.000 (0.017) Elapsed 0m 51s (remain 0m 0s) Loss: 2.3956(2.5189) Grad Norm: 9.8990  LR: 1.0000e-03  \n",
      "EVAL: [0/9] Data 0.384 (0.384) Elapsed 0m 0s (remain 0m 6s) \n"
     ]
    },
    {
     "name": "stderr",
     "output_type": "stream",
     "text": [
      "labels: [11  4  3 12  3]\n",
      "pred_labels: [2 2 2 2 2]\n",
      "Epoch 1 - avg_train_loss: 2.5189  lr: 1.0000e-03  time: 56s\n",
      "Epoch 1 - Score: 0.3231\n",
      "Epoch 1 - Save Best Score: 0.3231 Model\n"
     ]
    },
    {
     "name": "stdout",
     "output_type": "stream",
     "text": [
      "EVAL: [8/9] Data 0.000 (0.043) Elapsed 0m 4s (remain 0m 0s) \n",
      "Epoch: [2][0/40] Data 0.745 (0.745) Elapsed 0m 2s (remain 1m 18s) Loss: 1.9562(1.9562) Grad Norm: 10.3759  LR: 9.9598e-04  \n",
      "Epoch: [2][39/40] Data 0.000 (0.019) Elapsed 0m 51s (remain 0m 0s) Loss: 1.5200(1.9599) Grad Norm: 18.8193  LR: 9.9598e-04  \n",
      "EVAL: [0/9] Data 0.378 (0.378) Elapsed 0m 0s (remain 0m 6s) \n"
     ]
    },
    {
     "name": "stderr",
     "output_type": "stream",
     "text": [
      "labels: [11  4  3 12  3]\n",
      "pred_labels: [11  4  0  2  4]\n",
      "Epoch 2 - avg_train_loss: 1.9599  lr: 9.9598e-04  time: 56s\n",
      "Epoch 2 - Score: 0.5077\n",
      "Epoch 2 - Save Best Score: 0.5077 Model\n"
     ]
    },
    {
     "name": "stdout",
     "output_type": "stream",
     "text": [
      "EVAL: [8/9] Data 0.000 (0.042) Elapsed 0m 4s (remain 0m 0s) \n",
      "Epoch: [3][0/40] Data 0.641 (0.641) Elapsed 0m 1s (remain 1m 15s) Loss: 2.0059(2.0059) Grad Norm: 13.6986  LR: 9.8599e-04  \n",
      "Epoch: [3][39/40] Data 0.000 (0.016) Elapsed 0m 51s (remain 0m 0s) Loss: 1.8353(1.6850) Grad Norm: 9.7415  LR: 9.8599e-04  \n",
      "EVAL: [0/9] Data 0.402 (0.402) Elapsed 0m 0s (remain 0m 6s) \n"
     ]
    },
    {
     "name": "stderr",
     "output_type": "stream",
     "text": [
      "labels: [11  4  3 12  3]\n",
      "pred_labels: [5 1 5 8 0]\n",
      "Epoch 3 - avg_train_loss: 1.6850  lr: 9.8599e-04  time: 56s\n",
      "Epoch 3 - Score: 0.5692\n",
      "Epoch 3 - Save Best Score: 0.5692 Model\n"
     ]
    },
    {
     "name": "stdout",
     "output_type": "stream",
     "text": [
      "EVAL: [8/9] Data 0.000 (0.045) Elapsed 0m 4s (remain 0m 0s) \n",
      "Epoch: [4][0/40] Data 0.687 (0.687) Elapsed 0m 1s (remain 1m 16s) Loss: 2.2958(2.2958) Grad Norm: 11.3520  LR: 9.7213e-04  \n",
      "Epoch: [4][39/40] Data 0.000 (0.017) Elapsed 0m 51s (remain 0m 0s) Loss: 1.9678(1.4253) Grad Norm: 21.0752  LR: 9.7213e-04  \n",
      "EVAL: [0/9] Data 0.358 (0.358) Elapsed 0m 0s (remain 0m 6s) \n"
     ]
    },
    {
     "name": "stderr",
     "output_type": "stream",
     "text": [
      "labels: [11  4  3 12  3]\n",
      "pred_labels: [11  3  3 10  1]\n",
      "Epoch 4 - avg_train_loss: 1.4253  lr: 9.7213e-04  time: 56s\n",
      "Epoch 4 - Score: 0.5692\n"
     ]
    },
    {
     "name": "stdout",
     "output_type": "stream",
     "text": [
      "EVAL: [8/9] Data 0.000 (0.040) Elapsed 0m 3s (remain 0m 0s) \n",
      "Epoch: [5][0/40] Data 0.513 (0.513) Elapsed 0m 1s (remain 1m 9s) Loss: 0.5340(0.5340) Grad Norm: 9.4746  LR: 9.5449e-04  \n",
      "Epoch: [5][39/40] Data 0.000 (0.013) Elapsed 0m 51s (remain 0m 0s) Loss: 1.7988(1.2255) Grad Norm: 13.5549  LR: 9.5449e-04  \n",
      "EVAL: [0/9] Data 0.437 (0.437) Elapsed 0m 0s (remain 0m 7s) \n"
     ]
    },
    {
     "name": "stderr",
     "output_type": "stream",
     "text": [
      "labels: [11  4  3 12  3]\n",
      "pred_labels: [12  4  3 12  0]\n",
      "Epoch 5 - avg_train_loss: 1.2255  lr: 9.5449e-04  time: 56s\n",
      "Epoch 5 - Score: 0.5846\n",
      "Epoch 5 - Save Best Score: 0.5846 Model\n"
     ]
    },
    {
     "name": "stdout",
     "output_type": "stream",
     "text": [
      "EVAL: [8/9] Data 0.000 (0.049) Elapsed 0m 4s (remain 0m 0s) \n",
      "Epoch: [6][0/40] Data 0.705 (0.705) Elapsed 0m 1s (remain 1m 17s) Loss: 1.8585(1.8585) Grad Norm: 8.6173  LR: 9.3324e-04  \n",
      "Epoch: [6][39/40] Data 0.000 (0.018) Elapsed 0m 51s (remain 0m 0s) Loss: 0.8674(1.3021) Grad Norm: 14.6610  LR: 9.3324e-04  \n",
      "EVAL: [0/9] Data 0.429 (0.429) Elapsed 0m 0s (remain 0m 7s) \n"
     ]
    },
    {
     "name": "stderr",
     "output_type": "stream",
     "text": [
      "labels: [11  4  3 12  3]\n",
      "pred_labels: [12  4  3 12  1]\n",
      "Epoch 6 - avg_train_loss: 1.3021  lr: 9.3324e-04  time: 56s\n",
      "Epoch 6 - Score: 0.5385\n"
     ]
    },
    {
     "name": "stdout",
     "output_type": "stream",
     "text": [
      "EVAL: [8/9] Data 0.000 (0.048) Elapsed 0m 4s (remain 0m 0s) \n",
      "Epoch: [7][0/40] Data 0.568 (0.568) Elapsed 0m 1s (remain 1m 11s) Loss: 0.4102(0.4102) Grad Norm: 9.3396  LR: 9.0853e-04  \n",
      "Epoch: [7][39/40] Data 0.000 (0.014) Elapsed 0m 51s (remain 0m 0s) Loss: 1.3122(1.0392) Grad Norm: 14.0398  LR: 9.0853e-04  \n",
      "EVAL: [0/9] Data 0.476 (0.476) Elapsed 0m 0s (remain 0m 7s) \n"
     ]
    },
    {
     "name": "stderr",
     "output_type": "stream",
     "text": [
      "labels: [11  4  3 12  3]\n",
      "pred_labels: [11  1  3  2  3]\n",
      "Epoch 7 - avg_train_loss: 1.0392  lr: 9.0853e-04  time: 56s\n",
      "Epoch 7 - Score: 0.5615\n"
     ]
    },
    {
     "name": "stdout",
     "output_type": "stream",
     "text": [
      "EVAL: [8/9] Data 0.000 (0.053) Elapsed 0m 4s (remain 0m 0s) \n",
      "Epoch: [8][0/40] Data 0.603 (0.603) Elapsed 0m 1s (remain 1m 13s) Loss: 1.2118(1.2118) Grad Norm: 6.6765  LR: 8.8057e-04  \n",
      "Epoch: [8][39/40] Data 0.000 (0.015) Elapsed 0m 51s (remain 0m 0s) Loss: 1.5821(1.1606) Grad Norm: 8.8684  LR: 8.8057e-04  \n",
      "EVAL: [0/9] Data 0.400 (0.400) Elapsed 0m 0s (remain 0m 6s) \n"
     ]
    },
    {
     "name": "stderr",
     "output_type": "stream",
     "text": [
      "labels: [11  4  3 12  3]\n",
      "pred_labels: [11  1  3 12  1]\n",
      "Epoch 8 - avg_train_loss: 1.1606  lr: 8.8057e-04  time: 56s\n",
      "Epoch 8 - Score: 0.6231\n",
      "Epoch 8 - Save Best Score: 0.6231 Model\n"
     ]
    },
    {
     "name": "stdout",
     "output_type": "stream",
     "text": [
      "EVAL: [8/9] Data 0.000 (0.045) Elapsed 0m 4s (remain 0m 0s) \n",
      "Epoch: [9][0/40] Data 0.631 (0.631) Elapsed 0m 1s (remain 1m 15s) Loss: 0.7373(0.7373) Grad Norm: 12.8357  LR: 8.4958e-04  \n",
      "Epoch: [9][39/40] Data 0.000 (0.016) Elapsed 0m 51s (remain 0m 0s) Loss: 0.9075(1.0401) Grad Norm: 11.8662  LR: 8.4958e-04  \n",
      "EVAL: [0/9] Data 0.412 (0.412) Elapsed 0m 0s (remain 0m 6s) \n"
     ]
    },
    {
     "name": "stderr",
     "output_type": "stream",
     "text": [
      "labels: [11  4  3 12  3]\n",
      "pred_labels: [11  4  3 12  3]\n",
      "Epoch 9 - avg_train_loss: 1.0401  lr: 8.4958e-04  time: 56s\n",
      "Epoch 9 - Score: 0.5769\n"
     ]
    },
    {
     "name": "stdout",
     "output_type": "stream",
     "text": [
      "EVAL: [8/9] Data 0.000 (0.046) Elapsed 0m 4s (remain 0m 0s) \n",
      "Epoch: [10][0/40] Data 0.513 (0.513) Elapsed 0m 1s (remain 1m 9s) Loss: 0.0573(0.0573) Grad Norm: 4.8587  LR: 8.1581e-04  \n",
      "Epoch: [10][39/40] Data 0.000 (0.013) Elapsed 0m 51s (remain 0m 0s) Loss: 1.0038(0.8750) Grad Norm: 6.0578  LR: 8.1581e-04  \n",
      "EVAL: [0/9] Data 0.338 (0.338) Elapsed 0m 0s (remain 0m 6s) \n"
     ]
    },
    {
     "name": "stderr",
     "output_type": "stream",
     "text": [
      "labels: [11  4  3 12  3]\n",
      "pred_labels: [11  4  3 12  3]\n",
      "Epoch 10 - avg_train_loss: 0.8750  lr: 8.1581e-04  time: 55s\n",
      "Epoch 10 - Score: 0.5769\n"
     ]
    },
    {
     "name": "stdout",
     "output_type": "stream",
     "text": [
      "EVAL: [8/9] Data 0.000 (0.038) Elapsed 0m 3s (remain 0m 0s) \n",
      "Epoch: [11][0/40] Data 0.507 (0.507) Elapsed 0m 1s (remain 1m 9s) Loss: 1.3549(1.3549) Grad Norm: 20.1463  LR: 7.7953e-04  \n",
      "Epoch: [11][39/40] Data 0.000 (0.013) Elapsed 0m 51s (remain 0m 0s) Loss: 0.3999(0.9875) Grad Norm: 10.1989  LR: 7.7953e-04  \n",
      "EVAL: [0/9] Data 0.416 (0.416) Elapsed 0m 0s (remain 0m 6s) \n"
     ]
    },
    {
     "name": "stderr",
     "output_type": "stream",
     "text": [
      "labels: [11  4  3 12  3]\n",
      "pred_labels: [11  1  3 12  3]\n",
      "Epoch 11 - avg_train_loss: 0.9875  lr: 7.7953e-04  time: 56s\n",
      "Epoch 11 - Score: 0.5923\n"
     ]
    },
    {
     "name": "stdout",
     "output_type": "stream",
     "text": [
      "EVAL: [8/9] Data 0.000 (0.047) Elapsed 0m 4s (remain 0m 0s) \n",
      "Epoch: [12][0/40] Data 0.573 (0.573) Elapsed 0m 1s (remain 1m 11s) Loss: 0.6273(0.6273) Grad Norm: 9.5313  LR: 7.4103e-04  \n",
      "Epoch: [12][39/40] Data 0.000 (0.014) Elapsed 0m 51s (remain 0m 0s) Loss: 0.3699(0.8564) Grad Norm: 8.6645  LR: 7.4103e-04  \n",
      "EVAL: [0/9] Data 0.313 (0.313) Elapsed 0m 0s (remain 0m 6s) \n"
     ]
    },
    {
     "name": "stderr",
     "output_type": "stream",
     "text": [
      "labels: [11  4  3 12  3]\n",
      "pred_labels: [11  1  3 12  3]\n",
      "Epoch 12 - avg_train_loss: 0.8564  lr: 7.4103e-04  time: 55s\n",
      "Epoch 12 - Score: 0.6154\n"
     ]
    },
    {
     "name": "stdout",
     "output_type": "stream",
     "text": [
      "EVAL: [8/9] Data 0.000 (0.035) Elapsed 0m 3s (remain 0m 0s) \n",
      "Epoch: [13][0/40] Data 0.567 (0.567) Elapsed 0m 1s (remain 1m 11s) Loss: 1.3607(1.3607) Grad Norm: 9.3233  LR: 7.0063e-04  \n",
      "Epoch: [13][39/40] Data 0.000 (0.014) Elapsed 0m 51s (remain 0m 0s) Loss: 1.9547(0.9072) Grad Norm: 39.1452  LR: 7.0063e-04  \n",
      "EVAL: [0/9] Data 0.457 (0.457) Elapsed 0m 0s (remain 0m 7s) \n"
     ]
    },
    {
     "name": "stderr",
     "output_type": "stream",
     "text": [
      "labels: [11  4  3 12  3]\n",
      "pred_labels: [11  4  3 12  3]\n",
      "Epoch 13 - avg_train_loss: 0.9072  lr: 7.0063e-04  time: 56s\n",
      "Epoch 13 - Score: 0.5846\n"
     ]
    },
    {
     "name": "stdout",
     "output_type": "stream",
     "text": [
      "EVAL: [8/9] Data 0.000 (0.051) Elapsed 0m 4s (remain 0m 0s) \n",
      "Epoch: [14][0/40] Data 0.618 (0.618) Elapsed 0m 1s (remain 1m 13s) Loss: 0.1950(0.1950) Grad Norm: 10.4307  LR: 6.5865e-04  \n",
      "Epoch: [14][39/40] Data 0.000 (0.016) Elapsed 0m 51s (remain 0m 0s) Loss: 1.6804(0.6471) Grad Norm: 11.4867  LR: 6.5865e-04  \n",
      "EVAL: [0/9] Data 0.456 (0.456) Elapsed 0m 0s (remain 0m 7s) \n"
     ]
    },
    {
     "name": "stderr",
     "output_type": "stream",
     "text": [
      "labels: [11  4  3 12  3]\n",
      "pred_labels: [11 10  3 12  3]\n",
      "Epoch 14 - avg_train_loss: 0.6471  lr: 6.5865e-04  time: 56s\n",
      "Epoch 14 - Score: 0.6308\n",
      "Epoch 14 - Save Best Score: 0.6308 Model\n"
     ]
    },
    {
     "name": "stdout",
     "output_type": "stream",
     "text": [
      "EVAL: [8/9] Data 0.000 (0.051) Elapsed 0m 4s (remain 0m 0s) \n",
      "Epoch: [15][0/40] Data 0.718 (0.718) Elapsed 0m 2s (remain 1m 18s) Loss: 0.4068(0.4068) Grad Norm: 12.6817  LR: 6.1542e-04  \n",
      "Epoch: [15][39/40] Data 0.000 (0.018) Elapsed 0m 51s (remain 0m 0s) Loss: 0.4580(0.6749) Grad Norm: 15.1634  LR: 6.1542e-04  \n",
      "EVAL: [0/9] Data 0.373 (0.373) Elapsed 0m 0s (remain 0m 6s) \n"
     ]
    },
    {
     "name": "stderr",
     "output_type": "stream",
     "text": [
      "labels: [11  4  3 12  3]\n",
      "pred_labels: [11  4  1 10  1]\n",
      "Epoch 15 - avg_train_loss: 0.6749  lr: 6.1542e-04  time: 56s\n",
      "Epoch 15 - Score: 0.6077\n"
     ]
    },
    {
     "name": "stdout",
     "output_type": "stream",
     "text": [
      "EVAL: [8/9] Data 0.000 (0.042) Elapsed 0m 4s (remain 0m 0s) \n",
      "Epoch: [16][0/40] Data 0.652 (0.652) Elapsed 0m 1s (remain 1m 15s) Loss: 0.2202(0.2202) Grad Norm: 6.9525  LR: 5.7130e-04  \n",
      "Epoch: [16][39/40] Data 0.000 (0.016) Elapsed 0m 51s (remain 0m 0s) Loss: 1.3795(0.7656) Grad Norm: 11.3435  LR: 5.7130e-04  \n",
      "EVAL: [0/9] Data 0.421 (0.421) Elapsed 0m 0s (remain 0m 6s) \n"
     ]
    },
    {
     "name": "stderr",
     "output_type": "stream",
     "text": [
      "labels: [11  4  3 12  3]\n",
      "pred_labels: [11  4  1 10  1]\n",
      "Epoch 16 - avg_train_loss: 0.7656  lr: 5.7130e-04  time: 56s\n",
      "Epoch 16 - Score: 0.5923\n"
     ]
    },
    {
     "name": "stdout",
     "output_type": "stream",
     "text": [
      "EVAL: [8/9] Data 0.000 (0.047) Elapsed 0m 4s (remain 0m 0s) \n",
      "Epoch: [17][0/40] Data 0.509 (0.509) Elapsed 0m 1s (remain 1m 9s) Loss: 0.0093(0.0093) Grad Norm: 0.3373  LR: 5.2663e-04  \n",
      "Epoch: [17][39/40] Data 0.000 (0.013) Elapsed 0m 51s (remain 0m 0s) Loss: 1.2355(0.6268) Grad Norm: 10.3334  LR: 5.2663e-04  \n",
      "EVAL: [0/9] Data 0.490 (0.490) Elapsed 0m 0s (remain 0m 7s) \n"
     ]
    },
    {
     "name": "stderr",
     "output_type": "stream",
     "text": [
      "labels: [11  4  3 12  3]\n",
      "pred_labels: [11  4  3 12  3]\n",
      "Epoch 17 - avg_train_loss: 0.6268  lr: 5.2663e-04  time: 56s\n",
      "Epoch 17 - Score: 0.6462\n",
      "Epoch 17 - Save Best Score: 0.6462 Model\n"
     ]
    },
    {
     "name": "stdout",
     "output_type": "stream",
     "text": [
      "EVAL: [8/9] Data 0.000 (0.055) Elapsed 0m 4s (remain 0m 0s) \n",
      "Epoch: [18][0/40] Data 0.688 (0.688) Elapsed 0m 1s (remain 1m 17s) Loss: 0.0698(0.0698) Grad Norm: 3.7779  LR: 4.8179e-04  \n",
      "Epoch: [18][39/40] Data 0.000 (0.017) Elapsed 0m 51s (remain 0m 0s) Loss: 0.4147(0.6885) Grad Norm: 13.1811  LR: 4.8179e-04  \n",
      "EVAL: [0/9] Data 0.410 (0.410) Elapsed 0m 0s (remain 0m 6s) \n"
     ]
    },
    {
     "name": "stderr",
     "output_type": "stream",
     "text": [
      "labels: [11  4  3 12  3]\n",
      "pred_labels: [11  4  3 10  3]\n",
      "Epoch 18 - avg_train_loss: 0.6885  lr: 4.8179e-04  time: 56s\n",
      "Epoch 18 - Score: 0.6231\n"
     ]
    },
    {
     "name": "stdout",
     "output_type": "stream",
     "text": [
      "EVAL: [8/9] Data 0.000 (0.046) Elapsed 0m 4s (remain 0m 0s) \n",
      "Epoch: [19][0/40] Data 0.596 (0.596) Elapsed 0m 1s (remain 1m 12s) Loss: 1.0157(1.0157) Grad Norm: 14.5780  LR: 4.3712e-04  \n",
      "Epoch: [19][39/40] Data 0.000 (0.015) Elapsed 0m 51s (remain 0m 0s) Loss: 0.8803(0.6709) Grad Norm: 4.9047  LR: 4.3712e-04  \n",
      "EVAL: [0/9] Data 0.359 (0.359) Elapsed 0m 0s (remain 0m 6s) \n"
     ]
    },
    {
     "name": "stderr",
     "output_type": "stream",
     "text": [
      "labels: [11  4  3 12  3]\n",
      "pred_labels: [11  2  3 10  3]\n",
      "Epoch 19 - avg_train_loss: 0.6709  lr: 4.3712e-04  time: 56s\n",
      "Epoch 19 - Score: 0.6154\n"
     ]
    },
    {
     "name": "stdout",
     "output_type": "stream",
     "text": [
      "EVAL: [8/9] Data 0.000 (0.040) Elapsed 0m 3s (remain 0m 0s) \n",
      "Epoch: [20][0/40] Data 0.524 (0.524) Elapsed 0m 1s (remain 1m 9s) Loss: 0.0156(0.0156) Grad Norm: 0.7591  LR: 3.9299e-04  \n",
      "Epoch: [20][39/40] Data 0.000 (0.013) Elapsed 0m 51s (remain 0m 0s) Loss: 1.1881(0.7018) Grad Norm: 5.5249  LR: 3.9299e-04  \n",
      "EVAL: [0/9] Data 0.368 (0.368) Elapsed 0m 0s (remain 0m 6s) \n"
     ]
    },
    {
     "name": "stderr",
     "output_type": "stream",
     "text": [
      "labels: [11  4  3 12  3]\n",
      "pred_labels: [11  4  3 10  1]\n",
      "Epoch 20 - avg_train_loss: 0.7018  lr: 3.9299e-04  time: 55s\n",
      "Epoch 20 - Score: 0.6154\n"
     ]
    },
    {
     "name": "stdout",
     "output_type": "stream",
     "text": [
      "EVAL: [8/9] Data 0.000 (0.041) Elapsed 0m 4s (remain 0m 0s) \n",
      "Epoch: [21][0/40] Data 0.573 (0.573) Elapsed 0m 1s (remain 1m 11s) Loss: 0.0041(0.0041) Grad Norm: 0.1081  LR: 3.4975e-04  \n",
      "Epoch: [21][39/40] Data 0.000 (0.014) Elapsed 0m 51s (remain 0m 0s) Loss: 0.0057(0.6182) Grad Norm: 0.3780  LR: 3.4975e-04  \n",
      "EVAL: [0/9] Data 0.479 (0.479) Elapsed 0m 0s (remain 0m 7s) \n"
     ]
    },
    {
     "name": "stderr",
     "output_type": "stream",
     "text": [
      "labels: [11  4  3 12  3]\n",
      "pred_labels: [11  4  3 10  1]\n",
      "Epoch 21 - avg_train_loss: 0.6182  lr: 3.4975e-04  time: 56s\n",
      "Epoch 21 - Score: 0.6231\n"
     ]
    },
    {
     "name": "stdout",
     "output_type": "stream",
     "text": [
      "EVAL: [8/9] Data 0.000 (0.054) Elapsed 0m 4s (remain 0m 0s) \n",
      "Epoch: [22][0/40] Data 0.519 (0.519) Elapsed 0m 1s (remain 1m 9s) Loss: 0.7815(0.7815) Grad Norm: 4.2434  LR: 3.0775e-04  \n",
      "Epoch: [22][39/40] Data 0.000 (0.013) Elapsed 0m 51s (remain 0m 0s) Loss: 0.8799(0.6648) Grad Norm: 6.3670  LR: 3.0775e-04  \n",
      "EVAL: [0/9] Data 0.410 (0.410) Elapsed 0m 0s (remain 0m 6s) \n"
     ]
    },
    {
     "name": "stderr",
     "output_type": "stream",
     "text": [
      "labels: [11  4  3 12  3]\n",
      "pred_labels: [11  4  3 10  1]\n",
      "Epoch 22 - avg_train_loss: 0.6648  lr: 3.0775e-04  time: 55s\n",
      "Epoch 22 - Score: 0.6308\n"
     ]
    },
    {
     "name": "stdout",
     "output_type": "stream",
     "text": [
      "EVAL: [8/9] Data 0.000 (0.046) Elapsed 0m 4s (remain 0m 0s) \n",
      "Epoch: [23][0/40] Data 0.579 (0.579) Elapsed 0m 1s (remain 1m 12s) Loss: 1.1928(1.1928) Grad Norm: 5.7087  LR: 2.6732e-04  \n",
      "Epoch: [23][39/40] Data 0.000 (0.015) Elapsed 0m 51s (remain 0m 0s) Loss: 0.0229(0.4473) Grad Norm: 0.9534  LR: 2.6732e-04  \n",
      "EVAL: [0/9] Data 0.341 (0.341) Elapsed 0m 0s (remain 0m 6s) \n"
     ]
    },
    {
     "name": "stderr",
     "output_type": "stream",
     "text": [
      "labels: [11  4  3 12  3]\n",
      "pred_labels: [11  5  3 10  3]\n",
      "Epoch 23 - avg_train_loss: 0.4473  lr: 2.6732e-04  time: 55s\n",
      "Epoch 23 - Score: 0.6154\n"
     ]
    },
    {
     "name": "stdout",
     "output_type": "stream",
     "text": [
      "EVAL: [8/9] Data 0.000 (0.038) Elapsed 0m 3s (remain 0m 0s) \n",
      "Epoch: [24][0/40] Data 0.618 (0.618) Elapsed 0m 1s (remain 1m 13s) Loss: 0.7282(0.7282) Grad Norm: 7.2762  LR: 2.2880e-04  \n",
      "Epoch: [24][39/40] Data 0.000 (0.016) Elapsed 0m 51s (remain 0m 0s) Loss: 1.0427(0.5561) Grad Norm: 4.8369  LR: 2.2880e-04  \n",
      "EVAL: [0/9] Data 0.438 (0.438) Elapsed 0m 0s (remain 0m 7s) \n"
     ]
    },
    {
     "name": "stderr",
     "output_type": "stream",
     "text": [
      "labels: [11  4  3 12  3]\n",
      "pred_labels: [11  2  3 10  1]\n",
      "Epoch 24 - avg_train_loss: 0.5561  lr: 2.2880e-04  time: 56s\n",
      "Epoch 24 - Score: 0.6692\n",
      "Epoch 24 - Save Best Score: 0.6692 Model\n"
     ]
    },
    {
     "name": "stdout",
     "output_type": "stream",
     "text": [
      "EVAL: [8/9] Data 0.000 (0.049) Elapsed 0m 4s (remain 0m 0s) \n",
      "Epoch: [25][0/40] Data 0.603 (0.603) Elapsed 0m 1s (remain 1m 13s) Loss: 0.0130(0.0130) Grad Norm: 0.5711  LR: 1.9248e-04  \n",
      "Epoch: [25][39/40] Data 0.000 (0.015) Elapsed 0m 51s (remain 0m 0s) Loss: 1.0206(0.4310) Grad Norm: 5.2424  LR: 1.9248e-04  \n",
      "EVAL: [0/9] Data 0.323 (0.323) Elapsed 0m 0s (remain 0m 6s) \n"
     ]
    },
    {
     "name": "stderr",
     "output_type": "stream",
     "text": [
      "labels: [11  4  3 12  3]\n",
      "pred_labels: [11  1  3 12  3]\n",
      "Epoch 25 - avg_train_loss: 0.4310  lr: 1.9248e-04  time: 55s\n",
      "Epoch 25 - Score: 0.6231\n"
     ]
    },
    {
     "name": "stdout",
     "output_type": "stream",
     "text": [
      "EVAL: [8/9] Data 0.000 (0.036) Elapsed 0m 3s (remain 0m 0s) \n",
      "Epoch: [26][0/40] Data 0.662 (0.662) Elapsed 0m 1s (remain 1m 15s) Loss: 0.9507(0.9507) Grad Norm: 7.4183  LR: 1.5867e-04  \n",
      "Epoch: [26][39/40] Data 0.000 (0.017) Elapsed 0m 51s (remain 0m 0s) Loss: 0.9254(0.5447) Grad Norm: 5.0624  LR: 1.5867e-04  \n",
      "EVAL: [0/9] Data 0.441 (0.441) Elapsed 0m 0s (remain 0m 7s) \n"
     ]
    },
    {
     "name": "stderr",
     "output_type": "stream",
     "text": [
      "labels: [11  4  3 12  3]\n",
      "pred_labels: [11  4  3 10  1]\n",
      "Epoch 26 - avg_train_loss: 0.5447  lr: 1.5867e-04  time: 56s\n",
      "Epoch 26 - Score: 0.6231\n"
     ]
    },
    {
     "name": "stdout",
     "output_type": "stream",
     "text": [
      "EVAL: [8/9] Data 0.000 (0.049) Elapsed 0m 4s (remain 0m 0s) \n",
      "Epoch: [27][0/40] Data 0.517 (0.517) Elapsed 0m 1s (remain 1m 9s) Loss: 1.1883(1.1883) Grad Norm: 8.2537  LR: 1.2762e-04  \n",
      "Epoch: [27][39/40] Data 0.000 (0.013) Elapsed 0m 51s (remain 0m 0s) Loss: 1.0221(0.4615) Grad Norm: 7.0504  LR: 1.2762e-04  \n",
      "EVAL: [0/9] Data 0.420 (0.420) Elapsed 0m 0s (remain 0m 6s) \n"
     ]
    },
    {
     "name": "stderr",
     "output_type": "stream",
     "text": [
      "labels: [11  4  3 12  3]\n",
      "pred_labels: [11  4  3 10  1]\n",
      "Epoch 27 - avg_train_loss: 0.4615  lr: 1.2762e-04  time: 55s\n",
      "Epoch 27 - Score: 0.6462\n"
     ]
    },
    {
     "name": "stdout",
     "output_type": "stream",
     "text": [
      "EVAL: [8/9] Data 0.000 (0.047) Elapsed 0m 4s (remain 0m 0s) \n",
      "Epoch: [28][0/40] Data 0.695 (0.695) Elapsed 0m 1s (remain 1m 16s) Loss: 0.7260(0.7260) Grad Norm: 3.8089  LR: 9.9584e-05  \n",
      "Epoch: [28][39/40] Data 0.000 (0.018) Elapsed 0m 51s (remain 0m 0s) Loss: 0.9486(0.4364) Grad Norm: 4.6654  LR: 9.9584e-05  \n",
      "EVAL: [0/9] Data 0.405 (0.405) Elapsed 0m 0s (remain 0m 6s) \n"
     ]
    },
    {
     "name": "stderr",
     "output_type": "stream",
     "text": [
      "labels: [11  4  3 12  3]\n",
      "pred_labels: [11  4  3 10  1]\n",
      "Epoch 28 - avg_train_loss: 0.4364  lr: 9.9584e-05  time: 56s\n",
      "Epoch 28 - Score: 0.6154\n"
     ]
    },
    {
     "name": "stdout",
     "output_type": "stream",
     "text": [
      "EVAL: [8/9] Data 0.000 (0.045) Elapsed 0m 4s (remain 0m 0s) \n",
      "Epoch: [29][0/40] Data 0.604 (0.604) Elapsed 0m 1s (remain 1m 13s) Loss: 0.7025(0.7025) Grad Norm: 3.1934  LR: 7.4783e-05  \n",
      "Epoch: [29][39/40] Data 0.000 (0.015) Elapsed 0m 51s (remain 0m 0s) Loss: 0.7377(0.4266) Grad Norm: 6.3592  LR: 7.4783e-05  \n",
      "EVAL: [0/9] Data 0.396 (0.396) Elapsed 0m 0s (remain 0m 6s) \n"
     ]
    },
    {
     "name": "stderr",
     "output_type": "stream",
     "text": [
      "labels: [11  4  3 12  3]\n",
      "pred_labels: [11  4  3 10  3]\n",
      "Epoch 29 - avg_train_loss: 0.4266  lr: 7.4783e-05  time: 56s\n",
      "Epoch 29 - Score: 0.6385\n"
     ]
    },
    {
     "name": "stdout",
     "output_type": "stream",
     "text": [
      "EVAL: [8/9] Data 0.000 (0.044) Elapsed 0m 4s (remain 0m 0s) \n",
      "Epoch: [30][0/40] Data 0.563 (0.563) Elapsed 0m 1s (remain 1m 11s) Loss: 0.0021(0.0021) Grad Norm: 0.1959  LR: 5.3404e-05  \n",
      "Epoch: [30][39/40] Data 0.000 (0.014) Elapsed 0m 51s (remain 0m 0s) Loss: 1.1606(0.4221) Grad Norm: 6.0467  LR: 5.3404e-05  \n",
      "EVAL: [0/9] Data 0.372 (0.372) Elapsed 0m 0s (remain 0m 6s) \n"
     ]
    },
    {
     "name": "stderr",
     "output_type": "stream",
     "text": [
      "labels: [11  4  3 12  3]\n",
      "pred_labels: [11  4  3 10  3]\n",
      "Epoch 30 - avg_train_loss: 0.4221  lr: 5.3404e-05  time: 55s\n",
      "Epoch 30 - Score: 0.6308\n"
     ]
    },
    {
     "name": "stdout",
     "output_type": "stream",
     "text": [
      "EVAL: [8/9] Data 0.000 (0.042) Elapsed 0m 4s (remain 0m 0s) \n",
      "Epoch: [31][0/40] Data 0.559 (0.559) Elapsed 0m 1s (remain 1m 11s) Loss: 0.0029(0.0029) Grad Norm: 0.5379  LR: 3.5607e-05  \n",
      "Epoch: [31][39/40] Data 0.000 (0.014) Elapsed 0m 51s (remain 0m 0s) Loss: 0.0016(0.0103) Grad Norm: 0.2224  LR: 3.5607e-05  \n",
      "EVAL: [0/9] Data 0.389 (0.389) Elapsed 0m 0s (remain 0m 6s) \n"
     ]
    },
    {
     "name": "stderr",
     "output_type": "stream",
     "text": [
      "labels: [11  4  3 12  3]\n",
      "pred_labels: [11  4  3 10  3]\n",
      "Epoch 31 - avg_train_loss: 0.0103  lr: 3.5607e-05  time: 55s\n",
      "Epoch 31 - Score: 0.6231\n"
     ]
    },
    {
     "name": "stdout",
     "output_type": "stream",
     "text": [
      "EVAL: [8/9] Data 0.000 (0.044) Elapsed 0m 4s (remain 0m 0s) \n",
      "Epoch: [32][0/40] Data 0.488 (0.488) Elapsed 0m 1s (remain 1m 8s) Loss: 0.0051(0.0051) Grad Norm: 0.6917  LR: 2.1508e-05  \n",
      "Epoch: [32][39/40] Data 0.000 (0.012) Elapsed 0m 51s (remain 0m 0s) Loss: 0.0008(0.0022) Grad Norm: 0.0834  LR: 2.1508e-05  \n",
      "EVAL: [0/9] Data 0.377 (0.377) Elapsed 0m 0s (remain 0m 6s) \n"
     ]
    },
    {
     "name": "stderr",
     "output_type": "stream",
     "text": [
      "labels: [11  4  3 12  3]\n",
      "pred_labels: [11  4  3 10  3]\n",
      "Epoch 32 - avg_train_loss: 0.0022  lr: 2.1508e-05  time: 55s\n",
      "Epoch 32 - Score: 0.6231\n"
     ]
    },
    {
     "name": "stdout",
     "output_type": "stream",
     "text": [
      "EVAL: [8/9] Data 0.000 (0.042) Elapsed 0m 4s (remain 0m 0s) \n",
      "Epoch: [33][0/40] Data 0.591 (0.591) Elapsed 0m 1s (remain 1m 12s) Loss: 0.0005(0.0005) Grad Norm: 0.0207  LR: 1.1173e-05  \n",
      "Epoch: [33][39/40] Data 0.000 (0.015) Elapsed 0m 51s (remain 0m 0s) Loss: 0.0041(0.0084) Grad Norm: 0.4393  LR: 1.1173e-05  \n",
      "EVAL: [0/9] Data 0.398 (0.398) Elapsed 0m 0s (remain 0m 6s) \n"
     ]
    },
    {
     "name": "stderr",
     "output_type": "stream",
     "text": [
      "labels: [11  4  3 12  3]\n",
      "pred_labels: [11  4  3 10  3]\n",
      "Epoch 33 - avg_train_loss: 0.0084  lr: 1.1173e-05  time: 55s\n",
      "Epoch 33 - Score: 0.6308\n"
     ]
    },
    {
     "name": "stdout",
     "output_type": "stream",
     "text": [
      "EVAL: [8/9] Data 0.000 (0.044) Elapsed 0m 4s (remain 0m 0s) \n",
      "Epoch: [34][0/40] Data 0.578 (0.578) Elapsed 0m 1s (remain 1m 12s) Loss: 0.0005(0.0005) Grad Norm: 0.0535  LR: 4.5796e-06  \n",
      "Epoch: [34][39/40] Data 0.000 (0.015) Elapsed 0m 51s (remain 0m 0s) Loss: 0.0016(0.0019) Grad Norm: 0.0745  LR: 4.5796e-06  \n",
      "EVAL: [0/9] Data 0.361 (0.361) Elapsed 0m 0s (remain 0m 6s) \n"
     ]
    },
    {
     "name": "stderr",
     "output_type": "stream",
     "text": [
      "labels: [11  4  3 12  3]\n",
      "pred_labels: [11  4  3 10  3]\n",
      "Epoch 34 - avg_train_loss: 0.0019  lr: 4.5796e-06  time: 55s\n",
      "Epoch 34 - Score: 0.6308\n"
     ]
    },
    {
     "name": "stdout",
     "output_type": "stream",
     "text": [
      "EVAL: [8/9] Data 0.000 (0.040) Elapsed 0m 3s (remain 0m 0s) \n",
      "Epoch: [35][0/40] Data 0.571 (0.571) Elapsed 0m 1s (remain 1m 11s) Loss: 0.0006(0.0006) Grad Norm: 0.0194  LR: 1.5037e-06  \n",
      "Epoch: [35][39/40] Data 0.000 (0.014) Elapsed 0m 51s (remain 0m 0s) Loss: 0.0013(0.0049) Grad Norm: 0.0602  LR: 1.5037e-06  \n",
      "EVAL: [0/9] Data 0.446 (0.446) Elapsed 0m 0s (remain 0m 7s) \n"
     ]
    },
    {
     "name": "stderr",
     "output_type": "stream",
     "text": [
      "labels: [11  4  3 12  3]\n",
      "pred_labels: [11  4  3 10  3]\n",
      "Epoch 35 - avg_train_loss: 0.0049  lr: 1.5037e-06  time: 55s\n",
      "Epoch 35 - Score: 0.6308\n",
      "\n",
      "oof score: 0.6697247706422018\n",
      "\n",
      "==================== fold: 0, seed: 2 training ====================\n"
     ]
    },
    {
     "name": "stdout",
     "output_type": "stream",
     "text": [
      "EVAL: [8/9] Data 0.000 (0.050) Elapsed 0m 4s (remain 0m 0s) \n",
      "fold\n",
      "0    131\n",
      "1    131\n",
      "2    131\n",
      "3    131\n",
      "4    130\n",
      "dtype: int64\n",
      "Epoch: [1][0/40] Data 0.648 (0.648) Elapsed 0m 1s (remain 1m 15s) Loss: 2.6200(2.6200) Grad Norm: inf  LR: 1.0000e-03  \n",
      "Epoch: [1][39/40] Data 0.000 (0.016) Elapsed 0m 51s (remain 0m 0s) Loss: 2.0453(2.4491) Grad Norm: 21.5736  LR: 1.0000e-03  \n",
      "EVAL: [0/9] Data 0.444 (0.444) Elapsed 0m 0s (remain 0m 7s) \n"
     ]
    },
    {
     "name": "stderr",
     "output_type": "stream",
     "text": [
      "labels: [ 6  4  0  3 12]\n",
      "pred_labels: [2 7 2 2 2]\n",
      "Epoch 1 - avg_train_loss: 2.4491  lr: 1.0000e-03  time: 56s\n",
      "Epoch 1 - Score: 0.3282\n",
      "Epoch 1 - Save Best Score: 0.3282 Model\n"
     ]
    },
    {
     "name": "stdout",
     "output_type": "stream",
     "text": [
      "EVAL: [8/9] Data 0.000 (0.050) Elapsed 0m 4s (remain 0m 0s) \n",
      "Epoch: [2][0/40] Data 0.633 (0.633) Elapsed 0m 1s (remain 1m 15s) Loss: 2.2442(2.2442) Grad Norm: 10.8340  LR: 9.9598e-04  \n",
      "Epoch: [2][39/40] Data 0.000 (0.016) Elapsed 0m 51s (remain 0m 0s) Loss: 1.4868(1.9769) Grad Norm: 9.3681  LR: 9.9598e-04  \n",
      "EVAL: [0/9] Data 0.424 (0.424) Elapsed 0m 0s (remain 0m 6s) \n"
     ]
    },
    {
     "name": "stderr",
     "output_type": "stream",
     "text": [
      "labels: [ 6  4  0  3 12]\n",
      "pred_labels: [0 7 0 7 8]\n",
      "Epoch 2 - avg_train_loss: 1.9769  lr: 9.9598e-04  time: 56s\n",
      "Epoch 2 - Score: 0.4809\n",
      "Epoch 2 - Save Best Score: 0.4809 Model\n"
     ]
    },
    {
     "name": "stdout",
     "output_type": "stream",
     "text": [
      "EVAL: [8/9] Data 0.000 (0.047) Elapsed 0m 4s (remain 0m 0s) \n",
      "Epoch: [3][0/40] Data 0.577 (0.577) Elapsed 0m 1s (remain 1m 12s) Loss: 1.1078(1.1078) Grad Norm: 12.2822  LR: 9.8599e-04  \n",
      "Epoch: [3][39/40] Data 0.000 (0.015) Elapsed 0m 51s (remain 0m 0s) Loss: 2.1268(1.7450) Grad Norm: 14.0049  LR: 9.8599e-04  \n",
      "EVAL: [0/9] Data 0.409 (0.409) Elapsed 0m 0s (remain 0m 6s) \n"
     ]
    },
    {
     "name": "stderr",
     "output_type": "stream",
     "text": [
      "labels: [ 6  4  0  3 12]\n",
      "pred_labels: [6 8 0 7 8]\n",
      "Epoch 3 - avg_train_loss: 1.7450  lr: 9.8599e-04  time: 56s\n",
      "Epoch 3 - Score: 0.5496\n",
      "Epoch 3 - Save Best Score: 0.5496 Model\n"
     ]
    },
    {
     "name": "stdout",
     "output_type": "stream",
     "text": [
      "EVAL: [8/9] Data 0.000 (0.046) Elapsed 0m 4s (remain 0m 0s) \n",
      "Epoch: [4][0/40] Data 0.691 (0.691) Elapsed 0m 1s (remain 1m 17s) Loss: 0.7520(0.7520) Grad Norm: 9.0226  LR: 9.7213e-04  \n",
      "Epoch: [4][39/40] Data 0.000 (0.017) Elapsed 0m 51s (remain 0m 0s) Loss: 1.9030(1.4987) Grad Norm: 9.8955  LR: 9.7213e-04  \n",
      "EVAL: [0/9] Data 0.444 (0.444) Elapsed 0m 0s (remain 0m 7s) \n"
     ]
    },
    {
     "name": "stderr",
     "output_type": "stream",
     "text": [
      "labels: [ 6  4  0  3 12]\n",
      "pred_labels: [11  4  0  3  8]\n",
      "Epoch 4 - avg_train_loss: 1.4987  lr: 9.7213e-04  time: 56s\n",
      "Epoch 4 - Score: 0.5802\n",
      "Epoch 4 - Save Best Score: 0.5802 Model\n"
     ]
    },
    {
     "name": "stdout",
     "output_type": "stream",
     "text": [
      "EVAL: [8/9] Data 0.000 (0.050) Elapsed 0m 4s (remain 0m 0s) \n",
      "Epoch: [5][0/40] Data 0.658 (0.658) Elapsed 0m 1s (remain 1m 16s) Loss: 1.4052(1.4052) Grad Norm: 10.0940  LR: 9.5449e-04  \n",
      "Epoch: [5][39/40] Data 0.000 (0.017) Elapsed 0m 51s (remain 0m 0s) Loss: 1.2194(1.3401) Grad Norm: 15.3755  LR: 9.5449e-04  \n",
      "EVAL: [0/9] Data 0.407 (0.407) Elapsed 0m 0s (remain 0m 6s) \n"
     ]
    },
    {
     "name": "stderr",
     "output_type": "stream",
     "text": [
      "labels: [ 6  4  0  3 12]\n",
      "pred_labels: [11  2  0  3  8]\n",
      "Epoch 5 - avg_train_loss: 1.3401  lr: 9.5449e-04  time: 56s\n",
      "Epoch 5 - Score: 0.6031\n",
      "Epoch 5 - Save Best Score: 0.6031 Model\n"
     ]
    },
    {
     "name": "stdout",
     "output_type": "stream",
     "text": [
      "EVAL: [8/9] Data 0.000 (0.045) Elapsed 0m 4s (remain 0m 0s) \n",
      "Epoch: [6][0/40] Data 0.616 (0.616) Elapsed 0m 1s (remain 1m 14s) Loss: 0.3260(0.3260) Grad Norm: 6.5667  LR: 9.3324e-04  \n",
      "Epoch: [6][39/40] Data 0.000 (0.016) Elapsed 0m 51s (remain 0m 0s) Loss: 1.9539(1.3055) Grad Norm: 10.3442  LR: 9.3324e-04  \n",
      "EVAL: [0/9] Data 0.432 (0.432) Elapsed 0m 0s (remain 0m 7s) \n"
     ]
    },
    {
     "name": "stderr",
     "output_type": "stream",
     "text": [
      "labels: [ 6  4  0  3 12]\n",
      "pred_labels: [6 1 0 3 8]\n",
      "Epoch 6 - avg_train_loss: 1.3055  lr: 9.3324e-04  time: 56s\n",
      "Epoch 6 - Score: 0.6031\n"
     ]
    },
    {
     "name": "stdout",
     "output_type": "stream",
     "text": [
      "EVAL: [8/9] Data 0.000 (0.048) Elapsed 0m 4s (remain 0m 0s) \n",
      "Epoch: [7][0/40] Data 0.589 (0.589) Elapsed 0m 1s (remain 1m 12s) Loss: 0.2593(0.2593) Grad Norm: 4.6114  LR: 9.0853e-04  \n",
      "Epoch: [7][39/40] Data 0.000 (0.015) Elapsed 0m 51s (remain 0m 0s) Loss: 0.7609(1.2261) Grad Norm: 11.3498  LR: 9.0853e-04  \n",
      "EVAL: [0/9] Data 0.373 (0.373) Elapsed 0m 0s (remain 0m 6s) \n"
     ]
    },
    {
     "name": "stderr",
     "output_type": "stream",
     "text": [
      "labels: [ 6  4  0  3 12]\n",
      "pred_labels: [6 4 0 3 8]\n",
      "Epoch 7 - avg_train_loss: 1.2261  lr: 9.0853e-04  time: 56s\n",
      "Epoch 7 - Score: 0.6183\n",
      "Epoch 7 - Save Best Score: 0.6183 Model\n"
     ]
    },
    {
     "name": "stdout",
     "output_type": "stream",
     "text": [
      "EVAL: [8/9] Data 0.000 (0.042) Elapsed 0m 4s (remain 0m 0s) \n",
      "Epoch: [8][0/40] Data 0.630 (0.630) Elapsed 0m 1s (remain 1m 15s) Loss: 1.5135(1.5135) Grad Norm: 11.0351  LR: 8.8057e-04  \n",
      "Epoch: [8][39/40] Data 0.000 (0.016) Elapsed 0m 51s (remain 0m 0s) Loss: 1.3965(1.0100) Grad Norm: 8.3129  LR: 8.8057e-04  \n",
      "EVAL: [0/9] Data 0.430 (0.430) Elapsed 0m 0s (remain 0m 7s) \n"
     ]
    },
    {
     "name": "stderr",
     "output_type": "stream",
     "text": [
      "labels: [ 6  4  0  3 12]\n",
      "pred_labels: [11  4  0  3  8]\n",
      "Epoch 8 - avg_train_loss: 1.0100  lr: 8.8057e-04  time: 56s\n",
      "Epoch 8 - Score: 0.6336\n",
      "Epoch 8 - Save Best Score: 0.6336 Model\n"
     ]
    },
    {
     "name": "stdout",
     "output_type": "stream",
     "text": [
      "EVAL: [8/9] Data 0.000 (0.048) Elapsed 0m 4s (remain 0m 0s) \n",
      "Epoch: [9][0/40] Data 0.610 (0.610) Elapsed 0m 1s (remain 1m 14s) Loss: 0.3388(0.3388) Grad Norm: 6.8534  LR: 8.4958e-04  \n",
      "Epoch: [9][39/40] Data 0.000 (0.015) Elapsed 0m 51s (remain 0m 0s) Loss: 0.2359(0.8954) Grad Norm: 6.6669  LR: 8.4958e-04  \n",
      "EVAL: [0/9] Data 0.465 (0.465) Elapsed 0m 0s (remain 0m 7s) \n"
     ]
    },
    {
     "name": "stderr",
     "output_type": "stream",
     "text": [
      "labels: [ 6  4  0  3 12]\n",
      "pred_labels: [0 4 0 4 9]\n",
      "Epoch 9 - avg_train_loss: 0.8954  lr: 8.4958e-04  time: 56s\n",
      "Epoch 9 - Score: 0.6489\n",
      "Epoch 9 - Save Best Score: 0.6489 Model\n"
     ]
    },
    {
     "name": "stdout",
     "output_type": "stream",
     "text": [
      "EVAL: [8/9] Data 0.000 (0.052) Elapsed 0m 4s (remain 0m 0s) \n",
      "Epoch: [10][0/40] Data 0.522 (0.522) Elapsed 0m 1s (remain 1m 10s) Loss: 0.3413(0.3413) Grad Norm: 7.9951  LR: 8.1581e-04  \n",
      "Epoch: [10][39/40] Data 0.000 (0.013) Elapsed 0m 51s (remain 0m 0s) Loss: 1.4318(0.9263) Grad Norm: 6.9198  LR: 8.1581e-04  \n",
      "EVAL: [0/9] Data 0.359 (0.359) Elapsed 0m 0s (remain 0m 6s) \n"
     ]
    },
    {
     "name": "stderr",
     "output_type": "stream",
     "text": [
      "labels: [ 6  4  0  3 12]\n",
      "pred_labels: [6 4 0 3 9]\n",
      "Epoch 10 - avg_train_loss: 0.9263  lr: 8.1581e-04  time: 56s\n",
      "Epoch 10 - Score: 0.6183\n"
     ]
    },
    {
     "name": "stdout",
     "output_type": "stream",
     "text": [
      "EVAL: [8/9] Data 0.000 (0.040) Elapsed 0m 4s (remain 0m 0s) \n",
      "Epoch: [11][0/40] Data 0.647 (0.647) Elapsed 0m 1s (remain 1m 14s) Loss: 0.3440(0.3440) Grad Norm: 8.7139  LR: 7.7953e-04  \n",
      "Epoch: [11][39/40] Data 0.000 (0.016) Elapsed 0m 51s (remain 0m 0s) Loss: 0.7238(0.9196) Grad Norm: 15.0826  LR: 7.7953e-04  \n",
      "EVAL: [0/9] Data 0.387 (0.387) Elapsed 0m 0s (remain 0m 6s) \n"
     ]
    },
    {
     "name": "stderr",
     "output_type": "stream",
     "text": [
      "labels: [ 6  4  0  3 12]\n",
      "pred_labels: [0 1 0 3 9]\n",
      "Epoch 11 - avg_train_loss: 0.9196  lr: 7.7953e-04  time: 56s\n",
      "Epoch 11 - Score: 0.5725\n"
     ]
    },
    {
     "name": "stdout",
     "output_type": "stream",
     "text": [
      "EVAL: [8/9] Data 0.000 (0.043) Elapsed 0m 4s (remain 0m 0s) \n",
      "Epoch: [12][0/40] Data 0.592 (0.592) Elapsed 0m 1s (remain 1m 12s) Loss: 0.1312(0.1312) Grad Norm: 4.0318  LR: 7.4103e-04  \n",
      "Epoch: [12][39/40] Data 0.000 (0.015) Elapsed 0m 51s (remain 0m 0s) Loss: 0.4158(0.9103) Grad Norm: 11.7702  LR: 7.4103e-04  \n",
      "EVAL: [0/9] Data 0.436 (0.436) Elapsed 0m 0s (remain 0m 7s) \n"
     ]
    },
    {
     "name": "stderr",
     "output_type": "stream",
     "text": [
      "labels: [ 6  4  0  3 12]\n",
      "pred_labels: [ 6  4  0  3 10]\n",
      "Epoch 12 - avg_train_loss: 0.9103  lr: 7.4103e-04  time: 56s\n",
      "Epoch 12 - Score: 0.6260\n"
     ]
    },
    {
     "name": "stdout",
     "output_type": "stream",
     "text": [
      "EVAL: [8/9] Data 0.000 (0.049) Elapsed 0m 4s (remain 0m 0s) \n",
      "Epoch: [13][0/40] Data 0.585 (0.585) Elapsed 0m 1s (remain 1m 12s) Loss: 0.9546(0.9546) Grad Norm: 14.8889  LR: 7.0063e-04  \n",
      "Epoch: [13][39/40] Data 0.000 (0.015) Elapsed 0m 51s (remain 0m 0s) Loss: 1.5581(0.8105) Grad Norm: 8.8281  LR: 7.0063e-04  \n",
      "EVAL: [0/9] Data 0.397 (0.397) Elapsed 0m 0s (remain 0m 6s) \n"
     ]
    },
    {
     "name": "stderr",
     "output_type": "stream",
     "text": [
      "labels: [ 6  4  0  3 12]\n",
      "pred_labels: [6 4 0 3 9]\n",
      "Epoch 13 - avg_train_loss: 0.8105  lr: 7.0063e-04  time: 56s\n",
      "Epoch 13 - Score: 0.6336\n"
     ]
    },
    {
     "name": "stdout",
     "output_type": "stream",
     "text": [
      "EVAL: [8/9] Data 0.000 (0.044) Elapsed 0m 4s (remain 0m 0s) \n",
      "Epoch: [14][0/40] Data 0.571 (0.571) Elapsed 0m 1s (remain 1m 11s) Loss: 0.0942(0.0942) Grad Norm: 4.2731  LR: 6.5865e-04  \n",
      "Epoch: [14][39/40] Data 0.000 (0.014) Elapsed 0m 51s (remain 0m 0s) Loss: 0.1968(0.6933) Grad Norm: 10.2340  LR: 6.5865e-04  \n",
      "EVAL: [0/9] Data 0.466 (0.466) Elapsed 0m 0s (remain 0m 7s) \n"
     ]
    },
    {
     "name": "stderr",
     "output_type": "stream",
     "text": [
      "labels: [ 6  4  0  3 12]\n",
      "pred_labels: [ 6 10  0  3 10]\n",
      "Epoch 14 - avg_train_loss: 0.6933  lr: 6.5865e-04  time: 56s\n",
      "Epoch 14 - Score: 0.6107\n"
     ]
    },
    {
     "name": "stdout",
     "output_type": "stream",
     "text": [
      "EVAL: [8/9] Data 0.000 (0.052) Elapsed 0m 4s (remain 0m 0s) \n",
      "Epoch: [15][0/40] Data 0.664 (0.664) Elapsed 0m 1s (remain 1m 15s) Loss: 0.9928(0.9928) Grad Norm: 5.6018  LR: 6.1542e-04  \n",
      "Epoch: [15][39/40] Data 0.000 (0.017) Elapsed 0m 51s (remain 0m 0s) Loss: 0.0777(0.7468) Grad Norm: 5.2602  LR: 6.1542e-04  \n",
      "EVAL: [0/9] Data 0.380 (0.380) Elapsed 0m 0s (remain 0m 6s) \n"
     ]
    },
    {
     "name": "stderr",
     "output_type": "stream",
     "text": [
      "labels: [ 6  4  0  3 12]\n",
      "pred_labels: [6 1 0 3 8]\n",
      "Epoch 15 - avg_train_loss: 0.7468  lr: 6.1542e-04  time: 56s\n",
      "Epoch 15 - Score: 0.6031\n"
     ]
    },
    {
     "name": "stdout",
     "output_type": "stream",
     "text": [
      "EVAL: [8/9] Data 0.000 (0.042) Elapsed 0m 4s (remain 0m 0s) \n",
      "Epoch: [16][0/40] Data 0.621 (0.621) Elapsed 0m 1s (remain 1m 13s) Loss: 0.0367(0.0367) Grad Norm: 1.9785  LR: 5.7130e-04  \n",
      "Epoch: [16][39/40] Data 0.000 (0.016) Elapsed 0m 51s (remain 0m 0s) Loss: 0.3861(0.7294) Grad Norm: 12.1641  LR: 5.7130e-04  \n",
      "EVAL: [0/9] Data 0.347 (0.347) Elapsed 0m 0s (remain 0m 6s) \n"
     ]
    },
    {
     "name": "stderr",
     "output_type": "stream",
     "text": [
      "labels: [ 6  4  0  3 12]\n",
      "pred_labels: [11  4  0  3 10]\n",
      "Epoch 16 - avg_train_loss: 0.7294  lr: 5.7130e-04  time: 56s\n",
      "Epoch 16 - Score: 0.6031\n"
     ]
    },
    {
     "name": "stdout",
     "output_type": "stream",
     "text": [
      "EVAL: [8/9] Data 0.000 (0.039) Elapsed 0m 4s (remain 0m 0s) \n",
      "Epoch: [17][0/40] Data 0.678 (0.678) Elapsed 0m 1s (remain 1m 15s) Loss: 0.0243(0.0243) Grad Norm: 0.9468  LR: 5.2663e-04  \n",
      "Epoch: [17][39/40] Data 0.000 (0.017) Elapsed 0m 51s (remain 0m 0s) Loss: 1.3730(0.7521) Grad Norm: 17.0915  LR: 5.2663e-04  \n",
      "EVAL: [0/9] Data 0.424 (0.424) Elapsed 0m 0s (remain 0m 6s) \n"
     ]
    },
    {
     "name": "stderr",
     "output_type": "stream",
     "text": [
      "labels: [ 6  4  0  3 12]\n",
      "pred_labels: [11  4  0  3 12]\n",
      "Epoch 17 - avg_train_loss: 0.7521  lr: 5.2663e-04  time: 56s\n",
      "Epoch 17 - Score: 0.6031\n"
     ]
    },
    {
     "name": "stdout",
     "output_type": "stream",
     "text": [
      "EVAL: [8/9] Data 0.000 (0.047) Elapsed 0m 4s (remain 0m 0s) \n",
      "Epoch: [18][0/40] Data 0.611 (0.611) Elapsed 0m 1s (remain 1m 13s) Loss: 1.1275(1.1275) Grad Norm: 5.2534  LR: 4.8179e-04  \n",
      "Epoch: [18][39/40] Data 0.000 (0.015) Elapsed 0m 51s (remain 0m 0s) Loss: 0.5213(0.6907) Grad Norm: 16.2699  LR: 4.8179e-04  \n",
      "EVAL: [0/9] Data 0.408 (0.408) Elapsed 0m 0s (remain 0m 6s) \n"
     ]
    },
    {
     "name": "stderr",
     "output_type": "stream",
     "text": [
      "labels: [ 6  4  0  3 12]\n",
      "pred_labels: [0 4 0 3 9]\n",
      "Epoch 18 - avg_train_loss: 0.6907  lr: 4.8179e-04  time: 56s\n",
      "Epoch 18 - Score: 0.6031\n"
     ]
    },
    {
     "name": "stdout",
     "output_type": "stream",
     "text": [
      "EVAL: [8/9] Data 0.000 (0.046) Elapsed 0m 4s (remain 0m 0s) \n",
      "Epoch: [19][0/40] Data 0.584 (0.584) Elapsed 0m 1s (remain 1m 12s) Loss: 1.3043(1.3043) Grad Norm: 6.1387  LR: 4.3712e-04  \n",
      "Epoch: [19][39/40] Data 0.000 (0.015) Elapsed 0m 51s (remain 0m 0s) Loss: 1.0387(0.6553) Grad Norm: 7.0917  LR: 4.3712e-04  \n",
      "EVAL: [0/9] Data 0.375 (0.375) Elapsed 0m 0s (remain 0m 6s) \n"
     ]
    },
    {
     "name": "stderr",
     "output_type": "stream",
     "text": [
      "labels: [ 6  4  0  3 12]\n",
      "pred_labels: [ 2  4  0  3 10]\n",
      "Epoch 19 - avg_train_loss: 0.6553  lr: 4.3712e-04  time: 56s\n",
      "Epoch 19 - Score: 0.6412\n"
     ]
    },
    {
     "name": "stdout",
     "output_type": "stream",
     "text": [
      "EVAL: [8/9] Data 0.000 (0.042) Elapsed 0m 4s (remain 0m 0s) \n",
      "Epoch: [20][0/40] Data 0.615 (0.615) Elapsed 0m 1s (remain 1m 14s) Loss: 0.9288(0.9288) Grad Norm: 4.9555  LR: 3.9299e-04  \n",
      "Epoch: [20][39/40] Data 0.000 (0.016) Elapsed 0m 51s (remain 0m 0s) Loss: 0.0190(0.6484) Grad Norm: 1.5617  LR: 3.9299e-04  \n",
      "EVAL: [0/9] Data 0.395 (0.395) Elapsed 0m 0s (remain 0m 6s) \n"
     ]
    },
    {
     "name": "stderr",
     "output_type": "stream",
     "text": [
      "labels: [ 6  4  0  3 12]\n",
      "pred_labels: [2 1 0 3 9]\n",
      "Epoch 20 - avg_train_loss: 0.6484  lr: 3.9299e-04  time: 56s\n",
      "Epoch 20 - Score: 0.6107\n"
     ]
    },
    {
     "name": "stdout",
     "output_type": "stream",
     "text": [
      "EVAL: [8/9] Data 0.000 (0.044) Elapsed 0m 4s (remain 0m 0s) \n",
      "Epoch: [21][0/40] Data 0.647 (0.647) Elapsed 0m 1s (remain 1m 14s) Loss: 0.0206(0.0206) Grad Norm: 1.0190  LR: 3.4975e-04  \n",
      "Epoch: [21][39/40] Data 0.000 (0.016) Elapsed 0m 51s (remain 0m 0s) Loss: 0.0749(0.4829) Grad Norm: 7.8371  LR: 3.4975e-04  \n",
      "EVAL: [0/9] Data 0.348 (0.348) Elapsed 0m 0s (remain 0m 6s) \n"
     ]
    },
    {
     "name": "stderr",
     "output_type": "stream",
     "text": [
      "labels: [ 6  4  0  3 12]\n",
      "pred_labels: [6 4 0 3 9]\n",
      "Epoch 21 - avg_train_loss: 0.4829  lr: 3.4975e-04  time: 56s\n",
      "Epoch 21 - Score: 0.6412\n"
     ]
    },
    {
     "name": "stdout",
     "output_type": "stream",
     "text": [
      "EVAL: [8/9] Data 0.000 (0.039) Elapsed 0m 4s (remain 0m 0s) \n",
      "Epoch: [22][0/40] Data 0.589 (0.589) Elapsed 0m 1s (remain 1m 12s) Loss: 0.9788(0.9788) Grad Norm: 5.0352  LR: 3.0775e-04  \n",
      "Epoch: [22][39/40] Data 0.000 (0.015) Elapsed 0m 51s (remain 0m 0s) Loss: 1.3796(0.6196) Grad Norm: 9.5554  LR: 3.0775e-04  \n",
      "EVAL: [0/9] Data 0.440 (0.440) Elapsed 0m 0s (remain 0m 7s) \n"
     ]
    },
    {
     "name": "stderr",
     "output_type": "stream",
     "text": [
      "labels: [ 6  4  0  3 12]\n",
      "pred_labels: [6 1 0 3 9]\n",
      "Epoch 22 - avg_train_loss: 0.6196  lr: 3.0775e-04  time: 56s\n",
      "Epoch 22 - Score: 0.6107\n"
     ]
    },
    {
     "name": "stdout",
     "output_type": "stream",
     "text": [
      "EVAL: [8/9] Data 0.000 (0.049) Elapsed 0m 4s (remain 0m 0s) \n",
      "Epoch: [23][0/40] Data 0.580 (0.580) Elapsed 0m 1s (remain 1m 12s) Loss: 0.9617(0.9617) Grad Norm: 4.4676  LR: 2.6732e-04  \n",
      "Epoch: [23][39/40] Data 0.000 (0.015) Elapsed 0m 51s (remain 0m 0s) Loss: 0.0064(0.4673) Grad Norm: 0.3764  LR: 2.6732e-04  \n",
      "EVAL: [0/9] Data 0.410 (0.410) Elapsed 0m 0s (remain 0m 6s) \n"
     ]
    },
    {
     "name": "stderr",
     "output_type": "stream",
     "text": [
      "labels: [ 6  4  0  3 12]\n",
      "pred_labels: [0 1 0 3 9]\n",
      "Epoch 23 - avg_train_loss: 0.4673  lr: 2.6732e-04  time: 56s\n",
      "Epoch 23 - Score: 0.6183\n"
     ]
    },
    {
     "name": "stdout",
     "output_type": "stream",
     "text": [
      "EVAL: [8/9] Data 0.000 (0.046) Elapsed 0m 4s (remain 0m 0s) \n",
      "Epoch: [24][0/40] Data 0.562 (0.562) Elapsed 0m 1s (remain 1m 11s) Loss: 1.0192(1.0192) Grad Norm: 5.7393  LR: 2.2880e-04  \n",
      "Epoch: [24][39/40] Data 0.000 (0.014) Elapsed 0m 51s (remain 0m 0s) Loss: 0.0016(0.5295) Grad Norm: 0.0789  LR: 2.2880e-04  \n",
      "EVAL: [0/9] Data 0.410 (0.410) Elapsed 0m 0s (remain 0m 6s) \n"
     ]
    },
    {
     "name": "stderr",
     "output_type": "stream",
     "text": [
      "labels: [ 6  4  0  3 12]\n",
      "pred_labels: [6 4 0 3 9]\n",
      "Epoch 24 - avg_train_loss: 0.5295  lr: 2.2880e-04  time: 56s\n",
      "Epoch 24 - Score: 0.6641\n",
      "Epoch 24 - Save Best Score: 0.6641 Model\n"
     ]
    },
    {
     "name": "stdout",
     "output_type": "stream",
     "text": [
      "EVAL: [8/9] Data 0.000 (0.046) Elapsed 0m 4s (remain 0m 0s) \n",
      "Epoch: [25][0/40] Data 0.567 (0.567) Elapsed 0m 1s (remain 1m 12s) Loss: 0.9511(0.9511) Grad Norm: 5.0749  LR: 1.9248e-04  \n",
      "Epoch: [25][39/40] Data 0.000 (0.014) Elapsed 0m 51s (remain 0m 0s) Loss: 0.1017(0.5432) Grad Norm: 6.2066  LR: 1.9248e-04  \n",
      "EVAL: [0/9] Data 0.397 (0.397) Elapsed 0m 0s (remain 0m 6s) \n"
     ]
    },
    {
     "name": "stderr",
     "output_type": "stream",
     "text": [
      "labels: [ 6  4  0  3 12]\n",
      "pred_labels: [6 4 0 3 9]\n",
      "Epoch 25 - avg_train_loss: 0.5432  lr: 1.9248e-04  time: 56s\n",
      "Epoch 25 - Score: 0.6641\n"
     ]
    },
    {
     "name": "stdout",
     "output_type": "stream",
     "text": [
      "EVAL: [8/9] Data 0.000 (0.044) Elapsed 0m 4s (remain 0m 0s) \n",
      "Epoch: [26][0/40] Data 0.640 (0.640) Elapsed 0m 1s (remain 1m 14s) Loss: 0.0069(0.0069) Grad Norm: 0.7852  LR: 1.5867e-04  \n",
      "Epoch: [26][39/40] Data 0.000 (0.016) Elapsed 0m 51s (remain 0m 0s) Loss: 0.0004(0.3421) Grad Norm: 0.0107  LR: 1.5867e-04  \n",
      "EVAL: [0/9] Data 0.339 (0.339) Elapsed 0m 0s (remain 0m 6s) \n"
     ]
    },
    {
     "name": "stderr",
     "output_type": "stream",
     "text": [
      "labels: [ 6  4  0  3 12]\n",
      "pred_labels: [6 4 0 3 9]\n",
      "Epoch 26 - avg_train_loss: 0.3421  lr: 1.5867e-04  time: 56s\n",
      "Epoch 26 - Score: 0.6565\n"
     ]
    },
    {
     "name": "stdout",
     "output_type": "stream",
     "text": [
      "EVAL: [8/9] Data 0.000 (0.038) Elapsed 0m 4s (remain 0m 0s) \n",
      "Epoch: [27][0/40] Data 0.522 (0.522) Elapsed 0m 1s (remain 1m 10s) Loss: 0.0491(0.0491) Grad Norm: 6.1000  LR: 1.2762e-04  \n",
      "Epoch: [27][39/40] Data 0.000 (0.013) Elapsed 0m 51s (remain 0m 0s) Loss: 0.6418(0.4548) Grad Norm: 23.5255  LR: 1.2762e-04  \n",
      "EVAL: [0/9] Data 0.432 (0.432) Elapsed 0m 0s (remain 0m 7s) \n"
     ]
    },
    {
     "name": "stderr",
     "output_type": "stream",
     "text": [
      "labels: [ 6  4  0  3 12]\n",
      "pred_labels: [6 4 0 3 9]\n",
      "Epoch 27 - avg_train_loss: 0.4548  lr: 1.2762e-04  time: 56s\n",
      "Epoch 27 - Score: 0.6489\n"
     ]
    },
    {
     "name": "stdout",
     "output_type": "stream",
     "text": [
      "EVAL: [8/9] Data 0.000 (0.048) Elapsed 0m 4s (remain 0m 0s) \n",
      "Epoch: [28][0/40] Data 0.543 (0.543) Elapsed 0m 1s (remain 1m 10s) Loss: 0.0274(0.0274) Grad Norm: 1.4982  LR: 9.9584e-05  \n",
      "Epoch: [28][39/40] Data 0.000 (0.014) Elapsed 0m 51s (remain 0m 0s) Loss: 0.9814(0.4136) Grad Norm: 7.2330  LR: 9.9584e-05  \n",
      "EVAL: [0/9] Data 0.399 (0.399) Elapsed 0m 0s (remain 0m 6s) \n"
     ]
    },
    {
     "name": "stderr",
     "output_type": "stream",
     "text": [
      "labels: [ 6  4  0  3 12]\n",
      "pred_labels: [6 2 0 3 9]\n",
      "Epoch 28 - avg_train_loss: 0.4136  lr: 9.9584e-05  time: 56s\n",
      "Epoch 28 - Score: 0.6718\n",
      "Epoch 28 - Save Best Score: 0.6718 Model\n"
     ]
    },
    {
     "name": "stdout",
     "output_type": "stream",
     "text": [
      "EVAL: [8/9] Data 0.000 (0.045) Elapsed 0m 4s (remain 0m 0s) \n",
      "Epoch: [29][0/40] Data 0.640 (0.640) Elapsed 0m 1s (remain 1m 15s) Loss: 0.0042(0.0042) Grad Norm: 0.3235  LR: 7.4783e-05  \n",
      "Epoch: [29][39/40] Data 0.000 (0.016) Elapsed 0m 51s (remain 0m 0s) Loss: 0.8161(0.4361) Grad Norm: 4.0477  LR: 7.4783e-05  \n",
      "EVAL: [0/9] Data 0.378 (0.378) Elapsed 0m 0s (remain 0m 6s) \n"
     ]
    },
    {
     "name": "stderr",
     "output_type": "stream",
     "text": [
      "labels: [ 6  4  0  3 12]\n",
      "pred_labels: [6 4 0 3 9]\n",
      "Epoch 29 - avg_train_loss: 0.4361  lr: 7.4783e-05  time: 56s\n",
      "Epoch 29 - Score: 0.6489\n"
     ]
    },
    {
     "name": "stdout",
     "output_type": "stream",
     "text": [
      "EVAL: [8/9] Data 0.000 (0.042) Elapsed 0m 4s (remain 0m 0s) \n",
      "Epoch: [30][0/40] Data 0.639 (0.639) Elapsed 0m 1s (remain 1m 14s) Loss: 0.0098(0.0098) Grad Norm: 0.9058  LR: 5.3404e-05  \n",
      "Epoch: [30][39/40] Data 0.000 (0.016) Elapsed 0m 51s (remain 0m 0s) Loss: 0.1112(0.4995) Grad Norm: 4.7393  LR: 5.3404e-05  \n",
      "EVAL: [0/9] Data 0.368 (0.368) Elapsed 0m 0s (remain 0m 6s) \n"
     ]
    },
    {
     "name": "stderr",
     "output_type": "stream",
     "text": [
      "labels: [ 6  4  0  3 12]\n",
      "pred_labels: [6 4 0 3 9]\n",
      "Epoch 30 - avg_train_loss: 0.4995  lr: 5.3404e-05  time: 56s\n",
      "Epoch 30 - Score: 0.6641\n"
     ]
    },
    {
     "name": "stdout",
     "output_type": "stream",
     "text": [
      "EVAL: [8/9] Data 0.000 (0.041) Elapsed 0m 4s (remain 0m 0s) \n",
      "Epoch: [31][0/40] Data 0.606 (0.606) Elapsed 0m 1s (remain 1m 13s) Loss: 0.0059(0.0059) Grad Norm: 0.3401  LR: 3.5607e-05  \n",
      "Epoch: [31][39/40] Data 0.000 (0.015) Elapsed 0m 51s (remain 0m 0s) Loss: 0.0010(0.0042) Grad Norm: 0.0434  LR: 3.5607e-05  \n",
      "EVAL: [0/9] Data 0.425 (0.425) Elapsed 0m 0s (remain 0m 6s) \n"
     ]
    },
    {
     "name": "stderr",
     "output_type": "stream",
     "text": [
      "labels: [ 6  4  0  3 12]\n",
      "pred_labels: [0 4 0 3 9]\n",
      "Epoch 31 - avg_train_loss: 0.0042  lr: 3.5607e-05  time: 56s\n",
      "Epoch 31 - Score: 0.6565\n"
     ]
    },
    {
     "name": "stdout",
     "output_type": "stream",
     "text": [
      "EVAL: [8/9] Data 0.000 (0.047) Elapsed 0m 4s (remain 0m 0s) \n",
      "Epoch: [32][0/40] Data 0.660 (0.660) Elapsed 0m 1s (remain 1m 15s) Loss: 0.0042(0.0042) Grad Norm: 0.1793  LR: 2.1508e-05  \n",
      "Epoch: [32][39/40] Data 0.000 (0.017) Elapsed 0m 51s (remain 0m 0s) Loss: 0.0009(0.0021) Grad Norm: 0.0502  LR: 2.1508e-05  \n",
      "EVAL: [0/9] Data 0.391 (0.391) Elapsed 0m 0s (remain 0m 6s) \n"
     ]
    },
    {
     "name": "stderr",
     "output_type": "stream",
     "text": [
      "labels: [ 6  4  0  3 12]\n",
      "pred_labels: [0 4 0 3 9]\n",
      "Epoch 32 - avg_train_loss: 0.0021  lr: 2.1508e-05  time: 56s\n",
      "Epoch 32 - Score: 0.6565\n"
     ]
    },
    {
     "name": "stdout",
     "output_type": "stream",
     "text": [
      "EVAL: [8/9] Data 0.000 (0.044) Elapsed 0m 4s (remain 0m 0s) \n",
      "Epoch: [33][0/40] Data 0.557 (0.557) Elapsed 0m 1s (remain 1m 11s) Loss: 0.0005(0.0005) Grad Norm: 0.0326  LR: 1.1173e-05  \n",
      "Epoch: [33][39/40] Data 0.000 (0.014) Elapsed 0m 51s (remain 0m 0s) Loss: 0.0026(0.0039) Grad Norm: 0.1085  LR: 1.1173e-05  \n",
      "EVAL: [0/9] Data 0.350 (0.350) Elapsed 0m 0s (remain 0m 6s) \n"
     ]
    },
    {
     "name": "stderr",
     "output_type": "stream",
     "text": [
      "labels: [ 6  4  0  3 12]\n",
      "pred_labels: [0 4 0 3 9]\n",
      "Epoch 33 - avg_train_loss: 0.0039  lr: 1.1173e-05  time: 55s\n",
      "Epoch 33 - Score: 0.6565\n"
     ]
    },
    {
     "name": "stdout",
     "output_type": "stream",
     "text": [
      "EVAL: [8/9] Data 0.000 (0.039) Elapsed 0m 4s (remain 0m 0s) \n",
      "Epoch: [34][0/40] Data 0.610 (0.610) Elapsed 0m 1s (remain 1m 13s) Loss: 0.0008(0.0008) Grad Norm: 0.0422  LR: 4.5796e-06  \n",
      "Epoch: [34][39/40] Data 0.000 (0.015) Elapsed 0m 51s (remain 0m 0s) Loss: 0.0005(0.0032) Grad Norm: 0.0815  LR: 4.5796e-06  \n",
      "EVAL: [0/9] Data 0.454 (0.454) Elapsed 0m 0s (remain 0m 7s) \n"
     ]
    },
    {
     "name": "stderr",
     "output_type": "stream",
     "text": [
      "labels: [ 6  4  0  3 12]\n",
      "pred_labels: [0 4 0 3 9]\n",
      "Epoch 34 - avg_train_loss: 0.0032  lr: 4.5796e-06  time: 56s\n",
      "Epoch 34 - Score: 0.6565\n"
     ]
    },
    {
     "name": "stdout",
     "output_type": "stream",
     "text": [
      "EVAL: [8/9] Data 0.000 (0.051) Elapsed 0m 4s (remain 0m 0s) \n",
      "Epoch: [35][0/40] Data 0.543 (0.543) Elapsed 0m 1s (remain 1m 10s) Loss: 0.0004(0.0004) Grad Norm: 0.0328  LR: 1.5037e-06  \n",
      "Epoch: [35][39/40] Data 0.000 (0.014) Elapsed 0m 51s (remain 0m 0s) Loss: 0.0008(0.0054) Grad Norm: 0.0346  LR: 1.5037e-06  \n",
      "EVAL: [0/9] Data 0.394 (0.394) Elapsed 0m 0s (remain 0m 6s) \n"
     ]
    },
    {
     "name": "stderr",
     "output_type": "stream",
     "text": [
      "labels: [ 6  4  0  3 12]\n",
      "pred_labels: [0 4 0 3 9]\n",
      "Epoch 35 - avg_train_loss: 0.0054  lr: 1.5037e-06  time: 55s\n",
      "Epoch 35 - Score: 0.6565\n",
      "==================== fold: 1, seed: 2 training ====================\n"
     ]
    },
    {
     "name": "stdout",
     "output_type": "stream",
     "text": [
      "EVAL: [8/9] Data 0.000 (0.044) Elapsed 0m 4s (remain 0m 0s) \n",
      "Epoch: [1][0/40] Data 0.631 (0.631) Elapsed 0m 1s (remain 1m 14s) Loss: 2.8109(2.8109) Grad Norm: inf  LR: 1.0000e-03  \n",
      "Epoch: [1][39/40] Data 0.000 (0.016) Elapsed 0m 51s (remain 0m 0s) Loss: 2.1639(2.5197) Grad Norm: 9.3668  LR: 1.0000e-03  \n",
      "EVAL: [0/9] Data 0.408 (0.408) Elapsed 0m 0s (remain 0m 6s) \n"
     ]
    },
    {
     "name": "stderr",
     "output_type": "stream",
     "text": [
      "labels: [ 2  4  2  2 12]\n",
      "pred_labels: [2 9 9 2 2]\n",
      "Epoch 1 - avg_train_loss: 2.5197  lr: 1.0000e-03  time: 56s\n",
      "Epoch 1 - Score: 0.2977\n",
      "Epoch 1 - Save Best Score: 0.2977 Model\n"
     ]
    },
    {
     "name": "stdout",
     "output_type": "stream",
     "text": [
      "EVAL: [8/9] Data 0.000 (0.046) Elapsed 0m 4s (remain 0m 0s) \n",
      "Epoch: [2][0/40] Data 0.596 (0.596) Elapsed 0m 1s (remain 1m 13s) Loss: 2.0020(2.0020) Grad Norm: 10.3455  LR: 9.9598e-04  \n",
      "Epoch: [2][39/40] Data 0.000 (0.015) Elapsed 0m 51s (remain 0m 0s) Loss: 1.7690(2.1375) Grad Norm: 9.5945  LR: 9.9598e-04  \n",
      "EVAL: [0/9] Data 0.347 (0.347) Elapsed 0m 0s (remain 0m 6s) \n"
     ]
    },
    {
     "name": "stderr",
     "output_type": "stream",
     "text": [
      "labels: [ 2  4  2  2 12]\n",
      "pred_labels: [2 7 6 2 9]\n",
      "Epoch 2 - avg_train_loss: 2.1375  lr: 9.9598e-04  time: 56s\n",
      "Epoch 2 - Score: 0.5115\n",
      "Epoch 2 - Save Best Score: 0.5115 Model\n"
     ]
    },
    {
     "name": "stdout",
     "output_type": "stream",
     "text": [
      "EVAL: [8/9] Data 0.000 (0.039) Elapsed 0m 4s (remain 0m 0s) \n",
      "Epoch: [3][0/40] Data 0.592 (0.592) Elapsed 0m 1s (remain 1m 13s) Loss: 1.7595(1.7595) Grad Norm: 10.4022  LR: 9.8599e-04  \n",
      "Epoch: [3][39/40] Data 0.000 (0.015) Elapsed 0m 51s (remain 0m 0s) Loss: 1.9132(1.7611) Grad Norm: 7.3924  LR: 9.8599e-04  \n",
      "EVAL: [0/9] Data 0.347 (0.347) Elapsed 0m 0s (remain 0m 6s) \n"
     ]
    },
    {
     "name": "stderr",
     "output_type": "stream",
     "text": [
      "labels: [ 2  4  2  2 12]\n",
      "pred_labels: [2 0 0 2 0]\n",
      "Epoch 3 - avg_train_loss: 1.7611  lr: 9.8599e-04  time: 56s\n",
      "Epoch 3 - Score: 0.5954\n",
      "Epoch 3 - Save Best Score: 0.5954 Model\n"
     ]
    },
    {
     "name": "stdout",
     "output_type": "stream",
     "text": [
      "EVAL: [8/9] Data 0.000 (0.039) Elapsed 0m 4s (remain 0m 0s) \n",
      "Epoch: [4][0/40] Data 0.602 (0.602) Elapsed 0m 1s (remain 1m 13s) Loss: 1.8880(1.8880) Grad Norm: 7.6285  LR: 9.7213e-04  \n",
      "Epoch: [4][39/40] Data 0.000 (0.015) Elapsed 0m 51s (remain 0m 0s) Loss: 0.5807(1.5311) Grad Norm: 9.6402  LR: 9.7213e-04  \n",
      "EVAL: [0/9] Data 0.361 (0.361) Elapsed 0m 0s (remain 0m 6s) \n"
     ]
    },
    {
     "name": "stderr",
     "output_type": "stream",
     "text": [
      "labels: [ 2  4  2  2 12]\n",
      "pred_labels: [2 0 5 7 9]\n",
      "Epoch 4 - avg_train_loss: 1.5311  lr: 9.7213e-04  time: 56s\n",
      "Epoch 4 - Score: 0.5954\n"
     ]
    },
    {
     "name": "stdout",
     "output_type": "stream",
     "text": [
      "EVAL: [8/9] Data 0.000 (0.040) Elapsed 0m 4s (remain 0m 0s) \n",
      "Epoch: [5][0/40] Data 0.520 (0.520) Elapsed 0m 1s (remain 1m 10s) Loss: 1.9728(1.9728) Grad Norm: 8.9779  LR: 9.5449e-04  \n",
      "Epoch: [5][39/40] Data 0.000 (0.013) Elapsed 0m 51s (remain 0m 0s) Loss: 1.8280(1.4934) Grad Norm: 6.8500  LR: 9.5449e-04  \n",
      "EVAL: [0/9] Data 0.361 (0.361) Elapsed 0m 0s (remain 0m 6s) \n"
     ]
    },
    {
     "name": "stderr",
     "output_type": "stream",
     "text": [
      "labels: [ 2  4  2  2 12]\n",
      "pred_labels: [ 2  4  5  2 11]\n",
      "Epoch 5 - avg_train_loss: 1.4934  lr: 9.5449e-04  time: 56s\n",
      "Epoch 5 - Score: 0.6031\n",
      "Epoch 5 - Save Best Score: 0.6031 Model\n"
     ]
    },
    {
     "name": "stdout",
     "output_type": "stream",
     "text": [
      "EVAL: [8/9] Data 0.000 (0.040) Elapsed 0m 4s (remain 0m 0s) \n",
      "Epoch: [6][0/40] Data 0.565 (0.565) Elapsed 0m 1s (remain 1m 12s) Loss: 1.7049(1.7049) Grad Norm: 9.4724  LR: 9.3324e-04  \n",
      "Epoch: [6][39/40] Data 0.000 (0.014) Elapsed 0m 51s (remain 0m 0s) Loss: 0.4896(1.3378) Grad Norm: 8.3798  LR: 9.3324e-04  \n",
      "EVAL: [0/9] Data 0.404 (0.404) Elapsed 0m 0s (remain 0m 6s) \n"
     ]
    },
    {
     "name": "stderr",
     "output_type": "stream",
     "text": [
      "labels: [ 2  4  2  2 12]\n",
      "pred_labels: [ 2  4  5  2 11]\n",
      "Epoch 6 - avg_train_loss: 1.3378  lr: 9.3324e-04  time: 56s\n",
      "Epoch 6 - Score: 0.6489\n",
      "Epoch 6 - Save Best Score: 0.6489 Model\n"
     ]
    },
    {
     "name": "stdout",
     "output_type": "stream",
     "text": [
      "EVAL: [8/9] Data 0.000 (0.045) Elapsed 0m 4s (remain 0m 0s) \n",
      "Epoch: [7][0/40] Data 0.599 (0.599) Elapsed 0m 1s (remain 1m 13s) Loss: 0.1750(0.1750) Grad Norm: 3.4883  LR: 9.0853e-04  \n",
      "Epoch: [7][39/40] Data 0.000 (0.015) Elapsed 0m 51s (remain 0m 0s) Loss: 1.1457(1.0606) Grad Norm: 7.3583  LR: 9.0853e-04  \n",
      "EVAL: [0/9] Data 0.454 (0.454) Elapsed 0m 0s (remain 0m 7s) \n"
     ]
    },
    {
     "name": "stderr",
     "output_type": "stream",
     "text": [
      "labels: [ 2  4  2  2 12]\n",
      "pred_labels: [ 2  4  1  2 11]\n",
      "Epoch 7 - avg_train_loss: 1.0606  lr: 9.0853e-04  time: 56s\n",
      "Epoch 7 - Score: 0.6489\n"
     ]
    },
    {
     "name": "stdout",
     "output_type": "stream",
     "text": [
      "EVAL: [8/9] Data 0.000 (0.051) Elapsed 0m 4s (remain 0m 0s) \n",
      "Epoch: [8][0/40] Data 0.510 (0.510) Elapsed 0m 1s (remain 1m 9s) Loss: 0.5353(0.5353) Grad Norm: 11.1027  LR: 8.8057e-04  \n",
      "Epoch: [8][39/40] Data 0.000 (0.013) Elapsed 0m 51s (remain 0m 0s) Loss: 0.2849(1.0565) Grad Norm: 7.3210  LR: 8.8057e-04  \n",
      "EVAL: [0/9] Data 0.345 (0.345) Elapsed 0m 0s (remain 0m 6s) \n"
     ]
    },
    {
     "name": "stderr",
     "output_type": "stream",
     "text": [
      "labels: [ 2  4  2  2 12]\n",
      "pred_labels: [2 2 0 2 5]\n",
      "Epoch 8 - avg_train_loss: 1.0565  lr: 8.8057e-04  time: 56s\n",
      "Epoch 8 - Score: 0.6260\n"
     ]
    },
    {
     "name": "stdout",
     "output_type": "stream",
     "text": [
      "EVAL: [8/9] Data 0.000 (0.038) Elapsed 0m 4s (remain 0m 0s) \n",
      "Epoch: [9][0/40] Data 0.547 (0.547) Elapsed 0m 1s (remain 1m 10s) Loss: 1.1129(1.1129) Grad Norm: 5.6976  LR: 8.4958e-04  \n",
      "Epoch: [9][39/40] Data 0.000 (0.014) Elapsed 0m 51s (remain 0m 0s) Loss: 1.3897(1.0291) Grad Norm: 10.4675  LR: 8.4958e-04  \n",
      "EVAL: [0/9] Data 0.385 (0.385) Elapsed 0m 0s (remain 0m 6s) \n"
     ]
    },
    {
     "name": "stderr",
     "output_type": "stream",
     "text": [
      "labels: [ 2  4  2  2 12]\n",
      "pred_labels: [ 2  7  6  7 11]\n",
      "Epoch 9 - avg_train_loss: 1.0291  lr: 8.4958e-04  time: 56s\n",
      "Epoch 9 - Score: 0.5878\n"
     ]
    },
    {
     "name": "stdout",
     "output_type": "stream",
     "text": [
      "EVAL: [8/9] Data 0.000 (0.043) Elapsed 0m 4s (remain 0m 0s) \n",
      "Epoch: [10][0/40] Data 0.591 (0.591) Elapsed 0m 1s (remain 1m 12s) Loss: 1.2834(1.2834) Grad Norm: 8.0698  LR: 8.1581e-04  \n",
      "Epoch: [10][39/40] Data 0.000 (0.015) Elapsed 0m 51s (remain 0m 0s) Loss: 1.1759(0.9904) Grad Norm: 5.9786  LR: 8.1581e-04  \n",
      "EVAL: [0/9] Data 0.398 (0.398) Elapsed 0m 0s (remain 0m 6s) \n"
     ]
    },
    {
     "name": "stderr",
     "output_type": "stream",
     "text": [
      "labels: [ 2  4  2  2 12]\n",
      "pred_labels: [ 2  3  5  2 12]\n",
      "Epoch 10 - avg_train_loss: 0.9904  lr: 8.1581e-04  time: 56s\n",
      "Epoch 10 - Score: 0.6260\n"
     ]
    },
    {
     "name": "stdout",
     "output_type": "stream",
     "text": [
      "EVAL: [8/9] Data 0.000 (0.044) Elapsed 0m 4s (remain 0m 0s) \n",
      "Epoch: [11][0/40] Data 0.539 (0.539) Elapsed 0m 1s (remain 1m 10s) Loss: 1.5335(1.5335) Grad Norm: 6.5227  LR: 7.7953e-04  \n",
      "Epoch: [11][39/40] Data 0.000 (0.014) Elapsed 0m 51s (remain 0m 0s) Loss: 1.5813(0.9207) Grad Norm: 7.2255  LR: 7.7953e-04  \n",
      "EVAL: [0/9] Data 0.468 (0.468) Elapsed 0m 0s (remain 0m 7s) \n"
     ]
    },
    {
     "name": "stderr",
     "output_type": "stream",
     "text": [
      "labels: [ 2  4  2  2 12]\n",
      "pred_labels: [2 4 6 2 4]\n",
      "Epoch 11 - avg_train_loss: 0.9207  lr: 7.7953e-04  time: 56s\n",
      "Epoch 11 - Score: 0.6336\n"
     ]
    },
    {
     "name": "stdout",
     "output_type": "stream",
     "text": [
      "EVAL: [8/9] Data 0.000 (0.052) Elapsed 0m 4s (remain 0m 0s) \n",
      "Epoch: [12][0/40] Data 0.549 (0.549) Elapsed 0m 1s (remain 1m 11s) Loss: 0.3418(0.3418) Grad Norm: 8.5675  LR: 7.4103e-04  \n",
      "Epoch: [12][39/40] Data 0.000 (0.014) Elapsed 0m 51s (remain 0m 0s) Loss: 0.4281(0.7696) Grad Norm: 9.9999  LR: 7.4103e-04  \n",
      "EVAL: [0/9] Data 0.345 (0.345) Elapsed 0m 0s (remain 0m 6s) \n"
     ]
    },
    {
     "name": "stderr",
     "output_type": "stream",
     "text": [
      "labels: [ 2  4  2  2 12]\n",
      "pred_labels: [ 2  2  0  2 11]\n",
      "Epoch 12 - avg_train_loss: 0.7696  lr: 7.4103e-04  time: 56s\n",
      "Epoch 12 - Score: 0.6107\n"
     ]
    },
    {
     "name": "stdout",
     "output_type": "stream",
     "text": [
      "EVAL: [8/9] Data 0.000 (0.039) Elapsed 0m 4s (remain 0m 0s) \n",
      "Epoch: [13][0/40] Data 0.539 (0.539) Elapsed 0m 1s (remain 1m 10s) Loss: 0.9438(0.9438) Grad Norm: 5.3412  LR: 7.0063e-04  \n",
      "Epoch: [13][39/40] Data 0.000 (0.014) Elapsed 0m 51s (remain 0m 0s) Loss: 0.6082(0.9257) Grad Norm: 16.3758  LR: 7.0063e-04  \n",
      "EVAL: [0/9] Data 0.389 (0.389) Elapsed 0m 0s (remain 0m 6s) \n"
     ]
    },
    {
     "name": "stderr",
     "output_type": "stream",
     "text": [
      "labels: [ 2  4  2  2 12]\n",
      "pred_labels: [2 7 6 2 2]\n",
      "Epoch 13 - avg_train_loss: 0.9257  lr: 7.0063e-04  time: 56s\n",
      "Epoch 13 - Score: 0.6565\n",
      "Epoch 13 - Save Best Score: 0.6565 Model\n"
     ]
    },
    {
     "name": "stdout",
     "output_type": "stream",
     "text": [
      "EVAL: [8/9] Data 0.000 (0.043) Elapsed 0m 4s (remain 0m 0s) \n",
      "Epoch: [14][0/40] Data 0.538 (0.538) Elapsed 0m 1s (remain 1m 11s) Loss: 1.3879(1.3879) Grad Norm: 7.6351  LR: 6.5865e-04  \n",
      "Epoch: [14][39/40] Data 0.000 (0.014) Elapsed 0m 51s (remain 0m 0s) Loss: 0.1319(0.7751) Grad Norm: 8.4091  LR: 6.5865e-04  \n",
      "EVAL: [0/9] Data 0.492 (0.492) Elapsed 0m 0s (remain 0m 7s) \n"
     ]
    },
    {
     "name": "stderr",
     "output_type": "stream",
     "text": [
      "labels: [ 2  4  2  2 12]\n",
      "pred_labels: [ 2  0  6  2 11]\n",
      "Epoch 14 - avg_train_loss: 0.7751  lr: 6.5865e-04  time: 56s\n",
      "Epoch 14 - Score: 0.6183\n"
     ]
    },
    {
     "name": "stdout",
     "output_type": "stream",
     "text": [
      "EVAL: [8/9] Data 0.000 (0.055) Elapsed 0m 4s (remain 0m 0s) \n",
      "Epoch: [15][0/40] Data 0.682 (0.682) Elapsed 0m 1s (remain 1m 16s) Loss: 1.2509(1.2509) Grad Norm: 8.6884  LR: 6.1542e-04  \n",
      "Epoch: [15][39/40] Data 0.000 (0.017) Elapsed 0m 51s (remain 0m 0s) Loss: 0.0539(0.7467) Grad Norm: 1.9685  LR: 6.1542e-04  \n",
      "EVAL: [0/9] Data 0.313 (0.313) Elapsed 0m 0s (remain 0m 6s) \n"
     ]
    },
    {
     "name": "stderr",
     "output_type": "stream",
     "text": [
      "labels: [ 2  4  2  2 12]\n",
      "pred_labels: [ 2  4  6  2 11]\n",
      "Epoch 15 - avg_train_loss: 0.7467  lr: 6.1542e-04  time: 56s\n",
      "Epoch 15 - Score: 0.6183\n"
     ]
    },
    {
     "name": "stdout",
     "output_type": "stream",
     "text": [
      "EVAL: [8/9] Data 0.000 (0.035) Elapsed 0m 3s (remain 0m 0s) \n",
      "Epoch: [16][0/40] Data 0.577 (0.577) Elapsed 0m 1s (remain 1m 12s) Loss: 1.2958(1.2958) Grad Norm: 7.3420  LR: 5.7130e-04  \n",
      "Epoch: [16][39/40] Data 0.000 (0.015) Elapsed 0m 51s (remain 0m 0s) Loss: 0.0644(0.6971) Grad Norm: 2.6491  LR: 5.7130e-04  \n",
      "EVAL: [0/9] Data 0.357 (0.357) Elapsed 0m 0s (remain 0m 6s) \n"
     ]
    },
    {
     "name": "stderr",
     "output_type": "stream",
     "text": [
      "labels: [ 2  4  2  2 12]\n",
      "pred_labels: [ 2  4  6  2 11]\n",
      "Epoch 16 - avg_train_loss: 0.6971  lr: 5.7130e-04  time: 56s\n",
      "Epoch 16 - Score: 0.6031\n"
     ]
    },
    {
     "name": "stdout",
     "output_type": "stream",
     "text": [
      "EVAL: [8/9] Data 0.000 (0.040) Elapsed 0m 4s (remain 0m 0s) \n",
      "Epoch: [17][0/40] Data 0.563 (0.563) Elapsed 0m 1s (remain 1m 11s) Loss: 0.1487(0.1487) Grad Norm: 5.1993  LR: 5.2663e-04  \n",
      "Epoch: [17][39/40] Data 0.000 (0.014) Elapsed 0m 51s (remain 0m 0s) Loss: 0.0869(0.6145) Grad Norm: 4.0799  LR: 5.2663e-04  \n",
      "EVAL: [0/9] Data 0.336 (0.336) Elapsed 0m 0s (remain 0m 6s) \n"
     ]
    },
    {
     "name": "stderr",
     "output_type": "stream",
     "text": [
      "labels: [ 2  4  2  2 12]\n",
      "pred_labels: [ 2  0  0  2 11]\n",
      "Epoch 17 - avg_train_loss: 0.6145  lr: 5.2663e-04  time: 55s\n",
      "Epoch 17 - Score: 0.6107\n"
     ]
    },
    {
     "name": "stdout",
     "output_type": "stream",
     "text": [
      "EVAL: [8/9] Data 0.000 (0.037) Elapsed 0m 4s (remain 0m 0s) \n",
      "Epoch: [18][0/40] Data 0.556 (0.556) Elapsed 0m 1s (remain 1m 11s) Loss: 0.0407(0.0407) Grad Norm: 4.3669  LR: 4.8179e-04  \n",
      "Epoch: [18][39/40] Data 0.000 (0.014) Elapsed 0m 51s (remain 0m 0s) Loss: 1.2490(0.7947) Grad Norm: 6.4443  LR: 4.8179e-04  \n",
      "EVAL: [0/9] Data 0.432 (0.432) Elapsed 0m 0s (remain 0m 7s) \n"
     ]
    },
    {
     "name": "stderr",
     "output_type": "stream",
     "text": [
      "labels: [ 2  4  2  2 12]\n",
      "pred_labels: [ 2  4  5  2 11]\n",
      "Epoch 18 - avg_train_loss: 0.7947  lr: 4.8179e-04  time: 56s\n",
      "Epoch 18 - Score: 0.6412\n"
     ]
    },
    {
     "name": "stdout",
     "output_type": "stream",
     "text": [
      "EVAL: [8/9] Data 0.000 (0.048) Elapsed 0m 4s (remain 0m 0s) \n",
      "Epoch: [19][0/40] Data 0.522 (0.522) Elapsed 0m 1s (remain 1m 9s) Loss: 0.1228(0.1228) Grad Norm: 2.9571  LR: 4.3712e-04  \n",
      "Epoch: [19][39/40] Data 0.000 (0.013) Elapsed 0m 51s (remain 0m 0s) Loss: 0.0211(0.6730) Grad Norm: 1.5994  LR: 4.3712e-04  \n",
      "EVAL: [0/9] Data 0.375 (0.375) Elapsed 0m 0s (remain 0m 6s) \n"
     ]
    },
    {
     "name": "stderr",
     "output_type": "stream",
     "text": [
      "labels: [ 2  4  2  2 12]\n",
      "pred_labels: [ 2  4  5  2 11]\n",
      "Epoch 19 - avg_train_loss: 0.6730  lr: 4.3712e-04  time: 55s\n",
      "Epoch 19 - Score: 0.6183\n"
     ]
    },
    {
     "name": "stdout",
     "output_type": "stream",
     "text": [
      "EVAL: [8/9] Data 0.000 (0.042) Elapsed 0m 4s (remain 0m 0s) \n",
      "Epoch: [20][0/40] Data 0.574 (0.574) Elapsed 0m 1s (remain 1m 12s) Loss: 1.3546(1.3546) Grad Norm: 7.0232  LR: 3.9299e-04  \n",
      "Epoch: [20][39/40] Data 0.000 (0.015) Elapsed 0m 51s (remain 0m 0s) Loss: 0.0205(0.6544) Grad Norm: 1.2441  LR: 3.9299e-04  \n",
      "EVAL: [0/9] Data 0.374 (0.374) Elapsed 0m 0s (remain 0m 6s) \n"
     ]
    },
    {
     "name": "stderr",
     "output_type": "stream",
     "text": [
      "labels: [ 2  4  2  2 12]\n",
      "pred_labels: [ 2  0  5  2 11]\n",
      "Epoch 20 - avg_train_loss: 0.6544  lr: 3.9299e-04  time: 56s\n",
      "Epoch 20 - Score: 0.6107\n"
     ]
    },
    {
     "name": "stdout",
     "output_type": "stream",
     "text": [
      "EVAL: [8/9] Data 0.000 (0.042) Elapsed 0m 4s (remain 0m 0s) \n",
      "Epoch: [21][0/40] Data 0.571 (0.571) Elapsed 0m 1s (remain 1m 11s) Loss: 0.9965(0.9965) Grad Norm: 4.8571  LR: 3.4975e-04  \n",
      "Epoch: [21][39/40] Data 0.000 (0.014) Elapsed 0m 51s (remain 0m 0s) Loss: 1.0422(0.5372) Grad Norm: 6.1629  LR: 3.4975e-04  \n",
      "EVAL: [0/9] Data 0.337 (0.337) Elapsed 0m 0s (remain 0m 6s) \n"
     ]
    },
    {
     "name": "stderr",
     "output_type": "stream",
     "text": [
      "labels: [ 2  4  2  2 12]\n",
      "pred_labels: [ 2  0  5  2 11]\n",
      "Epoch 21 - avg_train_loss: 0.5372  lr: 3.4975e-04  time: 55s\n",
      "Epoch 21 - Score: 0.6107\n"
     ]
    },
    {
     "name": "stdout",
     "output_type": "stream",
     "text": [
      "EVAL: [8/9] Data 0.000 (0.038) Elapsed 0m 4s (remain 0m 0s) \n",
      "Epoch: [22][0/40] Data 0.505 (0.505) Elapsed 0m 1s (remain 1m 9s) Loss: 1.2095(1.2095) Grad Norm: 5.0130  LR: 3.0775e-04  \n",
      "Epoch: [22][39/40] Data 0.000 (0.013) Elapsed 0m 51s (remain 0m 0s) Loss: 0.0576(0.5907) Grad Norm: 6.8243  LR: 3.0775e-04  \n",
      "EVAL: [0/9] Data 0.395 (0.395) Elapsed 0m 0s (remain 0m 6s) \n"
     ]
    },
    {
     "name": "stderr",
     "output_type": "stream",
     "text": [
      "labels: [ 2  4  2  2 12]\n",
      "pred_labels: [ 2  4 11  2 11]\n",
      "Epoch 22 - avg_train_loss: 0.5907  lr: 3.0775e-04  time: 55s\n",
      "Epoch 22 - Score: 0.6336\n"
     ]
    },
    {
     "name": "stdout",
     "output_type": "stream",
     "text": [
      "EVAL: [8/9] Data 0.000 (0.044) Elapsed 0m 4s (remain 0m 0s) \n",
      "Epoch: [23][0/40] Data 0.577 (0.577) Elapsed 0m 1s (remain 1m 12s) Loss: 0.9114(0.9114) Grad Norm: 4.1195  LR: 2.6732e-04  \n",
      "Epoch: [23][39/40] Data 0.000 (0.015) Elapsed 0m 51s (remain 0m 0s) Loss: 0.0071(0.5053) Grad Norm: 0.5384  LR: 2.6732e-04  \n",
      "EVAL: [0/9] Data 0.357 (0.357) Elapsed 0m 0s (remain 0m 6s) \n"
     ]
    },
    {
     "name": "stderr",
     "output_type": "stream",
     "text": [
      "labels: [ 2  4  2  2 12]\n",
      "pred_labels: [ 2  4  6  2 11]\n",
      "Epoch 23 - avg_train_loss: 0.5053  lr: 2.6732e-04  time: 56s\n",
      "Epoch 23 - Score: 0.6641\n",
      "Epoch 23 - Save Best Score: 0.6641 Model\n"
     ]
    },
    {
     "name": "stdout",
     "output_type": "stream",
     "text": [
      "EVAL: [8/9] Data 0.000 (0.040) Elapsed 0m 4s (remain 0m 0s) \n",
      "Epoch: [24][0/40] Data 0.522 (0.522) Elapsed 0m 1s (remain 1m 10s) Loss: 0.0090(0.0090) Grad Norm: 0.7266  LR: 2.2880e-04  \n",
      "Epoch: [24][39/40] Data 0.000 (0.013) Elapsed 0m 51s (remain 0m 0s) Loss: 0.9102(0.5430) Grad Norm: 3.6935  LR: 2.2880e-04  \n",
      "EVAL: [0/9] Data 0.336 (0.336) Elapsed 0m 0s (remain 0m 6s) \n"
     ]
    },
    {
     "name": "stderr",
     "output_type": "stream",
     "text": [
      "labels: [ 2  4  2  2 12]\n",
      "pred_labels: [ 2  4  6  2 11]\n",
      "Epoch 24 - avg_train_loss: 0.5430  lr: 2.2880e-04  time: 55s\n",
      "Epoch 24 - Score: 0.6336\n"
     ]
    },
    {
     "name": "stdout",
     "output_type": "stream",
     "text": [
      "EVAL: [8/9] Data 0.000 (0.038) Elapsed 0m 4s (remain 0m 0s) \n",
      "Epoch: [25][0/40] Data 0.676 (0.676) Elapsed 0m 1s (remain 1m 15s) Loss: 0.0015(0.0015) Grad Norm: 0.0637  LR: 1.9248e-04  \n",
      "Epoch: [25][39/40] Data 0.000 (0.017) Elapsed 0m 51s (remain 0m 0s) Loss: 0.8959(0.5942) Grad Norm: 5.4278  LR: 1.9248e-04  \n",
      "EVAL: [0/9] Data 0.347 (0.347) Elapsed 0m 0s (remain 0m 6s) \n"
     ]
    },
    {
     "name": "stderr",
     "output_type": "stream",
     "text": [
      "labels: [ 2  4  2  2 12]\n",
      "pred_labels: [2 4 6 2 9]\n",
      "Epoch 25 - avg_train_loss: 0.5942  lr: 1.9248e-04  time: 56s\n",
      "Epoch 25 - Score: 0.6031\n"
     ]
    },
    {
     "name": "stdout",
     "output_type": "stream",
     "text": [
      "EVAL: [8/9] Data 0.000 (0.039) Elapsed 0m 4s (remain 0m 0s) \n",
      "Epoch: [26][0/40] Data 0.587 (0.587) Elapsed 0m 1s (remain 1m 12s) Loss: 0.0214(0.0214) Grad Norm: 3.6416  LR: 1.5867e-04  \n",
      "Epoch: [26][39/40] Data 0.000 (0.015) Elapsed 0m 51s (remain 0m 0s) Loss: 0.6870(0.4626) Grad Norm: 4.0087  LR: 1.5867e-04  \n",
      "EVAL: [0/9] Data 0.377 (0.377) Elapsed 0m 0s (remain 0m 6s) \n"
     ]
    },
    {
     "name": "stderr",
     "output_type": "stream",
     "text": [
      "labels: [ 2  4  2  2 12]\n",
      "pred_labels: [ 2  4  6  2 11]\n",
      "Epoch 26 - avg_train_loss: 0.4626  lr: 1.5867e-04  time: 56s\n",
      "Epoch 26 - Score: 0.6489\n"
     ]
    },
    {
     "name": "stdout",
     "output_type": "stream",
     "text": [
      "EVAL: [8/9] Data 0.000 (0.042) Elapsed 0m 4s (remain 0m 0s) \n",
      "Epoch: [27][0/40] Data 0.602 (0.602) Elapsed 0m 1s (remain 1m 13s) Loss: 1.2063(1.2063) Grad Norm: 7.4511  LR: 1.2762e-04  \n",
      "Epoch: [27][39/40] Data 0.000 (0.015) Elapsed 0m 51s (remain 0m 0s) Loss: 0.7532(0.5463) Grad Norm: 3.8060  LR: 1.2762e-04  \n",
      "EVAL: [0/9] Data 0.357 (0.357) Elapsed 0m 0s (remain 0m 6s) \n"
     ]
    },
    {
     "name": "stderr",
     "output_type": "stream",
     "text": [
      "labels: [ 2  4  2  2 12]\n",
      "pred_labels: [ 2  4  5  2 11]\n",
      "Epoch 27 - avg_train_loss: 0.5463  lr: 1.2762e-04  time: 56s\n",
      "Epoch 27 - Score: 0.6489\n"
     ]
    },
    {
     "name": "stdout",
     "output_type": "stream",
     "text": [
      "EVAL: [8/9] Data 0.000 (0.040) Elapsed 0m 4s (remain 0m 0s) \n",
      "Epoch: [28][0/40] Data 0.607 (0.607) Elapsed 0m 1s (remain 1m 13s) Loss: 0.7864(0.7864) Grad Norm: 3.0596  LR: 9.9584e-05  \n",
      "Epoch: [28][39/40] Data 0.000 (0.015) Elapsed 0m 51s (remain 0m 0s) Loss: 0.7991(0.4542) Grad Norm: 5.8828  LR: 9.9584e-05  \n",
      "EVAL: [0/9] Data 0.455 (0.455) Elapsed 0m 0s (remain 0m 7s) \n"
     ]
    },
    {
     "name": "stderr",
     "output_type": "stream",
     "text": [
      "labels: [ 2  4  2  2 12]\n",
      "pred_labels: [ 2  4  5  2 11]\n",
      "Epoch 28 - avg_train_loss: 0.4542  lr: 9.9584e-05  time: 56s\n",
      "Epoch 28 - Score: 0.6641\n"
     ]
    },
    {
     "name": "stdout",
     "output_type": "stream",
     "text": [
      "EVAL: [8/9] Data 0.000 (0.051) Elapsed 0m 4s (remain 0m 0s) \n",
      "Epoch: [29][0/40] Data 0.670 (0.670) Elapsed 0m 1s (remain 1m 15s) Loss: 0.0016(0.0016) Grad Norm: 0.1624  LR: 7.4783e-05  \n",
      "Epoch: [29][39/40] Data 0.000 (0.017) Elapsed 0m 51s (remain 0m 0s) Loss: 0.0029(0.4017) Grad Norm: 0.1357  LR: 7.4783e-05  \n",
      "EVAL: [0/9] Data 0.422 (0.422) Elapsed 0m 0s (remain 0m 6s) \n"
     ]
    },
    {
     "name": "stderr",
     "output_type": "stream",
     "text": [
      "labels: [ 2  4  2  2 12]\n",
      "pred_labels: [ 2  4  6  2 11]\n",
      "Epoch 29 - avg_train_loss: 0.4017  lr: 7.4783e-05  time: 56s\n",
      "Epoch 29 - Score: 0.6565\n"
     ]
    },
    {
     "name": "stdout",
     "output_type": "stream",
     "text": [
      "EVAL: [8/9] Data 0.000 (0.047) Elapsed 0m 4s (remain 0m 0s) \n",
      "Epoch: [30][0/40] Data 0.504 (0.504) Elapsed 0m 1s (remain 1m 9s) Loss: 0.8731(0.8731) Grad Norm: 3.9611  LR: 5.3404e-05  \n",
      "Epoch: [30][39/40] Data 0.000 (0.013) Elapsed 0m 51s (remain 0m 0s) Loss: 0.0019(0.3379) Grad Norm: 0.1028  LR: 5.3404e-05  \n",
      "EVAL: [0/9] Data 0.384 (0.384) Elapsed 0m 0s (remain 0m 6s) \n"
     ]
    },
    {
     "name": "stderr",
     "output_type": "stream",
     "text": [
      "labels: [ 2  4  2  2 12]\n",
      "pred_labels: [ 2  4  6  2 11]\n",
      "Epoch 30 - avg_train_loss: 0.3379  lr: 5.3404e-05  time: 55s\n",
      "Epoch 30 - Score: 0.6412\n"
     ]
    },
    {
     "name": "stdout",
     "output_type": "stream",
     "text": [
      "EVAL: [8/9] Data 0.000 (0.043) Elapsed 0m 4s (remain 0m 0s) \n",
      "Epoch: [31][0/40] Data 0.561 (0.561) Elapsed 0m 1s (remain 1m 11s) Loss: 0.0010(0.0010) Grad Norm: 0.0650  LR: 3.5607e-05  \n",
      "Epoch: [31][39/40] Data 0.000 (0.014) Elapsed 0m 51s (remain 0m 0s) Loss: 0.0010(0.0089) Grad Norm: 0.0344  LR: 3.5607e-05  \n",
      "EVAL: [0/9] Data 0.365 (0.365) Elapsed 0m 0s (remain 0m 6s) \n"
     ]
    },
    {
     "name": "stderr",
     "output_type": "stream",
     "text": [
      "labels: [ 2  4  2  2 12]\n",
      "pred_labels: [ 2  4  6  2 11]\n",
      "Epoch 31 - avg_train_loss: 0.0089  lr: 3.5607e-05  time: 55s\n",
      "Epoch 31 - Score: 0.6641\n"
     ]
    },
    {
     "name": "stdout",
     "output_type": "stream",
     "text": [
      "EVAL: [8/9] Data 0.000 (0.041) Elapsed 0m 4s (remain 0m 0s) \n",
      "Epoch: [32][0/40] Data 0.599 (0.599) Elapsed 0m 1s (remain 1m 12s) Loss: 0.0020(0.0020) Grad Norm: 0.1554  LR: 2.1508e-05  \n",
      "Epoch: [32][39/40] Data 0.000 (0.015) Elapsed 0m 51s (remain 0m 0s) Loss: 0.0004(0.0056) Grad Norm: 0.0128  LR: 2.1508e-05  \n",
      "EVAL: [0/9] Data 0.381 (0.381) Elapsed 0m 0s (remain 0m 6s) \n"
     ]
    },
    {
     "name": "stderr",
     "output_type": "stream",
     "text": [
      "labels: [ 2  4  2  2 12]\n",
      "pred_labels: [ 2  4  6  2 11]\n",
      "Epoch 32 - avg_train_loss: 0.0056  lr: 2.1508e-05  time: 55s\n",
      "Epoch 32 - Score: 0.6565\n"
     ]
    },
    {
     "name": "stdout",
     "output_type": "stream",
     "text": [
      "EVAL: [8/9] Data 0.000 (0.043) Elapsed 0m 4s (remain 0m 0s) \n",
      "Epoch: [33][0/40] Data 0.628 (0.628) Elapsed 0m 1s (remain 1m 13s) Loss: 0.0008(0.0008) Grad Norm: 0.0244  LR: 1.1173e-05  \n",
      "Epoch: [33][39/40] Data 0.000 (0.016) Elapsed 0m 51s (remain 0m 0s) Loss: 0.0005(0.0046) Grad Norm: 0.0201  LR: 1.1173e-05  \n",
      "EVAL: [0/9] Data 0.398 (0.398) Elapsed 0m 0s (remain 0m 6s) \n"
     ]
    },
    {
     "name": "stderr",
     "output_type": "stream",
     "text": [
      "labels: [ 2  4  2  2 12]\n",
      "pred_labels: [ 2  4  6  2 11]\n",
      "Epoch 33 - avg_train_loss: 0.0046  lr: 1.1173e-05  time: 56s\n",
      "Epoch 33 - Score: 0.6565\n"
     ]
    },
    {
     "name": "stdout",
     "output_type": "stream",
     "text": [
      "EVAL: [8/9] Data 0.000 (0.045) Elapsed 0m 4s (remain 0m 0s) \n",
      "Epoch: [34][0/40] Data 0.530 (0.530) Elapsed 0m 1s (remain 1m 10s) Loss: 0.0006(0.0006) Grad Norm: 0.0209  LR: 4.5796e-06  \n",
      "Epoch: [34][39/40] Data 0.000 (0.013) Elapsed 0m 51s (remain 0m 0s) Loss: 0.0006(0.0031) Grad Norm: 0.0434  LR: 4.5796e-06  \n",
      "EVAL: [0/9] Data 0.385 (0.385) Elapsed 0m 0s (remain 0m 6s) \n"
     ]
    },
    {
     "name": "stderr",
     "output_type": "stream",
     "text": [
      "labels: [ 2  4  2  2 12]\n",
      "pred_labels: [ 2  4  6  2 11]\n",
      "Epoch 34 - avg_train_loss: 0.0031  lr: 4.5796e-06  time: 55s\n",
      "Epoch 34 - Score: 0.6565\n"
     ]
    },
    {
     "name": "stdout",
     "output_type": "stream",
     "text": [
      "EVAL: [8/9] Data 0.000 (0.043) Elapsed 0m 4s (remain 0m 0s) \n",
      "Epoch: [35][0/40] Data 0.573 (0.573) Elapsed 0m 1s (remain 1m 11s) Loss: 0.0015(0.0015) Grad Norm: 0.2437  LR: 1.5037e-06  \n",
      "Epoch: [35][39/40] Data 0.000 (0.014) Elapsed 0m 51s (remain 0m 0s) Loss: 0.0015(0.0037) Grad Norm: 0.0923  LR: 1.5037e-06  \n",
      "EVAL: [0/9] Data 0.358 (0.358) Elapsed 0m 0s (remain 0m 6s) \n"
     ]
    },
    {
     "name": "stderr",
     "output_type": "stream",
     "text": [
      "labels: [ 2  4  2  2 12]\n",
      "pred_labels: [ 2  4  6  2 11]\n",
      "Epoch 35 - avg_train_loss: 0.0037  lr: 1.5037e-06  time: 55s\n",
      "Epoch 35 - Score: 0.6565\n",
      "==================== fold: 2, seed: 2 training ====================\n"
     ]
    },
    {
     "name": "stdout",
     "output_type": "stream",
     "text": [
      "EVAL: [8/9] Data 0.000 (0.040) Elapsed 0m 4s (remain 0m 0s) \n",
      "Epoch: [1][0/40] Data 0.627 (0.627) Elapsed 0m 1s (remain 1m 14s) Loss: 2.6550(2.6550) Grad Norm: inf  LR: 1.0000e-03  \n",
      "Epoch: [1][39/40] Data 0.000 (0.016) Elapsed 0m 51s (remain 0m 0s) Loss: 2.2160(2.5191) Grad Norm: 11.2784  LR: 1.0000e-03  \n",
      "EVAL: [0/9] Data 0.358 (0.358) Elapsed 0m 0s (remain 0m 6s) \n"
     ]
    },
    {
     "name": "stderr",
     "output_type": "stream",
     "text": [
      "labels: [11  2  3  7  6]\n",
      "pred_labels: [2 2 0 2 0]\n",
      "Epoch 1 - avg_train_loss: 2.5191  lr: 1.0000e-03  time: 56s\n",
      "Epoch 1 - Score: 0.2595\n",
      "Epoch 1 - Save Best Score: 0.2595 Model\n"
     ]
    },
    {
     "name": "stdout",
     "output_type": "stream",
     "text": [
      "EVAL: [8/9] Data 0.000 (0.040) Elapsed 0m 4s (remain 0m 0s) \n",
      "Epoch: [2][0/40] Data 0.707 (0.707) Elapsed 0m 1s (remain 1m 17s) Loss: 2.3845(2.3845) Grad Norm: 10.1474  LR: 9.9598e-04  \n",
      "Epoch: [2][39/40] Data 0.000 (0.018) Elapsed 0m 51s (remain 0m 0s) Loss: 1.6269(2.0751) Grad Norm: 18.0129  LR: 9.9598e-04  \n",
      "EVAL: [0/9] Data 0.392 (0.392) Elapsed 0m 0s (remain 0m 6s) \n"
     ]
    },
    {
     "name": "stderr",
     "output_type": "stream",
     "text": [
      "labels: [11  2  3  7  6]\n",
      "pred_labels: [11  2  0  2  0]\n",
      "Epoch 2 - avg_train_loss: 2.0751  lr: 9.9598e-04  time: 56s\n",
      "Epoch 2 - Score: 0.4885\n",
      "Epoch 2 - Save Best Score: 0.4885 Model\n"
     ]
    },
    {
     "name": "stdout",
     "output_type": "stream",
     "text": [
      "EVAL: [8/9] Data 0.000 (0.044) Elapsed 0m 4s (remain 0m 0s) \n",
      "Epoch: [3][0/40] Data 0.691 (0.691) Elapsed 0m 1s (remain 1m 17s) Loss: 2.2436(2.2436) Grad Norm: 14.7708  LR: 9.8599e-04  \n",
      "Epoch: [3][39/40] Data 0.000 (0.017) Elapsed 0m 51s (remain 0m 0s) Loss: 2.0542(1.8614) Grad Norm: 21.5733  LR: 9.8599e-04  \n",
      "EVAL: [0/9] Data 0.444 (0.444) Elapsed 0m 0s (remain 0m 7s) \n"
     ]
    },
    {
     "name": "stderr",
     "output_type": "stream",
     "text": [
      "labels: [11  2  3  7  6]\n",
      "pred_labels: [11  2  3  4  6]\n",
      "Epoch 3 - avg_train_loss: 1.8614  lr: 9.8599e-04  time: 56s\n",
      "Epoch 3 - Score: 0.5649\n",
      "Epoch 3 - Save Best Score: 0.5649 Model\n"
     ]
    },
    {
     "name": "stdout",
     "output_type": "stream",
     "text": [
      "EVAL: [8/9] Data 0.000 (0.050) Elapsed 0m 4s (remain 0m 0s) \n",
      "Epoch: [4][0/40] Data 0.608 (0.608) Elapsed 0m 1s (remain 1m 14s) Loss: 1.5383(1.5383) Grad Norm: 14.8038  LR: 9.7213e-04  \n",
      "Epoch: [4][39/40] Data 0.000 (0.015) Elapsed 0m 51s (remain 0m 0s) Loss: 1.3319(1.6932) Grad Norm: 10.6117  LR: 9.7213e-04  \n",
      "EVAL: [0/9] Data 0.372 (0.372) Elapsed 0m 0s (remain 0m 6s) \n"
     ]
    },
    {
     "name": "stderr",
     "output_type": "stream",
     "text": [
      "labels: [11  2  3  7  6]\n",
      "pred_labels: [5 2 4 4 0]\n",
      "Epoch 4 - avg_train_loss: 1.6932  lr: 9.7213e-04  time: 56s\n",
      "Epoch 4 - Score: 0.6031\n",
      "Epoch 4 - Save Best Score: 0.6031 Model\n"
     ]
    },
    {
     "name": "stdout",
     "output_type": "stream",
     "text": [
      "EVAL: [8/9] Data 0.000 (0.042) Elapsed 0m 4s (remain 0m 0s) \n",
      "Epoch: [5][0/40] Data 0.550 (0.550) Elapsed 0m 1s (remain 1m 12s) Loss: 1.7602(1.7602) Grad Norm: 7.8584  LR: 9.5449e-04  \n",
      "Epoch: [5][39/40] Data 0.000 (0.014) Elapsed 0m 51s (remain 0m 0s) Loss: 1.9094(1.4825) Grad Norm: 15.0701  LR: 9.5449e-04  \n",
      "EVAL: [0/9] Data 0.364 (0.364) Elapsed 0m 0s (remain 0m 6s) \n"
     ]
    },
    {
     "name": "stderr",
     "output_type": "stream",
     "text": [
      "labels: [11  2  3  7  6]\n",
      "pred_labels: [ 5  2  3  3 11]\n",
      "Epoch 5 - avg_train_loss: 1.4825  lr: 9.5449e-04  time: 56s\n",
      "Epoch 5 - Score: 0.5344\n"
     ]
    },
    {
     "name": "stdout",
     "output_type": "stream",
     "text": [
      "EVAL: [8/9] Data 0.000 (0.041) Elapsed 0m 4s (remain 0m 0s) \n",
      "Epoch: [6][0/40] Data 0.639 (0.639) Elapsed 0m 1s (remain 1m 14s) Loss: 1.8827(1.8827) Grad Norm: 13.7700  LR: 9.3324e-04  \n",
      "Epoch: [6][39/40] Data 0.000 (0.016) Elapsed 0m 51s (remain 0m 0s) Loss: 1.5976(1.3279) Grad Norm: 7.4715  LR: 9.3324e-04  \n",
      "EVAL: [0/9] Data 0.454 (0.454) Elapsed 0m 0s (remain 0m 7s) \n"
     ]
    },
    {
     "name": "stderr",
     "output_type": "stream",
     "text": [
      "labels: [11  2  3  7  6]\n",
      "pred_labels: [12  2  3  4  6]\n",
      "Epoch 6 - avg_train_loss: 1.3279  lr: 9.3324e-04  time: 56s\n",
      "Epoch 6 - Score: 0.5649\n"
     ]
    },
    {
     "name": "stdout",
     "output_type": "stream",
     "text": [
      "EVAL: [8/9] Data 0.000 (0.051) Elapsed 0m 4s (remain 0m 0s) \n",
      "Epoch: [7][0/40] Data 0.522 (0.522) Elapsed 0m 1s (remain 1m 10s) Loss: 1.2089(1.2089) Grad Norm: 17.6769  LR: 9.0853e-04  \n",
      "Epoch: [7][39/40] Data 0.000 (0.013) Elapsed 0m 51s (remain 0m 0s) Loss: 1.9155(1.2515) Grad Norm: 5.7093  LR: 9.0853e-04  \n",
      "EVAL: [0/9] Data 0.396 (0.396) Elapsed 0m 0s (remain 0m 6s) \n"
     ]
    },
    {
     "name": "stderr",
     "output_type": "stream",
     "text": [
      "labels: [11  2  3  7  6]\n",
      "pred_labels: [11  2  3  4  6]\n",
      "Epoch 7 - avg_train_loss: 1.2515  lr: 9.0853e-04  time: 56s\n",
      "Epoch 7 - Score: 0.5649\n"
     ]
    },
    {
     "name": "stdout",
     "output_type": "stream",
     "text": [
      "EVAL: [8/9] Data 0.000 (0.044) Elapsed 0m 4s (remain 0m 0s) \n",
      "Epoch: [8][0/40] Data 0.571 (0.571) Elapsed 0m 1s (remain 1m 12s) Loss: 0.8891(0.8891) Grad Norm: 16.9445  LR: 8.8057e-04  \n",
      "Epoch: [8][39/40] Data 0.000 (0.014) Elapsed 0m 51s (remain 0m 0s) Loss: 0.7741(1.0460) Grad Norm: 10.5030  LR: 8.8057e-04  \n",
      "EVAL: [0/9] Data 0.397 (0.397) Elapsed 0m 0s (remain 0m 6s) \n"
     ]
    },
    {
     "name": "stderr",
     "output_type": "stream",
     "text": [
      "labels: [11  2  3  7  6]\n",
      "pred_labels: [11  2  1  4  0]\n",
      "Epoch 8 - avg_train_loss: 1.0460  lr: 8.8057e-04  time: 56s\n",
      "Epoch 8 - Score: 0.6107\n",
      "Epoch 8 - Save Best Score: 0.6107 Model\n"
     ]
    },
    {
     "name": "stdout",
     "output_type": "stream",
     "text": [
      "EVAL: [8/9] Data 0.000 (0.044) Elapsed 0m 4s (remain 0m 0s) \n",
      "Epoch: [9][0/40] Data 1.134 (1.134) Elapsed 0m 2s (remain 1m 34s) Loss: 0.2265(0.2265) Grad Norm: 8.1886  LR: 8.4958e-04  \n",
      "Epoch: [9][39/40] Data 0.000 (0.029) Elapsed 0m 52s (remain 0m 0s) Loss: 0.7936(0.9591) Grad Norm: 12.9810  LR: 8.4958e-04  \n",
      "EVAL: [0/9] Data 0.412 (0.412) Elapsed 0m 0s (remain 0m 6s) \n"
     ]
    },
    {
     "name": "stderr",
     "output_type": "stream",
     "text": [
      "labels: [11  2  3  7  6]\n",
      "pred_labels: [11  2  0  0  0]\n",
      "Epoch 9 - avg_train_loss: 0.9591  lr: 8.4958e-04  time: 56s\n",
      "Epoch 9 - Score: 0.5878\n"
     ]
    },
    {
     "name": "stdout",
     "output_type": "stream",
     "text": [
      "EVAL: [8/9] Data 0.000 (0.046) Elapsed 0m 4s (remain 0m 0s) \n",
      "Epoch: [10][0/40] Data 0.556 (0.556) Elapsed 0m 1s (remain 1m 11s) Loss: 1.8062(1.8062) Grad Norm: 8.5010  LR: 8.1581e-04  \n",
      "Epoch: [10][39/40] Data 0.000 (0.014) Elapsed 0m 51s (remain 0m 0s) Loss: 1.5457(1.0960) Grad Norm: 9.6708  LR: 8.1581e-04  \n",
      "EVAL: [0/9] Data 0.341 (0.341) Elapsed 0m 0s (remain 0m 6s) \n"
     ]
    },
    {
     "name": "stderr",
     "output_type": "stream",
     "text": [
      "labels: [11  2  3  7  6]\n",
      "pred_labels: [12  2  3  4  7]\n",
      "Epoch 10 - avg_train_loss: 1.0960  lr: 8.1581e-04  time: 56s\n",
      "Epoch 10 - Score: 0.5802\n"
     ]
    },
    {
     "name": "stdout",
     "output_type": "stream",
     "text": [
      "EVAL: [8/9] Data 0.000 (0.038) Elapsed 0m 4s (remain 0m 0s) \n",
      "Epoch: [11][0/40] Data 0.531 (0.531) Elapsed 0m 1s (remain 1m 10s) Loss: 1.5581(1.5581) Grad Norm: 11.6809  LR: 7.7953e-04  \n",
      "Epoch: [11][39/40] Data 0.000 (0.013) Elapsed 0m 51s (remain 0m 0s) Loss: 0.6507(0.9847) Grad Norm: 32.7104  LR: 7.7953e-04  \n",
      "EVAL: [0/9] Data 0.387 (0.387) Elapsed 0m 0s (remain 0m 6s) \n"
     ]
    },
    {
     "name": "stderr",
     "output_type": "stream",
     "text": [
      "labels: [11  2  3  7  6]\n",
      "pred_labels: [12  2  3  7 11]\n",
      "Epoch 11 - avg_train_loss: 0.9847  lr: 7.7953e-04  time: 56s\n",
      "Epoch 11 - Score: 0.5725\n"
     ]
    },
    {
     "name": "stdout",
     "output_type": "stream",
     "text": [
      "EVAL: [8/9] Data 0.000 (0.043) Elapsed 0m 4s (remain 0m 0s) \n",
      "Epoch: [12][0/40] Data 0.574 (0.574) Elapsed 0m 1s (remain 1m 12s) Loss: 0.7993(0.7993) Grad Norm: 18.3044  LR: 7.4103e-04  \n",
      "Epoch: [12][39/40] Data 0.000 (0.015) Elapsed 0m 51s (remain 0m 0s) Loss: 0.0648(0.9421) Grad Norm: 2.9402  LR: 7.4103e-04  \n",
      "EVAL: [0/9] Data 0.419 (0.419) Elapsed 0m 0s (remain 0m 6s) \n"
     ]
    },
    {
     "name": "stderr",
     "output_type": "stream",
     "text": [
      "labels: [11  2  3  7  6]\n",
      "pred_labels: [11  2  3  7  6]\n",
      "Epoch 12 - avg_train_loss: 0.9421  lr: 7.4103e-04  time: 56s\n",
      "Epoch 12 - Score: 0.6183\n",
      "Epoch 12 - Save Best Score: 0.6183 Model\n"
     ]
    },
    {
     "name": "stdout",
     "output_type": "stream",
     "text": [
      "EVAL: [8/9] Data 0.000 (0.047) Elapsed 0m 4s (remain 0m 0s) \n",
      "Epoch: [13][0/40] Data 0.660 (0.660) Elapsed 0m 1s (remain 1m 16s) Loss: 0.5391(0.5391) Grad Norm: 12.1726  LR: 7.0063e-04  \n",
      "Epoch: [13][39/40] Data 0.000 (0.017) Elapsed 0m 51s (remain 0m 0s) Loss: 0.2823(0.7669) Grad Norm: 9.9130  LR: 7.0063e-04  \n",
      "EVAL: [0/9] Data 0.428 (0.428) Elapsed 0m 0s (remain 0m 6s) \n"
     ]
    },
    {
     "name": "stderr",
     "output_type": "stream",
     "text": [
      "labels: [11  2  3  7  6]\n",
      "pred_labels: [12  2  3  4  6]\n",
      "Epoch 13 - avg_train_loss: 0.7669  lr: 7.0063e-04  time: 56s\n",
      "Epoch 13 - Score: 0.6870\n",
      "Epoch 13 - Save Best Score: 0.6870 Model\n"
     ]
    },
    {
     "name": "stdout",
     "output_type": "stream",
     "text": [
      "EVAL: [8/9] Data 0.000 (0.048) Elapsed 0m 4s (remain 0m 0s) \n",
      "Epoch: [14][0/40] Data 0.571 (0.571) Elapsed 0m 1s (remain 1m 13s) Loss: 0.2163(0.2163) Grad Norm: 7.7220  LR: 6.5865e-04  \n",
      "Epoch: [14][39/40] Data 0.000 (0.014) Elapsed 0m 51s (remain 0m 0s) Loss: 0.4857(0.8145) Grad Norm: 8.5257  LR: 6.5865e-04  \n",
      "EVAL: [0/9] Data 0.381 (0.381) Elapsed 0m 0s (remain 0m 6s) \n"
     ]
    },
    {
     "name": "stderr",
     "output_type": "stream",
     "text": [
      "labels: [11  2  3  7  6]\n",
      "pred_labels: [11  2  9  7  0]\n",
      "Epoch 14 - avg_train_loss: 0.8145  lr: 6.5865e-04  time: 56s\n",
      "Epoch 14 - Score: 0.5573\n"
     ]
    },
    {
     "name": "stdout",
     "output_type": "stream",
     "text": [
      "EVAL: [8/9] Data 0.000 (0.042) Elapsed 0m 4s (remain 0m 0s) \n",
      "Epoch: [15][0/40] Data 0.623 (0.623) Elapsed 0m 1s (remain 1m 14s) Loss: 1.6891(1.6891) Grad Norm: 7.9859  LR: 6.1542e-04  \n",
      "Epoch: [15][39/40] Data 0.000 (0.016) Elapsed 0m 51s (remain 0m 0s) Loss: 1.4311(0.7832) Grad Norm: 7.3562  LR: 6.1542e-04  \n",
      "EVAL: [0/9] Data 0.360 (0.360) Elapsed 0m 0s (remain 0m 6s) \n"
     ]
    },
    {
     "name": "stderr",
     "output_type": "stream",
     "text": [
      "labels: [11  2  3  7  6]\n",
      "pred_labels: [11  2  3  7  6]\n",
      "Epoch 15 - avg_train_loss: 0.7832  lr: 6.1542e-04  time: 56s\n",
      "Epoch 15 - Score: 0.5878\n"
     ]
    },
    {
     "name": "stdout",
     "output_type": "stream",
     "text": [
      "EVAL: [8/9] Data 0.000 (0.040) Elapsed 0m 4s (remain 0m 0s) \n",
      "Epoch: [16][0/40] Data 0.583 (0.583) Elapsed 0m 1s (remain 1m 12s) Loss: 1.8909(1.8909) Grad Norm: 14.4122  LR: 5.7130e-04  \n",
      "Epoch: [16][39/40] Data 0.000 (0.015) Elapsed 0m 51s (remain 0m 0s) Loss: 0.6616(0.8044) Grad Norm: 13.6386  LR: 5.7130e-04  \n",
      "EVAL: [0/9] Data 0.348 (0.348) Elapsed 0m 0s (remain 0m 6s) \n"
     ]
    },
    {
     "name": "stderr",
     "output_type": "stream",
     "text": [
      "labels: [11  2  3  7  6]\n",
      "pred_labels: [11  2  3  0  0]\n",
      "Epoch 16 - avg_train_loss: 0.8044  lr: 5.7130e-04  time: 56s\n",
      "Epoch 16 - Score: 0.6489\n"
     ]
    },
    {
     "name": "stdout",
     "output_type": "stream",
     "text": [
      "EVAL: [8/9] Data 0.000 (0.039) Elapsed 0m 4s (remain 0m 0s) \n",
      "Epoch: [17][0/40] Data 0.541 (0.541) Elapsed 0m 1s (remain 1m 11s) Loss: 1.2243(1.2243) Grad Norm: 12.5735  LR: 5.2663e-04  \n",
      "Epoch: [17][39/40] Data 0.000 (0.014) Elapsed 0m 51s (remain 0m 0s) Loss: 2.0012(0.6459) Grad Norm: 11.7590  LR: 5.2663e-04  \n",
      "EVAL: [0/9] Data 0.482 (0.482) Elapsed 0m 0s (remain 0m 7s) \n"
     ]
    },
    {
     "name": "stderr",
     "output_type": "stream",
     "text": [
      "labels: [11  2  3  7  6]\n",
      "pred_labels: [11  2  3  7  0]\n",
      "Epoch 17 - avg_train_loss: 0.6459  lr: 5.2663e-04  time: 56s\n",
      "Epoch 17 - Score: 0.6260\n"
     ]
    },
    {
     "name": "stdout",
     "output_type": "stream",
     "text": [
      "EVAL: [8/9] Data 0.000 (0.054) Elapsed 0m 4s (remain 0m 0s) \n",
      "Epoch: [18][0/40] Data 0.522 (0.522) Elapsed 0m 1s (remain 1m 10s) Loss: 0.1656(0.1656) Grad Norm: 7.6284  LR: 4.8179e-04  \n",
      "Epoch: [18][39/40] Data 0.000 (0.013) Elapsed 0m 51s (remain 0m 0s) Loss: 0.2242(0.7215) Grad Norm: 10.1484  LR: 4.8179e-04  \n",
      "EVAL: [0/9] Data 0.380 (0.380) Elapsed 0m 0s (remain 0m 6s) \n"
     ]
    },
    {
     "name": "stderr",
     "output_type": "stream",
     "text": [
      "labels: [11  2  3  7  6]\n",
      "pred_labels: [11  2  3  2  0]\n",
      "Epoch 18 - avg_train_loss: 0.7215  lr: 4.8179e-04  time: 56s\n",
      "Epoch 18 - Score: 0.5649\n"
     ]
    },
    {
     "name": "stdout",
     "output_type": "stream",
     "text": [
      "EVAL: [8/9] Data 0.000 (0.042) Elapsed 0m 4s (remain 0m 0s) \n",
      "Epoch: [19][0/40] Data 0.594 (0.594) Elapsed 0m 1s (remain 1m 13s) Loss: 0.4546(0.4546) Grad Norm: 12.2253  LR: 4.3712e-04  \n",
      "Epoch: [19][39/40] Data 0.000 (0.015) Elapsed 0m 51s (remain 0m 0s) Loss: 0.0241(0.7035) Grad Norm: 1.6990  LR: 4.3712e-04  \n",
      "EVAL: [0/9] Data 0.435 (0.435) Elapsed 0m 0s (remain 0m 7s) \n"
     ]
    },
    {
     "name": "stderr",
     "output_type": "stream",
     "text": [
      "labels: [11  2  3  7  6]\n",
      "pred_labels: [11  2  3  7 11]\n",
      "Epoch 19 - avg_train_loss: 0.7035  lr: 4.3712e-04  time: 56s\n",
      "Epoch 19 - Score: 0.6107\n"
     ]
    },
    {
     "name": "stdout",
     "output_type": "stream",
     "text": [
      "EVAL: [8/9] Data 0.000 (0.049) Elapsed 0m 4s (remain 0m 0s) \n",
      "Epoch: [20][0/40] Data 0.547 (0.547) Elapsed 0m 1s (remain 1m 11s) Loss: 1.3092(1.3092) Grad Norm: 8.0328  LR: 3.9299e-04  \n",
      "Epoch: [20][39/40] Data 0.000 (0.014) Elapsed 0m 51s (remain 0m 0s) Loss: 0.1910(0.6274) Grad Norm: 13.1338  LR: 3.9299e-04  \n",
      "EVAL: [0/9] Data 0.409 (0.409) Elapsed 0m 0s (remain 0m 6s) \n"
     ]
    },
    {
     "name": "stderr",
     "output_type": "stream",
     "text": [
      "labels: [11  2  3  7  6]\n",
      "pred_labels: [11  2  3  7  1]\n",
      "Epoch 20 - avg_train_loss: 0.6274  lr: 3.9299e-04  time: 56s\n",
      "Epoch 20 - Score: 0.6794\n"
     ]
    },
    {
     "name": "stdout",
     "output_type": "stream",
     "text": [
      "EVAL: [8/9] Data 0.000 (0.046) Elapsed 0m 4s (remain 0m 0s) \n",
      "Epoch: [21][0/40] Data 0.534 (0.534) Elapsed 0m 1s (remain 1m 10s) Loss: 1.2554(1.2554) Grad Norm: 5.6930  LR: 3.4975e-04  \n",
      "Epoch: [21][39/40] Data 0.000 (0.014) Elapsed 0m 51s (remain 0m 0s) Loss: 0.0072(0.5717) Grad Norm: 0.2914  LR: 3.4975e-04  \n",
      "EVAL: [0/9] Data 0.396 (0.396) Elapsed 0m 0s (remain 0m 6s) \n"
     ]
    },
    {
     "name": "stderr",
     "output_type": "stream",
     "text": [
      "labels: [11  2  3  7  6]\n",
      "pred_labels: [11  2  3  8 11]\n",
      "Epoch 21 - avg_train_loss: 0.5717  lr: 3.4975e-04  time: 56s\n",
      "Epoch 21 - Score: 0.7099\n",
      "Epoch 21 - Save Best Score: 0.7099 Model\n"
     ]
    },
    {
     "name": "stdout",
     "output_type": "stream",
     "text": [
      "EVAL: [8/9] Data 0.000 (0.044) Elapsed 0m 4s (remain 0m 0s) \n",
      "Epoch: [22][0/40] Data 0.524 (0.524) Elapsed 0m 1s (remain 1m 11s) Loss: 0.0118(0.0118) Grad Norm: 1.1439  LR: 3.0775e-04  \n",
      "Epoch: [22][39/40] Data 0.000 (0.013) Elapsed 0m 51s (remain 0m 0s) Loss: 0.0133(0.5844) Grad Norm: 0.7009  LR: 3.0775e-04  \n",
      "EVAL: [0/9] Data 0.371 (0.371) Elapsed 0m 0s (remain 0m 6s) \n"
     ]
    },
    {
     "name": "stderr",
     "output_type": "stream",
     "text": [
      "labels: [11  2  3  7  6]\n",
      "pred_labels: [11  2  3  7  6]\n",
      "Epoch 22 - avg_train_loss: 0.5844  lr: 3.0775e-04  time: 56s\n",
      "Epoch 22 - Score: 0.7099\n"
     ]
    },
    {
     "name": "stdout",
     "output_type": "stream",
     "text": [
      "EVAL: [8/9] Data 0.000 (0.042) Elapsed 0m 4s (remain 0m 0s) \n",
      "Epoch: [23][0/40] Data 0.596 (0.596) Elapsed 0m 1s (remain 1m 13s) Loss: 0.0062(0.0062) Grad Norm: 0.4025  LR: 2.6732e-04  \n",
      "Epoch: [23][39/40] Data 0.000 (0.015) Elapsed 0m 51s (remain 0m 0s) Loss: 0.9129(0.4394) Grad Norm: 4.3833  LR: 2.6732e-04  \n",
      "EVAL: [0/9] Data 0.364 (0.364) Elapsed 0m 0s (remain 0m 6s) \n"
     ]
    },
    {
     "name": "stderr",
     "output_type": "stream",
     "text": [
      "labels: [11  2  3  7  6]\n",
      "pred_labels: [11  2  3  7 11]\n",
      "Epoch 23 - avg_train_loss: 0.4394  lr: 2.6732e-04  time: 56s\n",
      "Epoch 23 - Score: 0.7023\n"
     ]
    },
    {
     "name": "stdout",
     "output_type": "stream",
     "text": [
      "EVAL: [8/9] Data 0.000 (0.041) Elapsed 0m 4s (remain 0m 0s) \n",
      "Epoch: [24][0/40] Data 0.522 (0.522) Elapsed 0m 1s (remain 1m 10s) Loss: 0.0047(0.0047) Grad Norm: 0.2669  LR: 2.2880e-04  \n",
      "Epoch: [24][39/40] Data 0.000 (0.013) Elapsed 0m 51s (remain 0m 0s) Loss: 0.6170(0.5086) Grad Norm: 5.0548  LR: 2.2880e-04  \n",
      "EVAL: [0/9] Data 0.432 (0.432) Elapsed 0m 0s (remain 0m 7s) \n"
     ]
    },
    {
     "name": "stderr",
     "output_type": "stream",
     "text": [
      "labels: [11  2  3  7  6]\n",
      "pred_labels: [11  2  3  7 11]\n",
      "Epoch 24 - avg_train_loss: 0.5086  lr: 2.2880e-04  time: 56s\n",
      "Epoch 24 - Score: 0.7023\n"
     ]
    },
    {
     "name": "stdout",
     "output_type": "stream",
     "text": [
      "EVAL: [8/9] Data 0.000 (0.048) Elapsed 0m 4s (remain 0m 0s) \n",
      "Epoch: [25][0/40] Data 0.539 (0.539) Elapsed 0m 1s (remain 1m 11s) Loss: 0.8183(0.8183) Grad Norm: 6.0316  LR: 1.9248e-04  \n",
      "Epoch: [25][39/40] Data 0.000 (0.014) Elapsed 0m 51s (remain 0m 0s) Loss: 0.0206(0.4806) Grad Norm: 2.3088  LR: 1.9248e-04  \n",
      "EVAL: [0/9] Data 0.373 (0.373) Elapsed 0m 0s (remain 0m 6s) \n"
     ]
    },
    {
     "name": "stderr",
     "output_type": "stream",
     "text": [
      "labels: [11  2  3  7  6]\n",
      "pred_labels: [11  2  3  4 11]\n",
      "Epoch 25 - avg_train_loss: 0.4806  lr: 1.9248e-04  time: 55s\n",
      "Epoch 25 - Score: 0.7481\n",
      "Epoch 25 - Save Best Score: 0.7481 Model\n"
     ]
    },
    {
     "name": "stdout",
     "output_type": "stream",
     "text": [
      "EVAL: [8/9] Data 0.000 (0.042) Elapsed 0m 4s (remain 0m 0s) \n",
      "Epoch: [26][0/40] Data 0.602 (0.602) Elapsed 0m 1s (remain 1m 14s) Loss: 0.7069(0.7069) Grad Norm: 3.3805  LR: 1.5867e-04  \n",
      "Epoch: [26][39/40] Data 0.000 (0.015) Elapsed 0m 51s (remain 0m 0s) Loss: 0.9958(0.4150) Grad Norm: 6.1845  LR: 1.5867e-04  \n",
      "EVAL: [0/9] Data 0.373 (0.373) Elapsed 0m 0s (remain 0m 6s) \n"
     ]
    },
    {
     "name": "stderr",
     "output_type": "stream",
     "text": [
      "labels: [11  2  3  7  6]\n",
      "pred_labels: [11  2  3  4  0]\n",
      "Epoch 26 - avg_train_loss: 0.4150  lr: 1.5867e-04  time: 56s\n",
      "Epoch 26 - Score: 0.6641\n"
     ]
    },
    {
     "name": "stdout",
     "output_type": "stream",
     "text": [
      "EVAL: [8/9] Data 0.000 (0.042) Elapsed 0m 4s (remain 0m 0s) \n",
      "Epoch: [27][0/40] Data 0.560 (0.560) Elapsed 0m 1s (remain 1m 11s) Loss: 0.0033(0.0033) Grad Norm: 0.4795  LR: 1.2762e-04  \n",
      "Epoch: [27][39/40] Data 0.000 (0.014) Elapsed 0m 51s (remain 0m 0s) Loss: 0.0024(0.5246) Grad Norm: 0.1043  LR: 1.2762e-04  \n",
      "EVAL: [0/9] Data 0.390 (0.390) Elapsed 0m 0s (remain 0m 6s) \n"
     ]
    },
    {
     "name": "stderr",
     "output_type": "stream",
     "text": [
      "labels: [11  2  3  7  6]\n",
      "pred_labels: [11  2  3  7  0]\n",
      "Epoch 27 - avg_train_loss: 0.5246  lr: 1.2762e-04  time: 56s\n",
      "Epoch 27 - Score: 0.7405\n"
     ]
    },
    {
     "name": "stdout",
     "output_type": "stream",
     "text": [
      "EVAL: [8/9] Data 0.000 (0.044) Elapsed 0m 4s (remain 0m 0s) \n",
      "Epoch: [28][0/40] Data 0.583 (0.583) Elapsed 0m 1s (remain 1m 12s) Loss: 0.9324(0.9324) Grad Norm: 23.9468  LR: 9.9584e-05  \n",
      "Epoch: [28][39/40] Data 0.000 (0.015) Elapsed 0m 51s (remain 0m 0s) Loss: 0.8435(0.4111) Grad Norm: 3.3374  LR: 9.9584e-05  \n",
      "EVAL: [0/9] Data 0.371 (0.371) Elapsed 0m 0s (remain 0m 6s) \n"
     ]
    },
    {
     "name": "stderr",
     "output_type": "stream",
     "text": [
      "labels: [11  2  3  7  6]\n",
      "pred_labels: [11  2  3  7 11]\n",
      "Epoch 28 - avg_train_loss: 0.4111  lr: 9.9584e-05  time: 56s\n",
      "Epoch 28 - Score: 0.7023\n"
     ]
    },
    {
     "name": "stdout",
     "output_type": "stream",
     "text": [
      "EVAL: [8/9] Data 0.000 (0.041) Elapsed 0m 4s (remain 0m 0s) \n",
      "Epoch: [29][0/40] Data 0.588 (0.588) Elapsed 0m 1s (remain 1m 12s) Loss: 0.0335(0.0335) Grad Norm: 2.2164  LR: 7.4783e-05  \n",
      "Epoch: [29][39/40] Data 0.000 (0.015) Elapsed 0m 51s (remain 0m 0s) Loss: 0.8627(0.4288) Grad Norm: 7.7449  LR: 7.4783e-05  \n",
      "EVAL: [0/9] Data 0.397 (0.397) Elapsed 0m 0s (remain 0m 6s) \n"
     ]
    },
    {
     "name": "stderr",
     "output_type": "stream",
     "text": [
      "labels: [11  2  3  7  6]\n",
      "pred_labels: [11  2  3  4 11]\n",
      "Epoch 29 - avg_train_loss: 0.4288  lr: 7.4783e-05  time: 56s\n",
      "Epoch 29 - Score: 0.7176\n"
     ]
    },
    {
     "name": "stdout",
     "output_type": "stream",
     "text": [
      "EVAL: [8/9] Data 0.000 (0.044) Elapsed 0m 4s (remain 0m 0s) \n",
      "Epoch: [30][0/40] Data 0.644 (0.644) Elapsed 0m 1s (remain 1m 15s) Loss: 0.8748(0.8748) Grad Norm: 7.1198  LR: 5.3404e-05  \n",
      "Epoch: [30][39/40] Data 0.000 (0.016) Elapsed 0m 51s (remain 0m 0s) Loss: 0.6396(0.4236) Grad Norm: 2.8236  LR: 5.3404e-05  \n",
      "EVAL: [0/9] Data 0.440 (0.440) Elapsed 0m 0s (remain 0m 7s) \n"
     ]
    },
    {
     "name": "stderr",
     "output_type": "stream",
     "text": [
      "labels: [11  2  3  7  6]\n",
      "pred_labels: [11  2  3  4 11]\n",
      "Epoch 30 - avg_train_loss: 0.4236  lr: 5.3404e-05  time: 56s\n",
      "Epoch 30 - Score: 0.6870\n"
     ]
    },
    {
     "name": "stdout",
     "output_type": "stream",
     "text": [
      "EVAL: [8/9] Data 0.000 (0.049) Elapsed 0m 4s (remain 0m 0s) \n",
      "Epoch: [31][0/40] Data 0.634 (0.634) Elapsed 0m 1s (remain 1m 14s) Loss: 0.0074(0.0074) Grad Norm: 1.9885  LR: 3.5607e-05  \n",
      "Epoch: [31][39/40] Data 0.000 (0.016) Elapsed 0m 51s (remain 0m 0s) Loss: 0.0006(0.0021) Grad Norm: 0.0183  LR: 3.5607e-05  \n",
      "EVAL: [0/9] Data 0.340 (0.340) Elapsed 0m 0s (remain 0m 6s) \n"
     ]
    },
    {
     "name": "stderr",
     "output_type": "stream",
     "text": [
      "labels: [11  2  3  7  6]\n",
      "pred_labels: [11  2  3  4 11]\n",
      "Epoch 31 - avg_train_loss: 0.0021  lr: 3.5607e-05  time: 55s\n",
      "Epoch 31 - Score: 0.6870\n"
     ]
    },
    {
     "name": "stdout",
     "output_type": "stream",
     "text": [
      "EVAL: [8/9] Data 0.000 (0.038) Elapsed 0m 4s (remain 0m 0s) \n",
      "Epoch: [32][0/40] Data 0.532 (0.532) Elapsed 0m 1s (remain 1m 10s) Loss: 0.0011(0.0011) Grad Norm: 0.0584  LR: 2.1508e-05  \n",
      "Epoch: [32][39/40] Data 0.000 (0.013) Elapsed 0m 51s (remain 0m 0s) Loss: 0.0015(0.0067) Grad Norm: 0.0970  LR: 2.1508e-05  \n",
      "EVAL: [0/9] Data 0.436 (0.436) Elapsed 0m 0s (remain 0m 7s) \n"
     ]
    },
    {
     "name": "stderr",
     "output_type": "stream",
     "text": [
      "labels: [11  2  3  7  6]\n",
      "pred_labels: [11  2  3  4 11]\n",
      "Epoch 32 - avg_train_loss: 0.0067  lr: 2.1508e-05  time: 55s\n",
      "Epoch 32 - Score: 0.6947\n"
     ]
    },
    {
     "name": "stdout",
     "output_type": "stream",
     "text": [
      "EVAL: [8/9] Data 0.000 (0.049) Elapsed 0m 4s (remain 0m 0s) \n",
      "Epoch: [33][0/40] Data 0.621 (0.621) Elapsed 0m 1s (remain 1m 13s) Loss: 0.0015(0.0015) Grad Norm: 0.0772  LR: 1.1173e-05  \n",
      "Epoch: [33][39/40] Data 0.000 (0.016) Elapsed 0m 51s (remain 0m 0s) Loss: 0.0005(0.0024) Grad Norm: 0.0198  LR: 1.1173e-05  \n",
      "EVAL: [0/9] Data 0.347 (0.347) Elapsed 0m 0s (remain 0m 6s) \n"
     ]
    },
    {
     "name": "stderr",
     "output_type": "stream",
     "text": [
      "labels: [11  2  3  7  6]\n",
      "pred_labels: [11  2  3  4 11]\n",
      "Epoch 33 - avg_train_loss: 0.0024  lr: 1.1173e-05  time: 55s\n",
      "Epoch 33 - Score: 0.6947\n"
     ]
    },
    {
     "name": "stdout",
     "output_type": "stream",
     "text": [
      "EVAL: [8/9] Data 0.000 (0.039) Elapsed 0m 4s (remain 0m 0s) \n",
      "Epoch: [34][0/40] Data 0.660 (0.660) Elapsed 0m 1s (remain 1m 15s) Loss: 0.0016(0.0016) Grad Norm: 0.0723  LR: 4.5796e-06  \n",
      "Epoch: [34][39/40] Data 0.000 (0.017) Elapsed 0m 51s (remain 0m 0s) Loss: 0.0071(0.0055) Grad Norm: 0.7529  LR: 4.5796e-06  \n",
      "EVAL: [0/9] Data 0.372 (0.372) Elapsed 0m 0s (remain 0m 6s) \n"
     ]
    },
    {
     "name": "stderr",
     "output_type": "stream",
     "text": [
      "labels: [11  2  3  7  6]\n",
      "pred_labels: [11  2  3  4 11]\n",
      "Epoch 34 - avg_train_loss: 0.0055  lr: 4.5796e-06  time: 56s\n",
      "Epoch 34 - Score: 0.6947\n"
     ]
    },
    {
     "name": "stdout",
     "output_type": "stream",
     "text": [
      "EVAL: [8/9] Data 0.000 (0.042) Elapsed 0m 4s (remain 0m 0s) \n",
      "Epoch: [35][0/40] Data 0.558 (0.558) Elapsed 0m 1s (remain 1m 11s) Loss: 0.0014(0.0014) Grad Norm: 0.0836  LR: 1.5037e-06  \n",
      "Epoch: [35][39/40] Data 0.000 (0.014) Elapsed 0m 51s (remain 0m 0s) Loss: 0.0023(0.0025) Grad Norm: 0.2835  LR: 1.5037e-06  \n",
      "EVAL: [0/9] Data 0.436 (0.436) Elapsed 0m 0s (remain 0m 7s) \n"
     ]
    },
    {
     "name": "stderr",
     "output_type": "stream",
     "text": [
      "labels: [11  2  3  7  6]\n",
      "pred_labels: [11  2  3  4 11]\n",
      "Epoch 35 - avg_train_loss: 0.0025  lr: 1.5037e-06  time: 55s\n",
      "Epoch 35 - Score: 0.6947\n",
      "==================== fold: 3, seed: 2 training ====================\n"
     ]
    },
    {
     "name": "stdout",
     "output_type": "stream",
     "text": [
      "EVAL: [8/9] Data 0.000 (0.049) Elapsed 0m 4s (remain 0m 0s) \n",
      "Epoch: [1][0/40] Data 0.518 (0.518) Elapsed 0m 1s (remain 1m 9s) Loss: 2.6678(2.6678) Grad Norm: inf  LR: 1.0000e-03  \n",
      "Epoch: [1][39/40] Data 0.000 (0.013) Elapsed 0m 51s (remain 0m 0s) Loss: 2.0479(2.4699) Grad Norm: 28.0991  LR: 1.0000e-03  \n",
      "EVAL: [0/9] Data 0.382 (0.382) Elapsed 0m 0s (remain 0m 6s) \n"
     ]
    },
    {
     "name": "stderr",
     "output_type": "stream",
     "text": [
      "labels: [ 5  2 11 10  8]\n",
      "pred_labels: [2 5 6 2 9]\n",
      "Epoch 1 - avg_train_loss: 2.4699  lr: 1.0000e-03  time: 56s\n",
      "Epoch 1 - Score: 0.3511\n",
      "Epoch 1 - Save Best Score: 0.3511 Model\n"
     ]
    },
    {
     "name": "stdout",
     "output_type": "stream",
     "text": [
      "EVAL: [8/9] Data 0.000 (0.043) Elapsed 0m 4s (remain 0m 0s) \n",
      "Epoch: [2][0/40] Data 0.691 (0.691) Elapsed 0m 1s (remain 1m 17s) Loss: 2.0180(2.0180) Grad Norm: 23.9170  LR: 9.9598e-04  \n",
      "Epoch: [2][39/40] Data 0.000 (0.017) Elapsed 0m 51s (remain 0m 0s) Loss: 1.8862(1.9720) Grad Norm: 17.0914  LR: 9.9598e-04  \n",
      "EVAL: [0/9] Data 0.394 (0.394) Elapsed 0m 0s (remain 0m 6s) \n"
     ]
    },
    {
     "name": "stderr",
     "output_type": "stream",
     "text": [
      "labels: [ 5  2 11 10  8]\n",
      "pred_labels: [ 2  5 11  2  8]\n",
      "Epoch 2 - avg_train_loss: 1.9720  lr: 9.9598e-04  time: 56s\n",
      "Epoch 2 - Score: 0.4427\n",
      "Epoch 2 - Save Best Score: 0.4427 Model\n"
     ]
    },
    {
     "name": "stdout",
     "output_type": "stream",
     "text": [
      "EVAL: [8/9] Data 0.000 (0.044) Elapsed 0m 4s (remain 0m 0s) \n",
      "Epoch: [3][0/40] Data 0.562 (0.562) Elapsed 0m 1s (remain 1m 12s) Loss: 2.1697(2.1697) Grad Norm: 12.2685  LR: 9.8599e-04  \n",
      "Epoch: [3][39/40] Data 0.000 (0.014) Elapsed 0m 51s (remain 0m 0s) Loss: 2.4290(1.6273) Grad Norm: 13.2917  LR: 9.8599e-04  \n",
      "EVAL: [0/9] Data 0.354 (0.354) Elapsed 0m 0s (remain 0m 6s) \n"
     ]
    },
    {
     "name": "stderr",
     "output_type": "stream",
     "text": [
      "labels: [ 5  2 11 10  8]\n",
      "pred_labels: [ 2  5 11  2  8]\n",
      "Epoch 3 - avg_train_loss: 1.6273  lr: 9.8599e-04  time: 56s\n",
      "Epoch 3 - Score: 0.5267\n",
      "Epoch 3 - Save Best Score: 0.5267 Model\n"
     ]
    },
    {
     "name": "stdout",
     "output_type": "stream",
     "text": [
      "EVAL: [8/9] Data 0.000 (0.040) Elapsed 0m 4s (remain 0m 0s) \n",
      "Epoch: [4][0/40] Data 0.655 (0.655) Elapsed 0m 1s (remain 1m 15s) Loss: 2.0270(2.0270) Grad Norm: 9.5201  LR: 9.7213e-04  \n",
      "Epoch: [4][39/40] Data 0.000 (0.017) Elapsed 0m 51s (remain 0m 0s) Loss: 1.0665(1.4787) Grad Norm: 11.0655  LR: 9.7213e-04  \n",
      "EVAL: [0/9] Data 0.414 (0.414) Elapsed 0m 0s (remain 0m 6s) \n"
     ]
    },
    {
     "name": "stderr",
     "output_type": "stream",
     "text": [
      "labels: [ 5  2 11 10  8]\n",
      "pred_labels: [ 1  5 11  3  8]\n",
      "Epoch 4 - avg_train_loss: 1.4787  lr: 9.7213e-04  time: 56s\n",
      "Epoch 4 - Score: 0.5725\n",
      "Epoch 4 - Save Best Score: 0.5725 Model\n"
     ]
    },
    {
     "name": "stdout",
     "output_type": "stream",
     "text": [
      "EVAL: [8/9] Data 0.000 (0.046) Elapsed 0m 4s (remain 0m 0s) \n",
      "Epoch: [5][0/40] Data 0.676 (0.676) Elapsed 0m 1s (remain 1m 16s) Loss: 1.9047(1.9047) Grad Norm: 8.2406  LR: 9.5449e-04  \n",
      "Epoch: [5][39/40] Data 0.000 (0.017) Elapsed 0m 51s (remain 0m 0s) Loss: 2.0271(1.2840) Grad Norm: 7.7290  LR: 9.5449e-04  \n",
      "EVAL: [0/9] Data 0.380 (0.380) Elapsed 0m 0s (remain 0m 6s) \n"
     ]
    },
    {
     "name": "stderr",
     "output_type": "stream",
     "text": [
      "labels: [ 5  2 11 10  8]\n",
      "pred_labels: [ 2  5 11  3  8]\n",
      "Epoch 5 - avg_train_loss: 1.2840  lr: 9.5449e-04  time: 56s\n",
      "Epoch 5 - Score: 0.5267\n"
     ]
    },
    {
     "name": "stdout",
     "output_type": "stream",
     "text": [
      "EVAL: [8/9] Data 0.000 (0.043) Elapsed 0m 4s (remain 0m 0s) \n",
      "Epoch: [6][0/40] Data 0.594 (0.594) Elapsed 0m 1s (remain 1m 12s) Loss: 1.8473(1.8473) Grad Norm: 8.5400  LR: 9.3324e-04  \n",
      "Epoch: [6][39/40] Data 0.000 (0.015) Elapsed 0m 51s (remain 0m 0s) Loss: 1.9032(1.1037) Grad Norm: 8.1212  LR: 9.3324e-04  \n",
      "EVAL: [0/9] Data 0.380 (0.380) Elapsed 0m 0s (remain 0m 6s) \n"
     ]
    },
    {
     "name": "stderr",
     "output_type": "stream",
     "text": [
      "labels: [ 5  2 11 10  8]\n",
      "pred_labels: [ 5  5 11  4  8]\n",
      "Epoch 6 - avg_train_loss: 1.1037  lr: 9.3324e-04  time: 56s\n",
      "Epoch 6 - Score: 0.5802\n",
      "Epoch 6 - Save Best Score: 0.5802 Model\n"
     ]
    },
    {
     "name": "stdout",
     "output_type": "stream",
     "text": [
      "EVAL: [8/9] Data 0.000 (0.042) Elapsed 0m 4s (remain 0m 0s) \n",
      "Epoch: [7][0/40] Data 0.739 (0.739) Elapsed 0m 2s (remain 1m 18s) Loss: 0.5568(0.5568) Grad Norm: 9.2528  LR: 9.0853e-04  \n",
      "Epoch: [7][39/40] Data 0.000 (0.019) Elapsed 0m 51s (remain 0m 0s) Loss: 1.5484(1.1646) Grad Norm: 8.5637  LR: 9.0853e-04  \n",
      "EVAL: [0/9] Data 0.387 (0.387) Elapsed 0m 0s (remain 0m 6s) \n"
     ]
    },
    {
     "name": "stderr",
     "output_type": "stream",
     "text": [
      "labels: [ 5  2 11 10  8]\n",
      "pred_labels: [ 5  5 11  1  8]\n",
      "Epoch 7 - avg_train_loss: 1.1646  lr: 9.0853e-04  time: 56s\n",
      "Epoch 7 - Score: 0.5954\n",
      "Epoch 7 - Save Best Score: 0.5954 Model\n"
     ]
    },
    {
     "name": "stdout",
     "output_type": "stream",
     "text": [
      "EVAL: [8/9] Data 0.000 (0.043) Elapsed 0m 4s (remain 0m 0s) \n",
      "Epoch: [8][0/40] Data 0.757 (0.757) Elapsed 0m 2s (remain 1m 19s) Loss: 0.3499(0.3499) Grad Norm: 6.9433  LR: 8.8057e-04  \n",
      "Epoch: [8][39/40] Data 0.000 (0.019) Elapsed 0m 51s (remain 0m 0s) Loss: 0.8653(0.9884) Grad Norm: 10.9375  LR: 8.8057e-04  \n",
      "EVAL: [0/9] Data 0.377 (0.377) Elapsed 0m 0s (remain 0m 6s) \n"
     ]
    },
    {
     "name": "stderr",
     "output_type": "stream",
     "text": [
      "labels: [ 5  2 11 10  8]\n",
      "pred_labels: [ 2  5 11  2  8]\n",
      "Epoch 8 - avg_train_loss: 0.9884  lr: 8.8057e-04  time: 56s\n",
      "Epoch 8 - Score: 0.5878\n"
     ]
    },
    {
     "name": "stdout",
     "output_type": "stream",
     "text": [
      "EVAL: [8/9] Data 0.000 (0.042) Elapsed 0m 4s (remain 0m 0s) \n",
      "Epoch: [9][0/40] Data 0.574 (0.574) Elapsed 0m 1s (remain 1m 12s) Loss: 1.4493(1.4493) Grad Norm: 4.7273  LR: 8.4958e-04  \n",
      "Epoch: [9][39/40] Data 0.000 (0.015) Elapsed 0m 51s (remain 0m 0s) Loss: 0.5936(1.0609) Grad Norm: 25.3501  LR: 8.4958e-04  \n",
      "EVAL: [0/9] Data 0.369 (0.369) Elapsed 0m 0s (remain 0m 6s) \n"
     ]
    },
    {
     "name": "stderr",
     "output_type": "stream",
     "text": [
      "labels: [ 5  2 11 10  8]\n",
      "pred_labels: [ 2  5 11  3  8]\n",
      "Epoch 9 - avg_train_loss: 1.0609  lr: 8.4958e-04  time: 56s\n",
      "Epoch 9 - Score: 0.5420\n"
     ]
    },
    {
     "name": "stdout",
     "output_type": "stream",
     "text": [
      "EVAL: [8/9] Data 0.000 (0.041) Elapsed 0m 4s (remain 0m 0s) \n",
      "Epoch: [10][0/40] Data 0.582 (0.582) Elapsed 0m 1s (remain 1m 12s) Loss: 0.2056(0.2056) Grad Norm: 8.3980  LR: 8.1581e-04  \n",
      "Epoch: [10][39/40] Data 0.000 (0.015) Elapsed 0m 51s (remain 0m 0s) Loss: 0.4227(0.8509) Grad Norm: 14.5517  LR: 8.1581e-04  \n",
      "EVAL: [0/9] Data 0.413 (0.413) Elapsed 0m 0s (remain 0m 6s) \n"
     ]
    },
    {
     "name": "stderr",
     "output_type": "stream",
     "text": [
      "labels: [ 5  2 11 10  8]\n",
      "pred_labels: [ 2  5 11 10  8]\n",
      "Epoch 10 - avg_train_loss: 0.8509  lr: 8.1581e-04  time: 56s\n",
      "Epoch 10 - Score: 0.6260\n",
      "Epoch 10 - Save Best Score: 0.6260 Model\n"
     ]
    },
    {
     "name": "stdout",
     "output_type": "stream",
     "text": [
      "EVAL: [8/9] Data 0.000 (0.046) Elapsed 0m 4s (remain 0m 0s) \n",
      "Epoch: [11][0/40] Data 0.698 (0.698) Elapsed 0m 1s (remain 1m 17s) Loss: 1.4315(1.4315) Grad Norm: 6.3893  LR: 7.7953e-04  \n",
      "Epoch: [11][39/40] Data 0.000 (0.018) Elapsed 0m 51s (remain 0m 0s) Loss: 0.3844(0.8997) Grad Norm: 7.9462  LR: 7.7953e-04  \n",
      "EVAL: [0/9] Data 0.356 (0.356) Elapsed 0m 0s (remain 0m 6s) \n"
     ]
    },
    {
     "name": "stderr",
     "output_type": "stream",
     "text": [
      "labels: [ 5  2 11 10  8]\n",
      "pred_labels: [ 3  5 11  1  8]\n",
      "Epoch 11 - avg_train_loss: 0.8997  lr: 7.7953e-04  time: 56s\n",
      "Epoch 11 - Score: 0.6031\n"
     ]
    },
    {
     "name": "stdout",
     "output_type": "stream",
     "text": [
      "EVAL: [8/9] Data 0.000 (0.040) Elapsed 0m 4s (remain 0m 0s) \n",
      "Epoch: [12][0/40] Data 0.486 (0.486) Elapsed 0m 1s (remain 1m 8s) Loss: 1.0866(1.0866) Grad Norm: 6.4109  LR: 7.4103e-04  \n",
      "Epoch: [12][39/40] Data 0.000 (0.012) Elapsed 0m 51s (remain 0m 0s) Loss: 1.1268(0.9064) Grad Norm: 4.8621  LR: 7.4103e-04  \n",
      "EVAL: [0/9] Data 0.426 (0.426) Elapsed 0m 0s (remain 0m 6s) \n"
     ]
    },
    {
     "name": "stderr",
     "output_type": "stream",
     "text": [
      "labels: [ 5  2 11 10  8]\n",
      "pred_labels: [ 2  5 11  3  8]\n",
      "Epoch 12 - avg_train_loss: 0.9064  lr: 7.4103e-04  time: 56s\n",
      "Epoch 12 - Score: 0.5954\n"
     ]
    },
    {
     "name": "stdout",
     "output_type": "stream",
     "text": [
      "EVAL: [8/9] Data 0.000 (0.048) Elapsed 0m 4s (remain 0m 0s) \n",
      "Epoch: [13][0/40] Data 0.573 (0.573) Elapsed 0m 1s (remain 1m 11s) Loss: 0.0803(0.0803) Grad Norm: 2.2445  LR: 7.0063e-04  \n",
      "Epoch: [13][39/40] Data 0.000 (0.014) Elapsed 0m 51s (remain 0m 0s) Loss: 0.4021(0.7036) Grad Norm: 9.2233  LR: 7.0063e-04  \n",
      "EVAL: [0/9] Data 0.334 (0.334) Elapsed 0m 0s (remain 0m 6s) \n"
     ]
    },
    {
     "name": "stderr",
     "output_type": "stream",
     "text": [
      "labels: [ 5  2 11 10  8]\n",
      "pred_labels: [ 2  5 10  1  8]\n",
      "Epoch 13 - avg_train_loss: 0.7036  lr: 7.0063e-04  time: 56s\n",
      "Epoch 13 - Score: 0.5649\n"
     ]
    },
    {
     "name": "stdout",
     "output_type": "stream",
     "text": [
      "EVAL: [8/9] Data 0.000 (0.037) Elapsed 0m 3s (remain 0m 0s) \n",
      "Epoch: [14][0/40] Data 0.592 (0.592) Elapsed 0m 1s (remain 1m 12s) Loss: 1.3563(1.3563) Grad Norm: 21.0272  LR: 6.5865e-04  \n",
      "Epoch: [14][39/40] Data 0.000 (0.015) Elapsed 0m 51s (remain 0m 0s) Loss: 0.9350(0.8696) Grad Norm: 15.1511  LR: 6.5865e-04  \n",
      "EVAL: [0/9] Data 0.424 (0.424) Elapsed 0m 0s (remain 0m 6s) \n"
     ]
    },
    {
     "name": "stderr",
     "output_type": "stream",
     "text": [
      "labels: [ 5  2 11 10  8]\n",
      "pred_labels: [ 2  5 11  3  8]\n",
      "Epoch 14 - avg_train_loss: 0.8696  lr: 6.5865e-04  time: 56s\n",
      "Epoch 14 - Score: 0.5344\n"
     ]
    },
    {
     "name": "stdout",
     "output_type": "stream",
     "text": [
      "EVAL: [8/9] Data 0.000 (0.047) Elapsed 0m 4s (remain 0m 0s) \n",
      "Epoch: [15][0/40] Data 0.584 (0.584) Elapsed 0m 1s (remain 1m 12s) Loss: 0.0395(0.0395) Grad Norm: 1.2191  LR: 6.1542e-04  \n",
      "Epoch: [15][39/40] Data 0.000 (0.015) Elapsed 0m 51s (remain 0m 0s) Loss: 1.5799(0.8079) Grad Norm: 7.3092  LR: 6.1542e-04  \n",
      "EVAL: [0/9] Data 0.405 (0.405) Elapsed 0m 0s (remain 0m 6s) \n"
     ]
    },
    {
     "name": "stderr",
     "output_type": "stream",
     "text": [
      "labels: [ 5  2 11 10  8]\n",
      "pred_labels: [ 2  5 11  5  8]\n",
      "Epoch 15 - avg_train_loss: 0.8079  lr: 6.1542e-04  time: 56s\n",
      "Epoch 15 - Score: 0.5649\n"
     ]
    },
    {
     "name": "stdout",
     "output_type": "stream",
     "text": [
      "EVAL: [8/9] Data 0.000 (0.045) Elapsed 0m 4s (remain 0m 0s) \n",
      "Epoch: [16][0/40] Data 0.526 (0.526) Elapsed 0m 1s (remain 1m 9s) Loss: 0.0807(0.0807) Grad Norm: 4.2478  LR: 5.7130e-04  \n",
      "Epoch: [16][39/40] Data 0.000 (0.013) Elapsed 0m 51s (remain 0m 0s) Loss: 0.2571(0.5907) Grad Norm: 12.7126  LR: 5.7130e-04  \n",
      "EVAL: [0/9] Data 0.411 (0.411) Elapsed 0m 0s (remain 0m 6s) \n"
     ]
    },
    {
     "name": "stderr",
     "output_type": "stream",
     "text": [
      "labels: [ 5  2 11 10  8]\n",
      "pred_labels: [ 2  5 11  4  8]\n",
      "Epoch 16 - avg_train_loss: 0.5907  lr: 5.7130e-04  time: 56s\n",
      "Epoch 16 - Score: 0.5954\n"
     ]
    },
    {
     "name": "stdout",
     "output_type": "stream",
     "text": [
      "EVAL: [8/9] Data 0.000 (0.046) Elapsed 0m 4s (remain 0m 0s) \n",
      "Epoch: [17][0/40] Data 0.552 (0.552) Elapsed 0m 1s (remain 1m 11s) Loss: 1.0416(1.0416) Grad Norm: 5.2630  LR: 5.2663e-04  \n",
      "Epoch: [17][39/40] Data 0.000 (0.014) Elapsed 0m 51s (remain 0m 0s) Loss: 1.7212(0.6839) Grad Norm: 8.5872  LR: 5.2663e-04  \n",
      "EVAL: [0/9] Data 0.401 (0.401) Elapsed 0m 0s (remain 0m 6s) \n"
     ]
    },
    {
     "name": "stderr",
     "output_type": "stream",
     "text": [
      "labels: [ 5  2 11 10  8]\n",
      "pred_labels: [ 2  5 11  4  8]\n",
      "Epoch 17 - avg_train_loss: 0.6839  lr: 5.2663e-04  time: 56s\n",
      "Epoch 17 - Score: 0.5649\n"
     ]
    },
    {
     "name": "stdout",
     "output_type": "stream",
     "text": [
      "EVAL: [8/9] Data 0.000 (0.045) Elapsed 0m 4s (remain 0m 0s) \n",
      "Epoch: [18][0/40] Data 0.568 (0.568) Elapsed 0m 1s (remain 1m 11s) Loss: 0.0677(0.0677) Grad Norm: 2.3689  LR: 4.8179e-04  \n",
      "Epoch: [18][39/40] Data 0.000 (0.014) Elapsed 0m 51s (remain 0m 0s) Loss: 0.0086(0.5707) Grad Norm: 0.8712  LR: 4.8179e-04  \n",
      "EVAL: [0/9] Data 0.329 (0.329) Elapsed 0m 0s (remain 0m 6s) \n"
     ]
    },
    {
     "name": "stderr",
     "output_type": "stream",
     "text": [
      "labels: [ 5  2 11 10  8]\n",
      "pred_labels: [ 5  5 11  4  8]\n",
      "Epoch 18 - avg_train_loss: 0.5707  lr: 4.8179e-04  time: 55s\n",
      "Epoch 18 - Score: 0.6183\n"
     ]
    },
    {
     "name": "stdout",
     "output_type": "stream",
     "text": [
      "EVAL: [8/9] Data 0.000 (0.037) Elapsed 0m 3s (remain 0m 0s) \n",
      "Epoch: [19][0/40] Data 0.634 (0.634) Elapsed 0m 1s (remain 1m 14s) Loss: 1.0438(1.0438) Grad Norm: 4.4180  LR: 4.3712e-04  \n",
      "Epoch: [19][39/40] Data 0.000 (0.016) Elapsed 0m 51s (remain 0m 0s) Loss: 1.0908(0.7041) Grad Norm: 5.3103  LR: 4.3712e-04  \n",
      "EVAL: [0/9] Data 0.461 (0.461) Elapsed 0m 0s (remain 0m 7s) \n"
     ]
    },
    {
     "name": "stderr",
     "output_type": "stream",
     "text": [
      "labels: [ 5  2 11 10  8]\n",
      "pred_labels: [ 5  5 11  4  8]\n",
      "Epoch 19 - avg_train_loss: 0.7041  lr: 4.3712e-04  time: 56s\n",
      "Epoch 19 - Score: 0.5954\n"
     ]
    },
    {
     "name": "stdout",
     "output_type": "stream",
     "text": [
      "EVAL: [8/9] Data 0.000 (0.051) Elapsed 0m 4s (remain 0m 0s) \n",
      "Epoch: [20][0/40] Data 0.557 (0.557) Elapsed 0m 1s (remain 1m 11s) Loss: 1.5028(1.5028) Grad Norm: 4.4203  LR: 3.9299e-04  \n",
      "Epoch: [20][39/40] Data 0.000 (0.014) Elapsed 0m 51s (remain 0m 0s) Loss: 1.3172(0.5751) Grad Norm: 9.0269  LR: 3.9299e-04  \n",
      "EVAL: [0/9] Data 0.381 (0.381) Elapsed 0m 0s (remain 0m 6s) \n"
     ]
    },
    {
     "name": "stderr",
     "output_type": "stream",
     "text": [
      "labels: [ 5  2 11 10  8]\n",
      "pred_labels: [ 5  5 11  3  8]\n",
      "Epoch 20 - avg_train_loss: 0.5751  lr: 3.9299e-04  time: 56s\n",
      "Epoch 20 - Score: 0.5802\n"
     ]
    },
    {
     "name": "stdout",
     "output_type": "stream",
     "text": [
      "EVAL: [8/9] Data 0.000 (0.043) Elapsed 0m 4s (remain 0m 0s) \n",
      "Epoch: [21][0/40] Data 0.549 (0.549) Elapsed 0m 1s (remain 1m 11s) Loss: 1.1244(1.1244) Grad Norm: 6.9797  LR: 3.4975e-04  \n",
      "Epoch: [21][39/40] Data 0.000 (0.014) Elapsed 0m 51s (remain 0m 0s) Loss: 0.1053(0.5625) Grad Norm: 10.4191  LR: 3.4975e-04  \n",
      "EVAL: [0/9] Data 0.367 (0.367) Elapsed 0m 0s (remain 0m 6s) \n"
     ]
    },
    {
     "name": "stderr",
     "output_type": "stream",
     "text": [
      "labels: [ 5  2 11 10  8]\n",
      "pred_labels: [ 3  5 11  4  8]\n",
      "Epoch 21 - avg_train_loss: 0.5625  lr: 3.4975e-04  time: 56s\n",
      "Epoch 21 - Score: 0.5573\n"
     ]
    },
    {
     "name": "stdout",
     "output_type": "stream",
     "text": [
      "EVAL: [8/9] Data 0.000 (0.041) Elapsed 0m 4s (remain 0m 0s) \n",
      "Epoch: [22][0/40] Data 0.630 (0.630) Elapsed 0m 1s (remain 1m 14s) Loss: 0.0265(0.0265) Grad Norm: 2.7110  LR: 3.0775e-04  \n",
      "Epoch: [22][39/40] Data 0.000 (0.016) Elapsed 0m 51s (remain 0m 0s) Loss: 0.1624(0.5228) Grad Norm: 8.1466  LR: 3.0775e-04  \n",
      "EVAL: [0/9] Data 0.384 (0.384) Elapsed 0m 0s (remain 0m 6s) \n"
     ]
    },
    {
     "name": "stderr",
     "output_type": "stream",
     "text": [
      "labels: [ 5  2 11 10  8]\n",
      "pred_labels: [ 5  5 11  2  8]\n",
      "Epoch 22 - avg_train_loss: 0.5228  lr: 3.0775e-04  time: 56s\n",
      "Epoch 22 - Score: 0.5954\n"
     ]
    },
    {
     "name": "stdout",
     "output_type": "stream",
     "text": [
      "EVAL: [8/9] Data 0.000 (0.043) Elapsed 0m 4s (remain 0m 0s) \n",
      "Epoch: [23][0/40] Data 0.543 (0.543) Elapsed 0m 1s (remain 1m 10s) Loss: 0.0061(0.0061) Grad Norm: 0.3290  LR: 2.6732e-04  \n",
      "Epoch: [23][39/40] Data 0.000 (0.014) Elapsed 0m 51s (remain 0m 0s) Loss: 1.0793(0.6034) Grad Norm: 5.3454  LR: 2.6732e-04  \n",
      "EVAL: [0/9] Data 0.369 (0.369) Elapsed 0m 0s (remain 0m 6s) \n"
     ]
    },
    {
     "name": "stderr",
     "output_type": "stream",
     "text": [
      "labels: [ 5  2 11 10  8]\n",
      "pred_labels: [ 3  5 11  2  8]\n",
      "Epoch 23 - avg_train_loss: 0.6034  lr: 2.6732e-04  time: 55s\n",
      "Epoch 23 - Score: 0.5954\n"
     ]
    },
    {
     "name": "stdout",
     "output_type": "stream",
     "text": [
      "EVAL: [8/9] Data 0.000 (0.041) Elapsed 0m 4s (remain 0m 0s) \n",
      "Epoch: [24][0/40] Data 0.536 (0.536) Elapsed 0m 1s (remain 1m 10s) Loss: 1.0039(1.0039) Grad Norm: 13.5758  LR: 2.2880e-04  \n",
      "Epoch: [24][39/40] Data 0.000 (0.014) Elapsed 0m 51s (remain 0m 0s) Loss: 0.0064(0.4661) Grad Norm: 0.1832  LR: 2.2880e-04  \n",
      "EVAL: [0/9] Data 0.398 (0.398) Elapsed 0m 0s (remain 0m 6s) \n"
     ]
    },
    {
     "name": "stderr",
     "output_type": "stream",
     "text": [
      "labels: [ 5  2 11 10  8]\n",
      "pred_labels: [ 3  5 11  4  8]\n",
      "Epoch 24 - avg_train_loss: 0.4661  lr: 2.2880e-04  time: 55s\n",
      "Epoch 24 - Score: 0.5954\n"
     ]
    },
    {
     "name": "stdout",
     "output_type": "stream",
     "text": [
      "EVAL: [8/9] Data 0.000 (0.044) Elapsed 0m 4s (remain 0m 0s) \n",
      "Epoch: [25][0/40] Data 0.553 (0.553) Elapsed 0m 1s (remain 1m 11s) Loss: 0.0054(0.0054) Grad Norm: 0.2042  LR: 1.9248e-04  \n",
      "Epoch: [25][39/40] Data 0.000 (0.014) Elapsed 0m 51s (remain 0m 0s) Loss: 0.7022(0.5187) Grad Norm: 4.9005  LR: 1.9248e-04  \n",
      "EVAL: [0/9] Data 0.407 (0.407) Elapsed 0m 0s (remain 0m 6s) \n"
     ]
    },
    {
     "name": "stderr",
     "output_type": "stream",
     "text": [
      "labels: [ 5  2 11 10  8]\n",
      "pred_labels: [ 5  5 11  5  8]\n",
      "Epoch 25 - avg_train_loss: 0.5187  lr: 1.9248e-04  time: 55s\n",
      "Epoch 25 - Score: 0.6260\n"
     ]
    },
    {
     "name": "stdout",
     "output_type": "stream",
     "text": [
      "EVAL: [8/9] Data 0.000 (0.045) Elapsed 0m 4s (remain 0m 0s) \n",
      "Epoch: [26][0/40] Data 0.558 (0.558) Elapsed 0m 1s (remain 1m 11s) Loss: 0.9651(0.9651) Grad Norm: 9.1394  LR: 1.5867e-04  \n",
      "Epoch: [26][39/40] Data 0.000 (0.014) Elapsed 0m 51s (remain 0m 0s) Loss: 0.0370(0.4625) Grad Norm: 5.6060  LR: 1.5867e-04  \n",
      "EVAL: [0/9] Data 0.433 (0.433) Elapsed 0m 0s (remain 0m 7s) \n"
     ]
    },
    {
     "name": "stderr",
     "output_type": "stream",
     "text": [
      "labels: [ 5  2 11 10  8]\n",
      "pred_labels: [ 3  5 11  2  8]\n",
      "Epoch 26 - avg_train_loss: 0.4625  lr: 1.5867e-04  time: 56s\n",
      "Epoch 26 - Score: 0.6260\n"
     ]
    },
    {
     "name": "stdout",
     "output_type": "stream",
     "text": [
      "EVAL: [8/9] Data 0.000 (0.048) Elapsed 0m 4s (remain 0m 0s) \n",
      "Epoch: [27][0/40] Data 0.590 (0.590) Elapsed 0m 1s (remain 1m 12s) Loss: 0.9835(0.9835) Grad Norm: 6.9876  LR: 1.2762e-04  \n",
      "Epoch: [27][39/40] Data 0.000 (0.015) Elapsed 0m 51s (remain 0m 0s) Loss: 0.0010(0.3485) Grad Norm: 0.0528  LR: 1.2762e-04  \n",
      "EVAL: [0/9] Data 0.398 (0.398) Elapsed 0m 0s (remain 0m 6s) \n"
     ]
    },
    {
     "name": "stderr",
     "output_type": "stream",
     "text": [
      "labels: [ 5  2 11 10  8]\n",
      "pred_labels: [ 5  5 11  2  8]\n",
      "Epoch 27 - avg_train_loss: 0.3485  lr: 1.2762e-04  time: 56s\n",
      "Epoch 27 - Score: 0.6031\n"
     ]
    },
    {
     "name": "stdout",
     "output_type": "stream",
     "text": [
      "EVAL: [8/9] Data 0.000 (0.044) Elapsed 0m 4s (remain 0m 0s) \n",
      "Epoch: [28][0/40] Data 0.509 (0.509) Elapsed 0m 1s (remain 1m 9s) Loss: 0.0008(0.0008) Grad Norm: 0.1219  LR: 9.9584e-05  \n",
      "Epoch: [28][39/40] Data 0.000 (0.013) Elapsed 0m 51s (remain 0m 0s) Loss: 0.8157(0.4760) Grad Norm: 4.9202  LR: 9.9584e-05  \n",
      "EVAL: [0/9] Data 0.371 (0.371) Elapsed 0m 0s (remain 0m 6s) \n"
     ]
    },
    {
     "name": "stderr",
     "output_type": "stream",
     "text": [
      "labels: [ 5  2 11 10  8]\n",
      "pred_labels: [ 2  5 11  2  8]\n",
      "Epoch 28 - avg_train_loss: 0.4760  lr: 9.9584e-05  time: 55s\n",
      "Epoch 28 - Score: 0.6031\n"
     ]
    },
    {
     "name": "stdout",
     "output_type": "stream",
     "text": [
      "EVAL: [8/9] Data 0.000 (0.041) Elapsed 0m 4s (remain 0m 0s) \n",
      "Epoch: [29][0/40] Data 0.567 (0.567) Elapsed 0m 1s (remain 1m 11s) Loss: 0.0009(0.0009) Grad Norm: 0.0433  LR: 7.4783e-05  \n",
      "Epoch: [29][39/40] Data 0.000 (0.014) Elapsed 0m 51s (remain 0m 0s) Loss: 0.0048(0.3166) Grad Norm: 0.5280  LR: 7.4783e-05  \n",
      "EVAL: [0/9] Data 0.323 (0.323) Elapsed 0m 0s (remain 0m 6s) \n"
     ]
    },
    {
     "name": "stderr",
     "output_type": "stream",
     "text": [
      "labels: [ 5  2 11 10  8]\n",
      "pred_labels: [ 3  5 11  4  8]\n",
      "Epoch 29 - avg_train_loss: 0.3166  lr: 7.4783e-05  time: 55s\n",
      "Epoch 29 - Score: 0.6107\n"
     ]
    },
    {
     "name": "stdout",
     "output_type": "stream",
     "text": [
      "EVAL: [8/9] Data 0.000 (0.036) Elapsed 0m 3s (remain 0m 0s) \n",
      "Epoch: [30][0/40] Data 0.601 (0.601) Elapsed 0m 1s (remain 1m 12s) Loss: 0.0007(0.0007) Grad Norm: 0.0204  LR: 5.3404e-05  \n",
      "Epoch: [30][39/40] Data 0.000 (0.015) Elapsed 0m 51s (remain 0m 0s) Loss: 0.7837(0.4906) Grad Norm: 4.3455  LR: 5.3404e-05  \n",
      "EVAL: [0/9] Data 0.378 (0.378) Elapsed 0m 0s (remain 0m 6s) \n"
     ]
    },
    {
     "name": "stderr",
     "output_type": "stream",
     "text": [
      "labels: [ 5  2 11 10  8]\n",
      "pred_labels: [ 2  5 11  4  8]\n",
      "Epoch 30 - avg_train_loss: 0.4906  lr: 5.3404e-05  time: 56s\n",
      "Epoch 30 - Score: 0.6260\n"
     ]
    },
    {
     "name": "stdout",
     "output_type": "stream",
     "text": [
      "EVAL: [8/9] Data 0.000 (0.042) Elapsed 0m 4s (remain 0m 0s) \n",
      "Epoch: [31][0/40] Data 0.543 (0.543) Elapsed 0m 1s (remain 1m 10s) Loss: 0.0027(0.0027) Grad Norm: 0.1990  LR: 3.5607e-05  \n",
      "Epoch: [31][39/40] Data 0.000 (0.014) Elapsed 0m 51s (remain 0m 0s) Loss: 0.0009(0.0103) Grad Norm: 0.0307  LR: 3.5607e-05  \n",
      "EVAL: [0/9] Data 0.380 (0.380) Elapsed 0m 0s (remain 0m 6s) \n"
     ]
    },
    {
     "name": "stderr",
     "output_type": "stream",
     "text": [
      "labels: [ 5  2 11 10  8]\n",
      "pred_labels: [ 2  5 11  4  8]\n",
      "Epoch 31 - avg_train_loss: 0.0103  lr: 3.5607e-05  time: 55s\n",
      "Epoch 31 - Score: 0.6260\n"
     ]
    },
    {
     "name": "stdout",
     "output_type": "stream",
     "text": [
      "EVAL: [8/9] Data 0.000 (0.042) Elapsed 0m 4s (remain 0m 0s) \n",
      "Epoch: [32][0/40] Data 0.613 (0.613) Elapsed 0m 1s (remain 1m 13s) Loss: 0.0012(0.0012) Grad Norm: 0.0929  LR: 2.1508e-05  \n",
      "Epoch: [32][39/40] Data 0.000 (0.015) Elapsed 0m 51s (remain 0m 0s) Loss: 0.0107(0.0083) Grad Norm: 1.3670  LR: 2.1508e-05  \n",
      "EVAL: [0/9] Data 0.373 (0.373) Elapsed 0m 0s (remain 0m 6s) \n"
     ]
    },
    {
     "name": "stderr",
     "output_type": "stream",
     "text": [
      "labels: [ 5  2 11 10  8]\n",
      "pred_labels: [ 2  5 11  4  8]\n",
      "Epoch 32 - avg_train_loss: 0.0083  lr: 2.1508e-05  time: 55s\n",
      "Epoch 32 - Score: 0.6260\n"
     ]
    },
    {
     "name": "stdout",
     "output_type": "stream",
     "text": [
      "EVAL: [8/9] Data 0.000 (0.042) Elapsed 0m 4s (remain 0m 0s) \n",
      "Epoch: [33][0/40] Data 0.606 (0.606) Elapsed 0m 1s (remain 1m 13s) Loss: 0.0005(0.0005) Grad Norm: 0.0367  LR: 1.1173e-05  \n",
      "Epoch: [33][39/40] Data 0.000 (0.015) Elapsed 0m 51s (remain 0m 0s) Loss: 0.0032(0.0054) Grad Norm: 0.3571  LR: 1.1173e-05  \n",
      "EVAL: [0/9] Data 0.391 (0.391) Elapsed 0m 0s (remain 0m 6s) \n"
     ]
    },
    {
     "name": "stderr",
     "output_type": "stream",
     "text": [
      "labels: [ 5  2 11 10  8]\n",
      "pred_labels: [ 3  5 11  4  8]\n",
      "Epoch 33 - avg_train_loss: 0.0054  lr: 1.1173e-05  time: 56s\n",
      "Epoch 33 - Score: 0.6260\n"
     ]
    },
    {
     "name": "stdout",
     "output_type": "stream",
     "text": [
      "EVAL: [8/9] Data 0.000 (0.044) Elapsed 0m 4s (remain 0m 0s) \n",
      "Epoch: [34][0/40] Data 0.704 (0.704) Elapsed 0m 1s (remain 1m 17s) Loss: 0.0029(0.0029) Grad Norm: 0.1606  LR: 4.5796e-06  \n",
      "Epoch: [34][39/40] Data 0.000 (0.018) Elapsed 0m 51s (remain 0m 0s) Loss: 0.0009(0.0039) Grad Norm: 0.0328  LR: 4.5796e-06  \n",
      "EVAL: [0/9] Data 0.384 (0.384) Elapsed 0m 0s (remain 0m 6s) \n"
     ]
    },
    {
     "name": "stderr",
     "output_type": "stream",
     "text": [
      "labels: [ 5  2 11 10  8]\n",
      "pred_labels: [ 3  5 11  4  8]\n",
      "Epoch 34 - avg_train_loss: 0.0039  lr: 4.5796e-06  time: 56s\n",
      "Epoch 34 - Score: 0.6183\n"
     ]
    },
    {
     "name": "stdout",
     "output_type": "stream",
     "text": [
      "EVAL: [8/9] Data 0.000 (0.043) Elapsed 0m 4s (remain 0m 0s) \n",
      "Epoch: [35][0/40] Data 0.550 (0.550) Elapsed 0m 1s (remain 1m 10s) Loss: 0.0004(0.0004) Grad Norm: 0.0191  LR: 1.5037e-06  \n",
      "Epoch: [35][39/40] Data 0.000 (0.014) Elapsed 0m 51s (remain 0m 0s) Loss: 0.0132(0.0129) Grad Norm: 2.4765  LR: 1.5037e-06  \n",
      "EVAL: [0/9] Data 0.384 (0.384) Elapsed 0m 0s (remain 0m 6s) \n"
     ]
    },
    {
     "name": "stderr",
     "output_type": "stream",
     "text": [
      "labels: [ 5  2 11 10  8]\n",
      "pred_labels: [ 3  5 11  4  8]\n",
      "Epoch 35 - avg_train_loss: 0.0129  lr: 1.5037e-06  time: 55s\n",
      "Epoch 35 - Score: 0.6183\n",
      "==================== fold: 4, seed: 2 training ====================\n"
     ]
    },
    {
     "name": "stdout",
     "output_type": "stream",
     "text": [
      "EVAL: [8/9] Data 0.000 (0.043) Elapsed 0m 4s (remain 0m 0s) \n",
      "Epoch: [1][0/40] Data 0.548 (0.548) Elapsed 0m 1s (remain 1m 11s) Loss: 2.4533(2.4533) Grad Norm: inf  LR: 1.0000e-03  \n",
      "Epoch: [1][39/40] Data 0.000 (0.014) Elapsed 0m 51s (remain 0m 0s) Loss: 2.1010(2.4601) Grad Norm: 13.2111  LR: 1.0000e-03  \n",
      "EVAL: [0/9] Data 0.425 (0.425) Elapsed 0m 0s (remain 0m 6s) \n"
     ]
    },
    {
     "name": "stderr",
     "output_type": "stream",
     "text": [
      "labels: [8 6 2 3 6]\n",
      "pred_labels: [6 9 9 9 7]\n",
      "Epoch 1 - avg_train_loss: 2.4601  lr: 1.0000e-03  time: 56s\n",
      "Epoch 1 - Score: 0.3231\n",
      "Epoch 1 - Save Best Score: 0.3231 Model\n"
     ]
    },
    {
     "name": "stdout",
     "output_type": "stream",
     "text": [
      "EVAL: [8/9] Data 0.000 (0.048) Elapsed 0m 4s (remain 0m 0s) \n",
      "Epoch: [2][0/40] Data 0.671 (0.671) Elapsed 0m 1s (remain 1m 16s) Loss: 2.2582(2.2582) Grad Norm: 11.0010  LR: 9.9598e-04  \n",
      "Epoch: [2][39/40] Data 0.000 (0.017) Elapsed 0m 51s (remain 0m 0s) Loss: 2.2361(1.9822) Grad Norm: 21.1769  LR: 9.9598e-04  \n",
      "EVAL: [0/9] Data 0.342 (0.342) Elapsed 0m 0s (remain 0m 6s) \n"
     ]
    },
    {
     "name": "stderr",
     "output_type": "stream",
     "text": [
      "labels: [8 6 2 3 6]\n",
      "pred_labels: [8 2 5 2 7]\n",
      "Epoch 2 - avg_train_loss: 1.9822  lr: 9.9598e-04  time: 56s\n",
      "Epoch 2 - Score: 0.4308\n",
      "Epoch 2 - Save Best Score: 0.4308 Model\n"
     ]
    },
    {
     "name": "stdout",
     "output_type": "stream",
     "text": [
      "EVAL: [8/9] Data 0.000 (0.038) Elapsed 0m 3s (remain 0m 0s) \n",
      "Epoch: [3][0/40] Data 0.663 (0.663) Elapsed 0m 1s (remain 1m 16s) Loss: 1.7149(1.7149) Grad Norm: 62.6292  LR: 9.8599e-04  \n",
      "Epoch: [3][39/40] Data 0.000 (0.017) Elapsed 0m 51s (remain 0m 0s) Loss: 1.8720(1.7929) Grad Norm: 7.6094  LR: 9.8599e-04  \n",
      "EVAL: [0/9] Data 0.406 (0.406) Elapsed 0m 0s (remain 0m 6s) \n"
     ]
    },
    {
     "name": "stderr",
     "output_type": "stream",
     "text": [
      "labels: [8 6 2 3 6]\n",
      "pred_labels: [8 6 2 2 7]\n",
      "Epoch 3 - avg_train_loss: 1.7929  lr: 9.8599e-04  time: 56s\n",
      "Epoch 3 - Score: 0.4769\n",
      "Epoch 3 - Save Best Score: 0.4769 Model\n"
     ]
    },
    {
     "name": "stdout",
     "output_type": "stream",
     "text": [
      "EVAL: [8/9] Data 0.000 (0.045) Elapsed 0m 4s (remain 0m 0s) \n",
      "Epoch: [4][0/40] Data 0.775 (0.775) Elapsed 0m 2s (remain 1m 20s) Loss: 1.5531(1.5531) Grad Norm: 16.2844  LR: 9.7213e-04  \n",
      "Epoch: [4][39/40] Data 0.000 (0.020) Elapsed 0m 51s (remain 0m 0s) Loss: 1.7573(1.5213) Grad Norm: 8.3893  LR: 9.7213e-04  \n",
      "EVAL: [0/9] Data 0.480 (0.480) Elapsed 0m 0s (remain 0m 7s) \n"
     ]
    },
    {
     "name": "stderr",
     "output_type": "stream",
     "text": [
      "labels: [8 6 2 3 6]\n",
      "pred_labels: [8 0 5 2 0]\n",
      "Epoch 4 - avg_train_loss: 1.5213  lr: 9.7213e-04  time: 56s\n",
      "Epoch 4 - Score: 0.5846\n",
      "Epoch 4 - Save Best Score: 0.5846 Model\n"
     ]
    },
    {
     "name": "stdout",
     "output_type": "stream",
     "text": [
      "EVAL: [8/9] Data 0.000 (0.054) Elapsed 0m 4s (remain 0m 0s) \n",
      "Epoch: [5][0/40] Data 0.592 (0.592) Elapsed 0m 1s (remain 1m 13s) Loss: 1.4490(1.4490) Grad Norm: 7.3279  LR: 9.5449e-04  \n",
      "Epoch: [5][39/40] Data 0.000 (0.015) Elapsed 0m 51s (remain 0m 0s) Loss: 0.8773(1.3076) Grad Norm: 9.2712  LR: 9.5449e-04  \n",
      "EVAL: [0/9] Data 0.382 (0.382) Elapsed 0m 0s (remain 0m 6s) \n"
     ]
    },
    {
     "name": "stderr",
     "output_type": "stream",
     "text": [
      "labels: [8 6 2 3 6]\n",
      "pred_labels: [8 0 5 4 0]\n",
      "Epoch 5 - avg_train_loss: 1.3076  lr: 9.5449e-04  time: 56s\n",
      "Epoch 5 - Score: 0.5615\n"
     ]
    },
    {
     "name": "stdout",
     "output_type": "stream",
     "text": [
      "EVAL: [8/9] Data 0.000 (0.043) Elapsed 0m 4s (remain 0m 0s) \n",
      "Epoch: [6][0/40] Data 0.576 (0.576) Elapsed 0m 1s (remain 1m 12s) Loss: 0.3136(0.3136) Grad Norm: 5.5569  LR: 9.3324e-04  \n",
      "Epoch: [6][39/40] Data 0.000 (0.015) Elapsed 0m 51s (remain 0m 0s) Loss: 1.5271(1.4098) Grad Norm: 10.2466  LR: 9.3324e-04  \n",
      "EVAL: [0/9] Data 0.385 (0.385) Elapsed 0m 0s (remain 0m 6s) \n"
     ]
    },
    {
     "name": "stderr",
     "output_type": "stream",
     "text": [
      "labels: [8 6 2 3 6]\n",
      "pred_labels: [8 0 5 4 2]\n",
      "Epoch 6 - avg_train_loss: 1.4098  lr: 9.3324e-04  time: 56s\n",
      "Epoch 6 - Score: 0.6000\n",
      "Epoch 6 - Save Best Score: 0.6000 Model\n"
     ]
    },
    {
     "name": "stdout",
     "output_type": "stream",
     "text": [
      "EVAL: [8/9] Data 0.000 (0.043) Elapsed 0m 4s (remain 0m 0s) \n",
      "Epoch: [7][0/40] Data 0.618 (0.618) Elapsed 0m 1s (remain 1m 14s) Loss: 0.4856(0.4856) Grad Norm: 7.6885  LR: 9.0853e-04  \n",
      "Epoch: [7][39/40] Data 0.000 (0.016) Elapsed 0m 51s (remain 0m 0s) Loss: 0.8002(1.0524) Grad Norm: 12.7467  LR: 9.0853e-04  \n",
      "EVAL: [0/9] Data 0.362 (0.362) Elapsed 0m 0s (remain 0m 6s) \n"
     ]
    },
    {
     "name": "stderr",
     "output_type": "stream",
     "text": [
      "labels: [8 6 2 3 6]\n",
      "pred_labels: [8 0 2 4 0]\n",
      "Epoch 7 - avg_train_loss: 1.0524  lr: 9.0853e-04  time: 56s\n",
      "Epoch 7 - Score: 0.5846\n"
     ]
    },
    {
     "name": "stdout",
     "output_type": "stream",
     "text": [
      "EVAL: [8/9] Data 0.000 (0.041) Elapsed 0m 3s (remain 0m 0s) \n",
      "Epoch: [8][0/40] Data 0.570 (0.570) Elapsed 0m 1s (remain 1m 11s) Loss: 1.5188(1.5188) Grad Norm: 7.2021  LR: 8.8057e-04  \n",
      "Epoch: [8][39/40] Data 0.000 (0.014) Elapsed 0m 51s (remain 0m 0s) Loss: 1.4235(0.9174) Grad Norm: 16.3822  LR: 8.8057e-04  \n",
      "EVAL: [0/9] Data 0.393 (0.393) Elapsed 0m 0s (remain 0m 6s) \n"
     ]
    },
    {
     "name": "stderr",
     "output_type": "stream",
     "text": [
      "labels: [8 6 2 3 6]\n",
      "pred_labels: [8 0 2 2 0]\n",
      "Epoch 8 - avg_train_loss: 0.9174  lr: 8.8057e-04  time: 56s\n",
      "Epoch 8 - Score: 0.6000\n"
     ]
    },
    {
     "name": "stdout",
     "output_type": "stream",
     "text": [
      "EVAL: [8/9] Data 0.000 (0.044) Elapsed 0m 4s (remain 0m 0s) \n",
      "Epoch: [9][0/40] Data 0.634 (0.634) Elapsed 0m 1s (remain 1m 14s) Loss: 0.5335(0.5335) Grad Norm: 11.0448  LR: 8.4958e-04  \n",
      "Epoch: [9][39/40] Data 0.000 (0.016) Elapsed 0m 51s (remain 0m 0s) Loss: 0.6975(0.9418) Grad Norm: 13.1020  LR: 8.4958e-04  \n",
      "EVAL: [0/9] Data 0.395 (0.395) Elapsed 0m 0s (remain 0m 6s) \n"
     ]
    },
    {
     "name": "stderr",
     "output_type": "stream",
     "text": [
      "labels: [8 6 2 3 6]\n",
      "pred_labels: [8 0 2 4 0]\n",
      "Epoch 9 - avg_train_loss: 0.9418  lr: 8.4958e-04  time: 56s\n",
      "Epoch 9 - Score: 0.5846\n"
     ]
    },
    {
     "name": "stdout",
     "output_type": "stream",
     "text": [
      "EVAL: [8/9] Data 0.000 (0.044) Elapsed 0m 4s (remain 0m 0s) \n",
      "Epoch: [10][0/40] Data 0.588 (0.588) Elapsed 0m 1s (remain 1m 12s) Loss: 1.3562(1.3562) Grad Norm: 10.5362  LR: 8.1581e-04  \n",
      "Epoch: [10][39/40] Data 0.000 (0.015) Elapsed 0m 51s (remain 0m 0s) Loss: 0.6484(0.9838) Grad Norm: 14.3354  LR: 8.1581e-04  \n",
      "EVAL: [0/9] Data 0.413 (0.413) Elapsed 0m 0s (remain 0m 6s) \n"
     ]
    },
    {
     "name": "stderr",
     "output_type": "stream",
     "text": [
      "labels: [8 6 2 3 6]\n",
      "pred_labels: [8 0 2 2 2]\n",
      "Epoch 10 - avg_train_loss: 0.9838  lr: 8.1581e-04  time: 56s\n",
      "Epoch 10 - Score: 0.6000\n"
     ]
    },
    {
     "name": "stdout",
     "output_type": "stream",
     "text": [
      "EVAL: [8/9] Data 0.000 (0.046) Elapsed 0m 4s (remain 0m 0s) \n",
      "Epoch: [11][0/40] Data 0.638 (0.638) Elapsed 0m 1s (remain 1m 14s) Loss: 1.4444(1.4444) Grad Norm: 7.2780  LR: 7.7953e-04  \n",
      "Epoch: [11][39/40] Data 0.000 (0.016) Elapsed 0m 51s (remain 0m 0s) Loss: 1.2490(0.9162) Grad Norm: 7.1001  LR: 7.7953e-04  \n",
      "EVAL: [0/9] Data 0.470 (0.470) Elapsed 0m 0s (remain 0m 7s) \n"
     ]
    },
    {
     "name": "stderr",
     "output_type": "stream",
     "text": [
      "labels: [8 6 2 3 6]\n",
      "pred_labels: [8 6 2 2 2]\n",
      "Epoch 11 - avg_train_loss: 0.9162  lr: 7.7953e-04  time: 56s\n",
      "Epoch 11 - Score: 0.6385\n",
      "Epoch 11 - Save Best Score: 0.6385 Model\n"
     ]
    },
    {
     "name": "stdout",
     "output_type": "stream",
     "text": [
      "EVAL: [8/9] Data 0.000 (0.052) Elapsed 0m 4s (remain 0m 0s) \n",
      "Epoch: [12][0/40] Data 0.615 (0.615) Elapsed 0m 1s (remain 1m 14s) Loss: 0.0954(0.0954) Grad Norm: 4.0439  LR: 7.4103e-04  \n",
      "Epoch: [12][39/40] Data 0.000 (0.016) Elapsed 0m 51s (remain 0m 0s) Loss: 0.4696(0.9053) Grad Norm: 9.1162  LR: 7.4103e-04  \n",
      "EVAL: [0/9] Data 0.399 (0.399) Elapsed 0m 0s (remain 0m 6s) \n"
     ]
    },
    {
     "name": "stderr",
     "output_type": "stream",
     "text": [
      "labels: [8 6 2 3 6]\n",
      "pred_labels: [8 0 5 4 2]\n",
      "Epoch 12 - avg_train_loss: 0.9053  lr: 7.4103e-04  time: 56s\n",
      "Epoch 12 - Score: 0.6000\n"
     ]
    },
    {
     "name": "stdout",
     "output_type": "stream",
     "text": [
      "EVAL: [8/9] Data 0.000 (0.045) Elapsed 0m 4s (remain 0m 0s) \n",
      "Epoch: [13][0/40] Data 0.565 (0.565) Elapsed 0m 1s (remain 1m 11s) Loss: 0.0653(0.0653) Grad Norm: 4.5483  LR: 7.0063e-04  \n",
      "Epoch: [13][39/40] Data 0.000 (0.014) Elapsed 0m 51s (remain 0m 0s) Loss: 0.5629(0.6583) Grad Norm: 10.7993  LR: 7.0063e-04  \n",
      "EVAL: [0/9] Data 0.398 (0.398) Elapsed 0m 0s (remain 0m 6s) \n"
     ]
    },
    {
     "name": "stderr",
     "output_type": "stream",
     "text": [
      "labels: [8 6 2 3 6]\n",
      "pred_labels: [8 0 2 2 2]\n",
      "Epoch 13 - avg_train_loss: 0.6583  lr: 7.0063e-04  time: 56s\n",
      "Epoch 13 - Score: 0.6308\n"
     ]
    },
    {
     "name": "stdout",
     "output_type": "stream",
     "text": [
      "EVAL: [8/9] Data 0.000 (0.044) Elapsed 0m 4s (remain 0m 0s) \n",
      "Epoch: [14][0/40] Data 0.630 (0.630) Elapsed 0m 1s (remain 1m 14s) Loss: 1.0607(1.0607) Grad Norm: 5.6095  LR: 6.5865e-04  \n",
      "Epoch: [14][39/40] Data 0.000 (0.016) Elapsed 0m 51s (remain 0m 0s) Loss: 2.1873(0.8740) Grad Norm: 17.8219  LR: 6.5865e-04  \n",
      "EVAL: [0/9] Data 0.340 (0.340) Elapsed 0m 0s (remain 0m 6s) \n"
     ]
    },
    {
     "name": "stderr",
     "output_type": "stream",
     "text": [
      "labels: [8 6 2 3 6]\n",
      "pred_labels: [8 0 2 4 7]\n",
      "Epoch 14 - avg_train_loss: 0.8740  lr: 6.5865e-04  time: 56s\n",
      "Epoch 14 - Score: 0.5923\n"
     ]
    },
    {
     "name": "stdout",
     "output_type": "stream",
     "text": [
      "EVAL: [8/9] Data 0.000 (0.038) Elapsed 0m 3s (remain 0m 0s) \n",
      "Epoch: [15][0/40] Data 0.544 (0.544) Elapsed 0m 1s (remain 1m 10s) Loss: 0.2518(0.2518) Grad Norm: 9.0743  LR: 6.1542e-04  \n",
      "Epoch: [15][39/40] Data 0.000 (0.014) Elapsed 0m 51s (remain 0m 0s) Loss: 1.3562(0.7622) Grad Norm: 8.3633  LR: 6.1542e-04  \n",
      "EVAL: [0/9] Data 0.378 (0.378) Elapsed 0m 0s (remain 0m 6s) \n"
     ]
    },
    {
     "name": "stderr",
     "output_type": "stream",
     "text": [
      "labels: [8 6 2 3 6]\n",
      "pred_labels: [8 6 2 4 0]\n",
      "Epoch 15 - avg_train_loss: 0.7622  lr: 6.1542e-04  time: 56s\n",
      "Epoch 15 - Score: 0.5692\n"
     ]
    },
    {
     "name": "stdout",
     "output_type": "stream",
     "text": [
      "EVAL: [8/9] Data 0.000 (0.042) Elapsed 0m 4s (remain 0m 0s) \n",
      "Epoch: [16][0/40] Data 0.565 (0.565) Elapsed 0m 1s (remain 1m 11s) Loss: 0.0085(0.0085) Grad Norm: 0.7522  LR: 5.7130e-04  \n",
      "Epoch: [16][39/40] Data 0.000 (0.014) Elapsed 0m 51s (remain 0m 0s) Loss: 1.4954(0.8223) Grad Norm: 14.7948  LR: 5.7130e-04  \n",
      "EVAL: [0/9] Data 0.385 (0.385) Elapsed 0m 0s (remain 0m 6s) \n"
     ]
    },
    {
     "name": "stderr",
     "output_type": "stream",
     "text": [
      "labels: [8 6 2 3 6]\n",
      "pred_labels: [8 0 2 4 0]\n",
      "Epoch 16 - avg_train_loss: 0.8223  lr: 5.7130e-04  time: 56s\n",
      "Epoch 16 - Score: 0.5538\n"
     ]
    },
    {
     "name": "stdout",
     "output_type": "stream",
     "text": [
      "EVAL: [8/9] Data 0.000 (0.043) Elapsed 0m 4s (remain 0m 0s) \n",
      "Epoch: [17][0/40] Data 0.540 (0.540) Elapsed 0m 1s (remain 1m 10s) Loss: 1.1353(1.1353) Grad Norm: 6.4216  LR: 5.2663e-04  \n",
      "Epoch: [17][39/40] Data 0.000 (0.014) Elapsed 0m 51s (remain 0m 0s) Loss: 0.2112(0.6576) Grad Norm: 9.6044  LR: 5.2663e-04  \n",
      "EVAL: [0/9] Data 0.393 (0.393) Elapsed 0m 0s (remain 0m 6s) \n"
     ]
    },
    {
     "name": "stderr",
     "output_type": "stream",
     "text": [
      "labels: [8 6 2 3 6]\n",
      "pred_labels: [8 0 5 4 0]\n",
      "Epoch 17 - avg_train_loss: 0.6576  lr: 5.2663e-04  time: 55s\n",
      "Epoch 17 - Score: 0.6385\n"
     ]
    },
    {
     "name": "stdout",
     "output_type": "stream",
     "text": [
      "EVAL: [8/9] Data 0.000 (0.044) Elapsed 0m 4s (remain 0m 0s) \n",
      "Epoch: [18][0/40] Data 0.569 (0.569) Elapsed 0m 1s (remain 1m 11s) Loss: 1.2514(1.2514) Grad Norm: 7.7297  LR: 4.8179e-04  \n",
      "Epoch: [18][39/40] Data 0.000 (0.014) Elapsed 0m 51s (remain 0m 0s) Loss: 1.2667(0.5368) Grad Norm: 6.7721  LR: 4.8179e-04  \n",
      "EVAL: [0/9] Data 0.407 (0.407) Elapsed 0m 0s (remain 0m 6s) \n"
     ]
    },
    {
     "name": "stderr",
     "output_type": "stream",
     "text": [
      "labels: [8 6 2 3 6]\n",
      "pred_labels: [8 0 2 2 0]\n",
      "Epoch 18 - avg_train_loss: 0.5368  lr: 4.8179e-04  time: 56s\n",
      "Epoch 18 - Score: 0.6154\n"
     ]
    },
    {
     "name": "stdout",
     "output_type": "stream",
     "text": [
      "EVAL: [8/9] Data 0.000 (0.046) Elapsed 0m 4s (remain 0m 0s) \n",
      "Epoch: [19][0/40] Data 0.615 (0.615) Elapsed 0m 1s (remain 1m 13s) Loss: 1.6441(1.6441) Grad Norm: 7.7776  LR: 4.3712e-04  \n",
      "Epoch: [19][39/40] Data 0.000 (0.016) Elapsed 0m 51s (remain 0m 0s) Loss: 0.0443(0.5861) Grad Norm: 3.1045  LR: 4.3712e-04  \n",
      "EVAL: [0/9] Data 0.408 (0.408) Elapsed 0m 0s (remain 0m 6s) \n"
     ]
    },
    {
     "name": "stderr",
     "output_type": "stream",
     "text": [
      "labels: [8 6 2 3 6]\n",
      "pred_labels: [8 0 2 4 0]\n",
      "Epoch 19 - avg_train_loss: 0.5861  lr: 4.3712e-04  time: 56s\n",
      "Epoch 19 - Score: 0.5923\n"
     ]
    },
    {
     "name": "stdout",
     "output_type": "stream",
     "text": [
      "EVAL: [8/9] Data 0.000 (0.046) Elapsed 0m 4s (remain 0m 0s) \n",
      "Epoch: [20][0/40] Data 0.527 (0.527) Elapsed 0m 1s (remain 1m 10s) Loss: 0.0025(0.0025) Grad Norm: 0.0650  LR: 3.9299e-04  \n",
      "Epoch: [20][39/40] Data 0.000 (0.013) Elapsed 0m 51s (remain 0m 0s) Loss: 0.0591(0.5612) Grad Norm: 4.0745  LR: 3.9299e-04  \n",
      "EVAL: [0/9] Data 0.369 (0.369) Elapsed 0m 0s (remain 0m 6s) \n"
     ]
    },
    {
     "name": "stderr",
     "output_type": "stream",
     "text": [
      "labels: [8 6 2 3 6]\n",
      "pred_labels: [8 6 2 0 0]\n",
      "Epoch 20 - avg_train_loss: 0.5612  lr: 3.9299e-04  time: 55s\n",
      "Epoch 20 - Score: 0.5923\n"
     ]
    },
    {
     "name": "stdout",
     "output_type": "stream",
     "text": [
      "EVAL: [8/9] Data 0.000 (0.041) Elapsed 0m 4s (remain 0m 0s) \n",
      "Epoch: [21][0/40] Data 0.560 (0.560) Elapsed 0m 1s (remain 1m 11s) Loss: 0.0158(0.0158) Grad Norm: 0.4335  LR: 3.4975e-04  \n",
      "Epoch: [21][39/40] Data 0.000 (0.014) Elapsed 0m 51s (remain 0m 0s) Loss: 0.9395(0.5317) Grad Norm: 8.7173  LR: 3.4975e-04  \n",
      "EVAL: [0/9] Data 0.404 (0.404) Elapsed 0m 0s (remain 0m 6s) \n"
     ]
    },
    {
     "name": "stderr",
     "output_type": "stream",
     "text": [
      "labels: [8 6 2 3 6]\n",
      "pred_labels: [8 0 2 4 0]\n",
      "Epoch 21 - avg_train_loss: 0.5317  lr: 3.4975e-04  time: 56s\n",
      "Epoch 21 - Score: 0.6077\n"
     ]
    },
    {
     "name": "stdout",
     "output_type": "stream",
     "text": [
      "EVAL: [8/9] Data 0.000 (0.045) Elapsed 0m 4s (remain 0m 0s) \n",
      "Epoch: [22][0/40] Data 0.634 (0.634) Elapsed 0m 1s (remain 1m 14s) Loss: 1.0240(1.0240) Grad Norm: 8.3851  LR: 3.0775e-04  \n",
      "Epoch: [22][39/40] Data 0.000 (0.016) Elapsed 0m 51s (remain 0m 0s) Loss: 1.0861(0.6408) Grad Norm: 9.6057  LR: 3.0775e-04  \n",
      "EVAL: [0/9] Data 0.433 (0.433) Elapsed 0m 0s (remain 0m 7s) \n"
     ]
    },
    {
     "name": "stderr",
     "output_type": "stream",
     "text": [
      "labels: [8 6 2 3 6]\n",
      "pred_labels: [8 0 2 4 0]\n",
      "Epoch 22 - avg_train_loss: 0.6408  lr: 3.0775e-04  time: 56s\n",
      "Epoch 22 - Score: 0.6231\n"
     ]
    },
    {
     "name": "stdout",
     "output_type": "stream",
     "text": [
      "EVAL: [8/9] Data 0.000 (0.048) Elapsed 0m 4s (remain 0m 0s) \n",
      "Epoch: [23][0/40] Data 0.645 (0.645) Elapsed 0m 1s (remain 1m 14s) Loss: 1.1852(1.1852) Grad Norm: 7.4718  LR: 2.6732e-04  \n",
      "Epoch: [23][39/40] Data 0.000 (0.016) Elapsed 0m 51s (remain 0m 0s) Loss: 0.0066(0.5694) Grad Norm: 0.5808  LR: 2.6732e-04  \n",
      "EVAL: [0/9] Data 0.400 (0.400) Elapsed 0m 0s (remain 0m 6s) \n"
     ]
    },
    {
     "name": "stderr",
     "output_type": "stream",
     "text": [
      "labels: [8 6 2 3 6]\n",
      "pred_labels: [8 0 2 4 0]\n",
      "Epoch 23 - avg_train_loss: 0.5694  lr: 2.6732e-04  time: 56s\n",
      "Epoch 23 - Score: 0.6308\n"
     ]
    },
    {
     "name": "stdout",
     "output_type": "stream",
     "text": [
      "EVAL: [8/9] Data 0.000 (0.045) Elapsed 0m 4s (remain 0m 0s) \n",
      "Epoch: [24][0/40] Data 0.483 (0.483) Elapsed 0m 1s (remain 1m 9s) Loss: 0.0021(0.0021) Grad Norm: 0.0682  LR: 2.2880e-04  \n",
      "Epoch: [24][39/40] Data 0.000 (0.012) Elapsed 0m 51s (remain 0m 0s) Loss: 0.0054(0.3852) Grad Norm: 0.5570  LR: 2.2880e-04  \n",
      "EVAL: [0/9] Data 0.420 (0.420) Elapsed 0m 0s (remain 0m 6s) \n"
     ]
    },
    {
     "name": "stderr",
     "output_type": "stream",
     "text": [
      "labels: [8 6 2 3 6]\n",
      "pred_labels: [8 0 5 4 0]\n",
      "Epoch 24 - avg_train_loss: 0.3852  lr: 2.2880e-04  time: 55s\n",
      "Epoch 24 - Score: 0.6000\n"
     ]
    },
    {
     "name": "stdout",
     "output_type": "stream",
     "text": [
      "EVAL: [8/9] Data 0.000 (0.047) Elapsed 0m 4s (remain 0m 0s) \n",
      "Epoch: [25][0/40] Data 0.487 (0.487) Elapsed 0m 1s (remain 1m 8s) Loss: 0.0130(0.0130) Grad Norm: 1.8592  LR: 1.9248e-04  \n",
      "Epoch: [25][39/40] Data 0.000 (0.012) Elapsed 0m 51s (remain 0m 0s) Loss: 0.0021(0.3695) Grad Norm: 0.0708  LR: 1.9248e-04  \n",
      "EVAL: [0/9] Data 0.390 (0.390) Elapsed 0m 0s (remain 0m 6s) \n"
     ]
    },
    {
     "name": "stderr",
     "output_type": "stream",
     "text": [
      "labels: [8 6 2 3 6]\n",
      "pred_labels: [8 0 2 2 0]\n",
      "Epoch 25 - avg_train_loss: 0.3695  lr: 1.9248e-04  time: 55s\n",
      "Epoch 25 - Score: 0.6154\n"
     ]
    },
    {
     "name": "stdout",
     "output_type": "stream",
     "text": [
      "EVAL: [8/9] Data 0.000 (0.044) Elapsed 0m 4s (remain 0m 0s) \n",
      "Epoch: [26][0/40] Data 0.545 (0.545) Elapsed 0m 1s (remain 1m 10s) Loss: 0.7823(0.7823) Grad Norm: 6.3086  LR: 1.5867e-04  \n",
      "Epoch: [26][39/40] Data 0.000 (0.014) Elapsed 0m 51s (remain 0m 0s) Loss: 0.0041(0.4309) Grad Norm: 0.2623  LR: 1.5867e-04  \n",
      "EVAL: [0/9] Data 0.403 (0.403) Elapsed 0m 0s (remain 0m 6s) \n"
     ]
    },
    {
     "name": "stderr",
     "output_type": "stream",
     "text": [
      "labels: [8 6 2 3 6]\n",
      "pred_labels: [8 0 2 2 0]\n",
      "Epoch 26 - avg_train_loss: 0.4309  lr: 1.5867e-04  time: 55s\n",
      "Epoch 26 - Score: 0.6308\n"
     ]
    },
    {
     "name": "stdout",
     "output_type": "stream",
     "text": [
      "EVAL: [8/9] Data 0.000 (0.045) Elapsed 0m 4s (remain 0m 0s) \n",
      "Epoch: [27][0/40] Data 0.496 (0.496) Elapsed 0m 1s (remain 1m 9s) Loss: 0.9913(0.9913) Grad Norm: 5.5160  LR: 1.2762e-04  \n",
      "Epoch: [27][39/40] Data 0.000 (0.013) Elapsed 0m 51s (remain 0m 0s) Loss: 0.0036(0.4743) Grad Norm: 0.1400  LR: 1.2762e-04  \n",
      "EVAL: [0/9] Data 0.399 (0.399) Elapsed 0m 0s (remain 0m 6s) \n"
     ]
    },
    {
     "name": "stderr",
     "output_type": "stream",
     "text": [
      "labels: [8 6 2 3 6]\n",
      "pred_labels: [8 6 2 4 0]\n",
      "Epoch 27 - avg_train_loss: 0.4743  lr: 1.2762e-04  time: 55s\n",
      "Epoch 27 - Score: 0.6154\n"
     ]
    },
    {
     "name": "stdout",
     "output_type": "stream",
     "text": [
      "EVAL: [8/9] Data 0.000 (0.045) Elapsed 0m 4s (remain 0m 0s) \n",
      "Epoch: [28][0/40] Data 0.551 (0.551) Elapsed 0m 1s (remain 1m 11s) Loss: 0.7144(0.7144) Grad Norm: 2.6372  LR: 9.9584e-05  \n",
      "Epoch: [28][39/40] Data 0.000 (0.014) Elapsed 0m 51s (remain 0m 0s) Loss: 0.9559(0.4185) Grad Norm: 5.8025  LR: 9.9584e-05  \n",
      "EVAL: [0/9] Data 0.392 (0.392) Elapsed 0m 0s (remain 0m 6s) \n"
     ]
    },
    {
     "name": "stderr",
     "output_type": "stream",
     "text": [
      "labels: [8 6 2 3 6]\n",
      "pred_labels: [8 6 2 4 0]\n",
      "Epoch 28 - avg_train_loss: 0.4185  lr: 9.9584e-05  time: 55s\n",
      "Epoch 28 - Score: 0.6538\n",
      "Epoch 28 - Save Best Score: 0.6538 Model\n"
     ]
    },
    {
     "name": "stdout",
     "output_type": "stream",
     "text": [
      "EVAL: [8/9] Data 0.000 (0.044) Elapsed 0m 4s (remain 0m 0s) \n",
      "Epoch: [29][0/40] Data 0.637 (0.637) Elapsed 0m 1s (remain 1m 14s) Loss: 0.0145(0.0145) Grad Norm: 0.4907  LR: 7.4783e-05  \n",
      "Epoch: [29][39/40] Data 0.000 (0.016) Elapsed 0m 51s (remain 0m 0s) Loss: 0.8719(0.4223) Grad Norm: 6.2264  LR: 7.4783e-05  \n",
      "EVAL: [0/9] Data 0.370 (0.370) Elapsed 0m 0s (remain 0m 6s) \n"
     ]
    },
    {
     "name": "stderr",
     "output_type": "stream",
     "text": [
      "labels: [8 6 2 3 6]\n",
      "pred_labels: [8 6 2 4 0]\n",
      "Epoch 29 - avg_train_loss: 0.4223  lr: 7.4783e-05  time: 56s\n",
      "Epoch 29 - Score: 0.6308\n"
     ]
    },
    {
     "name": "stdout",
     "output_type": "stream",
     "text": [
      "EVAL: [8/9] Data 0.000 (0.041) Elapsed 0m 4s (remain 0m 0s) \n",
      "Epoch: [30][0/40] Data 0.559 (0.559) Elapsed 0m 1s (remain 1m 11s) Loss: 0.7766(0.7766) Grad Norm: 3.8570  LR: 5.3404e-05  \n",
      "Epoch: [30][39/40] Data 0.000 (0.014) Elapsed 0m 51s (remain 0m 0s) Loss: 0.5473(0.4691) Grad Norm: 3.2759  LR: 5.3404e-05  \n",
      "EVAL: [0/9] Data 0.381 (0.381) Elapsed 0m 0s (remain 0m 6s) \n"
     ]
    },
    {
     "name": "stderr",
     "output_type": "stream",
     "text": [
      "labels: [8 6 2 3 6]\n",
      "pred_labels: [8 0 2 4 0]\n",
      "Epoch 30 - avg_train_loss: 0.4691  lr: 5.3404e-05  time: 55s\n",
      "Epoch 30 - Score: 0.6154\n"
     ]
    },
    {
     "name": "stdout",
     "output_type": "stream",
     "text": [
      "EVAL: [8/9] Data 0.000 (0.043) Elapsed 0m 4s (remain 0m 0s) \n",
      "Epoch: [31][0/40] Data 0.587 (0.587) Elapsed 0m 1s (remain 1m 12s) Loss: 0.0024(0.0024) Grad Norm: 0.1252  LR: 3.5607e-05  \n",
      "Epoch: [31][39/40] Data 0.000 (0.015) Elapsed 0m 51s (remain 0m 0s) Loss: 0.0042(0.0038) Grad Norm: 0.2551  LR: 3.5607e-05  \n",
      "EVAL: [0/9] Data 0.368 (0.368) Elapsed 0m 0s (remain 0m 6s) \n"
     ]
    },
    {
     "name": "stderr",
     "output_type": "stream",
     "text": [
      "labels: [8 6 2 3 6]\n",
      "pred_labels: [8 0 2 4 0]\n",
      "Epoch 31 - avg_train_loss: 0.0038  lr: 3.5607e-05  time: 55s\n",
      "Epoch 31 - Score: 0.6231\n"
     ]
    },
    {
     "name": "stdout",
     "output_type": "stream",
     "text": [
      "EVAL: [8/9] Data 0.000 (0.041) Elapsed 0m 4s (remain 0m 0s) \n",
      "Epoch: [32][0/40] Data 0.634 (0.634) Elapsed 0m 1s (remain 1m 14s) Loss: 0.2710(0.2710) Grad Norm: 11.3809  LR: 2.1508e-05  \n",
      "Epoch: [32][39/40] Data 0.000 (0.016) Elapsed 0m 51s (remain 0m 0s) Loss: 0.0017(0.0088) Grad Norm: 0.1042  LR: 2.1508e-05  \n",
      "EVAL: [0/9] Data 0.435 (0.435) Elapsed 0m 0s (remain 0m 7s) \n"
     ]
    },
    {
     "name": "stderr",
     "output_type": "stream",
     "text": [
      "labels: [8 6 2 3 6]\n",
      "pred_labels: [8 0 2 4 0]\n",
      "Epoch 32 - avg_train_loss: 0.0088  lr: 2.1508e-05  time: 56s\n",
      "Epoch 32 - Score: 0.6077\n"
     ]
    },
    {
     "name": "stdout",
     "output_type": "stream",
     "text": [
      "EVAL: [8/9] Data 0.000 (0.049) Elapsed 0m 4s (remain 0m 0s) \n",
      "Epoch: [33][0/40] Data 0.624 (0.624) Elapsed 0m 1s (remain 1m 13s) Loss: 0.0016(0.0016) Grad Norm: 0.0667  LR: 1.1173e-05  \n",
      "Epoch: [33][39/40] Data 0.000 (0.016) Elapsed 0m 51s (remain 0m 0s) Loss: 0.0100(0.0090) Grad Norm: 1.7233  LR: 1.1173e-05  \n",
      "EVAL: [0/9] Data 0.344 (0.344) Elapsed 0m 0s (remain 0m 6s) \n"
     ]
    },
    {
     "name": "stderr",
     "output_type": "stream",
     "text": [
      "labels: [8 6 2 3 6]\n",
      "pred_labels: [8 0 2 4 0]\n",
      "Epoch 33 - avg_train_loss: 0.0090  lr: 1.1173e-05  time: 55s\n",
      "Epoch 33 - Score: 0.6000\n"
     ]
    },
    {
     "name": "stdout",
     "output_type": "stream",
     "text": [
      "EVAL: [8/9] Data 0.000 (0.038) Elapsed 0m 3s (remain 0m 0s) \n",
      "Epoch: [34][0/40] Data 0.587 (0.587) Elapsed 0m 1s (remain 1m 12s) Loss: 0.0008(0.0008) Grad Norm: 0.0331  LR: 4.5796e-06  \n",
      "Epoch: [34][39/40] Data 0.000 (0.015) Elapsed 0m 51s (remain 0m 0s) Loss: 0.0021(0.0024) Grad Norm: 0.0779  LR: 4.5796e-06  \n",
      "EVAL: [0/9] Data 0.381 (0.381) Elapsed 0m 0s (remain 0m 6s) \n"
     ]
    },
    {
     "name": "stderr",
     "output_type": "stream",
     "text": [
      "labels: [8 6 2 3 6]\n",
      "pred_labels: [8 0 2 4 0]\n",
      "Epoch 34 - avg_train_loss: 0.0024  lr: 4.5796e-06  time: 55s\n",
      "Epoch 34 - Score: 0.6000\n"
     ]
    },
    {
     "name": "stdout",
     "output_type": "stream",
     "text": [
      "EVAL: [8/9] Data 0.000 (0.043) Elapsed 0m 4s (remain 0m 0s) \n",
      "Epoch: [35][0/40] Data 0.514 (0.514) Elapsed 0m 1s (remain 1m 9s) Loss: 0.0006(0.0006) Grad Norm: 0.0185  LR: 1.5037e-06  \n",
      "Epoch: [35][39/40] Data 0.000 (0.013) Elapsed 0m 51s (remain 0m 0s) Loss: 0.0007(0.0093) Grad Norm: 0.0519  LR: 1.5037e-06  \n",
      "EVAL: [0/9] Data 0.370 (0.370) Elapsed 0m 0s (remain 0m 6s) \n"
     ]
    },
    {
     "name": "stderr",
     "output_type": "stream",
     "text": [
      "labels: [8 6 2 3 6]\n",
      "pred_labels: [8 0 2 4 0]\n",
      "Epoch 35 - avg_train_loss: 0.0093  lr: 1.5037e-06  time: 55s\n",
      "Epoch 35 - Score: 0.6000\n",
      "\n",
      "oof score: 0.672782874617737\n",
      "\n"
     ]
    },
    {
     "name": "stdout",
     "output_type": "stream",
     "text": [
      "EVAL: [8/9] Data 0.000 (0.041) Elapsed 0m 4s (remain 0m 0s) \n"
     ]
    },
    {
     "name": "stderr",
     "output_type": "stream",
     "text": [
      "\n",
      "train finish!!!\n"
     ]
    }
   ],
   "source": [
    "import os\n",
    "import sys\n",
    "import cv2\n",
    "import numpy as np\n",
    "import pandas as pd\n",
    "import matplotlib.pyplot as plt\n",
    "\n",
    "import torch\n",
    "from torch.utils.data import DataLoader, Dataset\n",
    "\n",
    "import albumentations as A\n",
    "from albumentations import Compose\n",
    "from albumentations.pytorch import ToTensorV2\n",
    "\n",
    "# ====================================================\n",
    "# Dataset\n",
    "# ====================================================\n",
    "class TrainDataset(Dataset):\n",
    "    def __init__(self, df, transform=None):\n",
    "        super().__init__()\n",
    "        self.df = df\n",
    "        self.file_paths = df[\"file_path\"].values\n",
    "        self.labels = df[\"label\"].values\n",
    "        self.transform = transform\n",
    "\n",
    "    def __len__(self):\n",
    "        return len(self.df)\n",
    "\n",
    "    def __getitem__(self, idx):\n",
    "        file_path = self.file_paths[idx]\n",
    "        image = cv2.imread(file_path)\n",
    "        image = cv2.cvtColor(image, cv2.COLOR_BGR2RGB).astype(np.float32)\n",
    "        if self.transform:\n",
    "            augmented = self.transform(image=image)\n",
    "            image = augmented[\"image\"]\n",
    "        label = self.labels[idx]\n",
    "        return image, torch.from_numpy(np.array(label)).long()\n",
    "\n",
    "\n",
    "class TestDataset(Dataset):\n",
    "    def __init__(self, df, transform=None):\n",
    "        super().__init__()\n",
    "        self.df = df\n",
    "        self.file_paths = df[\"file_path\"].values\n",
    "        self.transform = transform\n",
    "\n",
    "    def __len__(self):\n",
    "        return len(self.df)\n",
    "\n",
    "    def __getitem__(self, idx):\n",
    "        file_path = self.file_paths[idx]\n",
    "        image = cv2.imread(file_path)\n",
    "        image = cv2.cvtColor(image, cv2.COLOR_BGR2RGB).astype(np.float32)\n",
    "        if self.transform:\n",
    "            augmented = self.transform(image=image)\n",
    "            image = augmented[\"image\"]\n",
    "        return image\n",
    "\n",
    "\n",
    "def get_transforms(*, data):\n",
    "\n",
    "    if data == \"train\":\n",
    "        return A.Compose(\n",
    "            [\n",
    "                A.Resize(CFG.size, CFG.size),\n",
    "                A.HorizontalFlip(p=0.5),\n",
    "                A.ShiftScaleRotate(p=0.5),\n",
    "                A.Normalize(mean=[0.485, 0.456, 0.406], std=[0.229, 0.224, 0.225], max_pixel_value=255.0, p=1.0,),\n",
    "                A.OneOf([\n",
    "                    A.ToSepia(p=0.5),\n",
    "                    A.ToGray(p=0.5),\n",
    "                ], p=0.5),\n",
    "                A.CoarseDropout(p=0.5),\n",
    "                A.Cutout(p=0.5),\n",
    "                ToTensorV2(),\n",
    "            ]\n",
    "        )\n",
    "\n",
    "    elif data == \"valid\":\n",
    "        return Compose(\n",
    "            [\n",
    "                A.Resize(CFG.size, CFG.size),\n",
    "                A.Normalize(\n",
    "                    mean=[0.485, 0.456, 0.406], std=[0.229, 0.224, 0.225], max_pixel_value=255.0,\n",
    "                    p=1.0,\n",
    "                ),\n",
    "                ToTensorV2(),\n",
    "            ]\n",
    "        )\n",
    "\n",
    "\n",
    "def collate(batch):\n",
    "    \"\"\"DataLoaderに追加可能なbatchを加工する関数\"\"\"\n",
    "    images, labels = list(zip(*batch))\n",
    "    images = torch.stack(images)\n",
    "    labels = torch.stack(labels)\n",
    "    return images, labels.long()\n",
    "\n",
    "\n",
    "# ====================================================\n",
    "# Library\n",
    "# ====================================================\n",
    "import sys\n",
    "import os\n",
    "import gc\n",
    "import re\n",
    "import math\n",
    "import time\n",
    "import random\n",
    "import yaml\n",
    "import shutil\n",
    "import glob\n",
    "import pickle\n",
    "import pathlib\n",
    "from pathlib import Path\n",
    "from contextlib import contextmanager\n",
    "from collections import defaultdict, Counter\n",
    "from distutils.dir_util import copy_tree\n",
    "\n",
    "import scipy as sp\n",
    "import numpy as np\n",
    "import pandas as pd\n",
    "from tqdm.auto import tqdm\n",
    "\n",
    "from sklearn.metrics import accuracy_score, log_loss\n",
    "from sklearn import preprocessing\n",
    "from sklearn.model_selection import StratifiedKFold, GroupKFold, KFold\n",
    "\n",
    "from functools import partial\n",
    "\n",
    "import cv2\n",
    "from PIL import Image\n",
    "\n",
    "import torch\n",
    "import torch.nn as nn\n",
    "import torch.nn.functional as F\n",
    "from torch.optim import Adam, SGD\n",
    "import torchvision.models as models\n",
    "from torch.nn.parameter import Parameter\n",
    "from torch.utils.data import DataLoader, Dataset\n",
    "from torch.nn.utils.rnn import pad_sequence, pack_padded_sequence  # 文字列の長さを揃えてくれる関数\n",
    "from torch.optim.lr_scheduler import (\n",
    "    CosineAnnealingWarmRestarts,\n",
    "    CosineAnnealingLR,\n",
    "    ReduceLROnPlateau,\n",
    ")\n",
    "from torch.cuda.amp import autocast, GradScaler\n",
    "from torch_optimizer import RAdam, Lookahead\n",
    "\n",
    "import timm\n",
    "\n",
    "import warnings\n",
    "warnings.filterwarnings(\"ignore\")\n",
    "\n",
    "device = torch.device(\"cuda\" if torch.cuda.is_available() else \"cpu\")\n",
    "\n",
    "# ====================================================\n",
    "# Helper functions\n",
    "# ====================================================\n",
    "class AverageMeter(object):\n",
    "    \"\"\"Computes and stores the average and current value\"\"\"\n",
    "\n",
    "    def __init__(self):\n",
    "        self.reset()\n",
    "\n",
    "    def reset(self):\n",
    "        self.val = 0\n",
    "        self.avg = 0\n",
    "        self.sum = 0\n",
    "        self.count = 0\n",
    "\n",
    "    def update(self, val, n=1):\n",
    "        self.val = val\n",
    "        self.sum += val * n\n",
    "        self.count += n\n",
    "        self.avg = self.sum / self.count\n",
    "\n",
    "\n",
    "def asMinutes(s):\n",
    "    m = math.floor(s / 60)\n",
    "    s -= m * 60\n",
    "    return \"%dm %ds\" % (m, s)\n",
    "\n",
    "\n",
    "def timeSince(since, percent):\n",
    "    now = time.time()\n",
    "    s = now - since\n",
    "    es = s / (percent)\n",
    "    rs = es - s\n",
    "    return \"%s (remain %s)\" % (asMinutes(s), asMinutes(rs))\n",
    "\n",
    "\n",
    "class LabelSmoothingCrossEntropy(nn.Module):\n",
    "    # https://build-medical-ai.com/2021/02/21/label-smoothing%EF%BC%88%E3%83%A9%E3%83%99%E3%83%AB%E3%82%B9%E3%83%A0%E3%83%BC%E3%82%B8%E3%83%B3%E3%82%B0%EF%BC%89%E3%82%92pytorch%E3%81%A7%E5%AE%9F%E8%A3%85%E3%81%99%E3%82%8B/\n",
    "    def __init__(self, epsilon=0.1, reduction='mean'):\n",
    "        super().__init__()\n",
    "        self.epsilon = epsilon\n",
    "        self.reduction = reduction\n",
    "\n",
    "    def forward(self, preds, target):\n",
    "        n = preds.size()[-1]\n",
    "        log_preds = F.log_softmax(preds, dim=-1)\n",
    "        loss = LabelSmoothingCrossEntropy.reduce_loss(-log_preds.sum(dim=-1), self.reduction)\n",
    "        nll = F.nll_loss(log_preds, target, reduction=self.reduction)\n",
    "        return LabelSmoothingCrossEntropy.linear_combination(nll, loss/n, self.epsilon)\n",
    "    \n",
    "    @staticmethod\n",
    "    def linear_combination(x, y, epsilon):\n",
    "        return (1 - epsilon) * x + epsilon * y\n",
    "\n",
    "    @staticmethod\n",
    "    def reduce_loss(loss, reduction='mean'):\n",
    "        return loss.mean() if reduction == 'mean' else loss.sum() if reduction == 'sum' else loss\n",
    "    \n",
    "\n",
    "def train_fn(\n",
    "    train_loader, model, criterion, optimizer, epoch, scheduler, device, scaler\n",
    "):\n",
    "    batch_time = AverageMeter()\n",
    "    data_time = AverageMeter()\n",
    "    losses = AverageMeter()\n",
    "    # switch to train mode\n",
    "    model.train()\n",
    "    start = end = time.time()\n",
    "    grad_norm = 0.0\n",
    "    global_step = 0\n",
    "    for step, (images, labels) in enumerate(train_loader):\n",
    "        # measure data loading time\n",
    "        data_time.update(time.time() - end)\n",
    "        images = images.to(device)\n",
    "        labels = labels.to(device)\n",
    "        batch_size = images.size(0)\n",
    "        with autocast():\n",
    "            # ====================================================\n",
    "            # cutmix/fmix/snapmix\n",
    "            # ====================================================\n",
    "            mix_decision = np.random.rand() if epoch < CFG.epochs - 5 else 1.0  # 最後の5epochはmix系なしにする\n",
    "            if mix_decision < CFG.mix_decision_th:\n",
    "                if CFG.mixmethod == \"cutmix\":\n",
    "                    x, y_mixs = cutmix(images, labels.long(), CFG.mix_alpha)\n",
    "                    y_hat = model(x.float())\n",
    "                    loss = criterion(y_hat, y_mixs[0]) * y_mixs[2] + criterion(y_hat, y_mixs[1]) * (1.0 - y_mixs[2])\n",
    "\n",
    "                elif CFG.mixmethod == \"fmix\":\n",
    "                    x, y_mixs = fmix(images, labels.long(), alpha=CFG.mix_alpha, decay_power=5.0, shape=(CFG.size, CFG.size))\n",
    "                    y_hat = model(images.float())\n",
    "                    loss = criterion(y_hat, y_mixs[0]) * y_mixs[2] + criterion(y_hat, y_mixs[1]) * (1.0 - y_mixs[2])\n",
    "\n",
    "                elif CFG.mixmethod == \"resizemix\":\n",
    "                    x, y_mixs = resizemix(images, labels.long(), alpha=CFG.mix_alpha)\n",
    "                    y_hat = model(images.float())\n",
    "                    loss = criterion(y_hat, y_mixs[0]) * y_mixs[2] + criterion(y_hat, y_mixs[1]) * (1.0 - y_mixs[2])\n",
    "                    \n",
    "                else:\n",
    "                    x = images\n",
    "                    y_hat = model(images)\n",
    "\n",
    "                # --- 画像表示（mix画像確認用）---\n",
    "                if CFG.debug:\n",
    "                    try:\n",
    "                        print(\"mix_decision:\", mix_decision)\n",
    "                        fig = plt.figure(figsize=(16, 16))\n",
    "                        for i in range(5):\n",
    "                            print(\"y_hat:\", y_hat[i])\n",
    "                            ax = fig.add_subplot(1, 5, i + 1, xticks=[], yticks=[])\n",
    "                            im = x[i].to(\"cpu\").numpy().transpose(1, 2, 0)\n",
    "                            plt.imshow(im)\n",
    "                        plt.show(); plt.clf(); plt.close()\n",
    "                    except:\n",
    "                        pass\n",
    "                # -----------------------------------------\n",
    "            else:\n",
    "                logits = model(images)\n",
    "                loss = criterion(logits, labels)\n",
    "            \n",
    "            # record loss\n",
    "            losses.update(loss.item(), batch_size)\n",
    "            if CFG.gradient_accumulation_steps > 1:\n",
    "                loss = loss / CFG.gradient_accumulation_steps\n",
    "            scaler.scale(loss).backward()\n",
    "            if (step + 1) % CFG.gradient_accumulation_steps == 0:\n",
    "                scaler.unscale_(optimizer)\n",
    "                grad_norm = torch.nn.utils.clip_grad_norm_(model.parameters(), CFG.max_grad_norm, norm_type=2.0)\n",
    "                scaler.step(optimizer)\n",
    "                scaler.update()\n",
    "                optimizer.zero_grad()\n",
    "                global_step += 1\n",
    "\n",
    "        # measure elapsed time\n",
    "        batch_time.update(time.time() - end)\n",
    "        end = time.time()\n",
    "        if step % CFG.print_freq == 0 or step == (len(train_loader) - 1):\n",
    "            print(\n",
    "                \"Epoch: [{0}][{1}/{2}] \"\n",
    "                \"Data {data_time.val:.3f} ({data_time.avg:.3f}) \"\n",
    "                \"Elapsed {remain:s} \"\n",
    "                \"Loss: {loss.val:.4f}({loss.avg:.4f}) \"\n",
    "                \"Grad Norm: {grad_norm:.4f}  \"\n",
    "                \"LR: {lr:.4e}  \".format(\n",
    "                    epoch + 1,\n",
    "                    step,\n",
    "                    len(train_loader),\n",
    "                    batch_time=batch_time,\n",
    "                    data_time=data_time,\n",
    "                    loss=losses,\n",
    "                    remain=timeSince(start, float(step + 1) / len(train_loader)),\n",
    "                    grad_norm=grad_norm,\n",
    "                    lr=scheduler.get_lr()[0],\n",
    "                )\n",
    "            )\n",
    "\n",
    "    return losses.avg\n",
    "\n",
    "\n",
    "def valid_fn(valid_loader, model, device):\n",
    "    batch_time = AverageMeter()\n",
    "    data_time = AverageMeter()\n",
    "    # switch to evaluation mode\n",
    "    model.eval()\n",
    "    preds = []\n",
    "    start = end = time.time()\n",
    "    for step, (images) in enumerate(valid_loader):\n",
    "        # measure data loading time\n",
    "        data_time.update(time.time() - end)\n",
    "        images = images.to(device)\n",
    "        batch_size = images.size(0)\n",
    "        with torch.no_grad():\n",
    "            with autocast():\n",
    "                predictions = model.forward_softmax(images)  # 確信度で出す場合\n",
    "        pred = predictions.detach().cpu().numpy()\n",
    "        preds.append(pred)\n",
    "        # measure elapsed time\n",
    "        batch_time.update(time.time() - end)\n",
    "        end = time.time()\n",
    "        if step % CFG.print_freq == 0 or step == (len(valid_loader) - 1):\n",
    "            print(\n",
    "                \"EVAL: [{0}/{1}] \"\n",
    "                \"Data {data_time.val:.3f} ({data_time.avg:.3f}) \"\n",
    "                \"Elapsed {remain:s} \".format(\n",
    "                    step,\n",
    "                    len(valid_loader),\n",
    "                    batch_time=batch_time,\n",
    "                    data_time=data_time,\n",
    "                    remain=timeSince(start, float(step + 1) / len(valid_loader)),\n",
    "                )\n",
    "            )\n",
    "    preds = np.concatenate(preds)\n",
    "    return preds\n",
    "\n",
    "\n",
    "# ====================================================\n",
    "# Train loop\n",
    "# ====================================================\n",
    "def train_loop(folds, fold, seed):\n",
    "\n",
    "    LOGGER.info(f\"==================== fold: {fold}, seed: {seed} training ====================\")\n",
    "\n",
    "    # ====================================================\n",
    "    # loader\n",
    "    # ====================================================\n",
    "    trn_idx = folds[folds[\"fold\"] != fold].index\n",
    "    val_idx = folds[folds[\"fold\"] == fold].index\n",
    "\n",
    "    train_folds = folds.loc[trn_idx].reset_index(drop=True)\n",
    "    valid_folds = folds.loc[val_idx].reset_index(drop=True)\n",
    "    valid_labels = valid_folds[\"label\"].values\n",
    "    \n",
    "    # ====================================================\n",
    "    # 疑似ラベルのデータ追加\n",
    "    # ====================================================\n",
    "    if 'pseudo_df' in globals():\n",
    "        train_folds = train_folds.append(pseudo_df)\n",
    "\n",
    "    train_dataset = TrainDataset(train_folds, transform=get_transforms(data=\"train\"))\n",
    "    valid_dataset = TestDataset(valid_folds, transform=get_transforms(data=\"valid\"))\n",
    "\n",
    "    train_loader = DataLoader(\n",
    "        train_dataset,\n",
    "        batch_size=CFG.batch_size,\n",
    "        shuffle=True,\n",
    "        num_workers=CFG.num_workers,\n",
    "        pin_memory=True,\n",
    "        drop_last=True,\n",
    "        collate_fn=collate,\n",
    "    )\n",
    "    valid_loader = DataLoader(\n",
    "        valid_dataset,\n",
    "        batch_size=CFG.batch_size,\n",
    "        shuffle=False,\n",
    "        num_workers=CFG.num_workers,\n",
    "        pin_memory=True,\n",
    "        drop_last=False,\n",
    "    )\n",
    "\n",
    "    # ====================================================\n",
    "    # scheduler\n",
    "    # ====================================================\n",
    "    def get_scheduler(optimizer):\n",
    "        if CFG.scheduler == \"ReduceLROnPlateau\":\n",
    "            scheduler = ReduceLROnPlateau(\n",
    "                optimizer,\n",
    "                mode=\"min\",\n",
    "                factor=CFG.factor,\n",
    "                patience=CFG.patience,\n",
    "                verbose=True,\n",
    "                eps=CFG.eps,\n",
    "            )\n",
    "        elif CFG.scheduler == \"CosineAnnealingLR\":\n",
    "            scheduler = CosineAnnealingLR(\n",
    "                optimizer, T_max=CFG.T_max, eta_min=CFG.min_lr, last_epoch=-1\n",
    "            )\n",
    "        elif CFG.scheduler == \"CosineAnnealingWarmRestarts\":\n",
    "            scheduler = CosineAnnealingWarmRestarts(\n",
    "                optimizer, T_0=CFG.T_0, T_mult=1, eta_min=CFG.min_lr, last_epoch=-1\n",
    "            )\n",
    "        return scheduler\n",
    "\n",
    "    # ====================================================\n",
    "    # model & optimizer\n",
    "    # ====================================================\n",
    "    model = TimmModel(CFG.n_classes, model_name=CFG.model_name, pretrained=True)\n",
    "    model.to(device)\n",
    "\n",
    "    if CFG.optimizer == \"adam\":\n",
    "        optimizer = Adam(\n",
    "            model.parameters(), lr=CFG.lr, amsgrad=False, weight_decay=CFG.weight_decay\n",
    "        )\n",
    "    elif CFG.optimizer == \"radam\":\n",
    "        optimizer = RAdam(model.parameters(), lr=CFG.lr, weight_decay=CFG.weight_decay)\n",
    "        optimizer = Lookahead(optimizer, alpha=0.5, k=5)\n",
    "\n",
    "    scheduler = get_scheduler(optimizer)\n",
    "    scaler = GradScaler()\n",
    "\n",
    "    if os.path.exists(CFG.load_model_path):\n",
    "        # モデルロード\n",
    "        LOGGER.info(\"=> loading checkpoint '{}'\".format(CFG.load_model_path))\n",
    "        states = torch.load(CFG.load_model_path, map_location=torch.device(\"cpu\"))\n",
    "        model.load_state_dict(states[\"model\"])\n",
    "        model.to(device)\n",
    "        if CFG.is_load_opt:\n",
    "            LOGGER.info(\"=> loading optimizer and scheduler\")\n",
    "            optimizer.load_state_dict(states[\"optimizer\"])\n",
    "            scheduler.load_state_dict(states[\"scheduler\"])\n",
    "\n",
    "    # ====================================================\n",
    "    # loop\n",
    "    # ====================================================\n",
    "    if CFG.label_smoothing > 0.0:\n",
    "        criterion = LabelSmoothingCrossEntropy(epsilon=CFG.label_smoothing)\n",
    "    else:\n",
    "        criterion = nn.CrossEntropyLoss()  # loss計算したくないクラスは, ignore_index=1 で指定できる\n",
    "\n",
    "    best_score = -1  # np.inf\n",
    "\n",
    "    for epoch in range(CFG.epochs):\n",
    "\n",
    "        start_time = time.time()\n",
    "\n",
    "        # train\n",
    "        avg_loss = train_fn(\n",
    "            train_loader, model, criterion, optimizer, epoch, scheduler, device, scaler\n",
    "        )\n",
    "\n",
    "        # eval\n",
    "        preds = valid_fn(valid_loader, model, device)\n",
    "        \n",
    "        # 予測がlogitの場合ラベルidに直す\n",
    "        pred_labels = preds.argmax(1) if preds.ndim > 1 else preds\n",
    "        \n",
    "        LOGGER.info(f\"labels: {valid_labels[:5]}\")\n",
    "        LOGGER.info(f\"pred_labels: {pred_labels[:5]}\")\n",
    "        \n",
    "        # scoring\n",
    "        score = get_score(valid_labels, pred_labels)\n",
    "\n",
    "        elapsed = time.time() - start_time\n",
    "\n",
    "        LOGGER.info(\n",
    "            f\"Epoch {epoch+1} - avg_train_loss: {avg_loss:.4f}  lr: {scheduler.get_lr()[0]:.4e}  time: {elapsed:.0f}s\"\n",
    "        )\n",
    "        LOGGER.info(f\"Epoch {epoch+1} - Score: {score:.4f}\")\n",
    "\n",
    "        if isinstance(scheduler, ReduceLROnPlateau):\n",
    "            scheduler.step(score)\n",
    "        elif isinstance(scheduler, CosineAnnealingLR):\n",
    "            scheduler.step()\n",
    "        elif isinstance(scheduler, CosineAnnealingWarmRestarts):\n",
    "            scheduler.step()\n",
    "\n",
    "        if score > best_score:\n",
    "            best_score = score\n",
    "            LOGGER.info(f\"Epoch {epoch+1} - Save Best Score: {best_score:.4f} Model\")\n",
    "            best_pth = OUTPUT_DIR + f\"/fold{fold}_seed{seed}_best.pth\"\n",
    "            torch.save(\n",
    "                {\n",
    "                    \"model\": model.state_dict(),\n",
    "                    \"optimizer\": optimizer.state_dict(),\n",
    "                    \"scheduler\": scheduler.state_dict(),\n",
    "                    \"preds\": preds,\n",
    "                },\n",
    "                best_pth,\n",
    "            )\n",
    "            val_pred_df = pd.DataFrame(\n",
    "                {\"id\": val_idx, \"label\": valid_labels, \"pred\": pred_labels}\n",
    "            )\n",
    "            if preds.ndim > 1:\n",
    "                val_pred_df = pd.concat([val_pred_df, pd.DataFrame(preds)], axis=1)  # 確信度も残す\n",
    "                \n",
    "    return val_pred_df\n",
    "\n",
    "\n",
    "# ====================================================\n",
    "# Utils\n",
    "# ====================================================\n",
    "def get_score(y_true, y_pred):\n",
    "    return accuracy_score(y_true, y_pred)\n",
    "\n",
    "\n",
    "def init_logger(log_file='train.log'):\n",
    "    \"\"\"学習ログファイル出す\"\"\"\n",
    "    from logging import getLogger, INFO, FileHandler,  Formatter,  StreamHandler\n",
    "    logger = getLogger(__name__)\n",
    "    logger.setLevel(INFO)\n",
    "    handler1 = StreamHandler()\n",
    "    handler1.setFormatter(Formatter(\"%(message)s\"))\n",
    "    handler2 = FileHandler(filename=log_file)\n",
    "    handler2.setFormatter(Formatter(\"%(message)s\"))\n",
    "    logger.addHandler(handler1)\n",
    "    logger.addHandler(handler2)\n",
    "    return logger\n",
    "\n",
    "\n",
    "def seed_torch(seed=42):\n",
    "    random.seed(seed)\n",
    "    os.environ['PYTHONHASHSEED'] = str(seed)\n",
    "    np.random.seed(seed)\n",
    "    torch.manual_seed(seed)\n",
    "    torch.cuda.manual_seed(seed)\n",
    "    torch.cuda.manual_seed_all(seed)\n",
    "    torch.backends.cudnn.deterministic = True\n",
    "\n",
    "\n",
    "# ====================================================\n",
    "# CV split\n",
    "# ====================================================\n",
    "def cv_split(df, seed):\n",
    "    folds = df.copy()\n",
    "    cv = StratifiedKFold(n_splits=CFG.n_fold, shuffle=True, random_state=seed)\n",
    "    for j, (train_idx, valid_idx) in enumerate(cv.split(df, df[\"label\"])):\n",
    "        folds.loc[valid_idx, \"fold\"] = int(j)\n",
    "    folds[\"fold\"] = folds[\"fold\"].astype(int)\n",
    "    print(folds.groupby([\"fold\"]).size())\n",
    "    return folds\n",
    "\n",
    "\n",
    "# ====================================================\n",
    "# Model\n",
    "# ====================================================\n",
    "class TimmModel(nn.Module):\n",
    "    def __init__(self, n_classes, model_name=\"resnet18\", pretrained=True):\n",
    "        super().__init__()\n",
    "        self.cnn = timm.create_model(model_name, pretrained=pretrained)\n",
    "        if \"efficient\" in model_name:\n",
    "            self.cnn.classifier = nn.Linear(self.cnn.classifier.in_features, n_classes)\n",
    "        elif \"nfnet\" in model_name:\n",
    "            self.cnn.head.fc = nn.Linear(self.cnn.head.fc.in_features, n_classes)\n",
    "        elif \"vit\" in model_name:\n",
    "            self.cnn.head = nn.Linear(self.cnn.head.in_features, n_classes)\n",
    "        elif \"tnt\" in model_name:\n",
    "            self.cnn.head = nn.Linear(self.cnn.head.in_features, n_classes)\n",
    "        elif \"swin\" in model_name:\n",
    "            self.cnn.head = nn.Linear(self.cnn.head.in_features, n_classes)\n",
    "        elif \"cait\" in model_name:\n",
    "            self.cnn.head = nn.Linear(self.cnn.head.in_features, n_classes)\n",
    "        elif \"mixer\" in model_name:\n",
    "            self.cnn.head = nn.Linear(self.cnn.head.in_features, n_classes)\n",
    "        else:\n",
    "            self.cnn.fc = nn.Linear(self.cnn.fc.in_features, n_classes)\n",
    "\n",
    "    def forward(self, x):\n",
    "        return self.cnn(x)\n",
    "    \n",
    "    def forward_softmax(self, x):\n",
    "        return torch.softmax(self.cnn(x), 1)\n",
    "    \n",
    "    def forward_argmax(self, x):\n",
    "        return self.cnn(x).argmax(1)\n",
    "\n",
    "\n",
    "# ====================================================\n",
    "# LOGGER\n",
    "# ====================================================\n",
    "LOGGER = init_logger(OUTPUT_DIR + \"/train.log\")\n",
    "\n",
    "\n",
    "# ====================================================\n",
    "# main\n",
    "# ====================================================\n",
    "def main(train):\n",
    "    for seed in CFG.seeds:\n",
    "        seed_torch(seed=seed)\n",
    "        \n",
    "        if CFG.debug:\n",
    "            CFG.epochs = 2\n",
    "            train = train.sample(n=300, random_state=seed).reset_index(drop=True)\n",
    "        \n",
    "        folds = cv_split(train, seed)\n",
    "        oof_df = None\n",
    "        for fold in range(CFG.n_fold):\n",
    "            if fold in CFG.trn_fold:\n",
    "                val_pred_df = train_loop(folds, fold, seed)\n",
    "                val_pred_df[\"fold\"] = fold\n",
    "\n",
    "                if oof_df is None:\n",
    "                    oof_df = val_pred_df\n",
    "                else:\n",
    "                    oof_df = oof_df.append(val_pred_df)\n",
    "\n",
    "        oof_df.to_csv(OUTPUT_DIR + f\"/oof_seed{seed}.csv\", index=False)\n",
    "        #display(oof_df)\n",
    "        \n",
    "        LOGGER.info(f\"\\noof score: {get_score(oof_df['label'].values, oof_df['pred'].values)}\\n\")\n",
    "    \n",
    "    # colabは短時間でフdriveにファイル出力多いとエラーになるので最後に保存\n",
    "    # 出力ディレクトリをdriveに保存する\n",
    "    if \"google.colab\" in sys.modules:\n",
    "        copy_tree(OUTPUT_DIR, CP_DIR)\n",
    "\n",
    "if __name__ == '__main__':\n",
    "    print(\"timm version:\", timm.__version__)\n",
    "    print(device)\n",
    "    \n",
    "    main(train)\n",
    "    \n",
    "    LOGGER.info(\"\\ntrain finish!!!\")"
   ]
  },
  {
   "cell_type": "markdown",
   "metadata": {
    "id": "U2KPduCtGPp2"
   },
   "source": [
    "## evaluation"
   ]
  },
  {
   "cell_type": "code",
   "execution_count": 11,
   "metadata": {
    "ExecuteTime": {
     "start_time": "2021-07-01T12:40:25.797Z"
    },
    "colab": {
     "base_uri": "https://localhost:8080/",
     "height": 1000
    },
    "executionInfo": {
     "elapsed": 259606,
     "status": "ok",
     "timestamp": 1625282055976,
     "user": {
      "displayName": "Shingo Yokoi",
      "photoUrl": "",
      "userId": "16552018841329203618"
     },
     "user_tz": -540
    },
    "id": "8SQXOhuI1rOr",
    "lines_to_next_cell": 2,
    "outputId": "deb4ee62-ee72-4ebd-f2a5-8f676c5b7fa5",
    "scrolled": true
   },
   "outputs": [
    {
     "name": "stdout",
     "output_type": "stream",
     "text": [
      "================================================== seed0 oof ==================================================\n",
      "oof score: 0.6758409785932722\n"
     ]
    },
    {
     "data": {
      "image/png": "[encoded data removed]",
      "text/plain": [
       "<Figure size 720x576 with 1 Axes>"
      ]
     },
     "metadata": {
      "needs_background": "light",
      "tags": []
     },
     "output_type": "display_data"
    },
    {
     "name": "stdout",
     "output_type": "stream",
     "text": [
      "              precision    recall  f1-score   support\n",
      "\n",
      "           0       0.64      0.82      0.72        60\n",
      "           1       0.69      0.43      0.53        42\n",
      "           2       0.65      0.74      0.69       132\n",
      "           3       0.40      0.45      0.42        42\n",
      "           4       0.61      0.55      0.57        42\n",
      "           5       0.59      0.53      0.56        60\n",
      "           6       0.79      0.69      0.73        48\n",
      "           7       0.85      0.93      0.89        30\n",
      "           8       0.86      0.80      0.83        30\n",
      "           9       0.77      0.77      0.77        66\n",
      "          10       0.70      0.63      0.67        30\n",
      "          11       0.80      0.76      0.78        42\n",
      "          12       0.67      0.53      0.59        30\n",
      "\n",
      "    accuracy                           0.68       654\n",
      "   macro avg       0.69      0.66      0.67       654\n",
      "weighted avg       0.68      0.68      0.67       654\n",
      "\n"
     ]
    },
    {
     "data": {
      "image/png": "[encoded data removed]",
      "text/plain": [
       "<Figure size 720x576 with 2 Axes>"
      ]
     },
     "metadata": {
      "needs_background": "light",
      "tags": []
     },
     "output_type": "display_data"
    },
    {
     "name": "stdout",
     "output_type": "stream",
     "text": [
      "================================================== seed1 oof ==================================================\n",
      "oof score: 0.6697247706422018\n"
     ]
    },
    {
     "data": {
      "image/png": "[encoded data removed]",
      "text/plain": [
       "<Figure size 720x576 with 1 Axes>"
      ]
     },
     "metadata": {
      "needs_background": "light",
      "tags": []
     },
     "output_type": "display_data"
    },
    {
     "name": "stdout",
     "output_type": "stream",
     "text": [
      "              precision    recall  f1-score   support\n",
      "\n",
      "           0       0.72      0.72      0.72        60\n",
      "           1       0.57      0.50      0.53        42\n",
      "           2       0.62      0.77      0.69       132\n",
      "           3       0.51      0.43      0.47        42\n",
      "           4       0.62      0.50      0.55        42\n",
      "           5       0.62      0.57      0.59        60\n",
      "           6       0.71      0.81      0.76        48\n",
      "           7       0.76      0.93      0.84        30\n",
      "           8       0.76      0.73      0.75        30\n",
      "           9       0.85      0.77      0.81        66\n",
      "          10       0.70      0.53      0.60        30\n",
      "          11       0.70      0.76      0.73        42\n",
      "          12       0.57      0.40      0.47        30\n",
      "\n",
      "    accuracy                           0.67       654\n",
      "   macro avg       0.67      0.65      0.65       654\n",
      "weighted avg       0.67      0.67      0.66       654\n",
      "\n"
     ]
    },
    {
     "data": {
      "image/png": "[encoded data removed]",
      "text/plain": [
       "<Figure size 720x576 with 2 Axes>"
      ]
     },
     "metadata": {
      "needs_background": "light",
      "tags": []
     },
     "output_type": "display_data"
    },
    {
     "name": "stdout",
     "output_type": "stream",
     "text": [
      "================================================== seed2 oof ==================================================\n",
      "oof score: 0.672782874617737\n"
     ]
    },
    {
     "data": {
      "image/png": "[encoded data removed]",
      "text/plain": [
       "<Figure size 720x576 with 1 Axes>"
      ]
     },
     "metadata": {
      "needs_background": "light",
      "tags": []
     },
     "output_type": "display_data"
    },
    {
     "name": "stdout",
     "output_type": "stream",
     "text": [
      "              precision    recall  f1-score   support\n",
      "\n",
      "           0       0.64      0.68      0.66        60\n",
      "           1       0.53      0.45      0.49        42\n",
      "           2       0.64      0.75      0.69       132\n",
      "           3       0.53      0.38      0.44        42\n",
      "           4       0.55      0.52      0.54        42\n",
      "           5       0.67      0.57      0.61        60\n",
      "           6       0.75      0.83      0.79        48\n",
      "           7       0.80      0.93      0.86        30\n",
      "           8       0.92      0.80      0.86        30\n",
      "           9       0.78      0.76      0.77        66\n",
      "          10       0.67      0.67      0.67        30\n",
      "          11       0.68      0.76      0.72        42\n",
      "          12       0.65      0.50      0.57        30\n",
      "\n",
      "    accuracy                           0.67       654\n",
      "   macro avg       0.68      0.66      0.67       654\n",
      "weighted avg       0.67      0.67      0.67       654\n",
      "\n"
     ]
    },
    {
     "data": {
      "image/png": "[encoded data removed]",
      "text/plain": [
       "<Figure size 720x576 with 2 Axes>"
      ]
     },
     "metadata": {
      "needs_background": "light",
      "tags": []
     },
     "output_type": "display_data"
    },
    {
     "name": "stdout",
     "output_type": "stream",
     "text": [
      "================================================== soft_avg_oof ==================================================\n",
      "oof score: 0.709480122324159\n"
     ]
    },
    {
     "data": {
      "image/png": "[encoded data removed]",
      "text/plain": [
       "<Figure size 720x576 with 1 Axes>"
      ]
     },
     "metadata": {
      "needs_background": "light",
      "tags": []
     },
     "output_type": "display_data"
    },
    {
     "name": "stdout",
     "output_type": "stream",
     "text": [
      "              precision    recall  f1-score   support\n",
      "\n",
      "           0       0.68      0.83      0.75        60\n",
      "           1       0.67      0.52      0.59        42\n",
      "           2       0.62      0.76      0.68       132\n",
      "           3       0.58      0.45      0.51        42\n",
      "           4       0.66      0.60      0.62        42\n",
      "           5       0.67      0.58      0.63        60\n",
      "           6       0.81      0.81      0.81        48\n",
      "           7       0.85      0.97      0.91        30\n",
      "           8       0.92      0.80      0.86        30\n",
      "           9       0.81      0.79      0.80        66\n",
      "          10       0.77      0.67      0.71        30\n",
      "          11       0.75      0.79      0.77        42\n",
      "          12       0.76      0.53      0.63        30\n",
      "\n",
      "    accuracy                           0.71       654\n",
      "   macro avg       0.74      0.70      0.71       654\n",
      "weighted avg       0.71      0.71      0.71       654\n",
      "\n"
     ]
    },
    {
     "data": {
      "image/png": "[encoded data removed]",
      "text/plain": [
       "<Figure size 720x576 with 2 Axes>"
      ]
     },
     "metadata": {
      "needs_background": "light",
      "tags": []
     },
     "output_type": "display_data"
    }
   ],
   "source": [
    "# ====================================================\n",
    "# Eval OOF\n",
    "# ====================================================\n",
    "import torch\n",
    "import numpy as np\n",
    "import pandas as pd\n",
    "import matplotlib.pyplot as plt\n",
    "import seaborn as sns\n",
    "from sklearn.metrics import accuracy_score, classification_report, confusion_matrix\n",
    "\n",
    "\n",
    "def get_score(y_true, y_pred):\n",
    "    return accuracy_score(y_true, y_pred)\n",
    "\n",
    "\n",
    "def eval_oof_df(oof_df):\n",
    "    \"\"\"oofのスコアや混同行列を可視化する\"\"\"\n",
    "    score = get_score(oof_df['label'].values, oof_df['pred'].values)\n",
    "    print(\"oof score:\", score)\n",
    "    \n",
    "    plt.figure(figsize=(10, 8))\n",
    "    sns.countplot(y=oof_df[\"pred\"], orient=\"v\")\n",
    "    plt.title(\"Prediction distribution\")\n",
    "    plt.show()\n",
    "    \n",
    "    print(classification_report(oof_df[\"label\"], oof_df[\"pred\"]))\n",
    "    \n",
    "    plt.figure(figsize=(10, 8))\n",
    "    sns.heatmap(\n",
    "        confusion_matrix(oof_df[\"label\"], oof_df[\"pred\"]),\n",
    "        annot=True,\n",
    "        cmap=\"Blues\",\n",
    "    )\n",
    "    plt.title(\"OOF confusion matrix\")\n",
    "    plt.show()\n",
    "    \n",
    "    \n",
    "def get_soft_avg_oof_df():\n",
    "    \"\"\"seedごとのoofをロードして確信度を単純平均する\"\"\"\n",
    "    oof_avg = None\n",
    "    for seed in CFG.seeds:\n",
    "        oof_df = pd.read_csv(OUTPUT_DIR + f\"/oof_seed{seed}.csv\")\n",
    "        df = oof_df[[\"id\", \"label\"]]\n",
    "        preds = None\n",
    "        for fold in range(CFG.n_fold):\n",
    "            states = torch.load(OUTPUT_DIR + f\"/fold{CFG.trn_fold[fold]}_seed{seed}_best.pth\", map_location=torch.device(\"cpu\"))\n",
    "            preds = states[\"preds\"] if preds is None else np.concatenate([preds, states[\"preds\"]])\n",
    "        preds = pd.DataFrame(preds)\n",
    "        df = df.join(preds).sort_values(by='id')\n",
    "        df = df.reset_index(drop=True)\n",
    "        oof_avg = df if oof_avg is None else oof_avg + df\n",
    "    oof_avg = oof_avg / len(CFG.seeds)\n",
    "\n",
    "    label = oof_avg[\"label\"].astype(int).values\n",
    "    pred_label = np.argmax(oof_avg[list(range(CFG.n_classes))].values, 1)\n",
    "    oof_avg_label = pd.DataFrame({\"label\": label, \"pred\": pred_label})\n",
    "    \n",
    "    return oof_avg, oof_avg_label\n",
    "\n",
    "    \n",
    "if __name__ == '__main__':\n",
    "    for seed in CFG.seeds:\n",
    "        print(\"=\"*50, f\"seed{seed} oof\", \"=\"*50)\n",
    "        oof_df = pd.read_csv(OUTPUT_DIR + f\"/oof_seed{seed}.csv\")\n",
    "        eval_oof_df(oof_df)\n",
    "    \n",
    "    print(\"=\"*50, \"soft_avg_oof\", \"=\"*50)\n",
    "    oof_avg, oof_avg_label = get_soft_avg_oof_df()\n",
    "    eval_oof_df(oof_avg_label)\n",
    "    \n",
    "    oof_avg.to_csv(OUTPUT_DIR + f\"/soft_avg_oof.csv\", index=False)\n",
    "    # driveに保存する\n",
    "    if \"google.colab\" in sys.modules:\n",
    "        shutil.copyfile(OUTPUT_DIR + f\"/soft_avg_oof.csv\", CP_DIR + f\"/{NAME}_soft_avg_oof.csv\")"
   ]
  },
  {
   "cell_type": "code",
   "execution_count": 11,
   "metadata": {
    "executionInfo": {
     "elapsed": 12,
     "status": "ok",
     "timestamp": 1625282055977,
     "user": {
      "displayName": "Shingo Yokoi",
      "photoUrl": "",
      "userId": "16552018841329203618"
     },
     "user_tz": -540
    },
    "id": "piK_P4GcGPp4"
   },
   "outputs": [],
   "source": []
  }
 ],
 "metadata": {
  "accelerator": "GPU",
  "colab": {
   "collapsed_sections": [],
   "machine_shape": "hm",
   "name": "ex11_pseudo3_train.ipynb",
   "provenance": []
  },
  "hide_input": false,
  "jupytext": {
   "encoding": "# -*- coding: utf-8 -*-",
   "text_representation": {
    "extension": ".py",
    "format_name": "light",
    "format_version": "1.5",
    "jupytext_version": "1.7.1"
   }
  },
  "kernelspec": {
   "display_name": "Python 3 (ipykernel)",
   "language": "python",
   "name": "python3"
  },
  "language_info": {
   "codemirror_mode": {
    "name": "ipython",
    "version": 3
   },
   "file_extension": ".py",
   "mimetype": "text/x-python",
   "name": "python",
   "nbconvert_exporter": "python",
   "pygments_lexer": "ipython3",
   "version": "3.8.10"
  }
 },
 "nbformat": 4,
 "nbformat_minor": 4
}
