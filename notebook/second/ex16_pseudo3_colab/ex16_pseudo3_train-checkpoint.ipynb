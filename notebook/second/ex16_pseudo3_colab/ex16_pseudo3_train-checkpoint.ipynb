{
 "cells": [
  {
   "cell_type": "code",
   "execution_count": 1,
   "metadata": {
    "ExecuteTime": {
     "end_time": "2021-07-01T12:40:25.790534Z",
     "start_time": "2021-07-01T12:40:25.787534Z"
    },
    "executionInfo": {
     "elapsed": 486,
     "status": "ok",
     "timestamp": 1625251602182,
     "user": {
      "displayName": "Shingo Yokoi",
      "photoUrl": "",
      "userId": "16552018841329203618"
     },
     "user_tz": -540
    },
    "id": "dsgENkij3Dwm"
   },
   "outputs": [],
   "source": [
    "NAME = \"ex16_pseudo3\""
   ]
  },
  {
   "cell_type": "markdown",
   "metadata": {
    "id": "SVbuc-QmGPpv"
   },
   "source": [
    "## colab"
   ]
  },
  {
   "cell_type": "code",
   "execution_count": 2,
   "metadata": {
    "ExecuteTime": {
     "end_time": "2021-07-01T12:40:25.864559Z",
     "start_time": "2021-07-01T12:40:25.791533Z"
    },
    "colab": {
     "base_uri": "https://localhost:8080/"
    },
    "executionInfo": {
     "elapsed": 8,
     "status": "ok",
     "timestamp": 1625251602182,
     "user": {
      "displayName": "Shingo Yokoi",
      "photoUrl": "",
      "userId": "16552018841329203618"
     },
     "user_tz": -540
    },
    "id": "UEg_x7oyXaEN",
    "outputId": "045b493c-a5e7-4115-e7c1-a76cae4086e1"
   },
   "outputs": [
    {
     "name": "stdout",
     "output_type": "stream",
     "text": [
      "Fri Jul  2 18:46:42 2021       \n",
      "+-----------------------------------------------------------------------------+\n",
      "| NVIDIA-SMI 465.27       Driver Version: 460.32.03    CUDA Version: 11.2     |\n",
      "|-------------------------------+----------------------+----------------------+\n",
      "| GPU  Name        Persistence-M| Bus-Id        Disp.A | Volatile Uncorr. ECC |\n",
      "| Fan  Temp  Perf  Pwr:Usage/Cap|         Memory-Usage | GPU-Util  Compute M. |\n",
      "|                               |                      |               MIG M. |\n",
      "|===============================+======================+======================|\n",
      "|   0  Tesla P100-PCIE...  Off  | 00000000:00:04.0 Off |                    0 |\n",
      "| N/A   44C    P0    29W / 250W |      0MiB / 16280MiB |      0%      Default |\n",
      "|                               |                      |                  N/A |\n",
      "+-------------------------------+----------------------+----------------------+\n",
      "                                                                               \n",
      "+-----------------------------------------------------------------------------+\n",
      "| Processes:                                                                  |\n",
      "|  GPU   GI   CI        PID   Type   Process name                  GPU Memory |\n",
      "|        ID   ID                                                   Usage      |\n",
      "|=============================================================================|\n",
      "|  No running processes found                                                 |\n",
      "+-----------------------------------------------------------------------------+\n"
     ]
    }
   ],
   "source": [
    "!nvidia-smi"
   ]
  },
  {
   "cell_type": "code",
   "execution_count": 3,
   "metadata": {
    "ExecuteTime": {
     "end_time": "2021-07-01T12:40:25.868555Z",
     "start_time": "2021-07-01T12:40:25.865533Z"
    },
    "colab": {
     "base_uri": "https://localhost:8080/"
    },
    "executionInfo": {
     "elapsed": 18724,
     "status": "ok",
     "timestamp": 1625251620903,
     "user": {
      "displayName": "Shingo Yokoi",
      "photoUrl": "",
      "userId": "16552018841329203618"
     },
     "user_tz": -540
    },
    "id": "PEBtWXxWXdM0",
    "outputId": "132e8b03-7fb2-4e65-9b27-d93b31f162d5"
   },
   "outputs": [
    {
     "name": "stdout",
     "output_type": "stream",
     "text": [
      "Mounted at /content/drive\n"
     ]
    }
   ],
   "source": [
    "# ドライブをマウント\n",
    "import sys\n",
    "if 'google.colab' in sys.modules:\n",
    "    from google.colab import drive\n",
    "    drive.mount('/content/drive')"
   ]
  },
  {
   "cell_type": "code",
   "execution_count": 4,
   "metadata": {
    "ExecuteTime": {
     "end_time": "2021-07-01T12:40:26.581781Z",
     "start_time": "2021-07-01T12:40:25.869535Z"
    },
    "executionInfo": {
     "elapsed": 7050,
     "status": "ok",
     "timestamp": 1625251627947,
     "user": {
      "displayName": "Shingo Yokoi",
      "photoUrl": "",
      "userId": "16552018841329203618"
     },
     "user_tz": -540
    },
    "id": "2dtYIxz3XYNq"
   },
   "outputs": [],
   "source": [
    "import os, sys\n",
    "\n",
    "if \"google.colab\" in sys.modules:\n",
    "    CP_DIR = f\"/content/drive/MyDrive/Work/probspace_religious_art/notebook/{NAME}_colab/output\"\n",
    "    OUTPUT_DIR = \"output\"\n",
    "    INPUT_DIR = \"./eda_output/output\"\n",
    "    PSEUDO_CSV = \"/content/drive/MyDrive/Work/probspace_religious_art/notebook/local_data/ex11_ex16_big_logit_test_is06789_11.csv\"  # ex11_ex16_big_logit_test.ipynb より\n",
    "    sys.path.append(\"/content/drive/MyDrive/Work/probspace_religious_art/code\")\n",
    "elif \"kaggle_web_client\" in sys.modules:\n",
    "    pass\n",
    "elif \"/kqi/output\" in os.getcwd():\n",
    "    pass\n",
    "else:\n",
    "    # local\n",
    "    CP_DIR = \"output\"\n",
    "    OUTPUT_DIR = \"output\"\n",
    "    INPUT_DIR = \"../../eda/output\"\n",
    "    PSEUDO_CSV = \"../../first/make_pseudo_label/ex11_ex16_big_logit_test_is06789_11.csv\"  # ex11_ex16_big_logit_test.ipynb より\n",
    "    sys.path.append(\"../../../code\")\n",
    "    sys.path.append('../../../Git/Ranger-Deep-Learning-Optimizer')\n",
    "    sys.path.append('../../../Git/pytorch-optimizer')\n",
    "\n",
    "from mix_aug import cutmix, fmix, snapmix, SnapMixLoss, resizemix\n",
    "\n",
    "\n",
    "os.makedirs(CP_DIR, exist_ok=True)\n",
    "os.makedirs(OUTPUT_DIR, exist_ok=True)"
   ]
  },
  {
   "cell_type": "code",
   "execution_count": 5,
   "metadata": {
    "ExecuteTime": {
     "end_time": "2021-07-01T12:40:26.587754Z",
     "start_time": "2021-07-01T12:40:26.582779Z"
    },
    "executionInfo": {
     "elapsed": 2510,
     "status": "ok",
     "timestamp": 1625251630451,
     "user": {
      "displayName": "Shingo Yokoi",
      "photoUrl": "",
      "userId": "16552018841329203618"
     },
     "user_tz": -540
    },
    "id": "IpXcUizxZHLC"
   },
   "outputs": [],
   "source": [
    "# driveからzipコピーしてくる\n",
    "if os.getcwd() == \"/content\" and os.path.exists(INPUT_DIR) == False:\n",
    "    !mkdir -p \"./eda_output\"\n",
    "    !cp -r \"/content/drive/MyDrive/Work/probspace_religious_art/notebook/eda/output.zip\" \"./eda_output\"\n",
    "    !unzip -qq \"./eda_output/output.zip\" -d \"./eda_output\"\n",
    "    pass"
   ]
  },
  {
   "cell_type": "code",
   "execution_count": 6,
   "metadata": {
    "ExecuteTime": {
     "end_time": "2021-07-01T12:40:26.594754Z",
     "start_time": "2021-07-01T12:40:26.588755Z"
    },
    "colab": {
     "base_uri": "https://localhost:8080/"
    },
    "executionInfo": {
     "elapsed": 16165,
     "status": "ok",
     "timestamp": 1625251646613,
     "user": {
      "displayName": "Shingo Yokoi",
      "photoUrl": "",
      "userId": "16552018841329203618"
     },
     "user_tz": -540
    },
    "id": "ceROAHh1X3rr",
    "outputId": "8acf1f2d-06f4-4786-a749-405710cdf049",
    "scrolled": true
   },
   "outputs": [
    {
     "name": "stdout",
     "output_type": "stream",
     "text": [
      "Collecting albumentations\n",
      "\u001b[?25l  Downloading https://files.pythonhosted.org/packages/b0/be/3db3cd8af771988748f69eace42047d5edebf01eaa7e1293f3b3f75f989e/albumentations-1.0.0-py3-none-any.whl (98kB)\n",
      "\u001b[K     |████████████████████████████████| 102kB 3.9MB/s \n",
      "\u001b[?25hCollecting opencv-python-headless>=4.1.1\n",
      "\u001b[?25l  Downloading https://files.pythonhosted.org/packages/c3/35/bfc76533f2274cd3da4e2cf255cd13ab9d7f6fc8990c06911e7f8fcc2130/opencv_python_headless-4.5.2.54-cp37-cp37m-manylinux2014_x86_64.whl (38.2MB)\n",
      "\u001b[K     |████████████████████████████████| 38.2MB 109kB/s \n",
      "\u001b[?25hRequirement already satisfied, skipping upgrade: scikit-image>=0.16.1 in /usr/local/lib/python3.7/dist-packages (from albumentations) (0.16.2)\n",
      "Requirement already satisfied, skipping upgrade: scipy in /usr/local/lib/python3.7/dist-packages (from albumentations) (1.4.1)\n",
      "Requirement already satisfied, skipping upgrade: PyYAML in /usr/local/lib/python3.7/dist-packages (from albumentations) (3.13)\n",
      "Requirement already satisfied, skipping upgrade: numpy>=1.11.1 in /usr/local/lib/python3.7/dist-packages (from albumentations) (1.19.5)\n",
      "Requirement already satisfied, skipping upgrade: networkx>=2.0 in /usr/local/lib/python3.7/dist-packages (from scikit-image>=0.16.1->albumentations) (2.5.1)\n",
      "Requirement already satisfied, skipping upgrade: pillow>=4.3.0 in /usr/local/lib/python3.7/dist-packages (from scikit-image>=0.16.1->albumentations) (7.1.2)\n",
      "Requirement already satisfied, skipping upgrade: PyWavelets>=0.4.0 in /usr/local/lib/python3.7/dist-packages (from scikit-image>=0.16.1->albumentations) (1.1.1)\n",
      "Requirement already satisfied, skipping upgrade: matplotlib!=3.0.0,>=2.0.0 in /usr/local/lib/python3.7/dist-packages (from scikit-image>=0.16.1->albumentations) (3.2.2)\n",
      "Requirement already satisfied, skipping upgrade: imageio>=2.3.0 in /usr/local/lib/python3.7/dist-packages (from scikit-image>=0.16.1->albumentations) (2.4.1)\n",
      "Requirement already satisfied, skipping upgrade: decorator<5,>=4.3 in /usr/local/lib/python3.7/dist-packages (from networkx>=2.0->scikit-image>=0.16.1->albumentations) (4.4.2)\n",
      "Requirement already satisfied, skipping upgrade: kiwisolver>=1.0.1 in /usr/local/lib/python3.7/dist-packages (from matplotlib!=3.0.0,>=2.0.0->scikit-image>=0.16.1->albumentations) (1.3.1)\n",
      "Requirement already satisfied, skipping upgrade: python-dateutil>=2.1 in /usr/local/lib/python3.7/dist-packages (from matplotlib!=3.0.0,>=2.0.0->scikit-image>=0.16.1->albumentations) (2.8.1)\n",
      "Requirement already satisfied, skipping upgrade: cycler>=0.10 in /usr/local/lib/python3.7/dist-packages (from matplotlib!=3.0.0,>=2.0.0->scikit-image>=0.16.1->albumentations) (0.10.0)\n",
      "Requirement already satisfied, skipping upgrade: pyparsing!=2.0.4,!=2.1.2,!=2.1.6,>=2.0.1 in /usr/local/lib/python3.7/dist-packages (from matplotlib!=3.0.0,>=2.0.0->scikit-image>=0.16.1->albumentations) (2.4.7)\n",
      "Requirement already satisfied, skipping upgrade: six>=1.5 in /usr/local/lib/python3.7/dist-packages (from python-dateutil>=2.1->matplotlib!=3.0.0,>=2.0.0->scikit-image>=0.16.1->albumentations) (1.15.0)\n",
      "Installing collected packages: opencv-python-headless, albumentations\n",
      "  Found existing installation: albumentations 0.1.12\n",
      "    Uninstalling albumentations-0.1.12:\n",
      "      Successfully uninstalled albumentations-0.1.12\n",
      "Successfully installed albumentations-1.0.0 opencv-python-headless-4.5.2.54\n",
      "Collecting timm\n",
      "\u001b[?25l  Downloading https://files.pythonhosted.org/packages/90/fc/606bc5cf46acac3aa9bd179b3954433c026aaf88ea98d6b19f5d14c336da/timm-0.4.12-py3-none-any.whl (376kB)\n",
      "\u001b[K     |████████████████████████████████| 378kB 4.3MB/s \n",
      "\u001b[?25hRequirement already satisfied, skipping upgrade: torchvision in /usr/local/lib/python3.7/dist-packages (from timm) (0.10.0+cu102)\n",
      "Requirement already satisfied, skipping upgrade: torch>=1.4 in /usr/local/lib/python3.7/dist-packages (from timm) (1.9.0+cu102)\n",
      "Requirement already satisfied, skipping upgrade: pillow>=5.3.0 in /usr/local/lib/python3.7/dist-packages (from torchvision->timm) (7.1.2)\n",
      "Requirement already satisfied, skipping upgrade: numpy in /usr/local/lib/python3.7/dist-packages (from torchvision->timm) (1.19.5)\n",
      "Requirement already satisfied, skipping upgrade: typing-extensions in /usr/local/lib/python3.7/dist-packages (from torch>=1.4->timm) (3.7.4.3)\n",
      "Installing collected packages: timm\n",
      "Successfully installed timm-0.4.12\n",
      "Collecting torch-optimizer\n",
      "\u001b[?25l  Downloading https://files.pythonhosted.org/packages/af/0f/bc49a0f714a1896b80f31db9ba82eebcb2bad9e0f5757184574f8ecfe2f1/torch_optimizer-0.1.0-py3-none-any.whl (72kB)\n",
      "\u001b[K     |████████████████████████████████| 81kB 3.7MB/s \n",
      "\u001b[?25hCollecting pytorch-ranger>=0.1.1\n",
      "  Downloading https://files.pythonhosted.org/packages/0d/70/12256257d861bbc3e176130d25be1de085ce7a9e60594064888a950f2154/pytorch_ranger-0.1.1-py3-none-any.whl\n",
      "Requirement already satisfied: torch>=1.1.0 in /usr/local/lib/python3.7/dist-packages (from torch-optimizer) (1.9.0+cu102)\n",
      "Requirement already satisfied: typing-extensions in /usr/local/lib/python3.7/dist-packages (from torch>=1.1.0->torch-optimizer) (3.7.4.3)\n",
      "Installing collected packages: pytorch-ranger, torch-optimizer\n",
      "Successfully installed pytorch-ranger-0.1.1 torch-optimizer-0.1.0\n"
     ]
    }
   ],
   "source": [
    "# colabで足りないライブラリinstall\n",
    "import os, sys\n",
    "if (\"google.colab\" in sys.modules) or (\"kaggle_web_client\" in sys.modules) or (\"/kqi/output\" in os.getcwd()):\n",
    "    !pip install --upgrade albumentations\n",
    "    !pip install --upgrade timm\n",
    "    !pip install torch-optimizer\n",
    "    pass"
   ]
  },
  {
   "cell_type": "markdown",
   "metadata": {
    "id": "jAFnZrU0GPpx"
   },
   "source": [
    "## data load"
   ]
  },
  {
   "cell_type": "code",
   "execution_count": 7,
   "metadata": {
    "ExecuteTime": {
     "end_time": "2021-07-01T12:40:26.779756Z",
     "start_time": "2021-07-01T12:40:26.596754Z"
    },
    "executionInfo": {
     "elapsed": 4,
     "status": "ok",
     "timestamp": 1625251646613,
     "user": {
      "displayName": "Shingo Yokoi",
      "photoUrl": "",
      "userId": "16552018841329203618"
     },
     "user_tz": -540
    },
    "id": "o8Y454EJXYNt"
   },
   "outputs": [],
   "source": [
    "import pandas as pd\n",
    "\n",
    "# ====================================================\n",
    "# Data Load\n",
    "# ====================================================\n",
    "def get_train_file_path(image_id):\n",
    "    return f\"{INPUT_DIR}/train/{str(image_id)}.jpg\"\n",
    "\n",
    "train = pd.read_csv(INPUT_DIR + \"/train.csv\")\n",
    "train[\"file_path\"] = train[\"image_id\"].apply(get_train_file_path)\n",
    "n_classes = 13"
   ]
  },
  {
   "cell_type": "code",
   "execution_count": 8,
   "metadata": {
    "ExecuteTime": {
     "end_time": "2021-07-01T12:40:26.808754Z",
     "start_time": "2021-07-01T12:40:26.794780Z"
    },
    "executionInfo": {
     "elapsed": 422,
     "status": "ok",
     "timestamp": 1625251647500,
     "user": {
      "displayName": "Shingo Yokoi",
      "photoUrl": "",
      "userId": "16552018841329203618"
     },
     "user_tz": -540
    },
    "id": "VgGXy0y_GPpy"
   },
   "outputs": [],
   "source": [
    "import numpy as np\n",
    "import pandas as pd\n",
    "\n",
    "# ====================================================\n",
    "# 疑似ラベルのデータ\n",
    "# ====================================================\n",
    "def get_test_file_path(image_id):\n",
    "    return f\"{INPUT_DIR}/test/{str(image_id)}.jpg\"\n",
    "\n",
    "pseudo_df = pd.read_csv(PSEUDO_CSV)\n",
    "pseudo_df = pseudo_df.rename(columns={\"pred_label\":\"label\"})\n",
    "pseudo_df = pseudo_df[[\"image_id\", \"label\", \"file_path\"]]\n",
    "pseudo_df[\"fold\"] = np.nan\n",
    "pseudo_df[\"file_path\"] = pseudo_df[\"image_id\"].apply(get_test_file_path)"
   ]
  },
  {
   "cell_type": "markdown",
   "metadata": {
    "id": "qARZgTpKXYNt"
   },
   "source": [
    "## train"
   ]
  },
  {
   "cell_type": "code",
   "execution_count": 9,
   "metadata": {
    "ExecuteTime": {
     "end_time": "2021-07-01T12:40:26.835754Z",
     "start_time": "2021-07-01T12:40:26.809753Z"
    },
    "executionInfo": {
     "elapsed": 4,
     "status": "ok",
     "timestamp": 1625251647500,
     "user": {
      "displayName": "Shingo Yokoi",
      "photoUrl": "",
      "userId": "16552018841329203618"
     },
     "user_tz": -540
    },
    "id": "VilK3enmXYNt"
   },
   "outputs": [],
   "source": [
    "import os, yaml, shutil\n",
    "\n",
    "# ====================================================\n",
    "# Param\n",
    "# ====================================================\n",
    "epochs = 35\n",
    "class Config:\n",
    "    def __init__(self):  # init__()に変数入れないと、CFG.__dict__したに型がすべて文字列になってしまう\n",
    "        self.name = NAME\n",
    "        self.debug = False\n",
    "        self.size = 480\n",
    "        self.batch_size = 8\n",
    "        self.num_workers = os.cpu_count() if (\"google.colab\" in sys.modules) or (\"kaggle_web_client\" in sys.modules) or (\"/kqi/output\" in os.getcwd()) else 0\n",
    "        self.seeds = [0,1,2]\n",
    "        self.n_fold = 5\n",
    "        self.trn_fold = [0,1,2,3,4]\n",
    "        self.n_classes = n_classes\n",
    "        self.lr = 1e-3\n",
    "        self.min_lr = 1e-6\n",
    "        self.weight_decay = 0\n",
    "        self.optimizer = \"radam\"\n",
    "        self.scheduler = \"CosineAnnealingLR\"\n",
    "        self.T_max = epochs\n",
    "        self.gradient_accumulation_steps = 2\n",
    "        self.max_grad_norm = 5\n",
    "        self.model_name = \"tf_efficientnetv2_l_in21ft1k\"  # ex16_colab\n",
    "        self.load_model_path = \"none\"\n",
    "        self.is_load_opt = True\n",
    "        self.epochs = epochs\n",
    "        self.print_freq = 10000  # 学習結果をprintするstep数\n",
    "        self.label_smoothing = 0.0\n",
    "        self.mix_decision_th = 0.5  # cutmixなどの発生確率\n",
    "        self.mixmethod = \"cutmix\"\n",
    "        self.mix_alpha = 1.0\n",
    "        \n",
    "        self.pseudo_label = str(pseudo_df.shape) if 'pseudo_df' in globals() else None  # 疑似ラベルのshape\n",
    "CFG = Config()\n",
    "\n",
    "with open(OUTPUT_DIR + \"/cfg.yaml\", \"w\") as wf:\n",
    "    yaml.dump(CFG.__dict__, wf)"
   ]
  },
  {
   "cell_type": "code",
   "execution_count": 10,
   "metadata": {
    "ExecuteTime": {
     "start_time": "2021-07-01T12:40:25.795Z"
    },
    "code_folding": [
     39,
     59,
     160,
     179,
     185,
     193,
     218
    ],
    "colab": {
     "base_uri": "https://localhost:8080/"
    },
    "executionInfo": {
     "elapsed": 19061523,
     "status": "ok",
     "timestamp": 1625294017750,
     "user": {
      "displayName": "Shingo Yokoi",
      "photoUrl": "",
      "userId": "16552018841329203618"
     },
     "user_tz": -540
    },
    "id": "bbrYnpbxXYNu",
    "lines_to_next_cell": 0,
    "outputId": "d7babab4-0997-469c-9bee-551636d12267",
    "scrolled": true
   },
   "outputs": [
    {
     "name": "stderr",
     "output_type": "stream",
     "text": [
      "==================== fold: 0, seed: 0 training ====================\n"
     ]
    },
    {
     "name": "stdout",
     "output_type": "stream",
     "text": [
      "timm version: 0.4.12\n",
      "cuda\n",
      "fold\n",
      "0    131\n",
      "1    131\n",
      "2    131\n",
      "3    131\n",
      "4    130\n",
      "dtype: int64\n"
     ]
    },
    {
     "name": "stderr",
     "output_type": "stream",
     "text": [
      "Downloading: \"https://github.com/rwightman/pytorch-image-models/releases/download/v0.1-effv2-weights/tf_efficientnetv2_l_21ft1k-60127a9d.pth\" to /root/.cache/torch/hub/checkpoints/tf_efficientnetv2_l_21ft1k-60127a9d.pth\n"
     ]
    },
    {
     "name": "stdout",
     "output_type": "stream",
     "text": [
      "Epoch: [1][0/81] Data 0.622 (0.622) Elapsed 0m 1s (remain 1m 49s) Loss: 2.5537(2.5537) Grad Norm: 0.0000  LR: 1.0000e-03  \n",
      "Epoch: [1][80/81] Data 0.000 (0.008) Elapsed 1m 13s (remain 0m 0s) Loss: 2.1367(2.5622) Grad Norm: 6.9978  LR: 1.0000e-03  \n",
      "EVAL: [0/17] Data 0.369 (0.369) Elapsed 0m 0s (remain 0m 9s) \n"
     ]
    },
    {
     "name": "stderr",
     "output_type": "stream",
     "text": [
      "labels: [11  6  2  2  4]\n",
      "pred_labels: [ 2 11  5  2  2]\n",
      "Epoch 1 - avg_train_loss: 2.5622  lr: 1.0000e-03  time: 78s\n",
      "Epoch 1 - Score: 0.2977\n",
      "Epoch 1 - Save Best Score: 0.2977 Model\n"
     ]
    },
    {
     "name": "stdout",
     "output_type": "stream",
     "text": [
      "EVAL: [16/17] Data 0.000 (0.022) Elapsed 0m 4s (remain 0m 0s) \n",
      "Epoch: [2][0/81] Data 0.521 (0.521) Elapsed 0m 1s (remain 1m 31s) Loss: 2.4209(2.4209) Grad Norm: 0.0000  LR: 9.9598e-04  \n",
      "Epoch: [2][80/81] Data 0.000 (0.007) Elapsed 1m 13s (remain 0m 0s) Loss: 2.0518(2.2498) Grad Norm: 8.5928  LR: 9.9598e-04  \n",
      "EVAL: [0/17] Data 0.323 (0.323) Elapsed 0m 0s (remain 0m 9s) \n"
     ]
    },
    {
     "name": "stderr",
     "output_type": "stream",
     "text": [
      "labels: [11  6  2  2  4]\n",
      "pred_labels: [11  6  2  2  2]\n",
      "Epoch 2 - avg_train_loss: 2.2498  lr: 9.9598e-04  time: 78s\n",
      "Epoch 2 - Score: 0.3664\n",
      "Epoch 2 - Save Best Score: 0.3664 Model\n"
     ]
    },
    {
     "name": "stdout",
     "output_type": "stream",
     "text": [
      "EVAL: [16/17] Data 0.000 (0.019) Elapsed 0m 4s (remain 0m 0s) \n",
      "Epoch: [3][0/81] Data 0.537 (0.537) Elapsed 0m 1s (remain 1m 35s) Loss: 2.3998(2.3998) Grad Norm: 0.0000  LR: 9.8599e-04  \n",
      "Epoch: [3][80/81] Data 0.000 (0.007) Elapsed 1m 13s (remain 0m 0s) Loss: 1.9090(1.9224) Grad Norm: 7.3422  LR: 9.8599e-04  \n",
      "EVAL: [0/17] Data 0.285 (0.285) Elapsed 0m 0s (remain 0m 8s) \n"
     ]
    },
    {
     "name": "stderr",
     "output_type": "stream",
     "text": [
      "labels: [11  6  2  2  4]\n",
      "pred_labels: [11  2  2  2  2]\n",
      "Epoch 3 - avg_train_loss: 1.9224  lr: 9.8599e-04  time: 78s\n",
      "Epoch 3 - Score: 0.4733\n",
      "Epoch 3 - Save Best Score: 0.4733 Model\n"
     ]
    },
    {
     "name": "stdout",
     "output_type": "stream",
     "text": [
      "EVAL: [16/17] Data 0.000 (0.017) Elapsed 0m 4s (remain 0m 0s) \n",
      "Epoch: [4][0/81] Data 0.531 (0.531) Elapsed 0m 1s (remain 1m 32s) Loss: 1.1440(1.1440) Grad Norm: 0.0000  LR: 9.7213e-04  \n",
      "Epoch: [4][80/81] Data 0.000 (0.007) Elapsed 1m 13s (remain 0m 0s) Loss: 1.7542(1.7732) Grad Norm: 7.0655  LR: 9.7213e-04  \n",
      "EVAL: [0/17] Data 0.311 (0.311) Elapsed 0m 0s (remain 0m 8s) \n"
     ]
    },
    {
     "name": "stderr",
     "output_type": "stream",
     "text": [
      "labels: [11  6  2  2  4]\n",
      "pred_labels: [11  6  2  2  3]\n",
      "Epoch 4 - avg_train_loss: 1.7732  lr: 9.7213e-04  time: 78s\n",
      "Epoch 4 - Score: 0.5496\n",
      "Epoch 4 - Save Best Score: 0.5496 Model\n"
     ]
    },
    {
     "name": "stdout",
     "output_type": "stream",
     "text": [
      "EVAL: [16/17] Data 0.000 (0.019) Elapsed 0m 4s (remain 0m 0s) \n",
      "Epoch: [5][0/81] Data 0.505 (0.505) Elapsed 0m 1s (remain 1m 30s) Loss: 1.5517(1.5517) Grad Norm: 0.0000  LR: 9.5449e-04  \n",
      "Epoch: [5][80/81] Data 0.000 (0.006) Elapsed 1m 13s (remain 0m 0s) Loss: 1.7058(1.5181) Grad Norm: 5.3627  LR: 9.5449e-04  \n",
      "EVAL: [0/17] Data 0.351 (0.351) Elapsed 0m 0s (remain 0m 9s) \n"
     ]
    },
    {
     "name": "stderr",
     "output_type": "stream",
     "text": [
      "labels: [11  6  2  2  4]\n",
      "pred_labels: [11  6  2  3  3]\n",
      "Epoch 5 - avg_train_loss: 1.5181  lr: 9.5449e-04  time: 78s\n",
      "Epoch 5 - Score: 0.5954\n",
      "Epoch 5 - Save Best Score: 0.5954 Model\n"
     ]
    },
    {
     "name": "stdout",
     "output_type": "stream",
     "text": [
      "EVAL: [16/17] Data 0.000 (0.021) Elapsed 0m 4s (remain 0m 0s) \n",
      "Epoch: [6][0/81] Data 0.515 (0.515) Elapsed 0m 1s (remain 1m 35s) Loss: 1.0227(1.0227) Grad Norm: 0.0000  LR: 9.3324e-04  \n",
      "Epoch: [6][80/81] Data 0.000 (0.007) Elapsed 1m 13s (remain 0m 0s) Loss: 1.9591(1.4835) Grad Norm: 6.2941  LR: 9.3324e-04  \n",
      "EVAL: [0/17] Data 0.337 (0.337) Elapsed 0m 0s (remain 0m 9s) \n"
     ]
    },
    {
     "name": "stderr",
     "output_type": "stream",
     "text": [
      "labels: [11  6  2  2  4]\n",
      "pred_labels: [11  6  2  2  3]\n",
      "Epoch 6 - avg_train_loss: 1.4835  lr: 9.3324e-04  time: 78s\n",
      "Epoch 6 - Score: 0.5802\n"
     ]
    },
    {
     "name": "stdout",
     "output_type": "stream",
     "text": [
      "EVAL: [16/17] Data 0.000 (0.020) Elapsed 0m 4s (remain 0m 0s) \n",
      "Epoch: [7][0/81] Data 0.443 (0.443) Elapsed 0m 1s (remain 1m 29s) Loss: 0.8368(0.8368) Grad Norm: 0.0000  LR: 9.0853e-04  \n",
      "Epoch: [7][80/81] Data 0.000 (0.006) Elapsed 1m 13s (remain 0m 0s) Loss: 2.3095(1.3070) Grad Norm: 6.9884  LR: 9.0853e-04  \n",
      "EVAL: [0/17] Data 0.376 (0.376) Elapsed 0m 0s (remain 0m 9s) \n"
     ]
    },
    {
     "name": "stderr",
     "output_type": "stream",
     "text": [
      "labels: [11  6  2  2  4]\n",
      "pred_labels: [11  4  5  4  3]\n",
      "Epoch 7 - avg_train_loss: 1.3070  lr: 9.0853e-04  time: 78s\n",
      "Epoch 7 - Score: 0.5496\n"
     ]
    },
    {
     "name": "stdout",
     "output_type": "stream",
     "text": [
      "EVAL: [16/17] Data 0.000 (0.022) Elapsed 0m 4s (remain 0m 0s) \n",
      "Epoch: [8][0/81] Data 0.558 (0.558) Elapsed 0m 1s (remain 1m 33s) Loss: 0.2487(0.2487) Grad Norm: 0.0000  LR: 8.8057e-04  \n",
      "Epoch: [8][80/81] Data 0.000 (0.007) Elapsed 1m 13s (remain 0m 0s) Loss: 1.0441(1.1841) Grad Norm: 6.0057  LR: 8.8057e-04  \n",
      "EVAL: [0/17] Data 0.340 (0.340) Elapsed 0m 0s (remain 0m 9s) \n"
     ]
    },
    {
     "name": "stderr",
     "output_type": "stream",
     "text": [
      "labels: [11  6  2  2  4]\n",
      "pred_labels: [11  6  5  5  2]\n",
      "Epoch 8 - avg_train_loss: 1.1841  lr: 8.8057e-04  time: 78s\n",
      "Epoch 8 - Score: 0.6107\n",
      "Epoch 8 - Save Best Score: 0.6107 Model\n"
     ]
    },
    {
     "name": "stdout",
     "output_type": "stream",
     "text": [
      "EVAL: [16/17] Data 0.000 (0.020) Elapsed 0m 4s (remain 0m 0s) \n",
      "Epoch: [9][0/81] Data 0.530 (0.530) Elapsed 0m 1s (remain 1m 34s) Loss: 1.5658(1.5658) Grad Norm: 0.0000  LR: 8.4958e-04  \n",
      "Epoch: [9][80/81] Data 0.000 (0.007) Elapsed 1m 13s (remain 0m 0s) Loss: 1.4846(1.0822) Grad Norm: 5.3063  LR: 8.4958e-04  \n",
      "EVAL: [0/17] Data 0.379 (0.379) Elapsed 0m 0s (remain 0m 9s) \n"
     ]
    },
    {
     "name": "stderr",
     "output_type": "stream",
     "text": [
      "labels: [11  6  2  2  4]\n",
      "pred_labels: [11  6  5  4  4]\n",
      "Epoch 9 - avg_train_loss: 1.0822  lr: 8.4958e-04  time: 78s\n",
      "Epoch 9 - Score: 0.5725\n"
     ]
    },
    {
     "name": "stdout",
     "output_type": "stream",
     "text": [
      "EVAL: [16/17] Data 0.000 (0.023) Elapsed 0m 4s (remain 0m 0s) \n",
      "Epoch: [10][0/81] Data 0.489 (0.489) Elapsed 0m 1s (remain 1m 33s) Loss: 0.1948(0.1948) Grad Norm: 0.0000  LR: 8.1581e-04  \n",
      "Epoch: [10][80/81] Data 0.000 (0.006) Elapsed 1m 13s (remain 0m 0s) Loss: 0.4082(0.9413) Grad Norm: 6.4472  LR: 8.1581e-04  \n",
      "EVAL: [0/17] Data 0.320 (0.320) Elapsed 0m 0s (remain 0m 9s) \n"
     ]
    },
    {
     "name": "stderr",
     "output_type": "stream",
     "text": [
      "labels: [11  6  2  2  4]\n",
      "pred_labels: [11  6  5  5  3]\n",
      "Epoch 10 - avg_train_loss: 0.9413  lr: 8.1581e-04  time: 78s\n",
      "Epoch 10 - Score: 0.5802\n"
     ]
    },
    {
     "name": "stdout",
     "output_type": "stream",
     "text": [
      "EVAL: [16/17] Data 0.000 (0.019) Elapsed 0m 4s (remain 0m 0s) \n",
      "Epoch: [11][0/81] Data 0.599 (0.599) Elapsed 0m 1s (remain 1m 36s) Loss: 1.2725(1.2725) Grad Norm: 0.0000  LR: 7.7953e-04  \n",
      "Epoch: [11][80/81] Data 0.000 (0.008) Elapsed 1m 13s (remain 0m 0s) Loss: 1.4837(1.0121) Grad Norm: 5.9272  LR: 7.7953e-04  \n",
      "EVAL: [0/17] Data 0.344 (0.344) Elapsed 0m 0s (remain 0m 9s) \n"
     ]
    },
    {
     "name": "stderr",
     "output_type": "stream",
     "text": [
      "labels: [11  6  2  2  4]\n",
      "pred_labels: [11  6  2  4  0]\n",
      "Epoch 11 - avg_train_loss: 1.0121  lr: 7.7953e-04  time: 78s\n",
      "Epoch 11 - Score: 0.5649\n"
     ]
    },
    {
     "name": "stdout",
     "output_type": "stream",
     "text": [
      "EVAL: [16/17] Data 0.000 (0.021) Elapsed 0m 4s (remain 0m 0s) \n",
      "Epoch: [12][0/81] Data 0.394 (0.394) Elapsed 0m 1s (remain 1m 26s) Loss: 0.0571(0.0571) Grad Norm: 0.0000  LR: 7.4103e-04  \n",
      "Epoch: [12][80/81] Data 0.000 (0.005) Elapsed 1m 12s (remain 0m 0s) Loss: 1.1581(0.9212) Grad Norm: 5.7908  LR: 7.4103e-04  \n",
      "EVAL: [0/17] Data 0.304 (0.304) Elapsed 0m 0s (remain 0m 9s) \n"
     ]
    },
    {
     "name": "stderr",
     "output_type": "stream",
     "text": [
      "labels: [11  6  2  2  4]\n",
      "pred_labels: [11  6  5  4  4]\n",
      "Epoch 12 - avg_train_loss: 0.9212  lr: 7.4103e-04  time: 77s\n",
      "Epoch 12 - Score: 0.5954\n"
     ]
    },
    {
     "name": "stdout",
     "output_type": "stream",
     "text": [
      "EVAL: [16/17] Data 0.000 (0.018) Elapsed 0m 4s (remain 0m 0s) \n",
      "Epoch: [13][0/81] Data 0.482 (0.482) Elapsed 0m 1s (remain 1m 30s) Loss: 0.2753(0.2753) Grad Norm: 0.0000  LR: 7.0063e-04  \n",
      "Epoch: [13][80/81] Data 0.000 (0.006) Elapsed 1m 12s (remain 0m 0s) Loss: 1.7240(0.9241) Grad Norm: 4.7406  LR: 7.0063e-04  \n",
      "EVAL: [0/17] Data 0.287 (0.287) Elapsed 0m 0s (remain 0m 8s) \n"
     ]
    },
    {
     "name": "stderr",
     "output_type": "stream",
     "text": [
      "labels: [11  6  2  2  4]\n",
      "pred_labels: [11  6  2  3  3]\n",
      "Epoch 13 - avg_train_loss: 0.9241  lr: 7.0063e-04  time: 77s\n",
      "Epoch 13 - Score: 0.6031\n"
     ]
    },
    {
     "name": "stdout",
     "output_type": "stream",
     "text": [
      "EVAL: [16/17] Data 0.000 (0.017) Elapsed 0m 4s (remain 0m 0s) \n",
      "Epoch: [14][0/81] Data 0.470 (0.470) Elapsed 0m 1s (remain 1m 28s) Loss: 0.3075(0.3075) Grad Norm: 0.0000  LR: 6.5865e-04  \n",
      "Epoch: [14][80/81] Data 0.000 (0.006) Elapsed 1m 12s (remain 0m 0s) Loss: 1.4729(0.9144) Grad Norm: 4.7196  LR: 6.5865e-04  \n",
      "EVAL: [0/17] Data 0.333 (0.333) Elapsed 0m 0s (remain 0m 9s) \n"
     ]
    },
    {
     "name": "stderr",
     "output_type": "stream",
     "text": [
      "labels: [11  6  2  2  4]\n",
      "pred_labels: [11  6  2  6  2]\n",
      "Epoch 14 - avg_train_loss: 0.9144  lr: 6.5865e-04  time: 77s\n",
      "Epoch 14 - Score: 0.6107\n"
     ]
    },
    {
     "name": "stdout",
     "output_type": "stream",
     "text": [
      "EVAL: [16/17] Data 0.000 (0.020) Elapsed 0m 4s (remain 0m 0s) \n",
      "Epoch: [15][0/81] Data 0.491 (0.491) Elapsed 0m 1s (remain 1m 32s) Loss: 2.0072(2.0072) Grad Norm: 0.0000  LR: 6.1542e-04  \n",
      "Epoch: [15][80/81] Data 0.000 (0.006) Elapsed 1m 12s (remain 0m 0s) Loss: 0.2342(0.8407) Grad Norm: 5.7821  LR: 6.1542e-04  \n",
      "EVAL: [0/17] Data 0.389 (0.389) Elapsed 0m 0s (remain 0m 9s) \n"
     ]
    },
    {
     "name": "stderr",
     "output_type": "stream",
     "text": [
      "labels: [11  6  2  2  4]\n",
      "pred_labels: [11  6  5  4  4]\n",
      "Epoch 15 - avg_train_loss: 0.8407  lr: 6.1542e-04  time: 77s\n",
      "Epoch 15 - Score: 0.6031\n"
     ]
    },
    {
     "name": "stdout",
     "output_type": "stream",
     "text": [
      "EVAL: [16/17] Data 0.000 (0.023) Elapsed 0m 4s (remain 0m 0s) \n",
      "Epoch: [16][0/81] Data 0.512 (0.512) Elapsed 0m 1s (remain 1m 30s) Loss: 1.6850(1.6850) Grad Norm: 0.0000  LR: 5.7130e-04  \n",
      "Epoch: [16][80/81] Data 0.000 (0.007) Elapsed 1m 12s (remain 0m 0s) Loss: 0.9773(0.8791) Grad Norm: 3.8117  LR: 5.7130e-04  \n",
      "EVAL: [0/17] Data 0.382 (0.382) Elapsed 0m 0s (remain 0m 9s) \n"
     ]
    },
    {
     "name": "stderr",
     "output_type": "stream",
     "text": [
      "labels: [11  6  2  2  4]\n",
      "pred_labels: [11  6  5  3  1]\n",
      "Epoch 16 - avg_train_loss: 0.8791  lr: 5.7130e-04  time: 77s\n",
      "Epoch 16 - Score: 0.6107\n"
     ]
    },
    {
     "name": "stdout",
     "output_type": "stream",
     "text": [
      "EVAL: [16/17] Data 0.000 (0.023) Elapsed 0m 4s (remain 0m 0s) \n",
      "Epoch: [17][0/81] Data 0.507 (0.507) Elapsed 0m 1s (remain 1m 31s) Loss: 0.2332(0.2332) Grad Norm: 0.0000  LR: 5.2663e-04  \n",
      "Epoch: [17][80/81] Data 0.000 (0.006) Elapsed 1m 12s (remain 0m 0s) Loss: 0.5575(0.9728) Grad Norm: 3.2023  LR: 5.2663e-04  \n",
      "EVAL: [0/17] Data 0.374 (0.374) Elapsed 0m 0s (remain 0m 9s) \n"
     ]
    },
    {
     "name": "stderr",
     "output_type": "stream",
     "text": [
      "labels: [11  6  2  2  4]\n",
      "pred_labels: [11  6  2  4  2]\n",
      "Epoch 17 - avg_train_loss: 0.9728  lr: 5.2663e-04  time: 77s\n",
      "Epoch 17 - Score: 0.6183\n",
      "Epoch 17 - Save Best Score: 0.6183 Model\n"
     ]
    },
    {
     "name": "stdout",
     "output_type": "stream",
     "text": [
      "EVAL: [16/17] Data 0.000 (0.022) Elapsed 0m 4s (remain 0m 0s) \n",
      "Epoch: [18][0/81] Data 0.482 (0.482) Elapsed 0m 1s (remain 1m 33s) Loss: 1.5458(1.5458) Grad Norm: 0.0000  LR: 4.8179e-04  \n",
      "Epoch: [18][80/81] Data 0.000 (0.006) Elapsed 1m 12s (remain 0m 0s) Loss: 0.0539(0.7627) Grad Norm: 3.8642  LR: 4.8179e-04  \n",
      "EVAL: [0/17] Data 0.384 (0.384) Elapsed 0m 0s (remain 0m 9s) \n"
     ]
    },
    {
     "name": "stderr",
     "output_type": "stream",
     "text": [
      "labels: [11  6  2  2  4]\n",
      "pred_labels: [11  6  5  6  2]\n",
      "Epoch 18 - avg_train_loss: 0.7627  lr: 4.8179e-04  time: 77s\n",
      "Epoch 18 - Score: 0.6183\n"
     ]
    },
    {
     "name": "stdout",
     "output_type": "stream",
     "text": [
      "EVAL: [16/17] Data 0.000 (0.023) Elapsed 0m 4s (remain 0m 0s) \n",
      "Epoch: [19][0/81] Data 0.511 (0.511) Elapsed 0m 1s (remain 1m 31s) Loss: 1.2009(1.2009) Grad Norm: 0.0000  LR: 4.3712e-04  \n",
      "Epoch: [19][80/81] Data 0.000 (0.007) Elapsed 1m 12s (remain 0m 0s) Loss: 1.1073(0.6170) Grad Norm: 5.0688  LR: 4.3712e-04  \n",
      "EVAL: [0/17] Data 0.363 (0.363) Elapsed 0m 0s (remain 0m 9s) \n"
     ]
    },
    {
     "name": "stderr",
     "output_type": "stream",
     "text": [
      "labels: [11  6  2  2  4]\n",
      "pred_labels: [11  6  5  0  2]\n",
      "Epoch 19 - avg_train_loss: 0.6170  lr: 4.3712e-04  time: 77s\n",
      "Epoch 19 - Score: 0.6336\n",
      "Epoch 19 - Save Best Score: 0.6336 Model\n"
     ]
    },
    {
     "name": "stdout",
     "output_type": "stream",
     "text": [
      "EVAL: [16/17] Data 0.000 (0.022) Elapsed 0m 4s (remain 0m 0s) \n",
      "Epoch: [20][0/81] Data 0.567 (0.567) Elapsed 0m 1s (remain 1m 35s) Loss: 1.1206(1.1206) Grad Norm: 0.0000  LR: 3.9299e-04  \n",
      "Epoch: [20][80/81] Data 0.000 (0.007) Elapsed 1m 12s (remain 0m 0s) Loss: 0.5541(0.7002) Grad Norm: 5.1247  LR: 3.9299e-04  \n",
      "EVAL: [0/17] Data 0.369 (0.369) Elapsed 0m 0s (remain 0m 9s) \n"
     ]
    },
    {
     "name": "stderr",
     "output_type": "stream",
     "text": [
      "labels: [11  6  2  2  4]\n",
      "pred_labels: [11  6  5  6  2]\n",
      "Epoch 20 - avg_train_loss: 0.7002  lr: 3.9299e-04  time: 77s\n",
      "Epoch 20 - Score: 0.6031\n"
     ]
    },
    {
     "name": "stdout",
     "output_type": "stream",
     "text": [
      "EVAL: [16/17] Data 0.000 (0.022) Elapsed 0m 4s (remain 0m 0s) \n",
      "Epoch: [21][0/81] Data 0.422 (0.422) Elapsed 0m 1s (remain 1m 30s) Loss: 0.9538(0.9538) Grad Norm: 0.0000  LR: 3.4975e-04  \n",
      "Epoch: [21][80/81] Data 0.000 (0.005) Elapsed 1m 12s (remain 0m 0s) Loss: 0.0435(0.7331) Grad Norm: 4.2064  LR: 3.4975e-04  \n",
      "EVAL: [0/17] Data 0.346 (0.346) Elapsed 0m 0s (remain 0m 9s) \n"
     ]
    },
    {
     "name": "stderr",
     "output_type": "stream",
     "text": [
      "labels: [11  6  2  2  4]\n",
      "pred_labels: [11  6  5  4  4]\n",
      "Epoch 21 - avg_train_loss: 0.7331  lr: 3.4975e-04  time: 77s\n",
      "Epoch 21 - Score: 0.5878\n"
     ]
    },
    {
     "name": "stdout",
     "output_type": "stream",
     "text": [
      "EVAL: [16/17] Data 0.000 (0.021) Elapsed 0m 4s (remain 0m 0s) \n",
      "Epoch: [22][0/81] Data 0.507 (0.507) Elapsed 0m 1s (remain 1m 29s) Loss: 0.0515(0.0515) Grad Norm: 0.0000  LR: 3.0775e-04  \n",
      "Epoch: [22][80/81] Data 0.000 (0.006) Elapsed 1m 12s (remain 0m 0s) Loss: 0.0538(0.7645) Grad Norm: 4.2394  LR: 3.0775e-04  \n",
      "EVAL: [0/17] Data 0.383 (0.383) Elapsed 0m 0s (remain 0m 10s) \n"
     ]
    },
    {
     "name": "stderr",
     "output_type": "stream",
     "text": [
      "labels: [11  6  2  2  4]\n",
      "pred_labels: [11  6  5  4  2]\n",
      "Epoch 22 - avg_train_loss: 0.7645  lr: 3.0775e-04  time: 77s\n",
      "Epoch 22 - Score: 0.6260\n"
     ]
    },
    {
     "name": "stdout",
     "output_type": "stream",
     "text": [
      "EVAL: [16/17] Data 0.000 (0.023) Elapsed 0m 4s (remain 0m 0s) \n",
      "Epoch: [23][0/81] Data 0.420 (0.420) Elapsed 0m 1s (remain 1m 23s) Loss: 1.0369(1.0369) Grad Norm: 0.0000  LR: 2.6732e-04  \n",
      "Epoch: [23][80/81] Data 0.000 (0.005) Elapsed 1m 12s (remain 0m 0s) Loss: 0.0458(0.6747) Grad Norm: 2.6184  LR: 2.6732e-04  \n",
      "EVAL: [0/17] Data 0.385 (0.385) Elapsed 0m 0s (remain 0m 9s) \n"
     ]
    },
    {
     "name": "stderr",
     "output_type": "stream",
     "text": [
      "labels: [11  6  2  2  4]\n",
      "pred_labels: [11  6  5  6  4]\n",
      "Epoch 23 - avg_train_loss: 0.6747  lr: 2.6732e-04  time: 77s\n",
      "Epoch 23 - Score: 0.5954\n"
     ]
    },
    {
     "name": "stdout",
     "output_type": "stream",
     "text": [
      "EVAL: [16/17] Data 0.000 (0.023) Elapsed 0m 4s (remain 0m 0s) \n",
      "Epoch: [24][0/81] Data 0.550 (0.550) Elapsed 0m 1s (remain 1m 33s) Loss: 1.7650(1.7650) Grad Norm: 0.0000  LR: 2.2880e-04  \n",
      "Epoch: [24][80/81] Data 0.000 (0.007) Elapsed 1m 12s (remain 0m 0s) Loss: 0.9584(0.7775) Grad Norm: 0.6771  LR: 2.2880e-04  \n",
      "EVAL: [0/17] Data 0.383 (0.383) Elapsed 0m 0s (remain 0m 9s) \n"
     ]
    },
    {
     "name": "stderr",
     "output_type": "stream",
     "text": [
      "labels: [11  6  2  2  4]\n",
      "pred_labels: [11  6  5  6  2]\n",
      "Epoch 24 - avg_train_loss: 0.7775  lr: 2.2880e-04  time: 77s\n",
      "Epoch 24 - Score: 0.5954\n"
     ]
    },
    {
     "name": "stdout",
     "output_type": "stream",
     "text": [
      "EVAL: [16/17] Data 0.000 (0.023) Elapsed 0m 4s (remain 0m 0s) \n",
      "Epoch: [25][0/81] Data 0.425 (0.425) Elapsed 0m 1s (remain 1m 25s) Loss: 1.1198(1.1198) Grad Norm: 0.0000  LR: 1.9248e-04  \n",
      "Epoch: [25][80/81] Data 0.000 (0.005) Elapsed 1m 12s (remain 0m 0s) Loss: 0.0198(0.5503) Grad Norm: 2.0218  LR: 1.9248e-04  \n",
      "EVAL: [0/17] Data 0.303 (0.303) Elapsed 0m 0s (remain 0m 9s) \n"
     ]
    },
    {
     "name": "stderr",
     "output_type": "stream",
     "text": [
      "labels: [11  6  2  2  4]\n",
      "pred_labels: [11  6  5  6  2]\n",
      "Epoch 25 - avg_train_loss: 0.5503  lr: 1.9248e-04  time: 77s\n",
      "Epoch 25 - Score: 0.6031\n"
     ]
    },
    {
     "name": "stdout",
     "output_type": "stream",
     "text": [
      "EVAL: [16/17] Data 0.000 (0.018) Elapsed 0m 4s (remain 0m 0s) \n",
      "Epoch: [26][0/81] Data 0.533 (0.533) Elapsed 0m 1s (remain 1m 34s) Loss: 0.0331(0.0331) Grad Norm: 0.0000  LR: 1.5867e-04  \n",
      "Epoch: [26][80/81] Data 0.000 (0.007) Elapsed 1m 12s (remain 0m 0s) Loss: 0.0231(0.6044) Grad Norm: 2.7920  LR: 1.5867e-04  \n",
      "EVAL: [0/17] Data 0.401 (0.401) Elapsed 0m 0s (remain 0m 10s) \n"
     ]
    },
    {
     "name": "stderr",
     "output_type": "stream",
     "text": [
      "labels: [11  6  2  2  4]\n",
      "pred_labels: [11  6  5  4  2]\n",
      "Epoch 26 - avg_train_loss: 0.6044  lr: 1.5867e-04  time: 77s\n",
      "Epoch 26 - Score: 0.6336\n"
     ]
    },
    {
     "name": "stdout",
     "output_type": "stream",
     "text": [
      "EVAL: [16/17] Data 0.000 (0.024) Elapsed 0m 4s (remain 0m 0s) \n",
      "Epoch: [27][0/81] Data 0.513 (0.513) Elapsed 0m 1s (remain 1m 30s) Loss: 1.5271(1.5271) Grad Norm: 0.0000  LR: 1.2762e-04  \n",
      "Epoch: [27][80/81] Data 0.000 (0.007) Elapsed 1m 12s (remain 0m 0s) Loss: 1.0609(0.5836) Grad Norm: 0.3490  LR: 1.2762e-04  \n",
      "EVAL: [0/17] Data 0.352 (0.352) Elapsed 0m 0s (remain 0m 9s) \n"
     ]
    },
    {
     "name": "stderr",
     "output_type": "stream",
     "text": [
      "labels: [11  6  2  2  4]\n",
      "pred_labels: [11  6  2  4  2]\n",
      "Epoch 27 - avg_train_loss: 0.5836  lr: 1.2762e-04  time: 77s\n",
      "Epoch 27 - Score: 0.6336\n"
     ]
    },
    {
     "name": "stdout",
     "output_type": "stream",
     "text": [
      "EVAL: [16/17] Data 0.000 (0.021) Elapsed 0m 4s (remain 0m 0s) \n",
      "Epoch: [28][0/81] Data 0.537 (0.537) Elapsed 0m 1s (remain 1m 33s) Loss: 1.3201(1.3201) Grad Norm: 0.0000  LR: 9.9584e-05  \n",
      "Epoch: [28][80/81] Data 0.000 (0.007) Elapsed 1m 12s (remain 0m 0s) Loss: 0.0312(0.6707) Grad Norm: 2.1054  LR: 9.9584e-05  \n",
      "EVAL: [0/17] Data 0.297 (0.297) Elapsed 0m 0s (remain 0m 8s) \n"
     ]
    },
    {
     "name": "stderr",
     "output_type": "stream",
     "text": [
      "labels: [11  6  2  2  4]\n",
      "pred_labels: [11  6  5  4  1]\n",
      "Epoch 28 - avg_train_loss: 0.6707  lr: 9.9584e-05  time: 77s\n",
      "Epoch 28 - Score: 0.6183\n"
     ]
    },
    {
     "name": "stdout",
     "output_type": "stream",
     "text": [
      "EVAL: [16/17] Data 0.000 (0.018) Elapsed 0m 4s (remain 0m 0s) \n",
      "Epoch: [29][0/81] Data 0.489 (0.489) Elapsed 0m 1s (remain 1m 30s) Loss: 0.0187(0.0187) Grad Norm: 0.0000  LR: 7.4783e-05  \n",
      "Epoch: [29][80/81] Data 0.000 (0.006) Elapsed 1m 12s (remain 0m 0s) Loss: 1.8896(0.5846) Grad Norm: 3.6957  LR: 7.4783e-05  \n",
      "EVAL: [0/17] Data 0.330 (0.330) Elapsed 0m 0s (remain 0m 9s) \n"
     ]
    },
    {
     "name": "stderr",
     "output_type": "stream",
     "text": [
      "labels: [11  6  2  2  4]\n",
      "pred_labels: [11  6  5  4  2]\n",
      "Epoch 29 - avg_train_loss: 0.5846  lr: 7.4783e-05  time: 77s\n",
      "Epoch 29 - Score: 0.6183\n"
     ]
    },
    {
     "name": "stdout",
     "output_type": "stream",
     "text": [
      "EVAL: [16/17] Data 0.000 (0.020) Elapsed 0m 4s (remain 0m 0s) \n",
      "Epoch: [30][0/81] Data 0.538 (0.538) Elapsed 0m 1s (remain 1m 33s) Loss: 0.0516(0.0516) Grad Norm: 0.0000  LR: 5.3404e-05  \n",
      "Epoch: [30][80/81] Data 0.000 (0.007) Elapsed 1m 12s (remain 0m 0s) Loss: 0.9693(0.7338) Grad Norm: 3.3251  LR: 5.3404e-05  \n",
      "EVAL: [0/17] Data 0.378 (0.378) Elapsed 0m 0s (remain 0m 9s) \n"
     ]
    },
    {
     "name": "stderr",
     "output_type": "stream",
     "text": [
      "labels: [11  6  2  2  4]\n",
      "pred_labels: [11  6  5  4  2]\n",
      "Epoch 30 - avg_train_loss: 0.7338  lr: 5.3404e-05  time: 77s\n",
      "Epoch 30 - Score: 0.6260\n"
     ]
    },
    {
     "name": "stdout",
     "output_type": "stream",
     "text": [
      "EVAL: [16/17] Data 0.000 (0.022) Elapsed 0m 4s (remain 0m 0s) \n",
      "Epoch: [31][0/81] Data 0.592 (0.592) Elapsed 0m 1s (remain 1m 36s) Loss: 0.0635(0.0635) Grad Norm: 0.0000  LR: 3.5607e-05  \n",
      "Epoch: [31][80/81] Data 0.000 (0.008) Elapsed 1m 12s (remain 0m 0s) Loss: 0.0646(0.0494) Grad Norm: 0.4874  LR: 3.5607e-05  \n",
      "EVAL: [0/17] Data 0.324 (0.324) Elapsed 0m 0s (remain 0m 8s) \n"
     ]
    },
    {
     "name": "stderr",
     "output_type": "stream",
     "text": [
      "labels: [11  6  2  2  4]\n",
      "pred_labels: [11  6  5  4  3]\n",
      "Epoch 31 - avg_train_loss: 0.0494  lr: 3.5607e-05  time: 77s\n",
      "Epoch 31 - Score: 0.6107\n"
     ]
    },
    {
     "name": "stdout",
     "output_type": "stream",
     "text": [
      "EVAL: [16/17] Data 0.000 (0.019) Elapsed 0m 4s (remain 0m 0s) \n",
      "Epoch: [32][0/81] Data 0.491 (0.491) Elapsed 0m 1s (remain 1m 30s) Loss: 0.0321(0.0321) Grad Norm: 0.0000  LR: 2.1508e-05  \n",
      "Epoch: [32][80/81] Data 0.000 (0.006) Elapsed 1m 12s (remain 0m 0s) Loss: 0.0125(0.0379) Grad Norm: 0.7621  LR: 2.1508e-05  \n",
      "EVAL: [0/17] Data 0.345 (0.345) Elapsed 0m 0s (remain 0m 9s) \n"
     ]
    },
    {
     "name": "stderr",
     "output_type": "stream",
     "text": [
      "labels: [11  6  2  2  4]\n",
      "pred_labels: [11  6  5  6  3]\n",
      "Epoch 32 - avg_train_loss: 0.0379  lr: 2.1508e-05  time: 77s\n",
      "Epoch 32 - Score: 0.6031\n"
     ]
    },
    {
     "name": "stdout",
     "output_type": "stream",
     "text": [
      "EVAL: [16/17] Data 0.000 (0.021) Elapsed 0m 4s (remain 0m 0s) \n",
      "Epoch: [33][0/81] Data 0.435 (0.435) Elapsed 0m 1s (remain 1m 25s) Loss: 0.0118(0.0118) Grad Norm: 0.0000  LR: 1.1173e-05  \n",
      "Epoch: [33][80/81] Data 0.000 (0.006) Elapsed 1m 12s (remain 0m 0s) Loss: 0.0114(0.0332) Grad Norm: 1.1871  LR: 1.1173e-05  \n",
      "EVAL: [0/17] Data 0.341 (0.341) Elapsed 0m 0s (remain 0m 9s) \n"
     ]
    },
    {
     "name": "stderr",
     "output_type": "stream",
     "text": [
      "labels: [11  6  2  2  4]\n",
      "pred_labels: [11  6  5  4  2]\n",
      "Epoch 33 - avg_train_loss: 0.0332  lr: 1.1173e-05  time: 77s\n",
      "Epoch 33 - Score: 0.6107\n"
     ]
    },
    {
     "name": "stdout",
     "output_type": "stream",
     "text": [
      "EVAL: [16/17] Data 0.000 (0.020) Elapsed 0m 4s (remain 0m 0s) \n",
      "Epoch: [34][0/81] Data 0.510 (0.510) Elapsed 0m 1s (remain 1m 30s) Loss: 0.0073(0.0073) Grad Norm: 0.0000  LR: 4.5796e-06  \n",
      "Epoch: [34][80/81] Data 0.000 (0.007) Elapsed 1m 12s (remain 0m 0s) Loss: 0.0715(0.0312) Grad Norm: 2.9332  LR: 4.5796e-06  \n",
      "EVAL: [0/17] Data 0.344 (0.344) Elapsed 0m 0s (remain 0m 9s) \n"
     ]
    },
    {
     "name": "stderr",
     "output_type": "stream",
     "text": [
      "labels: [11  6  2  2  4]\n",
      "pred_labels: [11  6  2  3  2]\n",
      "Epoch 34 - avg_train_loss: 0.0312  lr: 4.5796e-06  time: 77s\n",
      "Epoch 34 - Score: 0.6183\n"
     ]
    },
    {
     "name": "stdout",
     "output_type": "stream",
     "text": [
      "EVAL: [16/17] Data 0.000 (0.020) Elapsed 0m 4s (remain 0m 0s) \n",
      "Epoch: [35][0/81] Data 0.450 (0.450) Elapsed 0m 1s (remain 1m 31s) Loss: 0.0179(0.0179) Grad Norm: 0.0000  LR: 1.5037e-06  \n",
      "Epoch: [35][80/81] Data 0.000 (0.006) Elapsed 1m 12s (remain 0m 0s) Loss: 0.0106(0.0270) Grad Norm: 0.3534  LR: 1.5037e-06  \n",
      "EVAL: [0/17] Data 0.388 (0.388) Elapsed 0m 0s (remain 0m 9s) \n"
     ]
    },
    {
     "name": "stderr",
     "output_type": "stream",
     "text": [
      "labels: [11  6  2  2  4]\n",
      "pred_labels: [11  6  5  4  2]\n",
      "Epoch 35 - avg_train_loss: 0.0270  lr: 1.5037e-06  time: 77s\n",
      "Epoch 35 - Score: 0.6183\n",
      "==================== fold: 1, seed: 0 training ====================\n"
     ]
    },
    {
     "name": "stdout",
     "output_type": "stream",
     "text": [
      "EVAL: [16/17] Data 0.000 (0.023) Elapsed 0m 4s (remain 0m 0s) \n",
      "Epoch: [1][0/81] Data 0.455 (0.455) Elapsed 0m 1s (remain 1m 28s) Loss: 2.4996(2.4996) Grad Norm: 0.0000  LR: 1.0000e-03  \n",
      "Epoch: [1][80/81] Data 0.000 (0.006) Elapsed 1m 13s (remain 0m 0s) Loss: 1.8921(2.5022) Grad Norm: 8.9093  LR: 1.0000e-03  \n",
      "EVAL: [0/17] Data 0.325 (0.325) Elapsed 0m 0s (remain 0m 8s) \n"
     ]
    },
    {
     "name": "stderr",
     "output_type": "stream",
     "text": [
      "labels: [4 0 3 6 0]\n",
      "pred_labels: [ 2  2  2 11  8]\n",
      "Epoch 1 - avg_train_loss: 2.5022  lr: 1.0000e-03  time: 78s\n",
      "Epoch 1 - Score: 0.2748\n",
      "Epoch 1 - Save Best Score: 0.2748 Model\n"
     ]
    },
    {
     "name": "stdout",
     "output_type": "stream",
     "text": [
      "EVAL: [16/17] Data 0.000 (0.019) Elapsed 0m 4s (remain 0m 0s) \n",
      "Epoch: [2][0/81] Data 0.548 (0.548) Elapsed 0m 1s (remain 1m 36s) Loss: 2.3191(2.3191) Grad Norm: 0.0000  LR: 9.9598e-04  \n",
      "Epoch: [2][80/81] Data 0.000 (0.007) Elapsed 1m 13s (remain 0m 0s) Loss: 2.1521(2.2394) Grad Norm: 7.2661  LR: 9.9598e-04  \n",
      "EVAL: [0/17] Data 0.357 (0.357) Elapsed 0m 0s (remain 0m 9s) \n"
     ]
    },
    {
     "name": "stderr",
     "output_type": "stream",
     "text": [
      "labels: [4 0 3 6 0]\n",
      "pred_labels: [11  2  2  6  0]\n",
      "Epoch 2 - avg_train_loss: 2.2394  lr: 9.9598e-04  time: 78s\n",
      "Epoch 2 - Score: 0.4733\n",
      "Epoch 2 - Save Best Score: 0.4733 Model\n"
     ]
    },
    {
     "name": "stdout",
     "output_type": "stream",
     "text": [
      "EVAL: [16/17] Data 0.000 (0.021) Elapsed 0m 4s (remain 0m 0s) \n",
      "Epoch: [3][0/81] Data 0.467 (0.467) Elapsed 0m 1s (remain 1m 32s) Loss: 2.2743(2.2743) Grad Norm: 0.0000  LR: 9.8599e-04  \n",
      "Epoch: [3][80/81] Data 0.000 (0.006) Elapsed 1m 13s (remain 0m 0s) Loss: 2.1507(1.9971) Grad Norm: 6.9586  LR: 9.8599e-04  \n",
      "EVAL: [0/17] Data 0.393 (0.393) Elapsed 0m 0s (remain 0m 10s) \n"
     ]
    },
    {
     "name": "stderr",
     "output_type": "stream",
     "text": [
      "labels: [4 0 3 6 0]\n",
      "pred_labels: [2 5 5 6 0]\n",
      "Epoch 3 - avg_train_loss: 1.9971  lr: 9.8599e-04  time: 78s\n",
      "Epoch 3 - Score: 0.4504\n"
     ]
    },
    {
     "name": "stdout",
     "output_type": "stream",
     "text": [
      "EVAL: [16/17] Data 0.000 (0.023) Elapsed 0m 4s (remain 0m 0s) \n",
      "Epoch: [4][0/81] Data 0.574 (0.574) Elapsed 0m 1s (remain 1m 34s) Loss: 2.0053(2.0053) Grad Norm: 0.0000  LR: 9.7213e-04  \n",
      "Epoch: [4][80/81] Data 0.000 (0.007) Elapsed 1m 13s (remain 0m 0s) Loss: 1.3254(1.7094) Grad Norm: 6.4754  LR: 9.7213e-04  \n",
      "EVAL: [0/17] Data 0.327 (0.327) Elapsed 0m 0s (remain 0m 9s) \n"
     ]
    },
    {
     "name": "stderr",
     "output_type": "stream",
     "text": [
      "labels: [4 0 3 6 0]\n",
      "pred_labels: [4 6 3 0 0]\n",
      "Epoch 4 - avg_train_loss: 1.7094  lr: 9.7213e-04  time: 78s\n",
      "Epoch 4 - Score: 0.5954\n",
      "Epoch 4 - Save Best Score: 0.5954 Model\n"
     ]
    },
    {
     "name": "stdout",
     "output_type": "stream",
     "text": [
      "EVAL: [16/17] Data 0.000 (0.019) Elapsed 0m 4s (remain 0m 0s) \n",
      "Epoch: [5][0/81] Data 0.595 (0.595) Elapsed 0m 1s (remain 1m 38s) Loss: 1.6017(1.6017) Grad Norm: 0.0000  LR: 9.5449e-04  \n",
      "Epoch: [5][80/81] Data 0.000 (0.008) Elapsed 1m 13s (remain 0m 0s) Loss: 0.8891(1.4385) Grad Norm: 7.1925  LR: 9.5449e-04  \n",
      "EVAL: [0/17] Data 0.340 (0.340) Elapsed 0m 0s (remain 0m 9s) \n"
     ]
    },
    {
     "name": "stderr",
     "output_type": "stream",
     "text": [
      "labels: [4 0 3 6 0]\n",
      "pred_labels: [4 0 4 0 0]\n",
      "Epoch 5 - avg_train_loss: 1.4385  lr: 9.5449e-04  time: 78s\n",
      "Epoch 5 - Score: 0.5954\n"
     ]
    },
    {
     "name": "stdout",
     "output_type": "stream",
     "text": [
      "EVAL: [16/17] Data 0.000 (0.020) Elapsed 0m 4s (remain 0m 0s) \n",
      "Epoch: [6][0/81] Data 0.539 (0.539) Elapsed 0m 1s (remain 1m 31s) Loss: 0.6826(0.6826) Grad Norm: 0.0000  LR: 9.3324e-04  \n",
      "Epoch: [6][80/81] Data 0.000 (0.007) Elapsed 1m 13s (remain 0m 0s) Loss: 1.0983(1.3260) Grad Norm: 8.6011  LR: 9.3324e-04  \n",
      "EVAL: [0/17] Data 0.374 (0.374) Elapsed 0m 0s (remain 0m 9s) \n"
     ]
    },
    {
     "name": "stderr",
     "output_type": "stream",
     "text": [
      "labels: [4 0 3 6 0]\n",
      "pred_labels: [2 0 3 6 0]\n",
      "Epoch 6 - avg_train_loss: 1.3260  lr: 9.3324e-04  time: 78s\n",
      "Epoch 6 - Score: 0.6183\n",
      "Epoch 6 - Save Best Score: 0.6183 Model\n"
     ]
    },
    {
     "name": "stdout",
     "output_type": "stream",
     "text": [
      "EVAL: [16/17] Data 0.000 (0.022) Elapsed 0m 4s (remain 0m 0s) \n",
      "Epoch: [7][0/81] Data 0.415 (0.415) Elapsed 0m 1s (remain 1m 30s) Loss: 0.5657(0.5657) Grad Norm: 0.0000  LR: 9.0853e-04  \n",
      "Epoch: [7][80/81] Data 0.000 (0.005) Elapsed 1m 13s (remain 0m 0s) Loss: 1.3676(1.3177) Grad Norm: 8.2866  LR: 9.0853e-04  \n",
      "EVAL: [0/17] Data 0.345 (0.345) Elapsed 0m 0s (remain 0m 9s) \n"
     ]
    },
    {
     "name": "stderr",
     "output_type": "stream",
     "text": [
      "labels: [4 0 3 6 0]\n",
      "pred_labels: [11  0  3  0  2]\n",
      "Epoch 7 - avg_train_loss: 1.3177  lr: 9.0853e-04  time: 78s\n",
      "Epoch 7 - Score: 0.5954\n"
     ]
    },
    {
     "name": "stdout",
     "output_type": "stream",
     "text": [
      "EVAL: [16/17] Data 0.000 (0.020) Elapsed 0m 4s (remain 0m 0s) \n",
      "Epoch: [8][0/81] Data 0.527 (0.527) Elapsed 0m 1s (remain 1m 33s) Loss: 2.0158(2.0158) Grad Norm: 0.0000  LR: 8.8057e-04  \n",
      "Epoch: [8][80/81] Data 0.000 (0.007) Elapsed 1m 13s (remain 0m 0s) Loss: 0.3964(1.1414) Grad Norm: 6.5264  LR: 8.8057e-04  \n",
      "EVAL: [0/17] Data 0.341 (0.341) Elapsed 0m 0s (remain 0m 9s) \n"
     ]
    },
    {
     "name": "stderr",
     "output_type": "stream",
     "text": [
      "labels: [4 0 3 6 0]\n",
      "pred_labels: [4 0 3 5 0]\n",
      "Epoch 8 - avg_train_loss: 1.1414  lr: 8.8057e-04  time: 78s\n",
      "Epoch 8 - Score: 0.5344\n"
     ]
    },
    {
     "name": "stdout",
     "output_type": "stream",
     "text": [
      "EVAL: [16/17] Data 0.000 (0.020) Elapsed 0m 4s (remain 0m 0s) \n",
      "Epoch: [9][0/81] Data 0.564 (0.564) Elapsed 0m 1s (remain 1m 35s) Loss: 0.6483(0.6483) Grad Norm: 0.0000  LR: 8.4958e-04  \n",
      "Epoch: [9][80/81] Data 0.000 (0.007) Elapsed 1m 13s (remain 0m 0s) Loss: 0.6589(0.9559) Grad Norm: 4.2464  LR: 8.4958e-04  \n",
      "EVAL: [0/17] Data 0.396 (0.396) Elapsed 0m 0s (remain 0m 10s) \n"
     ]
    },
    {
     "name": "stderr",
     "output_type": "stream",
     "text": [
      "labels: [4 0 3 6 0]\n",
      "pred_labels: [4 0 3 6 5]\n",
      "Epoch 9 - avg_train_loss: 0.9559  lr: 8.4958e-04  time: 78s\n",
      "Epoch 9 - Score: 0.6107\n"
     ]
    },
    {
     "name": "stdout",
     "output_type": "stream",
     "text": [
      "EVAL: [16/17] Data 0.000 (0.024) Elapsed 0m 4s (remain 0m 0s) \n",
      "Epoch: [10][0/81] Data 0.594 (0.594) Elapsed 0m 1s (remain 1m 36s) Loss: 1.8808(1.8808) Grad Norm: 0.0000  LR: 8.1581e-04  \n",
      "Epoch: [10][80/81] Data 0.000 (0.008) Elapsed 1m 13s (remain 0m 0s) Loss: 1.7083(0.9645) Grad Norm: 4.1219  LR: 8.1581e-04  \n",
      "EVAL: [0/17] Data 0.352 (0.352) Elapsed 0m 0s (remain 0m 9s) \n"
     ]
    },
    {
     "name": "stderr",
     "output_type": "stream",
     "text": [
      "labels: [4 0 3 6 0]\n",
      "pred_labels: [2 0 4 2 0]\n",
      "Epoch 10 - avg_train_loss: 0.9645  lr: 8.1581e-04  time: 78s\n",
      "Epoch 10 - Score: 0.5649\n"
     ]
    },
    {
     "name": "stdout",
     "output_type": "stream",
     "text": [
      "EVAL: [16/17] Data 0.000 (0.021) Elapsed 0m 4s (remain 0m 0s) \n",
      "Epoch: [11][0/81] Data 0.493 (0.493) Elapsed 0m 1s (remain 1m 29s) Loss: 1.4173(1.4173) Grad Norm: 0.0000  LR: 7.7953e-04  \n",
      "Epoch: [11][80/81] Data 0.000 (0.006) Elapsed 1m 13s (remain 0m 0s) Loss: 0.1908(1.0357) Grad Norm: 5.2135  LR: 7.7953e-04  \n",
      "EVAL: [0/17] Data 0.394 (0.394) Elapsed 0m 0s (remain 0m 10s) \n"
     ]
    },
    {
     "name": "stderr",
     "output_type": "stream",
     "text": [
      "labels: [4 0 3 6 0]\n",
      "pred_labels: [0 0 3 0 0]\n",
      "Epoch 11 - avg_train_loss: 1.0357  lr: 7.7953e-04  time: 78s\n",
      "Epoch 11 - Score: 0.6031\n"
     ]
    },
    {
     "name": "stdout",
     "output_type": "stream",
     "text": [
      "EVAL: [16/17] Data 0.000 (0.023) Elapsed 0m 4s (remain 0m 0s) \n",
      "Epoch: [12][0/81] Data 0.454 (0.454) Elapsed 0m 1s (remain 1m 31s) Loss: 0.2597(0.2597) Grad Norm: 0.0000  LR: 7.4103e-04  \n",
      "Epoch: [12][80/81] Data 0.000 (0.006) Elapsed 1m 13s (remain 0m 0s) Loss: 0.5353(0.9549) Grad Norm: 2.6500  LR: 7.4103e-04  \n",
      "EVAL: [0/17] Data 0.409 (0.409) Elapsed 0m 0s (remain 0m 10s) \n"
     ]
    },
    {
     "name": "stderr",
     "output_type": "stream",
     "text": [
      "labels: [4 0 3 6 0]\n",
      "pred_labels: [11  0  3  3  0]\n",
      "Epoch 12 - avg_train_loss: 0.9549  lr: 7.4103e-04  time: 78s\n",
      "Epoch 12 - Score: 0.5802\n"
     ]
    },
    {
     "name": "stdout",
     "output_type": "stream",
     "text": [
      "EVAL: [16/17] Data 0.000 (0.024) Elapsed 0m 4s (remain 0m 0s) \n",
      "Epoch: [13][0/81] Data 0.554 (0.554) Elapsed 0m 1s (remain 1m 33s) Loss: 0.2411(0.2411) Grad Norm: 0.0000  LR: 7.0063e-04  \n",
      "Epoch: [13][80/81] Data 0.000 (0.007) Elapsed 1m 12s (remain 0m 0s) Loss: 1.7726(0.8172) Grad Norm: 5.2237  LR: 7.0063e-04  \n",
      "EVAL: [0/17] Data 0.366 (0.366) Elapsed 0m 0s (remain 0m 9s) \n"
     ]
    },
    {
     "name": "stderr",
     "output_type": "stream",
     "text": [
      "labels: [4 0 3 6 0]\n",
      "pred_labels: [11  0  3  1  0]\n",
      "Epoch 13 - avg_train_loss: 0.8172  lr: 7.0063e-04  time: 77s\n",
      "Epoch 13 - Score: 0.5649\n"
     ]
    },
    {
     "name": "stdout",
     "output_type": "stream",
     "text": [
      "EVAL: [16/17] Data 0.000 (0.022) Elapsed 0m 4s (remain 0m 0s) \n",
      "Epoch: [14][0/81] Data 0.487 (0.487) Elapsed 0m 1s (remain 1m 32s) Loss: 2.0392(2.0392) Grad Norm: 0.0000  LR: 6.5865e-04  \n",
      "Epoch: [14][80/81] Data 0.000 (0.006) Elapsed 1m 12s (remain 0m 0s) Loss: 1.9882(0.8579) Grad Norm: 4.7042  LR: 6.5865e-04  \n",
      "EVAL: [0/17] Data 0.306 (0.306) Elapsed 0m 0s (remain 0m 8s) \n"
     ]
    },
    {
     "name": "stderr",
     "output_type": "stream",
     "text": [
      "labels: [4 0 3 6 0]\n",
      "pred_labels: [11  0  3  6  0]\n",
      "Epoch 14 - avg_train_loss: 0.8579  lr: 6.5865e-04  time: 77s\n",
      "Epoch 14 - Score: 0.5878\n"
     ]
    },
    {
     "name": "stdout",
     "output_type": "stream",
     "text": [
      "EVAL: [16/17] Data 0.000 (0.018) Elapsed 0m 4s (remain 0m 0s) \n",
      "Epoch: [15][0/81] Data 0.564 (0.564) Elapsed 0m 1s (remain 1m 33s) Loss: 2.1162(2.1162) Grad Norm: 0.0000  LR: 6.1542e-04  \n",
      "Epoch: [15][80/81] Data 0.000 (0.007) Elapsed 1m 12s (remain 0m 0s) Loss: 0.1860(0.9760) Grad Norm: 6.5842  LR: 6.1542e-04  \n",
      "EVAL: [0/17] Data 0.311 (0.311) Elapsed 0m 0s (remain 0m 9s) \n"
     ]
    },
    {
     "name": "stderr",
     "output_type": "stream",
     "text": [
      "labels: [4 0 3 6 0]\n",
      "pred_labels: [4 0 3 6 0]\n",
      "Epoch 15 - avg_train_loss: 0.9760  lr: 6.1542e-04  time: 77s\n",
      "Epoch 15 - Score: 0.6718\n",
      "Epoch 15 - Save Best Score: 0.6718 Model\n"
     ]
    },
    {
     "name": "stdout",
     "output_type": "stream",
     "text": [
      "EVAL: [16/17] Data 0.000 (0.019) Elapsed 0m 4s (remain 0m 0s) \n",
      "Epoch: [16][0/81] Data 0.506 (0.506) Elapsed 0m 1s (remain 1m 34s) Loss: 0.0587(0.0587) Grad Norm: 0.0000  LR: 5.7130e-04  \n",
      "Epoch: [16][80/81] Data 0.000 (0.006) Elapsed 1m 12s (remain 0m 0s) Loss: 0.1570(0.9962) Grad Norm: 4.2855  LR: 5.7130e-04  \n",
      "EVAL: [0/17] Data 0.356 (0.356) Elapsed 0m 0s (remain 0m 9s) \n"
     ]
    },
    {
     "name": "stderr",
     "output_type": "stream",
     "text": [
      "labels: [4 0 3 6 0]\n",
      "pred_labels: [4 0 3 9 0]\n",
      "Epoch 16 - avg_train_loss: 0.9962  lr: 5.7130e-04  time: 77s\n",
      "Epoch 16 - Score: 0.6412\n"
     ]
    },
    {
     "name": "stdout",
     "output_type": "stream",
     "text": [
      "EVAL: [16/17] Data 0.000 (0.021) Elapsed 0m 4s (remain 0m 0s) \n",
      "Epoch: [17][0/81] Data 0.532 (0.532) Elapsed 0m 1s (remain 1m 35s) Loss: 1.7190(1.7190) Grad Norm: 0.0000  LR: 5.2663e-04  \n",
      "Epoch: [17][80/81] Data 0.000 (0.007) Elapsed 1m 12s (remain 0m 0s) Loss: 1.5964(1.0279) Grad Norm: 1.5400  LR: 5.2663e-04  \n",
      "EVAL: [0/17] Data 0.346 (0.346) Elapsed 0m 0s (remain 0m 9s) \n"
     ]
    },
    {
     "name": "stderr",
     "output_type": "stream",
     "text": [
      "labels: [4 0 3 6 0]\n",
      "pred_labels: [0 0 3 0 0]\n",
      "Epoch 17 - avg_train_loss: 1.0279  lr: 5.2663e-04  time: 77s\n",
      "Epoch 17 - Score: 0.6183\n"
     ]
    },
    {
     "name": "stdout",
     "output_type": "stream",
     "text": [
      "EVAL: [16/17] Data 0.000 (0.021) Elapsed 0m 4s (remain 0m 0s) \n",
      "Epoch: [18][0/81] Data 0.546 (0.546) Elapsed 0m 1s (remain 1m 33s) Loss: 0.7430(0.7430) Grad Norm: 0.0000  LR: 4.8179e-04  \n",
      "Epoch: [18][80/81] Data 0.000 (0.007) Elapsed 1m 12s (remain 0m 0s) Loss: 0.3219(0.7734) Grad Norm: 4.1868  LR: 4.8179e-04  \n",
      "EVAL: [0/17] Data 0.404 (0.404) Elapsed 0m 0s (remain 0m 10s) \n"
     ]
    },
    {
     "name": "stderr",
     "output_type": "stream",
     "text": [
      "labels: [4 0 3 6 0]\n",
      "pred_labels: [11  0  3  0  0]\n",
      "Epoch 18 - avg_train_loss: 0.7734  lr: 4.8179e-04  time: 77s\n",
      "Epoch 18 - Score: 0.6031\n"
     ]
    },
    {
     "name": "stdout",
     "output_type": "stream",
     "text": [
      "EVAL: [16/17] Data 0.000 (0.024) Elapsed 0m 4s (remain 0m 0s) \n",
      "Epoch: [19][0/81] Data 0.438 (0.438) Elapsed 0m 1s (remain 1m 28s) Loss: 1.8564(1.8564) Grad Norm: 0.0000  LR: 4.3712e-04  \n",
      "Epoch: [19][80/81] Data 0.000 (0.006) Elapsed 1m 12s (remain 0m 0s) Loss: 0.0683(0.6953) Grad Norm: 3.4424  LR: 4.3712e-04  \n",
      "EVAL: [0/17] Data 0.366 (0.366) Elapsed 0m 0s (remain 0m 9s) \n"
     ]
    },
    {
     "name": "stderr",
     "output_type": "stream",
     "text": [
      "labels: [4 0 3 6 0]\n",
      "pred_labels: [4 0 3 0 0]\n",
      "Epoch 19 - avg_train_loss: 0.6953  lr: 4.3712e-04  time: 77s\n",
      "Epoch 19 - Score: 0.6336\n"
     ]
    },
    {
     "name": "stdout",
     "output_type": "stream",
     "text": [
      "EVAL: [16/17] Data 0.000 (0.022) Elapsed 0m 4s (remain 0m 0s) \n",
      "Epoch: [20][0/81] Data 0.582 (0.582) Elapsed 0m 1s (remain 1m 35s) Loss: 0.0930(0.0930) Grad Norm: 0.0000  LR: 3.9299e-04  \n",
      "Epoch: [20][80/81] Data 0.000 (0.007) Elapsed 1m 12s (remain 0m 0s) Loss: 0.0564(0.7594) Grad Norm: 3.7587  LR: 3.9299e-04  \n",
      "EVAL: [0/17] Data 0.360 (0.360) Elapsed 0m 0s (remain 0m 9s) \n"
     ]
    },
    {
     "name": "stderr",
     "output_type": "stream",
     "text": [
      "labels: [4 0 3 6 0]\n",
      "pred_labels: [2 0 3 0 0]\n",
      "Epoch 20 - avg_train_loss: 0.7594  lr: 3.9299e-04  time: 77s\n",
      "Epoch 20 - Score: 0.6336\n"
     ]
    },
    {
     "name": "stdout",
     "output_type": "stream",
     "text": [
      "EVAL: [16/17] Data 0.000 (0.021) Elapsed 0m 4s (remain 0m 0s) \n",
      "Epoch: [21][0/81] Data 0.504 (0.504) Elapsed 0m 1s (remain 1m 32s) Loss: 1.9791(1.9791) Grad Norm: 0.0000  LR: 3.4975e-04  \n",
      "Epoch: [21][80/81] Data 0.000 (0.006) Elapsed 1m 12s (remain 0m 0s) Loss: 0.0788(0.7885) Grad Norm: 3.9048  LR: 3.4975e-04  \n",
      "EVAL: [0/17] Data 0.346 (0.346) Elapsed 0m 0s (remain 0m 9s) \n"
     ]
    },
    {
     "name": "stderr",
     "output_type": "stream",
     "text": [
      "labels: [4 0 3 6 0]\n",
      "pred_labels: [11  0  3  0  0]\n",
      "Epoch 21 - avg_train_loss: 0.7885  lr: 3.4975e-04  time: 77s\n",
      "Epoch 21 - Score: 0.6183\n"
     ]
    },
    {
     "name": "stdout",
     "output_type": "stream",
     "text": [
      "EVAL: [16/17] Data 0.000 (0.021) Elapsed 0m 4s (remain 0m 0s) \n",
      "Epoch: [22][0/81] Data 0.509 (0.509) Elapsed 0m 1s (remain 1m 31s) Loss: 0.0980(0.0980) Grad Norm: 0.0000  LR: 3.0775e-04  \n",
      "Epoch: [22][80/81] Data 0.000 (0.006) Elapsed 1m 12s (remain 0m 0s) Loss: 0.9218(0.6894) Grad Norm: 5.1327  LR: 3.0775e-04  \n",
      "EVAL: [0/17] Data 0.357 (0.357) Elapsed 0m 0s (remain 0m 9s) \n"
     ]
    },
    {
     "name": "stderr",
     "output_type": "stream",
     "text": [
      "labels: [4 0 3 6 0]\n",
      "pred_labels: [4 0 3 2 0]\n",
      "Epoch 22 - avg_train_loss: 0.6894  lr: 3.0775e-04  time: 77s\n",
      "Epoch 22 - Score: 0.5878\n"
     ]
    },
    {
     "name": "stdout",
     "output_type": "stream",
     "text": [
      "EVAL: [16/17] Data 0.000 (0.021) Elapsed 0m 4s (remain 0m 0s) \n",
      "Epoch: [23][0/81] Data 0.471 (0.471) Elapsed 0m 1s (remain 1m 32s) Loss: 1.4401(1.4401) Grad Norm: 0.0000  LR: 2.6732e-04  \n",
      "Epoch: [23][80/81] Data 0.000 (0.006) Elapsed 1m 12s (remain 0m 0s) Loss: 1.0340(0.6721) Grad Norm: 2.5024  LR: 2.6732e-04  \n",
      "EVAL: [0/17] Data 0.402 (0.402) Elapsed 0m 0s (remain 0m 10s) \n"
     ]
    },
    {
     "name": "stderr",
     "output_type": "stream",
     "text": [
      "labels: [4 0 3 6 0]\n",
      "pred_labels: [4 0 3 9 0]\n",
      "Epoch 23 - avg_train_loss: 0.6721  lr: 2.6732e-04  time: 77s\n",
      "Epoch 23 - Score: 0.6183\n"
     ]
    },
    {
     "name": "stdout",
     "output_type": "stream",
     "text": [
      "EVAL: [16/17] Data 0.000 (0.024) Elapsed 0m 4s (remain 0m 0s) \n",
      "Epoch: [24][0/81] Data 0.453 (0.453) Elapsed 0m 1s (remain 1m 28s) Loss: 1.1725(1.1725) Grad Norm: 0.0000  LR: 2.2880e-04  \n",
      "Epoch: [24][80/81] Data 0.000 (0.006) Elapsed 1m 12s (remain 0m 0s) Loss: 0.6756(0.7387) Grad Norm: 3.2592  LR: 2.2880e-04  \n",
      "EVAL: [0/17] Data 0.343 (0.343) Elapsed 0m 0s (remain 0m 9s) \n"
     ]
    },
    {
     "name": "stderr",
     "output_type": "stream",
     "text": [
      "labels: [4 0 3 6 0]\n",
      "pred_labels: [4 0 3 2 0]\n",
      "Epoch 24 - avg_train_loss: 0.7387  lr: 2.2880e-04  time: 77s\n",
      "Epoch 24 - Score: 0.6031\n"
     ]
    },
    {
     "name": "stdout",
     "output_type": "stream",
     "text": [
      "EVAL: [16/17] Data 0.000 (0.020) Elapsed 0m 4s (remain 0m 0s) \n",
      "Epoch: [25][0/81] Data 0.574 (0.574) Elapsed 0m 1s (remain 1m 34s) Loss: 1.4091(1.4091) Grad Norm: 0.0000  LR: 1.9248e-04  \n",
      "Epoch: [25][80/81] Data 0.000 (0.007) Elapsed 1m 12s (remain 0m 0s) Loss: 1.0522(0.7183) Grad Norm: 2.9548  LR: 1.9248e-04  \n",
      "EVAL: [0/17] Data 0.376 (0.376) Elapsed 0m 0s (remain 0m 9s) \n"
     ]
    },
    {
     "name": "stderr",
     "output_type": "stream",
     "text": [
      "labels: [4 0 3 6 0]\n",
      "pred_labels: [2 0 3 6 0]\n",
      "Epoch 25 - avg_train_loss: 0.7183  lr: 1.9248e-04  time: 77s\n",
      "Epoch 25 - Score: 0.6260\n"
     ]
    },
    {
     "name": "stdout",
     "output_type": "stream",
     "text": [
      "EVAL: [16/17] Data 0.000 (0.022) Elapsed 0m 4s (remain 0m 0s) \n",
      "Epoch: [26][0/81] Data 0.444 (0.444) Elapsed 0m 1s (remain 1m 29s) Loss: 0.9939(0.9939) Grad Norm: 0.0000  LR: 1.5867e-04  \n",
      "Epoch: [26][80/81] Data 0.000 (0.006) Elapsed 1m 12s (remain 0m 0s) Loss: 0.0454(0.6006) Grad Norm: 3.4435  LR: 1.5867e-04  \n",
      "EVAL: [0/17] Data 0.347 (0.347) Elapsed 0m 0s (remain 0m 9s) \n"
     ]
    },
    {
     "name": "stderr",
     "output_type": "stream",
     "text": [
      "labels: [4 0 3 6 0]\n",
      "pred_labels: [0 0 3 9 0]\n",
      "Epoch 26 - avg_train_loss: 0.6006  lr: 1.5867e-04  time: 77s\n",
      "Epoch 26 - Score: 0.6107\n"
     ]
    },
    {
     "name": "stdout",
     "output_type": "stream",
     "text": [
      "EVAL: [16/17] Data 0.000 (0.021) Elapsed 0m 4s (remain 0m 0s) \n",
      "Epoch: [27][0/81] Data 0.512 (0.512) Elapsed 0m 1s (remain 1m 33s) Loss: 1.2580(1.2580) Grad Norm: 0.0000  LR: 1.2762e-04  \n",
      "Epoch: [27][80/81] Data 0.000 (0.007) Elapsed 1m 12s (remain 0m 0s) Loss: 0.0391(0.5768) Grad Norm: 4.4291  LR: 1.2762e-04  \n",
      "EVAL: [0/17] Data 0.321 (0.321) Elapsed 0m 0s (remain 0m 8s) \n"
     ]
    },
    {
     "name": "stderr",
     "output_type": "stream",
     "text": [
      "labels: [4 0 3 6 0]\n",
      "pred_labels: [2 0 3 6 0]\n",
      "Epoch 27 - avg_train_loss: 0.5768  lr: 1.2762e-04  time: 77s\n",
      "Epoch 27 - Score: 0.6260\n"
     ]
    },
    {
     "name": "stdout",
     "output_type": "stream",
     "text": [
      "EVAL: [16/17] Data 0.000 (0.019) Elapsed 0m 4s (remain 0m 0s) \n",
      "Epoch: [28][0/81] Data 0.532 (0.532) Elapsed 0m 1s (remain 1m 31s) Loss: 0.0411(0.0411) Grad Norm: 0.0000  LR: 9.9584e-05  \n",
      "Epoch: [28][80/81] Data 0.000 (0.007) Elapsed 1m 12s (remain 0m 0s) Loss: 0.9720(0.4906) Grad Norm: 0.9654  LR: 9.9584e-05  \n",
      "EVAL: [0/17] Data 0.409 (0.409) Elapsed 0m 0s (remain 0m 10s) \n"
     ]
    },
    {
     "name": "stderr",
     "output_type": "stream",
     "text": [
      "labels: [4 0 3 6 0]\n",
      "pred_labels: [2 0 3 0 0]\n",
      "Epoch 28 - avg_train_loss: 0.4906  lr: 9.9584e-05  time: 77s\n",
      "Epoch 28 - Score: 0.6031\n"
     ]
    },
    {
     "name": "stdout",
     "output_type": "stream",
     "text": [
      "EVAL: [16/17] Data 0.000 (0.024) Elapsed 0m 4s (remain 0m 0s) \n",
      "Epoch: [29][0/81] Data 0.556 (0.556) Elapsed 0m 1s (remain 1m 34s) Loss: 0.0271(0.0271) Grad Norm: 0.0000  LR: 7.4783e-05  \n",
      "Epoch: [29][80/81] Data 0.000 (0.007) Elapsed 1m 12s (remain 0m 0s) Loss: 1.1765(0.6425) Grad Norm: 2.5196  LR: 7.4783e-05  \n",
      "EVAL: [0/17] Data 0.332 (0.332) Elapsed 0m 0s (remain 0m 9s) \n"
     ]
    },
    {
     "name": "stderr",
     "output_type": "stream",
     "text": [
      "labels: [4 0 3 6 0]\n",
      "pred_labels: [2 0 3 9 0]\n",
      "Epoch 29 - avg_train_loss: 0.6425  lr: 7.4783e-05  time: 77s\n",
      "Epoch 29 - Score: 0.6107\n"
     ]
    },
    {
     "name": "stdout",
     "output_type": "stream",
     "text": [
      "EVAL: [16/17] Data 0.000 (0.020) Elapsed 0m 4s (remain 0m 0s) \n",
      "Epoch: [30][0/81] Data 0.439 (0.439) Elapsed 0m 1s (remain 1m 29s) Loss: 1.0801(1.0801) Grad Norm: 0.0000  LR: 5.3404e-05  \n",
      "Epoch: [30][80/81] Data 0.000 (0.006) Elapsed 1m 12s (remain 0m 0s) Loss: 1.1140(0.4934) Grad Norm: 3.2848  LR: 5.3404e-05  \n",
      "EVAL: [0/17] Data 0.404 (0.404) Elapsed 0m 0s (remain 0m 10s) \n"
     ]
    },
    {
     "name": "stderr",
     "output_type": "stream",
     "text": [
      "labels: [4 0 3 6 0]\n",
      "pred_labels: [2 0 3 0 0]\n",
      "Epoch 30 - avg_train_loss: 0.4934  lr: 5.3404e-05  time: 77s\n",
      "Epoch 30 - Score: 0.5954\n"
     ]
    },
    {
     "name": "stdout",
     "output_type": "stream",
     "text": [
      "EVAL: [16/17] Data 0.000 (0.024) Elapsed 0m 4s (remain 0m 0s) \n",
      "Epoch: [31][0/81] Data 0.481 (0.481) Elapsed 0m 1s (remain 1m 29s) Loss: 0.0564(0.0564) Grad Norm: 0.0000  LR: 3.5607e-05  \n",
      "Epoch: [31][80/81] Data 0.000 (0.006) Elapsed 1m 12s (remain 0m 0s) Loss: 0.0121(0.0446) Grad Norm: 0.2730  LR: 3.5607e-05  \n",
      "EVAL: [0/17] Data 0.327 (0.327) Elapsed 0m 0s (remain 0m 9s) \n"
     ]
    },
    {
     "name": "stderr",
     "output_type": "stream",
     "text": [
      "labels: [4 0 3 6 0]\n",
      "pred_labels: [2 0 3 6 0]\n",
      "Epoch 31 - avg_train_loss: 0.0446  lr: 3.5607e-05  time: 77s\n",
      "Epoch 31 - Score: 0.6412\n"
     ]
    },
    {
     "name": "stdout",
     "output_type": "stream",
     "text": [
      "EVAL: [16/17] Data 0.000 (0.019) Elapsed 0m 4s (remain 0m 0s) \n",
      "Epoch: [32][0/81] Data 0.511 (0.511) Elapsed 0m 1s (remain 1m 31s) Loss: 0.0456(0.0456) Grad Norm: 0.0000  LR: 2.1508e-05  \n",
      "Epoch: [32][80/81] Data 0.000 (0.007) Elapsed 1m 12s (remain 0m 0s) Loss: 0.0188(0.0437) Grad Norm: 1.1558  LR: 2.1508e-05  \n",
      "EVAL: [0/17] Data 0.395 (0.395) Elapsed 0m 0s (remain 0m 10s) \n"
     ]
    },
    {
     "name": "stderr",
     "output_type": "stream",
     "text": [
      "labels: [4 0 3 6 0]\n",
      "pred_labels: [0 0 3 0 0]\n",
      "Epoch 32 - avg_train_loss: 0.0437  lr: 2.1508e-05  time: 77s\n",
      "Epoch 32 - Score: 0.6565\n"
     ]
    },
    {
     "name": "stdout",
     "output_type": "stream",
     "text": [
      "EVAL: [16/17] Data 0.000 (0.023) Elapsed 0m 4s (remain 0m 0s) \n",
      "Epoch: [33][0/81] Data 0.428 (0.428) Elapsed 0m 1s (remain 1m 30s) Loss: 0.0055(0.0055) Grad Norm: 0.0000  LR: 1.1173e-05  \n",
      "Epoch: [33][80/81] Data 0.000 (0.006) Elapsed 1m 12s (remain 0m 0s) Loss: 0.0143(0.0305) Grad Norm: 1.0224  LR: 1.1173e-05  \n",
      "EVAL: [0/17] Data 0.374 (0.374) Elapsed 0m 0s (remain 0m 9s) \n"
     ]
    },
    {
     "name": "stderr",
     "output_type": "stream",
     "text": [
      "labels: [4 0 3 6 0]\n",
      "pred_labels: [2 0 3 0 0]\n",
      "Epoch 33 - avg_train_loss: 0.0305  lr: 1.1173e-05  time: 77s\n",
      "Epoch 33 - Score: 0.6260\n"
     ]
    },
    {
     "name": "stdout",
     "output_type": "stream",
     "text": [
      "EVAL: [16/17] Data 0.000 (0.022) Elapsed 0m 4s (remain 0m 0s) \n",
      "Epoch: [34][0/81] Data 0.477 (0.477) Elapsed 0m 1s (remain 1m 34s) Loss: 0.0105(0.0105) Grad Norm: 0.0000  LR: 4.5796e-06  \n",
      "Epoch: [34][80/81] Data 0.000 (0.006) Elapsed 1m 12s (remain 0m 0s) Loss: 0.0704(0.0452) Grad Norm: 1.4442  LR: 4.5796e-06  \n",
      "EVAL: [0/17] Data 0.364 (0.364) Elapsed 0m 0s (remain 0m 9s) \n"
     ]
    },
    {
     "name": "stderr",
     "output_type": "stream",
     "text": [
      "labels: [4 0 3 6 0]\n",
      "pred_labels: [4 0 3 0 0]\n",
      "Epoch 34 - avg_train_loss: 0.0452  lr: 4.5796e-06  time: 77s\n",
      "Epoch 34 - Score: 0.6489\n"
     ]
    },
    {
     "name": "stdout",
     "output_type": "stream",
     "text": [
      "EVAL: [16/17] Data 0.000 (0.022) Elapsed 0m 4s (remain 0m 0s) \n",
      "Epoch: [35][0/81] Data 0.494 (0.494) Elapsed 0m 1s (remain 1m 28s) Loss: 0.0210(0.0210) Grad Norm: 0.0000  LR: 1.5037e-06  \n",
      "Epoch: [35][80/81] Data 0.000 (0.006) Elapsed 1m 12s (remain 0m 0s) Loss: 0.0041(0.0299) Grad Norm: 0.3980  LR: 1.5037e-06  \n",
      "EVAL: [0/17] Data 0.392 (0.392) Elapsed 0m 0s (remain 0m 10s) \n"
     ]
    },
    {
     "name": "stderr",
     "output_type": "stream",
     "text": [
      "labels: [4 0 3 6 0]\n",
      "pred_labels: [4 0 3 0 0]\n",
      "Epoch 35 - avg_train_loss: 0.0299  lr: 1.5037e-06  time: 77s\n",
      "Epoch 35 - Score: 0.6412\n",
      "==================== fold: 2, seed: 0 training ====================\n"
     ]
    },
    {
     "name": "stdout",
     "output_type": "stream",
     "text": [
      "EVAL: [16/17] Data 0.000 (0.023) Elapsed 0m 4s (remain 0m 0s) \n",
      "Epoch: [1][0/81] Data 0.431 (0.431) Elapsed 0m 1s (remain 1m 28s) Loss: 2.6622(2.6622) Grad Norm: 0.0000  LR: 1.0000e-03  \n",
      "Epoch: [1][80/81] Data 0.000 (0.006) Elapsed 1m 13s (remain 0m 0s) Loss: 2.6427(2.5630) Grad Norm: 6.7452  LR: 1.0000e-03  \n",
      "EVAL: [0/17] Data 0.357 (0.357) Elapsed 0m 0s (remain 0m 9s) \n"
     ]
    },
    {
     "name": "stderr",
     "output_type": "stream",
     "text": [
      "labels: [ 5 12  2 11  8]\n",
      "pred_labels: [9 2 9 6 2]\n",
      "Epoch 1 - avg_train_loss: 2.5630  lr: 1.0000e-03  time: 78s\n",
      "Epoch 1 - Score: 0.2672\n",
      "Epoch 1 - Save Best Score: 0.2672 Model\n"
     ]
    },
    {
     "name": "stdout",
     "output_type": "stream",
     "text": [
      "EVAL: [16/17] Data 0.000 (0.021) Elapsed 0m 4s (remain 0m 0s) \n",
      "Epoch: [2][0/81] Data 0.583 (0.583) Elapsed 0m 1s (remain 1m 41s) Loss: 2.2299(2.2299) Grad Norm: 0.0000  LR: 9.9598e-04  \n",
      "Epoch: [2][80/81] Data 0.000 (0.007) Elapsed 1m 13s (remain 0m 0s) Loss: 1.9015(2.2661) Grad Norm: 6.3709  LR: 9.9598e-04  \n",
      "EVAL: [0/17] Data 0.345 (0.345) Elapsed 0m 0s (remain 0m 9s) \n"
     ]
    },
    {
     "name": "stderr",
     "output_type": "stream",
     "text": [
      "labels: [ 5 12  2 11  8]\n",
      "pred_labels: [ 2  9  9 11  8]\n",
      "Epoch 2 - avg_train_loss: 2.2661  lr: 9.9598e-04  time: 78s\n",
      "Epoch 2 - Score: 0.3817\n",
      "Epoch 2 - Save Best Score: 0.3817 Model\n"
     ]
    },
    {
     "name": "stdout",
     "output_type": "stream",
     "text": [
      "EVAL: [16/17] Data 0.000 (0.021) Elapsed 0m 4s (remain 0m 0s) \n",
      "Epoch: [3][0/81] Data 0.498 (0.498) Elapsed 0m 1s (remain 1m 30s) Loss: 2.0915(2.0915) Grad Norm: 0.0000  LR: 9.8599e-04  \n",
      "Epoch: [3][80/81] Data 0.000 (0.006) Elapsed 1m 13s (remain 0m 0s) Loss: 1.3486(2.0067) Grad Norm: 6.7181  LR: 9.8599e-04  \n",
      "EVAL: [0/17] Data 0.391 (0.391) Elapsed 0m 0s (remain 0m 10s) \n"
     ]
    },
    {
     "name": "stderr",
     "output_type": "stream",
     "text": [
      "labels: [ 5 12  2 11  8]\n",
      "pred_labels: [ 5 12  2 11  8]\n",
      "Epoch 3 - avg_train_loss: 2.0067  lr: 9.8599e-04  time: 78s\n",
      "Epoch 3 - Score: 0.5115\n",
      "Epoch 3 - Save Best Score: 0.5115 Model\n"
     ]
    },
    {
     "name": "stdout",
     "output_type": "stream",
     "text": [
      "EVAL: [16/17] Data 0.000 (0.023) Elapsed 0m 4s (remain 0m 0s) \n",
      "Epoch: [4][0/81] Data 0.439 (0.439) Elapsed 0m 1s (remain 1m 33s) Loss: 1.6678(1.6678) Grad Norm: 0.0000  LR: 9.7213e-04  \n",
      "Epoch: [4][80/81] Data 0.000 (0.006) Elapsed 1m 13s (remain 0m 0s) Loss: 2.2626(1.7950) Grad Norm: 6.5113  LR: 9.7213e-04  \n",
      "EVAL: [0/17] Data 0.331 (0.331) Elapsed 0m 0s (remain 0m 9s) \n"
     ]
    },
    {
     "name": "stderr",
     "output_type": "stream",
     "text": [
      "labels: [ 5 12  2 11  8]\n",
      "pred_labels: [ 5 12  7 11  8]\n",
      "Epoch 4 - avg_train_loss: 1.7950  lr: 9.7213e-04  time: 78s\n",
      "Epoch 4 - Score: 0.5420\n",
      "Epoch 4 - Save Best Score: 0.5420 Model\n"
     ]
    },
    {
     "name": "stdout",
     "output_type": "stream",
     "text": [
      "EVAL: [16/17] Data 0.000 (0.020) Elapsed 0m 4s (remain 0m 0s) \n",
      "Epoch: [5][0/81] Data 0.464 (0.464) Elapsed 0m 1s (remain 1m 31s) Loss: 1.4526(1.4526) Grad Norm: 0.0000  LR: 9.5449e-04  \n",
      "Epoch: [5][80/81] Data 0.000 (0.006) Elapsed 1m 13s (remain 0m 0s) Loss: 0.8396(1.6016) Grad Norm: 6.3106  LR: 9.5449e-04  \n",
      "EVAL: [0/17] Data 0.407 (0.407) Elapsed 0m 0s (remain 0m 10s) \n"
     ]
    },
    {
     "name": "stderr",
     "output_type": "stream",
     "text": [
      "labels: [ 5 12  2 11  8]\n",
      "pred_labels: [ 1 12  2 10  8]\n",
      "Epoch 5 - avg_train_loss: 1.6016  lr: 9.5449e-04  time: 78s\n",
      "Epoch 5 - Score: 0.5191\n"
     ]
    },
    {
     "name": "stdout",
     "output_type": "stream",
     "text": [
      "EVAL: [16/17] Data 0.000 (0.024) Elapsed 0m 4s (remain 0m 0s) \n",
      "Epoch: [6][0/81] Data 0.436 (0.436) Elapsed 0m 1s (remain 1m 29s) Loss: 2.2545(2.2545) Grad Norm: 0.0000  LR: 9.3324e-04  \n",
      "Epoch: [6][80/81] Data 0.000 (0.006) Elapsed 1m 13s (remain 0m 0s) Loss: 0.9930(1.4526) Grad Norm: 6.8113  LR: 9.3324e-04  \n",
      "EVAL: [0/17] Data 0.381 (0.381) Elapsed 0m 0s (remain 0m 9s) \n"
     ]
    },
    {
     "name": "stderr",
     "output_type": "stream",
     "text": [
      "labels: [ 5 12  2 11  8]\n",
      "pred_labels: [ 3 12  2 11  8]\n",
      "Epoch 6 - avg_train_loss: 1.4526  lr: 9.3324e-04  time: 78s\n",
      "Epoch 6 - Score: 0.6565\n",
      "Epoch 6 - Save Best Score: 0.6565 Model\n"
     ]
    },
    {
     "name": "stdout",
     "output_type": "stream",
     "text": [
      "EVAL: [16/17] Data 0.000 (0.023) Elapsed 0m 4s (remain 0m 0s) \n",
      "Epoch: [7][0/81] Data 0.624 (0.624) Elapsed 0m 1s (remain 1m 42s) Loss: 1.1227(1.1227) Grad Norm: 0.0000  LR: 9.0853e-04  \n",
      "Epoch: [7][80/81] Data 0.000 (0.008) Elapsed 1m 13s (remain 0m 0s) Loss: 0.8191(1.3133) Grad Norm: 5.8649  LR: 9.0853e-04  \n",
      "EVAL: [0/17] Data 0.315 (0.315) Elapsed 0m 0s (remain 0m 9s) \n"
     ]
    },
    {
     "name": "stderr",
     "output_type": "stream",
     "text": [
      "labels: [ 5 12  2 11  8]\n",
      "pred_labels: [ 5 12  2 11  8]\n",
      "Epoch 7 - avg_train_loss: 1.3133  lr: 9.0853e-04  time: 78s\n",
      "Epoch 7 - Score: 0.5802\n"
     ]
    },
    {
     "name": "stdout",
     "output_type": "stream",
     "text": [
      "EVAL: [16/17] Data 0.000 (0.019) Elapsed 0m 4s (remain 0m 0s) \n",
      "Epoch: [8][0/81] Data 0.477 (0.477) Elapsed 0m 1s (remain 1m 28s) Loss: 1.5867(1.5867) Grad Norm: 0.0000  LR: 8.8057e-04  \n",
      "Epoch: [8][80/81] Data 0.000 (0.006) Elapsed 1m 13s (remain 0m 0s) Loss: 1.9378(1.2276) Grad Norm: 4.8403  LR: 8.8057e-04  \n",
      "EVAL: [0/17] Data 0.393 (0.393) Elapsed 0m 0s (remain 0m 10s) \n"
     ]
    },
    {
     "name": "stderr",
     "output_type": "stream",
     "text": [
      "labels: [ 5 12  2 11  8]\n",
      "pred_labels: [ 5  9  1 11  8]\n",
      "Epoch 8 - avg_train_loss: 1.2276  lr: 8.8057e-04  time: 78s\n",
      "Epoch 8 - Score: 0.5878\n"
     ]
    },
    {
     "name": "stdout",
     "output_type": "stream",
     "text": [
      "EVAL: [16/17] Data 0.000 (0.023) Elapsed 0m 4s (remain 0m 0s) \n",
      "Epoch: [9][0/81] Data 0.521 (0.521) Elapsed 0m 1s (remain 1m 32s) Loss: 1.5706(1.5706) Grad Norm: 0.0000  LR: 8.4958e-04  \n",
      "Epoch: [9][80/81] Data 0.000 (0.007) Elapsed 1m 13s (remain 0m 0s) Loss: 1.4388(1.0438) Grad Norm: 4.3317  LR: 8.4958e-04  \n",
      "EVAL: [0/17] Data 0.407 (0.407) Elapsed 0m 0s (remain 0m 10s) \n"
     ]
    },
    {
     "name": "stderr",
     "output_type": "stream",
     "text": [
      "labels: [ 5 12  2 11  8]\n",
      "pred_labels: [ 5 10  2 11  8]\n",
      "Epoch 9 - avg_train_loss: 1.0438  lr: 8.4958e-04  time: 78s\n",
      "Epoch 9 - Score: 0.5878\n"
     ]
    },
    {
     "name": "stdout",
     "output_type": "stream",
     "text": [
      "EVAL: [16/17] Data 0.000 (0.024) Elapsed 0m 4s (remain 0m 0s) \n",
      "Epoch: [10][0/81] Data 0.449 (0.449) Elapsed 0m 1s (remain 1m 31s) Loss: 0.3718(0.3718) Grad Norm: 0.0000  LR: 8.1581e-04  \n",
      "Epoch: [10][80/81] Data 0.000 (0.006) Elapsed 1m 13s (remain 0m 0s) Loss: 1.6577(1.0763) Grad Norm: 5.6678  LR: 8.1581e-04  \n",
      "EVAL: [0/17] Data 0.376 (0.376) Elapsed 0m 0s (remain 0m 10s) \n"
     ]
    },
    {
     "name": "stderr",
     "output_type": "stream",
     "text": [
      "labels: [ 5 12  2 11  8]\n",
      "pred_labels: [ 5 10  2  8  8]\n",
      "Epoch 10 - avg_train_loss: 1.0763  lr: 8.1581e-04  time: 78s\n",
      "Epoch 10 - Score: 0.6031\n"
     ]
    },
    {
     "name": "stdout",
     "output_type": "stream",
     "text": [
      "EVAL: [16/17] Data 0.000 (0.022) Elapsed 0m 4s (remain 0m 0s) \n",
      "Epoch: [11][0/81] Data 0.535 (0.535) Elapsed 0m 1s (remain 1m 35s) Loss: 0.7655(0.7655) Grad Norm: 0.0000  LR: 7.7953e-04  \n",
      "Epoch: [11][80/81] Data 0.000 (0.007) Elapsed 1m 13s (remain 0m 0s) Loss: 1.9630(1.0891) Grad Norm: 4.1218  LR: 7.7953e-04  \n",
      "EVAL: [0/17] Data 0.317 (0.317) Elapsed 0m 0s (remain 0m 9s) \n"
     ]
    },
    {
     "name": "stderr",
     "output_type": "stream",
     "text": [
      "labels: [ 5 12  2 11  8]\n",
      "pred_labels: [ 5 12  2 11  8]\n",
      "Epoch 11 - avg_train_loss: 1.0891  lr: 7.7953e-04  time: 78s\n",
      "Epoch 11 - Score: 0.6718\n",
      "Epoch 11 - Save Best Score: 0.6718 Model\n"
     ]
    },
    {
     "name": "stdout",
     "output_type": "stream",
     "text": [
      "EVAL: [16/17] Data 0.000 (0.019) Elapsed 0m 4s (remain 0m 0s) \n",
      "Epoch: [12][0/81] Data 0.532 (0.532) Elapsed 0m 1s (remain 1m 37s) Loss: 0.0545(0.0545) Grad Norm: 0.0000  LR: 7.4103e-04  \n",
      "Epoch: [12][80/81] Data 0.000 (0.007) Elapsed 1m 13s (remain 0m 0s) Loss: 2.1073(0.9840) Grad Norm: 5.9241  LR: 7.4103e-04  \n",
      "EVAL: [0/17] Data 0.359 (0.359) Elapsed 0m 0s (remain 0m 9s) \n"
     ]
    },
    {
     "name": "stderr",
     "output_type": "stream",
     "text": [
      "labels: [ 5 12  2 11  8]\n",
      "pred_labels: [ 3 10  2 10  8]\n",
      "Epoch 12 - avg_train_loss: 0.9840  lr: 7.4103e-04  time: 78s\n",
      "Epoch 12 - Score: 0.5725\n"
     ]
    },
    {
     "name": "stdout",
     "output_type": "stream",
     "text": [
      "EVAL: [16/17] Data 0.000 (0.021) Elapsed 0m 4s (remain 0m 0s) \n",
      "Epoch: [13][0/81] Data 0.468 (0.468) Elapsed 0m 1s (remain 1m 33s) Loss: 1.7823(1.7823) Grad Norm: 0.0000  LR: 7.0063e-04  \n",
      "Epoch: [13][80/81] Data 0.000 (0.006) Elapsed 1m 12s (remain 0m 0s) Loss: 0.6716(0.8837) Grad Norm: 6.5516  LR: 7.0063e-04  \n",
      "EVAL: [0/17] Data 0.368 (0.368) Elapsed 0m 0s (remain 0m 9s) \n"
     ]
    },
    {
     "name": "stderr",
     "output_type": "stream",
     "text": [
      "labels: [ 5 12  2 11  8]\n",
      "pred_labels: [ 5 12  2 11  8]\n",
      "Epoch 13 - avg_train_loss: 0.8837  lr: 7.0063e-04  time: 78s\n",
      "Epoch 13 - Score: 0.6183\n"
     ]
    },
    {
     "name": "stdout",
     "output_type": "stream",
     "text": [
      "EVAL: [16/17] Data 0.000 (0.022) Elapsed 0m 4s (remain 0m 0s) \n",
      "Epoch: [14][0/81] Data 0.432 (0.432) Elapsed 0m 1s (remain 1m 26s) Loss: 0.3987(0.3987) Grad Norm: 0.0000  LR: 6.5865e-04  \n",
      "Epoch: [14][80/81] Data 0.000 (0.006) Elapsed 1m 12s (remain 0m 0s) Loss: 0.3792(0.8249) Grad Norm: 3.2111  LR: 6.5865e-04  \n",
      "EVAL: [0/17] Data 0.406 (0.406) Elapsed 0m 0s (remain 0m 10s) \n"
     ]
    },
    {
     "name": "stderr",
     "output_type": "stream",
     "text": [
      "labels: [ 5 12  2 11  8]\n",
      "pred_labels: [ 5 12  2 11  8]\n",
      "Epoch 14 - avg_train_loss: 0.8249  lr: 6.5865e-04  time: 77s\n",
      "Epoch 14 - Score: 0.6336\n"
     ]
    },
    {
     "name": "stdout",
     "output_type": "stream",
     "text": [
      "EVAL: [16/17] Data 0.000 (0.024) Elapsed 0m 4s (remain 0m 0s) \n",
      "Epoch: [15][0/81] Data 0.594 (0.594) Elapsed 0m 1s (remain 1m 36s) Loss: 1.4149(1.4149) Grad Norm: 0.0000  LR: 6.1542e-04  \n",
      "Epoch: [15][80/81] Data 0.000 (0.008) Elapsed 1m 12s (remain 0m 0s) Loss: 1.9854(0.9185) Grad Norm: 5.2880  LR: 6.1542e-04  \n",
      "EVAL: [0/17] Data 0.381 (0.381) Elapsed 0m 0s (remain 0m 9s) \n"
     ]
    },
    {
     "name": "stderr",
     "output_type": "stream",
     "text": [
      "labels: [ 5 12  2 11  8]\n",
      "pred_labels: [ 5 12  2 11  8]\n",
      "Epoch 15 - avg_train_loss: 0.9185  lr: 6.1542e-04  time: 78s\n",
      "Epoch 15 - Score: 0.5954\n"
     ]
    },
    {
     "name": "stdout",
     "output_type": "stream",
     "text": [
      "EVAL: [16/17] Data 0.000 (0.023) Elapsed 0m 4s (remain 0m 0s) \n",
      "Epoch: [16][0/81] Data 0.525 (0.525) Elapsed 0m 1s (remain 1m 33s) Loss: 1.6423(1.6423) Grad Norm: 0.0000  LR: 5.7130e-04  \n",
      "Epoch: [16][80/81] Data 0.000 (0.007) Elapsed 1m 13s (remain 0m 0s) Loss: 0.6688(0.9405) Grad Norm: 4.4175  LR: 5.7130e-04  \n",
      "EVAL: [0/17] Data 0.425 (0.425) Elapsed 0m 0s (remain 0m 10s) \n"
     ]
    },
    {
     "name": "stderr",
     "output_type": "stream",
     "text": [
      "labels: [ 5 12  2 11  8]\n",
      "pred_labels: [ 5 10  2 11  8]\n",
      "Epoch 16 - avg_train_loss: 0.9405  lr: 5.7130e-04  time: 78s\n",
      "Epoch 16 - Score: 0.6489\n"
     ]
    },
    {
     "name": "stdout",
     "output_type": "stream",
     "text": [
      "EVAL: [16/17] Data 0.000 (0.025) Elapsed 0m 4s (remain 0m 0s) \n",
      "Epoch: [17][0/81] Data 0.517 (0.517) Elapsed 0m 1s (remain 1m 37s) Loss: 1.0760(1.0760) Grad Norm: 0.0000  LR: 5.2663e-04  \n",
      "Epoch: [17][80/81] Data 0.000 (0.007) Elapsed 1m 12s (remain 0m 0s) Loss: 0.4181(0.8738) Grad Norm: 4.8882  LR: 5.2663e-04  \n",
      "EVAL: [0/17] Data 0.329 (0.329) Elapsed 0m 0s (remain 0m 9s) \n"
     ]
    },
    {
     "name": "stderr",
     "output_type": "stream",
     "text": [
      "labels: [ 5 12  2 11  8]\n",
      "pred_labels: [ 5 12  2 11  8]\n",
      "Epoch 17 - avg_train_loss: 0.8738  lr: 5.2663e-04  time: 78s\n",
      "Epoch 17 - Score: 0.6565\n"
     ]
    },
    {
     "name": "stdout",
     "output_type": "stream",
     "text": [
      "EVAL: [16/17] Data 0.000 (0.020) Elapsed 0m 4s (remain 0m 0s) \n",
      "Epoch: [18][0/81] Data 0.554 (0.554) Elapsed 0m 1s (remain 1m 37s) Loss: 0.1532(0.1532) Grad Norm: 0.0000  LR: 4.8179e-04  \n",
      "Epoch: [18][80/81] Data 0.000 (0.007) Elapsed 1m 12s (remain 0m 0s) Loss: 0.1696(0.7864) Grad Norm: 3.6829  LR: 4.8179e-04  \n",
      "EVAL: [0/17] Data 0.427 (0.427) Elapsed 0m 0s (remain 0m 10s) \n"
     ]
    },
    {
     "name": "stderr",
     "output_type": "stream",
     "text": [
      "labels: [ 5 12  2 11  8]\n",
      "pred_labels: [ 5 12  2 11  8]\n",
      "Epoch 18 - avg_train_loss: 0.7864  lr: 4.8179e-04  time: 78s\n",
      "Epoch 18 - Score: 0.6565\n"
     ]
    },
    {
     "name": "stdout",
     "output_type": "stream",
     "text": [
      "EVAL: [16/17] Data 0.000 (0.025) Elapsed 0m 4s (remain 0m 0s) \n",
      "Epoch: [19][0/81] Data 0.463 (0.463) Elapsed 0m 1s (remain 1m 28s) Loss: 0.0811(0.0811) Grad Norm: 0.0000  LR: 4.3712e-04  \n",
      "Epoch: [19][80/81] Data 0.000 (0.006) Elapsed 1m 12s (remain 0m 0s) Loss: 0.0747(0.7389) Grad Norm: 4.8129  LR: 4.3712e-04  \n",
      "EVAL: [0/17] Data 0.422 (0.422) Elapsed 0m 0s (remain 0m 10s) \n"
     ]
    },
    {
     "name": "stderr",
     "output_type": "stream",
     "text": [
      "labels: [ 5 12  2 11  8]\n",
      "pred_labels: [ 5 10  2 11  8]\n",
      "Epoch 19 - avg_train_loss: 0.7389  lr: 4.3712e-04  time: 77s\n",
      "Epoch 19 - Score: 0.6870\n",
      "Epoch 19 - Save Best Score: 0.6870 Model\n"
     ]
    },
    {
     "name": "stdout",
     "output_type": "stream",
     "text": [
      "EVAL: [16/17] Data 0.000 (0.025) Elapsed 0m 4s (remain 0m 0s) \n",
      "Epoch: [20][0/81] Data 0.588 (0.588) Elapsed 0m 1s (remain 1m 40s) Loss: 1.7318(1.7318) Grad Norm: 0.0000  LR: 3.9299e-04  \n",
      "Epoch: [20][80/81] Data 0.000 (0.007) Elapsed 1m 12s (remain 0m 0s) Loss: 1.9263(0.8055) Grad Norm: 5.6031  LR: 3.9299e-04  \n",
      "EVAL: [0/17] Data 0.403 (0.403) Elapsed 0m 0s (remain 0m 10s) \n"
     ]
    },
    {
     "name": "stderr",
     "output_type": "stream",
     "text": [
      "labels: [ 5 12  2 11  8]\n",
      "pred_labels: [ 5 12  2 11  8]\n",
      "Epoch 20 - avg_train_loss: 0.8055  lr: 3.9299e-04  time: 78s\n",
      "Epoch 20 - Score: 0.6412\n"
     ]
    },
    {
     "name": "stdout",
     "output_type": "stream",
     "text": [
      "EVAL: [16/17] Data 0.000 (0.024) Elapsed 0m 4s (remain 0m 0s) \n",
      "Epoch: [21][0/81] Data 0.424 (0.424) Elapsed 0m 1s (remain 1m 29s) Loss: 1.2761(1.2761) Grad Norm: 0.0000  LR: 3.4975e-04  \n",
      "Epoch: [21][80/81] Data 0.000 (0.005) Elapsed 1m 12s (remain 0m 0s) Loss: 1.3857(0.7435) Grad Norm: 1.7563  LR: 3.4975e-04  \n",
      "EVAL: [0/17] Data 0.391 (0.391) Elapsed 0m 0s (remain 0m 10s) \n"
     ]
    },
    {
     "name": "stderr",
     "output_type": "stream",
     "text": [
      "labels: [ 5 12  2 11  8]\n",
      "pred_labels: [ 5 10  2 11  8]\n",
      "Epoch 21 - avg_train_loss: 0.7435  lr: 3.4975e-04  time: 77s\n",
      "Epoch 21 - Score: 0.6489\n"
     ]
    },
    {
     "name": "stdout",
     "output_type": "stream",
     "text": [
      "EVAL: [16/17] Data 0.000 (0.023) Elapsed 0m 4s (remain 0m 0s) \n",
      "Epoch: [22][0/81] Data 0.479 (0.479) Elapsed 0m 1s (remain 1m 27s) Loss: 0.2160(0.2160) Grad Norm: 0.0000  LR: 3.0775e-04  \n",
      "Epoch: [22][80/81] Data 0.000 (0.006) Elapsed 1m 12s (remain 0m 0s) Loss: 0.1421(0.6321) Grad Norm: 4.5146  LR: 3.0775e-04  \n",
      "EVAL: [0/17] Data 0.363 (0.363) Elapsed 0m 0s (remain 0m 9s) \n"
     ]
    },
    {
     "name": "stderr",
     "output_type": "stream",
     "text": [
      "labels: [ 5 12  2 11  8]\n",
      "pred_labels: [ 5 12  2 11  8]\n",
      "Epoch 22 - avg_train_loss: 0.6321  lr: 3.0775e-04  time: 77s\n",
      "Epoch 22 - Score: 0.7023\n",
      "Epoch 22 - Save Best Score: 0.7023 Model\n"
     ]
    },
    {
     "name": "stdout",
     "output_type": "stream",
     "text": [
      "EVAL: [16/17] Data 0.000 (0.022) Elapsed 0m 4s (remain 0m 0s) \n",
      "Epoch: [23][0/81] Data 0.487 (0.487) Elapsed 0m 1s (remain 1m 30s) Loss: 0.0579(0.0579) Grad Norm: 0.0000  LR: 2.6732e-04  \n",
      "Epoch: [23][80/81] Data 0.000 (0.006) Elapsed 1m 12s (remain 0m 0s) Loss: 1.0534(0.7078) Grad Norm: 3.7728  LR: 2.6732e-04  \n",
      "EVAL: [0/17] Data 0.375 (0.375) Elapsed 0m 0s (remain 0m 9s) \n"
     ]
    },
    {
     "name": "stderr",
     "output_type": "stream",
     "text": [
      "labels: [ 5 12  2 11  8]\n",
      "pred_labels: [ 5 12  2 11  8]\n",
      "Epoch 23 - avg_train_loss: 0.7078  lr: 2.6732e-04  time: 77s\n",
      "Epoch 23 - Score: 0.6794\n"
     ]
    },
    {
     "name": "stdout",
     "output_type": "stream",
     "text": [
      "EVAL: [16/17] Data 0.000 (0.022) Elapsed 0m 4s (remain 0m 0s) \n",
      "Epoch: [24][0/81] Data 0.543 (0.543) Elapsed 0m 1s (remain 1m 32s) Loss: 0.0358(0.0358) Grad Norm: 0.0000  LR: 2.2880e-04  \n",
      "Epoch: [24][80/81] Data 0.000 (0.007) Elapsed 1m 12s (remain 0m 0s) Loss: 0.0304(0.5348) Grad Norm: 4.6109  LR: 2.2880e-04  \n",
      "EVAL: [0/17] Data 0.323 (0.323) Elapsed 0m 0s (remain 0m 9s) \n"
     ]
    },
    {
     "name": "stderr",
     "output_type": "stream",
     "text": [
      "labels: [ 5 12  2 11  8]\n",
      "pred_labels: [ 5 12  2 11  8]\n",
      "Epoch 24 - avg_train_loss: 0.5348  lr: 2.2880e-04  time: 77s\n",
      "Epoch 24 - Score: 0.6718\n"
     ]
    },
    {
     "name": "stdout",
     "output_type": "stream",
     "text": [
      "EVAL: [16/17] Data 0.000 (0.019) Elapsed 0m 4s (remain 0m 0s) \n",
      "Epoch: [25][0/81] Data 0.432 (0.432) Elapsed 0m 1s (remain 1m 31s) Loss: 0.0842(0.0842) Grad Norm: 0.0000  LR: 1.9248e-04  \n",
      "Epoch: [25][80/81] Data 0.000 (0.006) Elapsed 1m 12s (remain 0m 0s) Loss: 1.7244(0.5467) Grad Norm: 4.1788  LR: 1.9248e-04  \n",
      "EVAL: [0/17] Data 0.400 (0.400) Elapsed 0m 0s (remain 0m 10s) \n"
     ]
    },
    {
     "name": "stderr",
     "output_type": "stream",
     "text": [
      "labels: [ 5 12  2 11  8]\n",
      "pred_labels: [ 5 12  2 11  8]\n",
      "Epoch 25 - avg_train_loss: 0.5467  lr: 1.9248e-04  time: 77s\n",
      "Epoch 25 - Score: 0.6565\n"
     ]
    },
    {
     "name": "stdout",
     "output_type": "stream",
     "text": [
      "EVAL: [16/17] Data 0.000 (0.024) Elapsed 0m 4s (remain 0m 0s) \n",
      "Epoch: [26][0/81] Data 0.498 (0.498) Elapsed 0m 1s (remain 1m 29s) Loss: 0.0368(0.0368) Grad Norm: 0.0000  LR: 1.5867e-04  \n",
      "Epoch: [26][80/81] Data 0.000 (0.006) Elapsed 1m 12s (remain 0m 0s) Loss: 0.0201(0.6064) Grad Norm: 4.3353  LR: 1.5867e-04  \n",
      "EVAL: [0/17] Data 0.374 (0.374) Elapsed 0m 0s (remain 0m 9s) \n"
     ]
    },
    {
     "name": "stderr",
     "output_type": "stream",
     "text": [
      "labels: [ 5 12  2 11  8]\n",
      "pred_labels: [ 5 12  2 11  8]\n",
      "Epoch 26 - avg_train_loss: 0.6064  lr: 1.5867e-04  time: 77s\n",
      "Epoch 26 - Score: 0.6565\n"
     ]
    },
    {
     "name": "stdout",
     "output_type": "stream",
     "text": [
      "EVAL: [16/17] Data 0.000 (0.022) Elapsed 0m 4s (remain 0m 0s) \n",
      "Epoch: [27][0/81] Data 0.538 (0.538) Elapsed 0m 1s (remain 1m 32s) Loss: 1.4118(1.4118) Grad Norm: 0.0000  LR: 1.2762e-04  \n",
      "Epoch: [27][80/81] Data 0.000 (0.007) Elapsed 1m 12s (remain 0m 0s) Loss: 1.2959(0.7853) Grad Norm: 4.2396  LR: 1.2762e-04  \n",
      "EVAL: [0/17] Data 0.417 (0.417) Elapsed 0m 0s (remain 0m 10s) \n"
     ]
    },
    {
     "name": "stderr",
     "output_type": "stream",
     "text": [
      "labels: [ 5 12  2 11  8]\n",
      "pred_labels: [ 5 12  2 11  8]\n",
      "Epoch 27 - avg_train_loss: 0.7853  lr: 1.2762e-04  time: 77s\n",
      "Epoch 27 - Score: 0.6794\n"
     ]
    },
    {
     "name": "stdout",
     "output_type": "stream",
     "text": [
      "EVAL: [16/17] Data 0.000 (0.025) Elapsed 0m 4s (remain 0m 0s) \n",
      "Epoch: [28][0/81] Data 0.490 (0.490) Elapsed 0m 1s (remain 1m 34s) Loss: 1.0271(1.0271) Grad Norm: 0.0000  LR: 9.9584e-05  \n",
      "Epoch: [28][80/81] Data 0.000 (0.006) Elapsed 1m 12s (remain 0m 0s) Loss: 0.1325(0.5638) Grad Norm: 0.8657  LR: 9.9584e-05  \n",
      "EVAL: [0/17] Data 0.315 (0.315) Elapsed 0m 0s (remain 0m 9s) \n"
     ]
    },
    {
     "name": "stderr",
     "output_type": "stream",
     "text": [
      "labels: [ 5 12  2 11  8]\n",
      "pred_labels: [ 5 12  2 11  8]\n",
      "Epoch 28 - avg_train_loss: 0.5638  lr: 9.9584e-05  time: 77s\n",
      "Epoch 28 - Score: 0.6641\n"
     ]
    },
    {
     "name": "stdout",
     "output_type": "stream",
     "text": [
      "EVAL: [16/17] Data 0.000 (0.019) Elapsed 0m 4s (remain 0m 0s) \n",
      "Epoch: [29][0/81] Data 0.548 (0.548) Elapsed 0m 1s (remain 1m 36s) Loss: 0.4728(0.4728) Grad Norm: 0.0000  LR: 7.4783e-05  \n",
      "Epoch: [29][80/81] Data 0.000 (0.007) Elapsed 1m 12s (remain 0m 0s) Loss: 1.2537(0.6769) Grad Norm: 0.9001  LR: 7.4783e-05  \n",
      "EVAL: [0/17] Data 0.366 (0.366) Elapsed 0m 0s (remain 0m 9s) \n"
     ]
    },
    {
     "name": "stderr",
     "output_type": "stream",
     "text": [
      "labels: [ 5 12  2 11  8]\n",
      "pred_labels: [ 5 12  2 11  8]\n",
      "Epoch 29 - avg_train_loss: 0.6769  lr: 7.4783e-05  time: 77s\n",
      "Epoch 29 - Score: 0.6794\n"
     ]
    },
    {
     "name": "stdout",
     "output_type": "stream",
     "text": [
      "EVAL: [16/17] Data 0.000 (0.022) Elapsed 0m 4s (remain 0m 0s) \n",
      "Epoch: [30][0/81] Data 0.608 (0.608) Elapsed 0m 1s (remain 1m 37s) Loss: 1.4129(1.4129) Grad Norm: 0.0000  LR: 5.3404e-05  \n",
      "Epoch: [30][80/81] Data 0.000 (0.008) Elapsed 1m 12s (remain 0m 0s) Loss: 0.0371(0.6225) Grad Norm: 2.1625  LR: 5.3404e-05  \n",
      "EVAL: [0/17] Data 0.422 (0.422) Elapsed 0m 0s (remain 0m 10s) \n"
     ]
    },
    {
     "name": "stderr",
     "output_type": "stream",
     "text": [
      "labels: [ 5 12  2 11  8]\n",
      "pred_labels: [ 5 12  2 11  8]\n",
      "Epoch 30 - avg_train_loss: 0.6225  lr: 5.3404e-05  time: 78s\n",
      "Epoch 30 - Score: 0.6565\n"
     ]
    },
    {
     "name": "stdout",
     "output_type": "stream",
     "text": [
      "EVAL: [16/17] Data 0.000 (0.025) Elapsed 0m 4s (remain 0m 0s) \n",
      "Epoch: [31][0/81] Data 0.458 (0.458) Elapsed 0m 1s (remain 1m 32s) Loss: 0.0319(0.0319) Grad Norm: 0.0000  LR: 3.5607e-05  \n",
      "Epoch: [31][80/81] Data 0.000 (0.006) Elapsed 1m 12s (remain 0m 0s) Loss: 0.0260(0.0394) Grad Norm: 0.2437  LR: 3.5607e-05  \n",
      "EVAL: [0/17] Data 0.380 (0.380) Elapsed 0m 0s (remain 0m 9s) \n"
     ]
    },
    {
     "name": "stderr",
     "output_type": "stream",
     "text": [
      "labels: [ 5 12  2 11  8]\n",
      "pred_labels: [ 5 12  2 11  8]\n",
      "Epoch 31 - avg_train_loss: 0.0394  lr: 3.5607e-05  time: 77s\n",
      "Epoch 31 - Score: 0.6718\n"
     ]
    },
    {
     "name": "stdout",
     "output_type": "stream",
     "text": [
      "EVAL: [16/17] Data 0.000 (0.023) Elapsed 0m 4s (remain 0m 0s) \n",
      "Epoch: [32][0/81] Data 0.501 (0.501) Elapsed 0m 1s (remain 1m 28s) Loss: 0.0226(0.0226) Grad Norm: 0.0000  LR: 2.1508e-05  \n",
      "Epoch: [32][80/81] Data 0.000 (0.006) Elapsed 1m 12s (remain 0m 0s) Loss: 0.0496(0.0399) Grad Norm: 0.7106  LR: 2.1508e-05  \n",
      "EVAL: [0/17] Data 0.405 (0.405) Elapsed 0m 0s (remain 0m 10s) \n"
     ]
    },
    {
     "name": "stderr",
     "output_type": "stream",
     "text": [
      "labels: [ 5 12  2 11  8]\n",
      "pred_labels: [ 5 12  2 11  8]\n",
      "Epoch 32 - avg_train_loss: 0.0399  lr: 2.1508e-05  time: 77s\n",
      "Epoch 32 - Score: 0.6718\n"
     ]
    },
    {
     "name": "stdout",
     "output_type": "stream",
     "text": [
      "EVAL: [16/17] Data 0.000 (0.024) Elapsed 0m 4s (remain 0m 0s) \n",
      "Epoch: [33][0/81] Data 0.484 (0.484) Elapsed 0m 1s (remain 1m 33s) Loss: 0.0124(0.0124) Grad Norm: 0.0000  LR: 1.1173e-05  \n",
      "Epoch: [33][80/81] Data 0.000 (0.006) Elapsed 1m 12s (remain 0m 0s) Loss: 0.0138(0.0345) Grad Norm: 1.9779  LR: 1.1173e-05  \n",
      "EVAL: [0/17] Data 0.373 (0.373) Elapsed 0m 0s (remain 0m 10s) \n"
     ]
    },
    {
     "name": "stderr",
     "output_type": "stream",
     "text": [
      "labels: [ 5 12  2 11  8]\n",
      "pred_labels: [ 5 12  2 11  8]\n",
      "Epoch 33 - avg_train_loss: 0.0345  lr: 1.1173e-05  time: 77s\n",
      "Epoch 33 - Score: 0.6412\n"
     ]
    },
    {
     "name": "stdout",
     "output_type": "stream",
     "text": [
      "EVAL: [16/17] Data 0.000 (0.022) Elapsed 0m 4s (remain 0m 0s) \n",
      "Epoch: [34][0/81] Data 0.479 (0.479) Elapsed 0m 1s (remain 1m 29s) Loss: 0.0246(0.0246) Grad Norm: 0.0000  LR: 4.5796e-06  \n",
      "Epoch: [34][80/81] Data 0.000 (0.006) Elapsed 1m 12s (remain 0m 0s) Loss: 0.0345(0.0359) Grad Norm: 0.5892  LR: 4.5796e-06  \n",
      "EVAL: [0/17] Data 0.320 (0.320) Elapsed 0m 0s (remain 0m 9s) \n"
     ]
    },
    {
     "name": "stderr",
     "output_type": "stream",
     "text": [
      "labels: [ 5 12  2 11  8]\n",
      "pred_labels: [ 5 12  2 11  8]\n",
      "Epoch 34 - avg_train_loss: 0.0359  lr: 4.5796e-06  time: 77s\n",
      "Epoch 34 - Score: 0.6641\n"
     ]
    },
    {
     "name": "stdout",
     "output_type": "stream",
     "text": [
      "EVAL: [16/17] Data 0.000 (0.019) Elapsed 0m 4s (remain 0m 0s) \n",
      "Epoch: [35][0/81] Data 0.447 (0.447) Elapsed 0m 1s (remain 1m 26s) Loss: 0.0157(0.0157) Grad Norm: 0.0000  LR: 1.5037e-06  \n",
      "Epoch: [35][80/81] Data 0.000 (0.006) Elapsed 1m 12s (remain 0m 0s) Loss: 0.0154(0.0397) Grad Norm: 0.1432  LR: 1.5037e-06  \n",
      "EVAL: [0/17] Data 0.403 (0.403) Elapsed 0m 0s (remain 0m 10s) \n"
     ]
    },
    {
     "name": "stderr",
     "output_type": "stream",
     "text": [
      "labels: [ 5 12  2 11  8]\n",
      "pred_labels: [ 5 12  2 11  8]\n",
      "Epoch 35 - avg_train_loss: 0.0397  lr: 1.5037e-06  time: 77s\n",
      "Epoch 35 - Score: 0.6489\n",
      "==================== fold: 3, seed: 0 training ====================\n"
     ]
    },
    {
     "name": "stdout",
     "output_type": "stream",
     "text": [
      "EVAL: [16/17] Data 0.000 (0.024) Elapsed 0m 4s (remain 0m 0s) \n",
      "Epoch: [1][0/81] Data 0.543 (0.543) Elapsed 0m 1s (remain 1m 31s) Loss: 2.6509(2.6509) Grad Norm: 0.0000  LR: 1.0000e-03  \n",
      "Epoch: [1][80/81] Data 0.000 (0.007) Elapsed 1m 13s (remain 0m 0s) Loss: 2.5697(2.5172) Grad Norm: 6.9284  LR: 1.0000e-03  \n",
      "EVAL: [0/17] Data 0.408 (0.408) Elapsed 0m 0s (remain 0m 10s) \n"
     ]
    },
    {
     "name": "stderr",
     "output_type": "stream",
     "text": [
      "labels: [2 7 2 3 0]\n",
      "pred_labels: [9 2 2 2 9]\n",
      "Epoch 1 - avg_train_loss: 2.5172  lr: 1.0000e-03  time: 78s\n",
      "Epoch 1 - Score: 0.2748\n",
      "Epoch 1 - Save Best Score: 0.2748 Model\n"
     ]
    },
    {
     "name": "stdout",
     "output_type": "stream",
     "text": [
      "EVAL: [16/17] Data 0.000 (0.024) Elapsed 0m 4s (remain 0m 0s) \n",
      "Epoch: [2][0/81] Data 0.627 (0.627) Elapsed 0m 1s (remain 1m 41s) Loss: 2.0642(2.0642) Grad Norm: 0.0000  LR: 9.9598e-04  \n",
      "Epoch: [2][80/81] Data 0.000 (0.008) Elapsed 1m 13s (remain 0m 0s) Loss: 2.1169(2.1892) Grad Norm: 8.0269  LR: 9.9598e-04  \n",
      "EVAL: [0/17] Data 0.345 (0.345) Elapsed 0m 0s (remain 0m 9s) \n"
     ]
    },
    {
     "name": "stderr",
     "output_type": "stream",
     "text": [
      "labels: [2 7 2 3 0]\n",
      "pred_labels: [5 2 2 2 2]\n",
      "Epoch 2 - avg_train_loss: 2.1892  lr: 9.9598e-04  time: 78s\n",
      "Epoch 2 - Score: 0.3588\n",
      "Epoch 2 - Save Best Score: 0.3588 Model\n"
     ]
    },
    {
     "name": "stdout",
     "output_type": "stream",
     "text": [
      "EVAL: [16/17] Data 0.000 (0.021) Elapsed 0m 4s (remain 0m 0s) \n",
      "Epoch: [3][0/81] Data 0.493 (0.493) Elapsed 0m 1s (remain 1m 29s) Loss: 2.0202(2.0202) Grad Norm: 0.0000  LR: 9.8599e-04  \n",
      "Epoch: [3][80/81] Data 0.000 (0.006) Elapsed 1m 13s (remain 0m 0s) Loss: 2.0516(1.9114) Grad Norm: 6.7583  LR: 9.8599e-04  \n",
      "EVAL: [0/17] Data 0.340 (0.340) Elapsed 0m 0s (remain 0m 9s) \n"
     ]
    },
    {
     "name": "stderr",
     "output_type": "stream",
     "text": [
      "labels: [2 7 2 3 0]\n",
      "pred_labels: [5 7 2 2 9]\n",
      "Epoch 3 - avg_train_loss: 1.9114  lr: 9.8599e-04  time: 78s\n",
      "Epoch 3 - Score: 0.4275\n",
      "Epoch 3 - Save Best Score: 0.4275 Model\n"
     ]
    },
    {
     "name": "stdout",
     "output_type": "stream",
     "text": [
      "EVAL: [16/17] Data 0.000 (0.020) Elapsed 0m 4s (remain 0m 0s) \n",
      "Epoch: [4][0/81] Data 0.549 (0.549) Elapsed 0m 1s (remain 1m 34s) Loss: 1.9624(1.9624) Grad Norm: 0.0000  LR: 9.7213e-04  \n",
      "Epoch: [4][80/81] Data 0.000 (0.007) Elapsed 1m 13s (remain 0m 0s) Loss: 2.2883(1.6674) Grad Norm: 6.9112  LR: 9.7213e-04  \n",
      "EVAL: [0/17] Data 0.344 (0.344) Elapsed 0m 0s (remain 0m 9s) \n"
     ]
    },
    {
     "name": "stderr",
     "output_type": "stream",
     "text": [
      "labels: [2 7 2 3 0]\n",
      "pred_labels: [5 7 2 2 2]\n",
      "Epoch 4 - avg_train_loss: 1.6674  lr: 9.7213e-04  time: 78s\n",
      "Epoch 4 - Score: 0.5115\n",
      "Epoch 4 - Save Best Score: 0.5115 Model\n"
     ]
    },
    {
     "name": "stdout",
     "output_type": "stream",
     "text": [
      "EVAL: [16/17] Data 0.000 (0.021) Elapsed 0m 4s (remain 0m 0s) \n",
      "Epoch: [5][0/81] Data 0.445 (0.445) Elapsed 0m 1s (remain 1m 33s) Loss: 0.4782(0.4782) Grad Norm: 0.0000  LR: 9.5449e-04  \n",
      "Epoch: [5][80/81] Data 0.000 (0.006) Elapsed 1m 13s (remain 0m 0s) Loss: 0.9270(1.4844) Grad Norm: 7.8584  LR: 9.5449e-04  \n",
      "EVAL: [0/17] Data 0.306 (0.306) Elapsed 0m 0s (remain 0m 9s) \n"
     ]
    },
    {
     "name": "stderr",
     "output_type": "stream",
     "text": [
      "labels: [2 7 2 3 0]\n",
      "pred_labels: [5 7 2 0 0]\n",
      "Epoch 5 - avg_train_loss: 1.4844  lr: 9.5449e-04  time: 78s\n",
      "Epoch 5 - Score: 0.5649\n",
      "Epoch 5 - Save Best Score: 0.5649 Model\n"
     ]
    },
    {
     "name": "stdout",
     "output_type": "stream",
     "text": [
      "EVAL: [16/17] Data 0.000 (0.018) Elapsed 0m 4s (remain 0m 0s) \n",
      "Epoch: [6][0/81] Data 0.506 (0.506) Elapsed 0m 1s (remain 1m 33s) Loss: 2.0117(2.0117) Grad Norm: 0.0000  LR: 9.3324e-04  \n",
      "Epoch: [6][80/81] Data 0.000 (0.006) Elapsed 1m 13s (remain 0m 0s) Loss: 0.5580(1.3899) Grad Norm: 6.0042  LR: 9.3324e-04  \n",
      "EVAL: [0/17] Data 0.380 (0.380) Elapsed 0m 0s (remain 0m 9s) \n"
     ]
    },
    {
     "name": "stderr",
     "output_type": "stream",
     "text": [
      "labels: [2 7 2 3 0]\n",
      "pred_labels: [5 7 2 2 2]\n",
      "Epoch 6 - avg_train_loss: 1.3899  lr: 9.3324e-04  time: 78s\n",
      "Epoch 6 - Score: 0.5115\n"
     ]
    },
    {
     "name": "stdout",
     "output_type": "stream",
     "text": [
      "EVAL: [16/17] Data 0.000 (0.023) Elapsed 0m 4s (remain 0m 0s) \n",
      "Epoch: [7][0/81] Data 0.434 (0.434) Elapsed 0m 1s (remain 1m 31s) Loss: 1.0259(1.0259) Grad Norm: 0.0000  LR: 9.0853e-04  \n",
      "Epoch: [7][80/81] Data 0.000 (0.006) Elapsed 1m 13s (remain 0m 0s) Loss: 1.5798(1.1677) Grad Norm: 6.8554  LR: 9.0853e-04  \n",
      "EVAL: [0/17] Data 0.373 (0.373) Elapsed 0m 0s (remain 0m 9s) \n"
     ]
    },
    {
     "name": "stderr",
     "output_type": "stream",
     "text": [
      "labels: [2 7 2 3 0]\n",
      "pred_labels: [5 4 2 4 2]\n",
      "Epoch 7 - avg_train_loss: 1.1677  lr: 9.0853e-04  time: 78s\n",
      "Epoch 7 - Score: 0.5191\n"
     ]
    },
    {
     "name": "stdout",
     "output_type": "stream",
     "text": [
      "EVAL: [16/17] Data 0.000 (0.022) Elapsed 0m 4s (remain 0m 0s) \n",
      "Epoch: [8][0/81] Data 0.457 (0.457) Elapsed 0m 1s (remain 1m 26s) Loss: 1.6154(1.6154) Grad Norm: 0.0000  LR: 8.8057e-04  \n",
      "Epoch: [8][80/81] Data 0.000 (0.006) Elapsed 1m 13s (remain 0m 0s) Loss: 0.8091(1.0316) Grad Norm: 9.3110  LR: 8.8057e-04  \n",
      "EVAL: [0/17] Data 0.395 (0.395) Elapsed 0m 0s (remain 0m 10s) \n"
     ]
    },
    {
     "name": "stderr",
     "output_type": "stream",
     "text": [
      "labels: [2 7 2 3 0]\n",
      "pred_labels: [5 7 2 4 0]\n",
      "Epoch 8 - avg_train_loss: 1.0316  lr: 8.8057e-04  time: 78s\n",
      "Epoch 8 - Score: 0.5725\n",
      "Epoch 8 - Save Best Score: 0.5725 Model\n"
     ]
    },
    {
     "name": "stdout",
     "output_type": "stream",
     "text": [
      "EVAL: [16/17] Data 0.000 (0.023) Elapsed 0m 4s (remain 0m 0s) \n",
      "Epoch: [9][0/81] Data 0.388 (0.388) Elapsed 0m 1s (remain 1m 28s) Loss: 0.7101(0.7101) Grad Norm: 0.0000  LR: 8.4958e-04  \n",
      "Epoch: [9][80/81] Data 0.000 (0.005) Elapsed 1m 13s (remain 0m 0s) Loss: 0.4842(1.1386) Grad Norm: 7.2003  LR: 8.4958e-04  \n",
      "EVAL: [0/17] Data 0.301 (0.301) Elapsed 0m 0s (remain 0m 8s) \n"
     ]
    },
    {
     "name": "stderr",
     "output_type": "stream",
     "text": [
      "labels: [2 7 2 3 0]\n",
      "pred_labels: [5 7 2 4 0]\n",
      "Epoch 9 - avg_train_loss: 1.1386  lr: 8.4958e-04  time: 78s\n",
      "Epoch 9 - Score: 0.5649\n"
     ]
    },
    {
     "name": "stdout",
     "output_type": "stream",
     "text": [
      "EVAL: [16/17] Data 0.000 (0.018) Elapsed 0m 4s (remain 0m 0s) \n",
      "Epoch: [10][0/81] Data 0.494 (0.494) Elapsed 0m 1s (remain 1m 28s) Loss: 1.4594(1.4594) Grad Norm: 0.0000  LR: 8.1581e-04  \n",
      "Epoch: [10][80/81] Data 0.000 (0.006) Elapsed 1m 13s (remain 0m 0s) Loss: 1.2504(1.0309) Grad Norm: 4.9259  LR: 8.1581e-04  \n",
      "EVAL: [0/17] Data 0.296 (0.296) Elapsed 0m 0s (remain 0m 8s) \n"
     ]
    },
    {
     "name": "stderr",
     "output_type": "stream",
     "text": [
      "labels: [2 7 2 3 0]\n",
      "pred_labels: [5 7 2 3 0]\n",
      "Epoch 10 - avg_train_loss: 1.0309  lr: 8.1581e-04  time: 78s\n",
      "Epoch 10 - Score: 0.5878\n",
      "Epoch 10 - Save Best Score: 0.5878 Model\n"
     ]
    },
    {
     "name": "stdout",
     "output_type": "stream",
     "text": [
      "EVAL: [16/17] Data 0.000 (0.018) Elapsed 0m 4s (remain 0m 0s) \n",
      "Epoch: [11][0/81] Data 0.499 (0.499) Elapsed 0m 1s (remain 1m 33s) Loss: 0.9298(0.9298) Grad Norm: 0.0000  LR: 7.7953e-04  \n",
      "Epoch: [11][80/81] Data 0.000 (0.006) Elapsed 1m 13s (remain 0m 0s) Loss: 0.6815(0.9076) Grad Norm: 6.4978  LR: 7.7953e-04  \n",
      "EVAL: [0/17] Data 0.274 (0.274) Elapsed 0m 0s (remain 0m 8s) \n"
     ]
    },
    {
     "name": "stderr",
     "output_type": "stream",
     "text": [
      "labels: [2 7 2 3 0]\n",
      "pred_labels: [5 7 2 4 0]\n",
      "Epoch 11 - avg_train_loss: 0.9076  lr: 7.7953e-04  time: 78s\n",
      "Epoch 11 - Score: 0.5191\n"
     ]
    },
    {
     "name": "stdout",
     "output_type": "stream",
     "text": [
      "EVAL: [16/17] Data 0.000 (0.016) Elapsed 0m 4s (remain 0m 0s) \n",
      "Epoch: [12][0/81] Data 0.472 (0.472) Elapsed 0m 1s (remain 1m 28s) Loss: 2.2307(2.2307) Grad Norm: 0.0000  LR: 7.4103e-04  \n",
      "Epoch: [12][80/81] Data 0.000 (0.006) Elapsed 1m 13s (remain 0m 0s) Loss: 0.2966(0.9285) Grad Norm: 5.3633  LR: 7.4103e-04  \n",
      "EVAL: [0/17] Data 0.342 (0.342) Elapsed 0m 0s (remain 0m 9s) \n"
     ]
    },
    {
     "name": "stderr",
     "output_type": "stream",
     "text": [
      "labels: [2 7 2 3 0]\n",
      "pred_labels: [5 7 2 0 0]\n",
      "Epoch 12 - avg_train_loss: 0.9285  lr: 7.4103e-04  time: 78s\n",
      "Epoch 12 - Score: 0.5802\n"
     ]
    },
    {
     "name": "stdout",
     "output_type": "stream",
     "text": [
      "EVAL: [16/17] Data 0.000 (0.020) Elapsed 0m 4s (remain 0m 0s) \n",
      "Epoch: [13][0/81] Data 0.470 (0.470) Elapsed 0m 1s (remain 1m 30s) Loss: 1.3664(1.3664) Grad Norm: 0.0000  LR: 7.0063e-04  \n",
      "Epoch: [13][80/81] Data 0.000 (0.006) Elapsed 1m 12s (remain 0m 0s) Loss: 0.1440(0.8345) Grad Norm: 3.6708  LR: 7.0063e-04  \n",
      "EVAL: [0/17] Data 0.330 (0.330) Elapsed 0m 0s (remain 0m 9s) \n"
     ]
    },
    {
     "name": "stderr",
     "output_type": "stream",
     "text": [
      "labels: [2 7 2 3 0]\n",
      "pred_labels: [5 7 2 2 0]\n",
      "Epoch 13 - avg_train_loss: 0.8345  lr: 7.0063e-04  time: 77s\n",
      "Epoch 13 - Score: 0.6107\n",
      "Epoch 13 - Save Best Score: 0.6107 Model\n"
     ]
    },
    {
     "name": "stdout",
     "output_type": "stream",
     "text": [
      "EVAL: [16/17] Data 0.000 (0.020) Elapsed 0m 4s (remain 0m 0s) \n",
      "Epoch: [14][0/81] Data 0.523 (0.523) Elapsed 0m 1s (remain 1m 33s) Loss: 0.4249(0.4249) Grad Norm: 0.0000  LR: 6.5865e-04  \n",
      "Epoch: [14][80/81] Data 0.000 (0.007) Elapsed 1m 12s (remain 0m 0s) Loss: 1.3488(0.9176) Grad Norm: 2.9530  LR: 6.5865e-04  \n",
      "EVAL: [0/17] Data 0.302 (0.302) Elapsed 0m 0s (remain 0m 8s) \n"
     ]
    },
    {
     "name": "stderr",
     "output_type": "stream",
     "text": [
      "labels: [2 7 2 3 0]\n",
      "pred_labels: [5 7 2 4 2]\n",
      "Epoch 14 - avg_train_loss: 0.9176  lr: 6.5865e-04  time: 77s\n",
      "Epoch 14 - Score: 0.5954\n"
     ]
    },
    {
     "name": "stdout",
     "output_type": "stream",
     "text": [
      "EVAL: [16/17] Data 0.000 (0.018) Elapsed 0m 4s (remain 0m 0s) \n",
      "Epoch: [15][0/81] Data 0.429 (0.429) Elapsed 0m 1s (remain 1m 27s) Loss: 0.6014(0.6014) Grad Norm: 0.0000  LR: 6.1542e-04  \n",
      "Epoch: [15][80/81] Data 0.000 (0.006) Elapsed 1m 12s (remain 0m 0s) Loss: 0.4137(0.8118) Grad Norm: 5.1720  LR: 6.1542e-04  \n",
      "EVAL: [0/17] Data 0.326 (0.326) Elapsed 0m 0s (remain 0m 8s) \n"
     ]
    },
    {
     "name": "stderr",
     "output_type": "stream",
     "text": [
      "labels: [2 7 2 3 0]\n",
      "pred_labels: [9 7 2 3 2]\n",
      "Epoch 15 - avg_train_loss: 0.8118  lr: 6.1542e-04  time: 77s\n",
      "Epoch 15 - Score: 0.6031\n"
     ]
    },
    {
     "name": "stdout",
     "output_type": "stream",
     "text": [
      "EVAL: [16/17] Data 0.000 (0.019) Elapsed 0m 4s (remain 0m 0s) \n",
      "Epoch: [16][0/81] Data 0.439 (0.439) Elapsed 0m 1s (remain 1m 24s) Loss: 0.0899(0.0899) Grad Norm: 0.0000  LR: 5.7130e-04  \n",
      "Epoch: [16][80/81] Data 0.000 (0.006) Elapsed 1m 12s (remain 0m 0s) Loss: 1.2008(0.7546) Grad Norm: 6.6121  LR: 5.7130e-04  \n",
      "EVAL: [0/17] Data 0.347 (0.347) Elapsed 0m 0s (remain 0m 9s) \n"
     ]
    },
    {
     "name": "stderr",
     "output_type": "stream",
     "text": [
      "labels: [2 7 2 3 0]\n",
      "pred_labels: [5 4 2 3 2]\n",
      "Epoch 16 - avg_train_loss: 0.7546  lr: 5.7130e-04  time: 77s\n",
      "Epoch 16 - Score: 0.5878\n"
     ]
    },
    {
     "name": "stdout",
     "output_type": "stream",
     "text": [
      "EVAL: [16/17] Data 0.000 (0.021) Elapsed 0m 4s (remain 0m 0s) \n",
      "Epoch: [17][0/81] Data 0.479 (0.479) Elapsed 0m 1s (remain 1m 28s) Loss: 0.2771(0.2771) Grad Norm: 0.0000  LR: 5.2663e-04  \n",
      "Epoch: [17][80/81] Data 0.000 (0.006) Elapsed 1m 12s (remain 0m 0s) Loss: 0.2490(0.8760) Grad Norm: 4.2165  LR: 5.2663e-04  \n",
      "EVAL: [0/17] Data 0.320 (0.320) Elapsed 0m 0s (remain 0m 8s) \n"
     ]
    },
    {
     "name": "stderr",
     "output_type": "stream",
     "text": [
      "labels: [2 7 2 3 0]\n",
      "pred_labels: [9 7 2 4 0]\n",
      "Epoch 17 - avg_train_loss: 0.8760  lr: 5.2663e-04  time: 77s\n",
      "Epoch 17 - Score: 0.5649\n"
     ]
    },
    {
     "name": "stdout",
     "output_type": "stream",
     "text": [
      "EVAL: [16/17] Data 0.000 (0.019) Elapsed 0m 4s (remain 0m 0s) \n",
      "Epoch: [18][0/81] Data 0.436 (0.436) Elapsed 0m 1s (remain 1m 29s) Loss: 1.1053(1.1053) Grad Norm: 0.0000  LR: 4.8179e-04  \n",
      "Epoch: [18][80/81] Data 0.000 (0.006) Elapsed 1m 12s (remain 0m 0s) Loss: 0.1182(0.8135) Grad Norm: 2.5061  LR: 4.8179e-04  \n",
      "EVAL: [0/17] Data 0.291 (0.291) Elapsed 0m 0s (remain 0m 8s) \n"
     ]
    },
    {
     "name": "stderr",
     "output_type": "stream",
     "text": [
      "labels: [2 7 2 3 0]\n",
      "pred_labels: [5 7 2 4 9]\n",
      "Epoch 18 - avg_train_loss: 0.8135  lr: 4.8179e-04  time: 77s\n",
      "Epoch 18 - Score: 0.6489\n",
      "Epoch 18 - Save Best Score: 0.6489 Model\n"
     ]
    },
    {
     "name": "stdout",
     "output_type": "stream",
     "text": [
      "EVAL: [16/17] Data 0.000 (0.017) Elapsed 0m 4s (remain 0m 0s) \n",
      "Epoch: [19][0/81] Data 0.473 (0.473) Elapsed 0m 1s (remain 1m 31s) Loss: 0.0543(0.0543) Grad Norm: 0.0000  LR: 4.3712e-04  \n",
      "Epoch: [19][80/81] Data 0.000 (0.006) Elapsed 1m 12s (remain 0m 0s) Loss: 0.0378(0.8271) Grad Norm: 4.1910  LR: 4.3712e-04  \n",
      "EVAL: [0/17] Data 0.366 (0.366) Elapsed 0m 0s (remain 0m 9s) \n"
     ]
    },
    {
     "name": "stderr",
     "output_type": "stream",
     "text": [
      "labels: [2 7 2 3 0]\n",
      "pred_labels: [5 7 2 4 0]\n",
      "Epoch 19 - avg_train_loss: 0.8271  lr: 4.3712e-04  time: 77s\n",
      "Epoch 19 - Score: 0.6489\n"
     ]
    },
    {
     "name": "stdout",
     "output_type": "stream",
     "text": [
      "EVAL: [16/17] Data 0.000 (0.022) Elapsed 0m 4s (remain 0m 0s) \n",
      "Epoch: [20][0/81] Data 0.445 (0.445) Elapsed 0m 1s (remain 1m 26s) Loss: 0.2210(0.2210) Grad Norm: 0.0000  LR: 3.9299e-04  \n",
      "Epoch: [20][80/81] Data 0.000 (0.006) Elapsed 1m 12s (remain 0m 0s) Loss: 1.1162(0.6665) Grad Norm: 3.0432  LR: 3.9299e-04  \n",
      "EVAL: [0/17] Data 0.354 (0.354) Elapsed 0m 0s (remain 0m 9s) \n"
     ]
    },
    {
     "name": "stderr",
     "output_type": "stream",
     "text": [
      "labels: [2 7 2 3 0]\n",
      "pred_labels: [5 7 2 4 0]\n",
      "Epoch 20 - avg_train_loss: 0.6665  lr: 3.9299e-04  time: 77s\n",
      "Epoch 20 - Score: 0.6641\n",
      "Epoch 20 - Save Best Score: 0.6641 Model\n"
     ]
    },
    {
     "name": "stdout",
     "output_type": "stream",
     "text": [
      "EVAL: [16/17] Data 0.000 (0.021) Elapsed 0m 4s (remain 0m 0s) \n",
      "Epoch: [21][0/81] Data 0.523 (0.523) Elapsed 0m 1s (remain 1m 31s) Loss: 1.2821(1.2821) Grad Norm: 0.0000  LR: 3.4975e-04  \n",
      "Epoch: [21][80/81] Data 0.000 (0.007) Elapsed 1m 12s (remain 0m 0s) Loss: 1.5891(0.7501) Grad Norm: 3.8819  LR: 3.4975e-04  \n",
      "EVAL: [0/17] Data 0.288 (0.288) Elapsed 0m 0s (remain 0m 8s) \n"
     ]
    },
    {
     "name": "stderr",
     "output_type": "stream",
     "text": [
      "labels: [2 7 2 3 0]\n",
      "pred_labels: [5 7 2 0 0]\n",
      "Epoch 21 - avg_train_loss: 0.7501  lr: 3.4975e-04  time: 77s\n",
      "Epoch 21 - Score: 0.6565\n"
     ]
    },
    {
     "name": "stdout",
     "output_type": "stream",
     "text": [
      "EVAL: [16/17] Data 0.000 (0.017) Elapsed 0m 4s (remain 0m 0s) \n",
      "Epoch: [22][0/81] Data 0.422 (0.422) Elapsed 0m 1s (remain 1m 24s) Loss: 0.7741(0.7741) Grad Norm: 0.0000  LR: 3.0775e-04  \n",
      "Epoch: [22][80/81] Data 0.000 (0.005) Elapsed 1m 12s (remain 0m 0s) Loss: 0.0568(0.6284) Grad Norm: 0.7959  LR: 3.0775e-04  \n",
      "EVAL: [0/17] Data 0.313 (0.313) Elapsed 0m 0s (remain 0m 9s) \n"
     ]
    },
    {
     "name": "stderr",
     "output_type": "stream",
     "text": [
      "labels: [2 7 2 3 0]\n",
      "pred_labels: [5 7 2 4 0]\n",
      "Epoch 22 - avg_train_loss: 0.6284  lr: 3.0775e-04  time: 77s\n",
      "Epoch 22 - Score: 0.6183\n"
     ]
    },
    {
     "name": "stdout",
     "output_type": "stream",
     "text": [
      "EVAL: [16/17] Data 0.000 (0.019) Elapsed 0m 4s (remain 0m 0s) \n",
      "Epoch: [23][0/81] Data 0.453 (0.453) Elapsed 0m 1s (remain 1m 27s) Loss: 0.5889(0.5889) Grad Norm: 0.0000  LR: 2.6732e-04  \n",
      "Epoch: [23][80/81] Data 0.000 (0.006) Elapsed 1m 12s (remain 0m 0s) Loss: 0.0326(0.6077) Grad Norm: 3.3461  LR: 2.6732e-04  \n",
      "EVAL: [0/17] Data 0.326 (0.326) Elapsed 0m 0s (remain 0m 9s) \n"
     ]
    },
    {
     "name": "stderr",
     "output_type": "stream",
     "text": [
      "labels: [2 7 2 3 0]\n",
      "pred_labels: [5 7 2 4 0]\n",
      "Epoch 23 - avg_train_loss: 0.6077  lr: 2.6732e-04  time: 77s\n",
      "Epoch 23 - Score: 0.6183\n"
     ]
    },
    {
     "name": "stdout",
     "output_type": "stream",
     "text": [
      "EVAL: [16/17] Data 0.000 (0.019) Elapsed 0m 4s (remain 0m 0s) \n",
      "Epoch: [24][0/81] Data 0.428 (0.428) Elapsed 0m 1s (remain 1m 25s) Loss: 0.0519(0.0519) Grad Norm: 0.0000  LR: 2.2880e-04  \n",
      "Epoch: [24][80/81] Data 0.000 (0.006) Elapsed 1m 12s (remain 0m 0s) Loss: 0.9893(0.6281) Grad Norm: 4.0426  LR: 2.2880e-04  \n",
      "EVAL: [0/17] Data 0.267 (0.267) Elapsed 0m 0s (remain 0m 8s) \n"
     ]
    },
    {
     "name": "stderr",
     "output_type": "stream",
     "text": [
      "labels: [2 7 2 3 0]\n",
      "pred_labels: [5 7 2 4 0]\n",
      "Epoch 24 - avg_train_loss: 0.6281  lr: 2.2880e-04  time: 77s\n",
      "Epoch 24 - Score: 0.6947\n",
      "Epoch 24 - Save Best Score: 0.6947 Model\n"
     ]
    },
    {
     "name": "stdout",
     "output_type": "stream",
     "text": [
      "EVAL: [16/17] Data 0.000 (0.016) Elapsed 0m 4s (remain 0m 0s) \n",
      "Epoch: [25][0/81] Data 0.535 (0.535) Elapsed 0m 1s (remain 1m 36s) Loss: 0.0138(0.0138) Grad Norm: 0.0000  LR: 1.9248e-04  \n",
      "Epoch: [25][80/81] Data 0.000 (0.007) Elapsed 1m 12s (remain 0m 0s) Loss: 1.7591(0.6318) Grad Norm: 2.8138  LR: 1.9248e-04  \n",
      "EVAL: [0/17] Data 0.356 (0.356) Elapsed 0m 0s (remain 0m 9s) \n"
     ]
    },
    {
     "name": "stderr",
     "output_type": "stream",
     "text": [
      "labels: [2 7 2 3 0]\n",
      "pred_labels: [5 7 2 4 0]\n",
      "Epoch 25 - avg_train_loss: 0.6318  lr: 1.9248e-04  time: 77s\n",
      "Epoch 25 - Score: 0.6183\n"
     ]
    },
    {
     "name": "stdout",
     "output_type": "stream",
     "text": [
      "EVAL: [16/17] Data 0.000 (0.021) Elapsed 0m 4s (remain 0m 0s) \n",
      "Epoch: [26][0/81] Data 0.440 (0.440) Elapsed 0m 1s (remain 1m 28s) Loss: 0.1533(0.1533) Grad Norm: 0.0000  LR: 1.5867e-04  \n",
      "Epoch: [26][80/81] Data 0.000 (0.006) Elapsed 1m 12s (remain 0m 0s) Loss: 0.0392(0.6916) Grad Norm: 4.0984  LR: 1.5867e-04  \n",
      "EVAL: [0/17] Data 0.367 (0.367) Elapsed 0m 0s (remain 0m 9s) \n"
     ]
    },
    {
     "name": "stderr",
     "output_type": "stream",
     "text": [
      "labels: [2 7 2 3 0]\n",
      "pred_labels: [12  7  2  4  0]\n",
      "Epoch 26 - avg_train_loss: 0.6916  lr: 1.5867e-04  time: 77s\n",
      "Epoch 26 - Score: 0.6260\n"
     ]
    },
    {
     "name": "stdout",
     "output_type": "stream",
     "text": [
      "EVAL: [16/17] Data 0.000 (0.022) Elapsed 0m 4s (remain 0m 0s) \n",
      "Epoch: [27][0/81] Data 0.506 (0.506) Elapsed 0m 1s (remain 1m 29s) Loss: 0.0853(0.0853) Grad Norm: 0.0000  LR: 1.2762e-04  \n",
      "Epoch: [27][80/81] Data 0.000 (0.006) Elapsed 1m 12s (remain 0m 0s) Loss: 0.8601(0.6940) Grad Norm: 4.7412  LR: 1.2762e-04  \n",
      "EVAL: [0/17] Data 0.328 (0.328) Elapsed 0m 0s (remain 0m 9s) \n"
     ]
    },
    {
     "name": "stderr",
     "output_type": "stream",
     "text": [
      "labels: [2 7 2 3 0]\n",
      "pred_labels: [5 7 2 0 0]\n",
      "Epoch 27 - avg_train_loss: 0.6940  lr: 1.2762e-04  time: 77s\n",
      "Epoch 27 - Score: 0.6260\n"
     ]
    },
    {
     "name": "stdout",
     "output_type": "stream",
     "text": [
      "EVAL: [16/17] Data 0.000 (0.020) Elapsed 0m 4s (remain 0m 0s) \n",
      "Epoch: [28][0/81] Data 0.492 (0.492) Elapsed 0m 1s (remain 1m 29s) Loss: 0.0170(0.0170) Grad Norm: 0.0000  LR: 9.9584e-05  \n",
      "Epoch: [28][80/81] Data 0.000 (0.006) Elapsed 1m 12s (remain 0m 0s) Loss: 0.8533(0.4853) Grad Norm: 0.3239  LR: 9.9584e-05  \n",
      "EVAL: [0/17] Data 0.319 (0.319) Elapsed 0m 0s (remain 0m 8s) \n"
     ]
    },
    {
     "name": "stderr",
     "output_type": "stream",
     "text": [
      "labels: [2 7 2 3 0]\n",
      "pred_labels: [5 7 2 0 0]\n",
      "Epoch 28 - avg_train_loss: 0.4853  lr: 9.9584e-05  time: 77s\n",
      "Epoch 28 - Score: 0.6489\n"
     ]
    },
    {
     "name": "stdout",
     "output_type": "stream",
     "text": [
      "EVAL: [16/17] Data 0.000 (0.019) Elapsed 0m 4s (remain 0m 0s) \n",
      "Epoch: [29][0/81] Data 0.436 (0.436) Elapsed 0m 1s (remain 1m 27s) Loss: 0.0170(0.0170) Grad Norm: 0.0000  LR: 7.4783e-05  \n",
      "Epoch: [29][80/81] Data 0.000 (0.006) Elapsed 1m 12s (remain 0m 0s) Loss: 1.1460(0.6087) Grad Norm: 2.6466  LR: 7.4783e-05  \n",
      "EVAL: [0/17] Data 0.265 (0.265) Elapsed 0m 0s (remain 0m 8s) \n"
     ]
    },
    {
     "name": "stderr",
     "output_type": "stream",
     "text": [
      "labels: [2 7 2 3 0]\n",
      "pred_labels: [5 7 2 0 0]\n",
      "Epoch 29 - avg_train_loss: 0.6087  lr: 7.4783e-05  time: 77s\n",
      "Epoch 29 - Score: 0.6336\n"
     ]
    },
    {
     "name": "stdout",
     "output_type": "stream",
     "text": [
      "EVAL: [16/17] Data 0.000 (0.016) Elapsed 0m 4s (remain 0m 0s) \n",
      "Epoch: [30][0/81] Data 0.482 (0.482) Elapsed 0m 1s (remain 1m 30s) Loss: 1.0488(1.0488) Grad Norm: 0.0000  LR: 5.3404e-05  \n",
      "Epoch: [30][80/81] Data 0.000 (0.006) Elapsed 1m 12s (remain 0m 0s) Loss: 0.9740(0.5886) Grad Norm: 0.3784  LR: 5.3404e-05  \n",
      "EVAL: [0/17] Data 0.304 (0.304) Elapsed 0m 0s (remain 0m 8s) \n"
     ]
    },
    {
     "name": "stderr",
     "output_type": "stream",
     "text": [
      "labels: [2 7 2 3 0]\n",
      "pred_labels: [5 7 2 4 0]\n",
      "Epoch 30 - avg_train_loss: 0.5886  lr: 5.3404e-05  time: 77s\n",
      "Epoch 30 - Score: 0.6031\n"
     ]
    },
    {
     "name": "stdout",
     "output_type": "stream",
     "text": [
      "EVAL: [16/17] Data 0.000 (0.018) Elapsed 0m 4s (remain 0m 0s) \n",
      "Epoch: [31][0/81] Data 0.408 (0.408) Elapsed 0m 1s (remain 1m 28s) Loss: 0.0246(0.0246) Grad Norm: 0.0000  LR: 3.5607e-05  \n",
      "Epoch: [31][80/81] Data 0.000 (0.005) Elapsed 1m 12s (remain 0m 0s) Loss: 0.0498(0.0427) Grad Norm: 1.6533  LR: 3.5607e-05  \n",
      "EVAL: [0/17] Data 0.273 (0.273) Elapsed 0m 0s (remain 0m 8s) \n"
     ]
    },
    {
     "name": "stderr",
     "output_type": "stream",
     "text": [
      "labels: [2 7 2 3 0]\n",
      "pred_labels: [5 7 2 4 0]\n",
      "Epoch 31 - avg_train_loss: 0.0427  lr: 3.5607e-05  time: 77s\n",
      "Epoch 31 - Score: 0.6336\n"
     ]
    },
    {
     "name": "stdout",
     "output_type": "stream",
     "text": [
      "EVAL: [16/17] Data 0.000 (0.016) Elapsed 0m 4s (remain 0m 0s) \n",
      "Epoch: [32][0/81] Data 0.497 (0.497) Elapsed 0m 1s (remain 1m 31s) Loss: 0.0450(0.0450) Grad Norm: 0.0000  LR: 2.1508e-05  \n",
      "Epoch: [32][80/81] Data 0.000 (0.006) Elapsed 1m 12s (remain 0m 0s) Loss: 0.0285(0.0294) Grad Norm: 0.1553  LR: 2.1508e-05  \n",
      "EVAL: [0/17] Data 0.369 (0.369) Elapsed 0m 0s (remain 0m 9s) \n"
     ]
    },
    {
     "name": "stderr",
     "output_type": "stream",
     "text": [
      "labels: [2 7 2 3 0]\n",
      "pred_labels: [5 7 2 4 0]\n",
      "Epoch 32 - avg_train_loss: 0.0294  lr: 2.1508e-05  time: 77s\n",
      "Epoch 32 - Score: 0.6336\n"
     ]
    },
    {
     "name": "stdout",
     "output_type": "stream",
     "text": [
      "EVAL: [16/17] Data 0.000 (0.022) Elapsed 0m 4s (remain 0m 0s) \n",
      "Epoch: [33][0/81] Data 0.406 (0.406) Elapsed 0m 1s (remain 1m 26s) Loss: 0.0121(0.0121) Grad Norm: 0.0000  LR: 1.1173e-05  \n",
      "Epoch: [33][80/81] Data 0.000 (0.005) Elapsed 1m 12s (remain 0m 0s) Loss: 0.0410(0.0340) Grad Norm: 0.1800  LR: 1.1173e-05  \n",
      "EVAL: [0/17] Data 0.308 (0.308) Elapsed 0m 0s (remain 0m 8s) \n"
     ]
    },
    {
     "name": "stderr",
     "output_type": "stream",
     "text": [
      "labels: [2 7 2 3 0]\n",
      "pred_labels: [5 7 2 4 0]\n",
      "Epoch 33 - avg_train_loss: 0.0340  lr: 1.1173e-05  time: 77s\n",
      "Epoch 33 - Score: 0.6260\n"
     ]
    },
    {
     "name": "stdout",
     "output_type": "stream",
     "text": [
      "EVAL: [16/17] Data 0.000 (0.018) Elapsed 0m 4s (remain 0m 0s) \n",
      "Epoch: [34][0/81] Data 0.448 (0.448) Elapsed 0m 1s (remain 1m 25s) Loss: 0.0098(0.0098) Grad Norm: 0.0000  LR: 4.5796e-06  \n",
      "Epoch: [34][80/81] Data 0.000 (0.006) Elapsed 1m 12s (remain 0m 0s) Loss: 0.0211(0.0287) Grad Norm: 0.2622  LR: 4.5796e-06  \n",
      "EVAL: [0/17] Data 0.329 (0.329) Elapsed 0m 0s (remain 0m 9s) \n"
     ]
    },
    {
     "name": "stderr",
     "output_type": "stream",
     "text": [
      "labels: [2 7 2 3 0]\n",
      "pred_labels: [5 7 2 0 0]\n",
      "Epoch 34 - avg_train_loss: 0.0287  lr: 4.5796e-06  time: 77s\n",
      "Epoch 34 - Score: 0.6336\n"
     ]
    },
    {
     "name": "stdout",
     "output_type": "stream",
     "text": [
      "EVAL: [16/17] Data 0.000 (0.020) Elapsed 0m 4s (remain 0m 0s) \n",
      "Epoch: [35][0/81] Data 0.521 (0.521) Elapsed 0m 1s (remain 1m 31s) Loss: 0.0330(0.0330) Grad Norm: 0.0000  LR: 1.5037e-06  \n",
      "Epoch: [35][80/81] Data 0.000 (0.007) Elapsed 1m 12s (remain 0m 0s) Loss: 0.0086(0.0345) Grad Norm: 1.4172  LR: 1.5037e-06  \n",
      "EVAL: [0/17] Data 0.315 (0.315) Elapsed 0m 0s (remain 0m 8s) \n"
     ]
    },
    {
     "name": "stderr",
     "output_type": "stream",
     "text": [
      "labels: [2 7 2 3 0]\n",
      "pred_labels: [5 7 2 4 0]\n",
      "Epoch 35 - avg_train_loss: 0.0345  lr: 1.5037e-06  time: 77s\n",
      "Epoch 35 - Score: 0.6260\n",
      "==================== fold: 4, seed: 0 training ====================\n"
     ]
    },
    {
     "name": "stdout",
     "output_type": "stream",
     "text": [
      "EVAL: [16/17] Data 0.000 (0.019) Elapsed 0m 4s (remain 0m 0s) \n",
      "Epoch: [1][0/81] Data 0.479 (0.479) Elapsed 0m 1s (remain 1m 29s) Loss: 2.6770(2.6770) Grad Norm: 0.0000  LR: 1.0000e-03  \n",
      "Epoch: [1][80/81] Data 0.000 (0.006) Elapsed 1m 13s (remain 0m 0s) Loss: 2.4346(2.5233) Grad Norm: 7.4162  LR: 1.0000e-03  \n",
      "EVAL: [0/17] Data 0.336 (0.336) Elapsed 0m 0s (remain 0m 9s) \n"
     ]
    },
    {
     "name": "stderr",
     "output_type": "stream",
     "text": [
      "labels: [ 8  3  6  4 10]\n",
      "pred_labels: [11  0  2  9 11]\n",
      "Epoch 1 - avg_train_loss: 2.5233  lr: 1.0000e-03  time: 78s\n",
      "Epoch 1 - Score: 0.2846\n",
      "Epoch 1 - Save Best Score: 0.2846 Model\n"
     ]
    },
    {
     "name": "stdout",
     "output_type": "stream",
     "text": [
      "EVAL: [16/17] Data 0.000 (0.020) Elapsed 0m 4s (remain 0m 0s) \n",
      "Epoch: [2][0/81] Data 0.543 (0.543) Elapsed 0m 1s (remain 1m 41s) Loss: 2.2380(2.2380) Grad Norm: 0.0000  LR: 9.9598e-04  \n",
      "Epoch: [2][80/81] Data 0.000 (0.007) Elapsed 1m 13s (remain 0m 0s) Loss: 2.1026(2.2424) Grad Norm: 7.2686  LR: 9.9598e-04  \n",
      "EVAL: [0/17] Data 0.394 (0.394) Elapsed 0m 0s (remain 0m 10s) \n"
     ]
    },
    {
     "name": "stderr",
     "output_type": "stream",
     "text": [
      "labels: [ 8  3  6  4 10]\n",
      "pred_labels: [8 0 5 0 2]\n",
      "Epoch 2 - avg_train_loss: 2.2424  lr: 9.9598e-04  time: 78s\n",
      "Epoch 2 - Score: 0.3615\n",
      "Epoch 2 - Save Best Score: 0.3615 Model\n"
     ]
    },
    {
     "name": "stdout",
     "output_type": "stream",
     "text": [
      "EVAL: [16/17] Data 0.000 (0.023) Elapsed 0m 4s (remain 0m 0s) \n",
      "Epoch: [3][0/81] Data 0.543 (0.543) Elapsed 0m 1s (remain 1m 34s) Loss: 2.0389(2.0389) Grad Norm: 0.0000  LR: 9.8599e-04  \n",
      "Epoch: [3][80/81] Data 0.000 (0.007) Elapsed 1m 13s (remain 0m 0s) Loss: 2.0121(1.9814) Grad Norm: 7.2288  LR: 9.8599e-04  \n",
      "EVAL: [0/17] Data 0.403 (0.403) Elapsed 0m 0s (remain 0m 10s) \n"
     ]
    },
    {
     "name": "stderr",
     "output_type": "stream",
     "text": [
      "labels: [ 8  3  6  4 10]\n",
      "pred_labels: [8 1 2 2 2]\n",
      "Epoch 3 - avg_train_loss: 1.9814  lr: 9.8599e-04  time: 78s\n",
      "Epoch 3 - Score: 0.4077\n",
      "Epoch 3 - Save Best Score: 0.4077 Model\n"
     ]
    },
    {
     "name": "stdout",
     "output_type": "stream",
     "text": [
      "EVAL: [16/17] Data 0.000 (0.024) Elapsed 0m 4s (remain 0m 0s) \n",
      "Epoch: [4][0/81] Data 0.508 (0.508) Elapsed 0m 1s (remain 1m 33s) Loss: 1.9504(1.9504) Grad Norm: 0.0000  LR: 9.7213e-04  \n",
      "Epoch: [4][80/81] Data 0.000 (0.007) Elapsed 1m 13s (remain 0m 0s) Loss: 1.9242(1.7339) Grad Norm: 6.6434  LR: 9.7213e-04  \n",
      "EVAL: [0/17] Data 0.388 (0.388) Elapsed 0m 0s (remain 0m 10s) \n"
     ]
    },
    {
     "name": "stderr",
     "output_type": "stream",
     "text": [
      "labels: [ 8  3  6  4 10]\n",
      "pred_labels: [8 0 0 2 2]\n",
      "Epoch 4 - avg_train_loss: 1.7339  lr: 9.7213e-04  time: 78s\n",
      "Epoch 4 - Score: 0.5077\n",
      "Epoch 4 - Save Best Score: 0.5077 Model\n"
     ]
    },
    {
     "name": "stdout",
     "output_type": "stream",
     "text": [
      "EVAL: [16/17] Data 0.000 (0.023) Elapsed 0m 4s (remain 0m 0s) \n",
      "Epoch: [5][0/81] Data 0.456 (0.456) Elapsed 0m 1s (remain 1m 35s) Loss: 1.9386(1.9386) Grad Norm: 0.0000  LR: 9.5449e-04  \n",
      "Epoch: [5][80/81] Data 0.000 (0.006) Elapsed 1m 13s (remain 0m 0s) Loss: 2.0718(1.5573) Grad Norm: 6.2563  LR: 9.5449e-04  \n",
      "EVAL: [0/17] Data 0.415 (0.415) Elapsed 0m 0s (remain 0m 10s) \n"
     ]
    },
    {
     "name": "stderr",
     "output_type": "stream",
     "text": [
      "labels: [ 8  3  6  4 10]\n",
      "pred_labels: [8 0 6 2 5]\n",
      "Epoch 5 - avg_train_loss: 1.5573  lr: 9.5449e-04  time: 78s\n",
      "Epoch 5 - Score: 0.5462\n",
      "Epoch 5 - Save Best Score: 0.5462 Model\n"
     ]
    },
    {
     "name": "stdout",
     "output_type": "stream",
     "text": [
      "EVAL: [16/17] Data 0.000 (0.025) Elapsed 0m 4s (remain 0m 0s) \n",
      "Epoch: [6][0/81] Data 0.485 (0.485) Elapsed 0m 1s (remain 1m 33s) Loss: 1.4701(1.4701) Grad Norm: 0.0000  LR: 9.3324e-04  \n",
      "Epoch: [6][80/81] Data 0.000 (0.006) Elapsed 1m 13s (remain 0m 0s) Loss: 1.5608(1.4733) Grad Norm: 7.5287  LR: 9.3324e-04  \n",
      "EVAL: [0/17] Data 0.396 (0.396) Elapsed 0m 0s (remain 0m 10s) \n"
     ]
    },
    {
     "name": "stderr",
     "output_type": "stream",
     "text": [
      "labels: [ 8  3  6  4 10]\n",
      "pred_labels: [8 1 6 2 2]\n",
      "Epoch 6 - avg_train_loss: 1.4733  lr: 9.3324e-04  time: 78s\n",
      "Epoch 6 - Score: 0.5462\n"
     ]
    },
    {
     "name": "stdout",
     "output_type": "stream",
     "text": [
      "EVAL: [16/17] Data 0.000 (0.024) Elapsed 0m 4s (remain 0m 0s) \n",
      "Epoch: [7][0/81] Data 0.500 (0.500) Elapsed 0m 1s (remain 1m 36s) Loss: 1.6771(1.6771) Grad Norm: 0.0000  LR: 9.0853e-04  \n",
      "Epoch: [7][80/81] Data 0.000 (0.006) Elapsed 1m 13s (remain 0m 0s) Loss: 1.3712(1.3504) Grad Norm: 6.8065  LR: 9.0853e-04  \n",
      "EVAL: [0/17] Data 0.395 (0.395) Elapsed 0m 0s (remain 0m 10s) \n"
     ]
    },
    {
     "name": "stderr",
     "output_type": "stream",
     "text": [
      "labels: [ 8  3  6  4 10]\n",
      "pred_labels: [8 1 0 7 6]\n",
      "Epoch 7 - avg_train_loss: 1.3504  lr: 9.0853e-04  time: 78s\n",
      "Epoch 7 - Score: 0.4923\n"
     ]
    },
    {
     "name": "stdout",
     "output_type": "stream",
     "text": [
      "EVAL: [16/17] Data 0.000 (0.023) Elapsed 0m 4s (remain 0m 0s) \n",
      "Epoch: [8][0/81] Data 0.507 (0.507) Elapsed 0m 1s (remain 1m 31s) Loss: 1.9284(1.9284) Grad Norm: 0.0000  LR: 8.8057e-04  \n",
      "Epoch: [8][80/81] Data 0.000 (0.007) Elapsed 1m 13s (remain 0m 0s) Loss: 1.7853(1.1578) Grad Norm: 5.9160  LR: 8.8057e-04  \n",
      "EVAL: [0/17] Data 0.389 (0.389) Elapsed 0m 0s (remain 0m 10s) \n"
     ]
    },
    {
     "name": "stderr",
     "output_type": "stream",
     "text": [
      "labels: [ 8  3  6  4 10]\n",
      "pred_labels: [8 3 6 7 2]\n",
      "Epoch 8 - avg_train_loss: 1.1578  lr: 8.8057e-04  time: 78s\n",
      "Epoch 8 - Score: 0.5692\n",
      "Epoch 8 - Save Best Score: 0.5692 Model\n"
     ]
    },
    {
     "name": "stdout",
     "output_type": "stream",
     "text": [
      "EVAL: [16/17] Data 0.000 (0.023) Elapsed 0m 4s (remain 0m 0s) \n",
      "Epoch: [9][0/81] Data 0.519 (0.519) Elapsed 0m 1s (remain 1m 35s) Loss: 0.4806(0.4806) Grad Norm: 0.0000  LR: 8.4958e-04  \n",
      "Epoch: [9][80/81] Data 0.000 (0.007) Elapsed 1m 13s (remain 0m 0s) Loss: 0.9280(1.1569) Grad Norm: 3.8375  LR: 8.4958e-04  \n",
      "EVAL: [0/17] Data 0.407 (0.407) Elapsed 0m 0s (remain 0m 10s) \n"
     ]
    },
    {
     "name": "stderr",
     "output_type": "stream",
     "text": [
      "labels: [ 8  3  6  4 10]\n",
      "pred_labels: [ 8  1  6  7 10]\n",
      "Epoch 9 - avg_train_loss: 1.1569  lr: 8.4958e-04  time: 78s\n",
      "Epoch 9 - Score: 0.6462\n",
      "Epoch 9 - Save Best Score: 0.6462 Model\n"
     ]
    },
    {
     "name": "stdout",
     "output_type": "stream",
     "text": [
      "EVAL: [16/17] Data 0.000 (0.024) Elapsed 0m 4s (remain 0m 0s) \n",
      "Epoch: [10][0/81] Data 0.555 (0.555) Elapsed 0m 1s (remain 1m 39s) Loss: 0.3473(0.3473) Grad Norm: 0.0000  LR: 8.1581e-04  \n",
      "Epoch: [10][80/81] Data 0.000 (0.007) Elapsed 1m 13s (remain 0m 0s) Loss: 0.7142(1.1879) Grad Norm: 6.7682  LR: 8.1581e-04  \n",
      "EVAL: [0/17] Data 0.388 (0.388) Elapsed 0m 0s (remain 0m 10s) \n"
     ]
    },
    {
     "name": "stderr",
     "output_type": "stream",
     "text": [
      "labels: [ 8  3  6  4 10]\n",
      "pred_labels: [8 1 6 9 9]\n",
      "Epoch 10 - avg_train_loss: 1.1879  lr: 8.1581e-04  time: 78s\n",
      "Epoch 10 - Score: 0.5769\n"
     ]
    },
    {
     "name": "stdout",
     "output_type": "stream",
     "text": [
      "EVAL: [16/17] Data 0.000 (0.023) Elapsed 0m 4s (remain 0m 0s) \n",
      "Epoch: [11][0/81] Data 0.500 (0.500) Elapsed 0m 1s (remain 1m 29s) Loss: 1.0863(1.0863) Grad Norm: 0.0000  LR: 7.7953e-04  \n",
      "Epoch: [11][80/81] Data 0.000 (0.006) Elapsed 1m 12s (remain 0m 0s) Loss: 0.7231(0.9464) Grad Norm: 6.3352  LR: 7.7953e-04  \n",
      "EVAL: [0/17] Data 0.349 (0.349) Elapsed 0m 0s (remain 0m 9s) \n"
     ]
    },
    {
     "name": "stderr",
     "output_type": "stream",
     "text": [
      "labels: [ 8  3  6  4 10]\n",
      "pred_labels: [8 1 6 9 2]\n",
      "Epoch 11 - avg_train_loss: 0.9464  lr: 7.7953e-04  time: 78s\n",
      "Epoch 11 - Score: 0.5923\n"
     ]
    },
    {
     "name": "stdout",
     "output_type": "stream",
     "text": [
      "EVAL: [16/17] Data 0.000 (0.021) Elapsed 0m 4s (remain 0m 0s) \n",
      "Epoch: [12][0/81] Data 0.435 (0.435) Elapsed 0m 1s (remain 1m 26s) Loss: 0.1668(0.1668) Grad Norm: 0.0000  LR: 7.4103e-04  \n",
      "Epoch: [12][80/81] Data 0.000 (0.006) Elapsed 1m 12s (remain 0m 0s) Loss: 0.2060(1.0328) Grad Norm: 4.4514  LR: 7.4103e-04  \n",
      "EVAL: [0/17] Data 0.390 (0.390) Elapsed 0m 0s (remain 0m 10s) \n"
     ]
    },
    {
     "name": "stderr",
     "output_type": "stream",
     "text": [
      "labels: [ 8  3  6  4 10]\n",
      "pred_labels: [8 1 0 2 5]\n",
      "Epoch 12 - avg_train_loss: 1.0328  lr: 7.4103e-04  time: 78s\n",
      "Epoch 12 - Score: 0.6000\n"
     ]
    },
    {
     "name": "stdout",
     "output_type": "stream",
     "text": [
      "EVAL: [16/17] Data 0.000 (0.023) Elapsed 0m 4s (remain 0m 0s) \n",
      "Epoch: [13][0/81] Data 0.540 (0.540) Elapsed 0m 1s (remain 1m 33s) Loss: 2.2692(2.2692) Grad Norm: 0.0000  LR: 7.0063e-04  \n",
      "Epoch: [13][80/81] Data 0.000 (0.007) Elapsed 1m 12s (remain 0m 0s) Loss: 1.5444(0.9042) Grad Norm: 6.6969  LR: 7.0063e-04  \n",
      "EVAL: [0/17] Data 0.375 (0.375) Elapsed 0m 0s (remain 0m 9s) \n"
     ]
    },
    {
     "name": "stderr",
     "output_type": "stream",
     "text": [
      "labels: [ 8  3  6  4 10]\n",
      "pred_labels: [8 1 6 2 1]\n",
      "Epoch 13 - avg_train_loss: 0.9042  lr: 7.0063e-04  time: 77s\n",
      "Epoch 13 - Score: 0.6231\n"
     ]
    },
    {
     "name": "stdout",
     "output_type": "stream",
     "text": [
      "EVAL: [16/17] Data 0.000 (0.022) Elapsed 0m 4s (remain 0m 0s) \n",
      "Epoch: [14][0/81] Data 0.539 (0.539) Elapsed 0m 1s (remain 1m 34s) Loss: 0.1114(0.1114) Grad Norm: 0.0000  LR: 6.5865e-04  \n",
      "Epoch: [14][80/81] Data 0.000 (0.007) Elapsed 1m 13s (remain 0m 0s) Loss: 2.2503(0.9667) Grad Norm: 5.6437  LR: 6.5865e-04  \n",
      "EVAL: [0/17] Data 0.397 (0.397) Elapsed 0m 0s (remain 0m 10s) \n"
     ]
    },
    {
     "name": "stderr",
     "output_type": "stream",
     "text": [
      "labels: [ 8  3  6  4 10]\n",
      "pred_labels: [8 1 6 2 1]\n",
      "Epoch 14 - avg_train_loss: 0.9667  lr: 6.5865e-04  time: 78s\n",
      "Epoch 14 - Score: 0.6615\n",
      "Epoch 14 - Save Best Score: 0.6615 Model\n"
     ]
    },
    {
     "name": "stdout",
     "output_type": "stream",
     "text": [
      "EVAL: [16/17] Data 0.000 (0.024) Elapsed 0m 4s (remain 0m 0s) \n",
      "Epoch: [15][0/81] Data 0.587 (0.587) Elapsed 0m 1s (remain 1m 37s) Loss: 1.5523(1.5523) Grad Norm: 0.0000  LR: 6.1542e-04  \n",
      "Epoch: [15][80/81] Data 0.000 (0.007) Elapsed 1m 12s (remain 0m 0s) Loss: 1.7076(0.7812) Grad Norm: 5.6969  LR: 6.1542e-04  \n",
      "EVAL: [0/17] Data 0.381 (0.381) Elapsed 0m 0s (remain 0m 9s) \n"
     ]
    },
    {
     "name": "stderr",
     "output_type": "stream",
     "text": [
      "labels: [ 8  3  6  4 10]\n",
      "pred_labels: [8 3 6 2 4]\n",
      "Epoch 15 - avg_train_loss: 0.7812  lr: 6.1542e-04  time: 78s\n",
      "Epoch 15 - Score: 0.6385\n"
     ]
    },
    {
     "name": "stdout",
     "output_type": "stream",
     "text": [
      "EVAL: [16/17] Data 0.000 (0.023) Elapsed 0m 4s (remain 0m 0s) \n",
      "Epoch: [16][0/81] Data 0.581 (0.581) Elapsed 0m 1s (remain 1m 36s) Loss: 0.1276(0.1276) Grad Norm: 0.0000  LR: 5.7130e-04  \n",
      "Epoch: [16][80/81] Data 0.000 (0.007) Elapsed 1m 12s (remain 0m 0s) Loss: 2.0251(0.8140) Grad Norm: 2.3364  LR: 5.7130e-04  \n",
      "EVAL: [0/17] Data 0.368 (0.368) Elapsed 0m 0s (remain 0m 9s) \n"
     ]
    },
    {
     "name": "stderr",
     "output_type": "stream",
     "text": [
      "labels: [ 8  3  6  4 10]\n",
      "pred_labels: [ 8  3  6  2 10]\n",
      "Epoch 16 - avg_train_loss: 0.8140  lr: 5.7130e-04  time: 77s\n",
      "Epoch 16 - Score: 0.6385\n"
     ]
    },
    {
     "name": "stdout",
     "output_type": "stream",
     "text": [
      "EVAL: [16/17] Data 0.000 (0.022) Elapsed 0m 4s (remain 0m 0s) \n",
      "Epoch: [17][0/81] Data 0.626 (0.626) Elapsed 0m 1s (remain 1m 38s) Loss: 0.2638(0.2638) Grad Norm: 0.0000  LR: 5.2663e-04  \n",
      "Epoch: [17][80/81] Data 0.000 (0.008) Elapsed 1m 12s (remain 0m 0s) Loss: 1.4115(0.7504) Grad Norm: 4.1101  LR: 5.2663e-04  \n",
      "EVAL: [0/17] Data 0.348 (0.348) Elapsed 0m 0s (remain 0m 9s) \n"
     ]
    },
    {
     "name": "stderr",
     "output_type": "stream",
     "text": [
      "labels: [ 8  3  6  4 10]\n",
      "pred_labels: [8 3 6 4 8]\n",
      "Epoch 17 - avg_train_loss: 0.7504  lr: 5.2663e-04  time: 77s\n",
      "Epoch 17 - Score: 0.6154\n"
     ]
    },
    {
     "name": "stdout",
     "output_type": "stream",
     "text": [
      "EVAL: [16/17] Data 0.000 (0.021) Elapsed 0m 4s (remain 0m 0s) \n",
      "Epoch: [18][0/81] Data 0.496 (0.496) Elapsed 0m 1s (remain 1m 28s) Loss: 1.0866(1.0866) Grad Norm: 0.0000  LR: 4.8179e-04  \n",
      "Epoch: [18][80/81] Data 0.000 (0.006) Elapsed 1m 12s (remain 0m 0s) Loss: 0.0427(0.7336) Grad Norm: 4.3442  LR: 4.8179e-04  \n",
      "EVAL: [0/17] Data 0.350 (0.350) Elapsed 0m 0s (remain 0m 9s) \n"
     ]
    },
    {
     "name": "stderr",
     "output_type": "stream",
     "text": [
      "labels: [ 8  3  6  4 10]\n",
      "pred_labels: [ 8  3  6  2 10]\n",
      "Epoch 18 - avg_train_loss: 0.7336  lr: 4.8179e-04  time: 77s\n",
      "Epoch 18 - Score: 0.6692\n",
      "Epoch 18 - Save Best Score: 0.6692 Model\n"
     ]
    },
    {
     "name": "stdout",
     "output_type": "stream",
     "text": [
      "EVAL: [16/17] Data 0.000 (0.021) Elapsed 0m 4s (remain 0m 0s) \n",
      "Epoch: [19][0/81] Data 0.554 (0.554) Elapsed 0m 1s (remain 1m 34s) Loss: 1.5937(1.5937) Grad Norm: 0.0000  LR: 4.3712e-04  \n",
      "Epoch: [19][80/81] Data 0.000 (0.007) Elapsed 1m 12s (remain 0m 0s) Loss: 1.7148(0.7199) Grad Norm: 2.7149  LR: 4.3712e-04  \n",
      "EVAL: [0/17] Data 0.393 (0.393) Elapsed 0m 0s (remain 0m 10s) \n"
     ]
    },
    {
     "name": "stderr",
     "output_type": "stream",
     "text": [
      "labels: [ 8  3  6  4 10]\n",
      "pred_labels: [8 3 6 0 2]\n",
      "Epoch 19 - avg_train_loss: 0.7199  lr: 4.3712e-04  time: 77s\n",
      "Epoch 19 - Score: 0.6615\n"
     ]
    },
    {
     "name": "stdout",
     "output_type": "stream",
     "text": [
      "EVAL: [16/17] Data 0.000 (0.023) Elapsed 0m 4s (remain 0m 0s) \n",
      "Epoch: [20][0/81] Data 0.513 (0.513) Elapsed 0m 1s (remain 1m 35s) Loss: 0.9589(0.9589) Grad Norm: 0.0000  LR: 3.9299e-04  \n",
      "Epoch: [20][80/81] Data 0.000 (0.007) Elapsed 1m 12s (remain 0m 0s) Loss: 1.4624(0.8083) Grad Norm: 3.9333  LR: 3.9299e-04  \n",
      "EVAL: [0/17] Data 0.356 (0.356) Elapsed 0m 0s (remain 0m 9s) \n"
     ]
    },
    {
     "name": "stderr",
     "output_type": "stream",
     "text": [
      "labels: [ 8  3  6  4 10]\n",
      "pred_labels: [8 1 6 2 8]\n",
      "Epoch 20 - avg_train_loss: 0.8083  lr: 3.9299e-04  time: 77s\n",
      "Epoch 20 - Score: 0.6308\n"
     ]
    },
    {
     "name": "stdout",
     "output_type": "stream",
     "text": [
      "EVAL: [16/17] Data 0.000 (0.021) Elapsed 0m 4s (remain 0m 0s) \n",
      "Epoch: [21][0/81] Data 0.465 (0.465) Elapsed 0m 1s (remain 1m 29s) Loss: 1.2066(1.2066) Grad Norm: 0.0000  LR: 3.4975e-04  \n",
      "Epoch: [21][80/81] Data 0.000 (0.006) Elapsed 1m 12s (remain 0m 0s) Loss: 0.1098(0.6399) Grad Norm: 4.1070  LR: 3.4975e-04  \n",
      "EVAL: [0/17] Data 0.410 (0.410) Elapsed 0m 0s (remain 0m 10s) \n"
     ]
    },
    {
     "name": "stderr",
     "output_type": "stream",
     "text": [
      "labels: [ 8  3  6  4 10]\n",
      "pred_labels: [8 1 6 2 2]\n",
      "Epoch 21 - avg_train_loss: 0.6399  lr: 3.4975e-04  time: 77s\n",
      "Epoch 21 - Score: 0.6231\n"
     ]
    },
    {
     "name": "stdout",
     "output_type": "stream",
     "text": [
      "EVAL: [16/17] Data 0.000 (0.024) Elapsed 0m 4s (remain 0m 0s) \n",
      "Epoch: [22][0/81] Data 0.529 (0.529) Elapsed 0m 1s (remain 1m 32s) Loss: 0.9282(0.9282) Grad Norm: 0.0000  LR: 3.0775e-04  \n",
      "Epoch: [22][80/81] Data 0.000 (0.007) Elapsed 1m 12s (remain 0m 0s) Loss: 0.0593(0.7111) Grad Norm: 4.3390  LR: 3.0775e-04  \n",
      "EVAL: [0/17] Data 0.393 (0.393) Elapsed 0m 0s (remain 0m 10s) \n"
     ]
    },
    {
     "name": "stderr",
     "output_type": "stream",
     "text": [
      "labels: [ 8  3  6  4 10]\n",
      "pred_labels: [8 9 6 2 2]\n",
      "Epoch 22 - avg_train_loss: 0.7111  lr: 3.0775e-04  time: 77s\n",
      "Epoch 22 - Score: 0.6615\n"
     ]
    },
    {
     "name": "stdout",
     "output_type": "stream",
     "text": [
      "EVAL: [16/17] Data 0.000 (0.023) Elapsed 0m 4s (remain 0m 0s) \n",
      "Epoch: [23][0/81] Data 0.553 (0.553) Elapsed 0m 1s (remain 1m 35s) Loss: 0.0557(0.0557) Grad Norm: 0.0000  LR: 2.6732e-04  \n",
      "Epoch: [23][80/81] Data 0.000 (0.007) Elapsed 1m 12s (remain 0m 0s) Loss: 0.1059(0.7111) Grad Norm: 2.3576  LR: 2.6732e-04  \n",
      "EVAL: [0/17] Data 0.365 (0.365) Elapsed 0m 0s (remain 0m 9s) \n"
     ]
    },
    {
     "name": "stderr",
     "output_type": "stream",
     "text": [
      "labels: [ 8  3  6  4 10]\n",
      "pred_labels: [8 9 6 2 1]\n",
      "Epoch 23 - avg_train_loss: 0.7111  lr: 2.6732e-04  time: 77s\n",
      "Epoch 23 - Score: 0.6692\n"
     ]
    },
    {
     "name": "stdout",
     "output_type": "stream",
     "text": [
      "EVAL: [16/17] Data 0.000 (0.022) Elapsed 0m 4s (remain 0m 0s) \n",
      "Epoch: [24][0/81] Data 0.543 (0.543) Elapsed 0m 1s (remain 1m 37s) Loss: 1.7701(1.7701) Grad Norm: 0.0000  LR: 2.2880e-04  \n",
      "Epoch: [24][80/81] Data 0.000 (0.007) Elapsed 1m 12s (remain 0m 0s) Loss: 1.4791(0.6850) Grad Norm: 3.2610  LR: 2.2880e-04  \n",
      "EVAL: [0/17] Data 0.343 (0.343) Elapsed 0m 0s (remain 0m 9s) \n"
     ]
    },
    {
     "name": "stderr",
     "output_type": "stream",
     "text": [
      "labels: [ 8  3  6  4 10]\n",
      "pred_labels: [8 1 6 2 1]\n",
      "Epoch 24 - avg_train_loss: 0.6850  lr: 2.2880e-04  time: 77s\n",
      "Epoch 24 - Score: 0.6462\n"
     ]
    },
    {
     "name": "stdout",
     "output_type": "stream",
     "text": [
      "EVAL: [16/17] Data 0.000 (0.020) Elapsed 0m 4s (remain 0m 0s) \n",
      "Epoch: [25][0/81] Data 0.453 (0.453) Elapsed 0m 1s (remain 1m 34s) Loss: 1.2964(1.2964) Grad Norm: 0.0000  LR: 1.9248e-04  \n",
      "Epoch: [25][80/81] Data 0.000 (0.006) Elapsed 1m 12s (remain 0m 0s) Loss: 1.4598(0.5289) Grad Norm: 3.9715  LR: 1.9248e-04  \n",
      "EVAL: [0/17] Data 0.387 (0.387) Elapsed 0m 0s (remain 0m 9s) \n"
     ]
    },
    {
     "name": "stderr",
     "output_type": "stream",
     "text": [
      "labels: [ 8  3  6  4 10]\n",
      "pred_labels: [8 1 6 2 2]\n",
      "Epoch 25 - avg_train_loss: 0.5289  lr: 1.9248e-04  time: 77s\n",
      "Epoch 25 - Score: 0.6538\n"
     ]
    },
    {
     "name": "stdout",
     "output_type": "stream",
     "text": [
      "EVAL: [16/17] Data 0.000 (0.023) Elapsed 0m 4s (remain 0m 0s) \n",
      "Epoch: [26][0/81] Data 0.454 (0.454) Elapsed 0m 1s (remain 1m 32s) Loss: 1.0572(1.0572) Grad Norm: 0.0000  LR: 1.5867e-04  \n",
      "Epoch: [26][80/81] Data 0.000 (0.006) Elapsed 1m 12s (remain 0m 0s) Loss: 0.0973(0.6755) Grad Norm: 2.5046  LR: 1.5867e-04  \n",
      "EVAL: [0/17] Data 0.425 (0.425) Elapsed 0m 0s (remain 0m 10s) \n"
     ]
    },
    {
     "name": "stderr",
     "output_type": "stream",
     "text": [
      "labels: [ 8  3  6  4 10]\n",
      "pred_labels: [8 1 6 2 2]\n",
      "Epoch 26 - avg_train_loss: 0.6755  lr: 1.5867e-04  time: 77s\n",
      "Epoch 26 - Score: 0.6538\n"
     ]
    },
    {
     "name": "stdout",
     "output_type": "stream",
     "text": [
      "EVAL: [16/17] Data 0.000 (0.025) Elapsed 0m 4s (remain 0m 0s) \n",
      "Epoch: [27][0/81] Data 0.501 (0.501) Elapsed 0m 1s (remain 1m 31s) Loss: 0.8342(0.8342) Grad Norm: 0.0000  LR: 1.2762e-04  \n",
      "Epoch: [27][80/81] Data 0.000 (0.006) Elapsed 1m 12s (remain 0m 0s) Loss: 0.0439(0.5633) Grad Norm: 2.7380  LR: 1.2762e-04  \n",
      "EVAL: [0/17] Data 0.344 (0.344) Elapsed 0m 0s (remain 0m 9s) \n"
     ]
    },
    {
     "name": "stderr",
     "output_type": "stream",
     "text": [
      "labels: [ 8  3  6  4 10]\n",
      "pred_labels: [8 1 6 2 2]\n",
      "Epoch 27 - avg_train_loss: 0.5633  lr: 1.2762e-04  time: 77s\n",
      "Epoch 27 - Score: 0.6846\n",
      "Epoch 27 - Save Best Score: 0.6846 Model\n"
     ]
    },
    {
     "name": "stdout",
     "output_type": "stream",
     "text": [
      "EVAL: [16/17] Data 0.000 (0.020) Elapsed 0m 4s (remain 0m 0s) \n",
      "Epoch: [28][0/81] Data 0.575 (0.575) Elapsed 0m 1s (remain 1m 37s) Loss: 1.5503(1.5503) Grad Norm: 0.0000  LR: 9.9584e-05  \n",
      "Epoch: [28][80/81] Data 0.000 (0.007) Elapsed 1m 12s (remain 0m 0s) Loss: 0.1012(0.5702) Grad Norm: 4.7201  LR: 9.9584e-05  \n",
      "EVAL: [0/17] Data 0.379 (0.379) Elapsed 0m 0s (remain 0m 9s) \n"
     ]
    },
    {
     "name": "stderr",
     "output_type": "stream",
     "text": [
      "labels: [ 8  3  6  4 10]\n",
      "pred_labels: [8 1 6 2 2]\n",
      "Epoch 28 - avg_train_loss: 0.5702  lr: 9.9584e-05  time: 77s\n",
      "Epoch 28 - Score: 0.6615\n"
     ]
    },
    {
     "name": "stdout",
     "output_type": "stream",
     "text": [
      "EVAL: [16/17] Data 0.000 (0.023) Elapsed 0m 4s (remain 0m 0s) \n",
      "Epoch: [29][0/81] Data 0.544 (0.544) Elapsed 0m 1s (remain 1m 32s) Loss: 0.0853(0.0853) Grad Norm: 0.0000  LR: 7.4783e-05  \n",
      "Epoch: [29][80/81] Data 0.000 (0.007) Elapsed 1m 12s (remain 0m 0s) Loss: 0.0209(0.5474) Grad Norm: 3.8891  LR: 7.4783e-05  \n",
      "EVAL: [0/17] Data 0.434 (0.434) Elapsed 0m 0s (remain 0m 10s) \n"
     ]
    },
    {
     "name": "stderr",
     "output_type": "stream",
     "text": [
      "labels: [ 8  3  6  4 10]\n",
      "pred_labels: [8 5 6 2 2]\n",
      "Epoch 29 - avg_train_loss: 0.5474  lr: 7.4783e-05  time: 77s\n",
      "Epoch 29 - Score: 0.6615\n"
     ]
    },
    {
     "name": "stdout",
     "output_type": "stream",
     "text": [
      "EVAL: [16/17] Data 0.000 (0.026) Elapsed 0m 4s (remain 0m 0s) \n",
      "Epoch: [30][0/81] Data 0.541 (0.541) Elapsed 0m 1s (remain 1m 34s) Loss: 0.0104(0.0104) Grad Norm: 0.0000  LR: 5.3404e-05  \n",
      "Epoch: [30][80/81] Data 0.000 (0.007) Elapsed 1m 12s (remain 0m 0s) Loss: 1.6531(0.5943) Grad Norm: 2.3915  LR: 5.3404e-05  \n",
      "EVAL: [0/17] Data 0.333 (0.333) Elapsed 0m 0s (remain 0m 9s) \n"
     ]
    },
    {
     "name": "stderr",
     "output_type": "stream",
     "text": [
      "labels: [ 8  3  6  4 10]\n",
      "pred_labels: [8 1 6 2 2]\n",
      "Epoch 30 - avg_train_loss: 0.5943  lr: 5.3404e-05  time: 77s\n",
      "Epoch 30 - Score: 0.6615\n"
     ]
    },
    {
     "name": "stdout",
     "output_type": "stream",
     "text": [
      "EVAL: [16/17] Data 0.000 (0.020) Elapsed 0m 4s (remain 0m 0s) \n",
      "Epoch: [31][0/81] Data 0.490 (0.490) Elapsed 0m 1s (remain 1m 32s) Loss: 0.0352(0.0352) Grad Norm: 0.0000  LR: 3.5607e-05  \n",
      "Epoch: [31][80/81] Data 0.000 (0.006) Elapsed 1m 12s (remain 0m 0s) Loss: 0.0304(0.0545) Grad Norm: 4.4930  LR: 3.5607e-05  \n",
      "EVAL: [0/17] Data 0.390 (0.390) Elapsed 0m 0s (remain 0m 10s) \n"
     ]
    },
    {
     "name": "stderr",
     "output_type": "stream",
     "text": [
      "labels: [ 8  3  6  4 10]\n",
      "pred_labels: [8 1 6 2 2]\n",
      "Epoch 31 - avg_train_loss: 0.0545  lr: 3.5607e-05  time: 77s\n",
      "Epoch 31 - Score: 0.6769\n"
     ]
    },
    {
     "name": "stdout",
     "output_type": "stream",
     "text": [
      "EVAL: [16/17] Data 0.000 (0.023) Elapsed 0m 4s (remain 0m 0s) \n",
      "Epoch: [32][0/81] Data 0.545 (0.545) Elapsed 0m 1s (remain 1m 35s) Loss: 0.0191(0.0191) Grad Norm: 0.0000  LR: 2.1508e-05  \n",
      "Epoch: [32][80/81] Data 0.000 (0.007) Elapsed 1m 12s (remain 0m 0s) Loss: 0.0636(0.0377) Grad Norm: 1.4259  LR: 2.1508e-05  \n",
      "EVAL: [0/17] Data 0.389 (0.389) Elapsed 0m 0s (remain 0m 10s) \n"
     ]
    },
    {
     "name": "stderr",
     "output_type": "stream",
     "text": [
      "labels: [ 8  3  6  4 10]\n",
      "pred_labels: [8 1 6 2 2]\n",
      "Epoch 32 - avg_train_loss: 0.0377  lr: 2.1508e-05  time: 77s\n",
      "Epoch 32 - Score: 0.6538\n"
     ]
    },
    {
     "name": "stdout",
     "output_type": "stream",
     "text": [
      "EVAL: [16/17] Data 0.000 (0.023) Elapsed 0m 4s (remain 0m 0s) \n",
      "Epoch: [33][0/81] Data 0.502 (0.502) Elapsed 0m 1s (remain 1m 28s) Loss: 0.0060(0.0060) Grad Norm: 0.0000  LR: 1.1173e-05  \n",
      "Epoch: [33][80/81] Data 0.000 (0.006) Elapsed 1m 12s (remain 0m 0s) Loss: 0.0189(0.0278) Grad Norm: 4.6881  LR: 1.1173e-05  \n",
      "EVAL: [0/17] Data 0.363 (0.363) Elapsed 0m 0s (remain 0m 9s) \n"
     ]
    },
    {
     "name": "stderr",
     "output_type": "stream",
     "text": [
      "labels: [ 8  3  6  4 10]\n",
      "pred_labels: [8 1 6 2 2]\n",
      "Epoch 33 - avg_train_loss: 0.0278  lr: 1.1173e-05  time: 77s\n",
      "Epoch 33 - Score: 0.6769\n"
     ]
    },
    {
     "name": "stdout",
     "output_type": "stream",
     "text": [
      "EVAL: [16/17] Data 0.000 (0.022) Elapsed 0m 4s (remain 0m 0s) \n",
      "Epoch: [34][0/81] Data 0.477 (0.477) Elapsed 0m 1s (remain 1m 32s) Loss: 0.0634(0.0634) Grad Norm: 0.0000  LR: 4.5796e-06  \n",
      "Epoch: [34][80/81] Data 0.000 (0.006) Elapsed 1m 12s (remain 0m 0s) Loss: 0.3009(0.0327) Grad Norm: 0.7758  LR: 4.5796e-06  \n",
      "EVAL: [0/17] Data 0.392 (0.392) Elapsed 0m 0s (remain 0m 10s) \n"
     ]
    },
    {
     "name": "stderr",
     "output_type": "stream",
     "text": [
      "labels: [ 8  3  6  4 10]\n",
      "pred_labels: [8 1 6 2 2]\n",
      "Epoch 34 - avg_train_loss: 0.0327  lr: 4.5796e-06  time: 77s\n",
      "Epoch 34 - Score: 0.6923\n",
      "Epoch 34 - Save Best Score: 0.6923 Model\n"
     ]
    },
    {
     "name": "stdout",
     "output_type": "stream",
     "text": [
      "EVAL: [16/17] Data 0.000 (0.023) Elapsed 0m 4s (remain 0m 0s) \n",
      "Epoch: [35][0/81] Data 0.525 (0.525) Elapsed 0m 1s (remain 1m 36s) Loss: 0.0378(0.0378) Grad Norm: 0.0000  LR: 1.5037e-06  \n",
      "Epoch: [35][80/81] Data 0.000 (0.007) Elapsed 1m 12s (remain 0m 0s) Loss: 0.0093(0.0305) Grad Norm: 1.1813  LR: 1.5037e-06  \n",
      "EVAL: [0/17] Data 0.349 (0.349) Elapsed 0m 0s (remain 0m 9s) \n"
     ]
    },
    {
     "name": "stderr",
     "output_type": "stream",
     "text": [
      "labels: [ 8  3  6  4 10]\n",
      "pred_labels: [8 1 6 2 2]\n",
      "Epoch 35 - avg_train_loss: 0.0305  lr: 1.5037e-06  time: 77s\n",
      "Epoch 35 - Score: 0.6615\n",
      "\n",
      "oof score: 0.6788990825688074\n",
      "\n",
      "==================== fold: 0, seed: 1 training ====================\n"
     ]
    },
    {
     "name": "stdout",
     "output_type": "stream",
     "text": [
      "EVAL: [16/17] Data 0.000 (0.021) Elapsed 0m 4s (remain 0m 0s) \n",
      "fold\n",
      "0    131\n",
      "1    131\n",
      "2    131\n",
      "3    131\n",
      "4    130\n",
      "dtype: int64\n",
      "Epoch: [1][0/81] Data 0.547 (0.547) Elapsed 0m 1s (remain 1m 32s) Loss: 2.7896(2.7896) Grad Norm: 0.0000  LR: 1.0000e-03  \n",
      "Epoch: [1][80/81] Data 0.000 (0.007) Elapsed 1m 12s (remain 0m 0s) Loss: 2.1997(2.5227) Grad Norm: 9.7501  LR: 1.0000e-03  \n",
      "EVAL: [0/17] Data 0.388 (0.388) Elapsed 0m 0s (remain 0m 10s) \n"
     ]
    },
    {
     "name": "stderr",
     "output_type": "stream",
     "text": [
      "labels: [ 6  2 10  0  8]\n",
      "pred_labels: [6 9 2 6 9]\n",
      "Epoch 1 - avg_train_loss: 2.5227  lr: 1.0000e-03  time: 78s\n",
      "Epoch 1 - Score: 0.3359\n",
      "Epoch 1 - Save Best Score: 0.3359 Model\n"
     ]
    },
    {
     "name": "stdout",
     "output_type": "stream",
     "text": [
      "EVAL: [16/17] Data 0.000 (0.023) Elapsed 0m 4s (remain 0m 0s) \n",
      "Epoch: [2][0/81] Data 0.547 (0.547) Elapsed 0m 1s (remain 1m 37s) Loss: 2.1023(2.1023) Grad Norm: 0.0000  LR: 9.9598e-04  \n",
      "Epoch: [2][80/81] Data 0.000 (0.007) Elapsed 1m 13s (remain 0m 0s) Loss: 1.9960(2.2336) Grad Norm: 8.4976  LR: 9.9598e-04  \n",
      "EVAL: [0/17] Data 0.317 (0.317) Elapsed 0m 0s (remain 0m 9s) \n"
     ]
    },
    {
     "name": "stderr",
     "output_type": "stream",
     "text": [
      "labels: [ 6  2 10  0  8]\n",
      "pred_labels: [2 9 2 6 8]\n",
      "Epoch 2 - avg_train_loss: 2.2336  lr: 9.9598e-04  time: 78s\n",
      "Epoch 2 - Score: 0.3969\n",
      "Epoch 2 - Save Best Score: 0.3969 Model\n"
     ]
    },
    {
     "name": "stdout",
     "output_type": "stream",
     "text": [
      "EVAL: [16/17] Data 0.000 (0.019) Elapsed 0m 4s (remain 0m 0s) \n",
      "Epoch: [3][0/81] Data 0.429 (0.429) Elapsed 0m 1s (remain 1m 24s) Loss: 2.0108(2.0108) Grad Norm: 0.0000  LR: 9.8599e-04  \n",
      "Epoch: [3][80/81] Data 0.000 (0.006) Elapsed 1m 12s (remain 0m 0s) Loss: 1.4655(1.9336) Grad Norm: 7.7858  LR: 9.8599e-04  \n",
      "EVAL: [0/17] Data 0.340 (0.340) Elapsed 0m 0s (remain 0m 9s) \n"
     ]
    },
    {
     "name": "stderr",
     "output_type": "stream",
     "text": [
      "labels: [ 6  2 10  0  8]\n",
      "pred_labels: [6 2 2 6 8]\n",
      "Epoch 3 - avg_train_loss: 1.9336  lr: 9.8599e-04  time: 77s\n",
      "Epoch 3 - Score: 0.5115\n",
      "Epoch 3 - Save Best Score: 0.5115 Model\n"
     ]
    },
    {
     "name": "stdout",
     "output_type": "stream",
     "text": [
      "EVAL: [16/17] Data 0.000 (0.020) Elapsed 0m 4s (remain 0m 0s) \n",
      "Epoch: [4][0/81] Data 0.480 (0.480) Elapsed 0m 1s (remain 1m 30s) Loss: 1.6163(1.6163) Grad Norm: 0.0000  LR: 9.7213e-04  \n",
      "Epoch: [4][80/81] Data 0.000 (0.006) Elapsed 1m 13s (remain 0m 0s) Loss: 1.2422(1.8027) Grad Norm: 6.6838  LR: 9.7213e-04  \n",
      "EVAL: [0/17] Data 0.338 (0.338) Elapsed 0m 0s (remain 0m 9s) \n"
     ]
    },
    {
     "name": "stderr",
     "output_type": "stream",
     "text": [
      "labels: [ 6  2 10  0  8]\n",
      "pred_labels: [6 2 2 0 8]\n",
      "Epoch 4 - avg_train_loss: 1.8027  lr: 9.7213e-04  time: 78s\n",
      "Epoch 4 - Score: 0.5115\n"
     ]
    },
    {
     "name": "stdout",
     "output_type": "stream",
     "text": [
      "EVAL: [16/17] Data 0.000 (0.020) Elapsed 0m 4s (remain 0m 0s) \n",
      "Epoch: [5][0/81] Data 0.466 (0.466) Elapsed 0m 1s (remain 1m 28s) Loss: 1.2343(1.2343) Grad Norm: 0.0000  LR: 9.5449e-04  \n",
      "Epoch: [5][80/81] Data 0.000 (0.006) Elapsed 1m 13s (remain 0m 0s) Loss: 1.8074(1.5738) Grad Norm: 6.8968  LR: 9.5449e-04  \n",
      "EVAL: [0/17] Data 0.317 (0.317) Elapsed 0m 0s (remain 0m 8s) \n"
     ]
    },
    {
     "name": "stderr",
     "output_type": "stream",
     "text": [
      "labels: [ 6  2 10  0  8]\n",
      "pred_labels: [6 2 2 0 8]\n",
      "Epoch 5 - avg_train_loss: 1.5738  lr: 9.5449e-04  time: 78s\n",
      "Epoch 5 - Score: 0.5649\n",
      "Epoch 5 - Save Best Score: 0.5649 Model\n"
     ]
    },
    {
     "name": "stdout",
     "output_type": "stream",
     "text": [
      "EVAL: [16/17] Data 0.000 (0.019) Elapsed 0m 4s (remain 0m 0s) \n",
      "Epoch: [6][0/81] Data 0.403 (0.403) Elapsed 0m 1s (remain 1m 27s) Loss: 1.0487(1.0487) Grad Norm: 0.0000  LR: 9.3324e-04  \n",
      "Epoch: [6][80/81] Data 0.000 (0.005) Elapsed 1m 13s (remain 0m 0s) Loss: 0.5060(1.3757) Grad Norm: 7.4111  LR: 9.3324e-04  \n",
      "EVAL: [0/17] Data 0.356 (0.356) Elapsed 0m 0s (remain 0m 9s) \n"
     ]
    },
    {
     "name": "stderr",
     "output_type": "stream",
     "text": [
      "labels: [ 6  2 10  0  8]\n",
      "pred_labels: [6 2 1 0 8]\n",
      "Epoch 6 - avg_train_loss: 1.3757  lr: 9.3324e-04  time: 78s\n",
      "Epoch 6 - Score: 0.5954\n",
      "Epoch 6 - Save Best Score: 0.5954 Model\n"
     ]
    },
    {
     "name": "stdout",
     "output_type": "stream",
     "text": [
      "EVAL: [16/17] Data 0.000 (0.021) Elapsed 0m 4s (remain 0m 0s) \n",
      "Epoch: [7][0/81] Data 0.593 (0.593) Elapsed 0m 1s (remain 1m 38s) Loss: 1.6739(1.6739) Grad Norm: 0.0000  LR: 9.0853e-04  \n",
      "Epoch: [7][80/81] Data 0.000 (0.008) Elapsed 1m 13s (remain 0m 0s) Loss: 2.0965(1.2586) Grad Norm: 6.2191  LR: 9.0853e-04  \n",
      "EVAL: [0/17] Data 0.331 (0.331) Elapsed 0m 0s (remain 0m 9s) \n"
     ]
    },
    {
     "name": "stderr",
     "output_type": "stream",
     "text": [
      "labels: [ 6  2 10  0  8]\n",
      "pred_labels: [6 2 4 0 8]\n",
      "Epoch 7 - avg_train_loss: 1.2586  lr: 9.0853e-04  time: 78s\n",
      "Epoch 7 - Score: 0.5420\n"
     ]
    },
    {
     "name": "stdout",
     "output_type": "stream",
     "text": [
      "EVAL: [16/17] Data 0.000 (0.020) Elapsed 0m 4s (remain 0m 0s) \n",
      "Epoch: [8][0/81] Data 0.362 (0.362) Elapsed 0m 0s (remain 1m 18s) Loss: 2.0566(2.0566) Grad Norm: 0.0000  LR: 8.8057e-04  \n",
      "Epoch: [8][80/81] Data 0.000 (0.005) Elapsed 1m 12s (remain 0m 0s) Loss: 1.8399(1.2264) Grad Norm: 6.9576  LR: 8.8057e-04  \n",
      "EVAL: [0/17] Data 0.338 (0.338) Elapsed 0m 0s (remain 0m 9s) \n"
     ]
    },
    {
     "name": "stderr",
     "output_type": "stream",
     "text": [
      "labels: [ 6  2 10  0  8]\n",
      "pred_labels: [6 2 1 0 8]\n",
      "Epoch 8 - avg_train_loss: 1.2264  lr: 8.8057e-04  time: 77s\n",
      "Epoch 8 - Score: 0.6107\n",
      "Epoch 8 - Save Best Score: 0.6107 Model\n"
     ]
    },
    {
     "name": "stdout",
     "output_type": "stream",
     "text": [
      "EVAL: [16/17] Data 0.000 (0.020) Elapsed 0m 4s (remain 0m 0s) \n",
      "Epoch: [9][0/81] Data 0.493 (0.493) Elapsed 0m 1s (remain 1m 32s) Loss: 0.1334(0.1334) Grad Norm: 0.0000  LR: 8.4958e-04  \n",
      "Epoch: [9][80/81] Data 0.000 (0.006) Elapsed 1m 13s (remain 0m 0s) Loss: 2.1004(1.0846) Grad Norm: 5.2511  LR: 8.4958e-04  \n",
      "EVAL: [0/17] Data 0.326 (0.326) Elapsed 0m 0s (remain 0m 8s) \n"
     ]
    },
    {
     "name": "stderr",
     "output_type": "stream",
     "text": [
      "labels: [ 6  2 10  0  8]\n",
      "pred_labels: [6 2 5 0 8]\n",
      "Epoch 9 - avg_train_loss: 1.0846  lr: 8.4958e-04  time: 78s\n",
      "Epoch 9 - Score: 0.5802\n"
     ]
    },
    {
     "name": "stdout",
     "output_type": "stream",
     "text": [
      "EVAL: [16/17] Data 0.000 (0.019) Elapsed 0m 4s (remain 0m 0s) \n",
      "Epoch: [10][0/81] Data 0.508 (0.508) Elapsed 0m 1s (remain 1m 30s) Loss: 1.4297(1.4297) Grad Norm: 0.0000  LR: 8.1581e-04  \n",
      "Epoch: [10][80/81] Data 0.000 (0.006) Elapsed 1m 12s (remain 0m 0s) Loss: 2.0767(1.0245) Grad Norm: 4.5465  LR: 8.1581e-04  \n",
      "EVAL: [0/17] Data 0.316 (0.316) Elapsed 0m 0s (remain 0m 8s) \n"
     ]
    },
    {
     "name": "stderr",
     "output_type": "stream",
     "text": [
      "labels: [ 6  2 10  0  8]\n",
      "pred_labels: [6 2 4 0 8]\n",
      "Epoch 10 - avg_train_loss: 1.0245  lr: 8.1581e-04  time: 77s\n",
      "Epoch 10 - Score: 0.5878\n"
     ]
    },
    {
     "name": "stdout",
     "output_type": "stream",
     "text": [
      "EVAL: [16/17] Data 0.000 (0.019) Elapsed 0m 4s (remain 0m 0s) \n",
      "Epoch: [11][0/81] Data 0.421 (0.421) Elapsed 0m 1s (remain 1m 25s) Loss: 0.5484(0.5484) Grad Norm: 0.0000  LR: 7.7953e-04  \n",
      "Epoch: [11][80/81] Data 0.000 (0.005) Elapsed 1m 12s (remain 0m 0s) Loss: 1.2098(1.0730) Grad Norm: 4.8545  LR: 7.7953e-04  \n",
      "EVAL: [0/17] Data 0.337 (0.337) Elapsed 0m 0s (remain 0m 9s) \n"
     ]
    },
    {
     "name": "stderr",
     "output_type": "stream",
     "text": [
      "labels: [ 6  2 10  0  8]\n",
      "pred_labels: [6 5 5 0 8]\n",
      "Epoch 11 - avg_train_loss: 1.0730  lr: 7.7953e-04  time: 77s\n",
      "Epoch 11 - Score: 0.5496\n"
     ]
    },
    {
     "name": "stdout",
     "output_type": "stream",
     "text": [
      "EVAL: [16/17] Data 0.000 (0.020) Elapsed 0m 4s (remain 0m 0s) \n",
      "Epoch: [12][0/81] Data 0.428 (0.428) Elapsed 0m 1s (remain 1m 27s) Loss: 0.8873(0.8873) Grad Norm: 0.0000  LR: 7.4103e-04  \n",
      "Epoch: [12][80/81] Data 0.000 (0.006) Elapsed 1m 12s (remain 0m 0s) Loss: 0.2331(1.0197) Grad Norm: 5.2057  LR: 7.4103e-04  \n",
      "EVAL: [0/17] Data 0.349 (0.349) Elapsed 0m 0s (remain 0m 9s) \n"
     ]
    },
    {
     "name": "stderr",
     "output_type": "stream",
     "text": [
      "labels: [ 6  2 10  0  8]\n",
      "pred_labels: [6 2 3 0 8]\n",
      "Epoch 12 - avg_train_loss: 1.0197  lr: 7.4103e-04  time: 77s\n",
      "Epoch 12 - Score: 0.5802\n"
     ]
    },
    {
     "name": "stdout",
     "output_type": "stream",
     "text": [
      "EVAL: [16/17] Data 0.000 (0.021) Elapsed 0m 4s (remain 0m 0s) \n",
      "Epoch: [13][0/81] Data 0.469 (0.469) Elapsed 0m 1s (remain 1m 27s) Loss: 1.2875(1.2875) Grad Norm: 0.0000  LR: 7.0063e-04  \n",
      "Epoch: [13][80/81] Data 0.000 (0.006) Elapsed 1m 12s (remain 0m 0s) Loss: 2.1990(0.9437) Grad Norm: 5.3995  LR: 7.0063e-04  \n",
      "EVAL: [0/17] Data 0.392 (0.392) Elapsed 0m 0s (remain 0m 10s) \n"
     ]
    },
    {
     "name": "stderr",
     "output_type": "stream",
     "text": [
      "labels: [ 6  2 10  0  8]\n",
      "pred_labels: [ 6  2 10  0  8]\n",
      "Epoch 13 - avg_train_loss: 0.9437  lr: 7.0063e-04  time: 77s\n",
      "Epoch 13 - Score: 0.5802\n"
     ]
    },
    {
     "name": "stdout",
     "output_type": "stream",
     "text": [
      "EVAL: [16/17] Data 0.000 (0.023) Elapsed 0m 4s (remain 0m 0s) \n",
      "Epoch: [14][0/81] Data 0.523 (0.523) Elapsed 0m 1s (remain 1m 30s) Loss: 1.0131(1.0131) Grad Norm: 0.0000  LR: 6.5865e-04  \n",
      "Epoch: [14][80/81] Data 0.000 (0.007) Elapsed 1m 12s (remain 0m 0s) Loss: 1.4325(1.0483) Grad Norm: 4.5334  LR: 6.5865e-04  \n",
      "EVAL: [0/17] Data 0.339 (0.339) Elapsed 0m 0s (remain 0m 9s) \n"
     ]
    },
    {
     "name": "stderr",
     "output_type": "stream",
     "text": [
      "labels: [ 6  2 10  0  8]\n",
      "pred_labels: [6 2 3 0 8]\n",
      "Epoch 14 - avg_train_loss: 1.0483  lr: 6.5865e-04  time: 77s\n",
      "Epoch 14 - Score: 0.5954\n"
     ]
    },
    {
     "name": "stdout",
     "output_type": "stream",
     "text": [
      "EVAL: [16/17] Data 0.000 (0.020) Elapsed 0m 4s (remain 0m 0s) \n",
      "Epoch: [15][0/81] Data 0.433 (0.433) Elapsed 0m 1s (remain 1m 25s) Loss: 1.0176(1.0176) Grad Norm: 0.0000  LR: 6.1542e-04  \n",
      "Epoch: [15][80/81] Data 0.000 (0.006) Elapsed 1m 12s (remain 0m 0s) Loss: 0.2429(0.6930) Grad Norm: 4.3468  LR: 6.1542e-04  \n",
      "EVAL: [0/17] Data 0.366 (0.366) Elapsed 0m 0s (remain 0m 9s) \n"
     ]
    },
    {
     "name": "stderr",
     "output_type": "stream",
     "text": [
      "labels: [ 6  2 10  0  8]\n",
      "pred_labels: [6 2 3 0 8]\n",
      "Epoch 15 - avg_train_loss: 0.6930  lr: 6.1542e-04  time: 77s\n",
      "Epoch 15 - Score: 0.6183\n",
      "Epoch 15 - Save Best Score: 0.6183 Model\n"
     ]
    },
    {
     "name": "stdout",
     "output_type": "stream",
     "text": [
      "EVAL: [16/17] Data 0.000 (0.022) Elapsed 0m 4s (remain 0m 0s) \n",
      "Epoch: [16][0/81] Data 0.499 (0.499) Elapsed 0m 1s (remain 1m 31s) Loss: 0.3229(0.3229) Grad Norm: 0.0000  LR: 5.7130e-04  \n",
      "Epoch: [16][80/81] Data 0.000 (0.006) Elapsed 1m 12s (remain 0m 0s) Loss: 0.5538(0.7794) Grad Norm: 3.5917  LR: 5.7130e-04  \n",
      "EVAL: [0/17] Data 0.318 (0.318) Elapsed 0m 0s (remain 0m 8s) \n"
     ]
    },
    {
     "name": "stderr",
     "output_type": "stream",
     "text": [
      "labels: [ 6  2 10  0  8]\n",
      "pred_labels: [6 2 2 0 8]\n",
      "Epoch 16 - avg_train_loss: 0.7794  lr: 5.7130e-04  time: 77s\n",
      "Epoch 16 - Score: 0.6107\n"
     ]
    },
    {
     "name": "stdout",
     "output_type": "stream",
     "text": [
      "EVAL: [16/17] Data 0.000 (0.019) Elapsed 0m 4s (remain 0m 0s) \n",
      "Epoch: [17][0/81] Data 0.421 (0.421) Elapsed 0m 1s (remain 1m 28s) Loss: 0.1467(0.1467) Grad Norm: 0.0000  LR: 5.2663e-04  \n",
      "Epoch: [17][80/81] Data 0.000 (0.005) Elapsed 1m 12s (remain 0m 0s) Loss: 1.5349(0.8318) Grad Norm: 4.4233  LR: 5.2663e-04  \n",
      "EVAL: [0/17] Data 0.340 (0.340) Elapsed 0m 0s (remain 0m 9s) \n"
     ]
    },
    {
     "name": "stderr",
     "output_type": "stream",
     "text": [
      "labels: [ 6  2 10  0  8]\n",
      "pred_labels: [ 6  2 10  0  8]\n",
      "Epoch 17 - avg_train_loss: 0.8318  lr: 5.2663e-04  time: 77s\n",
      "Epoch 17 - Score: 0.6183\n"
     ]
    },
    {
     "name": "stdout",
     "output_type": "stream",
     "text": [
      "EVAL: [16/17] Data 0.000 (0.020) Elapsed 0m 4s (remain 0m 0s) \n",
      "Epoch: [18][0/81] Data 0.481 (0.481) Elapsed 0m 1s (remain 1m 28s) Loss: 1.6170(1.6170) Grad Norm: 0.0000  LR: 4.8179e-04  \n",
      "Epoch: [18][80/81] Data 0.000 (0.006) Elapsed 1m 12s (remain 0m 0s) Loss: 1.1389(0.7499) Grad Norm: 5.0152  LR: 4.8179e-04  \n",
      "EVAL: [0/17] Data 0.282 (0.282) Elapsed 0m 0s (remain 0m 8s) \n"
     ]
    },
    {
     "name": "stderr",
     "output_type": "stream",
     "text": [
      "labels: [ 6  2 10  0  8]\n",
      "pred_labels: [ 6  2 10  0  8]\n",
      "Epoch 18 - avg_train_loss: 0.7499  lr: 4.8179e-04  time: 77s\n",
      "Epoch 18 - Score: 0.6031\n"
     ]
    },
    {
     "name": "stdout",
     "output_type": "stream",
     "text": [
      "EVAL: [16/17] Data 0.000 (0.017) Elapsed 0m 4s (remain 0m 0s) \n",
      "Epoch: [19][0/81] Data 0.494 (0.494) Elapsed 0m 1s (remain 1m 32s) Loss: 0.0375(0.0375) Grad Norm: 0.0000  LR: 4.3712e-04  \n",
      "Epoch: [19][80/81] Data 0.000 (0.006) Elapsed 1m 12s (remain 0m 0s) Loss: 0.0833(0.7562) Grad Norm: 3.5444  LR: 4.3712e-04  \n",
      "EVAL: [0/17] Data 0.309 (0.309) Elapsed 0m 0s (remain 0m 8s) \n"
     ]
    },
    {
     "name": "stderr",
     "output_type": "stream",
     "text": [
      "labels: [ 6  2 10  0  8]\n",
      "pred_labels: [ 6  2 10  0  8]\n",
      "Epoch 19 - avg_train_loss: 0.7562  lr: 4.3712e-04  time: 77s\n",
      "Epoch 19 - Score: 0.6107\n"
     ]
    },
    {
     "name": "stdout",
     "output_type": "stream",
     "text": [
      "EVAL: [16/17] Data 0.000 (0.018) Elapsed 0m 4s (remain 0m 0s) \n",
      "Epoch: [20][0/81] Data 0.442 (0.442) Elapsed 0m 1s (remain 1m 25s) Loss: 0.1379(0.1379) Grad Norm: 0.0000  LR: 3.9299e-04  \n",
      "Epoch: [20][80/81] Data 0.000 (0.006) Elapsed 1m 12s (remain 0m 0s) Loss: 0.0682(0.6103) Grad Norm: 4.3132  LR: 3.9299e-04  \n",
      "EVAL: [0/17] Data 0.339 (0.339) Elapsed 0m 0s (remain 0m 9s) \n"
     ]
    },
    {
     "name": "stderr",
     "output_type": "stream",
     "text": [
      "labels: [ 6  2 10  0  8]\n",
      "pred_labels: [ 6  2 10  0  8]\n",
      "Epoch 20 - avg_train_loss: 0.6103  lr: 3.9299e-04  time: 77s\n",
      "Epoch 20 - Score: 0.6183\n"
     ]
    },
    {
     "name": "stdout",
     "output_type": "stream",
     "text": [
      "EVAL: [16/17] Data 0.000 (0.020) Elapsed 0m 4s (remain 0m 0s) \n",
      "Epoch: [21][0/81] Data 0.435 (0.435) Elapsed 0m 1s (remain 1m 24s) Loss: 1.2928(1.2928) Grad Norm: 0.0000  LR: 3.4975e-04  \n",
      "Epoch: [21][80/81] Data 0.000 (0.006) Elapsed 1m 12s (remain 0m 0s) Loss: 1.3159(0.7020) Grad Norm: 3.3631  LR: 3.4975e-04  \n",
      "EVAL: [0/17] Data 0.352 (0.352) Elapsed 0m 0s (remain 0m 9s) \n"
     ]
    },
    {
     "name": "stderr",
     "output_type": "stream",
     "text": [
      "labels: [ 6  2 10  0  8]\n",
      "pred_labels: [ 6  2 10  0  8]\n",
      "Epoch 21 - avg_train_loss: 0.7020  lr: 3.4975e-04  time: 77s\n",
      "Epoch 21 - Score: 0.6260\n",
      "Epoch 21 - Save Best Score: 0.6260 Model\n"
     ]
    },
    {
     "name": "stdout",
     "output_type": "stream",
     "text": [
      "EVAL: [16/17] Data 0.000 (0.021) Elapsed 0m 4s (remain 0m 0s) \n",
      "Epoch: [22][0/81] Data 0.453 (0.453) Elapsed 0m 1s (remain 1m 26s) Loss: 1.5193(1.5193) Grad Norm: 0.0000  LR: 3.0775e-04  \n",
      "Epoch: [22][80/81] Data 0.000 (0.006) Elapsed 1m 12s (remain 0m 0s) Loss: 0.0726(0.6764) Grad Norm: 1.3749  LR: 3.0775e-04  \n",
      "EVAL: [0/17] Data 0.258 (0.258) Elapsed 0m 0s (remain 0m 8s) \n"
     ]
    },
    {
     "name": "stderr",
     "output_type": "stream",
     "text": [
      "labels: [ 6  2 10  0  8]\n",
      "pred_labels: [ 6  2 10  0  8]\n",
      "Epoch 22 - avg_train_loss: 0.6764  lr: 3.0775e-04  time: 77s\n",
      "Epoch 22 - Score: 0.6260\n"
     ]
    },
    {
     "name": "stdout",
     "output_type": "stream",
     "text": [
      "EVAL: [16/17] Data 0.000 (0.015) Elapsed 0m 4s (remain 0m 0s) \n",
      "Epoch: [23][0/81] Data 0.462 (0.462) Elapsed 0m 1s (remain 1m 27s) Loss: 0.0691(0.0691) Grad Norm: 0.0000  LR: 2.6732e-04  \n",
      "Epoch: [23][80/81] Data 0.000 (0.006) Elapsed 1m 12s (remain 0m 0s) Loss: 0.0852(0.6760) Grad Norm: 3.4369  LR: 2.6732e-04  \n",
      "EVAL: [0/17] Data 0.343 (0.343) Elapsed 0m 0s (remain 0m 9s) \n"
     ]
    },
    {
     "name": "stderr",
     "output_type": "stream",
     "text": [
      "labels: [ 6  2 10  0  8]\n",
      "pred_labels: [ 6  2 10  0  8]\n",
      "Epoch 23 - avg_train_loss: 0.6760  lr: 2.6732e-04  time: 77s\n",
      "Epoch 23 - Score: 0.6107\n"
     ]
    },
    {
     "name": "stdout",
     "output_type": "stream",
     "text": [
      "EVAL: [16/17] Data 0.000 (0.020) Elapsed 0m 4s (remain 0m 0s) \n",
      "Epoch: [24][0/81] Data 0.517 (0.517) Elapsed 0m 1s (remain 1m 30s) Loss: 1.2554(1.2554) Grad Norm: 0.0000  LR: 2.2880e-04  \n",
      "Epoch: [24][80/81] Data 0.000 (0.007) Elapsed 1m 12s (remain 0m 0s) Loss: 0.8590(0.6424) Grad Norm: 3.3304  LR: 2.2880e-04  \n",
      "EVAL: [0/17] Data 0.328 (0.328) Elapsed 0m 0s (remain 0m 9s) \n"
     ]
    },
    {
     "name": "stderr",
     "output_type": "stream",
     "text": [
      "labels: [ 6  2 10  0  8]\n",
      "pred_labels: [ 6  2 10  0  8]\n",
      "Epoch 24 - avg_train_loss: 0.6424  lr: 2.2880e-04  time: 77s\n",
      "Epoch 24 - Score: 0.6336\n",
      "Epoch 24 - Save Best Score: 0.6336 Model\n"
     ]
    },
    {
     "name": "stdout",
     "output_type": "stream",
     "text": [
      "EVAL: [16/17] Data 0.000 (0.019) Elapsed 0m 4s (remain 0m 0s) \n",
      "Epoch: [25][0/81] Data 0.502 (0.502) Elapsed 0m 1s (remain 1m 30s) Loss: 0.7092(0.7092) Grad Norm: 0.0000  LR: 1.9248e-04  \n",
      "Epoch: [25][80/81] Data 0.000 (0.006) Elapsed 1m 12s (remain 0m 0s) Loss: 0.8811(0.6685) Grad Norm: 1.9982  LR: 1.9248e-04  \n",
      "EVAL: [0/17] Data 0.303 (0.303) Elapsed 0m 0s (remain 0m 8s) \n"
     ]
    },
    {
     "name": "stderr",
     "output_type": "stream",
     "text": [
      "labels: [ 6  2 10  0  8]\n",
      "pred_labels: [ 6  2 10  0  8]\n",
      "Epoch 25 - avg_train_loss: 0.6685  lr: 1.9248e-04  time: 77s\n",
      "Epoch 25 - Score: 0.6489\n",
      "Epoch 25 - Save Best Score: 0.6489 Model\n"
     ]
    },
    {
     "name": "stdout",
     "output_type": "stream",
     "text": [
      "EVAL: [16/17] Data 0.000 (0.018) Elapsed 0m 4s (remain 0m 0s) \n",
      "Epoch: [26][0/81] Data 0.430 (0.430) Elapsed 0m 1s (remain 1m 29s) Loss: 1.2400(1.2400) Grad Norm: 0.0000  LR: 1.5867e-04  \n",
      "Epoch: [26][80/81] Data 0.000 (0.006) Elapsed 1m 12s (remain 0m 0s) Loss: 0.0300(0.6852) Grad Norm: 4.2460  LR: 1.5867e-04  \n",
      "EVAL: [0/17] Data 0.316 (0.316) Elapsed 0m 0s (remain 0m 8s) \n"
     ]
    },
    {
     "name": "stderr",
     "output_type": "stream",
     "text": [
      "labels: [ 6  2 10  0  8]\n",
      "pred_labels: [ 6  2 10  0  8]\n",
      "Epoch 26 - avg_train_loss: 0.6852  lr: 1.5867e-04  time: 77s\n",
      "Epoch 26 - Score: 0.6336\n"
     ]
    },
    {
     "name": "stdout",
     "output_type": "stream",
     "text": [
      "EVAL: [16/17] Data 0.000 (0.019) Elapsed 0m 4s (remain 0m 0s) \n",
      "Epoch: [27][0/81] Data 0.429 (0.429) Elapsed 0m 1s (remain 1m 23s) Loss: 0.0187(0.0187) Grad Norm: 0.0000  LR: 1.2762e-04  \n",
      "Epoch: [27][80/81] Data 0.000 (0.006) Elapsed 1m 12s (remain 0m 0s) Loss: 1.8030(0.6649) Grad Norm: 4.0827  LR: 1.2762e-04  \n",
      "EVAL: [0/17] Data 0.311 (0.311) Elapsed 0m 0s (remain 0m 9s) \n"
     ]
    },
    {
     "name": "stderr",
     "output_type": "stream",
     "text": [
      "labels: [ 6  2 10  0  8]\n",
      "pred_labels: [ 6  2 10  0  8]\n",
      "Epoch 27 - avg_train_loss: 0.6649  lr: 1.2762e-04  time: 77s\n",
      "Epoch 27 - Score: 0.6336\n"
     ]
    },
    {
     "name": "stdout",
     "output_type": "stream",
     "text": [
      "EVAL: [16/17] Data 0.000 (0.019) Elapsed 0m 4s (remain 0m 0s) \n",
      "Epoch: [28][0/81] Data 0.467 (0.467) Elapsed 0m 1s (remain 1m 29s) Loss: 0.1154(0.1154) Grad Norm: 0.0000  LR: 9.9584e-05  \n",
      "Epoch: [28][80/81] Data 0.000 (0.006) Elapsed 1m 12s (remain 0m 0s) Loss: 0.7242(0.5616) Grad Norm: 1.9088  LR: 9.9584e-05  \n",
      "EVAL: [0/17] Data 0.369 (0.369) Elapsed 0m 0s (remain 0m 9s) \n"
     ]
    },
    {
     "name": "stderr",
     "output_type": "stream",
     "text": [
      "labels: [ 6  2 10  0  8]\n",
      "pred_labels: [ 6  2 10  0  8]\n",
      "Epoch 28 - avg_train_loss: 0.5616  lr: 9.9584e-05  time: 77s\n",
      "Epoch 28 - Score: 0.6489\n"
     ]
    },
    {
     "name": "stdout",
     "output_type": "stream",
     "text": [
      "EVAL: [16/17] Data 0.000 (0.022) Elapsed 0m 4s (remain 0m 0s) \n",
      "Epoch: [29][0/81] Data 0.449 (0.449) Elapsed 0m 1s (remain 1m 30s) Loss: 1.3130(1.3130) Grad Norm: 0.0000  LR: 7.4783e-05  \n",
      "Epoch: [29][80/81] Data 0.000 (0.006) Elapsed 1m 12s (remain 0m 0s) Loss: 1.2179(0.6219) Grad Norm: 2.2062  LR: 7.4783e-05  \n",
      "EVAL: [0/17] Data 0.333 (0.333) Elapsed 0m 0s (remain 0m 9s) \n"
     ]
    },
    {
     "name": "stderr",
     "output_type": "stream",
     "text": [
      "labels: [ 6  2 10  0  8]\n",
      "pred_labels: [ 6  2 10  0  8]\n",
      "Epoch 29 - avg_train_loss: 0.6219  lr: 7.4783e-05  time: 77s\n",
      "Epoch 29 - Score: 0.6565\n",
      "Epoch 29 - Save Best Score: 0.6565 Model\n"
     ]
    },
    {
     "name": "stdout",
     "output_type": "stream",
     "text": [
      "EVAL: [16/17] Data 0.000 (0.020) Elapsed 0m 4s (remain 0m 0s) \n",
      "Epoch: [30][0/81] Data 0.508 (0.508) Elapsed 0m 1s (remain 1m 35s) Loss: 0.0200(0.0200) Grad Norm: 0.0000  LR: 5.3404e-05  \n",
      "Epoch: [30][80/81] Data 0.000 (0.007) Elapsed 1m 12s (remain 0m 0s) Loss: 1.4321(0.5920) Grad Norm: 3.0644  LR: 5.3404e-05  \n",
      "EVAL: [0/17] Data 0.375 (0.375) Elapsed 0m 0s (remain 0m 9s) \n"
     ]
    },
    {
     "name": "stderr",
     "output_type": "stream",
     "text": [
      "labels: [ 6  2 10  0  8]\n",
      "pred_labels: [ 6  2 10  0  8]\n",
      "Epoch 30 - avg_train_loss: 0.5920  lr: 5.3404e-05  time: 77s\n",
      "Epoch 30 - Score: 0.6336\n"
     ]
    },
    {
     "name": "stdout",
     "output_type": "stream",
     "text": [
      "EVAL: [16/17] Data 0.000 (0.022) Elapsed 0m 4s (remain 0m 0s) \n",
      "Epoch: [31][0/81] Data 0.477 (0.477) Elapsed 0m 1s (remain 1m 27s) Loss: 0.0476(0.0476) Grad Norm: 0.0000  LR: 3.5607e-05  \n",
      "Epoch: [31][80/81] Data 0.000 (0.006) Elapsed 1m 12s (remain 0m 0s) Loss: 0.0546(0.0415) Grad Norm: 0.4505  LR: 3.5607e-05  \n",
      "EVAL: [0/17] Data 0.276 (0.276) Elapsed 0m 0s (remain 0m 8s) \n"
     ]
    },
    {
     "name": "stderr",
     "output_type": "stream",
     "text": [
      "labels: [ 6  2 10  0  8]\n",
      "pred_labels: [ 6  2 10  0  8]\n",
      "Epoch 31 - avg_train_loss: 0.0415  lr: 3.5607e-05  time: 77s\n",
      "Epoch 31 - Score: 0.6412\n"
     ]
    },
    {
     "name": "stdout",
     "output_type": "stream",
     "text": [
      "EVAL: [16/17] Data 0.000 (0.016) Elapsed 0m 4s (remain 0m 0s) \n",
      "Epoch: [32][0/81] Data 0.438 (0.438) Elapsed 0m 1s (remain 1m 28s) Loss: 0.0157(0.0157) Grad Norm: 0.0000  LR: 2.1508e-05  \n",
      "Epoch: [32][80/81] Data 0.000 (0.006) Elapsed 1m 12s (remain 0m 0s) Loss: 0.0166(0.0474) Grad Norm: 0.9289  LR: 2.1508e-05  \n",
      "EVAL: [0/17] Data 0.332 (0.332) Elapsed 0m 0s (remain 0m 9s) \n"
     ]
    },
    {
     "name": "stderr",
     "output_type": "stream",
     "text": [
      "labels: [ 6  2 10  0  8]\n",
      "pred_labels: [ 6  2 10  0  8]\n",
      "Epoch 32 - avg_train_loss: 0.0474  lr: 2.1508e-05  time: 77s\n",
      "Epoch 32 - Score: 0.6489\n"
     ]
    },
    {
     "name": "stdout",
     "output_type": "stream",
     "text": [
      "EVAL: [16/17] Data 0.000 (0.020) Elapsed 0m 4s (remain 0m 0s) \n",
      "Epoch: [33][0/81] Data 0.405 (0.405) Elapsed 0m 1s (remain 1m 25s) Loss: 0.0134(0.0134) Grad Norm: 0.0000  LR: 1.1173e-05  \n",
      "Epoch: [33][80/81] Data 0.000 (0.005) Elapsed 1m 12s (remain 0m 0s) Loss: 0.0063(0.0311) Grad Norm: 0.3019  LR: 1.1173e-05  \n",
      "EVAL: [0/17] Data 0.323 (0.323) Elapsed 0m 0s (remain 0m 8s) \n"
     ]
    },
    {
     "name": "stderr",
     "output_type": "stream",
     "text": [
      "labels: [ 6  2 10  0  8]\n",
      "pred_labels: [ 6  2 10  0  8]\n",
      "Epoch 33 - avg_train_loss: 0.0311  lr: 1.1173e-05  time: 77s\n",
      "Epoch 33 - Score: 0.6412\n"
     ]
    },
    {
     "name": "stdout",
     "output_type": "stream",
     "text": [
      "EVAL: [16/17] Data 0.000 (0.019) Elapsed 0m 4s (remain 0m 0s) \n",
      "Epoch: [34][0/81] Data 0.479 (0.479) Elapsed 0m 1s (remain 1m 27s) Loss: 0.0152(0.0152) Grad Norm: 0.0000  LR: 4.5796e-06  \n",
      "Epoch: [34][80/81] Data 0.000 (0.006) Elapsed 1m 12s (remain 0m 0s) Loss: 0.0112(0.0266) Grad Norm: 1.0571  LR: 4.5796e-06  \n",
      "EVAL: [0/17] Data 0.339 (0.339) Elapsed 0m 0s (remain 0m 9s) \n"
     ]
    },
    {
     "name": "stderr",
     "output_type": "stream",
     "text": [
      "labels: [ 6  2 10  0  8]\n",
      "pred_labels: [ 6  2 10  0  8]\n",
      "Epoch 34 - avg_train_loss: 0.0266  lr: 4.5796e-06  time: 77s\n",
      "Epoch 34 - Score: 0.6489\n"
     ]
    },
    {
     "name": "stdout",
     "output_type": "stream",
     "text": [
      "EVAL: [16/17] Data 0.000 (0.020) Elapsed 0m 4s (remain 0m 0s) \n",
      "Epoch: [35][0/81] Data 0.433 (0.433) Elapsed 0m 1s (remain 1m 24s) Loss: 0.1215(0.1215) Grad Norm: 0.0000  LR: 1.5037e-06  \n",
      "Epoch: [35][80/81] Data 0.000 (0.006) Elapsed 1m 12s (remain 0m 0s) Loss: 0.0057(0.0292) Grad Norm: 0.2688  LR: 1.5037e-06  \n",
      "EVAL: [0/17] Data 0.345 (0.345) Elapsed 0m 0s (remain 0m 9s) \n"
     ]
    },
    {
     "name": "stderr",
     "output_type": "stream",
     "text": [
      "labels: [ 6  2 10  0  8]\n",
      "pred_labels: [ 6  2 10  0  8]\n",
      "Epoch 35 - avg_train_loss: 0.0292  lr: 1.5037e-06  time: 77s\n",
      "Epoch 35 - Score: 0.6412\n",
      "==================== fold: 1, seed: 1 training ====================\n"
     ]
    },
    {
     "name": "stdout",
     "output_type": "stream",
     "text": [
      "EVAL: [16/17] Data 0.000 (0.021) Elapsed 0m 4s (remain 0m 0s) \n",
      "Epoch: [1][0/81] Data 0.440 (0.440) Elapsed 0m 1s (remain 1m 24s) Loss: 2.8640(2.8640) Grad Norm: 0.0000  LR: 1.0000e-03  \n",
      "Epoch: [1][80/81] Data 0.000 (0.006) Elapsed 1m 12s (remain 0m 0s) Loss: 2.1558(2.5041) Grad Norm: 6.7629  LR: 1.0000e-03  \n",
      "EVAL: [0/17] Data 0.358 (0.358) Elapsed 0m 0s (remain 0m 9s) \n"
     ]
    },
    {
     "name": "stderr",
     "output_type": "stream",
     "text": [
      "labels: [12 11  2  2 11]\n",
      "pred_labels: [2 9 2 2 2]\n",
      "Epoch 1 - avg_train_loss: 2.5041  lr: 1.0000e-03  time: 77s\n",
      "Epoch 1 - Score: 0.2824\n",
      "Epoch 1 - Save Best Score: 0.2824 Model\n"
     ]
    },
    {
     "name": "stdout",
     "output_type": "stream",
     "text": [
      "EVAL: [16/17] Data 0.000 (0.021) Elapsed 0m 4s (remain 0m 0s) \n",
      "Epoch: [2][0/81] Data 0.510 (0.510) Elapsed 0m 1s (remain 1m 37s) Loss: 2.1575(2.1575) Grad Norm: 0.0000  LR: 9.9598e-04  \n",
      "Epoch: [2][80/81] Data 0.000 (0.007) Elapsed 1m 13s (remain 0m 0s) Loss: 2.0640(2.2241) Grad Norm: 8.0786  LR: 9.9598e-04  \n",
      "EVAL: [0/17] Data 0.360 (0.360) Elapsed 0m 0s (remain 0m 9s) \n"
     ]
    },
    {
     "name": "stderr",
     "output_type": "stream",
     "text": [
      "labels: [12 11  2  2 11]\n",
      "pred_labels: [2 7 2 2 2]\n",
      "Epoch 2 - avg_train_loss: 2.2241  lr: 9.9598e-04  time: 78s\n",
      "Epoch 2 - Score: 0.3130\n",
      "Epoch 2 - Save Best Score: 0.3130 Model\n"
     ]
    },
    {
     "name": "stdout",
     "output_type": "stream",
     "text": [
      "EVAL: [16/17] Data 0.000 (0.021) Elapsed 0m 4s (remain 0m 0s) \n",
      "Epoch: [3][0/81] Data 0.516 (0.516) Elapsed 0m 1s (remain 1m 33s) Loss: 2.3407(2.3407) Grad Norm: 0.0000  LR: 9.8599e-04  \n",
      "Epoch: [3][80/81] Data 0.000 (0.007) Elapsed 1m 13s (remain 0m 0s) Loss: 2.2584(2.0148) Grad Norm: 7.4865  LR: 9.8599e-04  \n",
      "EVAL: [0/17] Data 0.372 (0.372) Elapsed 0m 0s (remain 0m 10s) \n"
     ]
    },
    {
     "name": "stderr",
     "output_type": "stream",
     "text": [
      "labels: [12 11  2  2 11]\n",
      "pred_labels: [ 9 10  2  4 12]\n",
      "Epoch 3 - avg_train_loss: 2.0148  lr: 9.8599e-04  time: 78s\n",
      "Epoch 3 - Score: 0.4275\n",
      "Epoch 3 - Save Best Score: 0.4275 Model\n"
     ]
    },
    {
     "name": "stdout",
     "output_type": "stream",
     "text": [
      "EVAL: [16/17] Data 0.000 (0.022) Elapsed 0m 4s (remain 0m 0s) \n",
      "Epoch: [4][0/81] Data 0.589 (0.589) Elapsed 0m 1s (remain 1m 40s) Loss: 1.8006(1.8006) Grad Norm: 0.0000  LR: 9.7213e-04  \n",
      "Epoch: [4][80/81] Data 0.000 (0.008) Elapsed 1m 13s (remain 0m 0s) Loss: 0.9610(1.6726) Grad Norm: 8.3694  LR: 9.7213e-04  \n",
      "EVAL: [0/17] Data 0.403 (0.403) Elapsed 0m 0s (remain 0m 10s) \n"
     ]
    },
    {
     "name": "stderr",
     "output_type": "stream",
     "text": [
      "labels: [12 11  2  2 11]\n",
      "pred_labels: [11 11  2  8 11]\n",
      "Epoch 4 - avg_train_loss: 1.6726  lr: 9.7213e-04  time: 78s\n",
      "Epoch 4 - Score: 0.5038\n",
      "Epoch 4 - Save Best Score: 0.5038 Model\n"
     ]
    },
    {
     "name": "stdout",
     "output_type": "stream",
     "text": [
      "EVAL: [16/17] Data 0.000 (0.024) Elapsed 0m 4s (remain 0m 0s) \n",
      "Epoch: [5][0/81] Data 0.530 (0.530) Elapsed 0m 1s (remain 1m 40s) Loss: 1.5030(1.5030) Grad Norm: 0.0000  LR: 9.5449e-04  \n",
      "Epoch: [5][80/81] Data 0.000 (0.007) Elapsed 1m 13s (remain 0m 0s) Loss: 1.1642(1.5321) Grad Norm: 7.5544  LR: 9.5449e-04  \n",
      "EVAL: [0/17] Data 0.386 (0.386) Elapsed 0m 0s (remain 0m 10s) \n"
     ]
    },
    {
     "name": "stderr",
     "output_type": "stream",
     "text": [
      "labels: [12 11  2  2 11]\n",
      "pred_labels: [11 11  2  2 11]\n",
      "Epoch 5 - avg_train_loss: 1.5321  lr: 9.5449e-04  time: 78s\n",
      "Epoch 5 - Score: 0.4885\n"
     ]
    },
    {
     "name": "stdout",
     "output_type": "stream",
     "text": [
      "EVAL: [16/17] Data 0.000 (0.023) Elapsed 0m 4s (remain 0m 0s) \n",
      "Epoch: [6][0/81] Data 0.522 (0.522) Elapsed 0m 1s (remain 1m 32s) Loss: 1.8979(1.8979) Grad Norm: 0.0000  LR: 9.3324e-04  \n",
      "Epoch: [6][80/81] Data 0.000 (0.007) Elapsed 1m 12s (remain 0m 0s) Loss: 0.9881(1.3715) Grad Norm: 5.7697  LR: 9.3324e-04  \n",
      "EVAL: [0/17] Data 0.392 (0.392) Elapsed 0m 0s (remain 0m 10s) \n"
     ]
    },
    {
     "name": "stderr",
     "output_type": "stream",
     "text": [
      "labels: [12 11  2  2 11]\n",
      "pred_labels: [ 9 11  2  3 11]\n",
      "Epoch 6 - avg_train_loss: 1.3715  lr: 9.3324e-04  time: 78s\n",
      "Epoch 6 - Score: 0.5344\n",
      "Epoch 6 - Save Best Score: 0.5344 Model\n"
     ]
    },
    {
     "name": "stdout",
     "output_type": "stream",
     "text": [
      "EVAL: [16/17] Data 0.000 (0.023) Elapsed 0m 4s (remain 0m 0s) \n",
      "Epoch: [7][0/81] Data 0.621 (0.621) Elapsed 0m 1s (remain 1m 41s) Loss: 1.5020(1.5020) Grad Norm: 0.0000  LR: 9.0853e-04  \n",
      "Epoch: [7][80/81] Data 0.000 (0.008) Elapsed 1m 13s (remain 0m 0s) Loss: 1.4771(1.2915) Grad Norm: 7.7749  LR: 9.0853e-04  \n",
      "EVAL: [0/17] Data 0.375 (0.375) Elapsed 0m 0s (remain 0m 9s) \n"
     ]
    },
    {
     "name": "stderr",
     "output_type": "stream",
     "text": [
      "labels: [12 11  2  2 11]\n",
      "pred_labels: [ 9 11  6  4 11]\n",
      "Epoch 7 - avg_train_loss: 1.2915  lr: 9.0853e-04  time: 78s\n",
      "Epoch 7 - Score: 0.5573\n",
      "Epoch 7 - Save Best Score: 0.5573 Model\n"
     ]
    },
    {
     "name": "stdout",
     "output_type": "stream",
     "text": [
      "EVAL: [16/17] Data 0.000 (0.022) Elapsed 0m 4s (remain 0m 0s) \n",
      "Epoch: [8][0/81] Data 0.493 (0.493) Elapsed 0m 1s (remain 1m 31s) Loss: 0.3903(0.3903) Grad Norm: 0.0000  LR: 8.8057e-04  \n",
      "Epoch: [8][80/81] Data 0.000 (0.006) Elapsed 1m 12s (remain 0m 0s) Loss: 0.5726(1.1309) Grad Norm: 7.6156  LR: 8.8057e-04  \n",
      "EVAL: [0/17] Data 0.356 (0.356) Elapsed 0m 0s (remain 0m 9s) \n"
     ]
    },
    {
     "name": "stderr",
     "output_type": "stream",
     "text": [
      "labels: [12 11  2  2 11]\n",
      "pred_labels: [ 9 11  2  4 11]\n",
      "Epoch 8 - avg_train_loss: 1.1309  lr: 8.8057e-04  time: 78s\n",
      "Epoch 8 - Score: 0.5496\n"
     ]
    },
    {
     "name": "stdout",
     "output_type": "stream",
     "text": [
      "EVAL: [16/17] Data 0.000 (0.021) Elapsed 0m 4s (remain 0m 0s) \n",
      "Epoch: [9][0/81] Data 0.511 (0.511) Elapsed 0m 1s (remain 1m 31s) Loss: 0.5898(0.5898) Grad Norm: 0.0000  LR: 8.4958e-04  \n",
      "Epoch: [9][80/81] Data 0.000 (0.007) Elapsed 1m 12s (remain 0m 0s) Loss: 0.6031(1.0956) Grad Norm: 5.8416  LR: 8.4958e-04  \n",
      "EVAL: [0/17] Data 0.362 (0.362) Elapsed 0m 0s (remain 0m 9s) \n"
     ]
    },
    {
     "name": "stderr",
     "output_type": "stream",
     "text": [
      "labels: [12 11  2  2 11]\n",
      "pred_labels: [ 9 11  2  4 11]\n",
      "Epoch 9 - avg_train_loss: 1.0956  lr: 8.4958e-04  time: 78s\n",
      "Epoch 9 - Score: 0.6107\n",
      "Epoch 9 - Save Best Score: 0.6107 Model\n"
     ]
    },
    {
     "name": "stdout",
     "output_type": "stream",
     "text": [
      "EVAL: [16/17] Data 0.000 (0.022) Elapsed 0m 4s (remain 0m 0s) \n",
      "Epoch: [10][0/81] Data 0.570 (0.570) Elapsed 0m 1s (remain 1m 38s) Loss: 1.8004(1.8004) Grad Norm: 0.0000  LR: 8.1581e-04  \n",
      "Epoch: [10][80/81] Data 0.000 (0.007) Elapsed 1m 12s (remain 0m 0s) Loss: 0.4347(0.9608) Grad Norm: 6.7783  LR: 8.1581e-04  \n",
      "EVAL: [0/17] Data 0.362 (0.362) Elapsed 0m 0s (remain 0m 9s) \n"
     ]
    },
    {
     "name": "stderr",
     "output_type": "stream",
     "text": [
      "labels: [12 11  2  2 11]\n",
      "pred_labels: [11 11  3  3 11]\n",
      "Epoch 10 - avg_train_loss: 0.9608  lr: 8.1581e-04  time: 78s\n",
      "Epoch 10 - Score: 0.4885\n"
     ]
    },
    {
     "name": "stdout",
     "output_type": "stream",
     "text": [
      "EVAL: [16/17] Data 0.000 (0.022) Elapsed 0m 4s (remain 0m 0s) \n",
      "Epoch: [11][0/81] Data 0.477 (0.477) Elapsed 0m 1s (remain 1m 33s) Loss: 1.8376(1.8376) Grad Norm: 0.0000  LR: 7.7953e-04  \n",
      "Epoch: [11][80/81] Data 0.000 (0.006) Elapsed 1m 12s (remain 0m 0s) Loss: 1.0177(0.9259) Grad Norm: 6.4272  LR: 7.7953e-04  \n",
      "EVAL: [0/17] Data 0.344 (0.344) Elapsed 0m 0s (remain 0m 9s) \n"
     ]
    },
    {
     "name": "stderr",
     "output_type": "stream",
     "text": [
      "labels: [12 11  2  2 11]\n",
      "pred_labels: [ 9 11  6  1 11]\n",
      "Epoch 11 - avg_train_loss: 0.9259  lr: 7.7953e-04  time: 77s\n",
      "Epoch 11 - Score: 0.5496\n"
     ]
    },
    {
     "name": "stdout",
     "output_type": "stream",
     "text": [
      "EVAL: [16/17] Data 0.000 (0.021) Elapsed 0m 4s (remain 0m 0s) \n",
      "Epoch: [12][0/81] Data 0.414 (0.414) Elapsed 0m 1s (remain 1m 30s) Loss: 0.1883(0.1883) Grad Norm: 0.0000  LR: 7.4103e-04  \n",
      "Epoch: [12][80/81] Data 0.000 (0.005) Elapsed 1m 12s (remain 0m 0s) Loss: 1.1251(1.0384) Grad Norm: 6.4654  LR: 7.4103e-04  \n",
      "EVAL: [0/17] Data 0.322 (0.322) Elapsed 0m 0s (remain 0m 8s) \n"
     ]
    },
    {
     "name": "stderr",
     "output_type": "stream",
     "text": [
      "labels: [12 11  2  2 11]\n",
      "pred_labels: [11 11  4  4 11]\n",
      "Epoch 12 - avg_train_loss: 1.0384  lr: 7.4103e-04  time: 77s\n",
      "Epoch 12 - Score: 0.5649\n"
     ]
    },
    {
     "name": "stdout",
     "output_type": "stream",
     "text": [
      "EVAL: [16/17] Data 0.000 (0.019) Elapsed 0m 4s (remain 0m 0s) \n",
      "Epoch: [13][0/81] Data 0.540 (0.540) Elapsed 0m 1s (remain 1m 31s) Loss: 0.3786(0.3786) Grad Norm: 0.0000  LR: 7.0063e-04  \n",
      "Epoch: [13][80/81] Data 0.000 (0.007) Elapsed 1m 12s (remain 0m 0s) Loss: 2.2506(0.9540) Grad Norm: 4.1278  LR: 7.0063e-04  \n",
      "EVAL: [0/17] Data 0.362 (0.362) Elapsed 0m 0s (remain 0m 9s) \n"
     ]
    },
    {
     "name": "stderr",
     "output_type": "stream",
     "text": [
      "labels: [12 11  2  2 11]\n",
      "pred_labels: [ 9 11  6  4 11]\n",
      "Epoch 13 - avg_train_loss: 0.9540  lr: 7.0063e-04  time: 77s\n",
      "Epoch 13 - Score: 0.5344\n"
     ]
    },
    {
     "name": "stdout",
     "output_type": "stream",
     "text": [
      "EVAL: [16/17] Data 0.000 (0.022) Elapsed 0m 4s (remain 0m 0s) \n",
      "Epoch: [14][0/81] Data 0.532 (0.532) Elapsed 0m 1s (remain 1m 33s) Loss: 1.5726(1.5726) Grad Norm: 0.0000  LR: 6.5865e-04  \n",
      "Epoch: [14][80/81] Data 0.000 (0.007) Elapsed 1m 12s (remain 0m 0s) Loss: 0.2537(0.9279) Grad Norm: 4.6749  LR: 6.5865e-04  \n",
      "EVAL: [0/17] Data 0.336 (0.336) Elapsed 0m 0s (remain 0m 9s) \n"
     ]
    },
    {
     "name": "stderr",
     "output_type": "stream",
     "text": [
      "labels: [12 11  2  2 11]\n",
      "pred_labels: [11 11  4  4 11]\n",
      "Epoch 14 - avg_train_loss: 0.9279  lr: 6.5865e-04  time: 77s\n",
      "Epoch 14 - Score: 0.5420\n"
     ]
    },
    {
     "name": "stdout",
     "output_type": "stream",
     "text": [
      "EVAL: [16/17] Data 0.000 (0.020) Elapsed 0m 4s (remain 0m 0s) \n",
      "Epoch: [15][0/81] Data 0.518 (0.518) Elapsed 0m 1s (remain 1m 31s) Loss: 0.3551(0.3551) Grad Norm: 0.0000  LR: 6.1542e-04  \n",
      "Epoch: [15][80/81] Data 0.000 (0.007) Elapsed 1m 12s (remain 0m 0s) Loss: 0.3726(0.8614) Grad Norm: 4.1739  LR: 6.1542e-04  \n",
      "EVAL: [0/17] Data 0.357 (0.357) Elapsed 0m 0s (remain 0m 9s) \n"
     ]
    },
    {
     "name": "stderr",
     "output_type": "stream",
     "text": [
      "labels: [12 11  2  2 11]\n",
      "pred_labels: [ 9 11  3  3 11]\n",
      "Epoch 15 - avg_train_loss: 0.8614  lr: 6.1542e-04  time: 77s\n",
      "Epoch 15 - Score: 0.5649\n"
     ]
    },
    {
     "name": "stdout",
     "output_type": "stream",
     "text": [
      "EVAL: [16/17] Data 0.000 (0.021) Elapsed 0m 4s (remain 0m 0s) \n",
      "Epoch: [16][0/81] Data 0.499 (0.499) Elapsed 0m 1s (remain 1m 29s) Loss: 0.3350(0.3350) Grad Norm: 0.0000  LR: 5.7130e-04  \n",
      "Epoch: [16][80/81] Data 0.000 (0.006) Elapsed 1m 12s (remain 0m 0s) Loss: 1.5147(0.8057) Grad Norm: 2.3524  LR: 5.7130e-04  \n",
      "EVAL: [0/17] Data 0.360 (0.360) Elapsed 0m 0s (remain 0m 9s) \n"
     ]
    },
    {
     "name": "stderr",
     "output_type": "stream",
     "text": [
      "labels: [12 11  2  2 11]\n",
      "pred_labels: [ 9 11  3  4 11]\n",
      "Epoch 16 - avg_train_loss: 0.8057  lr: 5.7130e-04  time: 77s\n",
      "Epoch 16 - Score: 0.6336\n",
      "Epoch 16 - Save Best Score: 0.6336 Model\n"
     ]
    },
    {
     "name": "stdout",
     "output_type": "stream",
     "text": [
      "EVAL: [16/17] Data 0.000 (0.021) Elapsed 0m 4s (remain 0m 0s) \n",
      "Epoch: [17][0/81] Data 0.438 (0.438) Elapsed 0m 1s (remain 1m 33s) Loss: 1.5089(1.5089) Grad Norm: 0.0000  LR: 5.2663e-04  \n",
      "Epoch: [17][80/81] Data 0.000 (0.006) Elapsed 1m 12s (remain 0m 0s) Loss: 0.3916(0.9135) Grad Norm: 5.2937  LR: 5.2663e-04  \n",
      "EVAL: [0/17] Data 0.336 (0.336) Elapsed 0m 0s (remain 0m 9s) \n"
     ]
    },
    {
     "name": "stderr",
     "output_type": "stream",
     "text": [
      "labels: [12 11  2  2 11]\n",
      "pred_labels: [11 11  3  3 11]\n",
      "Epoch 17 - avg_train_loss: 0.9135  lr: 5.2663e-04  time: 77s\n",
      "Epoch 17 - Score: 0.5954\n"
     ]
    },
    {
     "name": "stdout",
     "output_type": "stream",
     "text": [
      "EVAL: [16/17] Data 0.000 (0.020) Elapsed 0m 4s (remain 0m 0s) \n",
      "Epoch: [18][0/81] Data 0.484 (0.484) Elapsed 0m 1s (remain 1m 33s) Loss: 0.9784(0.9784) Grad Norm: 0.0000  LR: 4.8179e-04  \n",
      "Epoch: [18][80/81] Data 0.000 (0.006) Elapsed 1m 12s (remain 0m 0s) Loss: 1.2522(0.9328) Grad Norm: 5.4907  LR: 4.8179e-04  \n",
      "EVAL: [0/17] Data 0.357 (0.357) Elapsed 0m 0s (remain 0m 9s) \n"
     ]
    },
    {
     "name": "stderr",
     "output_type": "stream",
     "text": [
      "labels: [12 11  2  2 11]\n",
      "pred_labels: [ 9 11  3  1 11]\n",
      "Epoch 18 - avg_train_loss: 0.9328  lr: 4.8179e-04  time: 77s\n",
      "Epoch 18 - Score: 0.6336\n"
     ]
    },
    {
     "name": "stdout",
     "output_type": "stream",
     "text": [
      "EVAL: [16/17] Data 0.000 (0.021) Elapsed 0m 4s (remain 0m 0s) \n",
      "Epoch: [19][0/81] Data 0.444 (0.444) Elapsed 0m 1s (remain 1m 25s) Loss: 1.4497(1.4497) Grad Norm: 0.0000  LR: 4.3712e-04  \n",
      "Epoch: [19][80/81] Data 0.000 (0.006) Elapsed 1m 12s (remain 0m 0s) Loss: 0.1562(0.8926) Grad Norm: 2.5914  LR: 4.3712e-04  \n",
      "EVAL: [0/17] Data 0.339 (0.339) Elapsed 0m 0s (remain 0m 9s) \n"
     ]
    },
    {
     "name": "stderr",
     "output_type": "stream",
     "text": [
      "labels: [12 11  2  2 11]\n",
      "pred_labels: [ 9 11  2  4 11]\n",
      "Epoch 19 - avg_train_loss: 0.8926  lr: 4.3712e-04  time: 77s\n",
      "Epoch 19 - Score: 0.6031\n"
     ]
    },
    {
     "name": "stdout",
     "output_type": "stream",
     "text": [
      "EVAL: [16/17] Data 0.000 (0.020) Elapsed 0m 4s (remain 0m 0s) \n",
      "Epoch: [20][0/81] Data 0.472 (0.472) Elapsed 0m 1s (remain 1m 27s) Loss: 0.0996(0.0996) Grad Norm: 0.0000  LR: 3.9299e-04  \n",
      "Epoch: [20][80/81] Data 0.000 (0.006) Elapsed 1m 12s (remain 0m 0s) Loss: 1.6741(0.7007) Grad Norm: 1.9918  LR: 3.9299e-04  \n",
      "EVAL: [0/17] Data 0.347 (0.347) Elapsed 0m 0s (remain 0m 9s) \n"
     ]
    },
    {
     "name": "stderr",
     "output_type": "stream",
     "text": [
      "labels: [12 11  2  2 11]\n",
      "pred_labels: [ 9 11  2  4 11]\n",
      "Epoch 20 - avg_train_loss: 0.7007  lr: 3.9299e-04  time: 77s\n",
      "Epoch 20 - Score: 0.5954\n"
     ]
    },
    {
     "name": "stdout",
     "output_type": "stream",
     "text": [
      "EVAL: [16/17] Data 0.000 (0.021) Elapsed 0m 4s (remain 0m 0s) \n",
      "Epoch: [21][0/81] Data 0.476 (0.476) Elapsed 0m 1s (remain 1m 30s) Loss: 0.0512(0.0512) Grad Norm: 0.0000  LR: 3.4975e-04  \n",
      "Epoch: [21][80/81] Data 0.000 (0.006) Elapsed 1m 12s (remain 0m 0s) Loss: 1.6037(0.6561) Grad Norm: 4.1798  LR: 3.4975e-04  \n",
      "EVAL: [0/17] Data 0.361 (0.361) Elapsed 0m 0s (remain 0m 9s) \n"
     ]
    },
    {
     "name": "stderr",
     "output_type": "stream",
     "text": [
      "labels: [12 11  2  2 11]\n",
      "pred_labels: [ 9 11  1  4 11]\n",
      "Epoch 21 - avg_train_loss: 0.6561  lr: 3.4975e-04  time: 77s\n",
      "Epoch 21 - Score: 0.6336\n"
     ]
    },
    {
     "name": "stdout",
     "output_type": "stream",
     "text": [
      "EVAL: [16/17] Data 0.000 (0.021) Elapsed 0m 4s (remain 0m 0s) \n",
      "Epoch: [22][0/81] Data 0.469 (0.469) Elapsed 0m 1s (remain 1m 30s) Loss: 0.0399(0.0399) Grad Norm: 0.0000  LR: 3.0775e-04  \n",
      "Epoch: [22][80/81] Data 0.000 (0.006) Elapsed 1m 12s (remain 0m 0s) Loss: 0.0553(0.5459) Grad Norm: 2.0092  LR: 3.0775e-04  \n",
      "EVAL: [0/17] Data 0.374 (0.374) Elapsed 0m 0s (remain 0m 9s) \n"
     ]
    },
    {
     "name": "stderr",
     "output_type": "stream",
     "text": [
      "labels: [12 11  2  2 11]\n",
      "pred_labels: [ 0 11  2  4 11]\n",
      "Epoch 22 - avg_train_loss: 0.5459  lr: 3.0775e-04  time: 77s\n",
      "Epoch 22 - Score: 0.6183\n"
     ]
    },
    {
     "name": "stdout",
     "output_type": "stream",
     "text": [
      "EVAL: [16/17] Data 0.000 (0.022) Elapsed 0m 4s (remain 0m 0s) \n",
      "Epoch: [23][0/81] Data 0.482 (0.482) Elapsed 0m 1s (remain 1m 27s) Loss: 0.8209(0.8209) Grad Norm: 0.0000  LR: 2.6732e-04  \n",
      "Epoch: [23][80/81] Data 0.000 (0.006) Elapsed 1m 12s (remain 0m 0s) Loss: 0.8856(0.7004) Grad Norm: 3.0966  LR: 2.6732e-04  \n",
      "EVAL: [0/17] Data 0.358 (0.358) Elapsed 0m 0s (remain 0m 9s) \n"
     ]
    },
    {
     "name": "stderr",
     "output_type": "stream",
     "text": [
      "labels: [12 11  2  2 11]\n",
      "pred_labels: [ 0 11  3  4 11]\n",
      "Epoch 23 - avg_train_loss: 0.7004  lr: 2.6732e-04  time: 77s\n",
      "Epoch 23 - Score: 0.6183\n"
     ]
    },
    {
     "name": "stdout",
     "output_type": "stream",
     "text": [
      "EVAL: [16/17] Data 0.000 (0.021) Elapsed 0m 4s (remain 0m 0s) \n",
      "Epoch: [24][0/81] Data 0.414 (0.414) Elapsed 0m 1s (remain 1m 29s) Loss: 0.1329(0.1329) Grad Norm: 0.0000  LR: 2.2880e-04  \n",
      "Epoch: [24][80/81] Data 0.000 (0.005) Elapsed 1m 12s (remain 0m 0s) Loss: 1.0119(0.6622) Grad Norm: 3.8672  LR: 2.2880e-04  \n",
      "EVAL: [0/17] Data 0.289 (0.289) Elapsed 0m 0s (remain 0m 8s) \n"
     ]
    },
    {
     "name": "stderr",
     "output_type": "stream",
     "text": [
      "labels: [12 11  2  2 11]\n",
      "pred_labels: [ 9 11  4  4 11]\n",
      "Epoch 24 - avg_train_loss: 0.6622  lr: 2.2880e-04  time: 77s\n",
      "Epoch 24 - Score: 0.6565\n",
      "Epoch 24 - Save Best Score: 0.6565 Model\n"
     ]
    },
    {
     "name": "stdout",
     "output_type": "stream",
     "text": [
      "EVAL: [16/17] Data 0.000 (0.017) Elapsed 0m 4s (remain 0m 0s) \n",
      "Epoch: [25][0/81] Data 0.465 (0.465) Elapsed 0m 1s (remain 1m 31s) Loss: 1.0282(1.0282) Grad Norm: 0.0000  LR: 1.9248e-04  \n",
      "Epoch: [25][80/81] Data 0.000 (0.006) Elapsed 1m 12s (remain 0m 0s) Loss: 0.9797(0.5338) Grad Norm: 3.8149  LR: 1.9248e-04  \n",
      "EVAL: [0/17] Data 0.372 (0.372) Elapsed 0m 0s (remain 0m 9s) \n"
     ]
    },
    {
     "name": "stderr",
     "output_type": "stream",
     "text": [
      "labels: [12 11  2  2 11]\n",
      "pred_labels: [11 11  3  3 11]\n",
      "Epoch 25 - avg_train_loss: 0.5338  lr: 1.9248e-04  time: 77s\n",
      "Epoch 25 - Score: 0.6336\n"
     ]
    },
    {
     "name": "stdout",
     "output_type": "stream",
     "text": [
      "EVAL: [16/17] Data 0.000 (0.022) Elapsed 0m 4s (remain 0m 0s) \n",
      "Epoch: [26][0/81] Data 0.489 (0.489) Elapsed 0m 1s (remain 1m 32s) Loss: 0.0924(0.0924) Grad Norm: 0.0000  LR: 1.5867e-04  \n",
      "Epoch: [26][80/81] Data 0.000 (0.006) Elapsed 1m 12s (remain 0m 0s) Loss: 1.4801(0.5599) Grad Norm: 3.5746  LR: 1.5867e-04  \n",
      "EVAL: [0/17] Data 0.341 (0.341) Elapsed 0m 0s (remain 0m 9s) \n"
     ]
    },
    {
     "name": "stderr",
     "output_type": "stream",
     "text": [
      "labels: [12 11  2  2 11]\n",
      "pred_labels: [ 0 11  3  3 11]\n",
      "Epoch 26 - avg_train_loss: 0.5599  lr: 1.5867e-04  time: 77s\n",
      "Epoch 26 - Score: 0.6412\n"
     ]
    },
    {
     "name": "stdout",
     "output_type": "stream",
     "text": [
      "EVAL: [16/17] Data 0.000 (0.020) Elapsed 0m 4s (remain 0m 0s) \n",
      "Epoch: [27][0/81] Data 0.489 (0.489) Elapsed 0m 1s (remain 1m 29s) Loss: 1.6997(1.6997) Grad Norm: 0.0000  LR: 1.2762e-04  \n",
      "Epoch: [27][80/81] Data 0.000 (0.006) Elapsed 1m 12s (remain 0m 0s) Loss: 1.2177(0.5587) Grad Norm: 3.3708  LR: 1.2762e-04  \n",
      "EVAL: [0/17] Data 0.328 (0.328) Elapsed 0m 0s (remain 0m 9s) \n"
     ]
    },
    {
     "name": "stderr",
     "output_type": "stream",
     "text": [
      "labels: [12 11  2  2 11]\n",
      "pred_labels: [ 0 11  3  3 11]\n",
      "Epoch 27 - avg_train_loss: 0.5587  lr: 1.2762e-04  time: 77s\n",
      "Epoch 27 - Score: 0.6565\n"
     ]
    },
    {
     "name": "stdout",
     "output_type": "stream",
     "text": [
      "EVAL: [16/17] Data 0.000 (0.020) Elapsed 0m 4s (remain 0m 0s) \n",
      "Epoch: [28][0/81] Data 0.411 (0.411) Elapsed 0m 1s (remain 1m 28s) Loss: 0.9706(0.9706) Grad Norm: 0.0000  LR: 9.9584e-05  \n",
      "Epoch: [28][80/81] Data 0.000 (0.005) Elapsed 1m 12s (remain 0m 0s) Loss: 1.2533(0.5863) Grad Norm: 1.1772  LR: 9.9584e-05  \n",
      "EVAL: [0/17] Data 0.292 (0.292) Elapsed 0m 0s (remain 0m 8s) \n"
     ]
    },
    {
     "name": "stderr",
     "output_type": "stream",
     "text": [
      "labels: [12 11  2  2 11]\n",
      "pred_labels: [ 9 11  3  4 11]\n",
      "Epoch 28 - avg_train_loss: 0.5863  lr: 9.9584e-05  time: 77s\n",
      "Epoch 28 - Score: 0.6412\n"
     ]
    },
    {
     "name": "stdout",
     "output_type": "stream",
     "text": [
      "EVAL: [16/17] Data 0.000 (0.017) Elapsed 0m 4s (remain 0m 0s) \n",
      "Epoch: [29][0/81] Data 0.529 (0.529) Elapsed 0m 1s (remain 1m 31s) Loss: 0.0354(0.0354) Grad Norm: 0.0000  LR: 7.4783e-05  \n",
      "Epoch: [29][80/81] Data 0.000 (0.007) Elapsed 1m 12s (remain 0m 0s) Loss: 1.1971(0.6510) Grad Norm: 0.3463  LR: 7.4783e-05  \n",
      "EVAL: [0/17] Data 0.313 (0.313) Elapsed 0m 0s (remain 0m 8s) \n"
     ]
    },
    {
     "name": "stderr",
     "output_type": "stream",
     "text": [
      "labels: [12 11  2  2 11]\n",
      "pred_labels: [ 0 11  3  3 11]\n",
      "Epoch 29 - avg_train_loss: 0.6510  lr: 7.4783e-05  time: 77s\n",
      "Epoch 29 - Score: 0.6260\n"
     ]
    },
    {
     "name": "stdout",
     "output_type": "stream",
     "text": [
      "EVAL: [16/17] Data 0.000 (0.019) Elapsed 0m 4s (remain 0m 0s) \n",
      "Epoch: [30][0/81] Data 0.422 (0.422) Elapsed 0m 1s (remain 1m 27s) Loss: 0.0493(0.0493) Grad Norm: 0.0000  LR: 5.3404e-05  \n",
      "Epoch: [30][80/81] Data 0.000 (0.005) Elapsed 1m 12s (remain 0m 0s) Loss: 1.1797(0.5829) Grad Norm: 4.6093  LR: 5.3404e-05  \n",
      "EVAL: [0/17] Data 0.325 (0.325) Elapsed 0m 0s (remain 0m 8s) \n"
     ]
    },
    {
     "name": "stderr",
     "output_type": "stream",
     "text": [
      "labels: [12 11  2  2 11]\n",
      "pred_labels: [ 0 11  4  3 11]\n",
      "Epoch 30 - avg_train_loss: 0.5829  lr: 5.3404e-05  time: 77s\n",
      "Epoch 30 - Score: 0.6260\n"
     ]
    },
    {
     "name": "stdout",
     "output_type": "stream",
     "text": [
      "EVAL: [16/17] Data 0.000 (0.019) Elapsed 0m 4s (remain 0m 0s) \n",
      "Epoch: [31][0/81] Data 0.523 (0.523) Elapsed 0m 1s (remain 1m 33s) Loss: 0.0317(0.0317) Grad Norm: 0.0000  LR: 3.5607e-05  \n",
      "Epoch: [31][80/81] Data 0.000 (0.007) Elapsed 1m 12s (remain 0m 0s) Loss: 0.0111(0.0488) Grad Norm: 0.2649  LR: 3.5607e-05  \n",
      "EVAL: [0/17] Data 0.309 (0.309) Elapsed 0m 0s (remain 0m 8s) \n"
     ]
    },
    {
     "name": "stderr",
     "output_type": "stream",
     "text": [
      "labels: [12 11  2  2 11]\n",
      "pred_labels: [11 11  3  3 11]\n",
      "Epoch 31 - avg_train_loss: 0.0488  lr: 3.5607e-05  time: 77s\n",
      "Epoch 31 - Score: 0.6260\n"
     ]
    },
    {
     "name": "stdout",
     "output_type": "stream",
     "text": [
      "EVAL: [16/17] Data 0.000 (0.018) Elapsed 0m 4s (remain 0m 0s) \n",
      "Epoch: [32][0/81] Data 0.394 (0.394) Elapsed 0m 1s (remain 1m 21s) Loss: 0.0067(0.0067) Grad Norm: 0.0000  LR: 2.1508e-05  \n",
      "Epoch: [32][80/81] Data 0.000 (0.005) Elapsed 1m 12s (remain 0m 0s) Loss: 0.0134(0.0395) Grad Norm: 0.3363  LR: 2.1508e-05  \n",
      "EVAL: [0/17] Data 0.322 (0.322) Elapsed 0m 0s (remain 0m 8s) \n"
     ]
    },
    {
     "name": "stderr",
     "output_type": "stream",
     "text": [
      "labels: [12 11  2  2 11]\n",
      "pred_labels: [11 11  3  3 11]\n",
      "Epoch 32 - avg_train_loss: 0.0395  lr: 2.1508e-05  time: 77s\n",
      "Epoch 32 - Score: 0.6260\n"
     ]
    },
    {
     "name": "stdout",
     "output_type": "stream",
     "text": [
      "EVAL: [16/17] Data 0.000 (0.019) Elapsed 0m 4s (remain 0m 0s) \n",
      "Epoch: [33][0/81] Data 0.480 (0.480) Elapsed 0m 1s (remain 1m 27s) Loss: 0.0234(0.0234) Grad Norm: 0.0000  LR: 1.1173e-05  \n",
      "Epoch: [33][80/81] Data 0.000 (0.006) Elapsed 1m 12s (remain 0m 0s) Loss: 0.0314(0.0237) Grad Norm: 0.3598  LR: 1.1173e-05  \n",
      "EVAL: [0/17] Data 0.321 (0.321) Elapsed 0m 0s (remain 0m 8s) \n"
     ]
    },
    {
     "name": "stderr",
     "output_type": "stream",
     "text": [
      "labels: [12 11  2  2 11]\n",
      "pred_labels: [11 11  3  3 11]\n",
      "Epoch 33 - avg_train_loss: 0.0237  lr: 1.1173e-05  time: 77s\n",
      "Epoch 33 - Score: 0.6489\n"
     ]
    },
    {
     "name": "stdout",
     "output_type": "stream",
     "text": [
      "EVAL: [16/17] Data 0.000 (0.019) Elapsed 0m 4s (remain 0m 0s) \n",
      "Epoch: [34][0/81] Data 0.529 (0.529) Elapsed 0m 1s (remain 1m 31s) Loss: 0.0461(0.0461) Grad Norm: 0.0000  LR: 4.5796e-06  \n",
      "Epoch: [34][80/81] Data 0.000 (0.007) Elapsed 1m 12s (remain 0m 0s) Loss: 0.0165(0.0329) Grad Norm: 0.7068  LR: 4.5796e-06  \n",
      "EVAL: [0/17] Data 0.278 (0.278) Elapsed 0m 0s (remain 0m 8s) \n"
     ]
    },
    {
     "name": "stderr",
     "output_type": "stream",
     "text": [
      "labels: [12 11  2  2 11]\n",
      "pred_labels: [11 11  3  3 11]\n",
      "Epoch 34 - avg_train_loss: 0.0329  lr: 4.5796e-06  time: 77s\n",
      "Epoch 34 - Score: 0.6565\n"
     ]
    },
    {
     "name": "stdout",
     "output_type": "stream",
     "text": [
      "EVAL: [16/17] Data 0.000 (0.017) Elapsed 0m 4s (remain 0m 0s) \n",
      "Epoch: [35][0/81] Data 0.407 (0.407) Elapsed 0m 1s (remain 1m 23s) Loss: 0.1110(0.1110) Grad Norm: 0.0000  LR: 1.5037e-06  \n",
      "Epoch: [35][80/81] Data 0.000 (0.005) Elapsed 1m 12s (remain 0m 0s) Loss: 0.0070(0.0238) Grad Norm: 0.7494  LR: 1.5037e-06  \n",
      "EVAL: [0/17] Data 0.335 (0.335) Elapsed 0m 0s (remain 0m 9s) \n"
     ]
    },
    {
     "name": "stderr",
     "output_type": "stream",
     "text": [
      "labels: [12 11  2  2 11]\n",
      "pred_labels: [11 11  3  3 11]\n",
      "Epoch 35 - avg_train_loss: 0.0238  lr: 1.5037e-06  time: 77s\n",
      "Epoch 35 - Score: 0.6718\n",
      "Epoch 35 - Save Best Score: 0.6718 Model\n"
     ]
    },
    {
     "name": "stdout",
     "output_type": "stream",
     "text": [
      "EVAL: [16/17] Data 0.000 (0.020) Elapsed 0m 4s (remain 0m 0s) \n"
     ]
    },
    {
     "name": "stderr",
     "output_type": "stream",
     "text": [
      "==================== fold: 2, seed: 1 training ====================\n"
     ]
    },
    {
     "name": "stdout",
     "output_type": "stream",
     "text": [
      "Epoch: [1][0/81] Data 0.503 (0.503) Elapsed 0m 1s (remain 1m 32s) Loss: 2.6318(2.6318) Grad Norm: 0.0000  LR: 1.0000e-03  \n",
      "Epoch: [1][80/81] Data 0.000 (0.006) Elapsed 1m 12s (remain 0m 0s) Loss: 2.5453(2.5222) Grad Norm: 8.0476  LR: 1.0000e-03  \n",
      "EVAL: [0/17] Data 0.366 (0.366) Elapsed 0m 0s (remain 0m 9s) \n"
     ]
    },
    {
     "name": "stderr",
     "output_type": "stream",
     "text": [
      "labels: [8 7 4 6 2]\n",
      "pred_labels: [6 0 9 9 9]\n",
      "Epoch 1 - avg_train_loss: 2.5222  lr: 1.0000e-03  time: 78s\n",
      "Epoch 1 - Score: 0.2519\n",
      "Epoch 1 - Save Best Score: 0.2519 Model\n"
     ]
    },
    {
     "name": "stdout",
     "output_type": "stream",
     "text": [
      "EVAL: [16/17] Data 0.000 (0.022) Elapsed 0m 4s (remain 0m 0s) \n",
      "Epoch: [2][0/81] Data 0.540 (0.540) Elapsed 0m 1s (remain 1m 33s) Loss: 2.2046(2.2046) Grad Norm: 0.0000  LR: 9.9598e-04  \n",
      "Epoch: [2][80/81] Data 0.000 (0.007) Elapsed 1m 13s (remain 0m 0s) Loss: 2.5855(2.2548) Grad Norm: 6.7739  LR: 9.9598e-04  \n",
      "EVAL: [0/17] Data 0.386 (0.386) Elapsed 0m 0s (remain 0m 9s) \n"
     ]
    },
    {
     "name": "stderr",
     "output_type": "stream",
     "text": [
      "labels: [8 7 4 6 2]\n",
      "pred_labels: [8 2 2 6 6]\n",
      "Epoch 2 - avg_train_loss: 2.2548  lr: 9.9598e-04  time: 78s\n",
      "Epoch 2 - Score: 0.3435\n",
      "Epoch 2 - Save Best Score: 0.3435 Model\n"
     ]
    },
    {
     "name": "stdout",
     "output_type": "stream",
     "text": [
      "EVAL: [16/17] Data 0.000 (0.023) Elapsed 0m 4s (remain 0m 0s) \n",
      "Epoch: [3][0/81] Data 0.543 (0.543) Elapsed 0m 1s (remain 1m 36s) Loss: 2.2760(2.2760) Grad Norm: 0.0000  LR: 9.8599e-04  \n",
      "Epoch: [3][80/81] Data 0.000 (0.007) Elapsed 1m 13s (remain 0m 0s) Loss: 2.1714(1.9608) Grad Norm: 6.4723  LR: 9.8599e-04  \n",
      "EVAL: [0/17] Data 0.363 (0.363) Elapsed 0m 0s (remain 0m 9s) \n"
     ]
    },
    {
     "name": "stderr",
     "output_type": "stream",
     "text": [
      "labels: [8 7 4 6 2]\n",
      "pred_labels: [8 7 7 0 0]\n",
      "Epoch 3 - avg_train_loss: 1.9608  lr: 9.8599e-04  time: 78s\n",
      "Epoch 3 - Score: 0.4733\n",
      "Epoch 3 - Save Best Score: 0.4733 Model\n"
     ]
    },
    {
     "name": "stdout",
     "output_type": "stream",
     "text": [
      "EVAL: [16/17] Data 0.000 (0.022) Elapsed 0m 4s (remain 0m 0s) \n",
      "Epoch: [4][0/81] Data 0.469 (0.469) Elapsed 0m 1s (remain 1m 37s) Loss: 1.6996(1.6996) Grad Norm: 0.0000  LR: 9.7213e-04  \n",
      "Epoch: [4][80/81] Data 0.000 (0.006) Elapsed 1m 13s (remain 0m 0s) Loss: 1.8181(1.6433) Grad Norm: 8.9310  LR: 9.7213e-04  \n",
      "EVAL: [0/17] Data 0.372 (0.372) Elapsed 0m 0s (remain 0m 9s) \n"
     ]
    },
    {
     "name": "stderr",
     "output_type": "stream",
     "text": [
      "labels: [8 7 4 6 2]\n",
      "pred_labels: [8 7 7 5 6]\n",
      "Epoch 4 - avg_train_loss: 1.6433  lr: 9.7213e-04  time: 78s\n",
      "Epoch 4 - Score: 0.4885\n",
      "Epoch 4 - Save Best Score: 0.4885 Model\n"
     ]
    },
    {
     "name": "stdout",
     "output_type": "stream",
     "text": [
      "EVAL: [16/17] Data 0.000 (0.022) Elapsed 0m 4s (remain 0m 0s) \n",
      "Epoch: [5][0/81] Data 0.562 (0.562) Elapsed 0m 1s (remain 1m 43s) Loss: 2.5230(2.5230) Grad Norm: 0.0000  LR: 9.5449e-04  \n",
      "Epoch: [5][80/81] Data 0.000 (0.007) Elapsed 1m 13s (remain 0m 0s) Loss: 1.6320(1.5202) Grad Norm: 7.0371  LR: 9.5449e-04  \n",
      "EVAL: [0/17] Data 0.410 (0.410) Elapsed 0m 0s (remain 0m 10s) \n"
     ]
    },
    {
     "name": "stderr",
     "output_type": "stream",
     "text": [
      "labels: [8 7 4 6 2]\n",
      "pred_labels: [8 7 4 1 5]\n",
      "Epoch 5 - avg_train_loss: 1.5202  lr: 9.5449e-04  time: 78s\n",
      "Epoch 5 - Score: 0.5573\n",
      "Epoch 5 - Save Best Score: 0.5573 Model\n"
     ]
    },
    {
     "name": "stdout",
     "output_type": "stream",
     "text": [
      "EVAL: [16/17] Data 0.000 (0.024) Elapsed 0m 4s (remain 0m 0s) \n",
      "Epoch: [6][0/81] Data 0.509 (0.509) Elapsed 0m 1s (remain 1m 32s) Loss: 0.7083(0.7083) Grad Norm: 0.0000  LR: 9.3324e-04  \n",
      "Epoch: [6][80/81] Data 0.000 (0.007) Elapsed 1m 13s (remain 0m 0s) Loss: 1.5141(1.3908) Grad Norm: 7.3463  LR: 9.3324e-04  \n",
      "EVAL: [0/17] Data 0.385 (0.385) Elapsed 0m 0s (remain 0m 10s) \n"
     ]
    },
    {
     "name": "stderr",
     "output_type": "stream",
     "text": [
      "labels: [8 7 4 6 2]\n",
      "pred_labels: [8 7 4 3 5]\n",
      "Epoch 6 - avg_train_loss: 1.3908  lr: 9.3324e-04  time: 78s\n",
      "Epoch 6 - Score: 0.5878\n",
      "Epoch 6 - Save Best Score: 0.5878 Model\n"
     ]
    },
    {
     "name": "stdout",
     "output_type": "stream",
     "text": [
      "EVAL: [16/17] Data 0.000 (0.023) Elapsed 0m 4s (remain 0m 0s) \n",
      "Epoch: [7][0/81] Data 0.653 (0.653) Elapsed 0m 1s (remain 1m 44s) Loss: 2.2407(2.2407) Grad Norm: 0.0000  LR: 9.0853e-04  \n",
      "Epoch: [7][80/81] Data 0.000 (0.008) Elapsed 1m 13s (remain 0m 0s) Loss: 0.5532(1.2573) Grad Norm: 7.0156  LR: 9.0853e-04  \n",
      "EVAL: [0/17] Data 0.392 (0.392) Elapsed 0m 0s (remain 0m 10s) \n"
     ]
    },
    {
     "name": "stderr",
     "output_type": "stream",
     "text": [
      "labels: [8 7 4 6 2]\n",
      "pred_labels: [8 2 4 6 0]\n",
      "Epoch 7 - avg_train_loss: 1.2573  lr: 9.0853e-04  time: 78s\n",
      "Epoch 7 - Score: 0.6260\n",
      "Epoch 7 - Save Best Score: 0.6260 Model\n"
     ]
    },
    {
     "name": "stdout",
     "output_type": "stream",
     "text": [
      "EVAL: [16/17] Data 0.000 (0.023) Elapsed 0m 4s (remain 0m 0s) \n",
      "Epoch: [8][0/81] Data 0.508 (0.508) Elapsed 0m 1s (remain 1m 34s) Loss: 1.8910(1.8910) Grad Norm: 0.0000  LR: 8.8057e-04  \n",
      "Epoch: [8][80/81] Data 0.000 (0.007) Elapsed 1m 13s (remain 0m 0s) Loss: 2.1096(1.1866) Grad Norm: 7.3551  LR: 8.8057e-04  \n",
      "EVAL: [0/17] Data 0.337 (0.337) Elapsed 0m 0s (remain 0m 9s) \n"
     ]
    },
    {
     "name": "stderr",
     "output_type": "stream",
     "text": [
      "labels: [8 7 4 6 2]\n",
      "pred_labels: [8 7 2 3 2]\n",
      "Epoch 8 - avg_train_loss: 1.1866  lr: 8.8057e-04  time: 78s\n",
      "Epoch 8 - Score: 0.6260\n"
     ]
    },
    {
     "name": "stdout",
     "output_type": "stream",
     "text": [
      "EVAL: [16/17] Data 0.000 (0.020) Elapsed 0m 4s (remain 0m 0s) \n",
      "Epoch: [9][0/81] Data 0.478 (0.478) Elapsed 0m 1s (remain 1m 33s) Loss: 1.7630(1.7630) Grad Norm: 0.0000  LR: 8.4958e-04  \n",
      "Epoch: [9][80/81] Data 0.000 (0.006) Elapsed 1m 12s (remain 0m 0s) Loss: 0.4200(1.0480) Grad Norm: 5.2182  LR: 8.4958e-04  \n",
      "EVAL: [0/17] Data 0.355 (0.355) Elapsed 0m 0s (remain 0m 9s) \n"
     ]
    },
    {
     "name": "stderr",
     "output_type": "stream",
     "text": [
      "labels: [8 7 4 6 2]\n",
      "pred_labels: [8 7 2 1 2]\n",
      "Epoch 9 - avg_train_loss: 1.0480  lr: 8.4958e-04  time: 77s\n",
      "Epoch 9 - Score: 0.6107\n"
     ]
    },
    {
     "name": "stdout",
     "output_type": "stream",
     "text": [
      "EVAL: [16/17] Data 0.000 (0.021) Elapsed 0m 4s (remain 0m 0s) \n",
      "Epoch: [10][0/81] Data 0.478 (0.478) Elapsed 0m 1s (remain 1m 34s) Loss: 2.0287(2.0287) Grad Norm: 0.0000  LR: 8.1581e-04  \n",
      "Epoch: [10][80/81] Data 0.000 (0.006) Elapsed 1m 13s (remain 0m 0s) Loss: 2.4628(1.0915) Grad Norm: 6.2771  LR: 8.1581e-04  \n",
      "EVAL: [0/17] Data 0.343 (0.343) Elapsed 0m 0s (remain 0m 9s) \n"
     ]
    },
    {
     "name": "stderr",
     "output_type": "stream",
     "text": [
      "labels: [8 7 4 6 2]\n",
      "pred_labels: [6 7 2 1 5]\n",
      "Epoch 10 - avg_train_loss: 1.0915  lr: 8.1581e-04  time: 78s\n",
      "Epoch 10 - Score: 0.5573\n"
     ]
    },
    {
     "name": "stdout",
     "output_type": "stream",
     "text": [
      "EVAL: [16/17] Data 0.000 (0.020) Elapsed 0m 4s (remain 0m 0s) \n",
      "Epoch: [11][0/81] Data 0.464 (0.464) Elapsed 0m 1s (remain 1m 33s) Loss: 0.2750(0.2750) Grad Norm: 0.0000  LR: 7.7953e-04  \n",
      "Epoch: [11][80/81] Data 0.000 (0.006) Elapsed 1m 12s (remain 0m 0s) Loss: 0.5721(1.0964) Grad Norm: 5.2093  LR: 7.7953e-04  \n",
      "EVAL: [0/17] Data 0.394 (0.394) Elapsed 0m 0s (remain 0m 10s) \n"
     ]
    },
    {
     "name": "stderr",
     "output_type": "stream",
     "text": [
      "labels: [8 7 4 6 2]\n",
      "pred_labels: [6 7 4 1 9]\n",
      "Epoch 11 - avg_train_loss: 1.0964  lr: 7.7953e-04  time: 78s\n",
      "Epoch 11 - Score: 0.5878\n"
     ]
    },
    {
     "name": "stdout",
     "output_type": "stream",
     "text": [
      "EVAL: [16/17] Data 0.000 (0.023) Elapsed 0m 4s (remain 0m 0s) \n",
      "Epoch: [12][0/81] Data 0.493 (0.493) Elapsed 0m 1s (remain 1m 31s) Loss: 0.2218(0.2218) Grad Norm: 0.0000  LR: 7.4103e-04  \n",
      "Epoch: [12][80/81] Data 0.000 (0.006) Elapsed 1m 12s (remain 0m 0s) Loss: 1.5319(1.0447) Grad Norm: 6.8622  LR: 7.4103e-04  \n",
      "EVAL: [0/17] Data 0.355 (0.355) Elapsed 0m 0s (remain 0m 9s) \n"
     ]
    },
    {
     "name": "stderr",
     "output_type": "stream",
     "text": [
      "labels: [8 7 4 6 2]\n",
      "pred_labels: [8 7 7 1 2]\n",
      "Epoch 12 - avg_train_loss: 1.0447  lr: 7.4103e-04  time: 77s\n",
      "Epoch 12 - Score: 0.6107\n"
     ]
    },
    {
     "name": "stdout",
     "output_type": "stream",
     "text": [
      "EVAL: [16/17] Data 0.000 (0.021) Elapsed 0m 4s (remain 0m 0s) \n",
      "Epoch: [13][0/81] Data 0.573 (0.573) Elapsed 0m 1s (remain 1m 36s) Loss: 0.2222(0.2222) Grad Norm: 0.0000  LR: 7.0063e-04  \n",
      "Epoch: [13][80/81] Data 0.000 (0.007) Elapsed 1m 12s (remain 0m 0s) Loss: 1.4751(0.9320) Grad Norm: 5.4764  LR: 7.0063e-04  \n",
      "EVAL: [0/17] Data 0.391 (0.391) Elapsed 0m 0s (remain 0m 10s) \n"
     ]
    },
    {
     "name": "stderr",
     "output_type": "stream",
     "text": [
      "labels: [8 7 4 6 2]\n",
      "pred_labels: [8 7 3 3 5]\n",
      "Epoch 13 - avg_train_loss: 0.9320  lr: 7.0063e-04  time: 78s\n",
      "Epoch 13 - Score: 0.5802\n"
     ]
    },
    {
     "name": "stdout",
     "output_type": "stream",
     "text": [
      "EVAL: [16/17] Data 0.000 (0.023) Elapsed 0m 4s (remain 0m 0s) \n",
      "Epoch: [14][0/81] Data 0.457 (0.457) Elapsed 0m 1s (remain 1m 30s) Loss: 1.5924(1.5924) Grad Norm: 0.0000  LR: 6.5865e-04  \n",
      "Epoch: [14][80/81] Data 0.000 (0.006) Elapsed 1m 12s (remain 0m 0s) Loss: 0.2216(0.9193) Grad Norm: 4.6329  LR: 6.5865e-04  \n",
      "EVAL: [0/17] Data 0.328 (0.328) Elapsed 0m 0s (remain 0m 9s) \n"
     ]
    },
    {
     "name": "stderr",
     "output_type": "stream",
     "text": [
      "labels: [8 7 4 6 2]\n",
      "pred_labels: [8 7 3 1 5]\n",
      "Epoch 14 - avg_train_loss: 0.9193  lr: 6.5865e-04  time: 77s\n",
      "Epoch 14 - Score: 0.5878\n"
     ]
    },
    {
     "name": "stdout",
     "output_type": "stream",
     "text": [
      "EVAL: [16/17] Data 0.000 (0.020) Elapsed 0m 4s (remain 0m 0s) \n",
      "Epoch: [15][0/81] Data 0.492 (0.492) Elapsed 0m 1s (remain 1m 28s) Loss: 1.5783(1.5783) Grad Norm: 0.0000  LR: 6.1542e-04  \n",
      "Epoch: [15][80/81] Data 0.000 (0.006) Elapsed 1m 12s (remain 0m 0s) Loss: 1.6175(0.9143) Grad Norm: 4.6799  LR: 6.1542e-04  \n",
      "EVAL: [0/17] Data 0.341 (0.341) Elapsed 0m 0s (remain 0m 9s) \n"
     ]
    },
    {
     "name": "stderr",
     "output_type": "stream",
     "text": [
      "labels: [8 7 4 6 2]\n",
      "pred_labels: [8 2 1 1 5]\n",
      "Epoch 15 - avg_train_loss: 0.9143  lr: 6.1542e-04  time: 77s\n",
      "Epoch 15 - Score: 0.6031\n"
     ]
    },
    {
     "name": "stdout",
     "output_type": "stream",
     "text": [
      "EVAL: [16/17] Data 0.000 (0.020) Elapsed 0m 4s (remain 0m 0s) \n",
      "Epoch: [16][0/81] Data 0.419 (0.419) Elapsed 0m 1s (remain 1m 27s) Loss: 1.6393(1.6393) Grad Norm: 0.0000  LR: 5.7130e-04  \n",
      "Epoch: [16][80/81] Data 0.000 (0.005) Elapsed 1m 12s (remain 0m 0s) Loss: 0.5163(0.8027) Grad Norm: 3.7823  LR: 5.7130e-04  \n",
      "EVAL: [0/17] Data 0.346 (0.346) Elapsed 0m 0s (remain 0m 9s) \n"
     ]
    },
    {
     "name": "stderr",
     "output_type": "stream",
     "text": [
      "labels: [8 7 4 6 2]\n",
      "pred_labels: [8 7 4 1 5]\n",
      "Epoch 16 - avg_train_loss: 0.8027  lr: 5.7130e-04  time: 77s\n",
      "Epoch 16 - Score: 0.6489\n",
      "Epoch 16 - Save Best Score: 0.6489 Model\n"
     ]
    },
    {
     "name": "stdout",
     "output_type": "stream",
     "text": [
      "EVAL: [16/17] Data 0.000 (0.021) Elapsed 0m 4s (remain 0m 0s) \n",
      "Epoch: [17][0/81] Data 0.551 (0.551) Elapsed 0m 1s (remain 1m 36s) Loss: 1.8627(1.8627) Grad Norm: 0.0000  LR: 5.2663e-04  \n",
      "Epoch: [17][80/81] Data 0.000 (0.007) Elapsed 1m 12s (remain 0m 0s) Loss: 1.3362(0.8206) Grad Norm: 4.7091  LR: 5.2663e-04  \n",
      "EVAL: [0/17] Data 0.332 (0.332) Elapsed 0m 0s (remain 0m 9s) \n"
     ]
    },
    {
     "name": "stderr",
     "output_type": "stream",
     "text": [
      "labels: [8 7 4 6 2]\n",
      "pred_labels: [8 7 2 1 5]\n",
      "Epoch 17 - avg_train_loss: 0.8206  lr: 5.2663e-04  time: 77s\n",
      "Epoch 17 - Score: 0.6565\n",
      "Epoch 17 - Save Best Score: 0.6565 Model\n"
     ]
    },
    {
     "name": "stdout",
     "output_type": "stream",
     "text": [
      "EVAL: [16/17] Data 0.000 (0.020) Elapsed 0m 4s (remain 0m 0s) \n",
      "Epoch: [18][0/81] Data 0.518 (0.518) Elapsed 0m 1s (remain 1m 33s) Loss: 0.2013(0.2013) Grad Norm: 0.0000  LR: 4.8179e-04  \n",
      "Epoch: [18][80/81] Data 0.000 (0.007) Elapsed 1m 12s (remain 0m 0s) Loss: 0.3336(0.7488) Grad Norm: 4.8074  LR: 4.8179e-04  \n",
      "EVAL: [0/17] Data 0.356 (0.356) Elapsed 0m 0s (remain 0m 9s) \n"
     ]
    },
    {
     "name": "stderr",
     "output_type": "stream",
     "text": [
      "labels: [8 7 4 6 2]\n",
      "pred_labels: [8 7 7 0 5]\n",
      "Epoch 18 - avg_train_loss: 0.7488  lr: 4.8179e-04  time: 77s\n",
      "Epoch 18 - Score: 0.5954\n"
     ]
    },
    {
     "name": "stdout",
     "output_type": "stream",
     "text": [
      "EVAL: [16/17] Data 0.000 (0.021) Elapsed 0m 4s (remain 0m 0s) \n",
      "Epoch: [19][0/81] Data 0.362 (0.362) Elapsed 0m 1s (remain 1m 22s) Loss: 0.1737(0.1737) Grad Norm: 0.0000  LR: 4.3712e-04  \n",
      "Epoch: [19][80/81] Data 0.000 (0.005) Elapsed 1m 12s (remain 0m 0s) Loss: 0.8356(0.8504) Grad Norm: 3.8423  LR: 4.3712e-04  \n",
      "EVAL: [0/17] Data 0.355 (0.355) Elapsed 0m 0s (remain 0m 9s) \n"
     ]
    },
    {
     "name": "stderr",
     "output_type": "stream",
     "text": [
      "labels: [8 7 4 6 2]\n",
      "pred_labels: [8 2 2 1 5]\n",
      "Epoch 19 - avg_train_loss: 0.8504  lr: 4.3712e-04  time: 77s\n",
      "Epoch 19 - Score: 0.6336\n"
     ]
    },
    {
     "name": "stdout",
     "output_type": "stream",
     "text": [
      "EVAL: [16/17] Data 0.000 (0.021) Elapsed 0m 4s (remain 0m 0s) \n",
      "Epoch: [20][0/81] Data 0.484 (0.484) Elapsed 0m 1s (remain 1m 30s) Loss: 0.2478(0.2478) Grad Norm: 0.0000  LR: 3.9299e-04  \n",
      "Epoch: [20][80/81] Data 0.000 (0.006) Elapsed 1m 12s (remain 0m 0s) Loss: 1.1107(0.7351) Grad Norm: 2.7173  LR: 3.9299e-04  \n",
      "EVAL: [0/17] Data 0.319 (0.319) Elapsed 0m 0s (remain 0m 9s) \n"
     ]
    },
    {
     "name": "stderr",
     "output_type": "stream",
     "text": [
      "labels: [8 7 4 6 2]\n",
      "pred_labels: [8 7 3 1 5]\n",
      "Epoch 20 - avg_train_loss: 0.7351  lr: 3.9299e-04  time: 77s\n",
      "Epoch 20 - Score: 0.6336\n"
     ]
    },
    {
     "name": "stdout",
     "output_type": "stream",
     "text": [
      "EVAL: [16/17] Data 0.000 (0.019) Elapsed 0m 4s (remain 0m 0s) \n",
      "Epoch: [21][0/81] Data 0.433 (0.433) Elapsed 0m 1s (remain 1m 31s) Loss: 1.2508(1.2508) Grad Norm: 0.0000  LR: 3.4975e-04  \n",
      "Epoch: [21][80/81] Data 0.000 (0.006) Elapsed 1m 12s (remain 0m 0s) Loss: 1.2140(0.6489) Grad Norm: 4.5239  LR: 3.4975e-04  \n",
      "EVAL: [0/17] Data 0.353 (0.353) Elapsed 0m 0s (remain 0m 9s) \n"
     ]
    },
    {
     "name": "stderr",
     "output_type": "stream",
     "text": [
      "labels: [8 7 4 6 2]\n",
      "pred_labels: [8 2 4 1 5]\n",
      "Epoch 21 - avg_train_loss: 0.6489  lr: 3.4975e-04  time: 77s\n",
      "Epoch 21 - Score: 0.6565\n"
     ]
    },
    {
     "name": "stdout",
     "output_type": "stream",
     "text": [
      "EVAL: [16/17] Data 0.000 (0.021) Elapsed 0m 4s (remain 0m 0s) \n",
      "Epoch: [22][0/81] Data 0.422 (0.422) Elapsed 0m 1s (remain 1m 28s) Loss: 1.0732(1.0732) Grad Norm: 0.0000  LR: 3.0775e-04  \n",
      "Epoch: [22][80/81] Data 0.000 (0.005) Elapsed 1m 12s (remain 0m 0s) Loss: 0.0813(0.7236) Grad Norm: 2.6677  LR: 3.0775e-04  \n",
      "EVAL: [0/17] Data 0.285 (0.285) Elapsed 0m 0s (remain 0m 8s) \n"
     ]
    },
    {
     "name": "stderr",
     "output_type": "stream",
     "text": [
      "labels: [8 7 4 6 2]\n",
      "pred_labels: [8 7 7 1 5]\n",
      "Epoch 22 - avg_train_loss: 0.7236  lr: 3.0775e-04  time: 77s\n",
      "Epoch 22 - Score: 0.6489\n"
     ]
    },
    {
     "name": "stdout",
     "output_type": "stream",
     "text": [
      "EVAL: [16/17] Data 0.000 (0.017) Elapsed 0m 4s (remain 0m 0s) \n",
      "Epoch: [23][0/81] Data 0.412 (0.412) Elapsed 0m 1s (remain 1m 22s) Loss: 0.9447(0.9447) Grad Norm: 0.0000  LR: 2.6732e-04  \n",
      "Epoch: [23][80/81] Data 0.000 (0.005) Elapsed 1m 12s (remain 0m 0s) Loss: 1.1188(0.6474) Grad Norm: 4.4120  LR: 2.6732e-04  \n",
      "EVAL: [0/17] Data 0.352 (0.352) Elapsed 0m 0s (remain 0m 9s) \n"
     ]
    },
    {
     "name": "stderr",
     "output_type": "stream",
     "text": [
      "labels: [8 7 4 6 2]\n",
      "pred_labels: [8 7 4 3 5]\n",
      "Epoch 23 - avg_train_loss: 0.6474  lr: 2.6732e-04  time: 77s\n",
      "Epoch 23 - Score: 0.6870\n",
      "Epoch 23 - Save Best Score: 0.6870 Model\n"
     ]
    },
    {
     "name": "stdout",
     "output_type": "stream",
     "text": [
      "EVAL: [16/17] Data 0.000 (0.021) Elapsed 0m 4s (remain 0m 0s) \n",
      "Epoch: [24][0/81] Data 0.496 (0.496) Elapsed 0m 1s (remain 1m 33s) Loss: 0.0156(0.0156) Grad Norm: 0.0000  LR: 2.2880e-04  \n",
      "Epoch: [24][80/81] Data 0.000 (0.006) Elapsed 1m 12s (remain 0m 0s) Loss: 0.9221(0.5303) Grad Norm: 4.0192  LR: 2.2880e-04  \n",
      "EVAL: [0/17] Data 0.282 (0.282) Elapsed 0m 0s (remain 0m 8s) \n"
     ]
    },
    {
     "name": "stderr",
     "output_type": "stream",
     "text": [
      "labels: [8 7 4 6 2]\n",
      "pred_labels: [8 7 4 3 5]\n",
      "Epoch 24 - avg_train_loss: 0.5303  lr: 2.2880e-04  time: 77s\n",
      "Epoch 24 - Score: 0.6947\n",
      "Epoch 24 - Save Best Score: 0.6947 Model\n"
     ]
    },
    {
     "name": "stdout",
     "output_type": "stream",
     "text": [
      "EVAL: [16/17] Data 0.000 (0.017) Elapsed 0m 4s (remain 0m 0s) \n",
      "Epoch: [25][0/81] Data 0.482 (0.482) Elapsed 0m 1s (remain 1m 28s) Loss: 0.0677(0.0677) Grad Norm: 0.0000  LR: 1.9248e-04  \n",
      "Epoch: [25][80/81] Data 0.000 (0.006) Elapsed 1m 12s (remain 0m 0s) Loss: 1.1526(0.6292) Grad Norm: 3.1647  LR: 1.9248e-04  \n",
      "EVAL: [0/17] Data 0.330 (0.330) Elapsed 0m 0s (remain 0m 9s) \n"
     ]
    },
    {
     "name": "stderr",
     "output_type": "stream",
     "text": [
      "labels: [8 7 4 6 2]\n",
      "pred_labels: [8 7 2 1 5]\n",
      "Epoch 25 - avg_train_loss: 0.6292  lr: 1.9248e-04  time: 77s\n",
      "Epoch 25 - Score: 0.6947\n"
     ]
    },
    {
     "name": "stdout",
     "output_type": "stream",
     "text": [
      "EVAL: [16/17] Data 0.000 (0.020) Elapsed 0m 4s (remain 0m 0s) \n",
      "Epoch: [26][0/81] Data 0.432 (0.432) Elapsed 0m 1s (remain 1m 24s) Loss: 0.8009(0.8009) Grad Norm: 0.0000  LR: 1.5867e-04  \n",
      "Epoch: [26][80/81] Data 0.000 (0.006) Elapsed 1m 12s (remain 0m 0s) Loss: 0.0229(0.5935) Grad Norm: 1.5045  LR: 1.5867e-04  \n",
      "EVAL: [0/17] Data 0.367 (0.367) Elapsed 0m 0s (remain 0m 9s) \n"
     ]
    },
    {
     "name": "stderr",
     "output_type": "stream",
     "text": [
      "labels: [8 7 4 6 2]\n",
      "pred_labels: [8 7 9 1 5]\n",
      "Epoch 26 - avg_train_loss: 0.5935  lr: 1.5867e-04  time: 77s\n",
      "Epoch 26 - Score: 0.6870\n"
     ]
    },
    {
     "name": "stdout",
     "output_type": "stream",
     "text": [
      "EVAL: [16/17] Data 0.000 (0.022) Elapsed 0m 4s (remain 0m 0s) \n",
      "Epoch: [27][0/81] Data 0.472 (0.472) Elapsed 0m 1s (remain 1m 30s) Loss: 0.0246(0.0246) Grad Norm: 0.0000  LR: 1.2762e-04  \n",
      "Epoch: [27][80/81] Data 0.000 (0.006) Elapsed 1m 12s (remain 0m 0s) Loss: 1.1491(0.5010) Grad Norm: 2.2892  LR: 1.2762e-04  \n",
      "EVAL: [0/17] Data 0.323 (0.323) Elapsed 0m 0s (remain 0m 9s) \n"
     ]
    },
    {
     "name": "stderr",
     "output_type": "stream",
     "text": [
      "labels: [8 7 4 6 2]\n",
      "pred_labels: [8 7 2 1 5]\n",
      "Epoch 27 - avg_train_loss: 0.5010  lr: 1.2762e-04  time: 77s\n",
      "Epoch 27 - Score: 0.6794\n"
     ]
    },
    {
     "name": "stdout",
     "output_type": "stream",
     "text": [
      "EVAL: [16/17] Data 0.000 (0.019) Elapsed 0m 4s (remain 0m 0s) \n",
      "Epoch: [28][0/81] Data 0.408 (0.408) Elapsed 0m 1s (remain 1m 28s) Loss: 1.5085(1.5085) Grad Norm: 0.0000  LR: 9.9584e-05  \n",
      "Epoch: [28][80/81] Data 0.000 (0.005) Elapsed 1m 12s (remain 0m 0s) Loss: 0.1259(0.6849) Grad Norm: 2.5877  LR: 9.9584e-05  \n",
      "EVAL: [0/17] Data 0.373 (0.373) Elapsed 0m 0s (remain 0m 9s) \n"
     ]
    },
    {
     "name": "stderr",
     "output_type": "stream",
     "text": [
      "labels: [8 7 4 6 2]\n",
      "pred_labels: [8 7 2 1 5]\n",
      "Epoch 28 - avg_train_loss: 0.6849  lr: 9.9584e-05  time: 77s\n",
      "Epoch 28 - Score: 0.6794\n"
     ]
    },
    {
     "name": "stdout",
     "output_type": "stream",
     "text": [
      "EVAL: [16/17] Data 0.000 (0.022) Elapsed 0m 4s (remain 0m 0s) \n",
      "Epoch: [29][0/81] Data 0.503 (0.503) Elapsed 0m 1s (remain 1m 29s) Loss: 0.0473(0.0473) Grad Norm: 0.0000  LR: 7.4783e-05  \n",
      "Epoch: [29][80/81] Data 0.000 (0.006) Elapsed 1m 12s (remain 0m 0s) Loss: 1.2479(0.5990) Grad Norm: 0.3416  LR: 7.4783e-05  \n",
      "EVAL: [0/17] Data 0.335 (0.335) Elapsed 0m 0s (remain 0m 9s) \n"
     ]
    },
    {
     "name": "stderr",
     "output_type": "stream",
     "text": [
      "labels: [8 7 4 6 2]\n",
      "pred_labels: [8 7 9 1 5]\n",
      "Epoch 29 - avg_train_loss: 0.5990  lr: 7.4783e-05  time: 77s\n",
      "Epoch 29 - Score: 0.7023\n",
      "Epoch 29 - Save Best Score: 0.7023 Model\n"
     ]
    },
    {
     "name": "stdout",
     "output_type": "stream",
     "text": [
      "EVAL: [16/17] Data 0.000 (0.020) Elapsed 0m 4s (remain 0m 0s) \n",
      "Epoch: [30][0/81] Data 0.515 (0.515) Elapsed 0m 1s (remain 1m 34s) Loss: 0.0397(0.0397) Grad Norm: 0.0000  LR: 5.3404e-05  \n",
      "Epoch: [30][80/81] Data 0.000 (0.007) Elapsed 1m 12s (remain 0m 0s) Loss: 0.7541(0.6700) Grad Norm: 3.3728  LR: 5.3404e-05  \n",
      "EVAL: [0/17] Data 0.272 (0.272) Elapsed 0m 0s (remain 0m 8s) \n"
     ]
    },
    {
     "name": "stderr",
     "output_type": "stream",
     "text": [
      "labels: [8 7 4 6 2]\n",
      "pred_labels: [8 7 2 1 5]\n",
      "Epoch 30 - avg_train_loss: 0.6700  lr: 5.3404e-05  time: 77s\n",
      "Epoch 30 - Score: 0.6718\n"
     ]
    },
    {
     "name": "stdout",
     "output_type": "stream",
     "text": [
      "EVAL: [16/17] Data 0.000 (0.016) Elapsed 0m 4s (remain 0m 0s) \n",
      "Epoch: [31][0/81] Data 0.438 (0.438) Elapsed 0m 1s (remain 1m 28s) Loss: 0.0608(0.0608) Grad Norm: 0.0000  LR: 3.5607e-05  \n",
      "Epoch: [31][80/81] Data 0.000 (0.006) Elapsed 1m 12s (remain 0m 0s) Loss: 0.0310(0.0373) Grad Norm: 0.3552  LR: 3.5607e-05  \n",
      "EVAL: [0/17] Data 0.322 (0.322) Elapsed 0m 0s (remain 0m 9s) \n"
     ]
    },
    {
     "name": "stderr",
     "output_type": "stream",
     "text": [
      "labels: [8 7 4 6 2]\n",
      "pred_labels: [8 7 2 1 5]\n",
      "Epoch 31 - avg_train_loss: 0.0373  lr: 3.5607e-05  time: 77s\n",
      "Epoch 31 - Score: 0.6870\n"
     ]
    },
    {
     "name": "stdout",
     "output_type": "stream",
     "text": [
      "EVAL: [16/17] Data 0.000 (0.019) Elapsed 0m 4s (remain 0m 0s) \n",
      "Epoch: [32][0/81] Data 0.489 (0.489) Elapsed 0m 1s (remain 1m 32s) Loss: 0.0297(0.0297) Grad Norm: 0.0000  LR: 2.1508e-05  \n",
      "Epoch: [32][80/81] Data 0.000 (0.006) Elapsed 1m 12s (remain 0m 0s) Loss: 0.1674(0.0352) Grad Norm: 0.4258  LR: 2.1508e-05  \n",
      "EVAL: [0/17] Data 0.296 (0.296) Elapsed 0m 0s (remain 0m 8s) \n"
     ]
    },
    {
     "name": "stderr",
     "output_type": "stream",
     "text": [
      "labels: [8 7 4 6 2]\n",
      "pred_labels: [8 7 3 1 1]\n",
      "Epoch 32 - avg_train_loss: 0.0352  lr: 2.1508e-05  time: 77s\n",
      "Epoch 32 - Score: 0.6870\n"
     ]
    },
    {
     "name": "stdout",
     "output_type": "stream",
     "text": [
      "EVAL: [16/17] Data 0.000 (0.018) Elapsed 0m 4s (remain 0m 0s) \n",
      "Epoch: [33][0/81] Data 0.505 (0.505) Elapsed 0m 1s (remain 1m 29s) Loss: 0.0166(0.0166) Grad Norm: 0.0000  LR: 1.1173e-05  \n",
      "Epoch: [33][80/81] Data 0.000 (0.006) Elapsed 1m 12s (remain 0m 0s) Loss: 0.0158(0.0267) Grad Norm: 0.8075  LR: 1.1173e-05  \n",
      "EVAL: [0/17] Data 0.273 (0.273) Elapsed 0m 0s (remain 0m 8s) \n"
     ]
    },
    {
     "name": "stderr",
     "output_type": "stream",
     "text": [
      "labels: [8 7 4 6 2]\n",
      "pred_labels: [8 7 2 1 5]\n",
      "Epoch 33 - avg_train_loss: 0.0267  lr: 1.1173e-05  time: 77s\n",
      "Epoch 33 - Score: 0.7023\n"
     ]
    },
    {
     "name": "stdout",
     "output_type": "stream",
     "text": [
      "EVAL: [16/17] Data 0.000 (0.016) Elapsed 0m 4s (remain 0m 0s) \n",
      "Epoch: [34][0/81] Data 0.417 (0.417) Elapsed 0m 1s (remain 1m 30s) Loss: 0.1514(0.1514) Grad Norm: 0.0000  LR: 4.5796e-06  \n",
      "Epoch: [34][80/81] Data 0.000 (0.005) Elapsed 1m 12s (remain 0m 0s) Loss: 0.1342(0.0309) Grad Norm: 0.7879  LR: 4.5796e-06  \n",
      "EVAL: [0/17] Data 0.384 (0.384) Elapsed 0m 0s (remain 0m 9s) \n"
     ]
    },
    {
     "name": "stderr",
     "output_type": "stream",
     "text": [
      "labels: [8 7 4 6 2]\n",
      "pred_labels: [8 7 2 1 5]\n",
      "Epoch 34 - avg_train_loss: 0.0309  lr: 4.5796e-06  time: 77s\n",
      "Epoch 34 - Score: 0.6794\n"
     ]
    },
    {
     "name": "stdout",
     "output_type": "stream",
     "text": [
      "EVAL: [16/17] Data 0.000 (0.023) Elapsed 0m 4s (remain 0m 0s) \n",
      "Epoch: [35][0/81] Data 0.476 (0.476) Elapsed 0m 1s (remain 1m 29s) Loss: 0.0078(0.0078) Grad Norm: 0.0000  LR: 1.5037e-06  \n",
      "Epoch: [35][80/81] Data 0.000 (0.006) Elapsed 1m 12s (remain 0m 0s) Loss: 0.0072(0.0336) Grad Norm: 0.1750  LR: 1.5037e-06  \n",
      "EVAL: [0/17] Data 0.330 (0.330) Elapsed 0m 0s (remain 0m 9s) \n"
     ]
    },
    {
     "name": "stderr",
     "output_type": "stream",
     "text": [
      "labels: [8 7 4 6 2]\n",
      "pred_labels: [8 7 2 1 1]\n",
      "Epoch 35 - avg_train_loss: 0.0336  lr: 1.5037e-06  time: 77s\n",
      "Epoch 35 - Score: 0.6794\n",
      "==================== fold: 3, seed: 1 training ====================\n"
     ]
    },
    {
     "name": "stdout",
     "output_type": "stream",
     "text": [
      "EVAL: [16/17] Data 0.000 (0.020) Elapsed 0m 4s (remain 0m 0s) \n",
      "Epoch: [1][0/81] Data 0.522 (0.522) Elapsed 0m 1s (remain 1m 32s) Loss: 2.5397(2.5397) Grad Norm: 0.0000  LR: 1.0000e-03  \n",
      "Epoch: [1][80/81] Data 0.000 (0.007) Elapsed 1m 12s (remain 0m 0s) Loss: 2.1742(2.5387) Grad Norm: 8.3110  LR: 1.0000e-03  \n",
      "EVAL: [0/17] Data 0.388 (0.388) Elapsed 0m 0s (remain 0m 10s) \n"
     ]
    },
    {
     "name": "stderr",
     "output_type": "stream",
     "text": [
      "labels: [ 5  2  0  6 11]\n",
      "pred_labels: [ 9  0  2  2 11]\n",
      "Epoch 1 - avg_train_loss: 2.5387  lr: 1.0000e-03  time: 78s\n",
      "Epoch 1 - Score: 0.2748\n",
      "Epoch 1 - Save Best Score: 0.2748 Model\n"
     ]
    },
    {
     "name": "stdout",
     "output_type": "stream",
     "text": [
      "EVAL: [16/17] Data 0.000 (0.023) Elapsed 0m 4s (remain 0m 0s) \n",
      "Epoch: [2][0/81] Data 0.639 (0.639) Elapsed 0m 1s (remain 1m 41s) Loss: 2.3065(2.3065) Grad Norm: 0.0000  LR: 9.9598e-04  \n",
      "Epoch: [2][80/81] Data 0.000 (0.008) Elapsed 1m 13s (remain 0m 0s) Loss: 2.3203(2.2713) Grad Norm: 7.4330  LR: 9.9598e-04  \n",
      "EVAL: [0/17] Data 0.363 (0.363) Elapsed 0m 0s (remain 0m 9s) \n"
     ]
    },
    {
     "name": "stderr",
     "output_type": "stream",
     "text": [
      "labels: [ 5  2  0  6 11]\n",
      "pred_labels: [11  5  2  5  7]\n",
      "Epoch 2 - avg_train_loss: 2.2713  lr: 9.9598e-04  time: 78s\n",
      "Epoch 2 - Score: 0.3969\n",
      "Epoch 2 - Save Best Score: 0.3969 Model\n"
     ]
    },
    {
     "name": "stdout",
     "output_type": "stream",
     "text": [
      "EVAL: [16/17] Data 0.000 (0.022) Elapsed 0m 4s (remain 0m 0s) \n",
      "Epoch: [3][0/81] Data 0.560 (0.560) Elapsed 0m 1s (remain 1m 38s) Loss: 2.4930(2.4930) Grad Norm: 0.0000  LR: 9.8599e-04  \n",
      "Epoch: [3][80/81] Data 0.000 (0.007) Elapsed 1m 13s (remain 0m 0s) Loss: 1.3883(1.9957) Grad Norm: 8.9442  LR: 9.8599e-04  \n",
      "EVAL: [0/17] Data 0.382 (0.382) Elapsed 0m 0s (remain 0m 10s) \n"
     ]
    },
    {
     "name": "stderr",
     "output_type": "stream",
     "text": [
      "labels: [ 5  2  0  6 11]\n",
      "pred_labels: [6 5 2 6 7]\n",
      "Epoch 3 - avg_train_loss: 1.9957  lr: 9.8599e-04  time: 78s\n",
      "Epoch 3 - Score: 0.4427\n",
      "Epoch 3 - Save Best Score: 0.4427 Model\n"
     ]
    },
    {
     "name": "stdout",
     "output_type": "stream",
     "text": [
      "EVAL: [16/17] Data 0.000 (0.023) Elapsed 0m 4s (remain 0m 0s) \n",
      "Epoch: [4][0/81] Data 0.575 (0.575) Elapsed 0m 1s (remain 1m 37s) Loss: 2.4335(2.4335) Grad Norm: 0.0000  LR: 9.7213e-04  \n",
      "Epoch: [4][80/81] Data 0.000 (0.007) Elapsed 1m 13s (remain 0m 0s) Loss: 1.2055(1.7173) Grad Norm: 7.0805  LR: 9.7213e-04  \n",
      "EVAL: [0/17] Data 0.395 (0.395) Elapsed 0m 0s (remain 0m 10s) \n"
     ]
    },
    {
     "name": "stderr",
     "output_type": "stream",
     "text": [
      "labels: [ 5  2  0  6 11]\n",
      "pred_labels: [ 3  5  0  6 11]\n",
      "Epoch 4 - avg_train_loss: 1.7173  lr: 9.7213e-04  time: 78s\n",
      "Epoch 4 - Score: 0.5191\n",
      "Epoch 4 - Save Best Score: 0.5191 Model\n"
     ]
    },
    {
     "name": "stdout",
     "output_type": "stream",
     "text": [
      "EVAL: [16/17] Data 0.000 (0.024) Elapsed 0m 4s (remain 0m 0s) \n",
      "Epoch: [5][0/81] Data 0.615 (0.615) Elapsed 0m 1s (remain 1m 45s) Loss: 0.6222(0.6222) Grad Norm: 0.0000  LR: 9.5449e-04  \n",
      "Epoch: [5][80/81] Data 0.000 (0.008) Elapsed 1m 13s (remain 0m 0s) Loss: 1.1871(1.4874) Grad Norm: 7.0306  LR: 9.5449e-04  \n",
      "EVAL: [0/17] Data 0.404 (0.404) Elapsed 0m 0s (remain 0m 10s) \n"
     ]
    },
    {
     "name": "stderr",
     "output_type": "stream",
     "text": [
      "labels: [ 5  2  0  6 11]\n",
      "pred_labels: [ 3  5  0  2 11]\n",
      "Epoch 5 - avg_train_loss: 1.4874  lr: 9.5449e-04  time: 78s\n",
      "Epoch 5 - Score: 0.5725\n",
      "Epoch 5 - Save Best Score: 0.5725 Model\n"
     ]
    },
    {
     "name": "stdout",
     "output_type": "stream",
     "text": [
      "EVAL: [16/17] Data 0.000 (0.024) Elapsed 0m 4s (remain 0m 0s) \n",
      "Epoch: [6][0/81] Data 0.586 (0.586) Elapsed 0m 1s (remain 1m 40s) Loss: 1.6796(1.6796) Grad Norm: 0.0000  LR: 9.3324e-04  \n",
      "Epoch: [6][80/81] Data 0.000 (0.007) Elapsed 1m 13s (remain 0m 0s) Loss: 0.5489(1.3118) Grad Norm: 6.5990  LR: 9.3324e-04  \n",
      "EVAL: [0/17] Data 0.412 (0.412) Elapsed 0m 0s (remain 0m 10s) \n"
     ]
    },
    {
     "name": "stderr",
     "output_type": "stream",
     "text": [
      "labels: [ 5  2  0  6 11]\n",
      "pred_labels: [3 5 0 2 8]\n",
      "Epoch 6 - avg_train_loss: 1.3118  lr: 9.3324e-04  time: 78s\n",
      "Epoch 6 - Score: 0.5496\n"
     ]
    },
    {
     "name": "stdout",
     "output_type": "stream",
     "text": [
      "EVAL: [16/17] Data 0.000 (0.024) Elapsed 0m 4s (remain 0m 0s) \n",
      "Epoch: [7][0/81] Data 0.512 (0.512) Elapsed 0m 1s (remain 1m 34s) Loss: 0.7413(0.7413) Grad Norm: 0.0000  LR: 9.0853e-04  \n",
      "Epoch: [7][80/81] Data 0.000 (0.007) Elapsed 1m 13s (remain 0m 0s) Loss: 0.7685(1.3724) Grad Norm: 8.3446  LR: 9.0853e-04  \n",
      "EVAL: [0/17] Data 0.409 (0.409) Elapsed 0m 0s (remain 0m 10s) \n"
     ]
    },
    {
     "name": "stderr",
     "output_type": "stream",
     "text": [
      "labels: [ 5  2  0  6 11]\n",
      "pred_labels: [5 5 0 6 8]\n",
      "Epoch 7 - avg_train_loss: 1.3724  lr: 9.0853e-04  time: 78s\n",
      "Epoch 7 - Score: 0.6489\n",
      "Epoch 7 - Save Best Score: 0.6489 Model\n"
     ]
    },
    {
     "name": "stdout",
     "output_type": "stream",
     "text": [
      "EVAL: [16/17] Data 0.000 (0.024) Elapsed 0m 4s (remain 0m 0s) \n",
      "Epoch: [8][0/81] Data 0.499 (0.499) Elapsed 0m 1s (remain 1m 37s) Loss: 0.9244(0.9244) Grad Norm: 0.0000  LR: 8.8057e-04  \n",
      "Epoch: [8][80/81] Data 0.000 (0.006) Elapsed 1m 13s (remain 0m 0s) Loss: 0.3848(1.0504) Grad Norm: 5.9037  LR: 8.8057e-04  \n",
      "EVAL: [0/17] Data 0.389 (0.389) Elapsed 0m 0s (remain 0m 10s) \n"
     ]
    },
    {
     "name": "stderr",
     "output_type": "stream",
     "text": [
      "labels: [ 5  2  0  6 11]\n",
      "pred_labels: [ 5  5  0  2 11]\n",
      "Epoch 8 - avg_train_loss: 1.0504  lr: 8.8057e-04  time: 78s\n",
      "Epoch 8 - Score: 0.6260\n"
     ]
    },
    {
     "name": "stdout",
     "output_type": "stream",
     "text": [
      "EVAL: [16/17] Data 0.000 (0.023) Elapsed 0m 4s (remain 0m 0s) \n",
      "Epoch: [9][0/81] Data 0.471 (0.471) Elapsed 0m 1s (remain 1m 27s) Loss: 0.5803(0.5803) Grad Norm: 0.0000  LR: 8.4958e-04  \n",
      "Epoch: [9][80/81] Data 0.000 (0.006) Elapsed 1m 13s (remain 0m 0s) Loss: 1.6209(1.2155) Grad Norm: 4.4731  LR: 8.4958e-04  \n",
      "EVAL: [0/17] Data 0.391 (0.391) Elapsed 0m 0s (remain 0m 10s) \n"
     ]
    },
    {
     "name": "stderr",
     "output_type": "stream",
     "text": [
      "labels: [ 5  2  0  6 11]\n",
      "pred_labels: [5 5 0 6 8]\n",
      "Epoch 9 - avg_train_loss: 1.2155  lr: 8.4958e-04  time: 78s\n",
      "Epoch 9 - Score: 0.6107\n"
     ]
    },
    {
     "name": "stdout",
     "output_type": "stream",
     "text": [
      "EVAL: [16/17] Data 0.000 (0.023) Elapsed 0m 4s (remain 0m 0s) \n",
      "Epoch: [10][0/81] Data 0.493 (0.493) Elapsed 0m 1s (remain 1m 32s) Loss: 2.0503(2.0503) Grad Norm: 0.0000  LR: 8.1581e-04  \n",
      "Epoch: [10][80/81] Data 0.000 (0.006) Elapsed 1m 13s (remain 0m 0s) Loss: 0.5775(0.9465) Grad Norm: 3.4150  LR: 8.1581e-04  \n",
      "EVAL: [0/17] Data 0.390 (0.390) Elapsed 0m 0s (remain 0m 10s) \n"
     ]
    },
    {
     "name": "stderr",
     "output_type": "stream",
     "text": [
      "labels: [ 5  2  0  6 11]\n",
      "pred_labels: [ 5  5  0  5 11]\n",
      "Epoch 10 - avg_train_loss: 0.9465  lr: 8.1581e-04  time: 78s\n",
      "Epoch 10 - Score: 0.6336\n"
     ]
    },
    {
     "name": "stdout",
     "output_type": "stream",
     "text": [
      "EVAL: [16/17] Data 0.000 (0.023) Elapsed 0m 4s (remain 0m 0s) \n",
      "Epoch: [11][0/81] Data 0.539 (0.539) Elapsed 0m 1s (remain 1m 33s) Loss: 0.2075(0.2075) Grad Norm: 0.0000  LR: 7.7953e-04  \n",
      "Epoch: [11][80/81] Data 0.000 (0.007) Elapsed 1m 13s (remain 0m 0s) Loss: 0.2346(0.9927) Grad Norm: 4.4790  LR: 7.7953e-04  \n",
      "EVAL: [0/17] Data 0.444 (0.444) Elapsed 0m 0s (remain 0m 10s) \n"
     ]
    },
    {
     "name": "stderr",
     "output_type": "stream",
     "text": [
      "labels: [ 5  2  0  6 11]\n",
      "pred_labels: [ 1  5  0  0 11]\n",
      "Epoch 11 - avg_train_loss: 0.9927  lr: 7.7953e-04  time: 78s\n",
      "Epoch 11 - Score: 0.5954\n"
     ]
    },
    {
     "name": "stdout",
     "output_type": "stream",
     "text": [
      "EVAL: [16/17] Data 0.000 (0.026) Elapsed 0m 4s (remain 0m 0s) \n",
      "Epoch: [12][0/81] Data 0.476 (0.476) Elapsed 0m 1s (remain 1m 33s) Loss: 1.4276(1.4276) Grad Norm: 0.0000  LR: 7.4103e-04  \n",
      "Epoch: [12][80/81] Data 0.000 (0.006) Elapsed 1m 13s (remain 0m 0s) Loss: 0.2082(1.0416) Grad Norm: 5.2912  LR: 7.4103e-04  \n",
      "EVAL: [0/17] Data 0.397 (0.397) Elapsed 0m 0s (remain 0m 10s) \n"
     ]
    },
    {
     "name": "stderr",
     "output_type": "stream",
     "text": [
      "labels: [ 5  2  0  6 11]\n",
      "pred_labels: [ 4  5  0  6 11]\n",
      "Epoch 12 - avg_train_loss: 1.0416  lr: 7.4103e-04  time: 78s\n",
      "Epoch 12 - Score: 0.5496\n"
     ]
    },
    {
     "name": "stdout",
     "output_type": "stream",
     "text": [
      "EVAL: [16/17] Data 0.000 (0.024) Elapsed 0m 4s (remain 0m 0s) \n",
      "Epoch: [13][0/81] Data 0.421 (0.421) Elapsed 0m 1s (remain 1m 29s) Loss: 1.4327(1.4327) Grad Norm: 0.0000  LR: 7.0063e-04  \n",
      "Epoch: [13][80/81] Data 0.000 (0.005) Elapsed 1m 12s (remain 0m 0s) Loss: 0.2828(0.8072) Grad Norm: 3.0189  LR: 7.0063e-04  \n",
      "EVAL: [0/17] Data 0.396 (0.396) Elapsed 0m 0s (remain 0m 10s) \n"
     ]
    },
    {
     "name": "stderr",
     "output_type": "stream",
     "text": [
      "labels: [ 5  2  0  6 11]\n",
      "pred_labels: [ 5  5  0  6 11]\n",
      "Epoch 13 - avg_train_loss: 0.8072  lr: 7.0063e-04  time: 77s\n",
      "Epoch 13 - Score: 0.5649\n"
     ]
    },
    {
     "name": "stdout",
     "output_type": "stream",
     "text": [
      "EVAL: [16/17] Data 0.000 (0.023) Elapsed 0m 4s (remain 0m 0s) \n",
      "Epoch: [14][0/81] Data 0.517 (0.517) Elapsed 0m 1s (remain 1m 33s) Loss: 1.4788(1.4788) Grad Norm: 0.0000  LR: 6.5865e-04  \n",
      "Epoch: [14][80/81] Data 0.000 (0.007) Elapsed 1m 12s (remain 0m 0s) Loss: 0.3142(0.9550) Grad Norm: 4.6815  LR: 6.5865e-04  \n",
      "EVAL: [0/17] Data 0.367 (0.367) Elapsed 0m 0s (remain 0m 9s) \n"
     ]
    },
    {
     "name": "stderr",
     "output_type": "stream",
     "text": [
      "labels: [ 5  2  0  6 11]\n",
      "pred_labels: [ 5  5  0  6 11]\n",
      "Epoch 14 - avg_train_loss: 0.9550  lr: 6.5865e-04  time: 77s\n",
      "Epoch 14 - Score: 0.6260\n"
     ]
    },
    {
     "name": "stdout",
     "output_type": "stream",
     "text": [
      "EVAL: [16/17] Data 0.000 (0.022) Elapsed 0m 4s (remain 0m 0s) \n",
      "Epoch: [15][0/81] Data 0.547 (0.547) Elapsed 0m 1s (remain 1m 36s) Loss: 1.6494(1.6494) Grad Norm: 0.0000  LR: 6.1542e-04  \n",
      "Epoch: [15][80/81] Data 0.000 (0.007) Elapsed 1m 12s (remain 0m 0s) Loss: 1.5081(0.7920) Grad Norm: 1.6906  LR: 6.1542e-04  \n",
      "EVAL: [0/17] Data 0.418 (0.418) Elapsed 0m 0s (remain 0m 10s) \n"
     ]
    },
    {
     "name": "stderr",
     "output_type": "stream",
     "text": [
      "labels: [ 5  2  0  6 11]\n",
      "pred_labels: [ 5  5  0  6 11]\n",
      "Epoch 15 - avg_train_loss: 0.7920  lr: 6.1542e-04  time: 77s\n",
      "Epoch 15 - Score: 0.6336\n"
     ]
    },
    {
     "name": "stdout",
     "output_type": "stream",
     "text": [
      "EVAL: [16/17] Data 0.000 (0.025) Elapsed 0m 4s (remain 0m 0s) \n",
      "Epoch: [16][0/81] Data 0.503 (0.503) Elapsed 0m 1s (remain 1m 35s) Loss: 0.2575(0.2575) Grad Norm: 0.0000  LR: 5.7130e-04  \n",
      "Epoch: [16][80/81] Data 0.000 (0.006) Elapsed 1m 12s (remain 0m 0s) Loss: 0.1649(0.8359) Grad Norm: 3.8775  LR: 5.7130e-04  \n",
      "EVAL: [0/17] Data 0.406 (0.406) Elapsed 0m 0s (remain 0m 10s) \n"
     ]
    },
    {
     "name": "stderr",
     "output_type": "stream",
     "text": [
      "labels: [ 5  2  0  6 11]\n",
      "pred_labels: [ 5  5  0  6 11]\n",
      "Epoch 16 - avg_train_loss: 0.8359  lr: 5.7130e-04  time: 78s\n",
      "Epoch 16 - Score: 0.6489\n"
     ]
    },
    {
     "name": "stdout",
     "output_type": "stream",
     "text": [
      "EVAL: [16/17] Data 0.000 (0.024) Elapsed 0m 4s (remain 0m 0s) \n",
      "Epoch: [17][0/81] Data 0.435 (0.435) Elapsed 0m 1s (remain 1m 31s) Loss: 0.7791(0.7791) Grad Norm: 0.0000  LR: 5.2663e-04  \n",
      "Epoch: [17][80/81] Data 0.000 (0.006) Elapsed 1m 12s (remain 0m 0s) Loss: 1.0170(0.7486) Grad Norm: 4.7556  LR: 5.2663e-04  \n",
      "EVAL: [0/17] Data 0.363 (0.363) Elapsed 0m 0s (remain 0m 9s) \n"
     ]
    },
    {
     "name": "stderr",
     "output_type": "stream",
     "text": [
      "labels: [ 5  2  0  6 11]\n",
      "pred_labels: [ 5  5  0  6 11]\n",
      "Epoch 17 - avg_train_loss: 0.7486  lr: 5.2663e-04  time: 77s\n",
      "Epoch 17 - Score: 0.6260\n"
     ]
    },
    {
     "name": "stdout",
     "output_type": "stream",
     "text": [
      "EVAL: [16/17] Data 0.000 (0.022) Elapsed 0m 4s (remain 0m 0s) \n",
      "Epoch: [18][0/81] Data 0.580 (0.580) Elapsed 0m 1s (remain 1m 35s) Loss: 0.2114(0.2114) Grad Norm: 0.0000  LR: 4.8179e-04  \n",
      "Epoch: [18][80/81] Data 0.000 (0.007) Elapsed 1m 12s (remain 0m 0s) Loss: 0.2325(0.7013) Grad Norm: 3.0608  LR: 4.8179e-04  \n",
      "EVAL: [0/17] Data 0.390 (0.390) Elapsed 0m 0s (remain 0m 10s) \n"
     ]
    },
    {
     "name": "stderr",
     "output_type": "stream",
     "text": [
      "labels: [ 5  2  0  6 11]\n",
      "pred_labels: [ 5  5  0  6 11]\n",
      "Epoch 18 - avg_train_loss: 0.7013  lr: 4.8179e-04  time: 77s\n",
      "Epoch 18 - Score: 0.6641\n",
      "Epoch 18 - Save Best Score: 0.6641 Model\n"
     ]
    },
    {
     "name": "stdout",
     "output_type": "stream",
     "text": [
      "EVAL: [16/17] Data 0.000 (0.023) Elapsed 0m 4s (remain 0m 0s) \n",
      "Epoch: [19][0/81] Data 0.490 (0.490) Elapsed 0m 1s (remain 1m 33s) Loss: 0.2862(0.2862) Grad Norm: 0.0000  LR: 4.3712e-04  \n",
      "Epoch: [19][80/81] Data 0.000 (0.006) Elapsed 1m 12s (remain 0m 0s) Loss: 0.2003(0.8637) Grad Norm: 4.4730  LR: 4.3712e-04  \n",
      "EVAL: [0/17] Data 0.384 (0.384) Elapsed 0m 0s (remain 0m 9s) \n"
     ]
    },
    {
     "name": "stderr",
     "output_type": "stream",
     "text": [
      "labels: [ 5  2  0  6 11]\n",
      "pred_labels: [ 5  5  0  6 11]\n",
      "Epoch 19 - avg_train_loss: 0.8637  lr: 4.3712e-04  time: 77s\n",
      "Epoch 19 - Score: 0.7023\n",
      "Epoch 19 - Save Best Score: 0.7023 Model\n"
     ]
    },
    {
     "name": "stdout",
     "output_type": "stream",
     "text": [
      "EVAL: [16/17] Data 0.000 (0.023) Elapsed 0m 4s (remain 0m 0s) \n",
      "Epoch: [20][0/81] Data 0.498 (0.498) Elapsed 0m 1s (remain 1m 40s) Loss: 1.9648(1.9648) Grad Norm: 0.0000  LR: 3.9299e-04  \n",
      "Epoch: [20][80/81] Data 0.000 (0.006) Elapsed 1m 12s (remain 0m 0s) Loss: 1.5676(0.7234) Grad Norm: 3.5724  LR: 3.9299e-04  \n",
      "EVAL: [0/17] Data 0.378 (0.378) Elapsed 0m 0s (remain 0m 9s) \n"
     ]
    },
    {
     "name": "stderr",
     "output_type": "stream",
     "text": [
      "labels: [ 5  2  0  6 11]\n",
      "pred_labels: [ 5  5  0  6 11]\n",
      "Epoch 20 - avg_train_loss: 0.7234  lr: 3.9299e-04  time: 77s\n",
      "Epoch 20 - Score: 0.6947\n"
     ]
    },
    {
     "name": "stdout",
     "output_type": "stream",
     "text": [
      "EVAL: [16/17] Data 0.000 (0.022) Elapsed 0m 4s (remain 0m 0s) \n",
      "Epoch: [21][0/81] Data 0.412 (0.412) Elapsed 0m 1s (remain 1m 30s) Loss: 1.2052(1.2052) Grad Norm: 0.0000  LR: 3.4975e-04  \n",
      "Epoch: [21][80/81] Data 0.000 (0.005) Elapsed 1m 12s (remain 0m 0s) Loss: 0.1689(0.6718) Grad Norm: 3.2117  LR: 3.4975e-04  \n",
      "EVAL: [0/17] Data 0.328 (0.328) Elapsed 0m 0s (remain 0m 9s) \n"
     ]
    },
    {
     "name": "stderr",
     "output_type": "stream",
     "text": [
      "labels: [ 5  2  0  6 11]\n",
      "pred_labels: [ 5  5  0  6 11]\n",
      "Epoch 21 - avg_train_loss: 0.6718  lr: 3.4975e-04  time: 77s\n",
      "Epoch 21 - Score: 0.6947\n"
     ]
    },
    {
     "name": "stdout",
     "output_type": "stream",
     "text": [
      "EVAL: [16/17] Data 0.000 (0.020) Elapsed 0m 4s (remain 0m 0s) \n",
      "Epoch: [22][0/81] Data 0.494 (0.494) Elapsed 0m 1s (remain 1m 33s) Loss: 1.2971(1.2971) Grad Norm: 0.0000  LR: 3.0775e-04  \n",
      "Epoch: [22][80/81] Data 0.000 (0.006) Elapsed 1m 12s (remain 0m 0s) Loss: 0.8717(0.7133) Grad Norm: 2.5640  LR: 3.0775e-04  \n",
      "EVAL: [0/17] Data 0.336 (0.336) Elapsed 0m 0s (remain 0m 9s) \n"
     ]
    },
    {
     "name": "stderr",
     "output_type": "stream",
     "text": [
      "labels: [ 5  2  0  6 11]\n",
      "pred_labels: [ 5  5  0  6 11]\n",
      "Epoch 22 - avg_train_loss: 0.7133  lr: 3.0775e-04  time: 77s\n",
      "Epoch 22 - Score: 0.6718\n"
     ]
    },
    {
     "name": "stdout",
     "output_type": "stream",
     "text": [
      "EVAL: [16/17] Data 0.000 (0.020) Elapsed 0m 4s (remain 0m 0s) \n",
      "Epoch: [23][0/81] Data 0.428 (0.428) Elapsed 0m 1s (remain 1m 24s) Loss: 0.8402(0.8402) Grad Norm: 0.0000  LR: 2.6732e-04  \n",
      "Epoch: [23][80/81] Data 0.000 (0.006) Elapsed 1m 12s (remain 0m 0s) Loss: 0.5899(0.6986) Grad Norm: 4.4664  LR: 2.6732e-04  \n",
      "EVAL: [0/17] Data 0.310 (0.310) Elapsed 0m 0s (remain 0m 8s) \n"
     ]
    },
    {
     "name": "stderr",
     "output_type": "stream",
     "text": [
      "labels: [ 5  2  0  6 11]\n",
      "pred_labels: [ 5  5  0  6 11]\n",
      "Epoch 23 - avg_train_loss: 0.6986  lr: 2.6732e-04  time: 77s\n",
      "Epoch 23 - Score: 0.6870\n"
     ]
    },
    {
     "name": "stdout",
     "output_type": "stream",
     "text": [
      "EVAL: [16/17] Data 0.000 (0.019) Elapsed 0m 4s (remain 0m 0s) \n",
      "Epoch: [24][0/81] Data 0.508 (0.508) Elapsed 0m 1s (remain 1m 33s) Loss: 1.4205(1.4205) Grad Norm: 0.0000  LR: 2.2880e-04  \n",
      "Epoch: [24][80/81] Data 0.000 (0.007) Elapsed 1m 12s (remain 0m 0s) Loss: 0.1222(0.6999) Grad Norm: 5.2750  LR: 2.2880e-04  \n",
      "EVAL: [0/17] Data 0.313 (0.313) Elapsed 0m 0s (remain 0m 8s) \n"
     ]
    },
    {
     "name": "stderr",
     "output_type": "stream",
     "text": [
      "labels: [ 5  2  0  6 11]\n",
      "pred_labels: [ 5  5  0  6 11]\n",
      "Epoch 24 - avg_train_loss: 0.6999  lr: 2.2880e-04  time: 77s\n",
      "Epoch 24 - Score: 0.6947\n"
     ]
    },
    {
     "name": "stdout",
     "output_type": "stream",
     "text": [
      "EVAL: [16/17] Data 0.000 (0.019) Elapsed 0m 4s (remain 0m 0s) \n",
      "Epoch: [25][0/81] Data 0.499 (0.499) Elapsed 0m 1s (remain 1m 29s) Loss: 1.5907(1.5907) Grad Norm: 0.0000  LR: 1.9248e-04  \n",
      "Epoch: [25][80/81] Data 0.000 (0.006) Elapsed 1m 12s (remain 0m 0s) Loss: 0.0352(0.7113) Grad Norm: 2.0586  LR: 1.9248e-04  \n",
      "EVAL: [0/17] Data 0.358 (0.358) Elapsed 0m 0s (remain 0m 9s) \n"
     ]
    },
    {
     "name": "stderr",
     "output_type": "stream",
     "text": [
      "labels: [ 5  2  0  6 11]\n",
      "pred_labels: [ 5  5  0  6 11]\n",
      "Epoch 25 - avg_train_loss: 0.7113  lr: 1.9248e-04  time: 77s\n",
      "Epoch 25 - Score: 0.6565\n"
     ]
    },
    {
     "name": "stdout",
     "output_type": "stream",
     "text": [
      "EVAL: [16/17] Data 0.000 (0.021) Elapsed 0m 4s (remain 0m 0s) \n",
      "Epoch: [26][0/81] Data 0.513 (0.513) Elapsed 0m 1s (remain 1m 30s) Loss: 0.9113(0.9113) Grad Norm: 0.0000  LR: 1.5867e-04  \n",
      "Epoch: [26][80/81] Data 0.000 (0.007) Elapsed 1m 12s (remain 0m 0s) Loss: 0.0413(0.7443) Grad Norm: 4.5575  LR: 1.5867e-04  \n",
      "EVAL: [0/17] Data 0.373 (0.373) Elapsed 0m 0s (remain 0m 9s) \n"
     ]
    },
    {
     "name": "stderr",
     "output_type": "stream",
     "text": [
      "labels: [ 5  2  0  6 11]\n",
      "pred_labels: [ 5  5  0  6 11]\n",
      "Epoch 26 - avg_train_loss: 0.7443  lr: 1.5867e-04  time: 77s\n",
      "Epoch 26 - Score: 0.6870\n"
     ]
    },
    {
     "name": "stdout",
     "output_type": "stream",
     "text": [
      "EVAL: [16/17] Data 0.000 (0.022) Elapsed 0m 4s (remain 0m 0s) \n",
      "Epoch: [27][0/81] Data 0.464 (0.464) Elapsed 0m 1s (remain 1m 28s) Loss: 0.0898(0.0898) Grad Norm: 0.0000  LR: 1.2762e-04  \n",
      "Epoch: [27][80/81] Data 0.000 (0.006) Elapsed 1m 12s (remain 0m 0s) Loss: 0.2787(0.5318) Grad Norm: 2.6647  LR: 1.2762e-04  \n",
      "EVAL: [0/17] Data 0.353 (0.353) Elapsed 0m 0s (remain 0m 9s) \n"
     ]
    },
    {
     "name": "stderr",
     "output_type": "stream",
     "text": [
      "labels: [ 5  2  0  6 11]\n",
      "pred_labels: [ 5  5  0  6 11]\n",
      "Epoch 27 - avg_train_loss: 0.5318  lr: 1.2762e-04  time: 77s\n",
      "Epoch 27 - Score: 0.6870\n"
     ]
    },
    {
     "name": "stdout",
     "output_type": "stream",
     "text": [
      "EVAL: [16/17] Data 0.000 (0.021) Elapsed 0m 4s (remain 0m 0s) \n",
      "Epoch: [28][0/81] Data 0.468 (0.468) Elapsed 0m 1s (remain 1m 27s) Loss: 0.5300(0.5300) Grad Norm: 0.0000  LR: 9.9584e-05  \n",
      "Epoch: [28][80/81] Data 0.000 (0.006) Elapsed 1m 12s (remain 0m 0s) Loss: 0.0395(0.6457) Grad Norm: 3.6100  LR: 9.9584e-05  \n",
      "EVAL: [0/17] Data 0.350 (0.350) Elapsed 0m 0s (remain 0m 9s) \n"
     ]
    },
    {
     "name": "stderr",
     "output_type": "stream",
     "text": [
      "labels: [ 5  2  0  6 11]\n",
      "pred_labels: [ 5  5  0  6 11]\n",
      "Epoch 28 - avg_train_loss: 0.6457  lr: 9.9584e-05  time: 77s\n",
      "Epoch 28 - Score: 0.6718\n"
     ]
    },
    {
     "name": "stdout",
     "output_type": "stream",
     "text": [
      "EVAL: [16/17] Data 0.000 (0.021) Elapsed 0m 4s (remain 0m 0s) \n",
      "Epoch: [29][0/81] Data 0.430 (0.430) Elapsed 0m 1s (remain 1m 30s) Loss: 0.0285(0.0285) Grad Norm: 0.0000  LR: 7.4783e-05  \n",
      "Epoch: [29][80/81] Data 0.000 (0.006) Elapsed 1m 12s (remain 0m 0s) Loss: 0.0338(0.6632) Grad Norm: 5.1729  LR: 7.4783e-05  \n",
      "EVAL: [0/17] Data 0.346 (0.346) Elapsed 0m 0s (remain 0m 9s) \n"
     ]
    },
    {
     "name": "stderr",
     "output_type": "stream",
     "text": [
      "labels: [ 5  2  0  6 11]\n",
      "pred_labels: [ 5  5  0  6 11]\n",
      "Epoch 29 - avg_train_loss: 0.6632  lr: 7.4783e-05  time: 77s\n",
      "Epoch 29 - Score: 0.7099\n",
      "Epoch 29 - Save Best Score: 0.7099 Model\n"
     ]
    },
    {
     "name": "stdout",
     "output_type": "stream",
     "text": [
      "EVAL: [16/17] Data 0.000 (0.021) Elapsed 0m 4s (remain 0m 0s) \n",
      "Epoch: [30][0/81] Data 0.577 (0.577) Elapsed 0m 1s (remain 1m 37s) Loss: 0.0399(0.0399) Grad Norm: 0.0000  LR: 5.3404e-05  \n",
      "Epoch: [30][80/81] Data 0.000 (0.007) Elapsed 1m 12s (remain 0m 0s) Loss: 1.0628(0.6416) Grad Norm: 2.8573  LR: 5.3404e-05  \n",
      "EVAL: [0/17] Data 0.297 (0.297) Elapsed 0m 0s (remain 0m 9s) \n"
     ]
    },
    {
     "name": "stderr",
     "output_type": "stream",
     "text": [
      "labels: [ 5  2  0  6 11]\n",
      "pred_labels: [ 5  5  0  6 11]\n",
      "Epoch 30 - avg_train_loss: 0.6416  lr: 5.3404e-05  time: 77s\n",
      "Epoch 30 - Score: 0.7023\n"
     ]
    },
    {
     "name": "stdout",
     "output_type": "stream",
     "text": [
      "EVAL: [16/17] Data 0.000 (0.018) Elapsed 0m 4s (remain 0m 0s) \n",
      "Epoch: [31][0/81] Data 0.514 (0.514) Elapsed 0m 1s (remain 1m 31s) Loss: 0.0633(0.0633) Grad Norm: 0.0000  LR: 3.5607e-05  \n",
      "Epoch: [31][80/81] Data 0.000 (0.007) Elapsed 1m 12s (remain 0m 0s) Loss: 0.0168(0.0489) Grad Norm: 0.3817  LR: 3.5607e-05  \n",
      "EVAL: [0/17] Data 0.330 (0.330) Elapsed 0m 0s (remain 0m 9s) \n"
     ]
    },
    {
     "name": "stderr",
     "output_type": "stream",
     "text": [
      "labels: [ 5  2  0  6 11]\n",
      "pred_labels: [ 5  5  0  6 11]\n",
      "Epoch 31 - avg_train_loss: 0.0489  lr: 3.5607e-05  time: 77s\n",
      "Epoch 31 - Score: 0.6947\n"
     ]
    },
    {
     "name": "stdout",
     "output_type": "stream",
     "text": [
      "EVAL: [16/17] Data 0.000 (0.020) Elapsed 0m 4s (remain 0m 0s) \n",
      "Epoch: [32][0/81] Data 0.478 (0.478) Elapsed 0m 1s (remain 1m 27s) Loss: 0.0378(0.0378) Grad Norm: 0.0000  LR: 2.1508e-05  \n",
      "Epoch: [32][80/81] Data 0.000 (0.006) Elapsed 1m 12s (remain 0m 0s) Loss: 0.0109(0.0488) Grad Norm: 0.5896  LR: 2.1508e-05  \n",
      "EVAL: [0/17] Data 0.314 (0.314) Elapsed 0m 0s (remain 0m 8s) \n"
     ]
    },
    {
     "name": "stderr",
     "output_type": "stream",
     "text": [
      "labels: [ 5  2  0  6 11]\n",
      "pred_labels: [ 5  5  0  6 11]\n",
      "Epoch 32 - avg_train_loss: 0.0488  lr: 2.1508e-05  time: 77s\n",
      "Epoch 32 - Score: 0.7023\n"
     ]
    },
    {
     "name": "stdout",
     "output_type": "stream",
     "text": [
      "EVAL: [16/17] Data 0.000 (0.019) Elapsed 0m 4s (remain 0m 0s) \n",
      "Epoch: [33][0/81] Data 0.492 (0.492) Elapsed 0m 1s (remain 1m 28s) Loss: 0.0212(0.0212) Grad Norm: 0.0000  LR: 1.1173e-05  \n",
      "Epoch: [33][80/81] Data 0.000 (0.006) Elapsed 1m 12s (remain 0m 0s) Loss: 0.0275(0.0319) Grad Norm: 0.6137  LR: 1.1173e-05  \n",
      "EVAL: [0/17] Data 0.311 (0.311) Elapsed 0m 0s (remain 0m 9s) \n"
     ]
    },
    {
     "name": "stderr",
     "output_type": "stream",
     "text": [
      "labels: [ 5  2  0  6 11]\n",
      "pred_labels: [ 5  5  0  6 11]\n",
      "Epoch 33 - avg_train_loss: 0.0319  lr: 1.1173e-05  time: 77s\n",
      "Epoch 33 - Score: 0.6947\n"
     ]
    },
    {
     "name": "stdout",
     "output_type": "stream",
     "text": [
      "EVAL: [16/17] Data 0.000 (0.019) Elapsed 0m 4s (remain 0m 0s) \n",
      "Epoch: [34][0/81] Data 0.455 (0.455) Elapsed 0m 1s (remain 1m 28s) Loss: 0.0189(0.0189) Grad Norm: 0.0000  LR: 4.5796e-06  \n",
      "Epoch: [34][80/81] Data 0.000 (0.006) Elapsed 1m 12s (remain 0m 0s) Loss: 0.0066(0.0300) Grad Norm: 0.5903  LR: 4.5796e-06  \n",
      "EVAL: [0/17] Data 0.365 (0.365) Elapsed 0m 0s (remain 0m 9s) \n"
     ]
    },
    {
     "name": "stderr",
     "output_type": "stream",
     "text": [
      "labels: [ 5  2  0  6 11]\n",
      "pred_labels: [ 5  5  0  6 11]\n",
      "Epoch 34 - avg_train_loss: 0.0300  lr: 4.5796e-06  time: 77s\n",
      "Epoch 34 - Score: 0.6641\n"
     ]
    },
    {
     "name": "stdout",
     "output_type": "stream",
     "text": [
      "EVAL: [16/17] Data 0.000 (0.022) Elapsed 0m 4s (remain 0m 0s) \n",
      "Epoch: [35][0/81] Data 0.461 (0.461) Elapsed 0m 1s (remain 1m 27s) Loss: 0.0281(0.0281) Grad Norm: 0.0000  LR: 1.5037e-06  \n",
      "Epoch: [35][80/81] Data 0.000 (0.006) Elapsed 1m 12s (remain 0m 0s) Loss: 0.0921(0.0265) Grad Norm: 0.1721  LR: 1.5037e-06  \n",
      "EVAL: [0/17] Data 0.340 (0.340) Elapsed 0m 0s (remain 0m 9s) \n"
     ]
    },
    {
     "name": "stderr",
     "output_type": "stream",
     "text": [
      "labels: [ 5  2  0  6 11]\n",
      "pred_labels: [ 5  5  0  6 11]\n",
      "Epoch 35 - avg_train_loss: 0.0265  lr: 1.5037e-06  time: 77s\n",
      "Epoch 35 - Score: 0.7099\n",
      "==================== fold: 4, seed: 1 training ====================\n"
     ]
    },
    {
     "name": "stdout",
     "output_type": "stream",
     "text": [
      "EVAL: [16/17] Data 0.000 (0.020) Elapsed 0m 4s (remain 0m 0s) \n",
      "Epoch: [1][0/81] Data 0.491 (0.491) Elapsed 0m 1s (remain 1m 34s) Loss: 2.7539(2.7539) Grad Norm: 0.0000  LR: 1.0000e-03  \n",
      "Epoch: [1][80/81] Data 0.000 (0.006) Elapsed 1m 13s (remain 0m 0s) Loss: 2.4154(2.5542) Grad Norm: 5.9513  LR: 1.0000e-03  \n",
      "EVAL: [0/17] Data 0.410 (0.410) Elapsed 0m 0s (remain 0m 10s) \n"
     ]
    },
    {
     "name": "stderr",
     "output_type": "stream",
     "text": [
      "labels: [11  4  3 12  3]\n",
      "pred_labels: [2 2 2 2 6]\n",
      "Epoch 1 - avg_train_loss: 2.5542  lr: 1.0000e-03  time: 78s\n",
      "Epoch 1 - Score: 0.2769\n",
      "Epoch 1 - Save Best Score: 0.2769 Model\n"
     ]
    },
    {
     "name": "stdout",
     "output_type": "stream",
     "text": [
      "EVAL: [16/17] Data 0.000 (0.024) Elapsed 0m 4s (remain 0m 0s) \n",
      "Epoch: [2][0/81] Data 0.714 (0.714) Elapsed 0m 1s (remain 1m 48s) Loss: 2.1372(2.1372) Grad Norm: 0.0000  LR: 9.9598e-04  \n",
      "Epoch: [2][80/81] Data 0.000 (0.009) Elapsed 1m 13s (remain 0m 0s) Loss: 2.4911(2.2233) Grad Norm: 7.0028  LR: 9.9598e-04  \n",
      "EVAL: [0/17] Data 0.391 (0.391) Elapsed 0m 0s (remain 0m 10s) \n"
     ]
    },
    {
     "name": "stderr",
     "output_type": "stream",
     "text": [
      "labels: [11  4  3 12  3]\n",
      "pred_labels: [2 6 2 2 1]\n",
      "Epoch 2 - avg_train_loss: 2.2233  lr: 9.9598e-04  time: 78s\n",
      "Epoch 2 - Score: 0.3846\n",
      "Epoch 2 - Save Best Score: 0.3846 Model\n"
     ]
    },
    {
     "name": "stdout",
     "output_type": "stream",
     "text": [
      "EVAL: [16/17] Data 0.000 (0.023) Elapsed 0m 4s (remain 0m 0s) \n",
      "Epoch: [3][0/81] Data 0.530 (0.530) Elapsed 0m 1s (remain 1m 36s) Loss: 1.9467(1.9467) Grad Norm: 0.0000  LR: 9.8599e-04  \n",
      "Epoch: [3][80/81] Data 0.000 (0.007) Elapsed 1m 13s (remain 0m 0s) Loss: 1.3560(1.9582) Grad Norm: 6.4074  LR: 9.8599e-04  \n",
      "EVAL: [0/17] Data 0.420 (0.420) Elapsed 0m 0s (remain 0m 10s) \n"
     ]
    },
    {
     "name": "stderr",
     "output_type": "stream",
     "text": [
      "labels: [11  4  3 12  3]\n",
      "pred_labels: [11  2  1  2  1]\n",
      "Epoch 3 - avg_train_loss: 1.9582  lr: 9.8599e-04  time: 78s\n",
      "Epoch 3 - Score: 0.4308\n",
      "Epoch 3 - Save Best Score: 0.4308 Model\n"
     ]
    },
    {
     "name": "stdout",
     "output_type": "stream",
     "text": [
      "EVAL: [16/17] Data 0.000 (0.025) Elapsed 0m 4s (remain 0m 0s) \n",
      "Epoch: [4][0/81] Data 0.525 (0.525) Elapsed 0m 1s (remain 1m 33s) Loss: 1.6444(1.6444) Grad Norm: 0.0000  LR: 9.7213e-04  \n",
      "Epoch: [4][80/81] Data 0.000 (0.007) Elapsed 1m 13s (remain 0m 0s) Loss: 1.6407(1.7857) Grad Norm: 7.4949  LR: 9.7213e-04  \n",
      "EVAL: [0/17] Data 0.408 (0.408) Elapsed 0m 0s (remain 0m 10s) \n"
     ]
    },
    {
     "name": "stderr",
     "output_type": "stream",
     "text": [
      "labels: [11  4  3 12  3]\n",
      "pred_labels: [11  0  3  8  1]\n",
      "Epoch 4 - avg_train_loss: 1.7857  lr: 9.7213e-04  time: 78s\n",
      "Epoch 4 - Score: 0.4846\n",
      "Epoch 4 - Save Best Score: 0.4846 Model\n"
     ]
    },
    {
     "name": "stdout",
     "output_type": "stream",
     "text": [
      "EVAL: [16/17] Data 0.000 (0.024) Elapsed 0m 4s (remain 0m 0s) \n",
      "Epoch: [5][0/81] Data 0.576 (0.576) Elapsed 0m 1s (remain 1m 40s) Loss: 1.9489(1.9489) Grad Norm: 0.0000  LR: 9.5449e-04  \n",
      "Epoch: [5][80/81] Data 0.000 (0.007) Elapsed 1m 13s (remain 0m 0s) Loss: 1.7970(1.4420) Grad Norm: 6.6005  LR: 9.5449e-04  \n",
      "EVAL: [0/17] Data 0.375 (0.375) Elapsed 0m 0s (remain 0m 10s) \n"
     ]
    },
    {
     "name": "stderr",
     "output_type": "stream",
     "text": [
      "labels: [11  4  3 12  3]\n",
      "pred_labels: [11  3  3 12  3]\n",
      "Epoch 5 - avg_train_loss: 1.4420  lr: 9.5449e-04  time: 78s\n",
      "Epoch 5 - Score: 0.5538\n",
      "Epoch 5 - Save Best Score: 0.5538 Model\n"
     ]
    },
    {
     "name": "stdout",
     "output_type": "stream",
     "text": [
      "EVAL: [16/17] Data 0.000 (0.022) Elapsed 0m 4s (remain 0m 0s) \n",
      "Epoch: [6][0/81] Data 0.504 (0.504) Elapsed 0m 1s (remain 1m 35s) Loss: 0.7115(0.7115) Grad Norm: 0.0000  LR: 9.3324e-04  \n",
      "Epoch: [6][80/81] Data 0.000 (0.006) Elapsed 1m 13s (remain 0m 0s) Loss: 0.6168(1.4320) Grad Norm: 6.2333  LR: 9.3324e-04  \n",
      "EVAL: [0/17] Data 0.402 (0.402) Elapsed 0m 0s (remain 0m 10s) \n"
     ]
    },
    {
     "name": "stderr",
     "output_type": "stream",
     "text": [
      "labels: [11  4  3 12  3]\n",
      "pred_labels: [11  4  3  9  1]\n",
      "Epoch 6 - avg_train_loss: 1.4320  lr: 9.3324e-04  time: 78s\n",
      "Epoch 6 - Score: 0.5308\n"
     ]
    },
    {
     "name": "stdout",
     "output_type": "stream",
     "text": [
      "EVAL: [16/17] Data 0.000 (0.024) Elapsed 0m 4s (remain 0m 0s) \n",
      "Epoch: [7][0/81] Data 0.483 (0.483) Elapsed 0m 1s (remain 1m 29s) Loss: 0.8797(0.8797) Grad Norm: 0.0000  LR: 9.0853e-04  \n",
      "Epoch: [7][80/81] Data 0.000 (0.006) Elapsed 1m 13s (remain 0m 0s) Loss: 1.7128(1.2599) Grad Norm: 7.9460  LR: 9.0853e-04  \n",
      "EVAL: [0/17] Data 0.376 (0.376) Elapsed 0m 0s (remain 0m 9s) \n"
     ]
    },
    {
     "name": "stderr",
     "output_type": "stream",
     "text": [
      "labels: [11  4  3 12  3]\n",
      "pred_labels: [11  4  3  9  1]\n",
      "Epoch 7 - avg_train_loss: 1.2599  lr: 9.0853e-04  time: 78s\n",
      "Epoch 7 - Score: 0.5846\n",
      "Epoch 7 - Save Best Score: 0.5846 Model\n"
     ]
    },
    {
     "name": "stdout",
     "output_type": "stream",
     "text": [
      "EVAL: [16/17] Data 0.000 (0.022) Elapsed 0m 4s (remain 0m 0s) \n",
      "Epoch: [8][0/81] Data 0.520 (0.520) Elapsed 0m 1s (remain 1m 38s) Loss: 1.6144(1.6144) Grad Norm: 0.0000  LR: 8.8057e-04  \n",
      "Epoch: [8][80/81] Data 0.000 (0.007) Elapsed 1m 13s (remain 0m 0s) Loss: 1.2958(1.1962) Grad Norm: 6.2880  LR: 8.8057e-04  \n",
      "EVAL: [0/17] Data 0.363 (0.363) Elapsed 0m 0s (remain 0m 10s) \n"
     ]
    },
    {
     "name": "stderr",
     "output_type": "stream",
     "text": [
      "labels: [11  4  3 12  3]\n",
      "pred_labels: [11  4  3 12  3]\n",
      "Epoch 8 - avg_train_loss: 1.1962  lr: 8.8057e-04  time: 78s\n",
      "Epoch 8 - Score: 0.5385\n"
     ]
    },
    {
     "name": "stdout",
     "output_type": "stream",
     "text": [
      "EVAL: [16/17] Data 0.000 (0.022) Elapsed 0m 4s (remain 0m 0s) \n",
      "Epoch: [9][0/81] Data 0.492 (0.492) Elapsed 0m 1s (remain 1m 29s) Loss: 1.5060(1.5060) Grad Norm: 0.0000  LR: 8.4958e-04  \n",
      "Epoch: [9][80/81] Data 0.000 (0.006) Elapsed 1m 13s (remain 0m 0s) Loss: 1.8651(1.2368) Grad Norm: 6.6784  LR: 8.4958e-04  \n",
      "EVAL: [0/17] Data 0.404 (0.404) Elapsed 0m 0s (remain 0m 10s) \n"
     ]
    },
    {
     "name": "stderr",
     "output_type": "stream",
     "text": [
      "labels: [11  4  3 12  3]\n",
      "pred_labels: [11  4  3 12  3]\n",
      "Epoch 9 - avg_train_loss: 1.2368  lr: 8.4958e-04  time: 78s\n",
      "Epoch 9 - Score: 0.5692\n"
     ]
    },
    {
     "name": "stdout",
     "output_type": "stream",
     "text": [
      "EVAL: [16/17] Data 0.000 (0.024) Elapsed 0m 4s (remain 0m 0s) \n",
      "Epoch: [10][0/81] Data 0.551 (0.551) Elapsed 0m 1s (remain 1m 34s) Loss: 2.0100(2.0100) Grad Norm: 0.0000  LR: 8.1581e-04  \n",
      "Epoch: [10][80/81] Data 0.000 (0.007) Elapsed 1m 13s (remain 0m 0s) Loss: 1.4907(1.1889) Grad Norm: 4.3080  LR: 8.1581e-04  \n",
      "EVAL: [0/17] Data 0.428 (0.428) Elapsed 0m 0s (remain 0m 10s) \n"
     ]
    },
    {
     "name": "stderr",
     "output_type": "stream",
     "text": [
      "labels: [11  4  3 12  3]\n",
      "pred_labels: [11  5  3 12  3]\n",
      "Epoch 10 - avg_train_loss: 1.1889  lr: 8.1581e-04  time: 78s\n",
      "Epoch 10 - Score: 0.6077\n",
      "Epoch 10 - Save Best Score: 0.6077 Model\n"
     ]
    },
    {
     "name": "stdout",
     "output_type": "stream",
     "text": [
      "EVAL: [16/17] Data 0.000 (0.025) Elapsed 0m 4s (remain 0m 0s) \n",
      "Epoch: [11][0/81] Data 0.564 (0.564) Elapsed 0m 1s (remain 1m 40s) Loss: 1.9262(1.9262) Grad Norm: 0.0000  LR: 7.7953e-04  \n",
      "Epoch: [11][80/81] Data 0.000 (0.007) Elapsed 1m 13s (remain 0m 0s) Loss: 1.5244(1.0265) Grad Norm: 6.4390  LR: 7.7953e-04  \n",
      "EVAL: [0/17] Data 0.362 (0.362) Elapsed 0m 0s (remain 0m 9s) \n"
     ]
    },
    {
     "name": "stderr",
     "output_type": "stream",
     "text": [
      "labels: [11  4  3 12  3]\n",
      "pred_labels: [11  5  4 12  1]\n",
      "Epoch 11 - avg_train_loss: 1.0265  lr: 7.7953e-04  time: 78s\n",
      "Epoch 11 - Score: 0.5231\n"
     ]
    },
    {
     "name": "stdout",
     "output_type": "stream",
     "text": [
      "EVAL: [16/17] Data 0.000 (0.022) Elapsed 0m 4s (remain 0m 0s) \n",
      "Epoch: [12][0/81] Data 0.471 (0.471) Elapsed 0m 1s (remain 1m 30s) Loss: 1.3718(1.3718) Grad Norm: 0.0000  LR: 7.4103e-04  \n",
      "Epoch: [12][80/81] Data 0.000 (0.006) Elapsed 1m 12s (remain 0m 0s) Loss: 1.6530(0.9804) Grad Norm: 5.9185  LR: 7.4103e-04  \n",
      "EVAL: [0/17] Data 0.387 (0.387) Elapsed 0m 0s (remain 0m 10s) \n"
     ]
    },
    {
     "name": "stderr",
     "output_type": "stream",
     "text": [
      "labels: [11  4  3 12  3]\n",
      "pred_labels: [11  4  3 10  9]\n",
      "Epoch 12 - avg_train_loss: 0.9804  lr: 7.4103e-04  time: 78s\n",
      "Epoch 12 - Score: 0.5154\n"
     ]
    },
    {
     "name": "stdout",
     "output_type": "stream",
     "text": [
      "EVAL: [16/17] Data 0.000 (0.023) Elapsed 0m 4s (remain 0m 0s) \n",
      "Epoch: [13][0/81] Data 0.442 (0.442) Elapsed 0m 1s (remain 1m 29s) Loss: 1.5434(1.5434) Grad Norm: 0.0000  LR: 7.0063e-04  \n",
      "Epoch: [13][80/81] Data 0.000 (0.006) Elapsed 1m 12s (remain 0m 0s) Loss: 1.3866(0.9633) Grad Norm: 8.3507  LR: 7.0063e-04  \n",
      "EVAL: [0/17] Data 0.381 (0.381) Elapsed 0m 0s (remain 0m 9s) \n"
     ]
    },
    {
     "name": "stderr",
     "output_type": "stream",
     "text": [
      "labels: [11  4  3 12  3]\n",
      "pred_labels: [11  5  3 12  3]\n",
      "Epoch 13 - avg_train_loss: 0.9633  lr: 7.0063e-04  time: 77s\n",
      "Epoch 13 - Score: 0.6000\n"
     ]
    },
    {
     "name": "stdout",
     "output_type": "stream",
     "text": [
      "EVAL: [16/17] Data 0.000 (0.023) Elapsed 0m 4s (remain 0m 0s) \n",
      "Epoch: [14][0/81] Data 0.535 (0.535) Elapsed 0m 1s (remain 1m 34s) Loss: 0.2997(0.2997) Grad Norm: 0.0000  LR: 6.5865e-04  \n",
      "Epoch: [14][80/81] Data 0.000 (0.007) Elapsed 1m 12s (remain 0m 0s) Loss: 0.2421(0.8759) Grad Norm: 3.9932  LR: 6.5865e-04  \n",
      "EVAL: [0/17] Data 0.384 (0.384) Elapsed 0m 0s (remain 0m 9s) \n"
     ]
    },
    {
     "name": "stderr",
     "output_type": "stream",
     "text": [
      "labels: [11  4  3 12  3]\n",
      "pred_labels: [11  4  3 12  3]\n",
      "Epoch 14 - avg_train_loss: 0.8759  lr: 6.5865e-04  time: 78s\n",
      "Epoch 14 - Score: 0.5385\n"
     ]
    },
    {
     "name": "stdout",
     "output_type": "stream",
     "text": [
      "EVAL: [16/17] Data 0.000 (0.023) Elapsed 0m 4s (remain 0m 0s) \n",
      "Epoch: [15][0/81] Data 0.558 (0.558) Elapsed 0m 1s (remain 1m 36s) Loss: 0.1495(0.1495) Grad Norm: 0.0000  LR: 6.1542e-04  \n",
      "Epoch: [15][80/81] Data 0.000 (0.007) Elapsed 1m 12s (remain 0m 0s) Loss: 1.6975(0.9133) Grad Norm: 4.8366  LR: 6.1542e-04  \n",
      "EVAL: [0/17] Data 0.380 (0.380) Elapsed 0m 0s (remain 0m 9s) \n"
     ]
    },
    {
     "name": "stderr",
     "output_type": "stream",
     "text": [
      "labels: [11  4  3 12  3]\n",
      "pred_labels: [11  4  3 12  1]\n",
      "Epoch 15 - avg_train_loss: 0.9133  lr: 6.1542e-04  time: 77s\n",
      "Epoch 15 - Score: 0.6308\n",
      "Epoch 15 - Save Best Score: 0.6308 Model\n"
     ]
    },
    {
     "name": "stdout",
     "output_type": "stream",
     "text": [
      "EVAL: [16/17] Data 0.000 (0.023) Elapsed 0m 4s (remain 0m 0s) \n",
      "Epoch: [16][0/81] Data 0.506 (0.506) Elapsed 0m 1s (remain 1m 33s) Loss: 1.1387(1.1387) Grad Norm: 0.0000  LR: 5.7130e-04  \n",
      "Epoch: [16][80/81] Data 0.000 (0.006) Elapsed 1m 12s (remain 0m 0s) Loss: 0.0876(0.8999) Grad Norm: 4.8427  LR: 5.7130e-04  \n",
      "EVAL: [0/17] Data 0.401 (0.401) Elapsed 0m 0s (remain 0m 10s) \n"
     ]
    },
    {
     "name": "stderr",
     "output_type": "stream",
     "text": [
      "labels: [11  4  3 12  3]\n",
      "pred_labels: [11  4  3 12  1]\n",
      "Epoch 16 - avg_train_loss: 0.8999  lr: 5.7130e-04  time: 77s\n",
      "Epoch 16 - Score: 0.6462\n",
      "Epoch 16 - Save Best Score: 0.6462 Model\n"
     ]
    },
    {
     "name": "stdout",
     "output_type": "stream",
     "text": [
      "EVAL: [16/17] Data 0.000 (0.024) Elapsed 0m 4s (remain 0m 0s) \n",
      "Epoch: [17][0/81] Data 0.642 (0.642) Elapsed 0m 1s (remain 1m 41s) Loss: 1.3245(1.3245) Grad Norm: 0.0000  LR: 5.2663e-04  \n",
      "Epoch: [17][80/81] Data 0.000 (0.008) Elapsed 1m 12s (remain 0m 0s) Loss: 0.0680(0.6949) Grad Norm: 4.3723  LR: 5.2663e-04  \n",
      "EVAL: [0/17] Data 0.379 (0.379) Elapsed 0m 0s (remain 0m 9s) \n"
     ]
    },
    {
     "name": "stderr",
     "output_type": "stream",
     "text": [
      "labels: [11  4  3 12  3]\n",
      "pred_labels: [11  4  3 12  1]\n",
      "Epoch 17 - avg_train_loss: 0.6949  lr: 5.2663e-04  time: 77s\n",
      "Epoch 17 - Score: 0.6077\n"
     ]
    },
    {
     "name": "stdout",
     "output_type": "stream",
     "text": [
      "EVAL: [16/17] Data 0.000 (0.023) Elapsed 0m 4s (remain 0m 0s) \n",
      "Epoch: [18][0/81] Data 0.463 (0.463) Elapsed 0m 1s (remain 1m 30s) Loss: 0.0988(0.0988) Grad Norm: 0.0000  LR: 4.8179e-04  \n",
      "Epoch: [18][80/81] Data 0.000 (0.006) Elapsed 1m 12s (remain 0m 0s) Loss: 1.3413(0.8491) Grad Norm: 2.0252  LR: 4.8179e-04  \n",
      "EVAL: [0/17] Data 0.377 (0.377) Elapsed 0m 0s (remain 0m 9s) \n"
     ]
    },
    {
     "name": "stderr",
     "output_type": "stream",
     "text": [
      "labels: [11  4  3 12  3]\n",
      "pred_labels: [11  4  3 12  3]\n",
      "Epoch 18 - avg_train_loss: 0.8491  lr: 4.8179e-04  time: 77s\n",
      "Epoch 18 - Score: 0.5769\n"
     ]
    },
    {
     "name": "stdout",
     "output_type": "stream",
     "text": [
      "EVAL: [16/17] Data 0.000 (0.022) Elapsed 0m 4s (remain 0m 0s) \n",
      "Epoch: [19][0/81] Data 0.493 (0.493) Elapsed 0m 1s (remain 1m 28s) Loss: 1.8349(1.8349) Grad Norm: 0.0000  LR: 4.3712e-04  \n",
      "Epoch: [19][80/81] Data 0.000 (0.006) Elapsed 1m 12s (remain 0m 0s) Loss: 1.3062(0.7727) Grad Norm: 4.6672  LR: 4.3712e-04  \n",
      "EVAL: [0/17] Data 0.380 (0.380) Elapsed 0m 0s (remain 0m 9s) \n"
     ]
    },
    {
     "name": "stderr",
     "output_type": "stream",
     "text": [
      "labels: [11  4  3 12  3]\n",
      "pred_labels: [11  2  3 12  3]\n",
      "Epoch 19 - avg_train_loss: 0.7727  lr: 4.3712e-04  time: 77s\n",
      "Epoch 19 - Score: 0.5538\n"
     ]
    },
    {
     "name": "stdout",
     "output_type": "stream",
     "text": [
      "EVAL: [16/17] Data 0.000 (0.023) Elapsed 0m 4s (remain 0m 0s) \n",
      "Epoch: [20][0/81] Data 0.450 (0.450) Elapsed 0m 1s (remain 1m 30s) Loss: 0.6098(0.6098) Grad Norm: 0.0000  LR: 3.9299e-04  \n",
      "Epoch: [20][80/81] Data 0.000 (0.006) Elapsed 1m 12s (remain 0m 0s) Loss: 1.7202(0.7128) Grad Norm: 4.7256  LR: 3.9299e-04  \n",
      "EVAL: [0/17] Data 0.326 (0.326) Elapsed 0m 0s (remain 0m 9s) \n"
     ]
    },
    {
     "name": "stderr",
     "output_type": "stream",
     "text": [
      "labels: [11  4  3 12  3]\n",
      "pred_labels: [11  5  3 12  1]\n",
      "Epoch 20 - avg_train_loss: 0.7128  lr: 3.9299e-04  time: 77s\n",
      "Epoch 20 - Score: 0.5923\n"
     ]
    },
    {
     "name": "stdout",
     "output_type": "stream",
     "text": [
      "EVAL: [16/17] Data 0.000 (0.019) Elapsed 0m 4s (remain 0m 0s) \n",
      "Epoch: [21][0/81] Data 0.505 (0.505) Elapsed 0m 1s (remain 1m 32s) Loss: 0.3818(0.3818) Grad Norm: 0.0000  LR: 3.4975e-04  \n",
      "Epoch: [21][80/81] Data 0.000 (0.006) Elapsed 1m 12s (remain 0m 0s) Loss: 0.0935(0.7491) Grad Norm: 4.2788  LR: 3.4975e-04  \n",
      "EVAL: [0/17] Data 0.313 (0.313) Elapsed 0m 0s (remain 0m 9s) \n"
     ]
    },
    {
     "name": "stderr",
     "output_type": "stream",
     "text": [
      "labels: [11  4  3 12  3]\n",
      "pred_labels: [11  4  3 12  1]\n",
      "Epoch 21 - avg_train_loss: 0.7491  lr: 3.4975e-04  time: 77s\n",
      "Epoch 21 - Score: 0.5769\n"
     ]
    },
    {
     "name": "stdout",
     "output_type": "stream",
     "text": [
      "EVAL: [16/17] Data 0.000 (0.019) Elapsed 0m 4s (remain 0m 0s) \n",
      "Epoch: [22][0/81] Data 0.440 (0.440) Elapsed 0m 1s (remain 1m 30s) Loss: 1.2633(1.2633) Grad Norm: 0.0000  LR: 3.0775e-04  \n",
      "Epoch: [22][80/81] Data 0.000 (0.006) Elapsed 1m 12s (remain 0m 0s) Loss: 0.0476(0.6993) Grad Norm: 5.1621  LR: 3.0775e-04  \n",
      "EVAL: [0/17] Data 0.341 (0.341) Elapsed 0m 0s (remain 0m 9s) \n"
     ]
    },
    {
     "name": "stderr",
     "output_type": "stream",
     "text": [
      "labels: [11  4  3 12  3]\n",
      "pred_labels: [11  4  3 12  1]\n",
      "Epoch 22 - avg_train_loss: 0.6993  lr: 3.0775e-04  time: 77s\n",
      "Epoch 22 - Score: 0.6077\n"
     ]
    },
    {
     "name": "stdout",
     "output_type": "stream",
     "text": [
      "EVAL: [16/17] Data 0.000 (0.020) Elapsed 0m 4s (remain 0m 0s) \n",
      "Epoch: [23][0/81] Data 0.557 (0.557) Elapsed 0m 1s (remain 1m 33s) Loss: 0.0330(0.0330) Grad Norm: 0.0000  LR: 2.6732e-04  \n",
      "Epoch: [23][80/81] Data 0.000 (0.007) Elapsed 1m 12s (remain 0m 0s) Loss: 0.0127(0.6145) Grad Norm: 3.5894  LR: 2.6732e-04  \n",
      "EVAL: [0/17] Data 0.315 (0.315) Elapsed 0m 0s (remain 0m 9s) \n"
     ]
    },
    {
     "name": "stderr",
     "output_type": "stream",
     "text": [
      "labels: [11  4  3 12  3]\n",
      "pred_labels: [11  4  3 12  1]\n",
      "Epoch 23 - avg_train_loss: 0.6145  lr: 2.6732e-04  time: 77s\n",
      "Epoch 23 - Score: 0.6154\n"
     ]
    },
    {
     "name": "stdout",
     "output_type": "stream",
     "text": [
      "EVAL: [16/17] Data 0.000 (0.019) Elapsed 0m 4s (remain 0m 0s) \n",
      "Epoch: [24][0/81] Data 0.471 (0.471) Elapsed 0m 1s (remain 1m 30s) Loss: 1.0293(1.0293) Grad Norm: 0.0000  LR: 2.2880e-04  \n",
      "Epoch: [24][80/81] Data 0.000 (0.006) Elapsed 1m 12s (remain 0m 0s) Loss: 1.0972(0.6701) Grad Norm: 2.5072  LR: 2.2880e-04  \n",
      "EVAL: [0/17] Data 0.406 (0.406) Elapsed 0m 0s (remain 0m 10s) \n"
     ]
    },
    {
     "name": "stderr",
     "output_type": "stream",
     "text": [
      "labels: [11  4  3 12  3]\n",
      "pred_labels: [11  4  3  9  1]\n",
      "Epoch 24 - avg_train_loss: 0.6701  lr: 2.2880e-04  time: 77s\n",
      "Epoch 24 - Score: 0.5846\n"
     ]
    },
    {
     "name": "stdout",
     "output_type": "stream",
     "text": [
      "EVAL: [16/17] Data 0.000 (0.024) Elapsed 0m 4s (remain 0m 0s) \n",
      "Epoch: [25][0/81] Data 0.595 (0.595) Elapsed 0m 1s (remain 1m 37s) Loss: 1.6008(1.6008) Grad Norm: 0.0000  LR: 1.9248e-04  \n",
      "Epoch: [25][80/81] Data 0.000 (0.008) Elapsed 1m 12s (remain 0m 0s) Loss: 1.2632(0.6401) Grad Norm: 3.4530  LR: 1.9248e-04  \n",
      "EVAL: [0/17] Data 0.393 (0.393) Elapsed 0m 0s (remain 0m 10s) \n"
     ]
    },
    {
     "name": "stderr",
     "output_type": "stream",
     "text": [
      "labels: [11  4  3 12  3]\n",
      "pred_labels: [11  4  3 12  1]\n",
      "Epoch 25 - avg_train_loss: 0.6401  lr: 1.9248e-04  time: 77s\n",
      "Epoch 25 - Score: 0.6462\n"
     ]
    },
    {
     "name": "stdout",
     "output_type": "stream",
     "text": [
      "EVAL: [16/17] Data 0.000 (0.023) Elapsed 0m 4s (remain 0m 0s) \n",
      "Epoch: [26][0/81] Data 0.566 (0.566) Elapsed 0m 1s (remain 1m 35s) Loss: 0.9608(0.9608) Grad Norm: 0.0000  LR: 1.5867e-04  \n",
      "Epoch: [26][80/81] Data 0.000 (0.007) Elapsed 1m 12s (remain 0m 0s) Loss: 0.0296(0.6558) Grad Norm: 3.3812  LR: 1.5867e-04  \n",
      "EVAL: [0/17] Data 0.371 (0.371) Elapsed 0m 0s (remain 0m 9s) \n"
     ]
    },
    {
     "name": "stderr",
     "output_type": "stream",
     "text": [
      "labels: [11  4  3 12  3]\n",
      "pred_labels: [11  4  3 10  3]\n",
      "Epoch 26 - avg_train_loss: 0.6558  lr: 1.5867e-04  time: 77s\n",
      "Epoch 26 - Score: 0.6308\n"
     ]
    },
    {
     "name": "stdout",
     "output_type": "stream",
     "text": [
      "EVAL: [16/17] Data 0.000 (0.022) Elapsed 0m 4s (remain 0m 0s) \n",
      "Epoch: [27][0/81] Data 0.477 (0.477) Elapsed 0m 1s (remain 1m 31s) Loss: 0.2408(0.2408) Grad Norm: 0.0000  LR: 1.2762e-04  \n",
      "Epoch: [27][80/81] Data 0.000 (0.006) Elapsed 1m 12s (remain 0m 0s) Loss: 0.1212(0.6291) Grad Norm: 1.8793  LR: 1.2762e-04  \n",
      "EVAL: [0/17] Data 0.395 (0.395) Elapsed 0m 0s (remain 0m 10s) \n"
     ]
    },
    {
     "name": "stderr",
     "output_type": "stream",
     "text": [
      "labels: [11  4  3 12  3]\n",
      "pred_labels: [11  4  3 12  1]\n",
      "Epoch 27 - avg_train_loss: 0.6291  lr: 1.2762e-04  time: 77s\n",
      "Epoch 27 - Score: 0.6538\n",
      "Epoch 27 - Save Best Score: 0.6538 Model\n"
     ]
    },
    {
     "name": "stdout",
     "output_type": "stream",
     "text": [
      "EVAL: [16/17] Data 0.000 (0.023) Elapsed 0m 4s (remain 0m 0s) \n",
      "Epoch: [28][0/81] Data 0.471 (0.471) Elapsed 0m 1s (remain 1m 28s) Loss: 0.0197(0.0197) Grad Norm: 0.0000  LR: 9.9584e-05  \n",
      "Epoch: [28][80/81] Data 0.000 (0.006) Elapsed 1m 12s (remain 0m 0s) Loss: 0.0263(0.6375) Grad Norm: 2.5496  LR: 9.9584e-05  \n",
      "EVAL: [0/17] Data 0.341 (0.341) Elapsed 0m 0s (remain 0m 9s) \n"
     ]
    },
    {
     "name": "stderr",
     "output_type": "stream",
     "text": [
      "labels: [11  4  3 12  3]\n",
      "pred_labels: [11  4  3 12  1]\n",
      "Epoch 28 - avg_train_loss: 0.6375  lr: 9.9584e-05  time: 77s\n",
      "Epoch 28 - Score: 0.6462\n"
     ]
    },
    {
     "name": "stdout",
     "output_type": "stream",
     "text": [
      "EVAL: [16/17] Data 0.000 (0.020) Elapsed 0m 4s (remain 0m 0s) \n",
      "Epoch: [29][0/81] Data 0.444 (0.444) Elapsed 0m 1s (remain 1m 29s) Loss: 1.0392(1.0392) Grad Norm: 0.0000  LR: 7.4783e-05  \n",
      "Epoch: [29][80/81] Data 0.000 (0.006) Elapsed 1m 12s (remain 0m 0s) Loss: 0.8091(0.5664) Grad Norm: 4.3099  LR: 7.4783e-05  \n",
      "EVAL: [0/17] Data 0.344 (0.344) Elapsed 0m 0s (remain 0m 9s) \n"
     ]
    },
    {
     "name": "stderr",
     "output_type": "stream",
     "text": [
      "labels: [11  4  3 12  3]\n",
      "pred_labels: [11  4  3 12  1]\n",
      "Epoch 29 - avg_train_loss: 0.5664  lr: 7.4783e-05  time: 77s\n",
      "Epoch 29 - Score: 0.6385\n"
     ]
    },
    {
     "name": "stdout",
     "output_type": "stream",
     "text": [
      "EVAL: [16/17] Data 0.000 (0.021) Elapsed 0m 4s (remain 0m 0s) \n",
      "Epoch: [30][0/81] Data 0.478 (0.478) Elapsed 0m 1s (remain 1m 30s) Loss: 0.0361(0.0361) Grad Norm: 0.0000  LR: 5.3404e-05  \n",
      "Epoch: [30][80/81] Data 0.000 (0.006) Elapsed 1m 12s (remain 0m 0s) Loss: 0.4118(0.5600) Grad Norm: 3.3579  LR: 5.3404e-05  \n",
      "EVAL: [0/17] Data 0.345 (0.345) Elapsed 0m 0s (remain 0m 9s) \n"
     ]
    },
    {
     "name": "stderr",
     "output_type": "stream",
     "text": [
      "labels: [11  4  3 12  3]\n",
      "pred_labels: [11  4  3 12  1]\n",
      "Epoch 30 - avg_train_loss: 0.5600  lr: 5.3404e-05  time: 77s\n",
      "Epoch 30 - Score: 0.6308\n"
     ]
    },
    {
     "name": "stdout",
     "output_type": "stream",
     "text": [
      "EVAL: [16/17] Data 0.000 (0.021) Elapsed 0m 4s (remain 0m 0s) \n",
      "Epoch: [31][0/81] Data 0.440 (0.440) Elapsed 0m 1s (remain 1m 32s) Loss: 0.0226(0.0226) Grad Norm: 0.0000  LR: 3.5607e-05  \n",
      "Epoch: [31][80/81] Data 0.000 (0.006) Elapsed 1m 12s (remain 0m 0s) Loss: 0.0187(0.0469) Grad Norm: 0.2560  LR: 3.5607e-05  \n",
      "EVAL: [0/17] Data 0.328 (0.328) Elapsed 0m 0s (remain 0m 9s) \n"
     ]
    },
    {
     "name": "stderr",
     "output_type": "stream",
     "text": [
      "labels: [11  4  3 12  3]\n",
      "pred_labels: [11  4  3 12  1]\n",
      "Epoch 31 - avg_train_loss: 0.0469  lr: 3.5607e-05  time: 77s\n",
      "Epoch 31 - Score: 0.6538\n"
     ]
    },
    {
     "name": "stdout",
     "output_type": "stream",
     "text": [
      "EVAL: [16/17] Data 0.000 (0.020) Elapsed 0m 4s (remain 0m 0s) \n",
      "Epoch: [32][0/81] Data 0.478 (0.478) Elapsed 0m 1s (remain 1m 27s) Loss: 0.0155(0.0155) Grad Norm: 0.0000  LR: 2.1508e-05  \n",
      "Epoch: [32][80/81] Data 0.000 (0.006) Elapsed 1m 12s (remain 0m 0s) Loss: 0.0453(0.0463) Grad Norm: 0.9254  LR: 2.1508e-05  \n",
      "EVAL: [0/17] Data 0.304 (0.304) Elapsed 0m 0s (remain 0m 9s) \n"
     ]
    },
    {
     "name": "stderr",
     "output_type": "stream",
     "text": [
      "labels: [11  4  3 12  3]\n",
      "pred_labels: [11  4  3 12  1]\n",
      "Epoch 32 - avg_train_loss: 0.0463  lr: 2.1508e-05  time: 77s\n",
      "Epoch 32 - Score: 0.6692\n",
      "Epoch 32 - Save Best Score: 0.6692 Model\n"
     ]
    },
    {
     "name": "stdout",
     "output_type": "stream",
     "text": [
      "EVAL: [16/17] Data 0.000 (0.018) Elapsed 0m 4s (remain 0m 0s) \n",
      "Epoch: [33][0/81] Data 0.489 (0.489) Elapsed 0m 1s (remain 1m 34s) Loss: 0.0087(0.0087) Grad Norm: 0.0000  LR: 1.1173e-05  \n",
      "Epoch: [33][80/81] Data 0.000 (0.006) Elapsed 1m 12s (remain 0m 0s) Loss: 0.0108(0.0380) Grad Norm: 1.5502  LR: 1.1173e-05  \n",
      "EVAL: [0/17] Data 0.335 (0.335) Elapsed 0m 0s (remain 0m 9s) \n"
     ]
    },
    {
     "name": "stderr",
     "output_type": "stream",
     "text": [
      "labels: [11  4  3 12  3]\n",
      "pred_labels: [11  4  3 12  1]\n",
      "Epoch 33 - avg_train_loss: 0.0380  lr: 1.1173e-05  time: 77s\n",
      "Epoch 33 - Score: 0.6308\n"
     ]
    },
    {
     "name": "stdout",
     "output_type": "stream",
     "text": [
      "EVAL: [16/17] Data 0.000 (0.020) Elapsed 0m 4s (remain 0m 0s) \n",
      "Epoch: [34][0/81] Data 0.478 (0.478) Elapsed 0m 1s (remain 1m 29s) Loss: 0.0479(0.0479) Grad Norm: 0.0000  LR: 4.5796e-06  \n",
      "Epoch: [34][80/81] Data 0.000 (0.006) Elapsed 1m 12s (remain 0m 0s) Loss: 0.0171(0.0258) Grad Norm: 0.3791  LR: 4.5796e-06  \n",
      "EVAL: [0/17] Data 0.336 (0.336) Elapsed 0m 0s (remain 0m 9s) \n"
     ]
    },
    {
     "name": "stderr",
     "output_type": "stream",
     "text": [
      "labels: [11  4  3 12  3]\n",
      "pred_labels: [11  4  3 12  1]\n",
      "Epoch 34 - avg_train_loss: 0.0258  lr: 4.5796e-06  time: 77s\n",
      "Epoch 34 - Score: 0.6538\n"
     ]
    },
    {
     "name": "stdout",
     "output_type": "stream",
     "text": [
      "EVAL: [16/17] Data 0.000 (0.020) Elapsed 0m 4s (remain 0m 0s) \n",
      "Epoch: [35][0/81] Data 0.455 (0.455) Elapsed 0m 1s (remain 1m 31s) Loss: 0.0163(0.0163) Grad Norm: 0.0000  LR: 1.5037e-06  \n",
      "Epoch: [35][80/81] Data 0.000 (0.006) Elapsed 1m 12s (remain 0m 0s) Loss: 0.0968(0.0289) Grad Norm: 0.6108  LR: 1.5037e-06  \n",
      "EVAL: [0/17] Data 0.272 (0.272) Elapsed 0m 0s (remain 0m 8s) \n"
     ]
    },
    {
     "name": "stderr",
     "output_type": "stream",
     "text": [
      "labels: [11  4  3 12  3]\n",
      "pred_labels: [11  4  3 12  1]\n",
      "Epoch 35 - avg_train_loss: 0.0289  lr: 1.5037e-06  time: 77s\n",
      "Epoch 35 - Score: 0.6462\n",
      "\n",
      "oof score: 0.6819571865443425\n",
      "\n",
      "==================== fold: 0, seed: 2 training ====================\n"
     ]
    },
    {
     "name": "stdout",
     "output_type": "stream",
     "text": [
      "EVAL: [16/17] Data 0.000 (0.016) Elapsed 0m 4s (remain 0m 0s) \n",
      "fold\n",
      "0    131\n",
      "1    131\n",
      "2    131\n",
      "3    131\n",
      "4    130\n",
      "dtype: int64\n",
      "Epoch: [1][0/81] Data 0.509 (0.509) Elapsed 0m 1s (remain 1m 30s) Loss: 2.5497(2.5497) Grad Norm: 0.0000  LR: 1.0000e-03  \n",
      "Epoch: [1][80/81] Data 0.000 (0.006) Elapsed 1m 13s (remain 0m 0s) Loss: 2.0770(2.5211) Grad Norm: 5.6111  LR: 1.0000e-03  \n",
      "EVAL: [0/17] Data 0.364 (0.364) Elapsed 0m 0s (remain 0m 10s) \n"
     ]
    },
    {
     "name": "stderr",
     "output_type": "stream",
     "text": [
      "labels: [ 6  4  0  3 12]\n",
      "pred_labels: [9 9 6 9 2]\n",
      "Epoch 1 - avg_train_loss: 2.5211  lr: 1.0000e-03  time: 78s\n",
      "Epoch 1 - Score: 0.1985\n",
      "Epoch 1 - Save Best Score: 0.1985 Model\n"
     ]
    },
    {
     "name": "stdout",
     "output_type": "stream",
     "text": [
      "EVAL: [16/17] Data 0.000 (0.022) Elapsed 0m 4s (remain 0m 0s) \n",
      "Epoch: [2][0/81] Data 0.529 (0.529) Elapsed 0m 1s (remain 1m 38s) Loss: 2.0705(2.0705) Grad Norm: 0.0000  LR: 9.9598e-04  \n",
      "Epoch: [2][80/81] Data 0.000 (0.007) Elapsed 1m 13s (remain 0m 0s) Loss: 2.4611(2.1764) Grad Norm: 7.2653  LR: 9.9598e-04  \n",
      "EVAL: [0/17] Data 0.391 (0.391) Elapsed 0m 0s (remain 0m 10s) \n"
     ]
    },
    {
     "name": "stderr",
     "output_type": "stream",
     "text": [
      "labels: [ 6  4  0  3 12]\n",
      "pred_labels: [7 2 6 6 2]\n",
      "Epoch 2 - avg_train_loss: 2.1764  lr: 9.9598e-04  time: 78s\n",
      "Epoch 2 - Score: 0.3206\n",
      "Epoch 2 - Save Best Score: 0.3206 Model\n"
     ]
    },
    {
     "name": "stdout",
     "output_type": "stream",
     "text": [
      "EVAL: [16/17] Data 0.000 (0.023) Elapsed 0m 4s (remain 0m 0s) \n",
      "Epoch: [3][0/81] Data 0.522 (0.522) Elapsed 0m 1s (remain 1m 40s) Loss: 2.0676(2.0676) Grad Norm: 0.0000  LR: 9.8599e-04  \n",
      "Epoch: [3][80/81] Data 0.000 (0.007) Elapsed 1m 13s (remain 0m 0s) Loss: 1.9847(1.9659) Grad Norm: 7.8373  LR: 9.8599e-04  \n",
      "EVAL: [0/17] Data 0.418 (0.418) Elapsed 0m 0s (remain 0m 10s) \n"
     ]
    },
    {
     "name": "stderr",
     "output_type": "stream",
     "text": [
      "labels: [ 6  4  0  3 12]\n",
      "pred_labels: [2 0 6 4 2]\n",
      "Epoch 3 - avg_train_loss: 1.9659  lr: 9.8599e-04  time: 78s\n",
      "Epoch 3 - Score: 0.4580\n",
      "Epoch 3 - Save Best Score: 0.4580 Model\n"
     ]
    },
    {
     "name": "stdout",
     "output_type": "stream",
     "text": [
      "EVAL: [16/17] Data 0.000 (0.025) Elapsed 0m 4s (remain 0m 0s) \n",
      "Epoch: [4][0/81] Data 0.542 (0.542) Elapsed 0m 1s (remain 1m 37s) Loss: 2.1397(2.1397) Grad Norm: 0.0000  LR: 9.7213e-04  \n",
      "Epoch: [4][80/81] Data 0.000 (0.007) Elapsed 1m 13s (remain 0m 0s) Loss: 2.2339(1.6900) Grad Norm: 7.7450  LR: 9.7213e-04  \n",
      "EVAL: [0/17] Data 0.395 (0.395) Elapsed 0m 0s (remain 0m 10s) \n"
     ]
    },
    {
     "name": "stderr",
     "output_type": "stream",
     "text": [
      "labels: [ 6  4  0  3 12]\n",
      "pred_labels: [6 5 2 4 2]\n",
      "Epoch 4 - avg_train_loss: 1.6900  lr: 9.7213e-04  time: 78s\n",
      "Epoch 4 - Score: 0.5420\n",
      "Epoch 4 - Save Best Score: 0.5420 Model\n"
     ]
    },
    {
     "name": "stdout",
     "output_type": "stream",
     "text": [
      "EVAL: [16/17] Data 0.000 (0.023) Elapsed 0m 4s (remain 0m 0s) \n",
      "Epoch: [5][0/81] Data 0.510 (0.510) Elapsed 0m 1s (remain 1m 38s) Loss: 2.3185(2.3185) Grad Norm: 0.0000  LR: 9.5449e-04  \n",
      "Epoch: [5][80/81] Data 0.000 (0.007) Elapsed 1m 13s (remain 0m 0s) Loss: 1.1120(1.4749) Grad Norm: 7.4211  LR: 9.5449e-04  \n",
      "EVAL: [0/17] Data 0.415 (0.415) Elapsed 0m 0s (remain 0m 10s) \n"
     ]
    },
    {
     "name": "stderr",
     "output_type": "stream",
     "text": [
      "labels: [ 6  4  0  3 12]\n",
      "pred_labels: [ 9  4  2  3 12]\n",
      "Epoch 5 - avg_train_loss: 1.4749  lr: 9.5449e-04  time: 78s\n",
      "Epoch 5 - Score: 0.5802\n",
      "Epoch 5 - Save Best Score: 0.5802 Model\n"
     ]
    },
    {
     "name": "stdout",
     "output_type": "stream",
     "text": [
      "EVAL: [16/17] Data 0.000 (0.025) Elapsed 0m 4s (remain 0m 0s) \n",
      "Epoch: [6][0/81] Data 0.497 (0.497) Elapsed 0m 1s (remain 1m 36s) Loss: 2.2750(2.2750) Grad Norm: 0.0000  LR: 9.3324e-04  \n",
      "Epoch: [6][80/81] Data 0.000 (0.006) Elapsed 1m 13s (remain 0m 0s) Loss: 2.5413(1.3795) Grad Norm: 8.8067  LR: 9.3324e-04  \n",
      "EVAL: [0/17] Data 0.349 (0.349) Elapsed 0m 0s (remain 0m 9s) \n"
     ]
    },
    {
     "name": "stderr",
     "output_type": "stream",
     "text": [
      "labels: [ 6  4  0  3 12]\n",
      "pred_labels: [6 3 0 3 9]\n",
      "Epoch 6 - avg_train_loss: 1.3795  lr: 9.3324e-04  time: 78s\n",
      "Epoch 6 - Score: 0.5344\n"
     ]
    },
    {
     "name": "stdout",
     "output_type": "stream",
     "text": [
      "EVAL: [16/17] Data 0.000 (0.021) Elapsed 0m 4s (remain 0m 0s) \n",
      "Epoch: [7][0/81] Data 0.517 (0.517) Elapsed 0m 1s (remain 1m 34s) Loss: 1.9013(1.9013) Grad Norm: 0.0000  LR: 9.0853e-04  \n",
      "Epoch: [7][80/81] Data 0.000 (0.007) Elapsed 1m 13s (remain 0m 0s) Loss: 0.6700(1.2634) Grad Norm: 6.8313  LR: 9.0853e-04  \n",
      "EVAL: [0/17] Data 0.410 (0.410) Elapsed 0m 0s (remain 0m 10s) \n"
     ]
    },
    {
     "name": "stderr",
     "output_type": "stream",
     "text": [
      "labels: [ 6  4  0  3 12]\n",
      "pred_labels: [ 6  7  0  3 12]\n",
      "Epoch 7 - avg_train_loss: 1.2634  lr: 9.0853e-04  time: 78s\n",
      "Epoch 7 - Score: 0.5878\n",
      "Epoch 7 - Save Best Score: 0.5878 Model\n"
     ]
    },
    {
     "name": "stdout",
     "output_type": "stream",
     "text": [
      "EVAL: [16/17] Data 0.000 (0.024) Elapsed 0m 4s (remain 0m 0s) \n",
      "Epoch: [8][0/81] Data 0.499 (0.499) Elapsed 0m 1s (remain 1m 39s) Loss: 1.4784(1.4784) Grad Norm: 0.0000  LR: 8.8057e-04  \n",
      "Epoch: [8][80/81] Data 0.000 (0.006) Elapsed 1m 13s (remain 0m 0s) Loss: 0.6854(1.1500) Grad Norm: 6.3914  LR: 8.8057e-04  \n",
      "EVAL: [0/17] Data 0.390 (0.390) Elapsed 0m 0s (remain 0m 10s) \n"
     ]
    },
    {
     "name": "stderr",
     "output_type": "stream",
     "text": [
      "labels: [ 6  4  0  3 12]\n",
      "pred_labels: [ 6  5  0  3 12]\n",
      "Epoch 8 - avg_train_loss: 1.1500  lr: 8.8057e-04  time: 78s\n",
      "Epoch 8 - Score: 0.5649\n"
     ]
    },
    {
     "name": "stdout",
     "output_type": "stream",
     "text": [
      "EVAL: [16/17] Data 0.000 (0.023) Elapsed 0m 4s (remain 0m 0s) \n",
      "Epoch: [9][0/81] Data 0.541 (0.541) Elapsed 0m 1s (remain 1m 35s) Loss: 0.7651(0.7651) Grad Norm: 0.0000  LR: 8.4958e-04  \n",
      "Epoch: [9][80/81] Data 0.000 (0.007) Elapsed 1m 13s (remain 0m 0s) Loss: 0.2792(1.1895) Grad Norm: 6.2275  LR: 8.4958e-04  \n",
      "EVAL: [0/17] Data 0.353 (0.353) Elapsed 0m 0s (remain 0m 9s) \n"
     ]
    },
    {
     "name": "stderr",
     "output_type": "stream",
     "text": [
      "labels: [ 6  4  0  3 12]\n",
      "pred_labels: [ 6  4  0  3 12]\n",
      "Epoch 9 - avg_train_loss: 1.1895  lr: 8.4958e-04  time: 78s\n",
      "Epoch 9 - Score: 0.5802\n"
     ]
    },
    {
     "name": "stdout",
     "output_type": "stream",
     "text": [
      "EVAL: [16/17] Data 0.000 (0.021) Elapsed 0m 4s (remain 0m 0s) \n",
      "Epoch: [10][0/81] Data 0.452 (0.452) Elapsed 0m 1s (remain 1m 28s) Loss: 0.4361(0.4361) Grad Norm: 0.0000  LR: 8.1581e-04  \n",
      "Epoch: [10][80/81] Data 0.000 (0.006) Elapsed 1m 13s (remain 0m 0s) Loss: 1.3699(1.0224) Grad Norm: 5.8822  LR: 8.1581e-04  \n",
      "EVAL: [0/17] Data 0.407 (0.407) Elapsed 0m 0s (remain 0m 10s) \n"
     ]
    },
    {
     "name": "stderr",
     "output_type": "stream",
     "text": [
      "labels: [ 6  4  0  3 12]\n",
      "pred_labels: [ 6  2  0  3 12]\n",
      "Epoch 10 - avg_train_loss: 1.0224  lr: 8.1581e-04  time: 78s\n",
      "Epoch 10 - Score: 0.6260\n",
      "Epoch 10 - Save Best Score: 0.6260 Model\n"
     ]
    },
    {
     "name": "stdout",
     "output_type": "stream",
     "text": [
      "EVAL: [16/17] Data 0.000 (0.024) Elapsed 0m 4s (remain 0m 0s) \n",
      "Epoch: [11][0/81] Data 0.446 (0.446) Elapsed 0m 1s (remain 1m 34s) Loss: 0.7765(0.7765) Grad Norm: 0.0000  LR: 7.7953e-04  \n",
      "Epoch: [11][80/81] Data 0.000 (0.006) Elapsed 1m 13s (remain 0m 0s) Loss: 0.8475(1.0374) Grad Norm: 6.1758  LR: 7.7953e-04  \n",
      "EVAL: [0/17] Data 0.419 (0.419) Elapsed 0m 0s (remain 0m 10s) \n"
     ]
    },
    {
     "name": "stderr",
     "output_type": "stream",
     "text": [
      "labels: [ 6  4  0  3 12]\n",
      "pred_labels: [6 4 0 3 9]\n",
      "Epoch 11 - avg_train_loss: 1.0374  lr: 7.7953e-04  time: 78s\n",
      "Epoch 11 - Score: 0.5954\n"
     ]
    },
    {
     "name": "stdout",
     "output_type": "stream",
     "text": [
      "EVAL: [16/17] Data 0.000 (0.025) Elapsed 0m 4s (remain 0m 0s) \n",
      "Epoch: [12][0/81] Data 0.555 (0.555) Elapsed 0m 1s (remain 1m 37s) Loss: 0.4692(0.4692) Grad Norm: 0.0000  LR: 7.4103e-04  \n",
      "Epoch: [12][80/81] Data 0.000 (0.007) Elapsed 1m 13s (remain 0m 0s) Loss: 1.0275(1.0744) Grad Norm: 3.4504  LR: 7.4103e-04  \n",
      "EVAL: [0/17] Data 0.409 (0.409) Elapsed 0m 0s (remain 0m 10s) \n"
     ]
    },
    {
     "name": "stderr",
     "output_type": "stream",
     "text": [
      "labels: [ 6  4  0  3 12]\n",
      "pred_labels: [ 6  4  0  3 12]\n",
      "Epoch 12 - avg_train_loss: 1.0744  lr: 7.4103e-04  time: 78s\n",
      "Epoch 12 - Score: 0.6412\n",
      "Epoch 12 - Save Best Score: 0.6412 Model\n"
     ]
    },
    {
     "name": "stdout",
     "output_type": "stream",
     "text": [
      "EVAL: [16/17] Data 0.000 (0.024) Elapsed 0m 4s (remain 0m 0s) \n",
      "Epoch: [13][0/81] Data 0.549 (0.549) Elapsed 0m 1s (remain 1m 33s) Loss: 0.3821(0.3821) Grad Norm: 0.0000  LR: 7.0063e-04  \n",
      "Epoch: [13][80/81] Data 0.000 (0.007) Elapsed 1m 12s (remain 0m 0s) Loss: 1.4005(1.0445) Grad Norm: 5.4080  LR: 7.0063e-04  \n",
      "EVAL: [0/17] Data 0.344 (0.344) Elapsed 0m 0s (remain 0m 9s) \n"
     ]
    },
    {
     "name": "stderr",
     "output_type": "stream",
     "text": [
      "labels: [ 6  4  0  3 12]\n",
      "pred_labels: [ 6  4  0  4 12]\n",
      "Epoch 13 - avg_train_loss: 1.0445  lr: 7.0063e-04  time: 78s\n",
      "Epoch 13 - Score: 0.5954\n"
     ]
    },
    {
     "name": "stdout",
     "output_type": "stream",
     "text": [
      "EVAL: [16/17] Data 0.000 (0.021) Elapsed 0m 4s (remain 0m 0s) \n",
      "Epoch: [14][0/81] Data 0.458 (0.458) Elapsed 0m 1s (remain 1m 36s) Loss: 1.3936(1.3936) Grad Norm: 0.0000  LR: 6.5865e-04  \n",
      "Epoch: [14][80/81] Data 0.000 (0.006) Elapsed 1m 12s (remain 0m 0s) Loss: 0.2849(0.9489) Grad Norm: 6.3277  LR: 6.5865e-04  \n",
      "EVAL: [0/17] Data 0.289 (0.289) Elapsed 0m 0s (remain 0m 8s) \n"
     ]
    },
    {
     "name": "stderr",
     "output_type": "stream",
     "text": [
      "labels: [ 6  4  0  3 12]\n",
      "pred_labels: [ 6  4  0  3 12]\n",
      "Epoch 14 - avg_train_loss: 0.9489  lr: 6.5865e-04  time: 77s\n",
      "Epoch 14 - Score: 0.5649\n"
     ]
    },
    {
     "name": "stdout",
     "output_type": "stream",
     "text": [
      "EVAL: [16/17] Data 0.000 (0.017) Elapsed 0m 4s (remain 0m 0s) \n",
      "Epoch: [15][0/81] Data 0.512 (0.512) Elapsed 0m 1s (remain 1m 32s) Loss: 1.6131(1.6131) Grad Norm: 0.0000  LR: 6.1542e-04  \n",
      "Epoch: [15][80/81] Data 0.000 (0.007) Elapsed 1m 12s (remain 0m 0s) Loss: 0.9706(0.9919) Grad Norm: 5.5533  LR: 6.1542e-04  \n",
      "EVAL: [0/17] Data 0.390 (0.390) Elapsed 0m 0s (remain 0m 10s) \n"
     ]
    },
    {
     "name": "stderr",
     "output_type": "stream",
     "text": [
      "labels: [ 6  4  0  3 12]\n",
      "pred_labels: [ 6  4  0  3 12]\n",
      "Epoch 15 - avg_train_loss: 0.9919  lr: 6.1542e-04  time: 77s\n",
      "Epoch 15 - Score: 0.6031\n"
     ]
    },
    {
     "name": "stdout",
     "output_type": "stream",
     "text": [
      "EVAL: [16/17] Data 0.000 (0.023) Elapsed 0m 4s (remain 0m 0s) \n",
      "Epoch: [16][0/81] Data 0.434 (0.434) Elapsed 0m 1s (remain 1m 31s) Loss: 1.3388(1.3388) Grad Norm: 0.0000  LR: 5.7130e-04  \n",
      "Epoch: [16][80/81] Data 0.000 (0.006) Elapsed 1m 12s (remain 0m 0s) Loss: 0.3598(0.8206) Grad Norm: 2.4166  LR: 5.7130e-04  \n",
      "EVAL: [0/17] Data 0.341 (0.341) Elapsed 0m 0s (remain 0m 9s) \n"
     ]
    },
    {
     "name": "stderr",
     "output_type": "stream",
     "text": [
      "labels: [ 6  4  0  3 12]\n",
      "pred_labels: [ 6  4  0  3 12]\n",
      "Epoch 16 - avg_train_loss: 0.8206  lr: 5.7130e-04  time: 77s\n",
      "Epoch 16 - Score: 0.6489\n",
      "Epoch 16 - Save Best Score: 0.6489 Model\n"
     ]
    },
    {
     "name": "stdout",
     "output_type": "stream",
     "text": [
      "EVAL: [16/17] Data 0.000 (0.020) Elapsed 0m 4s (remain 0m 0s) \n",
      "Epoch: [17][0/81] Data 0.464 (0.464) Elapsed 0m 1s (remain 1m 32s) Loss: 0.3138(0.3138) Grad Norm: 0.0000  LR: 5.2663e-04  \n",
      "Epoch: [17][80/81] Data 0.000 (0.006) Elapsed 1m 12s (remain 0m 0s) Loss: 1.7667(0.9015) Grad Norm: 4.9576  LR: 5.2663e-04  \n",
      "EVAL: [0/17] Data 0.316 (0.316) Elapsed 0m 0s (remain 0m 9s) \n"
     ]
    },
    {
     "name": "stderr",
     "output_type": "stream",
     "text": [
      "labels: [ 6  4  0  3 12]\n",
      "pred_labels: [ 6  4  0  3 12]\n",
      "Epoch 17 - avg_train_loss: 0.9015  lr: 5.2663e-04  time: 77s\n",
      "Epoch 17 - Score: 0.6107\n"
     ]
    },
    {
     "name": "stdout",
     "output_type": "stream",
     "text": [
      "EVAL: [16/17] Data 0.000 (0.019) Elapsed 0m 4s (remain 0m 0s) \n",
      "Epoch: [18][0/81] Data 0.533 (0.533) Elapsed 0m 1s (remain 1m 35s) Loss: 1.1314(1.1314) Grad Norm: 0.0000  LR: 4.8179e-04  \n",
      "Epoch: [18][80/81] Data 0.000 (0.007) Elapsed 1m 12s (remain 0m 0s) Loss: 1.0990(0.8956) Grad Norm: 5.3968  LR: 4.8179e-04  \n",
      "EVAL: [0/17] Data 0.372 (0.372) Elapsed 0m 0s (remain 0m 9s) \n"
     ]
    },
    {
     "name": "stderr",
     "output_type": "stream",
     "text": [
      "labels: [ 6  4  0  3 12]\n",
      "pred_labels: [ 6  4  0  3 12]\n",
      "Epoch 18 - avg_train_loss: 0.8956  lr: 4.8179e-04  time: 77s\n",
      "Epoch 18 - Score: 0.5954\n"
     ]
    },
    {
     "name": "stdout",
     "output_type": "stream",
     "text": [
      "EVAL: [16/17] Data 0.000 (0.022) Elapsed 0m 4s (remain 0m 0s) \n",
      "Epoch: [19][0/81] Data 0.450 (0.450) Elapsed 0m 1s (remain 1m 29s) Loss: 0.3331(0.3331) Grad Norm: 0.0000  LR: 4.3712e-04  \n",
      "Epoch: [19][80/81] Data 0.000 (0.006) Elapsed 1m 12s (remain 0m 0s) Loss: 0.3665(0.6952) Grad Norm: 3.7803  LR: 4.3712e-04  \n",
      "EVAL: [0/17] Data 0.281 (0.281) Elapsed 0m 0s (remain 0m 8s) \n"
     ]
    },
    {
     "name": "stderr",
     "output_type": "stream",
     "text": [
      "labels: [ 6  4  0  3 12]\n",
      "pred_labels: [6 4 0 3 2]\n",
      "Epoch 19 - avg_train_loss: 0.6952  lr: 4.3712e-04  time: 77s\n",
      "Epoch 19 - Score: 0.6107\n"
     ]
    },
    {
     "name": "stdout",
     "output_type": "stream",
     "text": [
      "EVAL: [16/17] Data 0.000 (0.017) Elapsed 0m 4s (remain 0m 0s) \n",
      "Epoch: [20][0/81] Data 0.472 (0.472) Elapsed 0m 1s (remain 1m 30s) Loss: 0.8830(0.8830) Grad Norm: 0.0000  LR: 3.9299e-04  \n",
      "Epoch: [20][80/81] Data 0.000 (0.006) Elapsed 1m 12s (remain 0m 0s) Loss: 0.1034(0.7536) Grad Norm: 2.3346  LR: 3.9299e-04  \n",
      "EVAL: [0/17] Data 0.356 (0.356) Elapsed 0m 0s (remain 0m 9s) \n"
     ]
    },
    {
     "name": "stderr",
     "output_type": "stream",
     "text": [
      "labels: [ 6  4  0  3 12]\n",
      "pred_labels: [ 6  4  0  3 12]\n",
      "Epoch 20 - avg_train_loss: 0.7536  lr: 3.9299e-04  time: 77s\n",
      "Epoch 20 - Score: 0.5878\n"
     ]
    },
    {
     "name": "stdout",
     "output_type": "stream",
     "text": [
      "EVAL: [16/17] Data 0.000 (0.021) Elapsed 0m 4s (remain 0m 0s) \n",
      "Epoch: [21][0/81] Data 0.435 (0.435) Elapsed 0m 1s (remain 1m 29s) Loss: 1.5000(1.5000) Grad Norm: 0.0000  LR: 3.4975e-04  \n",
      "Epoch: [21][80/81] Data 0.000 (0.006) Elapsed 1m 12s (remain 0m 0s) Loss: 0.0657(0.8380) Grad Norm: 5.5045  LR: 3.4975e-04  \n",
      "EVAL: [0/17] Data 0.358 (0.358) Elapsed 0m 0s (remain 0m 9s) \n"
     ]
    },
    {
     "name": "stderr",
     "output_type": "stream",
     "text": [
      "labels: [ 6  4  0  3 12]\n",
      "pred_labels: [ 6  4  0  3 12]\n",
      "Epoch 21 - avg_train_loss: 0.8380  lr: 3.4975e-04  time: 77s\n",
      "Epoch 21 - Score: 0.6107\n"
     ]
    },
    {
     "name": "stdout",
     "output_type": "stream",
     "text": [
      "EVAL: [16/17] Data 0.000 (0.021) Elapsed 0m 4s (remain 0m 0s) \n",
      "Epoch: [22][0/81] Data 0.406 (0.406) Elapsed 0m 1s (remain 1m 29s) Loss: 1.3651(1.3651) Grad Norm: 0.0000  LR: 3.0775e-04  \n",
      "Epoch: [22][80/81] Data 0.000 (0.005) Elapsed 1m 12s (remain 0m 0s) Loss: 0.0895(0.7009) Grad Norm: 3.8504  LR: 3.0775e-04  \n",
      "EVAL: [0/17] Data 0.302 (0.302) Elapsed 0m 0s (remain 0m 8s) \n"
     ]
    },
    {
     "name": "stderr",
     "output_type": "stream",
     "text": [
      "labels: [ 6  4  0  3 12]\n",
      "pred_labels: [ 6  4  0  3 12]\n",
      "Epoch 22 - avg_train_loss: 0.7009  lr: 3.0775e-04  time: 77s\n",
      "Epoch 22 - Score: 0.6336\n"
     ]
    },
    {
     "name": "stdout",
     "output_type": "stream",
     "text": [
      "EVAL: [16/17] Data 0.000 (0.018) Elapsed 0m 4s (remain 0m 0s) \n",
      "Epoch: [23][0/81] Data 0.381 (0.381) Elapsed 0m 1s (remain 1m 29s) Loss: 1.3613(1.3613) Grad Norm: 0.0000  LR: 2.6732e-04  \n",
      "Epoch: [23][80/81] Data 0.000 (0.005) Elapsed 1m 12s (remain 0m 0s) Loss: 0.0603(0.6966) Grad Norm: 3.2799  LR: 2.6732e-04  \n",
      "EVAL: [0/17] Data 0.296 (0.296) Elapsed 0m 0s (remain 0m 8s) \n"
     ]
    },
    {
     "name": "stderr",
     "output_type": "stream",
     "text": [
      "labels: [ 6  4  0  3 12]\n",
      "pred_labels: [ 6  4  0  3 12]\n",
      "Epoch 23 - avg_train_loss: 0.6966  lr: 2.6732e-04  time: 77s\n",
      "Epoch 23 - Score: 0.6565\n",
      "Epoch 23 - Save Best Score: 0.6565 Model\n"
     ]
    },
    {
     "name": "stdout",
     "output_type": "stream",
     "text": [
      "EVAL: [16/17] Data 0.000 (0.018) Elapsed 0m 4s (remain 0m 0s) \n",
      "Epoch: [24][0/81] Data 0.485 (0.485) Elapsed 0m 1s (remain 1m 35s) Loss: 0.0458(0.0458) Grad Norm: 0.0000  LR: 2.2880e-04  \n",
      "Epoch: [24][80/81] Data 0.000 (0.006) Elapsed 1m 12s (remain 0m 0s) Loss: 1.1199(0.6851) Grad Norm: 4.1155  LR: 2.2880e-04  \n",
      "EVAL: [0/17] Data 0.362 (0.362) Elapsed 0m 0s (remain 0m 9s) \n"
     ]
    },
    {
     "name": "stderr",
     "output_type": "stream",
     "text": [
      "labels: [ 6  4  0  3 12]\n",
      "pred_labels: [ 6  4  0  3 12]\n",
      "Epoch 24 - avg_train_loss: 0.6851  lr: 2.2880e-04  time: 77s\n",
      "Epoch 24 - Score: 0.6336\n"
     ]
    },
    {
     "name": "stdout",
     "output_type": "stream",
     "text": [
      "EVAL: [16/17] Data 0.000 (0.022) Elapsed 0m 4s (remain 0m 0s) \n",
      "Epoch: [25][0/81] Data 0.414 (0.414) Elapsed 0m 1s (remain 1m 28s) Loss: 1.1553(1.1553) Grad Norm: 0.0000  LR: 1.9248e-04  \n",
      "Epoch: [25][80/81] Data 0.000 (0.005) Elapsed 1m 12s (remain 0m 0s) Loss: 0.1915(0.7270) Grad Norm: 2.1873  LR: 1.9248e-04  \n",
      "EVAL: [0/17] Data 0.317 (0.317) Elapsed 0m 0s (remain 0m 9s) \n"
     ]
    },
    {
     "name": "stderr",
     "output_type": "stream",
     "text": [
      "labels: [ 6  4  0  3 12]\n",
      "pred_labels: [6 4 0 3 9]\n",
      "Epoch 25 - avg_train_loss: 0.7270  lr: 1.9248e-04  time: 77s\n",
      "Epoch 25 - Score: 0.6183\n"
     ]
    },
    {
     "name": "stdout",
     "output_type": "stream",
     "text": [
      "EVAL: [16/17] Data 0.000 (0.019) Elapsed 0m 4s (remain 0m 0s) \n",
      "Epoch: [26][0/81] Data 0.515 (0.515) Elapsed 0m 1s (remain 1m 33s) Loss: 1.4219(1.4219) Grad Norm: 0.0000  LR: 1.5867e-04  \n",
      "Epoch: [26][80/81] Data 0.000 (0.007) Elapsed 1m 12s (remain 0m 0s) Loss: 0.1191(0.7012) Grad Norm: 2.7903  LR: 1.5867e-04  \n",
      "EVAL: [0/17] Data 0.308 (0.308) Elapsed 0m 0s (remain 0m 9s) \n"
     ]
    },
    {
     "name": "stderr",
     "output_type": "stream",
     "text": [
      "labels: [ 6  4  0  3 12]\n",
      "pred_labels: [6 4 0 3 9]\n",
      "Epoch 26 - avg_train_loss: 0.7012  lr: 1.5867e-04  time: 77s\n",
      "Epoch 26 - Score: 0.6107\n"
     ]
    },
    {
     "name": "stdout",
     "output_type": "stream",
     "text": [
      "EVAL: [16/17] Data 0.000 (0.018) Elapsed 0m 4s (remain 0m 0s) \n",
      "Epoch: [27][0/81] Data 0.508 (0.508) Elapsed 0m 1s (remain 1m 30s) Loss: 0.8293(0.8293) Grad Norm: 0.0000  LR: 1.2762e-04  \n",
      "Epoch: [27][80/81] Data 0.000 (0.006) Elapsed 1m 12s (remain 0m 0s) Loss: 0.0555(0.6244) Grad Norm: 3.6691  LR: 1.2762e-04  \n",
      "EVAL: [0/17] Data 0.328 (0.328) Elapsed 0m 0s (remain 0m 9s) \n"
     ]
    },
    {
     "name": "stderr",
     "output_type": "stream",
     "text": [
      "labels: [ 6  4  0  3 12]\n",
      "pred_labels: [6 4 0 3 9]\n",
      "Epoch 27 - avg_train_loss: 0.6244  lr: 1.2762e-04  time: 77s\n",
      "Epoch 27 - Score: 0.6183\n"
     ]
    },
    {
     "name": "stdout",
     "output_type": "stream",
     "text": [
      "EVAL: [16/17] Data 0.000 (0.020) Elapsed 0m 4s (remain 0m 0s) \n",
      "Epoch: [28][0/81] Data 0.426 (0.426) Elapsed 0m 1s (remain 1m 31s) Loss: 0.0625(0.0625) Grad Norm: 0.0000  LR: 9.9584e-05  \n",
      "Epoch: [28][80/81] Data 0.000 (0.005) Elapsed 1m 12s (remain 0m 0s) Loss: 1.5258(0.5792) Grad Norm: 3.1964  LR: 9.9584e-05  \n",
      "EVAL: [0/17] Data 0.367 (0.367) Elapsed 0m 0s (remain 0m 9s) \n"
     ]
    },
    {
     "name": "stderr",
     "output_type": "stream",
     "text": [
      "labels: [ 6  4  0  3 12]\n",
      "pred_labels: [ 6  4  0  3 12]\n",
      "Epoch 28 - avg_train_loss: 0.5792  lr: 9.9584e-05  time: 77s\n",
      "Epoch 28 - Score: 0.6565\n"
     ]
    },
    {
     "name": "stdout",
     "output_type": "stream",
     "text": [
      "EVAL: [16/17] Data 0.000 (0.022) Elapsed 0m 4s (remain 0m 0s) \n",
      "Epoch: [29][0/81] Data 0.408 (0.408) Elapsed 0m 1s (remain 1m 27s) Loss: 1.4630(1.4630) Grad Norm: 0.0000  LR: 7.4783e-05  \n",
      "Epoch: [29][80/81] Data 0.000 (0.005) Elapsed 1m 12s (remain 0m 0s) Loss: 0.0190(0.4630) Grad Norm: 1.8085  LR: 7.4783e-05  \n",
      "EVAL: [0/17] Data 0.365 (0.365) Elapsed 0m 0s (remain 0m 9s) \n"
     ]
    },
    {
     "name": "stderr",
     "output_type": "stream",
     "text": [
      "labels: [ 6  4  0  3 12]\n",
      "pred_labels: [ 6  4  0  3 12]\n",
      "Epoch 29 - avg_train_loss: 0.4630  lr: 7.4783e-05  time: 77s\n",
      "Epoch 29 - Score: 0.6641\n",
      "Epoch 29 - Save Best Score: 0.6641 Model\n"
     ]
    },
    {
     "name": "stdout",
     "output_type": "stream",
     "text": [
      "EVAL: [16/17] Data 0.000 (0.022) Elapsed 0m 4s (remain 0m 0s) \n",
      "Epoch: [30][0/81] Data 0.459 (0.459) Elapsed 0m 1s (remain 1m 28s) Loss: 1.1664(1.1664) Grad Norm: 0.0000  LR: 5.3404e-05  \n",
      "Epoch: [30][80/81] Data 0.000 (0.006) Elapsed 1m 12s (remain 0m 0s) Loss: 1.2557(0.6631) Grad Norm: 3.0167  LR: 5.3404e-05  \n",
      "EVAL: [0/17] Data 0.332 (0.332) Elapsed 0m 0s (remain 0m 9s) \n"
     ]
    },
    {
     "name": "stderr",
     "output_type": "stream",
     "text": [
      "labels: [ 6  4  0  3 12]\n",
      "pred_labels: [ 6  4  0  3 12]\n",
      "Epoch 30 - avg_train_loss: 0.6631  lr: 5.3404e-05  time: 77s\n",
      "Epoch 30 - Score: 0.6412\n"
     ]
    },
    {
     "name": "stdout",
     "output_type": "stream",
     "text": [
      "EVAL: [16/17] Data 0.000 (0.020) Elapsed 0m 4s (remain 0m 0s) \n",
      "Epoch: [31][0/81] Data 0.434 (0.434) Elapsed 0m 1s (remain 1m 31s) Loss: 0.0330(0.0330) Grad Norm: 0.0000  LR: 3.5607e-05  \n",
      "Epoch: [31][80/81] Data 0.000 (0.006) Elapsed 1m 12s (remain 0m 0s) Loss: 0.2496(0.0583) Grad Norm: 3.7395  LR: 3.5607e-05  \n",
      "EVAL: [0/17] Data 0.313 (0.313) Elapsed 0m 0s (remain 0m 9s) \n"
     ]
    },
    {
     "name": "stderr",
     "output_type": "stream",
     "text": [
      "labels: [ 6  4  0  3 12]\n",
      "pred_labels: [ 6  4  0  3 12]\n",
      "Epoch 31 - avg_train_loss: 0.0583  lr: 3.5607e-05  time: 77s\n",
      "Epoch 31 - Score: 0.6489\n"
     ]
    },
    {
     "name": "stdout",
     "output_type": "stream",
     "text": [
      "EVAL: [16/17] Data 0.000 (0.019) Elapsed 0m 4s (remain 0m 0s) \n",
      "Epoch: [32][0/81] Data 0.386 (0.386) Elapsed 0m 1s (remain 1m 28s) Loss: 0.0132(0.0132) Grad Norm: 0.0000  LR: 2.1508e-05  \n",
      "Epoch: [32][80/81] Data 0.000 (0.005) Elapsed 1m 12s (remain 0m 0s) Loss: 0.0143(0.0449) Grad Norm: 0.1183  LR: 2.1508e-05  \n",
      "EVAL: [0/17] Data 0.356 (0.356) Elapsed 0m 0s (remain 0m 9s) \n"
     ]
    },
    {
     "name": "stderr",
     "output_type": "stream",
     "text": [
      "labels: [ 6  4  0  3 12]\n",
      "pred_labels: [ 6  4  0  3 12]\n",
      "Epoch 32 - avg_train_loss: 0.0449  lr: 2.1508e-05  time: 77s\n",
      "Epoch 32 - Score: 0.6336\n"
     ]
    },
    {
     "name": "stdout",
     "output_type": "stream",
     "text": [
      "EVAL: [16/17] Data 0.000 (0.021) Elapsed 0m 4s (remain 0m 0s) \n",
      "Epoch: [33][0/81] Data 0.426 (0.426) Elapsed 0m 1s (remain 1m 27s) Loss: 0.0256(0.0256) Grad Norm: 0.0000  LR: 1.1173e-05  \n",
      "Epoch: [33][80/81] Data 0.000 (0.006) Elapsed 1m 12s (remain 0m 0s) Loss: 0.1243(0.0288) Grad Norm: 0.9271  LR: 1.1173e-05  \n",
      "EVAL: [0/17] Data 0.325 (0.325) Elapsed 0m 0s (remain 0m 9s) \n"
     ]
    },
    {
     "name": "stderr",
     "output_type": "stream",
     "text": [
      "labels: [ 6  4  0  3 12]\n",
      "pred_labels: [ 6  4  0  3 12]\n",
      "Epoch 33 - avg_train_loss: 0.0288  lr: 1.1173e-05  time: 77s\n",
      "Epoch 33 - Score: 0.6565\n"
     ]
    },
    {
     "name": "stdout",
     "output_type": "stream",
     "text": [
      "EVAL: [16/17] Data 0.000 (0.019) Elapsed 0m 4s (remain 0m 0s) \n",
      "Epoch: [34][0/81] Data 0.465 (0.465) Elapsed 0m 1s (remain 1m 27s) Loss: 0.0076(0.0076) Grad Norm: 0.0000  LR: 4.5796e-06  \n",
      "Epoch: [34][80/81] Data 0.000 (0.006) Elapsed 1m 12s (remain 0m 0s) Loss: 0.0133(0.0300) Grad Norm: 0.2616  LR: 4.5796e-06  \n",
      "EVAL: [0/17] Data 0.368 (0.368) Elapsed 0m 0s (remain 0m 9s) \n"
     ]
    },
    {
     "name": "stderr",
     "output_type": "stream",
     "text": [
      "labels: [ 6  4  0  3 12]\n",
      "pred_labels: [ 6  4  0  3 12]\n",
      "Epoch 34 - avg_train_loss: 0.0300  lr: 4.5796e-06  time: 77s\n",
      "Epoch 34 - Score: 0.6641\n"
     ]
    },
    {
     "name": "stdout",
     "output_type": "stream",
     "text": [
      "EVAL: [16/17] Data 0.000 (0.022) Elapsed 0m 4s (remain 0m 0s) \n",
      "Epoch: [35][0/81] Data 0.420 (0.420) Elapsed 0m 1s (remain 1m 29s) Loss: 0.0659(0.0659) Grad Norm: 0.0000  LR: 1.5037e-06  \n",
      "Epoch: [35][80/81] Data 0.000 (0.005) Elapsed 1m 12s (remain 0m 0s) Loss: 0.0053(0.0284) Grad Norm: 0.3237  LR: 1.5037e-06  \n",
      "EVAL: [0/17] Data 0.322 (0.322) Elapsed 0m 0s (remain 0m 9s) \n"
     ]
    },
    {
     "name": "stderr",
     "output_type": "stream",
     "text": [
      "labels: [ 6  4  0  3 12]\n",
      "pred_labels: [ 6  4  0  3 12]\n",
      "Epoch 35 - avg_train_loss: 0.0284  lr: 1.5037e-06  time: 77s\n",
      "Epoch 35 - Score: 0.6947\n",
      "Epoch 35 - Save Best Score: 0.6947 Model\n"
     ]
    },
    {
     "name": "stdout",
     "output_type": "stream",
     "text": [
      "EVAL: [16/17] Data 0.000 (0.019) Elapsed 0m 4s (remain 0m 0s) \n"
     ]
    },
    {
     "name": "stderr",
     "output_type": "stream",
     "text": [
      "==================== fold: 1, seed: 2 training ====================\n"
     ]
    },
    {
     "name": "stdout",
     "output_type": "stream",
     "text": [
      "Epoch: [1][0/81] Data 0.627 (0.627) Elapsed 0m 1s (remain 1m 39s) Loss: 2.4734(2.4734) Grad Norm: 0.0000  LR: 1.0000e-03  \n",
      "Epoch: [1][80/81] Data 0.000 (0.008) Elapsed 1m 13s (remain 0m 0s) Loss: 2.3342(2.4996) Grad Norm: 8.2327  LR: 1.0000e-03  \n",
      "EVAL: [0/17] Data 0.405 (0.405) Elapsed 0m 0s (remain 0m 10s) \n"
     ]
    },
    {
     "name": "stderr",
     "output_type": "stream",
     "text": [
      "labels: [ 2  4  2  2 12]\n",
      "pred_labels: [2 2 7 2 2]\n",
      "Epoch 1 - avg_train_loss: 2.4996  lr: 1.0000e-03  time: 78s\n",
      "Epoch 1 - Score: 0.2061\n",
      "Epoch 1 - Save Best Score: 0.2061 Model\n"
     ]
    },
    {
     "name": "stdout",
     "output_type": "stream",
     "text": [
      "EVAL: [16/17] Data 0.000 (0.024) Elapsed 0m 4s (remain 0m 0s) \n",
      "Epoch: [2][0/81] Data 0.460 (0.460) Elapsed 0m 1s (remain 1m 36s) Loss: 2.5125(2.5125) Grad Norm: 0.0000  LR: 9.9598e-04  \n",
      "Epoch: [2][80/81] Data 0.000 (0.006) Elapsed 1m 13s (remain 0m 0s) Loss: 2.7707(2.2821) Grad Norm: 6.9445  LR: 9.9598e-04  \n",
      "EVAL: [0/17] Data 0.428 (0.428) Elapsed 0m 0s (remain 0m 10s) \n"
     ]
    },
    {
     "name": "stderr",
     "output_type": "stream",
     "text": [
      "labels: [ 2  4  2  2 12]\n",
      "pred_labels: [ 2 11  0  0  2]\n",
      "Epoch 2 - avg_train_loss: 2.2821  lr: 9.9598e-04  time: 78s\n",
      "Epoch 2 - Score: 0.3740\n",
      "Epoch 2 - Save Best Score: 0.3740 Model\n"
     ]
    },
    {
     "name": "stdout",
     "output_type": "stream",
     "text": [
      "EVAL: [16/17] Data 0.000 (0.025) Elapsed 0m 4s (remain 0m 0s) \n",
      "Epoch: [3][0/81] Data 0.554 (0.554) Elapsed 0m 1s (remain 1m 42s) Loss: 2.2915(2.2915) Grad Norm: 0.0000  LR: 9.8599e-04  \n",
      "Epoch: [3][80/81] Data 0.000 (0.007) Elapsed 1m 13s (remain 0m 0s) Loss: 1.8465(2.0377) Grad Norm: 6.2662  LR: 9.8599e-04  \n",
      "EVAL: [0/17] Data 0.377 (0.377) Elapsed 0m 0s (remain 0m 9s) \n"
     ]
    },
    {
     "name": "stderr",
     "output_type": "stream",
     "text": [
      "labels: [ 2  4  2  2 12]\n",
      "pred_labels: [2 0 6 2 2]\n",
      "Epoch 3 - avg_train_loss: 2.0377  lr: 9.8599e-04  time: 78s\n",
      "Epoch 3 - Score: 0.4656\n",
      "Epoch 3 - Save Best Score: 0.4656 Model\n"
     ]
    },
    {
     "name": "stdout",
     "output_type": "stream",
     "text": [
      "EVAL: [16/17] Data 0.000 (0.022) Elapsed 0m 4s (remain 0m 0s) \n",
      "Epoch: [4][0/81] Data 0.521 (0.521) Elapsed 0m 1s (remain 1m 37s) Loss: 2.1937(2.1937) Grad Norm: 0.0000  LR: 9.7213e-04  \n",
      "Epoch: [4][80/81] Data 0.000 (0.007) Elapsed 1m 13s (remain 0m 0s) Loss: 1.0887(1.7371) Grad Norm: 5.9680  LR: 9.7213e-04  \n",
      "EVAL: [0/17] Data 0.402 (0.402) Elapsed 0m 0s (remain 0m 10s) \n"
     ]
    },
    {
     "name": "stderr",
     "output_type": "stream",
     "text": [
      "labels: [ 2  4  2  2 12]\n",
      "pred_labels: [2 0 6 2 9]\n",
      "Epoch 4 - avg_train_loss: 1.7371  lr: 9.7213e-04  time: 78s\n",
      "Epoch 4 - Score: 0.5191\n",
      "Epoch 4 - Save Best Score: 0.5191 Model\n"
     ]
    },
    {
     "name": "stdout",
     "output_type": "stream",
     "text": [
      "EVAL: [16/17] Data 0.000 (0.024) Elapsed 0m 4s (remain 0m 0s) \n",
      "Epoch: [5][0/81] Data 0.505 (0.505) Elapsed 0m 1s (remain 1m 38s) Loss: 1.1395(1.1395) Grad Norm: 0.0000  LR: 9.5449e-04  \n",
      "Epoch: [5][80/81] Data 0.000 (0.006) Elapsed 1m 13s (remain 0m 0s) Loss: 1.0707(1.5527) Grad Norm: 6.7833  LR: 9.5449e-04  \n",
      "EVAL: [0/17] Data 0.420 (0.420) Elapsed 0m 0s (remain 0m 10s) \n"
     ]
    },
    {
     "name": "stderr",
     "output_type": "stream",
     "text": [
      "labels: [ 2  4  2  2 12]\n",
      "pred_labels: [2 2 5 2 0]\n",
      "Epoch 5 - avg_train_loss: 1.5527  lr: 9.5449e-04  time: 78s\n",
      "Epoch 5 - Score: 0.5649\n",
      "Epoch 5 - Save Best Score: 0.5649 Model\n"
     ]
    },
    {
     "name": "stdout",
     "output_type": "stream",
     "text": [
      "EVAL: [16/17] Data 0.000 (0.025) Elapsed 0m 4s (remain 0m 0s) \n",
      "Epoch: [6][0/81] Data 0.563 (0.563) Elapsed 0m 1s (remain 1m 38s) Loss: 1.7982(1.7982) Grad Norm: 0.0000  LR: 9.3324e-04  \n",
      "Epoch: [6][80/81] Data 0.000 (0.007) Elapsed 1m 13s (remain 0m 0s) Loss: 1.2049(1.4812) Grad Norm: 6.3457  LR: 9.3324e-04  \n",
      "EVAL: [0/17] Data 0.400 (0.400) Elapsed 0m 0s (remain 0m 10s) \n"
     ]
    },
    {
     "name": "stderr",
     "output_type": "stream",
     "text": [
      "labels: [ 2  4  2  2 12]\n",
      "pred_labels: [ 2  0  6  2 12]\n",
      "Epoch 6 - avg_train_loss: 1.4812  lr: 9.3324e-04  time: 78s\n",
      "Epoch 6 - Score: 0.5954\n",
      "Epoch 6 - Save Best Score: 0.5954 Model\n"
     ]
    },
    {
     "name": "stdout",
     "output_type": "stream",
     "text": [
      "EVAL: [16/17] Data 0.000 (0.024) Elapsed 0m 4s (remain 0m 0s) \n",
      "Epoch: [7][0/81] Data 0.545 (0.545) Elapsed 0m 1s (remain 1m 37s) Loss: 1.4536(1.4536) Grad Norm: 0.0000  LR: 9.0853e-04  \n",
      "Epoch: [7][80/81] Data 0.000 (0.007) Elapsed 1m 13s (remain 0m 0s) Loss: 1.0629(1.2600) Grad Norm: 5.7619  LR: 9.0853e-04  \n",
      "EVAL: [0/17] Data 0.427 (0.427) Elapsed 0m 0s (remain 0m 10s) \n"
     ]
    },
    {
     "name": "stderr",
     "output_type": "stream",
     "text": [
      "labels: [ 2  4  2  2 12]\n",
      "pred_labels: [ 2  4  0  2 12]\n",
      "Epoch 7 - avg_train_loss: 1.2600  lr: 9.0853e-04  time: 78s\n",
      "Epoch 7 - Score: 0.6107\n",
      "Epoch 7 - Save Best Score: 0.6107 Model\n"
     ]
    },
    {
     "name": "stdout",
     "output_type": "stream",
     "text": [
      "EVAL: [16/17] Data 0.000 (0.025) Elapsed 0m 4s (remain 0m 0s) \n",
      "Epoch: [8][0/81] Data 0.556 (0.556) Elapsed 0m 1s (remain 1m 40s) Loss: 2.3436(2.3436) Grad Norm: 0.0000  LR: 8.8057e-04  \n",
      "Epoch: [8][80/81] Data 0.000 (0.007) Elapsed 1m 13s (remain 0m 0s) Loss: 1.7402(1.2007) Grad Norm: 6.2999  LR: 8.8057e-04  \n",
      "EVAL: [0/17] Data 0.387 (0.387) Elapsed 0m 0s (remain 0m 9s) \n"
     ]
    },
    {
     "name": "stderr",
     "output_type": "stream",
     "text": [
      "labels: [ 2  4  2  2 12]\n",
      "pred_labels: [2 3 5 0 9]\n",
      "Epoch 8 - avg_train_loss: 1.2007  lr: 8.8057e-04  time: 78s\n",
      "Epoch 8 - Score: 0.5878\n"
     ]
    },
    {
     "name": "stdout",
     "output_type": "stream",
     "text": [
      "EVAL: [16/17] Data 0.000 (0.023) Elapsed 0m 4s (remain 0m 0s) \n",
      "Epoch: [9][0/81] Data 0.483 (0.483) Elapsed 0m 1s (remain 1m 37s) Loss: 0.2919(0.2919) Grad Norm: 0.0000  LR: 8.4958e-04  \n",
      "Epoch: [9][80/81] Data 0.000 (0.006) Elapsed 1m 13s (remain 0m 0s) Loss: 1.6095(1.1721) Grad Norm: 5.2569  LR: 8.4958e-04  \n",
      "EVAL: [0/17] Data 0.351 (0.351) Elapsed 0m 0s (remain 0m 9s) \n"
     ]
    },
    {
     "name": "stderr",
     "output_type": "stream",
     "text": [
      "labels: [ 2  4  2  2 12]\n",
      "pred_labels: [2 2 1 2 9]\n",
      "Epoch 9 - avg_train_loss: 1.1721  lr: 8.4958e-04  time: 78s\n",
      "Epoch 9 - Score: 0.6260\n",
      "Epoch 9 - Save Best Score: 0.6260 Model\n"
     ]
    },
    {
     "name": "stdout",
     "output_type": "stream",
     "text": [
      "EVAL: [16/17] Data 0.000 (0.021) Elapsed 0m 4s (remain 0m 0s) \n",
      "Epoch: [10][0/81] Data 0.488 (0.488) Elapsed 0m 1s (remain 1m 37s) Loss: 1.2051(1.2051) Grad Norm: 0.0000  LR: 8.1581e-04  \n",
      "Epoch: [10][80/81] Data 0.000 (0.006) Elapsed 1m 13s (remain 0m 0s) Loss: 0.4834(1.0193) Grad Norm: 6.9001  LR: 8.1581e-04  \n",
      "EVAL: [0/17] Data 0.360 (0.360) Elapsed 0m 0s (remain 0m 9s) \n"
     ]
    },
    {
     "name": "stderr",
     "output_type": "stream",
     "text": [
      "labels: [ 2  4  2  2 12]\n",
      "pred_labels: [2 2 0 2 9]\n",
      "Epoch 10 - avg_train_loss: 1.0193  lr: 8.1581e-04  time: 78s\n",
      "Epoch 10 - Score: 0.5802\n"
     ]
    },
    {
     "name": "stdout",
     "output_type": "stream",
     "text": [
      "EVAL: [16/17] Data 0.000 (0.021) Elapsed 0m 4s (remain 0m 0s) \n",
      "Epoch: [11][0/81] Data 0.447 (0.447) Elapsed 0m 1s (remain 1m 31s) Loss: 0.2603(0.2603) Grad Norm: 0.0000  LR: 7.7953e-04  \n",
      "Epoch: [11][80/81] Data 0.000 (0.006) Elapsed 1m 13s (remain 0m 0s) Loss: 0.5586(1.0125) Grad Norm: 6.1598  LR: 7.7953e-04  \n",
      "EVAL: [0/17] Data 0.345 (0.345) Elapsed 0m 0s (remain 0m 9s) \n"
     ]
    },
    {
     "name": "stderr",
     "output_type": "stream",
     "text": [
      "labels: [ 2  4  2  2 12]\n",
      "pred_labels: [ 2  2  5  2 12]\n",
      "Epoch 11 - avg_train_loss: 1.0125  lr: 7.7953e-04  time: 78s\n",
      "Epoch 11 - Score: 0.6260\n"
     ]
    },
    {
     "name": "stdout",
     "output_type": "stream",
     "text": [
      "EVAL: [16/17] Data 0.000 (0.021) Elapsed 0m 4s (remain 0m 0s) \n",
      "Epoch: [12][0/81] Data 0.452 (0.452) Elapsed 0m 1s (remain 1m 33s) Loss: 1.9674(1.9674) Grad Norm: 0.0000  LR: 7.4103e-04  \n",
      "Epoch: [12][80/81] Data 0.000 (0.006) Elapsed 1m 13s (remain 0m 0s) Loss: 0.3822(1.1508) Grad Norm: 5.8584  LR: 7.4103e-04  \n",
      "EVAL: [0/17] Data 0.356 (0.356) Elapsed 0m 0s (remain 0m 9s) \n"
     ]
    },
    {
     "name": "stderr",
     "output_type": "stream",
     "text": [
      "labels: [ 2  4  2  2 12]\n",
      "pred_labels: [ 2  9  5  3 11]\n",
      "Epoch 12 - avg_train_loss: 1.1508  lr: 7.4103e-04  time: 78s\n",
      "Epoch 12 - Score: 0.6336\n",
      "Epoch 12 - Save Best Score: 0.6336 Model\n"
     ]
    },
    {
     "name": "stdout",
     "output_type": "stream",
     "text": [
      "EVAL: [16/17] Data 0.000 (0.021) Elapsed 0m 4s (remain 0m 0s) \n",
      "Epoch: [13][0/81] Data 0.495 (0.495) Elapsed 0m 1s (remain 1m 34s) Loss: 2.0204(2.0204) Grad Norm: 0.0000  LR: 7.0063e-04  \n",
      "Epoch: [13][80/81] Data 0.000 (0.006) Elapsed 1m 13s (remain 0m 0s) Loss: 0.7489(0.9411) Grad Norm: 5.0023  LR: 7.0063e-04  \n",
      "EVAL: [0/17] Data 0.378 (0.378) Elapsed 0m 0s (remain 0m 9s) \n"
     ]
    },
    {
     "name": "stderr",
     "output_type": "stream",
     "text": [
      "labels: [ 2  4  2  2 12]\n",
      "pred_labels: [ 2  0  0  0 11]\n",
      "Epoch 13 - avg_train_loss: 0.9411  lr: 7.0063e-04  time: 78s\n",
      "Epoch 13 - Score: 0.5878\n"
     ]
    },
    {
     "name": "stdout",
     "output_type": "stream",
     "text": [
      "EVAL: [16/17] Data 0.000 (0.023) Elapsed 0m 4s (remain 0m 0s) \n",
      "Epoch: [14][0/81] Data 0.406 (0.406) Elapsed 0m 1s (remain 1m 24s) Loss: 1.2994(1.2994) Grad Norm: 0.0000  LR: 6.5865e-04  \n",
      "Epoch: [14][80/81] Data 0.000 (0.005) Elapsed 1m 12s (remain 0m 0s) Loss: 0.3824(0.8956) Grad Norm: 5.6547  LR: 6.5865e-04  \n",
      "EVAL: [0/17] Data 0.362 (0.362) Elapsed 0m 0s (remain 0m 9s) \n"
     ]
    },
    {
     "name": "stderr",
     "output_type": "stream",
     "text": [
      "labels: [ 2  4  2  2 12]\n",
      "pred_labels: [2 4 1 2 0]\n",
      "Epoch 14 - avg_train_loss: 0.8956  lr: 6.5865e-04  time: 78s\n",
      "Epoch 14 - Score: 0.6718\n",
      "Epoch 14 - Save Best Score: 0.6718 Model\n"
     ]
    },
    {
     "name": "stdout",
     "output_type": "stream",
     "text": [
      "EVAL: [16/17] Data 0.000 (0.022) Elapsed 0m 4s (remain 0m 0s) \n",
      "Epoch: [15][0/81] Data 0.462 (0.462) Elapsed 0m 1s (remain 1m 29s) Loss: 0.3764(0.3764) Grad Norm: 0.0000  LR: 6.1542e-04  \n",
      "Epoch: [15][80/81] Data 0.000 (0.006) Elapsed 1m 12s (remain 0m 0s) Loss: 0.3601(0.8140) Grad Norm: 4.6206  LR: 6.1542e-04  \n",
      "EVAL: [0/17] Data 0.309 (0.309) Elapsed 0m 0s (remain 0m 9s) \n"
     ]
    },
    {
     "name": "stderr",
     "output_type": "stream",
     "text": [
      "labels: [ 2  4  2  2 12]\n",
      "pred_labels: [2 3 5 2 9]\n",
      "Epoch 15 - avg_train_loss: 0.8140  lr: 6.1542e-04  time: 78s\n",
      "Epoch 15 - Score: 0.6183\n"
     ]
    },
    {
     "name": "stdout",
     "output_type": "stream",
     "text": [
      "EVAL: [16/17] Data 0.000 (0.018) Elapsed 0m 4s (remain 0m 0s) \n",
      "Epoch: [16][0/81] Data 0.475 (0.475) Elapsed 0m 1s (remain 1m 33s) Loss: 1.6011(1.6011) Grad Norm: 0.0000  LR: 5.7130e-04  \n",
      "Epoch: [16][80/81] Data 0.000 (0.006) Elapsed 1m 13s (remain 0m 0s) Loss: 1.4624(0.8152) Grad Norm: 6.6866  LR: 5.7130e-04  \n",
      "EVAL: [0/17] Data 0.339 (0.339) Elapsed 0m 0s (remain 0m 9s) \n"
     ]
    },
    {
     "name": "stderr",
     "output_type": "stream",
     "text": [
      "labels: [ 2  4  2  2 12]\n",
      "pred_labels: [2 2 5 2 9]\n",
      "Epoch 16 - avg_train_loss: 0.8152  lr: 5.7130e-04  time: 78s\n",
      "Epoch 16 - Score: 0.6565\n"
     ]
    },
    {
     "name": "stdout",
     "output_type": "stream",
     "text": [
      "EVAL: [16/17] Data 0.000 (0.020) Elapsed 0m 4s (remain 0m 0s) \n",
      "Epoch: [17][0/81] Data 0.514 (0.514) Elapsed 0m 1s (remain 1m 29s) Loss: 0.1071(0.1071) Grad Norm: 0.0000  LR: 5.2663e-04  \n",
      "Epoch: [17][80/81] Data 0.000 (0.007) Elapsed 1m 12s (remain 0m 0s) Loss: 1.6806(0.7282) Grad Norm: 5.0915  LR: 5.2663e-04  \n",
      "EVAL: [0/17] Data 0.333 (0.333) Elapsed 0m 0s (remain 0m 9s) \n"
     ]
    },
    {
     "name": "stderr",
     "output_type": "stream",
     "text": [
      "labels: [ 2  4  2  2 12]\n",
      "pred_labels: [2 4 5 2 9]\n",
      "Epoch 17 - avg_train_loss: 0.7282  lr: 5.2663e-04  time: 77s\n",
      "Epoch 17 - Score: 0.6183\n"
     ]
    },
    {
     "name": "stdout",
     "output_type": "stream",
     "text": [
      "EVAL: [16/17] Data 0.000 (0.020) Elapsed 0m 4s (remain 0m 0s) \n",
      "Epoch: [18][0/81] Data 0.462 (0.462) Elapsed 0m 1s (remain 1m 32s) Loss: 1.4200(1.4200) Grad Norm: 0.0000  LR: 4.8179e-04  \n",
      "Epoch: [18][80/81] Data 0.000 (0.006) Elapsed 1m 12s (remain 0m 0s) Loss: 0.1974(0.6989) Grad Norm: 5.9845  LR: 4.8179e-04  \n",
      "EVAL: [0/17] Data 0.341 (0.341) Elapsed 0m 0s (remain 0m 9s) \n"
     ]
    },
    {
     "name": "stderr",
     "output_type": "stream",
     "text": [
      "labels: [ 2  4  2  2 12]\n",
      "pred_labels: [2 4 2 2 9]\n",
      "Epoch 18 - avg_train_loss: 0.6989  lr: 4.8179e-04  time: 77s\n",
      "Epoch 18 - Score: 0.6718\n"
     ]
    },
    {
     "name": "stdout",
     "output_type": "stream",
     "text": [
      "EVAL: [16/17] Data 0.000 (0.020) Elapsed 0m 4s (remain 0m 0s) \n",
      "Epoch: [19][0/81] Data 0.445 (0.445) Elapsed 0m 1s (remain 1m 34s) Loss: 0.0953(0.0953) Grad Norm: 0.0000  LR: 4.3712e-04  \n",
      "Epoch: [19][80/81] Data 0.000 (0.006) Elapsed 1m 12s (remain 0m 0s) Loss: 0.1536(0.7018) Grad Norm: 4.7542  LR: 4.3712e-04  \n",
      "EVAL: [0/17] Data 0.344 (0.344) Elapsed 0m 0s (remain 0m 9s) \n"
     ]
    },
    {
     "name": "stderr",
     "output_type": "stream",
     "text": [
      "labels: [ 2  4  2  2 12]\n",
      "pred_labels: [2 4 2 2 9]\n",
      "Epoch 19 - avg_train_loss: 0.7018  lr: 4.3712e-04  time: 78s\n",
      "Epoch 19 - Score: 0.6107\n"
     ]
    },
    {
     "name": "stdout",
     "output_type": "stream",
     "text": [
      "EVAL: [16/17] Data 0.000 (0.020) Elapsed 0m 4s (remain 0m 0s) \n",
      "Epoch: [20][0/81] Data 0.468 (0.468) Elapsed 0m 1s (remain 1m 31s) Loss: 0.0267(0.0267) Grad Norm: 0.0000  LR: 3.9299e-04  \n",
      "Epoch: [20][80/81] Data 0.000 (0.006) Elapsed 1m 12s (remain 0m 0s) Loss: 0.0566(0.7934) Grad Norm: 3.3723  LR: 3.9299e-04  \n",
      "EVAL: [0/17] Data 0.311 (0.311) Elapsed 0m 0s (remain 0m 8s) \n"
     ]
    },
    {
     "name": "stderr",
     "output_type": "stream",
     "text": [
      "labels: [ 2  4  2  2 12]\n",
      "pred_labels: [2 4 1 2 9]\n",
      "Epoch 20 - avg_train_loss: 0.7934  lr: 3.9299e-04  time: 77s\n",
      "Epoch 20 - Score: 0.6489\n"
     ]
    },
    {
     "name": "stdout",
     "output_type": "stream",
     "text": [
      "EVAL: [16/17] Data 0.000 (0.019) Elapsed 0m 4s (remain 0m 0s) \n",
      "Epoch: [21][0/81] Data 0.456 (0.456) Elapsed 0m 1s (remain 1m 30s) Loss: 0.0818(0.0818) Grad Norm: 0.0000  LR: 3.4975e-04  \n",
      "Epoch: [21][80/81] Data 0.000 (0.006) Elapsed 1m 12s (remain 0m 0s) Loss: 0.2400(0.8759) Grad Norm: 4.4762  LR: 3.4975e-04  \n",
      "EVAL: [0/17] Data 0.313 (0.313) Elapsed 0m 0s (remain 0m 8s) \n"
     ]
    },
    {
     "name": "stderr",
     "output_type": "stream",
     "text": [
      "labels: [ 2  4  2  2 12]\n",
      "pred_labels: [2 4 5 2 9]\n",
      "Epoch 21 - avg_train_loss: 0.8759  lr: 3.4975e-04  time: 77s\n",
      "Epoch 21 - Score: 0.6336\n"
     ]
    },
    {
     "name": "stdout",
     "output_type": "stream",
     "text": [
      "EVAL: [16/17] Data 0.000 (0.019) Elapsed 0m 4s (remain 0m 0s) \n",
      "Epoch: [22][0/81] Data 0.498 (0.498) Elapsed 0m 1s (remain 1m 33s) Loss: 1.4037(1.4037) Grad Norm: 0.0000  LR: 3.0775e-04  \n",
      "Epoch: [22][80/81] Data 0.000 (0.006) Elapsed 1m 12s (remain 0m 0s) Loss: 0.7002(0.7020) Grad Norm: 4.3551  LR: 3.0775e-04  \n",
      "EVAL: [0/17] Data 0.315 (0.315) Elapsed 0m 0s (remain 0m 9s) \n"
     ]
    },
    {
     "name": "stderr",
     "output_type": "stream",
     "text": [
      "labels: [ 2  4  2  2 12]\n",
      "pred_labels: [ 2  4  1  2 11]\n",
      "Epoch 22 - avg_train_loss: 0.7020  lr: 3.0775e-04  time: 77s\n",
      "Epoch 22 - Score: 0.6489\n"
     ]
    },
    {
     "name": "stdout",
     "output_type": "stream",
     "text": [
      "EVAL: [16/17] Data 0.000 (0.019) Elapsed 0m 4s (remain 0m 0s) \n",
      "Epoch: [23][0/81] Data 0.482 (0.482) Elapsed 0m 1s (remain 1m 31s) Loss: 0.1232(0.1232) Grad Norm: 0.0000  LR: 2.6732e-04  \n",
      "Epoch: [23][80/81] Data 0.000 (0.006) Elapsed 1m 12s (remain 0m 0s) Loss: 1.4601(0.6894) Grad Norm: 2.8764  LR: 2.6732e-04  \n",
      "EVAL: [0/17] Data 0.344 (0.344) Elapsed 0m 0s (remain 0m 9s) \n"
     ]
    },
    {
     "name": "stderr",
     "output_type": "stream",
     "text": [
      "labels: [ 2  4  2  2 12]\n",
      "pred_labels: [2 4 1 2 9]\n",
      "Epoch 23 - avg_train_loss: 0.6894  lr: 2.6732e-04  time: 77s\n",
      "Epoch 23 - Score: 0.6565\n"
     ]
    },
    {
     "name": "stdout",
     "output_type": "stream",
     "text": [
      "EVAL: [16/17] Data 0.000 (0.020) Elapsed 0m 4s (remain 0m 0s) \n",
      "Epoch: [24][0/81] Data 0.446 (0.446) Elapsed 0m 1s (remain 1m 32s) Loss: 0.0319(0.0319) Grad Norm: 0.0000  LR: 2.2880e-04  \n",
      "Epoch: [24][80/81] Data 0.000 (0.006) Elapsed 1m 12s (remain 0m 0s) Loss: 0.6075(0.5821) Grad Norm: 0.4234  LR: 2.2880e-04  \n",
      "EVAL: [0/17] Data 0.313 (0.313) Elapsed 0m 0s (remain 0m 9s) \n"
     ]
    },
    {
     "name": "stderr",
     "output_type": "stream",
     "text": [
      "labels: [ 2  4  2  2 12]\n",
      "pred_labels: [ 2  4  1  2 11]\n",
      "Epoch 24 - avg_train_loss: 0.5821  lr: 2.2880e-04  time: 77s\n",
      "Epoch 24 - Score: 0.6489\n"
     ]
    },
    {
     "name": "stdout",
     "output_type": "stream",
     "text": [
      "EVAL: [16/17] Data 0.000 (0.019) Elapsed 0m 4s (remain 0m 0s) \n",
      "Epoch: [25][0/81] Data 0.391 (0.391) Elapsed 0m 1s (remain 1m 29s) Loss: 1.0053(1.0053) Grad Norm: 0.0000  LR: 1.9248e-04  \n",
      "Epoch: [25][80/81] Data 0.000 (0.005) Elapsed 1m 12s (remain 0m 0s) Loss: 0.1426(0.6454) Grad Norm: 2.4962  LR: 1.9248e-04  \n",
      "EVAL: [0/17] Data 0.379 (0.379) Elapsed 0m 0s (remain 0m 9s) \n"
     ]
    },
    {
     "name": "stderr",
     "output_type": "stream",
     "text": [
      "labels: [ 2  4  2  2 12]\n",
      "pred_labels: [ 2  4  5  2 11]\n",
      "Epoch 25 - avg_train_loss: 0.6454  lr: 1.9248e-04  time: 77s\n",
      "Epoch 25 - Score: 0.6947\n",
      "Epoch 25 - Save Best Score: 0.6947 Model\n"
     ]
    },
    {
     "name": "stdout",
     "output_type": "stream",
     "text": [
      "EVAL: [16/17] Data 0.000 (0.023) Elapsed 0m 4s (remain 0m 0s) \n",
      "Epoch: [26][0/81] Data 0.461 (0.461) Elapsed 0m 1s (remain 1m 34s) Loss: 0.9404(0.9404) Grad Norm: 0.0000  LR: 1.5867e-04  \n",
      "Epoch: [26][80/81] Data 0.000 (0.006) Elapsed 1m 12s (remain 0m 0s) Loss: 0.0410(0.5402) Grad Norm: 3.0485  LR: 1.5867e-04  \n",
      "EVAL: [0/17] Data 0.414 (0.414) Elapsed 0m 0s (remain 0m 10s) \n"
     ]
    },
    {
     "name": "stderr",
     "output_type": "stream",
     "text": [
      "labels: [ 2  4  2  2 12]\n",
      "pred_labels: [ 2  4  5  2 11]\n",
      "Epoch 26 - avg_train_loss: 0.5402  lr: 1.5867e-04  time: 77s\n",
      "Epoch 26 - Score: 0.6947\n"
     ]
    },
    {
     "name": "stdout",
     "output_type": "stream",
     "text": [
      "EVAL: [16/17] Data 0.000 (0.025) Elapsed 0m 4s (remain 0m 0s) \n",
      "Epoch: [27][0/81] Data 0.383 (0.383) Elapsed 0m 1s (remain 1m 30s) Loss: 0.8602(0.8602) Grad Norm: 0.0000  LR: 1.2762e-04  \n",
      "Epoch: [27][80/81] Data 0.000 (0.005) Elapsed 1m 12s (remain 0m 0s) Loss: 0.0418(0.7030) Grad Norm: 3.4850  LR: 1.2762e-04  \n",
      "EVAL: [0/17] Data 0.327 (0.327) Elapsed 0m 0s (remain 0m 8s) \n"
     ]
    },
    {
     "name": "stderr",
     "output_type": "stream",
     "text": [
      "labels: [ 2  4  2  2 12]\n",
      "pred_labels: [2 4 1 2 9]\n",
      "Epoch 27 - avg_train_loss: 0.7030  lr: 1.2762e-04  time: 77s\n",
      "Epoch 27 - Score: 0.7176\n",
      "Epoch 27 - Save Best Score: 0.7176 Model\n"
     ]
    },
    {
     "name": "stdout",
     "output_type": "stream",
     "text": [
      "EVAL: [16/17] Data 0.000 (0.019) Elapsed 0m 4s (remain 0m 0s) \n",
      "Epoch: [28][0/81] Data 0.488 (0.488) Elapsed 0m 1s (remain 1m 33s) Loss: 1.6481(1.6481) Grad Norm: 0.0000  LR: 9.9584e-05  \n",
      "Epoch: [28][80/81] Data 0.000 (0.006) Elapsed 1m 12s (remain 0m 0s) Loss: 1.2390(0.6113) Grad Norm: 3.2280  LR: 9.9584e-05  \n",
      "EVAL: [0/17] Data 0.315 (0.315) Elapsed 0m 0s (remain 0m 8s) \n"
     ]
    },
    {
     "name": "stderr",
     "output_type": "stream",
     "text": [
      "labels: [ 2  4  2  2 12]\n",
      "pred_labels: [2 4 0 2 9]\n",
      "Epoch 28 - avg_train_loss: 0.6113  lr: 9.9584e-05  time: 77s\n",
      "Epoch 28 - Score: 0.6947\n"
     ]
    },
    {
     "name": "stdout",
     "output_type": "stream",
     "text": [
      "EVAL: [16/17] Data 0.000 (0.019) Elapsed 0m 4s (remain 0m 0s) \n",
      "Epoch: [29][0/81] Data 0.501 (0.501) Elapsed 0m 1s (remain 1m 31s) Loss: 1.5632(1.5632) Grad Norm: 0.0000  LR: 7.4783e-05  \n",
      "Epoch: [29][80/81] Data 0.000 (0.006) Elapsed 1m 12s (remain 0m 0s) Loss: 0.0429(0.5847) Grad Norm: 2.5074  LR: 7.4783e-05  \n",
      "EVAL: [0/17] Data 0.321 (0.321) Elapsed 0m 0s (remain 0m 8s) \n"
     ]
    },
    {
     "name": "stderr",
     "output_type": "stream",
     "text": [
      "labels: [ 2  4  2  2 12]\n",
      "pred_labels: [2 4 0 2 0]\n",
      "Epoch 29 - avg_train_loss: 0.5847  lr: 7.4783e-05  time: 77s\n",
      "Epoch 29 - Score: 0.7099\n"
     ]
    },
    {
     "name": "stdout",
     "output_type": "stream",
     "text": [
      "EVAL: [16/17] Data 0.000 (0.019) Elapsed 0m 4s (remain 0m 0s) \n",
      "Epoch: [30][0/81] Data 0.476 (0.476) Elapsed 0m 1s (remain 1m 28s) Loss: 0.0257(0.0257) Grad Norm: 0.0000  LR: 5.3404e-05  \n",
      "Epoch: [30][80/81] Data 0.000 (0.006) Elapsed 1m 12s (remain 0m 0s) Loss: 1.2784(0.5927) Grad Norm: 1.8351  LR: 5.3404e-05  \n",
      "EVAL: [0/17] Data 0.316 (0.316) Elapsed 0m 0s (remain 0m 9s) \n"
     ]
    },
    {
     "name": "stderr",
     "output_type": "stream",
     "text": [
      "labels: [ 2  4  2  2 12]\n",
      "pred_labels: [2 4 0 2 1]\n",
      "Epoch 30 - avg_train_loss: 0.5927  lr: 5.3404e-05  time: 77s\n",
      "Epoch 30 - Score: 0.7099\n"
     ]
    },
    {
     "name": "stdout",
     "output_type": "stream",
     "text": [
      "EVAL: [16/17] Data 0.000 (0.019) Elapsed 0m 4s (remain 0m 0s) \n",
      "Epoch: [31][0/81] Data 0.442 (0.442) Elapsed 0m 1s (remain 1m 27s) Loss: 0.1876(0.1876) Grad Norm: 0.0000  LR: 3.5607e-05  \n",
      "Epoch: [31][80/81] Data 0.000 (0.006) Elapsed 1m 12s (remain 0m 0s) Loss: 0.0427(0.0475) Grad Norm: 2.0683  LR: 3.5607e-05  \n",
      "EVAL: [0/17] Data 0.320 (0.320) Elapsed 0m 0s (remain 0m 8s) \n"
     ]
    },
    {
     "name": "stderr",
     "output_type": "stream",
     "text": [
      "labels: [ 2  4  2  2 12]\n",
      "pred_labels: [ 2  4  0  2 11]\n",
      "Epoch 31 - avg_train_loss: 0.0475  lr: 3.5607e-05  time: 77s\n",
      "Epoch 31 - Score: 0.6794\n"
     ]
    },
    {
     "name": "stdout",
     "output_type": "stream",
     "text": [
      "EVAL: [16/17] Data 0.000 (0.019) Elapsed 0m 4s (remain 0m 0s) \n",
      "Epoch: [32][0/81] Data 0.413 (0.413) Elapsed 0m 1s (remain 1m 29s) Loss: 0.0271(0.0271) Grad Norm: 0.0000  LR: 2.1508e-05  \n",
      "Epoch: [32][80/81] Data 0.000 (0.005) Elapsed 1m 12s (remain 0m 0s) Loss: 0.0264(0.0506) Grad Norm: 0.7586  LR: 2.1508e-05  \n",
      "EVAL: [0/17] Data 0.307 (0.307) Elapsed 0m 0s (remain 0m 8s) \n"
     ]
    },
    {
     "name": "stderr",
     "output_type": "stream",
     "text": [
      "labels: [ 2  4  2  2 12]\n",
      "pred_labels: [ 2  4  0  2 11]\n",
      "Epoch 32 - avg_train_loss: 0.0506  lr: 2.1508e-05  time: 77s\n",
      "Epoch 32 - Score: 0.6870\n"
     ]
    },
    {
     "name": "stdout",
     "output_type": "stream",
     "text": [
      "EVAL: [16/17] Data 0.000 (0.018) Elapsed 0m 4s (remain 0m 0s) \n",
      "Epoch: [33][0/81] Data 0.447 (0.447) Elapsed 0m 1s (remain 1m 27s) Loss: 0.0745(0.0745) Grad Norm: 0.0000  LR: 1.1173e-05  \n",
      "Epoch: [33][80/81] Data 0.000 (0.006) Elapsed 1m 12s (remain 0m 0s) Loss: 0.0083(0.0382) Grad Norm: 3.1345  LR: 1.1173e-05  \n",
      "EVAL: [0/17] Data 0.301 (0.301) Elapsed 0m 0s (remain 0m 9s) \n"
     ]
    },
    {
     "name": "stderr",
     "output_type": "stream",
     "text": [
      "labels: [ 2  4  2  2 12]\n",
      "pred_labels: [ 2  4  0  2 11]\n",
      "Epoch 33 - avg_train_loss: 0.0382  lr: 1.1173e-05  time: 77s\n",
      "Epoch 33 - Score: 0.6870\n"
     ]
    },
    {
     "name": "stdout",
     "output_type": "stream",
     "text": [
      "EVAL: [16/17] Data 0.000 (0.018) Elapsed 0m 4s (remain 0m 0s) \n",
      "Epoch: [34][0/81] Data 0.488 (0.488) Elapsed 0m 1s (remain 1m 34s) Loss: 0.0176(0.0176) Grad Norm: 0.0000  LR: 4.5796e-06  \n",
      "Epoch: [34][80/81] Data 0.000 (0.006) Elapsed 1m 12s (remain 0m 0s) Loss: 0.0283(0.0325) Grad Norm: 0.9763  LR: 4.5796e-06  \n",
      "EVAL: [0/17] Data 0.331 (0.331) Elapsed 0m 0s (remain 0m 9s) \n"
     ]
    },
    {
     "name": "stderr",
     "output_type": "stream",
     "text": [
      "labels: [ 2  4  2  2 12]\n",
      "pred_labels: [ 2  4  0  2 11]\n",
      "Epoch 34 - avg_train_loss: 0.0325  lr: 4.5796e-06  time: 77s\n",
      "Epoch 34 - Score: 0.7023\n"
     ]
    },
    {
     "name": "stdout",
     "output_type": "stream",
     "text": [
      "EVAL: [16/17] Data 0.000 (0.020) Elapsed 0m 4s (remain 0m 0s) \n",
      "Epoch: [35][0/81] Data 0.441 (0.441) Elapsed 0m 1s (remain 1m 29s) Loss: 0.0138(0.0138) Grad Norm: 0.0000  LR: 1.5037e-06  \n",
      "Epoch: [35][80/81] Data 0.000 (0.006) Elapsed 1m 12s (remain 0m 0s) Loss: 0.0208(0.0300) Grad Norm: 0.4099  LR: 1.5037e-06  \n",
      "EVAL: [0/17] Data 0.271 (0.271) Elapsed 0m 0s (remain 0m 8s) \n"
     ]
    },
    {
     "name": "stderr",
     "output_type": "stream",
     "text": [
      "labels: [ 2  4  2  2 12]\n",
      "pred_labels: [ 2  4  0  2 11]\n",
      "Epoch 35 - avg_train_loss: 0.0300  lr: 1.5037e-06  time: 77s\n",
      "Epoch 35 - Score: 0.7023\n",
      "==================== fold: 2, seed: 2 training ====================\n"
     ]
    },
    {
     "name": "stdout",
     "output_type": "stream",
     "text": [
      "EVAL: [16/17] Data 0.000 (0.016) Elapsed 0m 4s (remain 0m 0s) \n",
      "Epoch: [1][0/81] Data 0.557 (0.557) Elapsed 0m 1s (remain 1m 36s) Loss: 2.6335(2.6335) Grad Norm: 0.0000  LR: 1.0000e-03  \n",
      "Epoch: [1][80/81] Data 0.000 (0.007) Elapsed 1m 13s (remain 0m 0s) Loss: 2.6136(2.4915) Grad Norm: 8.0898  LR: 1.0000e-03  \n",
      "EVAL: [0/17] Data 0.412 (0.412) Elapsed 0m 0s (remain 0m 10s) \n"
     ]
    },
    {
     "name": "stderr",
     "output_type": "stream",
     "text": [
      "labels: [11  2  3  7  6]\n",
      "pred_labels: [2 2 0 2 0]\n",
      "Epoch 1 - avg_train_loss: 2.4915  lr: 1.0000e-03  time: 78s\n",
      "Epoch 1 - Score: 0.2748\n",
      "Epoch 1 - Save Best Score: 0.2748 Model\n"
     ]
    },
    {
     "name": "stdout",
     "output_type": "stream",
     "text": [
      "EVAL: [16/17] Data 0.000 (0.024) Elapsed 0m 4s (remain 0m 0s) \n",
      "Epoch: [2][0/81] Data 0.603 (0.603) Elapsed 0m 1s (remain 1m 43s) Loss: 2.4636(2.4636) Grad Norm: 0.0000  LR: 9.9598e-04  \n",
      "Epoch: [2][80/81] Data 0.000 (0.008) Elapsed 1m 13s (remain 0m 0s) Loss: 1.9469(2.2510) Grad Norm: 8.4172  LR: 9.9598e-04  \n",
      "EVAL: [0/17] Data 0.347 (0.347) Elapsed 0m 0s (remain 0m 9s) \n"
     ]
    },
    {
     "name": "stderr",
     "output_type": "stream",
     "text": [
      "labels: [11  2  3  7  6]\n",
      "pred_labels: [2 8 1 0 6]\n",
      "Epoch 2 - avg_train_loss: 2.2510  lr: 9.9598e-04  time: 78s\n",
      "Epoch 2 - Score: 0.3130\n",
      "Epoch 2 - Save Best Score: 0.3130 Model\n"
     ]
    },
    {
     "name": "stdout",
     "output_type": "stream",
     "text": [
      "EVAL: [16/17] Data 0.000 (0.021) Elapsed 0m 4s (remain 0m 0s) \n",
      "Epoch: [3][0/81] Data 0.559 (0.559) Elapsed 0m 1s (remain 1m 40s) Loss: 2.1890(2.1890) Grad Norm: 0.0000  LR: 9.8599e-04  \n",
      "Epoch: [3][80/81] Data 0.000 (0.007) Elapsed 1m 13s (remain 0m 0s) Loss: 2.4402(1.9152) Grad Norm: 7.5541  LR: 9.8599e-04  \n",
      "EVAL: [0/17] Data 0.425 (0.425) Elapsed 0m 0s (remain 0m 10s) \n"
     ]
    },
    {
     "name": "stderr",
     "output_type": "stream",
     "text": [
      "labels: [11  2  3  7  6]\n",
      "pred_labels: [9 2 0 2 5]\n",
      "Epoch 3 - avg_train_loss: 1.9152  lr: 9.8599e-04  time: 78s\n",
      "Epoch 3 - Score: 0.4504\n",
      "Epoch 3 - Save Best Score: 0.4504 Model\n"
     ]
    },
    {
     "name": "stdout",
     "output_type": "stream",
     "text": [
      "EVAL: [16/17] Data 0.000 (0.025) Elapsed 0m 4s (remain 0m 0s) \n",
      "Epoch: [4][0/81] Data 0.600 (0.600) Elapsed 0m 1s (remain 1m 38s) Loss: 1.2995(1.2995) Grad Norm: 0.0000  LR: 9.7213e-04  \n",
      "Epoch: [4][80/81] Data 0.000 (0.008) Elapsed 1m 13s (remain 0m 0s) Loss: 2.2742(1.6708) Grad Norm: 9.0008  LR: 9.7213e-04  \n",
      "EVAL: [0/17] Data 0.436 (0.436) Elapsed 0m 0s (remain 0m 10s) \n"
     ]
    },
    {
     "name": "stderr",
     "output_type": "stream",
     "text": [
      "labels: [11  2  3  7  6]\n",
      "pred_labels: [11  2  1  3  5]\n",
      "Epoch 4 - avg_train_loss: 1.6708  lr: 9.7213e-04  time: 78s\n",
      "Epoch 4 - Score: 0.5115\n",
      "Epoch 4 - Save Best Score: 0.5115 Model\n"
     ]
    },
    {
     "name": "stdout",
     "output_type": "stream",
     "text": [
      "EVAL: [16/17] Data 0.000 (0.026) Elapsed 0m 4s (remain 0m 0s) \n",
      "Epoch: [5][0/81] Data 0.632 (0.632) Elapsed 0m 1s (remain 1m 43s) Loss: 1.6322(1.6322) Grad Norm: 0.0000  LR: 9.5449e-04  \n",
      "Epoch: [5][80/81] Data 0.000 (0.008) Elapsed 1m 13s (remain 0m 0s) Loss: 0.6551(1.4603) Grad Norm: 7.9973  LR: 9.5449e-04  \n",
      "EVAL: [0/17] Data 0.335 (0.335) Elapsed 0m 0s (remain 0m 9s) \n"
     ]
    },
    {
     "name": "stderr",
     "output_type": "stream",
     "text": [
      "labels: [11  2  3  7  6]\n",
      "pred_labels: [11  2  3  7  9]\n",
      "Epoch 5 - avg_train_loss: 1.4603  lr: 9.5449e-04  time: 78s\n",
      "Epoch 5 - Score: 0.5420\n",
      "Epoch 5 - Save Best Score: 0.5420 Model\n"
     ]
    },
    {
     "name": "stdout",
     "output_type": "stream",
     "text": [
      "EVAL: [16/17] Data 0.000 (0.020) Elapsed 0m 4s (remain 0m 0s) \n",
      "Epoch: [6][0/81] Data 0.512 (0.512) Elapsed 0m 1s (remain 1m 38s) Loss: 0.9855(0.9855) Grad Norm: 0.0000  LR: 9.3324e-04  \n",
      "Epoch: [6][80/81] Data 0.000 (0.007) Elapsed 1m 13s (remain 0m 0s) Loss: 0.8822(1.3703) Grad Norm: 6.2072  LR: 9.3324e-04  \n",
      "EVAL: [0/17] Data 0.406 (0.406) Elapsed 0m 0s (remain 0m 10s) \n"
     ]
    },
    {
     "name": "stderr",
     "output_type": "stream",
     "text": [
      "labels: [11  2  3  7  6]\n",
      "pred_labels: [11  2  3  4  6]\n",
      "Epoch 6 - avg_train_loss: 1.3703  lr: 9.3324e-04  time: 78s\n",
      "Epoch 6 - Score: 0.5725\n",
      "Epoch 6 - Save Best Score: 0.5725 Model\n"
     ]
    },
    {
     "name": "stdout",
     "output_type": "stream",
     "text": [
      "EVAL: [16/17] Data 0.000 (0.024) Elapsed 0m 4s (remain 0m 0s) \n",
      "Epoch: [7][0/81] Data 0.521 (0.521) Elapsed 0m 1s (remain 1m 37s) Loss: 1.7352(1.7352) Grad Norm: 0.0000  LR: 9.0853e-04  \n",
      "Epoch: [7][80/81] Data 0.000 (0.007) Elapsed 1m 13s (remain 0m 0s) Loss: 1.7700(1.2752) Grad Norm: 5.8940  LR: 9.0853e-04  \n",
      "EVAL: [0/17] Data 0.399 (0.399) Elapsed 0m 0s (remain 0m 10s) \n"
     ]
    },
    {
     "name": "stderr",
     "output_type": "stream",
     "text": [
      "labels: [11  2  3  7  6]\n",
      "pred_labels: [11  2  4  4  9]\n",
      "Epoch 7 - avg_train_loss: 1.2752  lr: 9.0853e-04  time: 78s\n",
      "Epoch 7 - Score: 0.5802\n",
      "Epoch 7 - Save Best Score: 0.5802 Model\n"
     ]
    },
    {
     "name": "stdout",
     "output_type": "stream",
     "text": [
      "EVAL: [16/17] Data 0.000 (0.024) Elapsed 0m 4s (remain 0m 0s) \n",
      "Epoch: [8][0/81] Data 0.543 (0.543) Elapsed 0m 1s (remain 1m 37s) Loss: 1.4395(1.4395) Grad Norm: 0.0000  LR: 8.8057e-04  \n",
      "Epoch: [8][80/81] Data 0.000 (0.007) Elapsed 1m 13s (remain 0m 0s) Loss: 1.0748(1.1831) Grad Norm: 6.0245  LR: 8.8057e-04  \n",
      "EVAL: [0/17] Data 0.385 (0.385) Elapsed 0m 0s (remain 0m 10s) \n"
     ]
    },
    {
     "name": "stderr",
     "output_type": "stream",
     "text": [
      "labels: [11  2  3  7  6]\n",
      "pred_labels: [11  2  1  4  1]\n",
      "Epoch 8 - avg_train_loss: 1.1831  lr: 8.8057e-04  time: 78s\n",
      "Epoch 8 - Score: 0.5420\n"
     ]
    },
    {
     "name": "stdout",
     "output_type": "stream",
     "text": [
      "EVAL: [16/17] Data 0.000 (0.023) Elapsed 0m 4s (remain 0m 0s) \n",
      "Epoch: [9][0/81] Data 0.496 (0.496) Elapsed 0m 1s (remain 1m 33s) Loss: 2.0073(2.0073) Grad Norm: 0.0000  LR: 8.4958e-04  \n",
      "Epoch: [9][80/81] Data 0.000 (0.006) Elapsed 1m 13s (remain 0m 0s) Loss: 0.3230(1.0683) Grad Norm: 6.8771  LR: 8.4958e-04  \n",
      "EVAL: [0/17] Data 0.380 (0.380) Elapsed 0m 0s (remain 0m 10s) \n"
     ]
    },
    {
     "name": "stderr",
     "output_type": "stream",
     "text": [
      "labels: [11  2  3  7  6]\n",
      "pred_labels: [11  2  1  4  1]\n",
      "Epoch 9 - avg_train_loss: 1.0683  lr: 8.4958e-04  time: 78s\n",
      "Epoch 9 - Score: 0.5878\n",
      "Epoch 9 - Save Best Score: 0.5878 Model\n"
     ]
    },
    {
     "name": "stdout",
     "output_type": "stream",
     "text": [
      "EVAL: [16/17] Data 0.000 (0.023) Elapsed 0m 4s (remain 0m 0s) \n",
      "Epoch: [10][0/81] Data 0.511 (0.511) Elapsed 0m 1s (remain 1m 40s) Loss: 0.0946(0.0946) Grad Norm: 0.0000  LR: 8.1581e-04  \n",
      "Epoch: [10][80/81] Data 0.000 (0.007) Elapsed 1m 13s (remain 0m 0s) Loss: 1.3088(1.0076) Grad Norm: 6.4134  LR: 8.1581e-04  \n",
      "EVAL: [0/17] Data 0.343 (0.343) Elapsed 0m 0s (remain 0m 9s) \n"
     ]
    },
    {
     "name": "stderr",
     "output_type": "stream",
     "text": [
      "labels: [11  2  3  7  6]\n",
      "pred_labels: [11  2  1  4  3]\n",
      "Epoch 10 - avg_train_loss: 1.0076  lr: 8.1581e-04  time: 78s\n",
      "Epoch 10 - Score: 0.5267\n"
     ]
    },
    {
     "name": "stdout",
     "output_type": "stream",
     "text": [
      "EVAL: [16/17] Data 0.000 (0.020) Elapsed 0m 4s (remain 0m 0s) \n",
      "Epoch: [11][0/81] Data 0.533 (0.533) Elapsed 0m 1s (remain 1m 33s) Loss: 1.2819(1.2819) Grad Norm: 0.0000  LR: 7.7953e-04  \n",
      "Epoch: [11][80/81] Data 0.000 (0.007) Elapsed 1m 13s (remain 0m 0s) Loss: 0.4250(0.9518) Grad Norm: 5.9233  LR: 7.7953e-04  \n",
      "EVAL: [0/17] Data 0.306 (0.306) Elapsed 0m 0s (remain 0m 9s) \n"
     ]
    },
    {
     "name": "stderr",
     "output_type": "stream",
     "text": [
      "labels: [11  2  3  7  6]\n",
      "pred_labels: [11  2  3  4  1]\n",
      "Epoch 11 - avg_train_loss: 0.9518  lr: 7.7953e-04  time: 78s\n",
      "Epoch 11 - Score: 0.6107\n",
      "Epoch 11 - Save Best Score: 0.6107 Model\n"
     ]
    },
    {
     "name": "stdout",
     "output_type": "stream",
     "text": [
      "EVAL: [16/17] Data 0.000 (0.018) Elapsed 0m 4s (remain 0m 0s) \n",
      "Epoch: [12][0/81] Data 0.527 (0.527) Elapsed 0m 1s (remain 1m 31s) Loss: 1.4479(1.4479) Grad Norm: 0.0000  LR: 7.4103e-04  \n",
      "Epoch: [12][80/81] Data 0.000 (0.007) Elapsed 1m 12s (remain 0m 0s) Loss: 0.3886(1.1768) Grad Norm: 4.8079  LR: 7.4103e-04  \n",
      "EVAL: [0/17] Data 0.331 (0.331) Elapsed 0m 0s (remain 0m 9s) \n"
     ]
    },
    {
     "name": "stderr",
     "output_type": "stream",
     "text": [
      "labels: [11  2  3  7  6]\n",
      "pred_labels: [11  2  3  5  7]\n",
      "Epoch 12 - avg_train_loss: 1.1768  lr: 7.4103e-04  time: 78s\n",
      "Epoch 12 - Score: 0.6031\n"
     ]
    },
    {
     "name": "stdout",
     "output_type": "stream",
     "text": [
      "EVAL: [16/17] Data 0.000 (0.020) Elapsed 0m 4s (remain 0m 0s) \n",
      "Epoch: [13][0/81] Data 0.465 (0.465) Elapsed 0m 1s (remain 1m 29s) Loss: 0.4181(0.4181) Grad Norm: 0.0000  LR: 7.0063e-04  \n",
      "Epoch: [13][80/81] Data 0.000 (0.006) Elapsed 1m 12s (remain 0m 0s) Loss: 1.6809(0.7980) Grad Norm: 3.5990  LR: 7.0063e-04  \n",
      "EVAL: [0/17] Data 0.341 (0.341) Elapsed 0m 0s (remain 0m 9s) \n"
     ]
    },
    {
     "name": "stderr",
     "output_type": "stream",
     "text": [
      "labels: [11  2  3  7  6]\n",
      "pred_labels: [11  2  3  2  6]\n",
      "Epoch 13 - avg_train_loss: 0.7980  lr: 7.0063e-04  time: 77s\n",
      "Epoch 13 - Score: 0.6107\n"
     ]
    },
    {
     "name": "stdout",
     "output_type": "stream",
     "text": [
      "EVAL: [16/17] Data 0.000 (0.020) Elapsed 0m 4s (remain 0m 0s) \n",
      "Epoch: [14][0/81] Data 0.471 (0.471) Elapsed 0m 1s (remain 1m 29s) Loss: 1.4496(1.4496) Grad Norm: 0.0000  LR: 6.5865e-04  \n",
      "Epoch: [14][80/81] Data 0.000 (0.006) Elapsed 1m 12s (remain 0m 0s) Loss: 0.1409(0.8630) Grad Norm: 4.1873  LR: 6.5865e-04  \n",
      "EVAL: [0/17] Data 0.371 (0.371) Elapsed 0m 0s (remain 0m 9s) \n"
     ]
    },
    {
     "name": "stderr",
     "output_type": "stream",
     "text": [
      "labels: [11  2  3  7  6]\n",
      "pred_labels: [11  2  9  7  1]\n",
      "Epoch 14 - avg_train_loss: 0.8630  lr: 6.5865e-04  time: 77s\n",
      "Epoch 14 - Score: 0.6031\n"
     ]
    },
    {
     "name": "stdout",
     "output_type": "stream",
     "text": [
      "EVAL: [16/17] Data 0.000 (0.022) Elapsed 0m 4s (remain 0m 0s) \n",
      "Epoch: [15][0/81] Data 0.491 (0.491) Elapsed 0m 1s (remain 1m 28s) Loss: 0.4339(0.4339) Grad Norm: 0.0000  LR: 6.1542e-04  \n",
      "Epoch: [15][80/81] Data 0.000 (0.006) Elapsed 1m 12s (remain 0m 0s) Loss: 0.4420(0.7804) Grad Norm: 7.0832  LR: 6.1542e-04  \n",
      "EVAL: [0/17] Data 0.317 (0.317) Elapsed 0m 0s (remain 0m 9s) \n"
     ]
    },
    {
     "name": "stderr",
     "output_type": "stream",
     "text": [
      "labels: [11  2  3  7  6]\n",
      "pred_labels: [11  2  0  4  0]\n",
      "Epoch 15 - avg_train_loss: 0.7804  lr: 6.1542e-04  time: 77s\n",
      "Epoch 15 - Score: 0.5878\n"
     ]
    },
    {
     "name": "stdout",
     "output_type": "stream",
     "text": [
      "EVAL: [16/17] Data 0.000 (0.019) Elapsed 0m 4s (remain 0m 0s) \n",
      "Epoch: [16][0/81] Data 0.470 (0.470) Elapsed 0m 1s (remain 1m 32s) Loss: 0.1496(0.1496) Grad Norm: 0.0000  LR: 5.7130e-04  \n",
      "Epoch: [16][80/81] Data 0.000 (0.006) Elapsed 1m 12s (remain 0m 0s) Loss: 1.2564(0.7909) Grad Norm: 4.0810  LR: 5.7130e-04  \n",
      "EVAL: [0/17] Data 0.319 (0.319) Elapsed 0m 0s (remain 0m 8s) \n"
     ]
    },
    {
     "name": "stderr",
     "output_type": "stream",
     "text": [
      "labels: [11  2  3  7  6]\n",
      "pred_labels: [11  2  3  7  7]\n",
      "Epoch 16 - avg_train_loss: 0.7909  lr: 5.7130e-04  time: 77s\n",
      "Epoch 16 - Score: 0.6565\n",
      "Epoch 16 - Save Best Score: 0.6565 Model\n"
     ]
    },
    {
     "name": "stdout",
     "output_type": "stream",
     "text": [
      "EVAL: [16/17] Data 0.000 (0.019) Elapsed 0m 4s (remain 0m 0s) \n",
      "Epoch: [17][0/81] Data 0.616 (0.616) Elapsed 0m 1s (remain 1m 39s) Loss: 1.9566(1.9566) Grad Norm: 0.0000  LR: 5.2663e-04  \n",
      "Epoch: [17][80/81] Data 0.000 (0.008) Elapsed 1m 12s (remain 0m 0s) Loss: 1.6202(0.7007) Grad Norm: 2.9297  LR: 5.2663e-04  \n",
      "EVAL: [0/17] Data 0.320 (0.320) Elapsed 0m 0s (remain 0m 9s) \n"
     ]
    },
    {
     "name": "stderr",
     "output_type": "stream",
     "text": [
      "labels: [11  2  3  7  6]\n",
      "pred_labels: [11  2  3  7  2]\n",
      "Epoch 17 - avg_train_loss: 0.7007  lr: 5.2663e-04  time: 77s\n",
      "Epoch 17 - Score: 0.5878\n"
     ]
    },
    {
     "name": "stdout",
     "output_type": "stream",
     "text": [
      "EVAL: [16/17] Data 0.000 (0.019) Elapsed 0m 4s (remain 0m 0s) \n",
      "Epoch: [18][0/81] Data 0.541 (0.541) Elapsed 0m 1s (remain 1m 35s) Loss: 1.3869(1.3869) Grad Norm: 0.0000  LR: 4.8179e-04  \n",
      "Epoch: [18][80/81] Data 0.000 (0.007) Elapsed 1m 12s (remain 0m 0s) Loss: 1.4601(0.7947) Grad Norm: 4.2424  LR: 4.8179e-04  \n",
      "EVAL: [0/17] Data 0.327 (0.327) Elapsed 0m 0s (remain 0m 9s) \n"
     ]
    },
    {
     "name": "stderr",
     "output_type": "stream",
     "text": [
      "labels: [11  2  3  7  6]\n",
      "pred_labels: [11  2  3  4  6]\n",
      "Epoch 18 - avg_train_loss: 0.7947  lr: 4.8179e-04  time: 77s\n",
      "Epoch 18 - Score: 0.6794\n",
      "Epoch 18 - Save Best Score: 0.6794 Model\n"
     ]
    },
    {
     "name": "stdout",
     "output_type": "stream",
     "text": [
      "EVAL: [16/17] Data 0.000 (0.019) Elapsed 0m 4s (remain 0m 0s) \n",
      "Epoch: [19][0/81] Data 0.443 (0.443) Elapsed 0m 1s (remain 1m 25s) Loss: 1.7697(1.7697) Grad Norm: 0.0000  LR: 4.3712e-04  \n",
      "Epoch: [19][80/81] Data 0.000 (0.006) Elapsed 1m 12s (remain 0m 0s) Loss: 1.1781(0.8935) Grad Norm: 1.9715  LR: 4.3712e-04  \n",
      "EVAL: [0/17] Data 0.311 (0.311) Elapsed 0m 0s (remain 0m 9s) \n"
     ]
    },
    {
     "name": "stderr",
     "output_type": "stream",
     "text": [
      "labels: [11  2  3  7  6]\n",
      "pred_labels: [11  2  1  7  7]\n",
      "Epoch 19 - avg_train_loss: 0.8935  lr: 4.3712e-04  time: 77s\n",
      "Epoch 19 - Score: 0.6489\n"
     ]
    },
    {
     "name": "stdout",
     "output_type": "stream",
     "text": [
      "EVAL: [16/17] Data 0.000 (0.019) Elapsed 0m 4s (remain 0m 0s) \n",
      "Epoch: [20][0/81] Data 0.526 (0.526) Elapsed 0m 1s (remain 1m 31s) Loss: 1.2473(1.2473) Grad Norm: 0.0000  LR: 3.9299e-04  \n",
      "Epoch: [20][80/81] Data 0.000 (0.007) Elapsed 1m 12s (remain 0m 0s) Loss: 0.5901(0.7528) Grad Norm: 2.7919  LR: 3.9299e-04  \n",
      "EVAL: [0/17] Data 0.314 (0.314) Elapsed 0m 0s (remain 0m 8s) \n"
     ]
    },
    {
     "name": "stderr",
     "output_type": "stream",
     "text": [
      "labels: [11  2  3  7  6]\n",
      "pred_labels: [11  2  1  7  3]\n",
      "Epoch 20 - avg_train_loss: 0.7528  lr: 3.9299e-04  time: 77s\n",
      "Epoch 20 - Score: 0.6565\n"
     ]
    },
    {
     "name": "stdout",
     "output_type": "stream",
     "text": [
      "EVAL: [16/17] Data 0.000 (0.019) Elapsed 0m 4s (remain 0m 0s) \n",
      "Epoch: [21][0/81] Data 0.499 (0.499) Elapsed 0m 1s (remain 1m 29s) Loss: 0.1789(0.1789) Grad Norm: 0.0000  LR: 3.4975e-04  \n",
      "Epoch: [21][80/81] Data 0.000 (0.006) Elapsed 1m 12s (remain 0m 0s) Loss: 0.0987(0.7352) Grad Norm: 4.8148  LR: 3.4975e-04  \n",
      "EVAL: [0/17] Data 0.280 (0.280) Elapsed 0m 0s (remain 0m 8s) \n"
     ]
    },
    {
     "name": "stderr",
     "output_type": "stream",
     "text": [
      "labels: [11  2  3  7  6]\n",
      "pred_labels: [11  2  3  4  6]\n",
      "Epoch 21 - avg_train_loss: 0.7352  lr: 3.4975e-04  time: 77s\n",
      "Epoch 21 - Score: 0.6947\n",
      "Epoch 21 - Save Best Score: 0.6947 Model\n"
     ]
    },
    {
     "name": "stdout",
     "output_type": "stream",
     "text": [
      "EVAL: [16/17] Data 0.000 (0.017) Elapsed 0m 4s (remain 0m 0s) \n",
      "Epoch: [22][0/81] Data 0.475 (0.475) Elapsed 0m 1s (remain 1m 32s) Loss: 0.0640(0.0640) Grad Norm: 0.0000  LR: 3.0775e-04  \n",
      "Epoch: [22][80/81] Data 0.000 (0.006) Elapsed 1m 12s (remain 0m 0s) Loss: 0.0468(0.6993) Grad Norm: 3.0877  LR: 3.0775e-04  \n",
      "EVAL: [0/17] Data 0.317 (0.317) Elapsed 0m 0s (remain 0m 9s) \n"
     ]
    },
    {
     "name": "stderr",
     "output_type": "stream",
     "text": [
      "labels: [11  2  3  7  6]\n",
      "pred_labels: [11  2  3  4  6]\n",
      "Epoch 22 - avg_train_loss: 0.6993  lr: 3.0775e-04  time: 77s\n",
      "Epoch 22 - Score: 0.6641\n"
     ]
    },
    {
     "name": "stdout",
     "output_type": "stream",
     "text": [
      "EVAL: [16/17] Data 0.000 (0.019) Elapsed 0m 4s (remain 0m 0s) \n",
      "Epoch: [23][0/81] Data 0.414 (0.414) Elapsed 0m 1s (remain 1m 28s) Loss: 1.4944(1.4944) Grad Norm: 0.0000  LR: 2.6732e-04  \n",
      "Epoch: [23][80/81] Data 0.000 (0.005) Elapsed 1m 12s (remain 0m 0s) Loss: 0.8567(0.6545) Grad Norm: 4.7246  LR: 2.6732e-04  \n",
      "EVAL: [0/17] Data 0.328 (0.328) Elapsed 0m 0s (remain 0m 9s) \n"
     ]
    },
    {
     "name": "stderr",
     "output_type": "stream",
     "text": [
      "labels: [11  2  3  7  6]\n",
      "pred_labels: [11  2  1  7  1]\n",
      "Epoch 23 - avg_train_loss: 0.6545  lr: 2.6732e-04  time: 77s\n",
      "Epoch 23 - Score: 0.6260\n"
     ]
    },
    {
     "name": "stdout",
     "output_type": "stream",
     "text": [
      "EVAL: [16/17] Data 0.000 (0.020) Elapsed 0m 4s (remain 0m 0s) \n",
      "Epoch: [24][0/81] Data 0.487 (0.487) Elapsed 0m 1s (remain 1m 32s) Loss: 0.0188(0.0188) Grad Norm: 0.0000  LR: 2.2880e-04  \n",
      "Epoch: [24][80/81] Data 0.000 (0.006) Elapsed 1m 12s (remain 0m 0s) Loss: 1.2311(0.6883) Grad Norm: 3.2827  LR: 2.2880e-04  \n",
      "EVAL: [0/17] Data 0.347 (0.347) Elapsed 0m 0s (remain 0m 9s) \n"
     ]
    },
    {
     "name": "stderr",
     "output_type": "stream",
     "text": [
      "labels: [11  2  3  7  6]\n",
      "pred_labels: [11  2  3  4 11]\n",
      "Epoch 24 - avg_train_loss: 0.6883  lr: 2.2880e-04  time: 77s\n",
      "Epoch 24 - Score: 0.6565\n"
     ]
    },
    {
     "name": "stdout",
     "output_type": "stream",
     "text": [
      "EVAL: [16/17] Data 0.000 (0.021) Elapsed 0m 4s (remain 0m 0s) \n",
      "Epoch: [25][0/81] Data 0.433 (0.433) Elapsed 0m 1s (remain 1m 27s) Loss: 0.9071(0.9071) Grad Norm: 0.0000  LR: 1.9248e-04  \n",
      "Epoch: [25][80/81] Data 0.000 (0.006) Elapsed 1m 12s (remain 0m 0s) Loss: 0.0553(0.6645) Grad Norm: 2.4687  LR: 1.9248e-04  \n",
      "EVAL: [0/17] Data 0.332 (0.332) Elapsed 0m 0s (remain 0m 9s) \n"
     ]
    },
    {
     "name": "stderr",
     "output_type": "stream",
     "text": [
      "labels: [11  2  3  7  6]\n",
      "pred_labels: [11  2  3  7  3]\n",
      "Epoch 25 - avg_train_loss: 0.6645  lr: 1.9248e-04  time: 77s\n",
      "Epoch 25 - Score: 0.6794\n"
     ]
    },
    {
     "name": "stdout",
     "output_type": "stream",
     "text": [
      "EVAL: [16/17] Data 0.000 (0.020) Elapsed 0m 4s (remain 0m 0s) \n",
      "Epoch: [26][0/81] Data 0.481 (0.481) Elapsed 0m 1s (remain 1m 34s) Loss: 0.0422(0.0422) Grad Norm: 0.0000  LR: 1.5867e-04  \n",
      "Epoch: [26][80/81] Data 0.000 (0.006) Elapsed 1m 12s (remain 0m 0s) Loss: 0.0407(0.6685) Grad Norm: 0.9688  LR: 1.5867e-04  \n",
      "EVAL: [0/17] Data 0.345 (0.345) Elapsed 0m 0s (remain 0m 9s) \n"
     ]
    },
    {
     "name": "stderr",
     "output_type": "stream",
     "text": [
      "labels: [11  2  3  7  6]\n",
      "pred_labels: [11  2  1  7  6]\n",
      "Epoch 26 - avg_train_loss: 0.6685  lr: 1.5867e-04  time: 77s\n",
      "Epoch 26 - Score: 0.7023\n",
      "Epoch 26 - Save Best Score: 0.7023 Model\n"
     ]
    },
    {
     "name": "stdout",
     "output_type": "stream",
     "text": [
      "EVAL: [16/17] Data 0.000 (0.021) Elapsed 0m 4s (remain 0m 0s) \n",
      "Epoch: [27][0/81] Data 0.461 (0.461) Elapsed 0m 1s (remain 1m 31s) Loss: 1.3627(1.3627) Grad Norm: 0.0000  LR: 1.2762e-04  \n",
      "Epoch: [27][80/81] Data 0.000 (0.006) Elapsed 1m 12s (remain 0m 0s) Loss: 0.0155(0.6092) Grad Norm: 4.5607  LR: 1.2762e-04  \n",
      "EVAL: [0/17] Data 0.277 (0.277) Elapsed 0m 0s (remain 0m 8s) \n"
     ]
    },
    {
     "name": "stderr",
     "output_type": "stream",
     "text": [
      "labels: [11  2  3  7  6]\n",
      "pred_labels: [11  2  1  7  6]\n",
      "Epoch 27 - avg_train_loss: 0.6092  lr: 1.2762e-04  time: 77s\n",
      "Epoch 27 - Score: 0.6641\n"
     ]
    },
    {
     "name": "stdout",
     "output_type": "stream",
     "text": [
      "EVAL: [16/17] Data 0.000 (0.017) Elapsed 0m 4s (remain 0m 0s) \n",
      "Epoch: [28][0/81] Data 0.451 (0.451) Elapsed 0m 1s (remain 1m 30s) Loss: 1.4925(1.4925) Grad Norm: 0.0000  LR: 9.9584e-05  \n",
      "Epoch: [28][80/81] Data 0.000 (0.006) Elapsed 1m 12s (remain 0m 0s) Loss: 0.1145(0.6375) Grad Norm: 4.3078  LR: 9.9584e-05  \n",
      "EVAL: [0/17] Data 0.332 (0.332) Elapsed 0m 0s (remain 0m 9s) \n"
     ]
    },
    {
     "name": "stderr",
     "output_type": "stream",
     "text": [
      "labels: [11  2  3  7  6]\n",
      "pred_labels: [11  2  1  7  6]\n",
      "Epoch 28 - avg_train_loss: 0.6375  lr: 9.9584e-05  time: 77s\n",
      "Epoch 28 - Score: 0.6565\n"
     ]
    },
    {
     "name": "stdout",
     "output_type": "stream",
     "text": [
      "EVAL: [16/17] Data 0.000 (0.020) Elapsed 0m 4s (remain 0m 0s) \n",
      "Epoch: [29][0/81] Data 0.431 (0.431) Elapsed 0m 1s (remain 1m 24s) Loss: 0.0594(0.0594) Grad Norm: 0.0000  LR: 7.4783e-05  \n",
      "Epoch: [29][80/81] Data 0.000 (0.006) Elapsed 1m 12s (remain 0m 0s) Loss: 1.6867(0.5784) Grad Norm: 1.8423  LR: 7.4783e-05  \n",
      "EVAL: [0/17] Data 0.320 (0.320) Elapsed 0m 0s (remain 0m 8s) \n"
     ]
    },
    {
     "name": "stderr",
     "output_type": "stream",
     "text": [
      "labels: [11  2  3  7  6]\n",
      "pred_labels: [11  2  1  4  6]\n",
      "Epoch 29 - avg_train_loss: 0.5784  lr: 7.4783e-05  time: 77s\n",
      "Epoch 29 - Score: 0.6718\n"
     ]
    },
    {
     "name": "stdout",
     "output_type": "stream",
     "text": [
      "EVAL: [16/17] Data 0.000 (0.019) Elapsed 0m 4s (remain 0m 0s) \n",
      "Epoch: [30][0/81] Data 0.496 (0.496) Elapsed 0m 1s (remain 1m 29s) Loss: 0.9117(0.9117) Grad Norm: 0.0000  LR: 5.3404e-05  \n",
      "Epoch: [30][80/81] Data 0.000 (0.006) Elapsed 1m 12s (remain 0m 0s) Loss: 1.0477(0.6158) Grad Norm: 3.1721  LR: 5.3404e-05  \n",
      "EVAL: [0/17] Data 0.326 (0.326) Elapsed 0m 0s (remain 0m 9s) \n"
     ]
    },
    {
     "name": "stderr",
     "output_type": "stream",
     "text": [
      "labels: [11  2  3  7  6]\n",
      "pred_labels: [11  2  1  7  6]\n",
      "Epoch 30 - avg_train_loss: 0.6158  lr: 5.3404e-05  time: 77s\n",
      "Epoch 30 - Score: 0.6794\n"
     ]
    },
    {
     "name": "stdout",
     "output_type": "stream",
     "text": [
      "EVAL: [16/17] Data 0.000 (0.019) Elapsed 0m 4s (remain 0m 0s) \n",
      "Epoch: [31][0/81] Data 0.468 (0.468) Elapsed 0m 1s (remain 1m 32s) Loss: 0.0093(0.0093) Grad Norm: 0.0000  LR: 3.5607e-05  \n",
      "Epoch: [31][80/81] Data 0.000 (0.006) Elapsed 1m 12s (remain 0m 0s) Loss: 0.0199(0.0550) Grad Norm: 0.2515  LR: 3.5607e-05  \n",
      "EVAL: [0/17] Data 0.330 (0.330) Elapsed 0m 0s (remain 0m 9s) \n"
     ]
    },
    {
     "name": "stderr",
     "output_type": "stream",
     "text": [
      "labels: [11  2  3  7  6]\n",
      "pred_labels: [11  2  1  7  6]\n",
      "Epoch 31 - avg_train_loss: 0.0550  lr: 3.5607e-05  time: 77s\n",
      "Epoch 31 - Score: 0.7252\n",
      "Epoch 31 - Save Best Score: 0.7252 Model\n"
     ]
    },
    {
     "name": "stdout",
     "output_type": "stream",
     "text": [
      "EVAL: [16/17] Data 0.000 (0.020) Elapsed 0m 4s (remain 0m 0s) \n",
      "Epoch: [32][0/81] Data 0.474 (0.474) Elapsed 0m 1s (remain 1m 35s) Loss: 0.0220(0.0220) Grad Norm: 0.0000  LR: 2.1508e-05  \n",
      "Epoch: [32][80/81] Data 0.000 (0.006) Elapsed 1m 12s (remain 0m 0s) Loss: 0.0141(0.0308) Grad Norm: 0.2211  LR: 2.1508e-05  \n",
      "EVAL: [0/17] Data 0.312 (0.312) Elapsed 0m 0s (remain 0m 9s) \n"
     ]
    },
    {
     "name": "stderr",
     "output_type": "stream",
     "text": [
      "labels: [11  2  3  7  6]\n",
      "pred_labels: [11  2  1  7  6]\n",
      "Epoch 32 - avg_train_loss: 0.0308  lr: 2.1508e-05  time: 77s\n",
      "Epoch 32 - Score: 0.7023\n"
     ]
    },
    {
     "name": "stdout",
     "output_type": "stream",
     "text": [
      "EVAL: [16/17] Data 0.000 (0.019) Elapsed 0m 4s (remain 0m 0s) \n",
      "Epoch: [33][0/81] Data 0.437 (0.437) Elapsed 0m 1s (remain 1m 27s) Loss: 0.0179(0.0179) Grad Norm: 0.0000  LR: 1.1173e-05  \n",
      "Epoch: [33][80/81] Data 0.000 (0.006) Elapsed 1m 12s (remain 0m 0s) Loss: 0.0099(0.0311) Grad Norm: 0.5466  LR: 1.1173e-05  \n",
      "EVAL: [0/17] Data 0.339 (0.339) Elapsed 0m 0s (remain 0m 9s) \n"
     ]
    },
    {
     "name": "stderr",
     "output_type": "stream",
     "text": [
      "labels: [11  2  3  7  6]\n",
      "pred_labels: [11  2  1  7  1]\n",
      "Epoch 33 - avg_train_loss: 0.0311  lr: 1.1173e-05  time: 77s\n",
      "Epoch 33 - Score: 0.7099\n"
     ]
    },
    {
     "name": "stdout",
     "output_type": "stream",
     "text": [
      "EVAL: [16/17] Data 0.000 (0.020) Elapsed 0m 4s (remain 0m 0s) \n",
      "Epoch: [34][0/81] Data 0.422 (0.422) Elapsed 0m 1s (remain 1m 30s) Loss: 0.0157(0.0157) Grad Norm: 0.0000  LR: 4.5796e-06  \n",
      "Epoch: [34][80/81] Data 0.000 (0.005) Elapsed 1m 12s (remain 0m 0s) Loss: 0.0140(0.0286) Grad Norm: 0.7070  LR: 4.5796e-06  \n",
      "EVAL: [0/17] Data 0.341 (0.341) Elapsed 0m 0s (remain 0m 9s) \n"
     ]
    },
    {
     "name": "stderr",
     "output_type": "stream",
     "text": [
      "labels: [11  2  3  7  6]\n",
      "pred_labels: [11  2  3  7  6]\n",
      "Epoch 34 - avg_train_loss: 0.0286  lr: 4.5796e-06  time: 77s\n",
      "Epoch 34 - Score: 0.7252\n"
     ]
    },
    {
     "name": "stdout",
     "output_type": "stream",
     "text": [
      "EVAL: [16/17] Data 0.000 (0.020) Elapsed 0m 4s (remain 0m 0s) \n",
      "Epoch: [35][0/81] Data 0.491 (0.491) Elapsed 0m 1s (remain 1m 30s) Loss: 0.0124(0.0124) Grad Norm: 0.0000  LR: 1.5037e-06  \n",
      "Epoch: [35][80/81] Data 0.000 (0.006) Elapsed 1m 12s (remain 0m 0s) Loss: 0.0072(0.0294) Grad Norm: 0.2096  LR: 1.5037e-06  \n",
      "EVAL: [0/17] Data 0.327 (0.327) Elapsed 0m 0s (remain 0m 9s) \n"
     ]
    },
    {
     "name": "stderr",
     "output_type": "stream",
     "text": [
      "labels: [11  2  3  7  6]\n",
      "pred_labels: [11  2  1  7  6]\n",
      "Epoch 35 - avg_train_loss: 0.0294  lr: 1.5037e-06  time: 77s\n",
      "Epoch 35 - Score: 0.7099\n",
      "==================== fold: 3, seed: 2 training ====================\n"
     ]
    },
    {
     "name": "stdout",
     "output_type": "stream",
     "text": [
      "EVAL: [16/17] Data 0.000 (0.019) Elapsed 0m 4s (remain 0m 0s) \n",
      "Epoch: [1][0/81] Data 0.521 (0.521) Elapsed 0m 1s (remain 1m 32s) Loss: 2.5737(2.5737) Grad Norm: 0.0000  LR: 1.0000e-03  \n",
      "Epoch: [1][80/81] Data 0.000 (0.007) Elapsed 1m 13s (remain 0m 0s) Loss: 2.3508(2.4968) Grad Norm: 6.1102  LR: 1.0000e-03  \n",
      "EVAL: [0/17] Data 0.418 (0.418) Elapsed 0m 0s (remain 0m 10s) \n"
     ]
    },
    {
     "name": "stderr",
     "output_type": "stream",
     "text": [
      "labels: [ 5  2 11 10  8]\n",
      "pred_labels: [6 6 6 2 8]\n",
      "Epoch 1 - avg_train_loss: 2.4968  lr: 1.0000e-03  time: 78s\n",
      "Epoch 1 - Score: 0.3053\n",
      "Epoch 1 - Save Best Score: 0.3053 Model\n"
     ]
    },
    {
     "name": "stdout",
     "output_type": "stream",
     "text": [
      "EVAL: [16/17] Data 0.000 (0.025) Elapsed 0m 4s (remain 0m 0s) \n",
      "Epoch: [2][0/81] Data 0.540 (0.540) Elapsed 0m 1s (remain 1m 38s) Loss: 2.0710(2.0710) Grad Norm: 0.0000  LR: 9.9598e-04  \n",
      "Epoch: [2][80/81] Data 0.000 (0.007) Elapsed 1m 13s (remain 0m 0s) Loss: 2.1274(2.2022) Grad Norm: 7.3262  LR: 9.9598e-04  \n",
      "EVAL: [0/17] Data 0.365 (0.365) Elapsed 0m 0s (remain 0m 10s) \n"
     ]
    },
    {
     "name": "stderr",
     "output_type": "stream",
     "text": [
      "labels: [ 5  2 11 10  8]\n",
      "pred_labels: [6 5 6 3 8]\n",
      "Epoch 2 - avg_train_loss: 2.2022  lr: 9.9598e-04  time: 78s\n",
      "Epoch 2 - Score: 0.3511\n",
      "Epoch 2 - Save Best Score: 0.3511 Model\n"
     ]
    },
    {
     "name": "stdout",
     "output_type": "stream",
     "text": [
      "EVAL: [16/17] Data 0.000 (0.022) Elapsed 0m 4s (remain 0m 0s) \n",
      "Epoch: [3][0/81] Data 0.573 (0.573) Elapsed 0m 1s (remain 1m 40s) Loss: 2.4082(2.4082) Grad Norm: 0.0000  LR: 9.8599e-04  \n",
      "Epoch: [3][80/81] Data 0.000 (0.007) Elapsed 1m 13s (remain 0m 0s) Loss: 2.4184(1.9772) Grad Norm: 6.4414  LR: 9.8599e-04  \n",
      "EVAL: [0/17] Data 0.372 (0.372) Elapsed 0m 0s (remain 0m 10s) \n"
     ]
    },
    {
     "name": "stderr",
     "output_type": "stream",
     "text": [
      "labels: [ 5  2 11 10  8]\n",
      "pred_labels: [ 6  5 11  2  8]\n",
      "Epoch 3 - avg_train_loss: 1.9772  lr: 9.8599e-04  time: 78s\n",
      "Epoch 3 - Score: 0.4809\n",
      "Epoch 3 - Save Best Score: 0.4809 Model\n"
     ]
    },
    {
     "name": "stdout",
     "output_type": "stream",
     "text": [
      "EVAL: [16/17] Data 0.000 (0.022) Elapsed 0m 4s (remain 0m 0s) \n",
      "Epoch: [4][0/81] Data 0.574 (0.574) Elapsed 0m 1s (remain 1m 40s) Loss: 1.5510(1.5510) Grad Norm: 0.0000  LR: 9.7213e-04  \n",
      "Epoch: [4][80/81] Data 0.000 (0.007) Elapsed 1m 13s (remain 0m 0s) Loss: 1.8391(1.6978) Grad Norm: 5.8785  LR: 9.7213e-04  \n",
      "EVAL: [0/17] Data 0.366 (0.366) Elapsed 0m 0s (remain 0m 9s) \n"
     ]
    },
    {
     "name": "stderr",
     "output_type": "stream",
     "text": [
      "labels: [ 5  2 11 10  8]\n",
      "pred_labels: [5 5 8 3 8]\n",
      "Epoch 4 - avg_train_loss: 1.6978  lr: 9.7213e-04  time: 78s\n",
      "Epoch 4 - Score: 0.4962\n",
      "Epoch 4 - Save Best Score: 0.4962 Model\n"
     ]
    },
    {
     "name": "stdout",
     "output_type": "stream",
     "text": [
      "EVAL: [16/17] Data 0.000 (0.022) Elapsed 0m 4s (remain 0m 0s) \n",
      "Epoch: [5][0/81] Data 0.541 (0.541) Elapsed 0m 1s (remain 1m 37s) Loss: 1.9554(1.9554) Grad Norm: 0.0000  LR: 9.5449e-04  \n",
      "Epoch: [5][80/81] Data 0.000 (0.007) Elapsed 1m 13s (remain 0m 0s) Loss: 1.9227(1.5098) Grad Norm: 7.7599  LR: 9.5449e-04  \n",
      "EVAL: [0/17] Data 0.449 (0.449) Elapsed 0m 0s (remain 0m 11s) \n"
     ]
    },
    {
     "name": "stderr",
     "output_type": "stream",
     "text": [
      "labels: [ 5  2 11 10  8]\n",
      "pred_labels: [ 1  5 11  2  8]\n",
      "Epoch 5 - avg_train_loss: 1.5098  lr: 9.5449e-04  time: 78s\n",
      "Epoch 5 - Score: 0.4962\n"
     ]
    },
    {
     "name": "stdout",
     "output_type": "stream",
     "text": [
      "EVAL: [16/17] Data 0.000 (0.027) Elapsed 0m 4s (remain 0m 0s) \n",
      "Epoch: [6][0/81] Data 0.556 (0.556) Elapsed 0m 1s (remain 1m 36s) Loss: 1.6829(1.6829) Grad Norm: 0.0000  LR: 9.3324e-04  \n",
      "Epoch: [6][80/81] Data 0.000 (0.007) Elapsed 1m 13s (remain 0m 0s) Loss: 1.5670(1.3979) Grad Norm: 6.8795  LR: 9.3324e-04  \n",
      "EVAL: [0/17] Data 0.364 (0.364) Elapsed 0m 0s (remain 0m 10s) \n"
     ]
    },
    {
     "name": "stderr",
     "output_type": "stream",
     "text": [
      "labels: [ 5  2 11 10  8]\n",
      "pred_labels: [2 5 8 2 8]\n",
      "Epoch 6 - avg_train_loss: 1.3979  lr: 9.3324e-04  time: 78s\n",
      "Epoch 6 - Score: 0.5191\n",
      "Epoch 6 - Save Best Score: 0.5191 Model\n"
     ]
    },
    {
     "name": "stdout",
     "output_type": "stream",
     "text": [
      "EVAL: [16/17] Data 0.000 (0.022) Elapsed 0m 4s (remain 0m 0s) \n",
      "Epoch: [7][0/81] Data 0.515 (0.515) Elapsed 0m 1s (remain 1m 38s) Loss: 1.8660(1.8660) Grad Norm: 0.0000  LR: 9.0853e-04  \n",
      "Epoch: [7][80/81] Data 0.000 (0.007) Elapsed 1m 13s (remain 0m 0s) Loss: 1.4810(1.2739) Grad Norm: 7.4439  LR: 9.0853e-04  \n",
      "EVAL: [0/17] Data 0.435 (0.435) Elapsed 0m 0s (remain 0m 10s) \n"
     ]
    },
    {
     "name": "stderr",
     "output_type": "stream",
     "text": [
      "labels: [ 5  2 11 10  8]\n",
      "pred_labels: [ 2  5 11  2  8]\n",
      "Epoch 7 - avg_train_loss: 1.2739  lr: 9.0853e-04  time: 78s\n",
      "Epoch 7 - Score: 0.5573\n",
      "Epoch 7 - Save Best Score: 0.5573 Model\n"
     ]
    },
    {
     "name": "stdout",
     "output_type": "stream",
     "text": [
      "EVAL: [16/17] Data 0.000 (0.026) Elapsed 0m 4s (remain 0m 0s) \n",
      "Epoch: [8][0/81] Data 0.483 (0.483) Elapsed 0m 1s (remain 1m 37s) Loss: 0.1799(0.1799) Grad Norm: 0.0000  LR: 8.8057e-04  \n",
      "Epoch: [8][80/81] Data 0.000 (0.006) Elapsed 1m 13s (remain 0m 0s) Loss: 2.5229(1.1003) Grad Norm: 7.2272  LR: 8.8057e-04  \n",
      "EVAL: [0/17] Data 0.403 (0.403) Elapsed 0m 0s (remain 0m 10s) \n"
     ]
    },
    {
     "name": "stderr",
     "output_type": "stream",
     "text": [
      "labels: [ 5  2 11 10  8]\n",
      "pred_labels: [ 5  5 11  4  8]\n",
      "Epoch 8 - avg_train_loss: 1.1003  lr: 8.8057e-04  time: 78s\n",
      "Epoch 8 - Score: 0.5496\n"
     ]
    },
    {
     "name": "stdout",
     "output_type": "stream",
     "text": [
      "EVAL: [16/17] Data 0.000 (0.024) Elapsed 0m 4s (remain 0m 0s) \n",
      "Epoch: [9][0/81] Data 0.515 (0.515) Elapsed 0m 1s (remain 1m 37s) Loss: 1.6320(1.6320) Grad Norm: 0.0000  LR: 8.4958e-04  \n",
      "Epoch: [9][80/81] Data 0.000 (0.007) Elapsed 1m 13s (remain 0m 0s) Loss: 0.2934(1.0174) Grad Norm: 6.3783  LR: 8.4958e-04  \n",
      "EVAL: [0/17] Data 0.425 (0.425) Elapsed 0m 0s (remain 0m 10s) \n"
     ]
    },
    {
     "name": "stderr",
     "output_type": "stream",
     "text": [
      "labels: [ 5  2 11 10  8]\n",
      "pred_labels: [ 5  5 11  4  8]\n",
      "Epoch 9 - avg_train_loss: 1.0174  lr: 8.4958e-04  time: 78s\n",
      "Epoch 9 - Score: 0.4809\n"
     ]
    },
    {
     "name": "stdout",
     "output_type": "stream",
     "text": [
      "EVAL: [16/17] Data 0.000 (0.025) Elapsed 0m 4s (remain 0m 0s) \n",
      "Epoch: [10][0/81] Data 0.513 (0.513) Elapsed 0m 1s (remain 1m 32s) Loss: 0.4805(0.4805) Grad Norm: 0.0000  LR: 8.1581e-04  \n",
      "Epoch: [10][80/81] Data 0.000 (0.007) Elapsed 1m 13s (remain 0m 0s) Loss: 1.0933(0.9063) Grad Norm: 5.7974  LR: 8.1581e-04  \n",
      "EVAL: [0/17] Data 0.391 (0.391) Elapsed 0m 0s (remain 0m 10s) \n"
     ]
    },
    {
     "name": "stderr",
     "output_type": "stream",
     "text": [
      "labels: [ 5  2 11 10  8]\n",
      "pred_labels: [ 2  5 11  4  8]\n",
      "Epoch 10 - avg_train_loss: 0.9063  lr: 8.1581e-04  time: 78s\n",
      "Epoch 10 - Score: 0.5802\n",
      "Epoch 10 - Save Best Score: 0.5802 Model\n"
     ]
    },
    {
     "name": "stdout",
     "output_type": "stream",
     "text": [
      "EVAL: [16/17] Data 0.000 (0.023) Elapsed 0m 4s (remain 0m 0s) \n",
      "Epoch: [11][0/81] Data 0.582 (0.582) Elapsed 0m 1s (remain 1m 40s) Loss: 1.2491(1.2491) Grad Norm: 0.0000  LR: 7.7953e-04  \n",
      "Epoch: [11][80/81] Data 0.000 (0.007) Elapsed 1m 13s (remain 0m 0s) Loss: 1.1568(0.9157) Grad Norm: 4.7908  LR: 7.7953e-04  \n",
      "EVAL: [0/17] Data 0.353 (0.353) Elapsed 0m 0s (remain 0m 9s) \n"
     ]
    },
    {
     "name": "stderr",
     "output_type": "stream",
     "text": [
      "labels: [ 5  2 11 10  8]\n",
      "pred_labels: [ 6  5 10  4  8]\n",
      "Epoch 11 - avg_train_loss: 0.9157  lr: 7.7953e-04  time: 78s\n",
      "Epoch 11 - Score: 0.5038\n"
     ]
    },
    {
     "name": "stdout",
     "output_type": "stream",
     "text": [
      "EVAL: [16/17] Data 0.000 (0.021) Elapsed 0m 4s (remain 0m 0s) \n",
      "Epoch: [12][0/81] Data 0.491 (0.491) Elapsed 0m 1s (remain 1m 33s) Loss: 0.1688(0.1688) Grad Norm: 0.0000  LR: 7.4103e-04  \n",
      "Epoch: [12][80/81] Data 0.000 (0.006) Elapsed 1m 13s (remain 0m 0s) Loss: 0.7929(0.9798) Grad Norm: 6.8308  LR: 7.4103e-04  \n",
      "EVAL: [0/17] Data 0.409 (0.409) Elapsed 0m 0s (remain 0m 10s) \n"
     ]
    },
    {
     "name": "stderr",
     "output_type": "stream",
     "text": [
      "labels: [ 5  2 11 10  8]\n",
      "pred_labels: [ 2  5 11  4  8]\n",
      "Epoch 12 - avg_train_loss: 0.9798  lr: 7.4103e-04  time: 78s\n",
      "Epoch 12 - Score: 0.5344\n"
     ]
    },
    {
     "name": "stdout",
     "output_type": "stream",
     "text": [
      "EVAL: [16/17] Data 0.000 (0.024) Elapsed 0m 4s (remain 0m 0s) \n",
      "Epoch: [13][0/81] Data 0.459 (0.459) Elapsed 0m 1s (remain 1m 32s) Loss: 1.0393(1.0393) Grad Norm: 0.0000  LR: 7.0063e-04  \n",
      "Epoch: [13][80/81] Data 0.000 (0.006) Elapsed 1m 12s (remain 0m 0s) Loss: 1.6141(1.0616) Grad Norm: 4.6108  LR: 7.0063e-04  \n",
      "EVAL: [0/17] Data 0.351 (0.351) Elapsed 0m 0s (remain 0m 9s) \n"
     ]
    },
    {
     "name": "stderr",
     "output_type": "stream",
     "text": [
      "labels: [ 5  2 11 10  8]\n",
      "pred_labels: [ 2 12 11  4  8]\n",
      "Epoch 13 - avg_train_loss: 1.0616  lr: 7.0063e-04  time: 78s\n",
      "Epoch 13 - Score: 0.5420\n"
     ]
    },
    {
     "name": "stdout",
     "output_type": "stream",
     "text": [
      "EVAL: [16/17] Data 0.000 (0.021) Elapsed 0m 4s (remain 0m 0s) \n",
      "Epoch: [14][0/81] Data 0.572 (0.572) Elapsed 0m 1s (remain 1m 39s) Loss: 0.9845(0.9845) Grad Norm: 0.0000  LR: 6.5865e-04  \n",
      "Epoch: [14][80/81] Data 0.000 (0.007) Elapsed 1m 13s (remain 0m 0s) Loss: 0.5377(0.9505) Grad Norm: 4.2455  LR: 6.5865e-04  \n",
      "EVAL: [0/17] Data 0.389 (0.389) Elapsed 0m 0s (remain 0m 10s) \n"
     ]
    },
    {
     "name": "stderr",
     "output_type": "stream",
     "text": [
      "labels: [ 5  2 11 10  8]\n",
      "pred_labels: [ 2  5 11  4  8]\n",
      "Epoch 14 - avg_train_loss: 0.9505  lr: 6.5865e-04  time: 78s\n",
      "Epoch 14 - Score: 0.5878\n",
      "Epoch 14 - Save Best Score: 0.5878 Model\n"
     ]
    },
    {
     "name": "stdout",
     "output_type": "stream",
     "text": [
      "EVAL: [16/17] Data 0.000 (0.023) Elapsed 0m 4s (remain 0m 0s) \n",
      "Epoch: [15][0/81] Data 0.533 (0.533) Elapsed 0m 1s (remain 1m 40s) Loss: 1.3311(1.3311) Grad Norm: 0.0000  LR: 6.1542e-04  \n",
      "Epoch: [15][80/81] Data 0.000 (0.007) Elapsed 1m 12s (remain 0m 0s) Loss: 1.2496(0.8463) Grad Norm: 3.9971  LR: 6.1542e-04  \n",
      "EVAL: [0/17] Data 0.337 (0.337) Elapsed 0m 0s (remain 0m 9s) \n"
     ]
    },
    {
     "name": "stderr",
     "output_type": "stream",
     "text": [
      "labels: [ 5  2 11 10  8]\n",
      "pred_labels: [3 2 8 3 8]\n",
      "Epoch 15 - avg_train_loss: 0.8463  lr: 6.1542e-04  time: 78s\n",
      "Epoch 15 - Score: 0.5038\n"
     ]
    },
    {
     "name": "stdout",
     "output_type": "stream",
     "text": [
      "EVAL: [16/17] Data 0.000 (0.020) Elapsed 0m 4s (remain 0m 0s) \n",
      "Epoch: [16][0/81] Data 0.529 (0.529) Elapsed 0m 1s (remain 1m 34s) Loss: 1.3429(1.3429) Grad Norm: 0.0000  LR: 5.7130e-04  \n",
      "Epoch: [16][80/81] Data 0.000 (0.007) Elapsed 1m 12s (remain 0m 0s) Loss: 1.4449(0.7956) Grad Norm: 5.5099  LR: 5.7130e-04  \n",
      "EVAL: [0/17] Data 0.385 (0.385) Elapsed 0m 0s (remain 0m 9s) \n"
     ]
    },
    {
     "name": "stderr",
     "output_type": "stream",
     "text": [
      "labels: [ 5  2 11 10  8]\n",
      "pred_labels: [ 2  5 11  4  8]\n",
      "Epoch 16 - avg_train_loss: 0.7956  lr: 5.7130e-04  time: 77s\n",
      "Epoch 16 - Score: 0.5496\n"
     ]
    },
    {
     "name": "stdout",
     "output_type": "stream",
     "text": [
      "EVAL: [16/17] Data 0.000 (0.023) Elapsed 0m 4s (remain 0m 0s) \n",
      "Epoch: [17][0/81] Data 0.514 (0.514) Elapsed 0m 1s (remain 1m 34s) Loss: 1.8118(1.8118) Grad Norm: 0.0000  LR: 5.2663e-04  \n",
      "Epoch: [17][80/81] Data 0.000 (0.007) Elapsed 1m 12s (remain 0m 0s) Loss: 0.2775(0.7156) Grad Norm: 3.4699  LR: 5.2663e-04  \n",
      "EVAL: [0/17] Data 0.358 (0.358) Elapsed 0m 0s (remain 0m 9s) \n"
     ]
    },
    {
     "name": "stderr",
     "output_type": "stream",
     "text": [
      "labels: [ 5  2 11 10  8]\n",
      "pred_labels: [ 2  5 11  5  8]\n",
      "Epoch 17 - avg_train_loss: 0.7156  lr: 5.2663e-04  time: 77s\n",
      "Epoch 17 - Score: 0.5725\n"
     ]
    },
    {
     "name": "stdout",
     "output_type": "stream",
     "text": [
      "EVAL: [16/17] Data 0.000 (0.021) Elapsed 0m 4s (remain 0m 0s) \n",
      "Epoch: [18][0/81] Data 0.482 (0.482) Elapsed 0m 1s (remain 1m 33s) Loss: 0.1333(0.1333) Grad Norm: 0.0000  LR: 4.8179e-04  \n",
      "Epoch: [18][80/81] Data 0.000 (0.006) Elapsed 1m 12s (remain 0m 0s) Loss: 0.2483(0.7742) Grad Norm: 4.2737  LR: 4.8179e-04  \n",
      "EVAL: [0/17] Data 0.334 (0.334) Elapsed 0m 0s (remain 0m 9s) \n"
     ]
    },
    {
     "name": "stderr",
     "output_type": "stream",
     "text": [
      "labels: [ 5  2 11 10  8]\n",
      "pred_labels: [ 2  5 11  2  8]\n",
      "Epoch 18 - avg_train_loss: 0.7742  lr: 4.8179e-04  time: 77s\n",
      "Epoch 18 - Score: 0.5878\n"
     ]
    },
    {
     "name": "stdout",
     "output_type": "stream",
     "text": [
      "EVAL: [16/17] Data 0.000 (0.020) Elapsed 0m 4s (remain 0m 0s) \n",
      "Epoch: [19][0/81] Data 0.448 (0.448) Elapsed 0m 1s (remain 1m 30s) Loss: 1.2766(1.2766) Grad Norm: 0.0000  LR: 4.3712e-04  \n",
      "Epoch: [19][80/81] Data 0.000 (0.006) Elapsed 1m 12s (remain 0m 0s) Loss: 1.4865(0.6838) Grad Norm: 4.1861  LR: 4.3712e-04  \n",
      "EVAL: [0/17] Data 0.397 (0.397) Elapsed 0m 0s (remain 0m 10s) \n"
     ]
    },
    {
     "name": "stderr",
     "output_type": "stream",
     "text": [
      "labels: [ 5  2 11 10  8]\n",
      "pred_labels: [11  5 11 10  8]\n",
      "Epoch 19 - avg_train_loss: 0.6838  lr: 4.3712e-04  time: 77s\n",
      "Epoch 19 - Score: 0.5802\n"
     ]
    },
    {
     "name": "stdout",
     "output_type": "stream",
     "text": [
      "EVAL: [16/17] Data 0.000 (0.024) Elapsed 0m 4s (remain 0m 0s) \n",
      "Epoch: [20][0/81] Data 0.454 (0.454) Elapsed 0m 1s (remain 1m 34s) Loss: 0.0372(0.0372) Grad Norm: 0.0000  LR: 3.9299e-04  \n",
      "Epoch: [20][80/81] Data 0.000 (0.006) Elapsed 1m 12s (remain 0m 0s) Loss: 1.1620(0.8422) Grad Norm: 4.9293  LR: 3.9299e-04  \n",
      "EVAL: [0/17] Data 0.335 (0.335) Elapsed 0m 0s (remain 0m 9s) \n"
     ]
    },
    {
     "name": "stderr",
     "output_type": "stream",
     "text": [
      "labels: [ 5  2 11 10  8]\n",
      "pred_labels: [ 2  5 11  3  8]\n",
      "Epoch 20 - avg_train_loss: 0.8422  lr: 3.9299e-04  time: 77s\n",
      "Epoch 20 - Score: 0.5649\n"
     ]
    },
    {
     "name": "stdout",
     "output_type": "stream",
     "text": [
      "EVAL: [16/17] Data 0.000 (0.020) Elapsed 0m 4s (remain 0m 0s) \n",
      "Epoch: [21][0/81] Data 0.523 (0.523) Elapsed 0m 1s (remain 1m 34s) Loss: 0.7944(0.7944) Grad Norm: 0.0000  LR: 3.4975e-04  \n",
      "Epoch: [21][80/81] Data 0.000 (0.007) Elapsed 1m 12s (remain 0m 0s) Loss: 0.0659(0.7305) Grad Norm: 3.4004  LR: 3.4975e-04  \n",
      "EVAL: [0/17] Data 0.380 (0.380) Elapsed 0m 0s (remain 0m 9s) \n"
     ]
    },
    {
     "name": "stderr",
     "output_type": "stream",
     "text": [
      "labels: [ 5  2 11 10  8]\n",
      "pred_labels: [ 2  5 11 10  8]\n",
      "Epoch 21 - avg_train_loss: 0.7305  lr: 3.4975e-04  time: 77s\n",
      "Epoch 21 - Score: 0.6260\n",
      "Epoch 21 - Save Best Score: 0.6260 Model\n"
     ]
    },
    {
     "name": "stdout",
     "output_type": "stream",
     "text": [
      "EVAL: [16/17] Data 0.000 (0.023) Elapsed 0m 4s (remain 0m 0s) \n",
      "Epoch: [22][0/81] Data 0.437 (0.437) Elapsed 0m 1s (remain 1m 31s) Loss: 1.2959(1.2959) Grad Norm: 0.0000  LR: 3.0775e-04  \n",
      "Epoch: [22][80/81] Data 0.000 (0.006) Elapsed 1m 12s (remain 0m 0s) Loss: 0.0534(0.7492) Grad Norm: 4.8624  LR: 3.0775e-04  \n",
      "EVAL: [0/17] Data 0.331 (0.331) Elapsed 0m 0s (remain 0m 9s) \n"
     ]
    },
    {
     "name": "stderr",
     "output_type": "stream",
     "text": [
      "labels: [ 5  2 11 10  8]\n",
      "pred_labels: [ 2  5 11 10  8]\n",
      "Epoch 22 - avg_train_loss: 0.7492  lr: 3.0775e-04  time: 77s\n",
      "Epoch 22 - Score: 0.6336\n",
      "Epoch 22 - Save Best Score: 0.6336 Model\n"
     ]
    },
    {
     "name": "stdout",
     "output_type": "stream",
     "text": [
      "EVAL: [16/17] Data 0.000 (0.020) Elapsed 0m 4s (remain 0m 0s) \n",
      "Epoch: [23][0/81] Data 0.580 (0.580) Elapsed 0m 1s (remain 1m 36s) Loss: 0.0488(0.0488) Grad Norm: 0.0000  LR: 2.6732e-04  \n",
      "Epoch: [23][80/81] Data 0.000 (0.007) Elapsed 1m 12s (remain 0m 0s) Loss: 1.2293(0.6588) Grad Norm: 4.2693  LR: 2.6732e-04  \n",
      "EVAL: [0/17] Data 0.308 (0.308) Elapsed 0m 0s (remain 0m 8s) \n"
     ]
    },
    {
     "name": "stderr",
     "output_type": "stream",
     "text": [
      "labels: [ 5  2 11 10  8]\n",
      "pred_labels: [11  2 11  5  8]\n",
      "Epoch 23 - avg_train_loss: 0.6588  lr: 2.6732e-04  time: 77s\n",
      "Epoch 23 - Score: 0.5954\n"
     ]
    },
    {
     "name": "stdout",
     "output_type": "stream",
     "text": [
      "EVAL: [16/17] Data 0.000 (0.018) Elapsed 0m 4s (remain 0m 0s) \n",
      "Epoch: [24][0/81] Data 0.526 (0.526) Elapsed 0m 1s (remain 1m 35s) Loss: 0.1770(0.1770) Grad Norm: 0.0000  LR: 2.2880e-04  \n",
      "Epoch: [24][80/81] Data 0.000 (0.007) Elapsed 1m 12s (remain 0m 0s) Loss: 1.8202(0.7446) Grad Norm: 4.1297  LR: 2.2880e-04  \n",
      "EVAL: [0/17] Data 0.348 (0.348) Elapsed 0m 0s (remain 0m 9s) \n"
     ]
    },
    {
     "name": "stderr",
     "output_type": "stream",
     "text": [
      "labels: [ 5  2 11 10  8]\n",
      "pred_labels: [11  5 11  4  8]\n",
      "Epoch 24 - avg_train_loss: 0.7446  lr: 2.2880e-04  time: 77s\n",
      "Epoch 24 - Score: 0.5954\n"
     ]
    },
    {
     "name": "stdout",
     "output_type": "stream",
     "text": [
      "EVAL: [16/17] Data 0.000 (0.021) Elapsed 0m 4s (remain 0m 0s) \n",
      "Epoch: [25][0/81] Data 0.480 (0.480) Elapsed 0m 1s (remain 1m 32s) Loss: 0.9305(0.9305) Grad Norm: 0.0000  LR: 1.9248e-04  \n",
      "Epoch: [25][80/81] Data 0.000 (0.006) Elapsed 1m 12s (remain 0m 0s) Loss: 0.0398(0.5988) Grad Norm: 4.3289  LR: 1.9248e-04  \n",
      "EVAL: [0/17] Data 0.338 (0.338) Elapsed 0m 0s (remain 0m 9s) \n"
     ]
    },
    {
     "name": "stderr",
     "output_type": "stream",
     "text": [
      "labels: [ 5  2 11 10  8]\n",
      "pred_labels: [11  5 11  4  8]\n",
      "Epoch 25 - avg_train_loss: 0.5988  lr: 1.9248e-04  time: 77s\n",
      "Epoch 25 - Score: 0.6412\n",
      "Epoch 25 - Save Best Score: 0.6412 Model\n"
     ]
    },
    {
     "name": "stdout",
     "output_type": "stream",
     "text": [
      "EVAL: [16/17] Data 0.000 (0.020) Elapsed 0m 4s (remain 0m 0s) \n",
      "Epoch: [26][0/81] Data 0.558 (0.558) Elapsed 0m 1s (remain 1m 35s) Loss: 0.1056(0.1056) Grad Norm: 0.0000  LR: 1.5867e-04  \n",
      "Epoch: [26][80/81] Data 0.000 (0.007) Elapsed 1m 12s (remain 0m 0s) Loss: 1.0864(0.6505) Grad Norm: 2.5200  LR: 1.5867e-04  \n",
      "EVAL: [0/17] Data 0.315 (0.315) Elapsed 0m 0s (remain 0m 9s) \n"
     ]
    },
    {
     "name": "stderr",
     "output_type": "stream",
     "text": [
      "labels: [ 5  2 11 10  8]\n",
      "pred_labels: [ 2  5 11  4  8]\n",
      "Epoch 26 - avg_train_loss: 0.6505  lr: 1.5867e-04  time: 77s\n",
      "Epoch 26 - Score: 0.6565\n",
      "Epoch 26 - Save Best Score: 0.6565 Model\n"
     ]
    },
    {
     "name": "stdout",
     "output_type": "stream",
     "text": [
      "EVAL: [16/17] Data 0.000 (0.019) Elapsed 0m 4s (remain 0m 0s) \n",
      "Epoch: [27][0/81] Data 0.420 (0.420) Elapsed 0m 1s (remain 1m 31s) Loss: 1.7566(1.7566) Grad Norm: 0.0000  LR: 1.2762e-04  \n",
      "Epoch: [27][80/81] Data 0.000 (0.006) Elapsed 1m 12s (remain 0m 0s) Loss: 0.0208(0.7206) Grad Norm: 3.2950  LR: 1.2762e-04  \n",
      "EVAL: [0/17] Data 0.627 (0.627) Elapsed 0m 0s (remain 0m 14s) \n"
     ]
    },
    {
     "name": "stderr",
     "output_type": "stream",
     "text": [
      "labels: [ 5  2 11 10  8]\n",
      "pred_labels: [ 2  5 11  4  8]\n",
      "Epoch 27 - avg_train_loss: 0.7206  lr: 1.2762e-04  time: 78s\n",
      "Epoch 27 - Score: 0.6336\n"
     ]
    },
    {
     "name": "stdout",
     "output_type": "stream",
     "text": [
      "EVAL: [16/17] Data 0.000 (0.037) Elapsed 0m 4s (remain 0m 0s) \n",
      "Epoch: [28][0/81] Data 0.492 (0.492) Elapsed 0m 1s (remain 1m 32s) Loss: 0.8021(0.8021) Grad Norm: 0.0000  LR: 9.9584e-05  \n",
      "Epoch: [28][80/81] Data 0.000 (0.006) Elapsed 1m 12s (remain 0m 0s) Loss: 1.5716(0.6353) Grad Norm: 2.6417  LR: 9.9584e-05  \n",
      "EVAL: [0/17] Data 0.325 (0.325) Elapsed 0m 0s (remain 0m 9s) \n"
     ]
    },
    {
     "name": "stderr",
     "output_type": "stream",
     "text": [
      "labels: [ 5  2 11 10  8]\n",
      "pred_labels: [ 2  5 11  4  8]\n",
      "Epoch 28 - avg_train_loss: 0.6353  lr: 9.9584e-05  time: 77s\n",
      "Epoch 28 - Score: 0.6336\n"
     ]
    },
    {
     "name": "stdout",
     "output_type": "stream",
     "text": [
      "EVAL: [16/17] Data 0.000 (0.019) Elapsed 0m 4s (remain 0m 0s) \n",
      "Epoch: [29][0/81] Data 0.541 (0.541) Elapsed 0m 1s (remain 1m 32s) Loss: 1.8990(1.8990) Grad Norm: 0.0000  LR: 7.4783e-05  \n",
      "Epoch: [29][80/81] Data 0.000 (0.007) Elapsed 1m 12s (remain 0m 0s) Loss: 0.0575(0.5565) Grad Norm: 3.4960  LR: 7.4783e-05  \n",
      "EVAL: [0/17] Data 0.298 (0.298) Elapsed 0m 0s (remain 0m 9s) \n"
     ]
    },
    {
     "name": "stderr",
     "output_type": "stream",
     "text": [
      "labels: [ 5  2 11 10  8]\n",
      "pred_labels: [ 2  5 11  4  8]\n",
      "Epoch 29 - avg_train_loss: 0.5565  lr: 7.4783e-05  time: 77s\n",
      "Epoch 29 - Score: 0.6489\n"
     ]
    },
    {
     "name": "stdout",
     "output_type": "stream",
     "text": [
      "EVAL: [16/17] Data 0.000 (0.018) Elapsed 0m 4s (remain 0m 0s) \n",
      "Epoch: [30][0/81] Data 0.392 (0.392) Elapsed 0m 1s (remain 1m 31s) Loss: 1.1402(1.1402) Grad Norm: 0.0000  LR: 5.3404e-05  \n",
      "Epoch: [30][80/81] Data 0.000 (0.005) Elapsed 1m 12s (remain 0m 0s) Loss: 0.8267(0.6526) Grad Norm: 0.5420  LR: 5.3404e-05  \n",
      "EVAL: [0/17] Data 0.342 (0.342) Elapsed 0m 0s (remain 0m 9s) \n"
     ]
    },
    {
     "name": "stderr",
     "output_type": "stream",
     "text": [
      "labels: [ 5  2 11 10  8]\n",
      "pred_labels: [ 2  5 11  4  8]\n",
      "Epoch 30 - avg_train_loss: 0.6526  lr: 5.3404e-05  time: 77s\n",
      "Epoch 30 - Score: 0.6336\n"
     ]
    },
    {
     "name": "stdout",
     "output_type": "stream",
     "text": [
      "EVAL: [16/17] Data 0.000 (0.020) Elapsed 0m 4s (remain 0m 0s) \n",
      "Epoch: [31][0/81] Data 0.399 (0.399) Elapsed 0m 1s (remain 1m 28s) Loss: 0.0241(0.0241) Grad Norm: 0.0000  LR: 3.5607e-05  \n",
      "Epoch: [31][80/81] Data 0.000 (0.005) Elapsed 1m 12s (remain 0m 0s) Loss: 0.0552(0.0490) Grad Norm: 0.7039  LR: 3.5607e-05  \n",
      "EVAL: [0/17] Data 0.341 (0.341) Elapsed 0m 0s (remain 0m 9s) \n"
     ]
    },
    {
     "name": "stderr",
     "output_type": "stream",
     "text": [
      "labels: [ 5  2 11 10  8]\n",
      "pred_labels: [ 2  5 11  4  8]\n",
      "Epoch 31 - avg_train_loss: 0.0490  lr: 3.5607e-05  time: 77s\n",
      "Epoch 31 - Score: 0.6183\n"
     ]
    },
    {
     "name": "stdout",
     "output_type": "stream",
     "text": [
      "EVAL: [16/17] Data 0.000 (0.020) Elapsed 0m 4s (remain 0m 0s) \n",
      "Epoch: [32][0/81] Data 0.545 (0.545) Elapsed 0m 1s (remain 1m 34s) Loss: 0.0238(0.0238) Grad Norm: 0.0000  LR: 2.1508e-05  \n",
      "Epoch: [32][80/81] Data 0.000 (0.007) Elapsed 1m 12s (remain 0m 0s) Loss: 0.0162(0.0351) Grad Norm: 0.2068  LR: 2.1508e-05  \n",
      "EVAL: [0/17] Data 0.293 (0.293) Elapsed 0m 0s (remain 0m 8s) \n"
     ]
    },
    {
     "name": "stderr",
     "output_type": "stream",
     "text": [
      "labels: [ 5  2 11 10  8]\n",
      "pred_labels: [ 2  5 11  4  8]\n",
      "Epoch 32 - avg_train_loss: 0.0351  lr: 2.1508e-05  time: 77s\n",
      "Epoch 32 - Score: 0.6489\n"
     ]
    },
    {
     "name": "stdout",
     "output_type": "stream",
     "text": [
      "EVAL: [16/17] Data 0.000 (0.017) Elapsed 0m 4s (remain 0m 0s) \n",
      "Epoch: [33][0/81] Data 0.478 (0.478) Elapsed 0m 1s (remain 1m 31s) Loss: 0.0105(0.0105) Grad Norm: 0.0000  LR: 1.1173e-05  \n",
      "Epoch: [33][80/81] Data 0.000 (0.006) Elapsed 1m 12s (remain 0m 0s) Loss: 0.0163(0.0371) Grad Norm: 0.1963  LR: 1.1173e-05  \n",
      "EVAL: [0/17] Data 0.335 (0.335) Elapsed 0m 0s (remain 0m 9s) \n"
     ]
    },
    {
     "name": "stderr",
     "output_type": "stream",
     "text": [
      "labels: [ 5  2 11 10  8]\n",
      "pred_labels: [ 2  5 11  4  8]\n",
      "Epoch 33 - avg_train_loss: 0.0371  lr: 1.1173e-05  time: 77s\n",
      "Epoch 33 - Score: 0.6260\n"
     ]
    },
    {
     "name": "stdout",
     "output_type": "stream",
     "text": [
      "EVAL: [16/17] Data 0.000 (0.020) Elapsed 0m 4s (remain 0m 0s) \n",
      "Epoch: [34][0/81] Data 0.499 (0.499) Elapsed 0m 1s (remain 1m 28s) Loss: 0.0479(0.0479) Grad Norm: 0.0000  LR: 4.5796e-06  \n",
      "Epoch: [34][80/81] Data 0.000 (0.006) Elapsed 1m 12s (remain 0m 0s) Loss: 0.0225(0.0232) Grad Norm: 0.3912  LR: 4.5796e-06  \n",
      "EVAL: [0/17] Data 0.330 (0.330) Elapsed 0m 0s (remain 0m 9s) \n"
     ]
    },
    {
     "name": "stderr",
     "output_type": "stream",
     "text": [
      "labels: [ 5  2 11 10  8]\n",
      "pred_labels: [ 2  5 11  4  8]\n",
      "Epoch 34 - avg_train_loss: 0.0232  lr: 4.5796e-06  time: 77s\n",
      "Epoch 34 - Score: 0.6183\n"
     ]
    },
    {
     "name": "stdout",
     "output_type": "stream",
     "text": [
      "EVAL: [16/17] Data 0.000 (0.020) Elapsed 0m 4s (remain 0m 0s) \n",
      "Epoch: [35][0/81] Data 0.474 (0.474) Elapsed 0m 1s (remain 1m 28s) Loss: 0.0078(0.0078) Grad Norm: 0.0000  LR: 1.5037e-06  \n",
      "Epoch: [35][80/81] Data 0.000 (0.006) Elapsed 1m 12s (remain 0m 0s) Loss: 0.0095(0.0282) Grad Norm: 0.6244  LR: 1.5037e-06  \n",
      "EVAL: [0/17] Data 0.326 (0.326) Elapsed 0m 0s (remain 0m 9s) \n"
     ]
    },
    {
     "name": "stderr",
     "output_type": "stream",
     "text": [
      "labels: [ 5  2 11 10  8]\n",
      "pred_labels: [ 2  5 11  4  8]\n",
      "Epoch 35 - avg_train_loss: 0.0282  lr: 1.5037e-06  time: 77s\n",
      "Epoch 35 - Score: 0.6489\n",
      "==================== fold: 4, seed: 2 training ====================\n"
     ]
    },
    {
     "name": "stdout",
     "output_type": "stream",
     "text": [
      "EVAL: [16/17] Data 0.000 (0.019) Elapsed 0m 4s (remain 0m 0s) \n",
      "Epoch: [1][0/81] Data 0.591 (0.591) Elapsed 0m 1s (remain 1m 36s) Loss: 2.6293(2.6293) Grad Norm: 0.0000  LR: 1.0000e-03  \n",
      "Epoch: [1][80/81] Data 0.000 (0.008) Elapsed 1m 13s (remain 0m 0s) Loss: 2.5623(2.5723) Grad Norm: 7.1650  LR: 1.0000e-03  \n",
      "EVAL: [0/17] Data 0.392 (0.392) Elapsed 0m 0s (remain 0m 10s) \n"
     ]
    },
    {
     "name": "stderr",
     "output_type": "stream",
     "text": [
      "labels: [8 6 2 3 6]\n",
      "pred_labels: [6 9 2 2 2]\n",
      "Epoch 1 - avg_train_loss: 2.5723  lr: 1.0000e-03  time: 78s\n",
      "Epoch 1 - Score: 0.2231\n",
      "Epoch 1 - Save Best Score: 0.2231 Model\n"
     ]
    },
    {
     "name": "stdout",
     "output_type": "stream",
     "text": [
      "EVAL: [16/17] Data 0.000 (0.023) Elapsed 0m 4s (remain 0m 0s) \n",
      "Epoch: [2][0/81] Data 0.853 (0.853) Elapsed 0m 1s (remain 1m 58s) Loss: 2.3258(2.3258) Grad Norm: 0.0000  LR: 9.9598e-04  \n",
      "Epoch: [2][80/81] Data 0.000 (0.011) Elapsed 1m 13s (remain 0m 0s) Loss: 1.7835(2.2305) Grad Norm: 6.4151  LR: 9.9598e-04  \n",
      "EVAL: [0/17] Data 0.359 (0.359) Elapsed 0m 0s (remain 0m 10s) \n"
     ]
    },
    {
     "name": "stderr",
     "output_type": "stream",
     "text": [
      "labels: [8 6 2 3 6]\n",
      "pred_labels: [6 2 5 2 2]\n",
      "Epoch 2 - avg_train_loss: 2.2305  lr: 9.9598e-04  time: 78s\n",
      "Epoch 2 - Score: 0.3615\n",
      "Epoch 2 - Save Best Score: 0.3615 Model\n"
     ]
    },
    {
     "name": "stdout",
     "output_type": "stream",
     "text": [
      "EVAL: [16/17] Data 0.000 (0.021) Elapsed 0m 4s (remain 0m 0s) \n",
      "Epoch: [3][0/81] Data 0.511 (0.511) Elapsed 0m 1s (remain 1m 38s) Loss: 1.6496(1.6496) Grad Norm: 0.0000  LR: 9.8599e-04  \n",
      "Epoch: [3][80/81] Data 0.000 (0.007) Elapsed 1m 13s (remain 0m 0s) Loss: 1.8453(1.9509) Grad Norm: 7.0420  LR: 9.8599e-04  \n",
      "EVAL: [0/17] Data 0.375 (0.375) Elapsed 0m 0s (remain 0m 10s) \n"
     ]
    },
    {
     "name": "stderr",
     "output_type": "stream",
     "text": [
      "labels: [8 6 2 3 6]\n",
      "pred_labels: [8 5 5 2 7]\n",
      "Epoch 3 - avg_train_loss: 1.9509  lr: 9.8599e-04  time: 78s\n",
      "Epoch 3 - Score: 0.4154\n",
      "Epoch 3 - Save Best Score: 0.4154 Model\n"
     ]
    },
    {
     "name": "stdout",
     "output_type": "stream",
     "text": [
      "EVAL: [16/17] Data 0.000 (0.022) Elapsed 0m 4s (remain 0m 0s) \n",
      "Epoch: [4][0/81] Data 0.540 (0.540) Elapsed 0m 1s (remain 1m 35s) Loss: 1.7374(1.7374) Grad Norm: 0.0000  LR: 9.7213e-04  \n",
      "Epoch: [4][80/81] Data 0.000 (0.007) Elapsed 1m 13s (remain 0m 0s) Loss: 2.3415(1.6938) Grad Norm: 6.5367  LR: 9.7213e-04  \n",
      "EVAL: [0/17] Data 0.419 (0.419) Elapsed 0m 0s (remain 0m 10s) \n"
     ]
    },
    {
     "name": "stderr",
     "output_type": "stream",
     "text": [
      "labels: [8 6 2 3 6]\n",
      "pred_labels: [8 6 2 2 2]\n",
      "Epoch 4 - avg_train_loss: 1.6938  lr: 9.7213e-04  time: 78s\n",
      "Epoch 4 - Score: 0.4692\n",
      "Epoch 4 - Save Best Score: 0.4692 Model\n"
     ]
    },
    {
     "name": "stdout",
     "output_type": "stream",
     "text": [
      "EVAL: [16/17] Data 0.000 (0.025) Elapsed 0m 4s (remain 0m 0s) \n",
      "Epoch: [5][0/81] Data 0.517 (0.517) Elapsed 0m 1s (remain 1m 36s) Loss: 1.3488(1.3488) Grad Norm: 0.0000  LR: 9.5449e-04  \n",
      "Epoch: [5][80/81] Data 0.000 (0.007) Elapsed 1m 13s (remain 0m 0s) Loss: 1.6221(1.5781) Grad Norm: 6.8609  LR: 9.5449e-04  \n",
      "EVAL: [0/17] Data 0.394 (0.394) Elapsed 0m 0s (remain 0m 10s) \n"
     ]
    },
    {
     "name": "stderr",
     "output_type": "stream",
     "text": [
      "labels: [8 6 2 3 6]\n",
      "pred_labels: [ 8  6  2  2 11]\n",
      "Epoch 5 - avg_train_loss: 1.5781  lr: 9.5449e-04  time: 78s\n",
      "Epoch 5 - Score: 0.5231\n",
      "Epoch 5 - Save Best Score: 0.5231 Model\n"
     ]
    },
    {
     "name": "stdout",
     "output_type": "stream",
     "text": [
      "EVAL: [16/17] Data 0.000 (0.023) Elapsed 0m 4s (remain 0m 0s) \n",
      "Epoch: [6][0/81] Data 0.482 (0.482) Elapsed 0m 1s (remain 1m 31s) Loss: 2.1568(2.1568) Grad Norm: 0.0000  LR: 9.3324e-04  \n",
      "Epoch: [6][80/81] Data 0.000 (0.006) Elapsed 1m 13s (remain 0m 0s) Loss: 1.4309(1.4190) Grad Norm: 6.3200  LR: 9.3324e-04  \n",
      "EVAL: [0/17] Data 0.390 (0.390) Elapsed 0m 0s (remain 0m 10s) \n"
     ]
    },
    {
     "name": "stderr",
     "output_type": "stream",
     "text": [
      "labels: [8 6 2 3 6]\n",
      "pred_labels: [8 0 2 2 2]\n",
      "Epoch 6 - avg_train_loss: 1.4190  lr: 9.3324e-04  time: 78s\n",
      "Epoch 6 - Score: 0.5692\n",
      "Epoch 6 - Save Best Score: 0.5692 Model\n"
     ]
    },
    {
     "name": "stdout",
     "output_type": "stream",
     "text": [
      "EVAL: [16/17] Data 0.000 (0.023) Elapsed 0m 4s (remain 0m 0s) \n",
      "Epoch: [7][0/81] Data 0.630 (0.630) Elapsed 0m 1s (remain 1m 46s) Loss: 1.7686(1.7686) Grad Norm: 0.0000  LR: 9.0853e-04  \n",
      "Epoch: [7][80/81] Data 0.000 (0.008) Elapsed 1m 13s (remain 0m 0s) Loss: 0.2691(1.2617) Grad Norm: 5.0488  LR: 9.0853e-04  \n",
      "EVAL: [0/17] Data 0.377 (0.377) Elapsed 0m 0s (remain 0m 9s) \n"
     ]
    },
    {
     "name": "stderr",
     "output_type": "stream",
     "text": [
      "labels: [8 6 2 3 6]\n",
      "pred_labels: [8 0 2 4 2]\n",
      "Epoch 7 - avg_train_loss: 1.2617  lr: 9.0853e-04  time: 78s\n",
      "Epoch 7 - Score: 0.5615\n"
     ]
    },
    {
     "name": "stdout",
     "output_type": "stream",
     "text": [
      "EVAL: [16/17] Data 0.000 (0.022) Elapsed 0m 4s (remain 0m 0s) \n",
      "Epoch: [8][0/81] Data 0.562 (0.562) Elapsed 0m 1s (remain 1m 36s) Loss: 0.7087(0.7087) Grad Norm: 0.0000  LR: 8.8057e-04  \n",
      "Epoch: [8][80/81] Data 0.000 (0.007) Elapsed 1m 13s (remain 0m 0s) Loss: 1.1173(1.0924) Grad Norm: 6.5211  LR: 8.8057e-04  \n",
      "EVAL: [0/17] Data 0.357 (0.357) Elapsed 0m 0s (remain 0m 9s) \n"
     ]
    },
    {
     "name": "stderr",
     "output_type": "stream",
     "text": [
      "labels: [8 6 2 3 6]\n",
      "pred_labels: [8 0 5 0 9]\n",
      "Epoch 8 - avg_train_loss: 1.0924  lr: 8.8057e-04  time: 78s\n",
      "Epoch 8 - Score: 0.5615\n"
     ]
    },
    {
     "name": "stdout",
     "output_type": "stream",
     "text": [
      "EVAL: [16/17] Data 0.000 (0.021) Elapsed 0m 4s (remain 0m 0s) \n",
      "Epoch: [9][0/81] Data 0.502 (0.502) Elapsed 0m 1s (remain 1m 36s) Loss: 1.4265(1.4265) Grad Norm: 0.0000  LR: 8.4958e-04  \n",
      "Epoch: [9][80/81] Data 0.000 (0.006) Elapsed 1m 13s (remain 0m 0s) Loss: 0.5995(1.0147) Grad Norm: 6.1482  LR: 8.4958e-04  \n",
      "EVAL: [0/17] Data 0.447 (0.447) Elapsed 0m 0s (remain 0m 10s) \n"
     ]
    },
    {
     "name": "stderr",
     "output_type": "stream",
     "text": [
      "labels: [8 6 2 3 6]\n",
      "pred_labels: [8 6 5 4 9]\n",
      "Epoch 9 - avg_train_loss: 1.0147  lr: 8.4958e-04  time: 78s\n",
      "Epoch 9 - Score: 0.5154\n"
     ]
    },
    {
     "name": "stdout",
     "output_type": "stream",
     "text": [
      "EVAL: [16/17] Data 0.000 (0.027) Elapsed 0m 4s (remain 0m 0s) \n",
      "Epoch: [10][0/81] Data 0.571 (0.571) Elapsed 0m 1s (remain 1m 36s) Loss: 1.8979(1.8979) Grad Norm: 0.0000  LR: 8.1581e-04  \n",
      "Epoch: [10][80/81] Data 0.000 (0.007) Elapsed 1m 13s (remain 0m 0s) Loss: 0.5337(0.9643) Grad Norm: 5.7291  LR: 8.1581e-04  \n",
      "EVAL: [0/17] Data 0.393 (0.393) Elapsed 0m 0s (remain 0m 10s) \n"
     ]
    },
    {
     "name": "stderr",
     "output_type": "stream",
     "text": [
      "labels: [8 6 2 3 6]\n",
      "pred_labels: [8 0 5 4 7]\n",
      "Epoch 10 - avg_train_loss: 0.9643  lr: 8.1581e-04  time: 78s\n",
      "Epoch 10 - Score: 0.5154\n"
     ]
    },
    {
     "name": "stdout",
     "output_type": "stream",
     "text": [
      "EVAL: [16/17] Data 0.000 (0.023) Elapsed 0m 4s (remain 0m 0s) \n",
      "Epoch: [11][0/81] Data 0.478 (0.478) Elapsed 0m 1s (remain 1m 35s) Loss: 0.6183(0.6183) Grad Norm: 0.0000  LR: 7.7953e-04  \n",
      "Epoch: [11][80/81] Data 0.000 (0.006) Elapsed 1m 13s (remain 0m 0s) Loss: 0.4077(1.0319) Grad Norm: 6.7937  LR: 7.7953e-04  \n",
      "EVAL: [0/17] Data 0.404 (0.404) Elapsed 0m 0s (remain 0m 10s) \n"
     ]
    },
    {
     "name": "stderr",
     "output_type": "stream",
     "text": [
      "labels: [8 6 2 3 6]\n",
      "pred_labels: [ 8 12  2  4  2]\n",
      "Epoch 11 - avg_train_loss: 1.0319  lr: 7.7953e-04  time: 78s\n",
      "Epoch 11 - Score: 0.5692\n"
     ]
    },
    {
     "name": "stdout",
     "output_type": "stream",
     "text": [
      "EVAL: [16/17] Data 0.000 (0.024) Elapsed 0m 4s (remain 0m 0s) \n",
      "Epoch: [12][0/81] Data 0.596 (0.596) Elapsed 0m 1s (remain 1m 37s) Loss: 0.7620(0.7620) Grad Norm: 0.0000  LR: 7.4103e-04  \n",
      "Epoch: [12][80/81] Data 0.000 (0.008) Elapsed 1m 13s (remain 0m 0s) Loss: 0.8259(1.0707) Grad Norm: 3.0076  LR: 7.4103e-04  \n",
      "EVAL: [0/17] Data 0.430 (0.430) Elapsed 0m 0s (remain 0m 10s) \n"
     ]
    },
    {
     "name": "stderr",
     "output_type": "stream",
     "text": [
      "labels: [8 6 2 3 6]\n",
      "pred_labels: [8 6 5 9 0]\n",
      "Epoch 12 - avg_train_loss: 1.0707  lr: 7.4103e-04  time: 78s\n",
      "Epoch 12 - Score: 0.5923\n",
      "Epoch 12 - Save Best Score: 0.5923 Model\n"
     ]
    },
    {
     "name": "stdout",
     "output_type": "stream",
     "text": [
      "EVAL: [16/17] Data 0.000 (0.026) Elapsed 0m 4s (remain 0m 0s) \n",
      "Epoch: [13][0/81] Data 0.605 (0.605) Elapsed 0m 1s (remain 1m 42s) Loss: 0.4470(0.4470) Grad Norm: 0.0000  LR: 7.0063e-04  \n",
      "Epoch: [13][80/81] Data 0.000 (0.008) Elapsed 1m 13s (remain 0m 0s) Loss: 0.0663(1.0018) Grad Norm: 4.1049  LR: 7.0063e-04  \n",
      "EVAL: [0/17] Data 0.337 (0.337) Elapsed 0m 0s (remain 0m 9s) \n"
     ]
    },
    {
     "name": "stderr",
     "output_type": "stream",
     "text": [
      "labels: [8 6 2 3 6]\n",
      "pred_labels: [8 6 5 4 2]\n",
      "Epoch 13 - avg_train_loss: 1.0018  lr: 7.0063e-04  time: 78s\n",
      "Epoch 13 - Score: 0.6231\n",
      "Epoch 13 - Save Best Score: 0.6231 Model\n"
     ]
    },
    {
     "name": "stdout",
     "output_type": "stream",
     "text": [
      "EVAL: [16/17] Data 0.000 (0.020) Elapsed 0m 4s (remain 0m 0s) \n",
      "Epoch: [14][0/81] Data 0.499 (0.499) Elapsed 0m 1s (remain 1m 34s) Loss: 0.2959(0.2959) Grad Norm: 0.0000  LR: 6.5865e-04  \n",
      "Epoch: [14][80/81] Data 0.000 (0.006) Elapsed 1m 12s (remain 0m 0s) Loss: 0.3300(0.8768) Grad Norm: 4.8325  LR: 6.5865e-04  \n",
      "EVAL: [0/17] Data 0.321 (0.321) Elapsed 0m 0s (remain 0m 9s) \n"
     ]
    },
    {
     "name": "stderr",
     "output_type": "stream",
     "text": [
      "labels: [8 6 2 3 6]\n",
      "pred_labels: [8 6 2 4 0]\n",
      "Epoch 14 - avg_train_loss: 0.8768  lr: 6.5865e-04  time: 77s\n",
      "Epoch 14 - Score: 0.6000\n"
     ]
    },
    {
     "name": "stdout",
     "output_type": "stream",
     "text": [
      "EVAL: [16/17] Data 0.000 (0.019) Elapsed 0m 4s (remain 0m 0s) \n",
      "Epoch: [15][0/81] Data 0.486 (0.486) Elapsed 0m 1s (remain 1m 30s) Loss: 1.6955(1.6955) Grad Norm: 0.0000  LR: 6.1542e-04  \n",
      "Epoch: [15][80/81] Data 0.000 (0.006) Elapsed 1m 12s (remain 0m 0s) Loss: 0.4955(0.9540) Grad Norm: 7.5881  LR: 6.1542e-04  \n",
      "EVAL: [0/17] Data 0.360 (0.360) Elapsed 0m 0s (remain 0m 9s) \n"
     ]
    },
    {
     "name": "stderr",
     "output_type": "stream",
     "text": [
      "labels: [8 6 2 3 6]\n",
      "pred_labels: [8 6 2 4 2]\n",
      "Epoch 15 - avg_train_loss: 0.9540  lr: 6.1542e-04  time: 77s\n",
      "Epoch 15 - Score: 0.6154\n"
     ]
    },
    {
     "name": "stdout",
     "output_type": "stream",
     "text": [
      "EVAL: [16/17] Data 0.000 (0.021) Elapsed 0m 4s (remain 0m 0s) \n",
      "Epoch: [16][0/81] Data 0.507 (0.507) Elapsed 0m 1s (remain 1m 32s) Loss: 1.8401(1.8401) Grad Norm: 0.0000  LR: 5.7130e-04  \n",
      "Epoch: [16][80/81] Data 0.000 (0.007) Elapsed 1m 12s (remain 0m 0s) Loss: 0.6894(0.8130) Grad Norm: 5.7790  LR: 5.7130e-04  \n",
      "EVAL: [0/17] Data 0.348 (0.348) Elapsed 0m 0s (remain 0m 9s) \n"
     ]
    },
    {
     "name": "stderr",
     "output_type": "stream",
     "text": [
      "labels: [8 6 2 3 6]\n",
      "pred_labels: [8 6 5 4 8]\n",
      "Epoch 16 - avg_train_loss: 0.8130  lr: 5.7130e-04  time: 77s\n",
      "Epoch 16 - Score: 0.5846\n"
     ]
    },
    {
     "name": "stdout",
     "output_type": "stream",
     "text": [
      "EVAL: [16/17] Data 0.000 (0.021) Elapsed 0m 4s (remain 0m 0s) \n",
      "Epoch: [17][0/81] Data 0.472 (0.472) Elapsed 0m 1s (remain 1m 35s) Loss: 0.4506(0.4506) Grad Norm: 0.0000  LR: 5.2663e-04  \n",
      "Epoch: [17][80/81] Data 0.000 (0.006) Elapsed 1m 12s (remain 0m 0s) Loss: 1.2264(0.7628) Grad Norm: 3.3072  LR: 5.2663e-04  \n",
      "EVAL: [0/17] Data 0.358 (0.358) Elapsed 0m 0s (remain 0m 9s) \n"
     ]
    },
    {
     "name": "stderr",
     "output_type": "stream",
     "text": [
      "labels: [8 6 2 3 6]\n",
      "pred_labels: [8 6 6 4 0]\n",
      "Epoch 17 - avg_train_loss: 0.7628  lr: 5.2663e-04  time: 77s\n",
      "Epoch 17 - Score: 0.6154\n"
     ]
    },
    {
     "name": "stdout",
     "output_type": "stream",
     "text": [
      "EVAL: [16/17] Data 0.000 (0.021) Elapsed 0m 4s (remain 0m 0s) \n",
      "Epoch: [18][0/81] Data 0.537 (0.537) Elapsed 0m 1s (remain 1m 32s) Loss: 1.6717(1.6717) Grad Norm: 0.0000  LR: 4.8179e-04  \n",
      "Epoch: [18][80/81] Data 0.000 (0.007) Elapsed 1m 12s (remain 0m 0s) Loss: 0.3596(0.7277) Grad Norm: 2.3968  LR: 4.8179e-04  \n",
      "EVAL: [0/17] Data 0.375 (0.375) Elapsed 0m 0s (remain 0m 9s) \n"
     ]
    },
    {
     "name": "stderr",
     "output_type": "stream",
     "text": [
      "labels: [8 6 2 3 6]\n",
      "pred_labels: [8 6 5 4 8]\n",
      "Epoch 18 - avg_train_loss: 0.7277  lr: 4.8179e-04  time: 77s\n",
      "Epoch 18 - Score: 0.6000\n"
     ]
    },
    {
     "name": "stdout",
     "output_type": "stream",
     "text": [
      "EVAL: [16/17] Data 0.000 (0.022) Elapsed 0m 4s (remain 0m 0s) \n",
      "Epoch: [19][0/81] Data 0.499 (0.499) Elapsed 0m 1s (remain 1m 31s) Loss: 0.0321(0.0321) Grad Norm: 0.0000  LR: 4.3712e-04  \n",
      "Epoch: [19][80/81] Data 0.000 (0.006) Elapsed 1m 12s (remain 0m 0s) Loss: 1.7888(0.7327) Grad Norm: 4.3765  LR: 4.3712e-04  \n",
      "EVAL: [0/17] Data 0.317 (0.317) Elapsed 0m 0s (remain 0m 8s) \n"
     ]
    },
    {
     "name": "stderr",
     "output_type": "stream",
     "text": [
      "labels: [8 6 2 3 6]\n",
      "pred_labels: [8 6 5 3 2]\n",
      "Epoch 19 - avg_train_loss: 0.7327  lr: 4.3712e-04  time: 77s\n",
      "Epoch 19 - Score: 0.6154\n"
     ]
    },
    {
     "name": "stdout",
     "output_type": "stream",
     "text": [
      "EVAL: [16/17] Data 0.000 (0.019) Elapsed 0m 4s (remain 0m 0s) \n",
      "Epoch: [20][0/81] Data 0.541 (0.541) Elapsed 0m 1s (remain 1m 36s) Loss: 0.1180(0.1180) Grad Norm: 0.0000  LR: 3.9299e-04  \n",
      "Epoch: [20][80/81] Data 0.000 (0.007) Elapsed 1m 12s (remain 0m 0s) Loss: 1.4701(0.6403) Grad Norm: 0.7369  LR: 3.9299e-04  \n",
      "EVAL: [0/17] Data 0.315 (0.315) Elapsed 0m 0s (remain 0m 8s) \n"
     ]
    },
    {
     "name": "stderr",
     "output_type": "stream",
     "text": [
      "labels: [8 6 2 3 6]\n",
      "pred_labels: [8 6 5 4 2]\n",
      "Epoch 20 - avg_train_loss: 0.6403  lr: 3.9299e-04  time: 77s\n",
      "Epoch 20 - Score: 0.6538\n",
      "Epoch 20 - Save Best Score: 0.6538 Model\n"
     ]
    },
    {
     "name": "stdout",
     "output_type": "stream",
     "text": [
      "EVAL: [16/17] Data 0.000 (0.019) Elapsed 0m 4s (remain 0m 0s) \n",
      "Epoch: [21][0/81] Data 0.418 (0.418) Elapsed 0m 1s (remain 1m 29s) Loss: 0.0488(0.0488) Grad Norm: 0.0000  LR: 3.4975e-04  \n",
      "Epoch: [21][80/81] Data 0.000 (0.005) Elapsed 1m 12s (remain 0m 0s) Loss: 1.0868(0.7503) Grad Norm: 5.9404  LR: 3.4975e-04  \n",
      "EVAL: [0/17] Data 0.347 (0.347) Elapsed 0m 0s (remain 0m 9s) \n"
     ]
    },
    {
     "name": "stderr",
     "output_type": "stream",
     "text": [
      "labels: [8 6 2 3 6]\n",
      "pred_labels: [8 6 5 9 2]\n",
      "Epoch 21 - avg_train_loss: 0.7503  lr: 3.4975e-04  time: 77s\n",
      "Epoch 21 - Score: 0.6231\n"
     ]
    },
    {
     "name": "stdout",
     "output_type": "stream",
     "text": [
      "EVAL: [16/17] Data 0.000 (0.021) Elapsed 0m 4s (remain 0m 0s) \n",
      "Epoch: [22][0/81] Data 0.512 (0.512) Elapsed 0m 1s (remain 1m 37s) Loss: 1.6190(1.6190) Grad Norm: 0.0000  LR: 3.0775e-04  \n",
      "Epoch: [22][80/81] Data 0.000 (0.007) Elapsed 1m 12s (remain 0m 0s) Loss: 0.9048(0.7146) Grad Norm: 4.2270  LR: 3.0775e-04  \n",
      "EVAL: [0/17] Data 0.371 (0.371) Elapsed 0m 0s (remain 0m 9s) \n"
     ]
    },
    {
     "name": "stderr",
     "output_type": "stream",
     "text": [
      "labels: [8 6 2 3 6]\n",
      "pred_labels: [8 6 6 2 2]\n",
      "Epoch 22 - avg_train_loss: 0.7146  lr: 3.0775e-04  time: 77s\n",
      "Epoch 22 - Score: 0.6000\n"
     ]
    },
    {
     "name": "stdout",
     "output_type": "stream",
     "text": [
      "EVAL: [16/17] Data 0.000 (0.022) Elapsed 0m 4s (remain 0m 0s) \n",
      "Epoch: [23][0/81] Data 0.492 (0.492) Elapsed 0m 1s (remain 1m 34s) Loss: 0.1516(0.1516) Grad Norm: 0.0000  LR: 2.6732e-04  \n",
      "Epoch: [23][80/81] Data 0.000 (0.006) Elapsed 1m 12s (remain 0m 0s) Loss: 0.0330(0.6428) Grad Norm: 1.1030  LR: 2.6732e-04  \n",
      "EVAL: [0/17] Data 0.338 (0.338) Elapsed 0m 0s (remain 0m 9s) \n"
     ]
    },
    {
     "name": "stderr",
     "output_type": "stream",
     "text": [
      "labels: [8 6 2 3 6]\n",
      "pred_labels: [8 6 6 2 2]\n",
      "Epoch 23 - avg_train_loss: 0.6428  lr: 2.6732e-04  time: 77s\n",
      "Epoch 23 - Score: 0.6154\n"
     ]
    },
    {
     "name": "stdout",
     "output_type": "stream",
     "text": [
      "EVAL: [16/17] Data 0.000 (0.020) Elapsed 0m 4s (remain 0m 0s) \n",
      "Epoch: [24][0/81] Data 0.458 (0.458) Elapsed 0m 1s (remain 1m 30s) Loss: 0.9245(0.9245) Grad Norm: 0.0000  LR: 2.2880e-04  \n",
      "Epoch: [24][80/81] Data 0.000 (0.006) Elapsed 1m 12s (remain 0m 0s) Loss: 1.2107(0.7409) Grad Norm: 3.4707  LR: 2.2880e-04  \n",
      "EVAL: [0/17] Data 0.417 (0.417) Elapsed 0m 0s (remain 0m 10s) \n"
     ]
    },
    {
     "name": "stderr",
     "output_type": "stream",
     "text": [
      "labels: [8 6 2 3 6]\n",
      "pred_labels: [8 6 2 4 2]\n",
      "Epoch 24 - avg_train_loss: 0.7409  lr: 2.2880e-04  time: 77s\n",
      "Epoch 24 - Score: 0.6385\n"
     ]
    },
    {
     "name": "stdout",
     "output_type": "stream",
     "text": [
      "EVAL: [16/17] Data 0.000 (0.025) Elapsed 0m 4s (remain 0m 0s) \n",
      "Epoch: [25][0/81] Data 0.460 (0.460) Elapsed 0m 1s (remain 1m 30s) Loss: 1.2885(1.2885) Grad Norm: 0.0000  LR: 1.9248e-04  \n",
      "Epoch: [25][80/81] Data 0.000 (0.006) Elapsed 1m 12s (remain 0m 0s) Loss: 0.0307(0.6377) Grad Norm: 0.7153  LR: 1.9248e-04  \n",
      "EVAL: [0/17] Data 0.318 (0.318) Elapsed 0m 0s (remain 0m 8s) \n"
     ]
    },
    {
     "name": "stderr",
     "output_type": "stream",
     "text": [
      "labels: [8 6 2 3 6]\n",
      "pred_labels: [8 6 2 0 2]\n",
      "Epoch 25 - avg_train_loss: 0.6377  lr: 1.9248e-04  time: 77s\n",
      "Epoch 25 - Score: 0.6308\n"
     ]
    },
    {
     "name": "stdout",
     "output_type": "stream",
     "text": [
      "EVAL: [16/17] Data 0.000 (0.019) Elapsed 0m 4s (remain 0m 0s) \n",
      "Epoch: [26][0/81] Data 0.423 (0.423) Elapsed 0m 1s (remain 1m 31s) Loss: 1.3309(1.3309) Grad Norm: 0.0000  LR: 1.5867e-04  \n",
      "Epoch: [26][80/81] Data 0.000 (0.005) Elapsed 1m 12s (remain 0m 0s) Loss: 0.0318(0.5999) Grad Norm: 4.5311  LR: 1.5867e-04  \n",
      "EVAL: [0/17] Data 0.352 (0.352) Elapsed 0m 0s (remain 0m 9s) \n"
     ]
    },
    {
     "name": "stderr",
     "output_type": "stream",
     "text": [
      "labels: [8 6 2 3 6]\n",
      "pred_labels: [8 6 2 2 2]\n",
      "Epoch 26 - avg_train_loss: 0.5999  lr: 1.5867e-04  time: 77s\n",
      "Epoch 26 - Score: 0.6154\n"
     ]
    },
    {
     "name": "stdout",
     "output_type": "stream",
     "text": [
      "EVAL: [16/17] Data 0.000 (0.021) Elapsed 0m 4s (remain 0m 0s) \n",
      "Epoch: [27][0/81] Data 0.476 (0.476) Elapsed 0m 1s (remain 1m 29s) Loss: 0.8652(0.8652) Grad Norm: 0.0000  LR: 1.2762e-04  \n",
      "Epoch: [27][80/81] Data 0.000 (0.006) Elapsed 1m 12s (remain 0m 0s) Loss: 0.0625(0.5932) Grad Norm: 3.4742  LR: 1.2762e-04  \n",
      "EVAL: [0/17] Data 0.311 (0.311) Elapsed 0m 0s (remain 0m 9s) \n"
     ]
    },
    {
     "name": "stderr",
     "output_type": "stream",
     "text": [
      "labels: [8 6 2 3 6]\n",
      "pred_labels: [8 0 5 4 2]\n",
      "Epoch 27 - avg_train_loss: 0.5932  lr: 1.2762e-04  time: 77s\n",
      "Epoch 27 - Score: 0.6000\n"
     ]
    },
    {
     "name": "stdout",
     "output_type": "stream",
     "text": [
      "EVAL: [16/17] Data 0.000 (0.019) Elapsed 0m 4s (remain 0m 0s) \n",
      "Epoch: [28][0/81] Data 0.496 (0.496) Elapsed 0m 1s (remain 1m 33s) Loss: 1.2434(1.2434) Grad Norm: 0.0000  LR: 9.9584e-05  \n",
      "Epoch: [28][80/81] Data 0.000 (0.006) Elapsed 1m 12s (remain 0m 0s) Loss: 0.0161(0.5549) Grad Norm: 2.1515  LR: 9.9584e-05  \n",
      "EVAL: [0/17] Data 0.353 (0.353) Elapsed 0m 0s (remain 0m 9s) \n"
     ]
    },
    {
     "name": "stderr",
     "output_type": "stream",
     "text": [
      "labels: [8 6 2 3 6]\n",
      "pred_labels: [8 6 2 3 2]\n",
      "Epoch 28 - avg_train_loss: 0.5549  lr: 9.9584e-05  time: 77s\n",
      "Epoch 28 - Score: 0.6308\n"
     ]
    },
    {
     "name": "stdout",
     "output_type": "stream",
     "text": [
      "EVAL: [16/17] Data 0.000 (0.021) Elapsed 0m 4s (remain 0m 0s) \n",
      "Epoch: [29][0/81] Data 0.523 (0.523) Elapsed 0m 1s (remain 1m 33s) Loss: 0.4947(0.4947) Grad Norm: 0.0000  LR: 7.4783e-05  \n",
      "Epoch: [29][80/81] Data 0.000 (0.007) Elapsed 1m 12s (remain 0m 0s) Loss: 1.0896(0.6144) Grad Norm: 3.3160  LR: 7.4783e-05  \n",
      "EVAL: [0/17] Data 0.344 (0.344) Elapsed 0m 0s (remain 0m 9s) \n"
     ]
    },
    {
     "name": "stderr",
     "output_type": "stream",
     "text": [
      "labels: [8 6 2 3 6]\n",
      "pred_labels: [8 6 5 4 2]\n",
      "Epoch 29 - avg_train_loss: 0.6144  lr: 7.4783e-05  time: 77s\n",
      "Epoch 29 - Score: 0.6154\n"
     ]
    },
    {
     "name": "stdout",
     "output_type": "stream",
     "text": [
      "EVAL: [16/17] Data 0.000 (0.021) Elapsed 0m 4s (remain 0m 0s) \n",
      "Epoch: [30][0/81] Data 0.542 (0.542) Elapsed 0m 1s (remain 1m 37s) Loss: 0.8632(0.8632) Grad Norm: 0.0000  LR: 5.3404e-05  \n",
      "Epoch: [30][80/81] Data 0.000 (0.007) Elapsed 1m 12s (remain 0m 0s) Loss: 1.1571(0.5232) Grad Norm: 0.9085  LR: 5.3404e-05  \n",
      "EVAL: [0/17] Data 0.356 (0.356) Elapsed 0m 0s (remain 0m 9s) \n"
     ]
    },
    {
     "name": "stderr",
     "output_type": "stream",
     "text": [
      "labels: [8 6 2 3 6]\n",
      "pred_labels: [8 6 5 4 2]\n",
      "Epoch 30 - avg_train_loss: 0.5232  lr: 5.3404e-05  time: 77s\n",
      "Epoch 30 - Score: 0.6154\n"
     ]
    },
    {
     "name": "stdout",
     "output_type": "stream",
     "text": [
      "EVAL: [16/17] Data 0.000 (0.021) Elapsed 0m 4s (remain 0m 0s) \n",
      "Epoch: [31][0/81] Data 0.514 (0.514) Elapsed 0m 1s (remain 1m 35s) Loss: 0.1015(0.1015) Grad Norm: 0.0000  LR: 3.5607e-05  \n",
      "Epoch: [31][80/81] Data 0.000 (0.007) Elapsed 1m 12s (remain 0m 0s) Loss: 0.0275(0.0529) Grad Norm: 2.3054  LR: 3.5607e-05  \n",
      "EVAL: [0/17] Data 0.415 (0.415) Elapsed 0m 0s (remain 0m 10s) \n"
     ]
    },
    {
     "name": "stderr",
     "output_type": "stream",
     "text": [
      "labels: [8 6 2 3 6]\n",
      "pred_labels: [8 6 5 4 2]\n",
      "Epoch 31 - avg_train_loss: 0.0529  lr: 3.5607e-05  time: 77s\n",
      "Epoch 31 - Score: 0.6385\n"
     ]
    },
    {
     "name": "stdout",
     "output_type": "stream",
     "text": [
      "EVAL: [16/17] Data 0.000 (0.025) Elapsed 0m 4s (remain 0m 0s) \n",
      "Epoch: [32][0/81] Data 0.500 (0.500) Elapsed 0m 1s (remain 1m 31s) Loss: 0.0095(0.0095) Grad Norm: 0.0000  LR: 2.1508e-05  \n",
      "Epoch: [32][80/81] Data 0.000 (0.006) Elapsed 1m 12s (remain 0m 0s) Loss: 0.0230(0.0369) Grad Norm: 0.2405  LR: 2.1508e-05  \n",
      "EVAL: [0/17] Data 0.334 (0.334) Elapsed 0m 0s (remain 0m 9s) \n"
     ]
    },
    {
     "name": "stderr",
     "output_type": "stream",
     "text": [
      "labels: [8 6 2 3 6]\n",
      "pred_labels: [8 6 2 4 2]\n",
      "Epoch 32 - avg_train_loss: 0.0369  lr: 2.1508e-05  time: 77s\n",
      "Epoch 32 - Score: 0.6385\n"
     ]
    },
    {
     "name": "stdout",
     "output_type": "stream",
     "text": [
      "EVAL: [16/17] Data 0.000 (0.020) Elapsed 0m 4s (remain 0m 0s) \n",
      "Epoch: [33][0/81] Data 0.408 (0.408) Elapsed 0m 1s (remain 1m 24s) Loss: 0.0621(0.0621) Grad Norm: 0.0000  LR: 1.1173e-05  \n",
      "Epoch: [33][80/81] Data 0.000 (0.005) Elapsed 1m 12s (remain 0m 0s) Loss: 0.0126(0.0233) Grad Norm: 1.1424  LR: 1.1173e-05  \n",
      "EVAL: [0/17] Data 0.313 (0.313) Elapsed 0m 0s (remain 0m 9s) \n"
     ]
    },
    {
     "name": "stderr",
     "output_type": "stream",
     "text": [
      "labels: [8 6 2 3 6]\n",
      "pred_labels: [8 6 2 2 2]\n",
      "Epoch 33 - avg_train_loss: 0.0233  lr: 1.1173e-05  time: 77s\n",
      "Epoch 33 - Score: 0.6538\n"
     ]
    },
    {
     "name": "stdout",
     "output_type": "stream",
     "text": [
      "EVAL: [16/17] Data 0.000 (0.019) Elapsed 0m 4s (remain 0m 0s) \n",
      "Epoch: [34][0/81] Data 0.455 (0.455) Elapsed 0m 1s (remain 1m 32s) Loss: 0.0349(0.0349) Grad Norm: 0.0000  LR: 4.5796e-06  \n",
      "Epoch: [34][80/81] Data 0.000 (0.006) Elapsed 1m 12s (remain 0m 0s) Loss: 0.0143(0.0364) Grad Norm: 0.3344  LR: 4.5796e-06  \n",
      "EVAL: [0/17] Data 0.323 (0.323) Elapsed 0m 0s (remain 0m 9s) \n"
     ]
    },
    {
     "name": "stderr",
     "output_type": "stream",
     "text": [
      "labels: [8 6 2 3 6]\n",
      "pred_labels: [8 6 5 4 2]\n",
      "Epoch 34 - avg_train_loss: 0.0364  lr: 4.5796e-06  time: 77s\n",
      "Epoch 34 - Score: 0.6231\n"
     ]
    },
    {
     "name": "stdout",
     "output_type": "stream",
     "text": [
      "EVAL: [16/17] Data 0.000 (0.019) Elapsed 0m 4s (remain 0m 0s) \n",
      "Epoch: [35][0/81] Data 0.408 (0.408) Elapsed 0m 1s (remain 1m 33s) Loss: 0.0045(0.0045) Grad Norm: 0.0000  LR: 1.5037e-06  \n",
      "Epoch: [35][80/81] Data 0.000 (0.005) Elapsed 1m 12s (remain 0m 0s) Loss: 0.0245(0.0281) Grad Norm: 0.2749  LR: 1.5037e-06  \n",
      "EVAL: [0/17] Data 0.324 (0.324) Elapsed 0m 0s (remain 0m 9s) \n"
     ]
    },
    {
     "name": "stderr",
     "output_type": "stream",
     "text": [
      "labels: [8 6 2 3 6]\n",
      "pred_labels: [8 6 2 4 2]\n",
      "Epoch 35 - avg_train_loss: 0.0281  lr: 1.5037e-06  time: 77s\n",
      "Epoch 35 - Score: 0.6462\n",
      "\n",
      "oof score: 0.6896024464831805\n",
      "\n"
     ]
    },
    {
     "name": "stdout",
     "output_type": "stream",
     "text": [
      "EVAL: [16/17] Data 0.000 (0.019) Elapsed 0m 4s (remain 0m 0s) \n"
     ]
    },
    {
     "name": "stderr",
     "output_type": "stream",
     "text": [
      "\n",
      "train finish!!!\n"
     ]
    }
   ],
   "source": [
    "import os\n",
    "import sys\n",
    "import cv2\n",
    "import numpy as np\n",
    "import pandas as pd\n",
    "import matplotlib.pyplot as plt\n",
    "\n",
    "import torch\n",
    "from torch.utils.data import DataLoader, Dataset\n",
    "\n",
    "import albumentations as A\n",
    "from albumentations import Compose\n",
    "from albumentations.pytorch import ToTensorV2\n",
    "\n",
    "# ====================================================\n",
    "# Dataset\n",
    "# ====================================================\n",
    "class TrainDataset(Dataset):\n",
    "    def __init__(self, df, transform=None):\n",
    "        super().__init__()\n",
    "        self.df = df\n",
    "        self.file_paths = df[\"file_path\"].values\n",
    "        self.labels = df[\"label\"].values\n",
    "        self.transform = transform\n",
    "\n",
    "    def __len__(self):\n",
    "        return len(self.df)\n",
    "\n",
    "    def __getitem__(self, idx):\n",
    "        file_path = self.file_paths[idx]\n",
    "        image = cv2.imread(file_path)\n",
    "        image = cv2.cvtColor(image, cv2.COLOR_BGR2RGB).astype(np.float32)\n",
    "        if self.transform:\n",
    "            augmented = self.transform(image=image)\n",
    "            image = augmented[\"image\"]\n",
    "        label = self.labels[idx]\n",
    "        return image, torch.from_numpy(np.array(label)).long()\n",
    "\n",
    "\n",
    "class TestDataset(Dataset):\n",
    "    def __init__(self, df, transform=None):\n",
    "        super().__init__()\n",
    "        self.df = df\n",
    "        self.file_paths = df[\"file_path\"].values\n",
    "        self.transform = transform\n",
    "\n",
    "    def __len__(self):\n",
    "        return len(self.df)\n",
    "\n",
    "    def __getitem__(self, idx):\n",
    "        file_path = self.file_paths[idx]\n",
    "        image = cv2.imread(file_path)\n",
    "        image = cv2.cvtColor(image, cv2.COLOR_BGR2RGB).astype(np.float32)\n",
    "        if self.transform:\n",
    "            augmented = self.transform(image=image)\n",
    "            image = augmented[\"image\"]\n",
    "        return image\n",
    "\n",
    "\n",
    "def get_transforms(*, data):\n",
    "\n",
    "    if data == \"train\":\n",
    "        return A.Compose(\n",
    "            [\n",
    "                A.Resize(CFG.size, CFG.size),\n",
    "                A.HorizontalFlip(p=0.5),\n",
    "                A.ShiftScaleRotate(p=0.5),\n",
    "                A.Normalize(mean=[0.485, 0.456, 0.406], std=[0.229, 0.224, 0.225], max_pixel_value=255.0, p=1.0,),\n",
    "                A.OneOf([\n",
    "                    A.ToSepia(p=0.5),\n",
    "                    A.ToGray(p=0.5),\n",
    "                ], p=0.5),\n",
    "                A.CoarseDropout(p=0.5),\n",
    "                A.Cutout(p=0.5),\n",
    "                ToTensorV2(),\n",
    "            ]\n",
    "        )\n",
    "\n",
    "    elif data == \"valid\":\n",
    "        return Compose(\n",
    "            [\n",
    "                A.Resize(CFG.size, CFG.size),\n",
    "                A.Normalize(\n",
    "                    mean=[0.485, 0.456, 0.406], std=[0.229, 0.224, 0.225], max_pixel_value=255.0,\n",
    "                    p=1.0,\n",
    "                ),\n",
    "                ToTensorV2(),\n",
    "            ]\n",
    "        )\n",
    "\n",
    "\n",
    "def collate(batch):\n",
    "    \"\"\"DataLoaderに追加可能なbatchを加工する関数\"\"\"\n",
    "    images, labels = list(zip(*batch))\n",
    "    images = torch.stack(images)\n",
    "    labels = torch.stack(labels)\n",
    "    return images, labels.long()\n",
    "\n",
    "\n",
    "# ====================================================\n",
    "# Library\n",
    "# ====================================================\n",
    "import sys\n",
    "import os\n",
    "import gc\n",
    "import re\n",
    "import math\n",
    "import time\n",
    "import random\n",
    "import yaml\n",
    "import shutil\n",
    "import glob\n",
    "import pickle\n",
    "import pathlib\n",
    "from pathlib import Path\n",
    "from contextlib import contextmanager\n",
    "from collections import defaultdict, Counter\n",
    "from distutils.dir_util import copy_tree\n",
    "\n",
    "import scipy as sp\n",
    "import numpy as np\n",
    "import pandas as pd\n",
    "from tqdm.auto import tqdm\n",
    "\n",
    "from sklearn.metrics import accuracy_score, log_loss\n",
    "from sklearn import preprocessing\n",
    "from sklearn.model_selection import StratifiedKFold, GroupKFold, KFold\n",
    "\n",
    "from functools import partial\n",
    "\n",
    "import cv2\n",
    "from PIL import Image\n",
    "\n",
    "import torch\n",
    "import torch.nn as nn\n",
    "import torch.nn.functional as F\n",
    "from torch.optim import Adam, SGD\n",
    "import torchvision.models as models\n",
    "from torch.nn.parameter import Parameter\n",
    "from torch.utils.data import DataLoader, Dataset\n",
    "from torch.nn.utils.rnn import pad_sequence, pack_padded_sequence  # 文字列の長さを揃えてくれる関数\n",
    "from torch.optim.lr_scheduler import (\n",
    "    CosineAnnealingWarmRestarts,\n",
    "    CosineAnnealingLR,\n",
    "    ReduceLROnPlateau,\n",
    ")\n",
    "from torch.cuda.amp import autocast, GradScaler\n",
    "from torch_optimizer import RAdam, Lookahead\n",
    "\n",
    "import timm\n",
    "\n",
    "import warnings\n",
    "warnings.filterwarnings(\"ignore\")\n",
    "\n",
    "device = torch.device(\"cuda\" if torch.cuda.is_available() else \"cpu\")\n",
    "\n",
    "# ====================================================\n",
    "# Helper functions\n",
    "# ====================================================\n",
    "class AverageMeter(object):\n",
    "    \"\"\"Computes and stores the average and current value\"\"\"\n",
    "\n",
    "    def __init__(self):\n",
    "        self.reset()\n",
    "\n",
    "    def reset(self):\n",
    "        self.val = 0\n",
    "        self.avg = 0\n",
    "        self.sum = 0\n",
    "        self.count = 0\n",
    "\n",
    "    def update(self, val, n=1):\n",
    "        self.val = val\n",
    "        self.sum += val * n\n",
    "        self.count += n\n",
    "        self.avg = self.sum / self.count\n",
    "\n",
    "\n",
    "def asMinutes(s):\n",
    "    m = math.floor(s / 60)\n",
    "    s -= m * 60\n",
    "    return \"%dm %ds\" % (m, s)\n",
    "\n",
    "\n",
    "def timeSince(since, percent):\n",
    "    now = time.time()\n",
    "    s = now - since\n",
    "    es = s / (percent)\n",
    "    rs = es - s\n",
    "    return \"%s (remain %s)\" % (asMinutes(s), asMinutes(rs))\n",
    "\n",
    "\n",
    "class LabelSmoothingCrossEntropy(nn.Module):\n",
    "    # https://build-medical-ai.com/2021/02/21/label-smoothing%EF%BC%88%E3%83%A9%E3%83%99%E3%83%AB%E3%82%B9%E3%83%A0%E3%83%BC%E3%82%B8%E3%83%B3%E3%82%B0%EF%BC%89%E3%82%92pytorch%E3%81%A7%E5%AE%9F%E8%A3%85%E3%81%99%E3%82%8B/\n",
    "    def __init__(self, epsilon=0.1, reduction='mean'):\n",
    "        super().__init__()\n",
    "        self.epsilon = epsilon\n",
    "        self.reduction = reduction\n",
    "\n",
    "    def forward(self, preds, target):\n",
    "        n = preds.size()[-1]\n",
    "        log_preds = F.log_softmax(preds, dim=-1)\n",
    "        loss = LabelSmoothingCrossEntropy.reduce_loss(-log_preds.sum(dim=-1), self.reduction)\n",
    "        nll = F.nll_loss(log_preds, target, reduction=self.reduction)\n",
    "        return LabelSmoothingCrossEntropy.linear_combination(nll, loss/n, self.epsilon)\n",
    "    \n",
    "    @staticmethod\n",
    "    def linear_combination(x, y, epsilon):\n",
    "        return (1 - epsilon) * x + epsilon * y\n",
    "\n",
    "    @staticmethod\n",
    "    def reduce_loss(loss, reduction='mean'):\n",
    "        return loss.mean() if reduction == 'mean' else loss.sum() if reduction == 'sum' else loss\n",
    "    \n",
    "\n",
    "def train_fn(\n",
    "    train_loader, model, criterion, optimizer, epoch, scheduler, device, scaler\n",
    "):\n",
    "    batch_time = AverageMeter()\n",
    "    data_time = AverageMeter()\n",
    "    losses = AverageMeter()\n",
    "    # switch to train mode\n",
    "    model.train()\n",
    "    start = end = time.time()\n",
    "    grad_norm = 0.0\n",
    "    global_step = 0\n",
    "    for step, (images, labels) in enumerate(train_loader):\n",
    "        # measure data loading time\n",
    "        data_time.update(time.time() - end)\n",
    "        images = images.to(device)\n",
    "        labels = labels.to(device)\n",
    "        batch_size = images.size(0)\n",
    "        with autocast():\n",
    "            # ====================================================\n",
    "            # cutmix/fmix/snapmix\n",
    "            # ====================================================\n",
    "            mix_decision = np.random.rand() if epoch < CFG.epochs - 5 else 1.0  # 最後の5epochはmix系なしにする\n",
    "            if mix_decision < CFG.mix_decision_th:\n",
    "                if CFG.mixmethod == \"cutmix\":\n",
    "                    x, y_mixs = cutmix(images, labels.long(), CFG.mix_alpha)\n",
    "                    y_hat = model(x.float())\n",
    "                    loss = criterion(y_hat, y_mixs[0]) * y_mixs[2] + criterion(y_hat, y_mixs[1]) * (1.0 - y_mixs[2])\n",
    "\n",
    "                elif CFG.mixmethod == \"fmix\":\n",
    "                    x, y_mixs = fmix(images, labels.long(), alpha=CFG.mix_alpha, decay_power=5.0, shape=(CFG.size, CFG.size))\n",
    "                    y_hat = model(images.float())\n",
    "                    loss = criterion(y_hat, y_mixs[0]) * y_mixs[2] + criterion(y_hat, y_mixs[1]) * (1.0 - y_mixs[2])\n",
    "\n",
    "                elif CFG.mixmethod == \"resizemix\":\n",
    "                    x, y_mixs = resizemix(images, labels.long(), alpha=CFG.mix_alpha)\n",
    "                    y_hat = model(images.float())\n",
    "                    loss = criterion(y_hat, y_mixs[0]) * y_mixs[2] + criterion(y_hat, y_mixs[1]) * (1.0 - y_mixs[2])\n",
    "                    \n",
    "                else:\n",
    "                    x = images\n",
    "                    y_hat = model(images)\n",
    "\n",
    "                # --- 画像表示（mix画像確認用）---\n",
    "                if CFG.debug:\n",
    "                    try:\n",
    "                        print(\"mix_decision:\", mix_decision)\n",
    "                        fig = plt.figure(figsize=(16, 16))\n",
    "                        for i in range(5):\n",
    "                            print(\"y_hat:\", y_hat[i])\n",
    "                            ax = fig.add_subplot(1, 5, i + 1, xticks=[], yticks=[])\n",
    "                            im = x[i].to(\"cpu\").numpy().transpose(1, 2, 0)\n",
    "                            plt.imshow(im)\n",
    "                        plt.show(); plt.clf(); plt.close()\n",
    "                    except:\n",
    "                        pass\n",
    "                # -----------------------------------------\n",
    "            else:\n",
    "                logits = model(images)\n",
    "                loss = criterion(logits, labels)\n",
    "            \n",
    "            # record loss\n",
    "            losses.update(loss.item(), batch_size)\n",
    "            if CFG.gradient_accumulation_steps > 1:\n",
    "                loss = loss / CFG.gradient_accumulation_steps\n",
    "            scaler.scale(loss).backward()\n",
    "            if (step + 1) % CFG.gradient_accumulation_steps == 0:\n",
    "                scaler.unscale_(optimizer)\n",
    "                grad_norm = torch.nn.utils.clip_grad_norm_(model.parameters(), CFG.max_grad_norm, norm_type=2.0)\n",
    "                scaler.step(optimizer)\n",
    "                scaler.update()\n",
    "                optimizer.zero_grad()\n",
    "                global_step += 1\n",
    "\n",
    "        # measure elapsed time\n",
    "        batch_time.update(time.time() - end)\n",
    "        end = time.time()\n",
    "        if step % CFG.print_freq == 0 or step == (len(train_loader) - 1):\n",
    "            print(\n",
    "                \"Epoch: [{0}][{1}/{2}] \"\n",
    "                \"Data {data_time.val:.3f} ({data_time.avg:.3f}) \"\n",
    "                \"Elapsed {remain:s} \"\n",
    "                \"Loss: {loss.val:.4f}({loss.avg:.4f}) \"\n",
    "                \"Grad Norm: {grad_norm:.4f}  \"\n",
    "                \"LR: {lr:.4e}  \".format(\n",
    "                    epoch + 1,\n",
    "                    step,\n",
    "                    len(train_loader),\n",
    "                    batch_time=batch_time,\n",
    "                    data_time=data_time,\n",
    "                    loss=losses,\n",
    "                    remain=timeSince(start, float(step + 1) / len(train_loader)),\n",
    "                    grad_norm=grad_norm,\n",
    "                    lr=scheduler.get_lr()[0],\n",
    "                )\n",
    "            )\n",
    "\n",
    "    return losses.avg\n",
    "\n",
    "\n",
    "def valid_fn(valid_loader, model, device):\n",
    "    batch_time = AverageMeter()\n",
    "    data_time = AverageMeter()\n",
    "    # switch to evaluation mode\n",
    "    model.eval()\n",
    "    preds = []\n",
    "    start = end = time.time()\n",
    "    for step, (images) in enumerate(valid_loader):\n",
    "        # measure data loading time\n",
    "        data_time.update(time.time() - end)\n",
    "        images = images.to(device)\n",
    "        batch_size = images.size(0)\n",
    "        with torch.no_grad():\n",
    "            with autocast():\n",
    "                predictions = model.forward_softmax(images)  # 確信度で出す場合\n",
    "        pred = predictions.detach().cpu().numpy()\n",
    "        preds.append(pred)\n",
    "        # measure elapsed time\n",
    "        batch_time.update(time.time() - end)\n",
    "        end = time.time()\n",
    "        if step % CFG.print_freq == 0 or step == (len(valid_loader) - 1):\n",
    "            print(\n",
    "                \"EVAL: [{0}/{1}] \"\n",
    "                \"Data {data_time.val:.3f} ({data_time.avg:.3f}) \"\n",
    "                \"Elapsed {remain:s} \".format(\n",
    "                    step,\n",
    "                    len(valid_loader),\n",
    "                    batch_time=batch_time,\n",
    "                    data_time=data_time,\n",
    "                    remain=timeSince(start, float(step + 1) / len(valid_loader)),\n",
    "                )\n",
    "            )\n",
    "    preds = np.concatenate(preds)\n",
    "    return preds\n",
    "\n",
    "\n",
    "# ====================================================\n",
    "# Train loop\n",
    "# ====================================================\n",
    "def train_loop(folds, fold, seed):\n",
    "\n",
    "    LOGGER.info(f\"==================== fold: {fold}, seed: {seed} training ====================\")\n",
    "\n",
    "    # ====================================================\n",
    "    # loader\n",
    "    # ====================================================\n",
    "    trn_idx = folds[folds[\"fold\"] != fold].index\n",
    "    val_idx = folds[folds[\"fold\"] == fold].index\n",
    "\n",
    "    train_folds = folds.loc[trn_idx].reset_index(drop=True)\n",
    "    valid_folds = folds.loc[val_idx].reset_index(drop=True)\n",
    "    valid_labels = valid_folds[\"label\"].values\n",
    "    \n",
    "    # ====================================================\n",
    "    # 疑似ラベルのデータ追加\n",
    "    # ====================================================\n",
    "    if 'pseudo_df' in globals():\n",
    "        train_folds = train_folds.append(pseudo_df)\n",
    "\n",
    "    train_dataset = TrainDataset(train_folds, transform=get_transforms(data=\"train\"))\n",
    "    valid_dataset = TestDataset(valid_folds, transform=get_transforms(data=\"valid\"))\n",
    "\n",
    "    train_loader = DataLoader(\n",
    "        train_dataset,\n",
    "        batch_size=CFG.batch_size,\n",
    "        shuffle=True,\n",
    "        num_workers=CFG.num_workers,\n",
    "        pin_memory=True,\n",
    "        drop_last=True,\n",
    "        collate_fn=collate,\n",
    "    )\n",
    "    valid_loader = DataLoader(\n",
    "        valid_dataset,\n",
    "        batch_size=CFG.batch_size,\n",
    "        shuffle=False,\n",
    "        num_workers=CFG.num_workers,\n",
    "        pin_memory=True,\n",
    "        drop_last=False,\n",
    "    )\n",
    "\n",
    "    # ====================================================\n",
    "    # scheduler\n",
    "    # ====================================================\n",
    "    def get_scheduler(optimizer):\n",
    "        if CFG.scheduler == \"ReduceLROnPlateau\":\n",
    "            scheduler = ReduceLROnPlateau(\n",
    "                optimizer,\n",
    "                mode=\"min\",\n",
    "                factor=CFG.factor,\n",
    "                patience=CFG.patience,\n",
    "                verbose=True,\n",
    "                eps=CFG.eps,\n",
    "            )\n",
    "        elif CFG.scheduler == \"CosineAnnealingLR\":\n",
    "            scheduler = CosineAnnealingLR(\n",
    "                optimizer, T_max=CFG.T_max, eta_min=CFG.min_lr, last_epoch=-1\n",
    "            )\n",
    "        elif CFG.scheduler == \"CosineAnnealingWarmRestarts\":\n",
    "            scheduler = CosineAnnealingWarmRestarts(\n",
    "                optimizer, T_0=CFG.T_0, T_mult=1, eta_min=CFG.min_lr, last_epoch=-1\n",
    "            )\n",
    "        return scheduler\n",
    "\n",
    "    # ====================================================\n",
    "    # model & optimizer\n",
    "    # ====================================================\n",
    "    model = TimmModel(CFG.n_classes, model_name=CFG.model_name, pretrained=True)\n",
    "    model.to(device)\n",
    "\n",
    "    if CFG.optimizer == \"adam\":\n",
    "        optimizer = Adam(\n",
    "            model.parameters(), lr=CFG.lr, amsgrad=False, weight_decay=CFG.weight_decay\n",
    "        )\n",
    "    elif CFG.optimizer == \"radam\":\n",
    "        optimizer = RAdam(model.parameters(), lr=CFG.lr, weight_decay=CFG.weight_decay)\n",
    "        optimizer = Lookahead(optimizer, alpha=0.5, k=5)\n",
    "\n",
    "    scheduler = get_scheduler(optimizer)\n",
    "    scaler = GradScaler()\n",
    "\n",
    "    if os.path.exists(CFG.load_model_path):\n",
    "        # モデルロード\n",
    "        LOGGER.info(\"=> loading checkpoint '{}'\".format(CFG.load_model_path))\n",
    "        states = torch.load(CFG.load_model_path, map_location=torch.device(\"cpu\"))\n",
    "        model.load_state_dict(states[\"model\"])\n",
    "        model.to(device)\n",
    "        if CFG.is_load_opt:\n",
    "            LOGGER.info(\"=> loading optimizer and scheduler\")\n",
    "            optimizer.load_state_dict(states[\"optimizer\"])\n",
    "            scheduler.load_state_dict(states[\"scheduler\"])\n",
    "\n",
    "    # ====================================================\n",
    "    # loop\n",
    "    # ====================================================\n",
    "    if CFG.label_smoothing > 0.0:\n",
    "        criterion = LabelSmoothingCrossEntropy(epsilon=CFG.label_smoothing)\n",
    "    else:\n",
    "        criterion = nn.CrossEntropyLoss()  # loss計算したくないクラスは, ignore_index=1 で指定できる\n",
    "\n",
    "    best_score = -1  # np.inf\n",
    "\n",
    "    for epoch in range(CFG.epochs):\n",
    "\n",
    "        start_time = time.time()\n",
    "\n",
    "        # train\n",
    "        avg_loss = train_fn(\n",
    "            train_loader, model, criterion, optimizer, epoch, scheduler, device, scaler\n",
    "        )\n",
    "\n",
    "        # eval\n",
    "        preds = valid_fn(valid_loader, model, device)\n",
    "        \n",
    "        # 予測がlogitの場合ラベルidに直す\n",
    "        pred_labels = preds.argmax(1) if preds.ndim > 1 else preds\n",
    "        \n",
    "        LOGGER.info(f\"labels: {valid_labels[:5]}\")\n",
    "        LOGGER.info(f\"pred_labels: {pred_labels[:5]}\")\n",
    "        \n",
    "        # scoring\n",
    "        score = get_score(valid_labels, pred_labels)\n",
    "\n",
    "        elapsed = time.time() - start_time\n",
    "\n",
    "        LOGGER.info(\n",
    "            f\"Epoch {epoch+1} - avg_train_loss: {avg_loss:.4f}  lr: {scheduler.get_lr()[0]:.4e}  time: {elapsed:.0f}s\"\n",
    "        )\n",
    "        LOGGER.info(f\"Epoch {epoch+1} - Score: {score:.4f}\")\n",
    "\n",
    "        if isinstance(scheduler, ReduceLROnPlateau):\n",
    "            scheduler.step(score)\n",
    "        elif isinstance(scheduler, CosineAnnealingLR):\n",
    "            scheduler.step()\n",
    "        elif isinstance(scheduler, CosineAnnealingWarmRestarts):\n",
    "            scheduler.step()\n",
    "\n",
    "        if score > best_score:\n",
    "            best_score = score\n",
    "            LOGGER.info(f\"Epoch {epoch+1} - Save Best Score: {best_score:.4f} Model\")\n",
    "            best_pth = OUTPUT_DIR + f\"/fold{fold}_seed{seed}_best.pth\"\n",
    "            torch.save(\n",
    "                {\n",
    "                    \"model\": model.state_dict(),\n",
    "                    \"optimizer\": optimizer.state_dict(),\n",
    "                    \"scheduler\": scheduler.state_dict(),\n",
    "                    \"preds\": preds,\n",
    "                },\n",
    "                best_pth,\n",
    "            )\n",
    "            val_pred_df = pd.DataFrame(\n",
    "                {\"id\": val_idx, \"label\": valid_labels, \"pred\": pred_labels}\n",
    "            )\n",
    "            if preds.ndim > 1:\n",
    "                val_pred_df = pd.concat([val_pred_df, pd.DataFrame(preds)], axis=1)  # 確信度も残す\n",
    "\n",
    "    return val_pred_df\n",
    "\n",
    "\n",
    "# ====================================================\n",
    "# Utils\n",
    "# ====================================================\n",
    "def get_score(y_true, y_pred):\n",
    "    return accuracy_score(y_true, y_pred)\n",
    "\n",
    "\n",
    "def init_logger(log_file='train.log'):\n",
    "    \"\"\"学習ログファイル出す\"\"\"\n",
    "    from logging import getLogger, INFO, FileHandler,  Formatter,  StreamHandler\n",
    "    logger = getLogger(__name__)\n",
    "    logger.setLevel(INFO)\n",
    "    handler1 = StreamHandler()\n",
    "    handler1.setFormatter(Formatter(\"%(message)s\"))\n",
    "    handler2 = FileHandler(filename=log_file)\n",
    "    handler2.setFormatter(Formatter(\"%(message)s\"))\n",
    "    logger.addHandler(handler1)\n",
    "    logger.addHandler(handler2)\n",
    "    return logger\n",
    "\n",
    "\n",
    "def seed_torch(seed=42):\n",
    "    random.seed(seed)\n",
    "    os.environ['PYTHONHASHSEED'] = str(seed)\n",
    "    np.random.seed(seed)\n",
    "    torch.manual_seed(seed)\n",
    "    torch.cuda.manual_seed(seed)\n",
    "    torch.cuda.manual_seed_all(seed)\n",
    "    torch.backends.cudnn.deterministic = True\n",
    "\n",
    "\n",
    "# ====================================================\n",
    "# CV split\n",
    "# ====================================================\n",
    "def cv_split(df, seed):\n",
    "    folds = df.copy()\n",
    "    cv = StratifiedKFold(n_splits=CFG.n_fold, shuffle=True, random_state=seed)\n",
    "    for j, (train_idx, valid_idx) in enumerate(cv.split(df, df[\"label\"])):\n",
    "        folds.loc[valid_idx, \"fold\"] = int(j)\n",
    "    folds[\"fold\"] = folds[\"fold\"].astype(int)\n",
    "    print(folds.groupby([\"fold\"]).size())\n",
    "    return folds\n",
    "\n",
    "\n",
    "# ====================================================\n",
    "# Model\n",
    "# ====================================================\n",
    "class TimmModel(nn.Module):\n",
    "    def __init__(self, n_classes, model_name=\"resnet18\", pretrained=True):\n",
    "        super().__init__()\n",
    "        self.cnn = timm.create_model(model_name, pretrained=pretrained)\n",
    "        if \"efficient\" in model_name:\n",
    "            self.cnn.classifier = nn.Linear(self.cnn.classifier.in_features, n_classes)\n",
    "        elif \"nfnet\" in model_name:\n",
    "            self.cnn.head.fc = nn.Linear(self.cnn.head.fc.in_features, n_classes)\n",
    "        elif \"vit\" in model_name:\n",
    "            self.cnn.head = nn.Linear(self.cnn.head.in_features, n_classes)\n",
    "        elif \"tnt\" in model_name:\n",
    "            self.cnn.head = nn.Linear(self.cnn.head.in_features, n_classes)\n",
    "        elif \"swin\" in model_name:\n",
    "            self.cnn.head = nn.Linear(self.cnn.head.in_features, n_classes)\n",
    "        elif \"cait\" in model_name:\n",
    "            self.cnn.head = nn.Linear(self.cnn.head.in_features, n_classes)\n",
    "        elif \"mixer\" in model_name:\n",
    "            self.cnn.head = nn.Linear(self.cnn.head.in_features, n_classes)\n",
    "        else:\n",
    "            self.cnn.fc = nn.Linear(self.cnn.fc.in_features, n_classes)\n",
    "\n",
    "    def forward(self, x):\n",
    "        return self.cnn(x)\n",
    "    \n",
    "    def forward_softmax(self, x):\n",
    "        return torch.softmax(self.cnn(x), 1)\n",
    "    \n",
    "    def forward_argmax(self, x):\n",
    "        return self.cnn(x).argmax(1)\n",
    "\n",
    "\n",
    "# ====================================================\n",
    "# LOGGER\n",
    "# ====================================================\n",
    "LOGGER = init_logger(OUTPUT_DIR + \"/train.log\")\n",
    "\n",
    "\n",
    "# ====================================================\n",
    "# main\n",
    "# ====================================================\n",
    "def main(train):\n",
    "    for seed in CFG.seeds:\n",
    "        seed_torch(seed=seed)\n",
    "        \n",
    "        if CFG.debug:\n",
    "            CFG.epochs = 2\n",
    "            train = train.sample(n=300, random_state=seed).reset_index(drop=True)\n",
    "        \n",
    "        folds = cv_split(train, seed)\n",
    "        oof_df = None\n",
    "        for fold in range(CFG.n_fold):\n",
    "            if fold in CFG.trn_fold:\n",
    "                val_pred_df = train_loop(folds, fold, seed)\n",
    "                val_pred_df[\"fold\"] = fold\n",
    "\n",
    "                if oof_df is None:\n",
    "                    oof_df = val_pred_df\n",
    "                else:\n",
    "                    oof_df = oof_df.append(val_pred_df)\n",
    "\n",
    "        oof_df.to_csv(OUTPUT_DIR + f\"/oof_seed{seed}.csv\", index=False)\n",
    "        #display(oof_df)\n",
    "        \n",
    "        LOGGER.info(f\"\\noof score: {get_score(oof_df['label'].values, oof_df['pred'].values)}\\n\")\n",
    "    \n",
    "    # colabは短時間でフdriveにファイル出力多いとエラーになるので最後に保存\n",
    "    # 出力ディレクトリをdriveに保存する\n",
    "    if \"google.colab\" in sys.modules:\n",
    "        copy_tree(OUTPUT_DIR, CP_DIR)\n",
    "\n",
    "if __name__ == '__main__':\n",
    "    print(\"timm version:\", timm.__version__)\n",
    "    print(device)\n",
    "    \n",
    "    main(train)\n",
    "    \n",
    "    LOGGER.info(\"\\ntrain finish!!!\")"
   ]
  },
  {
   "cell_type": "markdown",
   "metadata": {
    "id": "U2KPduCtGPp2"
   },
   "source": [
    "## evaluation"
   ]
  },
  {
   "cell_type": "code",
   "execution_count": 11,
   "metadata": {
    "ExecuteTime": {
     "start_time": "2021-07-01T12:40:25.797Z"
    },
    "colab": {
     "base_uri": "https://localhost:8080/",
     "height": 1000
    },
    "executionInfo": {
     "elapsed": 395837,
     "status": "ok",
     "timestamp": 1625294413586,
     "user": {
      "displayName": "Shingo Yokoi",
      "photoUrl": "",
      "userId": "16552018841329203618"
     },
     "user_tz": -540
    },
    "id": "8SQXOhuI1rOr",
    "lines_to_next_cell": 2,
    "outputId": "547cec72-48ec-4aba-d4ec-bc5971c3a972",
    "scrolled": true
   },
   "outputs": [
    {
     "name": "stdout",
     "output_type": "stream",
     "text": [
      "================================================== seed0 oof ==================================================\n",
      "oof score: 0.6788990825688074\n"
     ]
    },
    {
     "data": {
      "image/png": "[encoded data removed]",
      "text/plain": [
       "<Figure size 720x576 with 1 Axes>"
      ]
     },
     "metadata": {
      "needs_background": "light",
      "tags": []
     },
     "output_type": "display_data"
    },
    {
     "name": "stdout",
     "output_type": "stream",
     "text": [
      "              precision    recall  f1-score   support\n",
      "\n",
      "           0       0.73      0.75      0.74        60\n",
      "           1       0.48      0.36      0.41        42\n",
      "           2       0.66      0.80      0.72       132\n",
      "           3       0.51      0.45      0.48        42\n",
      "           4       0.53      0.55      0.54        42\n",
      "           5       0.69      0.62      0.65        60\n",
      "           6       0.65      0.75      0.70        48\n",
      "           7       0.80      0.93      0.86        30\n",
      "           8       0.85      0.73      0.79        30\n",
      "           9       0.72      0.77      0.74        66\n",
      "          10       0.65      0.50      0.57        30\n",
      "          11       0.83      0.69      0.75        42\n",
      "          12       0.83      0.63      0.72        30\n",
      "\n",
      "    accuracy                           0.68       654\n",
      "   macro avg       0.69      0.66      0.67       654\n",
      "weighted avg       0.68      0.68      0.67       654\n",
      "\n"
     ]
    },
    {
     "data": {
      "image/png": "[encoded data removed]",
      "text/plain": [
       "<Figure size 720x576 with 2 Axes>"
      ]
     },
     "metadata": {
      "needs_background": "light",
      "tags": []
     },
     "output_type": "display_data"
    },
    {
     "name": "stdout",
     "output_type": "stream",
     "text": [
      "================================================== seed1 oof ==================================================\n",
      "oof score: 0.6819571865443425\n"
     ]
    },
    {
     "data": {
      "image/png": "[encoded data removed]",
      "text/plain": [
       "<Figure size 720x576 with 1 Axes>"
      ]
     },
     "metadata": {
      "needs_background": "light",
      "tags": []
     },
     "output_type": "display_data"
    },
    {
     "name": "stdout",
     "output_type": "stream",
     "text": [
      "              precision    recall  f1-score   support\n",
      "\n",
      "           0       0.61      0.80      0.69        60\n",
      "           1       0.68      0.36      0.47        42\n",
      "           2       0.66      0.80      0.72       132\n",
      "           3       0.42      0.43      0.42        42\n",
      "           4       0.81      0.50      0.62        42\n",
      "           5       0.65      0.62      0.63        60\n",
      "           6       0.68      0.67      0.67        48\n",
      "           7       0.78      0.93      0.85        30\n",
      "           8       0.79      0.77      0.78        30\n",
      "           9       0.77      0.83      0.80        66\n",
      "          10       0.76      0.53      0.63        30\n",
      "          11       0.79      0.74      0.77        42\n",
      "          12       0.71      0.57      0.63        30\n",
      "\n",
      "    accuracy                           0.68       654\n",
      "   macro avg       0.70      0.66      0.67       654\n",
      "weighted avg       0.69      0.68      0.68       654\n",
      "\n"
     ]
    },
    {
     "data": {
      "image/png": "[encoded data removed]",
      "text/plain": [
       "<Figure size 720x576 with 2 Axes>"
      ]
     },
     "metadata": {
      "needs_background": "light",
      "tags": []
     },
     "output_type": "display_data"
    },
    {
     "name": "stdout",
     "output_type": "stream",
     "text": [
      "================================================== seed2 oof ==================================================\n",
      "oof score: 0.6896024464831805\n"
     ]
    },
    {
     "data": {
      "image/png": "[encoded data removed]",
      "text/plain": [
       "<Figure size 720x576 with 1 Axes>"
      ]
     },
     "metadata": {
      "needs_background": "light",
      "tags": []
     },
     "output_type": "display_data"
    },
    {
     "name": "stdout",
     "output_type": "stream",
     "text": [
      "              precision    recall  f1-score   support\n",
      "\n",
      "           0       0.68      0.75      0.71        60\n",
      "           1       0.48      0.31      0.38        42\n",
      "           2       0.68      0.77      0.72       132\n",
      "           3       0.60      0.50      0.55        42\n",
      "           4       0.60      0.64      0.62        42\n",
      "           5       0.64      0.58      0.61        60\n",
      "           6       0.74      0.77      0.76        48\n",
      "           7       0.78      0.97      0.87        30\n",
      "           8       0.83      0.80      0.81        30\n",
      "           9       0.74      0.77      0.76        66\n",
      "          10       0.77      0.57      0.65        30\n",
      "          11       0.81      0.71      0.76        42\n",
      "          12       0.62      0.67      0.65        30\n",
      "\n",
      "    accuracy                           0.69       654\n",
      "   macro avg       0.69      0.68      0.68       654\n",
      "weighted avg       0.69      0.69      0.68       654\n",
      "\n"
     ]
    },
    {
     "data": {
      "image/png": "[encoded data removed]",
      "text/plain": [
       "<Figure size 720x576 with 2 Axes>"
      ]
     },
     "metadata": {
      "needs_background": "light",
      "tags": []
     },
     "output_type": "display_data"
    },
    {
     "name": "stdout",
     "output_type": "stream",
     "text": [
      "================================================== soft_avg_oof ==================================================\n",
      "oof score: 0.6987767584097859\n"
     ]
    },
    {
     "data": {
      "image/png": "[encoded data removed]",
      "text/plain": [
       "<Figure size 720x576 with 1 Axes>"
      ]
     },
     "metadata": {
      "needs_background": "light",
      "tags": []
     },
     "output_type": "display_data"
    },
    {
     "name": "stdout",
     "output_type": "stream",
     "text": [
      "              precision    recall  f1-score   support\n",
      "\n",
      "           0       0.68      0.77      0.72        60\n",
      "           1       0.60      0.36      0.45        42\n",
      "           2       0.66      0.80      0.72       132\n",
      "           3       0.57      0.50      0.53        42\n",
      "           4       0.58      0.60      0.59        42\n",
      "           5       0.69      0.67      0.68        60\n",
      "           6       0.74      0.73      0.74        48\n",
      "           7       0.78      0.97      0.87        30\n",
      "           8       0.77      0.80      0.79        30\n",
      "           9       0.79      0.76      0.78        66\n",
      "          10       0.80      0.53      0.64        30\n",
      "          11       0.86      0.71      0.78        42\n",
      "          12       0.69      0.67      0.68        30\n",
      "\n",
      "    accuracy                           0.70       654\n",
      "   macro avg       0.71      0.68      0.69       654\n",
      "weighted avg       0.70      0.70      0.69       654\n",
      "\n"
     ]
    },
    {
     "data": {
      "image/png": "[encoded data removed]",
      "text/plain": [
       "<Figure size 720x576 with 2 Axes>"
      ]
     },
     "metadata": {
      "needs_background": "light",
      "tags": []
     },
     "output_type": "display_data"
    }
   ],
   "source": [
    "# ====================================================\n",
    "# Eval OOF\n",
    "# ====================================================\n",
    "import torch\n",
    "import numpy as np\n",
    "import pandas as pd\n",
    "import matplotlib.pyplot as plt\n",
    "import seaborn as sns\n",
    "from sklearn.metrics import accuracy_score, classification_report, confusion_matrix\n",
    "\n",
    "\n",
    "def get_score(y_true, y_pred):\n",
    "    return accuracy_score(y_true, y_pred)\n",
    "\n",
    "\n",
    "def eval_oof_df(oof_df):\n",
    "    \"\"\"oofのスコアや混同行列を可視化する\"\"\"\n",
    "    score = get_score(oof_df['label'].values, oof_df['pred'].values)\n",
    "    print(\"oof score:\", score)\n",
    "    \n",
    "    plt.figure(figsize=(10, 8))\n",
    "    sns.countplot(y=oof_df[\"pred\"], orient=\"v\")\n",
    "    plt.title(\"Prediction distribution\")\n",
    "    plt.show()\n",
    "    \n",
    "    print(classification_report(oof_df[\"label\"], oof_df[\"pred\"]))\n",
    "    \n",
    "    plt.figure(figsize=(10, 8))\n",
    "    sns.heatmap(\n",
    "        confusion_matrix(oof_df[\"label\"], oof_df[\"pred\"]),\n",
    "        annot=True,\n",
    "        cmap=\"Blues\",\n",
    "    )\n",
    "    plt.title(\"OOF confusion matrix\")\n",
    "    plt.show()\n",
    "    \n",
    "    \n",
    "def get_soft_avg_oof_df():\n",
    "    \"\"\"seedごとのoofをロードして確信度を単純平均する\"\"\"\n",
    "    oof_avg = None\n",
    "    for seed in CFG.seeds:\n",
    "        oof_df = pd.read_csv(OUTPUT_DIR + f\"/oof_seed{seed}.csv\")\n",
    "        df = oof_df[[\"id\", \"label\"]]\n",
    "        preds = None\n",
    "        for fold in range(CFG.n_fold):\n",
    "            states = torch.load(OUTPUT_DIR + f\"/fold{CFG.trn_fold[fold]}_seed{seed}_best.pth\", map_location=torch.device(\"cpu\"))\n",
    "            preds = states[\"preds\"] if preds is None else np.concatenate([preds, states[\"preds\"]])\n",
    "        preds = pd.DataFrame(preds)\n",
    "        df = df.join(preds).sort_values(by='id')\n",
    "        df = df.reset_index(drop=True)\n",
    "        oof_avg = df if oof_avg is None else oof_avg + df\n",
    "    oof_avg = oof_avg / len(CFG.seeds)\n",
    "\n",
    "    label = oof_avg[\"label\"].astype(int).values\n",
    "    pred_label = np.argmax(oof_avg[list(range(CFG.n_classes))].values, 1)\n",
    "    oof_avg_label = pd.DataFrame({\"label\": label, \"pred\": pred_label})\n",
    "    \n",
    "    return oof_avg, oof_avg_label\n",
    "\n",
    "    \n",
    "if __name__ == '__main__':\n",
    "    for seed in CFG.seeds:\n",
    "        print(\"=\"*50, f\"seed{seed} oof\", \"=\"*50)\n",
    "        oof_df = pd.read_csv(OUTPUT_DIR + f\"/oof_seed{seed}.csv\")\n",
    "        eval_oof_df(oof_df)\n",
    "    \n",
    "    print(\"=\"*50, \"soft_avg_oof\", \"=\"*50)\n",
    "    oof_avg, oof_avg_label = get_soft_avg_oof_df()\n",
    "    eval_oof_df(oof_avg_label)\n",
    "    \n",
    "    oof_avg.to_csv(OUTPUT_DIR + f\"/soft_avg_oof.csv\", index=False)\n",
    "    # driveに保存する\n",
    "    if \"google.colab\" in sys.modules:\n",
    "        shutil.copyfile(OUTPUT_DIR + f\"/soft_avg_oof.csv\", CP_DIR + f\"/{NAME}_soft_avg_oof.csv\")"
   ]
  },
  {
   "cell_type": "code",
   "execution_count": 11,
   "metadata": {
    "executionInfo": {
     "elapsed": 2,
     "status": "ok",
     "timestamp": 1625294413587,
     "user": {
      "displayName": "Shingo Yokoi",
      "photoUrl": "",
      "userId": "16552018841329203618"
     },
     "user_tz": -540
    },
    "id": "piK_P4GcGPp4"
   },
   "outputs": [],
   "source": []
  }
 ],
 "metadata": {
  "accelerator": "GPU",
  "colab": {
   "collapsed_sections": [],
   "machine_shape": "hm",
   "name": "ex16_pseudo3_train.ipynb",
   "provenance": []
  },
  "hide_input": false,
  "jupytext": {
   "encoding": "# -*- coding: utf-8 -*-",
   "text_representation": {
    "extension": ".py",
    "format_name": "light",
    "format_version": "1.5",
    "jupytext_version": "1.7.1"
   }
  },
  "kernelspec": {
   "display_name": "Python 3 (ipykernel)",
   "language": "python",
   "name": "python3"
  },
  "language_info": {
   "codemirror_mode": {
    "name": "ipython",
    "version": 3
   },
   "file_extension": ".py",
   "mimetype": "text/x-python",
   "name": "python",
   "nbconvert_exporter": "python",
   "pygments_lexer": "ipython3",
   "version": "3.8.10"
  }
 },
 "nbformat": 4,
 "nbformat_minor": 4
}
