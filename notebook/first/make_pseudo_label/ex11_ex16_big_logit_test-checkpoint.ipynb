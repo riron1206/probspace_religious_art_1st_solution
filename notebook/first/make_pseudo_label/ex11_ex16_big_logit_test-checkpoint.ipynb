{
 "cells": [
  {
   "cell_type": "code",
   "execution_count": 1,
   "metadata": {
    "ExecuteTime": {
     "end_time": "2021-07-02T18:45:24.240605Z",
     "start_time": "2021-07-02T18:45:24.238605Z"
    }
   },
   "outputs": [],
   "source": [
    "NAME = \"ex11_ex16\"\n",
    "NUM_CLASSES = 13"
   ]
  },
  {
   "cell_type": "markdown",
   "metadata": {},
   "source": [
    "# 疑似ラベルに使う用に確信度の高いtestデータだけ抽出する"
   ]
  },
  {
   "cell_type": "code",
   "execution_count": 2,
   "metadata": {
    "ExecuteTime": {
     "end_time": "2021-07-02T18:45:25.146347Z",
     "start_time": "2021-07-02T18:45:24.242616Z"
    }
   },
   "outputs": [],
   "source": [
    "import glob\n",
    "import numpy as np\n",
    "import pandas as pd\n",
    "from sklearn.metrics import accuracy_score"
   ]
  },
  {
   "cell_type": "code",
   "execution_count": 3,
   "metadata": {
    "ExecuteTime": {
     "end_time": "2021-07-02T18:45:25.150322Z",
     "start_time": "2021-07-02T18:45:25.147347Z"
    }
   },
   "outputs": [],
   "source": [
    "#pd.set_option('display.max_rows', None)\n",
    "pd.set_option('display.max_columns', None)"
   ]
  },
  {
   "cell_type": "code",
   "execution_count": 4,
   "metadata": {
    "ExecuteTime": {
     "end_time": "2021-07-02T18:45:25.155325Z",
     "start_time": "2021-07-02T18:45:25.151321Z"
    }
   },
   "outputs": [],
   "source": [
    "inf_cv_csvs = glob.glob(f\"inf_cv/*_inf_cv_seed*\")\n",
    "inf_test_csvs = glob.glob(f\"inf_test/*_inf_test_seed*\")"
   ]
  },
  {
   "cell_type": "code",
   "execution_count": 5,
   "metadata": {
    "ExecuteTime": {
     "end_time": "2021-07-02T18:45:25.159323Z",
     "start_time": "2021-07-02T18:45:25.156322Z"
    }
   },
   "outputs": [],
   "source": [
    "logit_th = 0.7"
   ]
  },
  {
   "cell_type": "markdown",
   "metadata": {},
   "source": [
    "# oof check"
   ]
  },
  {
   "cell_type": "code",
   "execution_count": 6,
   "metadata": {
    "ExecuteTime": {
     "end_time": "2021-07-02T18:45:25.203321Z",
     "start_time": "2021-07-02T18:45:25.160321Z"
    }
   },
   "outputs": [],
   "source": [
    "logit_sum = None\n",
    "pred_onehot_sum = None\n",
    "for c in inf_cv_csvs:\n",
    "    df = pd.read_csv(c).sort_values(by=\"image_id\")\n",
    "    \n",
    "    logit = df[[str(i) for i in range(NUM_CLASSES)]].values\n",
    "    pred = logit.argmax(1)\n",
    "    \n",
    "    logit_sum = logit if logit_sum is None else logit_sum + logit\n",
    "    pred_onehot_sum = np.eye(NUM_CLASSES)[pred] if pred_onehot_sum is None else pred_onehot_sum + np.eye(NUM_CLASSES)[pred]\n",
    "    \n",
    "logit_sum = pd.DataFrame(logit_sum)\n",
    "pred_onehot_sum = pd.DataFrame(pred_onehot_sum)\n",
    "\n",
    "label = df[\"label\"].values"
   ]
  },
  {
   "cell_type": "code",
   "execution_count": 7,
   "metadata": {
    "ExecuteTime": {
     "end_time": "2021-07-02T18:45:25.230321Z",
     "start_time": "2021-07-02T18:45:25.204321Z"
    }
   },
   "outputs": [
    {
     "data": {
      "text/html": [
       "<div>\n",
       "<style scoped>\n",
       "    .dataframe tbody tr th:only-of-type {\n",
       "        vertical-align: middle;\n",
       "    }\n",
       "\n",
       "    .dataframe tbody tr th {\n",
       "        vertical-align: top;\n",
       "    }\n",
       "\n",
       "    .dataframe thead th {\n",
       "        text-align: right;\n",
       "    }\n",
       "</style>\n",
       "<table border=\"1\" class=\"dataframe\">\n",
       "  <thead>\n",
       "    <tr style=\"text-align: right;\">\n",
       "      <th></th>\n",
       "      <th>0</th>\n",
       "      <th>1</th>\n",
       "      <th>2</th>\n",
       "      <th>3</th>\n",
       "      <th>4</th>\n",
       "      <th>5</th>\n",
       "      <th>6</th>\n",
       "      <th>7</th>\n",
       "      <th>8</th>\n",
       "      <th>9</th>\n",
       "      <th>10</th>\n",
       "      <th>11</th>\n",
       "      <th>12</th>\n",
       "      <th>big_logit</th>\n",
       "    </tr>\n",
       "  </thead>\n",
       "  <tbody>\n",
       "    <tr>\n",
       "      <th>0</th>\n",
       "      <td>0.048266</td>\n",
       "      <td>0.048149</td>\n",
       "      <td>0.260114</td>\n",
       "      <td>0.149246</td>\n",
       "      <td>0.219075</td>\n",
       "      <td>4.446380</td>\n",
       "      <td>0.007021</td>\n",
       "      <td>0.030451</td>\n",
       "      <td>0.046244</td>\n",
       "      <td>0.062171</td>\n",
       "      <td>0.035156</td>\n",
       "      <td>0.546128</td>\n",
       "      <td>0.101598</td>\n",
       "      <td>1</td>\n",
       "    </tr>\n",
       "    <tr>\n",
       "      <th>1</th>\n",
       "      <td>0.047434</td>\n",
       "      <td>0.318251</td>\n",
       "      <td>0.145180</td>\n",
       "      <td>0.137236</td>\n",
       "      <td>0.155666</td>\n",
       "      <td>0.108793</td>\n",
       "      <td>0.278606</td>\n",
       "      <td>0.005282</td>\n",
       "      <td>0.010501</td>\n",
       "      <td>0.373284</td>\n",
       "      <td>0.235871</td>\n",
       "      <td>3.019637</td>\n",
       "      <td>1.164259</td>\n",
       "      <td>0</td>\n",
       "    </tr>\n",
       "    <tr>\n",
       "      <th>2</th>\n",
       "      <td>0.013016</td>\n",
       "      <td>0.010684</td>\n",
       "      <td>0.053369</td>\n",
       "      <td>0.005189</td>\n",
       "      <td>0.006216</td>\n",
       "      <td>0.033649</td>\n",
       "      <td>0.046194</td>\n",
       "      <td>0.015576</td>\n",
       "      <td>5.708686</td>\n",
       "      <td>0.012324</td>\n",
       "      <td>0.061275</td>\n",
       "      <td>0.021835</td>\n",
       "      <td>0.011986</td>\n",
       "      <td>1</td>\n",
       "    </tr>\n",
       "    <tr>\n",
       "      <th>3</th>\n",
       "      <td>0.013148</td>\n",
       "      <td>0.043185</td>\n",
       "      <td>0.378299</td>\n",
       "      <td>0.005715</td>\n",
       "      <td>0.086470</td>\n",
       "      <td>4.732909</td>\n",
       "      <td>0.022278</td>\n",
       "      <td>0.008359</td>\n",
       "      <td>0.015183</td>\n",
       "      <td>0.391139</td>\n",
       "      <td>0.026645</td>\n",
       "      <td>0.069764</td>\n",
       "      <td>0.206907</td>\n",
       "      <td>1</td>\n",
       "    </tr>\n",
       "    <tr>\n",
       "      <th>4</th>\n",
       "      <td>0.690932</td>\n",
       "      <td>0.061152</td>\n",
       "      <td>1.020601</td>\n",
       "      <td>0.016478</td>\n",
       "      <td>0.355291</td>\n",
       "      <td>0.243142</td>\n",
       "      <td>1.287351</td>\n",
       "      <td>0.077838</td>\n",
       "      <td>0.021360</td>\n",
       "      <td>0.333542</td>\n",
       "      <td>0.062508</td>\n",
       "      <td>1.513232</td>\n",
       "      <td>0.316572</td>\n",
       "      <td>0</td>\n",
       "    </tr>\n",
       "    <tr>\n",
       "      <th>...</th>\n",
       "      <td>...</td>\n",
       "      <td>...</td>\n",
       "      <td>...</td>\n",
       "      <td>...</td>\n",
       "      <td>...</td>\n",
       "      <td>...</td>\n",
       "      <td>...</td>\n",
       "      <td>...</td>\n",
       "      <td>...</td>\n",
       "      <td>...</td>\n",
       "      <td>...</td>\n",
       "      <td>...</td>\n",
       "      <td>...</td>\n",
       "      <td>...</td>\n",
       "    </tr>\n",
       "    <tr>\n",
       "      <th>649</th>\n",
       "      <td>0.027272</td>\n",
       "      <td>0.011633</td>\n",
       "      <td>5.566084</td>\n",
       "      <td>0.033468</td>\n",
       "      <td>0.019113</td>\n",
       "      <td>0.025997</td>\n",
       "      <td>0.007309</td>\n",
       "      <td>0.172545</td>\n",
       "      <td>0.070511</td>\n",
       "      <td>0.007060</td>\n",
       "      <td>0.018291</td>\n",
       "      <td>0.030474</td>\n",
       "      <td>0.010242</td>\n",
       "      <td>1</td>\n",
       "    </tr>\n",
       "    <tr>\n",
       "      <th>650</th>\n",
       "      <td>0.034041</td>\n",
       "      <td>0.011002</td>\n",
       "      <td>0.269732</td>\n",
       "      <td>5.435216</td>\n",
       "      <td>0.099460</td>\n",
       "      <td>0.029035</td>\n",
       "      <td>0.036483</td>\n",
       "      <td>0.015797</td>\n",
       "      <td>0.019548</td>\n",
       "      <td>0.001495</td>\n",
       "      <td>0.004283</td>\n",
       "      <td>0.025284</td>\n",
       "      <td>0.018625</td>\n",
       "      <td>1</td>\n",
       "    </tr>\n",
       "    <tr>\n",
       "      <th>651</th>\n",
       "      <td>0.012780</td>\n",
       "      <td>0.020362</td>\n",
       "      <td>5.463628</td>\n",
       "      <td>0.017435</td>\n",
       "      <td>0.073581</td>\n",
       "      <td>0.098970</td>\n",
       "      <td>0.136795</td>\n",
       "      <td>0.037666</td>\n",
       "      <td>0.021683</td>\n",
       "      <td>0.025172</td>\n",
       "      <td>0.008022</td>\n",
       "      <td>0.065392</td>\n",
       "      <td>0.018516</td>\n",
       "      <td>1</td>\n",
       "    </tr>\n",
       "    <tr>\n",
       "      <th>652</th>\n",
       "      <td>5.549494</td>\n",
       "      <td>0.040718</td>\n",
       "      <td>0.121040</td>\n",
       "      <td>0.085287</td>\n",
       "      <td>0.023638</td>\n",
       "      <td>0.026861</td>\n",
       "      <td>0.037254</td>\n",
       "      <td>0.006342</td>\n",
       "      <td>0.019641</td>\n",
       "      <td>0.011119</td>\n",
       "      <td>0.017473</td>\n",
       "      <td>0.039072</td>\n",
       "      <td>0.022061</td>\n",
       "      <td>1</td>\n",
       "    </tr>\n",
       "    <tr>\n",
       "      <th>653</th>\n",
       "      <td>0.817266</td>\n",
       "      <td>0.040361</td>\n",
       "      <td>0.545573</td>\n",
       "      <td>0.031037</td>\n",
       "      <td>0.014663</td>\n",
       "      <td>3.274501</td>\n",
       "      <td>0.183444</td>\n",
       "      <td>0.033765</td>\n",
       "      <td>0.652011</td>\n",
       "      <td>0.113796</td>\n",
       "      <td>0.024205</td>\n",
       "      <td>0.258794</td>\n",
       "      <td>0.010583</td>\n",
       "      <td>0</td>\n",
       "    </tr>\n",
       "  </tbody>\n",
       "</table>\n",
       "<p>654 rows × 14 columns</p>\n",
       "</div>"
      ],
      "text/plain": [
       "            0         1         2         3         4         5         6  \\\n",
       "0    0.048266  0.048149  0.260114  0.149246  0.219075  4.446380  0.007021   \n",
       "1    0.047434  0.318251  0.145180  0.137236  0.155666  0.108793  0.278606   \n",
       "2    0.013016  0.010684  0.053369  0.005189  0.006216  0.033649  0.046194   \n",
       "3    0.013148  0.043185  0.378299  0.005715  0.086470  4.732909  0.022278   \n",
       "4    0.690932  0.061152  1.020601  0.016478  0.355291  0.243142  1.287351   \n",
       "..        ...       ...       ...       ...       ...       ...       ...   \n",
       "649  0.027272  0.011633  5.566084  0.033468  0.019113  0.025997  0.007309   \n",
       "650  0.034041  0.011002  0.269732  5.435216  0.099460  0.029035  0.036483   \n",
       "651  0.012780  0.020362  5.463628  0.017435  0.073581  0.098970  0.136795   \n",
       "652  5.549494  0.040718  0.121040  0.085287  0.023638  0.026861  0.037254   \n",
       "653  0.817266  0.040361  0.545573  0.031037  0.014663  3.274501  0.183444   \n",
       "\n",
       "            7         8         9        10        11        12  big_logit  \n",
       "0    0.030451  0.046244  0.062171  0.035156  0.546128  0.101598          1  \n",
       "1    0.005282  0.010501  0.373284  0.235871  3.019637  1.164259          0  \n",
       "2    0.015576  5.708686  0.012324  0.061275  0.021835  0.011986          1  \n",
       "3    0.008359  0.015183  0.391139  0.026645  0.069764  0.206907          1  \n",
       "4    0.077838  0.021360  0.333542  0.062508  1.513232  0.316572          0  \n",
       "..        ...       ...       ...       ...       ...       ...        ...  \n",
       "649  0.172545  0.070511  0.007060  0.018291  0.030474  0.010242          1  \n",
       "650  0.015797  0.019548  0.001495  0.004283  0.025284  0.018625          1  \n",
       "651  0.037666  0.021683  0.025172  0.008022  0.065392  0.018516          1  \n",
       "652  0.006342  0.019641  0.011119  0.017473  0.039072  0.022061          1  \n",
       "653  0.033765  0.652011  0.113796  0.024205  0.258794  0.010583          0  \n",
       "\n",
       "[654 rows x 14 columns]"
      ]
     },
     "execution_count": 7,
     "metadata": {},
     "output_type": "execute_result"
    }
   ],
   "source": [
    "logit_sum[\"big_logit\"] = logit_sum.apply(lambda row: 1 if max(row) >=  logit_th * len(inf_cv_csvs) else 0 , axis=1)\n",
    "logit_sum"
   ]
  },
  {
   "cell_type": "code",
   "execution_count": 8,
   "metadata": {
    "ExecuteTime": {
     "end_time": "2021-07-02T18:45:25.292348Z",
     "start_time": "2021-07-02T18:45:25.231322Z"
    }
   },
   "outputs": [
    {
     "data": {
      "text/html": [
       "<div>\n",
       "<style scoped>\n",
       "    .dataframe tbody tr th:only-of-type {\n",
       "        vertical-align: middle;\n",
       "    }\n",
       "\n",
       "    .dataframe tbody tr th {\n",
       "        vertical-align: top;\n",
       "    }\n",
       "\n",
       "    .dataframe thead th {\n",
       "        text-align: right;\n",
       "    }\n",
       "</style>\n",
       "<table border=\"1\" class=\"dataframe\">\n",
       "  <thead>\n",
       "    <tr style=\"text-align: right;\">\n",
       "      <th></th>\n",
       "      <th>0</th>\n",
       "      <th>1</th>\n",
       "      <th>2</th>\n",
       "      <th>3</th>\n",
       "      <th>4</th>\n",
       "      <th>5</th>\n",
       "      <th>6</th>\n",
       "      <th>7</th>\n",
       "      <th>8</th>\n",
       "      <th>9</th>\n",
       "      <th>10</th>\n",
       "      <th>11</th>\n",
       "      <th>12</th>\n",
       "      <th>pred_all_same</th>\n",
       "      <th>pred_label</th>\n",
       "    </tr>\n",
       "  </thead>\n",
       "  <tbody>\n",
       "    <tr>\n",
       "      <th>0</th>\n",
       "      <td>0.0</td>\n",
       "      <td>0.0</td>\n",
       "      <td>0.0</td>\n",
       "      <td>0.0</td>\n",
       "      <td>0.0</td>\n",
       "      <td>6.0</td>\n",
       "      <td>0.0</td>\n",
       "      <td>0.0</td>\n",
       "      <td>0.0</td>\n",
       "      <td>0.0</td>\n",
       "      <td>0.0</td>\n",
       "      <td>0.0</td>\n",
       "      <td>0.0</td>\n",
       "      <td>1</td>\n",
       "      <td>5</td>\n",
       "    </tr>\n",
       "    <tr>\n",
       "      <th>1</th>\n",
       "      <td>0.0</td>\n",
       "      <td>1.0</td>\n",
       "      <td>0.0</td>\n",
       "      <td>0.0</td>\n",
       "      <td>0.0</td>\n",
       "      <td>0.0</td>\n",
       "      <td>0.0</td>\n",
       "      <td>0.0</td>\n",
       "      <td>0.0</td>\n",
       "      <td>0.0</td>\n",
       "      <td>0.0</td>\n",
       "      <td>4.0</td>\n",
       "      <td>1.0</td>\n",
       "      <td>0</td>\n",
       "      <td>11</td>\n",
       "    </tr>\n",
       "    <tr>\n",
       "      <th>2</th>\n",
       "      <td>0.0</td>\n",
       "      <td>0.0</td>\n",
       "      <td>0.0</td>\n",
       "      <td>0.0</td>\n",
       "      <td>0.0</td>\n",
       "      <td>0.0</td>\n",
       "      <td>0.0</td>\n",
       "      <td>0.0</td>\n",
       "      <td>6.0</td>\n",
       "      <td>0.0</td>\n",
       "      <td>0.0</td>\n",
       "      <td>0.0</td>\n",
       "      <td>0.0</td>\n",
       "      <td>1</td>\n",
       "      <td>8</td>\n",
       "    </tr>\n",
       "    <tr>\n",
       "      <th>3</th>\n",
       "      <td>0.0</td>\n",
       "      <td>0.0</td>\n",
       "      <td>0.0</td>\n",
       "      <td>0.0</td>\n",
       "      <td>0.0</td>\n",
       "      <td>6.0</td>\n",
       "      <td>0.0</td>\n",
       "      <td>0.0</td>\n",
       "      <td>0.0</td>\n",
       "      <td>0.0</td>\n",
       "      <td>0.0</td>\n",
       "      <td>0.0</td>\n",
       "      <td>0.0</td>\n",
       "      <td>1</td>\n",
       "      <td>5</td>\n",
       "    </tr>\n",
       "    <tr>\n",
       "      <th>4</th>\n",
       "      <td>2.0</td>\n",
       "      <td>0.0</td>\n",
       "      <td>1.0</td>\n",
       "      <td>0.0</td>\n",
       "      <td>0.0</td>\n",
       "      <td>0.0</td>\n",
       "      <td>1.0</td>\n",
       "      <td>0.0</td>\n",
       "      <td>0.0</td>\n",
       "      <td>0.0</td>\n",
       "      <td>0.0</td>\n",
       "      <td>2.0</td>\n",
       "      <td>0.0</td>\n",
       "      <td>0</td>\n",
       "      <td>0</td>\n",
       "    </tr>\n",
       "    <tr>\n",
       "      <th>...</th>\n",
       "      <td>...</td>\n",
       "      <td>...</td>\n",
       "      <td>...</td>\n",
       "      <td>...</td>\n",
       "      <td>...</td>\n",
       "      <td>...</td>\n",
       "      <td>...</td>\n",
       "      <td>...</td>\n",
       "      <td>...</td>\n",
       "      <td>...</td>\n",
       "      <td>...</td>\n",
       "      <td>...</td>\n",
       "      <td>...</td>\n",
       "      <td>...</td>\n",
       "      <td>...</td>\n",
       "    </tr>\n",
       "    <tr>\n",
       "      <th>649</th>\n",
       "      <td>0.0</td>\n",
       "      <td>0.0</td>\n",
       "      <td>6.0</td>\n",
       "      <td>0.0</td>\n",
       "      <td>0.0</td>\n",
       "      <td>0.0</td>\n",
       "      <td>0.0</td>\n",
       "      <td>0.0</td>\n",
       "      <td>0.0</td>\n",
       "      <td>0.0</td>\n",
       "      <td>0.0</td>\n",
       "      <td>0.0</td>\n",
       "      <td>0.0</td>\n",
       "      <td>1</td>\n",
       "      <td>2</td>\n",
       "    </tr>\n",
       "    <tr>\n",
       "      <th>650</th>\n",
       "      <td>0.0</td>\n",
       "      <td>0.0</td>\n",
       "      <td>0.0</td>\n",
       "      <td>6.0</td>\n",
       "      <td>0.0</td>\n",
       "      <td>0.0</td>\n",
       "      <td>0.0</td>\n",
       "      <td>0.0</td>\n",
       "      <td>0.0</td>\n",
       "      <td>0.0</td>\n",
       "      <td>0.0</td>\n",
       "      <td>0.0</td>\n",
       "      <td>0.0</td>\n",
       "      <td>1</td>\n",
       "      <td>3</td>\n",
       "    </tr>\n",
       "    <tr>\n",
       "      <th>651</th>\n",
       "      <td>0.0</td>\n",
       "      <td>0.0</td>\n",
       "      <td>6.0</td>\n",
       "      <td>0.0</td>\n",
       "      <td>0.0</td>\n",
       "      <td>0.0</td>\n",
       "      <td>0.0</td>\n",
       "      <td>0.0</td>\n",
       "      <td>0.0</td>\n",
       "      <td>0.0</td>\n",
       "      <td>0.0</td>\n",
       "      <td>0.0</td>\n",
       "      <td>0.0</td>\n",
       "      <td>1</td>\n",
       "      <td>2</td>\n",
       "    </tr>\n",
       "    <tr>\n",
       "      <th>652</th>\n",
       "      <td>6.0</td>\n",
       "      <td>0.0</td>\n",
       "      <td>0.0</td>\n",
       "      <td>0.0</td>\n",
       "      <td>0.0</td>\n",
       "      <td>0.0</td>\n",
       "      <td>0.0</td>\n",
       "      <td>0.0</td>\n",
       "      <td>0.0</td>\n",
       "      <td>0.0</td>\n",
       "      <td>0.0</td>\n",
       "      <td>0.0</td>\n",
       "      <td>0.0</td>\n",
       "      <td>1</td>\n",
       "      <td>0</td>\n",
       "    </tr>\n",
       "    <tr>\n",
       "      <th>653</th>\n",
       "      <td>0.0</td>\n",
       "      <td>0.0</td>\n",
       "      <td>1.0</td>\n",
       "      <td>0.0</td>\n",
       "      <td>0.0</td>\n",
       "      <td>4.0</td>\n",
       "      <td>0.0</td>\n",
       "      <td>0.0</td>\n",
       "      <td>1.0</td>\n",
       "      <td>0.0</td>\n",
       "      <td>0.0</td>\n",
       "      <td>0.0</td>\n",
       "      <td>0.0</td>\n",
       "      <td>0</td>\n",
       "      <td>5</td>\n",
       "    </tr>\n",
       "  </tbody>\n",
       "</table>\n",
       "<p>654 rows × 15 columns</p>\n",
       "</div>"
      ],
      "text/plain": [
       "       0    1    2    3    4    5    6    7    8    9   10   11   12  \\\n",
       "0    0.0  0.0  0.0  0.0  0.0  6.0  0.0  0.0  0.0  0.0  0.0  0.0  0.0   \n",
       "1    0.0  1.0  0.0  0.0  0.0  0.0  0.0  0.0  0.0  0.0  0.0  4.0  1.0   \n",
       "2    0.0  0.0  0.0  0.0  0.0  0.0  0.0  0.0  6.0  0.0  0.0  0.0  0.0   \n",
       "3    0.0  0.0  0.0  0.0  0.0  6.0  0.0  0.0  0.0  0.0  0.0  0.0  0.0   \n",
       "4    2.0  0.0  1.0  0.0  0.0  0.0  1.0  0.0  0.0  0.0  0.0  2.0  0.0   \n",
       "..   ...  ...  ...  ...  ...  ...  ...  ...  ...  ...  ...  ...  ...   \n",
       "649  0.0  0.0  6.0  0.0  0.0  0.0  0.0  0.0  0.0  0.0  0.0  0.0  0.0   \n",
       "650  0.0  0.0  0.0  6.0  0.0  0.0  0.0  0.0  0.0  0.0  0.0  0.0  0.0   \n",
       "651  0.0  0.0  6.0  0.0  0.0  0.0  0.0  0.0  0.0  0.0  0.0  0.0  0.0   \n",
       "652  6.0  0.0  0.0  0.0  0.0  0.0  0.0  0.0  0.0  0.0  0.0  0.0  0.0   \n",
       "653  0.0  0.0  1.0  0.0  0.0  4.0  0.0  0.0  1.0  0.0  0.0  0.0  0.0   \n",
       "\n",
       "     pred_all_same  pred_label  \n",
       "0                1           5  \n",
       "1                0          11  \n",
       "2                1           8  \n",
       "3                1           5  \n",
       "4                0           0  \n",
       "..             ...         ...  \n",
       "649              1           2  \n",
       "650              1           3  \n",
       "651              1           2  \n",
       "652              1           0  \n",
       "653              0           5  \n",
       "\n",
       "[654 rows x 15 columns]"
      ]
     },
     "execution_count": 8,
     "metadata": {},
     "output_type": "execute_result"
    }
   ],
   "source": [
    "pred_label = pred_onehot_sum.apply(lambda row: row.argmax(), axis=1)\n",
    "pred_onehot_sum[\"pred_all_same\"] = pred_onehot_sum.apply(lambda row: 1 if max(row) == len(inf_cv_csvs) else 0, axis=1)\n",
    "pred_onehot_sum[\"pred_label\"] = pred_label\n",
    "pred_onehot_sum"
   ]
  },
  {
   "cell_type": "code",
   "execution_count": 9,
   "metadata": {
    "ExecuteTime": {
     "end_time": "2021-07-02T18:45:25.304322Z",
     "start_time": "2021-07-02T18:45:25.293321Z"
    },
    "scrolled": true
   },
   "outputs": [
    {
     "data": {
      "text/html": [
       "<div>\n",
       "<style scoped>\n",
       "    .dataframe tbody tr th:only-of-type {\n",
       "        vertical-align: middle;\n",
       "    }\n",
       "\n",
       "    .dataframe tbody tr th {\n",
       "        vertical-align: top;\n",
       "    }\n",
       "\n",
       "    .dataframe thead th {\n",
       "        text-align: right;\n",
       "    }\n",
       "</style>\n",
       "<table border=\"1\" class=\"dataframe\">\n",
       "  <thead>\n",
       "    <tr style=\"text-align: right;\">\n",
       "      <th></th>\n",
       "      <th>label</th>\n",
       "      <th>big_logit</th>\n",
       "      <th>pred_label</th>\n",
       "      <th>pred_all_same</th>\n",
       "    </tr>\n",
       "  </thead>\n",
       "  <tbody>\n",
       "    <tr>\n",
       "      <th>0</th>\n",
       "      <td>5</td>\n",
       "      <td>1</td>\n",
       "      <td>5</td>\n",
       "      <td>1</td>\n",
       "    </tr>\n",
       "    <tr>\n",
       "      <th>1</th>\n",
       "      <td>11</td>\n",
       "      <td>0</td>\n",
       "      <td>11</td>\n",
       "      <td>0</td>\n",
       "    </tr>\n",
       "    <tr>\n",
       "      <th>2</th>\n",
       "      <td>8</td>\n",
       "      <td>1</td>\n",
       "      <td>8</td>\n",
       "      <td>1</td>\n",
       "    </tr>\n",
       "    <tr>\n",
       "      <th>3</th>\n",
       "      <td>5</td>\n",
       "      <td>1</td>\n",
       "      <td>5</td>\n",
       "      <td>1</td>\n",
       "    </tr>\n",
       "    <tr>\n",
       "      <th>4</th>\n",
       "      <td>0</td>\n",
       "      <td>0</td>\n",
       "      <td>0</td>\n",
       "      <td>0</td>\n",
       "    </tr>\n",
       "    <tr>\n",
       "      <th>...</th>\n",
       "      <td>...</td>\n",
       "      <td>...</td>\n",
       "      <td>...</td>\n",
       "      <td>...</td>\n",
       "    </tr>\n",
       "    <tr>\n",
       "      <th>649</th>\n",
       "      <td>2</td>\n",
       "      <td>1</td>\n",
       "      <td>2</td>\n",
       "      <td>1</td>\n",
       "    </tr>\n",
       "    <tr>\n",
       "      <th>650</th>\n",
       "      <td>3</td>\n",
       "      <td>1</td>\n",
       "      <td>3</td>\n",
       "      <td>1</td>\n",
       "    </tr>\n",
       "    <tr>\n",
       "      <th>651</th>\n",
       "      <td>2</td>\n",
       "      <td>1</td>\n",
       "      <td>2</td>\n",
       "      <td>1</td>\n",
       "    </tr>\n",
       "    <tr>\n",
       "      <th>652</th>\n",
       "      <td>0</td>\n",
       "      <td>1</td>\n",
       "      <td>0</td>\n",
       "      <td>1</td>\n",
       "    </tr>\n",
       "    <tr>\n",
       "      <th>653</th>\n",
       "      <td>5</td>\n",
       "      <td>0</td>\n",
       "      <td>5</td>\n",
       "      <td>0</td>\n",
       "    </tr>\n",
       "  </tbody>\n",
       "</table>\n",
       "<p>654 rows × 4 columns</p>\n",
       "</div>"
      ],
      "text/plain": [
       "     label  big_logit  pred_label  pred_all_same\n",
       "0        5          1           5              1\n",
       "1       11          0          11              0\n",
       "2        8          1           8              1\n",
       "3        5          1           5              1\n",
       "4        0          0           0              0\n",
       "..     ...        ...         ...            ...\n",
       "649      2          1           2              1\n",
       "650      3          1           3              1\n",
       "651      2          1           2              1\n",
       "652      0          1           0              1\n",
       "653      5          0           5              0\n",
       "\n",
       "[654 rows x 4 columns]"
      ]
     },
     "execution_count": 9,
     "metadata": {},
     "output_type": "execute_result"
    }
   ],
   "source": [
    "df = pd.DataFrame({\"label\": label})\n",
    "df = df.join(logit_sum[[\"big_logit\"]])\n",
    "df = df.join(pred_onehot_sum[[\"pred_label\", \"pred_all_same\"]])\n",
    "df"
   ]
  },
  {
   "cell_type": "code",
   "execution_count": 10,
   "metadata": {
    "ExecuteTime": {
     "end_time": "2021-07-02T18:45:25.309345Z",
     "start_time": "2021-07-02T18:45:25.305322Z"
    }
   },
   "outputs": [
    {
     "data": {
      "text/plain": [
       "0.7920489296636085"
      ]
     },
     "execution_count": 10,
     "metadata": {},
     "output_type": "execute_result"
    }
   ],
   "source": [
    "accuracy_score(df[\"label\"], df[\"pred_label\"])"
   ]
  },
  {
   "cell_type": "code",
   "execution_count": 11,
   "metadata": {
    "ExecuteTime": {
     "end_time": "2021-07-02T18:45:25.317349Z",
     "start_time": "2021-07-02T18:45:25.310323Z"
    }
   },
   "outputs": [
    {
     "name": "stdout",
     "output_type": "stream",
     "text": [
      "(352, 4)\n"
     ]
    },
    {
     "data": {
      "text/plain": [
       "0.6136363636363636"
      ]
     },
     "execution_count": 11,
     "metadata": {},
     "output_type": "execute_result"
    }
   ],
   "source": [
    "_df = df[df[\"pred_all_same\"] == 0]\n",
    "print(_df.shape)\n",
    "accuracy_score(_df[\"label\"], _df[\"pred_label\"])"
   ]
  },
  {
   "cell_type": "code",
   "execution_count": 12,
   "metadata": {
    "ExecuteTime": {
     "end_time": "2021-07-02T18:45:25.324321Z",
     "start_time": "2021-07-02T18:45:25.318356Z"
    }
   },
   "outputs": [
    {
     "name": "stdout",
     "output_type": "stream",
     "text": [
      "(302, 4)\n"
     ]
    },
    {
     "data": {
      "text/plain": [
       "1.0"
      ]
     },
     "execution_count": 12,
     "metadata": {},
     "output_type": "execute_result"
    }
   ],
   "source": [
    "_df = df[df[\"pred_all_same\"] == 1]\n",
    "print(_df.shape)\n",
    "accuracy_score(_df[\"label\"], _df[\"pred_label\"])"
   ]
  },
  {
   "cell_type": "code",
   "execution_count": 13,
   "metadata": {
    "ExecuteTime": {
     "end_time": "2021-07-02T18:45:25.330350Z",
     "start_time": "2021-07-02T18:45:25.325322Z"
    }
   },
   "outputs": [
    {
     "name": "stdout",
     "output_type": "stream",
     "text": [
      "(342, 4)\n"
     ]
    },
    {
     "data": {
      "text/plain": [
       "0.9707602339181286"
      ]
     },
     "execution_count": 13,
     "metadata": {},
     "output_type": "execute_result"
    }
   ],
   "source": [
    "_df = df[df[\"big_logit\"] == 1]\n",
    "print(_df.shape)\n",
    "accuracy_score(_df[\"label\"], _df[\"pred_label\"])"
   ]
  },
  {
   "cell_type": "code",
   "execution_count": 14,
   "metadata": {
    "ExecuteTime": {
     "end_time": "2021-07-02T18:45:25.336321Z",
     "start_time": "2021-07-02T18:45:25.331348Z"
    }
   },
   "outputs": [
    {
     "name": "stdout",
     "output_type": "stream",
     "text": [
      "(15, 4)\n"
     ]
    },
    {
     "data": {
      "text/plain": [
       "1.0"
      ]
     },
     "execution_count": 14,
     "metadata": {},
     "output_type": "execute_result"
    }
   ],
   "source": [
    "_df = df[(df[\"big_logit\"] == 0) & (df[\"pred_all_same\"] == 1)]\n",
    "print(_df.shape)\n",
    "accuracy_score(_df[\"label\"], _df[\"pred_label\"])"
   ]
  },
  {
   "cell_type": "code",
   "execution_count": 15,
   "metadata": {
    "ExecuteTime": {
     "end_time": "2021-07-02T18:45:25.342323Z",
     "start_time": "2021-07-02T18:45:25.337323Z"
    }
   },
   "outputs": [
    {
     "name": "stdout",
     "output_type": "stream",
     "text": [
      "(287, 4)\n"
     ]
    },
    {
     "data": {
      "text/plain": [
       "1.0"
      ]
     },
     "execution_count": 15,
     "metadata": {},
     "output_type": "execute_result"
    }
   ],
   "source": [
    "_df = df[(df[\"big_logit\"] == 1) & (df[\"pred_all_same\"] == 1)]\n",
    "print(_df.shape)\n",
    "accuracy_score(_df[\"label\"], _df[\"pred_label\"])"
   ]
  },
  {
   "cell_type": "code",
   "execution_count": 16,
   "metadata": {
    "ExecuteTime": {
     "end_time": "2021-07-02T18:45:25.348322Z",
     "start_time": "2021-07-02T18:45:25.343323Z"
    }
   },
   "outputs": [
    {
     "name": "stdout",
     "output_type": "stream",
     "text": [
      "(263, 4)\n"
     ]
    },
    {
     "data": {
      "text/plain": [
       "1.0"
      ]
     },
     "execution_count": 16,
     "metadata": {},
     "output_type": "execute_result"
    }
   ],
   "source": [
    "_df = df[(df[\"big_logit\"] == 1) & \n",
    "         (df[\"pred_all_same\"] == 1) & \n",
    "         (~df[\"pred_label\"].isin([1,3,4]))\n",
    "        ]\n",
    "print(_df.shape)\n",
    "accuracy_score(_df[\"label\"], _df[\"pred_label\"])"
   ]
  },
  {
   "cell_type": "code",
   "execution_count": 17,
   "metadata": {
    "ExecuteTime": {
     "end_time": "2021-07-02T18:45:25.356322Z",
     "start_time": "2021-07-02T18:45:25.349322Z"
    }
   },
   "outputs": [
    {
     "name": "stdout",
     "output_type": "stream",
     "text": [
      "(132, 4)\n"
     ]
    },
    {
     "data": {
      "text/plain": [
       "1.0"
      ]
     },
     "execution_count": 17,
     "metadata": {},
     "output_type": "execute_result"
    }
   ],
   "source": [
    "_df = df[(df[\"big_logit\"] == 1) & \n",
    "         (df[\"pred_all_same\"] == 1) & \n",
    "         (df[\"pred_label\"].isin([0,6,7,8,9,11]))\n",
    "        ]\n",
    "print(_df.shape)\n",
    "accuracy_score(_df[\"label\"], _df[\"pred_label\"])"
   ]
  },
  {
   "cell_type": "code",
   "execution_count": null,
   "metadata": {},
   "outputs": [],
   "source": []
  },
  {
   "cell_type": "markdown",
   "metadata": {},
   "source": [
    "# test check"
   ]
  },
  {
   "cell_type": "code",
   "execution_count": 18,
   "metadata": {
    "ExecuteTime": {
     "end_time": "2021-07-02T18:45:25.457360Z",
     "start_time": "2021-07-02T18:45:25.357323Z"
    }
   },
   "outputs": [
    {
     "data": {
      "text/html": [
       "<div>\n",
       "<style scoped>\n",
       "    .dataframe tbody tr th:only-of-type {\n",
       "        vertical-align: middle;\n",
       "    }\n",
       "\n",
       "    .dataframe tbody tr th {\n",
       "        vertical-align: top;\n",
       "    }\n",
       "\n",
       "    .dataframe thead th {\n",
       "        text-align: right;\n",
       "    }\n",
       "</style>\n",
       "<table border=\"1\" class=\"dataframe\">\n",
       "  <thead>\n",
       "    <tr style=\"text-align: right;\">\n",
       "      <th></th>\n",
       "      <th>big_logit</th>\n",
       "      <th>pred_label</th>\n",
       "      <th>pred_all_same</th>\n",
       "    </tr>\n",
       "  </thead>\n",
       "  <tbody>\n",
       "    <tr>\n",
       "      <th>0</th>\n",
       "      <td>0</td>\n",
       "      <td>2</td>\n",
       "      <td>0</td>\n",
       "    </tr>\n",
       "    <tr>\n",
       "      <th>1</th>\n",
       "      <td>0</td>\n",
       "      <td>11</td>\n",
       "      <td>1</td>\n",
       "    </tr>\n",
       "    <tr>\n",
       "      <th>2</th>\n",
       "      <td>1</td>\n",
       "      <td>10</td>\n",
       "      <td>1</td>\n",
       "    </tr>\n",
       "    <tr>\n",
       "      <th>3</th>\n",
       "      <td>0</td>\n",
       "      <td>3</td>\n",
       "      <td>0</td>\n",
       "    </tr>\n",
       "    <tr>\n",
       "      <th>4</th>\n",
       "      <td>0</td>\n",
       "      <td>1</td>\n",
       "      <td>0</td>\n",
       "    </tr>\n",
       "    <tr>\n",
       "      <th>...</th>\n",
       "      <td>...</td>\n",
       "      <td>...</td>\n",
       "      <td>...</td>\n",
       "    </tr>\n",
       "    <tr>\n",
       "      <th>492</th>\n",
       "      <td>1</td>\n",
       "      <td>2</td>\n",
       "      <td>1</td>\n",
       "    </tr>\n",
       "    <tr>\n",
       "      <th>493</th>\n",
       "      <td>0</td>\n",
       "      <td>2</td>\n",
       "      <td>1</td>\n",
       "    </tr>\n",
       "    <tr>\n",
       "      <th>494</th>\n",
       "      <td>1</td>\n",
       "      <td>8</td>\n",
       "      <td>1</td>\n",
       "    </tr>\n",
       "    <tr>\n",
       "      <th>495</th>\n",
       "      <td>1</td>\n",
       "      <td>6</td>\n",
       "      <td>1</td>\n",
       "    </tr>\n",
       "    <tr>\n",
       "      <th>496</th>\n",
       "      <td>0</td>\n",
       "      <td>11</td>\n",
       "      <td>1</td>\n",
       "    </tr>\n",
       "  </tbody>\n",
       "</table>\n",
       "<p>497 rows × 3 columns</p>\n",
       "</div>"
      ],
      "text/plain": [
       "     big_logit  pred_label  pred_all_same\n",
       "0            0           2              0\n",
       "1            0          11              1\n",
       "2            1          10              1\n",
       "3            0           3              0\n",
       "4            0           1              0\n",
       "..         ...         ...            ...\n",
       "492          1           2              1\n",
       "493          0           2              1\n",
       "494          1           8              1\n",
       "495          1           6              1\n",
       "496          0          11              1\n",
       "\n",
       "[497 rows x 3 columns]"
      ]
     },
     "execution_count": 18,
     "metadata": {},
     "output_type": "execute_result"
    }
   ],
   "source": [
    "logit_sum = None\n",
    "pred_onehot_sum = None\n",
    "for c in inf_test_csvs:\n",
    "    df = pd.read_csv(c).sort_values(by=\"image_id\")\n",
    "    \n",
    "    logit = df[[str(i) for i in range(NUM_CLASSES)]].values\n",
    "    pred = logit.argmax(1)\n",
    "    \n",
    "    logit_sum = logit if logit_sum is None else logit_sum + logit\n",
    "    pred_onehot_sum = np.eye(NUM_CLASSES)[pred] if pred_onehot_sum is None else pred_onehot_sum + np.eye(NUM_CLASSES)[pred]\n",
    "    \n",
    "logit_sum = pd.DataFrame(logit_sum)\n",
    "pred_onehot_sum = pd.DataFrame(pred_onehot_sum)\n",
    "\n",
    "logit_sum[\"big_logit\"] = logit_sum.apply(lambda row: 1 if row.max() >= logit_th * len(inf_test_csvs)  else 0 , axis=1)\n",
    "#display(logit_sum.style.background_gradient(cmap=\"Blues\"))\n",
    "\n",
    "pred_label = pred_onehot_sum.apply(lambda row: row.argmax(), axis=1)\n",
    "pred_onehot_sum[\"pred_all_same\"] = pred_onehot_sum.apply(lambda row: 1 if max(row) == len(inf_test_csvs) else 0, axis=1)\n",
    "pred_onehot_sum[\"pred_label\"] = pred_label\n",
    "#display(pred_onehot_sum.style.background_gradient(cmap=\"Blues\"))\n",
    "\n",
    "df = logit_sum[[\"big_logit\"]]\n",
    "df = df.join(pred_onehot_sum[[\"pred_label\", \"pred_all_same\"]])\n",
    "df"
   ]
  },
  {
   "cell_type": "code",
   "execution_count": 19,
   "metadata": {
    "ExecuteTime": {
     "end_time": "2021-07-02T18:45:25.461322Z",
     "start_time": "2021-07-02T18:45:25.458348Z"
    }
   },
   "outputs": [
    {
     "name": "stdout",
     "output_type": "stream",
     "text": [
      "(171, 3)\n"
     ]
    }
   ],
   "source": [
    "_df = df[df[\"pred_all_same\"] == 0]\n",
    "print(_df.shape)"
   ]
  },
  {
   "cell_type": "code",
   "execution_count": 20,
   "metadata": {
    "ExecuteTime": {
     "end_time": "2021-07-02T18:45:25.476322Z",
     "start_time": "2021-07-02T18:45:25.462322Z"
    }
   },
   "outputs": [
    {
     "name": "stdout",
     "output_type": "stream",
     "text": [
      "(326, 3)\n"
     ]
    }
   ],
   "source": [
    "_df = df[df[\"pred_all_same\"] == 1]\n",
    "print(_df.shape)\n",
    "\n",
    "df_tmp = pd.read_csv(inf_test_csvs[0]).sort_values(by=\"image_id\")[[\"image_id\", \"file_path\"]]\n",
    "\n",
    "_df = _df.reset_index().rename(columns={'index':'image_id'})\n",
    "_df = pd.merge(df_tmp, _df, on=\"image_id\")\n",
    "_df[[\"image_id\", \"file_path\", \"pred_label\"]].to_csv(f\"{NAME}_big_logit_test_pred_all_same1.csv\", index=False)\n",
    "\n",
    "#_df[[\"image_id\", \"file_path\", \"pred_label\"]]"
   ]
  },
  {
   "cell_type": "code",
   "execution_count": 21,
   "metadata": {
    "ExecuteTime": {
     "end_time": "2021-07-02T18:45:25.482347Z",
     "start_time": "2021-07-02T18:45:25.478321Z"
    }
   },
   "outputs": [
    {
     "name": "stdout",
     "output_type": "stream",
     "text": [
      "(241, 3)\n"
     ]
    }
   ],
   "source": [
    "_df = df[df[\"big_logit\"] == 1]\n",
    "print(_df.shape)"
   ]
  },
  {
   "cell_type": "code",
   "execution_count": 22,
   "metadata": {
    "ExecuteTime": {
     "end_time": "2021-07-02T18:45:25.487351Z",
     "start_time": "2021-07-02T18:45:25.483321Z"
    }
   },
   "outputs": [
    {
     "name": "stdout",
     "output_type": "stream",
     "text": [
      "(86, 3)\n"
     ]
    }
   ],
   "source": [
    "_df = df[(df[\"big_logit\"] == 0) & (df[\"pred_all_same\"] == 1)]\n",
    "print(_df.shape)"
   ]
  },
  {
   "cell_type": "code",
   "execution_count": 23,
   "metadata": {
    "ExecuteTime": {
     "end_time": "2021-07-02T18:45:25.502433Z",
     "start_time": "2021-07-02T18:45:25.488323Z"
    },
    "lines_to_next_cell": 0
   },
   "outputs": [
    {
     "name": "stdout",
     "output_type": "stream",
     "text": [
      "(240, 3)\n"
     ]
    }
   ],
   "source": [
    "_df = df[(df[\"big_logit\"] == 1) & (df[\"pred_all_same\"] == 1)]\n",
    "print(_df.shape)\n",
    "\n",
    "df_tmp = pd.read_csv(inf_test_csvs[0]).sort_values(by=\"image_id\")[[\"image_id\", \"file_path\"]]\n",
    "\n",
    "_df = _df.reset_index().rename(columns={'index':'image_id'})\n",
    "_df = pd.merge(df_tmp, _df, on=\"image_id\")\n",
    "_df[[\"image_id\", \"file_path\", \"pred_label\"]].to_csv(f\"{NAME}_big_logit_test.csv\", index=False)\n",
    "\n",
    "#_df[[\"image_id\", \"file_path\", \"pred_label\"]]"
   ]
  },
  {
   "cell_type": "code",
   "execution_count": 24,
   "metadata": {
    "ExecuteTime": {
     "end_time": "2021-07-02T18:45:25.517412Z",
     "start_time": "2021-07-02T18:45:25.503399Z"
    }
   },
   "outputs": [
    {
     "name": "stdout",
     "output_type": "stream",
     "text": [
      "(234, 3)\n"
     ]
    }
   ],
   "source": [
    "_df = df[(df[\"big_logit\"] == 1) & \n",
    "         (df[\"pred_all_same\"] == 1) & \n",
    "         (~df[\"pred_label\"].isin([1,3,4]))\n",
    "        ]\n",
    "print(_df.shape)\n",
    "\n",
    "df_tmp = pd.read_csv(inf_test_csvs[0]).sort_values(by=\"image_id\")[[\"image_id\", \"file_path\"]]\n",
    "\n",
    "_df = _df.reset_index().rename(columns={'index':'image_id'})\n",
    "_df = pd.merge(df_tmp, _df, on=\"image_id\")\n",
    "_df[[\"image_id\", \"file_path\", \"pred_label\"]].to_csv(f\"{NAME}_big_logit_test_isnot134.csv\", index=False)\n",
    "\n",
    "#_df[[\"image_id\", \"file_path\", \"pred_label\"]]"
   ]
  },
  {
   "cell_type": "code",
   "execution_count": 25,
   "metadata": {
    "ExecuteTime": {
     "end_time": "2021-07-02T18:45:25.532397Z",
     "start_time": "2021-07-02T18:45:25.518397Z"
    },
    "lines_to_next_cell": 0
   },
   "outputs": [
    {
     "name": "stdout",
     "output_type": "stream",
     "text": [
      "(131, 3)\n"
     ]
    }
   ],
   "source": [
    "_df = df[(df[\"big_logit\"] == 1) & \n",
    "         (df[\"pred_all_same\"] == 1) & \n",
    "         (df[\"pred_label\"].isin([0,6,7,8,9,11]))\n",
    "        ]\n",
    "print(_df.shape)\n",
    "\n",
    "df_tmp = pd.read_csv(inf_test_csvs[0]).sort_values(by=\"image_id\")[[\"image_id\", \"file_path\"]]\n",
    "\n",
    "_df = _df.reset_index().rename(columns={'index':'image_id'})\n",
    "_df = pd.merge(df_tmp, _df, on=\"image_id\")\n",
    "_df[[\"image_id\", \"file_path\", \"pred_label\"]].to_csv(f\"{NAME}_big_logit_test_is06789_11.csv\", index=False)\n",
    "\n",
    "#_df[[\"image_id\", \"file_path\", \"pred_label\"]]"
   ]
  },
  {
   "cell_type": "code",
   "execution_count": null,
   "metadata": {
    "lines_to_next_cell": 2
   },
   "outputs": [],
   "source": []
  }
 ],
 "metadata": {
  "hide_input": false,
  "jupytext": {
   "encoding": "# -*- coding: utf-8 -*-",
   "text_representation": {
    "extension": ".py",
    "format_name": "light",
    "format_version": "1.5",
    "jupytext_version": "1.7.1"
   }
  },
  "kernelspec": {
   "display_name": "Python 3 (ipykernel)",
   "language": "python",
   "name": "python3"
  },
  "language_info": {
   "codemirror_mode": {
    "name": "ipython",
    "version": 3
   },
   "file_extension": ".py",
   "mimetype": "text/x-python",
   "name": "python",
   "nbconvert_exporter": "python",
   "pygments_lexer": "ipython3",
   "version": "3.8.10"
  }
 },
 "nbformat": 4,
 "nbformat_minor": 4
}
