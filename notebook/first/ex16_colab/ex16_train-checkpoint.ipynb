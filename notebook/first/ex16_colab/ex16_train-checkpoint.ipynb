{
 "cells": [
  {
   "cell_type": "code",
   "execution_count": 1,
   "metadata": {
    "ExecuteTime": {
     "end_time": "2021-06-30T07:30:12.744611Z",
     "start_time": "2021-06-30T07:30:12.733614Z"
    },
    "executionInfo": {
     "elapsed": 388,
     "status": "ok",
     "timestamp": 1625045974367,
     "user": {
      "displayName": "Shingo Yokoi",
      "photoUrl": "",
      "userId": "16552018841329203618"
     },
     "user_tz": -540
    },
    "id": "dsgENkij3Dwm"
   },
   "outputs": [],
   "source": [
    "NAME = \"ex16\""
   ]
  },
  {
   "cell_type": "markdown",
   "metadata": {
    "id": "YEKMMjpn_Y6Z"
   },
   "source": [
    "## colab"
   ]
  },
  {
   "cell_type": "code",
   "execution_count": 2,
   "metadata": {
    "ExecuteTime": {
     "end_time": "2021-06-30T07:30:12.818582Z",
     "start_time": "2021-06-30T07:30:12.745581Z"
    },
    "colab": {
     "base_uri": "https://localhost:8080/"
    },
    "executionInfo": {
     "elapsed": 8,
     "status": "ok",
     "timestamp": 1625045974368,
     "user": {
      "displayName": "Shingo Yokoi",
      "photoUrl": "",
      "userId": "16552018841329203618"
     },
     "user_tz": -540
    },
    "id": "UEg_x7oyXaEN",
    "outputId": "59b3b3dd-ec91-49f0-bb5f-9c5841f3813e"
   },
   "outputs": [
    {
     "name": "stdout",
     "output_type": "stream",
     "text": [
      "Wed Jun 30 09:39:34 2021       \n",
      "+-----------------------------------------------------------------------------+\n",
      "| NVIDIA-SMI 465.27       Driver Version: 460.32.03    CUDA Version: 11.2     |\n",
      "|-------------------------------+----------------------+----------------------+\n",
      "| GPU  Name        Persistence-M| Bus-Id        Disp.A | Volatile Uncorr. ECC |\n",
      "| Fan  Temp  Perf  Pwr:Usage/Cap|         Memory-Usage | GPU-Util  Compute M. |\n",
      "|                               |                      |               MIG M. |\n",
      "|===============================+======================+======================|\n",
      "|   0  Tesla P100-PCIE...  Off  | 00000000:00:04.0 Off |                    0 |\n",
      "| N/A   37C    P0    27W / 250W |      0MiB / 16280MiB |      0%      Default |\n",
      "|                               |                      |                  N/A |\n",
      "+-------------------------------+----------------------+----------------------+\n",
      "                                                                               \n",
      "+-----------------------------------------------------------------------------+\n",
      "| Processes:                                                                  |\n",
      "|  GPU   GI   CI        PID   Type   Process name                  GPU Memory |\n",
      "|        ID   ID                                                   Usage      |\n",
      "|=============================================================================|\n",
      "|  No running processes found                                                 |\n",
      "+-----------------------------------------------------------------------------+\n"
     ]
    }
   ],
   "source": [
    "!nvidia-smi"
   ]
  },
  {
   "cell_type": "code",
   "execution_count": 3,
   "metadata": {
    "ExecuteTime": {
     "end_time": "2021-06-30T07:30:12.821582Z",
     "start_time": "2021-06-30T07:30:12.819581Z"
    },
    "colab": {
     "base_uri": "https://localhost:8080/"
    },
    "executionInfo": {
     "elapsed": 21718,
     "status": "ok",
     "timestamp": 1625045996082,
     "user": {
      "displayName": "Shingo Yokoi",
      "photoUrl": "",
      "userId": "16552018841329203618"
     },
     "user_tz": -540
    },
    "id": "PEBtWXxWXdM0",
    "outputId": "17465bff-01a3-429a-c5d6-0d506f02a7ea"
   },
   "outputs": [
    {
     "name": "stdout",
     "output_type": "stream",
     "text": [
      "Mounted at /content/drive\n"
     ]
    }
   ],
   "source": [
    "# ドライブをマウント\n",
    "import sys\n",
    "if 'google.colab' in sys.modules:\n",
    "    from google.colab import drive\n",
    "    drive.mount('/content/drive')"
   ]
  },
  {
   "cell_type": "code",
   "execution_count": 4,
   "metadata": {
    "ExecuteTime": {
     "end_time": "2021-06-30T07:30:13.562342Z",
     "start_time": "2021-06-30T07:30:12.822583Z"
    },
    "executionInfo": {
     "elapsed": 4960,
     "status": "ok",
     "timestamp": 1625046001038,
     "user": {
      "displayName": "Shingo Yokoi",
      "photoUrl": "",
      "userId": "16552018841329203618"
     },
     "user_tz": -540
    },
    "id": "2dtYIxz3XYNq"
   },
   "outputs": [],
   "source": [
    "import os, sys\n",
    "\n",
    "if \"google.colab\" in sys.modules:\n",
    "    CP_DIR = f\"/content/drive/MyDrive/Work/probspace_religious_art/notebook/{NAME}_colab/output\"\n",
    "    OUTPUT_DIR = \"output\"\n",
    "    INPUT_DIR = \"./eda_output/output\"\n",
    "    sys.path.append(\"/content/drive/MyDrive/Work/probspace_religious_art/code\")\n",
    "elif \"kaggle_web_client\" in sys.modules:\n",
    "    pass\n",
    "elif \"/kqi/output\" in os.getcwd():\n",
    "    pass\n",
    "else:\n",
    "    # local\n",
    "    CP_DIR = \"output\"\n",
    "    OUTPUT_DIR = \"output\"\n",
    "    INPUT_DIR = \"../../eda/output\"\n",
    "    sys.path.append(\"../../../code\")\n",
    "    sys.path.append('../../../Git/Ranger-Deep-Learning-Optimizer')\n",
    "    sys.path.append('../../../Git/pytorch-optimizer')\n",
    "\n",
    "from mix_aug import cutmix, fmix, snapmix, SnapMixLoss, resizemix\n",
    "\n",
    "\n",
    "os.makedirs(CP_DIR, exist_ok=True)\n",
    "os.makedirs(OUTPUT_DIR, exist_ok=True)"
   ]
  },
  {
   "cell_type": "code",
   "execution_count": 5,
   "metadata": {
    "ExecuteTime": {
     "end_time": "2021-06-30T07:30:13.569343Z",
     "start_time": "2021-06-30T07:30:13.562342Z"
    },
    "executionInfo": {
     "elapsed": 1454,
     "status": "ok",
     "timestamp": 1625046002488,
     "user": {
      "displayName": "Shingo Yokoi",
      "photoUrl": "",
      "userId": "16552018841329203618"
     },
     "user_tz": -540
    },
    "id": "IpXcUizxZHLC"
   },
   "outputs": [],
   "source": [
    "# driveからzipコピーしてくる\n",
    "if os.getcwd() == \"/content\" and os.path.exists(INPUT_DIR) == False:\n",
    "    !mkdir -p \"./eda_output\"\n",
    "    !cp -r \"/content/drive/MyDrive/Work/probspace_religious_art/notebook/eda/output.zip\" \"./eda_output\"\n",
    "    !unzip -qq \"./eda_output/output.zip\" -d \"./eda_output\"\n",
    "    pass"
   ]
  },
  {
   "cell_type": "code",
   "execution_count": 6,
   "metadata": {
    "ExecuteTime": {
     "end_time": "2021-06-30T07:30:13.576342Z",
     "start_time": "2021-06-30T07:30:13.570342Z"
    },
    "colab": {
     "base_uri": "https://localhost:8080/"
    },
    "executionInfo": {
     "elapsed": 12225,
     "status": "ok",
     "timestamp": 1625046014711,
     "user": {
      "displayName": "Shingo Yokoi",
      "photoUrl": "",
      "userId": "16552018841329203618"
     },
     "user_tz": -540
    },
    "id": "ceROAHh1X3rr",
    "outputId": "4b4353fb-2065-4639-b40f-abfa0a5896f7",
    "scrolled": true
   },
   "outputs": [
    {
     "name": "stdout",
     "output_type": "stream",
     "text": [
      "Collecting albumentations\n",
      "\u001b[?25l  Downloading https://files.pythonhosted.org/packages/b0/be/3db3cd8af771988748f69eace42047d5edebf01eaa7e1293f3b3f75f989e/albumentations-1.0.0-py3-none-any.whl (98kB)\n",
      "\u001b[K     |████████████████████████████████| 102kB 6.2MB/s ta 0:00:011\n",
      "\u001b[?25hRequirement already satisfied, skipping upgrade: PyYAML in /usr/local/lib/python3.7/dist-packages (from albumentations) (3.13)\n",
      "Collecting opencv-python-headless>=4.1.1\n",
      "\u001b[?25l  Downloading https://files.pythonhosted.org/packages/c3/35/bfc76533f2274cd3da4e2cf255cd13ab9d7f6fc8990c06911e7f8fcc2130/opencv_python_headless-4.5.2.54-cp37-cp37m-manylinux2014_x86_64.whl (38.2MB)\n",
      "\u001b[K     |████████████████████████████████| 38.2MB 120kB/s \n",
      "\u001b[?25hRequirement already satisfied, skipping upgrade: scipy in /usr/local/lib/python3.7/dist-packages (from albumentations) (1.4.1)\n",
      "Requirement already satisfied, skipping upgrade: scikit-image>=0.16.1 in /usr/local/lib/python3.7/dist-packages (from albumentations) (0.16.2)\n",
      "Requirement already satisfied, skipping upgrade: numpy>=1.11.1 in /usr/local/lib/python3.7/dist-packages (from albumentations) (1.19.5)\n",
      "Requirement already satisfied, skipping upgrade: pillow>=4.3.0 in /usr/local/lib/python3.7/dist-packages (from scikit-image>=0.16.1->albumentations) (7.1.2)\n",
      "Requirement already satisfied, skipping upgrade: networkx>=2.0 in /usr/local/lib/python3.7/dist-packages (from scikit-image>=0.16.1->albumentations) (2.5.1)\n",
      "Requirement already satisfied, skipping upgrade: matplotlib!=3.0.0,>=2.0.0 in /usr/local/lib/python3.7/dist-packages (from scikit-image>=0.16.1->albumentations) (3.2.2)\n",
      "Requirement already satisfied, skipping upgrade: PyWavelets>=0.4.0 in /usr/local/lib/python3.7/dist-packages (from scikit-image>=0.16.1->albumentations) (1.1.1)\n",
      "Requirement already satisfied, skipping upgrade: imageio>=2.3.0 in /usr/local/lib/python3.7/dist-packages (from scikit-image>=0.16.1->albumentations) (2.4.1)\n",
      "Requirement already satisfied, skipping upgrade: decorator<5,>=4.3 in /usr/local/lib/python3.7/dist-packages (from networkx>=2.0->scikit-image>=0.16.1->albumentations) (4.4.2)\n",
      "Requirement already satisfied, skipping upgrade: kiwisolver>=1.0.1 in /usr/local/lib/python3.7/dist-packages (from matplotlib!=3.0.0,>=2.0.0->scikit-image>=0.16.1->albumentations) (1.3.1)\n",
      "Requirement already satisfied, skipping upgrade: pyparsing!=2.0.4,!=2.1.2,!=2.1.6,>=2.0.1 in /usr/local/lib/python3.7/dist-packages (from matplotlib!=3.0.0,>=2.0.0->scikit-image>=0.16.1->albumentations) (2.4.7)\n",
      "Requirement already satisfied, skipping upgrade: cycler>=0.10 in /usr/local/lib/python3.7/dist-packages (from matplotlib!=3.0.0,>=2.0.0->scikit-image>=0.16.1->albumentations) (0.10.0)\n",
      "Requirement already satisfied, skipping upgrade: python-dateutil>=2.1 in /usr/local/lib/python3.7/dist-packages (from matplotlib!=3.0.0,>=2.0.0->scikit-image>=0.16.1->albumentations) (2.8.1)\n",
      "Requirement already satisfied, skipping upgrade: six in /usr/local/lib/python3.7/dist-packages (from cycler>=0.10->matplotlib!=3.0.0,>=2.0.0->scikit-image>=0.16.1->albumentations) (1.15.0)\n",
      "Installing collected packages: opencv-python-headless, albumentations\n",
      "  Found existing installation: albumentations 0.1.12\n",
      "    Uninstalling albumentations-0.1.12:\n",
      "      Successfully uninstalled albumentations-0.1.12\n",
      "Successfully installed albumentations-1.0.0 opencv-python-headless-4.5.2.54\n",
      "Collecting timm\n",
      "\u001b[?25l  Downloading https://files.pythonhosted.org/packages/ee/08/1ccaf8d516935666b7fa5f6aaddf157c66208ea0c93bb847ae09f166354f/timm-0.4.9-py3-none-any.whl (346kB)\n",
      "\u001b[K     |████████████████████████████████| 348kB 7.9MB/s \n",
      "\u001b[?25hRequirement already satisfied, skipping upgrade: torchvision in /usr/local/lib/python3.7/dist-packages (from timm) (0.10.0+cu102)\n",
      "Requirement already satisfied, skipping upgrade: torch>=1.4 in /usr/local/lib/python3.7/dist-packages (from timm) (1.9.0+cu102)\n",
      "Requirement already satisfied, skipping upgrade: numpy in /usr/local/lib/python3.7/dist-packages (from torchvision->timm) (1.19.5)\n",
      "Requirement already satisfied, skipping upgrade: pillow>=5.3.0 in /usr/local/lib/python3.7/dist-packages (from torchvision->timm) (7.1.2)\n",
      "Requirement already satisfied, skipping upgrade: typing-extensions in /usr/local/lib/python3.7/dist-packages (from torch>=1.4->timm) (3.7.4.3)\n",
      "Installing collected packages: timm\n",
      "Successfully installed timm-0.4.9\n",
      "Collecting torch-optimizer\n",
      "\u001b[?25l  Downloading https://files.pythonhosted.org/packages/af/0f/bc49a0f714a1896b80f31db9ba82eebcb2bad9e0f5757184574f8ecfe2f1/torch_optimizer-0.1.0-py3-none-any.whl (72kB)\n",
      "\u001b[K     |████████████████████████████████| 81kB 5.2MB/s \n",
      "\u001b[?25hRequirement already satisfied: torch>=1.1.0 in /usr/local/lib/python3.7/dist-packages (from torch-optimizer) (1.9.0+cu102)\n",
      "Collecting pytorch-ranger>=0.1.1\n",
      "  Downloading https://files.pythonhosted.org/packages/0d/70/12256257d861bbc3e176130d25be1de085ce7a9e60594064888a950f2154/pytorch_ranger-0.1.1-py3-none-any.whl\n",
      "Requirement already satisfied: typing-extensions in /usr/local/lib/python3.7/dist-packages (from torch>=1.1.0->torch-optimizer) (3.7.4.3)\n",
      "Installing collected packages: pytorch-ranger, torch-optimizer\n",
      "Successfully installed pytorch-ranger-0.1.1 torch-optimizer-0.1.0\n"
     ]
    }
   ],
   "source": [
    "# colabで足りないライブラリinstall\n",
    "import os, sys\n",
    "if (\"google.colab\" in sys.modules) or (\"kaggle_web_client\" in sys.modules) or (\"/kqi/output\" in os.getcwd()):\n",
    "    !pip install --upgrade albumentations\n",
    "    !pip install --upgrade timm\n",
    "    !pip install torch-optimizer\n",
    "    pass"
   ]
  },
  {
   "cell_type": "markdown",
   "metadata": {
    "id": "pMuYluEj_Y6d"
   },
   "source": [
    "## data load"
   ]
  },
  {
   "cell_type": "code",
   "execution_count": 7,
   "metadata": {
    "ExecuteTime": {
     "end_time": "2021-06-30T07:30:13.762439Z",
     "start_time": "2021-06-30T07:30:13.577342Z"
    },
    "executionInfo": {
     "elapsed": 7,
     "status": "ok",
     "timestamp": 1625046014712,
     "user": {
      "displayName": "Shingo Yokoi",
      "photoUrl": "",
      "userId": "16552018841329203618"
     },
     "user_tz": -540
    },
    "id": "o8Y454EJXYNt"
   },
   "outputs": [],
   "source": [
    "import pandas as pd\n",
    "\n",
    "# ====================================================\n",
    "# Data Load\n",
    "# ====================================================\n",
    "def get_train_file_path(image_id):\n",
    "    return f\"{INPUT_DIR}/train/{str(image_id)}.jpg\"\n",
    "\n",
    "train = pd.read_csv(INPUT_DIR + \"/train.csv\")\n",
    "train[\"file_path\"] = train[\"image_id\"].apply(get_train_file_path)\n",
    "n_classes = 13"
   ]
  },
  {
   "cell_type": "markdown",
   "metadata": {
    "id": "qARZgTpKXYNt"
   },
   "source": [
    "## train"
   ]
  },
  {
   "cell_type": "code",
   "execution_count": 8,
   "metadata": {
    "ExecuteTime": {
     "end_time": "2021-06-30T07:30:13.789658Z",
     "start_time": "2021-06-30T07:30:13.763413Z"
    },
    "executionInfo": {
     "elapsed": 5,
     "status": "ok",
     "timestamp": 1625046014712,
     "user": {
      "displayName": "Shingo Yokoi",
      "photoUrl": "",
      "userId": "16552018841329203618"
     },
     "user_tz": -540
    },
    "id": "VilK3enmXYNt"
   },
   "outputs": [],
   "source": [
    "import os, yaml, shutil\n",
    "\n",
    "# ====================================================\n",
    "# Param\n",
    "# ====================================================\n",
    "epochs = 35\n",
    "class Config:\n",
    "    def __init__(self):\n",
    "        self.name = NAME\n",
    "        self.debug = False\n",
    "        self.size = 480\n",
    "        self.batch_size = 8\n",
    "        self.num_workers = os.cpu_count() if (\"google.colab\" in sys.modules) or (\"kaggle_web_client\" in sys.modules) or (\"/kqi/output\" in os.getcwd()) else 0\n",
    "        self.seeds = [0,1,2]\n",
    "        self.n_fold = 5\n",
    "        self.trn_fold = [0,1,2,3,4]\n",
    "        self.n_classes = n_classes\n",
    "        self.lr = 1e-3\n",
    "        self.min_lr = 1e-6\n",
    "        self.weight_decay = 0\n",
    "        self.optimizer = \"radam\"\n",
    "        self.scheduler = \"CosineAnnealingLR\"\n",
    "        self.T_max = epochs\n",
    "        self.gradient_accumulation_steps = 2\n",
    "        self.max_grad_norm = 5\n",
    "        self.model_name = \"tf_efficientnetv2_l_in21ft1k\"\n",
    "        self.load_model_path = \"none\"\n",
    "        self.is_load_opt = True\n",
    "        self.epochs = epochs\n",
    "        self.print_freq = 10000  # 学習結果をprintするstep数\n",
    "        self.label_smoothing = 0.0  # 0.3\n",
    "        self.mix_decision_th = 0.5  # cutmixなどの発生確率\n",
    "        self.mixmethod = \"cutmix\"\n",
    "        self.mix_alpha = 1.0\n",
    "CFG = Config()\n",
    "\n",
    "with open(OUTPUT_DIR + \"/cfg.yaml\", \"w\") as wf:\n",
    "    yaml.dump(CFG.__dict__, wf)"
   ]
  },
  {
   "cell_type": "code",
   "execution_count": 9,
   "metadata": {
    "ExecuteTime": {
     "end_time": "2021-06-30T07:34:13.433158Z",
     "start_time": "2021-06-30T07:30:13.790631Z"
    },
    "code_folding": [
     405
    ],
    "colab": {
     "base_uri": "https://localhost:8080/"
    },
    "executionInfo": {
     "elapsed": 33942650,
     "status": "ok",
     "timestamp": 1625079957359,
     "user": {
      "displayName": "Shingo Yokoi",
      "photoUrl": "",
      "userId": "16552018841329203618"
     },
     "user_tz": -540
    },
    "id": "bbrYnpbxXYNu",
    "lines_to_next_cell": 0,
    "outputId": "e3a85198-81ea-490d-ef99-0cc2e5ca1303",
    "scrolled": true
   },
   "outputs": [
    {
     "name": "stderr",
     "output_type": "stream",
     "text": [
      "==================== fold: 0, seed: 0 training ====================\n"
     ]
    },
    {
     "name": "stdout",
     "output_type": "stream",
     "text": [
      "timm version: 0.4.9\n",
      "cuda\n",
      "fold\n",
      "0    131\n",
      "1    131\n",
      "2    131\n",
      "3    131\n",
      "4    130\n",
      "dtype: int64\n"
     ]
    },
    {
     "name": "stderr",
     "output_type": "stream",
     "text": [
      "Downloading: \"https://github.com/rwightman/pytorch-image-models/releases/download/v0.1-effv2-weights/tf_efficientnetv2_l_21ft1k-60127a9d.pth\" to /root/.cache/torch/hub/checkpoints/tf_efficientnetv2_l_21ft1k-60127a9d.pth\n"
     ]
    },
    {
     "name": "stdout",
     "output_type": "stream",
     "text": [
      "Epoch: [1][0/65] Data 0.537 (0.537) Elapsed 0m 1s (remain 1m 20s) Loss: 2.6084(2.6084) Grad Norm: 0.0000  LR: 1.0000e-03  \n",
      "Epoch: [1][64/65] Data 0.000 (0.008) Elapsed 0m 57s (remain 0m 0s) Loss: 2.6149(2.5974) Grad Norm: 7.5485  LR: 1.0000e-03  \n",
      "EVAL: [0/17] Data 0.339 (0.339) Elapsed 0m 0s (remain 0m 9s) \n"
     ]
    },
    {
     "name": "stderr",
     "output_type": "stream",
     "text": [
      "labels: [11  6  2  2  4]\n",
      "pred_labels: [3 0 0 2 3]\n",
      "Epoch 1 - avg_train_loss: 2.5974  lr: 1.0000e-03  time: 62s\n",
      "Epoch 1 - Score: 0.1374\n",
      "Epoch 1 - Save Best Score: 0.1374 Model\n"
     ]
    },
    {
     "name": "stdout",
     "output_type": "stream",
     "text": [
      "EVAL: [16/17] Data 0.000 (0.020) Elapsed 0m 4s (remain 0m 0s) \n",
      "Epoch: [2][0/65] Data 0.537 (0.537) Elapsed 0m 1s (remain 1m 14s) Loss: 2.4274(2.4274) Grad Norm: 0.0000  LR: 9.9598e-04  \n",
      "Epoch: [2][64/65] Data 0.000 (0.008) Elapsed 0m 57s (remain 0m 0s) Loss: 2.2932(2.3480) Grad Norm: 7.2785  LR: 9.9598e-04  \n",
      "EVAL: [0/17] Data 0.331 (0.331) Elapsed 0m 0s (remain 0m 9s) \n"
     ]
    },
    {
     "name": "stderr",
     "output_type": "stream",
     "text": [
      "labels: [11  6  2  2  4]\n",
      "pred_labels: [2 0 5 2 6]\n",
      "Epoch 2 - avg_train_loss: 2.3480  lr: 9.9598e-04  time: 62s\n",
      "Epoch 2 - Score: 0.3206\n",
      "Epoch 2 - Save Best Score: 0.3206 Model\n"
     ]
    },
    {
     "name": "stdout",
     "output_type": "stream",
     "text": [
      "EVAL: [16/17] Data 0.000 (0.020) Elapsed 0m 4s (remain 0m 0s) \n",
      "Epoch: [3][0/65] Data 0.384 (0.384) Elapsed 0m 1s (remain 1m 9s) Loss: 2.2132(2.2132) Grad Norm: 0.0000  LR: 9.8599e-04  \n",
      "Epoch: [3][64/65] Data 0.000 (0.006) Elapsed 0m 57s (remain 0m 0s) Loss: 2.6467(2.1512) Grad Norm: 6.9929  LR: 9.8599e-04  \n",
      "EVAL: [0/17] Data 0.264 (0.264) Elapsed 0m 0s (remain 0m 7s) \n"
     ]
    },
    {
     "name": "stderr",
     "output_type": "stream",
     "text": [
      "labels: [11  6  2  2  4]\n",
      "pred_labels: [2 5 5 2 3]\n",
      "Epoch 3 - avg_train_loss: 2.1512  lr: 9.8599e-04  time: 62s\n",
      "Epoch 3 - Score: 0.3206\n"
     ]
    },
    {
     "name": "stdout",
     "output_type": "stream",
     "text": [
      "EVAL: [16/17] Data 0.000 (0.016) Elapsed 0m 4s (remain 0m 0s) \n",
      "Epoch: [4][0/65] Data 0.376 (0.376) Elapsed 0m 1s (remain 1m 6s) Loss: 1.6194(1.6194) Grad Norm: 0.0000  LR: 9.7213e-04  \n",
      "Epoch: [4][64/65] Data 0.000 (0.006) Elapsed 0m 56s (remain 0m 0s) Loss: 1.7548(1.9226) Grad Norm: 7.0078  LR: 9.7213e-04  \n",
      "EVAL: [0/17] Data 0.315 (0.315) Elapsed 0m 0s (remain 0m 8s) \n"
     ]
    },
    {
     "name": "stderr",
     "output_type": "stream",
     "text": [
      "labels: [11  6  2  2  4]\n",
      "pred_labels: [12  6  2 11  3]\n",
      "Epoch 4 - avg_train_loss: 1.9226  lr: 9.7213e-04  time: 61s\n",
      "Epoch 4 - Score: 0.4198\n",
      "Epoch 4 - Save Best Score: 0.4198 Model\n"
     ]
    },
    {
     "name": "stdout",
     "output_type": "stream",
     "text": [
      "EVAL: [16/17] Data 0.000 (0.019) Elapsed 0m 4s (remain 0m 0s) \n",
      "Epoch: [5][0/65] Data 0.411 (0.411) Elapsed 0m 1s (remain 1m 11s) Loss: 1.9672(1.9672) Grad Norm: 0.0000  LR: 9.5449e-04  \n",
      "Epoch: [5][64/65] Data 0.000 (0.007) Elapsed 0m 57s (remain 0m 0s) Loss: 1.3813(1.8117) Grad Norm: 7.9140  LR: 9.5449e-04  \n",
      "EVAL: [0/17] Data 0.276 (0.276) Elapsed 0m 0s (remain 0m 8s) \n"
     ]
    },
    {
     "name": "stderr",
     "output_type": "stream",
     "text": [
      "labels: [11  6  2  2  4]\n",
      "pred_labels: [12  6  5 11  4]\n",
      "Epoch 5 - avg_train_loss: 1.8117  lr: 9.5449e-04  time: 62s\n",
      "Epoch 5 - Score: 0.5496\n",
      "Epoch 5 - Save Best Score: 0.5496 Model\n"
     ]
    },
    {
     "name": "stdout",
     "output_type": "stream",
     "text": [
      "EVAL: [16/17] Data 0.000 (0.016) Elapsed 0m 4s (remain 0m 0s) \n",
      "Epoch: [6][0/65] Data 0.374 (0.374) Elapsed 0m 0s (remain 1m 3s) Loss: 1.2587(1.2587) Grad Norm: 0.0000  LR: 9.3324e-04  \n",
      "Epoch: [6][64/65] Data 0.000 (0.006) Elapsed 0m 57s (remain 0m 0s) Loss: 1.8766(1.4570) Grad Norm: 7.1757  LR: 9.3324e-04  \n",
      "EVAL: [0/17] Data 0.296 (0.296) Elapsed 0m 0s (remain 0m 8s) \n"
     ]
    },
    {
     "name": "stderr",
     "output_type": "stream",
     "text": [
      "labels: [11  6  2  2  4]\n",
      "pred_labels: [12  6  2  6  4]\n",
      "Epoch 6 - avg_train_loss: 1.4570  lr: 9.3324e-04  time: 62s\n",
      "Epoch 6 - Score: 0.5115\n"
     ]
    },
    {
     "name": "stdout",
     "output_type": "stream",
     "text": [
      "EVAL: [16/17] Data 0.000 (0.018) Elapsed 0m 4s (remain 0m 0s) \n",
      "Epoch: [7][0/65] Data 0.411 (0.411) Elapsed 0m 1s (remain 1m 6s) Loss: 0.7779(0.7779) Grad Norm: 0.0000  LR: 9.0853e-04  \n",
      "Epoch: [7][64/65] Data 0.000 (0.007) Elapsed 0m 57s (remain 0m 0s) Loss: 2.0023(1.4145) Grad Norm: 7.5863  LR: 9.0853e-04  \n",
      "EVAL: [0/17] Data 0.321 (0.321) Elapsed 0m 0s (remain 0m 8s) \n"
     ]
    },
    {
     "name": "stderr",
     "output_type": "stream",
     "text": [
      "labels: [11  6  2  2  4]\n",
      "pred_labels: [12 11  2  6  4]\n",
      "Epoch 7 - avg_train_loss: 1.4145  lr: 9.0853e-04  time: 62s\n",
      "Epoch 7 - Score: 0.5649\n",
      "Epoch 7 - Save Best Score: 0.5649 Model\n"
     ]
    },
    {
     "name": "stdout",
     "output_type": "stream",
     "text": [
      "EVAL: [16/17] Data 0.000 (0.019) Elapsed 0m 4s (remain 0m 0s) \n",
      "Epoch: [8][0/65] Data 0.361 (0.361) Elapsed 0m 1s (remain 1m 4s) Loss: 1.7168(1.7168) Grad Norm: 0.0000  LR: 8.8057e-04  \n",
      "Epoch: [8][64/65] Data 0.000 (0.006) Elapsed 0m 57s (remain 0m 0s) Loss: 1.9973(1.3689) Grad Norm: 6.6376  LR: 8.8057e-04  \n",
      "EVAL: [0/17] Data 0.254 (0.254) Elapsed 0m 0s (remain 0m 7s) \n"
     ]
    },
    {
     "name": "stderr",
     "output_type": "stream",
     "text": [
      "labels: [11  6  2  2  4]\n",
      "pred_labels: [12 12  5  5  2]\n",
      "Epoch 8 - avg_train_loss: 1.3689  lr: 8.8057e-04  time: 61s\n",
      "Epoch 8 - Score: 0.5344\n"
     ]
    },
    {
     "name": "stdout",
     "output_type": "stream",
     "text": [
      "EVAL: [16/17] Data 0.000 (0.015) Elapsed 0m 4s (remain 0m 0s) \n",
      "Epoch: [9][0/65] Data 0.379 (0.379) Elapsed 0m 0s (remain 1m 3s) Loss: 0.4645(0.4645) Grad Norm: 0.0000  LR: 8.4958e-04  \n",
      "Epoch: [9][64/65] Data 0.000 (0.006) Elapsed 0m 57s (remain 0m 0s) Loss: 0.2527(1.2158) Grad Norm: 7.2879  LR: 8.4958e-04  \n",
      "EVAL: [0/17] Data 0.268 (0.268) Elapsed 0m 0s (remain 0m 8s) \n"
     ]
    },
    {
     "name": "stderr",
     "output_type": "stream",
     "text": [
      "labels: [11  6  2  2  4]\n",
      "pred_labels: [12 12  5  0  3]\n",
      "Epoch 9 - avg_train_loss: 1.2158  lr: 8.4958e-04  time: 61s\n",
      "Epoch 9 - Score: 0.4962\n"
     ]
    },
    {
     "name": "stdout",
     "output_type": "stream",
     "text": [
      "EVAL: [16/17] Data 0.000 (0.016) Elapsed 0m 4s (remain 0m 0s) \n",
      "Epoch: [10][0/65] Data 0.454 (0.454) Elapsed 0m 1s (remain 1m 9s) Loss: 0.5427(0.5427) Grad Norm: 0.0000  LR: 8.1581e-04  \n",
      "Epoch: [10][64/65] Data 0.000 (0.007) Elapsed 0m 57s (remain 0m 0s) Loss: 1.7139(1.0819) Grad Norm: 7.2664  LR: 8.1581e-04  \n",
      "EVAL: [0/17] Data 0.305 (0.305) Elapsed 0m 0s (remain 0m 8s) \n"
     ]
    },
    {
     "name": "stderr",
     "output_type": "stream",
     "text": [
      "labels: [11  6  2  2  4]\n",
      "pred_labels: [11  4  5  2  2]\n",
      "Epoch 10 - avg_train_loss: 1.0819  lr: 8.1581e-04  time: 62s\n",
      "Epoch 10 - Score: 0.5344\n"
     ]
    },
    {
     "name": "stdout",
     "output_type": "stream",
     "text": [
      "EVAL: [16/17] Data 0.000 (0.018) Elapsed 0m 4s (remain 0m 0s) \n",
      "Epoch: [11][0/65] Data 0.450 (0.450) Elapsed 0m 1s (remain 1m 7s) Loss: 0.1024(0.1024) Grad Norm: 0.0000  LR: 7.7953e-04  \n",
      "Epoch: [11][64/65] Data 0.000 (0.007) Elapsed 0m 56s (remain 0m 0s) Loss: 1.6716(0.9807) Grad Norm: 5.7575  LR: 7.7953e-04  \n",
      "EVAL: [0/17] Data 0.326 (0.326) Elapsed 0m 0s (remain 0m 8s) \n"
     ]
    },
    {
     "name": "stderr",
     "output_type": "stream",
     "text": [
      "labels: [11  6  2  2  4]\n",
      "pred_labels: [11 12  5  2  3]\n",
      "Epoch 11 - avg_train_loss: 0.9807  lr: 7.7953e-04  time: 61s\n",
      "Epoch 11 - Score: 0.5038\n"
     ]
    },
    {
     "name": "stdout",
     "output_type": "stream",
     "text": [
      "EVAL: [16/17] Data 0.000 (0.019) Elapsed 0m 4s (remain 0m 0s) \n",
      "Epoch: [12][0/65] Data 0.367 (0.367) Elapsed 0m 0s (remain 1m 3s) Loss: 1.0179(1.0179) Grad Norm: 0.0000  LR: 7.4103e-04  \n",
      "Epoch: [12][64/65] Data 0.000 (0.006) Elapsed 0m 56s (remain 0m 0s) Loss: 0.2817(0.9423) Grad Norm: 5.3071  LR: 7.4103e-04  \n",
      "EVAL: [0/17] Data 0.321 (0.321) Elapsed 0m 0s (remain 0m 8s) \n"
     ]
    },
    {
     "name": "stderr",
     "output_type": "stream",
     "text": [
      "labels: [11  6  2  2  4]\n",
      "pred_labels: [11 12  5  4  0]\n",
      "Epoch 12 - avg_train_loss: 0.9423  lr: 7.4103e-04  time: 61s\n",
      "Epoch 12 - Score: 0.5344\n"
     ]
    },
    {
     "name": "stdout",
     "output_type": "stream",
     "text": [
      "EVAL: [16/17] Data 0.000 (0.019) Elapsed 0m 4s (remain 0m 0s) \n",
      "Epoch: [13][0/65] Data 0.439 (0.439) Elapsed 0m 1s (remain 1m 7s) Loss: 1.8576(1.8576) Grad Norm: 0.0000  LR: 7.0063e-04  \n",
      "Epoch: [13][64/65] Data 0.000 (0.007) Elapsed 0m 56s (remain 0m 0s) Loss: 0.2513(0.9989) Grad Norm: 6.2774  LR: 7.0063e-04  \n",
      "EVAL: [0/17] Data 0.360 (0.360) Elapsed 0m 0s (remain 0m 9s) \n"
     ]
    },
    {
     "name": "stderr",
     "output_type": "stream",
     "text": [
      "labels: [11  6  2  2  4]\n",
      "pred_labels: [11  2  5  4  3]\n",
      "Epoch 13 - avg_train_loss: 0.9989  lr: 7.0063e-04  time: 61s\n",
      "Epoch 13 - Score: 0.5267\n"
     ]
    },
    {
     "name": "stdout",
     "output_type": "stream",
     "text": [
      "EVAL: [16/17] Data 0.000 (0.021) Elapsed 0m 4s (remain 0m 0s) \n",
      "Epoch: [14][0/65] Data 0.484 (0.484) Elapsed 0m 1s (remain 1m 9s) Loss: 0.8911(0.8911) Grad Norm: 0.0000  LR: 6.5865e-04  \n",
      "Epoch: [14][64/65] Data 0.000 (0.008) Elapsed 0m 56s (remain 0m 0s) Loss: 1.9649(0.9251) Grad Norm: 6.5683  LR: 6.5865e-04  \n",
      "EVAL: [0/17] Data 0.342 (0.342) Elapsed 0m 0s (remain 0m 9s) \n"
     ]
    },
    {
     "name": "stderr",
     "output_type": "stream",
     "text": [
      "labels: [11  6  2  2  4]\n",
      "pred_labels: [11  1  5  2  3]\n",
      "Epoch 14 - avg_train_loss: 0.9251  lr: 6.5865e-04  time: 62s\n",
      "Epoch 14 - Score: 0.5573\n"
     ]
    },
    {
     "name": "stdout",
     "output_type": "stream",
     "text": [
      "EVAL: [16/17] Data 0.000 (0.020) Elapsed 0m 4s (remain 0m 0s) \n",
      "Epoch: [15][0/65] Data 0.475 (0.475) Elapsed 0m 1s (remain 1m 9s) Loss: 1.6223(1.6223) Grad Norm: 0.0000  LR: 6.1542e-04  \n",
      "Epoch: [15][64/65] Data 0.000 (0.007) Elapsed 0m 56s (remain 0m 0s) Loss: 0.9315(0.8818) Grad Norm: 5.1793  LR: 6.1542e-04  \n",
      "EVAL: [0/17] Data 0.314 (0.314) Elapsed 0m 0s (remain 0m 8s) \n"
     ]
    },
    {
     "name": "stderr",
     "output_type": "stream",
     "text": [
      "labels: [11  6  2  2  4]\n",
      "pred_labels: [11  2  5  4  4]\n",
      "Epoch 15 - avg_train_loss: 0.8818  lr: 6.1542e-04  time: 61s\n",
      "Epoch 15 - Score: 0.5573\n"
     ]
    },
    {
     "name": "stdout",
     "output_type": "stream",
     "text": [
      "EVAL: [16/17] Data 0.000 (0.019) Elapsed 0m 4s (remain 0m 0s) \n",
      "Epoch: [16][0/65] Data 0.416 (0.416) Elapsed 0m 1s (remain 1m 5s) Loss: 1.9827(1.9827) Grad Norm: 0.0000  LR: 5.7130e-04  \n",
      "Epoch: [16][64/65] Data 0.000 (0.007) Elapsed 0m 56s (remain 0m 0s) Loss: 0.1745(0.7798) Grad Norm: 6.6565  LR: 5.7130e-04  \n",
      "EVAL: [0/17] Data 0.352 (0.352) Elapsed 0m 0s (remain 0m 9s) \n"
     ]
    },
    {
     "name": "stderr",
     "output_type": "stream",
     "text": [
      "labels: [11  6  2  2  4]\n",
      "pred_labels: [11  2  5  4  4]\n",
      "Epoch 16 - avg_train_loss: 0.7798  lr: 5.7130e-04  time: 61s\n",
      "Epoch 16 - Score: 0.5115\n"
     ]
    },
    {
     "name": "stdout",
     "output_type": "stream",
     "text": [
      "EVAL: [16/17] Data 0.000 (0.021) Elapsed 0m 4s (remain 0m 0s) \n",
      "Epoch: [17][0/65] Data 0.482 (0.482) Elapsed 0m 1s (remain 1m 9s) Loss: 1.8367(1.8367) Grad Norm: 0.0000  LR: 5.2663e-04  \n",
      "Epoch: [17][64/65] Data 0.000 (0.008) Elapsed 0m 56s (remain 0m 0s) Loss: 0.2658(0.9654) Grad Norm: 4.8676  LR: 5.2663e-04  \n",
      "EVAL: [0/17] Data 0.319 (0.319) Elapsed 0m 0s (remain 0m 8s) \n"
     ]
    },
    {
     "name": "stderr",
     "output_type": "stream",
     "text": [
      "labels: [11  6  2  2  4]\n",
      "pred_labels: [11  2  5  4  3]\n",
      "Epoch 17 - avg_train_loss: 0.9654  lr: 5.2663e-04  time: 61s\n",
      "Epoch 17 - Score: 0.4809\n"
     ]
    },
    {
     "name": "stdout",
     "output_type": "stream",
     "text": [
      "EVAL: [16/17] Data 0.000 (0.019) Elapsed 0m 4s (remain 0m 0s) \n",
      "Epoch: [18][0/65] Data 0.428 (0.428) Elapsed 0m 1s (remain 1m 6s) Loss: 1.1393(1.1393) Grad Norm: 0.0000  LR: 4.8179e-04  \n",
      "Epoch: [18][64/65] Data 0.000 (0.007) Elapsed 0m 56s (remain 0m 0s) Loss: 1.5519(0.9045) Grad Norm: 5.2161  LR: 4.8179e-04  \n",
      "EVAL: [0/17] Data 0.303 (0.303) Elapsed 0m 0s (remain 0m 8s) \n"
     ]
    },
    {
     "name": "stderr",
     "output_type": "stream",
     "text": [
      "labels: [11  6  2  2  4]\n",
      "pred_labels: [11  2  5  4  2]\n",
      "Epoch 18 - avg_train_loss: 0.9045  lr: 4.8179e-04  time: 61s\n",
      "Epoch 18 - Score: 0.5267\n"
     ]
    },
    {
     "name": "stdout",
     "output_type": "stream",
     "text": [
      "EVAL: [16/17] Data 0.000 (0.018) Elapsed 0m 4s (remain 0m 0s) \n",
      "Epoch: [19][0/65] Data 0.376 (0.376) Elapsed 0m 0s (remain 1m 3s) Loss: 1.6449(1.6449) Grad Norm: 0.0000  LR: 4.3712e-04  \n",
      "Epoch: [19][64/65] Data 0.000 (0.006) Elapsed 0m 56s (remain 0m 0s) Loss: 1.8191(0.7494) Grad Norm: 1.9243  LR: 4.3712e-04  \n",
      "EVAL: [0/17] Data 0.327 (0.327) Elapsed 0m 0s (remain 0m 8s) \n"
     ]
    },
    {
     "name": "stderr",
     "output_type": "stream",
     "text": [
      "labels: [11  6  2  2  4]\n",
      "pred_labels: [11  2  5  4  9]\n",
      "Epoch 19 - avg_train_loss: 0.7494  lr: 4.3712e-04  time: 61s\n",
      "Epoch 19 - Score: 0.5649\n"
     ]
    },
    {
     "name": "stdout",
     "output_type": "stream",
     "text": [
      "EVAL: [16/17] Data 0.000 (0.019) Elapsed 0m 4s (remain 0m 0s) \n",
      "Epoch: [20][0/65] Data 0.450 (0.450) Elapsed 0m 1s (remain 1m 7s) Loss: 0.1100(0.1100) Grad Norm: 0.0000  LR: 3.9299e-04  \n",
      "Epoch: [20][64/65] Data 0.000 (0.007) Elapsed 0m 56s (remain 0m 0s) Loss: 1.5865(0.8108) Grad Norm: 3.4972  LR: 3.9299e-04  \n",
      "EVAL: [0/17] Data 0.271 (0.271) Elapsed 0m 0s (remain 0m 8s) \n"
     ]
    },
    {
     "name": "stderr",
     "output_type": "stream",
     "text": [
      "labels: [11  6  2  2  4]\n",
      "pred_labels: [11  2  5  4  0]\n",
      "Epoch 20 - avg_train_loss: 0.8108  lr: 3.9299e-04  time: 61s\n",
      "Epoch 20 - Score: 0.5573\n"
     ]
    },
    {
     "name": "stdout",
     "output_type": "stream",
     "text": [
      "EVAL: [16/17] Data 0.000 (0.016) Elapsed 0m 4s (remain 0m 0s) \n",
      "Epoch: [21][0/65] Data 0.461 (0.461) Elapsed 0m 1s (remain 1m 9s) Loss: 1.2294(1.2294) Grad Norm: 0.0000  LR: 3.4975e-04  \n",
      "Epoch: [21][64/65] Data 0.000 (0.007) Elapsed 0m 56s (remain 0m 0s) Loss: 1.5250(0.8235) Grad Norm: 4.9478  LR: 3.4975e-04  \n",
      "EVAL: [0/17] Data 0.320 (0.320) Elapsed 0m 0s (remain 0m 8s) \n"
     ]
    },
    {
     "name": "stderr",
     "output_type": "stream",
     "text": [
      "labels: [11  6  2  2  4]\n",
      "pred_labels: [11  2  5  4  4]\n",
      "Epoch 21 - avg_train_loss: 0.8235  lr: 3.4975e-04  time: 61s\n",
      "Epoch 21 - Score: 0.4962\n"
     ]
    },
    {
     "name": "stdout",
     "output_type": "stream",
     "text": [
      "EVAL: [16/17] Data 0.000 (0.019) Elapsed 0m 4s (remain 0m 0s) \n",
      "Epoch: [22][0/65] Data 0.392 (0.392) Elapsed 0m 1s (remain 1m 4s) Loss: 0.9769(0.9769) Grad Norm: 0.0000  LR: 3.0775e-04  \n",
      "Epoch: [22][64/65] Data 0.000 (0.006) Elapsed 0m 56s (remain 0m 0s) Loss: 0.0484(0.7156) Grad Norm: 4.6311  LR: 3.0775e-04  \n",
      "EVAL: [0/17] Data 0.343 (0.343) Elapsed 0m 0s (remain 0m 9s) \n"
     ]
    },
    {
     "name": "stderr",
     "output_type": "stream",
     "text": [
      "labels: [11  6  2  2  4]\n",
      "pred_labels: [12  2  5  4  2]\n",
      "Epoch 22 - avg_train_loss: 0.7156  lr: 3.0775e-04  time: 61s\n",
      "Epoch 22 - Score: 0.5267\n"
     ]
    },
    {
     "name": "stdout",
     "output_type": "stream",
     "text": [
      "EVAL: [16/17] Data 0.000 (0.020) Elapsed 0m 4s (remain 0m 0s) \n",
      "Epoch: [23][0/65] Data 0.417 (0.417) Elapsed 0m 1s (remain 1m 6s) Loss: 0.0225(0.0225) Grad Norm: 0.0000  LR: 2.6732e-04  \n",
      "Epoch: [23][64/65] Data 0.000 (0.007) Elapsed 0m 56s (remain 0m 0s) Loss: 1.0738(0.5944) Grad Norm: 0.5673  LR: 2.6732e-04  \n",
      "EVAL: [0/17] Data 0.316 (0.316) Elapsed 0m 0s (remain 0m 8s) \n"
     ]
    },
    {
     "name": "stderr",
     "output_type": "stream",
     "text": [
      "labels: [11  6  2  2  4]\n",
      "pred_labels: [12  2  5  4  2]\n",
      "Epoch 23 - avg_train_loss: 0.5944  lr: 2.6732e-04  time: 61s\n",
      "Epoch 23 - Score: 0.5267\n"
     ]
    },
    {
     "name": "stdout",
     "output_type": "stream",
     "text": [
      "EVAL: [16/17] Data 0.000 (0.019) Elapsed 0m 4s (remain 0m 0s) \n",
      "Epoch: [24][0/65] Data 0.484 (0.484) Elapsed 0m 1s (remain 1m 9s) Loss: 0.0863(0.0863) Grad Norm: 0.0000  LR: 2.2880e-04  \n",
      "Epoch: [24][64/65] Data 0.000 (0.008) Elapsed 0m 56s (remain 0m 0s) Loss: 0.5791(0.5667) Grad Norm: 2.8786  LR: 2.2880e-04  \n",
      "EVAL: [0/17] Data 0.320 (0.320) Elapsed 0m 0s (remain 0m 8s) \n"
     ]
    },
    {
     "name": "stderr",
     "output_type": "stream",
     "text": [
      "labels: [11  6  2  2  4]\n",
      "pred_labels: [11  2  5  4  2]\n",
      "Epoch 24 - avg_train_loss: 0.5667  lr: 2.2880e-04  time: 61s\n",
      "Epoch 24 - Score: 0.5191\n"
     ]
    },
    {
     "name": "stdout",
     "output_type": "stream",
     "text": [
      "EVAL: [16/17] Data 0.000 (0.019) Elapsed 0m 4s (remain 0m 0s) \n",
      "Epoch: [25][0/65] Data 0.431 (0.431) Elapsed 0m 1s (remain 1m 6s) Loss: 0.7967(0.7967) Grad Norm: 0.0000  LR: 1.9248e-04  \n",
      "Epoch: [25][64/65] Data 0.000 (0.007) Elapsed 0m 56s (remain 0m 0s) Loss: 1.5074(0.6294) Grad Norm: 0.9154  LR: 1.9248e-04  \n",
      "EVAL: [0/17] Data 0.245 (0.245) Elapsed 0m 0s (remain 0m 7s) \n"
     ]
    },
    {
     "name": "stderr",
     "output_type": "stream",
     "text": [
      "labels: [11  6  2  2  4]\n",
      "pred_labels: [11  2  5  4  3]\n",
      "Epoch 25 - avg_train_loss: 0.6294  lr: 1.9248e-04  time: 61s\n",
      "Epoch 25 - Score: 0.5420\n"
     ]
    },
    {
     "name": "stdout",
     "output_type": "stream",
     "text": [
      "EVAL: [16/17] Data 0.000 (0.015) Elapsed 0m 4s (remain 0m 0s) \n",
      "Epoch: [26][0/65] Data 0.452 (0.452) Elapsed 0m 1s (remain 1m 7s) Loss: 1.4511(1.4511) Grad Norm: 0.0000  LR: 1.5867e-04  \n",
      "Epoch: [26][64/65] Data 0.000 (0.007) Elapsed 0m 56s (remain 0m 0s) Loss: 1.4575(0.7343) Grad Norm: 4.8808  LR: 1.5867e-04  \n",
      "EVAL: [0/17] Data 0.297 (0.297) Elapsed 0m 0s (remain 0m 8s) \n"
     ]
    },
    {
     "name": "stderr",
     "output_type": "stream",
     "text": [
      "labels: [11  6  2  2  4]\n",
      "pred_labels: [11  2  5  4  3]\n",
      "Epoch 26 - avg_train_loss: 0.7343  lr: 1.5867e-04  time: 61s\n",
      "Epoch 26 - Score: 0.5191\n"
     ]
    },
    {
     "name": "stdout",
     "output_type": "stream",
     "text": [
      "EVAL: [16/17] Data 0.000 (0.018) Elapsed 0m 4s (remain 0m 0s) \n",
      "Epoch: [27][0/65] Data 0.366 (0.366) Elapsed 0m 1s (remain 1m 4s) Loss: 1.0177(1.0177) Grad Norm: 0.0000  LR: 1.2762e-04  \n",
      "Epoch: [27][64/65] Data 0.000 (0.006) Elapsed 0m 56s (remain 0m 0s) Loss: 0.0278(0.7470) Grad Norm: 4.0278  LR: 1.2762e-04  \n",
      "EVAL: [0/17] Data 0.321 (0.321) Elapsed 0m 0s (remain 0m 8s) \n"
     ]
    },
    {
     "name": "stderr",
     "output_type": "stream",
     "text": [
      "labels: [11  6  2  2  4]\n",
      "pred_labels: [11  2  5  4  2]\n",
      "Epoch 27 - avg_train_loss: 0.7470  lr: 1.2762e-04  time: 61s\n",
      "Epoch 27 - Score: 0.5496\n"
     ]
    },
    {
     "name": "stdout",
     "output_type": "stream",
     "text": [
      "EVAL: [16/17] Data 0.000 (0.019) Elapsed 0m 4s (remain 0m 0s) \n",
      "Epoch: [28][0/65] Data 0.470 (0.470) Elapsed 0m 1s (remain 1m 8s) Loss: 0.0470(0.0470) Grad Norm: 0.0000  LR: 9.9584e-05  \n",
      "Epoch: [28][64/65] Data 0.000 (0.007) Elapsed 0m 56s (remain 0m 0s) Loss: 0.0352(0.6302) Grad Norm: 1.7136  LR: 9.9584e-05  \n",
      "EVAL: [0/17] Data 0.295 (0.295) Elapsed 0m 0s (remain 0m 8s) \n"
     ]
    },
    {
     "name": "stderr",
     "output_type": "stream",
     "text": [
      "labels: [11  6  2  2  4]\n",
      "pred_labels: [11  2  5  4  4]\n",
      "Epoch 28 - avg_train_loss: 0.6302  lr: 9.9584e-05  time: 61s\n",
      "Epoch 28 - Score: 0.5496\n"
     ]
    },
    {
     "name": "stdout",
     "output_type": "stream",
     "text": [
      "EVAL: [16/17] Data 0.000 (0.018) Elapsed 0m 4s (remain 0m 0s) \n",
      "Epoch: [29][0/65] Data 0.458 (0.458) Elapsed 0m 1s (remain 1m 8s) Loss: 1.1254(1.1254) Grad Norm: 0.0000  LR: 7.4783e-05  \n",
      "Epoch: [29][64/65] Data 0.000 (0.007) Elapsed 0m 56s (remain 0m 0s) Loss: 1.5167(0.6976) Grad Norm: 4.5992  LR: 7.4783e-05  \n",
      "EVAL: [0/17] Data 0.283 (0.283) Elapsed 0m 0s (remain 0m 8s) \n"
     ]
    },
    {
     "name": "stderr",
     "output_type": "stream",
     "text": [
      "labels: [11  6  2  2  4]\n",
      "pred_labels: [11  2  5  4  4]\n",
      "Epoch 29 - avg_train_loss: 0.6976  lr: 7.4783e-05  time: 61s\n",
      "Epoch 29 - Score: 0.5496\n"
     ]
    },
    {
     "name": "stdout",
     "output_type": "stream",
     "text": [
      "EVAL: [16/17] Data 0.000 (0.017) Elapsed 0m 4s (remain 0m 0s) \n",
      "Epoch: [30][0/65] Data 0.445 (0.445) Elapsed 0m 1s (remain 1m 7s) Loss: 1.0745(1.0745) Grad Norm: 0.0000  LR: 5.3404e-05  \n",
      "Epoch: [30][64/65] Data 0.000 (0.007) Elapsed 0m 56s (remain 0m 0s) Loss: 0.1346(0.7306) Grad Norm: 4.5084  LR: 5.3404e-05  \n",
      "EVAL: [0/17] Data 0.347 (0.347) Elapsed 0m 0s (remain 0m 9s) \n"
     ]
    },
    {
     "name": "stderr",
     "output_type": "stream",
     "text": [
      "labels: [11  6  2  2  4]\n",
      "pred_labels: [11  2  5  4  3]\n",
      "Epoch 30 - avg_train_loss: 0.7306  lr: 5.3404e-05  time: 61s\n",
      "Epoch 30 - Score: 0.5573\n"
     ]
    },
    {
     "name": "stdout",
     "output_type": "stream",
     "text": [
      "EVAL: [16/17] Data 0.000 (0.021) Elapsed 0m 4s (remain 0m 0s) \n",
      "Epoch: [31][0/65] Data 0.411 (0.411) Elapsed 0m 1s (remain 1m 5s) Loss: 0.0300(0.0300) Grad Norm: 0.0000  LR: 3.5607e-05  \n",
      "Epoch: [31][64/65] Data 0.000 (0.007) Elapsed 0m 56s (remain 0m 0s) Loss: 0.0233(0.0621) Grad Norm: 0.5073  LR: 3.5607e-05  \n",
      "EVAL: [0/17] Data 0.303 (0.303) Elapsed 0m 0s (remain 0m 8s) \n"
     ]
    },
    {
     "name": "stderr",
     "output_type": "stream",
     "text": [
      "labels: [11  6  2  2  4]\n",
      "pred_labels: [11  2  5  4  3]\n",
      "Epoch 31 - avg_train_loss: 0.0621  lr: 3.5607e-05  time: 61s\n",
      "Epoch 31 - Score: 0.5573\n"
     ]
    },
    {
     "name": "stdout",
     "output_type": "stream",
     "text": [
      "EVAL: [16/17] Data 0.000 (0.018) Elapsed 0m 4s (remain 0m 0s) \n",
      "Epoch: [32][0/65] Data 0.463 (0.463) Elapsed 0m 1s (remain 1m 8s) Loss: 0.0517(0.0517) Grad Norm: 0.0000  LR: 2.1508e-05  \n",
      "Epoch: [32][64/65] Data 0.000 (0.007) Elapsed 0m 56s (remain 0m 0s) Loss: 0.0162(0.0628) Grad Norm: 3.1325  LR: 2.1508e-05  \n",
      "EVAL: [0/17] Data 0.302 (0.302) Elapsed 0m 0s (remain 0m 8s) \n"
     ]
    },
    {
     "name": "stderr",
     "output_type": "stream",
     "text": [
      "labels: [11  6  2  2  4]\n",
      "pred_labels: [11  2  5  4  3]\n",
      "Epoch 32 - avg_train_loss: 0.0628  lr: 2.1508e-05  time: 61s\n",
      "Epoch 32 - Score: 0.5496\n"
     ]
    },
    {
     "name": "stdout",
     "output_type": "stream",
     "text": [
      "EVAL: [16/17] Data 0.000 (0.018) Elapsed 0m 4s (remain 0m 0s) \n",
      "Epoch: [33][0/65] Data 0.526 (0.526) Elapsed 0m 1s (remain 1m 12s) Loss: 0.0291(0.0291) Grad Norm: 0.0000  LR: 1.1173e-05  \n",
      "Epoch: [33][64/65] Data 0.000 (0.008) Elapsed 0m 56s (remain 0m 0s) Loss: 0.0129(0.0499) Grad Norm: 0.3342  LR: 1.1173e-05  \n",
      "EVAL: [0/17] Data 0.271 (0.271) Elapsed 0m 0s (remain 0m 8s) \n"
     ]
    },
    {
     "name": "stderr",
     "output_type": "stream",
     "text": [
      "labels: [11  6  2  2  4]\n",
      "pred_labels: [11  2  5  4  2]\n",
      "Epoch 33 - avg_train_loss: 0.0499  lr: 1.1173e-05  time: 61s\n",
      "Epoch 33 - Score: 0.5573\n"
     ]
    },
    {
     "name": "stdout",
     "output_type": "stream",
     "text": [
      "EVAL: [16/17] Data 0.000 (0.016) Elapsed 0m 4s (remain 0m 0s) \n",
      "Epoch: [34][0/65] Data 0.558 (0.558) Elapsed 0m 1s (remain 1m 14s) Loss: 0.0803(0.0803) Grad Norm: 0.0000  LR: 4.5796e-06  \n",
      "Epoch: [34][64/65] Data 0.000 (0.009) Elapsed 0m 56s (remain 0m 0s) Loss: 0.0625(0.0443) Grad Norm: 0.8076  LR: 4.5796e-06  \n",
      "EVAL: [0/17] Data 0.301 (0.301) Elapsed 0m 0s (remain 0m 8s) \n"
     ]
    },
    {
     "name": "stderr",
     "output_type": "stream",
     "text": [
      "labels: [11  6  2  2  4]\n",
      "pred_labels: [11  2  5  4  3]\n",
      "Epoch 34 - avg_train_loss: 0.0443  lr: 4.5796e-06  time: 61s\n",
      "Epoch 34 - Score: 0.5573\n"
     ]
    },
    {
     "name": "stdout",
     "output_type": "stream",
     "text": [
      "EVAL: [16/17] Data 0.000 (0.018) Elapsed 0m 4s (remain 0m 0s) \n",
      "Epoch: [35][0/65] Data 0.449 (0.449) Elapsed 0m 1s (remain 1m 9s) Loss: 0.0229(0.0229) Grad Norm: 0.0000  LR: 1.5037e-06  \n",
      "Epoch: [35][64/65] Data 0.000 (0.007) Elapsed 0m 56s (remain 0m 0s) Loss: 0.0195(0.0364) Grad Norm: 0.2755  LR: 1.5037e-06  \n",
      "EVAL: [0/17] Data 0.305 (0.305) Elapsed 0m 0s (remain 0m 8s) \n"
     ]
    },
    {
     "name": "stderr",
     "output_type": "stream",
     "text": [
      "labels: [11  6  2  2  4]\n",
      "pred_labels: [11  2  5  4  3]\n",
      "Epoch 35 - avg_train_loss: 0.0364  lr: 1.5037e-06  time: 61s\n",
      "Epoch 35 - Score: 0.5420\n",
      "==================== fold: 1, seed: 0 training ====================\n"
     ]
    },
    {
     "name": "stdout",
     "output_type": "stream",
     "text": [
      "EVAL: [16/17] Data 0.000 (0.018) Elapsed 0m 4s (remain 0m 0s) \n",
      "Epoch: [1][0/65] Data 0.467 (0.467) Elapsed 0m 1s (remain 1m 8s) Loss: 2.5363(2.5363) Grad Norm: 0.0000  LR: 1.0000e-03  \n",
      "Epoch: [1][64/65] Data 0.000 (0.007) Elapsed 0m 57s (remain 0m 0s) Loss: 2.4406(2.5729) Grad Norm: 7.8851  LR: 1.0000e-03  \n",
      "EVAL: [0/17] Data 0.302 (0.302) Elapsed 0m 0s (remain 0m 8s) \n"
     ]
    },
    {
     "name": "stderr",
     "output_type": "stream",
     "text": [
      "labels: [4 0 3 6 0]\n",
      "pred_labels: [0 2 2 3 1]\n",
      "Epoch 1 - avg_train_loss: 2.5729  lr: 1.0000e-03  time: 62s\n",
      "Epoch 1 - Score: 0.2595\n",
      "Epoch 1 - Save Best Score: 0.2595 Model\n"
     ]
    },
    {
     "name": "stdout",
     "output_type": "stream",
     "text": [
      "EVAL: [16/17] Data 0.000 (0.018) Elapsed 0m 4s (remain 0m 0s) \n",
      "Epoch: [2][0/65] Data 0.545 (0.545) Elapsed 0m 1s (remain 1m 15s) Loss: 2.4118(2.4118) Grad Norm: 0.0000  LR: 9.9598e-04  \n",
      "Epoch: [2][64/65] Data 0.000 (0.009) Elapsed 0m 57s (remain 0m 0s) Loss: 2.2539(2.3596) Grad Norm: 6.7970  LR: 9.9598e-04  \n",
      "EVAL: [0/17] Data 0.338 (0.338) Elapsed 0m 0s (remain 0m 9s) \n"
     ]
    },
    {
     "name": "stderr",
     "output_type": "stream",
     "text": [
      "labels: [4 0 3 6 0]\n",
      "pred_labels: [0 2 2 7 0]\n",
      "Epoch 2 - avg_train_loss: 2.3596  lr: 9.9598e-04  time: 62s\n",
      "Epoch 2 - Score: 0.3664\n",
      "Epoch 2 - Save Best Score: 0.3664 Model\n"
     ]
    },
    {
     "name": "stdout",
     "output_type": "stream",
     "text": [
      "EVAL: [16/17] Data 0.000 (0.020) Elapsed 0m 4s (remain 0m 0s) \n",
      "Epoch: [3][0/65] Data 0.470 (0.470) Elapsed 0m 1s (remain 1m 10s) Loss: 2.0359(2.0359) Grad Norm: 0.0000  LR: 9.8599e-04  \n",
      "Epoch: [3][64/65] Data 0.000 (0.007) Elapsed 0m 57s (remain 0m 0s) Loss: 2.1022(2.1194) Grad Norm: 8.4217  LR: 9.8599e-04  \n",
      "EVAL: [0/17] Data 0.325 (0.325) Elapsed 0m 0s (remain 0m 8s) \n"
     ]
    },
    {
     "name": "stderr",
     "output_type": "stream",
     "text": [
      "labels: [4 0 3 6 0]\n",
      "pred_labels: [0 2 2 1 0]\n",
      "Epoch 3 - avg_train_loss: 2.1194  lr: 9.8599e-04  time: 62s\n",
      "Epoch 3 - Score: 0.4351\n",
      "Epoch 3 - Save Best Score: 0.4351 Model\n"
     ]
    },
    {
     "name": "stdout",
     "output_type": "stream",
     "text": [
      "EVAL: [16/17] Data 0.000 (0.019) Elapsed 0m 4s (remain 0m 0s) \n",
      "Epoch: [4][0/65] Data 0.481 (0.481) Elapsed 0m 1s (remain 1m 11s) Loss: 1.9850(1.9850) Grad Norm: 0.0000  LR: 9.7213e-04  \n",
      "Epoch: [4][64/65] Data 0.000 (0.008) Elapsed 0m 57s (remain 0m 0s) Loss: 2.0804(1.9124) Grad Norm: 8.1342  LR: 9.7213e-04  \n",
      "EVAL: [0/17] Data 0.328 (0.328) Elapsed 0m 0s (remain 0m 8s) \n"
     ]
    },
    {
     "name": "stderr",
     "output_type": "stream",
     "text": [
      "labels: [4 0 3 6 0]\n",
      "pred_labels: [0 2 3 5 0]\n",
      "Epoch 4 - avg_train_loss: 1.9124  lr: 9.7213e-04  time: 62s\n",
      "Epoch 4 - Score: 0.4580\n",
      "Epoch 4 - Save Best Score: 0.4580 Model\n"
     ]
    },
    {
     "name": "stdout",
     "output_type": "stream",
     "text": [
      "EVAL: [16/17] Data 0.000 (0.020) Elapsed 0m 4s (remain 0m 0s) \n",
      "Epoch: [5][0/65] Data 0.375 (0.375) Elapsed 0m 1s (remain 1m 6s) Loss: 2.3133(2.3133) Grad Norm: 0.0000  LR: 9.5449e-04  \n",
      "Epoch: [5][64/65] Data 0.000 (0.006) Elapsed 0m 57s (remain 0m 0s) Loss: 1.5580(1.7097) Grad Norm: 7.4751  LR: 9.5449e-04  \n",
      "EVAL: [0/17] Data 0.325 (0.325) Elapsed 0m 0s (remain 0m 8s) \n"
     ]
    },
    {
     "name": "stderr",
     "output_type": "stream",
     "text": [
      "labels: [4 0 3 6 0]\n",
      "pred_labels: [4 2 3 7 0]\n",
      "Epoch 5 - avg_train_loss: 1.7097  lr: 9.5449e-04  time: 62s\n",
      "Epoch 5 - Score: 0.5115\n",
      "Epoch 5 - Save Best Score: 0.5115 Model\n"
     ]
    },
    {
     "name": "stdout",
     "output_type": "stream",
     "text": [
      "EVAL: [16/17] Data 0.000 (0.019) Elapsed 0m 4s (remain 0m 0s) \n",
      "Epoch: [6][0/65] Data 0.439 (0.439) Elapsed 0m 1s (remain 1m 8s) Loss: 1.5072(1.5072) Grad Norm: 0.0000  LR: 9.3324e-04  \n",
      "Epoch: [6][64/65] Data 0.000 (0.007) Elapsed 0m 57s (remain 0m 0s) Loss: 1.8707(1.5117) Grad Norm: 8.4370  LR: 9.3324e-04  \n",
      "EVAL: [0/17] Data 0.337 (0.337) Elapsed 0m 0s (remain 0m 9s) \n"
     ]
    },
    {
     "name": "stderr",
     "output_type": "stream",
     "text": [
      "labels: [4 0 3 6 0]\n",
      "pred_labels: [4 0 3 5 1]\n",
      "Epoch 6 - avg_train_loss: 1.5117  lr: 9.3324e-04  time: 62s\n",
      "Epoch 6 - Score: 0.5496\n",
      "Epoch 6 - Save Best Score: 0.5496 Model\n"
     ]
    },
    {
     "name": "stdout",
     "output_type": "stream",
     "text": [
      "EVAL: [16/17] Data 0.000 (0.020) Elapsed 0m 4s (remain 0m 0s) \n",
      "Epoch: [7][0/65] Data 0.477 (0.477) Elapsed 0m 1s (remain 1m 11s) Loss: 0.9879(0.9879) Grad Norm: 0.0000  LR: 9.0853e-04  \n",
      "Epoch: [7][64/65] Data 0.000 (0.008) Elapsed 0m 57s (remain 0m 0s) Loss: 1.9306(1.5500) Grad Norm: 7.9947  LR: 9.0853e-04  \n",
      "EVAL: [0/17] Data 0.369 (0.369) Elapsed 0m 0s (remain 0m 9s) \n"
     ]
    },
    {
     "name": "stderr",
     "output_type": "stream",
     "text": [
      "labels: [4 0 3 6 0]\n",
      "pred_labels: [4 0 3 5 0]\n",
      "Epoch 7 - avg_train_loss: 1.5500  lr: 9.0853e-04  time: 62s\n",
      "Epoch 7 - Score: 0.5878\n",
      "Epoch 7 - Save Best Score: 0.5878 Model\n"
     ]
    },
    {
     "name": "stdout",
     "output_type": "stream",
     "text": [
      "EVAL: [16/17] Data 0.000 (0.022) Elapsed 0m 4s (remain 0m 0s) \n",
      "Epoch: [8][0/65] Data 0.536 (0.536) Elapsed 0m 1s (remain 1m 14s) Loss: 1.4320(1.4320) Grad Norm: 0.0000  LR: 8.8057e-04  \n",
      "Epoch: [8][64/65] Data 0.000 (0.008) Elapsed 0m 57s (remain 0m 0s) Loss: 1.6897(1.3881) Grad Norm: 6.2834  LR: 8.8057e-04  \n",
      "EVAL: [0/17] Data 0.329 (0.329) Elapsed 0m 0s (remain 0m 9s) \n"
     ]
    },
    {
     "name": "stderr",
     "output_type": "stream",
     "text": [
      "labels: [4 0 3 6 0]\n",
      "pred_labels: [4 0 3 5 1]\n",
      "Epoch 8 - avg_train_loss: 1.3881  lr: 8.8057e-04  time: 62s\n",
      "Epoch 8 - Score: 0.5267\n"
     ]
    },
    {
     "name": "stdout",
     "output_type": "stream",
     "text": [
      "EVAL: [16/17] Data 0.000 (0.020) Elapsed 0m 4s (remain 0m 0s) \n",
      "Epoch: [9][0/65] Data 0.480 (0.480) Elapsed 0m 1s (remain 1m 10s) Loss: 1.7332(1.7332) Grad Norm: 0.0000  LR: 8.4958e-04  \n",
      "Epoch: [9][64/65] Data 0.000 (0.008) Elapsed 0m 57s (remain 0m 0s) Loss: 1.1721(1.2887) Grad Norm: 4.9524  LR: 8.4958e-04  \n",
      "EVAL: [0/17] Data 0.320 (0.320) Elapsed 0m 0s (remain 0m 8s) \n"
     ]
    },
    {
     "name": "stderr",
     "output_type": "stream",
     "text": [
      "labels: [4 0 3 6 0]\n",
      "pred_labels: [4 0 3 5 1]\n",
      "Epoch 9 - avg_train_loss: 1.2887  lr: 8.4958e-04  time: 62s\n",
      "Epoch 9 - Score: 0.5802\n"
     ]
    },
    {
     "name": "stdout",
     "output_type": "stream",
     "text": [
      "EVAL: [16/17] Data 0.000 (0.019) Elapsed 0m 4s (remain 0m 0s) \n",
      "Epoch: [10][0/65] Data 0.436 (0.436) Elapsed 0m 1s (remain 1m 6s) Loss: 0.8219(0.8219) Grad Norm: 0.0000  LR: 8.1581e-04  \n",
      "Epoch: [10][64/65] Data 0.000 (0.007) Elapsed 0m 57s (remain 0m 0s) Loss: 2.2536(1.1514) Grad Norm: 5.9244  LR: 8.1581e-04  \n",
      "EVAL: [0/17] Data 0.278 (0.278) Elapsed 0m 0s (remain 0m 8s) \n"
     ]
    },
    {
     "name": "stderr",
     "output_type": "stream",
     "text": [
      "labels: [4 0 3 6 0]\n",
      "pred_labels: [4 0 3 5 6]\n",
      "Epoch 10 - avg_train_loss: 1.1514  lr: 8.1581e-04  time: 62s\n",
      "Epoch 10 - Score: 0.5802\n"
     ]
    },
    {
     "name": "stdout",
     "output_type": "stream",
     "text": [
      "EVAL: [16/17] Data 0.000 (0.017) Elapsed 0m 4s (remain 0m 0s) \n",
      "Epoch: [11][0/65] Data 0.508 (0.508) Elapsed 0m 1s (remain 1m 11s) Loss: 1.9643(1.9643) Grad Norm: 0.0000  LR: 7.7953e-04  \n",
      "Epoch: [11][64/65] Data 0.000 (0.008) Elapsed 0m 57s (remain 0m 0s) Loss: 1.0360(1.1005) Grad Norm: 7.6933  LR: 7.7953e-04  \n",
      "EVAL: [0/17] Data 0.304 (0.304) Elapsed 0m 0s (remain 0m 8s) \n"
     ]
    },
    {
     "name": "stderr",
     "output_type": "stream",
     "text": [
      "labels: [4 0 3 6 0]\n",
      "pred_labels: [4 0 3 9 5]\n",
      "Epoch 11 - avg_train_loss: 1.1005  lr: 7.7953e-04  time: 62s\n",
      "Epoch 11 - Score: 0.6336\n",
      "Epoch 11 - Save Best Score: 0.6336 Model\n"
     ]
    },
    {
     "name": "stdout",
     "output_type": "stream",
     "text": [
      "EVAL: [16/17] Data 0.000 (0.018) Elapsed 0m 4s (remain 0m 0s) \n",
      "Epoch: [12][0/65] Data 0.505 (0.505) Elapsed 0m 1s (remain 1m 12s) Loss: 0.8834(0.8834) Grad Norm: 0.0000  LR: 7.4103e-04  \n",
      "Epoch: [12][64/65] Data 0.000 (0.008) Elapsed 0m 57s (remain 0m 0s) Loss: 1.8848(0.9798) Grad Norm: 3.9092  LR: 7.4103e-04  \n",
      "EVAL: [0/17] Data 0.328 (0.328) Elapsed 0m 0s (remain 0m 8s) \n"
     ]
    },
    {
     "name": "stderr",
     "output_type": "stream",
     "text": [
      "labels: [4 0 3 6 0]\n",
      "pred_labels: [4 0 3 6 0]\n",
      "Epoch 12 - avg_train_loss: 0.9798  lr: 7.4103e-04  time: 62s\n",
      "Epoch 12 - Score: 0.5496\n"
     ]
    },
    {
     "name": "stdout",
     "output_type": "stream",
     "text": [
      "EVAL: [16/17] Data 0.000 (0.020) Elapsed 0m 4s (remain 0m 0s) \n",
      "Epoch: [13][0/65] Data 0.526 (0.526) Elapsed 0m 1s (remain 1m 12s) Loss: 0.4549(0.4549) Grad Norm: 0.0000  LR: 7.0063e-04  \n",
      "Epoch: [13][64/65] Data 0.000 (0.008) Elapsed 0m 57s (remain 0m 0s) Loss: 1.3847(0.9170) Grad Norm: 5.2758  LR: 7.0063e-04  \n",
      "EVAL: [0/17] Data 0.358 (0.358) Elapsed 0m 0s (remain 0m 9s) \n"
     ]
    },
    {
     "name": "stderr",
     "output_type": "stream",
     "text": [
      "labels: [4 0 3 6 0]\n",
      "pred_labels: [4 0 3 5 0]\n",
      "Epoch 13 - avg_train_loss: 0.9170  lr: 7.0063e-04  time: 62s\n",
      "Epoch 13 - Score: 0.5573\n"
     ]
    },
    {
     "name": "stdout",
     "output_type": "stream",
     "text": [
      "EVAL: [16/17] Data 0.000 (0.021) Elapsed 0m 4s (remain 0m 0s) \n",
      "Epoch: [14][0/65] Data 0.399 (0.399) Elapsed 0m 1s (remain 1m 4s) Loss: 0.3466(0.3466) Grad Norm: 0.0000  LR: 6.5865e-04  \n",
      "Epoch: [14][64/65] Data 0.000 (0.006) Elapsed 0m 57s (remain 0m 0s) Loss: 0.3702(0.8526) Grad Norm: 2.8893  LR: 6.5865e-04  \n",
      "EVAL: [0/17] Data 0.270 (0.270) Elapsed 0m 0s (remain 0m 8s) \n"
     ]
    },
    {
     "name": "stderr",
     "output_type": "stream",
     "text": [
      "labels: [4 0 3 6 0]\n",
      "pred_labels: [4 0 3 6 0]\n",
      "Epoch 14 - avg_train_loss: 0.8526  lr: 6.5865e-04  time: 62s\n",
      "Epoch 14 - Score: 0.5649\n"
     ]
    },
    {
     "name": "stdout",
     "output_type": "stream",
     "text": [
      "EVAL: [16/17] Data 0.000 (0.016) Elapsed 0m 4s (remain 0m 0s) \n",
      "Epoch: [15][0/65] Data 0.470 (0.470) Elapsed 0m 1s (remain 1m 9s) Loss: 0.4372(0.4372) Grad Norm: 0.0000  LR: 6.1542e-04  \n",
      "Epoch: [15][64/65] Data 0.000 (0.007) Elapsed 0m 57s (remain 0m 0s) Loss: 0.2662(0.8536) Grad Norm: 5.3473  LR: 6.1542e-04  \n",
      "EVAL: [0/17] Data 0.302 (0.302) Elapsed 0m 0s (remain 0m 8s) \n"
     ]
    },
    {
     "name": "stderr",
     "output_type": "stream",
     "text": [
      "labels: [4 0 3 6 0]\n",
      "pred_labels: [ 4  0 11  6  0]\n",
      "Epoch 15 - avg_train_loss: 0.8536  lr: 6.1542e-04  time: 62s\n",
      "Epoch 15 - Score: 0.6412\n",
      "Epoch 15 - Save Best Score: 0.6412 Model\n"
     ]
    },
    {
     "name": "stdout",
     "output_type": "stream",
     "text": [
      "EVAL: [16/17] Data 0.000 (0.018) Elapsed 0m 4s (remain 0m 0s) \n",
      "Epoch: [16][0/65] Data 0.517 (0.517) Elapsed 0m 1s (remain 1m 13s) Loss: 0.1444(0.1444) Grad Norm: 0.0000  LR: 5.7130e-04  \n",
      "Epoch: [16][64/65] Data 0.000 (0.008) Elapsed 0m 57s (remain 0m 0s) Loss: 1.3953(0.9717) Grad Norm: 4.7771  LR: 5.7130e-04  \n",
      "EVAL: [0/17] Data 0.285 (0.285) Elapsed 0m 0s (remain 0m 8s) \n"
     ]
    },
    {
     "name": "stderr",
     "output_type": "stream",
     "text": [
      "labels: [4 0 3 6 0]\n",
      "pred_labels: [4 0 3 2 4]\n",
      "Epoch 16 - avg_train_loss: 0.9717  lr: 5.7130e-04  time: 62s\n",
      "Epoch 16 - Score: 0.5496\n"
     ]
    },
    {
     "name": "stdout",
     "output_type": "stream",
     "text": [
      "EVAL: [16/17] Data 0.000 (0.017) Elapsed 0m 4s (remain 0m 0s) \n",
      "Epoch: [17][0/65] Data 0.467 (0.467) Elapsed 0m 1s (remain 1m 8s) Loss: 1.3556(1.3556) Grad Norm: 0.0000  LR: 5.2663e-04  \n",
      "Epoch: [17][64/65] Data 0.000 (0.007) Elapsed 0m 57s (remain 0m 0s) Loss: 0.4261(0.8038) Grad Norm: 4.7123  LR: 5.2663e-04  \n",
      "EVAL: [0/17] Data 0.272 (0.272) Elapsed 0m 0s (remain 0m 8s) \n"
     ]
    },
    {
     "name": "stderr",
     "output_type": "stream",
     "text": [
      "labels: [4 0 3 6 0]\n",
      "pred_labels: [4 0 3 6 4]\n",
      "Epoch 17 - avg_train_loss: 0.8038  lr: 5.2663e-04  time: 61s\n",
      "Epoch 17 - Score: 0.6107\n"
     ]
    },
    {
     "name": "stdout",
     "output_type": "stream",
     "text": [
      "EVAL: [16/17] Data 0.000 (0.016) Elapsed 0m 4s (remain 0m 0s) \n",
      "Epoch: [18][0/65] Data 0.518 (0.518) Elapsed 0m 1s (remain 1m 12s) Loss: 1.2660(1.2660) Grad Norm: 0.0000  LR: 4.8179e-04  \n",
      "Epoch: [18][64/65] Data 0.000 (0.008) Elapsed 0m 57s (remain 0m 0s) Loss: 0.3363(0.7832) Grad Norm: 3.6824  LR: 4.8179e-04  \n",
      "EVAL: [0/17] Data 0.358 (0.358) Elapsed 0m 0s (remain 0m 9s) \n"
     ]
    },
    {
     "name": "stderr",
     "output_type": "stream",
     "text": [
      "labels: [4 0 3 6 0]\n",
      "pred_labels: [4 0 3 6 0]\n",
      "Epoch 18 - avg_train_loss: 0.7832  lr: 4.8179e-04  time: 62s\n",
      "Epoch 18 - Score: 0.6565\n",
      "Epoch 18 - Save Best Score: 0.6565 Model\n"
     ]
    },
    {
     "name": "stdout",
     "output_type": "stream",
     "text": [
      "EVAL: [16/17] Data 0.000 (0.021) Elapsed 0m 4s (remain 0m 0s) \n",
      "Epoch: [19][0/65] Data 0.409 (0.409) Elapsed 0m 1s (remain 1m 7s) Loss: 0.4696(0.4696) Grad Norm: 0.0000  LR: 4.3712e-04  \n",
      "Epoch: [19][64/65] Data 0.000 (0.007) Elapsed 0m 56s (remain 0m 0s) Loss: 0.3868(0.7970) Grad Norm: 3.3432  LR: 4.3712e-04  \n",
      "EVAL: [0/17] Data 0.337 (0.337) Elapsed 0m 0s (remain 0m 9s) \n"
     ]
    },
    {
     "name": "stderr",
     "output_type": "stream",
     "text": [
      "labels: [4 0 3 6 0]\n",
      "pred_labels: [4 0 3 2 0]\n",
      "Epoch 19 - avg_train_loss: 0.7970  lr: 4.3712e-04  time: 62s\n",
      "Epoch 19 - Score: 0.6183\n"
     ]
    },
    {
     "name": "stdout",
     "output_type": "stream",
     "text": [
      "EVAL: [16/17] Data 0.000 (0.020) Elapsed 0m 4s (remain 0m 0s) \n",
      "Epoch: [20][0/65] Data 0.478 (0.478) Elapsed 0m 1s (remain 1m 9s) Loss: 0.5237(0.5237) Grad Norm: 0.0000  LR: 3.9299e-04  \n",
      "Epoch: [20][64/65] Data 0.000 (0.008) Elapsed 0m 56s (remain 0m 0s) Loss: 2.0305(0.6261) Grad Norm: 1.5777  LR: 3.9299e-04  \n",
      "EVAL: [0/17] Data 0.329 (0.329) Elapsed 0m 0s (remain 0m 9s) \n"
     ]
    },
    {
     "name": "stderr",
     "output_type": "stream",
     "text": [
      "labels: [4 0 3 6 0]\n",
      "pred_labels: [4 0 3 6 4]\n",
      "Epoch 20 - avg_train_loss: 0.6261  lr: 3.9299e-04  time: 61s\n",
      "Epoch 20 - Score: 0.6565\n"
     ]
    },
    {
     "name": "stdout",
     "output_type": "stream",
     "text": [
      "EVAL: [16/17] Data 0.000 (0.020) Elapsed 0m 4s (remain 0m 0s) \n",
      "Epoch: [21][0/65] Data 0.406 (0.406) Elapsed 0m 1s (remain 1m 6s) Loss: 1.5425(1.5425) Grad Norm: 0.0000  LR: 3.4975e-04  \n",
      "Epoch: [21][64/65] Data 0.000 (0.006) Elapsed 0m 56s (remain 0m 0s) Loss: 0.6833(0.7361) Grad Norm: 3.7729  LR: 3.4975e-04  \n",
      "EVAL: [0/17] Data 0.367 (0.367) Elapsed 0m 0s (remain 0m 9s) \n"
     ]
    },
    {
     "name": "stderr",
     "output_type": "stream",
     "text": [
      "labels: [4 0 3 6 0]\n",
      "pred_labels: [4 0 3 3 4]\n",
      "Epoch 21 - avg_train_loss: 0.7361  lr: 3.4975e-04  time: 61s\n",
      "Epoch 21 - Score: 0.6260\n"
     ]
    },
    {
     "name": "stdout",
     "output_type": "stream",
     "text": [
      "EVAL: [16/17] Data 0.000 (0.022) Elapsed 0m 4s (remain 0m 0s) \n",
      "Epoch: [22][0/65] Data 0.517 (0.517) Elapsed 0m 1s (remain 1m 12s) Loss: 1.3027(1.3027) Grad Norm: 0.0000  LR: 3.0775e-04  \n",
      "Epoch: [22][64/65] Data 0.000 (0.008) Elapsed 0m 57s (remain 0m 0s) Loss: 0.2339(0.7248) Grad Norm: 4.7008  LR: 3.0775e-04  \n",
      "EVAL: [0/17] Data 0.311 (0.311) Elapsed 0m 0s (remain 0m 8s) \n"
     ]
    },
    {
     "name": "stderr",
     "output_type": "stream",
     "text": [
      "labels: [4 0 3 6 0]\n",
      "pred_labels: [4 0 3 5 2]\n",
      "Epoch 22 - avg_train_loss: 0.7248  lr: 3.0775e-04  time: 62s\n",
      "Epoch 22 - Score: 0.6031\n"
     ]
    },
    {
     "name": "stdout",
     "output_type": "stream",
     "text": [
      "EVAL: [16/17] Data 0.000 (0.019) Elapsed 0m 4s (remain 0m 0s) \n",
      "Epoch: [23][0/65] Data 0.451 (0.451) Elapsed 0m 1s (remain 1m 8s) Loss: 0.0639(0.0639) Grad Norm: 0.0000  LR: 2.6732e-04  \n",
      "Epoch: [23][64/65] Data 0.000 (0.007) Elapsed 0m 56s (remain 0m 0s) Loss: 0.0359(0.5807) Grad Norm: 2.2222  LR: 2.6732e-04  \n",
      "EVAL: [0/17] Data 0.333 (0.333) Elapsed 0m 0s (remain 0m 9s) \n"
     ]
    },
    {
     "name": "stderr",
     "output_type": "stream",
     "text": [
      "labels: [4 0 3 6 0]\n",
      "pred_labels: [4 0 3 5 9]\n",
      "Epoch 23 - avg_train_loss: 0.5807  lr: 2.6732e-04  time: 61s\n",
      "Epoch 23 - Score: 0.6031\n"
     ]
    },
    {
     "name": "stdout",
     "output_type": "stream",
     "text": [
      "EVAL: [16/17] Data 0.000 (0.020) Elapsed 0m 4s (remain 0m 0s) \n",
      "Epoch: [24][0/65] Data 0.518 (0.518) Elapsed 0m 1s (remain 1m 12s) Loss: 0.9950(0.9950) Grad Norm: 0.0000  LR: 2.2880e-04  \n",
      "Epoch: [24][64/65] Data 0.000 (0.008) Elapsed 0m 56s (remain 0m 0s) Loss: 1.1107(0.6605) Grad Norm: 3.9824  LR: 2.2880e-04  \n",
      "EVAL: [0/17] Data 0.273 (0.273) Elapsed 0m 0s (remain 0m 8s) \n"
     ]
    },
    {
     "name": "stderr",
     "output_type": "stream",
     "text": [
      "labels: [4 0 3 6 0]\n",
      "pred_labels: [4 0 3 5 2]\n",
      "Epoch 24 - avg_train_loss: 0.6605  lr: 2.2880e-04  time: 61s\n",
      "Epoch 24 - Score: 0.5802\n"
     ]
    },
    {
     "name": "stdout",
     "output_type": "stream",
     "text": [
      "EVAL: [16/17] Data 0.000 (0.016) Elapsed 0m 4s (remain 0m 0s) \n",
      "Epoch: [25][0/65] Data 0.514 (0.514) Elapsed 0m 1s (remain 1m 11s) Loss: 1.2792(1.2792) Grad Norm: 0.0000  LR: 1.9248e-04  \n",
      "Epoch: [25][64/65] Data 0.000 (0.008) Elapsed 0m 56s (remain 0m 0s) Loss: 1.4447(0.6840) Grad Norm: 3.4655  LR: 1.9248e-04  \n",
      "EVAL: [0/17] Data 0.389 (0.389) Elapsed 0m 0s (remain 0m 9s) \n"
     ]
    },
    {
     "name": "stderr",
     "output_type": "stream",
     "text": [
      "labels: [4 0 3 6 0]\n",
      "pred_labels: [4 0 3 5 2]\n",
      "Epoch 25 - avg_train_loss: 0.6840  lr: 1.9248e-04  time: 62s\n",
      "Epoch 25 - Score: 0.5802\n"
     ]
    },
    {
     "name": "stdout",
     "output_type": "stream",
     "text": [
      "EVAL: [16/17] Data 0.000 (0.023) Elapsed 0m 4s (remain 0m 0s) \n",
      "Epoch: [26][0/65] Data 0.469 (0.469) Elapsed 0m 1s (remain 1m 8s) Loss: 0.0389(0.0389) Grad Norm: 0.0000  LR: 1.5867e-04  \n",
      "Epoch: [26][64/65] Data 0.000 (0.007) Elapsed 0m 56s (remain 0m 0s) Loss: 0.0925(0.6080) Grad Norm: 3.4634  LR: 1.5867e-04  \n",
      "EVAL: [0/17] Data 0.293 (0.293) Elapsed 0m 0s (remain 0m 8s) \n"
     ]
    },
    {
     "name": "stderr",
     "output_type": "stream",
     "text": [
      "labels: [4 0 3 6 0]\n",
      "pred_labels: [4 0 3 5 2]\n",
      "Epoch 26 - avg_train_loss: 0.6080  lr: 1.5867e-04  time: 61s\n",
      "Epoch 26 - Score: 0.5802\n"
     ]
    },
    {
     "name": "stdout",
     "output_type": "stream",
     "text": [
      "EVAL: [16/17] Data 0.000 (0.018) Elapsed 0m 4s (remain 0m 0s) \n",
      "Epoch: [27][0/65] Data 0.483 (0.483) Elapsed 0m 1s (remain 1m 10s) Loss: 0.0488(0.0488) Grad Norm: 0.0000  LR: 1.2762e-04  \n",
      "Epoch: [27][64/65] Data 0.000 (0.008) Elapsed 0m 56s (remain 0m 0s) Loss: 2.0033(0.7336) Grad Norm: 3.9899  LR: 1.2762e-04  \n",
      "EVAL: [0/17] Data 0.290 (0.290) Elapsed 0m 0s (remain 0m 8s) \n"
     ]
    },
    {
     "name": "stderr",
     "output_type": "stream",
     "text": [
      "labels: [4 0 3 6 0]\n",
      "pred_labels: [4 0 3 6 2]\n",
      "Epoch 27 - avg_train_loss: 0.7336  lr: 1.2762e-04  time: 61s\n",
      "Epoch 27 - Score: 0.6107\n"
     ]
    },
    {
     "name": "stdout",
     "output_type": "stream",
     "text": [
      "EVAL: [16/17] Data 0.000 (0.017) Elapsed 0m 4s (remain 0m 0s) \n",
      "Epoch: [28][0/65] Data 0.372 (0.372) Elapsed 0m 0s (remain 1m 2s) Loss: 0.0288(0.0288) Grad Norm: 0.0000  LR: 9.9584e-05  \n",
      "Epoch: [28][64/65] Data 0.000 (0.006) Elapsed 0m 56s (remain 0m 0s) Loss: 1.1015(0.8894) Grad Norm: 3.7434  LR: 9.9584e-05  \n",
      "EVAL: [0/17] Data 0.269 (0.269) Elapsed 0m 0s (remain 0m 8s) \n"
     ]
    },
    {
     "name": "stderr",
     "output_type": "stream",
     "text": [
      "labels: [4 0 3 6 0]\n",
      "pred_labels: [4 0 3 5 2]\n",
      "Epoch 28 - avg_train_loss: 0.8894  lr: 9.9584e-05  time: 61s\n",
      "Epoch 28 - Score: 0.6031\n"
     ]
    },
    {
     "name": "stdout",
     "output_type": "stream",
     "text": [
      "EVAL: [16/17] Data 0.000 (0.016) Elapsed 0m 4s (remain 0m 0s) \n",
      "Epoch: [29][0/65] Data 0.469 (0.469) Elapsed 0m 1s (remain 1m 8s) Loss: 0.0742(0.0742) Grad Norm: 0.0000  LR: 7.4783e-05  \n",
      "Epoch: [29][64/65] Data 0.000 (0.007) Elapsed 0m 56s (remain 0m 0s) Loss: 0.8241(0.7672) Grad Norm: 4.0077  LR: 7.4783e-05  \n",
      "EVAL: [0/17] Data 0.294 (0.294) Elapsed 0m 0s (remain 0m 8s) \n"
     ]
    },
    {
     "name": "stderr",
     "output_type": "stream",
     "text": [
      "labels: [4 0 3 6 0]\n",
      "pred_labels: [4 0 3 5 2]\n",
      "Epoch 29 - avg_train_loss: 0.7672  lr: 7.4783e-05  time: 61s\n",
      "Epoch 29 - Score: 0.6183\n"
     ]
    },
    {
     "name": "stdout",
     "output_type": "stream",
     "text": [
      "EVAL: [16/17] Data 0.000 (0.018) Elapsed 0m 4s (remain 0m 0s) \n",
      "Epoch: [30][0/65] Data 0.480 (0.480) Elapsed 0m 1s (remain 1m 9s) Loss: 0.0335(0.0335) Grad Norm: 0.0000  LR: 5.3404e-05  \n",
      "Epoch: [30][64/65] Data 0.000 (0.008) Elapsed 0m 56s (remain 0m 0s) Loss: 0.0364(0.5175) Grad Norm: 0.5838  LR: 5.3404e-05  \n",
      "EVAL: [0/17] Data 0.318 (0.318) Elapsed 0m 0s (remain 0m 8s) \n"
     ]
    },
    {
     "name": "stderr",
     "output_type": "stream",
     "text": [
      "labels: [4 0 3 6 0]\n",
      "pred_labels: [4 0 3 5 2]\n",
      "Epoch 30 - avg_train_loss: 0.5175  lr: 5.3404e-05  time: 61s\n",
      "Epoch 30 - Score: 0.6336\n"
     ]
    },
    {
     "name": "stdout",
     "output_type": "stream",
     "text": [
      "EVAL: [16/17] Data 0.000 (0.019) Elapsed 0m 4s (remain 0m 0s) \n",
      "Epoch: [31][0/65] Data 0.518 (0.518) Elapsed 0m 1s (remain 1m 12s) Loss: 0.0148(0.0148) Grad Norm: 0.0000  LR: 3.5607e-05  \n",
      "Epoch: [31][64/65] Data 0.000 (0.008) Elapsed 0m 56s (remain 0m 0s) Loss: 0.4120(0.0712) Grad Norm: 0.3071  LR: 3.5607e-05  \n",
      "EVAL: [0/17] Data 0.280 (0.280) Elapsed 0m 0s (remain 0m 8s) \n"
     ]
    },
    {
     "name": "stderr",
     "output_type": "stream",
     "text": [
      "labels: [4 0 3 6 0]\n",
      "pred_labels: [4 0 3 5 2]\n",
      "Epoch 31 - avg_train_loss: 0.0712  lr: 3.5607e-05  time: 61s\n",
      "Epoch 31 - Score: 0.6107\n"
     ]
    },
    {
     "name": "stdout",
     "output_type": "stream",
     "text": [
      "EVAL: [16/17] Data 0.000 (0.017) Elapsed 0m 4s (remain 0m 0s) \n",
      "Epoch: [32][0/65] Data 0.443 (0.443) Elapsed 0m 1s (remain 1m 8s) Loss: 0.0426(0.0426) Grad Norm: 0.0000  LR: 2.1508e-05  \n",
      "Epoch: [32][64/65] Data 0.000 (0.007) Elapsed 0m 56s (remain 0m 0s) Loss: 0.0176(0.0466) Grad Norm: 1.7157  LR: 2.1508e-05  \n",
      "EVAL: [0/17] Data 0.340 (0.340) Elapsed 0m 0s (remain 0m 9s) \n"
     ]
    },
    {
     "name": "stderr",
     "output_type": "stream",
     "text": [
      "labels: [4 0 3 6 0]\n",
      "pred_labels: [4 0 3 5 2]\n",
      "Epoch 32 - avg_train_loss: 0.0466  lr: 2.1508e-05  time: 61s\n",
      "Epoch 32 - Score: 0.6260\n"
     ]
    },
    {
     "name": "stdout",
     "output_type": "stream",
     "text": [
      "EVAL: [16/17] Data 0.000 (0.020) Elapsed 0m 4s (remain 0m 0s) \n",
      "Epoch: [33][0/65] Data 0.468 (0.468) Elapsed 0m 1s (remain 1m 9s) Loss: 0.1365(0.1365) Grad Norm: 0.0000  LR: 1.1173e-05  \n",
      "Epoch: [33][64/65] Data 0.000 (0.007) Elapsed 0m 56s (remain 0m 0s) Loss: 0.0298(0.0482) Grad Norm: 4.4890  LR: 1.1173e-05  \n",
      "EVAL: [0/17] Data 0.398 (0.398) Elapsed 0m 0s (remain 0m 10s) \n"
     ]
    },
    {
     "name": "stderr",
     "output_type": "stream",
     "text": [
      "labels: [4 0 3 6 0]\n",
      "pred_labels: [4 0 3 5 2]\n",
      "Epoch 33 - avg_train_loss: 0.0482  lr: 1.1173e-05  time: 61s\n",
      "Epoch 33 - Score: 0.6183\n"
     ]
    },
    {
     "name": "stdout",
     "output_type": "stream",
     "text": [
      "EVAL: [16/17] Data 0.000 (0.024) Elapsed 0m 4s (remain 0m 0s) \n",
      "Epoch: [34][0/65] Data 0.453 (0.453) Elapsed 0m 1s (remain 1m 8s) Loss: 0.1876(0.1876) Grad Norm: 0.0000  LR: 4.5796e-06  \n",
      "Epoch: [34][64/65] Data 0.000 (0.007) Elapsed 0m 56s (remain 0m 0s) Loss: 0.0555(0.0465) Grad Norm: 0.2532  LR: 4.5796e-06  \n",
      "EVAL: [0/17] Data 0.328 (0.328) Elapsed 0m 0s (remain 0m 9s) \n"
     ]
    },
    {
     "name": "stderr",
     "output_type": "stream",
     "text": [
      "labels: [4 0 3 6 0]\n",
      "pred_labels: [4 0 3 5 2]\n",
      "Epoch 34 - avg_train_loss: 0.0465  lr: 4.5796e-06  time: 61s\n",
      "Epoch 34 - Score: 0.6183\n"
     ]
    },
    {
     "name": "stdout",
     "output_type": "stream",
     "text": [
      "EVAL: [16/17] Data 0.000 (0.020) Elapsed 0m 4s (remain 0m 0s) \n",
      "Epoch: [35][0/65] Data 0.546 (0.546) Elapsed 0m 1s (remain 1m 13s) Loss: 0.0292(0.0292) Grad Norm: 0.0000  LR: 1.5037e-06  \n",
      "Epoch: [35][64/65] Data 0.000 (0.009) Elapsed 0m 56s (remain 0m 0s) Loss: 0.0476(0.0409) Grad Norm: 0.5006  LR: 1.5037e-06  \n",
      "EVAL: [0/17] Data 0.309 (0.309) Elapsed 0m 0s (remain 0m 8s) \n"
     ]
    },
    {
     "name": "stderr",
     "output_type": "stream",
     "text": [
      "labels: [4 0 3 6 0]\n",
      "pred_labels: [4 0 3 5 2]\n",
      "Epoch 35 - avg_train_loss: 0.0409  lr: 1.5037e-06  time: 61s\n",
      "Epoch 35 - Score: 0.6183\n",
      "==================== fold: 2, seed: 0 training ====================\n"
     ]
    },
    {
     "name": "stdout",
     "output_type": "stream",
     "text": [
      "EVAL: [16/17] Data 0.000 (0.018) Elapsed 0m 4s (remain 0m 0s) \n",
      "Epoch: [1][0/65] Data 0.498 (0.498) Elapsed 0m 1s (remain 1m 10s) Loss: 2.6652(2.6652) Grad Norm: 0.0000  LR: 1.0000e-03  \n",
      "Epoch: [1][64/65] Data 0.000 (0.008) Elapsed 0m 57s (remain 0m 0s) Loss: 2.5779(2.5955) Grad Norm: 6.7786  LR: 1.0000e-03  \n",
      "EVAL: [0/17] Data 0.319 (0.319) Elapsed 0m 0s (remain 0m 8s) \n"
     ]
    },
    {
     "name": "stderr",
     "output_type": "stream",
     "text": [
      "labels: [ 5 12  2 11  8]\n",
      "pred_labels: [9 2 2 9 7]\n",
      "Epoch 1 - avg_train_loss: 2.5955  lr: 1.0000e-03  time: 62s\n",
      "Epoch 1 - Score: 0.1985\n",
      "Epoch 1 - Save Best Score: 0.1985 Model\n"
     ]
    },
    {
     "name": "stdout",
     "output_type": "stream",
     "text": [
      "EVAL: [16/17] Data 0.000 (0.019) Elapsed 0m 4s (remain 0m 0s) \n",
      "Epoch: [2][0/65] Data 0.467 (0.467) Elapsed 0m 1s (remain 1m 12s) Loss: 2.4372(2.4372) Grad Norm: 0.0000  LR: 9.9598e-04  \n",
      "Epoch: [2][64/65] Data 0.000 (0.007) Elapsed 0m 57s (remain 0m 0s) Loss: 3.0394(2.3660) Grad Norm: 5.9194  LR: 9.9598e-04  \n",
      "EVAL: [0/17] Data 0.366 (0.366) Elapsed 0m 0s (remain 0m 9s) \n"
     ]
    },
    {
     "name": "stderr",
     "output_type": "stream",
     "text": [
      "labels: [ 5 12  2 11  8]\n",
      "pred_labels: [6 2 9 9 8]\n",
      "Epoch 2 - avg_train_loss: 2.3660  lr: 9.9598e-04  time: 62s\n",
      "Epoch 2 - Score: 0.3130\n",
      "Epoch 2 - Save Best Score: 0.3130 Model\n"
     ]
    },
    {
     "name": "stdout",
     "output_type": "stream",
     "text": [
      "EVAL: [16/17] Data 0.000 (0.022) Elapsed 0m 4s (remain 0m 0s) \n",
      "Epoch: [3][0/65] Data 0.505 (0.505) Elapsed 0m 1s (remain 1m 12s) Loss: 2.1688(2.1688) Grad Norm: 0.0000  LR: 9.8599e-04  \n",
      "Epoch: [3][64/65] Data 0.000 (0.008) Elapsed 0m 57s (remain 0m 0s) Loss: 1.9890(2.1870) Grad Norm: 7.5604  LR: 9.8599e-04  \n",
      "EVAL: [0/17] Data 0.329 (0.329) Elapsed 0m 0s (remain 0m 9s) \n"
     ]
    },
    {
     "name": "stderr",
     "output_type": "stream",
     "text": [
      "labels: [ 5 12  2 11  8]\n",
      "pred_labels: [ 6  9  9 11  8]\n",
      "Epoch 3 - avg_train_loss: 2.1870  lr: 9.8599e-04  time: 62s\n",
      "Epoch 3 - Score: 0.4275\n",
      "Epoch 3 - Save Best Score: 0.4275 Model\n"
     ]
    },
    {
     "name": "stdout",
     "output_type": "stream",
     "text": [
      "EVAL: [16/17] Data 0.000 (0.020) Elapsed 0m 4s (remain 0m 0s) \n",
      "Epoch: [4][0/65] Data 0.422 (0.422) Elapsed 0m 1s (remain 1m 6s) Loss: 1.6307(1.6307) Grad Norm: 0.0000  LR: 9.7213e-04  \n",
      "Epoch: [4][64/65] Data 0.000 (0.007) Elapsed 0m 57s (remain 0m 0s) Loss: 2.6018(2.0050) Grad Norm: 5.7852  LR: 9.7213e-04  \n",
      "EVAL: [0/17] Data 0.295 (0.295) Elapsed 0m 0s (remain 0m 8s) \n"
     ]
    },
    {
     "name": "stderr",
     "output_type": "stream",
     "text": [
      "labels: [ 5 12  2 11  8]\n",
      "pred_labels: [6 9 0 8 8]\n",
      "Epoch 4 - avg_train_loss: 2.0050  lr: 9.7213e-04  time: 62s\n",
      "Epoch 4 - Score: 0.4962\n",
      "Epoch 4 - Save Best Score: 0.4962 Model\n"
     ]
    },
    {
     "name": "stdout",
     "output_type": "stream",
     "text": [
      "EVAL: [16/17] Data 0.000 (0.018) Elapsed 0m 4s (remain 0m 0s) \n",
      "Epoch: [5][0/65] Data 0.500 (0.500) Elapsed 0m 1s (remain 1m 13s) Loss: 1.6159(1.6159) Grad Norm: 0.0000  LR: 9.5449e-04  \n",
      "Epoch: [5][64/65] Data 0.000 (0.008) Elapsed 0m 57s (remain 0m 0s) Loss: 1.7924(1.7366) Grad Norm: 8.3207  LR: 9.5449e-04  \n",
      "EVAL: [0/17] Data 0.317 (0.317) Elapsed 0m 0s (remain 0m 8s) \n"
     ]
    },
    {
     "name": "stderr",
     "output_type": "stream",
     "text": [
      "labels: [ 5 12  2 11  8]\n",
      "pred_labels: [ 5 12  2 11  8]\n",
      "Epoch 5 - avg_train_loss: 1.7366  lr: 9.5449e-04  time: 62s\n",
      "Epoch 5 - Score: 0.5802\n",
      "Epoch 5 - Save Best Score: 0.5802 Model\n"
     ]
    },
    {
     "name": "stdout",
     "output_type": "stream",
     "text": [
      "EVAL: [16/17] Data 0.000 (0.019) Elapsed 0m 4s (remain 0m 0s) \n",
      "Epoch: [6][0/65] Data 0.441 (0.441) Elapsed 0m 1s (remain 1m 8s) Loss: 0.7953(0.7953) Grad Norm: 0.0000  LR: 9.3324e-04  \n",
      "Epoch: [6][64/65] Data 0.000 (0.007) Elapsed 0m 57s (remain 0m 0s) Loss: 1.6829(1.5619) Grad Norm: 8.8864  LR: 9.3324e-04  \n",
      "EVAL: [0/17] Data 0.310 (0.310) Elapsed 0m 0s (remain 0m 8s) \n"
     ]
    },
    {
     "name": "stderr",
     "output_type": "stream",
     "text": [
      "labels: [ 5 12  2 11  8]\n",
      "pred_labels: [ 5 12  2 11  8]\n",
      "Epoch 6 - avg_train_loss: 1.5619  lr: 9.3324e-04  time: 62s\n",
      "Epoch 6 - Score: 0.6031\n",
      "Epoch 6 - Save Best Score: 0.6031 Model\n"
     ]
    },
    {
     "name": "stdout",
     "output_type": "stream",
     "text": [
      "EVAL: [16/17] Data 0.000 (0.019) Elapsed 0m 4s (remain 0m 0s) \n",
      "Epoch: [7][0/65] Data 0.485 (0.485) Elapsed 0m 1s (remain 1m 13s) Loss: 0.9892(0.9892) Grad Norm: 0.0000  LR: 9.0853e-04  \n",
      "Epoch: [7][64/65] Data 0.000 (0.008) Elapsed 0m 57s (remain 0m 0s) Loss: 0.5065(1.4275) Grad Norm: 7.4652  LR: 9.0853e-04  \n",
      "EVAL: [0/17] Data 0.296 (0.296) Elapsed 0m 0s (remain 0m 8s) \n"
     ]
    },
    {
     "name": "stderr",
     "output_type": "stream",
     "text": [
      "labels: [ 5 12  2 11  8]\n",
      "pred_labels: [ 5 12  2 11  8]\n",
      "Epoch 7 - avg_train_loss: 1.4275  lr: 9.0853e-04  time: 62s\n",
      "Epoch 7 - Score: 0.6183\n",
      "Epoch 7 - Save Best Score: 0.6183 Model\n"
     ]
    },
    {
     "name": "stdout",
     "output_type": "stream",
     "text": [
      "EVAL: [16/17] Data 0.000 (0.018) Elapsed 0m 4s (remain 0m 0s) \n",
      "Epoch: [8][0/65] Data 0.406 (0.406) Elapsed 0m 1s (remain 1m 5s) Loss: 0.7125(0.7125) Grad Norm: 0.0000  LR: 8.8057e-04  \n",
      "Epoch: [8][64/65] Data 0.000 (0.006) Elapsed 0m 57s (remain 0m 0s) Loss: 2.2395(1.4191) Grad Norm: 7.3673  LR: 8.8057e-04  \n",
      "EVAL: [0/17] Data 0.300 (0.300) Elapsed 0m 0s (remain 0m 8s) \n"
     ]
    },
    {
     "name": "stderr",
     "output_type": "stream",
     "text": [
      "labels: [ 5 12  2 11  8]\n",
      "pred_labels: [ 5 12  2 11  8]\n",
      "Epoch 8 - avg_train_loss: 1.4191  lr: 8.8057e-04  time: 62s\n",
      "Epoch 8 - Score: 0.6031\n"
     ]
    },
    {
     "name": "stdout",
     "output_type": "stream",
     "text": [
      "EVAL: [16/17] Data 0.000 (0.018) Elapsed 0m 4s (remain 0m 0s) \n",
      "Epoch: [9][0/65] Data 0.420 (0.420) Elapsed 0m 1s (remain 1m 5s) Loss: 0.7059(0.7059) Grad Norm: 0.0000  LR: 8.4958e-04  \n",
      "Epoch: [9][64/65] Data 0.000 (0.007) Elapsed 0m 57s (remain 0m 0s) Loss: 1.8134(1.2004) Grad Norm: 6.0258  LR: 8.4958e-04  \n",
      "EVAL: [0/17] Data 0.302 (0.302) Elapsed 0m 0s (remain 0m 8s) \n"
     ]
    },
    {
     "name": "stderr",
     "output_type": "stream",
     "text": [
      "labels: [ 5 12  2 11  8]\n",
      "pred_labels: [ 5 12  2 11  8]\n",
      "Epoch 9 - avg_train_loss: 1.2004  lr: 8.4958e-04  time: 62s\n",
      "Epoch 9 - Score: 0.6260\n",
      "Epoch 9 - Save Best Score: 0.6260 Model\n"
     ]
    },
    {
     "name": "stdout",
     "output_type": "stream",
     "text": [
      "EVAL: [16/17] Data 0.000 (0.018) Elapsed 0m 4s (remain 0m 0s) \n",
      "Epoch: [10][0/65] Data 0.382 (0.382) Elapsed 0m 1s (remain 1m 7s) Loss: 0.5326(0.5326) Grad Norm: 0.0000  LR: 8.1581e-04  \n",
      "Epoch: [10][64/65] Data 0.000 (0.006) Elapsed 0m 57s (remain 0m 0s) Loss: 1.6023(1.1471) Grad Norm: 5.9711  LR: 8.1581e-04  \n",
      "EVAL: [0/17] Data 0.314 (0.314) Elapsed 0m 0s (remain 0m 8s) \n"
     ]
    },
    {
     "name": "stderr",
     "output_type": "stream",
     "text": [
      "labels: [ 5 12  2 11  8]\n",
      "pred_labels: [ 5 12  2 11  8]\n",
      "Epoch 10 - avg_train_loss: 1.1471  lr: 8.1581e-04  time: 62s\n",
      "Epoch 10 - Score: 0.5802\n"
     ]
    },
    {
     "name": "stdout",
     "output_type": "stream",
     "text": [
      "EVAL: [16/17] Data 0.000 (0.019) Elapsed 0m 4s (remain 0m 0s) \n",
      "Epoch: [11][0/65] Data 0.443 (0.443) Elapsed 0m 1s (remain 1m 7s) Loss: 1.5275(1.5275) Grad Norm: 0.0000  LR: 7.7953e-04  \n",
      "Epoch: [11][64/65] Data 0.000 (0.007) Elapsed 0m 57s (remain 0m 0s) Loss: 0.7002(0.9804) Grad Norm: 6.1363  LR: 7.7953e-04  \n",
      "EVAL: [0/17] Data 0.284 (0.284) Elapsed 0m 0s (remain 0m 8s) \n"
     ]
    },
    {
     "name": "stderr",
     "output_type": "stream",
     "text": [
      "labels: [ 5 12  2 11  8]\n",
      "pred_labels: [ 5 12  2 11  8]\n",
      "Epoch 11 - avg_train_loss: 0.9804  lr: 7.7953e-04  time: 62s\n",
      "Epoch 11 - Score: 0.6336\n",
      "Epoch 11 - Save Best Score: 0.6336 Model\n"
     ]
    },
    {
     "name": "stdout",
     "output_type": "stream",
     "text": [
      "EVAL: [16/17] Data 0.000 (0.017) Elapsed 0m 4s (remain 0m 0s) \n",
      "Epoch: [12][0/65] Data 0.472 (0.472) Elapsed 0m 1s (remain 1m 10s) Loss: 1.6422(1.6422) Grad Norm: 0.0000  LR: 7.4103e-04  \n",
      "Epoch: [12][64/65] Data 0.000 (0.007) Elapsed 0m 57s (remain 0m 0s) Loss: 1.4563(0.9134) Grad Norm: 6.4522  LR: 7.4103e-04  \n",
      "EVAL: [0/17] Data 0.282 (0.282) Elapsed 0m 0s (remain 0m 8s) \n"
     ]
    },
    {
     "name": "stderr",
     "output_type": "stream",
     "text": [
      "labels: [ 5 12  2 11  8]\n",
      "pred_labels: [ 5 12  2 11  8]\n",
      "Epoch 12 - avg_train_loss: 0.9134  lr: 7.4103e-04  time: 62s\n",
      "Epoch 12 - Score: 0.6565\n",
      "Epoch 12 - Save Best Score: 0.6565 Model\n"
     ]
    },
    {
     "name": "stdout",
     "output_type": "stream",
     "text": [
      "EVAL: [16/17] Data 0.000 (0.017) Elapsed 0m 4s (remain 0m 0s) \n",
      "Epoch: [13][0/65] Data 0.526 (0.526) Elapsed 0m 1s (remain 1m 13s) Loss: 1.5935(1.5935) Grad Norm: 0.0000  LR: 7.0063e-04  \n",
      "Epoch: [13][64/65] Data 0.000 (0.008) Elapsed 0m 57s (remain 0m 0s) Loss: 0.1843(0.8906) Grad Norm: 3.9385  LR: 7.0063e-04  \n",
      "EVAL: [0/17] Data 0.311 (0.311) Elapsed 0m 0s (remain 0m 8s) \n"
     ]
    },
    {
     "name": "stderr",
     "output_type": "stream",
     "text": [
      "labels: [ 5 12  2 11  8]\n",
      "pred_labels: [ 5 12  2 11  8]\n",
      "Epoch 13 - avg_train_loss: 0.8906  lr: 7.0063e-04  time: 62s\n",
      "Epoch 13 - Score: 0.6031\n"
     ]
    },
    {
     "name": "stdout",
     "output_type": "stream",
     "text": [
      "EVAL: [16/17] Data 0.000 (0.019) Elapsed 0m 4s (remain 0m 0s) \n",
      "Epoch: [14][0/65] Data 0.465 (0.465) Elapsed 0m 1s (remain 1m 9s) Loss: 1.7436(1.7436) Grad Norm: 0.0000  LR: 6.5865e-04  \n",
      "Epoch: [14][64/65] Data 0.000 (0.007) Elapsed 0m 57s (remain 0m 0s) Loss: 0.0487(1.0085) Grad Norm: 4.1805  LR: 6.5865e-04  \n",
      "EVAL: [0/17] Data 0.337 (0.337) Elapsed 0m 0s (remain 0m 9s) \n"
     ]
    },
    {
     "name": "stderr",
     "output_type": "stream",
     "text": [
      "labels: [ 5 12  2 11  8]\n",
      "pred_labels: [ 5 12  2 11  8]\n",
      "Epoch 14 - avg_train_loss: 1.0085  lr: 6.5865e-04  time: 62s\n",
      "Epoch 14 - Score: 0.6183\n"
     ]
    },
    {
     "name": "stdout",
     "output_type": "stream",
     "text": [
      "EVAL: [16/17] Data 0.000 (0.020) Elapsed 0m 4s (remain 0m 0s) \n",
      "Epoch: [15][0/65] Data 0.400 (0.400) Elapsed 0m 1s (remain 1m 4s) Loss: 0.2450(0.2450) Grad Norm: 0.0000  LR: 6.1542e-04  \n",
      "Epoch: [15][64/65] Data 0.000 (0.006) Elapsed 0m 56s (remain 0m 0s) Loss: 1.1885(0.7239) Grad Norm: 6.5746  LR: 6.1542e-04  \n",
      "EVAL: [0/17] Data 0.267 (0.267) Elapsed 0m 0s (remain 0m 8s) \n"
     ]
    },
    {
     "name": "stderr",
     "output_type": "stream",
     "text": [
      "labels: [ 5 12  2 11  8]\n",
      "pred_labels: [ 5 12  2 11  8]\n",
      "Epoch 15 - avg_train_loss: 0.7239  lr: 6.1542e-04  time: 61s\n",
      "Epoch 15 - Score: 0.5573\n"
     ]
    },
    {
     "name": "stdout",
     "output_type": "stream",
     "text": [
      "EVAL: [16/17] Data 0.000 (0.016) Elapsed 0m 4s (remain 0m 0s) \n",
      "Epoch: [16][0/65] Data 0.414 (0.414) Elapsed 0m 1s (remain 1m 5s) Loss: 1.9073(1.9073) Grad Norm: 0.0000  LR: 5.7130e-04  \n",
      "Epoch: [16][64/65] Data 0.000 (0.007) Elapsed 0m 56s (remain 0m 0s) Loss: 2.1252(0.8784) Grad Norm: 3.8358  LR: 5.7130e-04  \n",
      "EVAL: [0/17] Data 0.284 (0.284) Elapsed 0m 0s (remain 0m 8s) \n"
     ]
    },
    {
     "name": "stderr",
     "output_type": "stream",
     "text": [
      "labels: [ 5 12  2 11  8]\n",
      "pred_labels: [ 5 12  2 11  8]\n",
      "Epoch 16 - avg_train_loss: 0.8784  lr: 5.7130e-04  time: 61s\n",
      "Epoch 16 - Score: 0.6565\n"
     ]
    },
    {
     "name": "stdout",
     "output_type": "stream",
     "text": [
      "EVAL: [16/17] Data 0.000 (0.017) Elapsed 0m 4s (remain 0m 0s) \n",
      "Epoch: [17][0/65] Data 0.470 (0.470) Elapsed 0m 1s (remain 1m 9s) Loss: 1.4355(1.4355) Grad Norm: 0.0000  LR: 5.2663e-04  \n",
      "Epoch: [17][64/65] Data 0.000 (0.007) Elapsed 0m 56s (remain 0m 0s) Loss: 1.1596(0.9638) Grad Norm: 4.8236  LR: 5.2663e-04  \n",
      "EVAL: [0/17] Data 0.267 (0.267) Elapsed 0m 0s (remain 0m 8s) \n"
     ]
    },
    {
     "name": "stderr",
     "output_type": "stream",
     "text": [
      "labels: [ 5 12  2 11  8]\n",
      "pred_labels: [ 5 12  2 11  8]\n",
      "Epoch 17 - avg_train_loss: 0.9638  lr: 5.2663e-04  time: 61s\n",
      "Epoch 17 - Score: 0.6107\n"
     ]
    },
    {
     "name": "stdout",
     "output_type": "stream",
     "text": [
      "EVAL: [16/17] Data 0.000 (0.016) Elapsed 0m 4s (remain 0m 0s) \n",
      "Epoch: [18][0/65] Data 0.375 (0.375) Elapsed 0m 0s (remain 1m 3s) Loss: 0.9904(0.9904) Grad Norm: 0.0000  LR: 4.8179e-04  \n",
      "Epoch: [18][64/65] Data 0.000 (0.006) Elapsed 0m 56s (remain 0m 0s) Loss: 0.1057(1.0016) Grad Norm: 5.1112  LR: 4.8179e-04  \n",
      "EVAL: [0/17] Data 0.308 (0.308) Elapsed 0m 0s (remain 0m 8s) \n"
     ]
    },
    {
     "name": "stderr",
     "output_type": "stream",
     "text": [
      "labels: [ 5 12  2 11  8]\n",
      "pred_labels: [ 5 12  2 11  8]\n",
      "Epoch 18 - avg_train_loss: 1.0016  lr: 4.8179e-04  time: 61s\n",
      "Epoch 18 - Score: 0.6718\n",
      "Epoch 18 - Save Best Score: 0.6718 Model\n"
     ]
    },
    {
     "name": "stdout",
     "output_type": "stream",
     "text": [
      "EVAL: [16/17] Data 0.000 (0.018) Elapsed 0m 4s (remain 0m 0s) \n",
      "Epoch: [19][0/65] Data 0.481 (0.481) Elapsed 0m 1s (remain 1m 10s) Loss: 1.1149(1.1149) Grad Norm: 0.0000  LR: 4.3712e-04  \n",
      "Epoch: [19][64/65] Data 0.000 (0.008) Elapsed 0m 56s (remain 0m 0s) Loss: 0.1971(0.7774) Grad Norm: 3.9341  LR: 4.3712e-04  \n",
      "EVAL: [0/17] Data 0.266 (0.266) Elapsed 0m 0s (remain 0m 8s) \n"
     ]
    },
    {
     "name": "stderr",
     "output_type": "stream",
     "text": [
      "labels: [ 5 12  2 11  8]\n",
      "pred_labels: [ 5 12  2 11  8]\n",
      "Epoch 19 - avg_train_loss: 0.7774  lr: 4.3712e-04  time: 61s\n",
      "Epoch 19 - Score: 0.6107\n"
     ]
    },
    {
     "name": "stdout",
     "output_type": "stream",
     "text": [
      "EVAL: [16/17] Data 0.000 (0.016) Elapsed 0m 4s (remain 0m 0s) \n",
      "Epoch: [20][0/65] Data 0.451 (0.451) Elapsed 0m 1s (remain 1m 7s) Loss: 0.2417(0.2417) Grad Norm: 0.0000  LR: 3.9299e-04  \n",
      "Epoch: [20][64/65] Data 0.000 (0.007) Elapsed 0m 56s (remain 0m 0s) Loss: 1.6047(0.7817) Grad Norm: 5.6000  LR: 3.9299e-04  \n",
      "EVAL: [0/17] Data 0.305 (0.305) Elapsed 0m 0s (remain 0m 8s) \n"
     ]
    },
    {
     "name": "stderr",
     "output_type": "stream",
     "text": [
      "labels: [ 5 12  2 11  8]\n",
      "pred_labels: [ 5 12  2 11  8]\n",
      "Epoch 20 - avg_train_loss: 0.7817  lr: 3.9299e-04  time: 61s\n",
      "Epoch 20 - Score: 0.6260\n"
     ]
    },
    {
     "name": "stdout",
     "output_type": "stream",
     "text": [
      "EVAL: [16/17] Data 0.000 (0.018) Elapsed 0m 4s (remain 0m 0s) \n",
      "Epoch: [21][0/65] Data 0.418 (0.418) Elapsed 0m 1s (remain 1m 5s) Loss: 0.0495(0.0495) Grad Norm: 0.0000  LR: 3.4975e-04  \n",
      "Epoch: [21][64/65] Data 0.000 (0.007) Elapsed 0m 56s (remain 0m 0s) Loss: 0.0623(0.7228) Grad Norm: 4.1021  LR: 3.4975e-04  \n",
      "EVAL: [0/17] Data 0.270 (0.270) Elapsed 0m 0s (remain 0m 8s) \n"
     ]
    },
    {
     "name": "stderr",
     "output_type": "stream",
     "text": [
      "labels: [ 5 12  2 11  8]\n",
      "pred_labels: [ 5 12  2 11  8]\n",
      "Epoch 21 - avg_train_loss: 0.7228  lr: 3.4975e-04  time: 61s\n",
      "Epoch 21 - Score: 0.6412\n"
     ]
    },
    {
     "name": "stdout",
     "output_type": "stream",
     "text": [
      "EVAL: [16/17] Data 0.000 (0.016) Elapsed 0m 4s (remain 0m 0s) \n",
      "Epoch: [22][0/65] Data 0.424 (0.424) Elapsed 0m 1s (remain 1m 6s) Loss: 0.9580(0.9580) Grad Norm: 0.0000  LR: 3.0775e-04  \n",
      "Epoch: [22][64/65] Data 0.000 (0.007) Elapsed 0m 56s (remain 0m 0s) Loss: 1.4675(0.8123) Grad Norm: 3.5414  LR: 3.0775e-04  \n",
      "EVAL: [0/17] Data 0.287 (0.287) Elapsed 0m 0s (remain 0m 8s) \n"
     ]
    },
    {
     "name": "stderr",
     "output_type": "stream",
     "text": [
      "labels: [ 5 12  2 11  8]\n",
      "pred_labels: [ 5 12  2 11  8]\n",
      "Epoch 22 - avg_train_loss: 0.8123  lr: 3.0775e-04  time: 61s\n",
      "Epoch 22 - Score: 0.6031\n"
     ]
    },
    {
     "name": "stdout",
     "output_type": "stream",
     "text": [
      "EVAL: [16/17] Data 0.000 (0.017) Elapsed 0m 4s (remain 0m 0s) \n",
      "Epoch: [23][0/65] Data 0.493 (0.493) Elapsed 0m 1s (remain 1m 10s) Loss: 0.0492(0.0492) Grad Norm: 0.0000  LR: 2.6732e-04  \n",
      "Epoch: [23][64/65] Data 0.000 (0.008) Elapsed 0m 56s (remain 0m 0s) Loss: 1.1984(0.6706) Grad Norm: 2.6560  LR: 2.6732e-04  \n",
      "EVAL: [0/17] Data 0.307 (0.307) Elapsed 0m 0s (remain 0m 8s) \n"
     ]
    },
    {
     "name": "stderr",
     "output_type": "stream",
     "text": [
      "labels: [ 5 12  2 11  8]\n",
      "pred_labels: [ 5 12  2 11  8]\n",
      "Epoch 23 - avg_train_loss: 0.6706  lr: 2.6732e-04  time: 61s\n",
      "Epoch 23 - Score: 0.5878\n"
     ]
    },
    {
     "name": "stdout",
     "output_type": "stream",
     "text": [
      "EVAL: [16/17] Data 0.000 (0.018) Elapsed 0m 4s (remain 0m 0s) \n",
      "Epoch: [24][0/65] Data 0.393 (0.393) Elapsed 0m 1s (remain 1m 4s) Loss: 0.0556(0.0556) Grad Norm: 0.0000  LR: 2.2880e-04  \n",
      "Epoch: [24][64/65] Data 0.000 (0.006) Elapsed 0m 56s (remain 0m 0s) Loss: 0.0523(0.6373) Grad Norm: 3.3618  LR: 2.2880e-04  \n",
      "EVAL: [0/17] Data 0.270 (0.270) Elapsed 0m 0s (remain 0m 8s) \n"
     ]
    },
    {
     "name": "stderr",
     "output_type": "stream",
     "text": [
      "labels: [ 5 12  2 11  8]\n",
      "pred_labels: [ 5 12  2 11  8]\n",
      "Epoch 24 - avg_train_loss: 0.6373  lr: 2.2880e-04  time: 61s\n",
      "Epoch 24 - Score: 0.6183\n"
     ]
    },
    {
     "name": "stdout",
     "output_type": "stream",
     "text": [
      "EVAL: [16/17] Data 0.000 (0.016) Elapsed 0m 4s (remain 0m 0s) \n",
      "Epoch: [25][0/65] Data 0.455 (0.455) Elapsed 0m 1s (remain 1m 7s) Loss: 0.0231(0.0231) Grad Norm: 0.0000  LR: 1.9248e-04  \n",
      "Epoch: [25][64/65] Data 0.000 (0.007) Elapsed 0m 56s (remain 0m 0s) Loss: 1.3457(0.7190) Grad Norm: 3.2124  LR: 1.9248e-04  \n",
      "EVAL: [0/17] Data 0.325 (0.325) Elapsed 0m 0s (remain 0m 8s) \n"
     ]
    },
    {
     "name": "stderr",
     "output_type": "stream",
     "text": [
      "labels: [ 5 12  2 11  8]\n",
      "pred_labels: [ 2 12  2 11  8]\n",
      "Epoch 25 - avg_train_loss: 0.7190  lr: 1.9248e-04  time: 61s\n",
      "Epoch 25 - Score: 0.6412\n"
     ]
    },
    {
     "name": "stdout",
     "output_type": "stream",
     "text": [
      "EVAL: [16/17] Data 0.000 (0.019) Elapsed 0m 4s (remain 0m 0s) \n",
      "Epoch: [26][0/65] Data 0.432 (0.432) Elapsed 0m 1s (remain 1m 6s) Loss: 0.8307(0.8307) Grad Norm: 0.0000  LR: 1.5867e-04  \n",
      "Epoch: [26][64/65] Data 0.000 (0.007) Elapsed 0m 56s (remain 0m 0s) Loss: 0.0332(0.5422) Grad Norm: 2.2711  LR: 1.5867e-04  \n",
      "EVAL: [0/17] Data 0.245 (0.245) Elapsed 0m 0s (remain 0m 7s) \n"
     ]
    },
    {
     "name": "stderr",
     "output_type": "stream",
     "text": [
      "labels: [ 5 12  2 11  8]\n",
      "pred_labels: [ 5 12  2 11  8]\n",
      "Epoch 26 - avg_train_loss: 0.5422  lr: 1.5867e-04  time: 61s\n",
      "Epoch 26 - Score: 0.6336\n"
     ]
    },
    {
     "name": "stdout",
     "output_type": "stream",
     "text": [
      "EVAL: [16/17] Data 0.000 (0.015) Elapsed 0m 4s (remain 0m 0s) \n",
      "Epoch: [27][0/65] Data 0.446 (0.446) Elapsed 0m 1s (remain 1m 7s) Loss: 1.1210(1.1210) Grad Norm: 0.0000  LR: 1.2762e-04  \n",
      "Epoch: [27][64/65] Data 0.000 (0.007) Elapsed 0m 56s (remain 0m 0s) Loss: 1.8477(0.6984) Grad Norm: 3.3703  LR: 1.2762e-04  \n",
      "EVAL: [0/17] Data 0.313 (0.313) Elapsed 0m 0s (remain 0m 8s) \n"
     ]
    },
    {
     "name": "stderr",
     "output_type": "stream",
     "text": [
      "labels: [ 5 12  2 11  8]\n",
      "pred_labels: [ 5 12  2 11  8]\n",
      "Epoch 27 - avg_train_loss: 0.6984  lr: 1.2762e-04  time: 61s\n",
      "Epoch 27 - Score: 0.6336\n"
     ]
    },
    {
     "name": "stdout",
     "output_type": "stream",
     "text": [
      "EVAL: [16/17] Data 0.000 (0.019) Elapsed 0m 4s (remain 0m 0s) \n",
      "Epoch: [28][0/65] Data 0.453 (0.453) Elapsed 0m 1s (remain 1m 7s) Loss: 0.0948(0.0948) Grad Norm: 0.0000  LR: 9.9584e-05  \n",
      "Epoch: [28][64/65] Data 0.000 (0.007) Elapsed 0m 56s (remain 0m 0s) Loss: 0.0486(0.7243) Grad Norm: 1.5128  LR: 9.9584e-05  \n",
      "EVAL: [0/17] Data 0.291 (0.291) Elapsed 0m 0s (remain 0m 8s) \n"
     ]
    },
    {
     "name": "stderr",
     "output_type": "stream",
     "text": [
      "labels: [ 5 12  2 11  8]\n",
      "pred_labels: [ 5 12  2 11  8]\n",
      "Epoch 28 - avg_train_loss: 0.7243  lr: 9.9584e-05  time: 61s\n",
      "Epoch 28 - Score: 0.6489\n"
     ]
    },
    {
     "name": "stdout",
     "output_type": "stream",
     "text": [
      "EVAL: [16/17] Data 0.000 (0.017) Elapsed 0m 4s (remain 0m 0s) \n",
      "Epoch: [29][0/65] Data 0.399 (0.399) Elapsed 0m 1s (remain 1m 5s) Loss: 0.1669(0.1669) Grad Norm: 0.0000  LR: 7.4783e-05  \n",
      "Epoch: [29][64/65] Data 0.000 (0.006) Elapsed 0m 56s (remain 0m 0s) Loss: 0.9138(0.6331) Grad Norm: 0.5323  LR: 7.4783e-05  \n",
      "EVAL: [0/17] Data 0.290 (0.290) Elapsed 0m 0s (remain 0m 8s) \n"
     ]
    },
    {
     "name": "stderr",
     "output_type": "stream",
     "text": [
      "labels: [ 5 12  2 11  8]\n",
      "pred_labels: [ 5 12  2 11  8]\n",
      "Epoch 29 - avg_train_loss: 0.6331  lr: 7.4783e-05  time: 61s\n",
      "Epoch 29 - Score: 0.6260\n"
     ]
    },
    {
     "name": "stdout",
     "output_type": "stream",
     "text": [
      "EVAL: [16/17] Data 0.000 (0.017) Elapsed 0m 4s (remain 0m 0s) \n",
      "Epoch: [30][0/65] Data 0.354 (0.354) Elapsed 0m 0s (remain 1m 1s) Loss: 0.0502(0.0502) Grad Norm: 0.0000  LR: 5.3404e-05  \n",
      "Epoch: [30][64/65] Data 0.000 (0.006) Elapsed 0m 56s (remain 0m 0s) Loss: 0.0386(0.6967) Grad Norm: 5.0708  LR: 5.3404e-05  \n",
      "EVAL: [0/17] Data 0.241 (0.241) Elapsed 0m 0s (remain 0m 7s) \n"
     ]
    },
    {
     "name": "stderr",
     "output_type": "stream",
     "text": [
      "labels: [ 5 12  2 11  8]\n",
      "pred_labels: [ 5 12  2 11  8]\n",
      "Epoch 30 - avg_train_loss: 0.6967  lr: 5.3404e-05  time: 61s\n",
      "Epoch 30 - Score: 0.6336\n"
     ]
    },
    {
     "name": "stdout",
     "output_type": "stream",
     "text": [
      "EVAL: [16/17] Data 0.000 (0.014) Elapsed 0m 4s (remain 0m 0s) \n",
      "Epoch: [31][0/65] Data 0.430 (0.430) Elapsed 0m 1s (remain 1m 6s) Loss: 0.0505(0.0505) Grad Norm: 0.0000  LR: 3.5607e-05  \n",
      "Epoch: [31][64/65] Data 0.000 (0.007) Elapsed 0m 56s (remain 0m 0s) Loss: 0.0276(0.0681) Grad Norm: 0.7908  LR: 3.5607e-05  \n",
      "EVAL: [0/17] Data 0.306 (0.306) Elapsed 0m 0s (remain 0m 8s) \n"
     ]
    },
    {
     "name": "stderr",
     "output_type": "stream",
     "text": [
      "labels: [ 5 12  2 11  8]\n",
      "pred_labels: [ 5 12  2 11  8]\n",
      "Epoch 31 - avg_train_loss: 0.0681  lr: 3.5607e-05  time: 61s\n",
      "Epoch 31 - Score: 0.6412\n"
     ]
    },
    {
     "name": "stdout",
     "output_type": "stream",
     "text": [
      "EVAL: [16/17] Data 0.000 (0.018) Elapsed 0m 4s (remain 0m 0s) \n",
      "Epoch: [32][0/65] Data 0.482 (0.482) Elapsed 0m 1s (remain 1m 10s) Loss: 0.0184(0.0184) Grad Norm: 0.0000  LR: 2.1508e-05  \n",
      "Epoch: [32][64/65] Data 0.000 (0.008) Elapsed 0m 56s (remain 0m 0s) Loss: 0.0350(0.0591) Grad Norm: 3.9694  LR: 2.1508e-05  \n",
      "EVAL: [0/17] Data 0.309 (0.309) Elapsed 0m 0s (remain 0m 8s) \n"
     ]
    },
    {
     "name": "stderr",
     "output_type": "stream",
     "text": [
      "labels: [ 5 12  2 11  8]\n",
      "pred_labels: [ 5 12  2 11  8]\n",
      "Epoch 32 - avg_train_loss: 0.0591  lr: 2.1508e-05  time: 61s\n",
      "Epoch 32 - Score: 0.6412\n"
     ]
    },
    {
     "name": "stdout",
     "output_type": "stream",
     "text": [
      "EVAL: [16/17] Data 0.000 (0.018) Elapsed 0m 4s (remain 0m 0s) \n",
      "Epoch: [33][0/65] Data 0.463 (0.463) Elapsed 0m 1s (remain 1m 9s) Loss: 0.0324(0.0324) Grad Norm: 0.0000  LR: 1.1173e-05  \n",
      "Epoch: [33][64/65] Data 0.000 (0.007) Elapsed 0m 56s (remain 0m 0s) Loss: 0.0265(0.0520) Grad Norm: 0.4717  LR: 1.1173e-05  \n",
      "EVAL: [0/17] Data 0.295 (0.295) Elapsed 0m 0s (remain 0m 8s) \n"
     ]
    },
    {
     "name": "stderr",
     "output_type": "stream",
     "text": [
      "labels: [ 5 12  2 11  8]\n",
      "pred_labels: [ 5 12  2 11  8]\n",
      "Epoch 33 - avg_train_loss: 0.0520  lr: 1.1173e-05  time: 61s\n",
      "Epoch 33 - Score: 0.6412\n"
     ]
    },
    {
     "name": "stdout",
     "output_type": "stream",
     "text": [
      "EVAL: [16/17] Data 0.000 (0.018) Elapsed 0m 4s (remain 0m 0s) \n",
      "Epoch: [34][0/65] Data 0.438 (0.438) Elapsed 0m 1s (remain 1m 7s) Loss: 0.0090(0.0090) Grad Norm: 0.0000  LR: 4.5796e-06  \n",
      "Epoch: [34][64/65] Data 0.000 (0.007) Elapsed 0m 56s (remain 0m 0s) Loss: 0.1015(0.0518) Grad Norm: 0.9605  LR: 4.5796e-06  \n",
      "EVAL: [0/17] Data 0.240 (0.240) Elapsed 0m 0s (remain 0m 7s) \n"
     ]
    },
    {
     "name": "stderr",
     "output_type": "stream",
     "text": [
      "labels: [ 5 12  2 11  8]\n",
      "pred_labels: [ 5 12  2 11  8]\n",
      "Epoch 34 - avg_train_loss: 0.0518  lr: 4.5796e-06  time: 61s\n",
      "Epoch 34 - Score: 0.6565\n"
     ]
    },
    {
     "name": "stdout",
     "output_type": "stream",
     "text": [
      "EVAL: [16/17] Data 0.000 (0.014) Elapsed 0m 4s (remain 0m 0s) \n",
      "Epoch: [35][0/65] Data 0.474 (0.474) Elapsed 0m 1s (remain 1m 9s) Loss: 0.0247(0.0247) Grad Norm: 0.0000  LR: 1.5037e-06  \n",
      "Epoch: [35][64/65] Data 0.000 (0.008) Elapsed 0m 56s (remain 0m 0s) Loss: 0.0242(0.0435) Grad Norm: 2.7023  LR: 1.5037e-06  \n",
      "EVAL: [0/17] Data 0.298 (0.298) Elapsed 0m 0s (remain 0m 8s) \n"
     ]
    },
    {
     "name": "stderr",
     "output_type": "stream",
     "text": [
      "labels: [ 5 12  2 11  8]\n",
      "pred_labels: [ 5 12  2 11  8]\n",
      "Epoch 35 - avg_train_loss: 0.0435  lr: 1.5037e-06  time: 61s\n",
      "Epoch 35 - Score: 0.6718\n",
      "==================== fold: 3, seed: 0 training ====================\n"
     ]
    },
    {
     "name": "stdout",
     "output_type": "stream",
     "text": [
      "EVAL: [16/17] Data 0.000 (0.018) Elapsed 0m 4s (remain 0m 0s) \n",
      "Epoch: [1][0/65] Data 0.451 (0.451) Elapsed 0m 1s (remain 1m 8s) Loss: 2.5835(2.5835) Grad Norm: 0.0000  LR: 1.0000e-03  \n",
      "Epoch: [1][64/65] Data 0.000 (0.007) Elapsed 0m 57s (remain 0m 0s) Loss: 2.3026(2.5146) Grad Norm: 8.1666  LR: 1.0000e-03  \n",
      "EVAL: [0/17] Data 0.365 (0.365) Elapsed 0m 0s (remain 0m 9s) \n"
     ]
    },
    {
     "name": "stderr",
     "output_type": "stream",
     "text": [
      "labels: [2 7 2 3 0]\n",
      "pred_labels: [5 2 2 7 9]\n",
      "Epoch 1 - avg_train_loss: 2.5146  lr: 1.0000e-03  time: 62s\n",
      "Epoch 1 - Score: 0.1985\n",
      "Epoch 1 - Save Best Score: 0.1985 Model\n"
     ]
    },
    {
     "name": "stdout",
     "output_type": "stream",
     "text": [
      "EVAL: [16/17] Data 0.000 (0.022) Elapsed 0m 4s (remain 0m 0s) \n",
      "Epoch: [2][0/65] Data 0.440 (0.440) Elapsed 0m 1s (remain 1m 7s) Loss: 2.1479(2.1479) Grad Norm: 0.0000  LR: 9.9598e-04  \n",
      "Epoch: [2][64/65] Data 0.000 (0.007) Elapsed 0m 57s (remain 0m 0s) Loss: 2.6793(2.3244) Grad Norm: 6.7542  LR: 9.9598e-04  \n",
      "EVAL: [0/17] Data 0.320 (0.320) Elapsed 0m 0s (remain 0m 8s) \n"
     ]
    },
    {
     "name": "stderr",
     "output_type": "stream",
     "text": [
      "labels: [2 7 2 3 0]\n",
      "pred_labels: [5 2 2 7 2]\n",
      "Epoch 2 - avg_train_loss: 2.3244  lr: 9.9598e-04  time: 62s\n",
      "Epoch 2 - Score: 0.3130\n",
      "Epoch 2 - Save Best Score: 0.3130 Model\n"
     ]
    },
    {
     "name": "stdout",
     "output_type": "stream",
     "text": [
      "EVAL: [16/17] Data 0.000 (0.019) Elapsed 0m 4s (remain 0m 0s) \n",
      "Epoch: [3][0/65] Data 0.496 (0.496) Elapsed 0m 1s (remain 1m 11s) Loss: 2.2964(2.2964) Grad Norm: 0.0000  LR: 9.8599e-04  \n",
      "Epoch: [3][64/65] Data 0.000 (0.008) Elapsed 0m 57s (remain 0m 0s) Loss: 1.5671(2.1631) Grad Norm: 9.2556  LR: 9.8599e-04  \n",
      "EVAL: [0/17] Data 0.339 (0.339) Elapsed 0m 0s (remain 0m 9s) \n"
     ]
    },
    {
     "name": "stderr",
     "output_type": "stream",
     "text": [
      "labels: [2 7 2 3 0]\n",
      "pred_labels: [5 2 2 2 2]\n",
      "Epoch 3 - avg_train_loss: 2.1631  lr: 9.8599e-04  time: 62s\n",
      "Epoch 3 - Score: 0.3817\n",
      "Epoch 3 - Save Best Score: 0.3817 Model\n"
     ]
    },
    {
     "name": "stdout",
     "output_type": "stream",
     "text": [
      "EVAL: [16/17] Data 0.000 (0.020) Elapsed 0m 4s (remain 0m 0s) \n",
      "Epoch: [4][0/65] Data 0.538 (0.538) Elapsed 0m 1s (remain 1m 14s) Loss: 2.1747(2.1747) Grad Norm: 0.0000  LR: 9.7213e-04  \n",
      "Epoch: [4][64/65] Data 0.000 (0.009) Elapsed 0m 57s (remain 0m 0s) Loss: 2.3394(2.0189) Grad Norm: 6.2592  LR: 9.7213e-04  \n",
      "EVAL: [0/17] Data 0.300 (0.300) Elapsed 0m 0s (remain 0m 8s) \n"
     ]
    },
    {
     "name": "stderr",
     "output_type": "stream",
     "text": [
      "labels: [2 7 2 3 0]\n",
      "pred_labels: [5 7 2 2 2]\n",
      "Epoch 4 - avg_train_loss: 2.0189  lr: 9.7213e-04  time: 62s\n",
      "Epoch 4 - Score: 0.4504\n",
      "Epoch 4 - Save Best Score: 0.4504 Model\n"
     ]
    },
    {
     "name": "stdout",
     "output_type": "stream",
     "text": [
      "EVAL: [16/17] Data 0.000 (0.018) Elapsed 0m 4s (remain 0m 0s) \n",
      "Epoch: [5][0/65] Data 0.476 (0.476) Elapsed 0m 1s (remain 1m 11s) Loss: 1.9584(1.9584) Grad Norm: 0.0000  LR: 9.5449e-04  \n",
      "Epoch: [5][64/65] Data 0.000 (0.008) Elapsed 0m 57s (remain 0m 0s) Loss: 1.7559(1.7451) Grad Norm: 8.2230  LR: 9.5449e-04  \n",
      "EVAL: [0/17] Data 0.365 (0.365) Elapsed 0m 0s (remain 0m 9s) \n"
     ]
    },
    {
     "name": "stderr",
     "output_type": "stream",
     "text": [
      "labels: [2 7 2 3 0]\n",
      "pred_labels: [5 7 2 2 2]\n",
      "Epoch 5 - avg_train_loss: 1.7451  lr: 9.5449e-04  time: 62s\n",
      "Epoch 5 - Score: 0.4427\n"
     ]
    },
    {
     "name": "stdout",
     "output_type": "stream",
     "text": [
      "EVAL: [16/17] Data 0.000 (0.022) Elapsed 0m 4s (remain 0m 0s) \n",
      "Epoch: [6][0/65] Data 0.429 (0.429) Elapsed 0m 1s (remain 1m 9s) Loss: 1.1857(1.1857) Grad Norm: 0.0000  LR: 9.3324e-04  \n",
      "Epoch: [6][64/65] Data 0.000 (0.007) Elapsed 0m 57s (remain 0m 0s) Loss: 0.6813(1.4879) Grad Norm: 7.5299  LR: 9.3324e-04  \n",
      "EVAL: [0/17] Data 0.273 (0.273) Elapsed 0m 0s (remain 0m 8s) \n"
     ]
    },
    {
     "name": "stderr",
     "output_type": "stream",
     "text": [
      "labels: [2 7 2 3 0]\n",
      "pred_labels: [5 4 2 4 2]\n",
      "Epoch 6 - avg_train_loss: 1.4879  lr: 9.3324e-04  time: 62s\n",
      "Epoch 6 - Score: 0.5115\n",
      "Epoch 6 - Save Best Score: 0.5115 Model\n"
     ]
    },
    {
     "name": "stdout",
     "output_type": "stream",
     "text": [
      "EVAL: [16/17] Data 0.000 (0.016) Elapsed 0m 4s (remain 0m 0s) \n",
      "Epoch: [7][0/65] Data 0.581 (0.581) Elapsed 0m 1s (remain 1m 17s) Loss: 1.8730(1.8730) Grad Norm: 0.0000  LR: 9.0853e-04  \n",
      "Epoch: [7][64/65] Data 0.000 (0.009) Elapsed 0m 57s (remain 0m 0s) Loss: 1.5228(1.3576) Grad Norm: 6.7081  LR: 9.0853e-04  \n",
      "EVAL: [0/17] Data 0.357 (0.357) Elapsed 0m 0s (remain 0m 9s) \n"
     ]
    },
    {
     "name": "stderr",
     "output_type": "stream",
     "text": [
      "labels: [2 7 2 3 0]\n",
      "pred_labels: [5 4 2 4 6]\n",
      "Epoch 7 - avg_train_loss: 1.3576  lr: 9.0853e-04  time: 62s\n",
      "Epoch 7 - Score: 0.5267\n",
      "Epoch 7 - Save Best Score: 0.5267 Model\n"
     ]
    },
    {
     "name": "stdout",
     "output_type": "stream",
     "text": [
      "EVAL: [16/17] Data 0.000 (0.021) Elapsed 0m 4s (remain 0m 0s) \n",
      "Epoch: [8][0/65] Data 0.497 (0.497) Elapsed 0m 1s (remain 1m 11s) Loss: 1.8164(1.8164) Grad Norm: 0.0000  LR: 8.8057e-04  \n",
      "Epoch: [8][64/65] Data 0.000 (0.008) Elapsed 0m 57s (remain 0m 0s) Loss: 0.7328(1.1980) Grad Norm: 7.6170  LR: 8.8057e-04  \n",
      "EVAL: [0/17] Data 0.314 (0.314) Elapsed 0m 0s (remain 0m 8s) \n"
     ]
    },
    {
     "name": "stderr",
     "output_type": "stream",
     "text": [
      "labels: [2 7 2 3 0]\n",
      "pred_labels: [5 7 2 2 2]\n",
      "Epoch 8 - avg_train_loss: 1.1980  lr: 8.8057e-04  time: 62s\n",
      "Epoch 8 - Score: 0.5267\n"
     ]
    },
    {
     "name": "stdout",
     "output_type": "stream",
     "text": [
      "EVAL: [16/17] Data 0.000 (0.019) Elapsed 0m 4s (remain 0m 0s) \n",
      "Epoch: [9][0/65] Data 0.469 (0.469) Elapsed 0m 1s (remain 1m 8s) Loss: 1.3830(1.3830) Grad Norm: 0.0000  LR: 8.4958e-04  \n",
      "Epoch: [9][64/65] Data 0.000 (0.007) Elapsed 0m 57s (remain 0m 0s) Loss: 0.3654(1.2637) Grad Norm: 6.4787  LR: 8.4958e-04  \n",
      "EVAL: [0/17] Data 0.363 (0.363) Elapsed 0m 0s (remain 0m 9s) \n"
     ]
    },
    {
     "name": "stderr",
     "output_type": "stream",
     "text": [
      "labels: [2 7 2 3 0]\n",
      "pred_labels: [11  4  2  2  2]\n",
      "Epoch 9 - avg_train_loss: 1.2637  lr: 8.4958e-04  time: 62s\n",
      "Epoch 9 - Score: 0.5191\n"
     ]
    },
    {
     "name": "stdout",
     "output_type": "stream",
     "text": [
      "EVAL: [16/17] Data 0.000 (0.022) Elapsed 0m 4s (remain 0m 0s) \n",
      "Epoch: [10][0/65] Data 0.495 (0.495) Elapsed 0m 1s (remain 1m 11s) Loss: 1.8038(1.8038) Grad Norm: 0.0000  LR: 8.1581e-04  \n",
      "Epoch: [10][64/65] Data 0.000 (0.008) Elapsed 0m 57s (remain 0m 0s) Loss: 0.4188(1.1345) Grad Norm: 5.7439  LR: 8.1581e-04  \n",
      "EVAL: [0/17] Data 0.327 (0.327) Elapsed 0m 0s (remain 0m 8s) \n"
     ]
    },
    {
     "name": "stderr",
     "output_type": "stream",
     "text": [
      "labels: [2 7 2 3 0]\n",
      "pred_labels: [5 7 2 3 2]\n",
      "Epoch 10 - avg_train_loss: 1.1345  lr: 8.1581e-04  time: 62s\n",
      "Epoch 10 - Score: 0.5115\n"
     ]
    },
    {
     "name": "stdout",
     "output_type": "stream",
     "text": [
      "EVAL: [16/17] Data 0.000 (0.020) Elapsed 0m 4s (remain 0m 0s) \n",
      "Epoch: [11][0/65] Data 0.422 (0.422) Elapsed 0m 1s (remain 1m 5s) Loss: 0.7452(0.7452) Grad Norm: 0.0000  LR: 7.7953e-04  \n",
      "Epoch: [11][64/65] Data 0.000 (0.007) Elapsed 0m 57s (remain 0m 0s) Loss: 1.1732(1.0599) Grad Norm: 5.8736  LR: 7.7953e-04  \n",
      "EVAL: [0/17] Data 0.272 (0.272) Elapsed 0m 0s (remain 0m 8s) \n"
     ]
    },
    {
     "name": "stderr",
     "output_type": "stream",
     "text": [
      "labels: [2 7 2 3 0]\n",
      "pred_labels: [5 4 2 2 1]\n",
      "Epoch 11 - avg_train_loss: 1.0599  lr: 7.7953e-04  time: 62s\n",
      "Epoch 11 - Score: 0.5496\n",
      "Epoch 11 - Save Best Score: 0.5496 Model\n"
     ]
    },
    {
     "name": "stdout",
     "output_type": "stream",
     "text": [
      "EVAL: [16/17] Data 0.000 (0.016) Elapsed 0m 4s (remain 0m 0s) \n",
      "Epoch: [12][0/65] Data 0.460 (0.460) Elapsed 0m 1s (remain 1m 9s) Loss: 0.4047(0.4047) Grad Norm: 0.0000  LR: 7.4103e-04  \n",
      "Epoch: [12][64/65] Data 0.000 (0.007) Elapsed 0m 57s (remain 0m 0s) Loss: 1.5611(0.9126) Grad Norm: 7.2583  LR: 7.4103e-04  \n",
      "EVAL: [0/17] Data 0.325 (0.325) Elapsed 0m 0s (remain 0m 9s) \n"
     ]
    },
    {
     "name": "stderr",
     "output_type": "stream",
     "text": [
      "labels: [2 7 2 3 0]\n",
      "pred_labels: [5 4 2 2 2]\n",
      "Epoch 12 - avg_train_loss: 0.9126  lr: 7.4103e-04  time: 62s\n",
      "Epoch 12 - Score: 0.5267\n"
     ]
    },
    {
     "name": "stdout",
     "output_type": "stream",
     "text": [
      "EVAL: [16/17] Data 0.000 (0.019) Elapsed 0m 4s (remain 0m 0s) \n",
      "Epoch: [13][0/65] Data 0.450 (0.450) Elapsed 0m 1s (remain 1m 10s) Loss: 0.1123(0.1123) Grad Norm: 0.0000  LR: 7.0063e-04  \n",
      "Epoch: [13][64/65] Data 0.000 (0.007) Elapsed 0m 57s (remain 0m 0s) Loss: 0.0879(1.0446) Grad Norm: 5.8544  LR: 7.0063e-04  \n",
      "EVAL: [0/17] Data 0.300 (0.300) Elapsed 0m 0s (remain 0m 8s) \n"
     ]
    },
    {
     "name": "stderr",
     "output_type": "stream",
     "text": [
      "labels: [2 7 2 3 0]\n",
      "pred_labels: [5 3 2 4 2]\n",
      "Epoch 13 - avg_train_loss: 1.0446  lr: 7.0063e-04  time: 62s\n",
      "Epoch 13 - Score: 0.5725\n",
      "Epoch 13 - Save Best Score: 0.5725 Model\n"
     ]
    },
    {
     "name": "stdout",
     "output_type": "stream",
     "text": [
      "EVAL: [16/17] Data 0.000 (0.018) Elapsed 0m 4s (remain 0m 0s) \n",
      "Epoch: [14][0/65] Data 0.480 (0.480) Elapsed 0m 1s (remain 1m 10s) Loss: 1.0791(1.0791) Grad Norm: 0.0000  LR: 6.5865e-04  \n",
      "Epoch: [14][64/65] Data 0.000 (0.008) Elapsed 0m 57s (remain 0m 0s) Loss: 0.5197(0.8946) Grad Norm: 4.8351  LR: 6.5865e-04  \n",
      "EVAL: [0/17] Data 0.292 (0.292) Elapsed 0m 0s (remain 0m 8s) \n"
     ]
    },
    {
     "name": "stderr",
     "output_type": "stream",
     "text": [
      "labels: [2 7 2 3 0]\n",
      "pred_labels: [5 4 2 2 2]\n",
      "Epoch 14 - avg_train_loss: 0.8946  lr: 6.5865e-04  time: 62s\n",
      "Epoch 14 - Score: 0.5725\n"
     ]
    },
    {
     "name": "stdout",
     "output_type": "stream",
     "text": [
      "EVAL: [16/17] Data 0.000 (0.017) Elapsed 0m 4s (remain 0m 0s) \n",
      "Epoch: [15][0/65] Data 0.489 (0.489) Elapsed 0m 1s (remain 1m 10s) Loss: 0.1331(0.1331) Grad Norm: 0.0000  LR: 6.1542e-04  \n",
      "Epoch: [15][64/65] Data 0.000 (0.008) Elapsed 0m 57s (remain 0m 0s) Loss: 0.3312(0.7871) Grad Norm: 9.6236  LR: 6.1542e-04  \n",
      "EVAL: [0/17] Data 0.364 (0.364) Elapsed 0m 0s (remain 0m 9s) \n"
     ]
    },
    {
     "name": "stderr",
     "output_type": "stream",
     "text": [
      "labels: [2 7 2 3 0]\n",
      "pred_labels: [5 4 2 4 2]\n",
      "Epoch 15 - avg_train_loss: 0.7871  lr: 6.1542e-04  time: 62s\n",
      "Epoch 15 - Score: 0.5420\n"
     ]
    },
    {
     "name": "stdout",
     "output_type": "stream",
     "text": [
      "EVAL: [16/17] Data 0.000 (0.022) Elapsed 0m 4s (remain 0m 0s) \n",
      "Epoch: [16][0/65] Data 0.428 (0.428) Elapsed 0m 1s (remain 1m 9s) Loss: 2.1523(2.1523) Grad Norm: 0.0000  LR: 5.7130e-04  \n",
      "Epoch: [16][64/65] Data 0.000 (0.007) Elapsed 0m 57s (remain 0m 0s) Loss: 0.0830(0.7863) Grad Norm: 6.0165  LR: 5.7130e-04  \n",
      "EVAL: [0/17] Data 0.285 (0.285) Elapsed 0m 0s (remain 0m 8s) \n"
     ]
    },
    {
     "name": "stderr",
     "output_type": "stream",
     "text": [
      "labels: [2 7 2 3 0]\n",
      "pred_labels: [5 4 2 4 2]\n",
      "Epoch 16 - avg_train_loss: 0.7863  lr: 5.7130e-04  time: 62s\n",
      "Epoch 16 - Score: 0.5420\n"
     ]
    },
    {
     "name": "stdout",
     "output_type": "stream",
     "text": [
      "EVAL: [16/17] Data 0.000 (0.017) Elapsed 0m 4s (remain 0m 0s) \n",
      "Epoch: [17][0/65] Data 0.492 (0.492) Elapsed 0m 1s (remain 1m 10s) Loss: 1.0713(1.0713) Grad Norm: 0.0000  LR: 5.2663e-04  \n",
      "Epoch: [17][64/65] Data 0.000 (0.008) Elapsed 0m 56s (remain 0m 0s) Loss: 0.9024(0.7578) Grad Norm: 2.4675  LR: 5.2663e-04  \n",
      "EVAL: [0/17] Data 0.343 (0.343) Elapsed 0m 0s (remain 0m 9s) \n"
     ]
    },
    {
     "name": "stderr",
     "output_type": "stream",
     "text": [
      "labels: [2 7 2 3 0]\n",
      "pred_labels: [9 4 2 4 2]\n",
      "Epoch 17 - avg_train_loss: 0.7578  lr: 5.2663e-04  time: 62s\n",
      "Epoch 17 - Score: 0.5878\n",
      "Epoch 17 - Save Best Score: 0.5878 Model\n"
     ]
    },
    {
     "name": "stdout",
     "output_type": "stream",
     "text": [
      "EVAL: [16/17] Data 0.000 (0.020) Elapsed 0m 4s (remain 0m 0s) \n",
      "Epoch: [18][0/65] Data 0.377 (0.377) Elapsed 0m 1s (remain 1m 7s) Loss: 1.7687(1.7687) Grad Norm: 0.0000  LR: 4.8179e-04  \n",
      "Epoch: [18][64/65] Data 0.000 (0.006) Elapsed 0m 56s (remain 0m 0s) Loss: 0.2874(1.0042) Grad Norm: 4.0983  LR: 4.8179e-04  \n",
      "EVAL: [0/17] Data 0.313 (0.313) Elapsed 0m 0s (remain 0m 8s) \n"
     ]
    },
    {
     "name": "stderr",
     "output_type": "stream",
     "text": [
      "labels: [2 7 2 3 0]\n",
      "pred_labels: [5 7 2 4 2]\n",
      "Epoch 18 - avg_train_loss: 1.0042  lr: 4.8179e-04  time: 61s\n",
      "Epoch 18 - Score: 0.5420\n"
     ]
    },
    {
     "name": "stdout",
     "output_type": "stream",
     "text": [
      "EVAL: [16/17] Data 0.000 (0.019) Elapsed 0m 4s (remain 0m 0s) \n",
      "Epoch: [19][0/65] Data 0.433 (0.433) Elapsed 0m 1s (remain 1m 9s) Loss: 1.2220(1.2220) Grad Norm: 0.0000  LR: 4.3712e-04  \n",
      "Epoch: [19][64/65] Data 0.000 (0.007) Elapsed 0m 56s (remain 0m 0s) Loss: 0.2964(0.9337) Grad Norm: 4.4397  LR: 4.3712e-04  \n",
      "EVAL: [0/17] Data 0.367 (0.367) Elapsed 0m 0s (remain 0m 9s) \n"
     ]
    },
    {
     "name": "stderr",
     "output_type": "stream",
     "text": [
      "labels: [2 7 2 3 0]\n",
      "pred_labels: [5 4 2 4 2]\n",
      "Epoch 19 - avg_train_loss: 0.9337  lr: 4.3712e-04  time: 62s\n",
      "Epoch 19 - Score: 0.5573\n"
     ]
    },
    {
     "name": "stdout",
     "output_type": "stream",
     "text": [
      "EVAL: [16/17] Data 0.000 (0.022) Elapsed 0m 4s (remain 0m 0s) \n",
      "Epoch: [20][0/65] Data 0.370 (0.370) Elapsed 0m 0s (remain 1m 2s) Loss: 0.0584(0.0584) Grad Norm: 0.0000  LR: 3.9299e-04  \n",
      "Epoch: [20][64/65] Data 0.000 (0.006) Elapsed 0m 56s (remain 0m 0s) Loss: 0.1144(0.7209) Grad Norm: 4.9922  LR: 3.9299e-04  \n",
      "EVAL: [0/17] Data 0.378 (0.378) Elapsed 0m 0s (remain 0m 9s) \n"
     ]
    },
    {
     "name": "stderr",
     "output_type": "stream",
     "text": [
      "labels: [2 7 2 3 0]\n",
      "pred_labels: [5 4 2 2 2]\n",
      "Epoch 20 - avg_train_loss: 0.7209  lr: 3.9299e-04  time: 61s\n",
      "Epoch 20 - Score: 0.5267\n"
     ]
    },
    {
     "name": "stdout",
     "output_type": "stream",
     "text": [
      "EVAL: [16/17] Data 0.000 (0.022) Elapsed 0m 4s (remain 0m 0s) \n",
      "Epoch: [21][0/65] Data 0.478 (0.478) Elapsed 0m 1s (remain 1m 9s) Loss: 0.0716(0.0716) Grad Norm: 0.0000  LR: 3.4975e-04  \n",
      "Epoch: [21][64/65] Data 0.000 (0.008) Elapsed 0m 56s (remain 0m 0s) Loss: 0.1641(0.8227) Grad Norm: 5.4030  LR: 3.4975e-04  \n",
      "EVAL: [0/17] Data 0.370 (0.370) Elapsed 0m 0s (remain 0m 9s) \n"
     ]
    },
    {
     "name": "stderr",
     "output_type": "stream",
     "text": [
      "labels: [2 7 2 3 0]\n",
      "pred_labels: [5 7 2 2 2]\n",
      "Epoch 21 - avg_train_loss: 0.8227  lr: 3.4975e-04  time: 61s\n",
      "Epoch 21 - Score: 0.5802\n"
     ]
    },
    {
     "name": "stdout",
     "output_type": "stream",
     "text": [
      "EVAL: [16/17] Data 0.000 (0.022) Elapsed 0m 4s (remain 0m 0s) \n",
      "Epoch: [22][0/65] Data 0.506 (0.506) Elapsed 0m 1s (remain 1m 11s) Loss: 1.2602(1.2602) Grad Norm: 0.0000  LR: 3.0775e-04  \n",
      "Epoch: [22][64/65] Data 0.000 (0.008) Elapsed 0m 56s (remain 0m 0s) Loss: 0.0819(0.8096) Grad Norm: 4.1877  LR: 3.0775e-04  \n",
      "EVAL: [0/17] Data 0.298 (0.298) Elapsed 0m 0s (remain 0m 8s) \n"
     ]
    },
    {
     "name": "stderr",
     "output_type": "stream",
     "text": [
      "labels: [2 7 2 3 0]\n",
      "pred_labels: [5 4 2 4 2]\n",
      "Epoch 22 - avg_train_loss: 0.8096  lr: 3.0775e-04  time: 61s\n",
      "Epoch 22 - Score: 0.5496\n"
     ]
    },
    {
     "name": "stdout",
     "output_type": "stream",
     "text": [
      "EVAL: [16/17] Data 0.000 (0.018) Elapsed 0m 4s (remain 0m 0s) \n",
      "Epoch: [23][0/65] Data 0.432 (0.432) Elapsed 0m 1s (remain 1m 6s) Loss: 1.6720(1.6720) Grad Norm: 0.0000  LR: 2.6732e-04  \n",
      "Epoch: [23][64/65] Data 0.000 (0.007) Elapsed 0m 56s (remain 0m 0s) Loss: 1.3907(0.6541) Grad Norm: 4.2564  LR: 2.6732e-04  \n",
      "EVAL: [0/17] Data 0.310 (0.310) Elapsed 0m 0s (remain 0m 8s) \n"
     ]
    },
    {
     "name": "stderr",
     "output_type": "stream",
     "text": [
      "labels: [2 7 2 3 0]\n",
      "pred_labels: [5 7 2 2 2]\n",
      "Epoch 23 - avg_train_loss: 0.6541  lr: 2.6732e-04  time: 61s\n",
      "Epoch 23 - Score: 0.5802\n"
     ]
    },
    {
     "name": "stdout",
     "output_type": "stream",
     "text": [
      "EVAL: [16/17] Data 0.000 (0.019) Elapsed 0m 4s (remain 0m 0s) \n",
      "Epoch: [24][0/65] Data 0.441 (0.441) Elapsed 0m 1s (remain 1m 7s) Loss: 0.0233(0.0233) Grad Norm: 0.0000  LR: 2.2880e-04  \n",
      "Epoch: [24][64/65] Data 0.000 (0.007) Elapsed 0m 56s (remain 0m 0s) Loss: 1.7634(0.6483) Grad Norm: 3.5480  LR: 2.2880e-04  \n",
      "EVAL: [0/17] Data 0.304 (0.304) Elapsed 0m 0s (remain 0m 8s) \n"
     ]
    },
    {
     "name": "stderr",
     "output_type": "stream",
     "text": [
      "labels: [2 7 2 3 0]\n",
      "pred_labels: [5 4 2 2 2]\n",
      "Epoch 24 - avg_train_loss: 0.6483  lr: 2.2880e-04  time: 61s\n",
      "Epoch 24 - Score: 0.5496\n"
     ]
    },
    {
     "name": "stdout",
     "output_type": "stream",
     "text": [
      "EVAL: [16/17] Data 0.000 (0.018) Elapsed 0m 4s (remain 0m 0s) \n",
      "Epoch: [25][0/65] Data 0.411 (0.411) Elapsed 0m 1s (remain 1m 5s) Loss: 1.4976(1.4976) Grad Norm: 0.0000  LR: 1.9248e-04  \n",
      "Epoch: [25][64/65] Data 0.000 (0.007) Elapsed 0m 56s (remain 0m 0s) Loss: 1.0102(0.6108) Grad Norm: 2.6815  LR: 1.9248e-04  \n",
      "EVAL: [0/17] Data 0.337 (0.337) Elapsed 0m 0s (remain 0m 9s) \n"
     ]
    },
    {
     "name": "stderr",
     "output_type": "stream",
     "text": [
      "labels: [2 7 2 3 0]\n",
      "pred_labels: [5 4 2 4 2]\n",
      "Epoch 25 - avg_train_loss: 0.6108  lr: 1.9248e-04  time: 61s\n",
      "Epoch 25 - Score: 0.5420\n"
     ]
    },
    {
     "name": "stdout",
     "output_type": "stream",
     "text": [
      "EVAL: [16/17] Data 0.000 (0.020) Elapsed 0m 4s (remain 0m 0s) \n",
      "Epoch: [26][0/65] Data 0.428 (0.428) Elapsed 0m 1s (remain 1m 6s) Loss: 0.0640(0.0640) Grad Norm: 0.0000  LR: 1.5867e-04  \n",
      "Epoch: [26][64/65] Data 0.000 (0.007) Elapsed 0m 56s (remain 0m 0s) Loss: 0.1146(0.6020) Grad Norm: 3.1563  LR: 1.5867e-04  \n",
      "EVAL: [0/17] Data 0.364 (0.364) Elapsed 0m 0s (remain 0m 9s) \n"
     ]
    },
    {
     "name": "stderr",
     "output_type": "stream",
     "text": [
      "labels: [2 7 2 3 0]\n",
      "pred_labels: [5 4 2 4 2]\n",
      "Epoch 26 - avg_train_loss: 0.6020  lr: 1.5867e-04  time: 61s\n",
      "Epoch 26 - Score: 0.5878\n"
     ]
    },
    {
     "name": "stdout",
     "output_type": "stream",
     "text": [
      "EVAL: [16/17] Data 0.000 (0.022) Elapsed 0m 4s (remain 0m 0s) \n",
      "Epoch: [27][0/65] Data 0.458 (0.458) Elapsed 0m 1s (remain 1m 8s) Loss: 0.1161(0.1161) Grad Norm: 0.0000  LR: 1.2762e-04  \n",
      "Epoch: [27][64/65] Data 0.000 (0.007) Elapsed 0m 56s (remain 0m 0s) Loss: 0.8611(0.5514) Grad Norm: 2.4002  LR: 1.2762e-04  \n",
      "EVAL: [0/17] Data 0.268 (0.268) Elapsed 0m 0s (remain 0m 8s) \n"
     ]
    },
    {
     "name": "stderr",
     "output_type": "stream",
     "text": [
      "labels: [2 7 2 3 0]\n",
      "pred_labels: [5 4 2 4 2]\n",
      "Epoch 27 - avg_train_loss: 0.5514  lr: 1.2762e-04  time: 61s\n",
      "Epoch 27 - Score: 0.5725\n"
     ]
    },
    {
     "name": "stdout",
     "output_type": "stream",
     "text": [
      "EVAL: [16/17] Data 0.000 (0.016) Elapsed 0m 4s (remain 0m 0s) \n",
      "Epoch: [28][0/65] Data 0.447 (0.447) Elapsed 0m 1s (remain 1m 8s) Loss: 0.7941(0.7941) Grad Norm: 0.0000  LR: 9.9584e-05  \n",
      "Epoch: [28][64/65] Data 0.000 (0.007) Elapsed 0m 56s (remain 0m 0s) Loss: 1.1693(0.6695) Grad Norm: 4.0398  LR: 9.9584e-05  \n",
      "EVAL: [0/17] Data 0.307 (0.307) Elapsed 0m 0s (remain 0m 8s) \n"
     ]
    },
    {
     "name": "stderr",
     "output_type": "stream",
     "text": [
      "labels: [2 7 2 3 0]\n",
      "pred_labels: [5 4 2 4 2]\n",
      "Epoch 28 - avg_train_loss: 0.6695  lr: 9.9584e-05  time: 61s\n",
      "Epoch 28 - Score: 0.5725\n"
     ]
    },
    {
     "name": "stdout",
     "output_type": "stream",
     "text": [
      "EVAL: [16/17] Data 0.000 (0.018) Elapsed 0m 4s (remain 0m 0s) \n",
      "Epoch: [29][0/65] Data 0.524 (0.524) Elapsed 0m 1s (remain 1m 14s) Loss: 0.0588(0.0588) Grad Norm: 0.0000  LR: 7.4783e-05  \n",
      "Epoch: [29][64/65] Data 0.000 (0.008) Elapsed 0m 56s (remain 0m 0s) Loss: 0.0296(0.6463) Grad Norm: 3.9800  LR: 7.4783e-05  \n",
      "EVAL: [0/17] Data 0.344 (0.344) Elapsed 0m 0s (remain 0m 9s) \n"
     ]
    },
    {
     "name": "stderr",
     "output_type": "stream",
     "text": [
      "labels: [2 7 2 3 0]\n",
      "pred_labels: [5 4 2 4 2]\n",
      "Epoch 29 - avg_train_loss: 0.6463  lr: 7.4783e-05  time: 61s\n",
      "Epoch 29 - Score: 0.5725\n"
     ]
    },
    {
     "name": "stdout",
     "output_type": "stream",
     "text": [
      "EVAL: [16/17] Data 0.000 (0.020) Elapsed 0m 4s (remain 0m 0s) \n",
      "Epoch: [30][0/65] Data 0.475 (0.475) Elapsed 0m 1s (remain 1m 9s) Loss: 1.7051(1.7051) Grad Norm: 0.0000  LR: 5.3404e-05  \n",
      "Epoch: [30][64/65] Data 0.000 (0.007) Elapsed 0m 56s (remain 0m 0s) Loss: 1.2096(0.5886) Grad Norm: 3.4914  LR: 5.3404e-05  \n",
      "EVAL: [0/17] Data 0.323 (0.323) Elapsed 0m 0s (remain 0m 8s) \n"
     ]
    },
    {
     "name": "stderr",
     "output_type": "stream",
     "text": [
      "labels: [2 7 2 3 0]\n",
      "pred_labels: [5 4 2 4 2]\n",
      "Epoch 30 - avg_train_loss: 0.5886  lr: 5.3404e-05  time: 61s\n",
      "Epoch 30 - Score: 0.5802\n"
     ]
    },
    {
     "name": "stdout",
     "output_type": "stream",
     "text": [
      "EVAL: [16/17] Data 0.000 (0.019) Elapsed 0m 4s (remain 0m 0s) \n",
      "Epoch: [31][0/65] Data 0.506 (0.506) Elapsed 0m 1s (remain 1m 11s) Loss: 0.1692(0.1692) Grad Norm: 0.0000  LR: 3.5607e-05  \n",
      "Epoch: [31][64/65] Data 0.000 (0.008) Elapsed 0m 56s (remain 0m 0s) Loss: 0.0136(0.0628) Grad Norm: 0.2942  LR: 3.5607e-05  \n",
      "EVAL: [0/17] Data 0.310 (0.310) Elapsed 0m 0s (remain 0m 8s) \n"
     ]
    },
    {
     "name": "stderr",
     "output_type": "stream",
     "text": [
      "labels: [2 7 2 3 0]\n",
      "pred_labels: [5 2 2 4 2]\n",
      "Epoch 31 - avg_train_loss: 0.0628  lr: 3.5607e-05  time: 61s\n",
      "Epoch 31 - Score: 0.5878\n"
     ]
    },
    {
     "name": "stdout",
     "output_type": "stream",
     "text": [
      "EVAL: [16/17] Data 0.000 (0.018) Elapsed 0m 4s (remain 0m 0s) \n",
      "Epoch: [32][0/65] Data 0.427 (0.427) Elapsed 0m 1s (remain 1m 6s) Loss: 0.0544(0.0544) Grad Norm: 0.0000  LR: 2.1508e-05  \n",
      "Epoch: [32][64/65] Data 0.000 (0.007) Elapsed 0m 56s (remain 0m 0s) Loss: 0.0292(0.0557) Grad Norm: 0.2995  LR: 2.1508e-05  \n",
      "EVAL: [0/17] Data 0.314 (0.314) Elapsed 0m 0s (remain 0m 8s) \n"
     ]
    },
    {
     "name": "stderr",
     "output_type": "stream",
     "text": [
      "labels: [2 7 2 3 0]\n",
      "pred_labels: [5 4 2 4 2]\n",
      "Epoch 32 - avg_train_loss: 0.0557  lr: 2.1508e-05  time: 61s\n",
      "Epoch 32 - Score: 0.5802\n"
     ]
    },
    {
     "name": "stdout",
     "output_type": "stream",
     "text": [
      "EVAL: [16/17] Data 0.000 (0.019) Elapsed 0m 4s (remain 0m 0s) \n",
      "Epoch: [33][0/65] Data 0.507 (0.507) Elapsed 0m 1s (remain 1m 11s) Loss: 0.3144(0.3144) Grad Norm: 0.0000  LR: 1.1173e-05  \n",
      "Epoch: [33][64/65] Data 0.000 (0.008) Elapsed 0m 56s (remain 0m 0s) Loss: 0.0165(0.0462) Grad Norm: 2.4898  LR: 1.1173e-05  \n",
      "EVAL: [0/17] Data 0.311 (0.311) Elapsed 0m 0s (remain 0m 8s) \n"
     ]
    },
    {
     "name": "stderr",
     "output_type": "stream",
     "text": [
      "labels: [2 7 2 3 0]\n",
      "pred_labels: [5 4 2 4 2]\n",
      "Epoch 33 - avg_train_loss: 0.0462  lr: 1.1173e-05  time: 61s\n",
      "Epoch 33 - Score: 0.5954\n",
      "Epoch 33 - Save Best Score: 0.5954 Model\n"
     ]
    },
    {
     "name": "stdout",
     "output_type": "stream",
     "text": [
      "EVAL: [16/17] Data 0.000 (0.018) Elapsed 0m 4s (remain 0m 0s) \n",
      "Epoch: [34][0/65] Data 0.341 (0.341) Elapsed 0m 0s (remain 1m 1s) Loss: 0.0274(0.0274) Grad Norm: 0.0000  LR: 4.5796e-06  \n",
      "Epoch: [34][64/65] Data 0.000 (0.005) Elapsed 0m 56s (remain 0m 0s) Loss: 0.0442(0.0545) Grad Norm: 1.4026  LR: 4.5796e-06  \n",
      "EVAL: [0/17] Data 0.345 (0.345) Elapsed 0m 0s (remain 0m 9s) \n"
     ]
    },
    {
     "name": "stderr",
     "output_type": "stream",
     "text": [
      "labels: [2 7 2 3 0]\n",
      "pred_labels: [5 4 2 4 2]\n",
      "Epoch 34 - avg_train_loss: 0.0545  lr: 4.5796e-06  time: 61s\n",
      "Epoch 34 - Score: 0.6031\n",
      "Epoch 34 - Save Best Score: 0.6031 Model\n"
     ]
    },
    {
     "name": "stdout",
     "output_type": "stream",
     "text": [
      "EVAL: [16/17] Data 0.000 (0.020) Elapsed 0m 4s (remain 0m 0s) \n",
      "Epoch: [35][0/65] Data 0.367 (0.367) Elapsed 0m 0s (remain 1m 3s) Loss: 0.0164(0.0164) Grad Norm: 0.0000  LR: 1.5037e-06  \n",
      "Epoch: [35][64/65] Data 0.000 (0.006) Elapsed 0m 56s (remain 0m 0s) Loss: 0.0393(0.0345) Grad Norm: 2.0958  LR: 1.5037e-06  \n",
      "EVAL: [0/17] Data 0.316 (0.316) Elapsed 0m 0s (remain 0m 8s) \n"
     ]
    },
    {
     "name": "stderr",
     "output_type": "stream",
     "text": [
      "labels: [2 7 2 3 0]\n",
      "pred_labels: [5 4 2 4 2]\n",
      "Epoch 35 - avg_train_loss: 0.0345  lr: 1.5037e-06  time: 61s\n",
      "Epoch 35 - Score: 0.6031\n",
      "==================== fold: 4, seed: 0 training ====================\n"
     ]
    },
    {
     "name": "stdout",
     "output_type": "stream",
     "text": [
      "EVAL: [16/17] Data 0.000 (0.019) Elapsed 0m 4s (remain 0m 0s) \n",
      "Epoch: [1][0/65] Data 0.419 (0.419) Elapsed 0m 1s (remain 1m 6s) Loss: 2.8088(2.8088) Grad Norm: 0.0000  LR: 1.0000e-03  \n",
      "Epoch: [1][64/65] Data 0.000 (0.007) Elapsed 0m 57s (remain 0m 0s) Loss: 2.2041(2.5943) Grad Norm: 7.7848  LR: 1.0000e-03  \n",
      "EVAL: [0/17] Data 0.276 (0.276) Elapsed 0m 0s (remain 0m 8s) \n"
     ]
    },
    {
     "name": "stderr",
     "output_type": "stream",
     "text": [
      "labels: [ 8  3  6  4 10]\n",
      "pred_labels: [8 5 2 9 2]\n",
      "Epoch 1 - avg_train_loss: 2.5943  lr: 1.0000e-03  time: 61s\n",
      "Epoch 1 - Score: 0.2077\n",
      "Epoch 1 - Save Best Score: 0.2077 Model\n"
     ]
    },
    {
     "name": "stdout",
     "output_type": "stream",
     "text": [
      "EVAL: [16/17] Data 0.000 (0.016) Elapsed 0m 4s (remain 0m 0s) \n",
      "Epoch: [2][0/65] Data 0.398 (0.398) Elapsed 0m 1s (remain 1m 5s) Loss: 2.5332(2.5332) Grad Norm: 0.0000  LR: 9.9598e-04  \n",
      "Epoch: [2][64/65] Data 0.000 (0.006) Elapsed 0m 57s (remain 0m 0s) Loss: 2.4722(2.3460) Grad Norm: 7.7163  LR: 9.9598e-04  \n",
      "EVAL: [0/17] Data 0.288 (0.288) Elapsed 0m 0s (remain 0m 8s) \n"
     ]
    },
    {
     "name": "stderr",
     "output_type": "stream",
     "text": [
      "labels: [ 8  3  6  4 10]\n",
      "pred_labels: [6 6 2 9 2]\n",
      "Epoch 2 - avg_train_loss: 2.3460  lr: 9.9598e-04  time: 62s\n",
      "Epoch 2 - Score: 0.3154\n",
      "Epoch 2 - Save Best Score: 0.3154 Model\n"
     ]
    },
    {
     "name": "stdout",
     "output_type": "stream",
     "text": [
      "EVAL: [16/17] Data 0.000 (0.017) Elapsed 0m 4s (remain 0m 0s) \n",
      "Epoch: [3][0/65] Data 0.486 (0.486) Elapsed 0m 1s (remain 1m 11s) Loss: 2.0417(2.0417) Grad Norm: 0.0000  LR: 9.8599e-04  \n",
      "Epoch: [3][64/65] Data 0.000 (0.008) Elapsed 0m 57s (remain 0m 0s) Loss: 2.4588(2.1390) Grad Norm: 6.2839  LR: 9.8599e-04  \n",
      "EVAL: [0/17] Data 0.304 (0.304) Elapsed 0m 0s (remain 0m 8s) \n"
     ]
    },
    {
     "name": "stderr",
     "output_type": "stream",
     "text": [
      "labels: [ 8  3  6  4 10]\n",
      "pred_labels: [8 4 2 6 2]\n",
      "Epoch 3 - avg_train_loss: 2.1390  lr: 9.8599e-04  time: 62s\n",
      "Epoch 3 - Score: 0.4077\n",
      "Epoch 3 - Save Best Score: 0.4077 Model\n"
     ]
    },
    {
     "name": "stdout",
     "output_type": "stream",
     "text": [
      "EVAL: [16/17] Data 0.000 (0.018) Elapsed 0m 4s (remain 0m 0s) \n",
      "Epoch: [4][0/65] Data 0.438 (0.438) Elapsed 0m 1s (remain 1m 7s) Loss: 2.6057(2.6057) Grad Norm: 0.0000  LR: 9.7213e-04  \n",
      "Epoch: [4][64/65] Data 0.000 (0.007) Elapsed 0m 57s (remain 0m 0s) Loss: 1.8816(1.9347) Grad Norm: 7.7958  LR: 9.7213e-04  \n",
      "EVAL: [0/17] Data 0.300 (0.300) Elapsed 0m 0s (remain 0m 8s) \n"
     ]
    },
    {
     "name": "stderr",
     "output_type": "stream",
     "text": [
      "labels: [ 8  3  6  4 10]\n",
      "pred_labels: [8 3 5 7 2]\n",
      "Epoch 4 - avg_train_loss: 1.9347  lr: 9.7213e-04  time: 62s\n",
      "Epoch 4 - Score: 0.4462\n",
      "Epoch 4 - Save Best Score: 0.4462 Model\n"
     ]
    },
    {
     "name": "stdout",
     "output_type": "stream",
     "text": [
      "EVAL: [16/17] Data 0.000 (0.018) Elapsed 0m 4s (remain 0m 0s) \n",
      "Epoch: [5][0/65] Data 0.387 (0.387) Elapsed 0m 1s (remain 1m 5s) Loss: 2.0135(2.0135) Grad Norm: 0.0000  LR: 9.5449e-04  \n",
      "Epoch: [5][64/65] Data 0.000 (0.006) Elapsed 0m 57s (remain 0m 0s) Loss: 1.2051(1.6181) Grad Norm: 6.4632  LR: 9.5449e-04  \n",
      "EVAL: [0/17] Data 0.294 (0.294) Elapsed 0m 0s (remain 0m 8s) \n"
     ]
    },
    {
     "name": "stderr",
     "output_type": "stream",
     "text": [
      "labels: [ 8  3  6  4 10]\n",
      "pred_labels: [8 3 5 2 2]\n",
      "Epoch 5 - avg_train_loss: 1.6181  lr: 9.5449e-04  time: 62s\n",
      "Epoch 5 - Score: 0.5769\n",
      "Epoch 5 - Save Best Score: 0.5769 Model\n"
     ]
    },
    {
     "name": "stdout",
     "output_type": "stream",
     "text": [
      "EVAL: [16/17] Data 0.000 (0.017) Elapsed 0m 4s (remain 0m 0s) \n",
      "Epoch: [6][0/65] Data 0.431 (0.431) Elapsed 0m 1s (remain 1m 7s) Loss: 1.0858(1.0858) Grad Norm: 0.0000  LR: 9.3324e-04  \n",
      "Epoch: [6][64/65] Data 0.000 (0.007) Elapsed 0m 57s (remain 0m 0s) Loss: 0.6886(1.4221) Grad Norm: 6.9816  LR: 9.3324e-04  \n",
      "EVAL: [0/17] Data 0.257 (0.257) Elapsed 0m 0s (remain 0m 7s) \n"
     ]
    },
    {
     "name": "stderr",
     "output_type": "stream",
     "text": [
      "labels: [ 8  3  6  4 10]\n",
      "pred_labels: [ 8  4  5 10  2]\n",
      "Epoch 6 - avg_train_loss: 1.4221  lr: 9.3324e-04  time: 62s\n",
      "Epoch 6 - Score: 0.5615\n"
     ]
    },
    {
     "name": "stdout",
     "output_type": "stream",
     "text": [
      "EVAL: [16/17] Data 0.000 (0.015) Elapsed 0m 4s (remain 0m 0s) \n",
      "Epoch: [7][0/65] Data 0.396 (0.396) Elapsed 0m 1s (remain 1m 4s) Loss: 1.0535(1.0535) Grad Norm: 0.0000  LR: 9.0853e-04  \n",
      "Epoch: [7][64/65] Data 0.000 (0.006) Elapsed 0m 57s (remain 0m 0s) Loss: 2.5653(1.3658) Grad Norm: 6.6481  LR: 9.0853e-04  \n",
      "EVAL: [0/17] Data 0.294 (0.294) Elapsed 0m 0s (remain 0m 8s) \n"
     ]
    },
    {
     "name": "stderr",
     "output_type": "stream",
     "text": [
      "labels: [ 8  3  6  4 10]\n",
      "pred_labels: [8 1 0 4 3]\n",
      "Epoch 7 - avg_train_loss: 1.3658  lr: 9.0853e-04  time: 62s\n",
      "Epoch 7 - Score: 0.5385\n"
     ]
    },
    {
     "name": "stdout",
     "output_type": "stream",
     "text": [
      "EVAL: [16/17] Data 0.000 (0.018) Elapsed 0m 4s (remain 0m 0s) \n",
      "Epoch: [8][0/65] Data 0.475 (0.475) Elapsed 0m 1s (remain 1m 9s) Loss: 1.6984(1.6984) Grad Norm: 0.0000  LR: 8.8057e-04  \n",
      "Epoch: [8][64/65] Data 0.000 (0.008) Elapsed 0m 57s (remain 0m 0s) Loss: 0.9376(1.2040) Grad Norm: 9.3448  LR: 8.8057e-04  \n",
      "EVAL: [0/17] Data 0.295 (0.295) Elapsed 0m 0s (remain 0m 8s) \n"
     ]
    },
    {
     "name": "stderr",
     "output_type": "stream",
     "text": [
      "labels: [ 8  3  6  4 10]\n",
      "pred_labels: [8 3 5 4 2]\n",
      "Epoch 8 - avg_train_loss: 1.2040  lr: 8.8057e-04  time: 62s\n",
      "Epoch 8 - Score: 0.6231\n",
      "Epoch 8 - Save Best Score: 0.6231 Model\n"
     ]
    },
    {
     "name": "stdout",
     "output_type": "stream",
     "text": [
      "EVAL: [16/17] Data 0.000 (0.018) Elapsed 0m 4s (remain 0m 0s) \n",
      "Epoch: [9][0/65] Data 0.388 (0.388) Elapsed 0m 1s (remain 1m 5s) Loss: 0.8941(0.8941) Grad Norm: 0.0000  LR: 8.4958e-04  \n",
      "Epoch: [9][64/65] Data 0.000 (0.006) Elapsed 0m 57s (remain 0m 0s) Loss: 2.3205(1.1036) Grad Norm: 5.9957  LR: 8.4958e-04  \n",
      "EVAL: [0/17] Data 0.240 (0.240) Elapsed 0m 0s (remain 0m 7s) \n"
     ]
    },
    {
     "name": "stderr",
     "output_type": "stream",
     "text": [
      "labels: [ 8  3  6  4 10]\n",
      "pred_labels: [ 8  3  6  4 10]\n",
      "Epoch 9 - avg_train_loss: 1.1036  lr: 8.4958e-04  time: 61s\n",
      "Epoch 9 - Score: 0.6000\n"
     ]
    },
    {
     "name": "stdout",
     "output_type": "stream",
     "text": [
      "EVAL: [16/17] Data 0.000 (0.014) Elapsed 0m 4s (remain 0m 0s) \n",
      "Epoch: [10][0/65] Data 0.398 (0.398) Elapsed 0m 1s (remain 1m 4s) Loss: 1.5228(1.5228) Grad Norm: 0.0000  LR: 8.1581e-04  \n",
      "Epoch: [10][64/65] Data 0.000 (0.006) Elapsed 0m 56s (remain 0m 0s) Loss: 1.5508(1.1097) Grad Norm: 6.2575  LR: 8.1581e-04  \n",
      "EVAL: [0/17] Data 0.271 (0.271) Elapsed 0m 0s (remain 0m 8s) \n"
     ]
    },
    {
     "name": "stderr",
     "output_type": "stream",
     "text": [
      "labels: [ 8  3  6  4 10]\n",
      "pred_labels: [8 4 5 0 2]\n",
      "Epoch 10 - avg_train_loss: 1.1097  lr: 8.1581e-04  time: 61s\n",
      "Epoch 10 - Score: 0.5692\n"
     ]
    },
    {
     "name": "stdout",
     "output_type": "stream",
     "text": [
      "EVAL: [16/17] Data 0.000 (0.016) Elapsed 0m 4s (remain 0m 0s) \n",
      "Epoch: [11][0/65] Data 0.426 (0.426) Elapsed 0m 1s (remain 1m 6s) Loss: 0.5494(0.5494) Grad Norm: 0.0000  LR: 7.7953e-04  \n",
      "Epoch: [11][64/65] Data 0.000 (0.007) Elapsed 0m 56s (remain 0m 0s) Loss: 1.6595(0.9428) Grad Norm: 6.2104  LR: 7.7953e-04  \n",
      "EVAL: [0/17] Data 0.269 (0.269) Elapsed 0m 0s (remain 0m 8s) \n"
     ]
    },
    {
     "name": "stderr",
     "output_type": "stream",
     "text": [
      "labels: [ 8  3  6  4 10]\n",
      "pred_labels: [ 8  9 12  1 10]\n",
      "Epoch 11 - avg_train_loss: 0.9428  lr: 7.7953e-04  time: 61s\n",
      "Epoch 11 - Score: 0.5615\n"
     ]
    },
    {
     "name": "stdout",
     "output_type": "stream",
     "text": [
      "EVAL: [16/17] Data 0.000 (0.016) Elapsed 0m 4s (remain 0m 0s) \n",
      "Epoch: [12][0/65] Data 0.444 (0.444) Elapsed 0m 1s (remain 1m 7s) Loss: 0.6303(0.6303) Grad Norm: 0.0000  LR: 7.4103e-04  \n",
      "Epoch: [12][64/65] Data 0.000 (0.007) Elapsed 0m 56s (remain 0m 0s) Loss: 0.1125(0.9375) Grad Norm: 4.7564  LR: 7.4103e-04  \n",
      "EVAL: [0/17] Data 0.282 (0.282) Elapsed 0m 0s (remain 0m 8s) \n"
     ]
    },
    {
     "name": "stderr",
     "output_type": "stream",
     "text": [
      "labels: [ 8  3  6  4 10]\n",
      "pred_labels: [ 8  3  6  4 10]\n",
      "Epoch 12 - avg_train_loss: 0.9375  lr: 7.4103e-04  time: 61s\n",
      "Epoch 12 - Score: 0.5923\n"
     ]
    },
    {
     "name": "stdout",
     "output_type": "stream",
     "text": [
      "EVAL: [16/17] Data 0.000 (0.017) Elapsed 0m 4s (remain 0m 0s) \n",
      "Epoch: [13][0/65] Data 0.417 (0.417) Elapsed 0m 1s (remain 1m 5s) Loss: 0.1231(0.1231) Grad Norm: 0.0000  LR: 7.0063e-04  \n",
      "Epoch: [13][64/65] Data 0.000 (0.007) Elapsed 0m 57s (remain 0m 0s) Loss: 1.2682(1.0963) Grad Norm: 5.1732  LR: 7.0063e-04  \n",
      "EVAL: [0/17] Data 0.266 (0.266) Elapsed 0m 0s (remain 0m 7s) \n"
     ]
    },
    {
     "name": "stderr",
     "output_type": "stream",
     "text": [
      "labels: [ 8  3  6  4 10]\n",
      "pred_labels: [8 3 2 1 4]\n",
      "Epoch 13 - avg_train_loss: 1.0963  lr: 7.0063e-04  time: 61s\n",
      "Epoch 13 - Score: 0.5769\n"
     ]
    },
    {
     "name": "stdout",
     "output_type": "stream",
     "text": [
      "EVAL: [16/17] Data 0.000 (0.016) Elapsed 0m 4s (remain 0m 0s) \n",
      "Epoch: [14][0/65] Data 0.434 (0.434) Elapsed 0m 1s (remain 1m 6s) Loss: 1.2889(1.2889) Grad Norm: 0.0000  LR: 6.5865e-04  \n",
      "Epoch: [14][64/65] Data 0.000 (0.007) Elapsed 0m 56s (remain 0m 0s) Loss: 0.8270(1.0787) Grad Norm: 5.8200  LR: 6.5865e-04  \n",
      "EVAL: [0/17] Data 0.236 (0.236) Elapsed 0m 0s (remain 0m 7s) \n"
     ]
    },
    {
     "name": "stderr",
     "output_type": "stream",
     "text": [
      "labels: [ 8  3  6  4 10]\n",
      "pred_labels: [8 3 0 4 2]\n",
      "Epoch 14 - avg_train_loss: 1.0787  lr: 6.5865e-04  time: 61s\n",
      "Epoch 14 - Score: 0.5846\n"
     ]
    },
    {
     "name": "stdout",
     "output_type": "stream",
     "text": [
      "EVAL: [16/17] Data 0.000 (0.014) Elapsed 0m 4s (remain 0m 0s) \n",
      "Epoch: [15][0/65] Data 0.431 (0.431) Elapsed 0m 1s (remain 1m 6s) Loss: 1.3767(1.3767) Grad Norm: 0.0000  LR: 6.1542e-04  \n",
      "Epoch: [15][64/65] Data 0.000 (0.007) Elapsed 0m 56s (remain 0m 0s) Loss: 0.2796(0.9528) Grad Norm: 6.8320  LR: 6.1542e-04  \n",
      "EVAL: [0/17] Data 0.310 (0.310) Elapsed 0m 0s (remain 0m 8s) \n"
     ]
    },
    {
     "name": "stderr",
     "output_type": "stream",
     "text": [
      "labels: [ 8  3  6  4 10]\n",
      "pred_labels: [8 4 2 4 2]\n",
      "Epoch 15 - avg_train_loss: 0.9528  lr: 6.1542e-04  time: 61s\n",
      "Epoch 15 - Score: 0.5923\n"
     ]
    },
    {
     "name": "stdout",
     "output_type": "stream",
     "text": [
      "EVAL: [16/17] Data 0.000 (0.018) Elapsed 0m 4s (remain 0m 0s) \n",
      "Epoch: [16][0/65] Data 0.441 (0.441) Elapsed 0m 1s (remain 1m 7s) Loss: 1.7861(1.7861) Grad Norm: 0.0000  LR: 5.7130e-04  \n",
      "Epoch: [16][64/65] Data 0.000 (0.007) Elapsed 0m 56s (remain 0m 0s) Loss: 0.2346(0.8788) Grad Norm: 4.0554  LR: 5.7130e-04  \n",
      "EVAL: [0/17] Data 0.245 (0.245) Elapsed 0m 0s (remain 0m 7s) \n"
     ]
    },
    {
     "name": "stderr",
     "output_type": "stream",
     "text": [
      "labels: [ 8  3  6  4 10]\n",
      "pred_labels: [ 8  4  6  4 10]\n",
      "Epoch 16 - avg_train_loss: 0.8788  lr: 5.7130e-04  time: 61s\n",
      "Epoch 16 - Score: 0.6308\n",
      "Epoch 16 - Save Best Score: 0.6308 Model\n"
     ]
    },
    {
     "name": "stdout",
     "output_type": "stream",
     "text": [
      "EVAL: [16/17] Data 0.000 (0.015) Elapsed 0m 4s (remain 0m 0s) \n",
      "Epoch: [17][0/65] Data 0.477 (0.477) Elapsed 0m 1s (remain 1m 10s) Loss: 1.8244(1.8244) Grad Norm: 0.0000  LR: 5.2663e-04  \n",
      "Epoch: [17][64/65] Data 0.000 (0.008) Elapsed 0m 56s (remain 0m 0s) Loss: 0.0663(0.7828) Grad Norm: 6.1159  LR: 5.2663e-04  \n",
      "EVAL: [0/17] Data 0.289 (0.289) Elapsed 0m 0s (remain 0m 8s) \n"
     ]
    },
    {
     "name": "stderr",
     "output_type": "stream",
     "text": [
      "labels: [ 8  3  6  4 10]\n",
      "pred_labels: [ 8 11  0  1  2]\n",
      "Epoch 17 - avg_train_loss: 0.7828  lr: 5.2663e-04  time: 61s\n",
      "Epoch 17 - Score: 0.6231\n"
     ]
    },
    {
     "name": "stdout",
     "output_type": "stream",
     "text": [
      "EVAL: [16/17] Data 0.000 (0.017) Elapsed 0m 4s (remain 0m 0s) \n",
      "Epoch: [18][0/65] Data 0.414 (0.414) Elapsed 0m 1s (remain 1m 5s) Loss: 1.4022(1.4022) Grad Norm: 0.0000  LR: 4.8179e-04  \n",
      "Epoch: [18][64/65] Data 0.000 (0.007) Elapsed 0m 56s (remain 0m 0s) Loss: 0.0774(0.7991) Grad Norm: 6.8524  LR: 4.8179e-04  \n",
      "EVAL: [0/17] Data 0.302 (0.302) Elapsed 0m 0s (remain 0m 8s) \n"
     ]
    },
    {
     "name": "stderr",
     "output_type": "stream",
     "text": [
      "labels: [ 8  3  6  4 10]\n",
      "pred_labels: [ 8 11  6  7 10]\n",
      "Epoch 18 - avg_train_loss: 0.7991  lr: 4.8179e-04  time: 61s\n",
      "Epoch 18 - Score: 0.6231\n"
     ]
    },
    {
     "name": "stdout",
     "output_type": "stream",
     "text": [
      "EVAL: [16/17] Data 0.000 (0.018) Elapsed 0m 4s (remain 0m 0s) \n",
      "Epoch: [19][0/65] Data 0.404 (0.404) Elapsed 0m 1s (remain 1m 5s) Loss: 0.0548(0.0548) Grad Norm: 0.0000  LR: 4.3712e-04  \n",
      "Epoch: [19][64/65] Data 0.000 (0.006) Elapsed 0m 56s (remain 0m 0s) Loss: 0.0921(0.7881) Grad Norm: 6.4396  LR: 4.3712e-04  \n",
      "EVAL: [0/17] Data 0.274 (0.274) Elapsed 0m 0s (remain 0m 8s) \n"
     ]
    },
    {
     "name": "stderr",
     "output_type": "stream",
     "text": [
      "labels: [ 8  3  6  4 10]\n",
      "pred_labels: [ 8  0  6  2 10]\n",
      "Epoch 19 - avg_train_loss: 0.7881  lr: 4.3712e-04  time: 61s\n",
      "Epoch 19 - Score: 0.6462\n",
      "Epoch 19 - Save Best Score: 0.6462 Model\n"
     ]
    },
    {
     "name": "stdout",
     "output_type": "stream",
     "text": [
      "EVAL: [16/17] Data 0.000 (0.016) Elapsed 0m 4s (remain 0m 0s) \n",
      "Epoch: [20][0/65] Data 0.374 (0.374) Elapsed 0m 1s (remain 1m 4s) Loss: 0.0571(0.0571) Grad Norm: 0.0000  LR: 3.9299e-04  \n",
      "Epoch: [20][64/65] Data 0.000 (0.006) Elapsed 0m 56s (remain 0m 0s) Loss: 0.1403(0.8398) Grad Norm: 4.4005  LR: 3.9299e-04  \n",
      "EVAL: [0/17] Data 0.246 (0.246) Elapsed 0m 0s (remain 0m 7s) \n"
     ]
    },
    {
     "name": "stderr",
     "output_type": "stream",
     "text": [
      "labels: [ 8  3  6  4 10]\n",
      "pred_labels: [8 3 9 2 9]\n",
      "Epoch 20 - avg_train_loss: 0.8398  lr: 3.9299e-04  time: 61s\n",
      "Epoch 20 - Score: 0.5692\n"
     ]
    },
    {
     "name": "stdout",
     "output_type": "stream",
     "text": [
      "EVAL: [16/17] Data 0.000 (0.015) Elapsed 0m 4s (remain 0m 0s) \n",
      "Epoch: [21][0/65] Data 0.380 (0.380) Elapsed 0m 1s (remain 1m 4s) Loss: 0.1347(0.1347) Grad Norm: 0.0000  LR: 3.4975e-04  \n",
      "Epoch: [21][64/65] Data 0.000 (0.006) Elapsed 0m 56s (remain 0m 0s) Loss: 1.5047(0.6015) Grad Norm: 4.4770  LR: 3.4975e-04  \n",
      "EVAL: [0/17] Data 0.323 (0.323) Elapsed 0m 0s (remain 0m 8s) \n"
     ]
    },
    {
     "name": "stderr",
     "output_type": "stream",
     "text": [
      "labels: [ 8  3  6  4 10]\n",
      "pred_labels: [8 0 6 2 4]\n",
      "Epoch 21 - avg_train_loss: 0.6015  lr: 3.4975e-04  time: 61s\n",
      "Epoch 21 - Score: 0.6231\n"
     ]
    },
    {
     "name": "stdout",
     "output_type": "stream",
     "text": [
      "EVAL: [16/17] Data 0.000 (0.019) Elapsed 0m 4s (remain 0m 0s) \n",
      "Epoch: [22][0/65] Data 0.477 (0.477) Elapsed 0m 1s (remain 1m 9s) Loss: 0.0422(0.0422) Grad Norm: 0.0000  LR: 3.0775e-04  \n",
      "Epoch: [22][64/65] Data 0.000 (0.008) Elapsed 0m 56s (remain 0m 0s) Loss: 0.0513(0.7038) Grad Norm: 3.3922  LR: 3.0775e-04  \n",
      "EVAL: [0/17] Data 0.299 (0.299) Elapsed 0m 0s (remain 0m 8s) \n"
     ]
    },
    {
     "name": "stderr",
     "output_type": "stream",
     "text": [
      "labels: [ 8  3  6  4 10]\n",
      "pred_labels: [8 0 6 1 2]\n",
      "Epoch 22 - avg_train_loss: 0.7038  lr: 3.0775e-04  time: 61s\n",
      "Epoch 22 - Score: 0.6385\n"
     ]
    },
    {
     "name": "stdout",
     "output_type": "stream",
     "text": [
      "EVAL: [16/17] Data 0.000 (0.018) Elapsed 0m 4s (remain 0m 0s) \n",
      "Epoch: [23][0/65] Data 0.356 (0.356) Elapsed 0m 0s (remain 1m 2s) Loss: 0.0956(0.0956) Grad Norm: 0.0000  LR: 2.6732e-04  \n",
      "Epoch: [23][64/65] Data 0.000 (0.006) Elapsed 0m 56s (remain 0m 0s) Loss: 0.9585(0.7570) Grad Norm: 4.6310  LR: 2.6732e-04  \n",
      "EVAL: [0/17] Data 0.301 (0.301) Elapsed 0m 0s (remain 0m 8s) \n"
     ]
    },
    {
     "name": "stderr",
     "output_type": "stream",
     "text": [
      "labels: [ 8  3  6  4 10]\n",
      "pred_labels: [8 3 6 2 2]\n",
      "Epoch 23 - avg_train_loss: 0.7570  lr: 2.6732e-04  time: 61s\n",
      "Epoch 23 - Score: 0.6538\n",
      "Epoch 23 - Save Best Score: 0.6538 Model\n"
     ]
    },
    {
     "name": "stdout",
     "output_type": "stream",
     "text": [
      "EVAL: [16/17] Data 0.000 (0.018) Elapsed 0m 4s (remain 0m 0s) \n",
      "Epoch: [24][0/65] Data 0.428 (0.428) Elapsed 0m 1s (remain 1m 8s) Loss: 0.0242(0.0242) Grad Norm: 0.0000  LR: 2.2880e-04  \n",
      "Epoch: [24][64/65] Data 0.000 (0.007) Elapsed 0m 56s (remain 0m 0s) Loss: 1.3678(0.7612) Grad Norm: 4.8804  LR: 2.2880e-04  \n",
      "EVAL: [0/17] Data 0.332 (0.332) Elapsed 0m 0s (remain 0m 9s) \n"
     ]
    },
    {
     "name": "stderr",
     "output_type": "stream",
     "text": [
      "labels: [ 8  3  6  4 10]\n",
      "pred_labels: [8 1 6 2 2]\n",
      "Epoch 24 - avg_train_loss: 0.7612  lr: 2.2880e-04  time: 61s\n",
      "Epoch 24 - Score: 0.6385\n"
     ]
    },
    {
     "name": "stdout",
     "output_type": "stream",
     "text": [
      "EVAL: [16/17] Data 0.000 (0.020) Elapsed 0m 4s (remain 0m 0s) \n",
      "Epoch: [25][0/65] Data 0.361 (0.361) Elapsed 0m 0s (remain 1m 2s) Loss: 1.8981(1.8981) Grad Norm: 0.0000  LR: 1.9248e-04  \n",
      "Epoch: [25][64/65] Data 0.000 (0.006) Elapsed 0m 56s (remain 0m 0s) Loss: 1.4955(0.8934) Grad Norm: 4.3792  LR: 1.9248e-04  \n",
      "EVAL: [0/17] Data 0.299 (0.299) Elapsed 0m 0s (remain 0m 8s) \n"
     ]
    },
    {
     "name": "stderr",
     "output_type": "stream",
     "text": [
      "labels: [ 8  3  6  4 10]\n",
      "pred_labels: [8 3 2 4 2]\n",
      "Epoch 25 - avg_train_loss: 0.8934  lr: 1.9248e-04  time: 61s\n",
      "Epoch 25 - Score: 0.6692\n",
      "Epoch 25 - Save Best Score: 0.6692 Model\n"
     ]
    },
    {
     "name": "stdout",
     "output_type": "stream",
     "text": [
      "EVAL: [16/17] Data 0.000 (0.018) Elapsed 0m 4s (remain 0m 0s) \n",
      "Epoch: [26][0/65] Data 0.430 (0.430) Elapsed 0m 1s (remain 1m 8s) Loss: 0.0446(0.0446) Grad Norm: 0.0000  LR: 1.5867e-04  \n",
      "Epoch: [26][64/65] Data 0.000 (0.007) Elapsed 0m 56s (remain 0m 0s) Loss: 0.0461(0.6785) Grad Norm: 2.5429  LR: 1.5867e-04  \n",
      "EVAL: [0/17] Data 0.293 (0.293) Elapsed 0m 0s (remain 0m 8s) \n"
     ]
    },
    {
     "name": "stderr",
     "output_type": "stream",
     "text": [
      "labels: [ 8  3  6  4 10]\n",
      "pred_labels: [8 3 2 2 2]\n",
      "Epoch 26 - avg_train_loss: 0.6785  lr: 1.5867e-04  time: 61s\n",
      "Epoch 26 - Score: 0.6308\n"
     ]
    },
    {
     "name": "stdout",
     "output_type": "stream",
     "text": [
      "EVAL: [16/17] Data 0.000 (0.017) Elapsed 0m 4s (remain 0m 0s) \n",
      "Epoch: [27][0/65] Data 0.360 (0.360) Elapsed 0m 0s (remain 1m 2s) Loss: 0.9908(0.9908) Grad Norm: 0.0000  LR: 1.2762e-04  \n",
      "Epoch: [27][64/65] Data 0.000 (0.006) Elapsed 0m 56s (remain 0m 0s) Loss: 1.3453(0.6006) Grad Norm: 3.7422  LR: 1.2762e-04  \n",
      "EVAL: [0/17] Data 0.319 (0.319) Elapsed 0m 0s (remain 0m 8s) \n"
     ]
    },
    {
     "name": "stderr",
     "output_type": "stream",
     "text": [
      "labels: [ 8  3  6  4 10]\n",
      "pred_labels: [8 3 0 1 4]\n",
      "Epoch 27 - avg_train_loss: 0.6006  lr: 1.2762e-04  time: 61s\n",
      "Epoch 27 - Score: 0.6231\n"
     ]
    },
    {
     "name": "stdout",
     "output_type": "stream",
     "text": [
      "EVAL: [16/17] Data 0.000 (0.019) Elapsed 0m 4s (remain 0m 0s) \n",
      "Epoch: [28][0/65] Data 0.388 (0.388) Elapsed 0m 1s (remain 1m 4s) Loss: 0.0395(0.0395) Grad Norm: 0.0000  LR: 9.9584e-05  \n",
      "Epoch: [28][64/65] Data 0.000 (0.006) Elapsed 0m 56s (remain 0m 0s) Loss: 0.0803(0.6599) Grad Norm: 4.4586  LR: 9.9584e-05  \n",
      "EVAL: [0/17] Data 0.297 (0.297) Elapsed 0m 0s (remain 0m 8s) \n"
     ]
    },
    {
     "name": "stderr",
     "output_type": "stream",
     "text": [
      "labels: [ 8  3  6  4 10]\n",
      "pred_labels: [8 3 6 4 2]\n",
      "Epoch 28 - avg_train_loss: 0.6599  lr: 9.9584e-05  time: 61s\n",
      "Epoch 28 - Score: 0.6615\n"
     ]
    },
    {
     "name": "stdout",
     "output_type": "stream",
     "text": [
      "EVAL: [16/17] Data 0.000 (0.018) Elapsed 0m 4s (remain 0m 0s) \n",
      "Epoch: [29][0/65] Data 0.440 (0.440) Elapsed 0m 1s (remain 1m 6s) Loss: 0.0461(0.0461) Grad Norm: 0.0000  LR: 7.4783e-05  \n",
      "Epoch: [29][64/65] Data 0.000 (0.007) Elapsed 0m 56s (remain 0m 0s) Loss: 0.0672(0.5945) Grad Norm: 4.8291  LR: 7.4783e-05  \n",
      "EVAL: [0/17] Data 0.283 (0.283) Elapsed 0m 0s (remain 0m 8s) \n"
     ]
    },
    {
     "name": "stderr",
     "output_type": "stream",
     "text": [
      "labels: [ 8  3  6  4 10]\n",
      "pred_labels: [8 1 0 1 2]\n",
      "Epoch 29 - avg_train_loss: 0.5945  lr: 7.4783e-05  time: 61s\n",
      "Epoch 29 - Score: 0.6462\n"
     ]
    },
    {
     "name": "stdout",
     "output_type": "stream",
     "text": [
      "EVAL: [16/17] Data 0.000 (0.017) Elapsed 0m 4s (remain 0m 0s) \n",
      "Epoch: [30][0/65] Data 0.326 (0.326) Elapsed 0m 0s (remain 0m 59s) Loss: 0.0501(0.0501) Grad Norm: 0.0000  LR: 5.3404e-05  \n",
      "Epoch: [30][64/65] Data 0.000 (0.005) Elapsed 0m 56s (remain 0m 0s) Loss: 1.4427(0.6953) Grad Norm: 4.2844  LR: 5.3404e-05  \n",
      "EVAL: [0/17] Data 0.286 (0.286) Elapsed 0m 0s (remain 0m 8s) \n"
     ]
    },
    {
     "name": "stderr",
     "output_type": "stream",
     "text": [
      "labels: [ 8  3  6  4 10]\n",
      "pred_labels: [8 1 0 4 4]\n",
      "Epoch 30 - avg_train_loss: 0.6953  lr: 5.3404e-05  time: 61s\n",
      "Epoch 30 - Score: 0.6462\n"
     ]
    },
    {
     "name": "stdout",
     "output_type": "stream",
     "text": [
      "EVAL: [16/17] Data 0.000 (0.017) Elapsed 0m 4s (remain 0m 0s) \n",
      "Epoch: [31][0/65] Data 0.428 (0.428) Elapsed 0m 1s (remain 1m 6s) Loss: 0.0404(0.0404) Grad Norm: 0.0000  LR: 3.5607e-05  \n",
      "Epoch: [31][64/65] Data 0.000 (0.007) Elapsed 0m 56s (remain 0m 0s) Loss: 0.0606(0.0515) Grad Norm: 1.6030  LR: 3.5607e-05  \n",
      "EVAL: [0/17] Data 0.318 (0.318) Elapsed 0m 0s (remain 0m 8s) \n"
     ]
    },
    {
     "name": "stderr",
     "output_type": "stream",
     "text": [
      "labels: [ 8  3  6  4 10]\n",
      "pred_labels: [8 1 0 2 2]\n",
      "Epoch 31 - avg_train_loss: 0.0515  lr: 3.5607e-05  time: 61s\n",
      "Epoch 31 - Score: 0.6385\n"
     ]
    },
    {
     "name": "stdout",
     "output_type": "stream",
     "text": [
      "EVAL: [16/17] Data 0.000 (0.019) Elapsed 0m 4s (remain 0m 0s) \n",
      "Epoch: [32][0/65] Data 0.395 (0.395) Elapsed 0m 1s (remain 1m 6s) Loss: 0.1334(0.1334) Grad Norm: 0.0000  LR: 2.1508e-05  \n",
      "Epoch: [32][64/65] Data 0.000 (0.006) Elapsed 0m 56s (remain 0m 0s) Loss: 0.0425(0.0501) Grad Norm: 0.9297  LR: 2.1508e-05  \n",
      "EVAL: [0/17] Data 0.304 (0.304) Elapsed 0m 0s (remain 0m 8s) \n"
     ]
    },
    {
     "name": "stderr",
     "output_type": "stream",
     "text": [
      "labels: [ 8  3  6  4 10]\n",
      "pred_labels: [8 1 0 4 2]\n",
      "Epoch 32 - avg_train_loss: 0.0501  lr: 2.1508e-05  time: 61s\n",
      "Epoch 32 - Score: 0.6462\n"
     ]
    },
    {
     "name": "stdout",
     "output_type": "stream",
     "text": [
      "EVAL: [16/17] Data 0.000 (0.018) Elapsed 0m 4s (remain 0m 0s) \n",
      "Epoch: [33][0/65] Data 0.425 (0.425) Elapsed 0m 1s (remain 1m 6s) Loss: 0.0201(0.0201) Grad Norm: 0.0000  LR: 1.1173e-05  \n",
      "Epoch: [33][64/65] Data 0.000 (0.007) Elapsed 0m 56s (remain 0m 0s) Loss: 0.0067(0.0676) Grad Norm: 4.5749  LR: 1.1173e-05  \n",
      "EVAL: [0/17] Data 0.311 (0.311) Elapsed 0m 0s (remain 0m 8s) \n"
     ]
    },
    {
     "name": "stderr",
     "output_type": "stream",
     "text": [
      "labels: [ 8  3  6  4 10]\n",
      "pred_labels: [8 3 6 4 2]\n",
      "Epoch 33 - avg_train_loss: 0.0676  lr: 1.1173e-05  time: 61s\n",
      "Epoch 33 - Score: 0.6692\n"
     ]
    },
    {
     "name": "stdout",
     "output_type": "stream",
     "text": [
      "EVAL: [16/17] Data 0.000 (0.019) Elapsed 0m 4s (remain 0m 0s) \n",
      "Epoch: [34][0/65] Data 0.397 (0.397) Elapsed 0m 1s (remain 1m 5s) Loss: 0.0316(0.0316) Grad Norm: 0.0000  LR: 4.5796e-06  \n",
      "Epoch: [34][64/65] Data 0.000 (0.006) Elapsed 0m 56s (remain 0m 0s) Loss: 0.1532(0.0381) Grad Norm: 1.9780  LR: 4.5796e-06  \n",
      "EVAL: [0/17] Data 0.278 (0.278) Elapsed 0m 0s (remain 0m 8s) \n"
     ]
    },
    {
     "name": "stderr",
     "output_type": "stream",
     "text": [
      "labels: [ 8  3  6  4 10]\n",
      "pred_labels: [8 3 0 4 2]\n",
      "Epoch 34 - avg_train_loss: 0.0381  lr: 4.5796e-06  time: 61s\n",
      "Epoch 34 - Score: 0.6538\n"
     ]
    },
    {
     "name": "stdout",
     "output_type": "stream",
     "text": [
      "EVAL: [16/17] Data 0.000 (0.017) Elapsed 0m 4s (remain 0m 0s) \n",
      "Epoch: [35][0/65] Data 0.414 (0.414) Elapsed 0m 1s (remain 1m 7s) Loss: 0.0247(0.0247) Grad Norm: 0.0000  LR: 1.5037e-06  \n",
      "Epoch: [35][64/65] Data 0.000 (0.007) Elapsed 0m 56s (remain 0m 0s) Loss: 0.0305(0.0686) Grad Norm: 2.6374  LR: 1.5037e-06  \n",
      "EVAL: [0/17] Data 0.311 (0.311) Elapsed 0m 0s (remain 0m 8s) \n"
     ]
    },
    {
     "name": "stderr",
     "output_type": "stream",
     "text": [
      "labels: [ 8  3  6  4 10]\n",
      "pred_labels: [8 1 6 2 2]\n",
      "Epoch 35 - avg_train_loss: 0.0686  lr: 1.5037e-06  time: 61s\n",
      "Epoch 35 - Score: 0.6462\n",
      "\n",
      "oof score: 0.6330275229357798\n",
      "\n",
      "==================== fold: 0, seed: 1 training ====================\n"
     ]
    },
    {
     "name": "stdout",
     "output_type": "stream",
     "text": [
      "EVAL: [16/17] Data 0.000 (0.018) Elapsed 0m 4s (remain 0m 0s) \n",
      "fold\n",
      "0    131\n",
      "1    131\n",
      "2    131\n",
      "3    131\n",
      "4    130\n",
      "dtype: int64\n",
      "Epoch: [1][0/65] Data 0.440 (0.440) Elapsed 0m 1s (remain 1m 6s) Loss: 2.5975(2.5975) Grad Norm: 0.0000  LR: 1.0000e-03  \n",
      "Epoch: [1][64/65] Data 0.000 (0.007) Elapsed 0m 57s (remain 0m 0s) Loss: 2.4435(2.5352) Grad Norm: 5.7533  LR: 1.0000e-03  \n",
      "EVAL: [0/17] Data 0.356 (0.356) Elapsed 0m 0s (remain 0m 9s) \n"
     ]
    },
    {
     "name": "stderr",
     "output_type": "stream",
     "text": [
      "labels: [ 6  2 10  0  8]\n",
      "pred_labels: [2 5 2 1 5]\n",
      "Epoch 1 - avg_train_loss: 2.5352  lr: 1.0000e-03  time: 62s\n",
      "Epoch 1 - Score: 0.1832\n",
      "Epoch 1 - Save Best Score: 0.1832 Model\n"
     ]
    },
    {
     "name": "stdout",
     "output_type": "stream",
     "text": [
      "EVAL: [16/17] Data 0.000 (0.021) Elapsed 0m 4s (remain 0m 0s) \n",
      "Epoch: [2][0/65] Data 0.447 (0.447) Elapsed 0m 1s (remain 1m 8s) Loss: 2.5800(2.5800) Grad Norm: 0.0000  LR: 9.9598e-04  \n",
      "Epoch: [2][64/65] Data 0.000 (0.007) Elapsed 0m 57s (remain 0m 0s) Loss: 2.2261(2.2850) Grad Norm: 7.3065  LR: 9.9598e-04  \n",
      "EVAL: [0/17] Data 0.364 (0.364) Elapsed 0m 0s (remain 0m 9s) \n"
     ]
    },
    {
     "name": "stderr",
     "output_type": "stream",
     "text": [
      "labels: [ 6  2 10  0  8]\n",
      "pred_labels: [2 2 2 0 5]\n",
      "Epoch 2 - avg_train_loss: 2.2850  lr: 9.9598e-04  time: 62s\n",
      "Epoch 2 - Score: 0.3130\n",
      "Epoch 2 - Save Best Score: 0.3130 Model\n"
     ]
    },
    {
     "name": "stdout",
     "output_type": "stream",
     "text": [
      "EVAL: [16/17] Data 0.000 (0.022) Elapsed 0m 4s (remain 0m 0s) \n",
      "Epoch: [3][0/65] Data 0.394 (0.394) Elapsed 0m 1s (remain 1m 5s) Loss: 2.2292(2.2292) Grad Norm: 0.0000  LR: 9.8599e-04  \n",
      "Epoch: [3][64/65] Data 0.000 (0.006) Elapsed 0m 57s (remain 0m 0s) Loss: 1.7288(2.1114) Grad Norm: 7.8501  LR: 9.8599e-04  \n",
      "EVAL: [0/17] Data 0.348 (0.348) Elapsed 0m 0s (remain 0m 9s) \n"
     ]
    },
    {
     "name": "stderr",
     "output_type": "stream",
     "text": [
      "labels: [ 6  2 10  0  8]\n",
      "pred_labels: [6 2 4 0 2]\n",
      "Epoch 3 - avg_train_loss: 2.1114  lr: 9.8599e-04  time: 62s\n",
      "Epoch 3 - Score: 0.3740\n",
      "Epoch 3 - Save Best Score: 0.3740 Model\n"
     ]
    },
    {
     "name": "stdout",
     "output_type": "stream",
     "text": [
      "EVAL: [16/17] Data 0.000 (0.021) Elapsed 0m 4s (remain 0m 0s) \n",
      "Epoch: [4][0/65] Data 0.469 (0.469) Elapsed 0m 1s (remain 1m 9s) Loss: 2.1775(2.1775) Grad Norm: 0.0000  LR: 9.7213e-04  \n",
      "Epoch: [4][64/65] Data 0.000 (0.007) Elapsed 0m 57s (remain 0m 0s) Loss: 2.4576(1.8827) Grad Norm: 8.9063  LR: 9.7213e-04  \n",
      "EVAL: [0/17] Data 0.313 (0.313) Elapsed 0m 0s (remain 0m 8s) \n"
     ]
    },
    {
     "name": "stderr",
     "output_type": "stream",
     "text": [
      "labels: [ 6  2 10  0  8]\n",
      "pred_labels: [6 2 2 0 8]\n",
      "Epoch 4 - avg_train_loss: 1.8827  lr: 9.7213e-04  time: 62s\n",
      "Epoch 4 - Score: 0.4885\n",
      "Epoch 4 - Save Best Score: 0.4885 Model\n"
     ]
    },
    {
     "name": "stdout",
     "output_type": "stream",
     "text": [
      "EVAL: [16/17] Data 0.000 (0.019) Elapsed 0m 4s (remain 0m 0s) \n",
      "Epoch: [5][0/65] Data 0.509 (0.509) Elapsed 0m 1s (remain 1m 12s) Loss: 1.8485(1.8485) Grad Norm: 0.0000  LR: 9.5449e-04  \n",
      "Epoch: [5][64/65] Data 0.000 (0.008) Elapsed 0m 57s (remain 0m 0s) Loss: 1.0578(1.7457) Grad Norm: 6.8045  LR: 9.5449e-04  \n",
      "EVAL: [0/17] Data 0.367 (0.367) Elapsed 0m 0s (remain 0m 9s) \n"
     ]
    },
    {
     "name": "stderr",
     "output_type": "stream",
     "text": [
      "labels: [ 6  2 10  0  8]\n",
      "pred_labels: [7 2 2 0 8]\n",
      "Epoch 5 - avg_train_loss: 1.7457  lr: 9.5449e-04  time: 62s\n",
      "Epoch 5 - Score: 0.5115\n",
      "Epoch 5 - Save Best Score: 0.5115 Model\n"
     ]
    },
    {
     "name": "stdout",
     "output_type": "stream",
     "text": [
      "EVAL: [16/17] Data 0.000 (0.022) Elapsed 0m 4s (remain 0m 0s) \n",
      "Epoch: [6][0/65] Data 0.524 (0.524) Elapsed 0m 1s (remain 1m 14s) Loss: 2.1446(2.1446) Grad Norm: 0.0000  LR: 9.3324e-04  \n",
      "Epoch: [6][64/65] Data 0.000 (0.008) Elapsed 0m 57s (remain 0m 0s) Loss: 2.1451(1.5627) Grad Norm: 7.2781  LR: 9.3324e-04  \n",
      "EVAL: [0/17] Data 0.304 (0.304) Elapsed 0m 0s (remain 0m 8s) \n"
     ]
    },
    {
     "name": "stderr",
     "output_type": "stream",
     "text": [
      "labels: [ 6  2 10  0  8]\n",
      "pred_labels: [6 2 4 0 8]\n",
      "Epoch 6 - avg_train_loss: 1.5627  lr: 9.3324e-04  time: 62s\n",
      "Epoch 6 - Score: 0.4733\n"
     ]
    },
    {
     "name": "stdout",
     "output_type": "stream",
     "text": [
      "EVAL: [16/17] Data 0.000 (0.018) Elapsed 0m 4s (remain 0m 0s) \n",
      "Epoch: [7][0/65] Data 0.402 (0.402) Elapsed 0m 1s (remain 1m 4s) Loss: 2.3540(2.3540) Grad Norm: 0.0000  LR: 9.0853e-04  \n",
      "Epoch: [7][64/65] Data 0.000 (0.006) Elapsed 0m 57s (remain 0m 0s) Loss: 2.1982(1.3970) Grad Norm: 8.1597  LR: 9.0853e-04  \n",
      "EVAL: [0/17] Data 0.361 (0.361) Elapsed 0m 0s (remain 0m 9s) \n"
     ]
    },
    {
     "name": "stderr",
     "output_type": "stream",
     "text": [
      "labels: [ 6  2 10  0  8]\n",
      "pred_labels: [ 4  2 10  0  8]\n",
      "Epoch 7 - avg_train_loss: 1.3970  lr: 9.0853e-04  time: 62s\n",
      "Epoch 7 - Score: 0.4885\n"
     ]
    },
    {
     "name": "stdout",
     "output_type": "stream",
     "text": [
      "EVAL: [16/17] Data 0.000 (0.021) Elapsed 0m 4s (remain 0m 0s) \n",
      "Epoch: [8][0/65] Data 0.468 (0.468) Elapsed 0m 1s (remain 1m 8s) Loss: 1.8410(1.8410) Grad Norm: 0.0000  LR: 8.8057e-04  \n",
      "Epoch: [8][64/65] Data 0.000 (0.007) Elapsed 0m 57s (remain 0m 0s) Loss: 2.0919(1.2238) Grad Norm: 6.4260  LR: 8.8057e-04  \n",
      "EVAL: [0/17] Data 0.295 (0.295) Elapsed 0m 0s (remain 0m 8s) \n"
     ]
    },
    {
     "name": "stderr",
     "output_type": "stream",
     "text": [
      "labels: [ 6  2 10  0  8]\n",
      "pred_labels: [4 2 4 0 8]\n",
      "Epoch 8 - avg_train_loss: 1.2238  lr: 8.8057e-04  time: 62s\n",
      "Epoch 8 - Score: 0.5649\n",
      "Epoch 8 - Save Best Score: 0.5649 Model\n"
     ]
    },
    {
     "name": "stdout",
     "output_type": "stream",
     "text": [
      "EVAL: [16/17] Data 0.000 (0.018) Elapsed 0m 4s (remain 0m 0s) \n",
      "Epoch: [9][0/65] Data 0.456 (0.456) Elapsed 0m 1s (remain 1m 10s) Loss: 1.3531(1.3531) Grad Norm: 0.0000  LR: 8.4958e-04  \n",
      "Epoch: [9][64/65] Data 0.000 (0.007) Elapsed 0m 57s (remain 0m 0s) Loss: 1.4988(1.2689) Grad Norm: 7.5897  LR: 8.4958e-04  \n",
      "EVAL: [0/17] Data 0.292 (0.292) Elapsed 0m 0s (remain 0m 8s) \n"
     ]
    },
    {
     "name": "stderr",
     "output_type": "stream",
     "text": [
      "labels: [ 6  2 10  0  8]\n",
      "pred_labels: [6 2 4 0 8]\n",
      "Epoch 9 - avg_train_loss: 1.2689  lr: 8.4958e-04  time: 62s\n",
      "Epoch 9 - Score: 0.5496\n"
     ]
    },
    {
     "name": "stdout",
     "output_type": "stream",
     "text": [
      "EVAL: [16/17] Data 0.000 (0.017) Elapsed 0m 4s (remain 0m 0s) \n",
      "Epoch: [10][0/65] Data 0.426 (0.426) Elapsed 0m 1s (remain 1m 6s) Loss: 0.7770(0.7770) Grad Norm: 0.0000  LR: 8.1581e-04  \n",
      "Epoch: [10][64/65] Data 0.000 (0.007) Elapsed 0m 57s (remain 0m 0s) Loss: 1.4326(1.1459) Grad Norm: 7.3069  LR: 8.1581e-04  \n",
      "EVAL: [0/17] Data 0.281 (0.281) Elapsed 0m 0s (remain 0m 8s) \n"
     ]
    },
    {
     "name": "stderr",
     "output_type": "stream",
     "text": [
      "labels: [ 6  2 10  0  8]\n",
      "pred_labels: [6 2 1 0 8]\n",
      "Epoch 10 - avg_train_loss: 1.1459  lr: 8.1581e-04  time: 61s\n",
      "Epoch 10 - Score: 0.5115\n"
     ]
    },
    {
     "name": "stdout",
     "output_type": "stream",
     "text": [
      "EVAL: [16/17] Data 0.000 (0.017) Elapsed 0m 4s (remain 0m 0s) \n",
      "Epoch: [11][0/65] Data 0.451 (0.451) Elapsed 0m 1s (remain 1m 8s) Loss: 1.9117(1.9117) Grad Norm: 0.0000  LR: 7.7953e-04  \n",
      "Epoch: [11][64/65] Data 0.000 (0.007) Elapsed 0m 57s (remain 0m 0s) Loss: 1.4065(1.0719) Grad Norm: 4.5144  LR: 7.7953e-04  \n",
      "EVAL: [0/17] Data 0.322 (0.322) Elapsed 0m 0s (remain 0m 8s) \n"
     ]
    },
    {
     "name": "stderr",
     "output_type": "stream",
     "text": [
      "labels: [ 6  2 10  0  8]\n",
      "pred_labels: [6 2 2 0 8]\n",
      "Epoch 11 - avg_train_loss: 1.0719  lr: 7.7953e-04  time: 62s\n",
      "Epoch 11 - Score: 0.5802\n",
      "Epoch 11 - Save Best Score: 0.5802 Model\n"
     ]
    },
    {
     "name": "stdout",
     "output_type": "stream",
     "text": [
      "EVAL: [16/17] Data 0.000 (0.019) Elapsed 0m 4s (remain 0m 0s) \n",
      "Epoch: [12][0/65] Data 0.446 (0.446) Elapsed 0m 1s (remain 1m 8s) Loss: 1.9947(1.9947) Grad Norm: 0.0000  LR: 7.4103e-04  \n",
      "Epoch: [12][64/65] Data 0.000 (0.007) Elapsed 0m 57s (remain 0m 0s) Loss: 0.5183(0.9863) Grad Norm: 4.0155  LR: 7.4103e-04  \n",
      "EVAL: [0/17] Data 0.332 (0.332) Elapsed 0m 0s (remain 0m 9s) \n"
     ]
    },
    {
     "name": "stderr",
     "output_type": "stream",
     "text": [
      "labels: [ 6  2 10  0  8]\n",
      "pred_labels: [7 2 2 0 8]\n",
      "Epoch 12 - avg_train_loss: 0.9863  lr: 7.4103e-04  time: 62s\n",
      "Epoch 12 - Score: 0.5344\n"
     ]
    },
    {
     "name": "stdout",
     "output_type": "stream",
     "text": [
      "EVAL: [16/17] Data 0.000 (0.020) Elapsed 0m 4s (remain 0m 0s) \n",
      "Epoch: [13][0/65] Data 0.410 (0.410) Elapsed 0m 1s (remain 1m 5s) Loss: 0.1090(0.1090) Grad Norm: 0.0000  LR: 7.0063e-04  \n",
      "Epoch: [13][64/65] Data 0.000 (0.006) Elapsed 0m 56s (remain 0m 0s) Loss: 0.6613(0.9272) Grad Norm: 5.3886  LR: 7.0063e-04  \n",
      "EVAL: [0/17] Data 0.346 (0.346) Elapsed 0m 0s (remain 0m 9s) \n"
     ]
    },
    {
     "name": "stderr",
     "output_type": "stream",
     "text": [
      "labels: [ 6  2 10  0  8]\n",
      "pred_labels: [2 2 2 0 8]\n",
      "Epoch 13 - avg_train_loss: 0.9272  lr: 7.0063e-04  time: 61s\n",
      "Epoch 13 - Score: 0.5802\n"
     ]
    },
    {
     "name": "stdout",
     "output_type": "stream",
     "text": [
      "EVAL: [16/17] Data 0.000 (0.021) Elapsed 0m 4s (remain 0m 0s) \n",
      "Epoch: [14][0/65] Data 0.392 (0.392) Elapsed 0m 1s (remain 1m 4s) Loss: 0.4670(0.4670) Grad Norm: 0.0000  LR: 6.5865e-04  \n",
      "Epoch: [14][64/65] Data 0.000 (0.006) Elapsed 0m 56s (remain 0m 0s) Loss: 0.5762(0.9269) Grad Norm: 7.2206  LR: 6.5865e-04  \n",
      "EVAL: [0/17] Data 0.312 (0.312) Elapsed 0m 0s (remain 0m 8s) \n"
     ]
    },
    {
     "name": "stderr",
     "output_type": "stream",
     "text": [
      "labels: [ 6  2 10  0  8]\n",
      "pred_labels: [6 2 2 0 8]\n",
      "Epoch 14 - avg_train_loss: 0.9269  lr: 6.5865e-04  time: 61s\n",
      "Epoch 14 - Score: 0.5725\n"
     ]
    },
    {
     "name": "stdout",
     "output_type": "stream",
     "text": [
      "EVAL: [16/17] Data 0.000 (0.019) Elapsed 0m 4s (remain 0m 0s) \n",
      "Epoch: [15][0/65] Data 0.400 (0.400) Elapsed 0m 1s (remain 1m 4s) Loss: 1.8880(1.8880) Grad Norm: 0.0000  LR: 6.1542e-04  \n",
      "Epoch: [15][64/65] Data 0.000 (0.006) Elapsed 0m 56s (remain 0m 0s) Loss: 1.6935(1.0465) Grad Norm: 6.7254  LR: 6.1542e-04  \n",
      "EVAL: [0/17] Data 0.328 (0.328) Elapsed 0m 0s (remain 0m 8s) \n"
     ]
    },
    {
     "name": "stderr",
     "output_type": "stream",
     "text": [
      "labels: [ 6  2 10  0  8]\n",
      "pred_labels: [6 2 4 0 8]\n",
      "Epoch 15 - avg_train_loss: 1.0465  lr: 6.1542e-04  time: 61s\n",
      "Epoch 15 - Score: 0.5573\n"
     ]
    },
    {
     "name": "stdout",
     "output_type": "stream",
     "text": [
      "EVAL: [16/17] Data 0.000 (0.020) Elapsed 0m 4s (remain 0m 0s) \n",
      "Epoch: [16][0/65] Data 0.409 (0.409) Elapsed 0m 1s (remain 1m 8s) Loss: 0.3249(0.3249) Grad Norm: 0.0000  LR: 5.7130e-04  \n",
      "Epoch: [16][64/65] Data 0.000 (0.006) Elapsed 0m 56s (remain 0m 0s) Loss: 0.2681(0.8352) Grad Norm: 5.2961  LR: 5.7130e-04  \n",
      "EVAL: [0/17] Data 0.320 (0.320) Elapsed 0m 0s (remain 0m 8s) \n"
     ]
    },
    {
     "name": "stderr",
     "output_type": "stream",
     "text": [
      "labels: [ 6  2 10  0  8]\n",
      "pred_labels: [6 2 2 0 8]\n",
      "Epoch 16 - avg_train_loss: 0.8352  lr: 5.7130e-04  time: 61s\n",
      "Epoch 16 - Score: 0.6031\n",
      "Epoch 16 - Save Best Score: 0.6031 Model\n"
     ]
    },
    {
     "name": "stdout",
     "output_type": "stream",
     "text": [
      "EVAL: [16/17] Data 0.000 (0.019) Elapsed 0m 4s (remain 0m 0s) \n",
      "Epoch: [17][0/65] Data 0.392 (0.392) Elapsed 0m 1s (remain 1m 5s) Loss: 0.2054(0.2054) Grad Norm: 0.0000  LR: 5.2663e-04  \n",
      "Epoch: [17][64/65] Data 0.000 (0.006) Elapsed 0m 56s (remain 0m 0s) Loss: 0.1205(0.9139) Grad Norm: 5.0227  LR: 5.2663e-04  \n",
      "EVAL: [0/17] Data 0.318 (0.318) Elapsed 0m 0s (remain 0m 8s) \n"
     ]
    },
    {
     "name": "stderr",
     "output_type": "stream",
     "text": [
      "labels: [ 6  2 10  0  8]\n",
      "pred_labels: [2 2 4 0 8]\n",
      "Epoch 17 - avg_train_loss: 0.9139  lr: 5.2663e-04  time: 61s\n",
      "Epoch 17 - Score: 0.5496\n"
     ]
    },
    {
     "name": "stdout",
     "output_type": "stream",
     "text": [
      "EVAL: [16/17] Data 0.000 (0.019) Elapsed 0m 4s (remain 0m 0s) \n",
      "Epoch: [18][0/65] Data 0.443 (0.443) Elapsed 0m 1s (remain 1m 9s) Loss: 1.6124(1.6124) Grad Norm: 0.0000  LR: 4.8179e-04  \n",
      "Epoch: [18][64/65] Data 0.000 (0.007) Elapsed 0m 56s (remain 0m 0s) Loss: 0.1634(0.9580) Grad Norm: 5.1018  LR: 4.8179e-04  \n",
      "EVAL: [0/17] Data 0.308 (0.308) Elapsed 0m 0s (remain 0m 8s) \n"
     ]
    },
    {
     "name": "stderr",
     "output_type": "stream",
     "text": [
      "labels: [ 6  2 10  0  8]\n",
      "pred_labels: [6 2 2 0 8]\n",
      "Epoch 18 - avg_train_loss: 0.9580  lr: 4.8179e-04  time: 61s\n",
      "Epoch 18 - Score: 0.5725\n"
     ]
    },
    {
     "name": "stdout",
     "output_type": "stream",
     "text": [
      "EVAL: [16/17] Data 0.000 (0.018) Elapsed 0m 4s (remain 0m 0s) \n",
      "Epoch: [19][0/65] Data 0.451 (0.451) Elapsed 0m 1s (remain 1m 8s) Loss: 0.1396(0.1396) Grad Norm: 0.0000  LR: 4.3712e-04  \n",
      "Epoch: [19][64/65] Data 0.000 (0.007) Elapsed 0m 56s (remain 0m 0s) Loss: 0.1357(0.5570) Grad Norm: 4.0808  LR: 4.3712e-04  \n",
      "EVAL: [0/17] Data 0.292 (0.292) Elapsed 0m 0s (remain 0m 8s) \n"
     ]
    },
    {
     "name": "stderr",
     "output_type": "stream",
     "text": [
      "labels: [ 6  2 10  0  8]\n",
      "pred_labels: [6 2 2 0 8]\n",
      "Epoch 19 - avg_train_loss: 0.5570  lr: 4.3712e-04  time: 61s\n",
      "Epoch 19 - Score: 0.6260\n",
      "Epoch 19 - Save Best Score: 0.6260 Model\n"
     ]
    },
    {
     "name": "stdout",
     "output_type": "stream",
     "text": [
      "EVAL: [16/17] Data 0.000 (0.017) Elapsed 0m 4s (remain 0m 0s) \n",
      "Epoch: [20][0/65] Data 0.465 (0.465) Elapsed 0m 1s (remain 1m 10s) Loss: 0.0199(0.0199) Grad Norm: 0.0000  LR: 3.9299e-04  \n",
      "Epoch: [20][64/65] Data 0.000 (0.007) Elapsed 0m 56s (remain 0m 0s) Loss: 0.9130(0.7297) Grad Norm: 5.2518  LR: 3.9299e-04  \n",
      "EVAL: [0/17] Data 0.336 (0.336) Elapsed 0m 0s (remain 0m 9s) \n"
     ]
    },
    {
     "name": "stderr",
     "output_type": "stream",
     "text": [
      "labels: [ 6  2 10  0  8]\n",
      "pred_labels: [6 2 2 0 8]\n",
      "Epoch 20 - avg_train_loss: 0.7297  lr: 3.9299e-04  time: 61s\n",
      "Epoch 20 - Score: 0.5954\n"
     ]
    },
    {
     "name": "stdout",
     "output_type": "stream",
     "text": [
      "EVAL: [16/17] Data 0.000 (0.020) Elapsed 0m 4s (remain 0m 0s) \n",
      "Epoch: [21][0/65] Data 0.475 (0.475) Elapsed 0m 1s (remain 1m 9s) Loss: 0.4899(0.4899) Grad Norm: 0.0000  LR: 3.4975e-04  \n",
      "Epoch: [21][64/65] Data 0.000 (0.008) Elapsed 0m 56s (remain 0m 0s) Loss: 1.2162(0.7162) Grad Norm: 4.1845  LR: 3.4975e-04  \n",
      "EVAL: [0/17] Data 0.375 (0.375) Elapsed 0m 0s (remain 0m 9s) \n"
     ]
    },
    {
     "name": "stderr",
     "output_type": "stream",
     "text": [
      "labels: [ 6  2 10  0  8]\n",
      "pred_labels: [6 2 4 0 8]\n",
      "Epoch 21 - avg_train_loss: 0.7162  lr: 3.4975e-04  time: 62s\n",
      "Epoch 21 - Score: 0.5878\n"
     ]
    },
    {
     "name": "stdout",
     "output_type": "stream",
     "text": [
      "EVAL: [16/17] Data 0.000 (0.022) Elapsed 0m 4s (remain 0m 0s) \n",
      "Epoch: [22][0/65] Data 0.559 (0.559) Elapsed 0m 1s (remain 1m 14s) Loss: 1.4472(1.4472) Grad Norm: 0.0000  LR: 3.0775e-04  \n",
      "Epoch: [22][64/65] Data 0.000 (0.009) Elapsed 0m 56s (remain 0m 0s) Loss: 0.0461(0.6800) Grad Norm: 5.7688  LR: 3.0775e-04  \n",
      "EVAL: [0/17] Data 0.311 (0.311) Elapsed 0m 0s (remain 0m 8s) \n"
     ]
    },
    {
     "name": "stderr",
     "output_type": "stream",
     "text": [
      "labels: [ 6  2 10  0  8]\n",
      "pred_labels: [6 2 4 0 8]\n",
      "Epoch 22 - avg_train_loss: 0.6800  lr: 3.0775e-04  time: 61s\n",
      "Epoch 22 - Score: 0.5954\n"
     ]
    },
    {
     "name": "stdout",
     "output_type": "stream",
     "text": [
      "EVAL: [16/17] Data 0.000 (0.019) Elapsed 0m 4s (remain 0m 0s) \n",
      "Epoch: [23][0/65] Data 0.414 (0.414) Elapsed 0m 1s (remain 1m 6s) Loss: 1.0633(1.0633) Grad Norm: 0.0000  LR: 2.6732e-04  \n",
      "Epoch: [23][64/65] Data 0.000 (0.007) Elapsed 0m 56s (remain 0m 0s) Loss: 0.8887(0.7250) Grad Norm: 4.7382  LR: 2.6732e-04  \n",
      "EVAL: [0/17] Data 0.317 (0.317) Elapsed 0m 0s (remain 0m 8s) \n"
     ]
    },
    {
     "name": "stderr",
     "output_type": "stream",
     "text": [
      "labels: [ 6  2 10  0  8]\n",
      "pred_labels: [6 2 3 0 8]\n",
      "Epoch 23 - avg_train_loss: 0.7250  lr: 2.6732e-04  time: 61s\n",
      "Epoch 23 - Score: 0.5649\n"
     ]
    },
    {
     "name": "stdout",
     "output_type": "stream",
     "text": [
      "EVAL: [16/17] Data 0.000 (0.019) Elapsed 0m 4s (remain 0m 0s) \n",
      "Epoch: [24][0/65] Data 0.498 (0.498) Elapsed 0m 1s (remain 1m 10s) Loss: 0.1902(0.1902) Grad Norm: 0.0000  LR: 2.2880e-04  \n",
      "Epoch: [24][64/65] Data 0.000 (0.008) Elapsed 0m 56s (remain 0m 0s) Loss: 1.5907(0.6179) Grad Norm: 3.6392  LR: 2.2880e-04  \n",
      "EVAL: [0/17] Data 0.314 (0.314) Elapsed 0m 0s (remain 0m 8s) \n"
     ]
    },
    {
     "name": "stderr",
     "output_type": "stream",
     "text": [
      "labels: [ 6  2 10  0  8]\n",
      "pred_labels: [ 6  2 10  0  8]\n",
      "Epoch 24 - avg_train_loss: 0.6179  lr: 2.2880e-04  time: 61s\n",
      "Epoch 24 - Score: 0.5878\n"
     ]
    },
    {
     "name": "stdout",
     "output_type": "stream",
     "text": [
      "EVAL: [16/17] Data 0.000 (0.019) Elapsed 0m 4s (remain 0m 0s) \n",
      "Epoch: [25][0/65] Data 0.507 (0.507) Elapsed 0m 1s (remain 1m 11s) Loss: 0.0805(0.0805) Grad Norm: 0.0000  LR: 1.9248e-04  \n",
      "Epoch: [25][64/65] Data 0.000 (0.008) Elapsed 0m 56s (remain 0m 0s) Loss: 2.0384(0.6384) Grad Norm: 2.8530  LR: 1.9248e-04  \n",
      "EVAL: [0/17] Data 0.306 (0.306) Elapsed 0m 0s (remain 0m 8s) \n"
     ]
    },
    {
     "name": "stderr",
     "output_type": "stream",
     "text": [
      "labels: [ 6  2 10  0  8]\n",
      "pred_labels: [ 6  2 10  0  8]\n",
      "Epoch 25 - avg_train_loss: 0.6384  lr: 1.9248e-04  time: 61s\n",
      "Epoch 25 - Score: 0.5496\n"
     ]
    },
    {
     "name": "stdout",
     "output_type": "stream",
     "text": [
      "EVAL: [16/17] Data 0.000 (0.018) Elapsed 0m 4s (remain 0m 0s) \n",
      "Epoch: [26][0/65] Data 0.451 (0.451) Elapsed 0m 1s (remain 1m 7s) Loss: 0.0817(0.0817) Grad Norm: 0.0000  LR: 1.5867e-04  \n",
      "Epoch: [26][64/65] Data 0.000 (0.007) Elapsed 0m 56s (remain 0m 0s) Loss: 1.3826(0.5774) Grad Norm: 2.8590  LR: 1.5867e-04  \n",
      "EVAL: [0/17] Data 0.324 (0.324) Elapsed 0m 0s (remain 0m 8s) \n"
     ]
    },
    {
     "name": "stderr",
     "output_type": "stream",
     "text": [
      "labels: [ 6  2 10  0  8]\n",
      "pred_labels: [ 6  2 10  0  8]\n",
      "Epoch 26 - avg_train_loss: 0.5774  lr: 1.5867e-04  time: 61s\n",
      "Epoch 26 - Score: 0.5802\n"
     ]
    },
    {
     "name": "stdout",
     "output_type": "stream",
     "text": [
      "EVAL: [16/17] Data 0.000 (0.019) Elapsed 0m 4s (remain 0m 0s) \n",
      "Epoch: [27][0/65] Data 0.500 (0.500) Elapsed 0m 1s (remain 1m 10s) Loss: 0.0326(0.0326) Grad Norm: 0.0000  LR: 1.2762e-04  \n",
      "Epoch: [27][64/65] Data 0.000 (0.008) Elapsed 0m 56s (remain 0m 0s) Loss: 0.2279(0.6861) Grad Norm: 2.8158  LR: 1.2762e-04  \n",
      "EVAL: [0/17] Data 0.342 (0.342) Elapsed 0m 0s (remain 0m 9s) \n"
     ]
    },
    {
     "name": "stderr",
     "output_type": "stream",
     "text": [
      "labels: [ 6  2 10  0  8]\n",
      "pred_labels: [ 6  2 10  0  8]\n",
      "Epoch 27 - avg_train_loss: 0.6861  lr: 1.2762e-04  time: 61s\n",
      "Epoch 27 - Score: 0.5954\n"
     ]
    },
    {
     "name": "stdout",
     "output_type": "stream",
     "text": [
      "EVAL: [16/17] Data 0.000 (0.020) Elapsed 0m 4s (remain 0m 0s) \n",
      "Epoch: [28][0/65] Data 0.433 (0.433) Elapsed 0m 1s (remain 1m 6s) Loss: 2.0053(2.0053) Grad Norm: 0.0000  LR: 9.9584e-05  \n",
      "Epoch: [28][64/65] Data 0.000 (0.007) Elapsed 0m 56s (remain 0m 0s) Loss: 0.8152(0.6144) Grad Norm: 2.0719  LR: 9.9584e-05  \n",
      "EVAL: [0/17] Data 0.270 (0.270) Elapsed 0m 0s (remain 0m 8s) \n"
     ]
    },
    {
     "name": "stderr",
     "output_type": "stream",
     "text": [
      "labels: [ 6  2 10  0  8]\n",
      "pred_labels: [ 6  2 10  0  8]\n",
      "Epoch 28 - avg_train_loss: 0.6144  lr: 9.9584e-05  time: 61s\n",
      "Epoch 28 - Score: 0.6107\n"
     ]
    },
    {
     "name": "stdout",
     "output_type": "stream",
     "text": [
      "EVAL: [16/17] Data 0.000 (0.016) Elapsed 0m 4s (remain 0m 0s) \n",
      "Epoch: [29][0/65] Data 0.508 (0.508) Elapsed 0m 1s (remain 1m 12s) Loss: 1.2350(1.2350) Grad Norm: 0.0000  LR: 7.4783e-05  \n",
      "Epoch: [29][64/65] Data 0.000 (0.008) Elapsed 0m 56s (remain 0m 0s) Loss: 0.9669(0.6553) Grad Norm: 2.7051  LR: 7.4783e-05  \n",
      "EVAL: [0/17] Data 0.346 (0.346) Elapsed 0m 0s (remain 0m 9s) \n"
     ]
    },
    {
     "name": "stderr",
     "output_type": "stream",
     "text": [
      "labels: [ 6  2 10  0  8]\n",
      "pred_labels: [6 2 3 0 8]\n",
      "Epoch 29 - avg_train_loss: 0.6553  lr: 7.4783e-05  time: 61s\n",
      "Epoch 29 - Score: 0.6031\n"
     ]
    },
    {
     "name": "stdout",
     "output_type": "stream",
     "text": [
      "EVAL: [16/17] Data 0.000 (0.021) Elapsed 0m 4s (remain 0m 0s) \n",
      "Epoch: [30][0/65] Data 0.372 (0.372) Elapsed 0m 1s (remain 1m 8s) Loss: 1.0869(1.0869) Grad Norm: 0.0000  LR: 5.3404e-05  \n",
      "Epoch: [30][64/65] Data 0.000 (0.006) Elapsed 0m 56s (remain 0m 0s) Loss: 0.0594(0.5593) Grad Norm: 2.8506  LR: 5.3404e-05  \n",
      "EVAL: [0/17] Data 0.322 (0.322) Elapsed 0m 0s (remain 0m 8s) \n"
     ]
    },
    {
     "name": "stderr",
     "output_type": "stream",
     "text": [
      "labels: [ 6  2 10  0  8]\n",
      "pred_labels: [ 6  2 10  0  8]\n",
      "Epoch 30 - avg_train_loss: 0.5593  lr: 5.3404e-05  time: 61s\n",
      "Epoch 30 - Score: 0.5954\n"
     ]
    },
    {
     "name": "stdout",
     "output_type": "stream",
     "text": [
      "EVAL: [16/17] Data 0.000 (0.019) Elapsed 0m 4s (remain 0m 0s) \n",
      "Epoch: [31][0/65] Data 0.460 (0.460) Elapsed 0m 1s (remain 1m 8s) Loss: 0.0740(0.0740) Grad Norm: 0.0000  LR: 3.5607e-05  \n",
      "Epoch: [31][64/65] Data 0.000 (0.007) Elapsed 0m 56s (remain 0m 0s) Loss: 0.0362(0.0495) Grad Norm: 1.4779  LR: 3.5607e-05  \n",
      "EVAL: [0/17] Data 0.305 (0.305) Elapsed 0m 0s (remain 0m 8s) \n"
     ]
    },
    {
     "name": "stderr",
     "output_type": "stream",
     "text": [
      "labels: [ 6  2 10  0  8]\n",
      "pred_labels: [ 6  2 10  0  8]\n",
      "Epoch 31 - avg_train_loss: 0.0495  lr: 3.5607e-05  time: 61s\n",
      "Epoch 31 - Score: 0.6107\n"
     ]
    },
    {
     "name": "stdout",
     "output_type": "stream",
     "text": [
      "EVAL: [16/17] Data 0.000 (0.018) Elapsed 0m 4s (remain 0m 0s) \n",
      "Epoch: [32][0/65] Data 0.454 (0.454) Elapsed 0m 1s (remain 1m 7s) Loss: 0.0229(0.0229) Grad Norm: 0.0000  LR: 2.1508e-05  \n",
      "Epoch: [32][64/65] Data 0.000 (0.007) Elapsed 0m 56s (remain 0m 0s) Loss: 0.0190(0.0420) Grad Norm: 1.1083  LR: 2.1508e-05  \n",
      "EVAL: [0/17] Data 0.356 (0.356) Elapsed 0m 0s (remain 0m 9s) \n"
     ]
    },
    {
     "name": "stderr",
     "output_type": "stream",
     "text": [
      "labels: [ 6  2 10  0  8]\n",
      "pred_labels: [ 6  2 10  0  8]\n",
      "Epoch 32 - avg_train_loss: 0.0420  lr: 2.1508e-05  time: 61s\n",
      "Epoch 32 - Score: 0.5954\n"
     ]
    },
    {
     "name": "stdout",
     "output_type": "stream",
     "text": [
      "EVAL: [16/17] Data 0.000 (0.021) Elapsed 0m 4s (remain 0m 0s) \n",
      "Epoch: [33][0/65] Data 0.436 (0.436) Elapsed 0m 1s (remain 1m 7s) Loss: 0.0403(0.0403) Grad Norm: 0.0000  LR: 1.1173e-05  \n",
      "Epoch: [33][64/65] Data 0.000 (0.007) Elapsed 0m 56s (remain 0m 0s) Loss: 0.0372(0.0400) Grad Norm: 0.3931  LR: 1.1173e-05  \n",
      "EVAL: [0/17] Data 0.274 (0.274) Elapsed 0m 0s (remain 0m 8s) \n"
     ]
    },
    {
     "name": "stderr",
     "output_type": "stream",
     "text": [
      "labels: [ 6  2 10  0  8]\n",
      "pred_labels: [ 6  2 10  0  8]\n",
      "Epoch 33 - avg_train_loss: 0.0400  lr: 1.1173e-05  time: 61s\n",
      "Epoch 33 - Score: 0.6183\n"
     ]
    },
    {
     "name": "stdout",
     "output_type": "stream",
     "text": [
      "EVAL: [16/17] Data 0.000 (0.016) Elapsed 0m 4s (remain 0m 0s) \n",
      "Epoch: [34][0/65] Data 0.416 (0.416) Elapsed 0m 1s (remain 1m 7s) Loss: 0.0200(0.0200) Grad Norm: 0.0000  LR: 4.5796e-06  \n",
      "Epoch: [34][64/65] Data 0.000 (0.007) Elapsed 0m 56s (remain 0m 0s) Loss: 0.1484(0.0602) Grad Norm: 0.2096  LR: 4.5796e-06  \n",
      "EVAL: [0/17] Data 0.344 (0.344) Elapsed 0m 0s (remain 0m 9s) \n"
     ]
    },
    {
     "name": "stderr",
     "output_type": "stream",
     "text": [
      "labels: [ 6  2 10  0  8]\n",
      "pred_labels: [ 6  2 10  0  8]\n",
      "Epoch 34 - avg_train_loss: 0.0602  lr: 4.5796e-06  time: 61s\n",
      "Epoch 34 - Score: 0.6183\n"
     ]
    },
    {
     "name": "stdout",
     "output_type": "stream",
     "text": [
      "EVAL: [16/17] Data 0.000 (0.020) Elapsed 0m 4s (remain 0m 0s) \n",
      "Epoch: [35][0/65] Data 0.486 (0.486) Elapsed 0m 1s (remain 1m 9s) Loss: 0.0470(0.0470) Grad Norm: 0.0000  LR: 1.5037e-06  \n",
      "Epoch: [35][64/65] Data 0.000 (0.008) Elapsed 0m 56s (remain 0m 0s) Loss: 0.0181(0.0431) Grad Norm: 1.8152  LR: 1.5037e-06  \n",
      "EVAL: [0/17] Data 0.354 (0.354) Elapsed 0m 0s (remain 0m 9s) \n"
     ]
    },
    {
     "name": "stderr",
     "output_type": "stream",
     "text": [
      "labels: [ 6  2 10  0  8]\n",
      "pred_labels: [ 6  2 10  0  8]\n",
      "Epoch 35 - avg_train_loss: 0.0431  lr: 1.5037e-06  time: 61s\n",
      "Epoch 35 - Score: 0.5878\n",
      "==================== fold: 1, seed: 1 training ====================\n"
     ]
    },
    {
     "name": "stdout",
     "output_type": "stream",
     "text": [
      "EVAL: [16/17] Data 0.000 (0.021) Elapsed 0m 4s (remain 0m 0s) \n",
      "Epoch: [1][0/65] Data 0.464 (0.464) Elapsed 0m 1s (remain 1m 7s) Loss: 2.6519(2.6519) Grad Norm: 0.0000  LR: 1.0000e-03  \n",
      "Epoch: [1][64/65] Data 0.000 (0.007) Elapsed 0m 57s (remain 0m 0s) Loss: 2.4988(2.5374) Grad Norm: 7.4769  LR: 1.0000e-03  \n",
      "EVAL: [0/17] Data 0.321 (0.321) Elapsed 0m 0s (remain 0m 8s) \n"
     ]
    },
    {
     "name": "stderr",
     "output_type": "stream",
     "text": [
      "labels: [12 11  2  2 11]\n",
      "pred_labels: [2 6 2 2 2]\n",
      "Epoch 1 - avg_train_loss: 2.5374  lr: 1.0000e-03  time: 62s\n",
      "Epoch 1 - Score: 0.2137\n",
      "Epoch 1 - Save Best Score: 0.2137 Model\n"
     ]
    },
    {
     "name": "stdout",
     "output_type": "stream",
     "text": [
      "EVAL: [16/17] Data 0.000 (0.019) Elapsed 0m 4s (remain 0m 0s) \n",
      "Epoch: [2][0/65] Data 0.431 (0.431) Elapsed 0m 1s (remain 1m 9s) Loss: 2.3334(2.3334) Grad Norm: 0.0000  LR: 9.9598e-04  \n",
      "Epoch: [2][64/65] Data 0.000 (0.007) Elapsed 0m 57s (remain 0m 0s) Loss: 2.0243(2.3527) Grad Norm: 8.0626  LR: 9.9598e-04  \n",
      "EVAL: [0/17] Data 0.386 (0.386) Elapsed 0m 0s (remain 0m 9s) \n"
     ]
    },
    {
     "name": "stderr",
     "output_type": "stream",
     "text": [
      "labels: [12 11  2  2 11]\n",
      "pred_labels: [9 6 2 2 2]\n",
      "Epoch 2 - avg_train_loss: 2.3527  lr: 9.9598e-04  time: 62s\n",
      "Epoch 2 - Score: 0.3053\n",
      "Epoch 2 - Save Best Score: 0.3053 Model\n"
     ]
    },
    {
     "name": "stdout",
     "output_type": "stream",
     "text": [
      "EVAL: [16/17] Data 0.000 (0.023) Elapsed 0m 4s (remain 0m 0s) \n",
      "Epoch: [3][0/65] Data 0.511 (0.511) Elapsed 0m 1s (remain 1m 13s) Loss: 1.9290(1.9290) Grad Norm: 0.0000  LR: 9.8599e-04  \n",
      "Epoch: [3][64/65] Data 0.000 (0.008) Elapsed 0m 57s (remain 0m 0s) Loss: 2.0561(2.1737) Grad Norm: 6.6252  LR: 9.8599e-04  \n",
      "EVAL: [0/17] Data 0.351 (0.351) Elapsed 0m 0s (remain 0m 9s) \n"
     ]
    },
    {
     "name": "stderr",
     "output_type": "stream",
     "text": [
      "labels: [12 11  2  2 11]\n",
      "pred_labels: [ 9 11  2  2  9]\n",
      "Epoch 3 - avg_train_loss: 2.1737  lr: 9.8599e-04  time: 62s\n",
      "Epoch 3 - Score: 0.3588\n",
      "Epoch 3 - Save Best Score: 0.3588 Model\n"
     ]
    },
    {
     "name": "stdout",
     "output_type": "stream",
     "text": [
      "EVAL: [16/17] Data 0.000 (0.021) Elapsed 0m 4s (remain 0m 0s) \n",
      "Epoch: [4][0/65] Data 0.459 (0.459) Elapsed 0m 1s (remain 1m 9s) Loss: 1.6566(1.6566) Grad Norm: 0.0000  LR: 9.7213e-04  \n",
      "Epoch: [4][64/65] Data 0.000 (0.007) Elapsed 0m 57s (remain 0m 0s) Loss: 1.5692(1.9325) Grad Norm: 7.0614  LR: 9.7213e-04  \n",
      "EVAL: [0/17] Data 0.321 (0.321) Elapsed 0m 0s (remain 0m 8s) \n"
     ]
    },
    {
     "name": "stderr",
     "output_type": "stream",
     "text": [
      "labels: [12 11  2  2 11]\n",
      "pred_labels: [ 9 11  0  2  9]\n",
      "Epoch 4 - avg_train_loss: 1.9325  lr: 9.7213e-04  time: 62s\n",
      "Epoch 4 - Score: 0.4427\n",
      "Epoch 4 - Save Best Score: 0.4427 Model\n"
     ]
    },
    {
     "name": "stdout",
     "output_type": "stream",
     "text": [
      "EVAL: [16/17] Data 0.000 (0.019) Elapsed 0m 4s (remain 0m 0s) \n",
      "Epoch: [5][0/65] Data 0.430 (0.430) Elapsed 0m 1s (remain 1m 9s) Loss: 0.8321(0.8321) Grad Norm: 0.0000  LR: 9.5449e-04  \n",
      "Epoch: [5][64/65] Data 0.000 (0.007) Elapsed 0m 57s (remain 0m 0s) Loss: 1.7338(1.7148) Grad Norm: 7.9238  LR: 9.5449e-04  \n",
      "EVAL: [0/17] Data 0.287 (0.287) Elapsed 0m 0s (remain 0m 8s) \n"
     ]
    },
    {
     "name": "stderr",
     "output_type": "stream",
     "text": [
      "labels: [12 11  2  2 11]\n",
      "pred_labels: [ 0 11  0  4 11]\n",
      "Epoch 5 - avg_train_loss: 1.7148  lr: 9.5449e-04  time: 62s\n",
      "Epoch 5 - Score: 0.5344\n",
      "Epoch 5 - Save Best Score: 0.5344 Model\n"
     ]
    },
    {
     "name": "stdout",
     "output_type": "stream",
     "text": [
      "EVAL: [16/17] Data 0.000 (0.017) Elapsed 0m 4s (remain 0m 0s) \n",
      "Epoch: [6][0/65] Data 0.389 (0.389) Elapsed 0m 1s (remain 1m 7s) Loss: 1.8733(1.8733) Grad Norm: 0.0000  LR: 9.3324e-04  \n",
      "Epoch: [6][64/65] Data 0.000 (0.006) Elapsed 0m 57s (remain 0m 0s) Loss: 0.8736(1.5664) Grad Norm: 7.2617  LR: 9.3324e-04  \n",
      "EVAL: [0/17] Data 0.259 (0.259) Elapsed 0m 0s (remain 0m 7s) \n"
     ]
    },
    {
     "name": "stderr",
     "output_type": "stream",
     "text": [
      "labels: [12 11  2  2 11]\n",
      "pred_labels: [11 11  2  3 11]\n",
      "Epoch 6 - avg_train_loss: 1.5664  lr: 9.3324e-04  time: 62s\n",
      "Epoch 6 - Score: 0.5649\n",
      "Epoch 6 - Save Best Score: 0.5649 Model\n"
     ]
    },
    {
     "name": "stdout",
     "output_type": "stream",
     "text": [
      "EVAL: [16/17] Data 0.000 (0.015) Elapsed 0m 4s (remain 0m 0s) \n",
      "Epoch: [7][0/65] Data 0.384 (0.384) Elapsed 0m 1s (remain 1m 6s) Loss: 2.4361(2.4361) Grad Norm: 0.0000  LR: 9.0853e-04  \n",
      "Epoch: [7][64/65] Data 0.000 (0.006) Elapsed 0m 57s (remain 0m 0s) Loss: 0.4972(1.4217) Grad Norm: 8.4272  LR: 9.0853e-04  \n",
      "EVAL: [0/17] Data 0.293 (0.293) Elapsed 0m 0s (remain 0m 8s) \n"
     ]
    },
    {
     "name": "stderr",
     "output_type": "stream",
     "text": [
      "labels: [12 11  2  2 11]\n",
      "pred_labels: [11 11  0  3 11]\n",
      "Epoch 7 - avg_train_loss: 1.4217  lr: 9.0853e-04  time: 62s\n",
      "Epoch 7 - Score: 0.5573\n"
     ]
    },
    {
     "name": "stdout",
     "output_type": "stream",
     "text": [
      "EVAL: [16/17] Data 0.000 (0.017) Elapsed 0m 4s (remain 0m 0s) \n",
      "Epoch: [8][0/65] Data 0.443 (0.443) Elapsed 0m 1s (remain 1m 7s) Loss: 1.5860(1.5860) Grad Norm: 0.0000  LR: 8.8057e-04  \n",
      "Epoch: [8][64/65] Data 0.000 (0.007) Elapsed 0m 57s (remain 0m 0s) Loss: 1.1220(1.3029) Grad Norm: 7.0261  LR: 8.8057e-04  \n",
      "EVAL: [0/17] Data 0.283 (0.283) Elapsed 0m 0s (remain 0m 8s) \n"
     ]
    },
    {
     "name": "stderr",
     "output_type": "stream",
     "text": [
      "labels: [12 11  2  2 11]\n",
      "pred_labels: [11 11  1  2 11]\n",
      "Epoch 8 - avg_train_loss: 1.3029  lr: 8.8057e-04  time: 62s\n",
      "Epoch 8 - Score: 0.5191\n"
     ]
    },
    {
     "name": "stdout",
     "output_type": "stream",
     "text": [
      "EVAL: [16/17] Data 0.000 (0.017) Elapsed 0m 4s (remain 0m 0s) \n",
      "Epoch: [9][0/65] Data 0.435 (0.435) Elapsed 0m 1s (remain 1m 6s) Loss: 0.5512(0.5512) Grad Norm: 0.0000  LR: 8.4958e-04  \n",
      "Epoch: [9][64/65] Data 0.000 (0.007) Elapsed 0m 57s (remain 0m 0s) Loss: 1.1043(1.1023) Grad Norm: 6.6140  LR: 8.4958e-04  \n",
      "EVAL: [0/17] Data 0.292 (0.292) Elapsed 0m 0s (remain 0m 8s) \n"
     ]
    },
    {
     "name": "stderr",
     "output_type": "stream",
     "text": [
      "labels: [12 11  2  2 11]\n",
      "pred_labels: [ 9 11  2  4 11]\n",
      "Epoch 9 - avg_train_loss: 1.1023  lr: 8.4958e-04  time: 62s\n",
      "Epoch 9 - Score: 0.5725\n",
      "Epoch 9 - Save Best Score: 0.5725 Model\n"
     ]
    },
    {
     "name": "stdout",
     "output_type": "stream",
     "text": [
      "EVAL: [16/17] Data 0.000 (0.017) Elapsed 0m 4s (remain 0m 0s) \n",
      "Epoch: [10][0/65] Data 0.453 (0.453) Elapsed 0m 1s (remain 1m 9s) Loss: 0.3951(0.3951) Grad Norm: 0.0000  LR: 8.1581e-04  \n",
      "Epoch: [10][64/65] Data 0.000 (0.007) Elapsed 0m 57s (remain 0m 0s) Loss: 1.7155(1.2521) Grad Norm: 7.2120  LR: 8.1581e-04  \n",
      "EVAL: [0/17] Data 0.282 (0.282) Elapsed 0m 0s (remain 0m 8s) \n"
     ]
    },
    {
     "name": "stderr",
     "output_type": "stream",
     "text": [
      "labels: [12 11  2  2 11]\n",
      "pred_labels: [11 11  1  4 11]\n",
      "Epoch 10 - avg_train_loss: 1.2521  lr: 8.1581e-04  time: 62s\n",
      "Epoch 10 - Score: 0.5802\n",
      "Epoch 10 - Save Best Score: 0.5802 Model\n"
     ]
    },
    {
     "name": "stdout",
     "output_type": "stream",
     "text": [
      "EVAL: [16/17] Data 0.000 (0.017) Elapsed 0m 4s (remain 0m 0s) \n",
      "Epoch: [11][0/65] Data 0.381 (0.381) Elapsed 0m 1s (remain 1m 6s) Loss: 0.2374(0.2374) Grad Norm: 0.0000  LR: 7.7953e-04  \n",
      "Epoch: [11][64/65] Data 0.000 (0.006) Elapsed 0m 57s (remain 0m 0s) Loss: 0.4259(1.1796) Grad Norm: 5.4417  LR: 7.7953e-04  \n",
      "EVAL: [0/17] Data 0.318 (0.318) Elapsed 0m 0s (remain 0m 8s) \n"
     ]
    },
    {
     "name": "stderr",
     "output_type": "stream",
     "text": [
      "labels: [12 11  2  2 11]\n",
      "pred_labels: [ 9 11  6  3 11]\n",
      "Epoch 11 - avg_train_loss: 1.1796  lr: 7.7953e-04  time: 62s\n",
      "Epoch 11 - Score: 0.5725\n"
     ]
    },
    {
     "name": "stdout",
     "output_type": "stream",
     "text": [
      "EVAL: [16/17] Data 0.000 (0.019) Elapsed 0m 4s (remain 0m 0s) \n",
      "Epoch: [12][0/65] Data 0.430 (0.430) Elapsed 0m 1s (remain 1m 7s) Loss: 0.4731(0.4731) Grad Norm: 0.0000  LR: 7.4103e-04  \n",
      "Epoch: [12][64/65] Data 0.000 (0.007) Elapsed 0m 56s (remain 0m 0s) Loss: 0.5878(0.9723) Grad Norm: 5.9576  LR: 7.4103e-04  \n",
      "EVAL: [0/17] Data 0.340 (0.340) Elapsed 0m 0s (remain 0m 9s) \n"
     ]
    },
    {
     "name": "stderr",
     "output_type": "stream",
     "text": [
      "labels: [12 11  2  2 11]\n",
      "pred_labels: [11 11  4  3 11]\n",
      "Epoch 12 - avg_train_loss: 0.9723  lr: 7.4103e-04  time: 62s\n",
      "Epoch 12 - Score: 0.5878\n",
      "Epoch 12 - Save Best Score: 0.5878 Model\n"
     ]
    },
    {
     "name": "stdout",
     "output_type": "stream",
     "text": [
      "EVAL: [16/17] Data 0.000 (0.020) Elapsed 0m 4s (remain 0m 0s) \n",
      "Epoch: [13][0/65] Data 0.453 (0.453) Elapsed 0m 1s (remain 1m 9s) Loss: 1.2992(1.2992) Grad Norm: 0.0000  LR: 7.0063e-04  \n",
      "Epoch: [13][64/65] Data 0.000 (0.007) Elapsed 0m 57s (remain 0m 0s) Loss: 0.2482(0.9841) Grad Norm: 5.3409  LR: 7.0063e-04  \n",
      "EVAL: [0/17] Data 0.315 (0.315) Elapsed 0m 0s (remain 0m 8s) \n"
     ]
    },
    {
     "name": "stderr",
     "output_type": "stream",
     "text": [
      "labels: [12 11  2  2 11]\n",
      "pred_labels: [ 1  6  4  3 11]\n",
      "Epoch 13 - avg_train_loss: 0.9841  lr: 7.0063e-04  time: 62s\n",
      "Epoch 13 - Score: 0.5267\n"
     ]
    },
    {
     "name": "stdout",
     "output_type": "stream",
     "text": [
      "EVAL: [16/17] Data 0.000 (0.019) Elapsed 0m 4s (remain 0m 0s) \n",
      "Epoch: [14][0/65] Data 0.380 (0.380) Elapsed 0m 1s (remain 1m 4s) Loss: 1.6557(1.6557) Grad Norm: 0.0000  LR: 6.5865e-04  \n",
      "Epoch: [14][64/65] Data 0.000 (0.006) Elapsed 0m 56s (remain 0m 0s) Loss: 0.2586(0.9451) Grad Norm: 5.5176  LR: 6.5865e-04  \n",
      "EVAL: [0/17] Data 0.256 (0.256) Elapsed 0m 0s (remain 0m 7s) \n"
     ]
    },
    {
     "name": "stderr",
     "output_type": "stream",
     "text": [
      "labels: [12 11  2  2 11]\n",
      "pred_labels: [ 9 11  6  3 11]\n",
      "Epoch 14 - avg_train_loss: 0.9451  lr: 6.5865e-04  time: 61s\n",
      "Epoch 14 - Score: 0.5725\n"
     ]
    },
    {
     "name": "stdout",
     "output_type": "stream",
     "text": [
      "EVAL: [16/17] Data 0.000 (0.015) Elapsed 0m 4s (remain 0m 0s) \n",
      "Epoch: [15][0/65] Data 0.437 (0.437) Elapsed 0m 1s (remain 1m 6s) Loss: 1.2072(1.2072) Grad Norm: 0.0000  LR: 6.1542e-04  \n",
      "Epoch: [15][64/65] Data 0.000 (0.007) Elapsed 0m 56s (remain 0m 0s) Loss: 0.1034(0.8842) Grad Norm: 8.9235  LR: 6.1542e-04  \n",
      "EVAL: [0/17] Data 0.334 (0.334) Elapsed 0m 0s (remain 0m 9s) \n"
     ]
    },
    {
     "name": "stderr",
     "output_type": "stream",
     "text": [
      "labels: [12 11  2  2 11]\n",
      "pred_labels: [ 9 11  6  4 11]\n",
      "Epoch 15 - avg_train_loss: 0.8842  lr: 6.1542e-04  time: 61s\n",
      "Epoch 15 - Score: 0.5649\n"
     ]
    },
    {
     "name": "stdout",
     "output_type": "stream",
     "text": [
      "EVAL: [16/17] Data 0.000 (0.020) Elapsed 0m 4s (remain 0m 0s) \n",
      "Epoch: [16][0/65] Data 0.452 (0.452) Elapsed 0m 1s (remain 1m 7s) Loss: 0.2525(0.2525) Grad Norm: 0.0000  LR: 5.7130e-04  \n",
      "Epoch: [16][64/65] Data 0.000 (0.007) Elapsed 0m 56s (remain 0m 0s) Loss: 1.4662(0.9267) Grad Norm: 5.9379  LR: 5.7130e-04  \n",
      "EVAL: [0/17] Data 0.258 (0.258) Elapsed 0m 0s (remain 0m 7s) \n"
     ]
    },
    {
     "name": "stderr",
     "output_type": "stream",
     "text": [
      "labels: [12 11  2  2 11]\n",
      "pred_labels: [ 9 11  6  4 11]\n",
      "Epoch 16 - avg_train_loss: 0.9267  lr: 5.7130e-04  time: 61s\n",
      "Epoch 16 - Score: 0.6183\n",
      "Epoch 16 - Save Best Score: 0.6183 Model\n"
     ]
    },
    {
     "name": "stdout",
     "output_type": "stream",
     "text": [
      "EVAL: [16/17] Data 0.000 (0.015) Elapsed 0m 4s (remain 0m 0s) \n",
      "Epoch: [17][0/65] Data 0.461 (0.461) Elapsed 0m 1s (remain 1m 9s) Loss: 0.2231(0.2231) Grad Norm: 0.0000  LR: 5.2663e-04  \n",
      "Epoch: [17][64/65] Data 0.000 (0.007) Elapsed 0m 56s (remain 0m 0s) Loss: 0.3617(0.7928) Grad Norm: 2.0473  LR: 5.2663e-04  \n",
      "EVAL: [0/17] Data 0.271 (0.271) Elapsed 0m 0s (remain 0m 8s) \n"
     ]
    },
    {
     "name": "stderr",
     "output_type": "stream",
     "text": [
      "labels: [12 11  2  2 11]\n",
      "pred_labels: [ 9 11  6  4 11]\n",
      "Epoch 17 - avg_train_loss: 0.7928  lr: 5.2663e-04  time: 61s\n",
      "Epoch 17 - Score: 0.5954\n"
     ]
    },
    {
     "name": "stdout",
     "output_type": "stream",
     "text": [
      "EVAL: [16/17] Data 0.000 (0.016) Elapsed 0m 4s (remain 0m 0s) \n",
      "Epoch: [18][0/65] Data 0.466 (0.466) Elapsed 0m 1s (remain 1m 8s) Loss: 0.3002(0.3002) Grad Norm: 0.0000  LR: 4.8179e-04  \n",
      "Epoch: [18][64/65] Data 0.000 (0.007) Elapsed 0m 56s (remain 0m 0s) Loss: 0.1875(0.8281) Grad Norm: 4.1596  LR: 4.8179e-04  \n",
      "EVAL: [0/17] Data 0.254 (0.254) Elapsed 0m 0s (remain 0m 7s) \n"
     ]
    },
    {
     "name": "stderr",
     "output_type": "stream",
     "text": [
      "labels: [12 11  2  2 11]\n",
      "pred_labels: [ 9 11  4  3 11]\n",
      "Epoch 18 - avg_train_loss: 0.8281  lr: 4.8179e-04  time: 61s\n",
      "Epoch 18 - Score: 0.5954\n"
     ]
    },
    {
     "name": "stdout",
     "output_type": "stream",
     "text": [
      "EVAL: [16/17] Data 0.000 (0.015) Elapsed 0m 4s (remain 0m 0s) \n",
      "Epoch: [19][0/65] Data 0.491 (0.491) Elapsed 0m 1s (remain 1m 10s) Loss: 0.1344(0.1344) Grad Norm: 0.0000  LR: 4.3712e-04  \n",
      "Epoch: [19][64/65] Data 0.000 (0.008) Elapsed 0m 56s (remain 0m 0s) Loss: 0.8819(0.7116) Grad Norm: 2.6036  LR: 4.3712e-04  \n",
      "EVAL: [0/17] Data 0.316 (0.316) Elapsed 0m 0s (remain 0m 8s) \n"
     ]
    },
    {
     "name": "stderr",
     "output_type": "stream",
     "text": [
      "labels: [12 11  2  2 11]\n",
      "pred_labels: [ 0 11  4  3 11]\n",
      "Epoch 19 - avg_train_loss: 0.7116  lr: 4.3712e-04  time: 61s\n",
      "Epoch 19 - Score: 0.6107\n"
     ]
    },
    {
     "name": "stdout",
     "output_type": "stream",
     "text": [
      "EVAL: [16/17] Data 0.000 (0.019) Elapsed 0m 4s (remain 0m 0s) \n",
      "Epoch: [20][0/65] Data 0.392 (0.392) Elapsed 0m 0s (remain 1m 3s) Loss: 0.0360(0.0360) Grad Norm: 0.0000  LR: 3.9299e-04  \n",
      "Epoch: [20][64/65] Data 0.000 (0.006) Elapsed 0m 56s (remain 0m 0s) Loss: 1.3389(0.6009) Grad Norm: 4.2103  LR: 3.9299e-04  \n",
      "EVAL: [0/17] Data 0.320 (0.320) Elapsed 0m 0s (remain 0m 8s) \n"
     ]
    },
    {
     "name": "stderr",
     "output_type": "stream",
     "text": [
      "labels: [12 11  2  2 11]\n",
      "pred_labels: [ 0 11  4  3 11]\n",
      "Epoch 20 - avg_train_loss: 0.6009  lr: 3.9299e-04  time: 61s\n",
      "Epoch 20 - Score: 0.6031\n"
     ]
    },
    {
     "name": "stdout",
     "output_type": "stream",
     "text": [
      "EVAL: [16/17] Data 0.000 (0.019) Elapsed 0m 4s (remain 0m 0s) \n",
      "Epoch: [21][0/65] Data 0.447 (0.447) Elapsed 0m 1s (remain 1m 7s) Loss: 1.4264(1.4264) Grad Norm: 0.0000  LR: 3.4975e-04  \n",
      "Epoch: [21][64/65] Data 0.000 (0.007) Elapsed 0m 56s (remain 0m 0s) Loss: 1.1424(0.6605) Grad Norm: 4.6108  LR: 3.4975e-04  \n",
      "EVAL: [0/17] Data 0.317 (0.317) Elapsed 0m 0s (remain 0m 8s) \n"
     ]
    },
    {
     "name": "stderr",
     "output_type": "stream",
     "text": [
      "labels: [12 11  2  2 11]\n",
      "pred_labels: [11 11  4  4 11]\n",
      "Epoch 21 - avg_train_loss: 0.6605  lr: 3.4975e-04  time: 61s\n",
      "Epoch 21 - Score: 0.6336\n",
      "Epoch 21 - Save Best Score: 0.6336 Model\n"
     ]
    },
    {
     "name": "stdout",
     "output_type": "stream",
     "text": [
      "EVAL: [16/17] Data 0.000 (0.019) Elapsed 0m 4s (remain 0m 0s) \n",
      "Epoch: [22][0/65] Data 0.420 (0.420) Elapsed 0m 1s (remain 1m 6s) Loss: 0.0299(0.0299) Grad Norm: 0.0000  LR: 3.0775e-04  \n",
      "Epoch: [22][64/65] Data 0.000 (0.007) Elapsed 0m 56s (remain 0m 0s) Loss: 1.3371(0.6996) Grad Norm: 2.8056  LR: 3.0775e-04  \n",
      "EVAL: [0/17] Data 0.248 (0.248) Elapsed 0m 0s (remain 0m 7s) \n"
     ]
    },
    {
     "name": "stderr",
     "output_type": "stream",
     "text": [
      "labels: [12 11  2  2 11]\n",
      "pred_labels: [ 9 11  0  4 11]\n",
      "Epoch 22 - avg_train_loss: 0.6996  lr: 3.0775e-04  time: 61s\n",
      "Epoch 22 - Score: 0.6794\n",
      "Epoch 22 - Save Best Score: 0.6794 Model\n"
     ]
    },
    {
     "name": "stdout",
     "output_type": "stream",
     "text": [
      "EVAL: [16/17] Data 0.000 (0.015) Elapsed 0m 4s (remain 0m 0s) \n",
      "Epoch: [23][0/65] Data 0.456 (0.456) Elapsed 0m 1s (remain 1m 9s) Loss: 1.2086(1.2086) Grad Norm: 0.0000  LR: 2.6732e-04  \n",
      "Epoch: [23][64/65] Data 0.000 (0.007) Elapsed 0m 56s (remain 0m 0s) Loss: 1.2688(0.7575) Grad Norm: 4.1520  LR: 2.6732e-04  \n",
      "EVAL: [0/17] Data 0.303 (0.303) Elapsed 0m 0s (remain 0m 8s) \n"
     ]
    },
    {
     "name": "stderr",
     "output_type": "stream",
     "text": [
      "labels: [12 11  2  2 11]\n",
      "pred_labels: [ 9 11  0  4 11]\n",
      "Epoch 23 - avg_train_loss: 0.7575  lr: 2.6732e-04  time: 61s\n",
      "Epoch 23 - Score: 0.6870\n",
      "Epoch 23 - Save Best Score: 0.6870 Model\n"
     ]
    },
    {
     "name": "stdout",
     "output_type": "stream",
     "text": [
      "EVAL: [16/17] Data 0.000 (0.018) Elapsed 0m 4s (remain 0m 0s) \n",
      "Epoch: [24][0/65] Data 0.442 (0.442) Elapsed 0m 1s (remain 1m 8s) Loss: 0.0614(0.0614) Grad Norm: 0.0000  LR: 2.2880e-04  \n",
      "Epoch: [24][64/65] Data 0.000 (0.007) Elapsed 0m 56s (remain 0m 0s) Loss: 0.1097(0.7301) Grad Norm: 2.2160  LR: 2.2880e-04  \n",
      "EVAL: [0/17] Data 0.224 (0.224) Elapsed 0m 0s (remain 0m 7s) \n"
     ]
    },
    {
     "name": "stderr",
     "output_type": "stream",
     "text": [
      "labels: [12 11  2  2 11]\n",
      "pred_labels: [ 9 11  4  3 11]\n",
      "Epoch 24 - avg_train_loss: 0.7301  lr: 2.2880e-04  time: 61s\n",
      "Epoch 24 - Score: 0.6718\n"
     ]
    },
    {
     "name": "stdout",
     "output_type": "stream",
     "text": [
      "EVAL: [16/17] Data 0.000 (0.013) Elapsed 0m 4s (remain 0m 0s) \n",
      "Epoch: [25][0/65] Data 0.452 (0.452) Elapsed 0m 1s (remain 1m 7s) Loss: 0.0450(0.0450) Grad Norm: 0.0000  LR: 1.9248e-04  \n",
      "Epoch: [25][64/65] Data 0.000 (0.007) Elapsed 0m 56s (remain 0m 0s) Loss: 1.2403(0.6134) Grad Norm: 3.4805  LR: 1.9248e-04  \n",
      "EVAL: [0/17] Data 0.255 (0.255) Elapsed 0m 0s (remain 0m 7s) \n"
     ]
    },
    {
     "name": "stderr",
     "output_type": "stream",
     "text": [
      "labels: [12 11  2  2 11]\n",
      "pred_labels: [ 9 11  4  4 11]\n",
      "Epoch 25 - avg_train_loss: 0.6134  lr: 1.9248e-04  time: 61s\n",
      "Epoch 25 - Score: 0.6641\n"
     ]
    },
    {
     "name": "stdout",
     "output_type": "stream",
     "text": [
      "EVAL: [16/17] Data 0.000 (0.015) Elapsed 0m 4s (remain 0m 0s) \n",
      "Epoch: [26][0/65] Data 0.439 (0.439) Elapsed 0m 1s (remain 1m 7s) Loss: 1.2710(1.2710) Grad Norm: 0.0000  LR: 1.5867e-04  \n",
      "Epoch: [26][64/65] Data 0.000 (0.007) Elapsed 0m 56s (remain 0m 0s) Loss: 1.1359(0.6520) Grad Norm: 4.2158  LR: 1.5867e-04  \n",
      "EVAL: [0/17] Data 0.252 (0.252) Elapsed 0m 0s (remain 0m 7s) \n"
     ]
    },
    {
     "name": "stderr",
     "output_type": "stream",
     "text": [
      "labels: [12 11  2  2 11]\n",
      "pred_labels: [ 9 11  3  4 11]\n",
      "Epoch 26 - avg_train_loss: 0.6520  lr: 1.5867e-04  time: 61s\n",
      "Epoch 26 - Score: 0.6641\n"
     ]
    },
    {
     "name": "stdout",
     "output_type": "stream",
     "text": [
      "EVAL: [16/17] Data 0.000 (0.015) Elapsed 0m 4s (remain 0m 0s) \n",
      "Epoch: [27][0/65] Data 0.410 (0.410) Elapsed 0m 1s (remain 1m 5s) Loss: 0.4111(0.4111) Grad Norm: 0.0000  LR: 1.2762e-04  \n",
      "Epoch: [27][64/65] Data 0.000 (0.006) Elapsed 0m 56s (remain 0m 0s) Loss: 0.0555(0.6618) Grad Norm: 4.2791  LR: 1.2762e-04  \n",
      "EVAL: [0/17] Data 0.292 (0.292) Elapsed 0m 0s (remain 0m 8s) \n"
     ]
    },
    {
     "name": "stderr",
     "output_type": "stream",
     "text": [
      "labels: [12 11  2  2 11]\n",
      "pred_labels: [ 9 11  2  4 11]\n",
      "Epoch 27 - avg_train_loss: 0.6618  lr: 1.2762e-04  time: 61s\n",
      "Epoch 27 - Score: 0.6336\n"
     ]
    },
    {
     "name": "stdout",
     "output_type": "stream",
     "text": [
      "EVAL: [16/17] Data 0.000 (0.017) Elapsed 0m 4s (remain 0m 0s) \n",
      "Epoch: [28][0/65] Data 0.411 (0.411) Elapsed 0m 1s (remain 1m 7s) Loss: 0.9856(0.9856) Grad Norm: 0.0000  LR: 9.9584e-05  \n",
      "Epoch: [28][64/65] Data 0.000 (0.007) Elapsed 0m 56s (remain 0m 0s) Loss: 1.2981(0.7505) Grad Norm: 2.5604  LR: 9.9584e-05  \n",
      "EVAL: [0/17] Data 0.328 (0.328) Elapsed 0m 0s (remain 0m 9s) \n"
     ]
    },
    {
     "name": "stderr",
     "output_type": "stream",
     "text": [
      "labels: [12 11  2  2 11]\n",
      "pred_labels: [ 9 11  3  4 11]\n",
      "Epoch 28 - avg_train_loss: 0.7505  lr: 9.9584e-05  time: 61s\n",
      "Epoch 28 - Score: 0.6489\n"
     ]
    },
    {
     "name": "stdout",
     "output_type": "stream",
     "text": [
      "EVAL: [16/17] Data 0.000 (0.020) Elapsed 0m 4s (remain 0m 0s) \n",
      "Epoch: [29][0/65] Data 0.366 (0.366) Elapsed 0m 0s (remain 1m 2s) Loss: 0.0421(0.0421) Grad Norm: 0.0000  LR: 7.4783e-05  \n",
      "Epoch: [29][64/65] Data 0.000 (0.006) Elapsed 0m 56s (remain 0m 0s) Loss: 0.0616(0.7144) Grad Norm: 3.4001  LR: 7.4783e-05  \n",
      "EVAL: [0/17] Data 0.310 (0.310) Elapsed 0m 0s (remain 0m 8s) \n"
     ]
    },
    {
     "name": "stderr",
     "output_type": "stream",
     "text": [
      "labels: [12 11  2  2 11]\n",
      "pred_labels: [ 9 11  4  4 11]\n",
      "Epoch 29 - avg_train_loss: 0.7144  lr: 7.4783e-05  time: 61s\n",
      "Epoch 29 - Score: 0.6412\n"
     ]
    },
    {
     "name": "stdout",
     "output_type": "stream",
     "text": [
      "EVAL: [16/17] Data 0.000 (0.018) Elapsed 0m 4s (remain 0m 0s) \n",
      "Epoch: [30][0/65] Data 0.398 (0.398) Elapsed 0m 1s (remain 1m 4s) Loss: 0.0709(0.0709) Grad Norm: 0.0000  LR: 5.3404e-05  \n",
      "Epoch: [30][64/65] Data 0.000 (0.006) Elapsed 0m 56s (remain 0m 0s) Loss: 1.2673(0.7105) Grad Norm: 1.4805  LR: 5.3404e-05  \n",
      "EVAL: [0/17] Data 0.272 (0.272) Elapsed 0m 0s (remain 0m 8s) \n"
     ]
    },
    {
     "name": "stderr",
     "output_type": "stream",
     "text": [
      "labels: [12 11  2  2 11]\n",
      "pred_labels: [ 9 11  6  4 11]\n",
      "Epoch 30 - avg_train_loss: 0.7105  lr: 5.3404e-05  time: 61s\n",
      "Epoch 30 - Score: 0.6641\n"
     ]
    },
    {
     "name": "stdout",
     "output_type": "stream",
     "text": [
      "EVAL: [16/17] Data 0.000 (0.016) Elapsed 0m 4s (remain 0m 0s) \n",
      "Epoch: [31][0/65] Data 0.305 (0.305) Elapsed 0m 0s (remain 0m 58s) Loss: 0.2547(0.2547) Grad Norm: 0.0000  LR: 3.5607e-05  \n",
      "Epoch: [31][64/65] Data 0.000 (0.005) Elapsed 0m 56s (remain 0m 0s) Loss: 0.0179(0.0768) Grad Norm: 0.7340  LR: 3.5607e-05  \n",
      "EVAL: [0/17] Data 0.303 (0.303) Elapsed 0m 0s (remain 0m 8s) \n"
     ]
    },
    {
     "name": "stderr",
     "output_type": "stream",
     "text": [
      "labels: [12 11  2  2 11]\n",
      "pred_labels: [ 9 11  4  4 11]\n",
      "Epoch 31 - avg_train_loss: 0.0768  lr: 3.5607e-05  time: 61s\n",
      "Epoch 31 - Score: 0.6489\n"
     ]
    },
    {
     "name": "stdout",
     "output_type": "stream",
     "text": [
      "EVAL: [16/17] Data 0.000 (0.018) Elapsed 0m 4s (remain 0m 0s) \n",
      "Epoch: [32][0/65] Data 0.382 (0.382) Elapsed 0m 0s (remain 1m 3s) Loss: 0.0517(0.0517) Grad Norm: 0.0000  LR: 2.1508e-05  \n",
      "Epoch: [32][64/65] Data 0.000 (0.006) Elapsed 0m 56s (remain 0m 0s) Loss: 0.0781(0.0399) Grad Norm: 2.4284  LR: 2.1508e-05  \n",
      "EVAL: [0/17] Data 0.206 (0.206) Elapsed 0m 0s (remain 0m 7s) \n"
     ]
    },
    {
     "name": "stderr",
     "output_type": "stream",
     "text": [
      "labels: [12 11  2  2 11]\n",
      "pred_labels: [ 9 11  3  4 11]\n",
      "Epoch 32 - avg_train_loss: 0.0399  lr: 2.1508e-05  time: 61s\n",
      "Epoch 32 - Score: 0.6718\n"
     ]
    },
    {
     "name": "stdout",
     "output_type": "stream",
     "text": [
      "EVAL: [16/17] Data 0.000 (0.012) Elapsed 0m 4s (remain 0m 0s) \n",
      "Epoch: [33][0/65] Data 0.402 (0.402) Elapsed 0m 1s (remain 1m 4s) Loss: 0.0602(0.0602) Grad Norm: 0.0000  LR: 1.1173e-05  \n",
      "Epoch: [33][64/65] Data 0.000 (0.006) Elapsed 0m 56s (remain 0m 0s) Loss: 0.0196(0.0494) Grad Norm: 0.9945  LR: 1.1173e-05  \n",
      "EVAL: [0/17] Data 0.247 (0.247) Elapsed 0m 0s (remain 0m 7s) \n"
     ]
    },
    {
     "name": "stderr",
     "output_type": "stream",
     "text": [
      "labels: [12 11  2  2 11]\n",
      "pred_labels: [ 9 11  6  4 11]\n",
      "Epoch 33 - avg_train_loss: 0.0494  lr: 1.1173e-05  time: 61s\n",
      "Epoch 33 - Score: 0.6565\n"
     ]
    },
    {
     "name": "stdout",
     "output_type": "stream",
     "text": [
      "EVAL: [16/17] Data 0.000 (0.015) Elapsed 0m 4s (remain 0m 0s) \n",
      "Epoch: [34][0/65] Data 0.450 (0.450) Elapsed 0m 1s (remain 1m 7s) Loss: 0.0364(0.0364) Grad Norm: 0.0000  LR: 4.5796e-06  \n",
      "Epoch: [34][64/65] Data 0.000 (0.007) Elapsed 0m 56s (remain 0m 0s) Loss: 0.0287(0.0403) Grad Norm: 0.6236  LR: 4.5796e-06  \n",
      "EVAL: [0/17] Data 0.253 (0.253) Elapsed 0m 0s (remain 0m 7s) \n"
     ]
    },
    {
     "name": "stderr",
     "output_type": "stream",
     "text": [
      "labels: [12 11  2  2 11]\n",
      "pred_labels: [ 9 11  4  4 11]\n",
      "Epoch 34 - avg_train_loss: 0.0403  lr: 4.5796e-06  time: 61s\n",
      "Epoch 34 - Score: 0.6565\n"
     ]
    },
    {
     "name": "stdout",
     "output_type": "stream",
     "text": [
      "EVAL: [16/17] Data 0.000 (0.015) Elapsed 0m 4s (remain 0m 0s) \n",
      "Epoch: [35][0/65] Data 0.406 (0.406) Elapsed 0m 1s (remain 1m 4s) Loss: 0.0338(0.0338) Grad Norm: 0.0000  LR: 1.5037e-06  \n",
      "Epoch: [35][64/65] Data 0.000 (0.006) Elapsed 0m 56s (remain 0m 0s) Loss: 0.0319(0.0410) Grad Norm: 0.2928  LR: 1.5037e-06  \n",
      "EVAL: [0/17] Data 0.268 (0.268) Elapsed 0m 0s (remain 0m 8s) \n"
     ]
    },
    {
     "name": "stderr",
     "output_type": "stream",
     "text": [
      "labels: [12 11  2  2 11]\n",
      "pred_labels: [ 9 11  6  4 11]\n",
      "Epoch 35 - avg_train_loss: 0.0410  lr: 1.5037e-06  time: 61s\n",
      "Epoch 35 - Score: 0.6641\n",
      "==================== fold: 2, seed: 1 training ====================\n"
     ]
    },
    {
     "name": "stdout",
     "output_type": "stream",
     "text": [
      "EVAL: [16/17] Data 0.000 (0.016) Elapsed 0m 4s (remain 0m 0s) \n",
      "Epoch: [1][0/65] Data 0.396 (0.396) Elapsed 0m 1s (remain 1m 4s) Loss: 2.2780(2.2780) Grad Norm: 0.0000  LR: 1.0000e-03  \n",
      "Epoch: [1][64/65] Data 0.000 (0.006) Elapsed 0m 57s (remain 0m 0s) Loss: 2.6449(2.5235) Grad Norm: 6.5455  LR: 1.0000e-03  \n",
      "EVAL: [0/17] Data 0.374 (0.374) Elapsed 0m 0s (remain 0m 9s) \n"
     ]
    },
    {
     "name": "stderr",
     "output_type": "stream",
     "text": [
      "labels: [8 7 4 6 2]\n",
      "pred_labels: [10  2  9  9  9]\n",
      "Epoch 1 - avg_train_loss: 2.5235  lr: 1.0000e-03  time: 62s\n",
      "Epoch 1 - Score: 0.2443\n",
      "Epoch 1 - Save Best Score: 0.2443 Model\n"
     ]
    },
    {
     "name": "stdout",
     "output_type": "stream",
     "text": [
      "EVAL: [16/17] Data 0.000 (0.022) Elapsed 0m 4s (remain 0m 0s) \n",
      "Epoch: [2][0/65] Data 0.419 (0.419) Elapsed 0m 1s (remain 1m 9s) Loss: 2.2336(2.2336) Grad Norm: 0.0000  LR: 9.9598e-04  \n",
      "Epoch: [2][64/65] Data 0.000 (0.007) Elapsed 0m 57s (remain 0m 0s) Loss: 1.9785(2.3629) Grad Norm: 7.0908  LR: 9.9598e-04  \n",
      "EVAL: [0/17] Data 0.291 (0.291) Elapsed 0m 0s (remain 0m 8s) \n"
     ]
    },
    {
     "name": "stderr",
     "output_type": "stream",
     "text": [
      "labels: [8 7 4 6 2]\n",
      "pred_labels: [2 2 9 0 9]\n",
      "Epoch 2 - avg_train_loss: 2.3629  lr: 9.9598e-04  time: 62s\n",
      "Epoch 2 - Score: 0.2977\n",
      "Epoch 2 - Save Best Score: 0.2977 Model\n"
     ]
    },
    {
     "name": "stdout",
     "output_type": "stream",
     "text": [
      "EVAL: [16/17] Data 0.000 (0.017) Elapsed 0m 4s (remain 0m 0s) \n",
      "Epoch: [3][0/65] Data 0.395 (0.395) Elapsed 0m 1s (remain 1m 7s) Loss: 1.8719(1.8719) Grad Norm: 0.0000  LR: 9.8599e-04  \n",
      "Epoch: [3][64/65] Data 0.000 (0.006) Elapsed 0m 57s (remain 0m 0s) Loss: 2.0441(2.1236) Grad Norm: 7.3384  LR: 9.8599e-04  \n",
      "EVAL: [0/17] Data 0.320 (0.320) Elapsed 0m 0s (remain 0m 8s) \n"
     ]
    },
    {
     "name": "stderr",
     "output_type": "stream",
     "text": [
      "labels: [8 7 4 6 2]\n",
      "pred_labels: [ 6  2 11  6  5]\n",
      "Epoch 3 - avg_train_loss: 2.1236  lr: 9.8599e-04  time: 62s\n",
      "Epoch 3 - Score: 0.4122\n",
      "Epoch 3 - Save Best Score: 0.4122 Model\n"
     ]
    },
    {
     "name": "stdout",
     "output_type": "stream",
     "text": [
      "EVAL: [16/17] Data 0.000 (0.019) Elapsed 0m 4s (remain 0m 0s) \n",
      "Epoch: [4][0/65] Data 0.478 (0.478) Elapsed 0m 1s (remain 1m 11s) Loss: 2.1441(2.1441) Grad Norm: 0.0000  LR: 9.7213e-04  \n",
      "Epoch: [4][64/65] Data 0.000 (0.008) Elapsed 0m 57s (remain 0m 0s) Loss: 2.0511(1.9354) Grad Norm: 8.2361  LR: 9.7213e-04  \n",
      "EVAL: [0/17] Data 0.315 (0.315) Elapsed 0m 0s (remain 0m 8s) \n"
     ]
    },
    {
     "name": "stderr",
     "output_type": "stream",
     "text": [
      "labels: [8 7 4 6 2]\n",
      "pred_labels: [8 7 3 3 6]\n",
      "Epoch 4 - avg_train_loss: 1.9354  lr: 9.7213e-04  time: 62s\n",
      "Epoch 4 - Score: 0.4733\n",
      "Epoch 4 - Save Best Score: 0.4733 Model\n"
     ]
    },
    {
     "name": "stdout",
     "output_type": "stream",
     "text": [
      "EVAL: [16/17] Data 0.000 (0.019) Elapsed 0m 4s (remain 0m 0s) \n",
      "Epoch: [5][0/65] Data 0.419 (0.419) Elapsed 0m 1s (remain 1m 8s) Loss: 1.6347(1.6347) Grad Norm: 0.0000  LR: 9.5449e-04  \n",
      "Epoch: [5][64/65] Data 0.000 (0.007) Elapsed 0m 57s (remain 0m 0s) Loss: 1.2011(1.7063) Grad Norm: 8.5927  LR: 9.5449e-04  \n",
      "EVAL: [0/17] Data 0.340 (0.340) Elapsed 0m 0s (remain 0m 9s) \n"
     ]
    },
    {
     "name": "stderr",
     "output_type": "stream",
     "text": [
      "labels: [8 7 4 6 2]\n",
      "pred_labels: [8 4 4 5 5]\n",
      "Epoch 5 - avg_train_loss: 1.7063  lr: 9.5449e-04  time: 62s\n",
      "Epoch 5 - Score: 0.5038\n",
      "Epoch 5 - Save Best Score: 0.5038 Model\n"
     ]
    },
    {
     "name": "stdout",
     "output_type": "stream",
     "text": [
      "EVAL: [16/17] Data 0.000 (0.020) Elapsed 0m 4s (remain 0m 0s) \n",
      "Epoch: [6][0/65] Data 0.501 (0.501) Elapsed 0m 1s (remain 1m 12s) Loss: 2.5019(2.5019) Grad Norm: 0.0000  LR: 9.3324e-04  \n",
      "Epoch: [6][64/65] Data 0.000 (0.008) Elapsed 0m 57s (remain 0m 0s) Loss: 1.9071(1.6307) Grad Norm: 6.7818  LR: 9.3324e-04  \n",
      "EVAL: [0/17] Data 0.345 (0.345) Elapsed 0m 0s (remain 0m 9s) \n"
     ]
    },
    {
     "name": "stderr",
     "output_type": "stream",
     "text": [
      "labels: [8 7 4 6 2]\n",
      "pred_labels: [8 7 4 5 6]\n",
      "Epoch 6 - avg_train_loss: 1.6307  lr: 9.3324e-04  time: 62s\n",
      "Epoch 6 - Score: 0.5344\n",
      "Epoch 6 - Save Best Score: 0.5344 Model\n"
     ]
    },
    {
     "name": "stdout",
     "output_type": "stream",
     "text": [
      "EVAL: [16/17] Data 0.000 (0.021) Elapsed 0m 4s (remain 0m 0s) \n",
      "Epoch: [7][0/65] Data 0.448 (0.448) Elapsed 0m 1s (remain 1m 8s) Loss: 0.9705(0.9705) Grad Norm: 0.0000  LR: 9.0853e-04  \n",
      "Epoch: [7][64/65] Data 0.000 (0.007) Elapsed 0m 57s (remain 0m 0s) Loss: 1.5610(1.4669) Grad Norm: 5.9371  LR: 9.0853e-04  \n",
      "EVAL: [0/17] Data 0.301 (0.301) Elapsed 0m 0s (remain 0m 8s) \n"
     ]
    },
    {
     "name": "stderr",
     "output_type": "stream",
     "text": [
      "labels: [8 7 4 6 2]\n",
      "pred_labels: [ 8  4  1 11  5]\n",
      "Epoch 7 - avg_train_loss: 1.4669  lr: 9.0853e-04  time: 62s\n",
      "Epoch 7 - Score: 0.5496\n",
      "Epoch 7 - Save Best Score: 0.5496 Model\n"
     ]
    },
    {
     "name": "stdout",
     "output_type": "stream",
     "text": [
      "EVAL: [16/17] Data 0.000 (0.018) Elapsed 0m 4s (remain 0m 0s) \n",
      "Epoch: [8][0/65] Data 0.531 (0.531) Elapsed 0m 1s (remain 1m 14s) Loss: 1.9542(1.9542) Grad Norm: 0.0000  LR: 8.8057e-04  \n",
      "Epoch: [8][64/65] Data 0.000 (0.008) Elapsed 0m 57s (remain 0m 0s) Loss: 1.8513(1.2476) Grad Norm: 6.7757  LR: 8.8057e-04  \n",
      "EVAL: [0/17] Data 0.310 (0.310) Elapsed 0m 0s (remain 0m 8s) \n"
     ]
    },
    {
     "name": "stderr",
     "output_type": "stream",
     "text": [
      "labels: [8 7 4 6 2]\n",
      "pred_labels: [8 7 4 1 5]\n",
      "Epoch 8 - avg_train_loss: 1.2476  lr: 8.8057e-04  time: 62s\n",
      "Epoch 8 - Score: 0.5725\n",
      "Epoch 8 - Save Best Score: 0.5725 Model\n"
     ]
    },
    {
     "name": "stdout",
     "output_type": "stream",
     "text": [
      "EVAL: [16/17] Data 0.000 (0.018) Elapsed 0m 4s (remain 0m 0s) \n",
      "Epoch: [9][0/65] Data 0.465 (0.465) Elapsed 0m 1s (remain 1m 13s) Loss: 0.4772(0.4772) Grad Norm: 0.0000  LR: 8.4958e-04  \n",
      "Epoch: [9][64/65] Data 0.000 (0.007) Elapsed 0m 57s (remain 0m 0s) Loss: 0.6608(1.1047) Grad Norm: 7.0082  LR: 8.4958e-04  \n",
      "EVAL: [0/17] Data 0.299 (0.299) Elapsed 0m 0s (remain 0m 8s) \n"
     ]
    },
    {
     "name": "stderr",
     "output_type": "stream",
     "text": [
      "labels: [8 7 4 6 2]\n",
      "pred_labels: [8 7 1 6 5]\n",
      "Epoch 9 - avg_train_loss: 1.1047  lr: 8.4958e-04  time: 62s\n",
      "Epoch 9 - Score: 0.5725\n"
     ]
    },
    {
     "name": "stdout",
     "output_type": "stream",
     "text": [
      "EVAL: [16/17] Data 0.000 (0.018) Elapsed 0m 4s (remain 0m 0s) \n",
      "Epoch: [10][0/65] Data 0.489 (0.489) Elapsed 0m 1s (remain 1m 10s) Loss: 1.8614(1.8614) Grad Norm: 0.0000  LR: 8.1581e-04  \n",
      "Epoch: [10][64/65] Data 0.000 (0.008) Elapsed 0m 57s (remain 0m 0s) Loss: 2.0823(1.0757) Grad Norm: 6.8931  LR: 8.1581e-04  \n",
      "EVAL: [0/17] Data 0.262 (0.262) Elapsed 0m 0s (remain 0m 7s) \n"
     ]
    },
    {
     "name": "stderr",
     "output_type": "stream",
     "text": [
      "labels: [8 7 4 6 2]\n",
      "pred_labels: [8 7 2 1 5]\n",
      "Epoch 10 - avg_train_loss: 1.0757  lr: 8.1581e-04  time: 62s\n",
      "Epoch 10 - Score: 0.5420\n"
     ]
    },
    {
     "name": "stdout",
     "output_type": "stream",
     "text": [
      "EVAL: [16/17] Data 0.000 (0.016) Elapsed 0m 4s (remain 0m 0s) \n",
      "Epoch: [11][0/65] Data 0.384 (0.384) Elapsed 0m 0s (remain 1m 3s) Loss: 0.2999(0.2999) Grad Norm: 0.0000  LR: 7.7953e-04  \n",
      "Epoch: [11][64/65] Data 0.000 (0.006) Elapsed 0m 56s (remain 0m 0s) Loss: 1.6658(1.0520) Grad Norm: 6.0460  LR: 7.7953e-04  \n",
      "EVAL: [0/17] Data 0.291 (0.291) Elapsed 0m 0s (remain 0m 8s) \n"
     ]
    },
    {
     "name": "stderr",
     "output_type": "stream",
     "text": [
      "labels: [8 7 4 6 2]\n",
      "pred_labels: [8 7 3 1 6]\n",
      "Epoch 11 - avg_train_loss: 1.0520  lr: 7.7953e-04  time: 61s\n",
      "Epoch 11 - Score: 0.5191\n"
     ]
    },
    {
     "name": "stdout",
     "output_type": "stream",
     "text": [
      "EVAL: [16/17] Data 0.000 (0.017) Elapsed 0m 4s (remain 0m 0s) \n",
      "Epoch: [12][0/65] Data 0.403 (0.403) Elapsed 0m 1s (remain 1m 4s) Loss: 1.1081(1.1081) Grad Norm: 0.0000  LR: 7.4103e-04  \n",
      "Epoch: [12][64/65] Data 0.000 (0.006) Elapsed 0m 57s (remain 0m 0s) Loss: 1.7166(1.0532) Grad Norm: 5.2689  LR: 7.4103e-04  \n",
      "EVAL: [0/17] Data 0.283 (0.283) Elapsed 0m 0s (remain 0m 8s) \n"
     ]
    },
    {
     "name": "stderr",
     "output_type": "stream",
     "text": [
      "labels: [8 7 4 6 2]\n",
      "pred_labels: [8 4 3 5 5]\n",
      "Epoch 12 - avg_train_loss: 1.0532  lr: 7.4103e-04  time: 62s\n",
      "Epoch 12 - Score: 0.5954\n",
      "Epoch 12 - Save Best Score: 0.5954 Model\n"
     ]
    },
    {
     "name": "stdout",
     "output_type": "stream",
     "text": [
      "EVAL: [16/17] Data 0.000 (0.017) Elapsed 0m 4s (remain 0m 0s) \n",
      "Epoch: [13][0/65] Data 0.417 (0.417) Elapsed 0m 1s (remain 1m 6s) Loss: 0.2298(0.2298) Grad Norm: 0.0000  LR: 7.0063e-04  \n",
      "Epoch: [13][64/65] Data 0.000 (0.007) Elapsed 0m 57s (remain 0m 0s) Loss: 1.6510(1.0525) Grad Norm: 7.2039  LR: 7.0063e-04  \n",
      "EVAL: [0/17] Data 0.265 (0.265) Elapsed 0m 0s (remain 0m 7s) \n"
     ]
    },
    {
     "name": "stderr",
     "output_type": "stream",
     "text": [
      "labels: [8 7 4 6 2]\n",
      "pred_labels: [8 7 9 3 5]\n",
      "Epoch 13 - avg_train_loss: 1.0525  lr: 7.0063e-04  time: 61s\n",
      "Epoch 13 - Score: 0.5115\n"
     ]
    },
    {
     "name": "stdout",
     "output_type": "stream",
     "text": [
      "EVAL: [16/17] Data 0.000 (0.016) Elapsed 0m 4s (remain 0m 0s) \n",
      "Epoch: [14][0/65] Data 0.376 (0.376) Elapsed 0m 0s (remain 1m 3s) Loss: 0.3746(0.3746) Grad Norm: 0.0000  LR: 6.5865e-04  \n",
      "Epoch: [14][64/65] Data 0.000 (0.006) Elapsed 0m 56s (remain 0m 0s) Loss: 0.1930(1.0235) Grad Norm: 4.2367  LR: 6.5865e-04  \n",
      "EVAL: [0/17] Data 0.264 (0.264) Elapsed 0m 0s (remain 0m 7s) \n"
     ]
    },
    {
     "name": "stderr",
     "output_type": "stream",
     "text": [
      "labels: [8 7 4 6 2]\n",
      "pred_labels: [8 7 3 3 6]\n",
      "Epoch 14 - avg_train_loss: 1.0235  lr: 6.5865e-04  time: 61s\n",
      "Epoch 14 - Score: 0.6260\n",
      "Epoch 14 - Save Best Score: 0.6260 Model\n"
     ]
    },
    {
     "name": "stdout",
     "output_type": "stream",
     "text": [
      "EVAL: [16/17] Data 0.000 (0.016) Elapsed 0m 4s (remain 0m 0s) \n",
      "Epoch: [15][0/65] Data 0.522 (0.522) Elapsed 0m 1s (remain 1m 12s) Loss: 0.4397(0.4397) Grad Norm: 0.0000  LR: 6.1542e-04  \n",
      "Epoch: [15][64/65] Data 0.000 (0.008) Elapsed 0m 57s (remain 0m 0s) Loss: 0.8962(0.8905) Grad Norm: 6.6414  LR: 6.1542e-04  \n",
      "EVAL: [0/17] Data 0.240 (0.240) Elapsed 0m 0s (remain 0m 7s) \n"
     ]
    },
    {
     "name": "stderr",
     "output_type": "stream",
     "text": [
      "labels: [8 7 4 6 2]\n",
      "pred_labels: [8 7 1 0 5]\n",
      "Epoch 15 - avg_train_loss: 0.8905  lr: 6.1542e-04  time: 62s\n",
      "Epoch 15 - Score: 0.5725\n"
     ]
    },
    {
     "name": "stdout",
     "output_type": "stream",
     "text": [
      "EVAL: [16/17] Data 0.000 (0.014) Elapsed 0m 4s (remain 0m 0s) \n",
      "Epoch: [16][0/65] Data 0.368 (0.368) Elapsed 0m 0s (remain 1m 2s) Loss: 0.4228(0.4228) Grad Norm: 0.0000  LR: 5.7130e-04  \n",
      "Epoch: [16][64/65] Data 0.000 (0.006) Elapsed 0m 56s (remain 0m 0s) Loss: 1.1213(0.9599) Grad Norm: 6.2916  LR: 5.7130e-04  \n",
      "EVAL: [0/17] Data 0.258 (0.258) Elapsed 0m 0s (remain 0m 7s) \n"
     ]
    },
    {
     "name": "stderr",
     "output_type": "stream",
     "text": [
      "labels: [8 7 4 6 2]\n",
      "pred_labels: [6 7 1 1 5]\n",
      "Epoch 16 - avg_train_loss: 0.9599  lr: 5.7130e-04  time: 61s\n",
      "Epoch 16 - Score: 0.4885\n"
     ]
    },
    {
     "name": "stdout",
     "output_type": "stream",
     "text": [
      "EVAL: [16/17] Data 0.000 (0.015) Elapsed 0m 4s (remain 0m 0s) \n",
      "Epoch: [17][0/65] Data 0.410 (0.410) Elapsed 0m 1s (remain 1m 5s) Loss: 1.5593(1.5593) Grad Norm: 0.0000  LR: 5.2663e-04  \n",
      "Epoch: [17][64/65] Data 0.000 (0.007) Elapsed 0m 56s (remain 0m 0s) Loss: 1.5832(1.0304) Grad Norm: 2.7166  LR: 5.2663e-04  \n",
      "EVAL: [0/17] Data 0.312 (0.312) Elapsed 0m 0s (remain 0m 8s) \n"
     ]
    },
    {
     "name": "stderr",
     "output_type": "stream",
     "text": [
      "labels: [8 7 4 6 2]\n",
      "pred_labels: [8 7 0 3 5]\n",
      "Epoch 17 - avg_train_loss: 1.0304  lr: 5.2663e-04  time: 61s\n",
      "Epoch 17 - Score: 0.6718\n",
      "Epoch 17 - Save Best Score: 0.6718 Model\n"
     ]
    },
    {
     "name": "stdout",
     "output_type": "stream",
     "text": [
      "EVAL: [16/17] Data 0.000 (0.019) Elapsed 0m 4s (remain 0m 0s) \n",
      "Epoch: [18][0/65] Data 0.352 (0.352) Elapsed 0m 0s (remain 1m 2s) Loss: 1.3886(1.3886) Grad Norm: 0.0000  LR: 4.8179e-04  \n",
      "Epoch: [18][64/65] Data 0.000 (0.006) Elapsed 0m 56s (remain 0m 0s) Loss: 1.7111(0.8102) Grad Norm: 5.3051  LR: 4.8179e-04  \n",
      "EVAL: [0/17] Data 0.285 (0.285) Elapsed 0m 0s (remain 0m 8s) \n"
     ]
    },
    {
     "name": "stderr",
     "output_type": "stream",
     "text": [
      "labels: [8 7 4 6 2]\n",
      "pred_labels: [8 7 1 3 5]\n",
      "Epoch 18 - avg_train_loss: 0.8102  lr: 4.8179e-04  time: 61s\n",
      "Epoch 18 - Score: 0.6107\n"
     ]
    },
    {
     "name": "stdout",
     "output_type": "stream",
     "text": [
      "EVAL: [16/17] Data 0.000 (0.017) Elapsed 0m 4s (remain 0m 0s) \n",
      "Epoch: [19][0/65] Data 0.373 (0.373) Elapsed 0m 0s (remain 1m 3s) Loss: 0.0242(0.0242) Grad Norm: 0.0000  LR: 4.3712e-04  \n",
      "Epoch: [19][64/65] Data 0.000 (0.006) Elapsed 0m 56s (remain 0m 0s) Loss: 0.0429(0.6459) Grad Norm: 1.0678  LR: 4.3712e-04  \n",
      "EVAL: [0/17] Data 0.339 (0.339) Elapsed 0m 0s (remain 0m 9s) \n"
     ]
    },
    {
     "name": "stderr",
     "output_type": "stream",
     "text": [
      "labels: [8 7 4 6 2]\n",
      "pred_labels: [8 7 9 3 5]\n",
      "Epoch 19 - avg_train_loss: 0.6459  lr: 4.3712e-04  time: 61s\n",
      "Epoch 19 - Score: 0.6641\n"
     ]
    },
    {
     "name": "stdout",
     "output_type": "stream",
     "text": [
      "EVAL: [16/17] Data 0.000 (0.020) Elapsed 0m 4s (remain 0m 0s) \n",
      "Epoch: [20][0/65] Data 0.352 (0.352) Elapsed 0m 0s (remain 1m 1s) Loss: 1.1452(1.1452) Grad Norm: 0.0000  LR: 3.9299e-04  \n",
      "Epoch: [20][64/65] Data 0.000 (0.006) Elapsed 0m 56s (remain 0m 0s) Loss: 0.6244(0.7374) Grad Norm: 3.2020  LR: 3.9299e-04  \n",
      "EVAL: [0/17] Data 0.276 (0.276) Elapsed 0m 0s (remain 0m 8s) \n"
     ]
    },
    {
     "name": "stderr",
     "output_type": "stream",
     "text": [
      "labels: [8 7 4 6 2]\n",
      "pred_labels: [8 7 9 0 5]\n",
      "Epoch 20 - avg_train_loss: 0.7374  lr: 3.9299e-04  time: 61s\n",
      "Epoch 20 - Score: 0.6336\n"
     ]
    },
    {
     "name": "stdout",
     "output_type": "stream",
     "text": [
      "EVAL: [16/17] Data 0.000 (0.016) Elapsed 0m 4s (remain 0m 0s) \n",
      "Epoch: [21][0/65] Data 0.344 (0.344) Elapsed 0m 0s (remain 1m 1s) Loss: 0.9083(0.9083) Grad Norm: 0.0000  LR: 3.4975e-04  \n",
      "Epoch: [21][64/65] Data 0.000 (0.006) Elapsed 0m 56s (remain 0m 0s) Loss: 0.1136(0.6410) Grad Norm: 3.9355  LR: 3.4975e-04  \n",
      "EVAL: [0/17] Data 0.293 (0.293) Elapsed 0m 0s (remain 0m 8s) \n"
     ]
    },
    {
     "name": "stderr",
     "output_type": "stream",
     "text": [
      "labels: [8 7 4 6 2]\n",
      "pred_labels: [8 7 9 3 5]\n",
      "Epoch 21 - avg_train_loss: 0.6410  lr: 3.4975e-04  time: 61s\n",
      "Epoch 21 - Score: 0.6412\n"
     ]
    },
    {
     "name": "stdout",
     "output_type": "stream",
     "text": [
      "EVAL: [16/17] Data 0.000 (0.017) Elapsed 0m 4s (remain 0m 0s) \n",
      "Epoch: [22][0/65] Data 0.427 (0.427) Elapsed 0m 1s (remain 1m 6s) Loss: 0.4075(0.4075) Grad Norm: 0.0000  LR: 3.0775e-04  \n",
      "Epoch: [22][64/65] Data 0.000 (0.007) Elapsed 0m 56s (remain 0m 0s) Loss: 0.0849(0.7214) Grad Norm: 3.2337  LR: 3.0775e-04  \n",
      "EVAL: [0/17] Data 0.299 (0.299) Elapsed 0m 0s (remain 0m 8s) \n"
     ]
    },
    {
     "name": "stderr",
     "output_type": "stream",
     "text": [
      "labels: [8 7 4 6 2]\n",
      "pred_labels: [8 7 9 3 5]\n",
      "Epoch 22 - avg_train_loss: 0.7214  lr: 3.0775e-04  time: 61s\n",
      "Epoch 22 - Score: 0.6412\n"
     ]
    },
    {
     "name": "stdout",
     "output_type": "stream",
     "text": [
      "EVAL: [16/17] Data 0.000 (0.018) Elapsed 0m 4s (remain 0m 0s) \n",
      "Epoch: [23][0/65] Data 0.404 (0.404) Elapsed 0m 1s (remain 1m 8s) Loss: 0.8434(0.8434) Grad Norm: 0.0000  LR: 2.6732e-04  \n",
      "Epoch: [23][64/65] Data 0.000 (0.006) Elapsed 0m 56s (remain 0m 0s) Loss: 0.1068(0.6766) Grad Norm: 3.2698  LR: 2.6732e-04  \n",
      "EVAL: [0/17] Data 0.261 (0.261) Elapsed 0m 0s (remain 0m 7s) \n"
     ]
    },
    {
     "name": "stderr",
     "output_type": "stream",
     "text": [
      "labels: [8 7 4 6 2]\n",
      "pred_labels: [8 7 9 3 5]\n",
      "Epoch 23 - avg_train_loss: 0.6766  lr: 2.6732e-04  time: 61s\n",
      "Epoch 23 - Score: 0.6565\n"
     ]
    },
    {
     "name": "stdout",
     "output_type": "stream",
     "text": [
      "EVAL: [16/17] Data 0.000 (0.016) Elapsed 0m 4s (remain 0m 0s) \n",
      "Epoch: [24][0/65] Data 0.459 (0.459) Elapsed 0m 1s (remain 1m 8s) Loss: 0.0938(0.0938) Grad Norm: 0.0000  LR: 2.2880e-04  \n",
      "Epoch: [24][64/65] Data 0.000 (0.007) Elapsed 0m 56s (remain 0m 0s) Loss: 0.1194(0.6585) Grad Norm: 4.5839  LR: 2.2880e-04  \n",
      "EVAL: [0/17] Data 0.308 (0.308) Elapsed 0m 0s (remain 0m 8s) \n"
     ]
    },
    {
     "name": "stderr",
     "output_type": "stream",
     "text": [
      "labels: [8 7 4 6 2]\n",
      "pred_labels: [8 7 3 0 5]\n",
      "Epoch 24 - avg_train_loss: 0.6585  lr: 2.2880e-04  time: 61s\n",
      "Epoch 24 - Score: 0.6183\n"
     ]
    },
    {
     "name": "stdout",
     "output_type": "stream",
     "text": [
      "EVAL: [16/17] Data 0.000 (0.018) Elapsed 0m 4s (remain 0m 0s) \n",
      "Epoch: [25][0/65] Data 0.444 (0.444) Elapsed 0m 1s (remain 1m 7s) Loss: 1.4949(1.4949) Grad Norm: 0.0000  LR: 1.9248e-04  \n",
      "Epoch: [25][64/65] Data 0.000 (0.007) Elapsed 0m 56s (remain 0m 0s) Loss: 0.9714(0.6649) Grad Norm: 1.6468  LR: 1.9248e-04  \n",
      "EVAL: [0/17] Data 0.289 (0.289) Elapsed 0m 0s (remain 0m 8s) \n"
     ]
    },
    {
     "name": "stderr",
     "output_type": "stream",
     "text": [
      "labels: [8 7 4 6 2]\n",
      "pred_labels: [8 7 3 0 5]\n",
      "Epoch 25 - avg_train_loss: 0.6649  lr: 1.9248e-04  time: 61s\n",
      "Epoch 25 - Score: 0.6412\n"
     ]
    },
    {
     "name": "stdout",
     "output_type": "stream",
     "text": [
      "EVAL: [16/17] Data 0.000 (0.017) Elapsed 0m 4s (remain 0m 0s) \n",
      "Epoch: [26][0/65] Data 0.370 (0.370) Elapsed 0m 1s (remain 1m 7s) Loss: 0.9668(0.9668) Grad Norm: 0.0000  LR: 1.5867e-04  \n",
      "Epoch: [26][64/65] Data 0.000 (0.006) Elapsed 0m 56s (remain 0m 0s) Loss: 1.0215(0.5954) Grad Norm: 2.6683  LR: 1.5867e-04  \n",
      "EVAL: [0/17] Data 0.309 (0.309) Elapsed 0m 0s (remain 0m 8s) \n"
     ]
    },
    {
     "name": "stderr",
     "output_type": "stream",
     "text": [
      "labels: [8 7 4 6 2]\n",
      "pred_labels: [8 7 3 0 5]\n",
      "Epoch 26 - avg_train_loss: 0.5954  lr: 1.5867e-04  time: 61s\n",
      "Epoch 26 - Score: 0.6336\n"
     ]
    },
    {
     "name": "stdout",
     "output_type": "stream",
     "text": [
      "EVAL: [16/17] Data 0.000 (0.018) Elapsed 0m 4s (remain 0m 0s) \n",
      "Epoch: [27][0/65] Data 0.388 (0.388) Elapsed 0m 0s (remain 1m 3s) Loss: 0.0902(0.0902) Grad Norm: 0.0000  LR: 1.2762e-04  \n",
      "Epoch: [27][64/65] Data 0.000 (0.006) Elapsed 0m 56s (remain 0m 0s) Loss: 0.0409(0.5987) Grad Norm: 4.1734  LR: 1.2762e-04  \n",
      "EVAL: [0/17] Data 0.270 (0.270) Elapsed 0m 0s (remain 0m 8s) \n"
     ]
    },
    {
     "name": "stderr",
     "output_type": "stream",
     "text": [
      "labels: [8 7 4 6 2]\n",
      "pred_labels: [8 7 3 0 5]\n",
      "Epoch 27 - avg_train_loss: 0.5987  lr: 1.2762e-04  time: 61s\n",
      "Epoch 27 - Score: 0.6183\n"
     ]
    },
    {
     "name": "stdout",
     "output_type": "stream",
     "text": [
      "EVAL: [16/17] Data 0.000 (0.016) Elapsed 0m 4s (remain 0m 0s) \n",
      "Epoch: [28][0/65] Data 0.360 (0.360) Elapsed 0m 0s (remain 1m 2s) Loss: 1.0047(1.0047) Grad Norm: 0.0000  LR: 9.9584e-05  \n",
      "Epoch: [28][64/65] Data 0.000 (0.006) Elapsed 0m 56s (remain 0m 0s) Loss: 0.9788(0.6298) Grad Norm: 4.2456  LR: 9.9584e-05  \n",
      "EVAL: [0/17] Data 0.310 (0.310) Elapsed 0m 0s (remain 0m 8s) \n"
     ]
    },
    {
     "name": "stderr",
     "output_type": "stream",
     "text": [
      "labels: [8 7 4 6 2]\n",
      "pred_labels: [8 7 3 0 5]\n",
      "Epoch 28 - avg_train_loss: 0.6298  lr: 9.9584e-05  time: 61s\n",
      "Epoch 28 - Score: 0.6412\n"
     ]
    },
    {
     "name": "stdout",
     "output_type": "stream",
     "text": [
      "EVAL: [16/17] Data 0.000 (0.018) Elapsed 0m 4s (remain 0m 0s) \n",
      "Epoch: [29][0/65] Data 0.372 (0.372) Elapsed 0m 1s (remain 1m 6s) Loss: 0.0632(0.0632) Grad Norm: 0.0000  LR: 7.4783e-05  \n",
      "Epoch: [29][64/65] Data 0.000 (0.006) Elapsed 0m 56s (remain 0m 0s) Loss: 0.0374(0.7090) Grad Norm: 0.7604  LR: 7.4783e-05  \n",
      "EVAL: [0/17] Data 0.263 (0.263) Elapsed 0m 0s (remain 0m 8s) \n"
     ]
    },
    {
     "name": "stderr",
     "output_type": "stream",
     "text": [
      "labels: [8 7 4 6 2]\n",
      "pred_labels: [8 7 9 0 5]\n",
      "Epoch 29 - avg_train_loss: 0.7090  lr: 7.4783e-05  time: 61s\n",
      "Epoch 29 - Score: 0.6336\n"
     ]
    },
    {
     "name": "stdout",
     "output_type": "stream",
     "text": [
      "EVAL: [16/17] Data 0.000 (0.016) Elapsed 0m 4s (remain 0m 0s) \n",
      "Epoch: [30][0/65] Data 0.490 (0.490) Elapsed 0m 1s (remain 1m 10s) Loss: 0.2009(0.2009) Grad Norm: 0.0000  LR: 5.3404e-05  \n",
      "Epoch: [30][64/65] Data 0.000 (0.008) Elapsed 0m 56s (remain 0m 0s) Loss: 1.2593(0.6422) Grad Norm: 3.7344  LR: 5.3404e-05  \n",
      "EVAL: [0/17] Data 0.298 (0.298) Elapsed 0m 0s (remain 0m 8s) \n"
     ]
    },
    {
     "name": "stderr",
     "output_type": "stream",
     "text": [
      "labels: [8 7 4 6 2]\n",
      "pred_labels: [8 7 9 0 5]\n",
      "Epoch 30 - avg_train_loss: 0.6422  lr: 5.3404e-05  time: 61s\n",
      "Epoch 30 - Score: 0.6336\n"
     ]
    },
    {
     "name": "stdout",
     "output_type": "stream",
     "text": [
      "EVAL: [16/17] Data 0.000 (0.018) Elapsed 0m 4s (remain 0m 0s) \n",
      "Epoch: [31][0/65] Data 0.444 (0.444) Elapsed 0m 1s (remain 1m 7s) Loss: 0.0361(0.0361) Grad Norm: 0.0000  LR: 3.5607e-05  \n",
      "Epoch: [31][64/65] Data 0.000 (0.007) Elapsed 0m 56s (remain 0m 0s) Loss: 0.0475(0.0559) Grad Norm: 0.2664  LR: 3.5607e-05  \n",
      "EVAL: [0/17] Data 0.321 (0.321) Elapsed 0m 0s (remain 0m 8s) \n"
     ]
    },
    {
     "name": "stderr",
     "output_type": "stream",
     "text": [
      "labels: [8 7 4 6 2]\n",
      "pred_labels: [8 7 3 0 5]\n",
      "Epoch 31 - avg_train_loss: 0.0559  lr: 3.5607e-05  time: 61s\n",
      "Epoch 31 - Score: 0.6260\n"
     ]
    },
    {
     "name": "stdout",
     "output_type": "stream",
     "text": [
      "EVAL: [16/17] Data 0.000 (0.019) Elapsed 0m 4s (remain 0m 0s) \n",
      "Epoch: [32][0/65] Data 0.382 (0.382) Elapsed 0m 1s (remain 1m 5s) Loss: 0.0148(0.0148) Grad Norm: 0.0000  LR: 2.1508e-05  \n",
      "Epoch: [32][64/65] Data 0.000 (0.006) Elapsed 0m 56s (remain 0m 0s) Loss: 0.0440(0.0527) Grad Norm: 0.3607  LR: 2.1508e-05  \n",
      "EVAL: [0/17] Data 0.303 (0.303) Elapsed 0m 0s (remain 0m 8s) \n"
     ]
    },
    {
     "name": "stderr",
     "output_type": "stream",
     "text": [
      "labels: [8 7 4 6 2]\n",
      "pred_labels: [8 7 2 0 5]\n",
      "Epoch 32 - avg_train_loss: 0.0527  lr: 2.1508e-05  time: 61s\n",
      "Epoch 32 - Score: 0.6183\n"
     ]
    },
    {
     "name": "stdout",
     "output_type": "stream",
     "text": [
      "EVAL: [16/17] Data 0.000 (0.018) Elapsed 0m 4s (remain 0m 0s) \n",
      "Epoch: [33][0/65] Data 0.480 (0.480) Elapsed 0m 1s (remain 1m 9s) Loss: 0.0300(0.0300) Grad Norm: 0.0000  LR: 1.1173e-05  \n",
      "Epoch: [33][64/65] Data 0.000 (0.008) Elapsed 0m 56s (remain 0m 0s) Loss: 0.0530(0.0424) Grad Norm: 2.3440  LR: 1.1173e-05  \n",
      "EVAL: [0/17] Data 0.318 (0.318) Elapsed 0m 0s (remain 0m 8s) \n"
     ]
    },
    {
     "name": "stderr",
     "output_type": "stream",
     "text": [
      "labels: [8 7 4 6 2]\n",
      "pred_labels: [8 7 3 0 5]\n",
      "Epoch 33 - avg_train_loss: 0.0424  lr: 1.1173e-05  time: 61s\n",
      "Epoch 33 - Score: 0.6260\n"
     ]
    },
    {
     "name": "stdout",
     "output_type": "stream",
     "text": [
      "EVAL: [16/17] Data 0.000 (0.019) Elapsed 0m 4s (remain 0m 0s) \n",
      "Epoch: [34][0/65] Data 0.442 (0.442) Elapsed 0m 1s (remain 1m 9s) Loss: 0.0658(0.0658) Grad Norm: 0.0000  LR: 4.5796e-06  \n",
      "Epoch: [34][64/65] Data 0.000 (0.007) Elapsed 0m 56s (remain 0m 0s) Loss: 0.0095(0.0439) Grad Norm: 3.0085  LR: 4.5796e-06  \n",
      "EVAL: [0/17] Data 0.296 (0.296) Elapsed 0m 0s (remain 0m 8s) \n"
     ]
    },
    {
     "name": "stderr",
     "output_type": "stream",
     "text": [
      "labels: [8 7 4 6 2]\n",
      "pred_labels: [8 7 3 0 5]\n",
      "Epoch 34 - avg_train_loss: 0.0439  lr: 4.5796e-06  time: 61s\n",
      "Epoch 34 - Score: 0.6412\n"
     ]
    },
    {
     "name": "stdout",
     "output_type": "stream",
     "text": [
      "EVAL: [16/17] Data 0.000 (0.018) Elapsed 0m 4s (remain 0m 0s) \n",
      "Epoch: [35][0/65] Data 0.377 (0.377) Elapsed 0m 0s (remain 1m 3s) Loss: 0.0122(0.0122) Grad Norm: 0.0000  LR: 1.5037e-06  \n",
      "Epoch: [35][64/65] Data 0.000 (0.006) Elapsed 0m 56s (remain 0m 0s) Loss: 0.0111(0.0388) Grad Norm: 0.5959  LR: 1.5037e-06  \n",
      "EVAL: [0/17] Data 0.274 (0.274) Elapsed 0m 0s (remain 0m 8s) \n"
     ]
    },
    {
     "name": "stderr",
     "output_type": "stream",
     "text": [
      "labels: [8 7 4 6 2]\n",
      "pred_labels: [8 7 9 0 5]\n",
      "Epoch 35 - avg_train_loss: 0.0388  lr: 1.5037e-06  time: 61s\n",
      "Epoch 35 - Score: 0.6412\n",
      "==================== fold: 3, seed: 1 training ====================\n"
     ]
    },
    {
     "name": "stdout",
     "output_type": "stream",
     "text": [
      "EVAL: [16/17] Data 0.000 (0.016) Elapsed 0m 4s (remain 0m 0s) \n",
      "Epoch: [1][0/65] Data 0.495 (0.495) Elapsed 0m 1s (remain 1m 10s) Loss: 2.6826(2.6826) Grad Norm: 0.0000  LR: 1.0000e-03  \n",
      "Epoch: [1][64/65] Data 0.000 (0.008) Elapsed 0m 57s (remain 0m 0s) Loss: 2.4291(2.5870) Grad Norm: 6.7211  LR: 1.0000e-03  \n",
      "EVAL: [0/17] Data 0.349 (0.349) Elapsed 0m 0s (remain 0m 9s) \n"
     ]
    },
    {
     "name": "stderr",
     "output_type": "stream",
     "text": [
      "labels: [ 5  2  0  6 11]\n",
      "pred_labels: [6 3 2 2 1]\n",
      "Epoch 1 - avg_train_loss: 2.5870  lr: 1.0000e-03  time: 62s\n",
      "Epoch 1 - Score: 0.1679\n",
      "Epoch 1 - Save Best Score: 0.1679 Model\n"
     ]
    },
    {
     "name": "stdout",
     "output_type": "stream",
     "text": [
      "EVAL: [16/17] Data 0.000 (0.021) Elapsed 0m 4s (remain 0m 0s) \n",
      "Epoch: [2][0/65] Data 0.453 (0.453) Elapsed 0m 1s (remain 1m 9s) Loss: 2.4044(2.4044) Grad Norm: 0.0000  LR: 9.9598e-04  \n",
      "Epoch: [2][64/65] Data 0.000 (0.007) Elapsed 0m 57s (remain 0m 0s) Loss: 2.3919(2.3631) Grad Norm: 6.0831  LR: 9.9598e-04  \n",
      "EVAL: [0/17] Data 0.374 (0.374) Elapsed 0m 0s (remain 0m 9s) \n"
     ]
    },
    {
     "name": "stderr",
     "output_type": "stream",
     "text": [
      "labels: [ 5  2  0  6 11]\n",
      "pred_labels: [6 9 2 2 1]\n",
      "Epoch 2 - avg_train_loss: 2.3631  lr: 9.9598e-04  time: 62s\n",
      "Epoch 2 - Score: 0.3359\n",
      "Epoch 2 - Save Best Score: 0.3359 Model\n"
     ]
    },
    {
     "name": "stdout",
     "output_type": "stream",
     "text": [
      "EVAL: [16/17] Data 0.000 (0.022) Elapsed 0m 4s (remain 0m 0s) \n",
      "Epoch: [3][0/65] Data 0.396 (0.396) Elapsed 0m 1s (remain 1m 9s) Loss: 2.3488(2.3488) Grad Norm: 0.0000  LR: 9.8599e-04  \n",
      "Epoch: [3][64/65] Data 0.000 (0.006) Elapsed 0m 57s (remain 0m 0s) Loss: 1.8627(2.1857) Grad Norm: 7.1331  LR: 9.8599e-04  \n",
      "EVAL: [0/17] Data 0.391 (0.391) Elapsed 0m 0s (remain 0m 10s) \n"
     ]
    },
    {
     "name": "stderr",
     "output_type": "stream",
     "text": [
      "labels: [ 5  2  0  6 11]\n",
      "pred_labels: [6 5 2 2 9]\n",
      "Epoch 3 - avg_train_loss: 2.1857  lr: 9.8599e-04  time: 62s\n",
      "Epoch 3 - Score: 0.3282\n"
     ]
    },
    {
     "name": "stdout",
     "output_type": "stream",
     "text": [
      "EVAL: [16/17] Data 0.000 (0.023) Elapsed 0m 4s (remain 0m 0s) \n",
      "Epoch: [4][0/65] Data 0.553 (0.553) Elapsed 0m 1s (remain 1m 15s) Loss: 2.2129(2.2129) Grad Norm: 0.0000  LR: 9.7213e-04  \n",
      "Epoch: [4][64/65] Data 0.000 (0.009) Elapsed 0m 57s (remain 0m 0s) Loss: 2.2416(1.9939) Grad Norm: 7.4413  LR: 9.7213e-04  \n",
      "EVAL: [0/17] Data 0.344 (0.344) Elapsed 0m 0s (remain 0m 9s) \n"
     ]
    },
    {
     "name": "stderr",
     "output_type": "stream",
     "text": [
      "labels: [ 5  2  0  6 11]\n",
      "pred_labels: [5 5 2 2 8]\n",
      "Epoch 4 - avg_train_loss: 1.9939  lr: 9.7213e-04  time: 62s\n",
      "Epoch 4 - Score: 0.4504\n",
      "Epoch 4 - Save Best Score: 0.4504 Model\n"
     ]
    },
    {
     "name": "stdout",
     "output_type": "stream",
     "text": [
      "EVAL: [16/17] Data 0.000 (0.020) Elapsed 0m 4s (remain 0m 0s) \n",
      "Epoch: [5][0/65] Data 0.562 (0.562) Elapsed 0m 1s (remain 1m 15s) Loss: 1.5633(1.5633) Grad Norm: 0.0000  LR: 9.5449e-04  \n",
      "Epoch: [5][64/65] Data 0.000 (0.009) Elapsed 0m 57s (remain 0m 0s) Loss: 1.3501(1.7550) Grad Norm: 7.5983  LR: 9.5449e-04  \n",
      "EVAL: [0/17] Data 0.331 (0.331) Elapsed 0m 0s (remain 0m 9s) \n"
     ]
    },
    {
     "name": "stderr",
     "output_type": "stream",
     "text": [
      "labels: [ 5  2  0  6 11]\n",
      "pred_labels: [ 5  5  0  6 10]\n",
      "Epoch 5 - avg_train_loss: 1.7550  lr: 9.5449e-04  time: 62s\n",
      "Epoch 5 - Score: 0.5267\n",
      "Epoch 5 - Save Best Score: 0.5267 Model\n"
     ]
    },
    {
     "name": "stdout",
     "output_type": "stream",
     "text": [
      "EVAL: [16/17] Data 0.000 (0.020) Elapsed 0m 4s (remain 0m 0s) \n",
      "Epoch: [6][0/65] Data 0.428 (0.428) Elapsed 0m 1s (remain 1m 8s) Loss: 0.9387(0.9387) Grad Norm: 0.0000  LR: 9.3324e-04  \n",
      "Epoch: [6][64/65] Data 0.000 (0.007) Elapsed 0m 57s (remain 0m 0s) Loss: 2.2710(1.5323) Grad Norm: 8.1319  LR: 9.3324e-04  \n",
      "EVAL: [0/17] Data 0.361 (0.361) Elapsed 0m 0s (remain 0m 9s) \n"
     ]
    },
    {
     "name": "stderr",
     "output_type": "stream",
     "text": [
      "labels: [ 5  2  0  6 11]\n",
      "pred_labels: [ 3  5  2  2 11]\n",
      "Epoch 6 - avg_train_loss: 1.5323  lr: 9.3324e-04  time: 62s\n",
      "Epoch 6 - Score: 0.5420\n",
      "Epoch 6 - Save Best Score: 0.5420 Model\n"
     ]
    },
    {
     "name": "stdout",
     "output_type": "stream",
     "text": [
      "EVAL: [16/17] Data 0.000 (0.021) Elapsed 0m 4s (remain 0m 0s) \n",
      "Epoch: [7][0/65] Data 0.499 (0.499) Elapsed 0m 1s (remain 1m 12s) Loss: 0.7433(0.7433) Grad Norm: 0.0000  LR: 9.0853e-04  \n",
      "Epoch: [7][64/65] Data 0.000 (0.008) Elapsed 0m 57s (remain 0m 0s) Loss: 1.6115(1.4672) Grad Norm: 6.6113  LR: 9.0853e-04  \n",
      "EVAL: [0/17] Data 0.310 (0.310) Elapsed 0m 0s (remain 0m 8s) \n"
     ]
    },
    {
     "name": "stderr",
     "output_type": "stream",
     "text": [
      "labels: [ 5  2  0  6 11]\n",
      "pred_labels: [ 5  5  7  0 10]\n",
      "Epoch 7 - avg_train_loss: 1.4672  lr: 9.0853e-04  time: 62s\n",
      "Epoch 7 - Score: 0.5344\n"
     ]
    },
    {
     "name": "stdout",
     "output_type": "stream",
     "text": [
      "EVAL: [16/17] Data 0.000 (0.018) Elapsed 0m 4s (remain 0m 0s) \n",
      "Epoch: [8][0/65] Data 0.438 (0.438) Elapsed 0m 1s (remain 1m 6s) Loss: 2.1168(2.1168) Grad Norm: 0.0000  LR: 8.8057e-04  \n",
      "Epoch: [8][64/65] Data 0.000 (0.007) Elapsed 0m 57s (remain 0m 0s) Loss: 0.7831(1.2708) Grad Norm: 6.2410  LR: 8.8057e-04  \n",
      "EVAL: [0/17] Data 0.313 (0.313) Elapsed 0m 0s (remain 0m 8s) \n"
     ]
    },
    {
     "name": "stderr",
     "output_type": "stream",
     "text": [
      "labels: [ 5  2  0  6 11]\n",
      "pred_labels: [ 5  5  6  2 11]\n",
      "Epoch 8 - avg_train_loss: 1.2708  lr: 8.8057e-04  time: 62s\n",
      "Epoch 8 - Score: 0.5725\n",
      "Epoch 8 - Save Best Score: 0.5725 Model\n"
     ]
    },
    {
     "name": "stdout",
     "output_type": "stream",
     "text": [
      "EVAL: [16/17] Data 0.000 (0.019) Elapsed 0m 4s (remain 0m 0s) \n",
      "Epoch: [9][0/65] Data 0.531 (0.531) Elapsed 0m 1s (remain 1m 13s) Loss: 0.3618(0.3618) Grad Norm: 0.0000  LR: 8.4958e-04  \n",
      "Epoch: [9][64/65] Data 0.000 (0.008) Elapsed 0m 57s (remain 0m 0s) Loss: 0.9871(1.3465) Grad Norm: 5.4131  LR: 8.4958e-04  \n",
      "EVAL: [0/17] Data 0.400 (0.400) Elapsed 0m 0s (remain 0m 10s) \n"
     ]
    },
    {
     "name": "stderr",
     "output_type": "stream",
     "text": [
      "labels: [ 5  2  0  6 11]\n",
      "pred_labels: [ 5  5  0  2 10]\n",
      "Epoch 9 - avg_train_loss: 1.3465  lr: 8.4958e-04  time: 62s\n",
      "Epoch 9 - Score: 0.5878\n",
      "Epoch 9 - Save Best Score: 0.5878 Model\n"
     ]
    },
    {
     "name": "stdout",
     "output_type": "stream",
     "text": [
      "EVAL: [16/17] Data 0.000 (0.024) Elapsed 0m 4s (remain 0m 0s) \n",
      "Epoch: [10][0/65] Data 0.473 (0.473) Elapsed 0m 1s (remain 1m 10s) Loss: 0.3553(0.3553) Grad Norm: 0.0000  LR: 8.1581e-04  \n",
      "Epoch: [10][64/65] Data 0.000 (0.007) Elapsed 0m 57s (remain 0m 0s) Loss: 1.9401(1.0807) Grad Norm: 6.7184  LR: 8.1581e-04  \n",
      "EVAL: [0/17] Data 0.324 (0.324) Elapsed 0m 0s (remain 0m 8s) \n"
     ]
    },
    {
     "name": "stderr",
     "output_type": "stream",
     "text": [
      "labels: [ 5  2  0  6 11]\n",
      "pred_labels: [11  5  0  6 11]\n",
      "Epoch 10 - avg_train_loss: 1.0807  lr: 8.1581e-04  time: 62s\n",
      "Epoch 10 - Score: 0.5344\n"
     ]
    },
    {
     "name": "stdout",
     "output_type": "stream",
     "text": [
      "EVAL: [16/17] Data 0.000 (0.019) Elapsed 0m 4s (remain 0m 0s) \n",
      "Epoch: [11][0/65] Data 0.407 (0.407) Elapsed 0m 1s (remain 1m 5s) Loss: 1.7905(1.7905) Grad Norm: 0.0000  LR: 7.7953e-04  \n",
      "Epoch: [11][64/65] Data 0.000 (0.006) Elapsed 0m 57s (remain 0m 0s) Loss: 1.9606(1.0157) Grad Norm: 6.4410  LR: 7.7953e-04  \n",
      "EVAL: [0/17] Data 0.340 (0.340) Elapsed 0m 0s (remain 0m 9s) \n"
     ]
    },
    {
     "name": "stderr",
     "output_type": "stream",
     "text": [
      "labels: [ 5  2  0  6 11]\n",
      "pred_labels: [ 5  5  0  2 10]\n",
      "Epoch 11 - avg_train_loss: 1.0157  lr: 7.7953e-04  time: 62s\n",
      "Epoch 11 - Score: 0.5802\n"
     ]
    },
    {
     "name": "stdout",
     "output_type": "stream",
     "text": [
      "EVAL: [16/17] Data 0.000 (0.020) Elapsed 0m 4s (remain 0m 0s) \n",
      "Epoch: [12][0/65] Data 0.460 (0.460) Elapsed 0m 1s (remain 1m 8s) Loss: 1.2360(1.2360) Grad Norm: 0.0000  LR: 7.4103e-04  \n",
      "Epoch: [12][64/65] Data 0.000 (0.007) Elapsed 0m 57s (remain 0m 0s) Loss: 1.4379(1.0362) Grad Norm: 4.5443  LR: 7.4103e-04  \n",
      "EVAL: [0/17] Data 0.337 (0.337) Elapsed 0m 0s (remain 0m 9s) \n"
     ]
    },
    {
     "name": "stderr",
     "output_type": "stream",
     "text": [
      "labels: [ 5  2  0  6 11]\n",
      "pred_labels: [ 5 10  0  9 10]\n",
      "Epoch 12 - avg_train_loss: 1.0362  lr: 7.4103e-04  time: 62s\n",
      "Epoch 12 - Score: 0.5573\n"
     ]
    },
    {
     "name": "stdout",
     "output_type": "stream",
     "text": [
      "EVAL: [16/17] Data 0.000 (0.020) Elapsed 0m 4s (remain 0m 0s) \n",
      "Epoch: [13][0/65] Data 0.439 (0.439) Elapsed 0m 1s (remain 1m 7s) Loss: 1.7844(1.7844) Grad Norm: 0.0000  LR: 7.0063e-04  \n",
      "Epoch: [13][64/65] Data 0.000 (0.007) Elapsed 0m 57s (remain 0m 0s) Loss: 0.2132(0.9448) Grad Norm: 5.2336  LR: 7.0063e-04  \n",
      "EVAL: [0/17] Data 0.341 (0.341) Elapsed 0m 0s (remain 0m 9s) \n"
     ]
    },
    {
     "name": "stderr",
     "output_type": "stream",
     "text": [
      "labels: [ 5  2  0  6 11]\n",
      "pred_labels: [ 5  5  0  0 10]\n",
      "Epoch 13 - avg_train_loss: 0.9448  lr: 7.0063e-04  time: 62s\n",
      "Epoch 13 - Score: 0.6031\n",
      "Epoch 13 - Save Best Score: 0.6031 Model\n"
     ]
    },
    {
     "name": "stdout",
     "output_type": "stream",
     "text": [
      "EVAL: [16/17] Data 0.000 (0.020) Elapsed 0m 4s (remain 0m 0s) \n",
      "Epoch: [14][0/65] Data 0.424 (0.424) Elapsed 0m 1s (remain 1m 7s) Loss: 0.1731(0.1731) Grad Norm: 0.0000  LR: 6.5865e-04  \n",
      "Epoch: [14][64/65] Data 0.000 (0.007) Elapsed 0m 56s (remain 0m 0s) Loss: 0.2739(0.8840) Grad Norm: 5.7538  LR: 6.5865e-04  \n",
      "EVAL: [0/17] Data 0.364 (0.364) Elapsed 0m 0s (remain 0m 9s) \n"
     ]
    },
    {
     "name": "stderr",
     "output_type": "stream",
     "text": [
      "labels: [ 5  2  0  6 11]\n",
      "pred_labels: [ 4  5  0  6 11]\n",
      "Epoch 14 - avg_train_loss: 0.8840  lr: 6.5865e-04  time: 62s\n",
      "Epoch 14 - Score: 0.6031\n"
     ]
    },
    {
     "name": "stdout",
     "output_type": "stream",
     "text": [
      "EVAL: [16/17] Data 0.000 (0.022) Elapsed 0m 4s (remain 0m 0s) \n",
      "Epoch: [15][0/65] Data 0.454 (0.454) Elapsed 0m 1s (remain 1m 8s) Loss: 0.7240(0.7240) Grad Norm: 0.0000  LR: 6.1542e-04  \n",
      "Epoch: [15][64/65] Data 0.000 (0.007) Elapsed 0m 57s (remain 0m 0s) Loss: 0.0845(0.8224) Grad Norm: 4.7738  LR: 6.1542e-04  \n",
      "EVAL: [0/17] Data 0.306 (0.306) Elapsed 0m 0s (remain 0m 8s) \n"
     ]
    },
    {
     "name": "stderr",
     "output_type": "stream",
     "text": [
      "labels: [ 5  2  0  6 11]\n",
      "pred_labels: [5 5 0 6 8]\n",
      "Epoch 15 - avg_train_loss: 0.8224  lr: 6.1542e-04  time: 61s\n",
      "Epoch 15 - Score: 0.5344\n"
     ]
    },
    {
     "name": "stdout",
     "output_type": "stream",
     "text": [
      "EVAL: [16/17] Data 0.000 (0.018) Elapsed 0m 4s (remain 0m 0s) \n",
      "Epoch: [16][0/65] Data 0.509 (0.509) Elapsed 0m 1s (remain 1m 11s) Loss: 1.7637(1.7637) Grad Norm: 0.0000  LR: 5.7130e-04  \n",
      "Epoch: [16][64/65] Data 0.000 (0.008) Elapsed 0m 57s (remain 0m 0s) Loss: 0.1469(0.9404) Grad Norm: 6.5086  LR: 5.7130e-04  \n",
      "EVAL: [0/17] Data 0.330 (0.330) Elapsed 0m 0s (remain 0m 9s) \n"
     ]
    },
    {
     "name": "stderr",
     "output_type": "stream",
     "text": [
      "labels: [ 5  2  0  6 11]\n",
      "pred_labels: [ 5  5  2  2 10]\n",
      "Epoch 16 - avg_train_loss: 0.9404  lr: 5.7130e-04  time: 62s\n",
      "Epoch 16 - Score: 0.5496\n"
     ]
    },
    {
     "name": "stdout",
     "output_type": "stream",
     "text": [
      "EVAL: [16/17] Data 0.000 (0.020) Elapsed 0m 4s (remain 0m 0s) \n",
      "Epoch: [17][0/65] Data 0.450 (0.450) Elapsed 0m 1s (remain 1m 8s) Loss: 0.4624(0.4624) Grad Norm: 0.0000  LR: 5.2663e-04  \n",
      "Epoch: [17][64/65] Data 0.000 (0.007) Elapsed 0m 56s (remain 0m 0s) Loss: 0.1766(0.8715) Grad Norm: 3.0727  LR: 5.2663e-04  \n",
      "EVAL: [0/17] Data 0.276 (0.276) Elapsed 0m 0s (remain 0m 8s) \n"
     ]
    },
    {
     "name": "stderr",
     "output_type": "stream",
     "text": [
      "labels: [ 5  2  0  6 11]\n",
      "pred_labels: [5 5 0 0 6]\n",
      "Epoch 17 - avg_train_loss: 0.8715  lr: 5.2663e-04  time: 61s\n",
      "Epoch 17 - Score: 0.5878\n"
     ]
    },
    {
     "name": "stdout",
     "output_type": "stream",
     "text": [
      "EVAL: [16/17] Data 0.000 (0.016) Elapsed 0m 4s (remain 0m 0s) \n",
      "Epoch: [18][0/65] Data 0.478 (0.478) Elapsed 0m 1s (remain 1m 9s) Loss: 1.2460(1.2460) Grad Norm: 0.0000  LR: 4.8179e-04  \n",
      "Epoch: [18][64/65] Data 0.000 (0.008) Elapsed 0m 56s (remain 0m 0s) Loss: 1.5361(0.6377) Grad Norm: 4.6573  LR: 4.8179e-04  \n",
      "EVAL: [0/17] Data 0.283 (0.283) Elapsed 0m 0s (remain 0m 8s) \n"
     ]
    },
    {
     "name": "stderr",
     "output_type": "stream",
     "text": [
      "labels: [ 5  2  0  6 11]\n",
      "pred_labels: [ 5  5  0  5 11]\n",
      "Epoch 18 - avg_train_loss: 0.6377  lr: 4.8179e-04  time: 61s\n",
      "Epoch 18 - Score: 0.5573\n"
     ]
    },
    {
     "name": "stdout",
     "output_type": "stream",
     "text": [
      "EVAL: [16/17] Data 0.000 (0.017) Elapsed 0m 4s (remain 0m 0s) \n",
      "Epoch: [19][0/65] Data 0.434 (0.434) Elapsed 0m 1s (remain 1m 6s) Loss: 1.3652(1.3652) Grad Norm: 0.0000  LR: 4.3712e-04  \n",
      "Epoch: [19][64/65] Data 0.000 (0.007) Elapsed 0m 56s (remain 0m 0s) Loss: 2.1689(0.8012) Grad Norm: 4.4302  LR: 4.3712e-04  \n",
      "EVAL: [0/17] Data 0.317 (0.317) Elapsed 0m 0s (remain 0m 8s) \n"
     ]
    },
    {
     "name": "stderr",
     "output_type": "stream",
     "text": [
      "labels: [ 5  2  0  6 11]\n",
      "pred_labels: [ 5  5  1  2 10]\n",
      "Epoch 19 - avg_train_loss: 0.8012  lr: 4.3712e-04  time: 61s\n",
      "Epoch 19 - Score: 0.5878\n"
     ]
    },
    {
     "name": "stdout",
     "output_type": "stream",
     "text": [
      "EVAL: [16/17] Data 0.000 (0.019) Elapsed 0m 4s (remain 0m 0s) \n",
      "Epoch: [20][0/65] Data 0.432 (0.432) Elapsed 0m 1s (remain 1m 7s) Loss: 1.3310(1.3310) Grad Norm: 0.0000  LR: 3.9299e-04  \n",
      "Epoch: [20][64/65] Data 0.000 (0.007) Elapsed 0m 56s (remain 0m 0s) Loss: 1.4368(0.8253) Grad Norm: 3.9977  LR: 3.9299e-04  \n",
      "EVAL: [0/17] Data 0.353 (0.353) Elapsed 0m 0s (remain 0m 9s) \n"
     ]
    },
    {
     "name": "stderr",
     "output_type": "stream",
     "text": [
      "labels: [ 5  2  0  6 11]\n",
      "pred_labels: [11  5  0  2  8]\n",
      "Epoch 20 - avg_train_loss: 0.8253  lr: 3.9299e-04  time: 61s\n",
      "Epoch 20 - Score: 0.6031\n"
     ]
    },
    {
     "name": "stdout",
     "output_type": "stream",
     "text": [
      "EVAL: [16/17] Data 0.000 (0.021) Elapsed 0m 4s (remain 0m 0s) \n",
      "Epoch: [21][0/65] Data 0.426 (0.426) Elapsed 0m 1s (remain 1m 6s) Loss: 0.0856(0.0856) Grad Norm: 0.0000  LR: 3.4975e-04  \n",
      "Epoch: [21][64/65] Data 0.000 (0.007) Elapsed 0m 56s (remain 0m 0s) Loss: 1.2174(0.8254) Grad Norm: 4.8445  LR: 3.4975e-04  \n",
      "EVAL: [0/17] Data 0.306 (0.306) Elapsed 0m 0s (remain 0m 8s) \n"
     ]
    },
    {
     "name": "stderr",
     "output_type": "stream",
     "text": [
      "labels: [ 5  2  0  6 11]\n",
      "pred_labels: [5 5 0 5 8]\n",
      "Epoch 21 - avg_train_loss: 0.8254  lr: 3.4975e-04  time: 61s\n",
      "Epoch 21 - Score: 0.6565\n",
      "Epoch 21 - Save Best Score: 0.6565 Model\n"
     ]
    },
    {
     "name": "stdout",
     "output_type": "stream",
     "text": [
      "EVAL: [16/17] Data 0.000 (0.018) Elapsed 0m 4s (remain 0m 0s) \n",
      "Epoch: [22][0/65] Data 0.410 (0.410) Elapsed 0m 1s (remain 1m 6s) Loss: 1.1231(1.1231) Grad Norm: 0.0000  LR: 3.0775e-04  \n",
      "Epoch: [22][64/65] Data 0.000 (0.006) Elapsed 0m 56s (remain 0m 0s) Loss: 1.7213(0.7891) Grad Norm: 5.6546  LR: 3.0775e-04  \n",
      "EVAL: [0/17] Data 0.258 (0.258) Elapsed 0m 0s (remain 0m 7s) \n"
     ]
    },
    {
     "name": "stderr",
     "output_type": "stream",
     "text": [
      "labels: [ 5  2  0  6 11]\n",
      "pred_labels: [5 5 0 2 8]\n",
      "Epoch 22 - avg_train_loss: 0.7891  lr: 3.0775e-04  time: 61s\n",
      "Epoch 22 - Score: 0.5802\n"
     ]
    },
    {
     "name": "stdout",
     "output_type": "stream",
     "text": [
      "EVAL: [16/17] Data 0.000 (0.015) Elapsed 0m 4s (remain 0m 0s) \n",
      "Epoch: [23][0/65] Data 0.362 (0.362) Elapsed 0m 1s (remain 1m 5s) Loss: 1.2263(1.2263) Grad Norm: 0.0000  LR: 2.6732e-04  \n",
      "Epoch: [23][64/65] Data 0.000 (0.006) Elapsed 0m 56s (remain 0m 0s) Loss: 1.1684(0.8106) Grad Norm: 4.9868  LR: 2.6732e-04  \n",
      "EVAL: [0/17] Data 0.322 (0.322) Elapsed 0m 0s (remain 0m 8s) \n"
     ]
    },
    {
     "name": "stderr",
     "output_type": "stream",
     "text": [
      "labels: [ 5  2  0  6 11]\n",
      "pred_labels: [5 5 0 2 8]\n",
      "Epoch 23 - avg_train_loss: 0.8106  lr: 2.6732e-04  time: 61s\n",
      "Epoch 23 - Score: 0.6260\n"
     ]
    },
    {
     "name": "stdout",
     "output_type": "stream",
     "text": [
      "EVAL: [16/17] Data 0.000 (0.019) Elapsed 0m 4s (remain 0m 0s) \n",
      "Epoch: [24][0/65] Data 0.398 (0.398) Elapsed 0m 1s (remain 1m 4s) Loss: 0.0504(0.0504) Grad Norm: 0.0000  LR: 2.2880e-04  \n",
      "Epoch: [24][64/65] Data 0.000 (0.006) Elapsed 0m 56s (remain 0m 0s) Loss: 0.1428(0.7948) Grad Norm: 3.7627  LR: 2.2880e-04  \n",
      "EVAL: [0/17] Data 0.266 (0.266) Elapsed 0m 0s (remain 0m 8s) \n"
     ]
    },
    {
     "name": "stderr",
     "output_type": "stream",
     "text": [
      "labels: [ 5  2  0  6 11]\n",
      "pred_labels: [5 5 2 2 8]\n",
      "Epoch 24 - avg_train_loss: 0.7948  lr: 2.2880e-04  time: 61s\n",
      "Epoch 24 - Score: 0.6107\n"
     ]
    },
    {
     "name": "stdout",
     "output_type": "stream",
     "text": [
      "EVAL: [16/17] Data 0.000 (0.016) Elapsed 0m 4s (remain 0m 0s) \n",
      "Epoch: [25][0/65] Data 0.463 (0.463) Elapsed 0m 1s (remain 1m 8s) Loss: 1.0269(1.0269) Grad Norm: 0.0000  LR: 1.9248e-04  \n",
      "Epoch: [25][64/65] Data 0.000 (0.007) Elapsed 0m 56s (remain 0m 0s) Loss: 1.3182(0.7798) Grad Norm: 1.2040  LR: 1.9248e-04  \n",
      "EVAL: [0/17] Data 0.283 (0.283) Elapsed 0m 0s (remain 0m 8s) \n"
     ]
    },
    {
     "name": "stderr",
     "output_type": "stream",
     "text": [
      "labels: [ 5  2  0  6 11]\n",
      "pred_labels: [11  9 11  2  8]\n",
      "Epoch 25 - avg_train_loss: 0.7798  lr: 1.9248e-04  time: 61s\n",
      "Epoch 25 - Score: 0.5954\n"
     ]
    },
    {
     "name": "stdout",
     "output_type": "stream",
     "text": [
      "EVAL: [16/17] Data 0.000 (0.017) Elapsed 0m 4s (remain 0m 0s) \n",
      "Epoch: [26][0/65] Data 0.407 (0.407) Elapsed 0m 1s (remain 1m 4s) Loss: 1.3206(1.3206) Grad Norm: 0.0000  LR: 1.5867e-04  \n",
      "Epoch: [26][64/65] Data 0.000 (0.006) Elapsed 0m 56s (remain 0m 0s) Loss: 1.5895(0.6714) Grad Norm: 1.5046  LR: 1.5867e-04  \n",
      "EVAL: [0/17] Data 0.273 (0.273) Elapsed 0m 0s (remain 0m 8s) \n"
     ]
    },
    {
     "name": "stderr",
     "output_type": "stream",
     "text": [
      "labels: [ 5  2  0  6 11]\n",
      "pred_labels: [11  5  0  2  8]\n",
      "Epoch 26 - avg_train_loss: 0.6714  lr: 1.5867e-04  time: 61s\n",
      "Epoch 26 - Score: 0.6107\n"
     ]
    },
    {
     "name": "stdout",
     "output_type": "stream",
     "text": [
      "EVAL: [16/17] Data 0.000 (0.016) Elapsed 0m 4s (remain 0m 0s) \n",
      "Epoch: [27][0/65] Data 0.456 (0.456) Elapsed 0m 1s (remain 1m 8s) Loss: 0.0252(0.0252) Grad Norm: 0.0000  LR: 1.2762e-04  \n",
      "Epoch: [27][64/65] Data 0.000 (0.007) Elapsed 0m 56s (remain 0m 0s) Loss: 1.3322(0.7079) Grad Norm: 3.0977  LR: 1.2762e-04  \n",
      "EVAL: [0/17] Data 0.302 (0.302) Elapsed 0m 0s (remain 0m 8s) \n"
     ]
    },
    {
     "name": "stderr",
     "output_type": "stream",
     "text": [
      "labels: [ 5  2  0  6 11]\n",
      "pred_labels: [11  9  0  2 11]\n",
      "Epoch 27 - avg_train_loss: 0.7079  lr: 1.2762e-04  time: 61s\n",
      "Epoch 27 - Score: 0.6107\n"
     ]
    },
    {
     "name": "stdout",
     "output_type": "stream",
     "text": [
      "EVAL: [16/17] Data 0.000 (0.018) Elapsed 0m 4s (remain 0m 0s) \n",
      "Epoch: [28][0/65] Data 0.461 (0.461) Elapsed 0m 1s (remain 1m 8s) Loss: 1.0037(1.0037) Grad Norm: 0.0000  LR: 9.9584e-05  \n",
      "Epoch: [28][64/65] Data 0.000 (0.007) Elapsed 0m 56s (remain 0m 0s) Loss: 1.1993(0.5407) Grad Norm: 2.4344  LR: 9.9584e-05  \n",
      "EVAL: [0/17] Data 0.297 (0.297) Elapsed 0m 0s (remain 0m 8s) \n"
     ]
    },
    {
     "name": "stderr",
     "output_type": "stream",
     "text": [
      "labels: [ 5  2  0  6 11]\n",
      "pred_labels: [11  5  0  2  8]\n",
      "Epoch 28 - avg_train_loss: 0.5407  lr: 9.9584e-05  time: 61s\n",
      "Epoch 28 - Score: 0.6107\n"
     ]
    },
    {
     "name": "stdout",
     "output_type": "stream",
     "text": [
      "EVAL: [16/17] Data 0.000 (0.018) Elapsed 0m 4s (remain 0m 0s) \n",
      "Epoch: [29][0/65] Data 0.416 (0.416) Elapsed 0m 1s (remain 1m 5s) Loss: 0.7675(0.7675) Grad Norm: 0.0000  LR: 7.4783e-05  \n",
      "Epoch: [29][64/65] Data 0.000 (0.007) Elapsed 0m 56s (remain 0m 0s) Loss: 0.0400(0.6836) Grad Norm: 2.3265  LR: 7.4783e-05  \n",
      "EVAL: [0/17] Data 0.303 (0.303) Elapsed 0m 0s (remain 0m 8s) \n"
     ]
    },
    {
     "name": "stderr",
     "output_type": "stream",
     "text": [
      "labels: [ 5  2  0  6 11]\n",
      "pred_labels: [11  5  0  2  8]\n",
      "Epoch 29 - avg_train_loss: 0.6836  lr: 7.4783e-05  time: 61s\n",
      "Epoch 29 - Score: 0.6107\n"
     ]
    },
    {
     "name": "stdout",
     "output_type": "stream",
     "text": [
      "EVAL: [16/17] Data 0.000 (0.018) Elapsed 0m 4s (remain 0m 0s) \n",
      "Epoch: [30][0/65] Data 0.413 (0.413) Elapsed 0m 1s (remain 1m 5s) Loss: 0.0734(0.0734) Grad Norm: 0.0000  LR: 5.3404e-05  \n",
      "Epoch: [30][64/65] Data 0.000 (0.007) Elapsed 0m 56s (remain 0m 0s) Loss: 0.5346(0.5222) Grad Norm: 2.4260  LR: 5.3404e-05  \n",
      "EVAL: [0/17] Data 0.255 (0.255) Elapsed 0m 0s (remain 0m 7s) \n"
     ]
    },
    {
     "name": "stderr",
     "output_type": "stream",
     "text": [
      "labels: [ 5  2  0  6 11]\n",
      "pred_labels: [11  5  0  2  8]\n",
      "Epoch 30 - avg_train_loss: 0.5222  lr: 5.3404e-05  time: 61s\n",
      "Epoch 30 - Score: 0.6260\n"
     ]
    },
    {
     "name": "stdout",
     "output_type": "stream",
     "text": [
      "EVAL: [16/17] Data 0.000 (0.015) Elapsed 0m 4s (remain 0m 0s) \n",
      "Epoch: [31][0/65] Data 0.479 (0.479) Elapsed 0m 1s (remain 1m 9s) Loss: 0.0430(0.0430) Grad Norm: 0.0000  LR: 3.5607e-05  \n",
      "Epoch: [31][64/65] Data 0.000 (0.008) Elapsed 0m 56s (remain 0m 0s) Loss: 0.0222(0.0781) Grad Norm: 1.5058  LR: 3.5607e-05  \n",
      "EVAL: [0/17] Data 0.311 (0.311) Elapsed 0m 0s (remain 0m 8s) \n"
     ]
    },
    {
     "name": "stderr",
     "output_type": "stream",
     "text": [
      "labels: [ 5  2  0  6 11]\n",
      "pred_labels: [11  5  0  2  8]\n",
      "Epoch 31 - avg_train_loss: 0.0781  lr: 3.5607e-05  time: 61s\n",
      "Epoch 31 - Score: 0.6489\n"
     ]
    },
    {
     "name": "stdout",
     "output_type": "stream",
     "text": [
      "EVAL: [16/17] Data 0.000 (0.019) Elapsed 0m 4s (remain 0m 0s) \n",
      "Epoch: [32][0/65] Data 0.327 (0.327) Elapsed 0m 0s (remain 0m 59s) Loss: 0.0578(0.0578) Grad Norm: 0.0000  LR: 2.1508e-05  \n",
      "Epoch: [32][64/65] Data 0.000 (0.005) Elapsed 0m 56s (remain 0m 0s) Loss: 0.0213(0.0561) Grad Norm: 1.8344  LR: 2.1508e-05  \n",
      "EVAL: [0/17] Data 0.285 (0.285) Elapsed 0m 0s (remain 0m 8s) \n"
     ]
    },
    {
     "name": "stderr",
     "output_type": "stream",
     "text": [
      "labels: [ 5  2  0  6 11]\n",
      "pred_labels: [11  5  0  2  8]\n",
      "Epoch 32 - avg_train_loss: 0.0561  lr: 2.1508e-05  time: 61s\n",
      "Epoch 32 - Score: 0.6107\n"
     ]
    },
    {
     "name": "stdout",
     "output_type": "stream",
     "text": [
      "EVAL: [16/17] Data 0.000 (0.017) Elapsed 0m 4s (remain 0m 0s) \n",
      "Epoch: [33][0/65] Data 0.451 (0.451) Elapsed 0m 1s (remain 1m 7s) Loss: 0.0400(0.0400) Grad Norm: 0.0000  LR: 1.1173e-05  \n",
      "Epoch: [33][64/65] Data 0.000 (0.007) Elapsed 0m 56s (remain 0m 0s) Loss: 0.0246(0.0381) Grad Norm: 0.5963  LR: 1.1173e-05  \n",
      "EVAL: [0/17] Data 0.314 (0.314) Elapsed 0m 0s (remain 0m 8s) \n"
     ]
    },
    {
     "name": "stderr",
     "output_type": "stream",
     "text": [
      "labels: [ 5  2  0  6 11]\n",
      "pred_labels: [11  5  0  2  8]\n",
      "Epoch 33 - avg_train_loss: 0.0381  lr: 1.1173e-05  time: 61s\n",
      "Epoch 33 - Score: 0.6107\n"
     ]
    },
    {
     "name": "stdout",
     "output_type": "stream",
     "text": [
      "EVAL: [16/17] Data 0.000 (0.019) Elapsed 0m 4s (remain 0m 0s) \n",
      "Epoch: [34][0/65] Data 0.493 (0.493) Elapsed 0m 1s (remain 1m 10s) Loss: 0.0214(0.0214) Grad Norm: 0.0000  LR: 4.5796e-06  \n",
      "Epoch: [34][64/65] Data 0.000 (0.008) Elapsed 0m 56s (remain 0m 0s) Loss: 0.0242(0.0385) Grad Norm: 0.5225  LR: 4.5796e-06  \n",
      "EVAL: [0/17] Data 0.319 (0.319) Elapsed 0m 0s (remain 0m 8s) \n"
     ]
    },
    {
     "name": "stderr",
     "output_type": "stream",
     "text": [
      "labels: [ 5  2  0  6 11]\n",
      "pred_labels: [11  5  0  2  8]\n",
      "Epoch 34 - avg_train_loss: 0.0385  lr: 4.5796e-06  time: 61s\n",
      "Epoch 34 - Score: 0.6336\n"
     ]
    },
    {
     "name": "stdout",
     "output_type": "stream",
     "text": [
      "EVAL: [16/17] Data 0.000 (0.019) Elapsed 0m 4s (remain 0m 0s) \n",
      "Epoch: [35][0/65] Data 0.452 (0.452) Elapsed 0m 1s (remain 1m 7s) Loss: 0.0238(0.0238) Grad Norm: 0.0000  LR: 1.5037e-06  \n",
      "Epoch: [35][64/65] Data 0.000 (0.007) Elapsed 0m 56s (remain 0m 0s) Loss: 0.0631(0.0377) Grad Norm: 0.2373  LR: 1.5037e-06  \n",
      "EVAL: [0/17] Data 0.310 (0.310) Elapsed 0m 0s (remain 0m 8s) \n"
     ]
    },
    {
     "name": "stderr",
     "output_type": "stream",
     "text": [
      "labels: [ 5  2  0  6 11]\n",
      "pred_labels: [11  5  0  2 11]\n",
      "Epoch 35 - avg_train_loss: 0.0377  lr: 1.5037e-06  time: 61s\n",
      "Epoch 35 - Score: 0.6336\n",
      "==================== fold: 4, seed: 1 training ====================\n"
     ]
    },
    {
     "name": "stdout",
     "output_type": "stream",
     "text": [
      "EVAL: [16/17] Data 0.000 (0.018) Elapsed 0m 4s (remain 0m 0s) \n",
      "Epoch: [1][0/65] Data 0.493 (0.493) Elapsed 0m 1s (remain 1m 9s) Loss: 2.5585(2.5585) Grad Norm: 0.0000  LR: 1.0000e-03  \n",
      "Epoch: [1][64/65] Data 0.000 (0.008) Elapsed 0m 57s (remain 0m 0s) Loss: 2.6927(2.5263) Grad Norm: 8.2406  LR: 1.0000e-03  \n",
      "EVAL: [0/17] Data 0.297 (0.297) Elapsed 0m 0s (remain 0m 8s) \n"
     ]
    },
    {
     "name": "stderr",
     "output_type": "stream",
     "text": [
      "labels: [11  4  3 12  3]\n",
      "pred_labels: [2 2 2 2 5]\n",
      "Epoch 1 - avg_train_loss: 2.5263  lr: 1.0000e-03  time: 62s\n",
      "Epoch 1 - Score: 0.2231\n",
      "Epoch 1 - Save Best Score: 0.2231 Model\n"
     ]
    },
    {
     "name": "stdout",
     "output_type": "stream",
     "text": [
      "EVAL: [16/17] Data 0.000 (0.018) Elapsed 0m 4s (remain 0m 0s) \n",
      "Epoch: [2][0/65] Data 0.501 (0.501) Elapsed 0m 1s (remain 1m 13s) Loss: 2.2320(2.2320) Grad Norm: 0.0000  LR: 9.9598e-04  \n",
      "Epoch: [2][64/65] Data 0.000 (0.008) Elapsed 0m 57s (remain 0m 0s) Loss: 2.1751(2.3470) Grad Norm: 7.4112  LR: 9.9598e-04  \n",
      "EVAL: [0/17] Data 0.321 (0.321) Elapsed 0m 0s (remain 0m 8s) \n"
     ]
    },
    {
     "name": "stderr",
     "output_type": "stream",
     "text": [
      "labels: [11  4  3 12  3]\n",
      "pred_labels: [2 2 2 0 0]\n",
      "Epoch 2 - avg_train_loss: 2.3470  lr: 9.9598e-04  time: 62s\n",
      "Epoch 2 - Score: 0.3000\n",
      "Epoch 2 - Save Best Score: 0.3000 Model\n"
     ]
    },
    {
     "name": "stdout",
     "output_type": "stream",
     "text": [
      "EVAL: [16/17] Data 0.000 (0.019) Elapsed 0m 4s (remain 0m 0s) \n",
      "Epoch: [3][0/65] Data 0.483 (0.483) Elapsed 0m 1s (remain 1m 12s) Loss: 1.9073(1.9073) Grad Norm: 0.0000  LR: 9.8599e-04  \n",
      "Epoch: [3][64/65] Data 0.000 (0.008) Elapsed 0m 57s (remain 0m 0s) Loss: 2.2798(2.1869) Grad Norm: 7.3116  LR: 9.8599e-04  \n",
      "EVAL: [0/17] Data 0.301 (0.301) Elapsed 0m 0s (remain 0m 8s) \n"
     ]
    },
    {
     "name": "stderr",
     "output_type": "stream",
     "text": [
      "labels: [11  4  3 12  3]\n",
      "pred_labels: [2 0 0 9 0]\n",
      "Epoch 3 - avg_train_loss: 2.1869  lr: 9.8599e-04  time: 62s\n",
      "Epoch 3 - Score: 0.4000\n",
      "Epoch 3 - Save Best Score: 0.4000 Model\n"
     ]
    },
    {
     "name": "stdout",
     "output_type": "stream",
     "text": [
      "EVAL: [16/17] Data 0.000 (0.018) Elapsed 0m 4s (remain 0m 0s) \n",
      "Epoch: [4][0/65] Data 0.501 (0.501) Elapsed 0m 1s (remain 1m 12s) Loss: 2.2786(2.2786) Grad Norm: 0.0000  LR: 9.7213e-04  \n",
      "Epoch: [4][64/65] Data 0.000 (0.008) Elapsed 0m 57s (remain 0m 0s) Loss: 1.5973(1.9334) Grad Norm: 8.0081  LR: 9.7213e-04  \n",
      "EVAL: [0/17] Data 0.307 (0.307) Elapsed 0m 0s (remain 0m 8s) \n"
     ]
    },
    {
     "name": "stderr",
     "output_type": "stream",
     "text": [
      "labels: [11  4  3 12  3]\n",
      "pred_labels: [12  0  4  2  0]\n",
      "Epoch 4 - avg_train_loss: 1.9334  lr: 9.7213e-04  time: 62s\n",
      "Epoch 4 - Score: 0.4615\n",
      "Epoch 4 - Save Best Score: 0.4615 Model\n"
     ]
    },
    {
     "name": "stdout",
     "output_type": "stream",
     "text": [
      "EVAL: [16/17] Data 0.000 (0.018) Elapsed 0m 4s (remain 0m 0s) \n",
      "Epoch: [5][0/65] Data 0.435 (0.435) Elapsed 0m 1s (remain 1m 8s) Loss: 1.1325(1.1325) Grad Norm: 0.0000  LR: 9.5449e-04  \n",
      "Epoch: [5][64/65] Data 0.000 (0.007) Elapsed 0m 57s (remain 0m 0s) Loss: 0.8055(1.7012) Grad Norm: 7.6432  LR: 9.5449e-04  \n",
      "EVAL: [0/17] Data 0.347 (0.347) Elapsed 0m 0s (remain 0m 9s) \n"
     ]
    },
    {
     "name": "stderr",
     "output_type": "stream",
     "text": [
      "labels: [11  4  3 12  3]\n",
      "pred_labels: [12  0  4  0  0]\n",
      "Epoch 5 - avg_train_loss: 1.7012  lr: 9.5449e-04  time: 62s\n",
      "Epoch 5 - Score: 0.4846\n",
      "Epoch 5 - Save Best Score: 0.4846 Model\n"
     ]
    },
    {
     "name": "stdout",
     "output_type": "stream",
     "text": [
      "EVAL: [16/17] Data 0.000 (0.021) Elapsed 0m 4s (remain 0m 0s) \n",
      "Epoch: [6][0/65] Data 0.565 (0.565) Elapsed 0m 1s (remain 1m 16s) Loss: 2.5434(2.5434) Grad Norm: 0.0000  LR: 9.3324e-04  \n",
      "Epoch: [6][64/65] Data 0.000 (0.009) Elapsed 0m 57s (remain 0m 0s) Loss: 2.2353(1.5492) Grad Norm: 7.8710  LR: 9.3324e-04  \n",
      "EVAL: [0/17] Data 0.337 (0.337) Elapsed 0m 0s (remain 0m 9s) \n"
     ]
    },
    {
     "name": "stderr",
     "output_type": "stream",
     "text": [
      "labels: [11  4  3 12  3]\n",
      "pred_labels: [12  4  4  8  6]\n",
      "Epoch 6 - avg_train_loss: 1.5492  lr: 9.3324e-04  time: 62s\n",
      "Epoch 6 - Score: 0.4923\n",
      "Epoch 6 - Save Best Score: 0.4923 Model\n"
     ]
    },
    {
     "name": "stdout",
     "output_type": "stream",
     "text": [
      "EVAL: [16/17] Data 0.000 (0.020) Elapsed 0m 4s (remain 0m 0s) \n",
      "Epoch: [7][0/65] Data 0.492 (0.492) Elapsed 0m 1s (remain 1m 14s) Loss: 1.8689(1.8689) Grad Norm: 0.0000  LR: 9.0853e-04  \n",
      "Epoch: [7][64/65] Data 0.000 (0.008) Elapsed 0m 57s (remain 0m 0s) Loss: 0.7010(1.4502) Grad Norm: 6.8469  LR: 9.0853e-04  \n",
      "EVAL: [0/17] Data 0.289 (0.289) Elapsed 0m 0s (remain 0m 8s) \n"
     ]
    },
    {
     "name": "stderr",
     "output_type": "stream",
     "text": [
      "labels: [11  4  3 12  3]\n",
      "pred_labels: [12  6  4 12  1]\n",
      "Epoch 7 - avg_train_loss: 1.4502  lr: 9.0853e-04  time: 62s\n",
      "Epoch 7 - Score: 0.4692\n"
     ]
    },
    {
     "name": "stdout",
     "output_type": "stream",
     "text": [
      "EVAL: [16/17] Data 0.000 (0.017) Elapsed 0m 4s (remain 0m 0s) \n",
      "Epoch: [8][0/65] Data 0.477 (0.477) Elapsed 0m 1s (remain 1m 10s) Loss: 0.7345(0.7345) Grad Norm: 0.0000  LR: 8.8057e-04  \n",
      "Epoch: [8][64/65] Data 0.000 (0.008) Elapsed 0m 57s (remain 0m 0s) Loss: 0.9023(1.1890) Grad Norm: 8.6697  LR: 8.8057e-04  \n",
      "EVAL: [0/17] Data 0.350 (0.350) Elapsed 0m 0s (remain 0m 9s) \n"
     ]
    },
    {
     "name": "stderr",
     "output_type": "stream",
     "text": [
      "labels: [11  4  3 12  3]\n",
      "pred_labels: [11  4  3  8  3]\n",
      "Epoch 8 - avg_train_loss: 1.1890  lr: 8.8057e-04  time: 62s\n",
      "Epoch 8 - Score: 0.5385\n",
      "Epoch 8 - Save Best Score: 0.5385 Model\n"
     ]
    },
    {
     "name": "stdout",
     "output_type": "stream",
     "text": [
      "EVAL: [16/17] Data 0.000 (0.021) Elapsed 0m 4s (remain 0m 0s) \n",
      "Epoch: [9][0/65] Data 0.486 (0.486) Elapsed 0m 1s (remain 1m 11s) Loss: 1.5514(1.5514) Grad Norm: 0.0000  LR: 8.4958e-04  \n",
      "Epoch: [9][64/65] Data 0.000 (0.008) Elapsed 0m 57s (remain 0m 0s) Loss: 1.5643(1.1816) Grad Norm: 7.3899  LR: 8.4958e-04  \n",
      "EVAL: [0/17] Data 0.331 (0.331) Elapsed 0m 0s (remain 0m 9s) \n"
     ]
    },
    {
     "name": "stderr",
     "output_type": "stream",
     "text": [
      "labels: [11  4  3 12  3]\n",
      "pred_labels: [11  4  3 12  1]\n",
      "Epoch 9 - avg_train_loss: 1.1816  lr: 8.4958e-04  time: 62s\n",
      "Epoch 9 - Score: 0.5769\n",
      "Epoch 9 - Save Best Score: 0.5769 Model\n"
     ]
    },
    {
     "name": "stdout",
     "output_type": "stream",
     "text": [
      "EVAL: [16/17] Data 0.000 (0.020) Elapsed 0m 4s (remain 0m 0s) \n",
      "Epoch: [10][0/65] Data 0.504 (0.504) Elapsed 0m 1s (remain 1m 12s) Loss: 0.2397(0.2397) Grad Norm: 0.0000  LR: 8.1581e-04  \n",
      "Epoch: [10][64/65] Data 0.000 (0.008) Elapsed 0m 57s (remain 0m 0s) Loss: 2.1099(1.3109) Grad Norm: 6.5527  LR: 8.1581e-04  \n",
      "EVAL: [0/17] Data 0.341 (0.341) Elapsed 0m 0s (remain 0m 9s) \n"
     ]
    },
    {
     "name": "stderr",
     "output_type": "stream",
     "text": [
      "labels: [11  4  3 12  3]\n",
      "pred_labels: [12  4  3 12  1]\n",
      "Epoch 10 - avg_train_loss: 1.3109  lr: 8.1581e-04  time: 62s\n",
      "Epoch 10 - Score: 0.5231\n"
     ]
    },
    {
     "name": "stdout",
     "output_type": "stream",
     "text": [
      "EVAL: [16/17] Data 0.000 (0.020) Elapsed 0m 4s (remain 0m 0s) \n",
      "Epoch: [11][0/65] Data 0.541 (0.541) Elapsed 0m 1s (remain 1m 13s) Loss: 0.8889(0.8889) Grad Norm: 0.0000  LR: 7.7953e-04  \n",
      "Epoch: [11][64/65] Data 0.000 (0.009) Elapsed 0m 57s (remain 0m 0s) Loss: 2.2086(0.9057) Grad Norm: 8.0781  LR: 7.7953e-04  \n",
      "EVAL: [0/17] Data 0.336 (0.336) Elapsed 0m 0s (remain 0m 9s) \n"
     ]
    },
    {
     "name": "stderr",
     "output_type": "stream",
     "text": [
      "labels: [11  4  3 12  3]\n",
      "pred_labels: [11  4  3  8  1]\n",
      "Epoch 11 - avg_train_loss: 0.9057  lr: 7.7953e-04  time: 62s\n",
      "Epoch 11 - Score: 0.5538\n"
     ]
    },
    {
     "name": "stdout",
     "output_type": "stream",
     "text": [
      "EVAL: [16/17] Data 0.000 (0.020) Elapsed 0m 4s (remain 0m 0s) \n",
      "Epoch: [12][0/65] Data 0.398 (0.398) Elapsed 0m 1s (remain 1m 5s) Loss: 0.2465(0.2465) Grad Norm: 0.0000  LR: 7.4103e-04  \n",
      "Epoch: [12][64/65] Data 0.000 (0.006) Elapsed 0m 57s (remain 0m 0s) Loss: 0.2063(1.0172) Grad Norm: 4.4688  LR: 7.4103e-04  \n",
      "EVAL: [0/17] Data 0.324 (0.324) Elapsed 0m 0s (remain 0m 8s) \n"
     ]
    },
    {
     "name": "stderr",
     "output_type": "stream",
     "text": [
      "labels: [11  4  3 12  3]\n",
      "pred_labels: [11  4  4 12  9]\n",
      "Epoch 12 - avg_train_loss: 1.0172  lr: 7.4103e-04  time: 62s\n",
      "Epoch 12 - Score: 0.5462\n"
     ]
    },
    {
     "name": "stdout",
     "output_type": "stream",
     "text": [
      "EVAL: [16/17] Data 0.000 (0.019) Elapsed 0m 4s (remain 0m 0s) \n",
      "Epoch: [13][0/65] Data 0.412 (0.412) Elapsed 0m 1s (remain 1m 6s) Loss: 0.2470(0.2470) Grad Norm: 0.0000  LR: 7.0063e-04  \n",
      "Epoch: [13][64/65] Data 0.000 (0.007) Elapsed 0m 57s (remain 0m 0s) Loss: 1.2053(0.7531) Grad Norm: 5.8518  LR: 7.0063e-04  \n",
      "EVAL: [0/17] Data 0.338 (0.338) Elapsed 0m 0s (remain 0m 9s) \n"
     ]
    },
    {
     "name": "stderr",
     "output_type": "stream",
     "text": [
      "labels: [11  4  3 12  3]\n",
      "pred_labels: [11  4  3 12  1]\n",
      "Epoch 13 - avg_train_loss: 0.7531  lr: 7.0063e-04  time: 62s\n",
      "Epoch 13 - Score: 0.6000\n",
      "Epoch 13 - Save Best Score: 0.6000 Model\n"
     ]
    },
    {
     "name": "stdout",
     "output_type": "stream",
     "text": [
      "EVAL: [16/17] Data 0.000 (0.020) Elapsed 0m 4s (remain 0m 0s) \n",
      "Epoch: [14][0/65] Data 0.478 (0.478) Elapsed 0m 1s (remain 1m 10s) Loss: 1.8969(1.8969) Grad Norm: 0.0000  LR: 6.5865e-04  \n",
      "Epoch: [14][64/65] Data 0.000 (0.008) Elapsed 0m 57s (remain 0m 0s) Loss: 0.2049(0.8900) Grad Norm: 6.2490  LR: 6.5865e-04  \n",
      "EVAL: [0/17] Data 0.328 (0.328) Elapsed 0m 0s (remain 0m 9s) \n"
     ]
    },
    {
     "name": "stderr",
     "output_type": "stream",
     "text": [
      "labels: [11  4  3 12  3]\n",
      "pred_labels: [ 6  5  3 12  1]\n",
      "Epoch 14 - avg_train_loss: 0.8900  lr: 6.5865e-04  time: 62s\n",
      "Epoch 14 - Score: 0.5308\n"
     ]
    },
    {
     "name": "stdout",
     "output_type": "stream",
     "text": [
      "EVAL: [16/17] Data 0.000 (0.020) Elapsed 0m 4s (remain 0m 0s) \n",
      "Epoch: [15][0/65] Data 0.381 (0.381) Elapsed 0m 1s (remain 1m 7s) Loss: 1.2316(1.2316) Grad Norm: 0.0000  LR: 6.1542e-04  \n",
      "Epoch: [15][64/65] Data 0.000 (0.006) Elapsed 0m 57s (remain 0m 0s) Loss: 1.6939(0.9188) Grad Norm: 6.0467  LR: 6.1542e-04  \n",
      "EVAL: [0/17] Data 0.307 (0.307) Elapsed 0m 0s (remain 0m 8s) \n"
     ]
    },
    {
     "name": "stderr",
     "output_type": "stream",
     "text": [
      "labels: [11  4  3 12  3]\n",
      "pred_labels: [ 2  5  3 12  5]\n",
      "Epoch 15 - avg_train_loss: 0.9188  lr: 6.1542e-04  time: 62s\n",
      "Epoch 15 - Score: 0.5308\n"
     ]
    },
    {
     "name": "stdout",
     "output_type": "stream",
     "text": [
      "EVAL: [16/17] Data 0.000 (0.018) Elapsed 0m 4s (remain 0m 0s) \n",
      "Epoch: [16][0/65] Data 0.408 (0.408) Elapsed 0m 1s (remain 1m 5s) Loss: 1.6860(1.6860) Grad Norm: 0.0000  LR: 5.7130e-04  \n",
      "Epoch: [16][64/65] Data 0.000 (0.007) Elapsed 0m 57s (remain 0m 0s) Loss: 0.4863(0.8839) Grad Norm: 1.6415  LR: 5.7130e-04  \n",
      "EVAL: [0/17] Data 0.295 (0.295) Elapsed 0m 0s (remain 0m 8s) \n"
     ]
    },
    {
     "name": "stderr",
     "output_type": "stream",
     "text": [
      "labels: [11  4  3 12  3]\n",
      "pred_labels: [ 2  5  3 12  9]\n",
      "Epoch 16 - avg_train_loss: 0.8839  lr: 5.7130e-04  time: 61s\n",
      "Epoch 16 - Score: 0.5923\n"
     ]
    },
    {
     "name": "stdout",
     "output_type": "stream",
     "text": [
      "EVAL: [16/17] Data 0.000 (0.018) Elapsed 0m 4s (remain 0m 0s) \n",
      "Epoch: [17][0/65] Data 0.425 (0.425) Elapsed 0m 1s (remain 1m 6s) Loss: 0.2605(0.2605) Grad Norm: 0.0000  LR: 5.2663e-04  \n",
      "Epoch: [17][64/65] Data 0.000 (0.007) Elapsed 0m 57s (remain 0m 0s) Loss: 0.1555(0.8983) Grad Norm: 4.5793  LR: 5.2663e-04  \n",
      "EVAL: [0/17] Data 0.253 (0.253) Elapsed 0m 0s (remain 0m 7s) \n"
     ]
    },
    {
     "name": "stderr",
     "output_type": "stream",
     "text": [
      "labels: [11  4  3 12  3]\n",
      "pred_labels: [2 5 3 8 5]\n",
      "Epoch 17 - avg_train_loss: 0.8983  lr: 5.2663e-04  time: 61s\n",
      "Epoch 17 - Score: 0.5000\n"
     ]
    },
    {
     "name": "stdout",
     "output_type": "stream",
     "text": [
      "EVAL: [16/17] Data 0.000 (0.015) Elapsed 0m 4s (remain 0m 0s) \n",
      "Epoch: [18][0/65] Data 0.423 (0.423) Elapsed 0m 1s (remain 1m 10s) Loss: 1.4230(1.4230) Grad Norm: 0.0000  LR: 4.8179e-04  \n",
      "Epoch: [18][64/65] Data 0.000 (0.007) Elapsed 0m 57s (remain 0m 0s) Loss: 1.5263(0.8430) Grad Norm: 5.1673  LR: 4.8179e-04  \n",
      "EVAL: [0/17] Data 0.374 (0.374) Elapsed 0m 0s (remain 0m 9s) \n"
     ]
    },
    {
     "name": "stderr",
     "output_type": "stream",
     "text": [
      "labels: [11  4  3 12  3]\n",
      "pred_labels: [11  4  2 12  4]\n",
      "Epoch 18 - avg_train_loss: 0.8430  lr: 4.8179e-04  time: 62s\n",
      "Epoch 18 - Score: 0.5077\n"
     ]
    },
    {
     "name": "stdout",
     "output_type": "stream",
     "text": [
      "EVAL: [16/17] Data 0.000 (0.022) Elapsed 0m 4s (remain 0m 0s) \n",
      "Epoch: [19][0/65] Data 0.454 (0.454) Elapsed 0m 1s (remain 1m 8s) Loss: 1.8200(1.8200) Grad Norm: 0.0000  LR: 4.3712e-04  \n",
      "Epoch: [19][64/65] Data 0.000 (0.007) Elapsed 0m 57s (remain 0m 0s) Loss: 0.0986(0.8253) Grad Norm: 4.7261  LR: 4.3712e-04  \n",
      "EVAL: [0/17] Data 0.327 (0.327) Elapsed 0m 0s (remain 0m 9s) \n"
     ]
    },
    {
     "name": "stderr",
     "output_type": "stream",
     "text": [
      "labels: [11  4  3 12  3]\n",
      "pred_labels: [ 5  4  4 12  4]\n",
      "Epoch 19 - avg_train_loss: 0.8253  lr: 4.3712e-04  time: 62s\n",
      "Epoch 19 - Score: 0.5615\n"
     ]
    },
    {
     "name": "stdout",
     "output_type": "stream",
     "text": [
      "EVAL: [16/17] Data 0.000 (0.020) Elapsed 0m 4s (remain 0m 0s) \n",
      "Epoch: [20][0/65] Data 0.479 (0.479) Elapsed 0m 1s (remain 1m 9s) Loss: 1.5000(1.5000) Grad Norm: 0.0000  LR: 3.9299e-04  \n",
      "Epoch: [20][64/65] Data 0.000 (0.008) Elapsed 0m 56s (remain 0m 0s) Loss: 1.7938(0.8303) Grad Norm: 4.3393  LR: 3.9299e-04  \n",
      "EVAL: [0/17] Data 0.348 (0.348) Elapsed 0m 0s (remain 0m 9s) \n"
     ]
    },
    {
     "name": "stderr",
     "output_type": "stream",
     "text": [
      "labels: [11  4  3 12  3]\n",
      "pred_labels: [ 6  4  4 12  6]\n",
      "Epoch 20 - avg_train_loss: 0.8303  lr: 3.9299e-04  time: 62s\n",
      "Epoch 20 - Score: 0.5385\n"
     ]
    },
    {
     "name": "stdout",
     "output_type": "stream",
     "text": [
      "EVAL: [16/17] Data 0.000 (0.021) Elapsed 0m 4s (remain 0m 0s) \n",
      "Epoch: [21][0/65] Data 0.461 (0.461) Elapsed 0m 1s (remain 1m 8s) Loss: 0.1248(0.1248) Grad Norm: 0.0000  LR: 3.4975e-04  \n",
      "Epoch: [21][64/65] Data 0.000 (0.007) Elapsed 0m 57s (remain 0m 0s) Loss: 1.6251(0.7773) Grad Norm: 3.8023  LR: 3.4975e-04  \n",
      "EVAL: [0/17] Data 0.312 (0.312) Elapsed 0m 0s (remain 0m 8s) \n"
     ]
    },
    {
     "name": "stderr",
     "output_type": "stream",
     "text": [
      "labels: [11  4  3 12  3]\n",
      "pred_labels: [11  4  4  9  5]\n",
      "Epoch 21 - avg_train_loss: 0.7773  lr: 3.4975e-04  time: 61s\n",
      "Epoch 21 - Score: 0.6000\n"
     ]
    },
    {
     "name": "stdout",
     "output_type": "stream",
     "text": [
      "EVAL: [16/17] Data 0.000 (0.019) Elapsed 0m 4s (remain 0m 0s) \n",
      "Epoch: [22][0/65] Data 0.388 (0.388) Elapsed 0m 1s (remain 1m 7s) Loss: 0.0606(0.0606) Grad Norm: 0.0000  LR: 3.0775e-04  \n",
      "Epoch: [22][64/65] Data 0.000 (0.006) Elapsed 0m 56s (remain 0m 0s) Loss: 0.1595(0.6958) Grad Norm: 3.9767  LR: 3.0775e-04  \n",
      "EVAL: [0/17] Data 0.279 (0.279) Elapsed 0m 0s (remain 0m 8s) \n"
     ]
    },
    {
     "name": "stderr",
     "output_type": "stream",
     "text": [
      "labels: [11  4  3 12  3]\n",
      "pred_labels: [12  4  4 12  4]\n",
      "Epoch 22 - avg_train_loss: 0.6958  lr: 3.0775e-04  time: 61s\n",
      "Epoch 22 - Score: 0.5846\n"
     ]
    },
    {
     "name": "stdout",
     "output_type": "stream",
     "text": [
      "EVAL: [16/17] Data 0.000 (0.017) Elapsed 0m 4s (remain 0m 0s) \n",
      "Epoch: [23][0/65] Data 0.459 (0.459) Elapsed 0m 1s (remain 1m 10s) Loss: 0.1659(0.1659) Grad Norm: 0.0000  LR: 2.6732e-04  \n",
      "Epoch: [23][64/65] Data 0.000 (0.007) Elapsed 0m 56s (remain 0m 0s) Loss: 1.3562(0.6876) Grad Norm: 3.5639  LR: 2.6732e-04  \n",
      "EVAL: [0/17] Data 0.311 (0.311) Elapsed 0m 0s (remain 0m 8s) \n"
     ]
    },
    {
     "name": "stderr",
     "output_type": "stream",
     "text": [
      "labels: [11  4  3 12  3]\n",
      "pred_labels: [12  4  4  9  4]\n",
      "Epoch 23 - avg_train_loss: 0.6876  lr: 2.6732e-04  time: 61s\n",
      "Epoch 23 - Score: 0.5692\n"
     ]
    },
    {
     "name": "stdout",
     "output_type": "stream",
     "text": [
      "EVAL: [16/17] Data 0.000 (0.019) Elapsed 0m 4s (remain 0m 0s) \n",
      "Epoch: [24][0/65] Data 0.451 (0.451) Elapsed 0m 1s (remain 1m 9s) Loss: 0.0818(0.0818) Grad Norm: 0.0000  LR: 2.2880e-04  \n",
      "Epoch: [24][64/65] Data 0.000 (0.007) Elapsed 0m 56s (remain 0m 0s) Loss: 1.3516(0.8235) Grad Norm: 4.4804  LR: 2.2880e-04  \n",
      "EVAL: [0/17] Data 0.330 (0.330) Elapsed 0m 0s (remain 0m 9s) \n"
     ]
    },
    {
     "name": "stderr",
     "output_type": "stream",
     "text": [
      "labels: [11  4  3 12  3]\n",
      "pred_labels: [11  2  3 12  1]\n",
      "Epoch 24 - avg_train_loss: 0.8235  lr: 2.2880e-04  time: 61s\n",
      "Epoch 24 - Score: 0.6000\n"
     ]
    },
    {
     "name": "stdout",
     "output_type": "stream",
     "text": [
      "EVAL: [16/17] Data 0.000 (0.020) Elapsed 0m 4s (remain 0m 0s) \n",
      "Epoch: [25][0/65] Data 0.381 (0.381) Elapsed 0m 0s (remain 1m 3s) Loss: 0.0877(0.0877) Grad Norm: 0.0000  LR: 1.9248e-04  \n",
      "Epoch: [25][64/65] Data 0.000 (0.006) Elapsed 0m 56s (remain 0m 0s) Loss: 0.0438(0.7172) Grad Norm: 4.1705  LR: 1.9248e-04  \n",
      "EVAL: [0/17] Data 0.334 (0.334) Elapsed 0m 0s (remain 0m 9s) \n"
     ]
    },
    {
     "name": "stderr",
     "output_type": "stream",
     "text": [
      "labels: [11  4  3 12  3]\n",
      "pred_labels: [12  5  4 12  4]\n",
      "Epoch 25 - avg_train_loss: 0.7172  lr: 1.9248e-04  time: 61s\n",
      "Epoch 25 - Score: 0.5615\n"
     ]
    },
    {
     "name": "stdout",
     "output_type": "stream",
     "text": [
      "EVAL: [16/17] Data 0.000 (0.020) Elapsed 0m 4s (remain 0m 0s) \n",
      "Epoch: [26][0/65] Data 0.456 (0.456) Elapsed 0m 1s (remain 1m 8s) Loss: 0.0906(0.0906) Grad Norm: 0.0000  LR: 1.5867e-04  \n",
      "Epoch: [26][64/65] Data 0.000 (0.007) Elapsed 0m 56s (remain 0m 0s) Loss: 0.9713(0.6284) Grad Norm: 3.5767  LR: 1.5867e-04  \n",
      "EVAL: [0/17] Data 0.346 (0.346) Elapsed 0m 0s (remain 0m 9s) \n"
     ]
    },
    {
     "name": "stderr",
     "output_type": "stream",
     "text": [
      "labels: [11  4  3 12  3]\n",
      "pred_labels: [12  5  3 12  1]\n",
      "Epoch 26 - avg_train_loss: 0.6284  lr: 1.5867e-04  time: 61s\n",
      "Epoch 26 - Score: 0.5769\n"
     ]
    },
    {
     "name": "stdout",
     "output_type": "stream",
     "text": [
      "EVAL: [16/17] Data 0.000 (0.021) Elapsed 0m 4s (remain 0m 0s) \n",
      "Epoch: [27][0/65] Data 0.374 (0.374) Elapsed 0m 0s (remain 1m 3s) Loss: 0.0416(0.0416) Grad Norm: 0.0000  LR: 1.2762e-04  \n",
      "Epoch: [27][64/65] Data 0.000 (0.006) Elapsed 0m 56s (remain 0m 0s) Loss: 0.0288(0.6829) Grad Norm: 4.8720  LR: 1.2762e-04  \n",
      "EVAL: [0/17] Data 0.324 (0.324) Elapsed 0m 0s (remain 0m 8s) \n"
     ]
    },
    {
     "name": "stderr",
     "output_type": "stream",
     "text": [
      "labels: [11  4  3 12  3]\n",
      "pred_labels: [12  4  3 12  1]\n",
      "Epoch 27 - avg_train_loss: 0.6829  lr: 1.2762e-04  time: 61s\n",
      "Epoch 27 - Score: 0.5846\n"
     ]
    },
    {
     "name": "stdout",
     "output_type": "stream",
     "text": [
      "EVAL: [16/17] Data 0.000 (0.019) Elapsed 0m 4s (remain 0m 0s) \n",
      "Epoch: [28][0/65] Data 0.436 (0.436) Elapsed 0m 1s (remain 1m 6s) Loss: 0.1247(0.1247) Grad Norm: 0.0000  LR: 9.9584e-05  \n",
      "Epoch: [28][64/65] Data 0.000 (0.007) Elapsed 0m 56s (remain 0m 0s) Loss: 0.0276(0.7737) Grad Norm: 4.6482  LR: 9.9584e-05  \n",
      "EVAL: [0/17] Data 0.281 (0.281) Elapsed 0m 0s (remain 0m 8s) \n"
     ]
    },
    {
     "name": "stderr",
     "output_type": "stream",
     "text": [
      "labels: [11  4  3 12  3]\n",
      "pred_labels: [11  5  3 12  1]\n",
      "Epoch 28 - avg_train_loss: 0.7737  lr: 9.9584e-05  time: 61s\n",
      "Epoch 28 - Score: 0.5923\n"
     ]
    },
    {
     "name": "stdout",
     "output_type": "stream",
     "text": [
      "EVAL: [16/17] Data 0.000 (0.017) Elapsed 0m 4s (remain 0m 0s) \n",
      "Epoch: [29][0/65] Data 0.464 (0.464) Elapsed 0m 1s (remain 1m 8s) Loss: 0.0867(0.0867) Grad Norm: 0.0000  LR: 7.4783e-05  \n",
      "Epoch: [29][64/65] Data 0.000 (0.007) Elapsed 0m 56s (remain 0m 0s) Loss: 1.4549(0.6386) Grad Norm: 3.4896  LR: 7.4783e-05  \n",
      "EVAL: [0/17] Data 0.297 (0.297) Elapsed 0m 0s (remain 0m 8s) \n"
     ]
    },
    {
     "name": "stderr",
     "output_type": "stream",
     "text": [
      "labels: [11  4  3 12  3]\n",
      "pred_labels: [11  4  3 12  1]\n",
      "Epoch 29 - avg_train_loss: 0.6386  lr: 7.4783e-05  time: 61s\n",
      "Epoch 29 - Score: 0.6077\n",
      "Epoch 29 - Save Best Score: 0.6077 Model\n"
     ]
    },
    {
     "name": "stdout",
     "output_type": "stream",
     "text": [
      "EVAL: [16/17] Data 0.000 (0.018) Elapsed 0m 4s (remain 0m 0s) \n",
      "Epoch: [30][0/65] Data 0.377 (0.377) Elapsed 0m 1s (remain 1m 5s) Loss: 0.1344(0.1344) Grad Norm: 0.0000  LR: 5.3404e-05  \n",
      "Epoch: [30][64/65] Data 0.000 (0.006) Elapsed 0m 56s (remain 0m 0s) Loss: 0.0451(0.7182) Grad Norm: 4.5927  LR: 5.3404e-05  \n",
      "EVAL: [0/17] Data 0.271 (0.271) Elapsed 0m 0s (remain 0m 8s) \n"
     ]
    },
    {
     "name": "stderr",
     "output_type": "stream",
     "text": [
      "labels: [11  4  3 12  3]\n",
      "pred_labels: [11  4  3 12  5]\n",
      "Epoch 30 - avg_train_loss: 0.7182  lr: 5.3404e-05  time: 61s\n",
      "Epoch 30 - Score: 0.6077\n"
     ]
    },
    {
     "name": "stdout",
     "output_type": "stream",
     "text": [
      "EVAL: [16/17] Data 0.000 (0.016) Elapsed 0m 4s (remain 0m 0s) \n",
      "Epoch: [31][0/65] Data 0.366 (0.366) Elapsed 0m 0s (remain 1m 2s) Loss: 0.0271(0.0271) Grad Norm: 0.0000  LR: 3.5607e-05  \n",
      "Epoch: [31][64/65] Data 0.000 (0.006) Elapsed 0m 56s (remain 0m 0s) Loss: 0.0451(0.0492) Grad Norm: 1.1456  LR: 3.5607e-05  \n",
      "EVAL: [0/17] Data 0.271 (0.271) Elapsed 0m 0s (remain 0m 8s) \n"
     ]
    },
    {
     "name": "stderr",
     "output_type": "stream",
     "text": [
      "labels: [11  4  3 12  3]\n",
      "pred_labels: [11  5  3 12  1]\n",
      "Epoch 31 - avg_train_loss: 0.0492  lr: 3.5607e-05  time: 61s\n",
      "Epoch 31 - Score: 0.5846\n"
     ]
    },
    {
     "name": "stdout",
     "output_type": "stream",
     "text": [
      "EVAL: [16/17] Data 0.000 (0.016) Elapsed 0m 4s (remain 0m 0s) \n",
      "Epoch: [32][0/65] Data 0.427 (0.427) Elapsed 0m 1s (remain 1m 6s) Loss: 0.0522(0.0522) Grad Norm: 0.0000  LR: 2.1508e-05  \n",
      "Epoch: [32][64/65] Data 0.000 (0.007) Elapsed 0m 56s (remain 0m 0s) Loss: 0.0997(0.0464) Grad Norm: 0.9633  LR: 2.1508e-05  \n",
      "EVAL: [0/17] Data 0.260 (0.260) Elapsed 0m 0s (remain 0m 7s) \n"
     ]
    },
    {
     "name": "stderr",
     "output_type": "stream",
     "text": [
      "labels: [11  4  3 12  3]\n",
      "pred_labels: [11  4  3 12  1]\n",
      "Epoch 32 - avg_train_loss: 0.0464  lr: 2.1508e-05  time: 61s\n",
      "Epoch 32 - Score: 0.6231\n",
      "Epoch 32 - Save Best Score: 0.6231 Model\n"
     ]
    },
    {
     "name": "stdout",
     "output_type": "stream",
     "text": [
      "EVAL: [16/17] Data 0.000 (0.016) Elapsed 0m 4s (remain 0m 0s) \n",
      "Epoch: [33][0/65] Data 0.448 (0.448) Elapsed 0m 1s (remain 1m 8s) Loss: 0.0188(0.0188) Grad Norm: 0.0000  LR: 1.1173e-05  \n",
      "Epoch: [33][64/65] Data 0.000 (0.007) Elapsed 0m 56s (remain 0m 0s) Loss: 0.0851(0.0585) Grad Norm: 0.7958  LR: 1.1173e-05  \n",
      "EVAL: [0/17] Data 0.269 (0.269) Elapsed 0m 0s (remain 0m 8s) \n"
     ]
    },
    {
     "name": "stderr",
     "output_type": "stream",
     "text": [
      "labels: [11  4  3 12  3]\n",
      "pred_labels: [11  5  3 12  1]\n",
      "Epoch 33 - avg_train_loss: 0.0585  lr: 1.1173e-05  time: 61s\n",
      "Epoch 33 - Score: 0.6231\n"
     ]
    },
    {
     "name": "stdout",
     "output_type": "stream",
     "text": [
      "EVAL: [16/17] Data 0.000 (0.016) Elapsed 0m 4s (remain 0m 0s) \n",
      "Epoch: [34][0/65] Data 0.435 (0.435) Elapsed 0m 1s (remain 1m 6s) Loss: 0.0503(0.0503) Grad Norm: 0.0000  LR: 4.5796e-06  \n",
      "Epoch: [34][64/65] Data 0.000 (0.007) Elapsed 0m 56s (remain 0m 0s) Loss: 0.0163(0.0320) Grad Norm: 0.3534  LR: 4.5796e-06  \n",
      "EVAL: [0/17] Data 0.290 (0.290) Elapsed 0m 0s (remain 0m 8s) \n"
     ]
    },
    {
     "name": "stderr",
     "output_type": "stream",
     "text": [
      "labels: [11  4  3 12  3]\n",
      "pred_labels: [11  4  3 12  1]\n",
      "Epoch 34 - avg_train_loss: 0.0320  lr: 4.5796e-06  time: 61s\n",
      "Epoch 34 - Score: 0.6077\n"
     ]
    },
    {
     "name": "stdout",
     "output_type": "stream",
     "text": [
      "EVAL: [16/17] Data 0.000 (0.017) Elapsed 0m 4s (remain 0m 0s) \n",
      "Epoch: [35][0/65] Data 0.377 (0.377) Elapsed 0m 0s (remain 1m 3s) Loss: 0.0192(0.0192) Grad Norm: 0.0000  LR: 1.5037e-06  \n",
      "Epoch: [35][64/65] Data 0.000 (0.006) Elapsed 0m 56s (remain 0m 0s) Loss: 0.0283(0.0483) Grad Norm: 4.2521  LR: 1.5037e-06  \n",
      "EVAL: [0/17] Data 0.295 (0.295) Elapsed 0m 0s (remain 0m 8s) \n"
     ]
    },
    {
     "name": "stderr",
     "output_type": "stream",
     "text": [
      "labels: [11  4  3 12  3]\n",
      "pred_labels: [11  4  3 12  1]\n",
      "Epoch 35 - avg_train_loss: 0.0483  lr: 1.5037e-06  time: 61s\n",
      "Epoch 35 - Score: 0.6231\n",
      "\n",
      "oof score: 0.6529051987767585\n",
      "\n",
      "==================== fold: 0, seed: 2 training ====================\n"
     ]
    },
    {
     "name": "stdout",
     "output_type": "stream",
     "text": [
      "EVAL: [16/17] Data 0.000 (0.018) Elapsed 0m 4s (remain 0m 0s) \n",
      "fold\n",
      "0    131\n",
      "1    131\n",
      "2    131\n",
      "3    131\n",
      "4    130\n",
      "dtype: int64\n",
      "Epoch: [1][0/65] Data 0.452 (0.452) Elapsed 0m 1s (remain 1m 9s) Loss: 2.6250(2.6250) Grad Norm: 0.0000  LR: 1.0000e-03  \n",
      "Epoch: [1][64/65] Data 0.000 (0.007) Elapsed 0m 57s (remain 0m 0s) Loss: 2.5254(2.5859) Grad Norm: 9.2256  LR: 1.0000e-03  \n",
      "EVAL: [0/17] Data 0.328 (0.328) Elapsed 0m 0s (remain 0m 8s) \n"
     ]
    },
    {
     "name": "stderr",
     "output_type": "stream",
     "text": [
      "labels: [ 6  4  0  3 12]\n",
      "pred_labels: [ 2 10  0  0  2]\n",
      "Epoch 1 - avg_train_loss: 2.5859  lr: 1.0000e-03  time: 62s\n",
      "Epoch 1 - Score: 0.1756\n",
      "Epoch 1 - Save Best Score: 0.1756 Model\n"
     ]
    },
    {
     "name": "stdout",
     "output_type": "stream",
     "text": [
      "EVAL: [16/17] Data 0.000 (0.019) Elapsed 0m 4s (remain 0m 0s) \n",
      "Epoch: [2][0/65] Data 0.502 (0.502) Elapsed 0m 1s (remain 1m 12s) Loss: 2.4760(2.4760) Grad Norm: 0.0000  LR: 9.9598e-04  \n",
      "Epoch: [2][64/65] Data 0.000 (0.008) Elapsed 0m 57s (remain 0m 0s) Loss: 2.0848(2.3294) Grad Norm: 7.4981  LR: 9.9598e-04  \n",
      "EVAL: [0/17] Data 0.348 (0.348) Elapsed 0m 0s (remain 0m 9s) \n"
     ]
    },
    {
     "name": "stderr",
     "output_type": "stream",
     "text": [
      "labels: [ 6  4  0  3 12]\n",
      "pred_labels: [2 2 2 0 2]\n",
      "Epoch 2 - avg_train_loss: 2.3294  lr: 9.9598e-04  time: 62s\n",
      "Epoch 2 - Score: 0.3130\n",
      "Epoch 2 - Save Best Score: 0.3130 Model\n"
     ]
    },
    {
     "name": "stdout",
     "output_type": "stream",
     "text": [
      "EVAL: [16/17] Data 0.000 (0.021) Elapsed 0m 4s (remain 0m 0s) \n",
      "Epoch: [3][0/65] Data 0.525 (0.525) Elapsed 0m 1s (remain 1m 12s) Loss: 2.4447(2.4447) Grad Norm: 0.0000  LR: 9.8599e-04  \n",
      "Epoch: [3][64/65] Data 0.000 (0.008) Elapsed 0m 57s (remain 0m 0s) Loss: 1.8789(2.1290) Grad Norm: 9.3988  LR: 9.8599e-04  \n",
      "EVAL: [0/17] Data 0.304 (0.304) Elapsed 0m 0s (remain 0m 8s) \n"
     ]
    },
    {
     "name": "stderr",
     "output_type": "stream",
     "text": [
      "labels: [ 6  4  0  3 12]\n",
      "pred_labels: [6 2 5 0 2]\n",
      "Epoch 3 - avg_train_loss: 2.1290  lr: 9.8599e-04  time: 62s\n",
      "Epoch 3 - Score: 0.3740\n",
      "Epoch 3 - Save Best Score: 0.3740 Model\n"
     ]
    },
    {
     "name": "stdout",
     "output_type": "stream",
     "text": [
      "EVAL: [16/17] Data 0.000 (0.018) Elapsed 0m 4s (remain 0m 0s) \n",
      "Epoch: [4][0/65] Data 0.595 (0.595) Elapsed 0m 1s (remain 1m 18s) Loss: 2.2339(2.2339) Grad Norm: 0.0000  LR: 9.7213e-04  \n",
      "Epoch: [4][64/65] Data 0.000 (0.009) Elapsed 0m 57s (remain 0m 0s) Loss: 2.0120(1.9834) Grad Norm: 6.2280  LR: 9.7213e-04  \n",
      "EVAL: [0/17] Data 0.357 (0.357) Elapsed 0m 0s (remain 0m 9s) \n"
     ]
    },
    {
     "name": "stderr",
     "output_type": "stream",
     "text": [
      "labels: [ 6  4  0  3 12]\n",
      "pred_labels: [6 4 0 0 2]\n",
      "Epoch 4 - avg_train_loss: 1.9834  lr: 9.7213e-04  time: 62s\n",
      "Epoch 4 - Score: 0.4198\n",
      "Epoch 4 - Save Best Score: 0.4198 Model\n"
     ]
    },
    {
     "name": "stdout",
     "output_type": "stream",
     "text": [
      "EVAL: [16/17] Data 0.000 (0.021) Elapsed 0m 4s (remain 0m 0s) \n",
      "Epoch: [5][0/65] Data 0.556 (0.556) Elapsed 0m 1s (remain 1m 15s) Loss: 1.8596(1.8596) Grad Norm: 0.0000  LR: 9.5449e-04  \n",
      "Epoch: [5][64/65] Data 0.000 (0.009) Elapsed 0m 57s (remain 0m 0s) Loss: 2.3374(1.7146) Grad Norm: 7.9830  LR: 9.5449e-04  \n",
      "EVAL: [0/17] Data 0.307 (0.307) Elapsed 0m 0s (remain 0m 8s) \n"
     ]
    },
    {
     "name": "stderr",
     "output_type": "stream",
     "text": [
      "labels: [ 6  4  0  3 12]\n",
      "pred_labels: [ 2  4  0  7 12]\n",
      "Epoch 5 - avg_train_loss: 1.7146  lr: 9.5449e-04  time: 62s\n",
      "Epoch 5 - Score: 0.5038\n",
      "Epoch 5 - Save Best Score: 0.5038 Model\n"
     ]
    },
    {
     "name": "stdout",
     "output_type": "stream",
     "text": [
      "EVAL: [16/17] Data 0.000 (0.018) Elapsed 0m 4s (remain 0m 0s) \n",
      "Epoch: [6][0/65] Data 0.426 (0.426) Elapsed 0m 1s (remain 1m 7s) Loss: 1.7205(1.7205) Grad Norm: 0.0000  LR: 9.3324e-04  \n",
      "Epoch: [6][64/65] Data 0.000 (0.007) Elapsed 0m 57s (remain 0m 0s) Loss: 2.0586(1.4242) Grad Norm: 8.2673  LR: 9.3324e-04  \n",
      "EVAL: [0/17] Data 0.338 (0.338) Elapsed 0m 0s (remain 0m 9s) \n"
     ]
    },
    {
     "name": "stderr",
     "output_type": "stream",
     "text": [
      "labels: [ 6  4  0  3 12]\n",
      "pred_labels: [ 7  4  0  7 12]\n",
      "Epoch 6 - avg_train_loss: 1.4242  lr: 9.3324e-04  time: 62s\n",
      "Epoch 6 - Score: 0.5420\n",
      "Epoch 6 - Save Best Score: 0.5420 Model\n"
     ]
    },
    {
     "name": "stdout",
     "output_type": "stream",
     "text": [
      "EVAL: [16/17] Data 0.000 (0.020) Elapsed 0m 4s (remain 0m 0s) \n",
      "Epoch: [7][0/65] Data 0.462 (0.462) Elapsed 0m 1s (remain 1m 10s) Loss: 1.3436(1.3436) Grad Norm: 0.0000  LR: 9.0853e-04  \n",
      "Epoch: [7][64/65] Data 0.000 (0.007) Elapsed 0m 57s (remain 0m 0s) Loss: 1.2014(1.3113) Grad Norm: 6.8362  LR: 9.0853e-04  \n",
      "EVAL: [0/17] Data 0.306 (0.306) Elapsed 0m 0s (remain 0m 8s) \n"
     ]
    },
    {
     "name": "stderr",
     "output_type": "stream",
     "text": [
      "labels: [ 6  4  0  3 12]\n",
      "pred_labels: [ 4  4  0  3 12]\n",
      "Epoch 7 - avg_train_loss: 1.3113  lr: 9.0853e-04  time: 62s\n",
      "Epoch 7 - Score: 0.4504\n"
     ]
    },
    {
     "name": "stdout",
     "output_type": "stream",
     "text": [
      "EVAL: [16/17] Data 0.000 (0.018) Elapsed 0m 4s (remain 0m 0s) \n",
      "Epoch: [8][0/65] Data 0.491 (0.491) Elapsed 0m 1s (remain 1m 11s) Loss: 1.9065(1.9065) Grad Norm: 0.0000  LR: 8.8057e-04  \n",
      "Epoch: [8][64/65] Data 0.000 (0.008) Elapsed 0m 57s (remain 0m 0s) Loss: 2.1221(1.4216) Grad Norm: 7.2140  LR: 8.8057e-04  \n",
      "EVAL: [0/17] Data 0.281 (0.281) Elapsed 0m 0s (remain 0m 8s) \n"
     ]
    },
    {
     "name": "stderr",
     "output_type": "stream",
     "text": [
      "labels: [ 6  4  0  3 12]\n",
      "pred_labels: [ 6  4  6  3 12]\n",
      "Epoch 8 - avg_train_loss: 1.4216  lr: 8.8057e-04  time: 62s\n",
      "Epoch 8 - Score: 0.5420\n"
     ]
    },
    {
     "name": "stdout",
     "output_type": "stream",
     "text": [
      "EVAL: [16/17] Data 0.000 (0.017) Elapsed 0m 4s (remain 0m 0s) \n",
      "Epoch: [9][0/65] Data 0.371 (0.371) Elapsed 0m 0s (remain 1m 2s) Loss: 0.4497(0.4497) Grad Norm: 0.0000  LR: 8.4958e-04  \n",
      "Epoch: [9][64/65] Data 0.000 (0.006) Elapsed 0m 57s (remain 0m 0s) Loss: 0.7176(1.2090) Grad Norm: 5.9347  LR: 8.4958e-04  \n",
      "EVAL: [0/17] Data 0.312 (0.312) Elapsed 0m 0s (remain 0m 8s) \n"
     ]
    },
    {
     "name": "stderr",
     "output_type": "stream",
     "text": [
      "labels: [ 6  4  0  3 12]\n",
      "pred_labels: [ 0  4  0  3 12]\n",
      "Epoch 9 - avg_train_loss: 1.2090  lr: 8.4958e-04  time: 62s\n",
      "Epoch 9 - Score: 0.5573\n",
      "Epoch 9 - Save Best Score: 0.5573 Model\n"
     ]
    },
    {
     "name": "stdout",
     "output_type": "stream",
     "text": [
      "EVAL: [16/17] Data 0.000 (0.019) Elapsed 0m 4s (remain 0m 0s) \n",
      "Epoch: [10][0/65] Data 0.430 (0.430) Elapsed 0m 1s (remain 1m 7s) Loss: 1.7931(1.7931) Grad Norm: 0.0000  LR: 8.1581e-04  \n",
      "Epoch: [10][64/65] Data 0.000 (0.007) Elapsed 0m 57s (remain 0m 0s) Loss: 1.6604(1.0703) Grad Norm: 5.6591  LR: 8.1581e-04  \n",
      "EVAL: [0/17] Data 0.321 (0.321) Elapsed 0m 0s (remain 0m 8s) \n"
     ]
    },
    {
     "name": "stderr",
     "output_type": "stream",
     "text": [
      "labels: [ 6  4  0  3 12]\n",
      "pred_labels: [ 6  4  0  2 12]\n",
      "Epoch 10 - avg_train_loss: 1.0703  lr: 8.1581e-04  time: 62s\n",
      "Epoch 10 - Score: 0.5649\n",
      "Epoch 10 - Save Best Score: 0.5649 Model\n"
     ]
    },
    {
     "name": "stdout",
     "output_type": "stream",
     "text": [
      "EVAL: [16/17] Data 0.000 (0.019) Elapsed 0m 4s (remain 0m 0s) \n",
      "Epoch: [11][0/65] Data 0.406 (0.406) Elapsed 0m 1s (remain 1m 9s) Loss: 1.6757(1.6757) Grad Norm: 0.0000  LR: 7.7953e-04  \n",
      "Epoch: [11][64/65] Data 0.000 (0.006) Elapsed 0m 57s (remain 0m 0s) Loss: 0.7519(1.2309) Grad Norm: 5.7986  LR: 7.7953e-04  \n",
      "EVAL: [0/17] Data 0.290 (0.290) Elapsed 0m 0s (remain 0m 8s) \n"
     ]
    },
    {
     "name": "stderr",
     "output_type": "stream",
     "text": [
      "labels: [ 6  4  0  3 12]\n",
      "pred_labels: [ 0  4  0  3 12]\n",
      "Epoch 11 - avg_train_loss: 1.2309  lr: 7.7953e-04  time: 62s\n",
      "Epoch 11 - Score: 0.6260\n",
      "Epoch 11 - Save Best Score: 0.6260 Model\n"
     ]
    },
    {
     "name": "stdout",
     "output_type": "stream",
     "text": [
      "EVAL: [16/17] Data 0.000 (0.017) Elapsed 0m 4s (remain 0m 0s) \n",
      "Epoch: [12][0/65] Data 0.460 (0.460) Elapsed 0m 1s (remain 1m 11s) Loss: 1.8605(1.8605) Grad Norm: 0.0000  LR: 7.4103e-04  \n",
      "Epoch: [12][64/65] Data 0.000 (0.007) Elapsed 0m 57s (remain 0m 0s) Loss: 2.2401(0.9981) Grad Norm: 6.4662  LR: 7.4103e-04  \n",
      "EVAL: [0/17] Data 0.327 (0.327) Elapsed 0m 0s (remain 0m 8s) \n"
     ]
    },
    {
     "name": "stderr",
     "output_type": "stream",
     "text": [
      "labels: [ 6  4  0  3 12]\n",
      "pred_labels: [6 4 0 3 2]\n",
      "Epoch 12 - avg_train_loss: 0.9981  lr: 7.4103e-04  time: 62s\n",
      "Epoch 12 - Score: 0.5267\n"
     ]
    },
    {
     "name": "stdout",
     "output_type": "stream",
     "text": [
      "EVAL: [16/17] Data 0.000 (0.019) Elapsed 0m 4s (remain 0m 0s) \n",
      "Epoch: [13][0/65] Data 0.386 (0.386) Elapsed 0m 1s (remain 1m 6s) Loss: 0.2453(0.2453) Grad Norm: 0.0000  LR: 7.0063e-04  \n",
      "Epoch: [13][64/65] Data 0.000 (0.006) Elapsed 0m 57s (remain 0m 0s) Loss: 0.3202(0.9619) Grad Norm: 6.4522  LR: 7.0063e-04  \n",
      "EVAL: [0/17] Data 0.329 (0.329) Elapsed 0m 0s (remain 0m 9s) \n"
     ]
    },
    {
     "name": "stderr",
     "output_type": "stream",
     "text": [
      "labels: [ 6  4  0  3 12]\n",
      "pred_labels: [ 6  4  0  3 12]\n",
      "Epoch 13 - avg_train_loss: 0.9619  lr: 7.0063e-04  time: 62s\n",
      "Epoch 13 - Score: 0.5954\n"
     ]
    },
    {
     "name": "stdout",
     "output_type": "stream",
     "text": [
      "EVAL: [16/17] Data 0.000 (0.020) Elapsed 0m 4s (remain 0m 0s) \n",
      "Epoch: [14][0/65] Data 0.429 (0.429) Elapsed 0m 1s (remain 1m 6s) Loss: 1.3995(1.3995) Grad Norm: 0.0000  LR: 6.5865e-04  \n",
      "Epoch: [14][64/65] Data 0.000 (0.007) Elapsed 0m 57s (remain 0m 0s) Loss: 0.1838(0.9048) Grad Norm: 5.7605  LR: 6.5865e-04  \n",
      "EVAL: [0/17] Data 0.298 (0.298) Elapsed 0m 0s (remain 0m 8s) \n"
     ]
    },
    {
     "name": "stderr",
     "output_type": "stream",
     "text": [
      "labels: [ 6  4  0  3 12]\n",
      "pred_labels: [ 2  4  0  3 12]\n",
      "Epoch 14 - avg_train_loss: 0.9048  lr: 6.5865e-04  time: 62s\n",
      "Epoch 14 - Score: 0.5802\n"
     ]
    },
    {
     "name": "stdout",
     "output_type": "stream",
     "text": [
      "EVAL: [16/17] Data 0.000 (0.018) Elapsed 0m 4s (remain 0m 0s) \n",
      "Epoch: [15][0/65] Data 0.381 (0.381) Elapsed 0m 1s (remain 1m 6s) Loss: 0.1145(0.1145) Grad Norm: 0.0000  LR: 6.1542e-04  \n",
      "Epoch: [15][64/65] Data 0.000 (0.006) Elapsed 0m 57s (remain 0m 0s) Loss: 0.1739(1.1416) Grad Norm: 4.9972  LR: 6.1542e-04  \n",
      "EVAL: [0/17] Data 0.235 (0.235) Elapsed 0m 0s (remain 0m 7s) \n"
     ]
    },
    {
     "name": "stderr",
     "output_type": "stream",
     "text": [
      "labels: [ 6  4  0  3 12]\n",
      "pred_labels: [ 6  4  0  3 12]\n",
      "Epoch 15 - avg_train_loss: 1.1416  lr: 6.1542e-04  time: 61s\n",
      "Epoch 15 - Score: 0.5649\n"
     ]
    },
    {
     "name": "stdout",
     "output_type": "stream",
     "text": [
      "EVAL: [16/17] Data 0.000 (0.014) Elapsed 0m 4s (remain 0m 0s) \n",
      "Epoch: [16][0/65] Data 0.371 (0.371) Elapsed 0m 0s (remain 1m 2s) Loss: 0.5325(0.5325) Grad Norm: 0.0000  LR: 5.7130e-04  \n",
      "Epoch: [16][64/65] Data 0.000 (0.006) Elapsed 0m 56s (remain 0m 0s) Loss: 0.1555(0.9252) Grad Norm: 4.6259  LR: 5.7130e-04  \n",
      "EVAL: [0/17] Data 0.259 (0.259) Elapsed 0m 0s (remain 0m 7s) \n"
     ]
    },
    {
     "name": "stderr",
     "output_type": "stream",
     "text": [
      "labels: [ 6  4  0  3 12]\n",
      "pred_labels: [ 6  4  0  3 12]\n",
      "Epoch 16 - avg_train_loss: 0.9252  lr: 5.7130e-04  time: 61s\n",
      "Epoch 16 - Score: 0.6107\n"
     ]
    },
    {
     "name": "stdout",
     "output_type": "stream",
     "text": [
      "EVAL: [16/17] Data 0.000 (0.015) Elapsed 0m 4s (remain 0m 0s) \n",
      "Epoch: [17][0/65] Data 0.385 (0.385) Elapsed 0m 1s (remain 1m 5s) Loss: 0.8239(0.8239) Grad Norm: 0.0000  LR: 5.2663e-04  \n",
      "Epoch: [17][64/65] Data 0.000 (0.006) Elapsed 0m 56s (remain 0m 0s) Loss: 0.2822(0.8636) Grad Norm: 1.4968  LR: 5.2663e-04  \n",
      "EVAL: [0/17] Data 0.274 (0.274) Elapsed 0m 0s (remain 0m 8s) \n"
     ]
    },
    {
     "name": "stderr",
     "output_type": "stream",
     "text": [
      "labels: [ 6  4  0  3 12]\n",
      "pred_labels: [ 2  9  0  3 12]\n",
      "Epoch 17 - avg_train_loss: 0.8636  lr: 5.2663e-04  time: 61s\n",
      "Epoch 17 - Score: 0.5725\n"
     ]
    },
    {
     "name": "stdout",
     "output_type": "stream",
     "text": [
      "EVAL: [16/17] Data 0.000 (0.016) Elapsed 0m 4s (remain 0m 0s) \n",
      "Epoch: [18][0/65] Data 0.391 (0.391) Elapsed 0m 1s (remain 1m 6s) Loss: 1.2271(1.2271) Grad Norm: 0.0000  LR: 4.8179e-04  \n",
      "Epoch: [18][64/65] Data 0.000 (0.006) Elapsed 0m 56s (remain 0m 0s) Loss: 2.3503(0.9532) Grad Norm: 4.2264  LR: 4.8179e-04  \n",
      "EVAL: [0/17] Data 0.336 (0.336) Elapsed 0m 0s (remain 0m 9s) \n"
     ]
    },
    {
     "name": "stderr",
     "output_type": "stream",
     "text": [
      "labels: [ 6  4  0  3 12]\n",
      "pred_labels: [ 6  4  0  3 12]\n",
      "Epoch 18 - avg_train_loss: 0.9532  lr: 4.8179e-04  time: 61s\n",
      "Epoch 18 - Score: 0.6031\n"
     ]
    },
    {
     "name": "stdout",
     "output_type": "stream",
     "text": [
      "EVAL: [16/17] Data 0.000 (0.020) Elapsed 0m 4s (remain 0m 0s) \n",
      "Epoch: [19][0/65] Data 0.397 (0.397) Elapsed 0m 1s (remain 1m 4s) Loss: 1.4806(1.4806) Grad Norm: 0.0000  LR: 4.3712e-04  \n",
      "Epoch: [19][64/65] Data 0.000 (0.006) Elapsed 0m 56s (remain 0m 0s) Loss: 1.7655(0.8929) Grad Norm: 4.1943  LR: 4.3712e-04  \n",
      "EVAL: [0/17] Data 0.300 (0.300) Elapsed 0m 0s (remain 0m 8s) \n"
     ]
    },
    {
     "name": "stderr",
     "output_type": "stream",
     "text": [
      "labels: [ 6  4  0  3 12]\n",
      "pred_labels: [ 6  4  0  3 12]\n",
      "Epoch 19 - avg_train_loss: 0.8929  lr: 4.3712e-04  time: 61s\n",
      "Epoch 19 - Score: 0.6107\n"
     ]
    },
    {
     "name": "stdout",
     "output_type": "stream",
     "text": [
      "EVAL: [16/17] Data 0.000 (0.018) Elapsed 0m 4s (remain 0m 0s) \n",
      "Epoch: [20][0/65] Data 0.420 (0.420) Elapsed 0m 1s (remain 1m 5s) Loss: 0.5446(0.5446) Grad Norm: 0.0000  LR: 3.9299e-04  \n",
      "Epoch: [20][64/65] Data 0.000 (0.007) Elapsed 0m 56s (remain 0m 0s) Loss: 1.3463(0.7619) Grad Norm: 4.3943  LR: 3.9299e-04  \n",
      "EVAL: [0/17] Data 0.311 (0.311) Elapsed 0m 0s (remain 0m 8s) \n"
     ]
    },
    {
     "name": "stderr",
     "output_type": "stream",
     "text": [
      "labels: [ 6  4  0  3 12]\n",
      "pred_labels: [ 6  4  0  3 12]\n",
      "Epoch 20 - avg_train_loss: 0.7619  lr: 3.9299e-04  time: 61s\n",
      "Epoch 20 - Score: 0.5573\n"
     ]
    },
    {
     "name": "stdout",
     "output_type": "stream",
     "text": [
      "EVAL: [16/17] Data 0.000 (0.019) Elapsed 0m 4s (remain 0m 0s) \n",
      "Epoch: [21][0/65] Data 0.473 (0.473) Elapsed 0m 1s (remain 1m 9s) Loss: 1.3558(1.3558) Grad Norm: 0.0000  LR: 3.4975e-04  \n",
      "Epoch: [21][64/65] Data 0.000 (0.007) Elapsed 0m 56s (remain 0m 0s) Loss: 1.5196(0.8460) Grad Norm: 1.7565  LR: 3.4975e-04  \n",
      "EVAL: [0/17] Data 0.272 (0.272) Elapsed 0m 0s (remain 0m 8s) \n"
     ]
    },
    {
     "name": "stderr",
     "output_type": "stream",
     "text": [
      "labels: [ 6  4  0  3 12]\n",
      "pred_labels: [ 6  4  0  3 12]\n",
      "Epoch 21 - avg_train_loss: 0.8460  lr: 3.4975e-04  time: 61s\n",
      "Epoch 21 - Score: 0.5954\n"
     ]
    },
    {
     "name": "stdout",
     "output_type": "stream",
     "text": [
      "EVAL: [16/17] Data 0.000 (0.016) Elapsed 0m 4s (remain 0m 0s) \n",
      "Epoch: [22][0/65] Data 0.461 (0.461) Elapsed 0m 1s (remain 1m 8s) Loss: 0.1667(0.1667) Grad Norm: 0.0000  LR: 3.0775e-04  \n",
      "Epoch: [22][64/65] Data 0.000 (0.007) Elapsed 0m 56s (remain 0m 0s) Loss: 1.2825(0.8328) Grad Norm: 0.7999  LR: 3.0775e-04  \n",
      "EVAL: [0/17] Data 0.284 (0.284) Elapsed 0m 0s (remain 0m 8s) \n"
     ]
    },
    {
     "name": "stderr",
     "output_type": "stream",
     "text": [
      "labels: [ 6  4  0  3 12]\n",
      "pred_labels: [ 6  4  0  3 12]\n",
      "Epoch 22 - avg_train_loss: 0.8328  lr: 3.0775e-04  time: 61s\n",
      "Epoch 22 - Score: 0.6107\n"
     ]
    },
    {
     "name": "stdout",
     "output_type": "stream",
     "text": [
      "EVAL: [16/17] Data 0.000 (0.017) Elapsed 0m 4s (remain 0m 0s) \n",
      "Epoch: [23][0/65] Data 0.413 (0.413) Elapsed 0m 1s (remain 1m 8s) Loss: 1.3057(1.3057) Grad Norm: 0.0000  LR: 2.6732e-04  \n",
      "Epoch: [23][64/65] Data 0.000 (0.007) Elapsed 0m 56s (remain 0m 0s) Loss: 1.3330(0.6932) Grad Norm: 4.1354  LR: 2.6732e-04  \n",
      "EVAL: [0/17] Data 0.297 (0.297) Elapsed 0m 0s (remain 0m 8s) \n"
     ]
    },
    {
     "name": "stderr",
     "output_type": "stream",
     "text": [
      "labels: [ 6  4  0  3 12]\n",
      "pred_labels: [ 6  4  0  3 12]\n",
      "Epoch 23 - avg_train_loss: 0.6932  lr: 2.6732e-04  time: 61s\n",
      "Epoch 23 - Score: 0.6031\n"
     ]
    },
    {
     "name": "stdout",
     "output_type": "stream",
     "text": [
      "EVAL: [16/17] Data 0.000 (0.018) Elapsed 0m 4s (remain 0m 0s) \n",
      "Epoch: [24][0/65] Data 0.393 (0.393) Elapsed 0m 1s (remain 1m 4s) Loss: 0.0559(0.0559) Grad Norm: 0.0000  LR: 2.2880e-04  \n",
      "Epoch: [24][64/65] Data 0.000 (0.006) Elapsed 0m 56s (remain 0m 0s) Loss: 0.2911(0.6670) Grad Norm: 3.9530  LR: 2.2880e-04  \n",
      "EVAL: [0/17] Data 0.320 (0.320) Elapsed 0m 0s (remain 0m 8s) \n"
     ]
    },
    {
     "name": "stderr",
     "output_type": "stream",
     "text": [
      "labels: [ 6  4  0  3 12]\n",
      "pred_labels: [ 6  4  0  3 12]\n",
      "Epoch 24 - avg_train_loss: 0.6670  lr: 2.2880e-04  time: 61s\n",
      "Epoch 24 - Score: 0.5878\n"
     ]
    },
    {
     "name": "stdout",
     "output_type": "stream",
     "text": [
      "EVAL: [16/17] Data 0.000 (0.019) Elapsed 0m 4s (remain 0m 0s) \n",
      "Epoch: [25][0/65] Data 0.408 (0.408) Elapsed 0m 1s (remain 1m 5s) Loss: 0.2463(0.2463) Grad Norm: 0.0000  LR: 1.9248e-04  \n",
      "Epoch: [25][64/65] Data 0.000 (0.006) Elapsed 0m 56s (remain 0m 0s) Loss: 1.0983(0.7040) Grad Norm: 3.0540  LR: 1.9248e-04  \n",
      "EVAL: [0/17] Data 0.306 (0.306) Elapsed 0m 0s (remain 0m 8s) \n"
     ]
    },
    {
     "name": "stderr",
     "output_type": "stream",
     "text": [
      "labels: [ 6  4  0  3 12]\n",
      "pred_labels: [ 6  4  0  3 12]\n",
      "Epoch 25 - avg_train_loss: 0.7040  lr: 1.9248e-04  time: 61s\n",
      "Epoch 25 - Score: 0.5954\n"
     ]
    },
    {
     "name": "stdout",
     "output_type": "stream",
     "text": [
      "EVAL: [16/17] Data 0.000 (0.018) Elapsed 0m 4s (remain 0m 0s) \n",
      "Epoch: [26][0/65] Data 0.436 (0.436) Elapsed 0m 1s (remain 1m 6s) Loss: 1.1156(1.1156) Grad Norm: 0.0000  LR: 1.5867e-04  \n",
      "Epoch: [26][64/65] Data 0.000 (0.007) Elapsed 0m 56s (remain 0m 0s) Loss: 1.5118(0.8062) Grad Norm: 3.3396  LR: 1.5867e-04  \n",
      "EVAL: [0/17] Data 0.330 (0.330) Elapsed 0m 0s (remain 0m 9s) \n"
     ]
    },
    {
     "name": "stderr",
     "output_type": "stream",
     "text": [
      "labels: [ 6  4  0  3 12]\n",
      "pred_labels: [ 2  4  0  3 12]\n",
      "Epoch 26 - avg_train_loss: 0.8062  lr: 1.5867e-04  time: 61s\n",
      "Epoch 26 - Score: 0.5649\n"
     ]
    },
    {
     "name": "stdout",
     "output_type": "stream",
     "text": [
      "EVAL: [16/17] Data 0.000 (0.020) Elapsed 0m 4s (remain 0m 0s) \n",
      "Epoch: [27][0/65] Data 0.485 (0.485) Elapsed 0m 1s (remain 1m 9s) Loss: 1.1957(1.1957) Grad Norm: 0.0000  LR: 1.2762e-04  \n",
      "Epoch: [27][64/65] Data 0.000 (0.008) Elapsed 0m 56s (remain 0m 0s) Loss: 0.0601(0.6533) Grad Norm: 1.1934  LR: 1.2762e-04  \n",
      "EVAL: [0/17] Data 0.280 (0.280) Elapsed 0m 0s (remain 0m 8s) \n"
     ]
    },
    {
     "name": "stderr",
     "output_type": "stream",
     "text": [
      "labels: [ 6  4  0  3 12]\n",
      "pred_labels: [ 6  4  0  3 12]\n",
      "Epoch 27 - avg_train_loss: 0.6533  lr: 1.2762e-04  time: 61s\n",
      "Epoch 27 - Score: 0.5802\n"
     ]
    },
    {
     "name": "stdout",
     "output_type": "stream",
     "text": [
      "EVAL: [16/17] Data 0.000 (0.017) Elapsed 0m 4s (remain 0m 0s) \n",
      "Epoch: [28][0/65] Data 0.418 (0.418) Elapsed 0m 1s (remain 1m 5s) Loss: 0.0736(0.0736) Grad Norm: 0.0000  LR: 9.9584e-05  \n",
      "Epoch: [28][64/65] Data 0.000 (0.007) Elapsed 0m 56s (remain 0m 0s) Loss: 0.9355(0.6766) Grad Norm: 2.3165  LR: 9.9584e-05  \n",
      "EVAL: [0/17] Data 0.269 (0.269) Elapsed 0m 0s (remain 0m 8s) \n"
     ]
    },
    {
     "name": "stderr",
     "output_type": "stream",
     "text": [
      "labels: [ 6  4  0  3 12]\n",
      "pred_labels: [ 6  4  0  3 12]\n",
      "Epoch 28 - avg_train_loss: 0.6766  lr: 9.9584e-05  time: 61s\n",
      "Epoch 28 - Score: 0.6107\n"
     ]
    },
    {
     "name": "stdout",
     "output_type": "stream",
     "text": [
      "EVAL: [16/17] Data 0.000 (0.016) Elapsed 0m 4s (remain 0m 0s) \n",
      "Epoch: [29][0/65] Data 0.447 (0.447) Elapsed 0m 1s (remain 1m 8s) Loss: 0.9060(0.9060) Grad Norm: 0.0000  LR: 7.4783e-05  \n",
      "Epoch: [29][64/65] Data 0.000 (0.007) Elapsed 0m 56s (remain 0m 0s) Loss: 0.0314(0.5913) Grad Norm: 0.8611  LR: 7.4783e-05  \n",
      "EVAL: [0/17] Data 0.276 (0.276) Elapsed 0m 0s (remain 0m 8s) \n"
     ]
    },
    {
     "name": "stderr",
     "output_type": "stream",
     "text": [
      "labels: [ 6  4  0  3 12]\n",
      "pred_labels: [ 6  4  0  3 12]\n",
      "Epoch 29 - avg_train_loss: 0.5913  lr: 7.4783e-05  time: 61s\n",
      "Epoch 29 - Score: 0.6183\n"
     ]
    },
    {
     "name": "stdout",
     "output_type": "stream",
     "text": [
      "EVAL: [16/17] Data 0.000 (0.016) Elapsed 0m 4s (remain 0m 0s) \n",
      "Epoch: [30][0/65] Data 0.464 (0.464) Elapsed 0m 1s (remain 1m 8s) Loss: 0.7559(0.7559) Grad Norm: 0.0000  LR: 5.3404e-05  \n",
      "Epoch: [30][64/65] Data 0.000 (0.007) Elapsed 0m 56s (remain 0m 0s) Loss: 0.0161(0.6759) Grad Norm: 4.4261  LR: 5.3404e-05  \n",
      "EVAL: [0/17] Data 0.311 (0.311) Elapsed 0m 0s (remain 0m 8s) \n"
     ]
    },
    {
     "name": "stderr",
     "output_type": "stream",
     "text": [
      "labels: [ 6  4  0  3 12]\n",
      "pred_labels: [ 6  4  0  3 12]\n",
      "Epoch 30 - avg_train_loss: 0.6759  lr: 5.3404e-05  time: 61s\n",
      "Epoch 30 - Score: 0.6183\n"
     ]
    },
    {
     "name": "stdout",
     "output_type": "stream",
     "text": [
      "EVAL: [16/17] Data 0.000 (0.019) Elapsed 0m 4s (remain 0m 0s) \n",
      "Epoch: [31][0/65] Data 0.417 (0.417) Elapsed 0m 1s (remain 1m 8s) Loss: 0.2213(0.2213) Grad Norm: 0.0000  LR: 3.5607e-05  \n",
      "Epoch: [31][64/65] Data 0.000 (0.007) Elapsed 0m 56s (remain 0m 0s) Loss: 0.0221(0.0739) Grad Norm: 1.4859  LR: 3.5607e-05  \n",
      "EVAL: [0/17] Data 0.235 (0.235) Elapsed 0m 0s (remain 0m 7s) \n"
     ]
    },
    {
     "name": "stderr",
     "output_type": "stream",
     "text": [
      "labels: [ 6  4  0  3 12]\n",
      "pred_labels: [ 6  4  0  3 12]\n",
      "Epoch 31 - avg_train_loss: 0.0739  lr: 3.5607e-05  time: 61s\n",
      "Epoch 31 - Score: 0.6183\n"
     ]
    },
    {
     "name": "stdout",
     "output_type": "stream",
     "text": [
      "EVAL: [16/17] Data 0.000 (0.014) Elapsed 0m 4s (remain 0m 0s) \n",
      "Epoch: [32][0/65] Data 0.376 (0.376) Elapsed 0m 0s (remain 1m 3s) Loss: 0.1156(0.1156) Grad Norm: 0.0000  LR: 2.1508e-05  \n",
      "Epoch: [32][64/65] Data 0.000 (0.006) Elapsed 0m 56s (remain 0m 0s) Loss: 0.0337(0.0513) Grad Norm: 1.5184  LR: 2.1508e-05  \n",
      "EVAL: [0/17] Data 0.226 (0.226) Elapsed 0m 0s (remain 0m 7s) \n"
     ]
    },
    {
     "name": "stderr",
     "output_type": "stream",
     "text": [
      "labels: [ 6  4  0  3 12]\n",
      "pred_labels: [ 6  4  0  3 12]\n",
      "Epoch 32 - avg_train_loss: 0.0513  lr: 2.1508e-05  time: 61s\n",
      "Epoch 32 - Score: 0.6183\n"
     ]
    },
    {
     "name": "stdout",
     "output_type": "stream",
     "text": [
      "EVAL: [16/17] Data 0.000 (0.014) Elapsed 0m 4s (remain 0m 0s) \n",
      "Epoch: [33][0/65] Data 0.401 (0.401) Elapsed 0m 1s (remain 1m 5s) Loss: 0.0231(0.0231) Grad Norm: 0.0000  LR: 1.1173e-05  \n",
      "Epoch: [33][64/65] Data 0.000 (0.006) Elapsed 0m 56s (remain 0m 0s) Loss: 0.0188(0.0513) Grad Norm: 3.9511  LR: 1.1173e-05  \n",
      "EVAL: [0/17] Data 0.276 (0.276) Elapsed 0m 0s (remain 0m 8s) \n"
     ]
    },
    {
     "name": "stderr",
     "output_type": "stream",
     "text": [
      "labels: [ 6  4  0  3 12]\n",
      "pred_labels: [ 6  4  0  3 12]\n",
      "Epoch 33 - avg_train_loss: 0.0513  lr: 1.1173e-05  time: 61s\n",
      "Epoch 33 - Score: 0.6183\n"
     ]
    },
    {
     "name": "stdout",
     "output_type": "stream",
     "text": [
      "EVAL: [16/17] Data 0.000 (0.016) Elapsed 0m 4s (remain 0m 0s) \n",
      "Epoch: [34][0/65] Data 0.470 (0.470) Elapsed 0m 1s (remain 1m 8s) Loss: 0.1736(0.1736) Grad Norm: 0.0000  LR: 4.5796e-06  \n",
      "Epoch: [34][64/65] Data 0.000 (0.007) Elapsed 0m 56s (remain 0m 0s) Loss: 0.2136(0.0395) Grad Norm: 0.2088  LR: 4.5796e-06  \n",
      "EVAL: [0/17] Data 0.265 (0.265) Elapsed 0m 0s (remain 0m 7s) \n"
     ]
    },
    {
     "name": "stderr",
     "output_type": "stream",
     "text": [
      "labels: [ 6  4  0  3 12]\n",
      "pred_labels: [ 6  4  0  3 12]\n",
      "Epoch 34 - avg_train_loss: 0.0395  lr: 4.5796e-06  time: 61s\n",
      "Epoch 34 - Score: 0.6107\n"
     ]
    },
    {
     "name": "stdout",
     "output_type": "stream",
     "text": [
      "EVAL: [16/17] Data 0.000 (0.016) Elapsed 0m 4s (remain 0m 0s) \n",
      "Epoch: [35][0/65] Data 0.476 (0.476) Elapsed 0m 1s (remain 1m 9s) Loss: 0.0321(0.0321) Grad Norm: 0.0000  LR: 1.5037e-06  \n",
      "Epoch: [35][64/65] Data 0.000 (0.008) Elapsed 0m 56s (remain 0m 0s) Loss: 0.0220(0.0481) Grad Norm: 2.3805  LR: 1.5037e-06  \n",
      "EVAL: [0/17] Data 0.257 (0.257) Elapsed 0m 0s (remain 0m 7s) \n"
     ]
    },
    {
     "name": "stderr",
     "output_type": "stream",
     "text": [
      "labels: [ 6  4  0  3 12]\n",
      "pred_labels: [ 6  4  0  3 12]\n",
      "Epoch 35 - avg_train_loss: 0.0481  lr: 1.5037e-06  time: 61s\n",
      "Epoch 35 - Score: 0.6183\n",
      "==================== fold: 1, seed: 2 training ====================\n"
     ]
    },
    {
     "name": "stdout",
     "output_type": "stream",
     "text": [
      "EVAL: [16/17] Data 0.000 (0.015) Elapsed 0m 4s (remain 0m 0s) \n",
      "Epoch: [1][0/65] Data 0.489 (0.489) Elapsed 0m 1s (remain 1m 9s) Loss: 2.5949(2.5949) Grad Norm: 0.0000  LR: 1.0000e-03  \n",
      "Epoch: [1][64/65] Data 0.000 (0.008) Elapsed 0m 57s (remain 0m 0s) Loss: 2.6573(2.5628) Grad Norm: 7.3726  LR: 1.0000e-03  \n",
      "EVAL: [0/17] Data 0.281 (0.281) Elapsed 0m 0s (remain 0m 8s) \n"
     ]
    },
    {
     "name": "stderr",
     "output_type": "stream",
     "text": [
      "labels: [ 2  4  2  2 12]\n",
      "pred_labels: [2 0 9 2 0]\n",
      "Epoch 1 - avg_train_loss: 2.5628  lr: 1.0000e-03  time: 62s\n",
      "Epoch 1 - Score: 0.2595\n",
      "Epoch 1 - Save Best Score: 0.2595 Model\n"
     ]
    },
    {
     "name": "stdout",
     "output_type": "stream",
     "text": [
      "EVAL: [16/17] Data 0.000 (0.017) Elapsed 0m 4s (remain 0m 0s) \n",
      "Epoch: [2][0/65] Data 0.416 (0.416) Elapsed 0m 1s (remain 1m 11s) Loss: 2.4726(2.4726) Grad Norm: 0.0000  LR: 9.9598e-04  \n",
      "Epoch: [2][64/65] Data 0.000 (0.007) Elapsed 0m 57s (remain 0m 0s) Loss: 2.3892(2.3758) Grad Norm: inf  LR: 9.9598e-04  \n",
      "EVAL: [0/17] Data 0.313 (0.313) Elapsed 0m 0s (remain 0m 8s) \n"
     ]
    },
    {
     "name": "stderr",
     "output_type": "stream",
     "text": [
      "labels: [ 2  4  2  2 12]\n",
      "pred_labels: [2 0 9 2 9]\n",
      "Epoch 2 - avg_train_loss: 2.3758  lr: 9.9598e-04  time: 62s\n",
      "Epoch 2 - Score: 0.3130\n",
      "Epoch 2 - Save Best Score: 0.3130 Model\n"
     ]
    },
    {
     "name": "stdout",
     "output_type": "stream",
     "text": [
      "EVAL: [16/17] Data 0.000 (0.019) Elapsed 0m 4s (remain 0m 0s) \n",
      "Epoch: [3][0/65] Data 0.504 (0.504) Elapsed 0m 1s (remain 1m 11s) Loss: 2.4390(2.4390) Grad Norm: 0.0000  LR: 9.8599e-04  \n",
      "Epoch: [3][64/65] Data 0.000 (0.008) Elapsed 0m 57s (remain 0m 0s) Loss: 1.7319(2.2016) Grad Norm: 8.2298  LR: 9.8599e-04  \n",
      "EVAL: [0/17] Data 0.344 (0.344) Elapsed 0m 0s (remain 0m 9s) \n"
     ]
    },
    {
     "name": "stderr",
     "output_type": "stream",
     "text": [
      "labels: [ 2  4  2  2 12]\n",
      "pred_labels: [2 0 5 2 9]\n",
      "Epoch 3 - avg_train_loss: 2.2016  lr: 9.8599e-04  time: 62s\n",
      "Epoch 3 - Score: 0.4351\n",
      "Epoch 3 - Save Best Score: 0.4351 Model\n"
     ]
    },
    {
     "name": "stdout",
     "output_type": "stream",
     "text": [
      "EVAL: [16/17] Data 0.000 (0.020) Elapsed 0m 4s (remain 0m 0s) \n",
      "Epoch: [4][0/65] Data 0.508 (0.508) Elapsed 0m 1s (remain 1m 13s) Loss: 1.8759(1.8759) Grad Norm: 0.0000  LR: 9.7213e-04  \n",
      "Epoch: [4][64/65] Data 0.000 (0.008) Elapsed 0m 57s (remain 0m 0s) Loss: 1.8933(1.9784) Grad Norm: 8.6866  LR: 9.7213e-04  \n",
      "EVAL: [0/17] Data 0.382 (0.382) Elapsed 0m 0s (remain 0m 9s) \n"
     ]
    },
    {
     "name": "stderr",
     "output_type": "stream",
     "text": [
      "labels: [ 2  4  2  2 12]\n",
      "pred_labels: [ 2  0  9  2 11]\n",
      "Epoch 4 - avg_train_loss: 1.9784  lr: 9.7213e-04  time: 62s\n",
      "Epoch 4 - Score: 0.5649\n",
      "Epoch 4 - Save Best Score: 0.5649 Model\n"
     ]
    },
    {
     "name": "stdout",
     "output_type": "stream",
     "text": [
      "EVAL: [16/17] Data 0.000 (0.023) Elapsed 0m 4s (remain 0m 0s) \n",
      "Epoch: [5][0/65] Data 0.420 (0.420) Elapsed 0m 1s (remain 1m 7s) Loss: 0.9406(0.9406) Grad Norm: 0.0000  LR: 9.5449e-04  \n",
      "Epoch: [5][64/65] Data 0.000 (0.007) Elapsed 0m 57s (remain 0m 0s) Loss: 1.4104(1.7088) Grad Norm: 7.5308  LR: 9.5449e-04  \n",
      "EVAL: [0/17] Data 0.378 (0.378) Elapsed 0m 0s (remain 0m 9s) \n"
     ]
    },
    {
     "name": "stderr",
     "output_type": "stream",
     "text": [
      "labels: [ 2  4  2  2 12]\n",
      "pred_labels: [ 2  0  2  2 11]\n",
      "Epoch 5 - avg_train_loss: 1.7088  lr: 9.5449e-04  time: 62s\n",
      "Epoch 5 - Score: 0.6031\n",
      "Epoch 5 - Save Best Score: 0.6031 Model\n"
     ]
    },
    {
     "name": "stdout",
     "output_type": "stream",
     "text": [
      "EVAL: [16/17] Data 0.000 (0.022) Elapsed 0m 4s (remain 0m 0s) \n",
      "Epoch: [6][0/65] Data 0.593 (0.593) Elapsed 0m 1s (remain 1m 18s) Loss: 1.4518(1.4518) Grad Norm: 0.0000  LR: 9.3324e-04  \n",
      "Epoch: [6][64/65] Data 0.000 (0.009) Elapsed 0m 57s (remain 0m 0s) Loss: 0.8369(1.4788) Grad Norm: 7.3059  LR: 9.3324e-04  \n",
      "EVAL: [0/17] Data 0.280 (0.280) Elapsed 0m 0s (remain 0m 8s) \n"
     ]
    },
    {
     "name": "stderr",
     "output_type": "stream",
     "text": [
      "labels: [ 2  4  2  2 12]\n",
      "pred_labels: [2 2 5 2 2]\n",
      "Epoch 6 - avg_train_loss: 1.4788  lr: 9.3324e-04  time: 62s\n",
      "Epoch 6 - Score: 0.6183\n",
      "Epoch 6 - Save Best Score: 0.6183 Model\n"
     ]
    },
    {
     "name": "stdout",
     "output_type": "stream",
     "text": [
      "EVAL: [16/17] Data 0.000 (0.017) Elapsed 0m 4s (remain 0m 0s) \n",
      "Epoch: [7][0/65] Data 0.450 (0.450) Elapsed 0m 1s (remain 1m 8s) Loss: 0.9625(0.9625) Grad Norm: 0.0000  LR: 9.0853e-04  \n",
      "Epoch: [7][64/65] Data 0.000 (0.007) Elapsed 0m 57s (remain 0m 0s) Loss: 1.2572(1.3941) Grad Norm: 6.7033  LR: 9.0853e-04  \n",
      "EVAL: [0/17] Data 0.324 (0.324) Elapsed 0m 0s (remain 0m 9s) \n"
     ]
    },
    {
     "name": "stderr",
     "output_type": "stream",
     "text": [
      "labels: [ 2  4  2  2 12]\n",
      "pred_labels: [2 2 5 2 1]\n",
      "Epoch 7 - avg_train_loss: 1.3941  lr: 9.0853e-04  time: 62s\n",
      "Epoch 7 - Score: 0.5649\n"
     ]
    },
    {
     "name": "stdout",
     "output_type": "stream",
     "text": [
      "EVAL: [16/17] Data 0.000 (0.019) Elapsed 0m 4s (remain 0m 0s) \n",
      "Epoch: [8][0/65] Data 0.539 (0.539) Elapsed 0m 1s (remain 1m 13s) Loss: 1.8664(1.8664) Grad Norm: 0.0000  LR: 8.8057e-04  \n",
      "Epoch: [8][64/65] Data 0.000 (0.008) Elapsed 0m 57s (remain 0m 0s) Loss: 2.6320(1.2899) Grad Norm: 7.5512  LR: 8.8057e-04  \n",
      "EVAL: [0/17] Data 0.315 (0.315) Elapsed 0m 0s (remain 0m 8s) \n"
     ]
    },
    {
     "name": "stderr",
     "output_type": "stream",
     "text": [
      "labels: [ 2  4  2  2 12]\n",
      "pred_labels: [2 2 1 2 2]\n",
      "Epoch 8 - avg_train_loss: 1.2899  lr: 8.8057e-04  time: 62s\n",
      "Epoch 8 - Score: 0.5802\n"
     ]
    },
    {
     "name": "stdout",
     "output_type": "stream",
     "text": [
      "EVAL: [16/17] Data 0.000 (0.019) Elapsed 0m 4s (remain 0m 0s) \n",
      "Epoch: [9][0/65] Data 0.474 (0.474) Elapsed 0m 1s (remain 1m 9s) Loss: 0.9456(0.9456) Grad Norm: 0.0000  LR: 8.4958e-04  \n",
      "Epoch: [9][64/65] Data 0.000 (0.007) Elapsed 0m 57s (remain 0m 0s) Loss: 1.2907(1.3154) Grad Norm: 5.8325  LR: 8.4958e-04  \n",
      "EVAL: [0/17] Data 0.288 (0.288) Elapsed 0m 0s (remain 0m 8s) \n"
     ]
    },
    {
     "name": "stderr",
     "output_type": "stream",
     "text": [
      "labels: [ 2  4  2  2 12]\n",
      "pred_labels: [2 0 5 2 9]\n",
      "Epoch 9 - avg_train_loss: 1.3154  lr: 8.4958e-04  time: 62s\n",
      "Epoch 9 - Score: 0.6412\n",
      "Epoch 9 - Save Best Score: 0.6412 Model\n"
     ]
    },
    {
     "name": "stdout",
     "output_type": "stream",
     "text": [
      "EVAL: [16/17] Data 0.000 (0.017) Elapsed 0m 4s (remain 0m 0s) \n",
      "Epoch: [10][0/65] Data 0.457 (0.457) Elapsed 0m 1s (remain 1m 11s) Loss: 1.6606(1.6606) Grad Norm: 0.0000  LR: 8.1581e-04  \n",
      "Epoch: [10][64/65] Data 0.000 (0.007) Elapsed 0m 57s (remain 0m 0s) Loss: 0.6699(1.2176) Grad Norm: 6.1867  LR: 8.1581e-04  \n",
      "EVAL: [0/17] Data 0.344 (0.344) Elapsed 0m 0s (remain 0m 9s) \n"
     ]
    },
    {
     "name": "stderr",
     "output_type": "stream",
     "text": [
      "labels: [ 2  4  2  2 12]\n",
      "pred_labels: [2 2 1 2 9]\n",
      "Epoch 10 - avg_train_loss: 1.2176  lr: 8.1581e-04  time: 62s\n",
      "Epoch 10 - Score: 0.5420\n"
     ]
    },
    {
     "name": "stdout",
     "output_type": "stream",
     "text": [
      "EVAL: [16/17] Data 0.000 (0.020) Elapsed 0m 4s (remain 0m 0s) \n",
      "Epoch: [11][0/65] Data 0.525 (0.525) Elapsed 0m 1s (remain 1m 12s) Loss: 0.2885(0.2885) Grad Norm: 0.0000  LR: 7.7953e-04  \n",
      "Epoch: [11][64/65] Data 0.000 (0.008) Elapsed 0m 57s (remain 0m 0s) Loss: 1.8916(1.1004) Grad Norm: 5.8179  LR: 7.7953e-04  \n",
      "EVAL: [0/17] Data 0.346 (0.346) Elapsed 0m 0s (remain 0m 9s) \n"
     ]
    },
    {
     "name": "stderr",
     "output_type": "stream",
     "text": [
      "labels: [ 2  4  2  2 12]\n",
      "pred_labels: [2 4 5 2 9]\n",
      "Epoch 11 - avg_train_loss: 1.1004  lr: 7.7953e-04  time: 62s\n",
      "Epoch 11 - Score: 0.6107\n"
     ]
    },
    {
     "name": "stdout",
     "output_type": "stream",
     "text": [
      "EVAL: [16/17] Data 0.000 (0.021) Elapsed 0m 4s (remain 0m 0s) \n",
      "Epoch: [12][0/65] Data 0.456 (0.456) Elapsed 0m 1s (remain 1m 9s) Loss: 2.2309(2.2309) Grad Norm: 0.0000  LR: 7.4103e-04  \n",
      "Epoch: [12][64/65] Data 0.000 (0.007) Elapsed 0m 57s (remain 0m 0s) Loss: 1.4908(0.9859) Grad Norm: 5.3978  LR: 7.4103e-04  \n",
      "EVAL: [0/17] Data 0.316 (0.316) Elapsed 0m 0s (remain 0m 8s) \n"
     ]
    },
    {
     "name": "stderr",
     "output_type": "stream",
     "text": [
      "labels: [ 2  4  2  2 12]\n",
      "pred_labels: [2 0 1 2 1]\n",
      "Epoch 12 - avg_train_loss: 0.9859  lr: 7.4103e-04  time: 62s\n",
      "Epoch 12 - Score: 0.6107\n"
     ]
    },
    {
     "name": "stdout",
     "output_type": "stream",
     "text": [
      "EVAL: [16/17] Data 0.000 (0.019) Elapsed 0m 4s (remain 0m 0s) \n",
      "Epoch: [13][0/65] Data 0.445 (0.445) Elapsed 0m 1s (remain 1m 7s) Loss: 0.3187(0.3187) Grad Norm: 0.0000  LR: 7.0063e-04  \n",
      "Epoch: [13][64/65] Data 0.000 (0.007) Elapsed 0m 57s (remain 0m 0s) Loss: 0.5721(0.9136) Grad Norm: 4.4159  LR: 7.0063e-04  \n",
      "EVAL: [0/17] Data 0.308 (0.308) Elapsed 0m 0s (remain 0m 8s) \n"
     ]
    },
    {
     "name": "stderr",
     "output_type": "stream",
     "text": [
      "labels: [ 2  4  2  2 12]\n",
      "pred_labels: [2 2 5 2 9]\n",
      "Epoch 13 - avg_train_loss: 0.9136  lr: 7.0063e-04  time: 62s\n",
      "Epoch 13 - Score: 0.5802\n"
     ]
    },
    {
     "name": "stdout",
     "output_type": "stream",
     "text": [
      "EVAL: [16/17] Data 0.000 (0.018) Elapsed 0m 4s (remain 0m 0s) \n",
      "Epoch: [14][0/65] Data 0.456 (0.456) Elapsed 0m 1s (remain 1m 8s) Loss: 0.9095(0.9095) Grad Norm: 0.0000  LR: 6.5865e-04  \n",
      "Epoch: [14][64/65] Data 0.000 (0.007) Elapsed 0m 57s (remain 0m 0s) Loss: 0.5250(1.0169) Grad Norm: 4.1937  LR: 6.5865e-04  \n",
      "EVAL: [0/17] Data 0.311 (0.311) Elapsed 0m 0s (remain 0m 8s) \n"
     ]
    },
    {
     "name": "stderr",
     "output_type": "stream",
     "text": [
      "labels: [ 2  4  2  2 12]\n",
      "pred_labels: [2 2 6 2 9]\n",
      "Epoch 14 - avg_train_loss: 1.0169  lr: 6.5865e-04  time: 62s\n",
      "Epoch 14 - Score: 0.6107\n"
     ]
    },
    {
     "name": "stdout",
     "output_type": "stream",
     "text": [
      "EVAL: [16/17] Data 0.000 (0.018) Elapsed 0m 4s (remain 0m 0s) \n",
      "Epoch: [15][0/65] Data 0.407 (0.407) Elapsed 0m 1s (remain 1m 7s) Loss: 0.1591(0.1591) Grad Norm: 0.0000  LR: 6.1542e-04  \n",
      "Epoch: [15][64/65] Data 0.000 (0.006) Elapsed 0m 56s (remain 0m 0s) Loss: 0.4452(0.9840) Grad Norm: 4.2776  LR: 6.1542e-04  \n",
      "EVAL: [0/17] Data 0.340 (0.340) Elapsed 0m 0s (remain 0m 9s) \n"
     ]
    },
    {
     "name": "stderr",
     "output_type": "stream",
     "text": [
      "labels: [ 2  4  2  2 12]\n",
      "pred_labels: [2 2 1 2 9]\n",
      "Epoch 15 - avg_train_loss: 0.9840  lr: 6.1542e-04  time: 62s\n",
      "Epoch 15 - Score: 0.5878\n"
     ]
    },
    {
     "name": "stdout",
     "output_type": "stream",
     "text": [
      "EVAL: [16/17] Data 0.000 (0.020) Elapsed 0m 4s (remain 0m 0s) \n",
      "Epoch: [16][0/65] Data 0.419 (0.419) Elapsed 0m 1s (remain 1m 8s) Loss: 0.6520(0.6520) Grad Norm: 0.0000  LR: 5.7130e-04  \n",
      "Epoch: [16][64/65] Data 0.000 (0.007) Elapsed 0m 57s (remain 0m 0s) Loss: 0.6606(0.9293) Grad Norm: 5.0967  LR: 5.7130e-04  \n",
      "EVAL: [0/17] Data 0.362 (0.362) Elapsed 0m 0s (remain 0m 9s) \n"
     ]
    },
    {
     "name": "stderr",
     "output_type": "stream",
     "text": [
      "labels: [ 2  4  2  2 12]\n",
      "pred_labels: [2 4 5 2 4]\n",
      "Epoch 16 - avg_train_loss: 0.9293  lr: 5.7130e-04  time: 62s\n",
      "Epoch 16 - Score: 0.6183\n"
     ]
    },
    {
     "name": "stdout",
     "output_type": "stream",
     "text": [
      "EVAL: [16/17] Data 0.000 (0.021) Elapsed 0m 4s (remain 0m 0s) \n",
      "Epoch: [17][0/65] Data 0.578 (0.578) Elapsed 0m 1s (remain 1m 16s) Loss: 0.0831(0.0831) Grad Norm: 0.0000  LR: 5.2663e-04  \n",
      "Epoch: [17][64/65] Data 0.000 (0.009) Elapsed 0m 57s (remain 0m 0s) Loss: 0.2634(0.9002) Grad Norm: 3.5181  LR: 5.2663e-04  \n",
      "EVAL: [0/17] Data 0.377 (0.377) Elapsed 0m 0s (remain 0m 9s) \n"
     ]
    },
    {
     "name": "stderr",
     "output_type": "stream",
     "text": [
      "labels: [ 2  4  2  2 12]\n",
      "pred_labels: [ 2  2  5  2 12]\n",
      "Epoch 17 - avg_train_loss: 0.9002  lr: 5.2663e-04  time: 62s\n",
      "Epoch 17 - Score: 0.6336\n"
     ]
    },
    {
     "name": "stdout",
     "output_type": "stream",
     "text": [
      "EVAL: [16/17] Data 0.000 (0.022) Elapsed 0m 4s (remain 0m 0s) \n",
      "Epoch: [18][0/65] Data 0.476 (0.476) Elapsed 0m 1s (remain 1m 9s) Loss: 0.1984(0.1984) Grad Norm: 0.0000  LR: 4.8179e-04  \n",
      "Epoch: [18][64/65] Data 0.000 (0.008) Elapsed 0m 56s (remain 0m 0s) Loss: 1.5145(0.8739) Grad Norm: 6.2822  LR: 4.8179e-04  \n",
      "EVAL: [0/17] Data 0.306 (0.306) Elapsed 0m 0s (remain 0m 8s) \n"
     ]
    },
    {
     "name": "stderr",
     "output_type": "stream",
     "text": [
      "labels: [ 2  4  2  2 12]\n",
      "pred_labels: [ 2  4  1  2 12]\n",
      "Epoch 18 - avg_train_loss: 0.8739  lr: 4.8179e-04  time: 61s\n",
      "Epoch 18 - Score: 0.6641\n",
      "Epoch 18 - Save Best Score: 0.6641 Model\n"
     ]
    },
    {
     "name": "stdout",
     "output_type": "stream",
     "text": [
      "EVAL: [16/17] Data 0.000 (0.018) Elapsed 0m 4s (remain 0m 0s) \n",
      "Epoch: [19][0/65] Data 0.493 (0.493) Elapsed 0m 1s (remain 1m 12s) Loss: 0.1008(0.1008) Grad Norm: 0.0000  LR: 4.3712e-04  \n",
      "Epoch: [19][64/65] Data 0.000 (0.008) Elapsed 0m 56s (remain 0m 0s) Loss: 1.2229(0.7145) Grad Norm: 3.0696  LR: 4.3712e-04  \n",
      "EVAL: [0/17] Data 0.373 (0.373) Elapsed 0m 0s (remain 0m 9s) \n"
     ]
    },
    {
     "name": "stderr",
     "output_type": "stream",
     "text": [
      "labels: [ 2  4  2  2 12]\n",
      "pred_labels: [ 2  3  1  2 11]\n",
      "Epoch 19 - avg_train_loss: 0.7145  lr: 4.3712e-04  time: 62s\n",
      "Epoch 19 - Score: 0.6260\n"
     ]
    },
    {
     "name": "stdout",
     "output_type": "stream",
     "text": [
      "EVAL: [16/17] Data 0.000 (0.022) Elapsed 0m 4s (remain 0m 0s) \n",
      "Epoch: [20][0/65] Data 0.480 (0.480) Elapsed 0m 1s (remain 1m 10s) Loss: 0.2934(0.2934) Grad Norm: 0.0000  LR: 3.9299e-04  \n",
      "Epoch: [20][64/65] Data 0.000 (0.008) Elapsed 0m 56s (remain 0m 0s) Loss: 1.3593(0.7030) Grad Norm: 5.4721  LR: 3.9299e-04  \n",
      "EVAL: [0/17] Data 0.332 (0.332) Elapsed 0m 0s (remain 0m 9s) \n"
     ]
    },
    {
     "name": "stderr",
     "output_type": "stream",
     "text": [
      "labels: [ 2  4  2  2 12]\n",
      "pred_labels: [ 2  2  1  2 12]\n",
      "Epoch 20 - avg_train_loss: 0.7030  lr: 3.9299e-04  time: 61s\n",
      "Epoch 20 - Score: 0.6107\n"
     ]
    },
    {
     "name": "stdout",
     "output_type": "stream",
     "text": [
      "EVAL: [16/17] Data 0.000 (0.020) Elapsed 0m 4s (remain 0m 0s) \n",
      "Epoch: [21][0/65] Data 0.509 (0.509) Elapsed 0m 1s (remain 1m 11s) Loss: 0.0802(0.0802) Grad Norm: 0.0000  LR: 3.4975e-04  \n",
      "Epoch: [21][64/65] Data 0.000 (0.008) Elapsed 0m 56s (remain 0m 0s) Loss: 1.6971(0.7930) Grad Norm: 4.9959  LR: 3.4975e-04  \n",
      "EVAL: [0/17] Data 0.285 (0.285) Elapsed 0m 0s (remain 0m 8s) \n"
     ]
    },
    {
     "name": "stderr",
     "output_type": "stream",
     "text": [
      "labels: [ 2  4  2  2 12]\n",
      "pred_labels: [2 2 9 2 9]\n",
      "Epoch 21 - avg_train_loss: 0.7930  lr: 3.4975e-04  time: 61s\n",
      "Epoch 21 - Score: 0.6260\n"
     ]
    },
    {
     "name": "stdout",
     "output_type": "stream",
     "text": [
      "EVAL: [16/17] Data 0.000 (0.017) Elapsed 0m 4s (remain 0m 0s) \n",
      "Epoch: [22][0/65] Data 0.458 (0.458) Elapsed 0m 1s (remain 1m 8s) Loss: 1.6582(1.6582) Grad Norm: 0.0000  LR: 3.0775e-04  \n",
      "Epoch: [22][64/65] Data 0.000 (0.007) Elapsed 0m 56s (remain 0m 0s) Loss: 1.4286(0.7712) Grad Norm: 4.4393  LR: 3.0775e-04  \n",
      "EVAL: [0/17] Data 0.327 (0.327) Elapsed 0m 0s (remain 0m 8s) \n"
     ]
    },
    {
     "name": "stderr",
     "output_type": "stream",
     "text": [
      "labels: [ 2  4  2  2 12]\n",
      "pred_labels: [2 2 1 2 9]\n",
      "Epoch 22 - avg_train_loss: 0.7712  lr: 3.0775e-04  time: 61s\n",
      "Epoch 22 - Score: 0.5954\n"
     ]
    },
    {
     "name": "stdout",
     "output_type": "stream",
     "text": [
      "EVAL: [16/17] Data 0.000 (0.019) Elapsed 0m 4s (remain 0m 0s) \n",
      "Epoch: [23][0/65] Data 0.399 (0.399) Elapsed 0m 1s (remain 1m 5s) Loss: 1.6730(1.6730) Grad Norm: 0.0000  LR: 2.6732e-04  \n",
      "Epoch: [23][64/65] Data 0.000 (0.006) Elapsed 0m 56s (remain 0m 0s) Loss: 0.0329(0.7818) Grad Norm: 1.5085  LR: 2.6732e-04  \n",
      "EVAL: [0/17] Data 0.320 (0.320) Elapsed 0m 0s (remain 0m 8s) \n"
     ]
    },
    {
     "name": "stderr",
     "output_type": "stream",
     "text": [
      "labels: [ 2  4  2  2 12]\n",
      "pred_labels: [2 3 1 2 9]\n",
      "Epoch 23 - avg_train_loss: 0.7818  lr: 2.6732e-04  time: 61s\n",
      "Epoch 23 - Score: 0.6031\n"
     ]
    },
    {
     "name": "stdout",
     "output_type": "stream",
     "text": [
      "EVAL: [16/17] Data 0.000 (0.019) Elapsed 0m 4s (remain 0m 0s) \n",
      "Epoch: [24][0/65] Data 0.438 (0.438) Elapsed 0m 1s (remain 1m 7s) Loss: 0.0886(0.0886) Grad Norm: 0.0000  LR: 2.2880e-04  \n",
      "Epoch: [24][64/65] Data 0.000 (0.007) Elapsed 0m 56s (remain 0m 0s) Loss: 1.1335(0.6224) Grad Norm: 3.9963  LR: 2.2880e-04  \n",
      "EVAL: [0/17] Data 0.302 (0.302) Elapsed 0m 0s (remain 0m 8s) \n"
     ]
    },
    {
     "name": "stderr",
     "output_type": "stream",
     "text": [
      "labels: [ 2  4  2  2 12]\n",
      "pred_labels: [2 3 1 2 9]\n",
      "Epoch 24 - avg_train_loss: 0.6224  lr: 2.2880e-04  time: 61s\n",
      "Epoch 24 - Score: 0.6183\n"
     ]
    },
    {
     "name": "stdout",
     "output_type": "stream",
     "text": [
      "EVAL: [16/17] Data 0.000 (0.018) Elapsed 0m 4s (remain 0m 0s) \n",
      "Epoch: [25][0/65] Data 0.351 (0.351) Elapsed 0m 0s (remain 1m 1s) Loss: 1.3274(1.3274) Grad Norm: 0.0000  LR: 1.9248e-04  \n",
      "Epoch: [25][64/65] Data 0.000 (0.006) Elapsed 0m 56s (remain 0m 0s) Loss: 1.1497(0.5981) Grad Norm: 0.6571  LR: 1.9248e-04  \n",
      "EVAL: [0/17] Data 0.386 (0.386) Elapsed 0m 0s (remain 0m 9s) \n"
     ]
    },
    {
     "name": "stderr",
     "output_type": "stream",
     "text": [
      "labels: [ 2  4  2  2 12]\n",
      "pred_labels: [2 4 1 2 9]\n",
      "Epoch 25 - avg_train_loss: 0.5981  lr: 1.9248e-04  time: 61s\n",
      "Epoch 25 - Score: 0.6718\n",
      "Epoch 25 - Save Best Score: 0.6718 Model\n"
     ]
    },
    {
     "name": "stdout",
     "output_type": "stream",
     "text": [
      "EVAL: [16/17] Data 0.000 (0.023) Elapsed 0m 4s (remain 0m 0s) \n",
      "Epoch: [26][0/65] Data 0.457 (0.457) Elapsed 0m 1s (remain 1m 11s) Loss: 1.0032(1.0032) Grad Norm: 0.0000  LR: 1.5867e-04  \n",
      "Epoch: [26][64/65] Data 0.000 (0.007) Elapsed 0m 56s (remain 0m 0s) Loss: 1.2044(0.6010) Grad Norm: 3.0504  LR: 1.5867e-04  \n",
      "EVAL: [0/17] Data 0.361 (0.361) Elapsed 0m 0s (remain 0m 9s) \n"
     ]
    },
    {
     "name": "stderr",
     "output_type": "stream",
     "text": [
      "labels: [ 2  4  2  2 12]\n",
      "pred_labels: [2 4 1 2 9]\n",
      "Epoch 26 - avg_train_loss: 0.6010  lr: 1.5867e-04  time: 62s\n",
      "Epoch 26 - Score: 0.6565\n"
     ]
    },
    {
     "name": "stdout",
     "output_type": "stream",
     "text": [
      "EVAL: [16/17] Data 0.000 (0.021) Elapsed 0m 4s (remain 0m 0s) \n",
      "Epoch: [27][0/65] Data 0.429 (0.429) Elapsed 0m 1s (remain 1m 10s) Loss: 1.4347(1.4347) Grad Norm: 0.0000  LR: 1.2762e-04  \n",
      "Epoch: [27][64/65] Data 0.000 (0.007) Elapsed 0m 56s (remain 0m 0s) Loss: 1.0034(0.6951) Grad Norm: 3.8613  LR: 1.2762e-04  \n",
      "EVAL: [0/17] Data 0.336 (0.336) Elapsed 0m 0s (remain 0m 9s) \n"
     ]
    },
    {
     "name": "stderr",
     "output_type": "stream",
     "text": [
      "labels: [ 2  4  2  2 12]\n",
      "pred_labels: [2 4 1 2 9]\n",
      "Epoch 27 - avg_train_loss: 0.6951  lr: 1.2762e-04  time: 61s\n",
      "Epoch 27 - Score: 0.6641\n"
     ]
    },
    {
     "name": "stdout",
     "output_type": "stream",
     "text": [
      "EVAL: [16/17] Data 0.000 (0.020) Elapsed 0m 4s (remain 0m 0s) \n",
      "Epoch: [28][0/65] Data 0.397 (0.397) Elapsed 0m 1s (remain 1m 4s) Loss: 0.0479(0.0479) Grad Norm: 0.0000  LR: 9.9584e-05  \n",
      "Epoch: [28][64/65] Data 0.000 (0.006) Elapsed 0m 56s (remain 0m 0s) Loss: 0.0219(0.5632) Grad Norm: 4.1680  LR: 9.9584e-05  \n",
      "EVAL: [0/17] Data 0.298 (0.298) Elapsed 0m 0s (remain 0m 8s) \n"
     ]
    },
    {
     "name": "stderr",
     "output_type": "stream",
     "text": [
      "labels: [ 2  4  2  2 12]\n",
      "pred_labels: [2 4 1 2 9]\n",
      "Epoch 28 - avg_train_loss: 0.5632  lr: 9.9584e-05  time: 61s\n",
      "Epoch 28 - Score: 0.6565\n"
     ]
    },
    {
     "name": "stdout",
     "output_type": "stream",
     "text": [
      "EVAL: [16/17] Data 0.000 (0.018) Elapsed 0m 4s (remain 0m 0s) \n",
      "Epoch: [29][0/65] Data 0.397 (0.397) Elapsed 0m 1s (remain 1m 4s) Loss: 0.8235(0.8235) Grad Norm: 0.0000  LR: 7.4783e-05  \n",
      "Epoch: [29][64/65] Data 0.000 (0.006) Elapsed 0m 56s (remain 0m 0s) Loss: 1.4451(0.6623) Grad Norm: 3.6541  LR: 7.4783e-05  \n",
      "EVAL: [0/17] Data 0.282 (0.282) Elapsed 0m 0s (remain 0m 8s) \n"
     ]
    },
    {
     "name": "stderr",
     "output_type": "stream",
     "text": [
      "labels: [ 2  4  2  2 12]\n",
      "pred_labels: [2 3 1 2 9]\n",
      "Epoch 29 - avg_train_loss: 0.6623  lr: 7.4783e-05  time: 61s\n",
      "Epoch 29 - Score: 0.6718\n"
     ]
    },
    {
     "name": "stdout",
     "output_type": "stream",
     "text": [
      "EVAL: [16/17] Data 0.000 (0.017) Elapsed 0m 4s (remain 0m 0s) \n",
      "Epoch: [30][0/65] Data 0.393 (0.393) Elapsed 0m 1s (remain 1m 8s) Loss: 0.7972(0.7972) Grad Norm: 0.0000  LR: 5.3404e-05  \n",
      "Epoch: [30][64/65] Data 0.000 (0.006) Elapsed 0m 56s (remain 0m 0s) Loss: 0.0350(0.5400) Grad Norm: 5.2512  LR: 5.3404e-05  \n",
      "EVAL: [0/17] Data 0.302 (0.302) Elapsed 0m 0s (remain 0m 8s) \n"
     ]
    },
    {
     "name": "stderr",
     "output_type": "stream",
     "text": [
      "labels: [ 2  4  2  2 12]\n",
      "pred_labels: [2 2 1 2 9]\n",
      "Epoch 30 - avg_train_loss: 0.5400  lr: 5.3404e-05  time: 61s\n",
      "Epoch 30 - Score: 0.6412\n"
     ]
    },
    {
     "name": "stdout",
     "output_type": "stream",
     "text": [
      "EVAL: [16/17] Data 0.000 (0.018) Elapsed 0m 4s (remain 0m 0s) \n",
      "Epoch: [31][0/65] Data 0.388 (0.388) Elapsed 0m 0s (remain 1m 3s) Loss: 0.0663(0.0663) Grad Norm: 0.0000  LR: 3.5607e-05  \n",
      "Epoch: [31][64/65] Data 0.000 (0.006) Elapsed 0m 56s (remain 0m 0s) Loss: 0.0379(0.0450) Grad Norm: 0.6969  LR: 3.5607e-05  \n",
      "EVAL: [0/17] Data 0.304 (0.304) Elapsed 0m 0s (remain 0m 8s) \n"
     ]
    },
    {
     "name": "stderr",
     "output_type": "stream",
     "text": [
      "labels: [ 2  4  2  2 12]\n",
      "pred_labels: [2 4 1 2 9]\n",
      "Epoch 31 - avg_train_loss: 0.0450  lr: 3.5607e-05  time: 61s\n",
      "Epoch 31 - Score: 0.6489\n"
     ]
    },
    {
     "name": "stdout",
     "output_type": "stream",
     "text": [
      "EVAL: [16/17] Data 0.000 (0.018) Elapsed 0m 4s (remain 0m 0s) \n",
      "Epoch: [32][0/65] Data 0.460 (0.460) Elapsed 0m 1s (remain 1m 9s) Loss: 0.0321(0.0321) Grad Norm: 0.0000  LR: 2.1508e-05  \n",
      "Epoch: [32][64/65] Data 0.000 (0.007) Elapsed 0m 56s (remain 0m 0s) Loss: 0.0300(0.0593) Grad Norm: 3.7915  LR: 2.1508e-05  \n",
      "EVAL: [0/17] Data 0.264 (0.264) Elapsed 0m 0s (remain 0m 7s) \n"
     ]
    },
    {
     "name": "stderr",
     "output_type": "stream",
     "text": [
      "labels: [ 2  4  2  2 12]\n",
      "pred_labels: [2 2 1 2 9]\n",
      "Epoch 32 - avg_train_loss: 0.0593  lr: 2.1508e-05  time: 61s\n",
      "Epoch 32 - Score: 0.6489\n"
     ]
    },
    {
     "name": "stdout",
     "output_type": "stream",
     "text": [
      "EVAL: [16/17] Data 0.000 (0.016) Elapsed 0m 4s (remain 0m 0s) \n",
      "Epoch: [33][0/65] Data 0.482 (0.482) Elapsed 0m 1s (remain 1m 10s) Loss: 0.0306(0.0306) Grad Norm: 0.0000  LR: 1.1173e-05  \n",
      "Epoch: [33][64/65] Data 0.000 (0.008) Elapsed 0m 56s (remain 0m 0s) Loss: 0.0181(0.0478) Grad Norm: 0.2305  LR: 1.1173e-05  \n",
      "EVAL: [0/17] Data 0.316 (0.316) Elapsed 0m 0s (remain 0m 8s) \n"
     ]
    },
    {
     "name": "stderr",
     "output_type": "stream",
     "text": [
      "labels: [ 2  4  2  2 12]\n",
      "pred_labels: [2 2 1 2 9]\n",
      "Epoch 33 - avg_train_loss: 0.0478  lr: 1.1173e-05  time: 61s\n",
      "Epoch 33 - Score: 0.6489\n"
     ]
    },
    {
     "name": "stdout",
     "output_type": "stream",
     "text": [
      "EVAL: [16/17] Data 0.000 (0.019) Elapsed 0m 4s (remain 0m 0s) \n",
      "Epoch: [34][0/65] Data 0.397 (0.397) Elapsed 0m 1s (remain 1m 4s) Loss: 0.0343(0.0343) Grad Norm: 0.0000  LR: 4.5796e-06  \n",
      "Epoch: [34][64/65] Data 0.000 (0.006) Elapsed 0m 56s (remain 0m 0s) Loss: 0.0591(0.0419) Grad Norm: 1.9580  LR: 4.5796e-06  \n",
      "EVAL: [0/17] Data 0.285 (0.285) Elapsed 0m 0s (remain 0m 8s) \n"
     ]
    },
    {
     "name": "stderr",
     "output_type": "stream",
     "text": [
      "labels: [ 2  4  2  2 12]\n",
      "pred_labels: [2 2 1 2 2]\n",
      "Epoch 34 - avg_train_loss: 0.0419  lr: 4.5796e-06  time: 61s\n",
      "Epoch 34 - Score: 0.6336\n"
     ]
    },
    {
     "name": "stdout",
     "output_type": "stream",
     "text": [
      "EVAL: [16/17] Data 0.000 (0.017) Elapsed 0m 4s (remain 0m 0s) \n",
      "Epoch: [35][0/65] Data 0.527 (0.527) Elapsed 0m 1s (remain 1m 12s) Loss: 0.0143(0.0143) Grad Norm: 0.0000  LR: 1.5037e-06  \n",
      "Epoch: [35][64/65] Data 0.000 (0.008) Elapsed 0m 56s (remain 0m 0s) Loss: 0.0202(0.0431) Grad Norm: 4.0470  LR: 1.5037e-06  \n",
      "EVAL: [0/17] Data 0.361 (0.361) Elapsed 0m 0s (remain 0m 9s) \n"
     ]
    },
    {
     "name": "stderr",
     "output_type": "stream",
     "text": [
      "labels: [ 2  4  2  2 12]\n",
      "pred_labels: [2 4 1 2 9]\n",
      "Epoch 35 - avg_train_loss: 0.0431  lr: 1.5037e-06  time: 61s\n",
      "Epoch 35 - Score: 0.6641\n",
      "==================== fold: 2, seed: 2 training ====================\n"
     ]
    },
    {
     "name": "stdout",
     "output_type": "stream",
     "text": [
      "EVAL: [16/17] Data 0.000 (0.021) Elapsed 0m 4s (remain 0m 0s) \n",
      "Epoch: [1][0/65] Data 0.441 (0.441) Elapsed 0m 1s (remain 1m 7s) Loss: 2.5249(2.5249) Grad Norm: 0.0000  LR: 1.0000e-03  \n",
      "Epoch: [1][64/65] Data 0.000 (0.007) Elapsed 0m 57s (remain 0m 0s) Loss: 2.4666(2.5501) Grad Norm: 6.9075  LR: 1.0000e-03  \n",
      "EVAL: [0/17] Data 0.264 (0.264) Elapsed 0m 0s (remain 0m 7s) \n"
     ]
    },
    {
     "name": "stderr",
     "output_type": "stream",
     "text": [
      "labels: [11  2  3  7  6]\n",
      "pred_labels: [3 3 3 2 0]\n",
      "Epoch 1 - avg_train_loss: 2.5501  lr: 1.0000e-03  time: 62s\n",
      "Epoch 1 - Score: 0.2290\n",
      "Epoch 1 - Save Best Score: 0.2290 Model\n"
     ]
    },
    {
     "name": "stdout",
     "output_type": "stream",
     "text": [
      "EVAL: [16/17] Data 0.000 (0.016) Elapsed 0m 4s (remain 0m 0s) \n",
      "Epoch: [2][0/65] Data 0.415 (0.415) Elapsed 0m 1s (remain 1m 9s) Loss: 2.2702(2.2702) Grad Norm: 0.0000  LR: 9.9598e-04  \n",
      "Epoch: [2][64/65] Data 0.000 (0.007) Elapsed 0m 57s (remain 0m 0s) Loss: 1.9153(2.3494) Grad Norm: 6.8004  LR: 9.9598e-04  \n",
      "EVAL: [0/17] Data 0.315 (0.315) Elapsed 0m 0s (remain 0m 8s) \n"
     ]
    },
    {
     "name": "stderr",
     "output_type": "stream",
     "text": [
      "labels: [11  2  3  7  6]\n",
      "pred_labels: [2 2 6 2 6]\n",
      "Epoch 2 - avg_train_loss: 2.3494  lr: 9.9598e-04  time: 62s\n",
      "Epoch 2 - Score: 0.2977\n",
      "Epoch 2 - Save Best Score: 0.2977 Model\n"
     ]
    },
    {
     "name": "stdout",
     "output_type": "stream",
     "text": [
      "EVAL: [16/17] Data 0.000 (0.019) Elapsed 0m 4s (remain 0m 0s) \n",
      "Epoch: [3][0/65] Data 0.390 (0.390) Elapsed 0m 1s (remain 1m 6s) Loss: 2.3465(2.3465) Grad Norm: 0.0000  LR: 9.8599e-04  \n",
      "Epoch: [3][64/65] Data 0.000 (0.006) Elapsed 0m 57s (remain 0m 0s) Loss: 1.4866(2.2001) Grad Norm: 6.3311  LR: 9.8599e-04  \n",
      "EVAL: [0/17] Data 0.312 (0.312) Elapsed 0m 0s (remain 0m 8s) \n"
     ]
    },
    {
     "name": "stderr",
     "output_type": "stream",
     "text": [
      "labels: [11  2  3  7  6]\n",
      "pred_labels: [2 2 0 2 0]\n",
      "Epoch 3 - avg_train_loss: 2.2001  lr: 9.8599e-04  time: 62s\n",
      "Epoch 3 - Score: 0.3817\n",
      "Epoch 3 - Save Best Score: 0.3817 Model\n"
     ]
    },
    {
     "name": "stdout",
     "output_type": "stream",
     "text": [
      "EVAL: [16/17] Data 0.000 (0.019) Elapsed 0m 4s (remain 0m 0s) \n",
      "Epoch: [4][0/65] Data 0.441 (0.441) Elapsed 0m 1s (remain 1m 8s) Loss: 2.2260(2.2260) Grad Norm: 0.0000  LR: 9.7213e-04  \n",
      "Epoch: [4][64/65] Data 0.000 (0.007) Elapsed 0m 57s (remain 0m 0s) Loss: 2.2772(1.9974) Grad Norm: 6.8512  LR: 9.7213e-04  \n",
      "EVAL: [0/17] Data 0.340 (0.340) Elapsed 0m 0s (remain 0m 9s) \n"
     ]
    },
    {
     "name": "stderr",
     "output_type": "stream",
     "text": [
      "labels: [11  2  3  7  6]\n",
      "pred_labels: [5 2 0 4 0]\n",
      "Epoch 4 - avg_train_loss: 1.9974  lr: 9.7213e-04  time: 62s\n",
      "Epoch 4 - Score: 0.4351\n",
      "Epoch 4 - Save Best Score: 0.4351 Model\n"
     ]
    },
    {
     "name": "stdout",
     "output_type": "stream",
     "text": [
      "EVAL: [16/17] Data 0.000 (0.020) Elapsed 0m 4s (remain 0m 0s) \n",
      "Epoch: [5][0/65] Data 0.465 (0.465) Elapsed 0m 1s (remain 1m 9s) Loss: 2.4843(2.4843) Grad Norm: 0.0000  LR: 9.5449e-04  \n",
      "Epoch: [5][64/65] Data 0.000 (0.007) Elapsed 0m 57s (remain 0m 0s) Loss: 2.1038(1.7100) Grad Norm: 8.0361  LR: 9.5449e-04  \n",
      "EVAL: [0/17] Data 0.265 (0.265) Elapsed 0m 0s (remain 0m 8s) \n"
     ]
    },
    {
     "name": "stderr",
     "output_type": "stream",
     "text": [
      "labels: [11  2  3  7  6]\n",
      "pred_labels: [12  2 11  4  0]\n",
      "Epoch 5 - avg_train_loss: 1.7100  lr: 9.5449e-04  time: 62s\n",
      "Epoch 5 - Score: 0.4962\n",
      "Epoch 5 - Save Best Score: 0.4962 Model\n"
     ]
    },
    {
     "name": "stdout",
     "output_type": "stream",
     "text": [
      "EVAL: [16/17] Data 0.000 (0.016) Elapsed 0m 4s (remain 0m 0s) \n",
      "Epoch: [6][0/65] Data 0.497 (0.497) Elapsed 0m 1s (remain 1m 11s) Loss: 1.0986(1.0986) Grad Norm: 0.0000  LR: 9.3324e-04  \n",
      "Epoch: [6][64/65] Data 0.000 (0.008) Elapsed 0m 57s (remain 0m 0s) Loss: 1.7033(1.5736) Grad Norm: 7.4289  LR: 9.3324e-04  \n",
      "EVAL: [0/17] Data 0.353 (0.353) Elapsed 0m 0s (remain 0m 9s) \n"
     ]
    },
    {
     "name": "stderr",
     "output_type": "stream",
     "text": [
      "labels: [11  2  3  7  6]\n",
      "pred_labels: [11  2  9  3  0]\n",
      "Epoch 6 - avg_train_loss: 1.5736  lr: 9.3324e-04  time: 62s\n",
      "Epoch 6 - Score: 0.4809\n"
     ]
    },
    {
     "name": "stdout",
     "output_type": "stream",
     "text": [
      "EVAL: [16/17] Data 0.000 (0.021) Elapsed 0m 4s (remain 0m 0s) \n",
      "Epoch: [7][0/65] Data 0.459 (0.459) Elapsed 0m 1s (remain 1m 8s) Loss: 0.5800(0.5800) Grad Norm: 0.0000  LR: 9.0853e-04  \n",
      "Epoch: [7][64/65] Data 0.000 (0.007) Elapsed 0m 57s (remain 0m 0s) Loss: 1.1654(1.3300) Grad Norm: 8.6545  LR: 9.0853e-04  \n",
      "EVAL: [0/17] Data 0.317 (0.317) Elapsed 0m 0s (remain 0m 8s) \n"
     ]
    },
    {
     "name": "stderr",
     "output_type": "stream",
     "text": [
      "labels: [11  2  3  7  6]\n",
      "pred_labels: [11  2  3  4  6]\n",
      "Epoch 7 - avg_train_loss: 1.3300  lr: 9.0853e-04  time: 62s\n",
      "Epoch 7 - Score: 0.5344\n",
      "Epoch 7 - Save Best Score: 0.5344 Model\n"
     ]
    },
    {
     "name": "stdout",
     "output_type": "stream",
     "text": [
      "EVAL: [16/17] Data 0.000 (0.019) Elapsed 0m 4s (remain 0m 0s) \n",
      "Epoch: [8][0/65] Data 0.578 (0.578) Elapsed 0m 1s (remain 1m 17s) Loss: 0.9993(0.9993) Grad Norm: 0.0000  LR: 8.8057e-04  \n",
      "Epoch: [8][64/65] Data 0.000 (0.009) Elapsed 0m 57s (remain 0m 0s) Loss: 0.3859(1.3067) Grad Norm: 8.3874  LR: 8.8057e-04  \n",
      "EVAL: [0/17] Data 0.271 (0.271) Elapsed 0m 0s (remain 0m 8s) \n"
     ]
    },
    {
     "name": "stderr",
     "output_type": "stream",
     "text": [
      "labels: [11  2  3  7  6]\n",
      "pred_labels: [11  2  1  4  1]\n",
      "Epoch 8 - avg_train_loss: 1.3067  lr: 8.8057e-04  time: 62s\n",
      "Epoch 8 - Score: 0.5649\n",
      "Epoch 8 - Save Best Score: 0.5649 Model\n"
     ]
    },
    {
     "name": "stdout",
     "output_type": "stream",
     "text": [
      "EVAL: [16/17] Data 0.000 (0.016) Elapsed 0m 4s (remain 0m 0s) \n",
      "Epoch: [9][0/65] Data 0.446 (0.446) Elapsed 0m 1s (remain 1m 8s) Loss: 0.7660(0.7660) Grad Norm: 0.0000  LR: 8.4958e-04  \n",
      "Epoch: [9][64/65] Data 0.000 (0.007) Elapsed 0m 57s (remain 0m 0s) Loss: 0.5098(1.0639) Grad Norm: 5.3500  LR: 8.4958e-04  \n",
      "EVAL: [0/17] Data 0.269 (0.269) Elapsed 0m 0s (remain 0m 8s) \n"
     ]
    },
    {
     "name": "stderr",
     "output_type": "stream",
     "text": [
      "labels: [11  2  3  7  6]\n",
      "pred_labels: [11  2  9  4 11]\n",
      "Epoch 9 - avg_train_loss: 1.0639  lr: 8.4958e-04  time: 62s\n",
      "Epoch 9 - Score: 0.5649\n"
     ]
    },
    {
     "name": "stdout",
     "output_type": "stream",
     "text": [
      "EVAL: [16/17] Data 0.000 (0.016) Elapsed 0m 4s (remain 0m 0s) \n",
      "Epoch: [10][0/65] Data 0.436 (0.436) Elapsed 0m 1s (remain 1m 8s) Loss: 1.0527(1.0527) Grad Norm: 0.0000  LR: 8.1581e-04  \n",
      "Epoch: [10][64/65] Data 0.000 (0.007) Elapsed 0m 57s (remain 0m 0s) Loss: 0.1883(0.9743) Grad Norm: 4.6724  LR: 8.1581e-04  \n",
      "EVAL: [0/17] Data 0.272 (0.272) Elapsed 0m 0s (remain 0m 8s) \n"
     ]
    },
    {
     "name": "stderr",
     "output_type": "stream",
     "text": [
      "labels: [11  2  3  7  6]\n",
      "pred_labels: [12  2  3  3  6]\n",
      "Epoch 10 - avg_train_loss: 0.9743  lr: 8.1581e-04  time: 62s\n",
      "Epoch 10 - Score: 0.5420\n"
     ]
    },
    {
     "name": "stdout",
     "output_type": "stream",
     "text": [
      "EVAL: [16/17] Data 0.000 (0.016) Elapsed 0m 4s (remain 0m 0s) \n",
      "Epoch: [11][0/65] Data 0.441 (0.441) Elapsed 0m 1s (remain 1m 8s) Loss: 1.7236(1.7236) Grad Norm: 0.0000  LR: 7.7953e-04  \n",
      "Epoch: [11][64/65] Data 0.000 (0.007) Elapsed 0m 57s (remain 0m 0s) Loss: 1.8944(1.1993) Grad Norm: 7.7875  LR: 7.7953e-04  \n",
      "EVAL: [0/17] Data 0.312 (0.312) Elapsed 0m 0s (remain 0m 8s) \n"
     ]
    },
    {
     "name": "stderr",
     "output_type": "stream",
     "text": [
      "labels: [11  2  3  7  6]\n",
      "pred_labels: [12  2  3  4  6]\n",
      "Epoch 11 - avg_train_loss: 1.1993  lr: 7.7953e-04  time: 62s\n",
      "Epoch 11 - Score: 0.5954\n",
      "Epoch 11 - Save Best Score: 0.5954 Model\n"
     ]
    },
    {
     "name": "stdout",
     "output_type": "stream",
     "text": [
      "EVAL: [16/17] Data 0.000 (0.019) Elapsed 0m 4s (remain 0m 0s) \n",
      "Epoch: [12][0/65] Data 0.460 (0.460) Elapsed 0m 1s (remain 1m 9s) Loss: 0.2351(0.2351) Grad Norm: 0.0000  LR: 7.4103e-04  \n",
      "Epoch: [12][64/65] Data 0.000 (0.007) Elapsed 0m 57s (remain 0m 0s) Loss: 0.4103(0.8760) Grad Norm: 4.5888  LR: 7.4103e-04  \n",
      "EVAL: [0/17] Data 0.260 (0.260) Elapsed 0m 0s (remain 0m 7s) \n"
     ]
    },
    {
     "name": "stderr",
     "output_type": "stream",
     "text": [
      "labels: [11  2  3  7  6]\n",
      "pred_labels: [11  2  3  3  6]\n",
      "Epoch 12 - avg_train_loss: 0.8760  lr: 7.4103e-04  time: 62s\n",
      "Epoch 12 - Score: 0.5649\n"
     ]
    },
    {
     "name": "stdout",
     "output_type": "stream",
     "text": [
      "EVAL: [16/17] Data 0.000 (0.016) Elapsed 0m 4s (remain 0m 0s) \n",
      "Epoch: [13][0/65] Data 0.417 (0.417) Elapsed 0m 1s (remain 1m 5s) Loss: 0.3609(0.3609) Grad Norm: 0.0000  LR: 7.0063e-04  \n",
      "Epoch: [13][64/65] Data 0.000 (0.007) Elapsed 0m 57s (remain 0m 0s) Loss: 0.4116(1.0740) Grad Norm: 5.8790  LR: 7.0063e-04  \n",
      "EVAL: [0/17] Data 0.305 (0.305) Elapsed 0m 0s (remain 0m 8s) \n"
     ]
    },
    {
     "name": "stderr",
     "output_type": "stream",
     "text": [
      "labels: [11  2  3  7  6]\n",
      "pred_labels: [11  2  9  4  1]\n",
      "Epoch 13 - avg_train_loss: 1.0740  lr: 7.0063e-04  time: 62s\n",
      "Epoch 13 - Score: 0.5573\n"
     ]
    },
    {
     "name": "stdout",
     "output_type": "stream",
     "text": [
      "EVAL: [16/17] Data 0.000 (0.018) Elapsed 0m 4s (remain 0m 0s) \n",
      "Epoch: [14][0/65] Data 0.368 (0.368) Elapsed 0m 0s (remain 1m 2s) Loss: 2.2741(2.2741) Grad Norm: 0.0000  LR: 6.5865e-04  \n",
      "Epoch: [14][64/65] Data 0.000 (0.006) Elapsed 0m 56s (remain 0m 0s) Loss: 1.7333(0.8718) Grad Norm: 2.2637  LR: 6.5865e-04  \n",
      "EVAL: [0/17] Data 0.281 (0.281) Elapsed 0m 0s (remain 0m 8s) \n"
     ]
    },
    {
     "name": "stderr",
     "output_type": "stream",
     "text": [
      "labels: [11  2  3  7  6]\n",
      "pred_labels: [11  2  3  4  6]\n",
      "Epoch 14 - avg_train_loss: 0.8718  lr: 6.5865e-04  time: 61s\n",
      "Epoch 14 - Score: 0.6107\n",
      "Epoch 14 - Save Best Score: 0.6107 Model\n"
     ]
    },
    {
     "name": "stdout",
     "output_type": "stream",
     "text": [
      "EVAL: [16/17] Data 0.000 (0.017) Elapsed 0m 4s (remain 0m 0s) \n",
      "Epoch: [15][0/65] Data 0.563 (0.563) Elapsed 0m 1s (remain 1m 16s) Loss: 2.1609(2.1609) Grad Norm: 0.0000  LR: 6.1542e-04  \n",
      "Epoch: [15][64/65] Data 0.000 (0.009) Elapsed 0m 57s (remain 0m 0s) Loss: 1.5612(0.8989) Grad Norm: 5.0157  LR: 6.1542e-04  \n",
      "EVAL: [0/17] Data 0.331 (0.331) Elapsed 0m 0s (remain 0m 9s) \n"
     ]
    },
    {
     "name": "stderr",
     "output_type": "stream",
     "text": [
      "labels: [11  2  3  7  6]\n",
      "pred_labels: [11  2  3  4  1]\n",
      "Epoch 15 - avg_train_loss: 0.8989  lr: 6.1542e-04  time: 62s\n",
      "Epoch 15 - Score: 0.5802\n"
     ]
    },
    {
     "name": "stdout",
     "output_type": "stream",
     "text": [
      "EVAL: [16/17] Data 0.000 (0.020) Elapsed 0m 4s (remain 0m 0s) \n",
      "Epoch: [16][0/65] Data 0.379 (0.379) Elapsed 0m 0s (remain 1m 3s) Loss: 0.3173(0.3173) Grad Norm: 0.0000  LR: 5.7130e-04  \n",
      "Epoch: [16][64/65] Data 0.000 (0.006) Elapsed 0m 56s (remain 0m 0s) Loss: 0.1622(0.9428) Grad Norm: 5.9270  LR: 5.7130e-04  \n",
      "EVAL: [0/17] Data 0.245 (0.245) Elapsed 0m 0s (remain 0m 7s) \n"
     ]
    },
    {
     "name": "stderr",
     "output_type": "stream",
     "text": [
      "labels: [11  2  3  7  6]\n",
      "pred_labels: [11  2  3  4  1]\n",
      "Epoch 16 - avg_train_loss: 0.9428  lr: 5.7130e-04  time: 61s\n",
      "Epoch 16 - Score: 0.5573\n"
     ]
    },
    {
     "name": "stdout",
     "output_type": "stream",
     "text": [
      "EVAL: [16/17] Data 0.000 (0.015) Elapsed 0m 4s (remain 0m 0s) \n",
      "Epoch: [17][0/65] Data 0.439 (0.439) Elapsed 0m 1s (remain 1m 11s) Loss: 0.3974(0.3974) Grad Norm: 0.0000  LR: 5.2663e-04  \n",
      "Epoch: [17][64/65] Data 0.000 (0.007) Elapsed 0m 57s (remain 0m 0s) Loss: 0.3278(0.8708) Grad Norm: 6.9486  LR: 5.2663e-04  \n",
      "EVAL: [0/17] Data 0.266 (0.266) Elapsed 0m 0s (remain 0m 8s) \n"
     ]
    },
    {
     "name": "stderr",
     "output_type": "stream",
     "text": [
      "labels: [11  2  3  7  6]\n",
      "pred_labels: [12  2  3  4  1]\n",
      "Epoch 17 - avg_train_loss: 0.8708  lr: 5.2663e-04  time: 61s\n",
      "Epoch 17 - Score: 0.5802\n"
     ]
    },
    {
     "name": "stdout",
     "output_type": "stream",
     "text": [
      "EVAL: [16/17] Data 0.000 (0.016) Elapsed 0m 4s (remain 0m 0s) \n",
      "Epoch: [18][0/65] Data 0.369 (0.369) Elapsed 0m 1s (remain 1m 8s) Loss: 1.1409(1.1409) Grad Norm: 0.0000  LR: 4.8179e-04  \n",
      "Epoch: [18][64/65] Data 0.000 (0.006) Elapsed 0m 56s (remain 0m 0s) Loss: 0.5720(0.9178) Grad Norm: 4.8755  LR: 4.8179e-04  \n",
      "EVAL: [0/17] Data 0.312 (0.312) Elapsed 0m 0s (remain 0m 8s) \n"
     ]
    },
    {
     "name": "stderr",
     "output_type": "stream",
     "text": [
      "labels: [11  2  3  7  6]\n",
      "pred_labels: [12  2  3  3  6]\n",
      "Epoch 18 - avg_train_loss: 0.9178  lr: 4.8179e-04  time: 61s\n",
      "Epoch 18 - Score: 0.5725\n"
     ]
    },
    {
     "name": "stdout",
     "output_type": "stream",
     "text": [
      "EVAL: [16/17] Data 0.000 (0.019) Elapsed 0m 4s (remain 0m 0s) \n",
      "Epoch: [19][0/65] Data 0.441 (0.441) Elapsed 0m 1s (remain 1m 7s) Loss: 0.1563(0.1563) Grad Norm: 0.0000  LR: 4.3712e-04  \n",
      "Epoch: [19][64/65] Data 0.000 (0.007) Elapsed 0m 56s (remain 0m 0s) Loss: 1.1233(0.7024) Grad Norm: 4.0025  LR: 4.3712e-04  \n",
      "EVAL: [0/17] Data 0.317 (0.317) Elapsed 0m 0s (remain 0m 8s) \n"
     ]
    },
    {
     "name": "stderr",
     "output_type": "stream",
     "text": [
      "labels: [11  2  3  7  6]\n",
      "pred_labels: [11  2  3  4  1]\n",
      "Epoch 19 - avg_train_loss: 0.7024  lr: 4.3712e-04  time: 61s\n",
      "Epoch 19 - Score: 0.6183\n",
      "Epoch 19 - Save Best Score: 0.6183 Model\n"
     ]
    },
    {
     "name": "stdout",
     "output_type": "stream",
     "text": [
      "EVAL: [16/17] Data 0.000 (0.019) Elapsed 0m 4s (remain 0m 0s) \n",
      "Epoch: [20][0/65] Data 0.401 (0.401) Elapsed 0m 1s (remain 1m 7s) Loss: 0.1967(0.1967) Grad Norm: 0.0000  LR: 3.9299e-04  \n",
      "Epoch: [20][64/65] Data 0.000 (0.006) Elapsed 0m 56s (remain 0m 0s) Loss: 0.2288(0.7255) Grad Norm: 3.6198  LR: 3.9299e-04  \n",
      "EVAL: [0/17] Data 0.275 (0.275) Elapsed 0m 0s (remain 0m 8s) \n"
     ]
    },
    {
     "name": "stderr",
     "output_type": "stream",
     "text": [
      "labels: [11  2  3  7  6]\n",
      "pred_labels: [11  2  9  7  1]\n",
      "Epoch 20 - avg_train_loss: 0.7255  lr: 3.9299e-04  time: 61s\n",
      "Epoch 20 - Score: 0.6031\n"
     ]
    },
    {
     "name": "stdout",
     "output_type": "stream",
     "text": [
      "EVAL: [16/17] Data 0.000 (0.016) Elapsed 0m 4s (remain 0m 0s) \n",
      "Epoch: [21][0/65] Data 0.397 (0.397) Elapsed 0m 1s (remain 1m 4s) Loss: 1.3837(1.3837) Grad Norm: 0.0000  LR: 3.4975e-04  \n",
      "Epoch: [21][64/65] Data 0.000 (0.006) Elapsed 0m 56s (remain 0m 0s) Loss: 0.0320(0.5685) Grad Norm: 1.4217  LR: 3.4975e-04  \n",
      "EVAL: [0/17] Data 0.247 (0.247) Elapsed 0m 0s (remain 0m 7s) \n"
     ]
    },
    {
     "name": "stderr",
     "output_type": "stream",
     "text": [
      "labels: [11  2  3  7  6]\n",
      "pred_labels: [11  2  9  4  1]\n",
      "Epoch 21 - avg_train_loss: 0.5685  lr: 3.4975e-04  time: 61s\n",
      "Epoch 21 - Score: 0.5573\n"
     ]
    },
    {
     "name": "stdout",
     "output_type": "stream",
     "text": [
      "EVAL: [16/17] Data 0.000 (0.015) Elapsed 0m 4s (remain 0m 0s) \n",
      "Epoch: [22][0/65] Data 0.391 (0.391) Elapsed 0m 0s (remain 1m 3s) Loss: 0.0281(0.0281) Grad Norm: 0.0000  LR: 3.0775e-04  \n",
      "Epoch: [22][64/65] Data 0.000 (0.006) Elapsed 0m 56s (remain 0m 0s) Loss: 0.3016(0.7197) Grad Norm: 2.4256  LR: 3.0775e-04  \n",
      "EVAL: [0/17] Data 0.278 (0.278) Elapsed 0m 0s (remain 0m 8s) \n"
     ]
    },
    {
     "name": "stderr",
     "output_type": "stream",
     "text": [
      "labels: [11  2  3  7  6]\n",
      "pred_labels: [11  2  4  4  1]\n",
      "Epoch 22 - avg_train_loss: 0.7197  lr: 3.0775e-04  time: 61s\n",
      "Epoch 22 - Score: 0.5573\n"
     ]
    },
    {
     "name": "stdout",
     "output_type": "stream",
     "text": [
      "EVAL: [16/17] Data 0.000 (0.017) Elapsed 0m 4s (remain 0m 0s) \n",
      "Epoch: [23][0/65] Data 0.420 (0.420) Elapsed 0m 1s (remain 1m 7s) Loss: 1.1028(1.1028) Grad Norm: 0.0000  LR: 2.6732e-04  \n",
      "Epoch: [23][64/65] Data 0.000 (0.007) Elapsed 0m 56s (remain 0m 0s) Loss: 1.4979(0.7045) Grad Norm: 4.7911  LR: 2.6732e-04  \n",
      "EVAL: [0/17] Data 0.307 (0.307) Elapsed 0m 0s (remain 0m 8s) \n"
     ]
    },
    {
     "name": "stderr",
     "output_type": "stream",
     "text": [
      "labels: [11  2  3  7  6]\n",
      "pred_labels: [11  2  3  7  3]\n",
      "Epoch 23 - avg_train_loss: 0.7045  lr: 2.6732e-04  time: 61s\n",
      "Epoch 23 - Score: 0.5954\n"
     ]
    },
    {
     "name": "stdout",
     "output_type": "stream",
     "text": [
      "EVAL: [16/17] Data 0.000 (0.018) Elapsed 0m 4s (remain 0m 0s) \n",
      "Epoch: [24][0/65] Data 0.379 (0.379) Elapsed 0m 0s (remain 1m 3s) Loss: 1.4397(1.4397) Grad Norm: 0.0000  LR: 2.2880e-04  \n",
      "Epoch: [24][64/65] Data 0.000 (0.006) Elapsed 0m 56s (remain 0m 0s) Loss: 1.7284(0.7470) Grad Norm: 3.8494  LR: 2.2880e-04  \n",
      "EVAL: [0/17] Data 0.296 (0.296) Elapsed 0m 0s (remain 0m 8s) \n"
     ]
    },
    {
     "name": "stderr",
     "output_type": "stream",
     "text": [
      "labels: [11  2  3  7  6]\n",
      "pred_labels: [11  2  3  7  1]\n",
      "Epoch 24 - avg_train_loss: 0.7470  lr: 2.2880e-04  time: 61s\n",
      "Epoch 24 - Score: 0.6183\n"
     ]
    },
    {
     "name": "stdout",
     "output_type": "stream",
     "text": [
      "EVAL: [16/17] Data 0.000 (0.018) Elapsed 0m 4s (remain 0m 0s) \n",
      "Epoch: [25][0/65] Data 0.446 (0.446) Elapsed 0m 1s (remain 1m 7s) Loss: 1.4416(1.4416) Grad Norm: 0.0000  LR: 1.9248e-04  \n",
      "Epoch: [25][64/65] Data 0.000 (0.007) Elapsed 0m 56s (remain 0m 0s) Loss: 0.0253(0.5945) Grad Norm: 5.0309  LR: 1.9248e-04  \n",
      "EVAL: [0/17] Data 0.370 (0.370) Elapsed 0m 0s (remain 0m 9s) \n"
     ]
    },
    {
     "name": "stderr",
     "output_type": "stream",
     "text": [
      "labels: [11  2  3  7  6]\n",
      "pred_labels: [11  2  1  7  0]\n",
      "Epoch 25 - avg_train_loss: 0.5945  lr: 1.9248e-04  time: 61s\n",
      "Epoch 25 - Score: 0.6260\n",
      "Epoch 25 - Save Best Score: 0.6260 Model\n"
     ]
    },
    {
     "name": "stdout",
     "output_type": "stream",
     "text": [
      "EVAL: [16/17] Data 0.000 (0.022) Elapsed 0m 4s (remain 0m 0s) \n",
      "Epoch: [26][0/65] Data 0.463 (0.463) Elapsed 0m 1s (remain 1m 9s) Loss: 0.1788(0.1788) Grad Norm: 0.0000  LR: 1.5867e-04  \n",
      "Epoch: [26][64/65] Data 0.000 (0.007) Elapsed 0m 56s (remain 0m 0s) Loss: 0.1020(0.7024) Grad Norm: 3.0584  LR: 1.5867e-04  \n",
      "EVAL: [0/17] Data 0.255 (0.255) Elapsed 0m 0s (remain 0m 7s) \n"
     ]
    },
    {
     "name": "stderr",
     "output_type": "stream",
     "text": [
      "labels: [11  2  3  7  6]\n",
      "pred_labels: [11  2  3  3  1]\n",
      "Epoch 26 - avg_train_loss: 0.7024  lr: 1.5867e-04  time: 61s\n",
      "Epoch 26 - Score: 0.5954\n"
     ]
    },
    {
     "name": "stdout",
     "output_type": "stream",
     "text": [
      "EVAL: [16/17] Data 0.000 (0.015) Elapsed 0m 4s (remain 0m 0s) \n",
      "Epoch: [27][0/65] Data 0.416 (0.416) Elapsed 0m 1s (remain 1m 5s) Loss: 1.6104(1.6104) Grad Norm: 0.0000  LR: 1.2762e-04  \n",
      "Epoch: [27][64/65] Data 0.000 (0.007) Elapsed 0m 56s (remain 0m 0s) Loss: 0.2529(0.6670) Grad Norm: 4.0593  LR: 1.2762e-04  \n",
      "EVAL: [0/17] Data 0.323 (0.323) Elapsed 0m 0s (remain 0m 8s) \n"
     ]
    },
    {
     "name": "stderr",
     "output_type": "stream",
     "text": [
      "labels: [11  2  3  7  6]\n",
      "pred_labels: [11  2  1  4  1]\n",
      "Epoch 27 - avg_train_loss: 0.6670  lr: 1.2762e-04  time: 61s\n",
      "Epoch 27 - Score: 0.6260\n"
     ]
    },
    {
     "name": "stdout",
     "output_type": "stream",
     "text": [
      "EVAL: [16/17] Data 0.000 (0.019) Elapsed 0m 4s (remain 0m 0s) \n",
      "Epoch: [28][0/65] Data 0.442 (0.442) Elapsed 0m 1s (remain 1m 7s) Loss: 0.0254(0.0254) Grad Norm: 0.0000  LR: 9.9584e-05  \n",
      "Epoch: [28][64/65] Data 0.000 (0.007) Elapsed 0m 56s (remain 0m 0s) Loss: 0.0720(0.5500) Grad Norm: 3.9433  LR: 9.9584e-05  \n",
      "EVAL: [0/17] Data 0.249 (0.249) Elapsed 0m 0s (remain 0m 7s) \n"
     ]
    },
    {
     "name": "stderr",
     "output_type": "stream",
     "text": [
      "labels: [11  2  3  7  6]\n",
      "pred_labels: [11  2  3  7  1]\n",
      "Epoch 28 - avg_train_loss: 0.5500  lr: 9.9584e-05  time: 61s\n",
      "Epoch 28 - Score: 0.6183\n"
     ]
    },
    {
     "name": "stdout",
     "output_type": "stream",
     "text": [
      "EVAL: [16/17] Data 0.000 (0.015) Elapsed 0m 4s (remain 0m 0s) \n",
      "Epoch: [29][0/65] Data 0.334 (0.334) Elapsed 0m 0s (remain 1m 1s) Loss: 0.1147(0.1147) Grad Norm: 0.0000  LR: 7.4783e-05  \n",
      "Epoch: [29][64/65] Data 0.000 (0.005) Elapsed 0m 56s (remain 0m 0s) Loss: 1.3192(0.7136) Grad Norm: 0.9093  LR: 7.4783e-05  \n",
      "EVAL: [0/17] Data 0.301 (0.301) Elapsed 0m 0s (remain 0m 8s) \n"
     ]
    },
    {
     "name": "stderr",
     "output_type": "stream",
     "text": [
      "labels: [11  2  3  7  6]\n",
      "pred_labels: [11  2  1  4  1]\n",
      "Epoch 29 - avg_train_loss: 0.7136  lr: 7.4783e-05  time: 61s\n",
      "Epoch 29 - Score: 0.5878\n"
     ]
    },
    {
     "name": "stdout",
     "output_type": "stream",
     "text": [
      "EVAL: [16/17] Data 0.000 (0.018) Elapsed 0m 4s (remain 0m 0s) \n",
      "Epoch: [30][0/65] Data 0.379 (0.379) Elapsed 0m 0s (remain 1m 3s) Loss: 0.9117(0.9117) Grad Norm: 0.0000  LR: 5.3404e-05  \n",
      "Epoch: [30][64/65] Data 0.000 (0.006) Elapsed 0m 56s (remain 0m 0s) Loss: 0.8977(0.7159) Grad Norm: 5.1773  LR: 5.3404e-05  \n",
      "EVAL: [0/17] Data 0.340 (0.340) Elapsed 0m 0s (remain 0m 9s) \n"
     ]
    },
    {
     "name": "stderr",
     "output_type": "stream",
     "text": [
      "labels: [11  2  3  7  6]\n",
      "pred_labels: [11  2  1  7  1]\n",
      "Epoch 30 - avg_train_loss: 0.7159  lr: 5.3404e-05  time: 61s\n",
      "Epoch 30 - Score: 0.5878\n"
     ]
    },
    {
     "name": "stdout",
     "output_type": "stream",
     "text": [
      "EVAL: [16/17] Data 0.000 (0.020) Elapsed 0m 4s (remain 0m 0s) \n",
      "Epoch: [31][0/65] Data 0.395 (0.395) Elapsed 0m 1s (remain 1m 4s) Loss: 0.0811(0.0811) Grad Norm: 0.0000  LR: 3.5607e-05  \n",
      "Epoch: [31][64/65] Data 0.000 (0.006) Elapsed 0m 56s (remain 0m 0s) Loss: 0.2882(0.0672) Grad Norm: 0.5331  LR: 3.5607e-05  \n",
      "EVAL: [0/17] Data 0.268 (0.268) Elapsed 0m 0s (remain 0m 8s) \n"
     ]
    },
    {
     "name": "stderr",
     "output_type": "stream",
     "text": [
      "labels: [11  2  3  7  6]\n",
      "pred_labels: [11  2  3  4  1]\n",
      "Epoch 31 - avg_train_loss: 0.0672  lr: 3.5607e-05  time: 61s\n",
      "Epoch 31 - Score: 0.6107\n"
     ]
    },
    {
     "name": "stdout",
     "output_type": "stream",
     "text": [
      "EVAL: [16/17] Data 0.000 (0.016) Elapsed 0m 4s (remain 0m 0s) \n",
      "Epoch: [32][0/65] Data 0.389 (0.389) Elapsed 0m 1s (remain 1m 5s) Loss: 0.0198(0.0198) Grad Norm: 0.0000  LR: 2.1508e-05  \n",
      "Epoch: [32][64/65] Data 0.000 (0.006) Elapsed 0m 56s (remain 0m 0s) Loss: 0.0435(0.0484) Grad Norm: 2.5484  LR: 2.1508e-05  \n",
      "EVAL: [0/17] Data 0.270 (0.270) Elapsed 0m 0s (remain 0m 8s) \n"
     ]
    },
    {
     "name": "stderr",
     "output_type": "stream",
     "text": [
      "labels: [11  2  3  7  6]\n",
      "pred_labels: [11  2  4  4  1]\n",
      "Epoch 32 - avg_train_loss: 0.0484  lr: 2.1508e-05  time: 61s\n",
      "Epoch 32 - Score: 0.6107\n"
     ]
    },
    {
     "name": "stdout",
     "output_type": "stream",
     "text": [
      "EVAL: [16/17] Data 0.000 (0.016) Elapsed 0m 4s (remain 0m 0s) \n",
      "Epoch: [33][0/65] Data 0.403 (0.403) Elapsed 0m 1s (remain 1m 4s) Loss: 0.0107(0.0107) Grad Norm: 0.0000  LR: 1.1173e-05  \n",
      "Epoch: [33][64/65] Data 0.000 (0.006) Elapsed 0m 56s (remain 0m 0s) Loss: 0.0191(0.0358) Grad Norm: 0.4045  LR: 1.1173e-05  \n",
      "EVAL: [0/17] Data 0.295 (0.295) Elapsed 0m 0s (remain 0m 8s) \n"
     ]
    },
    {
     "name": "stderr",
     "output_type": "stream",
     "text": [
      "labels: [11  2  3  7  6]\n",
      "pred_labels: [11  2  4  4  1]\n",
      "Epoch 33 - avg_train_loss: 0.0358  lr: 1.1173e-05  time: 61s\n",
      "Epoch 33 - Score: 0.6183\n"
     ]
    },
    {
     "name": "stdout",
     "output_type": "stream",
     "text": [
      "EVAL: [16/17] Data 0.000 (0.018) Elapsed 0m 4s (remain 0m 0s) \n",
      "Epoch: [34][0/65] Data 0.329 (0.329) Elapsed 0m 0s (remain 1m 2s) Loss: 0.0186(0.0186) Grad Norm: 0.0000  LR: 4.5796e-06  \n",
      "Epoch: [34][64/65] Data 0.000 (0.005) Elapsed 0m 56s (remain 0m 0s) Loss: 0.0553(0.0438) Grad Norm: 0.2260  LR: 4.5796e-06  \n",
      "EVAL: [0/17] Data 0.259 (0.259) Elapsed 0m 0s (remain 0m 7s) \n"
     ]
    },
    {
     "name": "stderr",
     "output_type": "stream",
     "text": [
      "labels: [11  2  3  7  6]\n",
      "pred_labels: [11  2  3  7  1]\n",
      "Epoch 34 - avg_train_loss: 0.0438  lr: 4.5796e-06  time: 61s\n",
      "Epoch 34 - Score: 0.6183\n"
     ]
    },
    {
     "name": "stdout",
     "output_type": "stream",
     "text": [
      "EVAL: [16/17] Data 0.000 (0.015) Elapsed 0m 4s (remain 0m 0s) \n",
      "Epoch: [35][0/65] Data 0.400 (0.400) Elapsed 0m 1s (remain 1m 4s) Loss: 0.0139(0.0139) Grad Norm: 0.0000  LR: 1.5037e-06  \n",
      "Epoch: [35][64/65] Data 0.000 (0.006) Elapsed 0m 56s (remain 0m 0s) Loss: 0.0129(0.0416) Grad Norm: 0.7652  LR: 1.5037e-06  \n",
      "EVAL: [0/17] Data 0.264 (0.264) Elapsed 0m 0s (remain 0m 7s) \n"
     ]
    },
    {
     "name": "stderr",
     "output_type": "stream",
     "text": [
      "labels: [11  2  3  7  6]\n",
      "pred_labels: [11  2  3  4  1]\n",
      "Epoch 35 - avg_train_loss: 0.0416  lr: 1.5037e-06  time: 61s\n",
      "Epoch 35 - Score: 0.6107\n",
      "==================== fold: 3, seed: 2 training ====================\n"
     ]
    },
    {
     "name": "stdout",
     "output_type": "stream",
     "text": [
      "EVAL: [16/17] Data 0.000 (0.016) Elapsed 0m 4s (remain 0m 0s) \n",
      "Epoch: [1][0/65] Data 0.420 (0.420) Elapsed 0m 1s (remain 1m 6s) Loss: 2.6535(2.6535) Grad Norm: 0.0000  LR: 1.0000e-03  \n",
      "Epoch: [1][64/65] Data 0.000 (0.007) Elapsed 0m 57s (remain 0m 0s) Loss: 2.4596(2.5645) Grad Norm: 7.1426  LR: 1.0000e-03  \n",
      "EVAL: [0/17] Data 0.374 (0.374) Elapsed 0m 0s (remain 0m 9s) \n"
     ]
    },
    {
     "name": "stderr",
     "output_type": "stream",
     "text": [
      "labels: [ 5  2 11 10  8]\n",
      "pred_labels: [6 0 7 2 2]\n",
      "Epoch 1 - avg_train_loss: 2.5645  lr: 1.0000e-03  time: 62s\n",
      "Epoch 1 - Score: 0.2519\n",
      "Epoch 1 - Save Best Score: 0.2519 Model\n"
     ]
    },
    {
     "name": "stdout",
     "output_type": "stream",
     "text": [
      "EVAL: [16/17] Data 0.000 (0.022) Elapsed 0m 4s (remain 0m 0s) \n",
      "Epoch: [2][0/65] Data 0.472 (0.472) Elapsed 0m 1s (remain 1m 9s) Loss: 2.4230(2.4230) Grad Norm: 0.0000  LR: 9.9598e-04  \n",
      "Epoch: [2][64/65] Data 0.000 (0.007) Elapsed 0m 57s (remain 0m 0s) Loss: 1.9557(2.3359) Grad Norm: 7.1240  LR: 9.9598e-04  \n",
      "EVAL: [0/17] Data 0.298 (0.298) Elapsed 0m 0s (remain 0m 8s) \n"
     ]
    },
    {
     "name": "stderr",
     "output_type": "stream",
     "text": [
      "labels: [ 5  2 11 10  8]\n",
      "pred_labels: [5 4 1 2 2]\n",
      "Epoch 2 - avg_train_loss: 2.3359  lr: 9.9598e-04  time: 62s\n",
      "Epoch 2 - Score: 0.3282\n",
      "Epoch 2 - Save Best Score: 0.3282 Model\n"
     ]
    },
    {
     "name": "stdout",
     "output_type": "stream",
     "text": [
      "EVAL: [16/17] Data 0.000 (0.018) Elapsed 0m 4s (remain 0m 0s) \n",
      "Epoch: [3][0/65] Data 0.446 (0.446) Elapsed 0m 1s (remain 1m 8s) Loss: 1.9105(1.9105) Grad Norm: 0.0000  LR: 9.8599e-04  \n",
      "Epoch: [3][64/65] Data 0.000 (0.007) Elapsed 0m 57s (remain 0m 0s) Loss: 1.5017(2.0941) Grad Norm: 6.9893  LR: 9.8599e-04  \n",
      "EVAL: [0/17] Data 0.308 (0.308) Elapsed 0m 0s (remain 0m 8s) \n"
     ]
    },
    {
     "name": "stderr",
     "output_type": "stream",
     "text": [
      "labels: [ 5  2 11 10  8]\n",
      "pred_labels: [ 5  5 11  2  2]\n",
      "Epoch 3 - avg_train_loss: 2.0941  lr: 9.8599e-04  time: 62s\n",
      "Epoch 3 - Score: 0.3893\n",
      "Epoch 3 - Save Best Score: 0.3893 Model\n"
     ]
    },
    {
     "name": "stdout",
     "output_type": "stream",
     "text": [
      "EVAL: [16/17] Data 0.000 (0.018) Elapsed 0m 4s (remain 0m 0s) \n",
      "Epoch: [4][0/65] Data 0.505 (0.505) Elapsed 0m 1s (remain 1m 12s) Loss: 1.6562(1.6562) Grad Norm: 0.0000  LR: 9.7213e-04  \n",
      "Epoch: [4][64/65] Data 0.000 (0.008) Elapsed 0m 57s (remain 0m 0s) Loss: 1.5745(1.9063) Grad Norm: 8.3143  LR: 9.7213e-04  \n",
      "EVAL: [0/17] Data 0.333 (0.333) Elapsed 0m 0s (remain 0m 9s) \n"
     ]
    },
    {
     "name": "stderr",
     "output_type": "stream",
     "text": [
      "labels: [ 5  2 11 10  8]\n",
      "pred_labels: [ 5  5 11  3  8]\n",
      "Epoch 4 - avg_train_loss: 1.9063  lr: 9.7213e-04  time: 62s\n",
      "Epoch 4 - Score: 0.4275\n",
      "Epoch 4 - Save Best Score: 0.4275 Model\n"
     ]
    },
    {
     "name": "stdout",
     "output_type": "stream",
     "text": [
      "EVAL: [16/17] Data 0.000 (0.020) Elapsed 0m 4s (remain 0m 0s) \n",
      "Epoch: [5][0/65] Data 0.480 (0.480) Elapsed 0m 1s (remain 1m 11s) Loss: 0.9528(0.9528) Grad Norm: 0.0000  LR: 9.5449e-04  \n",
      "Epoch: [5][64/65] Data 0.000 (0.008) Elapsed 0m 57s (remain 0m 0s) Loss: 1.1874(1.6388) Grad Norm: 6.8538  LR: 9.5449e-04  \n",
      "EVAL: [0/17] Data 0.400 (0.400) Elapsed 0m 0s (remain 0m 10s) \n"
     ]
    },
    {
     "name": "stderr",
     "output_type": "stream",
     "text": [
      "labels: [ 5  2 11 10  8]\n",
      "pred_labels: [ 6  5 10  2  8]\n",
      "Epoch 5 - avg_train_loss: 1.6388  lr: 9.5449e-04  time: 62s\n",
      "Epoch 5 - Score: 0.5267\n",
      "Epoch 5 - Save Best Score: 0.5267 Model\n"
     ]
    },
    {
     "name": "stdout",
     "output_type": "stream",
     "text": [
      "EVAL: [16/17] Data 0.000 (0.024) Elapsed 0m 4s (remain 0m 0s) \n",
      "Epoch: [6][0/65] Data 0.505 (0.505) Elapsed 0m 1s (remain 1m 12s) Loss: 1.4579(1.4579) Grad Norm: 0.0000  LR: 9.3324e-04  \n",
      "Epoch: [6][64/65] Data 0.000 (0.008) Elapsed 0m 57s (remain 0m 0s) Loss: 1.3909(1.4629) Grad Norm: 6.1581  LR: 9.3324e-04  \n",
      "EVAL: [0/17] Data 0.407 (0.407) Elapsed 0m 0s (remain 0m 10s) \n"
     ]
    },
    {
     "name": "stderr",
     "output_type": "stream",
     "text": [
      "labels: [ 5  2 11 10  8]\n",
      "pred_labels: [ 5  5 11 10  8]\n",
      "Epoch 6 - avg_train_loss: 1.4629  lr: 9.3324e-04  time: 62s\n",
      "Epoch 6 - Score: 0.4962\n"
     ]
    },
    {
     "name": "stdout",
     "output_type": "stream",
     "text": [
      "EVAL: [16/17] Data 0.000 (0.024) Elapsed 0m 4s (remain 0m 0s) \n",
      "Epoch: [7][0/65] Data 0.453 (0.453) Elapsed 0m 1s (remain 1m 10s) Loss: 0.6927(0.6927) Grad Norm: 0.0000  LR: 9.0853e-04  \n",
      "Epoch: [7][64/65] Data 0.000 (0.007) Elapsed 0m 57s (remain 0m 0s) Loss: 2.2218(1.3466) Grad Norm: 7.0360  LR: 9.0853e-04  \n",
      "EVAL: [0/17] Data 0.404 (0.404) Elapsed 0m 0s (remain 0m 10s) \n"
     ]
    },
    {
     "name": "stderr",
     "output_type": "stream",
     "text": [
      "labels: [ 5  2 11 10  8]\n",
      "pred_labels: [ 5  5 11 10  8]\n",
      "Epoch 7 - avg_train_loss: 1.3466  lr: 9.0853e-04  time: 62s\n",
      "Epoch 7 - Score: 0.5191\n"
     ]
    },
    {
     "name": "stdout",
     "output_type": "stream",
     "text": [
      "EVAL: [16/17] Data 0.000 (0.024) Elapsed 0m 4s (remain 0m 0s) \n",
      "Epoch: [8][0/65] Data 0.514 (0.514) Elapsed 0m 1s (remain 1m 11s) Loss: 0.6283(0.6283) Grad Norm: 0.0000  LR: 8.8057e-04  \n",
      "Epoch: [8][64/65] Data 0.000 (0.008) Elapsed 0m 57s (remain 0m 0s) Loss: 1.7383(1.3411) Grad Norm: 6.9687  LR: 8.8057e-04  \n",
      "EVAL: [0/17] Data 0.337 (0.337) Elapsed 0m 0s (remain 0m 9s) \n"
     ]
    },
    {
     "name": "stderr",
     "output_type": "stream",
     "text": [
      "labels: [ 5  2 11 10  8]\n",
      "pred_labels: [ 5  5 11  2  8]\n",
      "Epoch 8 - avg_train_loss: 1.3411  lr: 8.8057e-04  time: 62s\n",
      "Epoch 8 - Score: 0.5725\n",
      "Epoch 8 - Save Best Score: 0.5725 Model\n"
     ]
    },
    {
     "name": "stdout",
     "output_type": "stream",
     "text": [
      "EVAL: [16/17] Data 0.000 (0.020) Elapsed 0m 4s (remain 0m 0s) \n",
      "Epoch: [9][0/65] Data 0.479 (0.479) Elapsed 0m 1s (remain 1m 10s) Loss: 0.6287(0.6287) Grad Norm: 0.0000  LR: 8.4958e-04  \n",
      "Epoch: [9][64/65] Data 0.000 (0.008) Elapsed 0m 57s (remain 0m 0s) Loss: 0.4980(1.2635) Grad Norm: 5.8568  LR: 8.4958e-04  \n",
      "EVAL: [0/17] Data 0.342 (0.342) Elapsed 0m 0s (remain 0m 9s) \n"
     ]
    },
    {
     "name": "stderr",
     "output_type": "stream",
     "text": [
      "labels: [ 5  2 11 10  8]\n",
      "pred_labels: [2 5 1 2 8]\n",
      "Epoch 9 - avg_train_loss: 1.2635  lr: 8.4958e-04  time: 62s\n",
      "Epoch 9 - Score: 0.4580\n"
     ]
    },
    {
     "name": "stdout",
     "output_type": "stream",
     "text": [
      "EVAL: [16/17] Data 0.000 (0.020) Elapsed 0m 4s (remain 0m 0s) \n",
      "Epoch: [10][0/65] Data 0.472 (0.472) Elapsed 0m 1s (remain 1m 9s) Loss: 0.4025(0.4025) Grad Norm: 0.0000  LR: 8.1581e-04  \n",
      "Epoch: [10][64/65] Data 0.000 (0.007) Elapsed 0m 57s (remain 0m 0s) Loss: 0.7810(1.0239) Grad Norm: 6.3249  LR: 8.1581e-04  \n",
      "EVAL: [0/17] Data 0.339 (0.339) Elapsed 0m 0s (remain 0m 9s) \n"
     ]
    },
    {
     "name": "stderr",
     "output_type": "stream",
     "text": [
      "labels: [ 5  2 11 10  8]\n",
      "pred_labels: [ 5  5 10  4  8]\n",
      "Epoch 10 - avg_train_loss: 1.0239  lr: 8.1581e-04  time: 62s\n",
      "Epoch 10 - Score: 0.5267\n"
     ]
    },
    {
     "name": "stdout",
     "output_type": "stream",
     "text": [
      "EVAL: [16/17] Data 0.000 (0.020) Elapsed 0m 4s (remain 0m 0s) \n",
      "Epoch: [11][0/65] Data 0.519 (0.519) Elapsed 0m 1s (remain 1m 12s) Loss: 0.5611(0.5611) Grad Norm: 0.0000  LR: 7.7953e-04  \n",
      "Epoch: [11][64/65] Data 0.000 (0.008) Elapsed 0m 57s (remain 0m 0s) Loss: 1.4724(1.0767) Grad Norm: 6.8771  LR: 7.7953e-04  \n",
      "EVAL: [0/17] Data 0.369 (0.369) Elapsed 0m 0s (remain 0m 9s) \n"
     ]
    },
    {
     "name": "stderr",
     "output_type": "stream",
     "text": [
      "labels: [ 5  2 11 10  8]\n",
      "pred_labels: [ 5  5 11 10  8]\n",
      "Epoch 11 - avg_train_loss: 1.0767  lr: 7.7953e-04  time: 62s\n",
      "Epoch 11 - Score: 0.5725\n"
     ]
    },
    {
     "name": "stdout",
     "output_type": "stream",
     "text": [
      "EVAL: [16/17] Data 0.000 (0.022) Elapsed 0m 4s (remain 0m 0s) \n",
      "Epoch: [12][0/65] Data 0.442 (0.442) Elapsed 0m 1s (remain 1m 8s) Loss: 0.4955(0.4955) Grad Norm: 0.0000  LR: 7.4103e-04  \n",
      "Epoch: [12][64/65] Data 0.000 (0.007) Elapsed 0m 57s (remain 0m 0s) Loss: 1.7626(1.0035) Grad Norm: 4.1675  LR: 7.4103e-04  \n",
      "EVAL: [0/17] Data 0.319 (0.319) Elapsed 0m 0s (remain 0m 8s) \n"
     ]
    },
    {
     "name": "stderr",
     "output_type": "stream",
     "text": [
      "labels: [ 5  2 11 10  8]\n",
      "pred_labels: [ 1  5 11 10  8]\n",
      "Epoch 12 - avg_train_loss: 1.0035  lr: 7.4103e-04  time: 62s\n",
      "Epoch 12 - Score: 0.5496\n"
     ]
    },
    {
     "name": "stdout",
     "output_type": "stream",
     "text": [
      "EVAL: [16/17] Data 0.000 (0.019) Elapsed 0m 4s (remain 0m 0s) \n",
      "Epoch: [13][0/65] Data 0.522 (0.522) Elapsed 0m 1s (remain 1m 12s) Loss: 0.4329(0.4329) Grad Norm: 0.0000  LR: 7.0063e-04  \n",
      "Epoch: [13][64/65] Data 0.000 (0.008) Elapsed 0m 57s (remain 0m 0s) Loss: 0.7618(0.8427) Grad Norm: 4.3588  LR: 7.0063e-04  \n",
      "EVAL: [0/17] Data 0.354 (0.354) Elapsed 0m 0s (remain 0m 9s) \n"
     ]
    },
    {
     "name": "stderr",
     "output_type": "stream",
     "text": [
      "labels: [ 5  2 11 10  8]\n",
      "pred_labels: [ 5  2 11 10  8]\n",
      "Epoch 13 - avg_train_loss: 0.8427  lr: 7.0063e-04  time: 62s\n",
      "Epoch 13 - Score: 0.5649\n"
     ]
    },
    {
     "name": "stdout",
     "output_type": "stream",
     "text": [
      "EVAL: [16/17] Data 0.000 (0.021) Elapsed 0m 4s (remain 0m 0s) \n",
      "Epoch: [14][0/65] Data 0.404 (0.404) Elapsed 0m 1s (remain 1m 4s) Loss: 1.5010(1.5010) Grad Norm: 0.0000  LR: 6.5865e-04  \n",
      "Epoch: [14][64/65] Data 0.000 (0.006) Elapsed 0m 57s (remain 0m 0s) Loss: 1.1901(0.9241) Grad Norm: 4.8588  LR: 6.5865e-04  \n",
      "EVAL: [0/17] Data 0.350 (0.350) Elapsed 0m 0s (remain 0m 9s) \n"
     ]
    },
    {
     "name": "stderr",
     "output_type": "stream",
     "text": [
      "labels: [ 5  2 11 10  8]\n",
      "pred_labels: [ 5  5  8 10  8]\n",
      "Epoch 14 - avg_train_loss: 0.9241  lr: 6.5865e-04  time: 62s\n",
      "Epoch 14 - Score: 0.6031\n",
      "Epoch 14 - Save Best Score: 0.6031 Model\n"
     ]
    },
    {
     "name": "stdout",
     "output_type": "stream",
     "text": [
      "EVAL: [16/17] Data 0.000 (0.021) Elapsed 0m 4s (remain 0m 0s) \n",
      "Epoch: [15][0/65] Data 0.485 (0.485) Elapsed 0m 1s (remain 1m 11s) Loss: 0.4741(0.4741) Grad Norm: 0.0000  LR: 6.1542e-04  \n",
      "Epoch: [15][64/65] Data 0.000 (0.008) Elapsed 0m 57s (remain 0m 0s) Loss: 1.5149(1.0645) Grad Norm: 3.9397  LR: 6.1542e-04  \n",
      "EVAL: [0/17] Data 0.328 (0.328) Elapsed 0m 0s (remain 0m 9s) \n"
     ]
    },
    {
     "name": "stderr",
     "output_type": "stream",
     "text": [
      "labels: [ 5  2 11 10  8]\n",
      "pred_labels: [ 2  5 11 10  8]\n",
      "Epoch 15 - avg_train_loss: 1.0645  lr: 6.1542e-04  time: 62s\n",
      "Epoch 15 - Score: 0.5725\n"
     ]
    },
    {
     "name": "stdout",
     "output_type": "stream",
     "text": [
      "EVAL: [16/17] Data 0.000 (0.020) Elapsed 0m 4s (remain 0m 0s) \n",
      "Epoch: [16][0/65] Data 0.459 (0.459) Elapsed 0m 1s (remain 1m 8s) Loss: 0.0969(0.0969) Grad Norm: 0.0000  LR: 5.7130e-04  \n",
      "Epoch: [16][64/65] Data 0.000 (0.007) Elapsed 0m 57s (remain 0m 0s) Loss: 0.4899(0.8850) Grad Norm: 4.8765  LR: 5.7130e-04  \n",
      "EVAL: [0/17] Data 0.301 (0.301) Elapsed 0m 0s (remain 0m 8s) \n"
     ]
    },
    {
     "name": "stderr",
     "output_type": "stream",
     "text": [
      "labels: [ 5  2 11 10  8]\n",
      "pred_labels: [11  5 11 10  8]\n",
      "Epoch 16 - avg_train_loss: 0.8850  lr: 5.7130e-04  time: 62s\n",
      "Epoch 16 - Score: 0.5725\n"
     ]
    },
    {
     "name": "stdout",
     "output_type": "stream",
     "text": [
      "EVAL: [16/17] Data 0.000 (0.018) Elapsed 0m 4s (remain 0m 0s) \n",
      "Epoch: [17][0/65] Data 0.410 (0.410) Elapsed 0m 1s (remain 1m 5s) Loss: 0.8069(0.8069) Grad Norm: 0.0000  LR: 5.2663e-04  \n",
      "Epoch: [17][64/65] Data 0.000 (0.007) Elapsed 0m 56s (remain 0m 0s) Loss: 0.1378(0.9691) Grad Norm: 5.4775  LR: 5.2663e-04  \n",
      "EVAL: [0/17] Data 0.378 (0.378) Elapsed 0m 0s (remain 0m 9s) \n"
     ]
    },
    {
     "name": "stderr",
     "output_type": "stream",
     "text": [
      "labels: [ 5  2 11 10  8]\n",
      "pred_labels: [11  5 11 10  8]\n",
      "Epoch 17 - avg_train_loss: 0.9691  lr: 5.2663e-04  time: 62s\n",
      "Epoch 17 - Score: 0.5954\n"
     ]
    },
    {
     "name": "stdout",
     "output_type": "stream",
     "text": [
      "EVAL: [16/17] Data 0.000 (0.023) Elapsed 0m 4s (remain 0m 0s) \n",
      "Epoch: [18][0/65] Data 0.407 (0.407) Elapsed 0m 1s (remain 1m 9s) Loss: 1.1330(1.1330) Grad Norm: 0.0000  LR: 4.8179e-04  \n",
      "Epoch: [18][64/65] Data 0.000 (0.006) Elapsed 0m 56s (remain 0m 0s) Loss: 1.2201(0.7904) Grad Norm: 4.6905  LR: 4.8179e-04  \n",
      "EVAL: [0/17] Data 0.304 (0.304) Elapsed 0m 0s (remain 0m 8s) \n"
     ]
    },
    {
     "name": "stderr",
     "output_type": "stream",
     "text": [
      "labels: [ 5  2 11 10  8]\n",
      "pred_labels: [11  5 11 10  8]\n",
      "Epoch 18 - avg_train_loss: 0.7904  lr: 4.8179e-04  time: 61s\n",
      "Epoch 18 - Score: 0.5725\n"
     ]
    },
    {
     "name": "stdout",
     "output_type": "stream",
     "text": [
      "EVAL: [16/17] Data 0.000 (0.018) Elapsed 0m 4s (remain 0m 0s) \n",
      "Epoch: [19][0/65] Data 0.508 (0.508) Elapsed 0m 1s (remain 1m 13s) Loss: 0.9311(0.9311) Grad Norm: 0.0000  LR: 4.3712e-04  \n",
      "Epoch: [19][64/65] Data 0.000 (0.008) Elapsed 0m 57s (remain 0m 0s) Loss: 1.6913(0.8434) Grad Norm: 4.7251  LR: 4.3712e-04  \n",
      "EVAL: [0/17] Data 0.334 (0.334) Elapsed 0m 0s (remain 0m 9s) \n"
     ]
    },
    {
     "name": "stderr",
     "output_type": "stream",
     "text": [
      "labels: [ 5  2 11 10  8]\n",
      "pred_labels: [ 5  5 11 10  8]\n",
      "Epoch 19 - avg_train_loss: 0.8434  lr: 4.3712e-04  time: 62s\n",
      "Epoch 19 - Score: 0.6107\n",
      "Epoch 19 - Save Best Score: 0.6107 Model\n"
     ]
    },
    {
     "name": "stdout",
     "output_type": "stream",
     "text": [
      "EVAL: [16/17] Data 0.000 (0.020) Elapsed 0m 4s (remain 0m 0s) \n",
      "Epoch: [20][0/65] Data 0.453 (0.453) Elapsed 0m 1s (remain 1m 11s) Loss: 1.5559(1.5559) Grad Norm: 0.0000  LR: 3.9299e-04  \n",
      "Epoch: [20][64/65] Data 0.000 (0.007) Elapsed 0m 56s (remain 0m 0s) Loss: 0.0791(0.6879) Grad Norm: 3.3074  LR: 3.9299e-04  \n",
      "EVAL: [0/17] Data 0.264 (0.264) Elapsed 0m 0s (remain 0m 7s) \n"
     ]
    },
    {
     "name": "stderr",
     "output_type": "stream",
     "text": [
      "labels: [ 5  2 11 10  8]\n",
      "pred_labels: [11  5 11 10  8]\n",
      "Epoch 20 - avg_train_loss: 0.6879  lr: 3.9299e-04  time: 61s\n",
      "Epoch 20 - Score: 0.5649\n"
     ]
    },
    {
     "name": "stdout",
     "output_type": "stream",
     "text": [
      "EVAL: [16/17] Data 0.000 (0.016) Elapsed 0m 4s (remain 0m 0s) \n",
      "Epoch: [21][0/65] Data 0.401 (0.401) Elapsed 0m 1s (remain 1m 4s) Loss: 0.8748(0.8748) Grad Norm: 0.0000  LR: 3.4975e-04  \n",
      "Epoch: [21][64/65] Data 0.000 (0.006) Elapsed 0m 56s (remain 0m 0s) Loss: 0.1133(0.7445) Grad Norm: 3.8032  LR: 3.4975e-04  \n",
      "EVAL: [0/17] Data 0.300 (0.300) Elapsed 0m 0s (remain 0m 8s) \n"
     ]
    },
    {
     "name": "stderr",
     "output_type": "stream",
     "text": [
      "labels: [ 5  2 11 10  8]\n",
      "pred_labels: [11  5 11  3  8]\n",
      "Epoch 21 - avg_train_loss: 0.7445  lr: 3.4975e-04  time: 61s\n",
      "Epoch 21 - Score: 0.5725\n"
     ]
    },
    {
     "name": "stdout",
     "output_type": "stream",
     "text": [
      "EVAL: [16/17] Data 0.000 (0.018) Elapsed 0m 4s (remain 0m 0s) \n",
      "Epoch: [22][0/65] Data 0.386 (0.386) Elapsed 0m 1s (remain 1m 7s) Loss: 1.6414(1.6414) Grad Norm: 0.0000  LR: 3.0775e-04  \n",
      "Epoch: [22][64/65] Data 0.000 (0.006) Elapsed 0m 56s (remain 0m 0s) Loss: 1.5366(0.7920) Grad Norm: 4.4025  LR: 3.0775e-04  \n",
      "EVAL: [0/17] Data 0.287 (0.287) Elapsed 0m 0s (remain 0m 8s) \n"
     ]
    },
    {
     "name": "stderr",
     "output_type": "stream",
     "text": [
      "labels: [ 5  2 11 10  8]\n",
      "pred_labels: [11  5 11  2  8]\n",
      "Epoch 22 - avg_train_loss: 0.7920  lr: 3.0775e-04  time: 61s\n",
      "Epoch 22 - Score: 0.6183\n",
      "Epoch 22 - Save Best Score: 0.6183 Model\n"
     ]
    },
    {
     "name": "stdout",
     "output_type": "stream",
     "text": [
      "EVAL: [16/17] Data 0.000 (0.017) Elapsed 0m 4s (remain 0m 0s) \n",
      "Epoch: [23][0/65] Data 0.503 (0.503) Elapsed 0m 1s (remain 1m 12s) Loss: 0.1745(0.1745) Grad Norm: 0.0000  LR: 2.6732e-04  \n",
      "Epoch: [23][64/65] Data 0.000 (0.008) Elapsed 0m 56s (remain 0m 0s) Loss: 1.4240(0.6524) Grad Norm: 1.1264  LR: 2.6732e-04  \n",
      "EVAL: [0/17] Data 0.261 (0.261) Elapsed 0m 0s (remain 0m 7s) \n"
     ]
    },
    {
     "name": "stderr",
     "output_type": "stream",
     "text": [
      "labels: [ 5  2 11 10  8]\n",
      "pred_labels: [ 5  5 11  2  8]\n",
      "Epoch 23 - avg_train_loss: 0.6524  lr: 2.6732e-04  time: 61s\n",
      "Epoch 23 - Score: 0.5802\n"
     ]
    },
    {
     "name": "stdout",
     "output_type": "stream",
     "text": [
      "EVAL: [16/17] Data 0.000 (0.016) Elapsed 0m 4s (remain 0m 0s) \n",
      "Epoch: [24][0/65] Data 0.445 (0.445) Elapsed 0m 1s (remain 1m 8s) Loss: 1.4952(1.4952) Grad Norm: 0.0000  LR: 2.2880e-04  \n",
      "Epoch: [24][64/65] Data 0.000 (0.007) Elapsed 0m 56s (remain 0m 0s) Loss: 0.0561(0.6432) Grad Norm: 5.8169  LR: 2.2880e-04  \n",
      "EVAL: [0/17] Data 0.320 (0.320) Elapsed 0m 0s (remain 0m 8s) \n"
     ]
    },
    {
     "name": "stderr",
     "output_type": "stream",
     "text": [
      "labels: [ 5  2 11 10  8]\n",
      "pred_labels: [11  5 11  2  8]\n",
      "Epoch 24 - avg_train_loss: 0.6432  lr: 2.2880e-04  time: 61s\n",
      "Epoch 24 - Score: 0.5954\n"
     ]
    },
    {
     "name": "stdout",
     "output_type": "stream",
     "text": [
      "EVAL: [16/17] Data 0.000 (0.019) Elapsed 0m 4s (remain 0m 0s) \n",
      "Epoch: [25][0/65] Data 0.443 (0.443) Elapsed 0m 1s (remain 1m 7s) Loss: 1.2296(1.2296) Grad Norm: 0.0000  LR: 1.9248e-04  \n",
      "Epoch: [25][64/65] Data 0.000 (0.007) Elapsed 0m 56s (remain 0m 0s) Loss: 1.0093(0.6512) Grad Norm: 2.5147  LR: 1.9248e-04  \n",
      "EVAL: [0/17] Data 0.286 (0.286) Elapsed 0m 0s (remain 0m 8s) \n"
     ]
    },
    {
     "name": "stderr",
     "output_type": "stream",
     "text": [
      "labels: [ 5  2 11 10  8]\n",
      "pred_labels: [ 5  5 11  4  8]\n",
      "Epoch 25 - avg_train_loss: 0.6512  lr: 1.9248e-04  time: 61s\n",
      "Epoch 25 - Score: 0.5802\n"
     ]
    },
    {
     "name": "stdout",
     "output_type": "stream",
     "text": [
      "EVAL: [16/17] Data 0.000 (0.017) Elapsed 0m 4s (remain 0m 0s) \n",
      "Epoch: [26][0/65] Data 0.457 (0.457) Elapsed 0m 1s (remain 1m 8s) Loss: 1.3530(1.3530) Grad Norm: 0.0000  LR: 1.5867e-04  \n",
      "Epoch: [26][64/65] Data 0.000 (0.007) Elapsed 0m 56s (remain 0m 0s) Loss: 0.0342(0.6964) Grad Norm: 0.7009  LR: 1.5867e-04  \n",
      "EVAL: [0/17] Data 0.311 (0.311) Elapsed 0m 0s (remain 0m 8s) \n"
     ]
    },
    {
     "name": "stderr",
     "output_type": "stream",
     "text": [
      "labels: [ 5  2 11 10  8]\n",
      "pred_labels: [11  5 11 10  8]\n",
      "Epoch 26 - avg_train_loss: 0.6964  lr: 1.5867e-04  time: 61s\n",
      "Epoch 26 - Score: 0.5649\n"
     ]
    },
    {
     "name": "stdout",
     "output_type": "stream",
     "text": [
      "EVAL: [16/17] Data 0.000 (0.019) Elapsed 0m 4s (remain 0m 0s) \n",
      "Epoch: [27][0/65] Data 0.411 (0.411) Elapsed 0m 1s (remain 1m 5s) Loss: 0.8359(0.8359) Grad Norm: 0.0000  LR: 1.2762e-04  \n",
      "Epoch: [27][64/65] Data 0.000 (0.007) Elapsed 0m 56s (remain 0m 0s) Loss: 0.0365(0.7649) Grad Norm: 3.4814  LR: 1.2762e-04  \n",
      "EVAL: [0/17] Data 0.250 (0.250) Elapsed 0m 0s (remain 0m 7s) \n"
     ]
    },
    {
     "name": "stderr",
     "output_type": "stream",
     "text": [
      "labels: [ 5  2 11 10  8]\n",
      "pred_labels: [ 5  5 11  2  8]\n",
      "Epoch 27 - avg_train_loss: 0.7649  lr: 1.2762e-04  time: 61s\n",
      "Epoch 27 - Score: 0.5649\n"
     ]
    },
    {
     "name": "stdout",
     "output_type": "stream",
     "text": [
      "EVAL: [16/17] Data 0.000 (0.015) Elapsed 0m 4s (remain 0m 0s) \n",
      "Epoch: [28][0/65] Data 0.411 (0.411) Elapsed 0m 1s (remain 1m 5s) Loss: 1.1091(1.1091) Grad Norm: 0.0000  LR: 9.9584e-05  \n",
      "Epoch: [28][64/65] Data 0.000 (0.007) Elapsed 0m 56s (remain 0m 0s) Loss: 0.0745(0.5951) Grad Norm: 2.8269  LR: 9.9584e-05  \n",
      "EVAL: [0/17] Data 0.280 (0.280) Elapsed 0m 0s (remain 0m 8s) \n"
     ]
    },
    {
     "name": "stderr",
     "output_type": "stream",
     "text": [
      "labels: [ 5  2 11 10  8]\n",
      "pred_labels: [ 5  5 11  2  8]\n",
      "Epoch 28 - avg_train_loss: 0.5951  lr: 9.9584e-05  time: 61s\n",
      "Epoch 28 - Score: 0.5802\n"
     ]
    },
    {
     "name": "stdout",
     "output_type": "stream",
     "text": [
      "EVAL: [16/17] Data 0.000 (0.017) Elapsed 0m 4s (remain 0m 0s) \n",
      "Epoch: [29][0/65] Data 0.428 (0.428) Elapsed 0m 1s (remain 1m 9s) Loss: 0.7139(0.7139) Grad Norm: 0.0000  LR: 7.4783e-05  \n",
      "Epoch: [29][64/65] Data 0.000 (0.007) Elapsed 0m 56s (remain 0m 0s) Loss: 0.0524(0.7546) Grad Norm: 3.2189  LR: 7.4783e-05  \n",
      "EVAL: [0/17] Data 0.258 (0.258) Elapsed 0m 0s (remain 0m 7s) \n"
     ]
    },
    {
     "name": "stderr",
     "output_type": "stream",
     "text": [
      "labels: [ 5  2 11 10  8]\n",
      "pred_labels: [ 5  5 11 10  8]\n",
      "Epoch 29 - avg_train_loss: 0.7546  lr: 7.4783e-05  time: 61s\n",
      "Epoch 29 - Score: 0.5878\n"
     ]
    },
    {
     "name": "stdout",
     "output_type": "stream",
     "text": [
      "EVAL: [16/17] Data 0.000 (0.015) Elapsed 0m 4s (remain 0m 0s) \n",
      "Epoch: [30][0/65] Data 0.421 (0.421) Elapsed 0m 1s (remain 1m 6s) Loss: 1.1685(1.1685) Grad Norm: 0.0000  LR: 5.3404e-05  \n",
      "Epoch: [30][64/65] Data 0.000 (0.007) Elapsed 0m 56s (remain 0m 0s) Loss: 0.0280(0.6445) Grad Norm: 4.6003  LR: 5.3404e-05  \n",
      "EVAL: [0/17] Data 0.272 (0.272) Elapsed 0m 0s (remain 0m 8s) \n"
     ]
    },
    {
     "name": "stderr",
     "output_type": "stream",
     "text": [
      "labels: [ 5  2 11 10  8]\n",
      "pred_labels: [11  5 11  2  8]\n",
      "Epoch 30 - avg_train_loss: 0.6445  lr: 5.3404e-05  time: 61s\n",
      "Epoch 30 - Score: 0.5802\n"
     ]
    },
    {
     "name": "stdout",
     "output_type": "stream",
     "text": [
      "EVAL: [16/17] Data 0.000 (0.016) Elapsed 0m 4s (remain 0m 0s) \n",
      "Epoch: [31][0/65] Data 0.405 (0.405) Elapsed 0m 1s (remain 1m 7s) Loss: 0.0567(0.0567) Grad Norm: 0.0000  LR: 3.5607e-05  \n",
      "Epoch: [31][64/65] Data 0.000 (0.006) Elapsed 0m 56s (remain 0m 0s) Loss: 0.0185(0.0474) Grad Norm: 0.4629  LR: 3.5607e-05  \n",
      "EVAL: [0/17] Data 0.271 (0.271) Elapsed 0m 0s (remain 0m 8s) \n"
     ]
    },
    {
     "name": "stderr",
     "output_type": "stream",
     "text": [
      "labels: [ 5  2 11 10  8]\n",
      "pred_labels: [ 5  5 11  2  8]\n",
      "Epoch 31 - avg_train_loss: 0.0474  lr: 3.5607e-05  time: 61s\n",
      "Epoch 31 - Score: 0.5802\n"
     ]
    },
    {
     "name": "stdout",
     "output_type": "stream",
     "text": [
      "EVAL: [16/17] Data 0.000 (0.016) Elapsed 0m 4s (remain 0m 0s) \n",
      "Epoch: [32][0/65] Data 0.384 (0.384) Elapsed 0m 1s (remain 1m 6s) Loss: 0.0147(0.0147) Grad Norm: 0.0000  LR: 2.1508e-05  \n",
      "Epoch: [32][64/65] Data 0.000 (0.006) Elapsed 0m 56s (remain 0m 0s) Loss: 0.0812(0.0523) Grad Norm: 1.8960  LR: 2.1508e-05  \n",
      "EVAL: [0/17] Data 0.284 (0.284) Elapsed 0m 0s (remain 0m 8s) \n"
     ]
    },
    {
     "name": "stderr",
     "output_type": "stream",
     "text": [
      "labels: [ 5  2 11 10  8]\n",
      "pred_labels: [11  5 11 10  8]\n",
      "Epoch 32 - avg_train_loss: 0.0523  lr: 2.1508e-05  time: 61s\n",
      "Epoch 32 - Score: 0.5649\n"
     ]
    },
    {
     "name": "stdout",
     "output_type": "stream",
     "text": [
      "EVAL: [16/17] Data 0.000 (0.017) Elapsed 0m 4s (remain 0m 0s) \n",
      "Epoch: [33][0/65] Data 0.394 (0.394) Elapsed 0m 1s (remain 1m 6s) Loss: 0.0079(0.0079) Grad Norm: 0.0000  LR: 1.1173e-05  \n",
      "Epoch: [33][64/65] Data 0.000 (0.006) Elapsed 0m 56s (remain 0m 0s) Loss: 0.0321(0.0320) Grad Norm: 0.6009  LR: 1.1173e-05  \n",
      "EVAL: [0/17] Data 0.290 (0.290) Elapsed 0m 0s (remain 0m 8s) \n"
     ]
    },
    {
     "name": "stderr",
     "output_type": "stream",
     "text": [
      "labels: [ 5  2 11 10  8]\n",
      "pred_labels: [11  5 11 10  8]\n",
      "Epoch 33 - avg_train_loss: 0.0320  lr: 1.1173e-05  time: 61s\n",
      "Epoch 33 - Score: 0.5878\n"
     ]
    },
    {
     "name": "stdout",
     "output_type": "stream",
     "text": [
      "EVAL: [16/17] Data 0.000 (0.017) Elapsed 0m 4s (remain 0m 0s) \n",
      "Epoch: [34][0/65] Data 0.352 (0.352) Elapsed 0m 0s (remain 1m 1s) Loss: 0.0093(0.0093) Grad Norm: 0.0000  LR: 4.5796e-06  \n",
      "Epoch: [34][64/65] Data 0.000 (0.006) Elapsed 0m 56s (remain 0m 0s) Loss: 0.0330(0.0445) Grad Norm: 2.4992  LR: 4.5796e-06  \n",
      "EVAL: [0/17] Data 0.258 (0.258) Elapsed 0m 0s (remain 0m 7s) \n"
     ]
    },
    {
     "name": "stderr",
     "output_type": "stream",
     "text": [
      "labels: [ 5  2 11 10  8]\n",
      "pred_labels: [11  5 11 10  8]\n",
      "Epoch 34 - avg_train_loss: 0.0445  lr: 4.5796e-06  time: 61s\n",
      "Epoch 34 - Score: 0.6107\n"
     ]
    },
    {
     "name": "stdout",
     "output_type": "stream",
     "text": [
      "EVAL: [16/17] Data 0.000 (0.015) Elapsed 0m 4s (remain 0m 0s) \n",
      "Epoch: [35][0/65] Data 0.413 (0.413) Elapsed 0m 1s (remain 1m 5s) Loss: 0.0436(0.0436) Grad Norm: 0.0000  LR: 1.5037e-06  \n",
      "Epoch: [35][64/65] Data 0.000 (0.007) Elapsed 0m 56s (remain 0m 0s) Loss: 0.0204(0.0344) Grad Norm: 0.5974  LR: 1.5037e-06  \n",
      "EVAL: [0/17] Data 0.310 (0.310) Elapsed 0m 0s (remain 0m 8s) \n"
     ]
    },
    {
     "name": "stderr",
     "output_type": "stream",
     "text": [
      "labels: [ 5  2 11 10  8]\n",
      "pred_labels: [11  5 11 10  8]\n",
      "Epoch 35 - avg_train_loss: 0.0344  lr: 1.5037e-06  time: 61s\n",
      "Epoch 35 - Score: 0.5878\n",
      "==================== fold: 4, seed: 2 training ====================\n"
     ]
    },
    {
     "name": "stdout",
     "output_type": "stream",
     "text": [
      "EVAL: [16/17] Data 0.000 (0.018) Elapsed 0m 4s (remain 0m 0s) \n",
      "Epoch: [1][0/65] Data 0.463 (0.463) Elapsed 0m 1s (remain 1m 7s) Loss: 2.2749(2.2749) Grad Norm: 0.0000  LR: 1.0000e-03  \n",
      "Epoch: [1][64/65] Data 0.000 (0.007) Elapsed 0m 57s (remain 0m 0s) Loss: 2.7117(2.5034) Grad Norm: 7.2994  LR: 1.0000e-03  \n",
      "EVAL: [0/17] Data 0.355 (0.355) Elapsed 0m 0s (remain 0m 9s) \n"
     ]
    },
    {
     "name": "stderr",
     "output_type": "stream",
     "text": [
      "labels: [8 6 2 3 6]\n",
      "pred_labels: [2 2 2 2 2]\n",
      "Epoch 1 - avg_train_loss: 2.5034  lr: 1.0000e-03  time: 62s\n",
      "Epoch 1 - Score: 0.2308\n",
      "Epoch 1 - Save Best Score: 0.2308 Model\n"
     ]
    },
    {
     "name": "stdout",
     "output_type": "stream",
     "text": [
      "EVAL: [16/17] Data 0.000 (0.021) Elapsed 0m 4s (remain 0m 0s) \n",
      "Epoch: [2][0/65] Data 0.529 (0.529) Elapsed 0m 1s (remain 1m 13s) Loss: 2.6981(2.6981) Grad Norm: 0.0000  LR: 9.9598e-04  \n",
      "Epoch: [2][64/65] Data 0.000 (0.008) Elapsed 0m 57s (remain 0m 0s) Loss: 1.6842(2.3160) Grad Norm: 6.7627  LR: 9.9598e-04  \n",
      "EVAL: [0/17] Data 0.347 (0.347) Elapsed 0m 0s (remain 0m 9s) \n"
     ]
    },
    {
     "name": "stderr",
     "output_type": "stream",
     "text": [
      "labels: [8 6 2 3 6]\n",
      "pred_labels: [2 2 2 2 2]\n",
      "Epoch 2 - avg_train_loss: 2.3160  lr: 9.9598e-04  time: 62s\n",
      "Epoch 2 - Score: 0.2923\n",
      "Epoch 2 - Save Best Score: 0.2923 Model\n"
     ]
    },
    {
     "name": "stdout",
     "output_type": "stream",
     "text": [
      "EVAL: [16/17] Data 0.000 (0.021) Elapsed 0m 4s (remain 0m 0s) \n",
      "Epoch: [3][0/65] Data 0.529 (0.529) Elapsed 0m 1s (remain 1m 14s) Loss: 2.2985(2.2985) Grad Norm: 0.0000  LR: 9.8599e-04  \n",
      "Epoch: [3][64/65] Data 0.000 (0.008) Elapsed 0m 57s (remain 0m 0s) Loss: 2.2341(2.1277) Grad Norm: 7.9711  LR: 9.8599e-04  \n",
      "EVAL: [0/17] Data 0.385 (0.385) Elapsed 0m 0s (remain 0m 10s) \n"
     ]
    },
    {
     "name": "stderr",
     "output_type": "stream",
     "text": [
      "labels: [8 6 2 3 6]\n",
      "pred_labels: [6 0 5 4 2]\n",
      "Epoch 3 - avg_train_loss: 2.1277  lr: 9.8599e-04  time: 62s\n",
      "Epoch 3 - Score: 0.3615\n",
      "Epoch 3 - Save Best Score: 0.3615 Model\n"
     ]
    },
    {
     "name": "stdout",
     "output_type": "stream",
     "text": [
      "EVAL: [16/17] Data 0.000 (0.023) Elapsed 0m 4s (remain 0m 0s) \n",
      "Epoch: [4][0/65] Data 0.475 (0.475) Elapsed 0m 1s (remain 1m 13s) Loss: 2.4707(2.4707) Grad Norm: 0.0000  LR: 9.7213e-04  \n",
      "Epoch: [4][64/65] Data 0.000 (0.008) Elapsed 0m 57s (remain 0m 0s) Loss: 2.0971(1.8911) Grad Norm: 8.4993  LR: 9.7213e-04  \n",
      "EVAL: [0/17] Data 0.292 (0.292) Elapsed 0m 0s (remain 0m 8s) \n"
     ]
    },
    {
     "name": "stderr",
     "output_type": "stream",
     "text": [
      "labels: [8 6 2 3 6]\n",
      "pred_labels: [8 5 2 4 4]\n",
      "Epoch 4 - avg_train_loss: 1.8911  lr: 9.7213e-04  time: 62s\n",
      "Epoch 4 - Score: 0.4615\n",
      "Epoch 4 - Save Best Score: 0.4615 Model\n"
     ]
    },
    {
     "name": "stdout",
     "output_type": "stream",
     "text": [
      "EVAL: [16/17] Data 0.000 (0.017) Elapsed 0m 4s (remain 0m 0s) \n",
      "Epoch: [5][0/65] Data 0.469 (0.469) Elapsed 0m 1s (remain 1m 13s) Loss: 2.0626(2.0626) Grad Norm: 0.0000  LR: 9.5449e-04  \n",
      "Epoch: [5][64/65] Data 0.000 (0.007) Elapsed 0m 57s (remain 0m 0s) Loss: 1.1095(1.5340) Grad Norm: 7.3994  LR: 9.5449e-04  \n",
      "EVAL: [0/17] Data 0.305 (0.305) Elapsed 0m 0s (remain 0m 8s) \n"
     ]
    },
    {
     "name": "stderr",
     "output_type": "stream",
     "text": [
      "labels: [8 6 2 3 6]\n",
      "pred_labels: [8 0 2 4 2]\n",
      "Epoch 5 - avg_train_loss: 1.5340  lr: 9.5449e-04  time: 62s\n",
      "Epoch 5 - Score: 0.4692\n",
      "Epoch 5 - Save Best Score: 0.4692 Model\n"
     ]
    },
    {
     "name": "stdout",
     "output_type": "stream",
     "text": [
      "EVAL: [16/17] Data 0.000 (0.018) Elapsed 0m 4s (remain 0m 0s) \n",
      "Epoch: [6][0/65] Data 0.470 (0.470) Elapsed 0m 1s (remain 1m 13s) Loss: 2.3670(2.3670) Grad Norm: 0.0000  LR: 9.3324e-04  \n",
      "Epoch: [6][64/65] Data 0.000 (0.007) Elapsed 0m 57s (remain 0m 0s) Loss: 2.1998(1.4981) Grad Norm: 6.0677  LR: 9.3324e-04  \n",
      "EVAL: [0/17] Data 0.337 (0.337) Elapsed 0m 0s (remain 0m 9s) \n"
     ]
    },
    {
     "name": "stderr",
     "output_type": "stream",
     "text": [
      "labels: [8 6 2 3 6]\n",
      "pred_labels: [8 5 2 4 2]\n",
      "Epoch 6 - avg_train_loss: 1.4981  lr: 9.3324e-04  time: 62s\n",
      "Epoch 6 - Score: 0.5308\n",
      "Epoch 6 - Save Best Score: 0.5308 Model\n"
     ]
    },
    {
     "name": "stdout",
     "output_type": "stream",
     "text": [
      "EVAL: [16/17] Data 0.000 (0.020) Elapsed 0m 4s (remain 0m 0s) \n",
      "Epoch: [7][0/65] Data 0.486 (0.486) Elapsed 0m 1s (remain 1m 13s) Loss: 1.7701(1.7701) Grad Norm: 0.0000  LR: 9.0853e-04  \n",
      "Epoch: [7][64/65] Data 0.000 (0.008) Elapsed 0m 57s (remain 0m 0s) Loss: 0.8080(1.3659) Grad Norm: 8.7057  LR: 9.0853e-04  \n",
      "EVAL: [0/17] Data 0.295 (0.295) Elapsed 0m 0s (remain 0m 8s) \n"
     ]
    },
    {
     "name": "stderr",
     "output_type": "stream",
     "text": [
      "labels: [8 6 2 3 6]\n",
      "pred_labels: [8 0 2 6 2]\n",
      "Epoch 7 - avg_train_loss: 1.3659  lr: 9.0853e-04  time: 62s\n",
      "Epoch 7 - Score: 0.4923\n"
     ]
    },
    {
     "name": "stdout",
     "output_type": "stream",
     "text": [
      "EVAL: [16/17] Data 0.000 (0.018) Elapsed 0m 4s (remain 0m 0s) \n",
      "Epoch: [8][0/65] Data 0.415 (0.415) Elapsed 0m 1s (remain 1m 5s) Loss: 0.4073(0.4073) Grad Norm: 0.0000  LR: 8.8057e-04  \n",
      "Epoch: [8][64/65] Data 0.000 (0.007) Elapsed 0m 57s (remain 0m 0s) Loss: 1.4799(1.2956) Grad Norm: 7.8309  LR: 8.8057e-04  \n",
      "EVAL: [0/17] Data 0.359 (0.359) Elapsed 0m 0s (remain 0m 9s) \n"
     ]
    },
    {
     "name": "stderr",
     "output_type": "stream",
     "text": [
      "labels: [8 6 2 3 6]\n",
      "pred_labels: [8 5 2 1 2]\n",
      "Epoch 8 - avg_train_loss: 1.2956  lr: 8.8057e-04  time: 62s\n",
      "Epoch 8 - Score: 0.5385\n",
      "Epoch 8 - Save Best Score: 0.5385 Model\n"
     ]
    },
    {
     "name": "stdout",
     "output_type": "stream",
     "text": [
      "EVAL: [16/17] Data 0.000 (0.021) Elapsed 0m 4s (remain 0m 0s) \n",
      "Epoch: [9][0/65] Data 0.567 (0.567) Elapsed 0m 1s (remain 1m 16s) Loss: 1.4496(1.4496) Grad Norm: 0.0000  LR: 8.4958e-04  \n",
      "Epoch: [9][64/65] Data 0.000 (0.009) Elapsed 0m 57s (remain 0m 0s) Loss: 1.7566(1.2919) Grad Norm: 6.2613  LR: 8.4958e-04  \n",
      "EVAL: [0/17] Data 0.324 (0.324) Elapsed 0m 0s (remain 0m 8s) \n"
     ]
    },
    {
     "name": "stderr",
     "output_type": "stream",
     "text": [
      "labels: [8 6 2 3 6]\n",
      "pred_labels: [8 5 2 4 2]\n",
      "Epoch 9 - avg_train_loss: 1.2919  lr: 8.4958e-04  time: 62s\n",
      "Epoch 9 - Score: 0.5538\n",
      "Epoch 9 - Save Best Score: 0.5538 Model\n"
     ]
    },
    {
     "name": "stdout",
     "output_type": "stream",
     "text": [
      "EVAL: [16/17] Data 0.000 (0.019) Elapsed 0m 4s (remain 0m 0s) \n",
      "Epoch: [10][0/65] Data 0.404 (0.404) Elapsed 0m 1s (remain 1m 7s) Loss: 0.5194(0.5194) Grad Norm: 0.0000  LR: 8.1581e-04  \n",
      "Epoch: [10][64/65] Data 0.000 (0.006) Elapsed 0m 57s (remain 0m 0s) Loss: 1.8937(1.1947) Grad Norm: 5.7172  LR: 8.1581e-04  \n",
      "EVAL: [0/17] Data 0.298 (0.298) Elapsed 0m 0s (remain 0m 8s) \n"
     ]
    },
    {
     "name": "stderr",
     "output_type": "stream",
     "text": [
      "labels: [8 6 2 3 6]\n",
      "pred_labels: [8 9 2 4 2]\n",
      "Epoch 10 - avg_train_loss: 1.1947  lr: 8.1581e-04  time: 62s\n",
      "Epoch 10 - Score: 0.5692\n",
      "Epoch 10 - Save Best Score: 0.5692 Model\n"
     ]
    },
    {
     "name": "stdout",
     "output_type": "stream",
     "text": [
      "EVAL: [16/17] Data 0.000 (0.018) Elapsed 0m 4s (remain 0m 0s) \n",
      "Epoch: [11][0/65] Data 0.462 (0.462) Elapsed 0m 1s (remain 1m 9s) Loss: 0.3908(0.3908) Grad Norm: 0.0000  LR: 7.7953e-04  \n",
      "Epoch: [11][64/65] Data 0.000 (0.007) Elapsed 0m 57s (remain 0m 0s) Loss: 0.4106(1.0274) Grad Norm: 5.6354  LR: 7.7953e-04  \n",
      "EVAL: [0/17] Data 0.288 (0.288) Elapsed 0m 0s (remain 0m 8s) \n"
     ]
    },
    {
     "name": "stderr",
     "output_type": "stream",
     "text": [
      "labels: [8 6 2 3 6]\n",
      "pred_labels: [8 6 2 4 2]\n",
      "Epoch 11 - avg_train_loss: 1.0274  lr: 7.7953e-04  time: 62s\n",
      "Epoch 11 - Score: 0.5692\n"
     ]
    },
    {
     "name": "stdout",
     "output_type": "stream",
     "text": [
      "EVAL: [16/17] Data 0.000 (0.017) Elapsed 0m 4s (remain 0m 0s) \n",
      "Epoch: [12][0/65] Data 0.434 (0.434) Elapsed 0m 1s (remain 1m 9s) Loss: 1.6450(1.6450) Grad Norm: 0.0000  LR: 7.4103e-04  \n",
      "Epoch: [12][64/65] Data 0.000 (0.007) Elapsed 0m 57s (remain 0m 0s) Loss: 0.2603(1.0101) Grad Norm: 3.5622  LR: 7.4103e-04  \n",
      "EVAL: [0/17] Data 0.262 (0.262) Elapsed 0m 0s (remain 0m 7s) \n"
     ]
    },
    {
     "name": "stderr",
     "output_type": "stream",
     "text": [
      "labels: [8 6 2 3 6]\n",
      "pred_labels: [8 6 5 4 2]\n",
      "Epoch 12 - avg_train_loss: 1.0101  lr: 7.4103e-04  time: 62s\n",
      "Epoch 12 - Score: 0.5385\n"
     ]
    },
    {
     "name": "stdout",
     "output_type": "stream",
     "text": [
      "EVAL: [16/17] Data 0.000 (0.016) Elapsed 0m 4s (remain 0m 0s) \n",
      "Epoch: [13][0/65] Data 0.372 (0.372) Elapsed 0m 1s (remain 1m 4s) Loss: 0.0603(0.0603) Grad Norm: 0.0000  LR: 7.0063e-04  \n",
      "Epoch: [13][64/65] Data 0.000 (0.006) Elapsed 0m 57s (remain 0m 0s) Loss: 0.3271(0.9362) Grad Norm: 6.1968  LR: 7.0063e-04  \n",
      "EVAL: [0/17] Data 0.343 (0.343) Elapsed 0m 0s (remain 0m 9s) \n"
     ]
    },
    {
     "name": "stderr",
     "output_type": "stream",
     "text": [
      "labels: [8 6 2 3 6]\n",
      "pred_labels: [8 5 2 4 2]\n",
      "Epoch 13 - avg_train_loss: 0.9362  lr: 7.0063e-04  time: 62s\n",
      "Epoch 13 - Score: 0.5769\n",
      "Epoch 13 - Save Best Score: 0.5769 Model\n"
     ]
    },
    {
     "name": "stdout",
     "output_type": "stream",
     "text": [
      "EVAL: [16/17] Data 0.000 (0.020) Elapsed 0m 4s (remain 0m 0s) \n",
      "Epoch: [14][0/65] Data 0.375 (0.375) Elapsed 0m 1s (remain 1m 9s) Loss: 0.1220(0.1220) Grad Norm: 0.0000  LR: 6.5865e-04  \n",
      "Epoch: [14][64/65] Data 0.000 (0.006) Elapsed 0m 57s (remain 0m 0s) Loss: 0.5512(0.8015) Grad Norm: 5.1909  LR: 6.5865e-04  \n",
      "EVAL: [0/17] Data 0.265 (0.265) Elapsed 0m 0s (remain 0m 8s) \n"
     ]
    },
    {
     "name": "stderr",
     "output_type": "stream",
     "text": [
      "labels: [8 6 2 3 6]\n",
      "pred_labels: [8 0 2 4 2]\n",
      "Epoch 14 - avg_train_loss: 0.8015  lr: 6.5865e-04  time: 61s\n",
      "Epoch 14 - Score: 0.5692\n"
     ]
    },
    {
     "name": "stdout",
     "output_type": "stream",
     "text": [
      "EVAL: [16/17] Data 0.000 (0.016) Elapsed 0m 4s (remain 0m 0s) \n",
      "Epoch: [15][0/65] Data 0.440 (0.440) Elapsed 0m 1s (remain 1m 7s) Loss: 1.6840(1.6840) Grad Norm: 0.0000  LR: 6.1542e-04  \n",
      "Epoch: [15][64/65] Data 0.000 (0.007) Elapsed 0m 57s (remain 0m 0s) Loss: 0.2074(1.0260) Grad Norm: 4.3539  LR: 6.1542e-04  \n",
      "EVAL: [0/17] Data 0.234 (0.234) Elapsed 0m 0s (remain 0m 7s) \n"
     ]
    },
    {
     "name": "stderr",
     "output_type": "stream",
     "text": [
      "labels: [8 6 2 3 6]\n",
      "pred_labels: [8 5 5 1 2]\n",
      "Epoch 15 - avg_train_loss: 1.0260  lr: 6.1542e-04  time: 61s\n",
      "Epoch 15 - Score: 0.6154\n",
      "Epoch 15 - Save Best Score: 0.6154 Model\n"
     ]
    },
    {
     "name": "stdout",
     "output_type": "stream",
     "text": [
      "EVAL: [16/17] Data 0.000 (0.014) Elapsed 0m 4s (remain 0m 0s) \n",
      "Epoch: [16][0/65] Data 0.443 (0.443) Elapsed 0m 1s (remain 1m 7s) Loss: 0.4968(0.4968) Grad Norm: 0.0000  LR: 5.7130e-04  \n",
      "Epoch: [16][64/65] Data 0.000 (0.007) Elapsed 0m 56s (remain 0m 0s) Loss: 2.1791(0.7678) Grad Norm: 4.6766  LR: 5.7130e-04  \n",
      "EVAL: [0/17] Data 0.282 (0.282) Elapsed 0m 0s (remain 0m 8s) \n"
     ]
    },
    {
     "name": "stderr",
     "output_type": "stream",
     "text": [
      "labels: [8 6 2 3 6]\n",
      "pred_labels: [8 5 5 4 2]\n",
      "Epoch 16 - avg_train_loss: 0.7678  lr: 5.7130e-04  time: 61s\n",
      "Epoch 16 - Score: 0.6000\n"
     ]
    },
    {
     "name": "stdout",
     "output_type": "stream",
     "text": [
      "EVAL: [16/17] Data 0.000 (0.017) Elapsed 0m 4s (remain 0m 0s) \n",
      "Epoch: [17][0/65] Data 0.349 (0.349) Elapsed 0m 0s (remain 1m 3s) Loss: 0.2057(0.2057) Grad Norm: 0.0000  LR: 5.2663e-04  \n",
      "Epoch: [17][64/65] Data 0.000 (0.006) Elapsed 0m 56s (remain 0m 0s) Loss: 1.2736(1.0067) Grad Norm: 6.2857  LR: 5.2663e-04  \n",
      "EVAL: [0/17] Data 0.329 (0.329) Elapsed 0m 0s (remain 0m 9s) \n"
     ]
    },
    {
     "name": "stderr",
     "output_type": "stream",
     "text": [
      "labels: [8 6 2 3 6]\n",
      "pred_labels: [8 6 6 4 2]\n",
      "Epoch 17 - avg_train_loss: 1.0067  lr: 5.2663e-04  time: 61s\n",
      "Epoch 17 - Score: 0.4923\n"
     ]
    },
    {
     "name": "stdout",
     "output_type": "stream",
     "text": [
      "EVAL: [16/17] Data 0.000 (0.020) Elapsed 0m 4s (remain 0m 0s) \n",
      "Epoch: [18][0/65] Data 0.348 (0.348) Elapsed 0m 0s (remain 1m 1s) Loss: 0.3809(0.3809) Grad Norm: 0.0000  LR: 4.8179e-04  \n",
      "Epoch: [18][64/65] Data 0.000 (0.006) Elapsed 0m 56s (remain 0m 0s) Loss: 1.8888(0.8336) Grad Norm: 2.4637  LR: 4.8179e-04  \n",
      "EVAL: [0/17] Data 0.267 (0.267) Elapsed 0m 0s (remain 0m 8s) \n"
     ]
    },
    {
     "name": "stderr",
     "output_type": "stream",
     "text": [
      "labels: [8 6 2 3 6]\n",
      "pred_labels: [8 6 2 4 2]\n",
      "Epoch 18 - avg_train_loss: 0.8336  lr: 4.8179e-04  time: 61s\n",
      "Epoch 18 - Score: 0.6000\n"
     ]
    },
    {
     "name": "stdout",
     "output_type": "stream",
     "text": [
      "EVAL: [16/17] Data 0.000 (0.016) Elapsed 0m 4s (remain 0m 0s) \n",
      "Epoch: [19][0/65] Data 0.378 (0.378) Elapsed 0m 0s (remain 1m 3s) Loss: 1.2019(1.2019) Grad Norm: 0.0000  LR: 4.3712e-04  \n",
      "Epoch: [19][64/65] Data 0.000 (0.006) Elapsed 0m 56s (remain 0m 0s) Loss: 1.6043(0.9836) Grad Norm: 3.5476  LR: 4.3712e-04  \n",
      "EVAL: [0/17] Data 0.307 (0.307) Elapsed 0m 0s (remain 0m 8s) \n"
     ]
    },
    {
     "name": "stderr",
     "output_type": "stream",
     "text": [
      "labels: [8 6 2 3 6]\n",
      "pred_labels: [8 5 5 4 2]\n",
      "Epoch 19 - avg_train_loss: 0.9836  lr: 4.3712e-04  time: 61s\n",
      "Epoch 19 - Score: 0.6000\n"
     ]
    },
    {
     "name": "stdout",
     "output_type": "stream",
     "text": [
      "EVAL: [16/17] Data 0.000 (0.018) Elapsed 0m 4s (remain 0m 0s) \n",
      "Epoch: [20][0/65] Data 0.406 (0.406) Elapsed 0m 1s (remain 1m 6s) Loss: 0.2665(0.2665) Grad Norm: 0.0000  LR: 3.9299e-04  \n",
      "Epoch: [20][64/65] Data 0.000 (0.006) Elapsed 0m 56s (remain 0m 0s) Loss: 2.0735(0.8193) Grad Norm: 1.7842  LR: 3.9299e-04  \n",
      "EVAL: [0/17] Data 0.260 (0.260) Elapsed 0m 0s (remain 0m 7s) \n"
     ]
    },
    {
     "name": "stderr",
     "output_type": "stream",
     "text": [
      "labels: [8 6 2 3 6]\n",
      "pred_labels: [8 5 5 4 2]\n",
      "Epoch 20 - avg_train_loss: 0.8193  lr: 3.9299e-04  time: 61s\n",
      "Epoch 20 - Score: 0.5692\n"
     ]
    },
    {
     "name": "stdout",
     "output_type": "stream",
     "text": [
      "EVAL: [16/17] Data 0.000 (0.016) Elapsed 0m 4s (remain 0m 0s) \n",
      "Epoch: [21][0/65] Data 0.423 (0.423) Elapsed 0m 1s (remain 1m 6s) Loss: 1.5669(1.5669) Grad Norm: 0.0000  LR: 3.4975e-04  \n",
      "Epoch: [21][64/65] Data 0.000 (0.007) Elapsed 0m 56s (remain 0m 0s) Loss: 0.0432(0.7307) Grad Norm: 3.6607  LR: 3.4975e-04  \n",
      "EVAL: [0/17] Data 0.313 (0.313) Elapsed 0m 0s (remain 0m 8s) \n"
     ]
    },
    {
     "name": "stderr",
     "output_type": "stream",
     "text": [
      "labels: [8 6 2 3 6]\n",
      "pred_labels: [8 5 2 4 2]\n",
      "Epoch 21 - avg_train_loss: 0.7307  lr: 3.4975e-04  time: 61s\n",
      "Epoch 21 - Score: 0.6077\n"
     ]
    },
    {
     "name": "stdout",
     "output_type": "stream",
     "text": [
      "EVAL: [16/17] Data 0.000 (0.019) Elapsed 0m 4s (remain 0m 0s) \n",
      "Epoch: [22][0/65] Data 0.317 (0.317) Elapsed 0m 0s (remain 0m 59s) Loss: 0.0443(0.0443) Grad Norm: 0.0000  LR: 3.0775e-04  \n",
      "Epoch: [22][64/65] Data 0.000 (0.005) Elapsed 0m 56s (remain 0m 0s) Loss: 1.7607(0.7756) Grad Norm: 1.3825  LR: 3.0775e-04  \n",
      "EVAL: [0/17] Data 0.290 (0.290) Elapsed 0m 0s (remain 0m 8s) \n"
     ]
    },
    {
     "name": "stderr",
     "output_type": "stream",
     "text": [
      "labels: [8 6 2 3 6]\n",
      "pred_labels: [8 5 5 2 2]\n",
      "Epoch 22 - avg_train_loss: 0.7756  lr: 3.0775e-04  time: 61s\n",
      "Epoch 22 - Score: 0.6077\n"
     ]
    },
    {
     "name": "stdout",
     "output_type": "stream",
     "text": [
      "EVAL: [16/17] Data 0.000 (0.017) Elapsed 0m 4s (remain 0m 0s) \n",
      "Epoch: [23][0/65] Data 0.414 (0.414) Elapsed 0m 1s (remain 1m 6s) Loss: 1.3257(1.3257) Grad Norm: 0.0000  LR: 2.6732e-04  \n",
      "Epoch: [23][64/65] Data 0.000 (0.007) Elapsed 0m 56s (remain 0m 0s) Loss: 0.0422(0.6591) Grad Norm: 3.4356  LR: 2.6732e-04  \n",
      "EVAL: [0/17] Data 0.242 (0.242) Elapsed 0m 0s (remain 0m 7s) \n"
     ]
    },
    {
     "name": "stderr",
     "output_type": "stream",
     "text": [
      "labels: [8 6 2 3 6]\n",
      "pred_labels: [8 6 5 4 2]\n",
      "Epoch 23 - avg_train_loss: 0.6591  lr: 2.6732e-04  time: 61s\n",
      "Epoch 23 - Score: 0.6462\n",
      "Epoch 23 - Save Best Score: 0.6462 Model\n"
     ]
    },
    {
     "name": "stdout",
     "output_type": "stream",
     "text": [
      "EVAL: [16/17] Data 0.000 (0.014) Elapsed 0m 4s (remain 0m 0s) \n",
      "Epoch: [24][0/65] Data 0.328 (0.328) Elapsed 0m 0s (remain 1m 1s) Loss: 1.9852(1.9852) Grad Norm: 0.0000  LR: 2.2880e-04  \n",
      "Epoch: [24][64/65] Data 0.000 (0.005) Elapsed 0m 56s (remain 0m 0s) Loss: 0.9788(0.7666) Grad Norm: 3.3040  LR: 2.2880e-04  \n",
      "EVAL: [0/17] Data 0.298 (0.298) Elapsed 0m 0s (remain 0m 8s) \n"
     ]
    },
    {
     "name": "stderr",
     "output_type": "stream",
     "text": [
      "labels: [8 6 2 3 6]\n",
      "pred_labels: [8 6 2 4 2]\n",
      "Epoch 24 - avg_train_loss: 0.7666  lr: 2.2880e-04  time: 61s\n",
      "Epoch 24 - Score: 0.6615\n",
      "Epoch 24 - Save Best Score: 0.6615 Model\n"
     ]
    },
    {
     "name": "stdout",
     "output_type": "stream",
     "text": [
      "EVAL: [16/17] Data 0.000 (0.018) Elapsed 0m 4s (remain 0m 0s) \n",
      "Epoch: [25][0/65] Data 0.386 (0.386) Elapsed 0m 1s (remain 1m 6s) Loss: 1.0151(1.0151) Grad Norm: 0.0000  LR: 1.9248e-04  \n",
      "Epoch: [25][64/65] Data 0.000 (0.006) Elapsed 0m 56s (remain 0m 0s) Loss: 1.4121(0.7315) Grad Norm: 2.7606  LR: 1.9248e-04  \n",
      "EVAL: [0/17] Data 0.296 (0.296) Elapsed 0m 0s (remain 0m 8s) \n"
     ]
    },
    {
     "name": "stderr",
     "output_type": "stream",
     "text": [
      "labels: [8 6 2 3 6]\n",
      "pred_labels: [8 6 5 4 2]\n",
      "Epoch 25 - avg_train_loss: 0.7315  lr: 1.9248e-04  time: 61s\n",
      "Epoch 25 - Score: 0.5769\n"
     ]
    },
    {
     "name": "stdout",
     "output_type": "stream",
     "text": [
      "EVAL: [16/17] Data 0.000 (0.018) Elapsed 0m 4s (remain 0m 0s) \n",
      "Epoch: [26][0/65] Data 0.342 (0.342) Elapsed 0m 0s (remain 1m 1s) Loss: 1.0632(1.0632) Grad Norm: 0.0000  LR: 1.5867e-04  \n",
      "Epoch: [26][64/65] Data 0.000 (0.005) Elapsed 0m 56s (remain 0m 0s) Loss: 0.1112(0.7922) Grad Norm: 2.9322  LR: 1.5867e-04  \n",
      "EVAL: [0/17] Data 0.248 (0.248) Elapsed 0m 0s (remain 0m 7s) \n"
     ]
    },
    {
     "name": "stderr",
     "output_type": "stream",
     "text": [
      "labels: [8 6 2 3 6]\n",
      "pred_labels: [8 5 5 4 2]\n",
      "Epoch 26 - avg_train_loss: 0.7922  lr: 1.5867e-04  time: 61s\n",
      "Epoch 26 - Score: 0.5923\n"
     ]
    },
    {
     "name": "stdout",
     "output_type": "stream",
     "text": [
      "EVAL: [16/17] Data 0.000 (0.015) Elapsed 0m 4s (remain 0m 0s) \n",
      "Epoch: [27][0/65] Data 0.324 (0.324) Elapsed 0m 0s (remain 1m 0s) Loss: 1.6325(1.6325) Grad Norm: 0.0000  LR: 1.2762e-04  \n",
      "Epoch: [27][64/65] Data 0.000 (0.005) Elapsed 0m 56s (remain 0m 0s) Loss: 0.0316(0.6662) Grad Norm: 3.7923  LR: 1.2762e-04  \n",
      "EVAL: [0/17] Data 0.222 (0.222) Elapsed 0m 0s (remain 0m 7s) \n"
     ]
    },
    {
     "name": "stderr",
     "output_type": "stream",
     "text": [
      "labels: [8 6 2 3 6]\n",
      "pred_labels: [8 6 5 4 2]\n",
      "Epoch 27 - avg_train_loss: 0.6662  lr: 1.2762e-04  time: 61s\n",
      "Epoch 27 - Score: 0.6000\n"
     ]
    },
    {
     "name": "stdout",
     "output_type": "stream",
     "text": [
      "EVAL: [16/17] Data 0.000 (0.013) Elapsed 0m 4s (remain 0m 0s) \n",
      "Epoch: [28][0/65] Data 0.387 (0.387) Elapsed 0m 1s (remain 1m 7s) Loss: 0.0325(0.0325) Grad Norm: 0.0000  LR: 9.9584e-05  \n",
      "Epoch: [28][64/65] Data 0.000 (0.006) Elapsed 0m 56s (remain 0m 0s) Loss: 1.1212(0.5174) Grad Norm: 3.6468  LR: 9.9584e-05  \n",
      "EVAL: [0/17] Data 0.272 (0.272) Elapsed 0m 0s (remain 0m 8s) \n"
     ]
    },
    {
     "name": "stderr",
     "output_type": "stream",
     "text": [
      "labels: [8 6 2 3 6]\n",
      "pred_labels: [8 5 5 4 2]\n",
      "Epoch 28 - avg_train_loss: 0.5174  lr: 9.9584e-05  time: 61s\n",
      "Epoch 28 - Score: 0.6154\n"
     ]
    },
    {
     "name": "stdout",
     "output_type": "stream",
     "text": [
      "EVAL: [16/17] Data 0.000 (0.016) Elapsed 0m 4s (remain 0m 0s) \n",
      "Epoch: [29][0/65] Data 0.378 (0.378) Elapsed 0m 0s (remain 1m 3s) Loss: 1.8786(1.8786) Grad Norm: 0.0000  LR: 7.4783e-05  \n",
      "Epoch: [29][64/65] Data 0.000 (0.006) Elapsed 0m 56s (remain 0m 0s) Loss: 1.1106(0.6863) Grad Norm: 3.6952  LR: 7.4783e-05  \n",
      "EVAL: [0/17] Data 0.325 (0.325) Elapsed 0m 0s (remain 0m 8s) \n"
     ]
    },
    {
     "name": "stderr",
     "output_type": "stream",
     "text": [
      "labels: [8 6 2 3 6]\n",
      "pred_labels: [8 5 5 4 2]\n",
      "Epoch 29 - avg_train_loss: 0.6863  lr: 7.4783e-05  time: 61s\n",
      "Epoch 29 - Score: 0.6077\n"
     ]
    },
    {
     "name": "stdout",
     "output_type": "stream",
     "text": [
      "EVAL: [16/17] Data 0.000 (0.019) Elapsed 0m 4s (remain 0m 0s) \n",
      "Epoch: [30][0/65] Data 0.419 (0.419) Elapsed 0m 1s (remain 1m 6s) Loss: 1.0096(1.0096) Grad Norm: 0.0000  LR: 5.3404e-05  \n",
      "Epoch: [30][64/65] Data 0.000 (0.007) Elapsed 0m 56s (remain 0m 0s) Loss: 0.0879(0.7404) Grad Norm: 3.9049  LR: 5.3404e-05  \n",
      "EVAL: [0/17] Data 0.306 (0.306) Elapsed 0m 0s (remain 0m 8s) \n"
     ]
    },
    {
     "name": "stderr",
     "output_type": "stream",
     "text": [
      "labels: [8 6 2 3 6]\n",
      "pred_labels: [8 6 2 4 2]\n",
      "Epoch 30 - avg_train_loss: 0.7404  lr: 5.3404e-05  time: 61s\n",
      "Epoch 30 - Score: 0.6231\n"
     ]
    },
    {
     "name": "stdout",
     "output_type": "stream",
     "text": [
      "EVAL: [16/17] Data 0.000 (0.018) Elapsed 0m 4s (remain 0m 0s) \n",
      "Epoch: [31][0/65] Data 0.444 (0.444) Elapsed 0m 1s (remain 1m 7s) Loss: 0.0196(0.0196) Grad Norm: 0.0000  LR: 3.5607e-05  \n",
      "Epoch: [31][64/65] Data 0.000 (0.007) Elapsed 0m 56s (remain 0m 0s) Loss: 0.1660(0.0575) Grad Norm: 0.5191  LR: 3.5607e-05  \n",
      "EVAL: [0/17] Data 0.277 (0.277) Elapsed 0m 0s (remain 0m 8s) \n"
     ]
    },
    {
     "name": "stderr",
     "output_type": "stream",
     "text": [
      "labels: [8 6 2 3 6]\n",
      "pred_labels: [8 5 2 4 2]\n",
      "Epoch 31 - avg_train_loss: 0.0575  lr: 3.5607e-05  time: 61s\n",
      "Epoch 31 - Score: 0.6308\n"
     ]
    },
    {
     "name": "stdout",
     "output_type": "stream",
     "text": [
      "EVAL: [16/17] Data 0.000 (0.017) Elapsed 0m 4s (remain 0m 0s) \n",
      "Epoch: [32][0/65] Data 0.420 (0.420) Elapsed 0m 1s (remain 1m 9s) Loss: 0.0409(0.0409) Grad Norm: 0.0000  LR: 2.1508e-05  \n",
      "Epoch: [32][64/65] Data 0.000 (0.007) Elapsed 0m 56s (remain 0m 0s) Loss: 0.0317(0.0688) Grad Norm: 2.2187  LR: 2.1508e-05  \n",
      "EVAL: [0/17] Data 0.270 (0.270) Elapsed 0m 0s (remain 0m 8s) \n"
     ]
    },
    {
     "name": "stderr",
     "output_type": "stream",
     "text": [
      "labels: [8 6 2 3 6]\n",
      "pred_labels: [8 6 2 4 2]\n",
      "Epoch 32 - avg_train_loss: 0.0688  lr: 2.1508e-05  time: 61s\n",
      "Epoch 32 - Score: 0.6308\n"
     ]
    },
    {
     "name": "stdout",
     "output_type": "stream",
     "text": [
      "EVAL: [16/17] Data 0.000 (0.016) Elapsed 0m 4s (remain 0m 0s) \n",
      "Epoch: [33][0/65] Data 0.431 (0.431) Elapsed 0m 1s (remain 1m 8s) Loss: 0.0216(0.0216) Grad Norm: 0.0000  LR: 1.1173e-05  \n",
      "Epoch: [33][64/65] Data 0.000 (0.007) Elapsed 0m 56s (remain 0m 0s) Loss: 0.0146(0.0516) Grad Norm: 0.2429  LR: 1.1173e-05  \n",
      "EVAL: [0/17] Data 0.318 (0.318) Elapsed 0m 0s (remain 0m 8s) \n"
     ]
    },
    {
     "name": "stderr",
     "output_type": "stream",
     "text": [
      "labels: [8 6 2 3 6]\n",
      "pred_labels: [8 6 5 4 2]\n",
      "Epoch 33 - avg_train_loss: 0.0516  lr: 1.1173e-05  time: 61s\n",
      "Epoch 33 - Score: 0.6308\n"
     ]
    },
    {
     "name": "stdout",
     "output_type": "stream",
     "text": [
      "EVAL: [16/17] Data 0.000 (0.019) Elapsed 0m 4s (remain 0m 0s) \n",
      "Epoch: [34][0/65] Data 0.382 (0.382) Elapsed 0m 1s (remain 1m 5s) Loss: 0.0130(0.0130) Grad Norm: 0.0000  LR: 4.5796e-06  \n",
      "Epoch: [34][64/65] Data 0.000 (0.006) Elapsed 0m 56s (remain 0m 0s) Loss: 0.1541(0.0469) Grad Norm: 2.9806  LR: 4.5796e-06  \n",
      "EVAL: [0/17] Data 0.276 (0.276) Elapsed 0m 0s (remain 0m 8s) \n"
     ]
    },
    {
     "name": "stderr",
     "output_type": "stream",
     "text": [
      "labels: [8 6 2 3 6]\n",
      "pred_labels: [8 6 2 4 2]\n",
      "Epoch 34 - avg_train_loss: 0.0469  lr: 4.5796e-06  time: 61s\n",
      "Epoch 34 - Score: 0.6308\n"
     ]
    },
    {
     "name": "stdout",
     "output_type": "stream",
     "text": [
      "EVAL: [16/17] Data 0.000 (0.016) Elapsed 0m 4s (remain 0m 0s) \n",
      "Epoch: [35][0/65] Data 0.396 (0.396) Elapsed 0m 1s (remain 1m 6s) Loss: 0.1024(0.1024) Grad Norm: 0.0000  LR: 1.5037e-06  \n",
      "Epoch: [35][64/65] Data 0.000 (0.006) Elapsed 0m 56s (remain 0m 0s) Loss: 0.0195(0.0454) Grad Norm: 0.3696  LR: 1.5037e-06  \n",
      "EVAL: [0/17] Data 0.287 (0.287) Elapsed 0m 0s (remain 0m 8s) \n"
     ]
    },
    {
     "name": "stderr",
     "output_type": "stream",
     "text": [
      "labels: [8 6 2 3 6]\n",
      "pred_labels: [8 6 5 4 2]\n",
      "Epoch 35 - avg_train_loss: 0.0454  lr: 1.5037e-06  time: 61s\n",
      "Epoch 35 - Score: 0.6231\n",
      "\n",
      "oof score: 0.6406727828746177\n",
      "\n"
     ]
    },
    {
     "name": "stdout",
     "output_type": "stream",
     "text": [
      "EVAL: [16/17] Data 0.000 (0.017) Elapsed 0m 4s (remain 0m 0s) \n"
     ]
    },
    {
     "name": "stderr",
     "output_type": "stream",
     "text": [
      "\n",
      "train finish!!!\n"
     ]
    }
   ],
   "source": [
    "import os\n",
    "import sys\n",
    "import cv2\n",
    "import numpy as np\n",
    "import pandas as pd\n",
    "import matplotlib.pyplot as plt\n",
    "\n",
    "import torch\n",
    "from torch.utils.data import DataLoader, Dataset\n",
    "\n",
    "import albumentations as A\n",
    "from albumentations import Compose\n",
    "from albumentations.pytorch import ToTensorV2\n",
    "\n",
    "# ====================================================\n",
    "# Dataset\n",
    "# ====================================================\n",
    "class TrainDataset(Dataset):\n",
    "    def __init__(self, df, transform=None):\n",
    "        super().__init__()\n",
    "        self.df = df\n",
    "        self.file_paths = df[\"file_path\"].values\n",
    "        self.labels = df[\"label\"].values\n",
    "        self.transform = transform\n",
    "\n",
    "    def __len__(self):\n",
    "        return len(self.df)\n",
    "\n",
    "    def __getitem__(self, idx):\n",
    "        file_path = self.file_paths[idx]\n",
    "        image = cv2.imread(file_path)\n",
    "        image = cv2.cvtColor(image, cv2.COLOR_BGR2RGB).astype(np.float32)\n",
    "        if self.transform:\n",
    "            augmented = self.transform(image=image)\n",
    "            image = augmented[\"image\"]\n",
    "        label = self.labels[idx]\n",
    "        return image, torch.from_numpy(np.array(label)).long()\n",
    "\n",
    "\n",
    "class TestDataset(Dataset):\n",
    "    def __init__(self, df, transform=None):\n",
    "        super().__init__()\n",
    "        self.df = df\n",
    "        self.file_paths = df[\"file_path\"].values\n",
    "        self.transform = transform\n",
    "\n",
    "    def __len__(self):\n",
    "        return len(self.df)\n",
    "\n",
    "    def __getitem__(self, idx):\n",
    "        file_path = self.file_paths[idx]\n",
    "        image = cv2.imread(file_path)\n",
    "        image = cv2.cvtColor(image, cv2.COLOR_BGR2RGB).astype(np.float32)\n",
    "        if self.transform:\n",
    "            augmented = self.transform(image=image)\n",
    "            image = augmented[\"image\"]\n",
    "        return image\n",
    "\n",
    "\n",
    "def get_transforms(*, data):\n",
    "\n",
    "    if data == \"train\":\n",
    "        return A.Compose(\n",
    "            [\n",
    "                A.Resize(CFG.size, CFG.size),\n",
    "                A.HorizontalFlip(p=0.5),\n",
    "                A.ShiftScaleRotate(p=0.5),\n",
    "                A.Normalize(mean=[0.485, 0.456, 0.406], std=[0.229, 0.224, 0.225], max_pixel_value=255.0, p=1.0,),\n",
    "                A.OneOf([\n",
    "                    A.ToSepia(p=0.5),\n",
    "                    A.ToGray(p=0.5),\n",
    "                ], p=0.5),\n",
    "                A.CoarseDropout(p=0.5),\n",
    "                A.Cutout(p=0.5),\n",
    "                ToTensorV2(),\n",
    "            ]\n",
    "        )\n",
    "\n",
    "    elif data == \"valid\":\n",
    "        return Compose(\n",
    "            [\n",
    "                A.Resize(CFG.size, CFG.size),\n",
    "                A.Normalize(\n",
    "                    mean=[0.485, 0.456, 0.406], std=[0.229, 0.224, 0.225], max_pixel_value=255.0,\n",
    "                    p=1.0,\n",
    "                ),\n",
    "                ToTensorV2(),\n",
    "            ]\n",
    "        )\n",
    "\n",
    "\n",
    "def collate(batch):\n",
    "    \"\"\"DataLoaderに追加可能なbatchを加工する関数\"\"\"\n",
    "    images, labels = list(zip(*batch))\n",
    "    images = torch.stack(images)\n",
    "    labels = torch.stack(labels)\n",
    "    return images, labels.long()\n",
    "\n",
    "\n",
    "# ====================================================\n",
    "# Library\n",
    "# ====================================================\n",
    "import sys\n",
    "import os\n",
    "import gc\n",
    "import re\n",
    "import math\n",
    "import time\n",
    "import random\n",
    "import yaml\n",
    "import shutil\n",
    "import glob\n",
    "import pickle\n",
    "import pathlib\n",
    "from pathlib import Path\n",
    "from contextlib import contextmanager\n",
    "from collections import defaultdict, Counter\n",
    "from distutils.dir_util import copy_tree\n",
    "\n",
    "import scipy as sp\n",
    "import numpy as np\n",
    "import pandas as pd\n",
    "from tqdm.auto import tqdm\n",
    "\n",
    "from sklearn.metrics import accuracy_score, log_loss\n",
    "from sklearn import preprocessing\n",
    "from sklearn.model_selection import StratifiedKFold, GroupKFold, KFold\n",
    "\n",
    "from functools import partial\n",
    "\n",
    "import cv2\n",
    "from PIL import Image\n",
    "\n",
    "import torch\n",
    "import torch.nn as nn\n",
    "import torch.nn.functional as F\n",
    "from torch.optim import Adam, SGD\n",
    "import torchvision.models as models\n",
    "from torch.nn.parameter import Parameter\n",
    "from torch.utils.data import DataLoader, Dataset\n",
    "from torch.nn.utils.rnn import pad_sequence, pack_padded_sequence  # 文字列の長さを揃えてくれる関数\n",
    "from torch.optim.lr_scheduler import (\n",
    "    CosineAnnealingWarmRestarts,\n",
    "    CosineAnnealingLR,\n",
    "    ReduceLROnPlateau,\n",
    ")\n",
    "from torch.cuda.amp import autocast, GradScaler\n",
    "from torch_optimizer import RAdam, Lookahead\n",
    "\n",
    "import timm\n",
    "\n",
    "import warnings\n",
    "warnings.filterwarnings(\"ignore\")\n",
    "\n",
    "device = torch.device(\"cuda\" if torch.cuda.is_available() else \"cpu\")\n",
    "\n",
    "# ====================================================\n",
    "# Helper functions\n",
    "# ====================================================\n",
    "class AverageMeter(object):\n",
    "    \"\"\"Computes and stores the average and current value\"\"\"\n",
    "\n",
    "    def __init__(self):\n",
    "        self.reset()\n",
    "\n",
    "    def reset(self):\n",
    "        self.val = 0\n",
    "        self.avg = 0\n",
    "        self.sum = 0\n",
    "        self.count = 0\n",
    "\n",
    "    def update(self, val, n=1):\n",
    "        self.val = val\n",
    "        self.sum += val * n\n",
    "        self.count += n\n",
    "        self.avg = self.sum / self.count\n",
    "\n",
    "\n",
    "def asMinutes(s):\n",
    "    m = math.floor(s / 60)\n",
    "    s -= m * 60\n",
    "    return \"%dm %ds\" % (m, s)\n",
    "\n",
    "\n",
    "def timeSince(since, percent):\n",
    "    now = time.time()\n",
    "    s = now - since\n",
    "    es = s / (percent)\n",
    "    rs = es - s\n",
    "    return \"%s (remain %s)\" % (asMinutes(s), asMinutes(rs))\n",
    "\n",
    "\n",
    "class LabelSmoothingCrossEntropy(nn.Module):\n",
    "    # https://build-medical-ai.com/2021/02/21/label-smoothing%EF%BC%88%E3%83%A9%E3%83%99%E3%83%AB%E3%82%B9%E3%83%A0%E3%83%BC%E3%82%B8%E3%83%B3%E3%82%B0%EF%BC%89%E3%82%92pytorch%E3%81%A7%E5%AE%9F%E8%A3%85%E3%81%99%E3%82%8B/\n",
    "    def __init__(self, epsilon=0.1, reduction='mean'):\n",
    "        super().__init__()\n",
    "        self.epsilon = epsilon\n",
    "        self.reduction = reduction\n",
    "\n",
    "    def forward(self, preds, target):\n",
    "        n = preds.size()[-1]\n",
    "        log_preds = F.log_softmax(preds, dim=-1)\n",
    "        loss = LabelSmoothingCrossEntropy.reduce_loss(-log_preds.sum(dim=-1), self.reduction)\n",
    "        nll = F.nll_loss(log_preds, target, reduction=self.reduction)\n",
    "        return LabelSmoothingCrossEntropy.linear_combination(nll, loss/n, self.epsilon)\n",
    "    \n",
    "    @staticmethod\n",
    "    def linear_combination(x, y, epsilon):\n",
    "        return (1 - epsilon) * x + epsilon * y\n",
    "\n",
    "    @staticmethod\n",
    "    def reduce_loss(loss, reduction='mean'):\n",
    "        return loss.mean() if reduction == 'mean' else loss.sum() if reduction == 'sum' else loss\n",
    "    \n",
    "\n",
    "def train_fn(\n",
    "    train_loader, model, criterion, optimizer, epoch, scheduler, device, scaler\n",
    "):\n",
    "    batch_time = AverageMeter()\n",
    "    data_time = AverageMeter()\n",
    "    losses = AverageMeter()\n",
    "    # switch to train mode\n",
    "    model.train()\n",
    "    start = end = time.time()\n",
    "    grad_norm = 0.0\n",
    "    global_step = 0\n",
    "    for step, (images, labels) in enumerate(train_loader):\n",
    "        # measure data loading time\n",
    "        data_time.update(time.time() - end)\n",
    "        images = images.to(device)\n",
    "        labels = labels.to(device)\n",
    "        batch_size = images.size(0)\n",
    "        with autocast():\n",
    "            # ====================================================\n",
    "            # cutmix/fmix/snapmix\n",
    "            # ====================================================\n",
    "            mix_decision = np.random.rand() if epoch < CFG.epochs - 5 else 1.0  # 最後の5epochはmix系なしにする\n",
    "            if mix_decision < CFG.mix_decision_th:\n",
    "                if CFG.mixmethod == \"cutmix\":\n",
    "                    x, y_mixs = cutmix(images, labels.long(), CFG.mix_alpha)\n",
    "                    y_hat = model(x.float())\n",
    "                    loss = criterion(y_hat, y_mixs[0]) * y_mixs[2] + criterion(y_hat, y_mixs[1]) * (1.0 - y_mixs[2])\n",
    "\n",
    "                elif CFG.mixmethod == \"fmix\":\n",
    "                    x, y_mixs = fmix(images, labels.long(), alpha=CFG.mix_alpha, decay_power=5.0, shape=(CFG.size, CFG.size))\n",
    "                    y_hat = model(images.float())\n",
    "                    loss = criterion(y_hat, y_mixs[0]) * y_mixs[2] + criterion(y_hat, y_mixs[1]) * (1.0 - y_mixs[2])\n",
    "\n",
    "                elif CFG.mixmethod == \"resizemix\":\n",
    "                    x, y_mixs = resizemix(images, labels.long(), alpha=CFG.mix_alpha)\n",
    "                    y_hat = model(images.float())\n",
    "                    loss = criterion(y_hat, y_mixs[0]) * y_mixs[2] + criterion(y_hat, y_mixs[1]) * (1.0 - y_mixs[2])\n",
    "                    \n",
    "                else:\n",
    "                    x = images\n",
    "                    y_hat = model(images)\n",
    "\n",
    "                # --- 画像表示（mix画像確認用）---\n",
    "                if CFG.debug:\n",
    "                    try:\n",
    "                        print(\"mix_decision:\", mix_decision)\n",
    "                        fig = plt.figure(figsize=(16, 16))\n",
    "                        for i in range(5):\n",
    "                            print(\"y_hat:\", y_hat[i])\n",
    "                            ax = fig.add_subplot(1, 5, i + 1, xticks=[], yticks=[])\n",
    "                            im = x[i].to(\"cpu\").numpy().transpose(1, 2, 0)\n",
    "                            plt.imshow(im)\n",
    "                        plt.show(); plt.clf(); plt.close()\n",
    "                    except:\n",
    "                        pass\n",
    "                # -----------------------------------------\n",
    "            else:\n",
    "                logits = model(images)\n",
    "                loss = criterion(logits, labels)\n",
    "            \n",
    "            # record loss\n",
    "            losses.update(loss.item(), batch_size)\n",
    "            if CFG.gradient_accumulation_steps > 1:\n",
    "                loss = loss / CFG.gradient_accumulation_steps\n",
    "            scaler.scale(loss).backward()\n",
    "            if (step + 1) % CFG.gradient_accumulation_steps == 0:\n",
    "                scaler.unscale_(optimizer)\n",
    "                grad_norm = torch.nn.utils.clip_grad_norm_(model.parameters(), CFG.max_grad_norm, norm_type=2.0)\n",
    "                scaler.step(optimizer)\n",
    "                scaler.update()\n",
    "                optimizer.zero_grad()\n",
    "                global_step += 1\n",
    "\n",
    "        # measure elapsed time\n",
    "        batch_time.update(time.time() - end)\n",
    "        end = time.time()\n",
    "        if step % CFG.print_freq == 0 or step == (len(train_loader) - 1):\n",
    "            print(\n",
    "                \"Epoch: [{0}][{1}/{2}] \"\n",
    "                \"Data {data_time.val:.3f} ({data_time.avg:.3f}) \"\n",
    "                \"Elapsed {remain:s} \"\n",
    "                \"Loss: {loss.val:.4f}({loss.avg:.4f}) \"\n",
    "                \"Grad Norm: {grad_norm:.4f}  \"\n",
    "                \"LR: {lr:.4e}  \".format(\n",
    "                    epoch + 1,\n",
    "                    step,\n",
    "                    len(train_loader),\n",
    "                    batch_time=batch_time,\n",
    "                    data_time=data_time,\n",
    "                    loss=losses,\n",
    "                    remain=timeSince(start, float(step + 1) / len(train_loader)),\n",
    "                    grad_norm=grad_norm,\n",
    "                    lr=scheduler.get_lr()[0],\n",
    "                )\n",
    "            )\n",
    "\n",
    "    return losses.avg\n",
    "\n",
    "\n",
    "def valid_fn(valid_loader, model, device):\n",
    "    batch_time = AverageMeter()\n",
    "    data_time = AverageMeter()\n",
    "    # switch to evaluation mode\n",
    "    model.eval()\n",
    "    preds = []\n",
    "    start = end = time.time()\n",
    "    for step, (images) in enumerate(valid_loader):\n",
    "        # measure data loading time\n",
    "        data_time.update(time.time() - end)\n",
    "        images = images.to(device)\n",
    "        batch_size = images.size(0)\n",
    "        with torch.no_grad():\n",
    "            with autocast():\n",
    "                predictions = model.forward_softmax(images)  # 確信度で出す場合\n",
    "        pred = predictions.detach().cpu().numpy()\n",
    "        preds.append(pred)\n",
    "        # measure elapsed time\n",
    "        batch_time.update(time.time() - end)\n",
    "        end = time.time()\n",
    "        if step % CFG.print_freq == 0 or step == (len(valid_loader) - 1):\n",
    "            print(\n",
    "                \"EVAL: [{0}/{1}] \"\n",
    "                \"Data {data_time.val:.3f} ({data_time.avg:.3f}) \"\n",
    "                \"Elapsed {remain:s} \".format(\n",
    "                    step,\n",
    "                    len(valid_loader),\n",
    "                    batch_time=batch_time,\n",
    "                    data_time=data_time,\n",
    "                    remain=timeSince(start, float(step + 1) / len(valid_loader)),\n",
    "                )\n",
    "            )\n",
    "    preds = np.concatenate(preds)\n",
    "    return preds\n",
    "\n",
    "\n",
    "# ====================================================\n",
    "# Train loop\n",
    "# ====================================================\n",
    "def train_loop(folds, fold, seed):\n",
    "\n",
    "    LOGGER.info(f\"==================== fold: {fold}, seed: {seed} training ====================\")\n",
    "\n",
    "    # ====================================================\n",
    "    # loader\n",
    "    # ====================================================\n",
    "    trn_idx = folds[folds[\"fold\"] != fold].index\n",
    "    val_idx = folds[folds[\"fold\"] == fold].index\n",
    "\n",
    "    train_folds = folds.loc[trn_idx].reset_index(drop=True)\n",
    "    valid_folds = folds.loc[val_idx].reset_index(drop=True)\n",
    "    valid_labels = valid_folds[\"label\"].values\n",
    "\n",
    "    train_dataset = TrainDataset(train_folds, transform=get_transforms(data=\"train\"))\n",
    "    valid_dataset = TestDataset(valid_folds, transform=get_transforms(data=\"valid\"))\n",
    "\n",
    "    train_loader = DataLoader(\n",
    "        train_dataset,\n",
    "        batch_size=CFG.batch_size,\n",
    "        shuffle=True,\n",
    "        num_workers=CFG.num_workers,\n",
    "        pin_memory=True,\n",
    "        drop_last=True,\n",
    "        collate_fn=collate,\n",
    "    )\n",
    "    valid_loader = DataLoader(\n",
    "        valid_dataset,\n",
    "        batch_size=CFG.batch_size,\n",
    "        shuffle=False,\n",
    "        num_workers=CFG.num_workers,\n",
    "        pin_memory=True,\n",
    "        drop_last=False,\n",
    "    )\n",
    "\n",
    "    # ====================================================\n",
    "    # scheduler\n",
    "    # ====================================================\n",
    "    def get_scheduler(optimizer):\n",
    "        if CFG.scheduler == \"ReduceLROnPlateau\":\n",
    "            scheduler = ReduceLROnPlateau(\n",
    "                optimizer,\n",
    "                mode=\"min\",\n",
    "                factor=CFG.factor,\n",
    "                patience=CFG.patience,\n",
    "                verbose=True,\n",
    "                eps=CFG.eps,\n",
    "            )\n",
    "        elif CFG.scheduler == \"CosineAnnealingLR\":\n",
    "            scheduler = CosineAnnealingLR(\n",
    "                optimizer, T_max=CFG.T_max, eta_min=CFG.min_lr, last_epoch=-1\n",
    "            )\n",
    "        elif CFG.scheduler == \"CosineAnnealingWarmRestarts\":\n",
    "            scheduler = CosineAnnealingWarmRestarts(\n",
    "                optimizer, T_0=CFG.T_0, T_mult=1, eta_min=CFG.min_lr, last_epoch=-1\n",
    "            )\n",
    "        return scheduler\n",
    "\n",
    "    # ====================================================\n",
    "    # model & optimizer\n",
    "    # ====================================================\n",
    "    model = TimmModel(CFG.n_classes, model_name=CFG.model_name, pretrained=True)\n",
    "    model.to(device)\n",
    "\n",
    "    if CFG.optimizer == \"adam\":\n",
    "        optimizer = Adam(\n",
    "            model.parameters(), lr=CFG.lr, amsgrad=False, weight_decay=CFG.weight_decay\n",
    "        )\n",
    "    elif CFG.optimizer == \"radam\":\n",
    "        optimizer = RAdam(model.parameters(), lr=CFG.lr, weight_decay=CFG.weight_decay)\n",
    "        optimizer = Lookahead(optimizer, alpha=0.5, k=5)\n",
    "\n",
    "    scheduler = get_scheduler(optimizer)\n",
    "    scaler = GradScaler()\n",
    "\n",
    "    if os.path.exists(CFG.load_model_path):\n",
    "        # モデルロード\n",
    "        LOGGER.info(\"=> loading checkpoint '{}'\".format(CFG.load_model_path))\n",
    "        states = torch.load(CFG.load_model_path, map_location=torch.device(\"cpu\"))\n",
    "        model.load_state_dict(states[\"model\"])\n",
    "        model.to(device)\n",
    "        if CFG.is_load_opt:\n",
    "            LOGGER.info(\"=> loading optimizer and scheduler\")\n",
    "            optimizer.load_state_dict(states[\"optimizer\"])\n",
    "            scheduler.load_state_dict(states[\"scheduler\"])\n",
    "\n",
    "    # ====================================================\n",
    "    # loop\n",
    "    # ====================================================\n",
    "    if CFG.label_smoothing > 0.0:\n",
    "        criterion = LabelSmoothingCrossEntropy(epsilon=CFG.label_smoothing)\n",
    "    else:\n",
    "        criterion = nn.CrossEntropyLoss()  # loss計算したくないクラスは, ignore_index=1 で指定できる\n",
    "\n",
    "    best_score = -1  # np.inf\n",
    "\n",
    "    for epoch in range(CFG.epochs):\n",
    "\n",
    "        start_time = time.time()\n",
    "\n",
    "        # train\n",
    "        avg_loss = train_fn(\n",
    "            train_loader, model, criterion, optimizer, epoch, scheduler, device, scaler\n",
    "        )\n",
    "\n",
    "        # eval\n",
    "        preds = valid_fn(valid_loader, model, device)\n",
    "        \n",
    "        # 予測がlogitの場合ラベルidに直す\n",
    "        pred_labels = preds.argmax(1) if preds.ndim > 1 else preds\n",
    "        \n",
    "        LOGGER.info(f\"labels: {valid_labels[:5]}\")\n",
    "        LOGGER.info(f\"pred_labels: {pred_labels[:5]}\")\n",
    "        \n",
    "        # scoring\n",
    "        score = get_score(valid_labels, pred_labels)\n",
    "\n",
    "        elapsed = time.time() - start_time\n",
    "\n",
    "        LOGGER.info(\n",
    "            f\"Epoch {epoch+1} - avg_train_loss: {avg_loss:.4f}  lr: {scheduler.get_lr()[0]:.4e}  time: {elapsed:.0f}s\"\n",
    "        )\n",
    "        LOGGER.info(f\"Epoch {epoch+1} - Score: {score:.4f}\")\n",
    "\n",
    "        if isinstance(scheduler, ReduceLROnPlateau):\n",
    "            scheduler.step(score)\n",
    "        elif isinstance(scheduler, CosineAnnealingLR):\n",
    "            scheduler.step()\n",
    "        elif isinstance(scheduler, CosineAnnealingWarmRestarts):\n",
    "            scheduler.step()\n",
    "\n",
    "        if score > best_score:\n",
    "            best_score = score\n",
    "            LOGGER.info(f\"Epoch {epoch+1} - Save Best Score: {best_score:.4f} Model\")\n",
    "            best_pth = OUTPUT_DIR + f\"/fold{fold}_seed{seed}_best.pth\"\n",
    "            torch.save(\n",
    "                {\n",
    "                    \"model\": model.state_dict(),\n",
    "                    \"optimizer\": optimizer.state_dict(),\n",
    "                    \"scheduler\": scheduler.state_dict(),\n",
    "                    \"preds\": preds,\n",
    "                },\n",
    "                best_pth,\n",
    "            )\n",
    "            val_pred_df = pd.DataFrame(\n",
    "                {\"id\": val_idx, \"label\": valid_labels, \"pred\": pred_labels}\n",
    "            )\n",
    "            \n",
    "    return val_pred_df\n",
    "\n",
    "\n",
    "# ====================================================\n",
    "# Utils\n",
    "# ====================================================\n",
    "def get_score(y_true, y_pred):\n",
    "    return accuracy_score(y_true, y_pred)\n",
    "\n",
    "\n",
    "def init_logger(log_file='train.log'):\n",
    "    \"\"\"学習ログファイル出す\"\"\"\n",
    "    from logging import getLogger, INFO, FileHandler,  Formatter,  StreamHandler\n",
    "    logger = getLogger(__name__)\n",
    "    logger.setLevel(INFO)\n",
    "    handler1 = StreamHandler()\n",
    "    handler1.setFormatter(Formatter(\"%(message)s\"))\n",
    "    handler2 = FileHandler(filename=log_file)\n",
    "    handler2.setFormatter(Formatter(\"%(message)s\"))\n",
    "    logger.addHandler(handler1)\n",
    "    logger.addHandler(handler2)\n",
    "    return logger\n",
    "\n",
    "\n",
    "def seed_torch(seed=42):\n",
    "    random.seed(seed)\n",
    "    os.environ['PYTHONHASHSEED'] = str(seed)\n",
    "    np.random.seed(seed)\n",
    "    torch.manual_seed(seed)\n",
    "    torch.cuda.manual_seed(seed)\n",
    "    torch.cuda.manual_seed_all(seed)\n",
    "    torch.backends.cudnn.deterministic = True\n",
    "\n",
    "\n",
    "# ====================================================\n",
    "# CV split\n",
    "# ====================================================\n",
    "def cv_split(df, seed):\n",
    "    folds = df.copy()\n",
    "    cv = StratifiedKFold(n_splits=CFG.n_fold, shuffle=True, random_state=seed)\n",
    "    for j, (train_idx, valid_idx) in enumerate(cv.split(df, df[\"label\"])):\n",
    "        folds.loc[valid_idx, \"fold\"] = int(j)\n",
    "    folds[\"fold\"] = folds[\"fold\"].astype(int)\n",
    "    print(folds.groupby([\"fold\"]).size())\n",
    "    return folds\n",
    "\n",
    "\n",
    "# ====================================================\n",
    "# Model\n",
    "# ====================================================\n",
    "class TimmModel(nn.Module):\n",
    "    def __init__(self, n_classes, model_name=\"resnet18\", pretrained=True):\n",
    "        super().__init__()\n",
    "        self.cnn = timm.create_model(model_name, pretrained=pretrained)\n",
    "        if \"efficient\" in model_name:\n",
    "            self.cnn.classifier = nn.Linear(self.cnn.classifier.in_features, n_classes)\n",
    "        elif \"nfnet\" in model_name:\n",
    "            self.cnn.head.fc = nn.Linear(self.cnn.head.fc.in_features, n_classes)\n",
    "        elif \"vit\" in model_name:\n",
    "            self.cnn.head = nn.Linear(self.cnn.head.in_features, n_classes)\n",
    "        elif \"tnt\" in model_name:\n",
    "            self.cnn.head = nn.Linear(self.cnn.head.in_features, n_classes)\n",
    "        elif \"swin\" in model_name:\n",
    "            self.cnn.head = nn.Linear(self.cnn.head.in_features, n_classes)\n",
    "        elif \"cait\" in model_name:\n",
    "            self.cnn.head = nn.Linear(self.cnn.head.in_features, n_classes)\n",
    "        elif \"mixer\" in model_name:\n",
    "            self.cnn.head = nn.Linear(self.cnn.head.in_features, n_classes)\n",
    "        else:\n",
    "            self.cnn.fc = nn.Linear(self.cnn.fc.in_features, n_classes)\n",
    "\n",
    "    def forward(self, x):\n",
    "        return self.cnn(x)\n",
    "    \n",
    "    def forward_softmax(self, x):\n",
    "        return torch.softmax(self.cnn(x), 1)\n",
    "    \n",
    "    def forward_argmax(self, x):\n",
    "        return self.cnn(x).argmax(1)\n",
    "\n",
    "\n",
    "# ====================================================\n",
    "# LOGGER\n",
    "# ====================================================\n",
    "LOGGER = init_logger(OUTPUT_DIR + \"/train.log\")\n",
    "\n",
    "\n",
    "# ====================================================\n",
    "# main\n",
    "# ====================================================\n",
    "def main(train):\n",
    "    for seed in CFG.seeds:\n",
    "        seed_torch(seed=seed)\n",
    "        \n",
    "        if CFG.debug:\n",
    "            CFG.epochs = 2\n",
    "            train = train.sample(n=300, random_state=seed).reset_index(drop=True)\n",
    "        \n",
    "        folds = cv_split(train, seed)\n",
    "        oof_df = None\n",
    "        for fold in range(CFG.n_fold):\n",
    "            if fold in CFG.trn_fold:\n",
    "                val_pred_df = train_loop(folds, fold, seed)\n",
    "                val_pred_df[\"fold\"] = fold\n",
    "\n",
    "                if oof_df is None:\n",
    "                    oof_df = val_pred_df\n",
    "                else:\n",
    "                    oof_df = oof_df.append(val_pred_df)\n",
    "\n",
    "        oof_df.to_csv(OUTPUT_DIR + f\"/oof_seed{seed}.csv\", index=False)\n",
    "        \n",
    "        LOGGER.info(f\"\\noof score: {get_score(oof_df['label'].values, oof_df['pred'].values)}\\n\")\n",
    "    \n",
    "    # colabは短時間でフdriveにファイル出力多いとエラーになるので最後に保存\n",
    "    # 出力ディレクトリをdriveに保存する\n",
    "    if \"google.colab\" in sys.modules:\n",
    "        copy_tree(OUTPUT_DIR, CP_DIR)\n",
    "\n",
    "if __name__ == '__main__':\n",
    "    print(\"timm version:\", timm.__version__)\n",
    "    print(device)\n",
    "    \n",
    "    main(train)\n",
    "    \n",
    "    LOGGER.info(\"\\ntrain finish!!!\")"
   ]
  },
  {
   "cell_type": "markdown",
   "metadata": {
    "id": "-tmRIazA_Y6j"
   },
   "source": [
    "## evaluation"
   ]
  },
  {
   "cell_type": "code",
   "execution_count": 10,
   "metadata": {
    "ExecuteTime": {
     "end_time": "2021-06-30T07:34:19.761398Z",
     "start_time": "2021-06-30T07:34:13.434181Z"
    },
    "colab": {
     "base_uri": "https://localhost:8080/",
     "height": 1000
    },
    "executionInfo": {
     "elapsed": 396346,
     "status": "ok",
     "timestamp": 1625080353698,
     "user": {
      "displayName": "Shingo Yokoi",
      "photoUrl": "",
      "userId": "16552018841329203618"
     },
     "user_tz": -540
    },
    "id": "8SQXOhuI1rOr",
    "lines_to_next_cell": 2,
    "outputId": "6a8eac47-efc0-4fa0-ee78-09862939a8ef",
    "scrolled": true
   },
   "outputs": [
    {
     "name": "stdout",
     "output_type": "stream",
     "text": [
      "================================================== seed0 oof ==================================================\n",
      "oof score: 0.6330275229357798\n"
     ]
    },
    {
     "data": {
      "image/png": "[encoded data removed]",
      "text/plain": [
       "<Figure size 720x576 with 1 Axes>"
      ]
     },
     "metadata": {
      "needs_background": "light",
      "tags": []
     },
     "output_type": "display_data"
    },
    {
     "name": "stdout",
     "output_type": "stream",
     "text": [
      "              precision    recall  f1-score   support\n",
      "\n",
      "           0       0.67      0.65      0.66        60\n",
      "           1       0.44      0.29      0.35        42\n",
      "           2       0.60      0.79      0.68       132\n",
      "           3       0.44      0.43      0.43        42\n",
      "           4       0.49      0.50      0.49        42\n",
      "           5       0.71      0.65      0.68        60\n",
      "           6       0.63      0.65      0.64        48\n",
      "           7       0.77      0.80      0.79        30\n",
      "           8       0.78      0.60      0.68        30\n",
      "           9       0.78      0.76      0.77        66\n",
      "          10       0.60      0.40      0.48        30\n",
      "          11       0.67      0.67      0.67        42\n",
      "          12       0.62      0.60      0.61        30\n",
      "\n",
      "    accuracy                           0.63       654\n",
      "   macro avg       0.63      0.60      0.61       654\n",
      "weighted avg       0.63      0.63      0.63       654\n",
      "\n"
     ]
    },
    {
     "data": {
      "image/png": "[encoded data removed]",
      "text/plain": [
       "<Figure size 720x576 with 2 Axes>"
      ]
     },
     "metadata": {
      "needs_background": "light",
      "tags": []
     },
     "output_type": "display_data"
    },
    {
     "name": "stdout",
     "output_type": "stream",
     "text": [
      "================================================== seed1 oof ==================================================\n",
      "oof score: 0.6529051987767585\n"
     ]
    },
    {
     "data": {
      "image/png": "[encoded data removed]",
      "text/plain": [
       "<Figure size 720x576 with 1 Axes>"
      ]
     },
     "metadata": {
      "needs_background": "light",
      "tags": []
     },
     "output_type": "display_data"
    },
    {
     "name": "stdout",
     "output_type": "stream",
     "text": [
      "              precision    recall  f1-score   support\n",
      "\n",
      "           0       0.67      0.68      0.68        60\n",
      "           1       0.54      0.33      0.41        42\n",
      "           2       0.63      0.83      0.72       132\n",
      "           3       0.48      0.38      0.43        42\n",
      "           4       0.51      0.48      0.49        42\n",
      "           5       0.65      0.67      0.66        60\n",
      "           6       0.70      0.62      0.66        48\n",
      "           7       0.74      0.83      0.78        30\n",
      "           8       0.68      0.63      0.66        30\n",
      "           9       0.74      0.82      0.78        66\n",
      "          10       0.63      0.40      0.49        30\n",
      "          11       0.73      0.64      0.68        42\n",
      "          12       0.79      0.63      0.70        30\n",
      "\n",
      "    accuracy                           0.65       654\n",
      "   macro avg       0.65      0.61      0.63       654\n",
      "weighted avg       0.65      0.65      0.64       654\n",
      "\n"
     ]
    },
    {
     "data": {
      "image/png": "[encoded data removed]",
      "text/plain": [
       "<Figure size 720x576 with 2 Axes>"
      ]
     },
     "metadata": {
      "needs_background": "light",
      "tags": []
     },
     "output_type": "display_data"
    },
    {
     "name": "stdout",
     "output_type": "stream",
     "text": [
      "================================================== seed2 oof ==================================================\n",
      "oof score: 0.6406727828746177\n"
     ]
    },
    {
     "data": {
      "image/png": "[encoded data removed]",
      "text/plain": [
       "<Figure size 720x576 with 1 Axes>"
      ]
     },
     "metadata": {
      "needs_background": "light",
      "tags": []
     },
     "output_type": "display_data"
    },
    {
     "name": "stdout",
     "output_type": "stream",
     "text": [
      "              precision    recall  f1-score   support\n",
      "\n",
      "           0       0.62      0.65      0.63        60\n",
      "           1       0.45      0.33      0.38        42\n",
      "           2       0.61      0.78      0.68       132\n",
      "           3       0.63      0.40      0.49        42\n",
      "           4       0.54      0.64      0.59        42\n",
      "           5       0.65      0.53      0.59        60\n",
      "           6       0.65      0.62      0.64        48\n",
      "           7       0.79      0.90      0.84        30\n",
      "           8       0.86      0.60      0.71        30\n",
      "           9       0.67      0.76      0.71        66\n",
      "          10       0.61      0.57      0.59        30\n",
      "          11       0.74      0.67      0.70        42\n",
      "          12       0.77      0.57      0.65        30\n",
      "\n",
      "    accuracy                           0.64       654\n",
      "   macro avg       0.66      0.62      0.63       654\n",
      "weighted avg       0.64      0.64      0.64       654\n",
      "\n"
     ]
    },
    {
     "data": {
      "image/png": "[encoded data removed]",
      "text/plain": [
       "<Figure size 720x576 with 2 Axes>"
      ]
     },
     "metadata": {
      "needs_background": "light",
      "tags": []
     },
     "output_type": "display_data"
    },
    {
     "name": "stdout",
     "output_type": "stream",
     "text": [
      "================================================== soft_avg_oof ==================================================\n",
      "oof score: 0.6865443425076453\n"
     ]
    },
    {
     "data": {
      "image/png": "[encoded data removed]",
      "text/plain": [
       "<Figure size 720x576 with 1 Axes>"
      ]
     },
     "metadata": {
      "needs_background": "light",
      "tags": []
     },
     "output_type": "display_data"
    },
    {
     "name": "stdout",
     "output_type": "stream",
     "text": [
      "              precision    recall  f1-score   support\n",
      "\n",
      "           0       0.69      0.75      0.72        60\n",
      "           1       0.55      0.29      0.37        42\n",
      "           2       0.61      0.85      0.71       132\n",
      "           3       0.55      0.43      0.48        42\n",
      "           4       0.57      0.62      0.59        42\n",
      "           5       0.69      0.67      0.68        60\n",
      "           6       0.70      0.65      0.67        48\n",
      "           7       0.88      0.97      0.92        30\n",
      "           8       0.84      0.70      0.76        30\n",
      "           9       0.78      0.77      0.78        66\n",
      "          10       0.79      0.50      0.61        30\n",
      "          11       0.82      0.74      0.78        42\n",
      "          12       0.82      0.60      0.69        30\n",
      "\n",
      "    accuracy                           0.69       654\n",
      "   macro avg       0.71      0.66      0.67       654\n",
      "weighted avg       0.69      0.69      0.68       654\n",
      "\n"
     ]
    },
    {
     "data": {
      "image/png": "[encoded data removed]",
      "text/plain": [
       "<Figure size 720x576 with 2 Axes>"
      ]
     },
     "metadata": {
      "needs_background": "light",
      "tags": []
     },
     "output_type": "display_data"
    }
   ],
   "source": [
    "# ====================================================\n",
    "# Eval OOF\n",
    "# ====================================================\n",
    "import torch\n",
    "import numpy as np\n",
    "import pandas as pd\n",
    "import matplotlib.pyplot as plt\n",
    "import seaborn as sns\n",
    "from sklearn.metrics import accuracy_score, classification_report, confusion_matrix\n",
    "\n",
    "\n",
    "def get_score(y_true, y_pred):\n",
    "    return accuracy_score(y_true, y_pred)\n",
    "\n",
    "\n",
    "def eval_oof_df(oof_df):\n",
    "    \"\"\"oofのスコアや混同行列を可視化する\"\"\"\n",
    "    score = get_score(oof_df['label'].values, oof_df['pred'].values)\n",
    "    print(\"oof score:\", score)\n",
    "    \n",
    "    plt.figure(figsize=(10, 8))\n",
    "    sns.countplot(y=oof_df[\"pred\"], orient=\"v\")\n",
    "    plt.title(\"Prediction distribution\")\n",
    "    plt.show()\n",
    "    \n",
    "    print(classification_report(oof_df[\"label\"], oof_df[\"pred\"]))\n",
    "    \n",
    "    plt.figure(figsize=(10, 8))\n",
    "    sns.heatmap(\n",
    "        confusion_matrix(oof_df[\"label\"], oof_df[\"pred\"]),\n",
    "        annot=True,\n",
    "        cmap=\"Blues\",\n",
    "    )\n",
    "    plt.title(\"OOF confusion matrix\")\n",
    "    plt.show()\n",
    "    \n",
    "    \n",
    "def get_soft_avg_oof_df():\n",
    "    \"\"\"seedごとのoofをロードして確信度を単純平均する\"\"\"\n",
    "    oof_avg = None\n",
    "    for seed in CFG.seeds:\n",
    "        oof_df = pd.read_csv(OUTPUT_DIR + f\"/oof_seed{seed}.csv\")\n",
    "        df = oof_df[[\"id\", \"label\"]]\n",
    "        preds = None\n",
    "        for fold in range(CFG.n_fold):\n",
    "            states = torch.load(OUTPUT_DIR + f\"/fold{CFG.trn_fold[fold]}_seed{seed}_best.pth\", map_location=torch.device(\"cpu\"))\n",
    "            preds = states[\"preds\"] if preds is None else np.concatenate([preds, states[\"preds\"]])\n",
    "        preds = pd.DataFrame(preds)\n",
    "        df = df.join(preds).sort_values(by='id')\n",
    "        df = df.reset_index(drop=True)\n",
    "        oof_avg = df if oof_avg is None else oof_avg + df\n",
    "    oof_avg = oof_avg / len(CFG.seeds)\n",
    "\n",
    "    label = oof_avg[\"label\"].astype(int).values\n",
    "    pred_label = np.argmax(oof_avg[list(range(CFG.n_classes))].values, 1)\n",
    "    oof_avg_label = pd.DataFrame({\"label\": label, \"pred\": pred_label})\n",
    "    \n",
    "    return oof_avg, oof_avg_label\n",
    "\n",
    "    \n",
    "if __name__ == '__main__':\n",
    "    for seed in CFG.seeds:\n",
    "        print(\"=\"*50, f\"seed{seed} oof\", \"=\"*50)\n",
    "        oof_df = pd.read_csv(OUTPUT_DIR + f\"/oof_seed{seed}.csv\")\n",
    "        eval_oof_df(oof_df)\n",
    "    \n",
    "    print(\"=\"*50, \"soft_avg_oof\", \"=\"*50)\n",
    "    oof_avg, oof_avg_label = get_soft_avg_oof_df()\n",
    "    eval_oof_df(oof_avg_label)\n",
    "    \n",
    "    oof_avg.to_csv(OUTPUT_DIR + f\"/soft_avg_oof.csv\", index=False)\n",
    "    # driveに保存する\n",
    "    if \"google.colab\" in sys.modules:\n",
    "        shutil.copyfile(OUTPUT_DIR + f\"/soft_avg_oof.csv\", CP_DIR + f\"/{NAME}_soft_avg_oof.csv\")"
   ]
  },
  {
   "cell_type": "code",
   "execution_count": 10,
   "metadata": {
    "ExecuteTime": {
     "end_time": "2021-06-30T07:07:19.314837Z",
     "start_time": "2021-06-30T07:07:19.309857Z"
    },
    "executionInfo": {
     "elapsed": 21,
     "status": "ok",
     "timestamp": 1625080353698,
     "user": {
      "displayName": "Shingo Yokoi",
      "photoUrl": "",
      "userId": "16552018841329203618"
     },
     "user_tz": -540
    },
    "id": "ABSIEYmr_Y6l",
    "scrolled": true
   },
   "outputs": [],
   "source": []
  }
 ],
 "metadata": {
  "accelerator": "GPU",
  "colab": {
   "collapsed_sections": [],
   "machine_shape": "hm",
   "name": "ex16_train.ipynb",
   "provenance": []
  },
  "hide_input": false,
  "jupytext": {
   "encoding": "# -*- coding: utf-8 -*-",
   "text_representation": {
    "extension": ".py",
    "format_name": "light",
    "format_version": "1.5",
    "jupytext_version": "1.7.1"
   }
  },
  "kernelspec": {
   "display_name": "Python 3 (ipykernel)",
   "language": "python",
   "name": "python3"
  },
  "language_info": {
   "codemirror_mode": {
    "name": "ipython",
    "version": 3
   },
   "file_extension": ".py",
   "mimetype": "text/x-python",
   "name": "python",
   "nbconvert_exporter": "python",
   "pygments_lexer": "ipython3",
   "version": "3.8.10"
  }
 },
 "nbformat": 4,
 "nbformat_minor": 4
}
